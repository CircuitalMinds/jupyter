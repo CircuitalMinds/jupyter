{
 "cells": [
  {
   "cell_type": "code",
   "execution_count": 1,
   "metadata": {
    "collapsed": true
   },
   "outputs": [],
   "source": [
    "import tensorflow as tf\n",
    "import numpy as np\n",
    "from sklearn import datasets, model_selection, utils"
   ]
  },
  {
   "cell_type": "code",
   "execution_count": 2,
   "metadata": {
    "collapsed": true
   },
   "outputs": [],
   "source": [
    "mnist = datasets.fetch_mldata('MNIST original', data_home='data/src/download')\n",
    "\n",
    "X = mnist.data / 255\n",
    "y = mnist.target\n",
    "Y = np.identity(10)[y.astype(int)]\n",
    "\n",
    "train_size = 60000\n",
    "test_size = 10000\n",
    "\n",
    "X_train, X_test, Y_train, Y_test = model_selection.train_test_split(\n",
    "    X, Y, test_size=test_size, train_size=train_size)"
   ]
  },
  {
   "cell_type": "code",
   "execution_count": 3,
   "metadata": {
    "collapsed": true
   },
   "outputs": [],
   "source": [
    "n_in = 784\n",
    "n_out = 10\n",
    "\n",
    "x = tf.placeholder(tf.float32, [None, n_in])\n",
    "y_ = tf.placeholder(tf.float32, [None, n_out])\n",
    "\n",
    "W = tf.Variable(tf.zeros([n_in, n_out]))\n",
    "b = tf.Variable(tf.zeros([n_out]))\n",
    "y = tf.matmul(x, W) + b"
   ]
  },
  {
   "cell_type": "code",
   "execution_count": 4,
   "metadata": {
    "collapsed": true
   },
   "outputs": [],
   "source": [
    "cross_entropy = tf.reduce_mean(\n",
    "    tf.nn.softmax_cross_entropy_with_logits(labels=y_, logits=y))\n",
    "train_step = tf.train.GradientDescentOptimizer(0.5).minimize(cross_entropy)\n",
    "\n",
    "correct_prediction = tf.equal(tf.argmax(y, 1), tf.argmax(y_, 1))\n",
    "accuracy = tf.reduce_mean(tf.cast(correct_prediction, tf.float32))"
   ]
  },
  {
   "cell_type": "code",
   "execution_count": 5,
   "metadata": {
    "collapsed": true
   },
   "outputs": [],
   "source": [
    "batch_size = 100\n",
    "batch_num = (int)(train_size // batch_size)\n",
    "\n",
    "epochs = 20"
   ]
  },
  {
   "cell_type": "code",
   "execution_count": 6,
   "metadata": {},
   "outputs": [
    {
     "name": "stdout",
     "output_type": "stream",
     "text": [
      "epoch:  0, loss: 0.31313, accuracy: 0.91310\n",
      "epoch:  1, loss: 0.29504, accuracy: 0.91840\n",
      "epoch:  2, loss: 0.28769, accuracy: 0.92080\n",
      "epoch:  3, loss: 0.28376, accuracy: 0.92210\n",
      "epoch:  4, loss: 0.28138, accuracy: 0.92240\n",
      "epoch:  5, loss: 0.27983, accuracy: 0.92290\n",
      "epoch:  6, loss: 0.27879, accuracy: 0.92340\n",
      "epoch:  7, loss: 0.27808, accuracy: 0.92510\n",
      "epoch:  8, loss: 0.27758, accuracy: 0.92560\n",
      "epoch:  9, loss: 0.27724, accuracy: 0.92610\n",
      "epoch: 10, loss: 0.27701, accuracy: 0.92650\n",
      "epoch: 11, loss: 0.27687, accuracy: 0.92710\n",
      "epoch: 12, loss: 0.27679, accuracy: 0.92700\n",
      "epoch: 13, loss: 0.27677, accuracy: 0.92730\n",
      "epoch: 14, loss: 0.27678, accuracy: 0.92710\n",
      "epoch: 15, loss: 0.27683, accuracy: 0.92690\n",
      "epoch: 16, loss: 0.27690, accuracy: 0.92720\n",
      "epoch: 17, loss: 0.27699, accuracy: 0.92710\n",
      "epoch: 18, loss: 0.27710, accuracy: 0.92720\n",
      "epoch: 19, loss: 0.27723, accuracy: 0.92710\n",
      "Final accuracy: 0.92710\n"
     ]
    }
   ],
   "source": [
    "with tf.Session() as sess:\n",
    "    sess.run(tf.global_variables_initializer())\n",
    "\n",
    "    for epoch in range(epochs):\n",
    "        X_, Y_ = utils.shuffle(X_train, Y_train)\n",
    "\n",
    "        for i in range(batch_num):\n",
    "            batch_X = X_train[i * batch_size: (i+1) * batch_size]\n",
    "            batch_Y = Y_train[i * batch_size: (i+1) * batch_size]\n",
    "            sess.run(train_step, feed_dict={x: batch_X, y_: batch_Y})\n",
    "        \n",
    "        loss, acc = sess.run([cross_entropy, accuracy], feed_dict={x: X_test, y_: Y_test})\n",
    "        print('epoch: {:2}, loss: {:.5f}, accuracy: {:.5f}'.format(epoch, loss, acc))\n",
    "\n",
    "    acc = sess.run(accuracy, feed_dict={x: X_test, y_: Y_test})\n",
    "    print('Final accuracy: {:.5f}'.format(acc))"
   ]
  }
 ],
 "metadata": {
  "kernelspec": {
   "display_name": "Python 3",
   "language": "python",
   "name": "python3"
  },
  "language_info": {
   "codemirror_mode": {
    "name": "ipython",
    "version": 3
   },
   "file_extension": ".py",
   "mimetype": "text/x-python",
   "name": "python",
   "nbconvert_exporter": "python",
   "pygments_lexer": "ipython3",
   "version": "3.6.2"
  }
 },
 "nbformat": 4,
 "nbformat_minor": 2
}
