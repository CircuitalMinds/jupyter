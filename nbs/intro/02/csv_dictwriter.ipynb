{
 "cells": [
  {
   "cell_type": "code",
   "execution_count": 1,
   "metadata": {},
   "outputs": [],
   "source": [
    "import csv"
   ]
  },
  {
   "cell_type": "code",
   "execution_count": 2,
   "metadata": {},
   "outputs": [],
   "source": [
    "d1 = {'a': 1, 'b': 2, 'c': 3}\n",
    "d2 = {'a': 10, 'c': 30}"
   ]
  },
  {
   "cell_type": "code",
   "execution_count": 3,
   "metadata": {},
   "outputs": [],
   "source": [
    "with open('data/temp/sample_dictwriter.csv', 'w') as f:\n",
    "    writer = csv.DictWriter(f, ['a', 'b', 'c'])\n",
    "    writer.writeheader()\n",
    "    writer.writerow(d1)\n",
    "    writer.writerow(d2)"
   ]
  },
  {
   "cell_type": "code",
   "execution_count": 4,
   "metadata": {},
   "outputs": [
    {
     "name": "stdout",
     "output_type": "stream",
     "text": [
      "a,b,c\n",
      "1,2,3\n",
      "10,,30\n",
      "\n"
     ]
    }
   ],
   "source": [
    "with open('data/temp/sample_dictwriter.csv') as f:\n",
    "    print(f.read())"
   ]
  },
  {
   "cell_type": "code",
   "execution_count": 5,
   "metadata": {},
   "outputs": [],
   "source": [
    "with open('data/temp/sample_dictwriter_list.csv', 'w') as f:\n",
    "    writer = csv.DictWriter(f, ['a', 'b', 'c'])\n",
    "    writer.writeheader()\n",
    "    writer.writerows([d1, d2])"
   ]
  },
  {
   "cell_type": "code",
   "execution_count": 6,
   "metadata": {},
   "outputs": [
    {
     "name": "stdout",
     "output_type": "stream",
     "text": [
      "a,b,c\n",
      "1,2,3\n",
      "10,,30\n",
      "\n"
     ]
    }
   ],
   "source": [
    "with open('data/temp/sample_dictwriter_list.csv') as f:\n",
    "    print(f.read())"
   ]
  },
  {
   "cell_type": "code",
   "execution_count": 7,
   "metadata": {},
   "outputs": [],
   "source": [
    "with open('data/temp/sample_dictwriter_ignore.csv', 'w') as f:\n",
    "    writer = csv.DictWriter(f, ['a', 'c'], extrasaction='ignore')\n",
    "    writer.writeheader()\n",
    "    writer.writerows([d1, d2])"
   ]
  },
  {
   "cell_type": "code",
   "execution_count": 8,
   "metadata": {},
   "outputs": [
    {
     "name": "stdout",
     "output_type": "stream",
     "text": [
      "a,c\n",
      "1,3\n",
      "10,30\n",
      "\n"
     ]
    }
   ],
   "source": [
    "with open('data/temp/sample_dictwriter_ignore.csv') as f:\n",
    "    print(f.read())"
   ]
  }
 ],
 "metadata": {
  "kernelspec": {
   "display_name": "Python 3",
   "language": "python",
   "name": "python3"
  },
  "language_info": {
   "codemirror_mode": {
    "name": "ipython",
    "version": 3
   },
   "file_extension": ".py",
   "mimetype": "text/x-python",
   "name": "python",
   "nbconvert_exporter": "python",
   "pygments_lexer": "ipython3",
   "version": "3.7.2"
  }
 },
 "nbformat": 4,
 "nbformat_minor": 2
}
