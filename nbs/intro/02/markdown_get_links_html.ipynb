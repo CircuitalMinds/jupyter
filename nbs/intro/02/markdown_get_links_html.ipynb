{
 "cells": [
  {
   "cell_type": "code",
   "execution_count": 1,
   "metadata": {},
   "outputs": [],
   "source": [
    "import csv\n",
    "import glob\n",
    "import os\n",
    "import pprint\n",
    "\n",
    "from bs4 import BeautifulSoup\n",
    "import markdown2\n",
    "import pandas as pd"
   ]
  },
  {
   "cell_type": "code",
   "execution_count": 2,
   "metadata": {},
   "outputs": [],
   "source": [
    "def get_links_from_md(file_path, markdowner=markdown2.Markdown()):\n",
    "    with open(file_path) as f:\n",
    "        md = f.read()\n",
    "    html = markdowner.convert(md)\n",
    "    soup = BeautifulSoup(html, 'html.parser')\n",
    "    l = [[file_path, a.text, a.attrs.get('href')] for a in soup.find_all('a')]\n",
    "    return l"
   ]
  },
  {
   "cell_type": "code",
   "execution_count": 3,
   "metadata": {},
   "outputs": [],
   "source": [
    "def get_links_from_md_in_list(file_path_list, markdowner=markdown2.Markdown()):\n",
    "    l = []\n",
    "    for path in file_path_list:\n",
    "        l.extend(get_links_from_md(path, markdowner))\n",
    "    return l"
   ]
  },
  {
   "cell_type": "code",
   "execution_count": 4,
   "metadata": {},
   "outputs": [],
   "source": [
    "def get_links_from_md_in_dir(dir_path, markdowner=markdown2.Markdown()):\n",
    "    return get_links_from_md_in_list(\n",
    "        glob.glob(os.path.join(dir_path, '**', '*.md'), recursive=True),\n",
    "        markdowner\n",
    "    )"
   ]
  },
  {
   "cell_type": "code",
   "execution_count": 5,
   "metadata": {},
   "outputs": [
    {
     "name": "stdout",
     "output_type": "stream",
     "text": [
      "[Instagram](https://www.instagram.com/) and [Twitter](https://twitter.com)\n",
      "\n",
      "- [[Py] Python.org](https://www.python.org/)\n",
      "- [relative link](../test/)\n",
      "\n"
     ]
    }
   ],
   "source": [
    "with open('data/src/md/test1.md') as f:\n",
    "    print(f.read())"
   ]
  },
  {
   "cell_type": "code",
   "execution_count": 6,
   "metadata": {},
   "outputs": [
    {
     "name": "stdout",
     "output_type": "stream",
     "text": [
      "[['data/src/md/test1.md', 'Instagram', 'https://www.instagram.com/'],\n",
      " ['data/src/md/test1.md', 'Twitter', 'https://twitter.com'],\n",
      " ['data/src/md/test1.md', '[Py] Python.org', 'https://www.python.org/'],\n",
      " ['data/src/md/test1.md', 'relative link', '../test/']]\n"
     ]
    }
   ],
   "source": [
    "pprint.pprint(get_links_from_md('data/src/md/test1.md'))"
   ]
  },
  {
   "cell_type": "code",
   "execution_count": 7,
   "metadata": {},
   "outputs": [],
   "source": [
    "with open('data/src/md/test1.md') as f:\n",
    "    md = f.read()"
   ]
  },
  {
   "cell_type": "code",
   "execution_count": 8,
   "metadata": {},
   "outputs": [
    {
     "name": "stdout",
     "output_type": "stream",
     "text": [
      "<p><a href=\"https://www.instagram.com/\">Instagram</a> and <a href=\"https://twitter.com\">Twitter</a></p>\n",
      "\n",
      "<ul>\n",
      "<li><a href=\"https://www.python.org/\">[Py] Python.org</a></li>\n",
      "<li><a href=\"../test/\">relative link</a></li>\n",
      "</ul>\n",
      "\n"
     ]
    }
   ],
   "source": [
    "markdowner = markdown2.Markdown()\n",
    "html = markdowner.convert(md)\n",
    "print(html)"
   ]
  },
  {
   "cell_type": "code",
   "execution_count": 9,
   "metadata": {},
   "outputs": [
    {
     "name": "stdout",
     "output_type": "stream",
     "text": [
      "[<a href=\"https://www.instagram.com/\">Instagram</a>,\n",
      " <a href=\"https://twitter.com\">Twitter</a>,\n",
      " <a href=\"https://www.python.org/\">[Py] Python.org</a>,\n",
      " <a href=\"../test/\">relative link</a>]\n"
     ]
    }
   ],
   "source": [
    "l = BeautifulSoup(html, 'html.parser').find_all('a')\n",
    "pprint.pprint(l)"
   ]
  },
  {
   "cell_type": "code",
   "execution_count": 10,
   "metadata": {},
   "outputs": [
    {
     "name": "stdout",
     "output_type": "stream",
     "text": [
      "<class 'bs4.element.Tag'>\n"
     ]
    }
   ],
   "source": [
    "a = l[0]\n",
    "print(type(a))"
   ]
  },
  {
   "cell_type": "code",
   "execution_count": 11,
   "metadata": {},
   "outputs": [
    {
     "name": "stdout",
     "output_type": "stream",
     "text": [
      "{'href': 'https://www.instagram.com/'}\n"
     ]
    }
   ],
   "source": [
    "print(a.attrs)"
   ]
  },
  {
   "cell_type": "code",
   "execution_count": 12,
   "metadata": {},
   "outputs": [
    {
     "name": "stdout",
     "output_type": "stream",
     "text": [
      "https://www.instagram.com/\n"
     ]
    }
   ],
   "source": [
    "print(a.attrs.get('href'))"
   ]
  },
  {
   "cell_type": "code",
   "execution_count": 13,
   "metadata": {},
   "outputs": [
    {
     "name": "stdout",
     "output_type": "stream",
     "text": [
      "Instagram\n"
     ]
    }
   ],
   "source": [
    "print(a.text)"
   ]
  },
  {
   "cell_type": "code",
   "execution_count": 14,
   "metadata": {},
   "outputs": [
    {
     "name": "stdout",
     "output_type": "stream",
     "text": [
      "<p>abcde</p>\n",
      "\n"
     ]
    }
   ],
   "source": [
    "html_en = markdowner.convert('abcde')\n",
    "print(html_en)"
   ]
  },
  {
   "cell_type": "code",
   "execution_count": 15,
   "metadata": {},
   "outputs": [
    {
     "name": "stdout",
     "output_type": "stream",
     "text": [
      "<p>abcde</p>\n",
      "\n"
     ]
    }
   ],
   "source": [
    "print(BeautifulSoup(html_en, 'html.parser'))"
   ]
  },
  {
   "cell_type": "code",
   "execution_count": 16,
   "metadata": {},
   "outputs": [
    {
     "name": "stdout",
     "output_type": "stream",
     "text": [
      "<html><body><p>abcde</p>\n",
      "</body></html>\n"
     ]
    }
   ],
   "source": [
    "print(BeautifulSoup(html_en, 'lxml'))"
   ]
  },
  {
   "cell_type": "code",
   "execution_count": 17,
   "metadata": {},
   "outputs": [
    {
     "name": "stdout",
     "output_type": "stream",
     "text": [
      "<p>あいうえお</p>\n",
      "\n"
     ]
    }
   ],
   "source": [
    "html_jp = markdowner.convert('あいうえお')\n",
    "print(html_jp)"
   ]
  },
  {
   "cell_type": "code",
   "execution_count": 18,
   "metadata": {},
   "outputs": [
    {
     "name": "stdout",
     "output_type": "stream",
     "text": [
      "<p>あいうえお</p>\n",
      "\n"
     ]
    }
   ],
   "source": [
    "print(BeautifulSoup(html_jp, 'html.parser'))"
   ]
  },
  {
   "cell_type": "code",
   "execution_count": 19,
   "metadata": {},
   "outputs": [
    {
     "name": "stdout",
     "output_type": "stream",
     "text": [
      "\n"
     ]
    }
   ],
   "source": [
    "print(BeautifulSoup(html_jp, 'lxml'))"
   ]
  },
  {
   "cell_type": "code",
   "execution_count": 20,
   "metadata": {},
   "outputs": [
    {
     "name": "stdout",
     "output_type": "stream",
     "text": [
      "<html><body><p>あいうえお</p>\n",
      "</body></html>\n"
     ]
    }
   ],
   "source": [
    "print(BeautifulSoup(html_jp.encode(), 'lxml'))"
   ]
  },
  {
   "cell_type": "code",
   "execution_count": 21,
   "metadata": {},
   "outputs": [
    {
     "name": "stdout",
     "output_type": "stream",
     "text": [
      "<html><body><p>abcdeあいうえお</p></body></html>\n"
     ]
    }
   ],
   "source": [
    "print(BeautifulSoup('<p>abcdeあいうえお</p>', 'lxml'))"
   ]
  },
  {
   "cell_type": "code",
   "execution_count": 22,
   "metadata": {},
   "outputs": [
    {
     "name": "stdout",
     "output_type": "stream",
     "text": [
      "<html><body><p>あいうえお</p>\n",
      "</body></html>\n"
     ]
    }
   ],
   "source": [
    "print(BeautifulSoup('<html>' + html_jp + '</html>', 'lxml'))"
   ]
  },
  {
   "cell_type": "code",
   "execution_count": 23,
   "metadata": {},
   "outputs": [
    {
     "name": "stdout",
     "output_type": "stream",
     "text": [
      "<html><body><p>abcde</p><p>あいうえお</p>\n",
      "</body></html>\n"
     ]
    }
   ],
   "source": [
    "print(BeautifulSoup('abcde' + html_jp, 'lxml'))"
   ]
  },
  {
   "cell_type": "code",
   "execution_count": 24,
   "metadata": {},
   "outputs": [
    {
     "name": "stdout",
     "output_type": "stream",
     "text": [
      "[['data/src/md/test2.md', '[Py] Python.org', 'https://www.python.org/'],\n",
      " ['data/src/md/test2.md', 'relative link', '../test/'],\n",
      " ['data/src/md/test1.md', 'Instagram', 'https://www.instagram.com/'],\n",
      " ['data/src/md/test1.md', 'Twitter', 'https://twitter.com'],\n",
      " ['data/src/md/test1.md', '[Py] Python.org', 'https://www.python.org/'],\n",
      " ['data/src/md/test1.md', 'relative link', '../test/']]\n"
     ]
    }
   ],
   "source": [
    "pprint.pprint(get_links_from_md_in_list(glob.glob('data/src/md/*.md')))"
   ]
  },
  {
   "cell_type": "code",
   "execution_count": 25,
   "metadata": {},
   "outputs": [
    {
     "name": "stdout",
     "output_type": "stream",
     "text": [
      "[['data/src/md/test2.md', '[Py] Python.org', 'https://www.python.org/'],\n",
      " ['data/src/md/test2.md', 'relative link', '../test/'],\n",
      " ['data/src/md/test1.md', 'Instagram', 'https://www.instagram.com/'],\n",
      " ['data/src/md/test1.md', 'Twitter', 'https://twitter.com'],\n",
      " ['data/src/md/test1.md', '[Py] Python.org', 'https://www.python.org/'],\n",
      " ['data/src/md/test1.md', 'relative link', '../test/'],\n",
      " ['data/src/md/sub_dir/test_sub.md', 'Instagram', 'https://www.instagram.com/'],\n",
      " ['data/src/md/sub_dir/test_sub.md', 'Twitter', 'https://twitter.com']]\n"
     ]
    }
   ],
   "source": [
    "pprint.pprint(get_links_from_md_in_dir('data/src/md/'))"
   ]
  },
  {
   "cell_type": "code",
   "execution_count": 26,
   "metadata": {},
   "outputs": [],
   "source": [
    "l = get_links_from_md('data/src/md/test1.md')\n",
    "l.insert(0, ['file', 'anchor text', 'URL'])\n",
    "\n",
    "with open('data/temp/md_links_csv.csv', 'w') as f:\n",
    "    writer = csv.writer(f)\n",
    "    writer.writerows(l)"
   ]
  },
  {
   "cell_type": "code",
   "execution_count": 27,
   "metadata": {},
   "outputs": [
    {
     "name": "stdout",
     "output_type": "stream",
     "text": [
      "                   file      anchor text                         URL\n",
      "0  data/src/md/test1.md        Instagram  https://www.instagram.com/\n",
      "1  data/src/md/test1.md          Twitter         https://twitter.com\n",
      "2  data/src/md/test1.md  [Py] Python.org     https://www.python.org/\n",
      "3  data/src/md/test1.md    relative link                    ../test/\n"
     ]
    }
   ],
   "source": [
    "l = get_links_from_md('data/src/md/test1.md')\n",
    "df = pd.DataFrame(l, columns=['file', 'anchor text', 'URL'])\n",
    "print(df)"
   ]
  },
  {
   "cell_type": "code",
   "execution_count": 28,
   "metadata": {},
   "outputs": [],
   "source": [
    "df.to_csv('data/temp/md_links_df.csv', index=False)"
   ]
  }
 ],
 "metadata": {
  "kernelspec": {
   "display_name": "Python 3",
   "language": "python",
   "name": "python3"
  },
  "language_info": {
   "codemirror_mode": {
    "name": "ipython",
    "version": 3
   },
   "file_extension": ".py",
   "mimetype": "text/x-python",
   "name": "python",
   "nbconvert_exporter": "python",
   "pygments_lexer": "ipython3",
   "version": "3.7.4"
  }
 },
 "nbformat": 4,
 "nbformat_minor": 2
}
