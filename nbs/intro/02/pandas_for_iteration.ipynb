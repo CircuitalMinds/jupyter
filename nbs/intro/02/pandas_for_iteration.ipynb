{
 "cells": [
  {
   "cell_type": "code",
   "execution_count": 1,
   "metadata": {},
   "outputs": [],
   "source": [
    "import pandas as pd\n",
    "import numpy as np"
   ]
  },
  {
   "cell_type": "code",
   "execution_count": 2,
   "metadata": {},
   "outputs": [],
   "source": [
    "df = pd.DataFrame({'age': [24, 42], 'state': ['NY', 'CA'], 'point': [64, 92]},\n",
    "                  index=['Alice', 'Bob'])"
   ]
  },
  {
   "cell_type": "code",
   "execution_count": 3,
   "metadata": {},
   "outputs": [
    {
     "name": "stdout",
     "output_type": "stream",
     "text": [
      "       age state  point\n",
      "Alice   24    NY     64\n",
      "Bob     42    CA     92\n"
     ]
    }
   ],
   "source": [
    "print(df)"
   ]
  },
  {
   "cell_type": "code",
   "execution_count": 4,
   "metadata": {},
   "outputs": [
    {
     "name": "stdout",
     "output_type": "stream",
     "text": [
      "age\n",
      "state\n",
      "point\n"
     ]
    }
   ],
   "source": [
    "for column_name in df:\n",
    "    print(column_name)"
   ]
  },
  {
   "cell_type": "code",
   "execution_count": 5,
   "metadata": {},
   "outputs": [
    {
     "name": "stdout",
     "output_type": "stream",
     "text": [
      "age\n",
      "------\n",
      "<class 'pandas.core.series.Series'>\n",
      "Alice    24\n",
      "Bob      42\n",
      "Name: age, dtype: int64\n",
      "------\n",
      "24 24 24\n",
      "42 42 42\n",
      "======\n",
      "\n",
      "state\n",
      "------\n",
      "<class 'pandas.core.series.Series'>\n",
      "Alice    NY\n",
      "Bob      CA\n",
      "Name: state, dtype: object\n",
      "------\n",
      "NY NY NY\n",
      "CA CA CA\n",
      "======\n",
      "\n",
      "point\n",
      "------\n",
      "<class 'pandas.core.series.Series'>\n",
      "Alice    64\n",
      "Bob      92\n",
      "Name: point, dtype: int64\n",
      "------\n",
      "64 64 64\n",
      "92 92 92\n",
      "======\n",
      "\n"
     ]
    }
   ],
   "source": [
    "for column_name, item in df.iteritems():\n",
    "    print(column_name)\n",
    "    print('------')\n",
    "    print(type(item))\n",
    "    print(item)\n",
    "    print('------')\n",
    "    print(item[0], item['Alice'], item.Alice)\n",
    "    print(item[1], item['Bob'], item.Bob)\n",
    "    print('======\\n')"
   ]
  },
  {
   "cell_type": "code",
   "execution_count": 6,
   "metadata": {},
   "outputs": [
    {
     "name": "stdout",
     "output_type": "stream",
     "text": [
      "Alice\n",
      "------\n",
      "<class 'pandas.core.series.Series'>\n",
      "age      24\n",
      "state    NY\n",
      "point    64\n",
      "Name: Alice, dtype: object\n",
      "------\n",
      "24 24 24\n",
      "NY NY NY\n",
      "64 64 64\n",
      "======\n",
      "\n",
      "Bob\n",
      "------\n",
      "<class 'pandas.core.series.Series'>\n",
      "age      42\n",
      "state    CA\n",
      "point    92\n",
      "Name: Bob, dtype: object\n",
      "------\n",
      "42 42 42\n",
      "CA CA CA\n",
      "92 92 92\n",
      "======\n",
      "\n"
     ]
    }
   ],
   "source": [
    "for index, row in df.iterrows():\n",
    "    print(index)\n",
    "    print('------')\n",
    "    print(type(row))\n",
    "    print(row)\n",
    "    print('------')\n",
    "    print(row[0], row['age'], row.age)\n",
    "    print(row[1], row['state'], row.state)\n",
    "    print(row[2], row['point'], row.point)\n",
    "    print('======\\n')"
   ]
  },
  {
   "cell_type": "code",
   "execution_count": 7,
   "metadata": {},
   "outputs": [
    {
     "name": "stdout",
     "output_type": "stream",
     "text": [
      "<class 'pandas.core.frame.Pandas'>\n",
      "Pandas(Index='Alice', age=24, state='NY', point=64)\n",
      "------\n",
      "Alice Alice\n",
      "24 24\n",
      "NY NY\n",
      "64 64\n",
      "======\n",
      "\n",
      "<class 'pandas.core.frame.Pandas'>\n",
      "Pandas(Index='Bob', age=42, state='CA', point=92)\n",
      "------\n",
      "Bob Bob\n",
      "42 42\n",
      "CA CA\n",
      "92 92\n",
      "======\n",
      "\n"
     ]
    }
   ],
   "source": [
    "for row in df.itertuples():\n",
    "    print(type(row))\n",
    "    print(row)\n",
    "    print('------')\n",
    "    print(row[0], row.Index)\n",
    "    print(row[1], row.age)\n",
    "    print(row[2], row.state)\n",
    "    print(row[3], row.point)\n",
    "    print('======\\n')"
   ]
  },
  {
   "cell_type": "code",
   "execution_count": 8,
   "metadata": {},
   "outputs": [
    {
     "name": "stdout",
     "output_type": "stream",
     "text": [
      "<class 'tuple'>\n",
      "('Alice', 24, 'NY', 64)\n",
      "Alice 24 NY 64\n",
      "======\n",
      "\n",
      "<class 'tuple'>\n",
      "('Bob', 42, 'CA', 92)\n",
      "Bob 42 CA 92\n",
      "======\n",
      "\n"
     ]
    }
   ],
   "source": [
    "for row in df.itertuples(name=None):\n",
    "    print(type(row))\n",
    "    print(row)\n",
    "    print(row[0], row[1], row[2], row[3])\n",
    "    print('======\\n')"
   ]
  },
  {
   "cell_type": "code",
   "execution_count": 9,
   "metadata": {},
   "outputs": [
    {
     "name": "stdout",
     "output_type": "stream",
     "text": [
      "Alice    24\n",
      "Bob      42\n",
      "Name: age, dtype: int64\n"
     ]
    }
   ],
   "source": [
    "print(df['age'])"
   ]
  },
  {
   "cell_type": "code",
   "execution_count": 10,
   "metadata": {},
   "outputs": [
    {
     "name": "stdout",
     "output_type": "stream",
     "text": [
      "<class 'pandas.core.series.Series'>\n"
     ]
    }
   ],
   "source": [
    "print(type(df['age']))"
   ]
  },
  {
   "cell_type": "code",
   "execution_count": 11,
   "metadata": {},
   "outputs": [
    {
     "name": "stdout",
     "output_type": "stream",
     "text": [
      "24\n",
      "42\n"
     ]
    }
   ],
   "source": [
    "for age in df['age']:\n",
    "    print(age)"
   ]
  },
  {
   "cell_type": "code",
   "execution_count": 12,
   "metadata": {},
   "outputs": [
    {
     "name": "stdout",
     "output_type": "stream",
     "text": [
      "24 64\n",
      "42 92\n"
     ]
    }
   ],
   "source": [
    "for age, point in zip(df['age'], df['point']):\n",
    "    print(age, point)"
   ]
  },
  {
   "cell_type": "code",
   "execution_count": 13,
   "metadata": {},
   "outputs": [
    {
     "name": "stdout",
     "output_type": "stream",
     "text": [
      "Index(['Alice', 'Bob'], dtype='object')\n"
     ]
    }
   ],
   "source": [
    "print(df.index)"
   ]
  },
  {
   "cell_type": "code",
   "execution_count": 14,
   "metadata": {},
   "outputs": [
    {
     "name": "stdout",
     "output_type": "stream",
     "text": [
      "<class 'pandas.core.indexes.base.Index'>\n"
     ]
    }
   ],
   "source": [
    "print(type(df.index))"
   ]
  },
  {
   "cell_type": "code",
   "execution_count": 15,
   "metadata": {},
   "outputs": [
    {
     "name": "stdout",
     "output_type": "stream",
     "text": [
      "Alice\n",
      "Bob\n"
     ]
    }
   ],
   "source": [
    "for index in df.index:\n",
    "    print(index)"
   ]
  },
  {
   "cell_type": "code",
   "execution_count": 16,
   "metadata": {},
   "outputs": [
    {
     "name": "stdout",
     "output_type": "stream",
     "text": [
      "Alice NY\n",
      "Bob CA\n"
     ]
    }
   ],
   "source": [
    "for index, state in zip(df.index, df['state']):\n",
    "    print(index, state)"
   ]
  },
  {
   "cell_type": "code",
   "execution_count": 17,
   "metadata": {},
   "outputs": [],
   "source": [
    "for index, row in df.iterrows():\n",
    "    row['point'] += row['age']"
   ]
  },
  {
   "cell_type": "code",
   "execution_count": 18,
   "metadata": {},
   "outputs": [
    {
     "name": "stdout",
     "output_type": "stream",
     "text": [
      "       age state  point\n",
      "Alice   24    NY     64\n",
      "Bob     42    CA     92\n"
     ]
    }
   ],
   "source": [
    "print(df)"
   ]
  },
  {
   "cell_type": "code",
   "execution_count": 19,
   "metadata": {},
   "outputs": [],
   "source": [
    "for index, row in df.iterrows():\n",
    "    df.at[index, 'point'] += row['age']"
   ]
  },
  {
   "cell_type": "code",
   "execution_count": 20,
   "metadata": {},
   "outputs": [
    {
     "name": "stdout",
     "output_type": "stream",
     "text": [
      "       age state  point\n",
      "Alice   24    NY     88\n",
      "Bob     42    CA    134\n"
     ]
    }
   ],
   "source": [
    "print(df)"
   ]
  },
  {
   "cell_type": "code",
   "execution_count": 21,
   "metadata": {},
   "outputs": [
    {
     "name": "stdout",
     "output_type": "stream",
     "text": [
      "       age state  point\n",
      "Alice   24    NY     88\n",
      "Bob     42    CA    134\n"
     ]
    }
   ],
   "source": [
    "df = pd.DataFrame({'age': [24, 42], 'state': ['NY', 'CA'], 'point': [64, 92]},\n",
    "                  index=['Alice', 'Bob'])\n",
    "df['point'] += df['age']\n",
    "print(df)"
   ]
  },
  {
   "cell_type": "code",
   "execution_count": 22,
   "metadata": {},
   "outputs": [
    {
     "name": "stdout",
     "output_type": "stream",
     "text": [
      "       age state  point  new\n",
      "Alice   24    NY     88  136\n",
      "Bob     42    CA    134  218\n"
     ]
    }
   ],
   "source": [
    "df['new'] = df['point'] + df['age'] * 2\n",
    "print(df)"
   ]
  },
  {
   "cell_type": "code",
   "execution_count": 23,
   "metadata": {},
   "outputs": [
    {
     "name": "stdout",
     "output_type": "stream",
     "text": [
      "       age state  point  new  age_sqrt\n",
      "Alice   24    NY     88  136  4.898979\n",
      "Bob     42    CA    134  218  6.480741\n"
     ]
    }
   ],
   "source": [
    "df['age_sqrt'] = np.sqrt(df['age'])\n",
    "print(df)"
   ]
  },
  {
   "cell_type": "code",
   "execution_count": 24,
   "metadata": {},
   "outputs": [
    {
     "name": "stdout",
     "output_type": "stream",
     "text": [
      "       age state  point  new  age_sqrt state_0\n",
      "Alice   24    NY     88  136  4.898979       n\n",
      "Bob     42    CA    134  218  6.480741       c\n"
     ]
    }
   ],
   "source": [
    "df['state_0'] = df['state'].str.lower().str[0]\n",
    "print(df)"
   ]
  }
 ],
 "metadata": {
  "kernelspec": {
   "display_name": "Python 3",
   "language": "python",
   "name": "python3"
  },
  "language_info": {
   "codemirror_mode": {
    "name": "ipython",
    "version": 3
   },
   "file_extension": ".py",
   "mimetype": "text/x-python",
   "name": "python",
   "nbconvert_exporter": "python",
   "pygments_lexer": "ipython3",
   "version": "3.9.12"
  }
 },
 "nbformat": 4,
 "nbformat_minor": 2
}
