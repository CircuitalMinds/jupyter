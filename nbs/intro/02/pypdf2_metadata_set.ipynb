{
 "cells": [
  {
   "cell_type": "code",
   "execution_count": 1,
   "metadata": {},
   "outputs": [],
   "source": [
    "import PyPDF2"
   ]
  },
  {
   "cell_type": "code",
   "execution_count": 2,
   "metadata": {},
   "outputs": [],
   "source": [
    "src_pdf = PyPDF2.PdfFileReader('data/src/pdf/sample1.pdf')\n",
    "dst_pdf = PyPDF2.PdfFileWriter()"
   ]
  },
  {
   "cell_type": "code",
   "execution_count": 3,
   "metadata": {},
   "outputs": [],
   "source": [
    "dst_pdf.cloneReaderDocumentRoot(src_pdf)"
   ]
  },
  {
   "cell_type": "code",
   "execution_count": 4,
   "metadata": {},
   "outputs": [],
   "source": [
    "d = {key: src_pdf.documentInfo[key] for key in src_pdf.documentInfo.keys()}"
   ]
  },
  {
   "cell_type": "code",
   "execution_count": 5,
   "metadata": {},
   "outputs": [],
   "source": [
    "d['/Title'] = 'new title'\n",
    "d['/Author'] = 'new author'\n",
    "d['/XXX'] = 'special data'"
   ]
  },
  {
   "cell_type": "code",
   "execution_count": 6,
   "metadata": {},
   "outputs": [],
   "source": [
    "dst_pdf.addMetadata(d)"
   ]
  },
  {
   "cell_type": "code",
   "execution_count": 7,
   "metadata": {},
   "outputs": [],
   "source": [
    "with open('data/temp/sample1_new_meta.pdf', 'wb') as f:\n",
    "    dst_pdf.write(f)"
   ]
  },
  {
   "cell_type": "code",
   "execution_count": 8,
   "metadata": {},
   "outputs": [
    {
     "name": "stdout",
     "output_type": "stream",
     "text": [
      "{'/Producer': 'macOS バージョン10.14.2（ビルド18C54） Quartz PDFContext', '/Title': 'new title', '/Creator': 'Keynote', '/CreationDate': \"D:20190114072947Z00'00'\", '/ModDate': \"D:20190114072947Z00'00'\", '/Author': 'new author', '/XXX': 'special data'}\n"
     ]
    }
   ],
   "source": [
    "print(PyPDF2.PdfFileReader('data/temp/sample1_new_meta.pdf').documentInfo)"
   ]
  },
  {
   "cell_type": "code",
   "execution_count": 9,
   "metadata": {},
   "outputs": [],
   "source": [
    "def update_metadata(src_path, dst_path, metadata):\n",
    "    src_pdf = PyPDF2.PdfFileReader(src_path)\n",
    "    dst_pdf = PyPDF2.PdfFileWriter()\n",
    "    dst_pdf.cloneReaderDocumentRoot(src_pdf)\n",
    "    \n",
    "    d = {key: src_pdf.documentInfo[key] for key in src_pdf.documentInfo.keys()}\n",
    "    d.update(metadata)\n",
    "\n",
    "    dst_pdf.addMetadata(d)\n",
    "    with open(dst_path, 'wb') as f:\n",
    "        dst_pdf.write(f)"
   ]
  },
  {
   "cell_type": "code",
   "execution_count": 10,
   "metadata": {},
   "outputs": [
    {
     "name": "stdout",
     "output_type": "stream",
     "text": [
      "{'/Producer': '', '/Title': 'new title', '/Creator': 'Keynote', '/CreationDate': \"D:20190114072947Z00'00'\", '/ModDate': \"D:20190114072947Z00'00'\", '/Author': 'new author'}\n"
     ]
    }
   ],
   "source": [
    "update_metadata('data/src/pdf/sample1.pdf', 'data/temp/sample1_new_meta.pdf',\n",
    "                {'/Title': 'new title', '/Author': 'new author', '/Producer': ''})\n",
    "print(PyPDF2.PdfFileReader('data/temp/sample1_new_meta.pdf').documentInfo)"
   ]
  },
  {
   "cell_type": "code",
   "execution_count": 11,
   "metadata": {},
   "outputs": [],
   "source": [
    "def set_metadata(src_path, dst_path, metadata):\n",
    "    src_pdf = PyPDF2.PdfFileReader(src_path)\n",
    "    dst_pdf = PyPDF2.PdfFileWriter()\n",
    "    dst_pdf.cloneReaderDocumentRoot(src_pdf)\n",
    "    dst_pdf.addMetadata(metadata)\n",
    "    with open(dst_path, 'wb') as f:\n",
    "        dst_pdf.write(f)"
   ]
  },
  {
   "cell_type": "code",
   "execution_count": 12,
   "metadata": {},
   "outputs": [
    {
     "name": "stdout",
     "output_type": "stream",
     "text": [
      "{'/Producer': '', '/Title': 'new title', '/Author': 'new author'}\n"
     ]
    }
   ],
   "source": [
    "set_metadata('data/src/pdf/sample1.pdf', 'data/temp/sample1_new_meta.pdf',\n",
    "             {'/Title': 'new title', '/Author': 'new author', '/Producer': ''})\n",
    "print(PyPDF2.PdfFileReader('data/temp/sample1_new_meta.pdf').documentInfo)"
   ]
  }
 ],
 "metadata": {
  "kernelspec": {
   "display_name": "Python 3",
   "language": "python",
   "name": "python3"
  },
  "language_info": {
   "codemirror_mode": {
    "name": "ipython",
    "version": 3
   },
   "file_extension": ".py",
   "mimetype": "text/x-python",
   "name": "python",
   "nbconvert_exporter": "python",
   "pygments_lexer": "ipython3",
   "version": "3.7.2"
  }
 },
 "nbformat": 4,
 "nbformat_minor": 2
}
