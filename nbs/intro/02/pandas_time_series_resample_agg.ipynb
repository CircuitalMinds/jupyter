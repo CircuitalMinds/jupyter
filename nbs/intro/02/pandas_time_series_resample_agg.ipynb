{
 "cells": [
  {
   "cell_type": "code",
   "execution_count": 1,
   "metadata": {},
   "outputs": [],
   "source": [
    "import pandas as pd"
   ]
  },
  {
   "cell_type": "code",
   "execution_count": 2,
   "metadata": {},
   "outputs": [
    {
     "name": "stdout",
     "output_type": "stream",
     "text": [
      "            val_1  val_2\n",
      "date                    \n",
      "2017-11-01     65     76\n",
      "2017-11-07     26     66\n",
      "2017-11-18     47     47\n",
      "2017-11-27     20     38\n",
      "2017-12-05     65     85\n",
      "2017-12-12      4     29\n",
      "2017-12-22     31     54\n",
      "2017-12-29     21      8\n",
      "2018-01-03     98     76\n",
      "2018-01-08     48     64\n",
      "2018-01-19     18     48\n",
      "2018-01-23     86     70\n"
     ]
    }
   ],
   "source": [
    "df = pd.read_csv('data/src/sample_date.csv', index_col=0, parse_dates=True)\n",
    "print(df)"
   ]
  },
  {
   "cell_type": "code",
   "execution_count": 3,
   "metadata": {},
   "outputs": [
    {
     "name": "stdout",
     "output_type": "stream",
     "text": [
      "<class 'pandas.core.indexes.datetimes.DatetimeIndex'>\n"
     ]
    }
   ],
   "source": [
    "print(type(df.index))"
   ]
  },
  {
   "cell_type": "code",
   "execution_count": 4,
   "metadata": {},
   "outputs": [
    {
     "name": "stdout",
     "output_type": "stream",
     "text": [
      "            val_1  val_2\n",
      "date                    \n",
      "2017-11-05     65     76\n",
      "2017-11-12     26     66\n",
      "2017-11-19     47     47\n",
      "2017-11-26      0      0\n",
      "2017-12-03     20     38\n",
      "2017-12-10     65     85\n",
      "2017-12-17      4     29\n",
      "2017-12-24     31     54\n",
      "2017-12-31     21      8\n",
      "2018-01-07     98     76\n",
      "2018-01-14     48     64\n",
      "2018-01-21     18     48\n",
      "2018-01-28     86     70\n"
     ]
    }
   ],
   "source": [
    "print(df.resample('W').sum())"
   ]
  },
  {
   "cell_type": "code",
   "execution_count": 5,
   "metadata": {},
   "outputs": [
    {
     "name": "stdout",
     "output_type": "stream",
     "text": [
      "            val_1  val_2\n",
      "date                    \n",
      "2017-11-30    158    227\n",
      "2017-12-31    121    176\n",
      "2018-01-31    250    258\n"
     ]
    }
   ],
   "source": [
    "print(df.resample('M').sum())"
   ]
  },
  {
   "cell_type": "code",
   "execution_count": 6,
   "metadata": {},
   "outputs": [
    {
     "name": "stdout",
     "output_type": "stream",
     "text": [
      "            val_1  val_2\n",
      "date                    \n",
      "2017-12-31    279    403\n",
      "2018-03-31    250    258\n"
     ]
    }
   ],
   "source": [
    "print(df.resample('Q').sum())"
   ]
  },
  {
   "cell_type": "code",
   "execution_count": 7,
   "metadata": {},
   "outputs": [
    {
     "name": "stdout",
     "output_type": "stream",
     "text": [
      "            val_1  val_2\n",
      "date                    \n",
      "2017-12-31    279    403\n",
      "2018-12-31    250    258\n"
     ]
    }
   ],
   "source": [
    "print(df.resample('Y').sum())"
   ]
  },
  {
   "cell_type": "code",
   "execution_count": 8,
   "metadata": {},
   "outputs": [
    {
     "name": "stdout",
     "output_type": "stream",
     "text": [
      "            val_1  val_2\n",
      "date                    \n",
      "2017-11-01     91    142\n",
      "2017-11-11     47     47\n",
      "2017-11-21     20     38\n",
      "2017-12-01     65     85\n",
      "2017-12-11      4     29\n",
      "2017-12-21     52     62\n",
      "2017-12-31    146    140\n",
      "2018-01-10     18     48\n",
      "2018-01-20     86     70\n"
     ]
    }
   ],
   "source": [
    "print(df.resample('10D').sum())"
   ]
  },
  {
   "cell_type": "code",
   "execution_count": 9,
   "metadata": {},
   "outputs": [
    {
     "name": "stdout",
     "output_type": "stream",
     "text": [
      "            val_1  val_2\n",
      "date                    \n",
      "2017-11-05     65     76\n",
      "2017-11-26     73    113\n",
      "2017-12-17     89    152\n",
      "2018-01-07    150    138\n",
      "2018-01-28    152    182\n"
     ]
    }
   ],
   "source": [
    "print(df.resample('3W').sum())"
   ]
  },
  {
   "cell_type": "code",
   "execution_count": 10,
   "metadata": {},
   "outputs": [
    {
     "name": "stdout",
     "output_type": "stream",
     "text": [
      "             val_1   val_2\n",
      "date                      \n",
      "2017-12-31  34.875  50.375\n",
      "2018-12-31  62.500  64.500\n"
     ]
    }
   ],
   "source": [
    "print(df.resample('Y').mean())"
   ]
  },
  {
   "cell_type": "code",
   "execution_count": 11,
   "metadata": {},
   "outputs": [
    {
     "name": "stdout",
     "output_type": "stream",
     "text": [
      "           val_1                 val_2                \n",
      "             sum    mean max min   sum    mean max min\n",
      "date                                                  \n",
      "2017-12-31   279  34.875  65   4   403  50.375  85   8\n",
      "2018-12-31   250  62.500  98  18   258  64.500  76  48\n"
     ]
    }
   ],
   "source": [
    "print(df.resample('Y').agg(['sum', 'mean', 'max', 'min']))"
   ]
  }
 ],
 "metadata": {
  "kernelspec": {
   "display_name": "Python 3",
   "language": "python",
   "name": "python3"
  },
  "language_info": {
   "codemirror_mode": {
    "name": "ipython",
    "version": 3
   },
   "file_extension": ".py",
   "mimetype": "text/x-python",
   "name": "python",
   "nbconvert_exporter": "python",
   "pygments_lexer": "ipython3",
   "version": "3.7.7"
  }
 },
 "nbformat": 4,
 "nbformat_minor": 2
}
