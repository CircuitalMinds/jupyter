{
 "cells": [
  {
   "cell_type": "code",
   "execution_count": 1,
   "metadata": {
    "collapsed": true
   },
   "outputs": [],
   "source": [
    "import urllib.parse"
   ]
  },
  {
   "cell_type": "code",
   "execution_count": 2,
   "metadata": {
    "collapsed": true
   },
   "outputs": [],
   "source": [
    "url = 'https://www.google.co.jp/search?q=%E6%A1%9C&tbm=isch'"
   ]
  },
  {
   "cell_type": "code",
   "execution_count": 3,
   "metadata": {},
   "outputs": [
    {
     "name": "stdout",
     "output_type": "stream",
     "text": [
      "ParseResult(scheme='https', netloc='www.google.co.jp', path='/search', params='', query='q=%E6%A1%9C&tbm=isch', fragment='')\n"
     ]
    }
   ],
   "source": [
    "print(urllib.parse.urlparse(url))"
   ]
  },
  {
   "cell_type": "code",
   "execution_count": 4,
   "metadata": {
    "collapsed": true
   },
   "outputs": [],
   "source": [
    "qs = urllib.parse.urlparse(url).query"
   ]
  },
  {
   "cell_type": "code",
   "execution_count": 5,
   "metadata": {},
   "outputs": [
    {
     "name": "stdout",
     "output_type": "stream",
     "text": [
      "q=%E6%A1%9C&tbm=isch\n"
     ]
    }
   ],
   "source": [
    "print(qs)"
   ]
  },
  {
   "cell_type": "code",
   "execution_count": 6,
   "metadata": {},
   "outputs": [
    {
     "name": "stdout",
     "output_type": "stream",
     "text": [
      "<class 'str'>\n"
     ]
    }
   ],
   "source": [
    "print(type(qs))"
   ]
  },
  {
   "cell_type": "code",
   "execution_count": 7,
   "metadata": {
    "collapsed": true
   },
   "outputs": [],
   "source": [
    "qs_d = urllib.parse.parse_qs(qs)"
   ]
  },
  {
   "cell_type": "code",
   "execution_count": 8,
   "metadata": {},
   "outputs": [
    {
     "name": "stdout",
     "output_type": "stream",
     "text": [
      "{'q': ['桜'], 'tbm': ['isch']}\n"
     ]
    }
   ],
   "source": [
    "print(qs_d)"
   ]
  },
  {
   "cell_type": "code",
   "execution_count": 9,
   "metadata": {},
   "outputs": [
    {
     "name": "stdout",
     "output_type": "stream",
     "text": [
      "<class 'dict'>\n"
     ]
    }
   ],
   "source": [
    "print(type(qs_d))"
   ]
  },
  {
   "cell_type": "code",
   "execution_count": 10,
   "metadata": {},
   "outputs": [
    {
     "name": "stdout",
     "output_type": "stream",
     "text": [
      "['桜']\n"
     ]
    }
   ],
   "source": [
    "print(qs_d['q'])"
   ]
  },
  {
   "cell_type": "code",
   "execution_count": 11,
   "metadata": {},
   "outputs": [
    {
     "name": "stdout",
     "output_type": "stream",
     "text": [
      "<class 'list'>\n"
     ]
    }
   ],
   "source": [
    "print(type(qs_d['q']))"
   ]
  },
  {
   "cell_type": "code",
   "execution_count": 12,
   "metadata": {},
   "outputs": [
    {
     "name": "stdout",
     "output_type": "stream",
     "text": [
      "桜\n"
     ]
    }
   ],
   "source": [
    "print(qs_d['q'][0])"
   ]
  },
  {
   "cell_type": "code",
   "execution_count": 13,
   "metadata": {},
   "outputs": [
    {
     "name": "stdout",
     "output_type": "stream",
     "text": [
      "<class 'str'>\n"
     ]
    }
   ],
   "source": [
    "print(type(qs_d['q'][0]))"
   ]
  },
  {
   "cell_type": "code",
   "execution_count": 14,
   "metadata": {
    "collapsed": true
   },
   "outputs": [],
   "source": [
    "qs_l = urllib.parse.parse_qsl(qs)"
   ]
  },
  {
   "cell_type": "code",
   "execution_count": 15,
   "metadata": {},
   "outputs": [
    {
     "name": "stdout",
     "output_type": "stream",
     "text": [
      "[('q', '桜'), ('tbm', 'isch')]\n"
     ]
    }
   ],
   "source": [
    "print(qs_l)"
   ]
  },
  {
   "cell_type": "code",
   "execution_count": 16,
   "metadata": {},
   "outputs": [
    {
     "name": "stdout",
     "output_type": "stream",
     "text": [
      "<class 'list'>\n"
     ]
    }
   ],
   "source": [
    "print(type(qs_l))"
   ]
  },
  {
   "cell_type": "code",
   "execution_count": 17,
   "metadata": {},
   "outputs": [
    {
     "name": "stdout",
     "output_type": "stream",
     "text": [
      "('q', '桜')\n"
     ]
    }
   ],
   "source": [
    "print(qs_l[0])"
   ]
  },
  {
   "cell_type": "code",
   "execution_count": 18,
   "metadata": {},
   "outputs": [
    {
     "name": "stdout",
     "output_type": "stream",
     "text": [
      "<class 'tuple'>\n"
     ]
    }
   ],
   "source": [
    "print(type(qs_l[0]))"
   ]
  },
  {
   "cell_type": "code",
   "execution_count": 19,
   "metadata": {},
   "outputs": [
    {
     "name": "stdout",
     "output_type": "stream",
     "text": [
      "桜\n"
     ]
    }
   ],
   "source": [
    "print(qs_l[0][1])"
   ]
  },
  {
   "cell_type": "code",
   "execution_count": 20,
   "metadata": {},
   "outputs": [
    {
     "name": "stdout",
     "output_type": "stream",
     "text": [
      "<class 'str'>\n"
     ]
    }
   ],
   "source": [
    "print(type(qs_l[0][1]))"
   ]
  },
  {
   "cell_type": "code",
   "execution_count": 21,
   "metadata": {
    "collapsed": true
   },
   "outputs": [],
   "source": [
    "d = {'key1': 'value / one', 'key2': 'バリュー2'}"
   ]
  },
  {
   "cell_type": "code",
   "execution_count": 22,
   "metadata": {
    "collapsed": true
   },
   "outputs": [],
   "source": [
    "d_qs = urllib.parse.urlencode(d)"
   ]
  },
  {
   "cell_type": "code",
   "execution_count": 23,
   "metadata": {},
   "outputs": [
    {
     "name": "stdout",
     "output_type": "stream",
     "text": [
      "key1=value+%2F+one&key2=%E3%83%90%E3%83%AA%E3%83%A5%E3%83%BC2\n"
     ]
    }
   ],
   "source": [
    "print(d_qs)"
   ]
  },
  {
   "cell_type": "code",
   "execution_count": 24,
   "metadata": {},
   "outputs": [
    {
     "name": "stdout",
     "output_type": "stream",
     "text": [
      "<class 'str'>\n"
     ]
    }
   ],
   "source": [
    "print(type(d_qs))"
   ]
  },
  {
   "cell_type": "code",
   "execution_count": 25,
   "metadata": {
    "collapsed": true
   },
   "outputs": [],
   "source": [
    "l = [('key1', 'value / one'), ('key2', 'バリュー2')]"
   ]
  },
  {
   "cell_type": "code",
   "execution_count": 26,
   "metadata": {
    "collapsed": true
   },
   "outputs": [],
   "source": [
    "l_qs = urllib.parse.urlencode(l)"
   ]
  },
  {
   "cell_type": "code",
   "execution_count": 27,
   "metadata": {},
   "outputs": [
    {
     "name": "stdout",
     "output_type": "stream",
     "text": [
      "key1=value+%2F+one&key2=%E3%83%90%E3%83%AA%E3%83%A5%E3%83%BC2\n"
     ]
    }
   ],
   "source": [
    "print(l_qs)"
   ]
  },
  {
   "cell_type": "code",
   "execution_count": 28,
   "metadata": {},
   "outputs": [
    {
     "name": "stdout",
     "output_type": "stream",
     "text": [
      "<class 'str'>\n"
     ]
    }
   ],
   "source": [
    "print(type(l_qs))"
   ]
  },
  {
   "cell_type": "code",
   "execution_count": 29,
   "metadata": {},
   "outputs": [
    {
     "name": "stdout",
     "output_type": "stream",
     "text": [
      "key1=value+%2F+one&key2=%E3%83%90%E3%83%AA%E3%83%A5%E3%83%BC2\n"
     ]
    }
   ],
   "source": [
    "print(urllib.parse.urlencode(d))"
   ]
  },
  {
   "cell_type": "code",
   "execution_count": 30,
   "metadata": {},
   "outputs": [
    {
     "name": "stdout",
     "output_type": "stream",
     "text": [
      "key1=value%20%2F%20one&key2=%E3%83%90%E3%83%AA%E3%83%A5%E3%83%BC2\n"
     ]
    }
   ],
   "source": [
    "print(urllib.parse.urlencode(d, quote_via=urllib.parse.quote))"
   ]
  },
  {
   "cell_type": "code",
   "execution_count": 31,
   "metadata": {},
   "outputs": [
    {
     "name": "stdout",
     "output_type": "stream",
     "text": [
      "key1=value+/+one&key2=%E3%83%90%E3%83%AA%E3%83%A5%E3%83%BC2\n"
     ]
    }
   ],
   "source": [
    "print(urllib.parse.urlencode(d, safe='/'))"
   ]
  },
  {
   "cell_type": "code",
   "execution_count": 32,
   "metadata": {},
   "outputs": [
    {
     "name": "stdout",
     "output_type": "stream",
     "text": [
      "key1=value%20/%20one&key2=%E3%83%90%E3%83%AA%E3%83%A5%E3%83%BC2\n"
     ]
    }
   ],
   "source": [
    "print(urllib.parse.urlencode(d, safe='/', quote_via=urllib.parse.quote))"
   ]
  },
  {
   "cell_type": "code",
   "execution_count": 33,
   "metadata": {},
   "outputs": [
    {
     "name": "stdout",
     "output_type": "stream",
     "text": [
      "{'q': ['桜'], 'tbm': ['isch']}\n"
     ]
    }
   ],
   "source": [
    "print(qs_d)"
   ]
  },
  {
   "cell_type": "code",
   "execution_count": 34,
   "metadata": {},
   "outputs": [
    {
     "name": "stdout",
     "output_type": "stream",
     "text": [
      "q=%5B%27%E6%A1%9C%27%5D&tbm=%5B%27isch%27%5D\n"
     ]
    }
   ],
   "source": [
    "print(urllib.parse.urlencode(qs_d))"
   ]
  },
  {
   "cell_type": "code",
   "execution_count": 35,
   "metadata": {},
   "outputs": [
    {
     "name": "stdout",
     "output_type": "stream",
     "text": [
      "q=%E6%A1%9C&tbm=isch\n"
     ]
    }
   ],
   "source": [
    "print(urllib.parse.urlencode(qs_d, doseq=True))"
   ]
  },
  {
   "cell_type": "code",
   "execution_count": 36,
   "metadata": {},
   "outputs": [
    {
     "name": "stdout",
     "output_type": "stream",
     "text": [
      "https://www.google.co.jp/search?q=%E6%A1%9C&tbm=isch\n"
     ]
    }
   ],
   "source": [
    "print(url)"
   ]
  },
  {
   "cell_type": "code",
   "execution_count": 37,
   "metadata": {},
   "outputs": [
    {
     "name": "stdout",
     "output_type": "stream",
     "text": [
      "https://www.google.co.jp/search?q=%E6%A1%9C&tbm=vid\n"
     ]
    }
   ],
   "source": [
    "print(url.replace('isch', 'vid'))"
   ]
  },
  {
   "cell_type": "code",
   "execution_count": 38,
   "metadata": {
    "collapsed": true
   },
   "outputs": [],
   "source": [
    "def update_query(url, key, org_val, new_val):\n",
    "    pr = urllib.parse.urlparse(url)\n",
    "    d = urllib.parse.parse_qs(pr.query)\n",
    "    l = d.get(key)\n",
    "    if l:\n",
    "        d[key] = [new_val if v == org_val else v for v in l]\n",
    "    else:\n",
    "        d[key] = new_val\n",
    "    return urllib.parse.urlunparse(pr._replace(query=urllib.parse.urlencode(d, doseq=True)))"
   ]
  },
  {
   "cell_type": "code",
   "execution_count": 39,
   "metadata": {},
   "outputs": [
    {
     "name": "stdout",
     "output_type": "stream",
     "text": [
      "https://www.google.co.jp/search?q=%E6%A1%9C&tbm=vid\n"
     ]
    }
   ],
   "source": [
    "print(update_query(url, 'tbm', 'isch', 'vid'))"
   ]
  },
  {
   "cell_type": "code",
   "execution_count": 40,
   "metadata": {},
   "outputs": [
    {
     "name": "stdout",
     "output_type": "stream",
     "text": [
      "https://www.google.co.jp/search?q=%E6%A2%85&tbm=isch\n"
     ]
    }
   ],
   "source": [
    "print(update_query(url, 'q', '桜', '梅'))"
   ]
  },
  {
   "cell_type": "code",
   "execution_count": 41,
   "metadata": {},
   "outputs": [
    {
     "name": "stdout",
     "output_type": "stream",
     "text": [
      "https://www.google.co.jp/search?q=%E6%A1%9C&tbm=isch&new-key=yyy\n"
     ]
    }
   ],
   "source": [
    "print(update_query(url, 'new-key', 'xxx', 'yyy'))"
   ]
  },
  {
   "cell_type": "code",
   "execution_count": 42,
   "metadata": {
    "collapsed": true
   },
   "outputs": [],
   "source": [
    "def remove_query(url, key):\n",
    "    pr = urllib.parse.urlparse(url)\n",
    "    d = urllib.parse.parse_qs(pr.query)\n",
    "    d.pop(key, None)\n",
    "    return urllib.parse.urlunparse(pr._replace(query=urllib.parse.urlencode(d, doseq=True)))"
   ]
  },
  {
   "cell_type": "code",
   "execution_count": 43,
   "metadata": {},
   "outputs": [
    {
     "name": "stdout",
     "output_type": "stream",
     "text": [
      "https://www.google.co.jp/search?q=%E6%A1%9C\n"
     ]
    }
   ],
   "source": [
    "print(remove_query(url, 'tbm'))"
   ]
  },
  {
   "cell_type": "code",
   "execution_count": 44,
   "metadata": {},
   "outputs": [
    {
     "name": "stdout",
     "output_type": "stream",
     "text": [
      "https://www.google.co.jp/search?q=%E6%A1%9C&tbm=isch\n"
     ]
    }
   ],
   "source": [
    "print(remove_query(url, 'new-key'))"
   ]
  },
  {
   "cell_type": "code",
   "execution_count": 45,
   "metadata": {
    "collapsed": true
   },
   "outputs": [],
   "source": [
    "def remove_all_query(url):\n",
    "    return urllib.parse.urlunparse(urllib.parse.urlparse(url)._replace(query=None))"
   ]
  },
  {
   "cell_type": "code",
   "execution_count": 46,
   "metadata": {},
   "outputs": [
    {
     "name": "stdout",
     "output_type": "stream",
     "text": [
      "https://www.google.co.jp/search\n"
     ]
    }
   ],
   "source": [
    "print(remove_all_query(url))"
   ]
  }
 ],
 "metadata": {
  "kernelspec": {
   "display_name": "Python 3",
   "language": "python",
   "name": "python3"
  },
  "language_info": {
   "codemirror_mode": {
    "name": "ipython",
    "version": 3
   },
   "file_extension": ".py",
   "mimetype": "text/x-python",
   "name": "python",
   "nbconvert_exporter": "python",
   "pygments_lexer": "ipython3",
   "version": "3.6.5"
  }
 },
 "nbformat": 4,
 "nbformat_minor": 2
}
