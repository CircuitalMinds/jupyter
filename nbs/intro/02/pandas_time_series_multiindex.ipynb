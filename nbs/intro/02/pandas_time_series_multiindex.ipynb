{
 "cells": [
  {
   "cell_type": "code",
   "execution_count": 1,
   "metadata": {},
   "outputs": [],
   "source": [
    "import pandas as pd"
   ]
  },
  {
   "cell_type": "code",
   "execution_count": 2,
   "metadata": {},
   "outputs": [
    {
     "name": "stdout",
     "output_type": "stream",
     "text": [
      "            val_1  val_2\n",
      "date                    \n",
      "2017-11-01     65     76\n",
      "2017-11-07     26     66\n",
      "2017-11-18     47     47\n",
      "2017-11-27     20     38\n",
      "2017-12-05     65     85\n",
      "2017-12-12      4     29\n",
      "2017-12-22     31     54\n",
      "2017-12-29     21      8\n",
      "2018-01-03     98     76\n",
      "2018-01-08     48     64\n",
      "2018-01-19     18     48\n",
      "2018-01-23     86     70\n"
     ]
    }
   ],
   "source": [
    "df = pd.read_csv('data/src/sample_date.csv', index_col=0, parse_dates=True)\n",
    "print(df)"
   ]
  },
  {
   "cell_type": "code",
   "execution_count": 3,
   "metadata": {},
   "outputs": [
    {
     "name": "stdout",
     "output_type": "stream",
     "text": [
      "<class 'pandas.core.indexes.datetimes.DatetimeIndex'>\n"
     ]
    }
   ],
   "source": [
    "print(type(df.index))"
   ]
  },
  {
   "cell_type": "code",
   "execution_count": 4,
   "metadata": {},
   "outputs": [
    {
     "name": "stdout",
     "output_type": "stream",
     "text": [
      "Int64Index([2, 1, 5, 0, 1, 1, 4, 4, 2, 0, 4, 1], dtype='int64', name='date')\n"
     ]
    }
   ],
   "source": [
    "print(df.index.weekday)"
   ]
  },
  {
   "cell_type": "code",
   "execution_count": 5,
   "metadata": {},
   "outputs": [
    {
     "name": "stdout",
     "output_type": "stream",
     "text": [
      "Int64Index([2, 1, 5, 0, 1, 1, 4, 4, 2, 0, 4, 1], dtype='int64', name='date')\n"
     ]
    }
   ],
   "source": [
    "print(df.index.dayofweek)"
   ]
  },
  {
   "cell_type": "code",
   "execution_count": 6,
   "metadata": {},
   "outputs": [
    {
     "name": "stdout",
     "output_type": "stream",
     "text": [
      "Index(['Wednesday', 'Tuesday', 'Saturday', 'Monday', 'Tuesday', 'Tuesday',\n",
      "       'Friday', 'Friday', 'Wednesday', 'Monday', 'Friday', 'Tuesday'],\n",
      "      dtype='object', name='date')\n"
     ]
    }
   ],
   "source": [
    "print(df.index.day_name())"
   ]
  },
  {
   "cell_type": "code",
   "execution_count": 7,
   "metadata": {},
   "outputs": [
    {
     "name": "stdout",
     "output_type": "stream",
     "text": [
      "            val_1  val_2\n",
      "date                    \n",
      "2017-11-27     20     38\n",
      "2018-01-08     48     64\n"
     ]
    }
   ],
   "source": [
    "print(df[df.index.weekday == 0])"
   ]
  },
  {
   "cell_type": "code",
   "execution_count": 8,
   "metadata": {},
   "outputs": [
    {
     "name": "stdout",
     "output_type": "stream",
     "text": [
      "val_1     68\n",
      "val_2    102\n",
      "dtype: int64\n"
     ]
    }
   ],
   "source": [
    "print(df[df.index.weekday == 0].sum())"
   ]
  },
  {
   "cell_type": "code",
   "execution_count": 9,
   "metadata": {},
   "outputs": [
    {
     "name": "stdout",
     "output_type": "stream",
     "text": [
      "val_1    34.0\n",
      "val_2    51.0\n",
      "dtype: float64\n"
     ]
    }
   ],
   "source": [
    "print(df[df.index.weekday == 0].mean())"
   ]
  },
  {
   "cell_type": "code",
   "execution_count": 10,
   "metadata": {},
   "outputs": [
    {
     "name": "stdout",
     "output_type": "stream",
     "text": [
      "      val_1  val_2\n",
      "sum    68.0  102.0\n",
      "mean   34.0   51.0\n"
     ]
    }
   ],
   "source": [
    "print(df[df.index.weekday == 0].agg(['sum', 'mean']))"
   ]
  },
  {
   "cell_type": "code",
   "execution_count": 11,
   "metadata": {},
   "outputs": [
    {
     "name": "stdout",
     "output_type": "stream",
     "text": [
      "                 val_1  val_2\n",
      "date date                    \n",
      "2    2017-11-01     65     76\n",
      "1    2017-11-07     26     66\n",
      "5    2017-11-18     47     47\n",
      "0    2017-11-27     20     38\n",
      "1    2017-12-05     65     85\n",
      "     2017-12-12      4     29\n",
      "4    2017-12-22     31     54\n",
      "     2017-12-29     21      8\n",
      "2    2018-01-03     98     76\n",
      "0    2018-01-08     48     64\n",
      "4    2018-01-19     18     48\n",
      "1    2018-01-23     86     70\n"
     ]
    }
   ],
   "source": [
    "df_w = df.set_index([df.index.weekday, df.index])\n",
    "print(df_w)"
   ]
  },
  {
   "cell_type": "code",
   "execution_count": 12,
   "metadata": {},
   "outputs": [
    {
     "name": "stdout",
     "output_type": "stream",
     "text": [
      "                    val_1  val_2\n",
      "weekday date                    \n",
      "2       2017-11-01     65     76\n",
      "1       2017-11-07     26     66\n",
      "5       2017-11-18     47     47\n",
      "0       2017-11-27     20     38\n",
      "1       2017-12-05     65     85\n",
      "        2017-12-12      4     29\n",
      "4       2017-12-22     31     54\n",
      "        2017-12-29     21      8\n",
      "2       2018-01-03     98     76\n",
      "0       2018-01-08     48     64\n",
      "4       2018-01-19     18     48\n",
      "1       2018-01-23     86     70\n"
     ]
    }
   ],
   "source": [
    "df_w.index.names = ['weekday', 'date']\n",
    "print(df_w)"
   ]
  },
  {
   "cell_type": "code",
   "execution_count": 13,
   "metadata": {},
   "outputs": [
    {
     "name": "stdout",
     "output_type": "stream",
     "text": [
      "                    val_1  val_2\n",
      "weekday date                    \n",
      "0       2017-11-27     20     38\n",
      "        2018-01-08     48     64\n",
      "1       2017-11-07     26     66\n",
      "        2017-12-05     65     85\n",
      "        2017-12-12      4     29\n",
      "        2018-01-23     86     70\n",
      "2       2017-11-01     65     76\n",
      "        2018-01-03     98     76\n",
      "4       2017-12-22     31     54\n",
      "        2017-12-29     21      8\n",
      "        2018-01-19     18     48\n",
      "5       2017-11-18     47     47\n"
     ]
    }
   ],
   "source": [
    "df_w.sort_index(inplace=True)\n",
    "print(df_w)"
   ]
  },
  {
   "cell_type": "code",
   "execution_count": 14,
   "metadata": {},
   "outputs": [
    {
     "name": "stdout",
     "output_type": "stream",
     "text": [
      "val_1    529\n",
      "val_2    661\n",
      "dtype: int64\n"
     ]
    }
   ],
   "source": [
    "print(df_w.sum())"
   ]
  },
  {
   "cell_type": "code",
   "execution_count": 15,
   "metadata": {},
   "outputs": [
    {
     "name": "stdout",
     "output_type": "stream",
     "text": [
      "         val_1  val_2\n",
      "weekday              \n",
      "0           68    102\n",
      "1          181    250\n",
      "2          163    152\n",
      "4           70    110\n",
      "5           47     47\n"
     ]
    }
   ],
   "source": [
    "print(df_w.sum(level='weekday'))"
   ]
  },
  {
   "cell_type": "code",
   "execution_count": 16,
   "metadata": {},
   "outputs": [
    {
     "name": "stdout",
     "output_type": "stream",
     "text": [
      "             val_1      val_2\n",
      "weekday                      \n",
      "0        34.000000  51.000000\n",
      "1        45.250000  62.500000\n",
      "2        81.500000  76.000000\n",
      "4        23.333333  36.666667\n",
      "5        47.000000  47.000000\n"
     ]
    }
   ],
   "source": [
    "print(df_w.mean(level='weekday'))"
   ]
  },
  {
   "cell_type": "code",
   "execution_count": 17,
   "metadata": {},
   "outputs": [
    {
     "name": "stdout",
     "output_type": "stream",
     "text": [
      "        val_1            val_2           \n",
      "          sum       mean   sum       mean\n",
      "weekday                                  \n",
      "0          68  34.000000   102  51.000000\n",
      "1         181  45.250000   250  62.500000\n",
      "2         163  81.500000   152  76.000000\n",
      "4          70  23.333333   110  36.666667\n",
      "5          47  47.000000    47  47.000000\n"
     ]
    }
   ],
   "source": [
    "print(df_w.groupby(level='weekday').agg(['sum', 'mean']))"
   ]
  },
  {
   "cell_type": "code",
   "execution_count": 18,
   "metadata": {},
   "outputs": [
    {
     "name": "stdout",
     "output_type": "stream",
     "text": [
      "Int64Index([2017, 2017, 2017, 2017, 2017, 2017, 2017, 2017, 2018, 2018, 2018,\n",
      "            2018],\n",
      "           dtype='int64', name='date')\n"
     ]
    }
   ],
   "source": [
    "print(df.index.year)"
   ]
  },
  {
   "cell_type": "code",
   "execution_count": 19,
   "metadata": {},
   "outputs": [
    {
     "name": "stdout",
     "output_type": "stream",
     "text": [
      "                 val_1  val_2\n",
      "year date                    \n",
      "2017 2017-11-01     65     76\n",
      "     2017-11-07     26     66\n",
      "     2017-11-18     47     47\n",
      "     2017-11-27     20     38\n",
      "     2017-12-05     65     85\n",
      "     2017-12-12      4     29\n",
      "     2017-12-22     31     54\n",
      "     2017-12-29     21      8\n",
      "2018 2018-01-03     98     76\n",
      "     2018-01-08     48     64\n",
      "     2018-01-19     18     48\n",
      "     2018-01-23     86     70\n"
     ]
    }
   ],
   "source": [
    "df_y = df.set_index([df.index.year, df.index])\n",
    "df_y.index.names = ['year', 'date']\n",
    "print(df_y)"
   ]
  },
  {
   "cell_type": "code",
   "execution_count": 20,
   "metadata": {},
   "outputs": [
    {
     "name": "stdout",
     "output_type": "stream",
     "text": [
      "      val_1  val_2\n",
      "year              \n",
      "2017    279    403\n",
      "2018    250    258\n"
     ]
    }
   ],
   "source": [
    "print(df_y.sum(level='year'))"
   ]
  },
  {
   "cell_type": "code",
   "execution_count": 21,
   "metadata": {},
   "outputs": [
    {
     "name": "stdout",
     "output_type": "stream",
     "text": [
      "                    val_1  val_2\n",
      "quarter date                    \n",
      "4       2017-11-01     65     76\n",
      "        2017-11-07     26     66\n",
      "        2017-11-18     47     47\n",
      "        2017-11-27     20     38\n",
      "        2017-12-05     65     85\n",
      "        2017-12-12      4     29\n",
      "        2017-12-22     31     54\n",
      "        2017-12-29     21      8\n",
      "1       2018-01-03     98     76\n",
      "        2018-01-08     48     64\n",
      "        2018-01-19     18     48\n",
      "        2018-01-23     86     70\n"
     ]
    }
   ],
   "source": [
    "df_q = df.set_index([df.index.quarter, df.index])\n",
    "df_q.index.names = ['quarter', 'date']\n",
    "print(df_q)"
   ]
  },
  {
   "cell_type": "code",
   "execution_count": 22,
   "metadata": {},
   "outputs": [
    {
     "name": "stdout",
     "output_type": "stream",
     "text": [
      "         val_1  val_2\n",
      "quarter              \n",
      "4          279    403\n",
      "1          250    258\n"
     ]
    }
   ],
   "source": [
    "print(df_q.sum(level='quarter'))"
   ]
  },
  {
   "cell_type": "code",
   "execution_count": 23,
   "metadata": {},
   "outputs": [
    {
     "name": "stdout",
     "output_type": "stream",
     "text": [
      "                  val_1  val_2\n",
      "month date                    \n",
      "11    2017-11-01     65     76\n",
      "      2017-11-07     26     66\n",
      "      2017-11-18     47     47\n",
      "      2017-11-27     20     38\n",
      "12    2017-12-05     65     85\n",
      "      2017-12-12      4     29\n",
      "      2017-12-22     31     54\n",
      "      2017-12-29     21      8\n",
      "1     2018-01-03     98     76\n",
      "      2018-01-08     48     64\n",
      "      2018-01-19     18     48\n",
      "      2018-01-23     86     70\n"
     ]
    }
   ],
   "source": [
    "df_m = df.set_index([df.index.month, df.index])\n",
    "df_m.index.names = ['month', 'date']\n",
    "print(df_m)"
   ]
  },
  {
   "cell_type": "code",
   "execution_count": 24,
   "metadata": {},
   "outputs": [
    {
     "name": "stdout",
     "output_type": "stream",
     "text": [
      "       val_1  val_2\n",
      "month              \n",
      "11       158    227\n",
      "12       121    176\n",
      "1        250    258\n"
     ]
    }
   ],
   "source": [
    "print(df_m.sum(level='month'))"
   ]
  },
  {
   "cell_type": "code",
   "execution_count": 25,
   "metadata": {},
   "outputs": [
    {
     "name": "stdout",
     "output_type": "stream",
     "text": [
      "Index(['November', 'November', 'November', 'November', 'December', 'December',\n",
      "       'December', 'December', 'January', 'January', 'January', 'January'],\n",
      "      dtype='object', name='date')\n"
     ]
    }
   ],
   "source": [
    "print(df.index.month_name())"
   ]
  },
  {
   "cell_type": "code",
   "execution_count": 26,
   "metadata": {},
   "outputs": [
    {
     "name": "stdout",
     "output_type": "stream",
     "text": [
      "                 val_1  val_2\n",
      "week date                    \n",
      "44   2017-11-01     65     76\n",
      "45   2017-11-07     26     66\n",
      "46   2017-11-18     47     47\n",
      "48   2017-11-27     20     38\n",
      "49   2017-12-05     65     85\n",
      "50   2017-12-12      4     29\n",
      "51   2017-12-22     31     54\n",
      "52   2017-12-29     21      8\n",
      "1    2018-01-03     98     76\n",
      "2    2018-01-08     48     64\n",
      "3    2018-01-19     18     48\n",
      "4    2018-01-23     86     70\n"
     ]
    }
   ],
   "source": [
    "df_w2 = df.set_index([df.index.week, df.index])\n",
    "df_w2.index.names = ['week', 'date']\n",
    "print(df_w2)"
   ]
  },
  {
   "cell_type": "code",
   "execution_count": 27,
   "metadata": {},
   "outputs": [
    {
     "name": "stdout",
     "output_type": "stream",
     "text": [
      "      val_1  val_2\n",
      "week              \n",
      "44       65     76\n",
      "45       26     66\n",
      "46       47     47\n",
      "48       20     38\n",
      "49       65     85\n",
      "50        4     29\n",
      "51       31     54\n",
      "52       21      8\n",
      "1        98     76\n",
      "2        48     64\n",
      "3        18     48\n",
      "4        86     70\n"
     ]
    }
   ],
   "source": [
    "print(df_w2.sum(level='week'))"
   ]
  },
  {
   "cell_type": "code",
   "execution_count": 28,
   "metadata": {},
   "outputs": [
    {
     "name": "stdout",
     "output_type": "stream",
     "text": [
      "Int64Index([52, 1, 1, 1, 1, 1, 1], dtype='int64')\n"
     ]
    }
   ],
   "source": [
    "print(pd.date_range('2017-01-01', '2017-01-07').week)"
   ]
  },
  {
   "cell_type": "code",
   "execution_count": 29,
   "metadata": {},
   "outputs": [
    {
     "name": "stdout",
     "output_type": "stream",
     "text": [
      "Index(['Sunday', 'Monday', 'Tuesday', 'Wednesday', 'Thursday', 'Friday',\n",
      "       'Saturday'],\n",
      "      dtype='object')\n"
     ]
    }
   ],
   "source": [
    "print(pd.date_range('2017-01-01', '2017-01-07').day_name())"
   ]
  },
  {
   "cell_type": "code",
   "execution_count": 30,
   "metadata": {},
   "outputs": [
    {
     "name": "stdout",
     "output_type": "stream",
     "text": [
      "                         val_1  val_2\n",
      "year weekday date                    \n",
      "2017 0       2017-11-27     20     38\n",
      "     1       2017-11-07     26     66\n",
      "             2017-12-05     65     85\n",
      "             2017-12-12      4     29\n",
      "     2       2017-11-01     65     76\n",
      "     4       2017-12-22     31     54\n",
      "             2017-12-29     21      8\n",
      "     5       2017-11-18     47     47\n",
      "2018 0       2018-01-08     48     64\n",
      "     1       2018-01-23     86     70\n",
      "     2       2018-01-03     98     76\n",
      "     4       2018-01-19     18     48\n"
     ]
    }
   ],
   "source": [
    "df_yw = df.set_index([df.index.year, df.index.weekday, df.index])\n",
    "df_yw.index.names = ['year', 'weekday', 'date']\n",
    "df_yw.sort_index(inplace=True)\n",
    "print(df_yw)"
   ]
  },
  {
   "cell_type": "code",
   "execution_count": 31,
   "metadata": {},
   "outputs": [
    {
     "name": "stdout",
     "output_type": "stream",
     "text": [
      "         val_1  val_2\n",
      "weekday              \n",
      "0           68    102\n",
      "1          181    250\n",
      "2          163    152\n",
      "4           70    110\n",
      "5           47     47\n"
     ]
    }
   ],
   "source": [
    "print(df_yw.sum(level='weekday'))"
   ]
  },
  {
   "cell_type": "code",
   "execution_count": 32,
   "metadata": {},
   "outputs": [
    {
     "name": "stdout",
     "output_type": "stream",
     "text": [
      "              val_1  val_2\n",
      "year weekday              \n",
      "2017 0           20     38\n",
      "     1           95    180\n",
      "     2           65     76\n",
      "     4           52     62\n",
      "     5           47     47\n",
      "2018 0           48     64\n",
      "     1           86     70\n",
      "     2           98     76\n",
      "     4           18     48\n"
     ]
    }
   ],
   "source": [
    "print(df_yw.sum(level=['year', 'weekday']))"
   ]
  },
  {
   "cell_type": "code",
   "execution_count": 33,
   "metadata": {},
   "outputs": [
    {
     "name": "stdout",
     "output_type": "stream",
     "text": [
      "            val_1  val_2\n",
      "date                    \n",
      "2017-11-07     26     66\n",
      "2017-12-05     65     85\n",
      "2017-12-12      4     29\n"
     ]
    }
   ],
   "source": [
    "print(df_yw.loc[(2017, 1), :])"
   ]
  },
  {
   "cell_type": "code",
   "execution_count": 34,
   "metadata": {},
   "outputs": [
    {
     "name": "stdout",
     "output_type": "stream",
     "text": [
      "                 val_1  val_2\n",
      "year date                    \n",
      "2017 2017-11-07     26     66\n",
      "     2017-12-05     65     85\n",
      "     2017-12-12      4     29\n",
      "2018 2018-01-23     86     70\n"
     ]
    }
   ],
   "source": [
    "print(df_yw.xs(1, level='weekday'))"
   ]
  },
  {
   "cell_type": "code",
   "execution_count": 35,
   "metadata": {},
   "outputs": [
    {
     "name": "stdout",
     "output_type": "stream",
     "text": [
      "                         val_1  val_2\n",
      "year weekday date                    \n",
      "2017 0       2017-11-27     20     38\n",
      "     4       2017-12-22     31     54\n",
      "             2017-12-29     21      8\n"
     ]
    }
   ],
   "source": [
    "print(df_yw.loc[(2017, [0, 4]), :])"
   ]
  },
  {
   "cell_type": "code",
   "execution_count": 36,
   "metadata": {},
   "outputs": [
    {
     "name": "stdout",
     "output_type": "stream",
     "text": [
      "                         val_1  val_2\n",
      "year weekday date                    \n",
      "2017 0       2017-11-27     20     38\n",
      "     4       2017-12-22     31     54\n",
      "             2017-12-29     21      8\n",
      "2018 0       2018-01-08     48     64\n",
      "     4       2018-01-19     18     48\n"
     ]
    }
   ],
   "source": [
    "print(df_yw.loc[pd.IndexSlice[:, [0, 4]], :])"
   ]
  },
  {
   "cell_type": "code",
   "execution_count": 37,
   "metadata": {},
   "outputs": [
    {
     "name": "stdout",
     "output_type": "stream",
     "text": [
      "                                       val_1  val_2\n",
      "year quarter month weekday date                    \n",
      "2017 4       11    0       2017-11-27     20     38\n",
      "                   1       2017-11-07     26     66\n",
      "                   2       2017-11-01     65     76\n",
      "                   5       2017-11-18     47     47\n",
      "             12    1       2017-12-05     65     85\n",
      "                           2017-12-12      4     29\n",
      "                   4       2017-12-22     31     54\n",
      "                           2017-12-29     21      8\n",
      "2018 1       1     0       2018-01-08     48     64\n",
      "                   1       2018-01-23     86     70\n",
      "                   2       2018-01-03     98     76\n",
      "                   4       2018-01-19     18     48\n"
     ]
    }
   ],
   "source": [
    "df_yqmw = df.set_index([df.index.year, df.index.quarter, df.index.month, df.index.weekday, df.index])\n",
    "df_yqmw.index.names = ['year', 'quarter', 'month', 'weekday', 'date']\n",
    "df_yqmw.sort_index(inplace=True)\n",
    "print(df_yqmw)"
   ]
  },
  {
   "cell_type": "code",
   "execution_count": 38,
   "metadata": {},
   "outputs": [
    {
     "name": "stdout",
     "output_type": "stream",
     "text": [
      "       val_1  val_2\n",
      "month              \n",
      "11       158    227\n",
      "12       121    176\n",
      "1        250    258\n"
     ]
    }
   ],
   "source": [
    "print(df_yqmw.sum(level='month'))"
   ]
  },
  {
   "cell_type": "code",
   "execution_count": 39,
   "metadata": {},
   "outputs": [
    {
     "name": "stdout",
     "output_type": "stream",
     "text": [
      "         val_1  val_2\n",
      "weekday              \n",
      "0           68    102\n",
      "1          181    250\n",
      "2          163    152\n",
      "5           47     47\n",
      "4           70    110\n"
     ]
    }
   ],
   "source": [
    "print(df_yqmw.sum(level='weekday'))"
   ]
  },
  {
   "cell_type": "code",
   "execution_count": 40,
   "metadata": {},
   "outputs": [
    {
     "name": "stdout",
     "output_type": "stream",
     "text": [
      "                 val_1  val_2\n",
      "quarter weekday              \n",
      "4       0           20     38\n",
      "        1           95    180\n",
      "        2           65     76\n",
      "        5           47     47\n",
      "        4           52     62\n",
      "1       0           48     64\n",
      "        1           86     70\n",
      "        2           98     76\n",
      "        4           18     48\n"
     ]
    }
   ],
   "source": [
    "print(df_yqmw.sum(level=['quarter', 'weekday']))"
   ]
  },
  {
   "cell_type": "code",
   "execution_count": 41,
   "metadata": {},
   "outputs": [
    {
     "name": "stdout",
     "output_type": "stream",
     "text": [
      "                               val_1  val_2\n",
      "year quarter month date                    \n",
      "2017 4       11    2017-11-07     26     66\n",
      "             12    2017-12-05     65     85\n",
      "                   2017-12-12      4     29\n",
      "2018 1       1     2018-01-23     86     70\n"
     ]
    }
   ],
   "source": [
    "print(df_yqmw.xs(1, level='weekday'))"
   ]
  },
  {
   "cell_type": "code",
   "execution_count": 42,
   "metadata": {},
   "outputs": [
    {
     "name": "stdout",
     "output_type": "stream",
     "text": [
      "                          val_1  val_2\n",
      "quarter month date                    \n",
      "4       11    2017-11-07     26     66\n",
      "        12    2017-12-05     65     85\n",
      "              2017-12-12      4     29\n"
     ]
    }
   ],
   "source": [
    "print(df_yqmw.xs((1, 2017), level=('weekday', 'year')))"
   ]
  },
  {
   "cell_type": "code",
   "execution_count": 43,
   "metadata": {},
   "outputs": [
    {
     "name": "stdout",
     "output_type": "stream",
     "text": [
      "                                       val_1  val_2\n",
      "year quarter month weekday date                    \n",
      "2017 4       11    0       2017-11-27     20     38\n",
      "             12    4       2017-12-22     31     54\n",
      "                           2017-12-29     21      8\n"
     ]
    }
   ],
   "source": [
    "print(df_yqmw.loc[pd.IndexSlice[2017, :, :, [0, 4]], :])"
   ]
  }
 ],
 "metadata": {
  "kernelspec": {
   "display_name": "Python 3",
   "language": "python",
   "name": "python3"
  },
  "language_info": {
   "codemirror_mode": {
    "name": "ipython",
    "version": 3
   },
   "file_extension": ".py",
   "mimetype": "text/x-python",
   "name": "python",
   "nbconvert_exporter": "python",
   "pygments_lexer": "ipython3",
   "version": "3.7.7"
  }
 },
 "nbformat": 4,
 "nbformat_minor": 2
}
