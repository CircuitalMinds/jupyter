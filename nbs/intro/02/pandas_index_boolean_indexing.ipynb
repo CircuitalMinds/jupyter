{
 "cells": [
  {
   "cell_type": "code",
   "execution_count": 1,
   "metadata": {},
   "outputs": [],
   "source": [
    "import pandas as pd"
   ]
  },
  {
   "cell_type": "code",
   "execution_count": 2,
   "metadata": {},
   "outputs": [
    {
     "name": "stdout",
     "output_type": "stream",
     "text": [
      "1.4.1\n"
     ]
    }
   ],
   "source": [
    "print(pd.__version__)"
   ]
  },
  {
   "cell_type": "code",
   "execution_count": 3,
   "metadata": {},
   "outputs": [
    {
     "name": "stdout",
     "output_type": "stream",
     "text": [
      "         age state  point\n",
      "name                     \n",
      "Alice     24    NY     64\n",
      "Bob       42    CA     92\n",
      "Charlie   18    CA     70\n",
      "Dave      68    TX     70\n",
      "Ellen     24    CA     88\n",
      "Frank     30    NY     57\n"
     ]
    }
   ],
   "source": [
    "df = pd.read_csv('data/src/sample_pandas_normal.csv', index_col=0)\n",
    "print(df)"
   ]
  },
  {
   "cell_type": "code",
   "execution_count": 4,
   "metadata": {},
   "outputs": [
    {
     "name": "stdout",
     "output_type": "stream",
     "text": [
      "       age state  point\n",
      "name                   \n",
      "Alice   24    NY     64\n",
      "Dave    68    TX     70\n",
      "Ellen   24    CA     88\n"
     ]
    }
   ],
   "source": [
    "l_bool = [True, False, False, True, True, False]\n",
    "print(df[l_bool])"
   ]
  },
  {
   "cell_type": "code",
   "execution_count": 5,
   "metadata": {},
   "outputs": [],
   "source": [
    "# print(df[[True, False, False]])\n",
    "# ValueError: Item wrong length 3 instead of 6."
   ]
  },
  {
   "cell_type": "code",
   "execution_count": 6,
   "metadata": {},
   "outputs": [
    {
     "name": "stdout",
     "output_type": "stream",
     "text": [
      "Frank       True\n",
      "Ellen      False\n",
      "Dave       False\n",
      "Charlie     True\n",
      "Bob         True\n",
      "Alice      False\n",
      "dtype: bool\n"
     ]
    }
   ],
   "source": [
    "s_bool = pd.Series(l_bool, index=reversed(df.index))\n",
    "print(s_bool)"
   ]
  },
  {
   "cell_type": "code",
   "execution_count": 7,
   "metadata": {},
   "outputs": [
    {
     "name": "stdout",
     "output_type": "stream",
     "text": [
      "         age state  point\n",
      "name                     \n",
      "Bob       42    CA     92\n",
      "Charlie   18    CA     70\n",
      "Frank     30    NY     57\n"
     ]
    },
    {
     "name": "stderr",
     "output_type": "stream",
     "text": [
      "<ipython-input-7-6f680b648cc0>:1: UserWarning: Boolean Series key will be reindexed to match DataFrame index.\n",
      "  print(df[s_bool])\n"
     ]
    }
   ],
   "source": [
    "print(df[s_bool])"
   ]
  },
  {
   "cell_type": "code",
   "execution_count": 8,
   "metadata": {},
   "outputs": [],
   "source": [
    "s_bool_wrong = pd.Series(l_bool, index=['A', 'B', 'C', 'D', 'E', 'F'])"
   ]
  },
  {
   "cell_type": "code",
   "execution_count": 9,
   "metadata": {},
   "outputs": [],
   "source": [
    "# print(df[s_bool_wrong])\n",
    "# IndexingError: Unalignable boolean Series provided as indexer\n",
    "# (index of the boolean Series and of the indexed object do not match)."
   ]
  },
  {
   "cell_type": "code",
   "execution_count": 10,
   "metadata": {},
   "outputs": [
    {
     "name": "stdout",
     "output_type": "stream",
     "text": [
      "name\n",
      "Alice      24\n",
      "Bob        42\n",
      "Charlie    18\n",
      "Dave       68\n",
      "Ellen      24\n",
      "Frank      30\n",
      "Name: age, dtype: int64\n"
     ]
    }
   ],
   "source": [
    "s = df['age']\n",
    "print(s)"
   ]
  },
  {
   "cell_type": "code",
   "execution_count": 11,
   "metadata": {},
   "outputs": [
    {
     "name": "stdout",
     "output_type": "stream",
     "text": [
      "name\n",
      "Alice    24\n",
      "Dave     68\n",
      "Ellen    24\n",
      "Name: age, dtype: int64\n"
     ]
    }
   ],
   "source": [
    "l_bool = [True, False, False, True, True, False]\n",
    "print(s[l_bool])"
   ]
  },
  {
   "cell_type": "code",
   "execution_count": 12,
   "metadata": {},
   "outputs": [],
   "source": [
    "# print(s[[True, False, False]])\n",
    "# IndexError: Boolean index has wrong length: 3 instead of 6"
   ]
  },
  {
   "cell_type": "code",
   "execution_count": 13,
   "metadata": {},
   "outputs": [
    {
     "name": "stdout",
     "output_type": "stream",
     "text": [
      "Frank       True\n",
      "Ellen      False\n",
      "Dave       False\n",
      "Charlie     True\n",
      "Bob         True\n",
      "Alice      False\n",
      "dtype: bool\n"
     ]
    }
   ],
   "source": [
    "s_bool = pd.Series(l_bool, index=reversed(df.index))\n",
    "print(s_bool)"
   ]
  },
  {
   "cell_type": "code",
   "execution_count": 14,
   "metadata": {},
   "outputs": [
    {
     "name": "stdout",
     "output_type": "stream",
     "text": [
      "name\n",
      "Bob        42\n",
      "Charlie    18\n",
      "Frank      30\n",
      "Name: age, dtype: int64\n"
     ]
    }
   ],
   "source": [
    "print(s[s_bool])"
   ]
  },
  {
   "cell_type": "code",
   "execution_count": 15,
   "metadata": {},
   "outputs": [],
   "source": [
    "s_bool_wrong = pd.Series(l_bool, index=['A', 'B', 'C', 'D', 'E', 'F'])"
   ]
  },
  {
   "cell_type": "code",
   "execution_count": 16,
   "metadata": {},
   "outputs": [],
   "source": [
    "# print(s[s_bool_wrong])\n",
    "# IndexingError: Unalignable boolean Series provided as indexer\n",
    "# (index of the boolean Series and of the indexed object do not match)."
   ]
  }
 ],
 "metadata": {
  "kernelspec": {
   "display_name": "Python 3",
   "language": "python",
   "name": "python3"
  },
  "language_info": {
   "codemirror_mode": {
    "name": "ipython",
    "version": 3
   },
   "file_extension": ".py",
   "mimetype": "text/x-python",
   "name": "python",
   "nbconvert_exporter": "python",
   "pygments_lexer": "ipython3",
   "version": "3.9.12"
  }
 },
 "nbformat": 4,
 "nbformat_minor": 4
}
