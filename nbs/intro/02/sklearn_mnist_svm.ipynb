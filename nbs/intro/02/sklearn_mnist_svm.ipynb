{
 "cells": [
  {
   "cell_type": "code",
   "execution_count": 1,
   "metadata": {
    "collapsed": true
   },
   "outputs": [],
   "source": [
    "from sklearn import datasets, model_selection, svm, metrics"
   ]
  },
  {
   "cell_type": "code",
   "execution_count": 2,
   "metadata": {
    "collapsed": true
   },
   "outputs": [],
   "source": [
    "mnist = datasets.fetch_mldata('MNIST original', data_home='data/src/download/')"
   ]
  },
  {
   "cell_type": "code",
   "execution_count": 3,
   "metadata": {},
   "outputs": [
    {
     "name": "stdout",
     "output_type": "stream",
     "text": [
      "<class 'sklearn.datasets.base.Bunch'>\n",
      "dict_keys(['DESCR', 'COL_NAMES', 'target', 'data'])\n"
     ]
    }
   ],
   "source": [
    "print(type(mnist))\n",
    "print(mnist.keys())"
   ]
  },
  {
   "cell_type": "code",
   "execution_count": 4,
   "metadata": {
    "collapsed": true
   },
   "outputs": [],
   "source": [
    "mnist_data = mnist.data / 255\n",
    "mnist_label = mnist.target"
   ]
  },
  {
   "cell_type": "code",
   "execution_count": 5,
   "metadata": {},
   "outputs": [
    {
     "name": "stdout",
     "output_type": "stream",
     "text": [
      "(70000, 784)\n",
      "(70000,)\n"
     ]
    }
   ],
   "source": [
    "print(mnist_data.shape)\n",
    "print(mnist_label.shape)"
   ]
  },
  {
   "cell_type": "code",
   "execution_count": 6,
   "metadata": {},
   "outputs": [
    {
     "name": "stdout",
     "output_type": "stream",
     "text": [
      "0.77\n"
     ]
    }
   ],
   "source": [
    "train_size = 500\n",
    "test_size = 100\n",
    "data_train, data_test, label_train, label_test = model_selection.train_test_split(mnist_data, mnist_label, test_size=test_size, train_size=train_size)\n",
    "\n",
    "clf = svm.SVC()\n",
    "clf.fit(data_train, label_train)\n",
    "pre = clf.predict(data_test)\n",
    "\n",
    "ac_score = metrics.accuracy_score(label_test, pre)\n",
    "print(ac_score)"
   ]
  },
  {
   "cell_type": "code",
   "execution_count": 7,
   "metadata": {
    "collapsed": true
   },
   "outputs": [],
   "source": [
    "import timeit\n",
    "\n",
    "num = 10\n",
    "\n",
    "train_size = 500\n",
    "test_size = 100\n",
    "data_train, data_test, label_train, label_test = model_selection.train_test_split(mnist_data, mnist_label, test_size=test_size, train_size=train_size)"
   ]
  },
  {
   "cell_type": "code",
   "execution_count": 8,
   "metadata": {},
   "outputs": [
    {
     "name": "stdout",
     "output_type": "stream",
     "text": [
      "0.3631532890023664\n",
      "0.73\n"
     ]
    }
   ],
   "source": [
    "clf = svm.SVC()\n",
    "print(timeit.timeit(lambda: clf.fit(data_train, label_train), number=num) / num)\n",
    "pre = clf.predict(data_test)\n",
    "ac_score = metrics.accuracy_score(label_test, pre)\n",
    "print(ac_score)"
   ]
  },
  {
   "cell_type": "code",
   "execution_count": 9,
   "metadata": {},
   "outputs": [
    {
     "name": "stdout",
     "output_type": "stream",
     "text": [
      "0.10481857029953971\n",
      "0.76\n"
     ]
    }
   ],
   "source": [
    "clf = svm.LinearSVC()\n",
    "print(timeit.timeit(lambda: clf.fit(data_train, label_train), number=num) / num)\n",
    "pre = clf.predict(data_test)\n",
    "ac_score = metrics.accuracy_score(label_test, pre)\n",
    "print(ac_score)"
   ]
  },
  {
   "cell_type": "code",
   "execution_count": 10,
   "metadata": {},
   "outputs": [
    {
     "name": "stdout",
     "output_type": "stream",
     "text": [
      "5.980748841702007\n",
      "0.8945\n"
     ]
    }
   ],
   "source": [
    "train_size = 10000\n",
    "test_size = 2000\n",
    "data_train, data_test, label_train, label_test = model_selection.train_test_split(mnist_data, mnist_label, test_size=test_size, train_size=train_size)\n",
    "\n",
    "clf = svm.LinearSVC()\n",
    "print(timeit.timeit(lambda: clf.fit(data_train, label_train), number=num) / num)\n",
    "pre = clf.predict(data_test)\n",
    "\n",
    "ac_score = metrics.accuracy_score(label_test, pre)\n",
    "print(ac_score)"
   ]
  },
  {
   "cell_type": "code",
   "execution_count": 11,
   "metadata": {},
   "outputs": [
    {
     "name": "stdout",
     "output_type": "stream",
     "text": [
      "[[186   0   0   2   1   1   0   1   2   0]\n",
      " [  0 210   1   0   1   2   2   1   3   0]\n",
      " [  1   3 192   8   2   6   2   3   5   3]\n",
      " [  1   1   7 163   0   6   1   1   7   2]\n",
      " [  1   0   1   0 166   1   2   2   1   6]\n",
      " [  5   3   1   6   5 168   7   3   6   3]\n",
      " [  1   0   4   0   1   4 170   0   3   0]\n",
      " [  1   1   3   2   2   0   0 196   0   6]\n",
      " [  0   4   3   3   3  13   1   1 162   6]\n",
      " [  2   1   0   2   5   2   0   6   2 176]]\n"
     ]
    }
   ],
   "source": [
    "co_mat = metrics.confusion_matrix(label_test, pre)\n",
    "print(co_mat)"
   ]
  }
 ],
 "metadata": {
  "kernelspec": {
   "display_name": "Python 3",
   "language": "python",
   "name": "python3"
  },
  "language_info": {
   "codemirror_mode": {
    "name": "ipython",
    "version": 3
   },
   "file_extension": ".py",
   "mimetype": "text/x-python",
   "name": "python",
   "nbconvert_exporter": "python",
   "pygments_lexer": "ipython3",
   "version": "3.6.2"
  }
 },
 "nbformat": 4,
 "nbformat_minor": 2
}
