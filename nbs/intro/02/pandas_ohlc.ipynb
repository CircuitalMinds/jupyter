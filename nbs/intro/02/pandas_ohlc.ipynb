{
 "cells": [
  {
   "cell_type": "code",
   "execution_count": 1,
   "metadata": {},
   "outputs": [],
   "source": [
    "import pandas as pd"
   ]
  },
  {
   "cell_type": "code",
   "execution_count": 2,
   "metadata": {},
   "outputs": [],
   "source": [
    "dates = pd.date_range('2018-08-01', '2018-08-31', freq='B')\n",
    "\n",
    "df = pd.DataFrame({'price': dates.day, 'volume': dates.day * 10}, index=dates)"
   ]
  },
  {
   "cell_type": "code",
   "execution_count": 3,
   "metadata": {},
   "outputs": [
    {
     "name": "stdout",
     "output_type": "stream",
     "text": [
      "            price  volume\n",
      "2018-08-01      1      10\n",
      "2018-08-02      2      20\n",
      "2018-08-03      3      30\n",
      "2018-08-06      6      60\n",
      "2018-08-07      7      70\n",
      "2018-08-08      8      80\n",
      "2018-08-09      9      90\n",
      "2018-08-10     10     100\n",
      "2018-08-13     13     130\n",
      "2018-08-14     14     140\n",
      "2018-08-15     15     150\n",
      "2018-08-16     16     160\n",
      "2018-08-17     17     170\n",
      "2018-08-20     20     200\n",
      "2018-08-21     21     210\n",
      "2018-08-22     22     220\n",
      "2018-08-23     23     230\n",
      "2018-08-24     24     240\n",
      "2018-08-27     27     270\n",
      "2018-08-28     28     280\n",
      "2018-08-29     29     290\n",
      "2018-08-30     30     300\n",
      "2018-08-31     31     310\n"
     ]
    }
   ],
   "source": [
    "print(df)"
   ]
  },
  {
   "cell_type": "code",
   "execution_count": 4,
   "metadata": {},
   "outputs": [
    {
     "name": "stdout",
     "output_type": "stream",
     "text": [
      "DatetimeIndex(['2018-08-01', '2018-08-02', '2018-08-03', '2018-08-06',\n",
      "               '2018-08-07', '2018-08-08', '2018-08-09', '2018-08-10',\n",
      "               '2018-08-13', '2018-08-14', '2018-08-15', '2018-08-16',\n",
      "               '2018-08-17', '2018-08-20', '2018-08-21', '2018-08-22',\n",
      "               '2018-08-23', '2018-08-24', '2018-08-27', '2018-08-28',\n",
      "               '2018-08-29', '2018-08-30', '2018-08-31'],\n",
      "              dtype='datetime64[ns]', freq='B')\n"
     ]
    }
   ],
   "source": [
    "print(df.index)"
   ]
  },
  {
   "cell_type": "code",
   "execution_count": 5,
   "metadata": {},
   "outputs": [
    {
     "name": "stdout",
     "output_type": "stream",
     "text": [
      "            open  high  low  close\n",
      "2018-08-05     1     3    1      3\n",
      "2018-08-12     6    10    6     10\n",
      "2018-08-19    13    17   13     17\n",
      "2018-08-26    20    24   20     24\n",
      "2018-09-02    27    31   27     31\n"
     ]
    }
   ],
   "source": [
    "print(df['price'].resample('W').ohlc())"
   ]
  },
  {
   "cell_type": "code",
   "execution_count": 6,
   "metadata": {},
   "outputs": [
    {
     "name": "stdout",
     "output_type": "stream",
     "text": [
      "            open  high  low  close\n",
      "2018-07-30     1     3    1      3\n",
      "2018-08-06     6    10    6     10\n",
      "2018-08-13    13    17   13     17\n",
      "2018-08-20    20    24   20     24\n",
      "2018-08-27    27    31   27     31\n"
     ]
    }
   ],
   "source": [
    "print(df['price'].resample('W-MON', label='left', closed='left').ohlc())"
   ]
  },
  {
   "cell_type": "code",
   "execution_count": 7,
   "metadata": {},
   "outputs": [
    {
     "name": "stdout",
     "output_type": "stream",
     "text": [
      "2018-08-05      60\n",
      "2018-08-12     400\n",
      "2018-08-19     750\n",
      "2018-08-26    1100\n",
      "2018-09-02    1450\n",
      "Freq: W-SUN, Name: volume, dtype: int64\n"
     ]
    }
   ],
   "source": [
    "print(df['volume'].resample('W').sum())"
   ]
  },
  {
   "cell_type": "code",
   "execution_count": 8,
   "metadata": {},
   "outputs": [
    {
     "name": "stdout",
     "output_type": "stream",
     "text": [
      "2018-07-30      60\n",
      "2018-08-06     400\n",
      "2018-08-13     750\n",
      "2018-08-20    1100\n",
      "2018-08-27    1450\n",
      "Freq: W-MON, Name: volume, dtype: int64\n"
     ]
    }
   ],
   "source": [
    "print(df['volume'].resample('W-MON', label='left', closed='left').sum())"
   ]
  },
  {
   "cell_type": "code",
   "execution_count": 9,
   "metadata": {},
   "outputs": [
    {
     "name": "stdout",
     "output_type": "stream",
     "text": [
      "            open  high  low  close  volume\n",
      "2018-07-30     1     3    1      3      60\n",
      "2018-08-06     6    10    6     10     400\n",
      "2018-08-13    13    17   13     17     750\n",
      "2018-08-20    20    24   20     24    1100\n",
      "2018-08-27    27    31   27     31    1450\n"
     ]
    }
   ],
   "source": [
    "print(pd.concat([df['price'].resample('W-MON', label='left', closed='left').ohlc(),\n",
    "                 df['volume'].resample('W-MON', label='left', closed='left').sum()], axis=1))"
   ]
  },
  {
   "cell_type": "code",
   "execution_count": 10,
   "metadata": {},
   "outputs": [
    {
     "name": "stdout",
     "output_type": "stream",
     "text": [
      "            open  high  low  close  volume\n",
      "2018-07-30     1     3    1      3      60\n",
      "2018-08-06     6    10    6     10     400\n",
      "2018-08-13    13    17   13     17     750\n",
      "2018-08-20    20    24   20     24    1100\n",
      "2018-08-27    27    31   27     31    1450\n"
     ]
    }
   ],
   "source": [
    "print(df['price'].resample('W-MON', label='left', closed='left').ohlc()\n",
    "      .assign(volume=df['volume'].resample('W-MON', label='left', closed='left').sum()))"
   ]
  },
  {
   "cell_type": "code",
   "execution_count": 11,
   "metadata": {},
   "outputs": [
    {
     "name": "stdout",
     "output_type": "stream",
     "text": [
      "            open  high   low  close  volume\n",
      "2018-07-30   1.0   3.0   1.0    3.0     NaN\n",
      "2018-08-05   NaN   NaN   NaN    NaN    60.0\n",
      "2018-08-06   6.0  10.0   6.0   10.0     NaN\n",
      "2018-08-12   NaN   NaN   NaN    NaN   400.0\n",
      "2018-08-13  13.0  17.0  13.0   17.0     NaN\n",
      "2018-08-19   NaN   NaN   NaN    NaN   750.0\n",
      "2018-08-20  20.0  24.0  20.0   24.0     NaN\n",
      "2018-08-26   NaN   NaN   NaN    NaN  1100.0\n",
      "2018-08-27  27.0  31.0  27.0   31.0     NaN\n",
      "2018-09-02   NaN   NaN   NaN    NaN  1450.0\n"
     ]
    }
   ],
   "source": [
    "print(pd.concat([df['price'].resample('W-MON', label='left', closed='left').ohlc(),\n",
    "                 df['volume'].resample('W').sum()], axis=1))"
   ]
  },
  {
   "cell_type": "code",
   "execution_count": 12,
   "metadata": {},
   "outputs": [
    {
     "name": "stdout",
     "output_type": "stream",
     "text": [
      "            open  high  low  close  volume\n",
      "2018-07-30     1     3    1      3      60\n",
      "2018-08-06     6    10    6     10     400\n",
      "2018-08-13    13    17   13     17     750\n",
      "2018-08-20    20    24   20     24    1100\n",
      "2018-08-27    27    31   27     31    1450\n"
     ]
    }
   ],
   "source": [
    "print(df['price'].resample('W-MON', label='left', closed='left').ohlc()\n",
    "      .assign(volume=df['volume'].resample('W').sum().values))"
   ]
  }
 ],
 "metadata": {
  "kernelspec": {
   "display_name": "Python 3",
   "language": "python",
   "name": "python3"
  },
  "language_info": {
   "codemirror_mode": {
    "name": "ipython",
    "version": 3
   },
   "file_extension": ".py",
   "mimetype": "text/x-python",
   "name": "python",
   "nbconvert_exporter": "python",
   "pygments_lexer": "ipython3",
   "version": "3.7.0"
  }
 },
 "nbformat": 4,
 "nbformat_minor": 2
}
