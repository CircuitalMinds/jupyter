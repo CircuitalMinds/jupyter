{
 "cells": [
  {
   "cell_type": "code",
   "execution_count": 1,
   "metadata": {},
   "outputs": [],
   "source": [
    "import numpy as np"
   ]
  },
  {
   "cell_type": "code",
   "execution_count": 2,
   "metadata": {},
   "outputs": [
    {
     "name": "stdout",
     "output_type": "stream",
     "text": [
      "[[ 0  1  2  3]\n",
      " [ 4  5  6  7]\n",
      " [ 8  9 10 11]\n",
      " [12 13 14 15]]\n"
     ]
    }
   ],
   "source": [
    "a = np.arange(16).reshape(4, 4)\n",
    "print(a)"
   ]
  },
  {
   "cell_type": "code",
   "execution_count": 3,
   "metadata": {},
   "outputs": [
    {
     "name": "stdout",
     "output_type": "stream",
     "text": [
      "[[ 0  0  0  0]\n",
      " [ 4  5  0  0]\n",
      " [ 8  9 10  0]\n",
      " [12 13 14 15]]\n"
     ]
    }
   ],
   "source": [
    "print(np.tril(a))"
   ]
  },
  {
   "cell_type": "code",
   "execution_count": 4,
   "metadata": {},
   "outputs": [
    {
     "name": "stdout",
     "output_type": "stream",
     "text": [
      "[[ 0  1  2  0]\n",
      " [ 4  5  6  7]\n",
      " [ 8  9 10 11]\n",
      " [12 13 14 15]]\n"
     ]
    }
   ],
   "source": [
    "print(np.tril(a, k=2))"
   ]
  },
  {
   "cell_type": "code",
   "execution_count": 5,
   "metadata": {},
   "outputs": [
    {
     "name": "stdout",
     "output_type": "stream",
     "text": [
      "[[ 0  0  0  0]\n",
      " [ 4  0  0  0]\n",
      " [ 8  9  0  0]\n",
      " [12 13 14  0]]\n"
     ]
    }
   ],
   "source": [
    "print(np.tril(a, k=-1))"
   ]
  },
  {
   "cell_type": "code",
   "execution_count": 6,
   "metadata": {},
   "outputs": [
    {
     "name": "stdout",
     "output_type": "stream",
     "text": [
      "[[ 0  1  2  3]\n",
      " [ 4  5  6  7]\n",
      " [ 8  9 10 11]]\n"
     ]
    }
   ],
   "source": [
    "a = np.arange(12).reshape(3, 4)\n",
    "print(a)"
   ]
  },
  {
   "cell_type": "code",
   "execution_count": 7,
   "metadata": {},
   "outputs": [
    {
     "name": "stdout",
     "output_type": "stream",
     "text": [
      "[[ 0  0  0  0]\n",
      " [ 4  5  0  0]\n",
      " [ 8  9 10  0]]\n"
     ]
    }
   ],
   "source": [
    "print(np.tril(a))"
   ]
  },
  {
   "cell_type": "code",
   "execution_count": 8,
   "metadata": {},
   "outputs": [
    {
     "name": "stdout",
     "output_type": "stream",
     "text": [
      "[[0 0 0 0]\n",
      " [4 0 0 0]\n",
      " [8 9 0 0]]\n"
     ]
    }
   ],
   "source": [
    "print(np.tril(a, k=-1))"
   ]
  },
  {
   "cell_type": "code",
   "execution_count": 9,
   "metadata": {},
   "outputs": [
    {
     "name": "stdout",
     "output_type": "stream",
     "text": [
      "[[[ 0  0  0  0]\n",
      "  [ 4  5  0  0]\n",
      "  [ 8  9 10  0]\n",
      "  [12 13 14 15]]\n",
      "\n",
      " [[16  0  0  0]\n",
      "  [20 21  0  0]\n",
      "  [24 25 26  0]\n",
      "  [28 29 30 31]]]\n"
     ]
    }
   ],
   "source": [
    "print(np.tril(np.arange(32).reshape(2, 4, 4)))"
   ]
  },
  {
   "cell_type": "code",
   "execution_count": 10,
   "metadata": {},
   "outputs": [
    {
     "name": "stdout",
     "output_type": "stream",
     "text": [
      "[[[[ 0  0  0  0]\n",
      "   [ 4  5  0  0]\n",
      "   [ 8  9 10  0]\n",
      "   [12 13 14 15]]]]\n"
     ]
    }
   ],
   "source": [
    "print(np.tril(np.arange(16).reshape(1, 1, 4, 4)))"
   ]
  },
  {
   "cell_type": "code",
   "execution_count": 11,
   "metadata": {},
   "outputs": [
    {
     "name": "stdout",
     "output_type": "stream",
     "text": [
      "[[ 0  0  0  0]\n",
      " [ 4  5  0  0]\n",
      " [ 8  9 10  0]\n",
      " [12 13 14 15]]\n"
     ]
    }
   ],
   "source": [
    "a_tril = np.tril(np.arange(16).reshape(4, 4))\n",
    "print(a_tril)"
   ]
  },
  {
   "cell_type": "code",
   "execution_count": 12,
   "metadata": {},
   "outputs": [
    {
     "name": "stdout",
     "output_type": "stream",
     "text": [
      "[[ 0  4  8 12]\n",
      " [ 0  5  9 13]\n",
      " [ 0  0 10 14]\n",
      " [ 0  0  0 15]]\n"
     ]
    }
   ],
   "source": [
    "print(a_tril.T)"
   ]
  },
  {
   "cell_type": "code",
   "execution_count": 13,
   "metadata": {},
   "outputs": [
    {
     "name": "stdout",
     "output_type": "stream",
     "text": [
      "[[ 0  0  0  0]\n",
      " [ 4  5  0  0]\n",
      " [ 8  9 10  0]\n",
      " [12 13 14 15]]\n"
     ]
    }
   ],
   "source": [
    "print(a_tril.T.T)"
   ]
  }
 ],
 "metadata": {
  "kernelspec": {
   "display_name": "Python 3",
   "language": "python",
   "name": "python3"
  },
  "language_info": {
   "codemirror_mode": {
    "name": "ipython",
    "version": 3
   },
   "file_extension": ".py",
   "mimetype": "text/x-python",
   "name": "python",
   "nbconvert_exporter": "python",
   "pygments_lexer": "ipython3",
   "version": "3.7.6"
  }
 },
 "nbformat": 4,
 "nbformat_minor": 2
}
