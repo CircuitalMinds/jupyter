{
 "cells": [
  {
   "cell_type": "code",
   "execution_count": 1,
   "metadata": {
    "collapsed": true
   },
   "outputs": [],
   "source": [
    "import pandas as pd\n",
    "import numpy as np"
   ]
  },
  {
   "cell_type": "code",
   "execution_count": 2,
   "metadata": {},
   "outputs": [
    {
     "name": "stdout",
     "output_type": "stream",
     "text": [
      "0.23.0\n"
     ]
    }
   ],
   "source": [
    "print(pd.__version__)"
   ]
  },
  {
   "cell_type": "code",
   "execution_count": 3,
   "metadata": {},
   "outputs": [
    {
     "name": "stdout",
     "output_type": "stream",
     "text": [
      "6\n"
     ]
    }
   ],
   "source": [
    "print(pd.options.display.precision)"
   ]
  },
  {
   "cell_type": "code",
   "execution_count": 4,
   "metadata": {
    "collapsed": true
   },
   "outputs": [],
   "source": [
    "s_decimal = pd.Series([123.456, 12.3456, 1.23456, 0.123456, 0.0123456, 0.00123456])"
   ]
  },
  {
   "cell_type": "code",
   "execution_count": 5,
   "metadata": {},
   "outputs": [
    {
     "name": "stdout",
     "output_type": "stream",
     "text": [
      "0    123.456000\n",
      "1     12.345600\n",
      "2      1.234560\n",
      "3      0.123456\n",
      "4      0.012346\n",
      "5      0.001235\n",
      "dtype: float64\n"
     ]
    }
   ],
   "source": [
    "print(s_decimal)"
   ]
  },
  {
   "cell_type": "code",
   "execution_count": 6,
   "metadata": {},
   "outputs": [
    {
     "name": "stdout",
     "output_type": "stream",
     "text": [
      "0.00123456\n"
     ]
    }
   ],
   "source": [
    "print(s_decimal[5])"
   ]
  },
  {
   "cell_type": "code",
   "execution_count": 7,
   "metadata": {},
   "outputs": [
    {
     "name": "stdout",
     "output_type": "stream",
     "text": [
      "0    123.4560\n",
      "1     12.3456\n",
      "2      1.2346\n",
      "3      0.1235\n",
      "4      0.0123\n",
      "5      0.0012\n",
      "dtype: float64\n"
     ]
    }
   ],
   "source": [
    "pd.options.display.precision = 4\n",
    "\n",
    "print(s_decimal)"
   ]
  },
  {
   "cell_type": "code",
   "execution_count": 8,
   "metadata": {},
   "outputs": [
    {
     "name": "stdout",
     "output_type": "stream",
     "text": [
      "0    1.23e+02\n",
      "1    1.23e+01\n",
      "2    1.23e+00\n",
      "3    1.23e-01\n",
      "4    1.23e-02\n",
      "5    1.23e-03\n",
      "dtype: float64\n"
     ]
    }
   ],
   "source": [
    "pd.options.display.precision = 2\n",
    "\n",
    "print(s_decimal)"
   ]
  },
  {
   "cell_type": "code",
   "execution_count": 9,
   "metadata": {},
   "outputs": [
    {
     "name": "stdout",
     "output_type": "stream",
     "text": [
      "None\n"
     ]
    }
   ],
   "source": [
    "print(pd.options.display.float_format)"
   ]
  },
  {
   "cell_type": "code",
   "execution_count": 10,
   "metadata": {},
   "outputs": [
    {
     "name": "stdout",
     "output_type": "stream",
     "text": [
      "0   123.46\n",
      "1    12.35\n",
      "2     1.23\n",
      "3     0.12\n",
      "4     0.01\n",
      "5     0.00\n",
      "dtype: float64\n"
     ]
    }
   ],
   "source": [
    "pd.options.display.float_format = '{:.2f}'.format\n",
    "\n",
    "print(s_decimal)"
   ]
  },
  {
   "cell_type": "code",
   "execution_count": 11,
   "metadata": {},
   "outputs": [
    {
     "name": "stdout",
     "output_type": "stream",
     "text": [
      "0      123.5\n",
      "1      12.35\n",
      "2      1.235\n",
      "3     0.1235\n",
      "4    0.01235\n",
      "5   0.001235\n",
      "dtype: float64\n"
     ]
    }
   ],
   "source": [
    "pd.options.display.float_format = '{:.4g}'.format\n",
    "\n",
    "print(s_decimal)"
   ]
  },
  {
   "cell_type": "code",
   "execution_count": 12,
   "metadata": {},
   "outputs": [
    {
     "name": "stdout",
     "output_type": "stream",
     "text": [
      "0   1.2346e+02\n",
      "1   1.2346e+01\n",
      "2   1.2346e+00\n",
      "3   1.2346e-01\n",
      "4   1.2346e-02\n",
      "5   1.2346e-03\n",
      "dtype: float64\n"
     ]
    }
   ],
   "source": [
    "pd.options.display.float_format = '{:.4e}'.format\n",
    "\n",
    "print(s_decimal)"
   ]
  },
  {
   "cell_type": "code",
   "execution_count": 13,
   "metadata": {},
   "outputs": [
    {
     "name": "stdout",
     "output_type": "stream",
     "text": [
      "0   12345.60% \n",
      "1   1234.56%  \n",
      "2   123.46%   \n",
      "3   12.35%    \n",
      "4   1.23%     \n",
      "5   0.12%     \n",
      "dtype: float64\n"
     ]
    }
   ],
   "source": [
    "pd.options.display.float_format = '{: <10.2%}'.format\n",
    "\n",
    "print(s_decimal)"
   ]
  },
  {
   "cell_type": "code",
   "execution_count": 14,
   "metadata": {
    "collapsed": true
   },
   "outputs": [],
   "source": [
    "df_decimal = pd.DataFrame({'s': ['0.4', '0.5', '0.6', '1.4', '1.5', '1.6'],\n",
    "                           'f': [0.4, 0.5, 0.6, 1.4, 1.5, 1.6]})"
   ]
  },
  {
   "cell_type": "code",
   "execution_count": 15,
   "metadata": {},
   "outputs": [
    {
     "name": "stdout",
     "output_type": "stream",
     "text": [
      "     s  f\n",
      "0  0.4  0\n",
      "1  0.5  0\n",
      "2  0.6  1\n",
      "3  1.4  1\n",
      "4  1.5  2\n",
      "5  1.6  2\n"
     ]
    }
   ],
   "source": [
    "pd.options.display.float_format = '{:.0f}'.format\n",
    "\n",
    "print(df_decimal)"
   ]
  },
  {
   "cell_type": "code",
   "execution_count": 16,
   "metadata": {
    "collapsed": true
   },
   "outputs": [],
   "source": [
    "df_decimal2 = pd.DataFrame({'s': ['0.04', '0.05', '0.06', '0.14', '0.15', '0.16'],\n",
    "                            'f': [0.04, 0.05, 0.06, 0.14, 0.15, 0.16]})"
   ]
  },
  {
   "cell_type": "code",
   "execution_count": 17,
   "metadata": {},
   "outputs": [
    {
     "name": "stdout",
     "output_type": "stream",
     "text": [
      "      s   f\n",
      "0  0.04 0.0\n",
      "1  0.05 0.1\n",
      "2  0.06 0.1\n",
      "3  0.14 0.1\n",
      "4  0.15 0.1\n",
      "5  0.16 0.2\n"
     ]
    }
   ],
   "source": [
    "pd.options.display.float_format = '{:.1f}'.format\n",
    "\n",
    "print(df_decimal2)"
   ]
  },
  {
   "cell_type": "code",
   "execution_count": 18,
   "metadata": {},
   "outputs": [
    {
     "name": "stdout",
     "output_type": "stream",
     "text": [
      "60\n"
     ]
    }
   ],
   "source": [
    "print(pd.options.display.max_rows)"
   ]
  },
  {
   "cell_type": "code",
   "execution_count": 19,
   "metadata": {
    "collapsed": true
   },
   "outputs": [],
   "source": [
    "df_tall = pd.DataFrame(np.arange(300).reshape((100, 3)))"
   ]
  },
  {
   "cell_type": "code",
   "execution_count": 20,
   "metadata": {},
   "outputs": [
    {
     "name": "stdout",
     "output_type": "stream",
     "text": [
      "      0    1    2\n",
      "0     0    1    2\n",
      "1     3    4    5\n",
      "2     6    7    8\n",
      "3     9   10   11\n",
      "4    12   13   14\n",
      "..  ...  ...  ...\n",
      "95  285  286  287\n",
      "96  288  289  290\n",
      "97  291  292  293\n",
      "98  294  295  296\n",
      "99  297  298  299\n",
      "\n",
      "[100 rows x 3 columns]\n"
     ]
    }
   ],
   "source": [
    "pd.options.display.max_rows = 10\n",
    "\n",
    "print(df_tall)"
   ]
  },
  {
   "cell_type": "code",
   "execution_count": 21,
   "metadata": {},
   "outputs": [
    {
     "name": "stdout",
     "output_type": "stream",
     "text": [
      "    0   1   2\n",
      "0   0   1   2\n",
      "1   3   4   5\n",
      "2   6   7   8\n",
      "3   9  10  11\n",
      "4  12  13  14\n",
      "5  15  16  17\n",
      "6  18  19  20\n",
      "7  21  22  23\n",
      "8  24  25  26\n",
      "9  27  28  29\n"
     ]
    }
   ],
   "source": [
    "print(df_tall.head(10))"
   ]
  },
  {
   "cell_type": "code",
   "execution_count": 22,
   "metadata": {},
   "outputs": [
    {
     "name": "stdout",
     "output_type": "stream",
     "text": [
      "     0   1   2\n",
      "0    0   1   2\n",
      "1    3   4   5\n",
      "2    6   7   8\n",
      "3    9  10  11\n",
      "4   12  13  14\n",
      "..  ..  ..  ..\n",
      "15  45  46  47\n",
      "16  48  49  50\n",
      "17  51  52  53\n",
      "18  54  55  56\n",
      "19  57  58  59\n",
      "\n",
      "[20 rows x 3 columns]\n"
     ]
    }
   ],
   "source": [
    "print(df_tall.head(20))"
   ]
  },
  {
   "cell_type": "code",
   "execution_count": 23,
   "metadata": {
    "collapsed": true
   },
   "outputs": [],
   "source": [
    "pd.options.display.max_rows = None"
   ]
  },
  {
   "cell_type": "code",
   "execution_count": 24,
   "metadata": {},
   "outputs": [
    {
     "name": "stdout",
     "output_type": "stream",
     "text": [
      "20\n"
     ]
    }
   ],
   "source": [
    "print(pd.options.display.max_columns)"
   ]
  },
  {
   "cell_type": "code",
   "execution_count": 25,
   "metadata": {
    "collapsed": true
   },
   "outputs": [],
   "source": [
    "df_wide = pd.DataFrame(np.arange(90).reshape((3, 30)))"
   ]
  },
  {
   "cell_type": "code",
   "execution_count": 26,
   "metadata": {
    "scrolled": true
   },
   "outputs": [
    {
     "name": "stdout",
     "output_type": "stream",
     "text": [
      "   0   1   2   3   4   5   6   7   8   9  ...  20  21  22  23  24  25  26  27  \\\n",
      "0   0   1   2   3   4   5   6   7   8   9 ...  20  21  22  23  24  25  26  27   \n",
      "1  30  31  32  33  34  35  36  37  38  39 ...  50  51  52  53  54  55  56  57   \n",
      "2  60  61  62  63  64  65  66  67  68  69 ...  80  81  82  83  84  85  86  87   \n",
      "\n",
      "   28  29  \n",
      "0  28  29  \n",
      "1  58  59  \n",
      "2  88  89  \n",
      "\n",
      "[3 rows x 30 columns]\n"
     ]
    }
   ],
   "source": [
    "print(df_wide)"
   ]
  },
  {
   "cell_type": "code",
   "execution_count": 27,
   "metadata": {},
   "outputs": [
    {
     "name": "stdout",
     "output_type": "stream",
     "text": [
      "   0   1   2   3   4  ...  25  26  27  28  29\n",
      "0   0   1   2   3   4 ...  25  26  27  28  29\n",
      "1  30  31  32  33  34 ...  55  56  57  58  59\n",
      "2  60  61  62  63  64 ...  85  86  87  88  89\n",
      "\n",
      "[3 rows x 30 columns]\n"
     ]
    }
   ],
   "source": [
    "pd.options.display.max_columns = 10\n",
    "\n",
    "print(df_wide)"
   ]
  },
  {
   "cell_type": "code",
   "execution_count": 28,
   "metadata": {},
   "outputs": [
    {
     "name": "stdout",
     "output_type": "stream",
     "text": [
      "   0   1   2   3   4   5   6   7   8   9   10  11  12  13  14  15  16  17  18  \\\n",
      "0   0   1   2   3   4   5   6   7   8   9  10  11  12  13  14  15  16  17  18   \n",
      "1  30  31  32  33  34  35  36  37  38  39  40  41  42  43  44  45  46  47  48   \n",
      "2  60  61  62  63  64  65  66  67  68  69  70  71  72  73  74  75  76  77  78   \n",
      "\n",
      "   19  20  21  22  23  24  25  26  27  28  29  \n",
      "0  19  20  21  22  23  24  25  26  27  28  29  \n",
      "1  49  50  51  52  53  54  55  56  57  58  59  \n",
      "2  79  80  81  82  83  84  85  86  87  88  89  \n"
     ]
    }
   ],
   "source": [
    "pd.options.display.max_columns = None\n",
    "\n",
    "print(df_wide)"
   ]
  },
  {
   "cell_type": "code",
   "execution_count": 29,
   "metadata": {},
   "outputs": [
    {
     "name": "stdout",
     "output_type": "stream",
     "text": [
      "truncate\n"
     ]
    }
   ],
   "source": [
    "print(pd.options.display.show_dimensions)"
   ]
  },
  {
   "cell_type": "code",
   "execution_count": 30,
   "metadata": {},
   "outputs": [
    {
     "name": "stdout",
     "output_type": "stream",
     "text": [
      "   0   1   2   3   4  ...  25  26  27  28  29\n",
      "0   0   1   2   3   4 ...  25  26  27  28  29\n",
      "1  30  31  32  33  34 ...  55  56  57  58  59\n",
      "2  60  61  62  63  64 ...  85  86  87  88  89\n",
      "\n",
      "[3 rows x 30 columns]\n"
     ]
    }
   ],
   "source": [
    "pd.options.display.max_columns = 10\n",
    "\n",
    "print(df_wide)"
   ]
  },
  {
   "cell_type": "code",
   "execution_count": 31,
   "metadata": {},
   "outputs": [
    {
     "name": "stdout",
     "output_type": "stream",
     "text": [
      "   0  1   2   3\n",
      "0  0  1   2   3\n",
      "1  4  5   6   7\n",
      "2  8  9  10  11\n"
     ]
    }
   ],
   "source": [
    "df = pd.DataFrame(np.arange(12).reshape((3, 4)))\n",
    "                  \n",
    "print(df)"
   ]
  },
  {
   "cell_type": "code",
   "execution_count": 32,
   "metadata": {},
   "outputs": [
    {
     "name": "stdout",
     "output_type": "stream",
     "text": [
      "   0   1   2   3   4  ...  25  26  27  28  29\n",
      "0   0   1   2   3   4 ...  25  26  27  28  29\n",
      "1  30  31  32  33  34 ...  55  56  57  58  59\n",
      "2  60  61  62  63  64 ...  85  86  87  88  89\n",
      "\n",
      "[3 rows x 30 columns]\n"
     ]
    }
   ],
   "source": [
    "pd.options.display.show_dimensions = True\n",
    "\n",
    "print(df_wide)"
   ]
  },
  {
   "cell_type": "code",
   "execution_count": 33,
   "metadata": {},
   "outputs": [
    {
     "name": "stdout",
     "output_type": "stream",
     "text": [
      "   0  1   2   3\n",
      "0  0  1   2   3\n",
      "1  4  5   6   7\n",
      "2  8  9  10  11\n",
      "\n",
      "[3 rows x 4 columns]\n"
     ]
    }
   ],
   "source": [
    "print(df)"
   ]
  },
  {
   "cell_type": "code",
   "execution_count": 34,
   "metadata": {},
   "outputs": [
    {
     "name": "stdout",
     "output_type": "stream",
     "text": [
      "   0   1   2   3   4  ...  25  26  27  28  29\n",
      "0   0   1   2   3   4 ...  25  26  27  28  29\n",
      "1  30  31  32  33  34 ...  55  56  57  58  59\n",
      "2  60  61  62  63  64 ...  85  86  87  88  89\n"
     ]
    }
   ],
   "source": [
    "pd.options.display.show_dimensions = False\n",
    "\n",
    "print(df_wide)"
   ]
  },
  {
   "cell_type": "code",
   "execution_count": 35,
   "metadata": {},
   "outputs": [
    {
     "name": "stdout",
     "output_type": "stream",
     "text": [
      "   0  1   2   3\n",
      "0  0  1   2   3\n",
      "1  4  5   6   7\n",
      "2  8  9  10  11\n"
     ]
    }
   ],
   "source": [
    "print(df)"
   ]
  },
  {
   "cell_type": "code",
   "execution_count": 36,
   "metadata": {},
   "outputs": [
    {
     "name": "stdout",
     "output_type": "stream",
     "text": [
      "80\n"
     ]
    }
   ],
   "source": [
    "print(pd.options.display.width)"
   ]
  },
  {
   "cell_type": "code",
   "execution_count": 37,
   "metadata": {},
   "outputs": [
    {
     "name": "stdout",
     "output_type": "stream",
     "text": [
      "   0   1   2   3   4   5   6   7   8   9   10  11  12  13  14  15  16  17  18  \\\n",
      "0   0   1   2   3   4   5   6   7   8   9  10  11  12  13  14  15  16  17  18   \n",
      "1  30  31  32  33  34  35  36  37  38  39  40  41  42  43  44  45  46  47  48   \n",
      "2  60  61  62  63  64  65  66  67  68  69  70  71  72  73  74  75  76  77  78   \n",
      "\n",
      "   19  20  21  22  23  24  25  26  27  28  29  \n",
      "0  19  20  21  22  23  24  25  26  27  28  29  \n",
      "1  49  50  51  52  53  54  55  56  57  58  59  \n",
      "2  79  80  81  82  83  84  85  86  87  88  89  \n"
     ]
    }
   ],
   "source": [
    "pd.options.display.max_columns = None\n",
    "\n",
    "print(df_wide)"
   ]
  },
  {
   "cell_type": "code",
   "execution_count": 38,
   "metadata": {},
   "outputs": [
    {
     "name": "stdout",
     "output_type": "stream",
     "text": [
      "   0   1   2   3   4   5   6   7   8   9   10  11  12  13  \\\n",
      "0   0   1   2   3   4   5   6   7   8   9  10  11  12  13   \n",
      "1  30  31  32  33  34  35  36  37  38  39  40  41  42  43   \n",
      "2  60  61  62  63  64  65  66  67  68  69  70  71  72  73   \n",
      "\n",
      "   14  15  16  17  18  19  20  21  22  23  24  25  26  27  \\\n",
      "0  14  15  16  17  18  19  20  21  22  23  24  25  26  27   \n",
      "1  44  45  46  47  48  49  50  51  52  53  54  55  56  57   \n",
      "2  74  75  76  77  78  79  80  81  82  83  84  85  86  87   \n",
      "\n",
      "   28  29  \n",
      "0  28  29  \n",
      "1  58  59  \n",
      "2  88  89  \n"
     ]
    }
   ],
   "source": [
    "pd.options.display.width = 60\n",
    "\n",
    "print(df_wide)"
   ]
  },
  {
   "cell_type": "code",
   "execution_count": 39,
   "metadata": {},
   "outputs": [
    {
     "name": "stdout",
     "output_type": "stream",
     "text": [
      "   0   1   2   3   4   5   6   7   8   9   10  11  12  13  14  15  16  17  18  \\\n",
      "0   0   1   2   3   4   5   6   7   8   9  10  11  12  13  14  15  16  17  18   \n",
      "1  30  31  32  33  34  35  36  37  38  39  40  41  42  43  44  45  46  47  48   \n",
      "2  60  61  62  63  64  65  66  67  68  69  70  71  72  73  74  75  76  77  78   \n",
      "\n",
      "   19  20  21  22  23  24  25  26  27  28  29  \n",
      "0  19  20  21  22  23  24  25  26  27  28  29  \n",
      "1  49  50  51  52  53  54  55  56  57  58  59  \n",
      "2  79  80  81  82  83  84  85  86  87  88  89  \n"
     ]
    }
   ],
   "source": [
    "pd.options.display.width = None\n",
    "\n",
    "print(df_wide)"
   ]
  },
  {
   "cell_type": "code",
   "execution_count": 40,
   "metadata": {},
   "outputs": [
    {
     "name": "stdout",
     "output_type": "stream",
     "text": [
      "50\n"
     ]
    }
   ],
   "source": [
    "print(pd.options.display.max_colwidth)"
   ]
  },
  {
   "cell_type": "code",
   "execution_count": 41,
   "metadata": {
    "collapsed": true
   },
   "outputs": [],
   "source": [
    "df_long_col = pd.DataFrame({'col': ['a' * 10, 'a' * 30, 'a' * 60]})"
   ]
  },
  {
   "cell_type": "code",
   "execution_count": 42,
   "metadata": {},
   "outputs": [
    {
     "name": "stdout",
     "output_type": "stream",
     "text": [
      "                                                 col\n",
      "0                                         aaaaaaaaaa\n",
      "1                     aaaaaaaaaaaaaaaaaaaaaaaaaaaaaa\n",
      "2  aaaaaaaaaaaaaaaaaaaaaaaaaaaaaaaaaaaaaaaaaaaaaa...\n"
     ]
    }
   ],
   "source": [
    "print(df_long_col)"
   ]
  },
  {
   "cell_type": "code",
   "execution_count": 43,
   "metadata": {},
   "outputs": [
    {
     "name": "stdout",
     "output_type": "stream",
     "text": [
      "                                                            col\n",
      "0                                                    aaaaaaaaaa\n",
      "1                                aaaaaaaaaaaaaaaaaaaaaaaaaaaaaa\n",
      "2  aaaaaaaaaaaaaaaaaaaaaaaaaaaaaaaaaaaaaaaaaaaaaaaaaaaaaaaaaaaa\n"
     ]
    }
   ],
   "source": [
    "pd.options.display.max_colwidth = 80\n",
    "\n",
    "print(df_long_col)"
   ]
  },
  {
   "cell_type": "code",
   "execution_count": 44,
   "metadata": {},
   "outputs": [
    {
     "name": "stdout",
     "output_type": "stream",
     "text": [
      "                  col1                 col2\n",
      "0           aaaaaaaaaa           aaaaaaaaaa\n",
      "1  aaaaaaaaaaaaaaaa...  aaaaaaaaaaaaaaaa...\n",
      "2  aaaaaaaaaaaaaaaa...  aaaaaaaaaaaaaaaa...\n"
     ]
    }
   ],
   "source": [
    "df_long_col2 = pd.DataFrame({'col1': ['a' * 10, 'a' * 30, 'a' * 60],\n",
    "                             'col2': ['a' * 10, 'a' * 30, 'a' * 60]})\n",
    "\n",
    "pd.options.display.max_colwidth = 20\n",
    "\n",
    "print(df_long_col2)"
   ]
  },
  {
   "cell_type": "code",
   "execution_count": 45,
   "metadata": {},
   "outputs": [
    {
     "name": "stdout",
     "output_type": "stream",
     "text": [
      "  aaaaaaaaaaaaaaaaaaaaaaaaaaaaaaaaaaaaaaaaaaaaaaaaaaaaaaaaaaaa\n",
      "0                               aaaaaaaaaa                    \n",
      "1           aaaaaaaaaaaaaaaaaaaaaaaaaaaaaa                    \n",
      "2  aaaaaaaaaaaaaaaaaaaaaaaaaaaaaaaaaaaa...                    \n"
     ]
    }
   ],
   "source": [
    "df_long_col_header = pd.DataFrame({'a' * 60: ['a' * 10, 'a' * 30, 'a' * 60]})\n",
    "\n",
    "pd.options.display.max_colwidth = 40\n",
    "\n",
    "print(df_long_col_header)"
   ]
  },
  {
   "cell_type": "code",
   "execution_count": 46,
   "metadata": {},
   "outputs": [
    {
     "name": "stdout",
     "output_type": "stream",
     "text": [
      "right\n"
     ]
    }
   ],
   "source": [
    "print(pd.options.display.colheader_justify)"
   ]
  },
  {
   "cell_type": "code",
   "execution_count": 47,
   "metadata": {},
   "outputs": [
    {
     "name": "stdout",
     "output_type": "stream",
     "text": [
      "                                       col\n",
      "0                               aaaaaaaaaa\n",
      "1           aaaaaaaaaaaaaaaaaaaaaaaaaaaaaa\n",
      "2  aaaaaaaaaaaaaaaaaaaaaaaaaaaaaaaaaaaa...\n"
     ]
    }
   ],
   "source": [
    "print(df_long_col)"
   ]
  },
  {
   "cell_type": "code",
   "execution_count": 48,
   "metadata": {},
   "outputs": [
    {
     "name": "stdout",
     "output_type": "stream",
     "text": [
      "  col                                     \n",
      "0                               aaaaaaaaaa\n",
      "1           aaaaaaaaaaaaaaaaaaaaaaaaaaaaaa\n",
      "2  aaaaaaaaaaaaaaaaaaaaaaaaaaaaaaaaaaaa...\n"
     ]
    }
   ],
   "source": [
    "pd.options.display.colheader_justify = 'left'\n",
    "\n",
    "print(df_long_col)"
   ]
  }
 ],
 "metadata": {
  "kernelspec": {
   "display_name": "Python 3",
   "language": "python",
   "name": "python3"
  },
  "language_info": {
   "codemirror_mode": {
    "name": "ipython",
    "version": 3
   },
   "file_extension": ".py",
   "mimetype": "text/x-python",
   "name": "python",
   "nbconvert_exporter": "python",
   "pygments_lexer": "ipython3",
   "version": "3.6.5"
  }
 },
 "nbformat": 4,
 "nbformat_minor": 2
}
