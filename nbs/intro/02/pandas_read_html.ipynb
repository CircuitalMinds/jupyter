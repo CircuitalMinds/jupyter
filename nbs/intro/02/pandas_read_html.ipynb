{
 "cells": [
  {
   "cell_type": "code",
   "execution_count": 1,
   "metadata": {
    "collapsed": true
   },
   "outputs": [],
   "source": [
    "# https://pandas.pydata.org/pandas-docs/stable/io.html#io-read-html\n",
    "# https://pandas.pydata.org/pandas-docs/stable/generated/pandas.read_html.html\n",
    "# pip install lxml html5lib beautifulsoup4"
   ]
  },
  {
   "cell_type": "code",
   "execution_count": 2,
   "metadata": {
    "collapsed": true
   },
   "outputs": [],
   "source": [
    "import pandas as pd"
   ]
  },
  {
   "cell_type": "code",
   "execution_count": 3,
   "metadata": {
    "collapsed": true
   },
   "outputs": [],
   "source": [
    "url = 'https://info.finance.yahoo.co.jp/ranking/?kd=4'\n",
    "dfs = pd.read_html(url)"
   ]
  },
  {
   "cell_type": "code",
   "execution_count": 4,
   "metadata": {},
   "outputs": [
    {
     "name": "stdout",
     "output_type": "stream",
     "text": [
      "1\n"
     ]
    }
   ],
   "source": [
    "print(len(dfs))"
   ]
  },
  {
   "cell_type": "code",
   "execution_count": 5,
   "metadata": {},
   "outputs": [
    {
     "name": "stdout",
     "output_type": "stream",
     "text": [
      "  順位   コード    市場                    名称    取引値 発行済み株式数    時価総額（百万円）      単元株数  \\\n",
      "0  1  7203  東証1部             トヨタ自動車(株)  09/15    6480   3262997492  21144224   \n",
      "1  2  9432  東証1部             日本電信電話(株)  09/15    5127   2096394470  10748214   \n",
      "2  3  9437  東証1部             (株)ＮＴＴドコモ  09/15  2539.5   3899563000   9902940   \n",
      "3  4  8306  東証1部  (株)三菱ＵＦＪフィナンシャル・グループ  09/15   681.6  14027694920   9561277   \n",
      "4  5  9984  東証1部         ソフトバンクグループ(株)  09/15    8587   1100660365   9451371   \n",
      "\n",
      "   掲示板 Unnamed: 9  \n",
      "0  100        掲示板  \n",
      "1  100        掲示板  \n",
      "2  100        掲示板  \n",
      "3  100        掲示板  \n",
      "4  100        掲示板  \n"
     ]
    }
   ],
   "source": [
    "print(dfs[0].head())"
   ]
  },
  {
   "cell_type": "code",
   "execution_count": 6,
   "metadata": {},
   "outputs": [
    {
     "name": "stdout",
     "output_type": "stream",
     "text": [
      "                     名称    時価総額（百万円）\n",
      "0             トヨタ自動車(株)   3262997492\n",
      "1             日本電信電話(株)   2096394470\n",
      "2             (株)ＮＴＴドコモ   3899563000\n",
      "3  (株)三菱ＵＦＪフィナンシャル・グループ  14027694920\n",
      "4         ソフトバンクグループ(株)   1100660365\n"
     ]
    }
   ],
   "source": [
    "print(dfs[0][['名称', '時価総額（百万円）']].head())"
   ]
  },
  {
   "cell_type": "code",
   "execution_count": 7,
   "metadata": {
    "collapsed": true
   },
   "outputs": [],
   "source": [
    "dfs[0].columns = ['順位', 'コード', '市場', '名称', '時刻', '取引値', '発行済み株式数', '時価総額（百万円）', '単元株数', '掲示板']"
   ]
  },
  {
   "cell_type": "code",
   "execution_count": 8,
   "metadata": {},
   "outputs": [
    {
     "name": "stdout",
     "output_type": "stream",
     "text": [
      "                     名称 時価総額（百万円）\n",
      "0             トヨタ自動車(株)  21144224\n",
      "1             日本電信電話(株)  10748214\n",
      "2             (株)ＮＴＴドコモ   9902940\n",
      "3  (株)三菱ＵＦＪフィナンシャル・グループ   9561277\n",
      "4         ソフトバンクグループ(株)   9451371\n"
     ]
    }
   ],
   "source": [
    "print(dfs[0][['名称', '時価総額（百万円）']].head())"
   ]
  },
  {
   "cell_type": "code",
   "execution_count": 9,
   "metadata": {
    "collapsed": true
   },
   "outputs": [],
   "source": [
    "url = 'https://ja.wikipedia.org/wiki/Python'\n",
    "dfs = pd.read_html(url)"
   ]
  },
  {
   "cell_type": "code",
   "execution_count": 10,
   "metadata": {},
   "outputs": [
    {
     "name": "stdout",
     "output_type": "stream",
     "text": [
      "15\n"
     ]
    }
   ],
   "source": [
    "print(len(dfs))"
   ]
  },
  {
   "cell_type": "code",
   "execution_count": 11,
   "metadata": {
    "collapsed": true
   },
   "outputs": [],
   "source": [
    "dfs = pd.read_html(url, match='リリース日')"
   ]
  },
  {
   "cell_type": "code",
   "execution_count": 12,
   "metadata": {},
   "outputs": [
    {
     "name": "stdout",
     "output_type": "stream",
     "text": [
      "2\n"
     ]
    }
   ],
   "source": [
    "print(len(dfs))"
   ]
  },
  {
   "cell_type": "code",
   "execution_count": 13,
   "metadata": {},
   "outputs": [
    {
     "name": "stdout",
     "output_type": "stream",
     "text": [
      "       0            1\n",
      "0  バージョン    リリース日[17]\n",
      "1    2.0  2000年10月16日\n",
      "2    2.1   2001年4月15日\n",
      "3    2.2  2001年12月21日\n",
      "4    2.3   2003年7月29日\n",
      "5    2.4  2004年11月30日\n",
      "6    2.5   2006年9月19日\n",
      "7    2.6   2008年10月1日\n",
      "8    2.7    2010年7月4日\n"
     ]
    }
   ],
   "source": [
    "print(dfs[0])"
   ]
  },
  {
   "cell_type": "code",
   "execution_count": 14,
   "metadata": {},
   "outputs": [
    {
     "name": "stdout",
     "output_type": "stream",
     "text": [
      "       0            1\n",
      "0  バージョン    リリース日[17]\n",
      "1    3.0   2008年12月3日\n",
      "2    3.1   2009年6月27日\n",
      "3    3.2   2011年2月20日\n",
      "4    3.3   2012年9月29日\n",
      "5    3.4   2014年3月16日\n",
      "6    3.5   2015年9月13日\n",
      "7    3.6  2016年12月23日\n"
     ]
    }
   ],
   "source": [
    "print(dfs[1])"
   ]
  },
  {
   "cell_type": "code",
   "execution_count": 15,
   "metadata": {
    "collapsed": true
   },
   "outputs": [],
   "source": [
    "dfs = pd.read_html(url, match='リリース日', header=0)"
   ]
  },
  {
   "cell_type": "code",
   "execution_count": 16,
   "metadata": {},
   "outputs": [
    {
     "name": "stdout",
     "output_type": "stream",
     "text": [
      "2\n"
     ]
    }
   ],
   "source": [
    "print(len(dfs))"
   ]
  },
  {
   "cell_type": "code",
   "execution_count": 17,
   "metadata": {},
   "outputs": [
    {
     "name": "stdout",
     "output_type": "stream",
     "text": [
      "   バージョン    リリース日[17]\n",
      "0    2.0  2000年10月16日\n",
      "1    2.1   2001年4月15日\n",
      "2    2.2  2001年12月21日\n",
      "3    2.3   2003年7月29日\n",
      "4    2.4  2004年11月30日\n",
      "5    2.5   2006年9月19日\n",
      "6    2.6   2008年10月1日\n",
      "7    2.7    2010年7月4日\n"
     ]
    }
   ],
   "source": [
    "print(dfs[0])"
   ]
  },
  {
   "cell_type": "code",
   "execution_count": 18,
   "metadata": {},
   "outputs": [
    {
     "name": "stdout",
     "output_type": "stream",
     "text": [
      "   バージョン    リリース日[17]\n",
      "0    3.0   2008年12月3日\n",
      "1    3.1   2009年6月27日\n",
      "2    3.2   2011年2月20日\n",
      "3    3.3   2012年9月29日\n",
      "4    3.4   2014年3月16日\n",
      "5    3.5   2015年9月13日\n",
      "6    3.6  2016年12月23日\n"
     ]
    }
   ],
   "source": [
    "print(dfs[1])"
   ]
  },
  {
   "cell_type": "code",
   "execution_count": 19,
   "metadata": {},
   "outputs": [
    {
     "name": "stdout",
     "output_type": "stream",
     "text": [
      "    バージョン    リリース日[17]\n",
      "0     2.0  2000年10月16日\n",
      "2     2.2  2001年12月21日\n",
      "1     2.1   2001年4月15日\n",
      "3     2.3   2003年7月29日\n",
      "4     2.4  2004年11月30日\n",
      "5     2.5   2006年9月19日\n",
      "6     2.6   2008年10月1日\n",
      "8     3.0   2008年12月3日\n",
      "9     3.1   2009年6月27日\n",
      "7     2.7    2010年7月4日\n",
      "10    3.2   2011年2月20日\n",
      "11    3.3   2012年9月29日\n",
      "12    3.4   2014年3月16日\n",
      "13    3.5   2015年9月13日\n",
      "14    3.6  2016年12月23日\n"
     ]
    }
   ],
   "source": [
    "df = pd.concat([dfs[0], dfs[1]], ignore_index=True).sort_values('リリース日[17]')\n",
    "print(df)"
   ]
  },
  {
   "cell_type": "code",
   "execution_count": 20,
   "metadata": {
    "collapsed": true
   },
   "outputs": [],
   "source": [
    "df.to_csv('data/dst/pandas_read_html_sample.csv')"
   ]
  }
 ],
 "metadata": {
  "kernelspec": {
   "display_name": "Python 3",
   "language": "python",
   "name": "python3"
  },
  "language_info": {
   "codemirror_mode": {
    "name": "ipython",
    "version": 3
   },
   "file_extension": ".py",
   "mimetype": "text/x-python",
   "name": "python",
   "nbconvert_exporter": "python",
   "pygments_lexer": "ipython3",
   "version": "3.6.2"
  }
 },
 "nbformat": 4,
 "nbformat_minor": 2
}
