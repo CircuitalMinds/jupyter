{
 "cells": [
  {
   "cell_type": "code",
   "execution_count": 1,
   "metadata": {
    "collapsed": true
   },
   "outputs": [],
   "source": [
    "import pandas as pd"
   ]
  },
  {
   "cell_type": "code",
   "execution_count": 2,
   "metadata": {},
   "outputs": [
    {
     "name": "stdout",
     "output_type": "stream",
     "text": [
      "   level_1 level_2 level_3  val_1  val_2\n",
      "0       A0      B0      C0     98     90\n",
      "1       A0      B0      C1     44      9\n",
      "2       A0      B1      C2     39     17\n",
      "3       A0      B1      C3     75     71\n",
      "4       A1      B2      C0      1     89\n",
      "5       A1      B2      C1     54     60\n",
      "6       A1      B3      C2     47      6\n",
      "7       A1      B3      C3     16      5\n",
      "8       A2      B0      C0     75     22\n",
      "9       A2      B0      C1     19      4\n",
      "10      A2      B1      C2     25     52\n",
      "11      A2      B1      C3     57     40\n",
      "12      A3      B2      C0     64     54\n",
      "13      A3      B2      C1     27     96\n",
      "14      A3      B3      C2    100     77\n",
      "15      A3      B3      C3     22     50\n"
     ]
    }
   ],
   "source": [
    "df = pd.read_csv('data/src/sample_multi.csv')\n",
    "print(df)"
   ]
  },
  {
   "cell_type": "code",
   "execution_count": 3,
   "metadata": {},
   "outputs": [
    {
     "name": "stdout",
     "output_type": "stream",
     "text": [
      "                         val_1  val_2\n",
      "level_1 level_2 level_3              \n",
      "A0      B0      C0          98     90\n",
      "                C1          44      9\n",
      "        B1      C2          39     17\n",
      "                C3          75     71\n",
      "A1      B2      C0           1     89\n",
      "                C1          54     60\n",
      "        B3      C2          47      6\n",
      "                C3          16      5\n",
      "A2      B0      C0          75     22\n",
      "                C1          19      4\n",
      "        B1      C2          25     52\n",
      "                C3          57     40\n",
      "A3      B2      C0          64     54\n",
      "                C1          27     96\n",
      "        B3      C2         100     77\n",
      "                C3          22     50\n"
     ]
    }
   ],
   "source": [
    "df_m_csv = pd.read_csv('data/src/sample_multi.csv', index_col=['level_1', 'level_2', 'level_3'])\n",
    "print(df_m_csv)"
   ]
  },
  {
   "cell_type": "code",
   "execution_count": 4,
   "metadata": {},
   "outputs": [
    {
     "name": "stdout",
     "output_type": "stream",
     "text": [
      "                         val_1  val_2\n",
      "level_1 level_2 level_3              \n",
      "A0      B0      C0          98     90\n",
      "                C1          44      9\n",
      "        B1      C2          39     17\n",
      "                C3          75     71\n",
      "A1      B2      C0           1     89\n",
      "                C1          54     60\n",
      "        B3      C2          47      6\n",
      "                C3          16      5\n",
      "A2      B0      C0          75     22\n",
      "                C1          19      4\n",
      "        B1      C2          25     52\n",
      "                C3          57     40\n",
      "A3      B2      C0          64     54\n",
      "                C1          27     96\n",
      "        B3      C2         100     77\n",
      "                C3          22     50\n"
     ]
    }
   ],
   "source": [
    "df_m = df.set_index(['level_1', 'level_2', 'level_3'])\n",
    "print(df_m)"
   ]
  },
  {
   "cell_type": "code",
   "execution_count": 5,
   "metadata": {},
   "outputs": [
    {
     "name": "stdout",
     "output_type": "stream",
     "text": [
      "        level_2 level_3  val_1  val_2\n",
      "level_1                              \n",
      "A0           B0      C0     98     90\n",
      "A0           B0      C1     44      9\n",
      "A0           B1      C2     39     17\n",
      "A0           B1      C3     75     71\n",
      "A1           B2      C0      1     89\n",
      "A1           B2      C1     54     60\n",
      "A1           B3      C2     47      6\n",
      "A1           B3      C3     16      5\n",
      "A2           B0      C0     75     22\n",
      "A2           B0      C1     19      4\n",
      "A2           B1      C2     25     52\n",
      "A2           B1      C3     57     40\n",
      "A3           B2      C0     64     54\n",
      "A3           B2      C1     27     96\n",
      "A3           B3      C2    100     77\n",
      "A3           B3      C3     22     50\n"
     ]
    }
   ],
   "source": [
    "df_m_1 = df.set_index('level_1')\n",
    "print(df_m_1)"
   ]
  },
  {
   "cell_type": "code",
   "execution_count": 6,
   "metadata": {},
   "outputs": [
    {
     "name": "stdout",
     "output_type": "stream",
     "text": [
      "                level_3  val_1  val_2\n",
      "level_1 level_2                      \n",
      "A0      B0           C0     98     90\n",
      "        B0           C1     44      9\n",
      "        B1           C2     39     17\n",
      "        B1           C3     75     71\n",
      "A1      B2           C0      1     89\n",
      "        B2           C1     54     60\n",
      "        B3           C2     47      6\n",
      "        B3           C3     16      5\n",
      "A2      B0           C0     75     22\n",
      "        B0           C1     19      4\n",
      "        B1           C2     25     52\n",
      "        B1           C3     57     40\n",
      "A3      B2           C0     64     54\n",
      "        B2           C1     27     96\n",
      "        B3           C2    100     77\n",
      "        B3           C3     22     50\n"
     ]
    }
   ],
   "source": [
    "df_m_2 = df_m_1.set_index('level_2', append=True)\n",
    "print(df_m_2)"
   ]
  },
  {
   "cell_type": "code",
   "execution_count": 7,
   "metadata": {},
   "outputs": [
    {
     "name": "stdout",
     "output_type": "stream",
     "text": [
      "   level_1 level_2 level_3  val_1  val_2\n",
      "0       A0      B0      C0     98     90\n",
      "1       A0      B0      C1     44      9\n",
      "2       A0      B1      C2     39     17\n",
      "3       A0      B1      C3     75     71\n",
      "4       A1      B2      C0      1     89\n",
      "5       A1      B2      C1     54     60\n",
      "6       A1      B3      C2     47      6\n",
      "7       A1      B3      C3     16      5\n",
      "8       A2      B0      C0     75     22\n",
      "9       A2      B0      C1     19      4\n",
      "10      A2      B1      C2     25     52\n",
      "11      A2      B1      C3     57     40\n",
      "12      A3      B2      C0     64     54\n",
      "13      A3      B2      C1     27     96\n",
      "14      A3      B3      C2    100     77\n",
      "15      A3      B3      C3     22     50\n"
     ]
    }
   ],
   "source": [
    "df_r_all = df_m.reset_index()\n",
    "print(df_r_all)"
   ]
  },
  {
   "cell_type": "code",
   "execution_count": 8,
   "metadata": {},
   "outputs": [
    {
     "name": "stdout",
     "output_type": "stream",
     "text": [
      "                level_1  val_1  val_2\n",
      "level_2 level_3                      \n",
      "B0      C0           A0     98     90\n",
      "        C1           A0     44      9\n",
      "B1      C2           A0     39     17\n",
      "        C3           A0     75     71\n",
      "B2      C0           A1      1     89\n",
      "        C1           A1     54     60\n",
      "B3      C2           A1     47      6\n",
      "        C3           A1     16      5\n",
      "B0      C0           A2     75     22\n",
      "        C1           A2     19      4\n",
      "B1      C2           A2     25     52\n",
      "        C3           A2     57     40\n",
      "B2      C0           A3     64     54\n",
      "        C1           A3     27     96\n",
      "B3      C2           A3    100     77\n",
      "        C3           A3     22     50\n"
     ]
    }
   ],
   "source": [
    "df_r_1 = df_m.reset_index(level='level_1')\n",
    "print(df_r_1)"
   ]
  },
  {
   "cell_type": "code",
   "execution_count": 9,
   "metadata": {},
   "outputs": [
    {
     "name": "stdout",
     "output_type": "stream",
     "text": [
      "                level_1  val_1  val_2\n",
      "level_2 level_3                      \n",
      "B0      C0           A0     98     90\n",
      "        C1           A0     44      9\n",
      "B1      C2           A0     39     17\n",
      "        C3           A0     75     71\n",
      "B2      C0           A1      1     89\n",
      "        C1           A1     54     60\n",
      "B3      C2           A1     47      6\n",
      "        C3           A1     16      5\n",
      "B0      C0           A2     75     22\n",
      "        C1           A2     19      4\n",
      "B1      C2           A2     25     52\n",
      "        C3           A2     57     40\n",
      "B2      C0           A3     64     54\n",
      "        C1           A3     27     96\n",
      "B3      C2           A3    100     77\n",
      "        C3           A3     22     50\n"
     ]
    }
   ],
   "source": [
    "df_r_1 = df_m.reset_index(level=0)\n",
    "print(df_r_1)"
   ]
  },
  {
   "cell_type": "code",
   "execution_count": 10,
   "metadata": {},
   "outputs": [
    {
     "name": "stdout",
     "output_type": "stream",
     "text": [
      "        level_1 level_2  val_1  val_2\n",
      "level_3                              \n",
      "C0           A0      B0     98     90\n",
      "C1           A0      B0     44      9\n",
      "C2           A0      B1     39     17\n",
      "C3           A0      B1     75     71\n",
      "C0           A1      B2      1     89\n",
      "C1           A1      B2     54     60\n",
      "C2           A1      B3     47      6\n",
      "C3           A1      B3     16      5\n",
      "C0           A2      B0     75     22\n",
      "C1           A2      B0     19      4\n",
      "C2           A2      B1     25     52\n",
      "C3           A2      B1     57     40\n",
      "C0           A3      B2     64     54\n",
      "C1           A3      B2     27     96\n",
      "C2           A3      B3    100     77\n",
      "C3           A3      B3     22     50\n"
     ]
    }
   ],
   "source": [
    "df_r_2 = df_m.reset_index(level=['level_1', 'level_2'])\n",
    "print(df_r_2)"
   ]
  },
  {
   "cell_type": "code",
   "execution_count": 11,
   "metadata": {},
   "outputs": [
    {
     "name": "stdout",
     "output_type": "stream",
     "text": [
      "                 val_1  val_2\n",
      "level_2 level_3              \n",
      "B0      C0          98     90\n",
      "        C1          44      9\n",
      "B1      C2          39     17\n",
      "        C3          75     71\n",
      "B2      C0           1     89\n",
      "        C1          54     60\n",
      "B3      C2          47      6\n",
      "        C3          16      5\n",
      "B0      C0          75     22\n",
      "        C1          19      4\n",
      "B1      C2          25     52\n",
      "        C3          57     40\n",
      "B2      C0          64     54\n",
      "        C1          27     96\n",
      "B3      C2         100     77\n",
      "        C3          22     50\n"
     ]
    }
   ],
   "source": [
    "df_r_drop = df_m.reset_index(level='level_1', drop=True)\n",
    "print(df_r_drop)"
   ]
  },
  {
   "cell_type": "code",
   "execution_count": 12,
   "metadata": {},
   "outputs": [
    {
     "name": "stdout",
     "output_type": "stream",
     "text": [
      "                 val_1  val_2\n",
      "level_2 level_3              \n",
      "B0      C0          98     90\n",
      "        C0          75     22\n",
      "        C1          44      9\n",
      "        C1          19      4\n",
      "B1      C2          39     17\n",
      "        C2          25     52\n",
      "        C3          75     71\n",
      "        C3          57     40\n",
      "B2      C0           1     89\n",
      "        C0          64     54\n",
      "        C1          54     60\n",
      "        C1          27     96\n",
      "B3      C2          47      6\n",
      "        C2         100     77\n",
      "        C3          16      5\n",
      "        C3          22     50\n"
     ]
    }
   ],
   "source": [
    "df_r_drop_sort = df_r_drop.sort_index()\n",
    "print(df_r_drop_sort)"
   ]
  },
  {
   "cell_type": "code",
   "execution_count": 13,
   "metadata": {},
   "outputs": [
    {
     "name": "stdout",
     "output_type": "stream",
     "text": [
      "                 val_1  val_2\n",
      "level_2 level_3              \n",
      "B0      C0          98     90\n",
      "        C0          75     22\n",
      "B2      C0           1     89\n",
      "        C0          64     54\n",
      "B0      C1          44      9\n",
      "        C1          19      4\n",
      "B2      C1          54     60\n",
      "        C1          27     96\n",
      "B1      C2          39     17\n",
      "        C2          25     52\n",
      "B3      C2          47      6\n",
      "        C2         100     77\n",
      "B1      C3          75     71\n",
      "        C3          57     40\n",
      "B3      C3          16      5\n",
      "        C3          22     50\n"
     ]
    }
   ],
   "source": [
    "df_r_drop_sort_2 = df_r_drop.sort_index(level='level_3')\n",
    "print(df_r_drop_sort_2)"
   ]
  },
  {
   "cell_type": "code",
   "execution_count": 14,
   "metadata": {},
   "outputs": [
    {
     "name": "stdout",
     "output_type": "stream",
     "text": [
      "                         val_1  val_2\n",
      "level_1 level_2 level_3              \n",
      "A0      B0      C0          98     90\n",
      "                C1          44      9\n",
      "        B1      C2          39     17\n",
      "                C3          75     71\n",
      "A1      B2      C0           1     89\n",
      "                C1          54     60\n",
      "        B3      C2          47      6\n",
      "                C3          16      5\n",
      "A2      B0      C0          75     22\n",
      "                C1          19      4\n",
      "        B1      C2          25     52\n",
      "                C3          57     40\n",
      "A3      B2      C0          64     54\n",
      "                C1          27     96\n",
      "        B3      C2         100     77\n",
      "                C3          22     50\n"
     ]
    }
   ],
   "source": [
    "print(df_m)"
   ]
  },
  {
   "cell_type": "code",
   "execution_count": 15,
   "metadata": {},
   "outputs": [
    {
     "name": "stdout",
     "output_type": "stream",
     "text": [
      "                         val_1  val_2\n",
      "level_3 level_2 level_1              \n",
      "C0      B0      A0          98     90\n",
      "C1      B0      A0          44      9\n",
      "C2      B1      A0          39     17\n",
      "C3      B1      A0          75     71\n",
      "C0      B2      A1           1     89\n",
      "C1      B2      A1          54     60\n",
      "C2      B3      A1          47      6\n",
      "C3      B3      A1          16      5\n",
      "C0      B0      A2          75     22\n",
      "C1      B0      A2          19      4\n",
      "C2      B1      A2          25     52\n",
      "C3      B1      A2          57     40\n",
      "C0      B2      A3          64     54\n",
      "C1      B2      A3          27     96\n",
      "C2      B3      A3         100     77\n",
      "C3      B3      A3          22     50\n"
     ]
    }
   ],
   "source": [
    "df_m_swap = df_m.swaplevel('level_1', 'level_3')\n",
    "print(df_m_swap)"
   ]
  },
  {
   "cell_type": "code",
   "execution_count": 16,
   "metadata": {},
   "outputs": [
    {
     "name": "stdout",
     "output_type": "stream",
     "text": [
      "                         val_1  val_2\n",
      "level_3 level_2 level_1              \n",
      "C0      B0      A0          98     90\n",
      "C1      B0      A0          44      9\n",
      "C2      B1      A0          39     17\n",
      "C3      B1      A0          75     71\n",
      "C0      B2      A1           1     89\n",
      "C1      B2      A1          54     60\n",
      "C2      B3      A1          47      6\n",
      "C3      B3      A1          16      5\n",
      "C0      B0      A2          75     22\n",
      "C1      B0      A2          19      4\n",
      "C2      B1      A2          25     52\n",
      "C3      B1      A2          57     40\n",
      "C0      B2      A3          64     54\n",
      "C1      B2      A3          27     96\n",
      "C2      B3      A3         100     77\n",
      "C3      B3      A3          22     50\n"
     ]
    }
   ],
   "source": [
    "df_m_swap = df_m.swaplevel(0, 2)\n",
    "print(df_m_swap)"
   ]
  },
  {
   "cell_type": "code",
   "execution_count": 17,
   "metadata": {},
   "outputs": [
    {
     "name": "stdout",
     "output_type": "stream",
     "text": [
      "                         val_1  val_2\n",
      "level_3 level_2 level_1              \n",
      "C0      B0      A0          98     90\n",
      "                A2          75     22\n",
      "        B2      A1           1     89\n",
      "                A3          64     54\n",
      "C1      B0      A0          44      9\n",
      "                A2          19      4\n",
      "        B2      A1          54     60\n",
      "                A3          27     96\n",
      "C2      B1      A0          39     17\n",
      "                A2          25     52\n",
      "        B3      A1          47      6\n",
      "                A3         100     77\n",
      "C3      B1      A0          75     71\n",
      "                A2          57     40\n",
      "        B3      A1          16      5\n",
      "                A3          22     50\n"
     ]
    }
   ],
   "source": [
    "df_m_swap_sort = df_m.swaplevel('level_1', 'level_3').sort_index()\n",
    "print(df_m_swap_sort)"
   ]
  },
  {
   "cell_type": "code",
   "execution_count": 18,
   "metadata": {},
   "outputs": [
    {
     "name": "stdout",
     "output_type": "stream",
     "text": [
      "                         val_1  val_2\n",
      "level_2 level_3 level_1              \n",
      "B0      C0      A0          98     90\n",
      "                A2          75     22\n",
      "        C1      A0          44      9\n",
      "                A2          19      4\n",
      "B1      C2      A0          39     17\n",
      "                A2          25     52\n",
      "        C3      A0          75     71\n",
      "                A2          57     40\n",
      "B2      C0      A1           1     89\n",
      "                A3          64     54\n",
      "        C1      A1          54     60\n",
      "                A3          27     96\n",
      "B3      C2      A1          47      6\n",
      "                A3         100     77\n",
      "        C3      A1          16      5\n",
      "                A3          22     50\n"
     ]
    }
   ],
   "source": [
    "df_m_change = df_m.reset_index().set_index(['level_2', 'level_3', 'level_1']).sort_index()\n",
    "print(df_m_change)"
   ]
  }
 ],
 "metadata": {
  "kernelspec": {
   "display_name": "Python 3",
   "language": "python",
   "name": "python3"
  },
  "language_info": {
   "codemirror_mode": {
    "name": "ipython",
    "version": 3
   },
   "file_extension": ".py",
   "mimetype": "text/x-python",
   "name": "python",
   "nbconvert_exporter": "python",
   "pygments_lexer": "ipython3",
   "version": "3.6.5"
  }
 },
 "nbformat": 4,
 "nbformat_minor": 2
}
