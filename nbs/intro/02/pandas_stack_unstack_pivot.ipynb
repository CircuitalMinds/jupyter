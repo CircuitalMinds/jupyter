{
 "cells": [
  {
   "cell_type": "code",
   "execution_count": 1,
   "metadata": {
    "collapsed": true
   },
   "outputs": [],
   "source": [
    "import pandas as pd"
   ]
  },
  {
   "cell_type": "code",
   "execution_count": 2,
   "metadata": {
    "collapsed": true
   },
   "outputs": [],
   "source": [
    "df = pd.DataFrame({'A': ['a', 'a', 'a', 'b', 'b', 'b'],\n",
    "                   'B': ['x', 'y', 'z', 'x', 'y', 'z'],\n",
    "                   'C': [1, 2, 3, 4, 5, 6],\n",
    "                   'D': [10, 20, 30, 40, 50, 60]})"
   ]
  },
  {
   "cell_type": "code",
   "execution_count": 3,
   "metadata": {},
   "outputs": [
    {
     "name": "stdout",
     "output_type": "stream",
     "text": [
      "   A  B  C   D\n",
      "0  a  x  1  10\n",
      "1  a  y  2  20\n",
      "2  a  z  3  30\n",
      "3  b  x  4  40\n",
      "4  b  y  5  50\n",
      "5  b  z  6  60\n"
     ]
    }
   ],
   "source": [
    "print(df)"
   ]
  },
  {
   "cell_type": "code",
   "execution_count": 4,
   "metadata": {},
   "outputs": [
    {
     "name": "stdout",
     "output_type": "stream",
     "text": [
      "0  A     a\n",
      "   B     x\n",
      "   C     1\n",
      "   D    10\n",
      "1  A     a\n",
      "   B     y\n",
      "   C     2\n",
      "   D    20\n",
      "2  A     a\n",
      "   B     z\n",
      "   C     3\n",
      "   D    30\n",
      "3  A     b\n",
      "   B     x\n",
      "   C     4\n",
      "   D    40\n",
      "4  A     b\n",
      "   B     y\n",
      "   C     5\n",
      "   D    50\n",
      "5  A     b\n",
      "   B     z\n",
      "   C     6\n",
      "   D    60\n",
      "dtype: object\n"
     ]
    }
   ],
   "source": [
    "s = df.stack()\n",
    "print(s)"
   ]
  },
  {
   "cell_type": "code",
   "execution_count": 5,
   "metadata": {},
   "outputs": [
    {
     "name": "stdout",
     "output_type": "stream",
     "text": [
      "<class 'pandas.core.series.Series'>\n"
     ]
    }
   ],
   "source": [
    "print(type(s))"
   ]
  },
  {
   "cell_type": "code",
   "execution_count": 6,
   "metadata": {},
   "outputs": [
    {
     "name": "stdout",
     "output_type": "stream",
     "text": [
      "MultiIndex(levels=[[0, 1, 2, 3, 4, 5], ['A', 'B', 'C', 'D']],\n",
      "           labels=[[0, 0, 0, 0, 1, 1, 1, 1, 2, 2, 2, 2, 3, 3, 3, 3, 4, 4, 4, 4, 5, 5, 5, 5], [0, 1, 2, 3, 0, 1, 2, 3, 0, 1, 2, 3, 0, 1, 2, 3, 0, 1, 2, 3, 0, 1, 2, 3]])\n"
     ]
    }
   ],
   "source": [
    "print(s.index)"
   ]
  },
  {
   "cell_type": "code",
   "execution_count": 7,
   "metadata": {},
   "outputs": [
    {
     "name": "stdout",
     "output_type": "stream",
     "text": [
      "   A  B  C   D\n",
      "0  a  x  1  10\n",
      "1  a  y  2  20\n",
      "2  a  z  3  30\n",
      "3  b  x  4  40\n",
      "4  b  y  5  50\n",
      "5  b  z  6  60\n"
     ]
    }
   ],
   "source": [
    "print(s.unstack())"
   ]
  },
  {
   "cell_type": "code",
   "execution_count": 8,
   "metadata": {},
   "outputs": [
    {
     "name": "stdout",
     "output_type": "stream",
     "text": [
      "    0   1   2   3   4   5\n",
      "A   a   a   a   b   b   b\n",
      "B   x   y   z   x   y   z\n",
      "C   1   2   3   4   5   6\n",
      "D  10  20  30  40  50  60\n"
     ]
    }
   ],
   "source": [
    "print(s.unstack(level=0))"
   ]
  },
  {
   "cell_type": "code",
   "execution_count": 9,
   "metadata": {},
   "outputs": [
    {
     "name": "stdout",
     "output_type": "stream",
     "text": [
      "    0   1   2   3   4   5\n",
      "A   a   a   a   b   b   b\n",
      "B   x   y   z   x   y   z\n",
      "C   1   2   3   4   5   6\n",
      "D  10  20  30  40  50  60\n"
     ]
    }
   ],
   "source": [
    "print(df.T)"
   ]
  },
  {
   "cell_type": "code",
   "execution_count": 10,
   "metadata": {},
   "outputs": [
    {
     "name": "stdout",
     "output_type": "stream",
     "text": [
      "     C   D\n",
      "A B       \n",
      "a x  1  10\n",
      "  y  2  20\n",
      "  z  3  30\n",
      "b x  4  40\n",
      "  y  5  50\n",
      "  z  6  60\n"
     ]
    }
   ],
   "source": [
    "df_m = df.set_index(['A', 'B'])\n",
    "print(df_m)"
   ]
  },
  {
   "cell_type": "code",
   "execution_count": 11,
   "metadata": {},
   "outputs": [
    {
     "name": "stdout",
     "output_type": "stream",
     "text": [
      "MultiIndex(levels=[['a', 'b'], ['x', 'y', 'z']],\n",
      "           labels=[[0, 0, 0, 1, 1, 1], [0, 1, 2, 0, 1, 2]],\n",
      "           names=['A', 'B'])\n"
     ]
    }
   ],
   "source": [
    "print(df_m.index)"
   ]
  },
  {
   "cell_type": "code",
   "execution_count": 12,
   "metadata": {},
   "outputs": [
    {
     "name": "stdout",
     "output_type": "stream",
     "text": [
      "   C         D        \n",
      "B  x  y  z   x   y   z\n",
      "A                     \n",
      "a  1  2  3  10  20  30\n",
      "b  4  5  6  40  50  60\n"
     ]
    }
   ],
   "source": [
    "df_mu = df_m.unstack()\n",
    "print(df_mu)"
   ]
  },
  {
   "cell_type": "code",
   "execution_count": 13,
   "metadata": {},
   "outputs": [
    {
     "name": "stdout",
     "output_type": "stream",
     "text": [
      "MultiIndex(levels=[['C', 'D'], ['x', 'y', 'z']],\n",
      "           labels=[[0, 0, 0, 1, 1, 1], [0, 1, 2, 0, 1, 2]],\n",
      "           names=[None, 'B'])\n"
     ]
    }
   ],
   "source": [
    "print(df_mu.columns)"
   ]
  },
  {
   "cell_type": "code",
   "execution_count": 14,
   "metadata": {},
   "outputs": [
    {
     "name": "stdout",
     "output_type": "stream",
     "text": [
      "   C      D    \n",
      "A  a  b   a   b\n",
      "B              \n",
      "x  1  4  10  40\n",
      "y  2  5  20  50\n",
      "z  3  6  30  60\n"
     ]
    }
   ],
   "source": [
    "print(df_m.unstack(level=0))"
   ]
  },
  {
   "cell_type": "code",
   "execution_count": 15,
   "metadata": {},
   "outputs": [
    {
     "name": "stdout",
     "output_type": "stream",
     "text": [
      "   C      D    \n",
      "A  a  b   a   b\n",
      "B              \n",
      "x  1  4  10  40\n",
      "y  2  5  20  50\n",
      "z  3  6  30  60\n"
     ]
    }
   ],
   "source": [
    "print(df_m.unstack(level='A'))"
   ]
  },
  {
   "cell_type": "code",
   "execution_count": 16,
   "metadata": {},
   "outputs": [
    {
     "name": "stdout",
     "output_type": "stream",
     "text": [
      "   C         D        \n",
      "B  x  y  z   x   y   z\n",
      "A                     \n",
      "a  1  2  3  10  20  30\n",
      "b  4  5  6  40  50  60\n"
     ]
    }
   ],
   "source": [
    "print(df_mu)"
   ]
  },
  {
   "cell_type": "code",
   "execution_count": 17,
   "metadata": {},
   "outputs": [
    {
     "name": "stdout",
     "output_type": "stream",
     "text": [
      "B  x  y  z   x   y   z\n",
      "   C  C  C   D   D   D\n",
      "A                     \n",
      "a  1  2  3  10  20  30\n",
      "b  4  5  6  40  50  60\n"
     ]
    }
   ],
   "source": [
    "print(df_mu.swaplevel(axis=1))"
   ]
  },
  {
   "cell_type": "code",
   "execution_count": 18,
   "metadata": {},
   "outputs": [
    {
     "name": "stdout",
     "output_type": "stream",
     "text": [
      "B  x      y      z    \n",
      "   C   D  C   D  C   D\n",
      "A                     \n",
      "a  1  10  2  20  3  30\n",
      "b  4  40  5  50  6  60\n"
     ]
    }
   ],
   "source": [
    "print(df_mu.swaplevel(axis=1).sort_index(axis=1))"
   ]
  },
  {
   "cell_type": "code",
   "execution_count": 19,
   "metadata": {},
   "outputs": [
    {
     "name": "stdout",
     "output_type": "stream",
     "text": [
      "     C   D\n",
      "A B       \n",
      "a x  1  10\n",
      "  y  2  20\n",
      "  z  3  30\n",
      "b x  4  40\n",
      "  y  5  50\n",
      "  z  6  60\n"
     ]
    }
   ],
   "source": [
    "print(df_mu.stack())"
   ]
  },
  {
   "cell_type": "code",
   "execution_count": 20,
   "metadata": {},
   "outputs": [
    {
     "name": "stdout",
     "output_type": "stream",
     "text": [
      "B     x   y   z\n",
      "A              \n",
      "a C   1   2   3\n",
      "  D  10  20  30\n",
      "b C   4   5   6\n",
      "  D  40  50  60\n"
     ]
    }
   ],
   "source": [
    "print(df_mu.stack(level=0))"
   ]
  },
  {
   "cell_type": "code",
   "execution_count": 21,
   "metadata": {},
   "outputs": [
    {
     "name": "stdout",
     "output_type": "stream",
     "text": [
      "   A  B  C   D\n",
      "0  a  x  1  10\n",
      "1  a  y  2  20\n",
      "2  a  z  3  30\n",
      "3  b  x  4  40\n",
      "4  b  y  5  50\n",
      "5  b  z  6  60\n"
     ]
    }
   ],
   "source": [
    "print(df)"
   ]
  },
  {
   "cell_type": "code",
   "execution_count": 22,
   "metadata": {},
   "outputs": [
    {
     "name": "stdout",
     "output_type": "stream",
     "text": [
      "B  x  y  z\n",
      "A         \n",
      "a  1  2  3\n",
      "b  4  5  6\n"
     ]
    }
   ],
   "source": [
    "print(df.pivot(index='A', columns='B', values='C'))"
   ]
  },
  {
   "cell_type": "code",
   "execution_count": 23,
   "metadata": {},
   "outputs": [
    {
     "name": "stdout",
     "output_type": "stream",
     "text": [
      "   C         D        \n",
      "B  x  y  z   x   y   z\n",
      "A                     \n",
      "a  1  2  3  10  20  30\n",
      "b  4  5  6  40  50  60\n"
     ]
    }
   ],
   "source": [
    "print(df.pivot(index='A', columns='B', values=['C', 'D']))"
   ]
  },
  {
   "cell_type": "code",
   "execution_count": 24,
   "metadata": {},
   "outputs": [
    {
     "name": "stdout",
     "output_type": "stream",
     "text": [
      "   C         D        \n",
      "B  x  y  z   x   y   z\n",
      "A                     \n",
      "a  1  2  3  10  20  30\n",
      "b  4  5  6  40  50  60\n"
     ]
    }
   ],
   "source": [
    "print(df.pivot(index='A', columns='B'))"
   ]
  },
  {
   "cell_type": "code",
   "execution_count": 25,
   "metadata": {},
   "outputs": [
    {
     "name": "stdout",
     "output_type": "stream",
     "text": [
      "   C         D        \n",
      "B  x  y  z   x   y   z\n",
      "A                     \n",
      "a  1  2  3  10  20  30\n",
      "b  4  5  6  40  50  60\n"
     ]
    }
   ],
   "source": [
    "print(df.set_index(['A', 'B']).unstack('B'))"
   ]
  },
  {
   "cell_type": "code",
   "execution_count": 26,
   "metadata": {
    "collapsed": true
   },
   "outputs": [],
   "source": [
    "df.loc[1, 'B'] = 'x'"
   ]
  },
  {
   "cell_type": "code",
   "execution_count": 27,
   "metadata": {},
   "outputs": [
    {
     "name": "stdout",
     "output_type": "stream",
     "text": [
      "   A  B  C   D\n",
      "0  a  x  1  10\n",
      "1  a  x  2  20\n",
      "2  a  z  3  30\n",
      "3  b  x  4  40\n",
      "4  b  y  5  50\n",
      "5  b  z  6  60\n"
     ]
    }
   ],
   "source": [
    "print(df)"
   ]
  },
  {
   "cell_type": "code",
   "execution_count": 28,
   "metadata": {
    "collapsed": true
   },
   "outputs": [],
   "source": [
    "# print(df.pivot(index='A', columns='B'))\n",
    "# ValueError: Index contains duplicate entries, cannot reshape"
   ]
  },
  {
   "cell_type": "code",
   "execution_count": 29,
   "metadata": {},
   "outputs": [
    {
     "name": "stdout",
     "output_type": "stream",
     "text": [
      "     C               D            \n",
      "B    x    y    z     x     y     z\n",
      "A                                 \n",
      "a  1.5  NaN  3.0  15.0   NaN  30.0\n",
      "b  4.0  5.0  6.0  40.0  50.0  60.0\n"
     ]
    }
   ],
   "source": [
    "print(df.pivot_table(index='A', columns='B'))"
   ]
  },
  {
   "cell_type": "code",
   "execution_count": 30,
   "metadata": {},
   "outputs": [
    {
     "name": "stdout",
     "output_type": "stream",
     "text": [
      "     C               D            \n",
      "B    x    y    z     x     y     z\n",
      "A                                 \n",
      "a  3.0  NaN  3.0  30.0   NaN  30.0\n",
      "b  4.0  5.0  6.0  40.0  50.0  60.0\n"
     ]
    }
   ],
   "source": [
    "print(df.pivot_table(index='A', columns='B', aggfunc=sum))"
   ]
  }
 ],
 "metadata": {
  "kernelspec": {
   "display_name": "Python 3",
   "language": "python",
   "name": "python3"
  },
  "language_info": {
   "codemirror_mode": {
    "name": "ipython",
    "version": 3
   },
   "file_extension": ".py",
   "mimetype": "text/x-python",
   "name": "python",
   "nbconvert_exporter": "python",
   "pygments_lexer": "ipython3",
   "version": "3.6.5"
  }
 },
 "nbformat": 4,
 "nbformat_minor": 2
}
