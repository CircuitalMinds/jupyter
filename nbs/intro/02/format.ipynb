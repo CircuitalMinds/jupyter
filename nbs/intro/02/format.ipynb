{
 "cells": [
  {
   "cell_type": "code",
   "execution_count": 1,
   "metadata": {},
   "outputs": [
    {
     "name": "stdout",
     "output_type": "stream",
     "text": [
      "00ff\n",
      "<class 'str'>\n"
     ]
    }
   ],
   "source": [
    "s = format(255, '04x')\n",
    "print(s)\n",
    "print(type(s))"
   ]
  },
  {
   "cell_type": "code",
   "execution_count": 2,
   "metadata": {},
   "outputs": [
    {
     "name": "stdout",
     "output_type": "stream",
     "text": [
      "*****center*****\n"
     ]
    }
   ],
   "source": [
    "print(format('center', '*^16'))"
   ]
  },
  {
   "cell_type": "code",
   "execution_count": 3,
   "metadata": {},
   "outputs": [
    {
     "name": "stdout",
     "output_type": "stream",
     "text": [
      "00ff\n",
      "<class 'str'>\n"
     ]
    }
   ],
   "source": [
    "s = '{:04x}'.format(255)\n",
    "print(s)\n",
    "print(type(s))"
   ]
  },
  {
   "cell_type": "code",
   "execution_count": 4,
   "metadata": {},
   "outputs": [
    {
     "name": "stdout",
     "output_type": "stream",
     "text": [
      "*****center*****\n"
     ]
    }
   ],
   "source": [
    "print('{:*^16}'.format('center'))"
   ]
  },
  {
   "cell_type": "code",
   "execution_count": 5,
   "metadata": {},
   "outputs": [
    {
     "name": "stdout",
     "output_type": "stream",
     "text": [
      "100-二百-300\n"
     ]
    }
   ],
   "source": [
    "print('{}-{}-{}'.format('100', '二百', 300))"
   ]
  },
  {
   "cell_type": "code",
   "execution_count": 6,
   "metadata": {},
   "outputs": [
    {
     "name": "stdout",
     "output_type": "stream",
     "text": [
      "foo-bar-foo\n"
     ]
    }
   ],
   "source": [
    "print('{0}-{1}-{0}'.format('foo', 'bar'))"
   ]
  },
  {
   "cell_type": "code",
   "execution_count": 7,
   "metadata": {},
   "outputs": [
    {
     "name": "stdout",
     "output_type": "stream",
     "text": [
      "2018年1月11日\n"
     ]
    }
   ],
   "source": [
    "print('{year}年{month}月{day}日'.format(year=2018, month=1, day=11))"
   ]
  },
  {
   "cell_type": "code",
   "execution_count": 8,
   "metadata": {},
   "outputs": [
    {
     "name": "stdout",
     "output_type": "stream",
     "text": [
      "one-two-three\n"
     ]
    }
   ],
   "source": [
    "l = ['one', 'two', 'three']\n",
    "print('{0[0]}-{0[1]}-{0[2]}'.format(l))"
   ]
  },
  {
   "cell_type": "code",
   "execution_count": 9,
   "metadata": {},
   "outputs": [
    {
     "name": "stdout",
     "output_type": "stream",
     "text": [
      "Alice is 20 years old.\n",
      "Bob is 30 years old.\n"
     ]
    }
   ],
   "source": [
    "d1 = {'name': 'Alice', 'age': 20}\n",
    "d2 = {'name': 'Bob', 'age': 30}\n",
    "print('{0[name]} is {0[age]} years old.\\n{1[name]} is {1[age]} years old.'.format(d1, d2))"
   ]
  },
  {
   "cell_type": "code",
   "execution_count": 10,
   "metadata": {},
   "outputs": [
    {
     "name": "stdout",
     "output_type": "stream",
     "text": [
      "one-two-three\n"
     ]
    }
   ],
   "source": [
    "l = ['one', 'two', 'three']\n",
    "print('{}-{}-{}'.format(*l))"
   ]
  },
  {
   "cell_type": "code",
   "execution_count": 11,
   "metadata": {},
   "outputs": [
    {
     "name": "stdout",
     "output_type": "stream",
     "text": [
      "Alice is 20 years old.\n"
     ]
    }
   ],
   "source": [
    "d = {'name': 'Alice', 'age': 20}\n",
    "print('{name} is {age} years old.'.format(**d))"
   ]
  },
  {
   "cell_type": "code",
   "execution_count": 12,
   "metadata": {},
   "outputs": [
    {
     "name": "stdout",
     "output_type": "stream",
     "text": [
      "{}-100-{100}\n"
     ]
    }
   ],
   "source": [
    "print('{{}}-{num}-{{{num}}}'.format(num=100))"
   ]
  },
  {
   "cell_type": "code",
   "execution_count": 13,
   "metadata": {},
   "outputs": [
    {
     "name": "stdout",
     "output_type": "stream",
     "text": [
      "ff\n"
     ]
    }
   ],
   "source": [
    "print('{num:x}'.format(num=255))"
   ]
  },
  {
   "cell_type": "code",
   "execution_count": 14,
   "metadata": {},
   "outputs": [
    {
     "name": "stdout",
     "output_type": "stream",
     "text": [
      "2018年01月11日\n"
     ]
    }
   ],
   "source": [
    "print('{year}年{month:02}月{day:02}日'.format(year=2018, month=1, day=11))"
   ]
  },
  {
   "cell_type": "code",
   "execution_count": 15,
   "metadata": {},
   "outputs": [
    {
     "name": "stdout",
     "output_type": "stream",
     "text": [
      "left  : 100       \n",
      "center:    100    \n",
      "right :        100\n"
     ]
    }
   ],
   "source": [
    "print('left  : {:<10}'.format(100))\n",
    "print('center: {:^10}'.format(100))\n",
    "print('right : {:>10}'.format(100))"
   ]
  },
  {
   "cell_type": "code",
   "execution_count": 16,
   "metadata": {},
   "outputs": [
    {
     "name": "stdout",
     "output_type": "stream",
     "text": [
      "left  : 100*******\n",
      "center: aaa100aaaa\n",
      "right : 鬼鬼鬼鬼鬼鬼鬼100\n"
     ]
    }
   ],
   "source": [
    "print('left  : {:*<10}'.format(100))\n",
    "print('center: {:a^10}'.format(100))\n",
    "print('right : {:鬼>10}'.format(100))"
   ]
  },
  {
   "cell_type": "code",
   "execution_count": 17,
   "metadata": {},
   "outputs": [
    {
     "name": "stdout",
     "output_type": "stream",
     "text": [
      "sign: 000000-100\n",
      "sign: -000000100\n",
      "sign: +000000100\n"
     ]
    }
   ],
   "source": [
    "print('sign: {:0>10}'.format(-100))\n",
    "print('sign: {:0=10}'.format(-100))\n",
    "print('sign: {:0=+10}'.format(100))"
   ]
  },
  {
   "cell_type": "code",
   "execution_count": 18,
   "metadata": {},
   "outputs": [],
   "source": [
    "# print('sign: {:0=10}'.format('-100'))\n",
    "# ValueError: '=' alignment not allowed in string format specifier"
   ]
  },
  {
   "cell_type": "code",
   "execution_count": 19,
   "metadata": {},
   "outputs": [
    {
     "name": "stdout",
     "output_type": "stream",
     "text": [
      "sign: -000000100\n"
     ]
    }
   ],
   "source": [
    "print('sign: {:0=10}'.format(int('-100')))"
   ]
  },
  {
   "cell_type": "code",
   "execution_count": 20,
   "metadata": {},
   "outputs": [
    {
     "name": "stdout",
     "output_type": "stream",
     "text": [
      "left  : 1.23******\n",
      "center: aaa1.23aaa\n",
      "right : 鬼鬼鬼鬼鬼鬼1.23\n"
     ]
    }
   ],
   "source": [
    "print('left  : {:*<10}'.format(1.23))\n",
    "print('center: {:a^10}'.format(1.23))\n",
    "print('right : {:鬼>10}'.format(1.23))"
   ]
  },
  {
   "cell_type": "code",
   "execution_count": 21,
   "metadata": {},
   "outputs": [
    {
     "name": "stdout",
     "output_type": "stream",
     "text": [
      "sign: 00000-1.23\n",
      "sign: -000001.23\n",
      "sign: +000001.23\n"
     ]
    }
   ],
   "source": [
    "print('sign: {:0>10}'.format(-1.23))\n",
    "print('sign: {:0=10}'.format(-1.23))\n",
    "print('sign: {:0=+10}'.format(1.23))"
   ]
  },
  {
   "cell_type": "code",
   "execution_count": 22,
   "metadata": {},
   "outputs": [
    {
     "name": "stdout",
     "output_type": "stream",
     "text": [
      "zero padding: 0000000100\n",
      "zero padding: 0000000100\n"
     ]
    }
   ],
   "source": [
    "print('zero padding: {:0=10}'.format(100))\n",
    "print('zero padding: {:010}'.format(100))"
   ]
  },
  {
   "cell_type": "code",
   "execution_count": 23,
   "metadata": {},
   "outputs": [
    {
     "name": "stdout",
     "output_type": "stream",
     "text": [
      "zero padding: -000000100\n",
      "zero padding: -000000100\n"
     ]
    }
   ],
   "source": [
    "print('zero padding: {:0=10}'.format(-100))\n",
    "print('zero padding: {:010}'.format(-100))"
   ]
  },
  {
   "cell_type": "code",
   "execution_count": 24,
   "metadata": {},
   "outputs": [],
   "source": [
    "# print('zero padding: {:010}'.format('-100'))\n",
    "# ValueError: '=' alignment not allowed in string format specifier"
   ]
  },
  {
   "cell_type": "code",
   "execution_count": 25,
   "metadata": {},
   "outputs": [
    {
     "name": "stdout",
     "output_type": "stream",
     "text": [
      "sign: 100\n",
      "sign: -100\n"
     ]
    }
   ],
   "source": [
    "print('sign: {}'.format(100))\n",
    "print('sign: {}'.format(-100))"
   ]
  },
  {
   "cell_type": "code",
   "execution_count": 26,
   "metadata": {},
   "outputs": [
    {
     "name": "stdout",
     "output_type": "stream",
     "text": [
      "sign: +100\n",
      "sign: -100\n"
     ]
    }
   ],
   "source": [
    "print('sign: {:+}'.format(100))\n",
    "print('sign: {:+}'.format(-100))"
   ]
  },
  {
   "cell_type": "code",
   "execution_count": 27,
   "metadata": {},
   "outputs": [
    {
     "name": "stdout",
     "output_type": "stream",
     "text": [
      "sign:  100\n",
      "sign: -100\n"
     ]
    }
   ],
   "source": [
    "print('sign: {: }'.format(100))\n",
    "print('sign: {: }'.format(-100))"
   ]
  },
  {
   "cell_type": "code",
   "execution_count": 28,
   "metadata": {},
   "outputs": [
    {
     "name": "stdout",
     "output_type": "stream",
     "text": [
      "sign: 000100\n",
      "sign: -00100\n"
     ]
    }
   ],
   "source": [
    "print('sign: {:06}'.format(100))\n",
    "print('sign: {:06}'.format(-100))"
   ]
  },
  {
   "cell_type": "code",
   "execution_count": 29,
   "metadata": {},
   "outputs": [
    {
     "name": "stdout",
     "output_type": "stream",
     "text": [
      "sign: +00100\n",
      "sign: -00100\n"
     ]
    }
   ],
   "source": [
    "print('sign: {:+06}'.format(100))\n",
    "print('sign: {:+06}'.format(-100))"
   ]
  },
  {
   "cell_type": "code",
   "execution_count": 30,
   "metadata": {},
   "outputs": [
    {
     "name": "stdout",
     "output_type": "stream",
     "text": [
      "sign:  00100\n",
      "sign: -00100\n"
     ]
    }
   ],
   "source": [
    "print('sign: {: 06}'.format(100))\n",
    "print('sign: {: 06}'.format(-100))"
   ]
  },
  {
   "cell_type": "code",
   "execution_count": 31,
   "metadata": {},
   "outputs": [
    {
     "name": "stdout",
     "output_type": "stream",
     "text": [
      "sign: ___100\n",
      "sign: __-100\n"
     ]
    }
   ],
   "source": [
    "print('sign: {:_>6}'.format(100))\n",
    "print('sign: {:_>6}'.format(-100))"
   ]
  },
  {
   "cell_type": "code",
   "execution_count": 32,
   "metadata": {},
   "outputs": [
    {
     "name": "stdout",
     "output_type": "stream",
     "text": [
      "sign: __+100\n",
      "sign: __-100\n"
     ]
    }
   ],
   "source": [
    "print('sign: {:_>+6}'.format(100))\n",
    "print('sign: {:_>+6}'.format(-100))"
   ]
  },
  {
   "cell_type": "code",
   "execution_count": 33,
   "metadata": {},
   "outputs": [
    {
     "name": "stdout",
     "output_type": "stream",
     "text": [
      "sign: __ 100\n",
      "sign: __-100\n"
     ]
    }
   ],
   "source": [
    "print('sign: {:_> 6}'.format(100))\n",
    "print('sign: {:_> 6}'.format(-100))"
   ]
  },
  {
   "cell_type": "code",
   "execution_count": 34,
   "metadata": {},
   "outputs": [
    {
     "name": "stdout",
     "output_type": "stream",
     "text": [
      "100,000,000\n"
     ]
    }
   ],
   "source": [
    "print('{:,}'.format(100000000))"
   ]
  },
  {
   "cell_type": "code",
   "execution_count": 35,
   "metadata": {},
   "outputs": [
    {
     "name": "stdout",
     "output_type": "stream",
     "text": [
      "100_000_000\n"
     ]
    }
   ],
   "source": [
    "print('{:_}'.format(100000000))"
   ]
  },
  {
   "cell_type": "code",
   "execution_count": 36,
   "metadata": {},
   "outputs": [
    {
     "name": "stdout",
     "output_type": "stream",
     "text": [
      "1,234.56789\n"
     ]
    }
   ],
   "source": [
    "print('{:,}'.format(1234.56789))"
   ]
  },
  {
   "cell_type": "code",
   "execution_count": 37,
   "metadata": {},
   "outputs": [
    {
     "name": "stdout",
     "output_type": "stream",
     "text": [
      "bin: 11111111\n",
      "oct: 377\n",
      "dec: 255\n",
      "hex: ff\n",
      "HEX: FF\n"
     ]
    }
   ],
   "source": [
    "print('bin: {:b}'.format(255))\n",
    "print('oct: {:o}'.format(255))\n",
    "print('dec: {:d}'.format(255))\n",
    "print('hex: {:x}'.format(255))\n",
    "print('HEX: {:X}'.format(255))"
   ]
  },
  {
   "cell_type": "code",
   "execution_count": 38,
   "metadata": {},
   "outputs": [
    {
     "name": "stdout",
     "output_type": "stream",
     "text": [
      "bin: 11111111\n",
      "oct: 00000377\n",
      "dec: 00000255\n",
      "hex: 000000ff\n",
      "HEX: 000000FF\n"
     ]
    }
   ],
   "source": [
    "print('bin: {:08b}'.format(255))\n",
    "print('oct: {:08o}'.format(255))\n",
    "print('dec: {:08d}'.format(255))\n",
    "print('hex: {:08x}'.format(255))\n",
    "print('HEX: {:08X}'.format(255))"
   ]
  },
  {
   "cell_type": "code",
   "execution_count": 39,
   "metadata": {},
   "outputs": [
    {
     "name": "stdout",
     "output_type": "stream",
     "text": [
      "bin: 0b11111111\n",
      "oct: 0o00000377\n",
      "dec: 0000000255\n",
      "hex: 0x000000ff\n",
      "HEX: 0X000000FF\n"
     ]
    }
   ],
   "source": [
    "print('bin: {:#010b}'.format(255))\n",
    "print('oct: {:#010o}'.format(255))\n",
    "print('dec: {:#010d}'.format(255))\n",
    "print('hex: {:#010x}'.format(255))\n",
    "print('HEX: {:#010X}'.format(255))"
   ]
  },
  {
   "cell_type": "code",
   "execution_count": 40,
   "metadata": {},
   "outputs": [
    {
     "name": "stdout",
     "output_type": "stream",
     "text": [
      "hex: 000000ff\n",
      "hex: 0000_00ff\n",
      "hex: 0x0000_00ff\n"
     ]
    }
   ],
   "source": [
    "print('hex: {:08x}'.format(255))\n",
    "print('hex: {:09_x}'.format(255))\n",
    "print('hex: {:#011_x}'.format(255))"
   ]
  },
  {
   "cell_type": "code",
   "execution_count": 41,
   "metadata": {},
   "outputs": [],
   "source": [
    "# print('hex: {:08x}'.format('255'))\n",
    "# ValueError: Unknown format code 'X' for object of type 'str'"
   ]
  },
  {
   "cell_type": "code",
   "execution_count": 42,
   "metadata": {},
   "outputs": [
    {
     "name": "stdout",
     "output_type": "stream",
     "text": [
      "hex: 000000ff\n"
     ]
    }
   ],
   "source": [
    "print('hex: {:08x}'.format(int('255')))"
   ]
  },
  {
   "cell_type": "code",
   "execution_count": 43,
   "metadata": {},
   "outputs": [
    {
     "name": "stdout",
     "output_type": "stream",
     "text": [
      "123.46\n",
      "123.45600\n",
      "0.000\n"
     ]
    }
   ],
   "source": [
    "print('{:.2f}'.format(123.456))\n",
    "print('{:.5f}'.format(123.456))\n",
    "print('{:.3f}'.format(0.0001234))"
   ]
  },
  {
   "cell_type": "code",
   "execution_count": 44,
   "metadata": {},
   "outputs": [
    {
     "name": "stdout",
     "output_type": "stream",
     "text": [
      "   123.45600\n",
      "000123.45600\n",
      "123.45600\n"
     ]
    }
   ],
   "source": [
    "print('{:>12.5f}'.format(123.456))\n",
    "print('{:012.5f}'.format(123.456))\n",
    "print('{:06.5f}'.format(123.456))"
   ]
  },
  {
   "cell_type": "code",
   "execution_count": 45,
   "metadata": {},
   "outputs": [
    {
     "name": "stdout",
     "output_type": "stream",
     "text": [
      "0\n",
      "0\n",
      "1\n"
     ]
    }
   ],
   "source": [
    "print('{:.0f}'.format(0.4))\n",
    "print('{:.0f}'.format(0.5))\n",
    "print('{:.0f}'.format(0.6))"
   ]
  },
  {
   "cell_type": "code",
   "execution_count": 46,
   "metadata": {},
   "outputs": [
    {
     "name": "stdout",
     "output_type": "stream",
     "text": [
      "0.0001234\n",
      "1.234e-05\n"
     ]
    }
   ],
   "source": [
    "print('{}'.format(0.0001234))\n",
    "print('{}'.format(0.00001234))"
   ]
  },
  {
   "cell_type": "code",
   "execution_count": 47,
   "metadata": {},
   "outputs": [
    {
     "name": "stdout",
     "output_type": "stream",
     "text": [
      "1234000000000000.0\n",
      "1.234e+16\n",
      "12340000000000000000000000\n"
     ]
    }
   ],
   "source": [
    "print('{}'.format(1234000000000000.0))\n",
    "print('{}'.format(12340000000000000.0))\n",
    "print('{}'.format(12340000000000000000000000))"
   ]
  },
  {
   "cell_type": "code",
   "execution_count": 48,
   "metadata": {},
   "outputs": [
    {
     "name": "stdout",
     "output_type": "stream",
     "text": [
      "1.234000e-04\n",
      "1.234000E-04\n"
     ]
    }
   ],
   "source": [
    "print('{:e}'.format(0.0001234))\n",
    "print('{:E}'.format(0.0001234))"
   ]
  },
  {
   "cell_type": "code",
   "execution_count": 49,
   "metadata": {},
   "outputs": [
    {
     "name": "stdout",
     "output_type": "stream",
     "text": [
      "1.23400e-04\n",
      "1.23E-04\n"
     ]
    }
   ],
   "source": [
    "print('{:.5e}'.format(0.0001234))\n",
    "print('{:.2E}'.format(0.0001234))"
   ]
  },
  {
   "cell_type": "code",
   "execution_count": 50,
   "metadata": {},
   "outputs": [
    {
     "name": "stdout",
     "output_type": "stream",
     "text": [
      "9.87650e+02\n",
      "9.88E+02\n"
     ]
    }
   ],
   "source": [
    "print('{:.5e}'.format(987.65))\n",
    "print('{:.2E}'.format(987.65))"
   ]
  },
  {
   "cell_type": "code",
   "execution_count": 51,
   "metadata": {},
   "outputs": [
    {
     "name": "stdout",
     "output_type": "stream",
     "text": [
      " 9.87650e+02\n",
      "00009.88E+02\n"
     ]
    }
   ],
   "source": [
    "print('{:>12.5e}'.format(987.65))\n",
    "print('{:012.2E}'.format(987.65))"
   ]
  },
  {
   "cell_type": "code",
   "execution_count": 52,
   "metadata": {},
   "outputs": [
    {
     "name": "stdout",
     "output_type": "stream",
     "text": [
      "1.2e+02\n",
      "123\n",
      "123.456\n",
      "0.000123\n"
     ]
    }
   ],
   "source": [
    "print('{:.2g}'.format(123.456))\n",
    "print('{:.3g}'.format(123.456))\n",
    "print('{:.8g}'.format(123.456))\n",
    "print('{:.3g}'.format(0.0001234))"
   ]
  },
  {
   "cell_type": "code",
   "execution_count": 53,
   "metadata": {},
   "outputs": [
    {
     "name": "stdout",
     "output_type": "stream",
     "text": [
      "1.2e+02\n",
      "1.23e+02\n",
      "123.456\n",
      "0.000123\n"
     ]
    }
   ],
   "source": [
    "print('{:.2}'.format(123.456))\n",
    "print('{:.3}'.format(123.456))\n",
    "print('{:.8}'.format(123.456))\n",
    "print('{:.3}'.format(0.0001234))"
   ]
  },
  {
   "cell_type": "code",
   "execution_count": 54,
   "metadata": {},
   "outputs": [
    {
     "name": "stdout",
     "output_type": "stream",
     "text": [
      "123.456\n",
      "1.235e+02\n",
      "123\n",
      "1.23e+02\n"
     ]
    }
   ],
   "source": [
    "print('{:.3f}'.format(123.456))\n",
    "print('{:.3e}'.format(123.456))\n",
    "print('{:.3g}'.format(123.456))\n",
    "print('{:.3}'.format(123.456))"
   ]
  },
  {
   "cell_type": "code",
   "execution_count": 55,
   "metadata": {},
   "outputs": [
    {
     "name": "stdout",
     "output_type": "stream",
     "text": [
      "123.45600000\n",
      "1.23456000e+02\n",
      "123.456\n",
      "123.456\n"
     ]
    }
   ],
   "source": [
    "print('{:.8f}'.format(123.456))\n",
    "print('{:.8e}'.format(123.456))\n",
    "print('{:.8g}'.format(123.456))\n",
    "print('{:.8}'.format(123.456))"
   ]
  },
  {
   "cell_type": "code",
   "execution_count": 56,
   "metadata": {},
   "outputs": [
    {
     "name": "stdout",
     "output_type": "stream",
     "text": [
      "1.2346e+02\n",
      "1.2345e-05\n",
      "1.2000e+01\n"
     ]
    }
   ],
   "source": [
    "print('{:.4e}'.format(123.456))\n",
    "print('{:.4e}'.format(0.000012345))\n",
    "print('{:.4e}'.format(12))"
   ]
  },
  {
   "cell_type": "code",
   "execution_count": 57,
   "metadata": {},
   "outputs": [
    {
     "name": "stdout",
     "output_type": "stream",
     "text": [
      "12.345000%\n",
      "12.35%\n"
     ]
    }
   ],
   "source": [
    "print('{:%}'.format(0.12345))\n",
    "print('{:.2%}'.format(0.12345))"
   ]
  },
  {
   "cell_type": "code",
   "execution_count": 58,
   "metadata": {},
   "outputs": [
    {
     "name": "stdout",
     "output_type": "stream",
     "text": [
      "1000.000000%\n",
      "1000.00%\n"
     ]
    }
   ],
   "source": [
    "print('{:%}'.format(10))\n",
    "print('{:.2%}'.format(10))"
   ]
  },
  {
   "cell_type": "code",
   "execution_count": 59,
   "metadata": {},
   "outputs": [
    {
     "name": "stdout",
     "output_type": "stream",
     "text": [
      " 12.35%\n",
      "012.35%\n"
     ]
    }
   ],
   "source": [
    "print('{:>7.2%}'.format(0.12345))\n",
    "print('{:07.2%}'.format(0.12345))"
   ]
  }
 ],
 "metadata": {
  "kernelspec": {
   "display_name": "Python 3",
   "language": "python",
   "name": "python3"
  },
  "language_info": {
   "codemirror_mode": {
    "name": "ipython",
    "version": 3
   },
   "file_extension": ".py",
   "mimetype": "text/x-python",
   "name": "python",
   "nbconvert_exporter": "python",
   "pygments_lexer": "ipython3",
   "version": "3.7.0"
  }
 },
 "nbformat": 4,
 "nbformat_minor": 2
}
