{
 "cells": [
  {
   "cell_type": "code",
   "execution_count": 1,
   "metadata": {},
   "outputs": [],
   "source": [
    "import re"
   ]
  },
  {
   "cell_type": "code",
   "execution_count": 2,
   "metadata": {},
   "outputs": [
    {
     "name": "stdout",
     "output_type": "stream",
     "text": [
      "<re.Match object; span=(0, 3), match='123'>\n"
     ]
    }
   ],
   "source": [
    "p = re.compile('[0123456789]+')\n",
    "print(p.fullmatch('123'))"
   ]
  },
  {
   "cell_type": "code",
   "execution_count": 3,
   "metadata": {},
   "outputs": [
    {
     "name": "stdout",
     "output_type": "stream",
     "text": [
      "None\n"
     ]
    }
   ],
   "source": [
    "p = re.compile('[^0123456789]+')\n",
    "print(p.fullmatch('123'))"
   ]
  },
  {
   "cell_type": "code",
   "execution_count": 4,
   "metadata": {},
   "outputs": [
    {
     "name": "stdout",
     "output_type": "stream",
     "text": [
      "<re.Match object; span=(0, 3), match='abc'>\n"
     ]
    }
   ],
   "source": [
    "print(p.fullmatch('abc'))"
   ]
  },
  {
   "cell_type": "code",
   "execution_count": 5,
   "metadata": {},
   "outputs": [
    {
     "name": "stdout",
     "output_type": "stream",
     "text": [
      "<re.Match object; span=(0, 3), match='123'>\n"
     ]
    }
   ],
   "source": [
    "p = re.compile('[0-9]+')\n",
    "print(p.fullmatch('123'))"
   ]
  },
  {
   "cell_type": "code",
   "execution_count": 6,
   "metadata": {},
   "outputs": [],
   "source": [
    "# p = re.compile('[9-0]+')\n",
    "# error: bad character range 9-0 at position 1"
   ]
  },
  {
   "cell_type": "code",
   "execution_count": 7,
   "metadata": {},
   "outputs": [
    {
     "name": "stdout",
     "output_type": "stream",
     "text": [
      "<re.Match object; span=(0, 13), match='あいうえおぁぃぅぇぉわをん'>\n"
     ]
    }
   ],
   "source": [
    "p = re.compile('[\\u3041-\\u309F]+')\n",
    "print(p.fullmatch('あいうえおぁぃぅぇぉわをん'))"
   ]
  },
  {
   "cell_type": "code",
   "execution_count": 8,
   "metadata": {},
   "outputs": [
    {
     "name": "stdout",
     "output_type": "stream",
     "text": [
      "<re.Match object; span=(0, 13), match='あいうえおぁぃぅぇぉわをん'>\n"
     ]
    }
   ],
   "source": [
    "p = re.compile('[ぁ-ゟ]+')\n",
    "print(p.fullmatch('あいうえおぁぃぅぇぉわをん'))"
   ]
  },
  {
   "cell_type": "code",
   "execution_count": 9,
   "metadata": {},
   "outputs": [
    {
     "name": "stdout",
     "output_type": "stream",
     "text": [
      "[ぁ-ゟ]+\n"
     ]
    }
   ],
   "source": [
    "print('[\\u3041-\\u309F]+')"
   ]
  },
  {
   "cell_type": "code",
   "execution_count": 10,
   "metadata": {},
   "outputs": [
    {
     "name": "stdout",
     "output_type": "stream",
     "text": [
      "[\\u3041-\\u309F]+\n"
     ]
    }
   ],
   "source": [
    "print(r'[\\u3041-\\u309F]+')"
   ]
  },
  {
   "cell_type": "code",
   "execution_count": 11,
   "metadata": {},
   "outputs": [
    {
     "name": "stdout",
     "output_type": "stream",
     "text": [
      "[ぁ-ゟ]+\n"
     ]
    }
   ],
   "source": [
    "print(r'[{}-{}]+'.format('\\u3041', '\\u309F'))"
   ]
  },
  {
   "cell_type": "code",
   "execution_count": 12,
   "metadata": {},
   "outputs": [
    {
     "name": "stdout",
     "output_type": "stream",
     "text": [
      "<re.Match object; span=(0, 6), match='abcABC'>\n"
     ]
    }
   ],
   "source": [
    "p = re.compile('[a-zA-Z]+')\n",
    "print(p.fullmatch('abcABC'))"
   ]
  },
  {
   "cell_type": "code",
   "execution_count": 13,
   "metadata": {},
   "outputs": [
    {
     "name": "stdout",
     "output_type": "stream",
     "text": [
      "<re.Match object; span=(0, 9), match='abc-[ABC]'>\n"
     ]
    }
   ],
   "source": [
    "p = re.compile('[a-zA-Z\\-[\\]]+')\n",
    "print(p.fullmatch('abc-[ABC]'))"
   ]
  },
  {
   "cell_type": "code",
   "execution_count": 14,
   "metadata": {},
   "outputs": [
    {
     "name": "stdout",
     "output_type": "stream",
     "text": [
      "['abcABCxyzXYZ']\n"
     ]
    }
   ],
   "source": [
    "p = re.compile('[a-zA-Z]+')\n",
    "print(p.findall('abcABCxyzXYZ'))"
   ]
  },
  {
   "cell_type": "code",
   "execution_count": 15,
   "metadata": {},
   "outputs": [
    {
     "name": "stdout",
     "output_type": "stream",
     "text": [
      "['abc', 'ABC', 'xyz', 'XYZ']\n"
     ]
    }
   ],
   "source": [
    "p = re.compile('[a-z]+|[A-Z]+')\n",
    "print(p.findall('abcABCxyzXYZ'))"
   ]
  }
 ],
 "metadata": {
  "kernelspec": {
   "display_name": "Python 3",
   "language": "python",
   "name": "python3"
  },
  "language_info": {
   "codemirror_mode": {
    "name": "ipython",
    "version": 3
   },
   "file_extension": ".py",
   "mimetype": "text/x-python",
   "name": "python",
   "nbconvert_exporter": "python",
   "pygments_lexer": "ipython3",
   "version": "3.7.3"
  }
 },
 "nbformat": 4,
 "nbformat_minor": 2
}
