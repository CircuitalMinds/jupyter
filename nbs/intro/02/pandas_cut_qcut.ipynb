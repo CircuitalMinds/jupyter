{
 "cells": [
  {
   "cell_type": "code",
   "execution_count": 1,
   "metadata": {
    "collapsed": true
   },
   "outputs": [],
   "source": [
    "import pandas as pd"
   ]
  },
  {
   "cell_type": "code",
   "execution_count": 2,
   "metadata": {
    "collapsed": true
   },
   "outputs": [],
   "source": [
    "s = pd.Series(data=[x**2 for x in range(11)],\n",
    "              index=list('abcdefghijk'))"
   ]
  },
  {
   "cell_type": "code",
   "execution_count": 3,
   "metadata": {},
   "outputs": [
    {
     "name": "stdout",
     "output_type": "stream",
     "text": [
      "a      0\n",
      "b      1\n",
      "c      4\n",
      "d      9\n",
      "e     16\n",
      "f     25\n",
      "g     36\n",
      "h     49\n",
      "i     64\n",
      "j     81\n",
      "k    100\n",
      "dtype: int64\n"
     ]
    }
   ],
   "source": [
    "print(s)"
   ]
  },
  {
   "cell_type": "code",
   "execution_count": 4,
   "metadata": {},
   "outputs": [
    {
     "name": "stdout",
     "output_type": "stream",
     "text": [
      "a     (-0.1, 25.0]\n",
      "b     (-0.1, 25.0]\n",
      "c     (-0.1, 25.0]\n",
      "d     (-0.1, 25.0]\n",
      "e     (-0.1, 25.0]\n",
      "f     (-0.1, 25.0]\n",
      "g     (25.0, 50.0]\n",
      "h     (25.0, 50.0]\n",
      "i     (50.0, 75.0]\n",
      "j    (75.0, 100.0]\n",
      "k    (75.0, 100.0]\n",
      "dtype: category\n",
      "Categories (4, interval[float64]): [(-0.1, 25.0] < (25.0, 50.0] < (50.0, 75.0] < (75.0, 100.0]]\n"
     ]
    }
   ],
   "source": [
    "s_cut = pd.cut(s, 4)\n",
    "print(s_cut)"
   ]
  },
  {
   "cell_type": "code",
   "execution_count": 5,
   "metadata": {},
   "outputs": [
    {
     "name": "stdout",
     "output_type": "stream",
     "text": [
      "<class 'pandas.core.series.Series'>\n"
     ]
    }
   ],
   "source": [
    "print(type(s_cut))"
   ]
  },
  {
   "cell_type": "code",
   "execution_count": 6,
   "metadata": {},
   "outputs": [
    {
     "name": "stdout",
     "output_type": "stream",
     "text": [
      "a          NaN\n",
      "b      (0, 10]\n",
      "c      (0, 10]\n",
      "d      (0, 10]\n",
      "e     (10, 50]\n",
      "f     (10, 50]\n",
      "g     (10, 50]\n",
      "h     (10, 50]\n",
      "i    (50, 100]\n",
      "j    (50, 100]\n",
      "k    (50, 100]\n",
      "dtype: category\n",
      "Categories (3, interval[int64]): [(0, 10] < (10, 50] < (50, 100]]\n"
     ]
    }
   ],
   "source": [
    "print(pd.cut(s, [0, 10, 50, 100]))"
   ]
  },
  {
   "cell_type": "code",
   "execution_count": 7,
   "metadata": {},
   "outputs": [
    {
     "name": "stdout",
     "output_type": "stream",
     "text": [
      "a     (-0.1, 25.0]\n",
      "b     (-0.1, 25.0]\n",
      "c     (-0.1, 25.0]\n",
      "d     (-0.1, 25.0]\n",
      "e     (-0.1, 25.0]\n",
      "f     (-0.1, 25.0]\n",
      "g     (25.0, 50.0]\n",
      "h     (25.0, 50.0]\n",
      "i     (50.0, 75.0]\n",
      "j    (75.0, 100.0]\n",
      "k    (75.0, 100.0]\n",
      "dtype: category\n",
      "Categories (4, interval[float64]): [(-0.1, 25.0] < (25.0, 50.0] < (50.0, 75.0] < (75.0, 100.0]]\n"
     ]
    }
   ],
   "source": [
    "s_cut, bins = pd.cut(s, 4, retbins=True)\n",
    "print(s_cut)"
   ]
  },
  {
   "cell_type": "code",
   "execution_count": 8,
   "metadata": {},
   "outputs": [
    {
     "name": "stdout",
     "output_type": "stream",
     "text": [
      "[ -0.1  25.   50.   75.  100. ]\n",
      "<class 'numpy.ndarray'>\n"
     ]
    }
   ],
   "source": [
    "print(bins)\n",
    "print(type(bins))"
   ]
  },
  {
   "cell_type": "code",
   "execution_count": 9,
   "metadata": {},
   "outputs": [
    {
     "name": "stdout",
     "output_type": "stream",
     "text": [
      "a      [0.0, 25.0)\n",
      "b      [0.0, 25.0)\n",
      "c      [0.0, 25.0)\n",
      "d      [0.0, 25.0)\n",
      "e      [0.0, 25.0)\n",
      "f     [25.0, 50.0)\n",
      "g     [25.0, 50.0)\n",
      "h     [25.0, 50.0)\n",
      "i     [50.0, 75.0)\n",
      "j    [75.0, 100.1)\n",
      "k    [75.0, 100.1)\n",
      "dtype: category\n",
      "Categories (4, interval[float64]): [[0.0, 25.0) < [25.0, 50.0) < [50.0, 75.0) < [75.0, 100.1)]\n"
     ]
    }
   ],
   "source": [
    "print(pd.cut(s, 4, right=False))"
   ]
  },
  {
   "cell_type": "code",
   "execution_count": 10,
   "metadata": {},
   "outputs": [
    {
     "name": "stdout",
     "output_type": "stream",
     "text": [
      "a    0\n",
      "b    0\n",
      "c    0\n",
      "d    0\n",
      "e    0\n",
      "f    0\n",
      "g    1\n",
      "h    1\n",
      "i    2\n",
      "j    3\n",
      "k    3\n",
      "dtype: int64\n"
     ]
    }
   ],
   "source": [
    "print(pd.cut(s, 4, labels=False))"
   ]
  },
  {
   "cell_type": "code",
   "execution_count": 11,
   "metadata": {},
   "outputs": [
    {
     "name": "stdout",
     "output_type": "stream",
     "text": [
      "a      small\n",
      "b      small\n",
      "c      small\n",
      "d      small\n",
      "e      small\n",
      "f      small\n",
      "g     medium\n",
      "h     medium\n",
      "i      large\n",
      "j    x-large\n",
      "k    x-large\n",
      "dtype: category\n",
      "Categories (4, object): [small < medium < large < x-large]\n"
     ]
    }
   ],
   "source": [
    "print(pd.cut(s, 4, labels=['small', 'medium', 'large', 'x-large']))"
   ]
  },
  {
   "cell_type": "code",
   "execution_count": 12,
   "metadata": {},
   "outputs": [
    {
     "name": "stdout",
     "output_type": "stream",
     "text": [
      "a      (-0.1, 33.333]\n",
      "b      (-0.1, 33.333]\n",
      "c      (-0.1, 33.333]\n",
      "d      (-0.1, 33.333]\n",
      "e      (-0.1, 33.333]\n",
      "f      (-0.1, 33.333]\n",
      "g    (33.333, 66.667]\n",
      "h    (33.333, 66.667]\n",
      "i    (33.333, 66.667]\n",
      "j     (66.667, 100.0]\n",
      "k     (66.667, 100.0]\n",
      "dtype: category\n",
      "Categories (3, interval[float64]): [(-0.1, 33.333] < (33.333, 66.667] < (66.667, 100.0]]\n"
     ]
    }
   ],
   "source": [
    "print(pd.cut(s, 3))"
   ]
  },
  {
   "cell_type": "code",
   "execution_count": 13,
   "metadata": {},
   "outputs": [
    {
     "name": "stdout",
     "output_type": "stream",
     "text": [
      "a     (-0.1, 33.3]\n",
      "b     (-0.1, 33.3]\n",
      "c     (-0.1, 33.3]\n",
      "d     (-0.1, 33.3]\n",
      "e     (-0.1, 33.3]\n",
      "f     (-0.1, 33.3]\n",
      "g     (33.3, 66.7]\n",
      "h     (33.3, 66.7]\n",
      "i     (33.3, 66.7]\n",
      "j    (66.7, 100.0]\n",
      "k    (66.7, 100.0]\n",
      "dtype: category\n",
      "Categories (3, interval[float64]): [(-0.1, 33.3] < (33.3, 66.7] < (66.7, 100.0]]\n"
     ]
    }
   ],
   "source": [
    "print(pd.cut(s, 3, precision=1))"
   ]
  },
  {
   "cell_type": "code",
   "execution_count": 14,
   "metadata": {},
   "outputs": [
    {
     "name": "stdout",
     "output_type": "stream",
     "text": [
      "a    (-0.001, 25.0]\n",
      "b    (-0.001, 25.0]\n",
      "c    (-0.001, 25.0]\n",
      "d    (-0.001, 25.0]\n",
      "e    (-0.001, 25.0]\n",
      "f    (-0.001, 25.0]\n",
      "g     (25.0, 100.0]\n",
      "h     (25.0, 100.0]\n",
      "i     (25.0, 100.0]\n",
      "j     (25.0, 100.0]\n",
      "k     (25.0, 100.0]\n",
      "dtype: category\n",
      "Categories (2, interval[float64]): [(-0.001, 25.0] < (25.0, 100.0]]\n"
     ]
    }
   ],
   "source": [
    "print(pd.qcut(s, 2))"
   ]
  },
  {
   "cell_type": "code",
   "execution_count": 15,
   "metadata": {},
   "outputs": [
    {
     "name": "stdout",
     "output_type": "stream",
     "text": [
      "a    Q1\n",
      "b    Q1\n",
      "c    Q1\n",
      "d    Q2\n",
      "e    Q2\n",
      "f    Q2\n",
      "g    Q3\n",
      "h    Q3\n",
      "i    Q4\n",
      "j    Q4\n",
      "k    Q4\n",
      "dtype: category\n",
      "Categories (4, object): [Q1 < Q2 < Q3 < Q4]\n"
     ]
    }
   ],
   "source": [
    "s_qcut, bins = pd.qcut(s, 4, labels=['Q1', 'Q2', 'Q3', 'Q4'], retbins=True)\n",
    "print(s_qcut)"
   ]
  },
  {
   "cell_type": "code",
   "execution_count": 16,
   "metadata": {},
   "outputs": [
    {
     "name": "stdout",
     "output_type": "stream",
     "text": [
      "[  0.    6.5  25.   56.5 100. ]\n"
     ]
    }
   ],
   "source": [
    "print(bins)"
   ]
  },
  {
   "cell_type": "code",
   "execution_count": 17,
   "metadata": {
    "collapsed": true
   },
   "outputs": [],
   "source": [
    "s_duplicate = pd.Series(data=[0, 0, 0, 0, 0, 1, 2, 3, 4, 5, 6],\n",
    "                        index=list('abcdefghijk'))"
   ]
  },
  {
   "cell_type": "code",
   "execution_count": 18,
   "metadata": {},
   "outputs": [
    {
     "name": "stdout",
     "output_type": "stream",
     "text": [
      "a    0\n",
      "b    0\n",
      "c    0\n",
      "d    0\n",
      "e    0\n",
      "f    1\n",
      "g    2\n",
      "h    3\n",
      "i    4\n",
      "j    5\n",
      "k    6\n",
      "dtype: int64\n"
     ]
    }
   ],
   "source": [
    "print(s_duplicate)"
   ]
  },
  {
   "cell_type": "code",
   "execution_count": 19,
   "metadata": {},
   "outputs": [
    {
     "name": "stdout",
     "output_type": "stream",
     "text": [
      "a    (-0.001, 1.0]\n",
      "b    (-0.001, 1.0]\n",
      "c    (-0.001, 1.0]\n",
      "d    (-0.001, 1.0]\n",
      "e    (-0.001, 1.0]\n",
      "f    (-0.001, 1.0]\n",
      "g       (1.0, 6.0]\n",
      "h       (1.0, 6.0]\n",
      "i       (1.0, 6.0]\n",
      "j       (1.0, 6.0]\n",
      "k       (1.0, 6.0]\n",
      "dtype: category\n",
      "Categories (2, interval[float64]): [(-0.001, 1.0] < (1.0, 6.0]]\n"
     ]
    }
   ],
   "source": [
    "print(pd.qcut(s_duplicate, 2))"
   ]
  },
  {
   "cell_type": "code",
   "execution_count": 20,
   "metadata": {
    "collapsed": true
   },
   "outputs": [],
   "source": [
    "# print(pd.qcut(s_duplicate, 4))\n",
    "# ValueError: Bin edges must be unique: array([0. , 0. , 1. , 3.5, 6. ]).\n",
    "# You can drop duplicate edges by setting the 'duplicates' kwarg"
   ]
  },
  {
   "cell_type": "code",
   "execution_count": 21,
   "metadata": {},
   "outputs": [
    {
     "name": "stdout",
     "output_type": "stream",
     "text": [
      "a    (-0.001, 1.0]\n",
      "b    (-0.001, 1.0]\n",
      "c    (-0.001, 1.0]\n",
      "d    (-0.001, 1.0]\n",
      "e    (-0.001, 1.0]\n",
      "f    (-0.001, 1.0]\n",
      "g       (1.0, 3.5]\n",
      "h       (1.0, 3.5]\n",
      "i       (3.5, 6.0]\n",
      "j       (3.5, 6.0]\n",
      "k       (3.5, 6.0]\n",
      "dtype: category\n",
      "Categories (3, interval[float64]): [(-0.001, 1.0] < (1.0, 3.5] < (3.5, 6.0]]\n"
     ]
    }
   ],
   "source": [
    "print(pd.qcut(s_duplicate, 4, duplicates='drop'))"
   ]
  },
  {
   "cell_type": "code",
   "execution_count": 22,
   "metadata": {},
   "outputs": [
    {
     "name": "stdout",
     "output_type": "stream",
     "text": [
      "S    6\n",
      "M    3\n",
      "L    2\n",
      "dtype: int64\n"
     ]
    }
   ],
   "source": [
    "counts = pd.cut(s, 3, labels=['S', 'M', 'L']).value_counts()\n",
    "print(counts)"
   ]
  },
  {
   "cell_type": "code",
   "execution_count": 23,
   "metadata": {},
   "outputs": [
    {
     "name": "stdout",
     "output_type": "stream",
     "text": [
      "<class 'pandas.core.series.Series'>\n"
     ]
    }
   ],
   "source": [
    "print(type(counts))"
   ]
  },
  {
   "cell_type": "code",
   "execution_count": 24,
   "metadata": {},
   "outputs": [
    {
     "name": "stdout",
     "output_type": "stream",
     "text": [
      "3\n"
     ]
    }
   ],
   "source": [
    "print(counts['M'])"
   ]
  },
  {
   "cell_type": "code",
   "execution_count": 25,
   "metadata": {},
   "outputs": [
    {
     "name": "stdout",
     "output_type": "stream",
     "text": [
      "S    6\n",
      "M    3\n",
      "L    2\n",
      "dtype: int64\n"
     ]
    }
   ],
   "source": [
    "print(pd.value_counts(pd.cut(s, 3, labels=['S', 'M', 'L'])))"
   ]
  },
  {
   "cell_type": "code",
   "execution_count": 26,
   "metadata": {},
   "outputs": [
    {
     "name": "stdout",
     "output_type": "stream",
     "text": [
      "[0, 1, 4, 9, 16, 25, 36, 49, 64, 81, 100]\n"
     ]
    }
   ],
   "source": [
    "l = [x**2 for x in range(11)]\n",
    "print(l)"
   ]
  },
  {
   "cell_type": "code",
   "execution_count": 27,
   "metadata": {},
   "outputs": [
    {
     "name": "stdout",
     "output_type": "stream",
     "text": [
      "[S, S, S, S, S, ..., M, M, M, L, L]\n",
      "Length: 11\n",
      "Categories (3, object): [S < M < L]\n"
     ]
    }
   ],
   "source": [
    "l_cut = pd.cut(l, 3, labels=['S', 'M', 'L'])\n",
    "print(l_cut)"
   ]
  },
  {
   "cell_type": "code",
   "execution_count": 28,
   "metadata": {},
   "outputs": [
    {
     "name": "stdout",
     "output_type": "stream",
     "text": [
      "<class 'pandas.core.categorical.Categorical'>\n"
     ]
    }
   ],
   "source": [
    "print(type(l_cut))"
   ]
  },
  {
   "cell_type": "code",
   "execution_count": 29,
   "metadata": {},
   "outputs": [
    {
     "name": "stdout",
     "output_type": "stream",
     "text": [
      "S\n"
     ]
    }
   ],
   "source": [
    "print(l_cut[0])"
   ]
  },
  {
   "cell_type": "code",
   "execution_count": 30,
   "metadata": {},
   "outputs": [
    {
     "name": "stdout",
     "output_type": "stream",
     "text": [
      "['S', 'S', 'S', 'S', 'S', 'S', 'M', 'M', 'M', 'L', 'L']\n"
     ]
    }
   ],
   "source": [
    "print(list(l_cut))"
   ]
  },
  {
   "cell_type": "code",
   "execution_count": 31,
   "metadata": {},
   "outputs": [
    {
     "name": "stdout",
     "output_type": "stream",
     "text": [
      "S    6\n",
      "M    3\n",
      "L    2\n",
      "dtype: int64\n"
     ]
    }
   ],
   "source": [
    "print(pd.value_counts(l_cut))"
   ]
  },
  {
   "cell_type": "code",
   "execution_count": 32,
   "metadata": {
    "collapsed": true
   },
   "outputs": [],
   "source": [
    "df_titanic = pd.read_csv('data/src/titanic_train.csv').drop(['Name', 'Ticket', 'Cabin', 'Embarked'], axis=1)"
   ]
  },
  {
   "cell_type": "code",
   "execution_count": 33,
   "metadata": {},
   "outputs": [
    {
     "name": "stdout",
     "output_type": "stream",
     "text": [
      "   PassengerId  Survived  Pclass     Sex   Age  SibSp  Parch     Fare\n",
      "0            1         0       3    male  22.0      1      0   7.2500\n",
      "1            2         1       1  female  38.0      1      0  71.2833\n",
      "2            3         1       3  female  26.0      0      0   7.9250\n",
      "3            4         1       1  female  35.0      1      0  53.1000\n",
      "4            5         0       3    male  35.0      0      0   8.0500\n"
     ]
    }
   ],
   "source": [
    "print(df_titanic.head())"
   ]
  },
  {
   "cell_type": "code",
   "execution_count": 34,
   "metadata": {},
   "outputs": [
    {
     "name": "stdout",
     "output_type": "stream",
     "text": [
      "count    714.000000\n",
      "mean      29.699118\n",
      "std       14.526497\n",
      "min        0.420000\n",
      "25%       20.125000\n",
      "50%       28.000000\n",
      "75%       38.000000\n",
      "max       80.000000\n",
      "Name: Age, dtype: float64\n"
     ]
    }
   ],
   "source": [
    "print(df_titanic['Age'].describe())"
   ]
  },
  {
   "cell_type": "code",
   "execution_count": 35,
   "metadata": {},
   "outputs": [
    {
     "name": "stdout",
     "output_type": "stream",
     "text": [
      "(0.0, 16.0]     100\n",
      "(16.0, 32.0]    346\n",
      "(32.0, 48.0]    188\n",
      "(48.0, 64.0]     69\n",
      "(64.0, 80.0]     11\n",
      "NaN             177\n",
      "Name: Age, dtype: int64\n"
     ]
    }
   ],
   "source": [
    "print(pd.cut(df_titanic['Age'], 5, precision=0).value_counts(sort=False, dropna=False))"
   ]
  },
  {
   "cell_type": "code",
   "execution_count": 36,
   "metadata": {
    "collapsed": true
   },
   "outputs": [],
   "source": [
    "df_titanic['Age_bin'] = pd.cut(df_titanic['Age'], 5, labels=False)"
   ]
  },
  {
   "cell_type": "code",
   "execution_count": 37,
   "metadata": {},
   "outputs": [
    {
     "name": "stdout",
     "output_type": "stream",
     "text": [
      "   PassengerId  Survived  Pclass     Sex   Age  SibSp  Parch     Fare  Age_bin\n",
      "0            1         0       3    male  22.0      1      0   7.2500      1.0\n",
      "1            2         1       1  female  38.0      1      0  71.2833      2.0\n",
      "2            3         1       3  female  26.0      0      0   7.9250      1.0\n",
      "3            4         1       1  female  35.0      1      0  53.1000      2.0\n",
      "4            5         0       3    male  35.0      0      0   8.0500      2.0\n"
     ]
    }
   ],
   "source": [
    "print(df_titanic.head())"
   ]
  }
 ],
 "metadata": {
  "kernelspec": {
   "display_name": "Python 3",
   "language": "python",
   "name": "python3"
  },
  "language_info": {
   "codemirror_mode": {
    "name": "ipython",
    "version": 3
   },
   "file_extension": ".py",
   "mimetype": "text/x-python",
   "name": "python",
   "nbconvert_exporter": "python",
   "pygments_lexer": "ipython3",
   "version": "3.6.5"
  }
 },
 "nbformat": 4,
 "nbformat_minor": 2
}
