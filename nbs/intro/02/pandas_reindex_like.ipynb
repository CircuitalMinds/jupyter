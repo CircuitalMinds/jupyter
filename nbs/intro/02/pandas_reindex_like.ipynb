{
 "cells": [
  {
   "cell_type": "code",
   "execution_count": 1,
   "metadata": {},
   "outputs": [],
   "source": [
    "import pandas as pd"
   ]
  },
  {
   "cell_type": "code",
   "execution_count": 2,
   "metadata": {},
   "outputs": [
    {
     "name": "stdout",
     "output_type": "stream",
     "text": [
      "    A   B    C\n",
      "10  1  10  100\n",
      "20  2  20  200\n",
      "30  3  30  300\n"
     ]
    }
   ],
   "source": [
    "df1 = pd.DataFrame({'A': [1, 2, 3], 'B': [10, 20, 30], 'C': [100, 200, 300]},\n",
    "                   index=[10, 20, 30])\n",
    "print(df1)"
   ]
  },
  {
   "cell_type": "code",
   "execution_count": 3,
   "metadata": {},
   "outputs": [
    {
     "name": "stdout",
     "output_type": "stream",
     "text": [
      "    A    C\n",
      "10  1  100\n",
      "15  1  100\n",
      "20  1  100\n"
     ]
    }
   ],
   "source": [
    "df2 = pd.DataFrame({'A': [1, 1, 1], 'C': [100, 100, 100]},\n",
    "                   index=[10, 15, 20])\n",
    "print(df2)"
   ]
  },
  {
   "cell_type": "code",
   "execution_count": 4,
   "metadata": {},
   "outputs": [
    {
     "name": "stdout",
     "output_type": "stream",
     "text": [
      "      A      C\n",
      "10  1.0  100.0\n",
      "15  NaN    NaN\n",
      "20  2.0  200.0\n"
     ]
    }
   ],
   "source": [
    "print(df1.reindex(columns=df2.columns, index=df2.index))"
   ]
  },
  {
   "cell_type": "code",
   "execution_count": 5,
   "metadata": {},
   "outputs": [
    {
     "name": "stdout",
     "output_type": "stream",
     "text": [
      "      A      C\n",
      "10  1.0  100.0\n",
      "15  NaN    NaN\n",
      "20  2.0  200.0\n"
     ]
    }
   ],
   "source": [
    "print(df1.reindex_like(df2))"
   ]
  },
  {
   "cell_type": "code",
   "execution_count": 6,
   "metadata": {},
   "outputs": [
    {
     "name": "stdout",
     "output_type": "stream",
     "text": [
      "    A    C\n",
      "10  1  100\n",
      "15  2  200\n",
      "20  2  200\n"
     ]
    }
   ],
   "source": [
    "print(df1.reindex_like(df2, method='bfill'))"
   ]
  },
  {
   "cell_type": "code",
   "execution_count": 7,
   "metadata": {},
   "outputs": [],
   "source": [
    "# print(df1.reindex_like(df2, fill_value=0))\n",
    "# TypeError: reindex_like() got an unexpected keyword argument 'fill_value'"
   ]
  },
  {
   "cell_type": "code",
   "execution_count": 8,
   "metadata": {},
   "outputs": [
    {
     "name": "stdout",
     "output_type": "stream",
     "text": [
      "      A      C\n",
      "10  1.0  100.0\n",
      "15  0.0    0.0\n",
      "20  2.0  200.0\n"
     ]
    }
   ],
   "source": [
    "print(df1.reindex_like(df2).fillna(0))"
   ]
  }
 ],
 "metadata": {
  "kernelspec": {
   "display_name": "Python 3",
   "language": "python",
   "name": "python3"
  },
  "language_info": {
   "codemirror_mode": {
    "name": "ipython",
    "version": 3
   },
   "file_extension": ".py",
   "mimetype": "text/x-python",
   "name": "python",
   "nbconvert_exporter": "python",
   "pygments_lexer": "ipython3",
   "version": "3.7.7"
  }
 },
 "nbformat": 4,
 "nbformat_minor": 2
}
