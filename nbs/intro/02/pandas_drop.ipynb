{
 "cells": [
  {
   "cell_type": "code",
   "execution_count": 1,
   "metadata": {},
   "outputs": [],
   "source": [
    "import pandas as pd"
   ]
  },
  {
   "cell_type": "code",
   "execution_count": 2,
   "metadata": {},
   "outputs": [
    {
     "name": "stdout",
     "output_type": "stream",
     "text": [
      "         age state  point\n",
      "name                     \n",
      "Alice     24    NY     64\n",
      "Bob       42    CA     92\n",
      "Charlie   18    CA     70\n",
      "Dave      68    TX     70\n",
      "Ellen     24    CA     88\n",
      "Frank     30    NY     57\n"
     ]
    }
   ],
   "source": [
    "df = pd.read_csv('data/src/sample_pandas_normal.csv', index_col=0)\n",
    "print(df)"
   ]
  },
  {
   "cell_type": "code",
   "execution_count": 3,
   "metadata": {},
   "outputs": [
    {
     "name": "stdout",
     "output_type": "stream",
     "text": [
      "       age state  point\n",
      "name                   \n",
      "Alice   24    NY     64\n",
      "Bob     42    CA     92\n",
      "Dave    68    TX     70\n",
      "Ellen   24    CA     88\n",
      "Frank   30    NY     57\n"
     ]
    }
   ],
   "source": [
    "print(df.drop('Charlie', axis=0))"
   ]
  },
  {
   "cell_type": "code",
   "execution_count": 4,
   "metadata": {},
   "outputs": [
    {
     "name": "stdout",
     "output_type": "stream",
     "text": [
      "       age state  point\n",
      "name                   \n",
      "Alice   24    NY     64\n",
      "Bob     42    CA     92\n",
      "Dave    68    TX     70\n",
      "Ellen   24    CA     88\n",
      "Frank   30    NY     57\n"
     ]
    }
   ],
   "source": [
    "print(df.drop('Charlie'))"
   ]
  },
  {
   "cell_type": "code",
   "execution_count": 5,
   "metadata": {},
   "outputs": [
    {
     "name": "stdout",
     "output_type": "stream",
     "text": [
      "       age state  point\n",
      "name                   \n",
      "Alice   24    NY     64\n",
      "Bob     42    CA     92\n",
      "Dave    68    TX     70\n",
      "Ellen   24    CA     88\n",
      "Frank   30    NY     57\n"
     ]
    }
   ],
   "source": [
    "print(df.drop(index='Charlie'))"
   ]
  },
  {
   "cell_type": "code",
   "execution_count": 6,
   "metadata": {},
   "outputs": [
    {
     "name": "stdout",
     "output_type": "stream",
     "text": [
      "         age state  point\n",
      "name                     \n",
      "Alice     24    NY     64\n",
      "Charlie   18    CA     70\n",
      "Ellen     24    CA     88\n"
     ]
    }
   ],
   "source": [
    "print(df.drop(['Bob', 'Dave', 'Frank']))"
   ]
  },
  {
   "cell_type": "code",
   "execution_count": 7,
   "metadata": {},
   "outputs": [
    {
     "name": "stdout",
     "output_type": "stream",
     "text": [
      "         age state  point\n",
      "name                     \n",
      "Alice     24    NY     64\n",
      "Charlie   18    CA     70\n",
      "Ellen     24    CA     88\n"
     ]
    }
   ],
   "source": [
    "print(df.drop(index=['Bob', 'Dave', 'Frank']))"
   ]
  },
  {
   "cell_type": "code",
   "execution_count": 8,
   "metadata": {},
   "outputs": [
    {
     "name": "stdout",
     "output_type": "stream",
     "text": [
      "         age state  point\n",
      "name                     \n",
      "Alice     24    NY     64\n",
      "Charlie   18    CA     70\n",
      "Ellen     24    CA     88\n"
     ]
    }
   ],
   "source": [
    "df_org = df.copy()\n",
    "df_org.drop(index=['Bob', 'Dave', 'Frank'], inplace=True)\n",
    "print(df_org)"
   ]
  },
  {
   "cell_type": "code",
   "execution_count": 9,
   "metadata": {},
   "outputs": [
    {
     "name": "stdout",
     "output_type": "stream",
     "text": [
      "Index(['Bob', 'Dave', 'Frank'], dtype='object', name='name')\n"
     ]
    }
   ],
   "source": [
    "print(df.index[[1, 3, 5]])"
   ]
  },
  {
   "cell_type": "code",
   "execution_count": 10,
   "metadata": {},
   "outputs": [
    {
     "name": "stdout",
     "output_type": "stream",
     "text": [
      "         age state  point\n",
      "name                     \n",
      "Alice     24    NY     64\n",
      "Charlie   18    CA     70\n",
      "Ellen     24    CA     88\n"
     ]
    }
   ],
   "source": [
    "print(df.drop(df.index[[1, 3, 5]]))"
   ]
  },
  {
   "cell_type": "code",
   "execution_count": 11,
   "metadata": {},
   "outputs": [
    {
     "name": "stdout",
     "output_type": "stream",
     "text": [
      "         age state  point\n",
      "name                     \n",
      "Alice     24    NY     64\n",
      "Charlie   18    CA     70\n",
      "Ellen     24    CA     88\n"
     ]
    }
   ],
   "source": [
    "print(df.drop(index=df.index[[1, 3, 5]]))"
   ]
  },
  {
   "cell_type": "code",
   "execution_count": 12,
   "metadata": {},
   "outputs": [
    {
     "name": "stdout",
     "output_type": "stream",
     "text": [
      "      name  age state  point\n",
      "0    Alice   24    NY     64\n",
      "1      Bob   42    CA     92\n",
      "2  Charlie   18    CA     70\n",
      "3     Dave   68    TX     70\n",
      "4    Ellen   24    CA     88\n",
      "5    Frank   30    NY     57\n"
     ]
    }
   ],
   "source": [
    "df_noindex = pd.read_csv('data/src/sample_pandas_normal.csv')\n",
    "print(df_noindex)"
   ]
  },
  {
   "cell_type": "code",
   "execution_count": 13,
   "metadata": {},
   "outputs": [
    {
     "name": "stdout",
     "output_type": "stream",
     "text": [
      "RangeIndex(start=0, stop=6, step=1)\n"
     ]
    }
   ],
   "source": [
    "print(df_noindex.index)"
   ]
  },
  {
   "cell_type": "code",
   "execution_count": 14,
   "metadata": {},
   "outputs": [
    {
     "name": "stdout",
     "output_type": "stream",
     "text": [
      "      name  age state  point\n",
      "0    Alice   24    NY     64\n",
      "2  Charlie   18    CA     70\n",
      "4    Ellen   24    CA     88\n"
     ]
    }
   ],
   "source": [
    "print(df_noindex.drop([1, 3, 5]))"
   ]
  },
  {
   "cell_type": "code",
   "execution_count": 15,
   "metadata": {},
   "outputs": [
    {
     "name": "stdout",
     "output_type": "stream",
     "text": [
      "      name  age state  point\n",
      "0    Alice   24    NY     64\n",
      "2  Charlie   18    CA     70\n",
      "4    Ellen   24    CA     88\n"
     ]
    }
   ],
   "source": [
    "print(df_noindex.drop(df_noindex.index[[1, 3, 5]]))"
   ]
  },
  {
   "cell_type": "code",
   "execution_count": 16,
   "metadata": {},
   "outputs": [
    {
     "name": "stdout",
     "output_type": "stream",
     "text": [
      "      name  age state  point\n",
      "1      Bob   42    CA     92\n",
      "2  Charlie   18    CA     70\n",
      "4    Ellen   24    CA     88\n",
      "0    Alice   24    NY     64\n",
      "5    Frank   30    NY     57\n",
      "3     Dave   68    TX     70\n"
     ]
    }
   ],
   "source": [
    "df_noindex_sort = df_noindex.sort_values('state')\n",
    "print(df_noindex_sort)"
   ]
  },
  {
   "cell_type": "code",
   "execution_count": 17,
   "metadata": {},
   "outputs": [
    {
     "name": "stdout",
     "output_type": "stream",
     "text": [
      "Int64Index([1, 2, 4, 0, 5, 3], dtype='int64')\n"
     ]
    }
   ],
   "source": [
    "print(df_noindex_sort.index)"
   ]
  },
  {
   "cell_type": "code",
   "execution_count": 18,
   "metadata": {},
   "outputs": [
    {
     "name": "stdout",
     "output_type": "stream",
     "text": [
      "      name  age state  point\n",
      "2  Charlie   18    CA     70\n",
      "4    Ellen   24    CA     88\n",
      "0    Alice   24    NY     64\n"
     ]
    }
   ],
   "source": [
    "print(df_noindex_sort.drop([1, 3, 5]))"
   ]
  },
  {
   "cell_type": "code",
   "execution_count": 19,
   "metadata": {},
   "outputs": [
    {
     "name": "stdout",
     "output_type": "stream",
     "text": [
      "    name  age state  point\n",
      "1    Bob   42    CA     92\n",
      "4  Ellen   24    CA     88\n",
      "5  Frank   30    NY     57\n"
     ]
    }
   ],
   "source": [
    "print(df_noindex_sort.drop(df_noindex_sort.index[[1, 3, 5]]))"
   ]
  },
  {
   "cell_type": "code",
   "execution_count": 20,
   "metadata": {},
   "outputs": [
    {
     "name": "stdout",
     "output_type": "stream",
     "text": [
      "         age  point\n",
      "name               \n",
      "Alice     24     64\n",
      "Bob       42     92\n",
      "Charlie   18     70\n",
      "Dave      68     70\n",
      "Ellen     24     88\n",
      "Frank     30     57\n"
     ]
    }
   ],
   "source": [
    "print(df.drop('state', axis=1))"
   ]
  },
  {
   "cell_type": "code",
   "execution_count": 21,
   "metadata": {},
   "outputs": [
    {
     "name": "stdout",
     "output_type": "stream",
     "text": [
      "         age  point\n",
      "name               \n",
      "Alice     24     64\n",
      "Bob       42     92\n",
      "Charlie   18     70\n",
      "Dave      68     70\n",
      "Ellen     24     88\n",
      "Frank     30     57\n"
     ]
    }
   ],
   "source": [
    "print(df.drop(columns='state'))"
   ]
  },
  {
   "cell_type": "code",
   "execution_count": 22,
   "metadata": {},
   "outputs": [
    {
     "name": "stdout",
     "output_type": "stream",
     "text": [
      "         age\n",
      "name        \n",
      "Alice     24\n",
      "Bob       42\n",
      "Charlie   18\n",
      "Dave      68\n",
      "Ellen     24\n",
      "Frank     30\n"
     ]
    }
   ],
   "source": [
    "print(df.drop(['state', 'point'], axis=1))"
   ]
  },
  {
   "cell_type": "code",
   "execution_count": 23,
   "metadata": {},
   "outputs": [
    {
     "name": "stdout",
     "output_type": "stream",
     "text": [
      "         age\n",
      "name        \n",
      "Alice     24\n",
      "Bob       42\n",
      "Charlie   18\n",
      "Dave      68\n",
      "Ellen     24\n",
      "Frank     30\n"
     ]
    }
   ],
   "source": [
    "print(df.drop(columns=['state', 'point']))"
   ]
  },
  {
   "cell_type": "code",
   "execution_count": 24,
   "metadata": {},
   "outputs": [
    {
     "name": "stdout",
     "output_type": "stream",
     "text": [
      "         age\n",
      "name        \n",
      "Alice     24\n",
      "Bob       42\n",
      "Charlie   18\n",
      "Dave      68\n",
      "Ellen     24\n",
      "Frank     30\n"
     ]
    }
   ],
   "source": [
    "df_org = df.copy()\n",
    "df_org.drop(columns=['state', 'point'], inplace=True)\n",
    "print(df_org)"
   ]
  },
  {
   "cell_type": "code",
   "execution_count": 25,
   "metadata": {},
   "outputs": [
    {
     "name": "stdout",
     "output_type": "stream",
     "text": [
      "Index(['state', 'point'], dtype='object')\n"
     ]
    }
   ],
   "source": [
    "print(df.columns[[1, 2]])"
   ]
  },
  {
   "cell_type": "code",
   "execution_count": 26,
   "metadata": {},
   "outputs": [
    {
     "name": "stdout",
     "output_type": "stream",
     "text": [
      "         age\n",
      "name        \n",
      "Alice     24\n",
      "Bob       42\n",
      "Charlie   18\n",
      "Dave      68\n",
      "Ellen     24\n",
      "Frank     30\n"
     ]
    }
   ],
   "source": [
    "print(df.drop(df.columns[[1, 2]], axis=1))"
   ]
  },
  {
   "cell_type": "code",
   "execution_count": 27,
   "metadata": {},
   "outputs": [
    {
     "name": "stdout",
     "output_type": "stream",
     "text": [
      "         age\n",
      "name        \n",
      "Alice     24\n",
      "Bob       42\n",
      "Charlie   18\n",
      "Dave      68\n",
      "Ellen     24\n",
      "Frank     30\n"
     ]
    }
   ],
   "source": [
    "print(df.drop(columns=df.columns[[1, 2]]))"
   ]
  },
  {
   "cell_type": "code",
   "execution_count": 28,
   "metadata": {},
   "outputs": [
    {
     "name": "stdout",
     "output_type": "stream",
     "text": [
      "         age\n",
      "name        \n",
      "Alice     24\n",
      "Charlie   18\n",
      "Ellen     24\n"
     ]
    }
   ],
   "source": [
    "print(df.drop(index=['Bob', 'Dave', 'Frank'],\n",
    "              columns=['state', 'point']))"
   ]
  },
  {
   "cell_type": "code",
   "execution_count": 29,
   "metadata": {},
   "outputs": [
    {
     "name": "stdout",
     "output_type": "stream",
     "text": [
      "         age\n",
      "name        \n",
      "Alice     24\n",
      "Charlie   18\n",
      "Ellen     24\n"
     ]
    }
   ],
   "source": [
    "print(df.drop(index=df.index[[1, 3, 5]],\n",
    "              columns=df.columns[[1, 2]]))"
   ]
  },
  {
   "cell_type": "code",
   "execution_count": 30,
   "metadata": {},
   "outputs": [
    {
     "name": "stdout",
     "output_type": "stream",
     "text": [
      "         age\n",
      "name        \n",
      "Alice     24\n",
      "Charlie   18\n",
      "Ellen     24\n"
     ]
    }
   ],
   "source": [
    "df_org = df.copy()\n",
    "df_org.drop(index=['Bob', 'Dave', 'Frank'],\n",
    "            columns=['state', 'point'], inplace=True)\n",
    "print(df_org)"
   ]
  }
 ],
 "metadata": {
  "kernelspec": {
   "display_name": "Python 3",
   "language": "python",
   "name": "python3"
  },
  "language_info": {
   "codemirror_mode": {
    "name": "ipython",
    "version": 3
   },
   "file_extension": ".py",
   "mimetype": "text/x-python",
   "name": "python",
   "nbconvert_exporter": "python",
   "pygments_lexer": "ipython3",
   "version": "3.7.3"
  }
 },
 "nbformat": 4,
 "nbformat_minor": 2
}
