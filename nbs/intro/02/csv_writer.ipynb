{
 "cells": [
  {
   "cell_type": "code",
   "execution_count": 1,
   "metadata": {},
   "outputs": [],
   "source": [
    "import csv"
   ]
  },
  {
   "cell_type": "code",
   "execution_count": 2,
   "metadata": {},
   "outputs": [],
   "source": [
    "with open('data/temp/sample_writer_row.csv', 'w') as f:\n",
    "    writer = csv.writer(f)\n",
    "    writer.writerow([0, 1, 2])\n",
    "    writer.writerow(['a', 'b', 'c'])"
   ]
  },
  {
   "cell_type": "code",
   "execution_count": 3,
   "metadata": {},
   "outputs": [
    {
     "name": "stdout",
     "output_type": "stream",
     "text": [
      "0,1,2\n",
      "a,b,c\n",
      "\n"
     ]
    }
   ],
   "source": [
    "with open('data/temp/sample_writer_row.csv') as f:\n",
    "    print(f.read())"
   ]
  },
  {
   "cell_type": "code",
   "execution_count": 4,
   "metadata": {},
   "outputs": [
    {
     "name": "stdout",
     "output_type": "stream",
     "text": [
      "[[11, 12, 13, 14], [21, 22, 23, 24], [31, 32, 33, 34]]\n"
     ]
    }
   ],
   "source": [
    "l = [[11, 12, 13, 14], [21, 22, 23, 24], [31, 32, 33, 34]]\n",
    "print(l)"
   ]
  },
  {
   "cell_type": "code",
   "execution_count": 5,
   "metadata": {},
   "outputs": [],
   "source": [
    "with open('data/temp/sample_writer.csv', 'w') as f:\n",
    "    writer = csv.writer(f)\n",
    "    writer.writerows(l)"
   ]
  },
  {
   "cell_type": "code",
   "execution_count": 6,
   "metadata": {},
   "outputs": [
    {
     "name": "stdout",
     "output_type": "stream",
     "text": [
      "11,12,13,14\n",
      "21,22,23,24\n",
      "31,32,33,34\n",
      "\n"
     ]
    }
   ],
   "source": [
    "with open('data/temp/sample_writer.csv') as f:\n",
    "    print(f.read())"
   ]
  },
  {
   "cell_type": "code",
   "execution_count": 7,
   "metadata": {},
   "outputs": [
    {
     "name": "stdout",
     "output_type": "stream",
     "text": [
      "0,1,2\n",
      "a,b,c\n",
      "\n"
     ]
    }
   ],
   "source": [
    "with open('data/temp/sample_writer_row.csv') as f:\n",
    "    print(f.read())"
   ]
  },
  {
   "cell_type": "code",
   "execution_count": 8,
   "metadata": {},
   "outputs": [],
   "source": [
    "with open('data/temp/sample_writer_row.csv', 'a') as f:\n",
    "    writer = csv.writer(f)\n",
    "    writer.writerow(['X', 'Y', 'Z'])"
   ]
  },
  {
   "cell_type": "code",
   "execution_count": 9,
   "metadata": {},
   "outputs": [
    {
     "name": "stdout",
     "output_type": "stream",
     "text": [
      "0,1,2\n",
      "a,b,c\n",
      "X,Y,Z\n",
      "\n"
     ]
    }
   ],
   "source": [
    "with open('data/temp/sample_writer_row.csv') as f:\n",
    "    print(f.read())"
   ]
  },
  {
   "cell_type": "code",
   "execution_count": 10,
   "metadata": {},
   "outputs": [],
   "source": [
    "with open('data/temp/sample_writer.tsv', 'w') as f:\n",
    "    writer = csv.writer(f, delimiter='\\t')\n",
    "    writer.writerows(l)"
   ]
  },
  {
   "cell_type": "code",
   "execution_count": 11,
   "metadata": {},
   "outputs": [
    {
     "name": "stdout",
     "output_type": "stream",
     "text": [
      "11\t12\t13\t14\n",
      "21\t22\t23\t24\n",
      "31\t32\t33\t34\n",
      "\n"
     ]
    }
   ],
   "source": [
    "with open('data/temp/sample_writer.tsv') as f:\n",
    "    print(f.read())"
   ]
  },
  {
   "cell_type": "code",
   "execution_count": 12,
   "metadata": {},
   "outputs": [],
   "source": [
    "l = [[0, 1, 2], ['a,b,c', 'x', 'y']]"
   ]
  },
  {
   "cell_type": "code",
   "execution_count": 13,
   "metadata": {},
   "outputs": [],
   "source": [
    "with open('data/temp/sample_writer_quote.csv', 'w') as f:\n",
    "    writer = csv.writer(f)\n",
    "    writer.writerows(l)"
   ]
  },
  {
   "cell_type": "code",
   "execution_count": 14,
   "metadata": {},
   "outputs": [
    {
     "name": "stdout",
     "output_type": "stream",
     "text": [
      "0,1,2\n",
      "\"a,b,c\",x,y\n",
      "\n"
     ]
    }
   ],
   "source": [
    "with open('data/temp/sample_writer_quote.csv') as f:\n",
    "    print(f.read())"
   ]
  },
  {
   "cell_type": "code",
   "execution_count": 15,
   "metadata": {},
   "outputs": [],
   "source": [
    "with open('data/temp/sample_writer_quote_all.csv', 'w') as f:\n",
    "    writer = csv.writer(f, quoting=csv.QUOTE_ALL)\n",
    "    writer.writerows(l)"
   ]
  },
  {
   "cell_type": "code",
   "execution_count": 16,
   "metadata": {},
   "outputs": [
    {
     "name": "stdout",
     "output_type": "stream",
     "text": [
      "\"0\",\"1\",\"2\"\n",
      "\"a,b,c\",\"x\",\"y\"\n",
      "\n"
     ]
    }
   ],
   "source": [
    "with open('data/temp/sample_writer_quote_all.csv') as f:\n",
    "    print(f.read())"
   ]
  },
  {
   "cell_type": "code",
   "execution_count": 17,
   "metadata": {},
   "outputs": [],
   "source": [
    "with open('data/temp/sample_writer_quote_nonnumeric.csv', 'w') as f:\n",
    "    writer = csv.writer(f, quoting=csv.QUOTE_NONNUMERIC)\n",
    "    writer.writerows(l)"
   ]
  },
  {
   "cell_type": "code",
   "execution_count": 18,
   "metadata": {},
   "outputs": [
    {
     "name": "stdout",
     "output_type": "stream",
     "text": [
      "0,1,2\n",
      "\"a,b,c\",\"x\",\"y\"\n",
      "\n"
     ]
    }
   ],
   "source": [
    "with open('data/temp/sample_writer_quote_nonnumeric.csv') as f:\n",
    "    print(f.read())"
   ]
  },
  {
   "cell_type": "code",
   "execution_count": 19,
   "metadata": {},
   "outputs": [],
   "source": [
    "with open('data/temp/sample_writer_quote_none.csv', 'w') as f:\n",
    "    writer = csv.writer(f, quoting=csv.QUOTE_NONE, escapechar='\\\\')\n",
    "    writer.writerows(l)"
   ]
  },
  {
   "cell_type": "code",
   "execution_count": 20,
   "metadata": {},
   "outputs": [
    {
     "name": "stdout",
     "output_type": "stream",
     "text": [
      "0,1,2\n",
      "a\\,b\\,c,x,y\n",
      "\n"
     ]
    }
   ],
   "source": [
    "with open('data/temp/sample_writer_quote_none.csv') as f:\n",
    "    print(f.read())"
   ]
  },
  {
   "cell_type": "code",
   "execution_count": 21,
   "metadata": {},
   "outputs": [],
   "source": [
    "with open('data/temp/sample_writer_quote_char.csv', 'w') as f:\n",
    "    writer = csv.writer(f, quotechar=\"'\")\n",
    "    writer.writerows(l)"
   ]
  },
  {
   "cell_type": "code",
   "execution_count": 22,
   "metadata": {},
   "outputs": [
    {
     "name": "stdout",
     "output_type": "stream",
     "text": [
      "0,1,2\n",
      "'a,b,c',x,y\n",
      "\n"
     ]
    }
   ],
   "source": [
    "with open('data/temp/sample_writer_quote_char.csv') as f:\n",
    "    print(f.read())"
   ]
  },
  {
   "cell_type": "code",
   "execution_count": 23,
   "metadata": {},
   "outputs": [],
   "source": [
    "l = [[0, 1, 2], ['a\\nb', 'x', 'y']]"
   ]
  },
  {
   "cell_type": "code",
   "execution_count": 24,
   "metadata": {},
   "outputs": [],
   "source": [
    "with open('data/temp/sample_writer_linebreak.csv', 'w', newline='') as f:\n",
    "    writer = csv.writer(f)\n",
    "    writer.writerows(l)"
   ]
  },
  {
   "cell_type": "code",
   "execution_count": 25,
   "metadata": {},
   "outputs": [
    {
     "name": "stdout",
     "output_type": "stream",
     "text": [
      "0,1,2\n",
      "\"a\n",
      "b\",x,y\n",
      "\n"
     ]
    }
   ],
   "source": [
    "with open('data/temp/sample_writer_linebreak.csv') as f:\n",
    "    print(f.read())"
   ]
  },
  {
   "cell_type": "code",
   "execution_count": 26,
   "metadata": {},
   "outputs": [
    {
     "name": "stdout",
     "output_type": "stream",
     "text": [
      "[[11, 12, 13, 14], [21, 22, 23, 24], [31, 32, 33, 34]]\n"
     ]
    }
   ],
   "source": [
    "l = [[11, 12, 13, 14], [21, 22, 23, 24], [31, 32, 33, 34]]\n",
    "print(l)"
   ]
  },
  {
   "cell_type": "code",
   "execution_count": 27,
   "metadata": {},
   "outputs": [],
   "source": [
    "header = ['', 'a', 'b', 'c', 'd']\n",
    "index = ['ONE', 'TWO', 'THREE']"
   ]
  },
  {
   "cell_type": "code",
   "execution_count": 28,
   "metadata": {},
   "outputs": [],
   "source": [
    "with open('data/temp/sample_writer_header_index.csv', 'w') as f:\n",
    "    writer = csv.writer(f)\n",
    "    writer.writerow(header)\n",
    "    for i, row in zip(index, l):\n",
    "        writer.writerow([i] + row)"
   ]
  },
  {
   "cell_type": "code",
   "execution_count": 29,
   "metadata": {
    "scrolled": true
   },
   "outputs": [
    {
     "name": "stdout",
     "output_type": "stream",
     "text": [
      ",a,b,c,d\n",
      "ONE,11,12,13,14\n",
      "TWO,21,22,23,24\n",
      "THREE,31,32,33,34\n",
      "\n"
     ]
    }
   ],
   "source": [
    "with open('data/temp/sample_writer_header_index.csv') as f:\n",
    "    print(f.read())"
   ]
  }
 ],
 "metadata": {
  "kernelspec": {
   "display_name": "Python 3",
   "language": "python",
   "name": "python3"
  },
  "language_info": {
   "codemirror_mode": {
    "name": "ipython",
    "version": 3
   },
   "file_extension": ".py",
   "mimetype": "text/x-python",
   "name": "python",
   "nbconvert_exporter": "python",
   "pygments_lexer": "ipython3",
   "version": "3.7.2"
  }
 },
 "nbformat": 4,
 "nbformat_minor": 2
}
