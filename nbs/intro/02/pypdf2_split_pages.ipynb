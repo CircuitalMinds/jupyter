{
 "cells": [
  {
   "cell_type": "code",
   "execution_count": 1,
   "metadata": {},
   "outputs": [],
   "source": [
    "import PyPDF2"
   ]
  },
  {
   "cell_type": "code",
   "execution_count": 2,
   "metadata": {},
   "outputs": [],
   "source": [
    "def split_pdf_pages(src_path, dst_basepath):\n",
    "    src_pdf = PyPDF2.PdfFileReader(src_path)\n",
    "    for i in range(src_pdf.numPages):\n",
    "        dst_pdf = PyPDF2.PdfFileWriter()\n",
    "        dst_pdf.addPage(src_pdf.getPage(i))\n",
    "        with open('{}_{}.pdf'.format(dst_basepath, i), 'wb') as f:\n",
    "            dst_pdf.write(f)"
   ]
  },
  {
   "cell_type": "code",
   "execution_count": 3,
   "metadata": {},
   "outputs": [],
   "source": [
    "split_pdf_pages('data/src/pdf/sample1.pdf', 'data/temp/sample1')"
   ]
  }
 ],
 "metadata": {
  "kernelspec": {
   "display_name": "Python 3",
   "language": "python",
   "name": "python3"
  },
  "language_info": {
   "codemirror_mode": {
    "name": "ipython",
    "version": 3
   },
   "file_extension": ".py",
   "mimetype": "text/x-python",
   "name": "python",
   "nbconvert_exporter": "python",
   "pygments_lexer": "ipython3",
   "version": "3.7.2"
  }
 },
 "nbformat": 4,
 "nbformat_minor": 2
}
