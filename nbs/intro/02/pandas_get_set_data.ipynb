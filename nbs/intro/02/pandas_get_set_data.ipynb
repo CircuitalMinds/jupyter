{
 "cells": [
  {
   "cell_type": "code",
   "execution_count": 1,
   "metadata": {},
   "outputs": [],
   "source": [
    "import pandas as pd"
   ]
  },
  {
   "cell_type": "code",
   "execution_count": 2,
   "metadata": {},
   "outputs": [
    {
     "name": "stdout",
     "output_type": "stream",
     "text": [
      "1.4.1\n"
     ]
    }
   ],
   "source": [
    "print(pd.__version__)"
   ]
  },
  {
   "cell_type": "code",
   "execution_count": 3,
   "metadata": {},
   "outputs": [
    {
     "name": "stdout",
     "output_type": "stream",
     "text": [
      "         age state  point\n",
      "name                     \n",
      "Alice     24    NY     64\n",
      "Bob       42    CA     92\n",
      "Charlie   18    CA     70\n",
      "Dave      68    TX     70\n",
      "Ellen     24    CA     88\n",
      "Frank     30    NY     57\n"
     ]
    }
   ],
   "source": [
    "df = pd.read_csv('data/src/sample_pandas_normal.csv', index_col=0)\n",
    "print(df)"
   ]
  },
  {
   "cell_type": "code",
   "execution_count": 4,
   "metadata": {},
   "outputs": [
    {
     "name": "stdout",
     "output_type": "stream",
     "text": [
      "42\n"
     ]
    }
   ],
   "source": [
    "print(df.at['Bob', 'age'])"
   ]
  },
  {
   "cell_type": "code",
   "execution_count": 5,
   "metadata": {},
   "outputs": [
    {
     "name": "stdout",
     "output_type": "stream",
     "text": [
      "60\n"
     ]
    }
   ],
   "source": [
    "df.at['Bob', 'age'] = 60\n",
    "print(df.at['Bob', 'age'])"
   ]
  },
  {
   "cell_type": "code",
   "execution_count": 6,
   "metadata": {},
   "outputs": [
    {
     "name": "stdout",
     "output_type": "stream",
     "text": [
      "60\n"
     ]
    }
   ],
   "source": [
    "print(df.iat[1, 0])"
   ]
  },
  {
   "cell_type": "code",
   "execution_count": 7,
   "metadata": {},
   "outputs": [
    {
     "name": "stdout",
     "output_type": "stream",
     "text": [
      "42\n"
     ]
    }
   ],
   "source": [
    "df.iat[1, 0] = 42\n",
    "print(df.iat[1, 0])"
   ]
  },
  {
   "cell_type": "code",
   "execution_count": 8,
   "metadata": {},
   "outputs": [
    {
     "name": "stdout",
     "output_type": "stream",
     "text": [
      "42\n"
     ]
    }
   ],
   "source": [
    "print(df.loc['Bob', 'age'])"
   ]
  },
  {
   "cell_type": "code",
   "execution_count": 9,
   "metadata": {},
   "outputs": [
    {
     "name": "stdout",
     "output_type": "stream",
     "text": [
      "42\n"
     ]
    }
   ],
   "source": [
    "print(df.iloc[1, 0])"
   ]
  },
  {
   "cell_type": "code",
   "execution_count": 10,
   "metadata": {},
   "outputs": [
    {
     "name": "stdout",
     "output_type": "stream",
     "text": [
      "60\n"
     ]
    }
   ],
   "source": [
    "df.loc['Bob', 'age'] = 60\n",
    "print(df.loc['Bob', 'age'])"
   ]
  },
  {
   "cell_type": "code",
   "execution_count": 11,
   "metadata": {},
   "outputs": [
    {
     "name": "stdout",
     "output_type": "stream",
     "text": [
      "42\n"
     ]
    }
   ],
   "source": [
    "df.iloc[1, 0] = 42\n",
    "print(df.iloc[1, 0])"
   ]
  },
  {
   "cell_type": "code",
   "execution_count": 12,
   "metadata": {},
   "outputs": [
    {
     "name": "stdout",
     "output_type": "stream",
     "text": [
      "name\n",
      "Bob        42\n",
      "Charlie    18\n",
      "Dave       68\n",
      "Name: age, dtype: int64\n",
      "<class 'pandas.core.series.Series'>\n"
     ]
    }
   ],
   "source": [
    "print(df.loc['Bob':'Dave', 'age'])\n",
    "print(type(df.loc['Bob':'Dave', 'age']))"
   ]
  },
  {
   "cell_type": "code",
   "execution_count": 13,
   "metadata": {},
   "outputs": [
    {
     "name": "stdout",
     "output_type": "stream",
     "text": [
      "         point  age\n",
      "name               \n",
      "Alice       64   24\n",
      "Bob         92   42\n",
      "Charlie     70   18\n",
      "Dave        70   68\n",
      "<class 'pandas.core.frame.DataFrame'>\n"
     ]
    }
   ],
   "source": [
    "print(df.loc[:'Dave', ['point', 'age']])\n",
    "print(type(df.loc[:'Dave', ['point', 'age']]))"
   ]
  },
  {
   "cell_type": "code",
   "execution_count": 14,
   "metadata": {},
   "outputs": [
    {
     "name": "stdout",
     "output_type": "stream",
     "text": [
      "         point  age\n",
      "name               \n",
      "Alice       64   24\n",
      "Bob         92   42\n",
      "Charlie     70   18\n",
      "<class 'pandas.core.frame.DataFrame'>\n"
     ]
    }
   ],
   "source": [
    "print(df.iloc[:3, [2, 0]])\n",
    "print(type(df.iloc[:3, [2, 0]]))"
   ]
  },
  {
   "cell_type": "code",
   "execution_count": 15,
   "metadata": {},
   "outputs": [
    {
     "name": "stdout",
     "output_type": "stream",
     "text": [
      "name\n",
      "Alice      24\n",
      "Charlie    18\n",
      "Ellen      24\n",
      "Name: age, dtype: int64\n",
      "<class 'pandas.core.series.Series'>\n"
     ]
    }
   ],
   "source": [
    "print(df.iloc[::2, 0])\n",
    "print(type(df.iloc[::2, 0]))"
   ]
  },
  {
   "cell_type": "code",
   "execution_count": 16,
   "metadata": {},
   "outputs": [
    {
     "name": "stdout",
     "output_type": "stream",
     "text": [
      "name\n",
      "Bob      42\n",
      "Dave     68\n",
      "Frank    30\n",
      "Name: age, dtype: int64\n",
      "<class 'pandas.core.series.Series'>\n"
     ]
    }
   ],
   "source": [
    "print(df.iloc[1::2, 0])\n",
    "print(type(df.iloc[1::2, 0]))"
   ]
  },
  {
   "cell_type": "code",
   "execution_count": 17,
   "metadata": {},
   "outputs": [
    {
     "name": "stdout",
     "output_type": "stream",
     "text": [
      "name\n",
      "Bob        0\n",
      "Charlie    0\n",
      "Dave       0\n",
      "Name: age, dtype: int64\n"
     ]
    }
   ],
   "source": [
    "df.loc['Bob':'Dave', 'age'] = 0\n",
    "print(df.loc['Bob':'Dave', 'age'])"
   ]
  },
  {
   "cell_type": "code",
   "execution_count": 18,
   "metadata": {},
   "outputs": [
    {
     "name": "stdout",
     "output_type": "stream",
     "text": [
      "name\n",
      "Bob        20\n",
      "Charlie    30\n",
      "Dave       40\n",
      "Name: age, dtype: int64\n"
     ]
    }
   ],
   "source": [
    "df.loc['Bob':'Dave', 'age'] = [20, 30, 40]\n",
    "print(df.loc['Bob':'Dave', 'age'])"
   ]
  },
  {
   "cell_type": "code",
   "execution_count": 19,
   "metadata": {},
   "outputs": [
    {
     "name": "stdout",
     "output_type": "stream",
     "text": [
      "         age state  point\n",
      "name                     \n",
      "Bob       20    CA     92\n",
      "Charlie   30    CA     70\n",
      "Dave      40    TX     70\n",
      "Ellen     24    CA     88\n"
     ]
    }
   ],
   "source": [
    "print(df['Bob':'Ellen'])"
   ]
  },
  {
   "cell_type": "code",
   "execution_count": 20,
   "metadata": {},
   "outputs": [
    {
     "name": "stdout",
     "output_type": "stream",
     "text": [
      "         age state  point\n",
      "name                     \n",
      "Alice     24    NY     64\n",
      "Bob       20    CA     92\n",
      "Charlie   30    CA     70\n"
     ]
    }
   ],
   "source": [
    "print(df[:3])"
   ]
  },
  {
   "cell_type": "code",
   "execution_count": 21,
   "metadata": {},
   "outputs": [
    {
     "name": "stdout",
     "output_type": "stream",
     "text": [
      "name\n",
      "Alice      24\n",
      "Bob        20\n",
      "Charlie    30\n",
      "Dave       40\n",
      "Ellen      24\n",
      "Frank      30\n",
      "Name: age, dtype: int64\n"
     ]
    }
   ],
   "source": [
    "print(df['age'])"
   ]
  },
  {
   "cell_type": "code",
   "execution_count": 22,
   "metadata": {},
   "outputs": [
    {
     "name": "stdout",
     "output_type": "stream",
     "text": [
      "         age  point\n",
      "name               \n",
      "Alice     24     64\n",
      "Bob       20     92\n",
      "Charlie   30     70\n",
      "Dave      40     70\n",
      "Ellen     24     88\n",
      "Frank     30     57\n"
     ]
    }
   ],
   "source": [
    "print(df[['age', 'point']])"
   ]
  },
  {
   "cell_type": "code",
   "execution_count": 23,
   "metadata": {},
   "outputs": [
    {
     "name": "stdout",
     "output_type": "stream",
     "text": [
      "age      20\n",
      "state    CA\n",
      "point    92\n",
      "Name: Bob, dtype: object\n",
      "<class 'pandas.core.series.Series'>\n"
     ]
    }
   ],
   "source": [
    "print(df.loc['Bob'])\n",
    "print(type(df.loc['Bob']))"
   ]
  },
  {
   "cell_type": "code",
   "execution_count": 24,
   "metadata": {},
   "outputs": [
    {
     "name": "stdout",
     "output_type": "stream",
     "text": [
      "       age state  point\n",
      "name                   \n",
      "Ellen   24    CA     88\n",
      "Bob     20    CA     92\n",
      "<class 'pandas.core.frame.DataFrame'>\n"
     ]
    }
   ],
   "source": [
    "print(df.iloc[[4, 1]])\n",
    "print(type(df.iloc[[4, 1]]))"
   ]
  },
  {
   "cell_type": "code",
   "execution_count": 25,
   "metadata": {},
   "outputs": [
    {
     "name": "stdout",
     "output_type": "stream",
     "text": [
      "         age state  point\n",
      "name                     \n",
      "Alice     24    NY     64\n",
      "Bob       20    CA     92\n",
      "Charlie   30    CA     70\n",
      "Dave      40    TX     70\n",
      "Ellen     24    CA     88\n",
      "Frank     30    NY     57\n",
      "<class 'pandas.core.frame.DataFrame'>\n"
     ]
    }
   ],
   "source": [
    "print(df.loc[:, 'age':'point'])\n",
    "print(type(df.loc[:, 'age':'point']))"
   ]
  },
  {
   "cell_type": "code",
   "execution_count": 26,
   "metadata": {},
   "outputs": [
    {
     "name": "stdout",
     "output_type": "stream",
     "text": [
      "         age  point\n",
      "name               \n",
      "Alice     24     64\n",
      "Bob       20     92\n",
      "Charlie   30     70\n",
      "Dave      40     70\n",
      "Ellen     24     88\n",
      "Frank     30     57\n",
      "<class 'pandas.core.frame.DataFrame'>\n"
     ]
    }
   ],
   "source": [
    "print(df.iloc[:, [0, 2]])\n",
    "print(type(df.iloc[:, [0, 2]]))"
   ]
  },
  {
   "cell_type": "code",
   "execution_count": 27,
   "metadata": {},
   "outputs": [
    {
     "name": "stdout",
     "output_type": "stream",
     "text": [
      "age      20\n",
      "state    CA\n",
      "point    92\n",
      "Name: Bob, dtype: object\n",
      "<class 'pandas.core.series.Series'>\n"
     ]
    }
   ],
   "source": [
    "print(df.loc['Bob'])\n",
    "print(type(df.loc['Bob']))"
   ]
  },
  {
   "cell_type": "code",
   "execution_count": 28,
   "metadata": {},
   "outputs": [
    {
     "name": "stdout",
     "output_type": "stream",
     "text": [
      "      age state  point\n",
      "name                  \n",
      "Bob    20    CA     92\n",
      "<class 'pandas.core.frame.DataFrame'>\n"
     ]
    }
   ],
   "source": [
    "print(df.loc['Bob':'Bob'])\n",
    "print(type(df.loc['Bob':'Bob']))"
   ]
  },
  {
   "cell_type": "code",
   "execution_count": 29,
   "metadata": {},
   "outputs": [
    {
     "name": "stdout",
     "output_type": "stream",
     "text": [
      "      age state  point\n",
      "name                  \n",
      "Bob    20    CA     92\n",
      "<class 'pandas.core.frame.DataFrame'>\n"
     ]
    }
   ],
   "source": [
    "print(df.loc[['Bob']])\n",
    "print(type(df.loc[['Bob']]))"
   ]
  },
  {
   "cell_type": "code",
   "execution_count": 30,
   "metadata": {},
   "outputs": [
    {
     "name": "stdout",
     "output_type": "stream",
     "text": [
      "name\n",
      "Alice      NY\n",
      "Bob        CA\n",
      "Charlie    CA\n",
      "Dave       TX\n",
      "Ellen      CA\n",
      "Frank      NY\n",
      "Name: state, dtype: object\n",
      "<class 'pandas.core.series.Series'>\n"
     ]
    }
   ],
   "source": [
    "print(df.iloc[:, 1])\n",
    "print(type(df.iloc[:, 1]))"
   ]
  },
  {
   "cell_type": "code",
   "execution_count": 31,
   "metadata": {},
   "outputs": [
    {
     "name": "stdout",
     "output_type": "stream",
     "text": [
      "        state\n",
      "name         \n",
      "Alice      NY\n",
      "Bob        CA\n",
      "Charlie    CA\n",
      "Dave       TX\n",
      "Ellen      CA\n",
      "Frank      NY\n",
      "<class 'pandas.core.frame.DataFrame'>\n"
     ]
    }
   ],
   "source": [
    "print(df.iloc[:, 1:2])\n",
    "print(type(df.iloc[:, 1:2]))"
   ]
  },
  {
   "cell_type": "code",
   "execution_count": 32,
   "metadata": {},
   "outputs": [
    {
     "name": "stdout",
     "output_type": "stream",
     "text": [
      "        state\n",
      "name         \n",
      "Alice      NY\n",
      "Bob        CA\n",
      "Charlie    CA\n",
      "Dave       TX\n",
      "Ellen      CA\n",
      "Frank      NY\n",
      "<class 'pandas.core.frame.DataFrame'>\n"
     ]
    }
   ],
   "source": [
    "print(df.iloc[:, [1]])\n",
    "print(type(df.iloc[:, [1]]))"
   ]
  },
  {
   "cell_type": "code",
   "execution_count": 33,
   "metadata": {},
   "outputs": [],
   "source": [
    "l_bool = [True, False, False, True, False, True]"
   ]
  },
  {
   "cell_type": "code",
   "execution_count": 34,
   "metadata": {},
   "outputs": [
    {
     "name": "stdout",
     "output_type": "stream",
     "text": [
      "       age  point\n",
      "name             \n",
      "Alice   24     64\n",
      "Dave    40     70\n",
      "Frank   30     57\n"
     ]
    }
   ],
   "source": [
    "print(df.loc[l_bool, ['age', 'point']])"
   ]
  },
  {
   "cell_type": "code",
   "execution_count": 35,
   "metadata": {},
   "outputs": [
    {
     "name": "stdout",
     "output_type": "stream",
     "text": [
      "       age  point\n",
      "name             \n",
      "Alice   24     64\n",
      "Dave    40     70\n",
      "Frank   30     57\n"
     ]
    }
   ],
   "source": [
    "print(df.iloc[l_bool, [0, 2]])"
   ]
  },
  {
   "cell_type": "code",
   "execution_count": 36,
   "metadata": {},
   "outputs": [],
   "source": [
    "l_bool_wrong = [True, False, False]"
   ]
  },
  {
   "cell_type": "code",
   "execution_count": 37,
   "metadata": {},
   "outputs": [],
   "source": [
    "# print(df.loc[l_bool_wrong, ['age', 'point']])\n",
    "# IndexError: Boolean index has wrong length: 3 instead of 6"
   ]
  },
  {
   "cell_type": "code",
   "execution_count": 38,
   "metadata": {},
   "outputs": [
    {
     "name": "stdout",
     "output_type": "stream",
     "text": [
      "Frank       True\n",
      "Ellen      False\n",
      "Dave        True\n",
      "Charlie     True\n",
      "Bob        False\n",
      "Alice      False\n",
      "dtype: bool\n"
     ]
    }
   ],
   "source": [
    "s_bool = pd.Series([True, False, True, True, False, False],\n",
    "                   index=reversed(df.index))\n",
    "print(s_bool)"
   ]
  },
  {
   "cell_type": "code",
   "execution_count": 39,
   "metadata": {},
   "outputs": [
    {
     "name": "stdout",
     "output_type": "stream",
     "text": [
      "         age  point\n",
      "name               \n",
      "Charlie   30     70\n",
      "Dave      40     70\n",
      "Frank     30     57\n"
     ]
    }
   ],
   "source": [
    "print(df.loc[s_bool, ['age', 'point']])"
   ]
  },
  {
   "cell_type": "code",
   "execution_count": 40,
   "metadata": {},
   "outputs": [],
   "source": [
    "# print(df.iloc[s_bool, [0, 2]])\n",
    "# ValueError: Location based indexing can only have [integer,\n",
    "# integer slice (START point is INCLUDED, END point is EXCLUDED), listlike of integers, boolean array] types"
   ]
  },
  {
   "cell_type": "code",
   "execution_count": 41,
   "metadata": {},
   "outputs": [
    {
     "name": "stdout",
     "output_type": "stream",
     "text": [
      "Frank     True\n",
      "Ellen    False\n",
      "Dave     False\n",
      "dtype: bool\n"
     ]
    }
   ],
   "source": [
    "s_bool_wrong = pd.Series([True, False, False], index=['Frank', 'Ellen', 'Dave'])\n",
    "print(s_bool_wrong)"
   ]
  },
  {
   "cell_type": "code",
   "execution_count": 42,
   "metadata": {},
   "outputs": [],
   "source": [
    "# print(df.loc[s_bool_wrong, ['age', 'point']])\n",
    "# IndexingError: Unalignable boolean Series provided as indexer\n",
    "# (index of the boolean Series and of the indexed object do not match)."
   ]
  },
  {
   "cell_type": "code",
   "execution_count": 43,
   "metadata": {},
   "outputs": [
    {
     "name": "stdout",
     "output_type": "stream",
     "text": [
      "A     True\n",
      "B    False\n",
      "C    False\n",
      "D     True\n",
      "E    False\n",
      "F     True\n",
      "dtype: bool\n"
     ]
    }
   ],
   "source": [
    "s_bool_wrong2 = pd.Series([True, False, False, True, False, True],\n",
    "                          index=['A', 'B', 'C', 'D', 'E', 'F'])\n",
    "print(s_bool_wrong2)"
   ]
  },
  {
   "cell_type": "code",
   "execution_count": 44,
   "metadata": {},
   "outputs": [],
   "source": [
    "# print(df.loc[s_bool_wrong2, ['age', 'point']])\n",
    "# IndexingError: Unalignable boolean Series provided as indexer\n",
    "# (index of the boolean Series and of the indexed object do not match)."
   ]
  },
  {
   "cell_type": "code",
   "execution_count": 45,
   "metadata": {},
   "outputs": [
    {
     "name": "stdout",
     "output_type": "stream",
     "text": [
      "          name  age  age\n",
      "state                   \n",
      "NY       Alice   24   64\n",
      "CA         Bob   42   92\n",
      "CA     Charlie   18   70\n",
      "TX        Dave   68   70\n",
      "CA       Ellen   24   88\n",
      "NY       Frank   30   57\n"
     ]
    }
   ],
   "source": [
    "df_duplicated = pd.read_csv('data/src/sample_pandas_normal.csv', index_col=2)\n",
    "df_duplicated.columns = ['name', 'age', 'age']\n",
    "print(df_duplicated)"
   ]
  },
  {
   "cell_type": "code",
   "execution_count": 46,
   "metadata": {},
   "outputs": [
    {
     "name": "stdout",
     "output_type": "stream",
     "text": [
      "       age  age\n",
      "state          \n",
      "NY      24   64\n",
      "NY      30   57\n",
      "<class 'pandas.core.frame.DataFrame'>\n"
     ]
    }
   ],
   "source": [
    "print(df_duplicated.at['NY', 'age'])\n",
    "print(type(df_duplicated.at['NY', 'age']))"
   ]
  },
  {
   "cell_type": "code",
   "execution_count": 47,
   "metadata": {},
   "outputs": [
    {
     "name": "stdout",
     "output_type": "stream",
     "text": [
      "       age  age\n",
      "state          \n",
      "NY      24   64\n",
      "NY      30   57\n",
      "<class 'pandas.core.frame.DataFrame'>\n"
     ]
    }
   ],
   "source": [
    "print(df_duplicated.loc['NY', 'age'])\n",
    "print(type(df_duplicated.loc['NY', 'age']))"
   ]
  },
  {
   "cell_type": "code",
   "execution_count": 48,
   "metadata": {},
   "outputs": [
    {
     "name": "stdout",
     "output_type": "stream",
     "text": [
      "24\n"
     ]
    }
   ],
   "source": [
    "print(df_duplicated.iat[0, 1])"
   ]
  },
  {
   "cell_type": "code",
   "execution_count": 49,
   "metadata": {},
   "outputs": [
    {
     "name": "stdout",
     "output_type": "stream",
     "text": [
      "        name  age\n",
      "state            \n",
      "NY     Alice   24\n",
      "CA       Bob   42\n"
     ]
    }
   ],
   "source": [
    "print(df_duplicated.iloc[:2, [0, 1]])"
   ]
  },
  {
   "cell_type": "code",
   "execution_count": 50,
   "metadata": {},
   "outputs": [
    {
     "name": "stdout",
     "output_type": "stream",
     "text": [
      "False\n"
     ]
    }
   ],
   "source": [
    "print(df_duplicated.index.is_unique)"
   ]
  },
  {
   "cell_type": "code",
   "execution_count": 51,
   "metadata": {},
   "outputs": [
    {
     "name": "stdout",
     "output_type": "stream",
     "text": [
      "False\n"
     ]
    }
   ],
   "source": [
    "print(df_duplicated.columns.is_unique)"
   ]
  },
  {
   "cell_type": "code",
   "execution_count": 52,
   "metadata": {},
   "outputs": [
    {
     "name": "stdout",
     "output_type": "stream",
     "text": [
      "         age state  point\n",
      "name                     \n",
      "Alice     24    NY     64\n",
      "Bob       20    CA     92\n",
      "Charlie   30    CA     70\n",
      "Dave      40    TX     70\n",
      "Ellen     24    CA     88\n",
      "Frank     30    NY     57\n"
     ]
    }
   ],
   "source": [
    "print(df)"
   ]
  },
  {
   "cell_type": "code",
   "execution_count": 53,
   "metadata": {},
   "outputs": [
    {
     "name": "stdout",
     "output_type": "stream",
     "text": [
      "Charlie\n"
     ]
    }
   ],
   "source": [
    "print(df.index[2])"
   ]
  },
  {
   "cell_type": "code",
   "execution_count": 54,
   "metadata": {},
   "outputs": [
    {
     "name": "stdout",
     "output_type": "stream",
     "text": [
      "state\n"
     ]
    }
   ],
   "source": [
    "print(df.columns[1])"
   ]
  },
  {
   "cell_type": "code",
   "execution_count": 55,
   "metadata": {},
   "outputs": [
    {
     "name": "stdout",
     "output_type": "stream",
     "text": [
      "Index(['Charlie', 'Dave'], dtype='object', name='name')\n"
     ]
    }
   ],
   "source": [
    "print(df.index[2:4])"
   ]
  },
  {
   "cell_type": "code",
   "execution_count": 56,
   "metadata": {},
   "outputs": [
    {
     "name": "stdout",
     "output_type": "stream",
     "text": [
      "Index(['age', 'point'], dtype='object')\n"
     ]
    }
   ],
   "source": [
    "print(df.columns[[0, 2]])"
   ]
  },
  {
   "cell_type": "code",
   "execution_count": 57,
   "metadata": {},
   "outputs": [
    {
     "name": "stdout",
     "output_type": "stream",
     "text": [
      "30\n"
     ]
    }
   ],
   "source": [
    "print(df.at[df.index[2], 'age'])"
   ]
  },
  {
   "cell_type": "code",
   "execution_count": 58,
   "metadata": {},
   "outputs": [
    {
     "name": "stdout",
     "output_type": "stream",
     "text": [
      "       age  point\n",
      "name             \n",
      "Alice   24     64\n",
      "Dave    40     70\n"
     ]
    }
   ],
   "source": [
    "print(df.loc[['Alice', 'Dave'], df.columns[[0, 2]]])"
   ]
  },
  {
   "cell_type": "code",
   "execution_count": 59,
   "metadata": {},
   "outputs": [
    {
     "name": "stdout",
     "output_type": "stream",
     "text": [
      "30\n"
     ]
    }
   ],
   "source": [
    "print(df['age'][2])"
   ]
  },
  {
   "cell_type": "code",
   "execution_count": 60,
   "metadata": {},
   "outputs": [
    {
     "name": "stdout",
     "output_type": "stream",
     "text": [
      "       age  point\n",
      "name             \n",
      "Alice   24     64\n",
      "Dave    40     70\n"
     ]
    }
   ],
   "source": [
    "print(df.loc[['Alice', 'Dave']].iloc[:, [0, 2]])"
   ]
  }
 ],
 "metadata": {
  "kernelspec": {
   "display_name": "Python 3",
   "language": "python",
   "name": "python3"
  },
  "language_info": {
   "codemirror_mode": {
    "name": "ipython",
    "version": 3
   },
   "file_extension": ".py",
   "mimetype": "text/x-python",
   "name": "python",
   "nbconvert_exporter": "python",
   "pygments_lexer": "ipython3",
   "version": "3.9.12"
  }
 },
 "nbformat": 4,
 "nbformat_minor": 2
}
