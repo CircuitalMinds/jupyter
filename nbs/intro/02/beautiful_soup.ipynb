{
 "cells": [
  {
   "cell_type": "code",
   "execution_count": 1,
   "metadata": {},
   "outputs": [
    {
     "name": "stdout",
     "output_type": "stream",
     "text": [
      "ショッピング\n",
      "ヤフオク!\n",
      "LOHACO\n",
      "旅行、ホテル予約\n",
      "一休.com\n",
      "一休.comレストラン\n",
      "ニュース\n",
      "天気\n",
      "スポーツナビ\n",
      "ファイナンス\n",
      "テレビ\n",
      "GYAO!\n",
      "ゲーム\n",
      "Yahoo!モバゲー\n",
      "地図\n",
      "路線\n",
      "食べログ\n",
      "求人、アルバイト\n",
      "不動産\n",
      "自動車\n",
      "掲示板\n",
      "ブログ\n",
      "美容、ダイエット\n",
      "恋愛、婚活\n"
     ]
    }
   ],
   "source": [
    "import urllib.request\n",
    "from bs4 import BeautifulSoup\n",
    "\n",
    "url = 'http://www.yahoo.co.jp/'\n",
    "ua = 'Mozilla/5.0 (Macintosh; Intel Mac OS X 10_12_3) '\\\n",
    "     'AppleWebKit/537.36 (KHTML, like Gecko) '\\\n",
    "     'Chrome/55.0.2883.95 Safari/537.36 '\n",
    "\n",
    "req = urllib.request.Request(url, headers={'User-Agent': ua})\n",
    "html = urllib.request.urlopen(req)\n",
    "soup = BeautifulSoup(html, \"html.parser\")\n",
    "\n",
    "li_list = soup.find(id='yahooservice').find_all('li')\n",
    "# li_list = soup.find('div', attrs={'id': 'yahooservice'}).find_all('li')\n",
    "# li_list = soup.select('div#yahooservice > ul > li')\n",
    "\n",
    "for li in li_list:\n",
    "    print(li.find('a').text)"
   ]
  }
 ],
 "metadata": {
  "kernelspec": {
   "display_name": "Python 3",
   "language": "python",
   "name": "python3"
  },
  "language_info": {
   "codemirror_mode": {
    "name": "ipython",
    "version": 3
   },
   "file_extension": ".py",
   "mimetype": "text/x-python",
   "name": "python",
   "nbconvert_exporter": "python",
   "pygments_lexer": "ipython3",
   "version": "3.6.3"
  }
 },
 "nbformat": 4,
 "nbformat_minor": 2
}
