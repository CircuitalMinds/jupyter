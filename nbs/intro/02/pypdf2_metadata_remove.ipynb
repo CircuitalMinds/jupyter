{
 "cells": [
  {
   "cell_type": "code",
   "execution_count": 1,
   "metadata": {},
   "outputs": [],
   "source": [
    "import PyPDF2"
   ]
  },
  {
   "cell_type": "code",
   "execution_count": 2,
   "metadata": {},
   "outputs": [],
   "source": [
    "src_pdf = PyPDF2.PdfFileReader('data/src/pdf/sample1.pdf')\n",
    "dst_pdf = PyPDF2.PdfFileWriter()"
   ]
  },
  {
   "cell_type": "code",
   "execution_count": 3,
   "metadata": {},
   "outputs": [],
   "source": [
    "dst_pdf.cloneReaderDocumentRoot(src_pdf)"
   ]
  },
  {
   "cell_type": "code",
   "execution_count": 4,
   "metadata": {},
   "outputs": [],
   "source": [
    "with open('data/temp/sample1_no_meta.pdf', 'wb') as f:\n",
    "    dst_pdf.write(f)"
   ]
  },
  {
   "cell_type": "code",
   "execution_count": 5,
   "metadata": {},
   "outputs": [
    {
     "name": "stdout",
     "output_type": "stream",
     "text": [
      "{'/Producer': 'PyPDF2'}\n"
     ]
    }
   ],
   "source": [
    "print(PyPDF2.PdfFileReader('data/temp/sample1_no_meta.pdf').documentInfo)"
   ]
  },
  {
   "cell_type": "code",
   "execution_count": 6,
   "metadata": {},
   "outputs": [],
   "source": [
    "dst_pdf.addMetadata({'/Producer': ''})"
   ]
  },
  {
   "cell_type": "code",
   "execution_count": 7,
   "metadata": {},
   "outputs": [
    {
     "name": "stdout",
     "output_type": "stream",
     "text": [
      "{'/Producer': ''}\n"
     ]
    }
   ],
   "source": [
    "with open('data/temp/sample1_no_meta.pdf', 'wb') as f:\n",
    "    dst_pdf.write(f)\n",
    "\n",
    "print(PyPDF2.PdfFileReader('data/temp/sample1_no_meta.pdf').documentInfo)"
   ]
  },
  {
   "cell_type": "code",
   "execution_count": 8,
   "metadata": {},
   "outputs": [],
   "source": [
    "def remove_all_metadata(src_path, dst_path, producer=''):\n",
    "    src_pdf = PyPDF2.PdfFileReader(src_path)\n",
    "    dst_pdf = PyPDF2.PdfFileWriter()\n",
    "    dst_pdf.cloneReaderDocumentRoot(src_pdf)\n",
    "    dst_pdf.addMetadata({'/Producer': producer})\n",
    "    with open(dst_path, 'wb') as f:\n",
    "        dst_pdf.write(f)"
   ]
  },
  {
   "cell_type": "code",
   "execution_count": 9,
   "metadata": {},
   "outputs": [
    {
     "name": "stdout",
     "output_type": "stream",
     "text": [
      "{'/Producer': ''}\n"
     ]
    }
   ],
   "source": [
    "remove_all_metadata('data/src/pdf/sample1.pdf', 'data/temp/sample1_no_meta.pdf')\n",
    "print(PyPDF2.PdfFileReader('data/temp/sample1_no_meta.pdf').documentInfo)"
   ]
  },
  {
   "cell_type": "code",
   "execution_count": 10,
   "metadata": {},
   "outputs": [],
   "source": [
    "src_pdf = PyPDF2.PdfFileReader('data/src/pdf/sample1.pdf')\n",
    "dst_pdf = PyPDF2.PdfFileWriter()"
   ]
  },
  {
   "cell_type": "code",
   "execution_count": 11,
   "metadata": {},
   "outputs": [],
   "source": [
    "d = {key: src_pdf.documentInfo[key] for key in src_pdf.documentInfo.keys()}"
   ]
  },
  {
   "cell_type": "code",
   "execution_count": 12,
   "metadata": {},
   "outputs": [
    {
     "name": "stdout",
     "output_type": "stream",
     "text": [
      "{'/Title': 'sample1', '/Producer': 'macOS バージョン10.14.2（ビルド18C54） Quartz PDFContext', '/Creator': 'Keynote', '/CreationDate': \"D:20190114072947Z00'00'\", '/ModDate': \"D:20190114072947Z00'00'\"}\n"
     ]
    }
   ],
   "source": [
    "print(d)"
   ]
  },
  {
   "cell_type": "code",
   "execution_count": 13,
   "metadata": {},
   "outputs": [
    {
     "name": "stdout",
     "output_type": "stream",
     "text": [
      "{'/Title': 'sample1', '/CreationDate': \"D:20190114072947Z00'00'\", '/ModDate': \"D:20190114072947Z00'00'\"}\n"
     ]
    }
   ],
   "source": [
    "d.pop('/Creator')\n",
    "d.pop('/Producer')\n",
    "\n",
    "print(d)"
   ]
  },
  {
   "cell_type": "code",
   "execution_count": 14,
   "metadata": {},
   "outputs": [],
   "source": [
    "dst_pdf.addMetadata(d)"
   ]
  },
  {
   "cell_type": "code",
   "execution_count": 15,
   "metadata": {},
   "outputs": [],
   "source": [
    "with open('data/temp/sample1_remove_meta.pdf', 'wb') as f:\n",
    "    dst_pdf.write(f)"
   ]
  },
  {
   "cell_type": "code",
   "execution_count": 16,
   "metadata": {},
   "outputs": [
    {
     "name": "stdout",
     "output_type": "stream",
     "text": [
      "{'/Producer': 'PyPDF2', '/Title': 'sample1', '/CreationDate': \"D:20190114072947Z00'00'\", '/ModDate': \"D:20190114072947Z00'00'\"}\n"
     ]
    }
   ],
   "source": [
    "print(PyPDF2.PdfFileReader('data/temp/sample1_remove_meta.pdf').documentInfo)"
   ]
  },
  {
   "cell_type": "code",
   "execution_count": 17,
   "metadata": {},
   "outputs": [],
   "source": [
    "def remove_metadata(src_path, dst_path, *args, producer=''):\n",
    "    src_pdf = PyPDF2.PdfFileReader(src_path)\n",
    "    dst_pdf = PyPDF2.PdfFileWriter()\n",
    "    dst_pdf.cloneReaderDocumentRoot(src_pdf)\n",
    "    \n",
    "    d = {key: src_pdf.documentInfo[key] for key in src_pdf.documentInfo.keys()\n",
    "         if key not in args}\n",
    "    \n",
    "    d.setdefault('/Producer', producer)\n",
    "    \n",
    "    dst_pdf.addMetadata(d)\n",
    "    with open(dst_path, 'wb') as f:\n",
    "        dst_pdf.write(f)"
   ]
  },
  {
   "cell_type": "code",
   "execution_count": 18,
   "metadata": {},
   "outputs": [
    {
     "name": "stdout",
     "output_type": "stream",
     "text": [
      "{'/Producer': 'macOS バージョン10.14.2（ビルド18C54） Quartz PDFContext', '/Title': 'sample1'}\n"
     ]
    }
   ],
   "source": [
    "remove_metadata('data/src/pdf/sample1.pdf', 'data/temp/sample1_no_meta.pdf',\n",
    "                '/Creator', '/ModDate', '/CreationDate')\n",
    "print(PyPDF2.PdfFileReader('data/temp/sample1_no_meta.pdf').documentInfo)"
   ]
  },
  {
   "cell_type": "code",
   "execution_count": 19,
   "metadata": {},
   "outputs": [
    {
     "name": "stdout",
     "output_type": "stream",
     "text": [
      "{'/Producer': '', '/Title': 'sample1'}\n"
     ]
    }
   ],
   "source": [
    "remove_metadata('data/src/pdf/sample1.pdf', 'data/temp/sample1_no_meta.pdf',\n",
    "                '/Creator', '/ModDate', '/CreationDate', '/Producer')\n",
    "print(PyPDF2.PdfFileReader('data/temp/sample1_no_meta.pdf').documentInfo)"
   ]
  },
  {
   "cell_type": "code",
   "execution_count": 20,
   "metadata": {},
   "outputs": [
    {
     "name": "stdout",
     "output_type": "stream",
     "text": [
      "{'/Producer': 'XXX', '/Title': 'sample1'}\n"
     ]
    }
   ],
   "source": [
    "remove_metadata('data/src/pdf/sample1.pdf', 'data/temp/sample1_no_meta.pdf',\n",
    "                '/Creator', '/ModDate', '/CreationDate', '/Producer', producer='XXX')\n",
    "print(PyPDF2.PdfFileReader('data/temp/sample1_no_meta.pdf').documentInfo)"
   ]
  },
  {
   "cell_type": "code",
   "execution_count": 21,
   "metadata": {},
   "outputs": [],
   "source": [
    "def select_metadata(src_path, dst_path, *args, producer=''):\n",
    "    src_pdf = PyPDF2.PdfFileReader(src_path)\n",
    "    dst_pdf = PyPDF2.PdfFileWriter()\n",
    "    dst_pdf.cloneReaderDocumentRoot(src_pdf)\n",
    "    \n",
    "    d = {key: src_pdf.documentInfo[key] for key in src_pdf.documentInfo.keys()\n",
    "         if key in args}\n",
    "    \n",
    "    d.setdefault('/Producer', producer)\n",
    "    \n",
    "    dst_pdf.addMetadata(d)\n",
    "    with open(dst_path, 'wb') as f:\n",
    "        dst_pdf.write(f)"
   ]
  },
  {
   "cell_type": "code",
   "execution_count": 22,
   "metadata": {},
   "outputs": [
    {
     "name": "stdout",
     "output_type": "stream",
     "text": [
      "{'/Producer': '', '/Title': 'sample1', '/ModDate': \"D:20190114072947Z00'00'\"}\n"
     ]
    }
   ],
   "source": [
    "select_metadata('data/src/pdf/sample1.pdf', 'data/temp/sample1_no_meta.pdf',\n",
    "                '/Title', '/ModDate')\n",
    "print(PyPDF2.PdfFileReader('data/temp/sample1_no_meta.pdf').documentInfo)"
   ]
  },
  {
   "cell_type": "code",
   "execution_count": 23,
   "metadata": {},
   "outputs": [
    {
     "name": "stdout",
     "output_type": "stream",
     "text": [
      "{'/Producer': 'macOS バージョン10.14.2（ビルド18C54） Quartz PDFContext', '/Title': 'sample1'}\n"
     ]
    }
   ],
   "source": [
    "select_metadata('data/src/pdf/sample1.pdf', 'data/temp/sample1_no_meta.pdf',\n",
    "                '/Title', '/Producer')\n",
    "print(PyPDF2.PdfFileReader('data/temp/sample1_no_meta.pdf').documentInfo)"
   ]
  }
 ],
 "metadata": {
  "kernelspec": {
   "display_name": "Python 3",
   "language": "python",
   "name": "python3"
  },
  "language_info": {
   "codemirror_mode": {
    "name": "ipython",
    "version": 3
   },
   "file_extension": ".py",
   "mimetype": "text/x-python",
   "name": "python",
   "nbconvert_exporter": "python",
   "pygments_lexer": "ipython3",
   "version": "3.7.2"
  }
 },
 "nbformat": 4,
 "nbformat_minor": 2
}
