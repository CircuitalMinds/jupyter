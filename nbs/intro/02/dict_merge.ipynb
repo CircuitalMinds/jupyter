{
 "cells": [
  {
   "cell_type": "code",
   "execution_count": 1,
   "metadata": {},
   "outputs": [],
   "source": [
    "d1 = {'k1': 1, 'k2': 2}\n",
    "d2 = {'k1': 100, 'k3': 3, 'k4': 4}"
   ]
  },
  {
   "cell_type": "code",
   "execution_count": 2,
   "metadata": {},
   "outputs": [
    {
     "name": "stdout",
     "output_type": "stream",
     "text": [
      "{'k1': 100, 'k2': 2, 'k3': 3, 'k4': 4}\n"
     ]
    }
   ],
   "source": [
    "d = d1 | d2\n",
    "print(d)"
   ]
  },
  {
   "cell_type": "code",
   "execution_count": 3,
   "metadata": {},
   "outputs": [
    {
     "name": "stdout",
     "output_type": "stream",
     "text": [
      "{'k1': 1, 'k3': 3, 'k4': 4, 'k2': 2}\n"
     ]
    }
   ],
   "source": [
    "d = d2 | d1\n",
    "print(d)"
   ]
  },
  {
   "cell_type": "code",
   "execution_count": 4,
   "metadata": {},
   "outputs": [],
   "source": [
    "d1 = {'k1': 1, 'k2': 2}\n",
    "d2 = {'k1': 100, 'k3': 3, 'k4': 4}\n",
    "d3 = {'k5': 5, 'k6': 6}"
   ]
  },
  {
   "cell_type": "code",
   "execution_count": 5,
   "metadata": {},
   "outputs": [
    {
     "name": "stdout",
     "output_type": "stream",
     "text": [
      "{'k1': 100, 'k2': 2, 'k3': 3, 'k4': 4, 'k5': 5, 'k6': 6}\n"
     ]
    }
   ],
   "source": [
    "d = d1 | d2 | d3\n",
    "print(d)"
   ]
  },
  {
   "cell_type": "code",
   "execution_count": 6,
   "metadata": {},
   "outputs": [],
   "source": [
    "d1 = {'k1': 1, 'k2': 2}\n",
    "d2 = {'k1': 100, 'k3': 3, 'k4': 4}"
   ]
  },
  {
   "cell_type": "code",
   "execution_count": 7,
   "metadata": {},
   "outputs": [
    {
     "name": "stdout",
     "output_type": "stream",
     "text": [
      "{'k1': 100, 'k2': 2, 'k3': 3, 'k4': 4}\n"
     ]
    }
   ],
   "source": [
    "d1 |= d2\n",
    "print(d1)"
   ]
  },
  {
   "cell_type": "code",
   "execution_count": 8,
   "metadata": {},
   "outputs": [],
   "source": [
    "d = {'k1': 1, 'k2': 2}"
   ]
  },
  {
   "cell_type": "code",
   "execution_count": 9,
   "metadata": {},
   "outputs": [
    {
     "name": "stdout",
     "output_type": "stream",
     "text": [
      "{'k1': 100, 'k2': 2, 'k3': 3, 'k4': 4}\n"
     ]
    }
   ],
   "source": [
    "d |= [('k1', 100), ('k3', 3), ('k4', 4)]\n",
    "print(d)"
   ]
  },
  {
   "cell_type": "code",
   "execution_count": 10,
   "metadata": {},
   "outputs": [],
   "source": [
    "# d | [('k1', 100), ('k3', 3), ('k4', 4)]\n",
    "# TypeError: unsupported operand type(s) for |: 'dict' and 'list'"
   ]
  }
 ],
 "metadata": {
  "kernelspec": {
   "display_name": "Python 3",
   "language": "python",
   "name": "python3"
  },
  "language_info": {
   "codemirror_mode": {
    "name": "ipython",
    "version": 3
   },
   "file_extension": ".py",
   "mimetype": "text/x-python",
   "name": "python",
   "nbconvert_exporter": "python",
   "pygments_lexer": "ipython3",
   "version": "3.9.7"
  }
 },
 "nbformat": 4,
 "nbformat_minor": 4
}
