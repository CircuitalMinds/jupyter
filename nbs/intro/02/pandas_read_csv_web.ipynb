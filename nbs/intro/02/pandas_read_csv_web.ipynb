{
 "cells": [
  {
   "cell_type": "code",
   "execution_count": 1,
   "metadata": {
    "collapsed": true
   },
   "outputs": [],
   "source": [
    "import pandas as pd"
   ]
  },
  {
   "cell_type": "code",
   "execution_count": 2,
   "metadata": {},
   "outputs": [],
   "source": [
    "df = pd.read_csv('http://www.post.japanpost.jp/zipcode/dl/oogaki/zip/13tokyo.zip',\n",
    "                 header=None, encoding='shift_jis')"
   ]
  },
  {
   "cell_type": "code",
   "execution_count": 3,
   "metadata": {},
   "outputs": [
    {
     "name": "stdout",
     "output_type": "stream",
     "text": [
      "(3851, 15)\n"
     ]
    }
   ],
   "source": [
    "print(df.shape)"
   ]
  },
  {
   "cell_type": "code",
   "execution_count": 4,
   "metadata": {
    "scrolled": true
   },
   "outputs": [
    {
     "name": "stdout",
     "output_type": "stream",
     "text": [
      "      0    1        2       3      4                5    6     7           8   \\\n",
      "0  13101  100  1000000  ﾄｳｷﾖｳﾄ  ﾁﾖﾀﾞｸ  ｲｶﾆｹｲｻｲｶﾞﾅｲﾊﾞｱｲ  東京都  千代田区  以下に掲載がない場合   \n",
      "1  13101  102  1020072  ﾄｳｷﾖｳﾄ  ﾁﾖﾀﾞｸ          ｲｲﾀﾞﾊﾞｼ  東京都  千代田区         飯田橋   \n",
      "2  13101  102  1020082  ﾄｳｷﾖｳﾄ  ﾁﾖﾀﾞｸ         ｲﾁﾊﾞﾝﾁﾖｳ  東京都  千代田区         一番町   \n",
      "3  13101  101  1010032  ﾄｳｷﾖｳﾄ  ﾁﾖﾀﾞｸ          ｲﾜﾓﾄﾁﾖｳ  東京都  千代田区         岩本町   \n",
      "4  13101  101  1010047  ﾄｳｷﾖｳﾄ  ﾁﾖﾀﾞｸ           ｳﾁｶﾝﾀﾞ  東京都  千代田区         内神田   \n",
      "\n",
      "   9   10  11  12  13  14  \n",
      "0   0   0   0   0   0   0  \n",
      "1   0   0   1   0   0   0  \n",
      "2   0   0   0   0   0   0  \n",
      "3   0   0   1   0   0   0  \n",
      "4   0   0   1   0   0   0  \n"
     ]
    }
   ],
   "source": [
    "print(df.head())"
   ]
  },
  {
   "cell_type": "code",
   "execution_count": 5,
   "metadata": {},
   "outputs": [
    {
     "name": "stdout",
     "output_type": "stream",
     "text": [
      "         0      1        2       3                  4                5    6   \\\n",
      "3846  13401  10015  1001511  ﾄｳｷﾖｳﾄ  ﾊﾁｼﾞﾖｳｼﾞﾏﾊﾁｼﾞﾖｳﾏﾁ              ﾐﾂﾈ  東京都   \n",
      "3847  13402  10017  1001701  ﾄｳｷﾖｳﾄ           ｱｵｶﾞｼﾏﾑﾗ     ｱｵｶﾞｼﾏﾑﾗｲﾁｴﾝ  東京都   \n",
      "3848  13421  10021  1002100  ﾄｳｷﾖｳﾄ           ｵｶﾞｻﾜﾗﾑﾗ  ｲｶﾆｹｲｻｲｶﾞﾅｲﾊﾞｱｲ  東京都   \n",
      "3849  13421  10021  1002101  ﾄｳｷﾖｳﾄ           ｵｶﾞｻﾜﾗﾑﾗ            ﾁﾁｼﾞﾏ  東京都   \n",
      "3850  13421  10022  1002211  ﾄｳｷﾖｳﾄ           ｵｶﾞｻﾜﾗﾑﾗ            ﾊﾊｼﾞﾏ  東京都   \n",
      "\n",
      "          7           8   9   10  11  12  13  14  \n",
      "3846  八丈島八丈町          三根   0   0   0   0   0   0  \n",
      "3847    青ヶ島村      青ヶ島村一円   0   0   0   0   0   0  \n",
      "3848    小笠原村  以下に掲載がない場合   0   0   0   0   0   0  \n",
      "3849    小笠原村          父島   0   0   0   0   0   0  \n",
      "3850    小笠原村          母島   0   0   0   0   0   0  \n"
     ]
    }
   ],
   "source": [
    "print(df.tail())"
   ]
  }
 ],
 "metadata": {
  "kernelspec": {
   "display_name": "Python 3",
   "language": "python",
   "name": "python3"
  },
  "language_info": {
   "codemirror_mode": {
    "name": "ipython",
    "version": 3
   },
   "file_extension": ".py",
   "mimetype": "text/x-python",
   "name": "python",
   "nbconvert_exporter": "python",
   "pygments_lexer": "ipython3",
   "version": "3.6.5"
  }
 },
 "nbformat": 4,
 "nbformat_minor": 2
}
