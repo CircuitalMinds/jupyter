{
 "cells": [
  {
   "cell_type": "code",
   "execution_count": 1,
   "metadata": {},
   "outputs": [],
   "source": [
    "from my_lib.imagelib import crop_center, crop_max_square, expand2square, mask_circle_solid, mask_circle_transparent"
   ]
  },
  {
   "cell_type": "code",
   "execution_count": 2,
   "metadata": {},
   "outputs": [],
   "source": [
    "import os\n",
    "import glob"
   ]
  },
  {
   "cell_type": "code",
   "execution_count": 3,
   "metadata": {},
   "outputs": [],
   "source": [
    "from PIL import Image, ImageDraw, ImageFilter"
   ]
  },
  {
   "cell_type": "code",
   "execution_count": 4,
   "metadata": {},
   "outputs": [],
   "source": [
    "im = Image.open('data/src/astronaut_rect.bmp')\n",
    "thumb_width = 200"
   ]
  },
  {
   "cell_type": "markdown",
   "metadata": {},
   "source": [
    "![](data/src/astronaut_rect.bmp)"
   ]
  },
  {
   "cell_type": "code",
   "execution_count": 5,
   "metadata": {},
   "outputs": [],
   "source": [
    "im_thumb = crop_center(im, thumb_width, thumb_width)\n",
    "im_thumb.save('data/dst/astronaut_thumbnail_center_square.jpg', quality=95)"
   ]
  },
  {
   "cell_type": "markdown",
   "metadata": {},
   "source": [
    "![](data/dst/astronaut_thumbnail_center_square.jpg)"
   ]
  },
  {
   "cell_type": "code",
   "execution_count": 6,
   "metadata": {},
   "outputs": [],
   "source": [
    "im_thumb = crop_max_square(im).resize((thumb_width, thumb_width), Image.LANCZOS)\n",
    "im_thumb.save('data/dst/astronaut_thumbnail_max_square.jpg', quality=95)"
   ]
  },
  {
   "cell_type": "markdown",
   "metadata": {},
   "source": [
    "![](data/dst/astronaut_thumbnail_max_square.jpg)"
   ]
  },
  {
   "cell_type": "code",
   "execution_count": 7,
   "metadata": {},
   "outputs": [],
   "source": [
    "im_thumb = expand2square(im, (0, 0, 0)).resize((thumb_width, thumb_width), Image.LANCZOS)\n",
    "im_thumb.save('data/dst/astronaut_thumbnail_expand.jpg', quality=95)"
   ]
  },
  {
   "cell_type": "markdown",
   "metadata": {},
   "source": [
    "![](data/dst/astronaut_thumbnail_expand.jpg)"
   ]
  },
  {
   "cell_type": "code",
   "execution_count": 8,
   "metadata": {},
   "outputs": [],
   "source": [
    "im_square = crop_max_square(im).resize((thumb_width, thumb_width), Image.LANCZOS)\n",
    "im_thumb = mask_circle_solid(im_square, (0, 0, 0), 4)\n",
    "im_thumb.save('data/dst/astronaut_thumbnail_mask_circle_solid.jpg', quality=95)"
   ]
  },
  {
   "cell_type": "markdown",
   "metadata": {},
   "source": [
    "![](data/dst/astronaut_thumbnail_mask_circle_solid.jpg)"
   ]
  },
  {
   "cell_type": "code",
   "execution_count": 9,
   "metadata": {},
   "outputs": [],
   "source": [
    "im_square = crop_max_square(im).resize((thumb_width, thumb_width), Image.LANCZOS)\n",
    "im_thumb = mask_circle_transparent(im_square, 4)\n",
    "im_thumb.save('data/dst/astronaut_thumbnail_mask_circle_transparent.png')"
   ]
  },
  {
   "cell_type": "markdown",
   "metadata": {},
   "source": [
    "![](data/dst/astronaut_thumbnail_mask_circle_transparent.png)"
   ]
  },
  {
   "cell_type": "code",
   "execution_count": 10,
   "metadata": {},
   "outputs": [],
   "source": [
    "src_dir = 'data/temp/src'\n",
    "dst_dir = 'data/temp/dst'\n",
    "\n",
    "files = glob.glob(os.path.join(src_dir, '*.jpg'))\n",
    "\n",
    "for f in files:\n",
    "    im = Image.open(f)\n",
    "    im_thumb = crop_max_square(im).resize((thumb_width, thumb_width), Image.LANCZOS)\n",
    "    ftitle, fext = os.path.splitext(os.path.basename(f))\n",
    "    im_thumb.save(os.path.join(dst_dir, ftitle + '_thumbnail' + fext), quality=95)"
   ]
  }
 ],
 "metadata": {
  "kernelspec": {
   "display_name": "Python 3",
   "language": "python",
   "name": "python3"
  },
  "language_info": {
   "codemirror_mode": {
    "name": "ipython",
    "version": 3
   },
   "file_extension": ".py",
   "mimetype": "text/x-python",
   "name": "python",
   "nbconvert_exporter": "python",
   "pygments_lexer": "ipython3",
   "version": "3.9.1"
  }
 },
 "nbformat": 4,
 "nbformat_minor": 4
}
