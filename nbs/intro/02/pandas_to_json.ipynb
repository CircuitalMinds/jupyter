{
 "cells": [
  {
   "cell_type": "code",
   "execution_count": 1,
   "metadata": {
    "collapsed": true
   },
   "outputs": [],
   "source": [
    "import pandas as pd\n",
    "import pprint\n",
    "import json"
   ]
  },
  {
   "cell_type": "code",
   "execution_count": 2,
   "metadata": {
    "collapsed": true
   },
   "outputs": [],
   "source": [
    "df = pd.DataFrame({'col1': [1, 2, 3], 'col2': ['a', 'x', 'あ']},\n",
    "                  index=['row1', 'row2', 'row3'])"
   ]
  },
  {
   "cell_type": "code",
   "execution_count": 3,
   "metadata": {},
   "outputs": [
    {
     "name": "stdout",
     "output_type": "stream",
     "text": [
      "      col1 col2\n",
      "row1     1    a\n",
      "row2     2    x\n",
      "row3     3    あ\n"
     ]
    }
   ],
   "source": [
    "print(df)"
   ]
  },
  {
   "cell_type": "code",
   "execution_count": 4,
   "metadata": {},
   "outputs": [
    {
     "name": "stdout",
     "output_type": "stream",
     "text": [
      "{\"col1\":{\"row1\":1,\"row2\":2,\"row3\":3},\"col2\":{\"row1\":\"a\",\"row2\":\"x\",\"row3\":\"\\u3042\"}}\n"
     ]
    }
   ],
   "source": [
    "print(df.to_json())"
   ]
  },
  {
   "cell_type": "code",
   "execution_count": 5,
   "metadata": {},
   "outputs": [
    {
     "name": "stdout",
     "output_type": "stream",
     "text": [
      "<class 'str'>\n"
     ]
    }
   ],
   "source": [
    "print(type(df.to_json()))"
   ]
  },
  {
   "cell_type": "code",
   "execution_count": 6,
   "metadata": {
    "collapsed": true
   },
   "outputs": [],
   "source": [
    "path = 'data/src/sample_from_pandas_columns.json'"
   ]
  },
  {
   "cell_type": "code",
   "execution_count": 7,
   "metadata": {
    "collapsed": true
   },
   "outputs": [],
   "source": [
    "df.to_json(path)"
   ]
  },
  {
   "cell_type": "code",
   "execution_count": 8,
   "metadata": {},
   "outputs": [
    {
     "name": "stdout",
     "output_type": "stream",
     "text": [
      "{\"col1\":{\"row1\":1,\"row2\":2,\"row3\":3},\"col2\":{\"row1\":\"a\",\"row2\":\"x\",\"row3\":\"\\u3042\"}}\n",
      "<class 'str'>\n"
     ]
    }
   ],
   "source": [
    "with open(path) as f:\n",
    "    s = f.read()\n",
    "    print(s)\n",
    "    print(type(s))"
   ]
  },
  {
   "cell_type": "code",
   "execution_count": 9,
   "metadata": {},
   "outputs": [
    {
     "name": "stdout",
     "output_type": "stream",
     "text": [
      "{\"col1\":{\"row1\":1,\"row2\":2,\"row3\":3},\"col2\":{\"row1\":\"a\",\"row2\":\"x\",\"row3\":\"あ\"}}\n",
      "<class 'str'>\n"
     ]
    }
   ],
   "source": [
    "with open(path, encoding='unicode-escape') as f:\n",
    "    s = f.read()\n",
    "    print(s)\n",
    "    print(type(s))"
   ]
  },
  {
   "cell_type": "code",
   "execution_count": 10,
   "metadata": {},
   "outputs": [
    {
     "name": "stdout",
     "output_type": "stream",
     "text": [
      "{'col1': {'row1': 1, 'row2': 2, 'row3': 3}, 'col2': {'row1': 'a', 'row2': 'x', 'row3': 'あ'}}\n",
      "<class 'dict'>\n"
     ]
    }
   ],
   "source": [
    "with open(path) as f:\n",
    "    d = json.load(f)\n",
    "    print(d)\n",
    "    print(type(d))"
   ]
  },
  {
   "cell_type": "code",
   "execution_count": 11,
   "metadata": {},
   "outputs": [
    {
     "name": "stdout",
     "output_type": "stream",
     "text": [
      "      col1 col2\n",
      "row1     1    a\n",
      "row2     2    x\n",
      "row3     3    あ\n"
     ]
    }
   ],
   "source": [
    "df_read = pd.read_json(path)\n",
    "print(df_read)"
   ]
  },
  {
   "cell_type": "code",
   "execution_count": 12,
   "metadata": {
    "collapsed": true
   },
   "outputs": [],
   "source": [
    "df.to_json('data/src/sample_from_pandas_columns.gz', compression='gzip')"
   ]
  },
  {
   "cell_type": "code",
   "execution_count": 13,
   "metadata": {},
   "outputs": [
    {
     "name": "stdout",
     "output_type": "stream",
     "text": [
      "{\"columns\":[\"col1\",\"col2\"],\"index\":[\"row1\",\"row2\",\"row3\"],\"data\":[[1,\"a\"],[2,\"x\"],[3,\"\\u3042\"]]}\n"
     ]
    }
   ],
   "source": [
    "print(df.to_json(orient='split'))"
   ]
  },
  {
   "cell_type": "code",
   "execution_count": 14,
   "metadata": {},
   "outputs": [
    {
     "name": "stdout",
     "output_type": "stream",
     "text": [
      "{'columns': ['col1', 'col2'],\n",
      " 'data': [[1, 'a'], [2, 'x'], [3, 'あ']],\n",
      " 'index': ['row1', 'row2', 'row3']}\n"
     ]
    }
   ],
   "source": [
    "pprint.pprint(json.loads(df.to_json(orient='split')))"
   ]
  },
  {
   "cell_type": "code",
   "execution_count": 15,
   "metadata": {},
   "outputs": [
    {
     "name": "stdout",
     "output_type": "stream",
     "text": [
      "[{\"col1\":1,\"col2\":\"a\"},{\"col1\":2,\"col2\":\"x\"},{\"col1\":3,\"col2\":\"\\u3042\"}]\n"
     ]
    }
   ],
   "source": [
    "print(df.to_json(orient='records'))"
   ]
  },
  {
   "cell_type": "code",
   "execution_count": 16,
   "metadata": {},
   "outputs": [
    {
     "name": "stdout",
     "output_type": "stream",
     "text": [
      "[{'col1': 1, 'col2': 'a'},\n",
      " {'col1': 2, 'col2': 'x'},\n",
      " {'col1': 3, 'col2': 'あ'}]\n"
     ]
    }
   ],
   "source": [
    "pprint.pprint(json.loads(df.to_json(orient='records')), width=40)"
   ]
  },
  {
   "cell_type": "code",
   "execution_count": 17,
   "metadata": {},
   "outputs": [
    {
     "name": "stdout",
     "output_type": "stream",
     "text": [
      "{\"col1\":1,\"col2\":\"a\"}\n",
      "{\"col1\":2,\"col2\":\"x\"}\n",
      "{\"col1\":3,\"col2\":\"\\u3042\"}\n"
     ]
    }
   ],
   "source": [
    "print(df.to_json(orient='records', lines=True))"
   ]
  },
  {
   "cell_type": "code",
   "execution_count": 18,
   "metadata": {},
   "outputs": [
    {
     "name": "stdout",
     "output_type": "stream",
     "text": [
      "{\"row1\":{\"col1\":1,\"col2\":\"a\"},\"row2\":{\"col1\":2,\"col2\":\"x\"},\"row3\":{\"col1\":3,\"col2\":\"\\u3042\"}}\n"
     ]
    }
   ],
   "source": [
    "print(df.to_json(orient='index'))"
   ]
  },
  {
   "cell_type": "code",
   "execution_count": 19,
   "metadata": {},
   "outputs": [
    {
     "name": "stdout",
     "output_type": "stream",
     "text": [
      "{'row1': {'col1': 1, 'col2': 'a'},\n",
      " 'row2': {'col1': 2, 'col2': 'x'},\n",
      " 'row3': {'col1': 3, 'col2': 'あ'}}\n"
     ]
    }
   ],
   "source": [
    "pprint.pprint(json.loads(df.to_json(orient='index')))"
   ]
  },
  {
   "cell_type": "code",
   "execution_count": 20,
   "metadata": {},
   "outputs": [
    {
     "name": "stdout",
     "output_type": "stream",
     "text": [
      "{\"col1\":{\"row1\":1,\"row2\":2,\"row3\":3},\"col2\":{\"row1\":\"a\",\"row2\":\"x\",\"row3\":\"\\u3042\"}}\n"
     ]
    }
   ],
   "source": [
    "print(df.to_json(orient='columns'))"
   ]
  },
  {
   "cell_type": "code",
   "execution_count": 21,
   "metadata": {},
   "outputs": [
    {
     "name": "stdout",
     "output_type": "stream",
     "text": [
      "{'col1': {'row1': 1, 'row2': 2, 'row3': 3},\n",
      " 'col2': {'row1': 'a', 'row2': 'x', 'row3': 'あ'}}\n"
     ]
    }
   ],
   "source": [
    "pprint.pprint(json.loads(df.to_json(orient='columns')))"
   ]
  },
  {
   "cell_type": "code",
   "execution_count": 22,
   "metadata": {},
   "outputs": [
    {
     "name": "stdout",
     "output_type": "stream",
     "text": [
      "[[1,\"a\"],[2,\"x\"],[3,\"\\u3042\"]]\n"
     ]
    }
   ],
   "source": [
    "print(df.to_json(orient='values'))"
   ]
  },
  {
   "cell_type": "code",
   "execution_count": 23,
   "metadata": {},
   "outputs": [
    {
     "name": "stdout",
     "output_type": "stream",
     "text": [
      "[[1, 'a'], [2, 'x'], [3, 'あ']]\n"
     ]
    }
   ],
   "source": [
    "pprint.pprint(json.loads(df.to_json(orient='values')))"
   ]
  },
  {
   "cell_type": "code",
   "execution_count": 24,
   "metadata": {},
   "outputs": [
    {
     "name": "stdout",
     "output_type": "stream",
     "text": [
      "{\"schema\": {\"fields\":[{\"name\":\"index\",\"type\":\"string\"},{\"name\":\"col1\",\"type\":\"integer\"},{\"name\":\"col2\",\"type\":\"string\"}],\"primaryKey\":[\"index\"],\"pandas_version\":\"0.20.0\"}, \"data\": [{\"index\":\"row1\",\"col1\":1,\"col2\":\"a\"},{\"index\":\"row2\",\"col1\":2,\"col2\":\"x\"},{\"index\":\"row3\",\"col1\":3,\"col2\":\"\\u3042\"}]}\n"
     ]
    }
   ],
   "source": [
    "print(df.to_json(orient='table'))"
   ]
  },
  {
   "cell_type": "code",
   "execution_count": 25,
   "metadata": {},
   "outputs": [
    {
     "name": "stdout",
     "output_type": "stream",
     "text": [
      "{'data': [{'col1': 1, 'col2': 'a', 'index': 'row1'},\n",
      "          {'col1': 2, 'col2': 'x', 'index': 'row2'},\n",
      "          {'col1': 3, 'col2': 'あ', 'index': 'row3'}],\n",
      " 'schema': {'fields': [{'name': 'index', 'type': 'string'},\n",
      "                       {'name': 'col1', 'type': 'integer'},\n",
      "                       {'name': 'col2', 'type': 'string'}],\n",
      "            'pandas_version': '0.20.0',\n",
      "            'primaryKey': ['index']}}\n"
     ]
    }
   ],
   "source": [
    "pprint.pprint(json.loads(df.to_json(orient='table')))"
   ]
  },
  {
   "cell_type": "code",
   "execution_count": 26,
   "metadata": {},
   "outputs": [
    {
     "name": "stdout",
     "output_type": "stream",
     "text": [
      "{\"col1\":{\"row1\":1,\"row2\":2,\"row3\":3},\"col2\":{\"row1\":\"a\",\"row2\":\"x\",\"row3\":\"あ\"}}\n"
     ]
    }
   ],
   "source": [
    "print(df.to_json(force_ascii=False))"
   ]
  }
 ],
 "metadata": {
  "kernelspec": {
   "display_name": "Python 3",
   "language": "python",
   "name": "python3"
  },
  "language_info": {
   "codemirror_mode": {
    "name": "ipython",
    "version": 3
   },
   "file_extension": ".py",
   "mimetype": "text/x-python",
   "name": "python",
   "nbconvert_exporter": "python",
   "pygments_lexer": "ipython3",
   "version": "3.6.5"
  }
 },
 "nbformat": 4,
 "nbformat_minor": 2
}
