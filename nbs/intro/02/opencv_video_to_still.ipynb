{
 "cells": [
  {
   "cell_type": "code",
   "execution_count": 1,
   "metadata": {},
   "outputs": [],
   "source": [
    "import cv2\n",
    "import os"
   ]
  },
  {
   "cell_type": "code",
   "execution_count": 2,
   "metadata": {},
   "outputs": [],
   "source": [
    "def save_all_frames(video_path, dir_path, basename, ext='jpg'):\n",
    "    cap = cv2.VideoCapture(video_path)\n",
    "    \n",
    "    if not cap.isOpened():\n",
    "        return\n",
    "    \n",
    "    os.makedirs(dir_path, exist_ok=True)\n",
    "    base_path = os.path.join(dir_path, basename)\n",
    "    \n",
    "    digit = len(str(int(cap.get(cv2.CAP_PROP_FRAME_COUNT))))\n",
    "    \n",
    "    n = 0\n",
    "\n",
    "    while True:\n",
    "        ret, frame = cap.read()\n",
    "        if ret:\n",
    "            cv2.imwrite('{}_{}.{}'.format(base_path, str(n).zfill(digit), ext), frame)\n",
    "            n += 1\n",
    "        else:\n",
    "            return"
   ]
  },
  {
   "cell_type": "code",
   "execution_count": 3,
   "metadata": {},
   "outputs": [],
   "source": [
    "save_all_frames('data/temp/sample_video.mp4', 'data/temp/result', 'sample_video_img')"
   ]
  },
  {
   "cell_type": "code",
   "execution_count": 4,
   "metadata": {},
   "outputs": [],
   "source": [
    "save_all_frames('data/temp/sample_video.mp4', 'data/temp/result_png', 'sample_video_img', 'png')"
   ]
  },
  {
   "cell_type": "code",
   "execution_count": 5,
   "metadata": {},
   "outputs": [],
   "source": [
    "def save_frame(video_path, frame_num, result_path):\n",
    "    cap = cv2.VideoCapture(video_path)\n",
    "    \n",
    "    if not cap.isOpened():\n",
    "        return\n",
    "    \n",
    "    os.makedirs(os.path.dirname(result_path), exist_ok=True)\n",
    "    \n",
    "    cap.set(cv2.CAP_PROP_POS_FRAMES, frame_num)\n",
    "    \n",
    "    ret, frame = cap.read()\n",
    "    \n",
    "    if ret:\n",
    "        cv2.imwrite(result_path, frame)"
   ]
  },
  {
   "cell_type": "code",
   "execution_count": 6,
   "metadata": {},
   "outputs": [],
   "source": [
    "save_frame('data/temp/sample_video.mp4', 100, 'data/temp/result_single/sample_100.jpg')"
   ]
  },
  {
   "cell_type": "code",
   "execution_count": 7,
   "metadata": {},
   "outputs": [],
   "source": [
    "def save_frame_range(video_path, start_frame, stop_frame, step_frame,\n",
    "                     dir_path, basename, ext='jpg'):\n",
    "    cap = cv2.VideoCapture(video_path)\n",
    "    \n",
    "    if not cap.isOpened():\n",
    "        return\n",
    "    \n",
    "    os.makedirs(dir_path, exist_ok=True)\n",
    "    base_path = os.path.join(dir_path, basename)\n",
    "    \n",
    "    digit = len(str(int(cap.get(cv2.CAP_PROP_FRAME_COUNT))))\n",
    "    \n",
    "    for n in range(start_frame, stop_frame, step_frame):\n",
    "        cap.set(cv2.CAP_PROP_POS_FRAMES, n)\n",
    "        ret, frame = cap.read()\n",
    "        if ret:\n",
    "            cv2.imwrite('{}_{}.{}'.format(base_path, str(n).zfill(digit), ext), frame)\n",
    "        else:\n",
    "            return"
   ]
  },
  {
   "cell_type": "code",
   "execution_count": 8,
   "metadata": {},
   "outputs": [],
   "source": [
    "save_frame_range('data/temp/sample_video.mp4',\n",
    "                 200, 300, 10,\n",
    "                 'data/temp/result_range', 'sample_video_img')"
   ]
  },
  {
   "cell_type": "code",
   "execution_count": 9,
   "metadata": {},
   "outputs": [],
   "source": [
    "def save_frame_sec(video_path, sec, result_path):\n",
    "    cap = cv2.VideoCapture(video_path)\n",
    "    \n",
    "    if not cap.isOpened():\n",
    "        return\n",
    "    \n",
    "    os.makedirs(os.path.dirname(result_path), exist_ok=True)\n",
    "    \n",
    "    fps = cap.get(cv2.CAP_PROP_FPS)\n",
    "    \n",
    "    cap.set(cv2.CAP_PROP_POS_FRAMES, round(fps * sec))\n",
    "    \n",
    "    ret, frame = cap.read()\n",
    "    \n",
    "    if ret:\n",
    "        cv2.imwrite(result_path, frame)"
   ]
  },
  {
   "cell_type": "code",
   "execution_count": 10,
   "metadata": {},
   "outputs": [],
   "source": [
    "save_frame_sec('data/temp/sample_video.mp4', 10, 'data/temp/result_10sec.jpg')"
   ]
  },
  {
   "cell_type": "code",
   "execution_count": 11,
   "metadata": {},
   "outputs": [],
   "source": [
    "def save_frame_range_sec(video_path, start_sec, stop_sec, step_sec,\n",
    "                         dir_path, basename, ext='jpg'):\n",
    "    cap = cv2.VideoCapture(video_path)\n",
    "    \n",
    "    if not cap.isOpened():\n",
    "        return\n",
    "    \n",
    "    os.makedirs(dir_path, exist_ok=True)\n",
    "    base_path = os.path.join(dir_path, basename)\n",
    "    \n",
    "    digit = len(str(int(cap.get(cv2.CAP_PROP_FRAME_COUNT))))\n",
    "    \n",
    "    fps = cap.get(cv2.CAP_PROP_FPS)\n",
    "    fps_inv = 1 / fps\n",
    "    \n",
    "    sec = start_sec\n",
    "    while sec < stop_sec:\n",
    "        n = round(fps * sec)\n",
    "        cap.set(cv2.CAP_PROP_POS_FRAMES, n)\n",
    "        ret, frame = cap.read()\n",
    "        if ret:\n",
    "            cv2.imwrite(\n",
    "                '{}_{}_{:.2f}.{}'.format(\n",
    "                    base_path, str(n).zfill(digit), n * fps_inv, ext\n",
    "                ),\n",
    "                frame\n",
    "            )\n",
    "        else:\n",
    "            return\n",
    "        sec += step_sec"
   ]
  },
  {
   "cell_type": "code",
   "execution_count": 12,
   "metadata": {},
   "outputs": [],
   "source": [
    "save_frame_range_sec('data/temp/sample_video.mp4',\n",
    "                     2, 10, 2,\n",
    "                     'data/temp/result_range_sec', 'sample_video_img')"
   ]
  }
 ],
 "metadata": {
  "kernelspec": {
   "display_name": "Python 3",
   "language": "python",
   "name": "python3"
  },
  "language_info": {
   "codemirror_mode": {
    "name": "ipython",
    "version": 3
   },
   "file_extension": ".py",
   "mimetype": "text/x-python",
   "name": "python",
   "nbconvert_exporter": "python",
   "pygments_lexer": "ipython3",
   "version": "3.7.4"
  }
 },
 "nbformat": 4,
 "nbformat_minor": 2
}
