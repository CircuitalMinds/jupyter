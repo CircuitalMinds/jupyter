{
 "cells": [
  {
   "cell_type": "code",
   "execution_count": 1,
   "metadata": {},
   "outputs": [],
   "source": [
    "import requests\n",
    "import pprint\n",
    "import json"
   ]
  },
  {
   "cell_type": "code",
   "execution_count": 2,
   "metadata": {},
   "outputs": [],
   "source": [
    "url = 'http://weather.livedoor.com/forecast/webservice/json/v1'"
   ]
  },
  {
   "cell_type": "code",
   "execution_count": 3,
   "metadata": {},
   "outputs": [],
   "source": [
    "params = {'city': 130010}"
   ]
  },
  {
   "cell_type": "code",
   "execution_count": 4,
   "metadata": {},
   "outputs": [],
   "source": [
    "r = requests.get(url, params=params)"
   ]
  },
  {
   "cell_type": "code",
   "execution_count": 5,
   "metadata": {},
   "outputs": [
    {
     "name": "stdout",
     "output_type": "stream",
     "text": [
      "application/json; charset=utf-8\n"
     ]
    }
   ],
   "source": [
    "print(r.headers['Content-Type'])"
   ]
  },
  {
   "cell_type": "code",
   "execution_count": 6,
   "metadata": {},
   "outputs": [],
   "source": [
    "json_data = r.json()"
   ]
  },
  {
   "cell_type": "code",
   "execution_count": 7,
   "metadata": {},
   "outputs": [
    {
     "name": "stdout",
     "output_type": "stream",
     "text": [
      "<class 'dict'>\n"
     ]
    }
   ],
   "source": [
    "print(type(json_data))"
   ]
  },
  {
   "cell_type": "code",
   "execution_count": 8,
   "metadata": {},
   "outputs": [
    {
     "name": "stdout",
     "output_type": "stream",
     "text": [
      "{'copyright': {'image': {...},\n",
      "               'link': 'http://weather.livedoor.com/',\n",
      "               'provider': [...],\n",
      "               'title': '(C) LINE Corporation'},\n",
      " 'description': {'publicTime': '2018-07-12T18:33:00+0900',\n",
      "                 'text': ' 日本の東には高気圧があって東に進んでいます。また、日本の南にも高気\\n'\n",
      "                         '圧があり停滞しています。関東甲信地方は、高気圧の間で気圧の谷になって\\n'\n",
      "                         'います。\\n'\n",
      "                         '\\n'\n",
      "                         '【関東甲信地方】\\n'\n",
      "                         ' 関東甲信地方はおおむね曇りで、雷を伴い非常に激しい雨の降っている所\\n'\n",
      "                         'があります。\\n'\n",
      "                         '\\n'\n",
      "                         ' 12日は、気圧の谷や湿った空気の影響により曇りで、所により雷を伴い\\n'\n",
      "                         '非常に激しく降る所がある見込みです。\\n'\n",
      "                         '\\n'\n",
      "                         ' 13日は、上空の気圧の谷や湿った空気の影響で曇りますが、昼頃から次\\n'\n",
      "                         '第に晴れるでしょう。朝晩は雨の降る所がある見込みです。\\n'\n",
      "                         '\\n'\n",
      "                         ' 関東近海では、13日にかけてうねりを伴って波がやや高いでしょう。ま\\n'\n",
      "                         'た、所々で霧が発生する見込みです。船舶は視程障害に注意してください。\\n'\n",
      "                         '\\n'\n",
      "                         '【東京地方】\\n'\n",
      "                         ' 12日は、曇りですが、夜のはじめ頃まで雷を伴って激しく降る所がある\\n'\n",
      "                         'でしょう。\\n'\n",
      "                         ' 13日は、曇りで昼過ぎから晴れますが、明け方まで雨の降る所がある見\\n'\n",
      "                         '込みです。'},\n",
      " 'forecasts': [{...}, {...}, {...}],\n",
      " 'link': 'http://weather.livedoor.com/area/forecast/130010',\n",
      " 'location': {'area': '関東', 'city': '東京', 'prefecture': '東京都'},\n",
      " 'pinpointLocations': [{...}, {...}, {...}, {...}, {...}, {...}, {...}, {...},\n",
      "                       {...}, {...}, {...}, {...}, {...}, {...}, {...}, {...},\n",
      "                       {...}, {...}, {...}, {...}, {...}, {...}, {...}, {...},\n",
      "                       {...}, {...}, {...}, {...}, {...}, {...}, {...}, {...},\n",
      "                       {...}, {...}, {...}, {...}, {...}, {...}, {...}, {...},\n",
      "                       {...}, {...}, {...}, {...}, {...}, {...}, {...}, {...},\n",
      "                       {...}, {...}, {...}, {...}, {...}],\n",
      " 'publicTime': '2018-07-12T17:00:00+0900',\n",
      " 'title': '東京都 東京 の天気'}\n"
     ]
    }
   ],
   "source": [
    "pprint.pprint(json_data, depth=2, compact=True)"
   ]
  },
  {
   "cell_type": "code",
   "execution_count": 9,
   "metadata": {},
   "outputs": [
    {
     "name": "stdout",
     "output_type": "stream",
     "text": [
      " 日本の東には高気圧があって東に進んでいます。また、日本の南にも高気\n",
      "圧があり停滞しています。関東甲信地方は、高気圧の間で気圧の谷になって\n",
      "います。\n",
      "\n",
      "【関東甲信地方】\n",
      " 関東甲信地方はおおむね曇りで、雷を伴い非常に激しい雨の降っている所\n",
      "があります。\n",
      "\n",
      " 12日は、気圧の谷や湿った空気の影響により曇りで、所により雷を伴い\n",
      "非常に激しく降る所がある見込みです。\n",
      "\n",
      " 13日は、上空の気圧の谷や湿った空気の影響で曇りますが、昼頃から次\n",
      "第に晴れるでしょう。朝晩は雨の降る所がある見込みです。\n",
      "\n",
      " 関東近海では、13日にかけてうねりを伴って波がやや高いでしょう。ま\n",
      "た、所々で霧が発生する見込みです。船舶は視程障害に注意してください。\n",
      "\n",
      "【東京地方】\n",
      " 12日は、曇りですが、夜のはじめ頃まで雷を伴って激しく降る所がある\n",
      "でしょう。\n",
      " 13日は、曇りで昼過ぎから晴れますが、明け方まで雨の降る所がある見\n",
      "込みです。\n"
     ]
    }
   ],
   "source": [
    "print(json_data['description']['text'])"
   ]
  },
  {
   "cell_type": "code",
   "execution_count": 10,
   "metadata": {},
   "outputs": [
    {
     "name": "stdout",
     "output_type": "stream",
     "text": [
      "{'date': '2018-07-12',\n",
      " 'dateLabel': '今日',\n",
      " 'image': {'height': 31,\n",
      "           'title': '曇り',\n",
      "           'url': 'http://weather.livedoor.com/img/icon/8.gif',\n",
      "           'width': 50},\n",
      " 'telop': '曇り',\n",
      " 'temperature': {'max': None, 'min': None}}\n"
     ]
    }
   ],
   "source": [
    "pprint.pprint(json_data['forecasts'][0])"
   ]
  },
  {
   "cell_type": "code",
   "execution_count": 11,
   "metadata": {},
   "outputs": [],
   "source": [
    "with open('data/temp/download.json', 'w') as f:\n",
    "    json.dump(json_data, f, ensure_ascii=False, indent=4)"
   ]
  }
 ],
 "metadata": {
  "kernelspec": {
   "display_name": "Python 3",
   "language": "python",
   "name": "python3"
  },
  "language_info": {
   "codemirror_mode": {
    "name": "ipython",
    "version": 3
   },
   "file_extension": ".py",
   "mimetype": "text/x-python",
   "name": "python",
   "nbconvert_exporter": "python",
   "pygments_lexer": "ipython3",
   "version": "3.7.0"
  }
 },
 "nbformat": 4,
 "nbformat_minor": 2
}
