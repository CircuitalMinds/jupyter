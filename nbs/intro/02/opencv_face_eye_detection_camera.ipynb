{
 "cells": [
  {
   "cell_type": "code",
   "execution_count": null,
   "metadata": {
    "collapsed": true
   },
   "outputs": [],
   "source": [
    "import cv2"
   ]
  },
  {
   "cell_type": "code",
   "execution_count": null,
   "metadata": {
    "collapsed": true
   },
   "outputs": [],
   "source": [
    "face_cascade_path = '/usr/local/opt/opencv/share/'\\\n",
    "                    'OpenCV/haarcascades/haarcascade_frontalface_default.xml'\n",
    "eye_cascade_path = '/usr/local/opt/opencv/share/'\\\n",
    "                   'OpenCV/haarcascades/haarcascade_eye.xml'\n",
    "\n",
    "face_cascade = cv2.CascadeClassifier(face_cascade_path)\n",
    "eye_cascade = cv2.CascadeClassifier(eye_cascade_path)"
   ]
  },
  {
   "cell_type": "code",
   "execution_count": null,
   "metadata": {},
   "outputs": [],
   "source": [
    "cap = cv2.VideoCapture(0)\n",
    "\n",
    "while True:\n",
    "    ret, img = cap.read()\n",
    "    gray = cv2.cvtColor(img, cv2.COLOR_BGR2GRAY)\n",
    "    faces = face_cascade.detectMultiScale(gray, scaleFactor=1.3, minNeighbors=5)\n",
    "    for x, y, w, h in faces:\n",
    "        cv2.rectangle(img, (x, y), (x + w, y + h), (255, 0, 0), 2)\n",
    "        face = img[y: y + h, x: x + w]\n",
    "        face_gray = gray[y: y + h, x: x + w]\n",
    "        eyes = eye_cascade.detectMultiScale(face_gray)\n",
    "        for (ex, ey, ew, eh) in eyes:\n",
    "            cv2.rectangle(face, (ex, ey), (ex + ew, ey + eh), (0, 255, 0), 2)\n",
    "    cv2.imshow('video image', img)\n",
    "    key = cv2.waitKey(10)\n",
    "    if key == 27:  # ESCキーで終了\n",
    "        break\n",
    "\n",
    "cap.release()\n",
    "cv2.destroyAllWindows()"
   ]
  }
 ],
 "metadata": {
  "kernelspec": {
   "display_name": "Python 3",
   "language": "python",
   "name": "python3"
  },
  "language_info": {
   "codemirror_mode": {
    "name": "ipython",
    "version": 3
   },
   "file_extension": ".py",
   "mimetype": "text/x-python",
   "name": "python",
   "nbconvert_exporter": "python",
   "pygments_lexer": "ipython3",
   "version": "3.6.4"
  }
 },
 "nbformat": 4,
 "nbformat_minor": 2
}
