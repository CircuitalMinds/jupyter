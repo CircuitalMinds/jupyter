{
 "cells": [
  {
   "cell_type": "code",
   "execution_count": 1,
   "metadata": {},
   "outputs": [],
   "source": [
    "import pandas as pd\n",
    "import datetime"
   ]
  },
  {
   "cell_type": "code",
   "execution_count": 2,
   "metadata": {},
   "outputs": [
    {
     "name": "stdout",
     "output_type": "stream",
     "text": [
      "1.2.2\n"
     ]
    }
   ],
   "source": [
    "print(pd.__version__)"
   ]
  },
  {
   "cell_type": "code",
   "execution_count": 3,
   "metadata": {},
   "outputs": [
    {
     "name": "stdout",
     "output_type": "stream",
     "text": [
      "                     A\n",
      "2021-01-01 00:00:00  0\n",
      "2021-01-01 08:00:00  1\n",
      "2021-01-01 16:00:00  2\n",
      "2021-01-02 00:00:00  3\n",
      "2021-01-02 08:00:00  4\n",
      "2021-01-02 16:00:00  5\n"
     ]
    }
   ],
   "source": [
    "df = pd.DataFrame(range(6), columns=['A'],\n",
    "                  index=pd.date_range('2021-01-01', periods=6, freq='8H'))\n",
    "print(df)"
   ]
  },
  {
   "cell_type": "code",
   "execution_count": 4,
   "metadata": {},
   "outputs": [
    {
     "name": "stdout",
     "output_type": "stream",
     "text": [
      "<class 'pandas.core.indexes.datetimes.DatetimeIndex'>\n"
     ]
    }
   ],
   "source": [
    "print(type(df.index))"
   ]
  },
  {
   "cell_type": "code",
   "execution_count": 5,
   "metadata": {},
   "outputs": [
    {
     "name": "stdout",
     "output_type": "stream",
     "text": [
      "08:00:00\n"
     ]
    }
   ],
   "source": [
    "print(datetime.time(8, 0, 0))"
   ]
  },
  {
   "cell_type": "code",
   "execution_count": 6,
   "metadata": {},
   "outputs": [
    {
     "name": "stdout",
     "output_type": "stream",
     "text": [
      "                     A\n",
      "2021-01-01 08:00:00  1\n",
      "2021-01-02 08:00:00  4\n"
     ]
    }
   ],
   "source": [
    "print(df.at_time(datetime.time(8, 0, 0)))"
   ]
  },
  {
   "cell_type": "code",
   "execution_count": 7,
   "metadata": {},
   "outputs": [
    {
     "name": "stdout",
     "output_type": "stream",
     "text": [
      "Empty DataFrame\n",
      "Columns: [A]\n",
      "Index: []\n"
     ]
    }
   ],
   "source": [
    "print(df.at_time(datetime.time(12, 0, 0)))"
   ]
  },
  {
   "cell_type": "code",
   "execution_count": 8,
   "metadata": {},
   "outputs": [
    {
     "name": "stdout",
     "output_type": "stream",
     "text": [
      "                     A\n",
      "2021-01-01 16:00:00  2\n",
      "2021-01-02 16:00:00  5\n"
     ]
    }
   ],
   "source": [
    "print(df.at_time('16:00'))"
   ]
  },
  {
   "cell_type": "code",
   "execution_count": 9,
   "metadata": {},
   "outputs": [
    {
     "name": "stdout",
     "output_type": "stream",
     "text": [
      "                     A\n",
      "2021-01-01 16:00:00  2\n",
      "2021-01-02 16:00:00  5\n"
     ]
    }
   ],
   "source": [
    "print(df.at_time('4PM'))"
   ]
  },
  {
   "cell_type": "code",
   "execution_count": 10,
   "metadata": {},
   "outputs": [
    {
     "name": "stdout",
     "output_type": "stream",
     "text": [
      "                     A\n",
      "2021-01-01 00:00:00  0\n",
      "2021-01-01 08:00:05  1\n",
      "2021-01-01 16:00:10  2\n",
      "2021-01-02 00:00:15  3\n",
      "2021-01-02 08:00:20  4\n",
      "2021-01-02 16:00:25  5\n"
     ]
    }
   ],
   "source": [
    "df_sec = pd.DataFrame(range(6), columns=['A'],\n",
    "                      index=pd.date_range('2021-01-01', periods=6, freq='8H5s'))\n",
    "print(df_sec)"
   ]
  },
  {
   "cell_type": "code",
   "execution_count": 11,
   "metadata": {},
   "outputs": [
    {
     "name": "stdout",
     "output_type": "stream",
     "text": [
      "Empty DataFrame\n",
      "Columns: [A]\n",
      "Index: []\n"
     ]
    }
   ],
   "source": [
    "print(df_sec.at_time('8:00'))"
   ]
  },
  {
   "cell_type": "code",
   "execution_count": 12,
   "metadata": {},
   "outputs": [
    {
     "name": "stdout",
     "output_type": "stream",
     "text": [
      "Empty DataFrame\n",
      "Columns: [A]\n",
      "Index: []\n"
     ]
    }
   ],
   "source": [
    "print(df_sec.at_time('8:00:00'))"
   ]
  },
  {
   "cell_type": "code",
   "execution_count": 13,
   "metadata": {},
   "outputs": [
    {
     "name": "stdout",
     "output_type": "stream",
     "text": [
      "                     A\n",
      "2021-01-01 08:00:05  1\n"
     ]
    }
   ],
   "source": [
    "print(df_sec.at_time('8:00:05'))"
   ]
  },
  {
   "cell_type": "code",
   "execution_count": 14,
   "metadata": {},
   "outputs": [
    {
     "name": "stdout",
     "output_type": "stream",
     "text": [
      "                     A\n",
      "2021-01-01 08:00:05  1\n",
      "2021-01-02 08:00:20  4\n"
     ]
    }
   ],
   "source": [
    "print(df_sec.between_time('8:00:00', '8:00:30'))"
   ]
  },
  {
   "cell_type": "code",
   "execution_count": 15,
   "metadata": {},
   "outputs": [
    {
     "name": "stdout",
     "output_type": "stream",
     "text": [
      "                     A\n",
      "2021-01-01 08:00:05  1\n",
      "2021-01-02 08:00:20  4\n"
     ]
    }
   ],
   "source": [
    "print(df_sec.between_time(datetime.time(8, 0, 0), datetime.time(8, 0, 30)))"
   ]
  },
  {
   "cell_type": "code",
   "execution_count": 16,
   "metadata": {},
   "outputs": [
    {
     "name": "stdout",
     "output_type": "stream",
     "text": [
      "                     A\n",
      "2021-01-01 00:00:00  0\n",
      "2021-01-01 16:00:10  2\n",
      "2021-01-02 00:00:15  3\n",
      "2021-01-02 16:00:25  5\n"
     ]
    }
   ],
   "source": [
    "print(df_sec.between_time('8:00:30', '8:00:00'))"
   ]
  },
  {
   "cell_type": "code",
   "execution_count": 17,
   "metadata": {},
   "outputs": [
    {
     "name": "stdout",
     "output_type": "stream",
     "text": [
      "                     A\n",
      "2021-01-01 08:00:05  1\n",
      "2021-01-02 08:00:20  4\n"
     ]
    }
   ],
   "source": [
    "print(df_sec.between_time('8:00:05', '8:00:30'))"
   ]
  },
  {
   "cell_type": "code",
   "execution_count": 18,
   "metadata": {},
   "outputs": [
    {
     "name": "stdout",
     "output_type": "stream",
     "text": [
      "                     A\n",
      "2021-01-02 08:00:20  4\n"
     ]
    }
   ],
   "source": [
    "print(df_sec.between_time('8:00:05', '8:00:30', include_start=False))"
   ]
  }
 ],
 "metadata": {
  "kernelspec": {
   "display_name": "Python 3",
   "language": "python",
   "name": "python3"
  },
  "language_info": {
   "codemirror_mode": {
    "name": "ipython",
    "version": 3
   },
   "file_extension": ".py",
   "mimetype": "text/x-python",
   "name": "python",
   "nbconvert_exporter": "python",
   "pygments_lexer": "ipython3",
   "version": "3.9.2"
  }
 },
 "nbformat": 4,
 "nbformat_minor": 4
}
