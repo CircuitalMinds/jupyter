{
 "cells": [
  {
   "cell_type": "code",
   "execution_count": 1,
   "metadata": {},
   "outputs": [],
   "source": [
    "import cv2\n",
    "import numpy as np"
   ]
  },
  {
   "cell_type": "code",
   "execution_count": 2,
   "metadata": {},
   "outputs": [],
   "source": [
    "src = cv2.imread('data/src/lena.jpg')\n",
    "dst = cv2.imread('data/src/rocket.jpg')"
   ]
  },
  {
   "cell_type": "code",
   "execution_count": 3,
   "metadata": {},
   "outputs": [],
   "source": [
    "src_pts = [[100, 80], [150, 200], [300, 20]]\n",
    "dst_pts = [[280, 120], [320, 300], [400, 150]]"
   ]
  },
  {
   "cell_type": "code",
   "execution_count": 4,
   "metadata": {},
   "outputs": [
    {
     "data": {
      "text/plain": [
       "True"
      ]
     },
     "execution_count": 4,
     "metadata": {},
     "output_type": "execute_result"
    }
   ],
   "source": [
    "src_mark = src.copy()\n",
    "\n",
    "for pt in src_pts:\n",
    "    cv2.drawMarker(src_mark, tuple(pt), (0, 255, 0), thickness=4)\n",
    "\n",
    "cv2.imwrite('data/dst/opencv_warp_src_mark.jpg', src_mark)"
   ]
  },
  {
   "cell_type": "markdown",
   "metadata": {},
   "source": [
    "![](data/dst/opencv_warp_mark.jpg)"
   ]
  },
  {
   "cell_type": "code",
   "execution_count": 5,
   "metadata": {},
   "outputs": [
    {
     "data": {
      "text/plain": [
       "True"
      ]
     },
     "execution_count": 5,
     "metadata": {},
     "output_type": "execute_result"
    }
   ],
   "source": [
    "dst_mark = dst.copy()\n",
    "\n",
    "for pt in dst_pts:\n",
    "    cv2.drawMarker(dst_mark, tuple(pt), (0, 255, 0), thickness=4)\n",
    "\n",
    "cv2.imwrite('data/dst/opencv_warp_dst_mark.jpg', dst_mark)"
   ]
  },
  {
   "cell_type": "markdown",
   "metadata": {},
   "source": [
    "![](data/dst/opencv_warp_dst_mark.jpg)"
   ]
  },
  {
   "cell_type": "code",
   "execution_count": 6,
   "metadata": {},
   "outputs": [],
   "source": [
    "src_pts_arr = np.array(src_pts, dtype=np.float32)\n",
    "dst_pts_arr = np.array(dst_pts, dtype=np.float32)"
   ]
  },
  {
   "cell_type": "code",
   "execution_count": 7,
   "metadata": {},
   "outputs": [],
   "source": [
    "src_rect = cv2.boundingRect(src_pts_arr)\n",
    "dst_rect = cv2.boundingRect(dst_pts_arr)"
   ]
  },
  {
   "cell_type": "code",
   "execution_count": 8,
   "metadata": {},
   "outputs": [
    {
     "name": "stdout",
     "output_type": "stream",
     "text": [
      "(100, 20, 201, 181)\n"
     ]
    }
   ],
   "source": [
    "print(src_rect)"
   ]
  },
  {
   "cell_type": "code",
   "execution_count": 9,
   "metadata": {},
   "outputs": [
    {
     "name": "stdout",
     "output_type": "stream",
     "text": [
      "(280, 120, 121, 181)\n"
     ]
    }
   ],
   "source": [
    "print(dst_rect)"
   ]
  },
  {
   "cell_type": "code",
   "execution_count": 10,
   "metadata": {},
   "outputs": [],
   "source": [
    "src_crop = src[src_rect[1]:src_rect[1] + src_rect[3], src_rect[0]:src_rect[0] + src_rect[2]]\n",
    "dst_crop = dst[dst_rect[1]:dst_rect[1] + dst_rect[3], dst_rect[0]:dst_rect[0] + dst_rect[2]]"
   ]
  },
  {
   "cell_type": "code",
   "execution_count": 11,
   "metadata": {},
   "outputs": [],
   "source": [
    "src_pts_crop = src_pts_arr - src_rect[:2]\n",
    "dst_pts_crop = dst_pts_arr - dst_rect[:2]"
   ]
  },
  {
   "cell_type": "code",
   "execution_count": 12,
   "metadata": {},
   "outputs": [
    {
     "name": "stdout",
     "output_type": "stream",
     "text": [
      "[[  0.  60.]\n",
      " [ 50. 180.]\n",
      " [200.   0.]]\n"
     ]
    }
   ],
   "source": [
    "print(src_pts_crop)"
   ]
  },
  {
   "cell_type": "code",
   "execution_count": 13,
   "metadata": {},
   "outputs": [
    {
     "name": "stdout",
     "output_type": "stream",
     "text": [
      "[[  0.   0.]\n",
      " [ 40. 180.]\n",
      " [120.  30.]]\n"
     ]
    }
   ],
   "source": [
    "print(dst_pts_crop)"
   ]
  },
  {
   "cell_type": "code",
   "execution_count": 14,
   "metadata": {},
   "outputs": [
    {
     "data": {
      "text/plain": [
       "True"
      ]
     },
     "execution_count": 14,
     "metadata": {},
     "output_type": "execute_result"
    }
   ],
   "source": [
    "src_crop_mark = src_crop.copy()\n",
    "\n",
    "for pt in src_pts_crop.astype(np.int):\n",
    "    cv2.drawMarker(src_crop_mark, tuple(pt), (0, 255, 0), thickness=4)\n",
    "\n",
    "cv2.imwrite('data/dst/opencv_warp_src_crop_mark.jpg', src_crop_mark)"
   ]
  },
  {
   "cell_type": "markdown",
   "metadata": {},
   "source": [
    "![](data/dst/opencv_warp_src_crop_mark.jpg)"
   ]
  },
  {
   "cell_type": "code",
   "execution_count": 15,
   "metadata": {},
   "outputs": [
    {
     "data": {
      "text/plain": [
       "True"
      ]
     },
     "execution_count": 15,
     "metadata": {},
     "output_type": "execute_result"
    }
   ],
   "source": [
    "dst_crop_mark = dst_crop.copy()\n",
    "\n",
    "for pt in dst_pts_crop.astype(np.int):\n",
    "    cv2.drawMarker(dst_crop_mark, tuple(pt), (0, 255, 0), thickness=4)\n",
    "\n",
    "cv2.imwrite('data/dst/opencv_warp_dst_crop_mark.jpg', dst_crop_mark)"
   ]
  },
  {
   "cell_type": "markdown",
   "metadata": {},
   "source": [
    "![](data/dst/opencv_warp_dst_crop_mark.jpg)"
   ]
  },
  {
   "cell_type": "code",
   "execution_count": 16,
   "metadata": {},
   "outputs": [
    {
     "data": {
      "text/plain": [
       "True"
      ]
     },
     "execution_count": 16,
     "metadata": {},
     "output_type": "execute_result"
    }
   ],
   "source": [
    "mat = cv2.getAffineTransform(src_pts_crop.astype(np.float32), dst_pts_crop.astype(np.float32))\n",
    "affine_img = cv2.warpAffine(src_crop, mat, tuple(dst_rect[2:]))\n",
    "\n",
    "cv2.imwrite('data/dst/opencv_warp_affine_crop.jpg', affine_img)"
   ]
  },
  {
   "cell_type": "markdown",
   "metadata": {},
   "source": [
    "![](data/dst/opencv_warp_affine_crop.jpg)"
   ]
  },
  {
   "cell_type": "code",
   "execution_count": 17,
   "metadata": {},
   "outputs": [
    {
     "data": {
      "text/plain": [
       "True"
      ]
     },
     "execution_count": 17,
     "metadata": {},
     "output_type": "execute_result"
    }
   ],
   "source": [
    "mask = np.zeros_like(dst_crop, dtype=np.float32)\n",
    "cv2.fillConvexPoly(mask, dst_pts_crop.astype(np.int), (1.0, 1.0, 1.0), cv2.LINE_AA)\n",
    "\n",
    "dst_crop_merge = affine_img * mask + dst_crop * (1 - mask)\n",
    "\n",
    "cv2.imwrite('data/dst/opencv_warp_affine_crop_merge.jpg', dst_crop_merge)"
   ]
  },
  {
   "cell_type": "markdown",
   "metadata": {},
   "source": [
    "![](data/dst/opencv_warp_affine_crop_merge.jpg)"
   ]
  },
  {
   "cell_type": "code",
   "execution_count": 18,
   "metadata": {},
   "outputs": [
    {
     "data": {
      "text/plain": [
       "True"
      ]
     },
     "execution_count": 18,
     "metadata": {},
     "output_type": "execute_result"
    }
   ],
   "source": [
    "dst[dst_rect[1]:dst_rect[1] + dst_rect[3], dst_rect[0]:dst_rect[0] + dst_rect[2]] = dst_crop_merge\n",
    "\n",
    "cv2.imwrite('data/dst/opencv_warp_dst_result.jpg', dst)"
   ]
  },
  {
   "cell_type": "markdown",
   "metadata": {},
   "source": [
    "![](data/dst/opencv_warp_dst.jpg)"
   ]
  }
 ],
 "metadata": {
  "kernelspec": {
   "display_name": "Python 3",
   "language": "python",
   "name": "python3"
  },
  "language_info": {
   "codemirror_mode": {
    "name": "ipython",
    "version": 3
   },
   "file_extension": ".py",
   "mimetype": "text/x-python",
   "name": "python",
   "nbconvert_exporter": "python",
   "pygments_lexer": "ipython3",
   "version": "3.7.2"
  }
 },
 "nbformat": 4,
 "nbformat_minor": 2
}
