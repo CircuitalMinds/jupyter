{
 "cells": [
  {
   "cell_type": "code",
   "execution_count": 1,
   "metadata": {
    "collapsed": true
   },
   "outputs": [],
   "source": [
    "import numpy as np"
   ]
  },
  {
   "cell_type": "code",
   "execution_count": 2,
   "metadata": {
    "collapsed": true
   },
   "outputs": [],
   "source": [
    "arr = np.array([[8, 1], [4, 5]])"
   ]
  },
  {
   "cell_type": "code",
   "execution_count": 3,
   "metadata": {
    "collapsed": true
   },
   "outputs": [],
   "source": [
    "w, v = np.linalg.eig(arr)"
   ]
  },
  {
   "cell_type": "code",
   "execution_count": 4,
   "metadata": {},
   "outputs": [
    {
     "name": "stdout",
     "output_type": "stream",
     "text": [
      "[9. 4.]\n"
     ]
    }
   ],
   "source": [
    "print(w)"
   ]
  },
  {
   "cell_type": "code",
   "execution_count": 5,
   "metadata": {},
   "outputs": [
    {
     "name": "stdout",
     "output_type": "stream",
     "text": [
      "[[ 0.70710678 -0.24253563]\n",
      " [ 0.70710678  0.9701425 ]]\n"
     ]
    }
   ],
   "source": [
    "print(v)"
   ]
  },
  {
   "cell_type": "code",
   "execution_count": 6,
   "metadata": {},
   "outputs": [
    {
     "name": "stdout",
     "output_type": "stream",
     "text": [
      "value:  9.0\n",
      "vector:  [1. 1.]\n"
     ]
    }
   ],
   "source": [
    "print('value: ', w[0])\n",
    "print('vector: ', v[:, 0] / v[0, 0])"
   ]
  },
  {
   "cell_type": "code",
   "execution_count": 7,
   "metadata": {},
   "outputs": [
    {
     "name": "stdout",
     "output_type": "stream",
     "text": [
      "9.0\n",
      "[0.70710678 0.70710678]\n"
     ]
    }
   ],
   "source": [
    "print(w[np.argmax(w)])\n",
    "print(v[:, np.argmax(w)])"
   ]
  },
  {
   "cell_type": "code",
   "execution_count": 8,
   "metadata": {
    "collapsed": true
   },
   "outputs": [],
   "source": [
    "def get_eigenpairs(arr):\n",
    "    w, v = np.linalg.eig(arr)\n",
    "    eigenpairs = []\n",
    "    \n",
    "    for i, val in enumerate(w):\n",
    "        vec = v[:, i] / np.min(np.abs(v[:, i][v[:, i] != 0]))\n",
    "        eigenpairs.append((val, vec))\n",
    "        \n",
    "    return eigenpairs"
   ]
  },
  {
   "cell_type": "code",
   "execution_count": 9,
   "metadata": {},
   "outputs": [
    {
     "name": "stdout",
     "output_type": "stream",
     "text": [
      "value: 9.0, vector: [1. 1.]\n",
      "value: 4.0, vector: [-1.  4.]\n"
     ]
    }
   ],
   "source": [
    "eigenpairs = get_eigenpairs(arr)\n",
    "\n",
    "for val, vec in eigenpairs:\n",
    "    print('value: {}, vector: {}'.format(val, vec))"
   ]
  },
  {
   "cell_type": "code",
   "execution_count": 10,
   "metadata": {},
   "outputs": [
    {
     "name": "stdout",
     "output_type": "stream",
     "text": [
      "value: 1.0, vector: [1. 0. 0.]\n",
      "value: 2.0, vector: [1. 1. 0.]\n",
      "value: 3.0, vector: [ 1. -2.  2.]\n"
     ]
    }
   ],
   "source": [
    "arr = np.array([[1, 1, 2], [0, 2, -1], [0, 0, 3]])\n",
    "\n",
    "eigenpairs = get_eigenpairs(arr)\n",
    "\n",
    "for val, vec in eigenpairs:\n",
    "    print('value: {}, vector: {}'.format(val, vec))"
   ]
  },
  {
   "cell_type": "code",
   "execution_count": 11,
   "metadata": {},
   "outputs": [
    {
     "name": "stdout",
     "output_type": "stream",
     "text": [
      "value: (3+2.0000000000000004j), vector: [0.-1.j 1.+0.j]\n",
      "value: (3-2.0000000000000004j), vector: [0.+1.j 1.-0.j]\n"
     ]
    }
   ],
   "source": [
    "arr = np.array([[3, 2], [-2, 3]])\n",
    "\n",
    "eigenpairs = get_eigenpairs(arr)\n",
    "\n",
    "for val, vec in eigenpairs:\n",
    "    print('value: {}, vector: {}'.format(val, vec))"
   ]
  }
 ],
 "metadata": {
  "kernelspec": {
   "display_name": "Python 3",
   "language": "python",
   "name": "python3"
  },
  "language_info": {
   "codemirror_mode": {
    "name": "ipython",
    "version": 3
   },
   "file_extension": ".py",
   "mimetype": "text/x-python",
   "name": "python",
   "nbconvert_exporter": "python",
   "pygments_lexer": "ipython3",
   "version": "3.6.4"
  }
 },
 "nbformat": 4,
 "nbformat_minor": 2
}
