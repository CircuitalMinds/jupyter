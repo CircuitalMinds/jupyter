{
 "cells": [
  {
   "cell_type": "code",
   "execution_count": 1,
   "metadata": {
    "collapsed": true
   },
   "outputs": [],
   "source": [
    "import numpy as np"
   ]
  },
  {
   "cell_type": "code",
   "execution_count": 2,
   "metadata": {},
   "outputs": [
    {
     "name": "stdout",
     "output_type": "stream",
     "text": [
      "[3 4 2 0 1]\n"
     ]
    }
   ],
   "source": [
    "a = np.array([3, 4, 2, 0, 1])\n",
    "print(a)"
   ]
  },
  {
   "cell_type": "code",
   "execution_count": 3,
   "metadata": {},
   "outputs": [
    {
     "name": "stdout",
     "output_type": "stream",
     "text": [
      "[0 1 2 3 4]\n"
     ]
    }
   ],
   "source": [
    "a_sort = np.sort(a)\n",
    "print(a_sort)"
   ]
  },
  {
   "cell_type": "code",
   "execution_count": 4,
   "metadata": {},
   "outputs": [
    {
     "name": "stdout",
     "output_type": "stream",
     "text": [
      "[3 4 2 0 1]\n"
     ]
    }
   ],
   "source": [
    "print(a)"
   ]
  },
  {
   "cell_type": "code",
   "execution_count": 5,
   "metadata": {},
   "outputs": [
    {
     "name": "stdout",
     "output_type": "stream",
     "text": [
      "[4 3 2 1 0]\n"
     ]
    }
   ],
   "source": [
    "a_sort_reverse = np.sort(a)[::-1]\n",
    "print(a_sort_reverse)"
   ]
  },
  {
   "cell_type": "code",
   "execution_count": 6,
   "metadata": {},
   "outputs": [
    {
     "name": "stdout",
     "output_type": "stream",
     "text": [
      "[[ 20   3 100]\n",
      " [  1 200  30]\n",
      " [300  10   2]]\n"
     ]
    }
   ],
   "source": [
    "a_2d = np.array([[20, 3, 100], [1, 200, 30], [300, 10, 2]])\n",
    "print(a_2d)"
   ]
  },
  {
   "cell_type": "code",
   "execution_count": 7,
   "metadata": {},
   "outputs": [
    {
     "name": "stdout",
     "output_type": "stream",
     "text": [
      "[[  1   3   2]\n",
      " [ 20  10  30]\n",
      " [300 200 100]]\n"
     ]
    }
   ],
   "source": [
    "a_2d_sort_col = np.sort(a_2d, axis=0)\n",
    "print(a_2d_sort_col)"
   ]
  },
  {
   "cell_type": "code",
   "execution_count": 8,
   "metadata": {},
   "outputs": [
    {
     "name": "stdout",
     "output_type": "stream",
     "text": [
      "[[  3  20 100]\n",
      " [  1  30 200]\n",
      " [  2  10 300]]\n"
     ]
    }
   ],
   "source": [
    "a_2d_sort_row = np.sort(a_2d, axis=1)\n",
    "print(a_2d_sort_row)"
   ]
  },
  {
   "cell_type": "code",
   "execution_count": 9,
   "metadata": {},
   "outputs": [
    {
     "name": "stdout",
     "output_type": "stream",
     "text": [
      "[[  3  20 100]\n",
      " [  1  30 200]\n",
      " [  2  10 300]]\n"
     ]
    }
   ],
   "source": [
    "a_2d_sort_row = np.sort(a_2d)\n",
    "print(a_2d_sort_row)"
   ]
  },
  {
   "cell_type": "code",
   "execution_count": 10,
   "metadata": {},
   "outputs": [
    {
     "name": "stdout",
     "output_type": "stream",
     "text": [
      "[[  3  20 100]\n",
      " [  1  30 200]\n",
      " [  2  10 300]]\n"
     ]
    }
   ],
   "source": [
    "a_2d_sort_row = np.sort(a_2d, axis=-1)\n",
    "print(a_2d_sort_row)"
   ]
  },
  {
   "cell_type": "code",
   "execution_count": 11,
   "metadata": {},
   "outputs": [
    {
     "name": "stdout",
     "output_type": "stream",
     "text": [
      "[[300 200 100]\n",
      " [ 20  10  30]\n",
      " [  1   3   2]]\n"
     ]
    }
   ],
   "source": [
    "a_2d_sort_col_reverse = np.sort(a_2d, axis=0)[::-1]\n",
    "print(a_2d_sort_col_reverse)"
   ]
  },
  {
   "cell_type": "code",
   "execution_count": 12,
   "metadata": {},
   "outputs": [
    {
     "name": "stdout",
     "output_type": "stream",
     "text": [
      "[[100  20   3]\n",
      " [200  30   1]\n",
      " [300  10   2]]\n"
     ]
    }
   ],
   "source": [
    "a_2d_sort_row_reverse = np.sort(a_2d, axis=1)[:, ::-1]\n",
    "print(a_2d_sort_row_reverse)"
   ]
  },
  {
   "cell_type": "code",
   "execution_count": 13,
   "metadata": {},
   "outputs": [
    {
     "name": "stdout",
     "output_type": "stream",
     "text": [
      "[[ 20   3 100]\n",
      " [  1 200  30]\n",
      " [300  10   2]]\n"
     ]
    }
   ],
   "source": [
    "print(a_2d)"
   ]
  },
  {
   "cell_type": "code",
   "execution_count": 14,
   "metadata": {},
   "outputs": [
    {
     "name": "stdout",
     "output_type": "stream",
     "text": [
      "[[  3  20 100]\n",
      " [  1  30 200]\n",
      " [  2  10 300]]\n"
     ]
    }
   ],
   "source": [
    "a_2d.sort()\n",
    "\n",
    "print(a_2d)"
   ]
  },
  {
   "cell_type": "code",
   "execution_count": 15,
   "metadata": {},
   "outputs": [
    {
     "name": "stdout",
     "output_type": "stream",
     "text": [
      "[[  3  30 300]\n",
      " [  2  20 200]\n",
      " [  1  10 100]]\n"
     ]
    }
   ],
   "source": [
    "a_2d.sort(axis=0)\n",
    "\n",
    "print(a_2d[::-1])"
   ]
  },
  {
   "cell_type": "code",
   "execution_count": 16,
   "metadata": {},
   "outputs": [
    {
     "name": "stdout",
     "output_type": "stream",
     "text": [
      "[[ 20   3 100]\n",
      " [  1 200  30]\n",
      " [300  10   2]]\n"
     ]
    }
   ],
   "source": [
    "a_2d = np.array([[20, 3, 100], [1, 200, 30], [300, 10, 2]])\n",
    "print(a_2d)"
   ]
  },
  {
   "cell_type": "code",
   "execution_count": 17,
   "metadata": {},
   "outputs": [
    {
     "name": "stdout",
     "output_type": "stream",
     "text": [
      "[[1 0 2]\n",
      " [0 2 1]\n",
      " [2 1 0]]\n"
     ]
    }
   ],
   "source": [
    "a_2d_sort_col_index = np.argsort(a_2d, axis=0)\n",
    "print(a_2d_sort_col_index)"
   ]
  },
  {
   "cell_type": "code",
   "execution_count": 18,
   "metadata": {},
   "outputs": [
    {
     "name": "stdout",
     "output_type": "stream",
     "text": [
      "[[1 0 2]\n",
      " [0 2 1]\n",
      " [2 1 0]]\n"
     ]
    }
   ],
   "source": [
    "a_2d_sort_row_index = np.argsort(a_2d)\n",
    "print(a_2d_sort_row_index)"
   ]
  },
  {
   "cell_type": "code",
   "execution_count": 19,
   "metadata": {},
   "outputs": [
    {
     "name": "stdout",
     "output_type": "stream",
     "text": [
      "[[ 20   3 100]\n",
      " [  1 200  30]\n",
      " [300  10   2]]\n"
     ]
    }
   ],
   "source": [
    "print(a_2d)"
   ]
  },
  {
   "cell_type": "code",
   "execution_count": 20,
   "metadata": {
    "collapsed": true
   },
   "outputs": [],
   "source": [
    "col_num = 1"
   ]
  },
  {
   "cell_type": "code",
   "execution_count": 21,
   "metadata": {},
   "outputs": [
    {
     "name": "stdout",
     "output_type": "stream",
     "text": [
      "[  3 200  10]\n"
     ]
    }
   ],
   "source": [
    "print(a_2d[:, col_num])"
   ]
  },
  {
   "cell_type": "code",
   "execution_count": 22,
   "metadata": {},
   "outputs": [
    {
     "name": "stdout",
     "output_type": "stream",
     "text": [
      "[0 2 1]\n"
     ]
    }
   ],
   "source": [
    "print(np.argsort(a_2d[:, col_num]))"
   ]
  },
  {
   "cell_type": "code",
   "execution_count": 23,
   "metadata": {
    "scrolled": true
   },
   "outputs": [
    {
     "name": "stdout",
     "output_type": "stream",
     "text": [
      "[[ 20   3 100]\n",
      " [300  10   2]\n",
      " [  1 200  30]]\n"
     ]
    }
   ],
   "source": [
    "a_2d_sort_col_num = a_2d[np.argsort(a_2d[:, col_num])]\n",
    "print(a_2d_sort_col_num)"
   ]
  },
  {
   "cell_type": "code",
   "execution_count": 24,
   "metadata": {},
   "outputs": [
    {
     "name": "stdout",
     "output_type": "stream",
     "text": [
      "[1 2 0]\n"
     ]
    }
   ],
   "source": [
    "print(np.argsort(a_2d[:, col_num])[::-1])"
   ]
  },
  {
   "cell_type": "code",
   "execution_count": 25,
   "metadata": {},
   "outputs": [
    {
     "name": "stdout",
     "output_type": "stream",
     "text": [
      "[[  1 200  30]\n",
      " [300  10   2]\n",
      " [ 20   3 100]]\n"
     ]
    }
   ],
   "source": [
    "a_2d_sort_col_num_reverse = a_2d[np.argsort(a_2d[:, col_num])[::-1]]\n",
    "print(a_2d_sort_col_num_reverse)"
   ]
  },
  {
   "cell_type": "code",
   "execution_count": 26,
   "metadata": {},
   "outputs": [
    {
     "name": "stdout",
     "output_type": "stream",
     "text": [
      "[[ 20   3 100]\n",
      " [  1 200  30]\n",
      " [300  10   2]]\n"
     ]
    }
   ],
   "source": [
    "print(a_2d)"
   ]
  },
  {
   "cell_type": "code",
   "execution_count": 27,
   "metadata": {
    "collapsed": true
   },
   "outputs": [],
   "source": [
    "row_num = 1"
   ]
  },
  {
   "cell_type": "code",
   "execution_count": 28,
   "metadata": {},
   "outputs": [
    {
     "name": "stdout",
     "output_type": "stream",
     "text": [
      "[  1 200  30]\n"
     ]
    }
   ],
   "source": [
    "print(a_2d[row_num])"
   ]
  },
  {
   "cell_type": "code",
   "execution_count": 29,
   "metadata": {},
   "outputs": [
    {
     "name": "stdout",
     "output_type": "stream",
     "text": [
      "[0 2 1]\n"
     ]
    }
   ],
   "source": [
    "print(np.argsort(a_2d[row_num]))"
   ]
  },
  {
   "cell_type": "code",
   "execution_count": 30,
   "metadata": {},
   "outputs": [
    {
     "name": "stdout",
     "output_type": "stream",
     "text": [
      "[[ 20 100   3]\n",
      " [  1  30 200]\n",
      " [300   2  10]]\n"
     ]
    }
   ],
   "source": [
    "a_2d_sort_row_num = a_2d[:, np.argsort(a_2d[row_num])]\n",
    "print(a_2d_sort_row_num)"
   ]
  },
  {
   "cell_type": "code",
   "execution_count": 31,
   "metadata": {},
   "outputs": [
    {
     "name": "stdout",
     "output_type": "stream",
     "text": [
      "[1 2 0]\n"
     ]
    }
   ],
   "source": [
    "print(np.argsort(a_2d[row_num])[::-1])"
   ]
  },
  {
   "cell_type": "code",
   "execution_count": 32,
   "metadata": {},
   "outputs": [
    {
     "name": "stdout",
     "output_type": "stream",
     "text": [
      "[[  3 100  20]\n",
      " [200  30   1]\n",
      " [ 10   2 300]]\n"
     ]
    }
   ],
   "source": [
    "a_2d_sort_row_num_inverse = a_2d[:, np.argsort(a_2d[row_num])[::-1]]\n",
    "print(a_2d_sort_row_num_inverse)"
   ]
  }
 ],
 "metadata": {
  "kernelspec": {
   "display_name": "Python 3",
   "language": "python",
   "name": "python3"
  },
  "language_info": {
   "codemirror_mode": {
    "name": "ipython",
    "version": 3
   },
   "file_extension": ".py",
   "mimetype": "text/x-python",
   "name": "python",
   "nbconvert_exporter": "python",
   "pygments_lexer": "ipython3",
   "version": "3.6.5"
  }
 },
 "nbformat": 4,
 "nbformat_minor": 2
}
