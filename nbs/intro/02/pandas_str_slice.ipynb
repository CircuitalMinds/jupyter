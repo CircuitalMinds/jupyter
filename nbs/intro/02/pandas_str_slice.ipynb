{
 "cells": [
  {
   "cell_type": "code",
   "execution_count": 1,
   "metadata": {
    "collapsed": true
   },
   "outputs": [],
   "source": [
    "import pandas as pd"
   ]
  },
  {
   "cell_type": "code",
   "execution_count": 2,
   "metadata": {
    "collapsed": true
   },
   "outputs": [],
   "source": [
    "df = pd.DataFrame({'a': ['abcde', 'fghij', 'klmno'],\n",
    "                   'b': [123, 456, 789]})"
   ]
  },
  {
   "cell_type": "code",
   "execution_count": 3,
   "metadata": {},
   "outputs": [
    {
     "name": "stdout",
     "output_type": "stream",
     "text": [
      "       a    b\n",
      "0  abcde  123\n",
      "1  fghij  456\n",
      "2  klmno  789\n"
     ]
    }
   ],
   "source": [
    "print(df)"
   ]
  },
  {
   "cell_type": "code",
   "execution_count": 4,
   "metadata": {},
   "outputs": [
    {
     "name": "stdout",
     "output_type": "stream",
     "text": [
      "a    object\n",
      "b     int64\n",
      "dtype: object\n"
     ]
    }
   ],
   "source": [
    "print(df.dtypes)"
   ]
  },
  {
   "cell_type": "code",
   "execution_count": 5,
   "metadata": {},
   "outputs": [
    {
     "name": "stdout",
     "output_type": "stream",
     "text": [
      "0    ab\n",
      "1    fg\n",
      "2    kl\n",
      "Name: a, dtype: object\n"
     ]
    }
   ],
   "source": [
    "print(df['a'].str[:2])"
   ]
  },
  {
   "cell_type": "code",
   "execution_count": 6,
   "metadata": {},
   "outputs": [
    {
     "name": "stdout",
     "output_type": "stream",
     "text": [
      "0    de\n",
      "1    ij\n",
      "2    no\n",
      "Name: a, dtype: object\n"
     ]
    }
   ],
   "source": [
    "print(df['a'].str[-2:])"
   ]
  },
  {
   "cell_type": "code",
   "execution_count": 7,
   "metadata": {},
   "outputs": [
    {
     "name": "stdout",
     "output_type": "stream",
     "text": [
      "0    ace\n",
      "1    fhj\n",
      "2    kmo\n",
      "Name: a, dtype: object\n"
     ]
    }
   ],
   "source": [
    "print(df['a'].str[::2])"
   ]
  },
  {
   "cell_type": "code",
   "execution_count": 8,
   "metadata": {},
   "outputs": [
    {
     "name": "stdout",
     "output_type": "stream",
     "text": [
      "0    c\n",
      "1    h\n",
      "2    m\n",
      "Name: a, dtype: object\n"
     ]
    }
   ],
   "source": [
    "print(df['a'].str[2])"
   ]
  },
  {
   "cell_type": "code",
   "execution_count": 9,
   "metadata": {},
   "outputs": [
    {
     "name": "stdout",
     "output_type": "stream",
     "text": [
      "0    a\n",
      "1    f\n",
      "2    k\n",
      "Name: a, dtype: object\n"
     ]
    }
   ],
   "source": [
    "print(df['a'].str[0])"
   ]
  },
  {
   "cell_type": "code",
   "execution_count": 10,
   "metadata": {},
   "outputs": [
    {
     "name": "stdout",
     "output_type": "stream",
     "text": [
      "0    e\n",
      "1    j\n",
      "2    o\n",
      "Name: a, dtype: object\n"
     ]
    }
   ],
   "source": [
    "print(df['a'].str[-1])"
   ]
  },
  {
   "cell_type": "code",
   "execution_count": 11,
   "metadata": {},
   "outputs": [
    {
     "name": "stdout",
     "output_type": "stream",
     "text": [
      "       a    b a_head\n",
      "0  abcde  123     ab\n",
      "1  fghij  456     fg\n",
      "2  klmno  789     kl\n"
     ]
    }
   ],
   "source": [
    "df['a_head'] = df['a'].str[:2]\n",
    "print(df)"
   ]
  },
  {
   "cell_type": "code",
   "execution_count": 12,
   "metadata": {
    "collapsed": true
   },
   "outputs": [],
   "source": [
    "# print(df['b'].str[:2])\n",
    "# AttributeError: Can only use .str accessor with string values, which use np.object_ dtype in pandas"
   ]
  },
  {
   "cell_type": "code",
   "execution_count": 13,
   "metadata": {},
   "outputs": [
    {
     "name": "stdout",
     "output_type": "stream",
     "text": [
      "0    12\n",
      "1    45\n",
      "2    78\n",
      "Name: b, dtype: object\n"
     ]
    }
   ],
   "source": [
    "print(df['b'].astype(str).str[:2])"
   ]
  },
  {
   "cell_type": "code",
   "execution_count": 14,
   "metadata": {},
   "outputs": [
    {
     "name": "stdout",
     "output_type": "stream",
     "text": [
      "0    12\n",
      "1    45\n",
      "2    78\n",
      "Name: b, dtype: int64\n"
     ]
    }
   ],
   "source": [
    "print(df['b'].astype(str).str[:2].astype(int))"
   ]
  },
  {
   "cell_type": "code",
   "execution_count": 15,
   "metadata": {},
   "outputs": [
    {
     "name": "stdout",
     "output_type": "stream",
     "text": [
      "0    12\n",
      "1    45\n",
      "2    78\n",
      "Name: b, dtype: int64\n"
     ]
    }
   ],
   "source": [
    "print((df['b'] / 10).astype(int))"
   ]
  }
 ],
 "metadata": {
  "kernelspec": {
   "display_name": "Python 3",
   "language": "python",
   "name": "python3"
  },
  "language_info": {
   "codemirror_mode": {
    "name": "ipython",
    "version": 3
   },
   "file_extension": ".py",
   "mimetype": "text/x-python",
   "name": "python",
   "nbconvert_exporter": "python",
   "pygments_lexer": "ipython3",
   "version": "3.6.5"
  }
 },
 "nbformat": 4,
 "nbformat_minor": 2
}
