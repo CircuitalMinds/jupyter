{
 "cells": [
  {
   "cell_type": "code",
   "execution_count": 2,
   "metadata": {},
   "outputs": [],
   "source": [
    "import MeCab"
   ]
  },
  {
   "cell_type": "code",
   "execution_count": 3,
   "metadata": {},
   "outputs": [
    {
     "name": "stdout",
     "output_type": "stream",
     "text": [
      "庭\tニワ\t庭\t名詞-一般\t\t\n",
      "に\tニ\tに\t助詞-格助詞-一般\t\t\n",
      "は\tハ\tは\t助詞-係助詞\t\t\n",
      "二\tニ\t二\t名詞-数\t\t\n",
      "羽\tワ\t羽\t名詞-接尾-助数詞\t\t\n",
      "鶏\tニワトリ\t鶏\t名詞-一般\t\t\n",
      "が\tガ\tが\t助詞-格助詞-一般\t\t\n",
      "いる\tイル\tいる\t動詞-自立\t一段\t基本形\n",
      "。\t。\t。\t記号-句点\t\t\n",
      "EOS\n",
      "\n"
     ]
    }
   ],
   "source": [
    "mecab = MeCab.Tagger(\"-Ochasen\") # MeCabオブジェクトを生成\n",
    "malist = mecab.parse(\"庭には二羽鶏がいる。\") # 形態素解析を行う\n",
    "print(malist)"
   ]
  },
  {
   "cell_type": "code",
   "execution_count": 4,
   "metadata": {},
   "outputs": [
    {
     "name": "stdout",
     "output_type": "stream",
     "text": [
      " BOS/EOS,*,*,*,*,*,*,*,*\n",
      "すもも 名詞,一般,*,*,*,*,すもも,スモモ,スモモ\n",
      "も 助詞,係助詞,*,*,*,*,も,モ,モ\n",
      "もも 名詞,一般,*,*,*,*,もも,モモ,モモ\n",
      "も 助詞,係助詞,*,*,*,*,も,モ,モ\n",
      "もも 名詞,一般,*,*,*,*,もも,モモ,モモ\n",
      "の 助詞,連体化,*,*,*,*,の,ノ,ノ\n",
      "うち 名詞,非自立,副詞可能,*,*,*,うち,ウチ,ウチ\n",
      " BOS/EOS,*,*,*,*,*,*,*,*\n"
     ]
    }
   ],
   "source": [
    "tagger = MeCab.Tagger()\n",
    "tagger.parse('') # parseToNode()の不具合を回避するために必要\n",
    "\n",
    "node = tagger.parseToNode('すもももももももものうち')\n",
    "\n",
    "while node:\n",
    "    print(node.surface, node.feature)\n",
    "    node = node.next"
   ]
  }
 ],
 "metadata": {
  "kernelspec": {
   "display_name": "Python 3",
   "language": "python",
   "name": "python3"
  },
  "language_info": {
   "codemirror_mode": {
    "name": "ipython",
    "version": 3
   },
   "file_extension": ".py",
   "mimetype": "text/x-python",
   "name": "python",
   "nbconvert_exporter": "python",
   "pygments_lexer": "ipython3",
   "version": "3.6.2"
  }
 },
 "nbformat": 4,
 "nbformat_minor": 2
}
