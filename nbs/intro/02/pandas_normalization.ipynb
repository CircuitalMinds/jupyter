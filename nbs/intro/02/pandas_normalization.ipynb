{
 "cells": [
  {
   "cell_type": "code",
   "execution_count": 1,
   "metadata": {},
   "outputs": [],
   "source": [
    "import pandas as pd\n",
    "import scipy.stats\n",
    "from sklearn import preprocessing"
   ]
  },
  {
   "cell_type": "code",
   "execution_count": 2,
   "metadata": {},
   "outputs": [],
   "source": [
    "df = pd.DataFrame([[0, 1, 2], [3, 4, 5], [6, 7, 8]],\n",
    "                  columns=['col1', 'col2', 'col3'],\n",
    "                  index=['a', 'b', 'c'])"
   ]
  },
  {
   "cell_type": "code",
   "execution_count": 3,
   "metadata": {},
   "outputs": [
    {
     "name": "stdout",
     "output_type": "stream",
     "text": [
      "   col1  col2  col3\n",
      "a     0     1     2\n",
      "b     3     4     5\n",
      "c     6     7     8\n"
     ]
    }
   ],
   "source": [
    "print(df)"
   ]
  },
  {
   "cell_type": "code",
   "execution_count": 4,
   "metadata": {},
   "outputs": [
    {
     "name": "stdout",
     "output_type": "stream",
     "text": [
      "   col1  col2  col3\n",
      "a   0.0   0.0   0.0\n",
      "b   0.5   0.5   0.5\n",
      "c   1.0   1.0   1.0\n"
     ]
    }
   ],
   "source": [
    "print((df - df.min()) / (df.max() - df.min()))"
   ]
  },
  {
   "cell_type": "code",
   "execution_count": 5,
   "metadata": {},
   "outputs": [
    {
     "name": "stdout",
     "output_type": "stream",
     "text": [
      "   col1  col2  col3\n",
      "a   0.0   0.5   1.0\n",
      "b   0.0   0.5   1.0\n",
      "c   0.0   0.5   1.0\n"
     ]
    }
   ],
   "source": [
    "print(((df.T - df.T.min()) / (df.T.max() - df.T.min())).T)"
   ]
  },
  {
   "cell_type": "code",
   "execution_count": 6,
   "metadata": {},
   "outputs": [
    {
     "name": "stdout",
     "output_type": "stream",
     "text": [
      "    col1   col2   col3\n",
      "a  0.000  0.125  0.250\n",
      "b  0.375  0.500  0.625\n",
      "c  0.750  0.875  1.000\n"
     ]
    }
   ],
   "source": [
    "print((df - df.values.min()) / (df.values.max() - df.values.min()))"
   ]
  },
  {
   "cell_type": "code",
   "execution_count": 7,
   "metadata": {},
   "outputs": [
    {
     "name": "stdout",
     "output_type": "stream",
     "text": [
      "   col1  col2  col3\n",
      "a  -1.0  -1.0  -1.0\n",
      "b   0.0   0.0   0.0\n",
      "c   1.0   1.0   1.0\n"
     ]
    }
   ],
   "source": [
    "print((df - df.mean()) / df.std())"
   ]
  },
  {
   "cell_type": "code",
   "execution_count": 8,
   "metadata": {},
   "outputs": [
    {
     "name": "stdout",
     "output_type": "stream",
     "text": [
      "       col1      col2      col3\n",
      "a -1.224745 -1.224745 -1.224745\n",
      "b  0.000000  0.000000  0.000000\n",
      "c  1.224745  1.224745  1.224745\n"
     ]
    }
   ],
   "source": [
    "print((df - df.mean()) / df.std(ddof=0))"
   ]
  },
  {
   "cell_type": "code",
   "execution_count": 9,
   "metadata": {},
   "outputs": [
    {
     "name": "stdout",
     "output_type": "stream",
     "text": [
      "   col1  col2  col3\n",
      "a  -1.0   0.0   1.0\n",
      "b  -1.0   0.0   1.0\n",
      "c  -1.0   0.0   1.0\n"
     ]
    }
   ],
   "source": [
    "print(((df.T - df.T.mean()) / df.T.std()).T)"
   ]
  },
  {
   "cell_type": "code",
   "execution_count": 10,
   "metadata": {},
   "outputs": [
    {
     "name": "stdout",
     "output_type": "stream",
     "text": [
      "       col1  col2      col3\n",
      "a -1.224745   0.0  1.224745\n",
      "b -1.224745   0.0  1.224745\n",
      "c -1.224745   0.0  1.224745\n"
     ]
    }
   ],
   "source": [
    "print(((df.T - df.T.mean()) / df.T.std(ddof=0)).T)"
   ]
  },
  {
   "cell_type": "code",
   "execution_count": 11,
   "metadata": {},
   "outputs": [
    {
     "name": "stdout",
     "output_type": "stream",
     "text": [
      "       col1      col2      col3\n",
      "a -1.549193 -1.161895 -0.774597\n",
      "b -0.387298  0.000000  0.387298\n",
      "c  0.774597  1.161895  1.549193\n"
     ]
    }
   ],
   "source": [
    "print((df - df.values.mean()) / df.values.std())"
   ]
  },
  {
   "cell_type": "code",
   "execution_count": 12,
   "metadata": {},
   "outputs": [
    {
     "name": "stdout",
     "output_type": "stream",
     "text": [
      "       col1      col2      col3\n",
      "a -1.460593 -1.095445 -0.730297\n",
      "b -0.365148  0.000000  0.365148\n",
      "c  0.730297  1.095445  1.460593\n"
     ]
    }
   ],
   "source": [
    "print((df - df.values.mean()) / df.values.std(ddof=1))"
   ]
  },
  {
   "cell_type": "code",
   "execution_count": 13,
   "metadata": {},
   "outputs": [],
   "source": [
    "df_ = df.copy()\n",
    "s = df_['col1']\n",
    "df_['col1_min_max'] = (s - s.min()) / (s.max() - s.min())\n",
    "df_['col1_standardization'] = (s - s.mean()) / s.std()"
   ]
  },
  {
   "cell_type": "code",
   "execution_count": 14,
   "metadata": {},
   "outputs": [
    {
     "name": "stdout",
     "output_type": "stream",
     "text": [
      "   col1  col2  col3  col1_min_max  col1_standardization\n",
      "a     0     1     2           0.0                  -1.0\n",
      "b     3     4     5           0.5                   0.0\n",
      "c     6     7     8           1.0                   1.0\n"
     ]
    }
   ],
   "source": [
    "print(df_)"
   ]
  },
  {
   "cell_type": "code",
   "execution_count": 15,
   "metadata": {},
   "outputs": [
    {
     "name": "stdout",
     "output_type": "stream",
     "text": [
      "[[-1.22474487 -1.22474487 -1.22474487]\n",
      " [ 0.          0.          0.        ]\n",
      " [ 1.22474487  1.22474487  1.22474487]]\n"
     ]
    }
   ],
   "source": [
    "print(scipy.stats.zscore(df))"
   ]
  },
  {
   "cell_type": "code",
   "execution_count": 16,
   "metadata": {},
   "outputs": [
    {
     "name": "stdout",
     "output_type": "stream",
     "text": [
      "<class 'numpy.ndarray'>\n"
     ]
    }
   ],
   "source": [
    "print(type(scipy.stats.zscore(df)))"
   ]
  },
  {
   "cell_type": "code",
   "execution_count": 17,
   "metadata": {},
   "outputs": [
    {
     "name": "stdout",
     "output_type": "stream",
     "text": [
      "[[-1.46059349 -1.09544512 -0.73029674]\n",
      " [-0.36514837  0.          0.36514837]\n",
      " [ 0.73029674  1.09544512  1.46059349]]\n"
     ]
    }
   ],
   "source": [
    "print(scipy.stats.zscore(df, axis=None, ddof=1))"
   ]
  },
  {
   "cell_type": "code",
   "execution_count": 18,
   "metadata": {},
   "outputs": [],
   "source": [
    "df_standardization = pd.DataFrame(scipy.stats.zscore(df),\n",
    "                                  index=df.index, columns=df.columns)"
   ]
  },
  {
   "cell_type": "code",
   "execution_count": 19,
   "metadata": {},
   "outputs": [
    {
     "name": "stdout",
     "output_type": "stream",
     "text": [
      "       col1      col2      col3\n",
      "a -1.224745 -1.224745 -1.224745\n",
      "b  0.000000  0.000000  0.000000\n",
      "c  1.224745  1.224745  1.224745\n"
     ]
    }
   ],
   "source": [
    "print(df_standardization)"
   ]
  },
  {
   "cell_type": "code",
   "execution_count": 20,
   "metadata": {},
   "outputs": [
    {
     "name": "stdout",
     "output_type": "stream",
     "text": [
      "   col1  col2  col3  col1_standardization\n",
      "a     0     1     2             -1.224745\n",
      "b     3     4     5              0.000000\n",
      "c     6     7     8              1.224745\n"
     ]
    }
   ],
   "source": [
    "df_ = df.copy()\n",
    "df_['col1_standardization'] = scipy.stats.zscore(df_['col1'])\n",
    "print(df_)"
   ]
  },
  {
   "cell_type": "code",
   "execution_count": 21,
   "metadata": {},
   "outputs": [],
   "source": [
    "mm = preprocessing.MinMaxScaler()"
   ]
  },
  {
   "cell_type": "code",
   "execution_count": 22,
   "metadata": {},
   "outputs": [
    {
     "name": "stdout",
     "output_type": "stream",
     "text": [
      "[[0.  0.  0. ]\n",
      " [0.5 0.5 0.5]\n",
      " [1.  1.  1. ]]\n"
     ]
    }
   ],
   "source": [
    "print(mm.fit_transform(df))"
   ]
  },
  {
   "cell_type": "code",
   "execution_count": 23,
   "metadata": {},
   "outputs": [
    {
     "name": "stdout",
     "output_type": "stream",
     "text": [
      "<class 'numpy.ndarray'>\n"
     ]
    }
   ],
   "source": [
    "print(type(mm.fit_transform(df)))"
   ]
  },
  {
   "cell_type": "code",
   "execution_count": 24,
   "metadata": {},
   "outputs": [
    {
     "name": "stdout",
     "output_type": "stream",
     "text": [
      "[[0.  0.  0. ]\n",
      " [0.5 0.5 0.5]\n",
      " [1.  1.  1. ]]\n"
     ]
    }
   ],
   "source": [
    "print(preprocessing.minmax_scale(df))"
   ]
  },
  {
   "cell_type": "code",
   "execution_count": 25,
   "metadata": {},
   "outputs": [
    {
     "name": "stdout",
     "output_type": "stream",
     "text": [
      "<class 'numpy.ndarray'>\n"
     ]
    }
   ],
   "source": [
    "print(type(preprocessing.minmax_scale(df)))"
   ]
  },
  {
   "cell_type": "code",
   "execution_count": 26,
   "metadata": {},
   "outputs": [],
   "source": [
    "df_min_max = pd.DataFrame(mm.fit_transform(df),\n",
    "                          index=df.index, columns=df.columns)"
   ]
  },
  {
   "cell_type": "code",
   "execution_count": 27,
   "metadata": {},
   "outputs": [
    {
     "name": "stdout",
     "output_type": "stream",
     "text": [
      "   col1  col2  col3\n",
      "a   0.0   0.0   0.0\n",
      "b   0.5   0.5   0.5\n",
      "c   1.0   1.0   1.0\n"
     ]
    }
   ],
   "source": [
    "print(df_min_max)"
   ]
  },
  {
   "cell_type": "code",
   "execution_count": 28,
   "metadata": {},
   "outputs": [],
   "source": [
    "df_ = df.copy()\n",
    "s = df_['col1'].astype(float)\n",
    "df_['col1_min_max'] = preprocessing.minmax_scale(s)\n",
    "df_['col1_standardization'] = preprocessing.scale(s)"
   ]
  },
  {
   "cell_type": "code",
   "execution_count": 29,
   "metadata": {},
   "outputs": [
    {
     "name": "stdout",
     "output_type": "stream",
     "text": [
      "   col1  col2  col3  col1_min_max  col1_standardization\n",
      "a     0     1     2           0.0             -1.224745\n",
      "b     3     4     5           0.5              0.000000\n",
      "c     6     7     8           1.0              1.224745\n"
     ]
    }
   ],
   "source": [
    "print(df_)"
   ]
  }
 ],
 "metadata": {
  "kernelspec": {
   "display_name": "Python 3",
   "language": "python",
   "name": "python3"
  },
  "language_info": {
   "codemirror_mode": {
    "name": "ipython",
    "version": 3
   },
   "file_extension": ".py",
   "mimetype": "text/x-python",
   "name": "python",
   "nbconvert_exporter": "python",
   "pygments_lexer": "ipython3",
   "version": "3.7.0"
  }
 },
 "nbformat": 4,
 "nbformat_minor": 2
}
