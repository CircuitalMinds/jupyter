{
 "cells": [
  {
   "cell_type": "code",
   "execution_count": 1,
   "metadata": {
    "collapsed": true
   },
   "outputs": [],
   "source": [
    "# %matplotlib inline"
   ]
  },
  {
   "cell_type": "code",
   "execution_count": 2,
   "metadata": {
    "collapsed": true
   },
   "outputs": [],
   "source": [
    "import pandas as pd\n",
    "import matplotlib as mpl\n",
    "import matplotlib.pyplot as plt"
   ]
  },
  {
   "cell_type": "code",
   "execution_count": 3,
   "metadata": {
    "collapsed": true
   },
   "outputs": [],
   "source": [
    "df = pd.read_csv('data/src/iris.csv', index_col=0)"
   ]
  },
  {
   "cell_type": "code",
   "execution_count": 4,
   "metadata": {},
   "outputs": [
    {
     "name": "stdout",
     "output_type": "stream",
     "text": [
      "   sepal_length  sepal_width  petal_length  petal_width species\n",
      "0           5.1          3.5           1.4          0.2  setosa\n",
      "1           4.9          3.0           1.4          0.2  setosa\n",
      "2           4.7          3.2           1.3          0.2  setosa\n",
      "3           4.6          3.1           1.5          0.2  setosa\n",
      "4           5.0          3.6           1.4          0.2  setosa\n"
     ]
    }
   ],
   "source": [
    "print(df.head())"
   ]
  },
  {
   "cell_type": "code",
   "execution_count": 5,
   "metadata": {
    "collapsed": true
   },
   "outputs": [],
   "source": [
    "plt.figure()\n",
    "df.plot()\n",
    "plt.savefig('data/dst/pandas_iris_line.png')\n",
    "plt.close('all')"
   ]
  },
  {
   "cell_type": "code",
   "execution_count": 6,
   "metadata": {},
   "outputs": [
    {
     "name": "stdout",
     "output_type": "stream",
     "text": [
      "<class 'matplotlib.axes._subplots.AxesSubplot'>\n"
     ]
    }
   ],
   "source": [
    "print(type(df.plot()))"
   ]
  },
  {
   "cell_type": "code",
   "execution_count": 7,
   "metadata": {
    "collapsed": true
   },
   "outputs": [],
   "source": [
    "fig = plt.figure()\n",
    "ax = fig.add_subplot(1, 1, 1)\n",
    "df.plot(ax=ax)\n",
    "fig.savefig('data/dst/pandas_iris_line.png')"
   ]
  },
  {
   "cell_type": "code",
   "execution_count": 8,
   "metadata": {
    "collapsed": true
   },
   "outputs": [],
   "source": [
    "fig, axes = plt.subplots(nrows=2, ncols=3, figsize=(9, 6))\n",
    "df.plot(ax=axes[0, 0], legend=False)\n",
    "df.plot(ax=axes[1, 2], legend=False, kind='hist')\n",
    "fig.savefig('data/dst/pandas_iris_line_axes.png')"
   ]
  },
  {
   "cell_type": "code",
   "execution_count": 9,
   "metadata": {},
   "outputs": [
    {
     "name": "stdout",
     "output_type": "stream",
     "text": [
      "[6.0, 4.0]\n"
     ]
    }
   ],
   "source": [
    "current_figsize = mpl.rcParams['figure.figsize']\n",
    "print(current_figsize)"
   ]
  },
  {
   "cell_type": "code",
   "execution_count": 10,
   "metadata": {
    "collapsed": true
   },
   "outputs": [],
   "source": [
    "plt.figure()\n",
    "df.plot(figsize=(9, 6))\n",
    "plt.savefig('data/dst/pandas_iris_line_figsize.png')\n",
    "plt.close('all')"
   ]
  },
  {
   "cell_type": "code",
   "execution_count": 11,
   "metadata": {},
   "outputs": [
    {
     "name": "stdout",
     "output_type": "stream",
     "text": [
      "72.0\n"
     ]
    }
   ],
   "source": [
    "current_dpi = mpl.rcParams['figure.dpi']\n",
    "print(current_dpi)"
   ]
  },
  {
   "cell_type": "code",
   "execution_count": 12,
   "metadata": {
    "collapsed": true
   },
   "outputs": [],
   "source": [
    "plt.figure()\n",
    "df.plot()\n",
    "plt.savefig('data/dst/pandas_iris_line_dpi.png', dpi=current_dpi * 1.5)\n",
    "plt.close('all')"
   ]
  },
  {
   "cell_type": "code",
   "execution_count": 13,
   "metadata": {
    "collapsed": true
   },
   "outputs": [],
   "source": [
    "plt.figure()\n",
    "df.plot(subplots=True)\n",
    "plt.savefig('data/dst/pandas_iris_line_subplots.png')\n",
    "plt.close('all')"
   ]
  },
  {
   "cell_type": "code",
   "execution_count": 14,
   "metadata": {},
   "outputs": [
    {
     "name": "stdout",
     "output_type": "stream",
     "text": [
      "<class 'numpy.ndarray'>\n",
      "<class 'matplotlib.axes._subplots.AxesSubplot'>\n"
     ]
    }
   ],
   "source": [
    "print(type(df.plot(subplots=True)))\n",
    "print(type(df.plot(subplots=True)[0]))"
   ]
  },
  {
   "cell_type": "code",
   "execution_count": 15,
   "metadata": {
    "collapsed": true,
    "scrolled": true
   },
   "outputs": [],
   "source": [
    "plt.figure()\n",
    "df.plot(subplots=True, layout=(2, 2))\n",
    "plt.savefig('data/dst/pandas_iris_line_subplots_layout.png')\n",
    "plt.close('all')"
   ]
  },
  {
   "cell_type": "code",
   "execution_count": 16,
   "metadata": {
    "collapsed": true
   },
   "outputs": [],
   "source": [
    "plt.figure()\n",
    "df.plot(subplots=True, layout=(2, 2),\n",
    "        sharex=True, sharey=True)\n",
    "plt.savefig('data/dst/pandas_iris_line_subplots_share.png')\n",
    "plt.close('all')"
   ]
  },
  {
   "cell_type": "code",
   "execution_count": 17,
   "metadata": {
    "collapsed": true
   },
   "outputs": [],
   "source": [
    "plt.figure()\n",
    "df.plot(x='sepal_length', y='sepal_width')\n",
    "plt.savefig('data/dst/pandas_iris_line_xy.png')\n",
    "plt.close('all')"
   ]
  },
  {
   "cell_type": "code",
   "execution_count": 18,
   "metadata": {
    "collapsed": true
   },
   "outputs": [],
   "source": [
    "plt.figure()\n",
    "df.plot(x='sepal_length')\n",
    "plt.savefig('data/dst/pandas_iris_line_x.png')\n",
    "plt.close('all')"
   ]
  },
  {
   "cell_type": "code",
   "execution_count": 19,
   "metadata": {
    "collapsed": true
   },
   "outputs": [],
   "source": [
    "plt.figure()\n",
    "df.plot(y='sepal_length')\n",
    "plt.savefig('data/dst/pandas_iris_line_y.png')\n",
    "plt.close('all')"
   ]
  },
  {
   "cell_type": "code",
   "execution_count": 20,
   "metadata": {
    "collapsed": true
   },
   "outputs": [],
   "source": [
    "# df.plot(y=['sepal_length', 'sepal_width'])\n",
    "# UserWarning: Pandas doesn't allow columns to be created via a new attribute name"
   ]
  },
  {
   "cell_type": "code",
   "execution_count": 21,
   "metadata": {
    "collapsed": true
   },
   "outputs": [],
   "source": [
    "plt.figure()\n",
    "ax = df.plot(y='sepal_length')\n",
    "df.plot(y='sepal_width', ax=ax)\n",
    "plt.savefig('data/dst/pandas_iris_line_multi.png')\n",
    "plt.close('all')"
   ]
  },
  {
   "cell_type": "code",
   "execution_count": 22,
   "metadata": {
    "collapsed": true
   },
   "outputs": [],
   "source": [
    "plt.figure()\n",
    "df[['sepal_length', 'sepal_width']].plot()\n",
    "plt.savefig('data/dst/pandas_iris_line_multi.png')\n",
    "plt.close('all')"
   ]
  },
  {
   "cell_type": "code",
   "execution_count": 23,
   "metadata": {
    "collapsed": true
   },
   "outputs": [],
   "source": [
    "plt.figure()\n",
    "df.plot(title='Iris Data Set',\n",
    "        grid=True,\n",
    "        colormap='Accent',\n",
    "        legend=False,\n",
    "        alpha=0.5)\n",
    "plt.savefig('data/dst/pandas_iris_line_etc.png')\n",
    "plt.close('all')"
   ]
  },
  {
   "cell_type": "code",
   "execution_count": 24,
   "metadata": {
    "collapsed": true
   },
   "outputs": [],
   "source": [
    "plt.figure()\n",
    "df.plot(kind='line')\n",
    "plt.savefig('data/dst/pandas_iris_line.png')\n",
    "plt.close('all')"
   ]
  },
  {
   "cell_type": "code",
   "execution_count": 25,
   "metadata": {
    "collapsed": true
   },
   "outputs": [],
   "source": [
    "plt.figure()\n",
    "df.plot.line()\n",
    "plt.savefig('data/dst/pandas_iris_line.png')\n",
    "plt.close('all')"
   ]
  },
  {
   "cell_type": "code",
   "execution_count": 26,
   "metadata": {
    "collapsed": true
   },
   "outputs": [],
   "source": [
    "plt.figure()\n",
    "df.plot.line(subplots=True, layout=(2, 2))\n",
    "plt.savefig('data/dst/pandas_iris_line_subplots_layout.png')\n",
    "plt.close('all')"
   ]
  },
  {
   "cell_type": "code",
   "execution_count": 27,
   "metadata": {
    "collapsed": true
   },
   "outputs": [],
   "source": [
    "plt.figure()\n",
    "df.plot.line(style=['r--', 'b.-', 'g+', 'k:'])\n",
    "plt.savefig('data/dst/pandas_iris_line_style.png')\n",
    "plt.close('all')"
   ]
  },
  {
   "cell_type": "code",
   "execution_count": 28,
   "metadata": {
    "collapsed": true
   },
   "outputs": [],
   "source": [
    "plt.figure()\n",
    "df[:5].plot.bar()\n",
    "plt.savefig('data/dst/pandas_iris_bar.png')\n",
    "plt.close('all')"
   ]
  },
  {
   "cell_type": "code",
   "execution_count": 29,
   "metadata": {
    "collapsed": true
   },
   "outputs": [],
   "source": [
    "plt.figure()\n",
    "df[:5].plot.barh()\n",
    "plt.savefig('data/dst/pandas_iris_barh.png')\n",
    "plt.close('all')"
   ]
  },
  {
   "cell_type": "code",
   "execution_count": 30,
   "metadata": {
    "collapsed": true
   },
   "outputs": [],
   "source": [
    "plt.figure()\n",
    "df[:5].plot.bar(stacked=True)\n",
    "plt.savefig('data/dst/pandas_iris_bar_stack.png')\n",
    "plt.close('all')"
   ]
  },
  {
   "cell_type": "code",
   "execution_count": 31,
   "metadata": {
    "collapsed": true
   },
   "outputs": [],
   "source": [
    "plt.figure()\n",
    "df.plot.box()\n",
    "plt.savefig('data/dst/pandas_iris_box.png')\n",
    "plt.close('all')"
   ]
  },
  {
   "cell_type": "code",
   "execution_count": 32,
   "metadata": {
    "collapsed": true
   },
   "outputs": [],
   "source": [
    "plt.figure()\n",
    "df.plot.hist()\n",
    "plt.savefig('data/dst/pandas_iris_hist.png')\n",
    "plt.close('all')"
   ]
  },
  {
   "cell_type": "code",
   "execution_count": 33,
   "metadata": {
    "collapsed": true
   },
   "outputs": [],
   "source": [
    "plt.figure()\n",
    "df.plot.hist(alpha=0.5)\n",
    "plt.savefig('data/dst/pandas_iris_hist_alpha.png')\n",
    "plt.close('all')"
   ]
  },
  {
   "cell_type": "code",
   "execution_count": 34,
   "metadata": {
    "collapsed": true
   },
   "outputs": [],
   "source": [
    "plt.figure()\n",
    "df.plot.hist(stacked=True)\n",
    "plt.savefig('data/dst/pandas_iris_stacked.png')\n",
    "plt.close('all')"
   ]
  },
  {
   "cell_type": "code",
   "execution_count": 35,
   "metadata": {
    "collapsed": true
   },
   "outputs": [],
   "source": [
    "plt.figure()\n",
    "df.plot.hist(bins=20, histtype='step', orientation='horizontal')\n",
    "plt.savefig('data/dst/pandas_iris_hist_h_step.png')\n",
    "plt.close('all')"
   ]
  },
  {
   "cell_type": "code",
   "execution_count": 36,
   "metadata": {
    "collapsed": true
   },
   "outputs": [],
   "source": [
    "plt.figure()\n",
    "df.plot.kde(style=['r-', 'g--', 'b-.', 'c:'])\n",
    "plt.savefig('data/dst/pandas_iris_kde.png')\n",
    "plt.close('all')"
   ]
  },
  {
   "cell_type": "code",
   "execution_count": 37,
   "metadata": {
    "collapsed": true
   },
   "outputs": [],
   "source": [
    "plt.figure()\n",
    "df.plot.area()\n",
    "plt.savefig('data/dst/pandas_iris_area.png')\n",
    "plt.close('all')"
   ]
  },
  {
   "cell_type": "code",
   "execution_count": 38,
   "metadata": {
    "collapsed": true,
    "scrolled": true
   },
   "outputs": [],
   "source": [
    "plt.figure()\n",
    "df.plot.scatter(x='sepal_length', y='petal_length', alpha=0.5)\n",
    "plt.savefig('data/dst/pandas_iris_scatter.png')\n",
    "plt.close('all')"
   ]
  },
  {
   "cell_type": "code",
   "execution_count": 39,
   "metadata": {
    "collapsed": true
   },
   "outputs": [],
   "source": [
    "plt.figure()\n",
    "ax = df.plot.scatter(x='sepal_length', y='petal_length', alpha=0.5)\n",
    "df.plot.scatter(x='sepal_length', y='petal_width',\n",
    "                marker='s', c='r', s=50, alpha=0.5, ax=ax)\n",
    "plt.savefig('data/dst/pandas_iris_scatter_multi.png')\n",
    "plt.close('all')"
   ]
  },
  {
   "cell_type": "code",
   "execution_count": 40,
   "metadata": {
    "collapsed": true
   },
   "outputs": [],
   "source": [
    "plt.figure()\n",
    "df.plot.line(x='sepal_length',\n",
    "             style=['ro', 'g+', 'bs'], alpha=0.5)\n",
    "plt.savefig('data/dst/pandas_iris_scatter_line.png')\n",
    "plt.close('all')"
   ]
  },
  {
   "cell_type": "code",
   "execution_count": 41,
   "metadata": {
    "collapsed": true
   },
   "outputs": [],
   "source": [
    "plt.figure()\n",
    "df.plot.hexbin(x='sepal_length', y='petal_length',\n",
    "               gridsize=15, sharex=False)\n",
    "plt.savefig('data/dst/pandas_iris_hexbin.png')\n",
    "plt.close('all')"
   ]
  },
  {
   "cell_type": "code",
   "execution_count": 42,
   "metadata": {},
   "outputs": [
    {
     "name": "stdout",
     "output_type": "stream",
     "text": [
      "   ONE  TWO\n",
      "a    1   50\n",
      "b    2   20\n",
      "c    3   30\n"
     ]
    }
   ],
   "source": [
    "df_pie = pd.DataFrame([[1, 50], [2, 20], [3, 30]],\n",
    "                      index=['a', 'b', 'c'], columns=['ONE', 'TWO'])\n",
    "\n",
    "print(df_pie)"
   ]
  },
  {
   "cell_type": "code",
   "execution_count": 43,
   "metadata": {
    "collapsed": true
   },
   "outputs": [],
   "source": [
    "plt.figure()\n",
    "df_pie.plot.pie(subplots=True)\n",
    "plt.savefig('data/dst/pandas_pie.png')\n",
    "plt.close('all')"
   ]
  },
  {
   "cell_type": "code",
   "execution_count": 44,
   "metadata": {},
   "outputs": [
    {
     "name": "stdout",
     "output_type": "stream",
     "text": [
      "<class 'numpy.ndarray'>\n",
      "<class 'matplotlib.axes._subplots.AxesSubplot'>\n"
     ]
    }
   ],
   "source": [
    "print(type(df_pie.plot.pie(subplots=True)))\n",
    "print(type(df_pie.plot.pie(subplots=True)[0]))"
   ]
  },
  {
   "cell_type": "code",
   "execution_count": 45,
   "metadata": {
    "collapsed": true
   },
   "outputs": [],
   "source": [
    "plt.figure()\n",
    "df_pie['ONE'].plot.pie()\n",
    "plt.savefig('data/dst/pandas_pie_single.png')\n",
    "plt.close('all')"
   ]
  }
 ],
 "metadata": {
  "kernelspec": {
   "display_name": "Python 3",
   "language": "python",
   "name": "python3"
  },
  "language_info": {
   "codemirror_mode": {
    "name": "ipython",
    "version": 3
   },
   "file_extension": ".py",
   "mimetype": "text/x-python",
   "name": "python",
   "nbconvert_exporter": "python",
   "pygments_lexer": "ipython3",
   "version": "3.6.5"
  }
 },
 "nbformat": 4,
 "nbformat_minor": 2
}
