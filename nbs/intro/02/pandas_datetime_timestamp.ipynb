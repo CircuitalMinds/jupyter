{
 "cells": [
  {
   "cell_type": "code",
   "execution_count": 1,
   "metadata": {
    "collapsed": true
   },
   "outputs": [],
   "source": [
    "import pandas as pd\n",
    "import datetime"
   ]
  },
  {
   "cell_type": "code",
   "execution_count": 2,
   "metadata": {
    "collapsed": true
   },
   "outputs": [],
   "source": [
    "df = pd.read_csv('data/src/sample_datetime_multi.csv')"
   ]
  },
  {
   "cell_type": "code",
   "execution_count": 3,
   "metadata": {},
   "outputs": [
    {
     "name": "stdout",
     "output_type": "stream",
     "text": [
      "                  A                   B\n",
      "0  2017-11-01 12:24   2017年11月1日 12時24分\n",
      "1  2017-11-18 23:00  2017年11月18日 23時00分\n",
      "2   2017-12-05 5:05    2017年12月5日 5時05分\n",
      "3   2017-12-22 8:54   2017年12月22日 8時54分\n",
      "4  2018-01-08 14:20    2018年1月8日 14時20分\n",
      "5  2018-01-19 20:01   2018年1月19日 20時01分\n"
     ]
    }
   ],
   "source": [
    "print(df)"
   ]
  },
  {
   "cell_type": "code",
   "execution_count": 4,
   "metadata": {},
   "outputs": [
    {
     "name": "stdout",
     "output_type": "stream",
     "text": [
      "A    object\n",
      "B    object\n",
      "dtype: object\n"
     ]
    }
   ],
   "source": [
    "print(df.dtypes)"
   ]
  },
  {
   "cell_type": "code",
   "execution_count": 5,
   "metadata": {},
   "outputs": [
    {
     "name": "stdout",
     "output_type": "stream",
     "text": [
      "<class 'str'>\n"
     ]
    }
   ],
   "source": [
    "print(type(df['A'][0]))"
   ]
  },
  {
   "cell_type": "code",
   "execution_count": 6,
   "metadata": {},
   "outputs": [
    {
     "name": "stdout",
     "output_type": "stream",
     "text": [
      "0   2017-11-01 12:24:00\n",
      "1   2017-11-18 23:00:00\n",
      "2   2017-12-05 05:05:00\n",
      "3   2017-12-22 08:54:00\n",
      "4   2018-01-08 14:20:00\n",
      "5   2018-01-19 20:01:00\n",
      "Name: A, dtype: datetime64[ns]\n"
     ]
    }
   ],
   "source": [
    "print(pd.to_datetime(df['A']))"
   ]
  },
  {
   "cell_type": "code",
   "execution_count": 7,
   "metadata": {},
   "outputs": [
    {
     "name": "stdout",
     "output_type": "stream",
     "text": [
      "0   2017-11-01 12:24:00\n",
      "1   2017-11-18 23:00:00\n",
      "2   2017-12-05 05:05:00\n",
      "3   2017-12-22 08:54:00\n",
      "4   2018-01-08 14:20:00\n",
      "5   2018-01-19 20:01:00\n",
      "Name: B, dtype: datetime64[ns]\n"
     ]
    }
   ],
   "source": [
    "print(pd.to_datetime(df['B'], format='%Y年%m月%d日 %H時%M分'))"
   ]
  },
  {
   "cell_type": "code",
   "execution_count": 8,
   "metadata": {},
   "outputs": [
    {
     "name": "stdout",
     "output_type": "stream",
     "text": [
      "0    True\n",
      "1    True\n",
      "2    True\n",
      "3    True\n",
      "4    True\n",
      "5    True\n",
      "dtype: bool\n"
     ]
    }
   ],
   "source": [
    "print(pd.to_datetime(df['A']) == pd.to_datetime(df['B'], format='%Y年%m月%d日 %H時%M分'))"
   ]
  },
  {
   "cell_type": "code",
   "execution_count": 9,
   "metadata": {
    "collapsed": true
   },
   "outputs": [],
   "source": [
    "df['X'] = pd.to_datetime(df['A'])"
   ]
  },
  {
   "cell_type": "code",
   "execution_count": 10,
   "metadata": {},
   "outputs": [
    {
     "name": "stdout",
     "output_type": "stream",
     "text": [
      "                  A                   B                   X\n",
      "0  2017-11-01 12:24   2017年11月1日 12時24分 2017-11-01 12:24:00\n",
      "1  2017-11-18 23:00  2017年11月18日 23時00分 2017-11-18 23:00:00\n",
      "2   2017-12-05 5:05    2017年12月5日 5時05分 2017-12-05 05:05:00\n",
      "3   2017-12-22 8:54   2017年12月22日 8時54分 2017-12-22 08:54:00\n",
      "4  2018-01-08 14:20    2018年1月8日 14時20分 2018-01-08 14:20:00\n",
      "5  2018-01-19 20:01   2018年1月19日 20時01分 2018-01-19 20:01:00\n"
     ]
    }
   ],
   "source": [
    "print(df)"
   ]
  },
  {
   "cell_type": "code",
   "execution_count": 11,
   "metadata": {},
   "outputs": [
    {
     "name": "stdout",
     "output_type": "stream",
     "text": [
      "A            object\n",
      "B            object\n",
      "X    datetime64[ns]\n",
      "dtype: object\n"
     ]
    }
   ],
   "source": [
    "print(df.dtypes)"
   ]
  },
  {
   "cell_type": "code",
   "execution_count": 12,
   "metadata": {},
   "outputs": [
    {
     "name": "stdout",
     "output_type": "stream",
     "text": [
      "2017-11-01 12:24:00\n"
     ]
    }
   ],
   "source": [
    "print(df['X'][0])"
   ]
  },
  {
   "cell_type": "code",
   "execution_count": 13,
   "metadata": {},
   "outputs": [
    {
     "name": "stdout",
     "output_type": "stream",
     "text": [
      "<class 'pandas._libs.tslib.Timestamp'>\n"
     ]
    }
   ],
   "source": [
    "print(type(df['X'][0]))"
   ]
  },
  {
   "cell_type": "code",
   "execution_count": 14,
   "metadata": {},
   "outputs": [
    {
     "name": "stdout",
     "output_type": "stream",
     "text": [
      "True\n"
     ]
    }
   ],
   "source": [
    "print(issubclass(pd.Timestamp, datetime.datetime))"
   ]
  },
  {
   "cell_type": "code",
   "execution_count": 15,
   "metadata": {},
   "outputs": [
    {
     "name": "stdout",
     "output_type": "stream",
     "text": [
      "2017\n"
     ]
    }
   ],
   "source": [
    "print(df['X'][0].year)"
   ]
  },
  {
   "cell_type": "code",
   "execution_count": 16,
   "metadata": {},
   "outputs": [
    {
     "name": "stdout",
     "output_type": "stream",
     "text": [
      "Wednesday\n"
     ]
    }
   ],
   "source": [
    "print(df['X'][0].weekday_name)"
   ]
  },
  {
   "cell_type": "code",
   "execution_count": 17,
   "metadata": {},
   "outputs": [
    {
     "name": "stdout",
     "output_type": "stream",
     "text": [
      "<class 'datetime.datetime'>\n"
     ]
    }
   ],
   "source": [
    "py_dt = df['X'][0].to_pydatetime()\n",
    "print(type(py_dt))"
   ]
  },
  {
   "cell_type": "code",
   "execution_count": 18,
   "metadata": {},
   "outputs": [
    {
     "name": "stdout",
     "output_type": "stream",
     "text": [
      "<class 'numpy.datetime64'>\n"
     ]
    }
   ],
   "source": [
    "dt64 = df['X'][0].to_datetime64()\n",
    "print(type(dt64))"
   ]
  },
  {
   "cell_type": "code",
   "execution_count": 19,
   "metadata": {},
   "outputs": [
    {
     "name": "stdout",
     "output_type": "stream",
     "text": [
      "1509539040.0\n"
     ]
    }
   ],
   "source": [
    "print(df['X'][0].timestamp())"
   ]
  },
  {
   "cell_type": "code",
   "execution_count": 20,
   "metadata": {},
   "outputs": [
    {
     "name": "stdout",
     "output_type": "stream",
     "text": [
      "0.0\n"
     ]
    }
   ],
   "source": [
    "print(pd.to_datetime('1970-01-01 00:00:00').timestamp())"
   ]
  },
  {
   "cell_type": "code",
   "execution_count": 21,
   "metadata": {},
   "outputs": [
    {
     "name": "stdout",
     "output_type": "stream",
     "text": [
      "1509539040\n"
     ]
    }
   ],
   "source": [
    "print(int(df['X'][0].timestamp()))"
   ]
  },
  {
   "cell_type": "code",
   "execution_count": 22,
   "metadata": {},
   "outputs": [
    {
     "name": "stdout",
     "output_type": "stream",
     "text": [
      "2017/11/01\n"
     ]
    }
   ],
   "source": [
    "print(df['X'][0].strftime('%Y/%m/%d'))"
   ]
  },
  {
   "cell_type": "code",
   "execution_count": 23,
   "metadata": {},
   "outputs": [
    {
     "name": "stdout",
     "output_type": "stream",
     "text": [
      "0    2017\n",
      "1    2017\n",
      "2    2017\n",
      "3    2017\n",
      "4    2018\n",
      "5    2018\n",
      "Name: X, dtype: int64\n"
     ]
    }
   ],
   "source": [
    "print(df['X'].dt.year)"
   ]
  },
  {
   "cell_type": "code",
   "execution_count": 24,
   "metadata": {},
   "outputs": [
    {
     "name": "stdout",
     "output_type": "stream",
     "text": [
      "0    12\n",
      "1    23\n",
      "2     5\n",
      "3     8\n",
      "4    14\n",
      "5    20\n",
      "Name: X, dtype: int64\n"
     ]
    }
   ],
   "source": [
    "print(df['X'].dt.hour)"
   ]
  },
  {
   "cell_type": "code",
   "execution_count": 25,
   "metadata": {},
   "outputs": [
    {
     "name": "stdout",
     "output_type": "stream",
     "text": [
      "0    2\n",
      "1    5\n",
      "2    1\n",
      "3    4\n",
      "4    0\n",
      "5    4\n",
      "Name: X, dtype: int64\n"
     ]
    }
   ],
   "source": [
    "print(df['X'].dt.dayofweek)"
   ]
  },
  {
   "cell_type": "code",
   "execution_count": 26,
   "metadata": {},
   "outputs": [
    {
     "name": "stdout",
     "output_type": "stream",
     "text": [
      "                  A                  B                   X\n",
      "3   2017-12-22 8:54  2017年12月22日 8時54分 2017-12-22 08:54:00\n",
      "5  2018-01-19 20:01  2018年1月19日 20時01分 2018-01-19 20:01:00\n"
     ]
    }
   ],
   "source": [
    "print(df[df['X'].dt.dayofweek == 4])"
   ]
  },
  {
   "cell_type": "code",
   "execution_count": 27,
   "metadata": {},
   "outputs": [
    {
     "name": "stdout",
     "output_type": "stream",
     "text": [
      "0    2017-11-01 12:24:00\n",
      "1    2017-11-18 23:00:00\n",
      "2    2017-12-05 05:05:00\n",
      "3    2017-12-22 08:54:00\n",
      "4    2018-01-08 14:20:00\n",
      "5    2018-01-19 20:01:00\n",
      "Name: X, dtype: object\n"
     ]
    }
   ],
   "source": [
    "print(df['X'].astype(str))"
   ]
  },
  {
   "cell_type": "code",
   "execution_count": 28,
   "metadata": {},
   "outputs": [
    {
     "name": "stdout",
     "output_type": "stream",
     "text": [
      "0    Wednesday, November 01, 2017\n",
      "1     Saturday, November 18, 2017\n",
      "2      Tuesday, December 05, 2017\n",
      "3       Friday, December 22, 2017\n",
      "4        Monday, January 08, 2018\n",
      "5        Friday, January 19, 2018\n",
      "Name: X, dtype: object\n"
     ]
    }
   ],
   "source": [
    "print(df['X'].dt.strftime('%A, %B %d, %Y'))"
   ]
  },
  {
   "cell_type": "code",
   "execution_count": 29,
   "metadata": {},
   "outputs": [
    {
     "name": "stdout",
     "output_type": "stream",
     "text": [
      "0    2017年11月01日\n",
      "1    2017年11月18日\n",
      "2    2017年12月05日\n",
      "3    2017年12月22日\n",
      "4    2018年01月08日\n",
      "5    2018年01月19日\n",
      "Name: X, dtype: object\n"
     ]
    }
   ],
   "source": [
    "print(df['X'].dt.strftime('%Y年%m月%d日'))"
   ]
  },
  {
   "cell_type": "code",
   "execution_count": 30,
   "metadata": {
    "collapsed": true
   },
   "outputs": [],
   "source": [
    "df['en'] = df['X'].dt.strftime('%A, %B %d, %Y')\n",
    "df['jp'] = df['X'].dt.strftime('%Y年%m月%d日')"
   ]
  },
  {
   "cell_type": "code",
   "execution_count": 31,
   "metadata": {},
   "outputs": [
    {
     "name": "stdout",
     "output_type": "stream",
     "text": [
      "                  A                   B                   X  \\\n",
      "0  2017-11-01 12:24   2017年11月1日 12時24分 2017-11-01 12:24:00   \n",
      "1  2017-11-18 23:00  2017年11月18日 23時00分 2017-11-18 23:00:00   \n",
      "2   2017-12-05 5:05    2017年12月5日 5時05分 2017-12-05 05:05:00   \n",
      "3   2017-12-22 8:54   2017年12月22日 8時54分 2017-12-22 08:54:00   \n",
      "4  2018-01-08 14:20    2018年1月8日 14時20分 2018-01-08 14:20:00   \n",
      "5  2018-01-19 20:01   2018年1月19日 20時01分 2018-01-19 20:01:00   \n",
      "\n",
      "                             en           jp  \n",
      "0  Wednesday, November 01, 2017  2017年11月01日  \n",
      "1   Saturday, November 18, 2017  2017年11月18日  \n",
      "2    Tuesday, December 05, 2017  2017年12月05日  \n",
      "3     Friday, December 22, 2017  2017年12月22日  \n",
      "4      Monday, January 08, 2018  2018年01月08日  \n",
      "5      Friday, January 19, 2018  2018年01月19日  \n"
     ]
    }
   ],
   "source": [
    "print(df)"
   ]
  },
  {
   "cell_type": "code",
   "execution_count": 32,
   "metadata": {},
   "outputs": [
    {
     "name": "stdout",
     "output_type": "stream",
     "text": [
      "[datetime.datetime(2017, 11, 1, 12, 24)\n",
      " datetime.datetime(2017, 11, 18, 23, 0)\n",
      " datetime.datetime(2017, 12, 5, 5, 5)\n",
      " datetime.datetime(2017, 12, 22, 8, 54)\n",
      " datetime.datetime(2018, 1, 8, 14, 20)\n",
      " datetime.datetime(2018, 1, 19, 20, 1)]\n"
     ]
    }
   ],
   "source": [
    "print(df['X'].dt.to_pydatetime())"
   ]
  },
  {
   "cell_type": "code",
   "execution_count": 33,
   "metadata": {},
   "outputs": [
    {
     "name": "stdout",
     "output_type": "stream",
     "text": [
      "<class 'numpy.ndarray'>\n",
      "<class 'datetime.datetime'>\n"
     ]
    }
   ],
   "source": [
    "print(type(df['X'].dt.to_pydatetime()))\n",
    "print(type(df['X'].dt.to_pydatetime()[0]))"
   ]
  },
  {
   "cell_type": "code",
   "execution_count": 34,
   "metadata": {},
   "outputs": [
    {
     "name": "stdout",
     "output_type": "stream",
     "text": [
      "['2017-11-01T12:24:00.000000000' '2017-11-18T23:00:00.000000000'\n",
      " '2017-12-05T05:05:00.000000000' '2017-12-22T08:54:00.000000000'\n",
      " '2018-01-08T14:20:00.000000000' '2018-01-19T20:01:00.000000000']\n"
     ]
    }
   ],
   "source": [
    "print(df['X'].values)"
   ]
  },
  {
   "cell_type": "code",
   "execution_count": 35,
   "metadata": {},
   "outputs": [
    {
     "name": "stdout",
     "output_type": "stream",
     "text": [
      "<class 'numpy.ndarray'>\n",
      "<class 'numpy.datetime64'>\n"
     ]
    }
   ],
   "source": [
    "print(type(df['X'].values))\n",
    "print(type(df['X'].values[0]))"
   ]
  },
  {
   "cell_type": "code",
   "execution_count": 36,
   "metadata": {},
   "outputs": [
    {
     "name": "stdout",
     "output_type": "stream",
     "text": [
      "0    1.509539e+09\n",
      "1    1.511046e+09\n",
      "2    1.512450e+09\n",
      "3    1.513933e+09\n",
      "4    1.515421e+09\n",
      "5    1.516392e+09\n",
      "Name: X, dtype: float64\n"
     ]
    }
   ],
   "source": [
    "print(df['X'].map(pd.Timestamp.timestamp))"
   ]
  },
  {
   "cell_type": "code",
   "execution_count": 37,
   "metadata": {},
   "outputs": [
    {
     "name": "stdout",
     "output_type": "stream",
     "text": [
      "0    1509539040\n",
      "1    1511046000\n",
      "2    1512450300\n",
      "3    1513932840\n",
      "4    1515421200\n",
      "5    1516392060\n",
      "Name: X, dtype: int64\n"
     ]
    }
   ],
   "source": [
    "print(df['X'].map(pd.Timestamp.timestamp).astype(int))"
   ]
  },
  {
   "cell_type": "code",
   "execution_count": 38,
   "metadata": {
    "collapsed": true
   },
   "outputs": [],
   "source": [
    "df_i = df.set_index('X').drop(['en', 'jp'], axis=1)"
   ]
  },
  {
   "cell_type": "code",
   "execution_count": 39,
   "metadata": {},
   "outputs": [
    {
     "name": "stdout",
     "output_type": "stream",
     "text": [
      "                                    A                   B\n",
      "X                                                        \n",
      "2017-11-01 12:24:00  2017-11-01 12:24   2017年11月1日 12時24分\n",
      "2017-11-18 23:00:00  2017-11-18 23:00  2017年11月18日 23時00分\n",
      "2017-12-05 05:05:00   2017-12-05 5:05    2017年12月5日 5時05分\n",
      "2017-12-22 08:54:00   2017-12-22 8:54   2017年12月22日 8時54分\n",
      "2018-01-08 14:20:00  2018-01-08 14:20    2018年1月8日 14時20分\n",
      "2018-01-19 20:01:00  2018-01-19 20:01   2018年1月19日 20時01分\n"
     ]
    }
   ],
   "source": [
    "print(df_i)"
   ]
  },
  {
   "cell_type": "code",
   "execution_count": 40,
   "metadata": {},
   "outputs": [
    {
     "name": "stdout",
     "output_type": "stream",
     "text": [
      "DatetimeIndex(['2017-11-01 12:24:00', '2017-11-18 23:00:00',\n",
      "               '2017-12-05 05:05:00', '2017-12-22 08:54:00',\n",
      "               '2018-01-08 14:20:00', '2018-01-19 20:01:00'],\n",
      "              dtype='datetime64[ns]', name='X', freq=None)\n"
     ]
    }
   ],
   "source": [
    "print(df_i.index)"
   ]
  },
  {
   "cell_type": "code",
   "execution_count": 41,
   "metadata": {},
   "outputs": [
    {
     "name": "stdout",
     "output_type": "stream",
     "text": [
      "Int64Index([24, 0, 5, 54, 20, 1], dtype='int64', name='X')\n"
     ]
    }
   ],
   "source": [
    "print(df_i.index.minute)"
   ]
  },
  {
   "cell_type": "code",
   "execution_count": 42,
   "metadata": {},
   "outputs": [
    {
     "name": "stdout",
     "output_type": "stream",
     "text": [
      "['17/11/01' '17/11/18' '17/12/05' '17/12/22' '18/01/08' '18/01/19']\n"
     ]
    }
   ],
   "source": [
    "print(df_i.index.strftime('%y/%m/%d'))"
   ]
  },
  {
   "cell_type": "code",
   "execution_count": 43,
   "metadata": {
    "collapsed": true
   },
   "outputs": [],
   "source": [
    "df_i['min'] = df_i.index.minute\n",
    "df_i['str'] = df_i.index.strftime('%y/%m/%d')"
   ]
  },
  {
   "cell_type": "code",
   "execution_count": 44,
   "metadata": {},
   "outputs": [
    {
     "name": "stdout",
     "output_type": "stream",
     "text": [
      "                                    A                   B  min       str\n",
      "X                                                                       \n",
      "2017-11-01 12:24:00  2017-11-01 12:24   2017年11月1日 12時24分   24  17/11/01\n",
      "2017-11-18 23:00:00  2017-11-18 23:00  2017年11月18日 23時00分    0  17/11/18\n",
      "2017-12-05 05:05:00   2017-12-05 5:05    2017年12月5日 5時05分    5  17/12/05\n",
      "2017-12-22 08:54:00   2017-12-22 8:54   2017年12月22日 8時54分   54  17/12/22\n",
      "2018-01-08 14:20:00  2018-01-08 14:20    2018年1月8日 14時20分   20  18/01/08\n",
      "2018-01-19 20:01:00  2018-01-19 20:01   2018年1月19日 20時01分    1  18/01/19\n"
     ]
    }
   ],
   "source": [
    "print(df_i)"
   ]
  },
  {
   "cell_type": "code",
   "execution_count": 45,
   "metadata": {
    "collapsed": true
   },
   "outputs": [],
   "source": [
    "df_csv = pd.read_csv('data/src/sample_datetime_multi.csv', parse_dates=[0])"
   ]
  },
  {
   "cell_type": "code",
   "execution_count": 46,
   "metadata": {},
   "outputs": [
    {
     "name": "stdout",
     "output_type": "stream",
     "text": [
      "                    A                   B\n",
      "0 2017-11-01 12:24:00   2017年11月1日 12時24分\n",
      "1 2017-11-18 23:00:00  2017年11月18日 23時00分\n",
      "2 2017-12-05 05:05:00    2017年12月5日 5時05分\n",
      "3 2017-12-22 08:54:00   2017年12月22日 8時54分\n",
      "4 2018-01-08 14:20:00    2018年1月8日 14時20分\n",
      "5 2018-01-19 20:01:00   2018年1月19日 20時01分\n"
     ]
    }
   ],
   "source": [
    "print(df_csv)"
   ]
  },
  {
   "cell_type": "code",
   "execution_count": 47,
   "metadata": {},
   "outputs": [
    {
     "name": "stdout",
     "output_type": "stream",
     "text": [
      "A    datetime64[ns]\n",
      "B            object\n",
      "dtype: object\n"
     ]
    }
   ],
   "source": [
    "print(df_csv.dtypes)"
   ]
  },
  {
   "cell_type": "code",
   "execution_count": 48,
   "metadata": {
    "collapsed": true
   },
   "outputs": [],
   "source": [
    "df_csv_jp = pd.read_csv('data/src/sample_datetime_multi.csv',\n",
    "                        parse_dates=[1],\n",
    "                        date_parser=lambda date: pd.to_datetime(date, format='%Y年%m月%d日 %H時%M分'))"
   ]
  },
  {
   "cell_type": "code",
   "execution_count": 49,
   "metadata": {},
   "outputs": [
    {
     "name": "stdout",
     "output_type": "stream",
     "text": [
      "                  A                   B\n",
      "0  2017-11-01 12:24 2017-11-01 12:24:00\n",
      "1  2017-11-18 23:00 2017-11-18 23:00:00\n",
      "2   2017-12-05 5:05 2017-12-05 05:05:00\n",
      "3   2017-12-22 8:54 2017-12-22 08:54:00\n",
      "4  2018-01-08 14:20 2018-01-08 14:20:00\n",
      "5  2018-01-19 20:01 2018-01-19 20:01:00\n"
     ]
    }
   ],
   "source": [
    "print(df_csv_jp)"
   ]
  },
  {
   "cell_type": "code",
   "execution_count": 50,
   "metadata": {},
   "outputs": [
    {
     "name": "stdout",
     "output_type": "stream",
     "text": [
      "A            object\n",
      "B    datetime64[ns]\n",
      "dtype: object\n"
     ]
    }
   ],
   "source": [
    "print(df_csv_jp.dtypes)"
   ]
  },
  {
   "cell_type": "code",
   "execution_count": 51,
   "metadata": {
    "collapsed": true
   },
   "outputs": [],
   "source": [
    "df_csv_jp_i = pd.read_csv('data/src/sample_datetime_multi.csv',\n",
    "                          index_col=1,\n",
    "                          parse_dates=True,\n",
    "                          date_parser=lambda date: pd.to_datetime(date, format='%Y年%m月%d日 %H時%M分'))"
   ]
  },
  {
   "cell_type": "code",
   "execution_count": 52,
   "metadata": {},
   "outputs": [
    {
     "name": "stdout",
     "output_type": "stream",
     "text": [
      "                                    A\n",
      "B                                    \n",
      "2017-11-01 12:24:00  2017-11-01 12:24\n",
      "2017-11-18 23:00:00  2017-11-18 23:00\n",
      "2017-12-05 05:05:00   2017-12-05 5:05\n",
      "2017-12-22 08:54:00   2017-12-22 8:54\n",
      "2018-01-08 14:20:00  2018-01-08 14:20\n",
      "2018-01-19 20:01:00  2018-01-19 20:01\n"
     ]
    }
   ],
   "source": [
    "print(df_csv_jp_i)"
   ]
  },
  {
   "cell_type": "code",
   "execution_count": 53,
   "metadata": {},
   "outputs": [
    {
     "name": "stdout",
     "output_type": "stream",
     "text": [
      "DatetimeIndex(['2017-11-01 12:24:00', '2017-11-18 23:00:00',\n",
      "               '2017-12-05 05:05:00', '2017-12-22 08:54:00',\n",
      "               '2018-01-08 14:20:00', '2018-01-19 20:01:00'],\n",
      "              dtype='datetime64[ns]', name='B', freq=None)\n"
     ]
    }
   ],
   "source": [
    "print(df_csv_jp_i.index)"
   ]
  }
 ],
 "metadata": {
  "kernelspec": {
   "display_name": "Python 3",
   "language": "python",
   "name": "python3"
  },
  "language_info": {
   "codemirror_mode": {
    "name": "ipython",
    "version": 3
   },
   "file_extension": ".py",
   "mimetype": "text/x-python",
   "name": "python",
   "nbconvert_exporter": "python",
   "pygments_lexer": "ipython3",
   "version": "3.6.5"
  }
 },
 "nbformat": 4,
 "nbformat_minor": 2
}
