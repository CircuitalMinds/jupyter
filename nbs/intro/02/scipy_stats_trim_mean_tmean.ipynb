{
 "cells": [
  {
   "cell_type": "code",
   "execution_count": 1,
   "metadata": {},
   "outputs": [],
   "source": [
    "import scipy.stats\n",
    "import numpy as np\n",
    "import pandas as pd"
   ]
  },
  {
   "cell_type": "code",
   "execution_count": 2,
   "metadata": {},
   "outputs": [
    {
     "name": "stdout",
     "output_type": "stream",
     "text": [
      "1.7.1\n"
     ]
    }
   ],
   "source": [
    "import scipy\n",
    "\n",
    "print(scipy.__version__)"
   ]
  },
  {
   "cell_type": "code",
   "execution_count": 3,
   "metadata": {},
   "outputs": [
    {
     "name": "stdout",
     "output_type": "stream",
     "text": [
      "[  1   2   4   8  16  32  64 128 256 512]\n"
     ]
    }
   ],
   "source": [
    "a = np.array([2**n for n in range(10)])\n",
    "print(a)"
   ]
  },
  {
   "cell_type": "code",
   "execution_count": 4,
   "metadata": {},
   "outputs": [
    {
     "name": "stdout",
     "output_type": "stream",
     "text": [
      "<class 'numpy.ndarray'>\n"
     ]
    }
   ],
   "source": [
    "print(type(a))"
   ]
  },
  {
   "cell_type": "code",
   "execution_count": 5,
   "metadata": {},
   "outputs": [
    {
     "name": "stdout",
     "output_type": "stream",
     "text": [
      "102.3\n"
     ]
    }
   ],
   "source": [
    "print(a.mean())"
   ]
  },
  {
   "cell_type": "code",
   "execution_count": 6,
   "metadata": {},
   "outputs": [
    {
     "name": "stdout",
     "output_type": "stream",
     "text": [
      "102.3\n"
     ]
    }
   ],
   "source": [
    "print(np.mean(a))"
   ]
  },
  {
   "cell_type": "code",
   "execution_count": 7,
   "metadata": {},
   "outputs": [
    {
     "name": "stdout",
     "output_type": "stream",
     "text": [
      "63.75\n"
     ]
    }
   ],
   "source": [
    "print(scipy.stats.trim_mean(a, 0.1))"
   ]
  },
  {
   "cell_type": "code",
   "execution_count": 8,
   "metadata": {},
   "outputs": [
    {
     "name": "stdout",
     "output_type": "stream",
     "text": [
      "42.0\n"
     ]
    }
   ],
   "source": [
    "print(scipy.stats.trim_mean(a, 0.2))"
   ]
  },
  {
   "cell_type": "code",
   "execution_count": 9,
   "metadata": {},
   "outputs": [
    {
     "name": "stdout",
     "output_type": "stream",
     "text": [
      "[  2   8   4  16  32  64 128 256]\n"
     ]
    }
   ],
   "source": [
    "print(scipy.stats.trimboth(a, 0.1))"
   ]
  },
  {
   "cell_type": "code",
   "execution_count": 10,
   "metadata": {},
   "outputs": [
    {
     "name": "stdout",
     "output_type": "stream",
     "text": [
      "[  4  16   8  32  64 128]\n"
     ]
    }
   ],
   "source": [
    "print(scipy.stats.trimboth(a, 0.2))"
   ]
  },
  {
   "cell_type": "code",
   "execution_count": 11,
   "metadata": {},
   "outputs": [
    {
     "name": "stdout",
     "output_type": "stream",
     "text": [
      "[  2   8   4  16  32  64 128 256]\n"
     ]
    }
   ],
   "source": [
    "print(scipy.stats.trimboth(a, 0.19))"
   ]
  },
  {
   "cell_type": "code",
   "execution_count": 12,
   "metadata": {},
   "outputs": [
    {
     "name": "stdout",
     "output_type": "stream",
     "text": [
      "63.75\n"
     ]
    }
   ],
   "source": [
    "print(scipy.stats.trim_mean(a, 0.19))"
   ]
  },
  {
   "cell_type": "code",
   "execution_count": 13,
   "metadata": {},
   "outputs": [
    {
     "name": "stdout",
     "output_type": "stream",
     "text": [
      "[  100  1000     0 10000    10]\n"
     ]
    }
   ],
   "source": [
    "a_unsorted = np.array([100, 1000, 0, 10000, 10])\n",
    "print(a_unsorted)"
   ]
  },
  {
   "cell_type": "code",
   "execution_count": 14,
   "metadata": {},
   "outputs": [
    {
     "name": "stdout",
     "output_type": "stream",
     "text": [
      "[  10  100 1000]\n"
     ]
    }
   ],
   "source": [
    "print(scipy.stats.trimboth(a_unsorted, 0.2))"
   ]
  },
  {
   "cell_type": "code",
   "execution_count": 15,
   "metadata": {},
   "outputs": [
    {
     "name": "stdout",
     "output_type": "stream",
     "text": [
      "370.0\n"
     ]
    }
   ],
   "source": [
    "print(scipy.stats.trim_mean(a_unsorted, 0.2))"
   ]
  },
  {
   "cell_type": "code",
   "execution_count": 16,
   "metadata": {},
   "outputs": [
    {
     "name": "stdout",
     "output_type": "stream",
     "text": [
      "[ 1000     0 10000]\n"
     ]
    }
   ],
   "source": [
    "print(a_unsorted[1:-1])"
   ]
  },
  {
   "cell_type": "code",
   "execution_count": 17,
   "metadata": {},
   "outputs": [
    {
     "name": "stdout",
     "output_type": "stream",
     "text": [
      "3666.6666666666665\n"
     ]
    }
   ],
   "source": [
    "print(a_unsorted[1:-1].mean())"
   ]
  },
  {
   "cell_type": "code",
   "execution_count": 18,
   "metadata": {},
   "outputs": [
    {
     "name": "stdout",
     "output_type": "stream",
     "text": [
      "[[    1     2     4     8]\n",
      " [   16    32    64   128]\n",
      " [  256   512  1024  2048]\n",
      " [ 4096  8192 16384 32768]]\n"
     ]
    }
   ],
   "source": [
    "a_2d = np.array([2**n for n in range(16)]).reshape(4, 4)\n",
    "print(a_2d)"
   ]
  },
  {
   "cell_type": "code",
   "execution_count": 19,
   "metadata": {},
   "outputs": [
    {
     "name": "stdout",
     "output_type": "stream",
     "text": [
      "[[  16   32   64  128]\n",
      " [ 256  512 1024 2048]]\n"
     ]
    }
   ],
   "source": [
    "print(scipy.stats.trimboth(a_2d, 0.25))"
   ]
  },
  {
   "cell_type": "code",
   "execution_count": 20,
   "metadata": {},
   "outputs": [
    {
     "name": "stdout",
     "output_type": "stream",
     "text": [
      "[ 136.  272.  544. 1088.]\n"
     ]
    }
   ],
   "source": [
    "print(scipy.stats.trim_mean(a_2d, 0.25))"
   ]
  },
  {
   "cell_type": "code",
   "execution_count": 21,
   "metadata": {},
   "outputs": [
    {
     "name": "stdout",
     "output_type": "stream",
     "text": [
      "[[    2     4]\n",
      " [   32    64]\n",
      " [  512  1024]\n",
      " [ 8192 16384]]\n"
     ]
    }
   ],
   "source": [
    "print(scipy.stats.trimboth(a_2d, 0.25, axis=1))"
   ]
  },
  {
   "cell_type": "code",
   "execution_count": 22,
   "metadata": {},
   "outputs": [
    {
     "name": "stdout",
     "output_type": "stream",
     "text": [
      "[3.0000e+00 4.8000e+01 7.6800e+02 1.2288e+04]\n"
     ]
    }
   ],
   "source": [
    "print(scipy.stats.trim_mean(a_2d, 0.25, axis=1))"
   ]
  },
  {
   "cell_type": "code",
   "execution_count": 23,
   "metadata": {},
   "outputs": [
    {
     "name": "stdout",
     "output_type": "stream",
     "text": [
      "[  16   32   64  128  512  256 1024 2048]\n"
     ]
    }
   ],
   "source": [
    "print(scipy.stats.trimboth(a_2d, 0.25, axis=None))"
   ]
  },
  {
   "cell_type": "code",
   "execution_count": 24,
   "metadata": {},
   "outputs": [
    {
     "name": "stdout",
     "output_type": "stream",
     "text": [
      "510.0\n"
     ]
    }
   ],
   "source": [
    "print(scipy.stats.trim_mean(a_2d, 0.25, axis=None))"
   ]
  },
  {
   "cell_type": "code",
   "execution_count": 25,
   "metadata": {},
   "outputs": [
    {
     "name": "stdout",
     "output_type": "stream",
     "text": [
      "[  1   2   4   8  16  32  64 128 256 512]\n"
     ]
    }
   ],
   "source": [
    "print(a)"
   ]
  },
  {
   "cell_type": "code",
   "execution_count": 26,
   "metadata": {},
   "outputs": [
    {
     "name": "stdout",
     "output_type": "stream",
     "text": [
      "15.0\n"
     ]
    }
   ],
   "source": [
    "print(scipy.stats.tmean(a, (4, 32)))"
   ]
  },
  {
   "cell_type": "code",
   "execution_count": 27,
   "metadata": {},
   "outputs": [
    {
     "name": "stdout",
     "output_type": "stream",
     "text": [
      "10.5\n"
     ]
    }
   ],
   "source": [
    "print(scipy.stats.tmean(a, (None, 32)))"
   ]
  },
  {
   "cell_type": "code",
   "execution_count": 28,
   "metadata": {},
   "outputs": [
    {
     "name": "stdout",
     "output_type": "stream",
     "text": [
      "12.0\n"
     ]
    }
   ],
   "source": [
    "print(scipy.stats.tmean(a, (4, 32), (False, False)))"
   ]
  },
  {
   "cell_type": "code",
   "execution_count": 29,
   "metadata": {},
   "outputs": [
    {
     "name": "stdout",
     "output_type": "stream",
     "text": [
      "[[    1     2     4     8]\n",
      " [   16    32    64   128]\n",
      " [  256   512  1024  2048]\n",
      " [ 4096  8192 16384 32768]]\n"
     ]
    }
   ],
   "source": [
    "print(a_2d)"
   ]
  },
  {
   "cell_type": "code",
   "execution_count": 30,
   "metadata": {},
   "outputs": [
    {
     "name": "stdout",
     "output_type": "stream",
     "text": [
      "510.0\n"
     ]
    }
   ],
   "source": [
    "print(scipy.stats.tmean(a_2d, (16, 2048)))"
   ]
  },
  {
   "cell_type": "code",
   "execution_count": 31,
   "metadata": {},
   "outputs": [
    {
     "name": "stdout",
     "output_type": "stream",
     "text": [
      "510.0\n"
     ]
    }
   ],
   "source": [
    "print(scipy.stats.tmean(a_2d, (16, 2048), axis=0))"
   ]
  },
  {
   "cell_type": "code",
   "execution_count": 32,
   "metadata": {},
   "outputs": [],
   "source": [
    "# print(scipy.stats.tmean(a_2d, (16, 2048), axis=1))\n",
    "# AxisError: axis 1 is out of bounds for array of dimension 1"
   ]
  },
  {
   "cell_type": "code",
   "execution_count": 33,
   "metadata": {},
   "outputs": [
    {
     "name": "stdout",
     "output_type": "stream",
     "text": [
      "136.0\n",
      "272.0\n",
      "544.0\n",
      "1088.0\n"
     ]
    }
   ],
   "source": [
    "for i in range(a_2d.shape[1]):\n",
    "    print(scipy.stats.tmean(a_2d[:, i], (16, 2048)))"
   ]
  },
  {
   "cell_type": "code",
   "execution_count": 34,
   "metadata": {},
   "outputs": [
    {
     "name": "stdout",
     "output_type": "stream",
     "text": [
      "      C1    C2     C3     C4\n",
      "R1     1     2      4      8\n",
      "R2    16    32     64    128\n",
      "R3   256   512   1024   2048\n",
      "R4  4096  8192  16384  32768\n"
     ]
    }
   ],
   "source": [
    "df = pd.DataFrame(a_2d,\n",
    "                  index=['R1', 'R2', 'R3', 'R4'],\n",
    "                  columns=['C1', 'C2', 'C3', 'C4'])\n",
    "print(df)"
   ]
  },
  {
   "cell_type": "code",
   "execution_count": 35,
   "metadata": {},
   "outputs": [
    {
     "name": "stdout",
     "output_type": "stream",
     "text": [
      "<class 'pandas.core.series.Series'>\n"
     ]
    }
   ],
   "source": [
    "print(type(df['C1']))"
   ]
  },
  {
   "cell_type": "code",
   "execution_count": 36,
   "metadata": {},
   "outputs": [
    {
     "name": "stdout",
     "output_type": "stream",
     "text": [
      "136.0\n"
     ]
    }
   ],
   "source": [
    "print(scipy.stats.trim_mean(df['C1'], 0.25))"
   ]
  },
  {
   "cell_type": "code",
   "execution_count": 37,
   "metadata": {},
   "outputs": [
    {
     "name": "stdout",
     "output_type": "stream",
     "text": [
      "[ 16 256]\n"
     ]
    }
   ],
   "source": [
    "print(scipy.stats.trimboth(df['C1'], 0.25))"
   ]
  },
  {
   "cell_type": "code",
   "execution_count": 38,
   "metadata": {},
   "outputs": [
    {
     "name": "stdout",
     "output_type": "stream",
     "text": [
      "<class 'numpy.ndarray'>\n"
     ]
    }
   ],
   "source": [
    "print(type(scipy.stats.trimboth(df['C1'], 0.25)))"
   ]
  },
  {
   "cell_type": "code",
   "execution_count": 39,
   "metadata": {},
   "outputs": [
    {
     "name": "stdout",
     "output_type": "stream",
     "text": [
      "[ 136.  272.  544. 1088.]\n"
     ]
    }
   ],
   "source": [
    "print(scipy.stats.trim_mean(df, 0.25))"
   ]
  },
  {
   "cell_type": "code",
   "execution_count": 40,
   "metadata": {},
   "outputs": [
    {
     "name": "stdout",
     "output_type": "stream",
     "text": [
      "<class 'numpy.ndarray'>\n"
     ]
    }
   ],
   "source": [
    "print(type(scipy.stats.trim_mean(df, 0.25)))"
   ]
  },
  {
   "cell_type": "code",
   "execution_count": 41,
   "metadata": {},
   "outputs": [
    {
     "name": "stdout",
     "output_type": "stream",
     "text": [
      "[[  16   32   64  128]\n",
      " [ 256  512 1024 2048]]\n"
     ]
    }
   ],
   "source": [
    "print(scipy.stats.trimboth(df, 0.25))"
   ]
  },
  {
   "cell_type": "code",
   "execution_count": 42,
   "metadata": {},
   "outputs": [
    {
     "name": "stdout",
     "output_type": "stream",
     "text": [
      "<class 'numpy.ndarray'>\n"
     ]
    }
   ],
   "source": [
    "print(type(scipy.stats.trimboth(df, 0.25)))"
   ]
  },
  {
   "cell_type": "code",
   "execution_count": 43,
   "metadata": {},
   "outputs": [
    {
     "name": "stdout",
     "output_type": "stream",
     "text": [
      "[3.0000e+00 4.8000e+01 7.6800e+02 1.2288e+04]\n"
     ]
    }
   ],
   "source": [
    "print(scipy.stats.trim_mean(df, 0.25, axis=1))"
   ]
  },
  {
   "cell_type": "code",
   "execution_count": 44,
   "metadata": {},
   "outputs": [
    {
     "name": "stdout",
     "output_type": "stream",
     "text": [
      "510.0\n"
     ]
    }
   ],
   "source": [
    "print(scipy.stats.trim_mean(df, 0.25, axis=None))"
   ]
  },
  {
   "cell_type": "code",
   "execution_count": 45,
   "metadata": {},
   "outputs": [],
   "source": [
    "s_tm = pd.Series(scipy.stats.trim_mean(df, 0.25),\n",
    "                 index=df.columns)"
   ]
  },
  {
   "cell_type": "code",
   "execution_count": 46,
   "metadata": {},
   "outputs": [
    {
     "name": "stdout",
     "output_type": "stream",
     "text": [
      "C1     136.0\n",
      "C2     272.0\n",
      "C3     544.0\n",
      "C4    1088.0\n",
      "dtype: float64\n"
     ]
    }
   ],
   "source": [
    "print(s_tm)"
   ]
  },
  {
   "cell_type": "code",
   "execution_count": 47,
   "metadata": {},
   "outputs": [
    {
     "name": "stdout",
     "output_type": "stream",
     "text": [
      "510.0\n"
     ]
    }
   ],
   "source": [
    "print(scipy.stats.tmean(df, (16, 2048)))"
   ]
  },
  {
   "cell_type": "code",
   "execution_count": 48,
   "metadata": {},
   "outputs": [
    {
     "name": "stdout",
     "output_type": "stream",
     "text": [
      "136.0\n"
     ]
    }
   ],
   "source": [
    "print(scipy.stats.tmean(df['C1'], (16, 2048)))"
   ]
  },
  {
   "cell_type": "code",
   "execution_count": 49,
   "metadata": {},
   "outputs": [
    {
     "name": "stdout",
     "output_type": "stream",
     "text": [
      "C1 136.0\n",
      "C2 272.0\n",
      "C3 544.0\n",
      "C4 1088.0\n"
     ]
    }
   ],
   "source": [
    "for col in df:\n",
    "    print(col, scipy.stats.tmean(df[col], (16, 2048)))"
   ]
  },
  {
   "cell_type": "code",
   "execution_count": 50,
   "metadata": {},
   "outputs": [
    {
     "name": "stdout",
     "output_type": "stream",
     "text": [
      "      C1    C2     C3     C4 C5\n",
      "R1     1     2      4      8  A\n",
      "R2    16    32     64    128  B\n",
      "R3   256   512   1024   2048  C\n",
      "R4  4096  8192  16384  32768  D\n"
     ]
    }
   ],
   "source": [
    "df['C5'] = ['A', 'B', 'C', 'D']\n",
    "print(df)"
   ]
  },
  {
   "cell_type": "code",
   "execution_count": 51,
   "metadata": {},
   "outputs": [],
   "source": [
    "# print(scipy.stats.trim_mean(df, 0.25))\n",
    "# TypeError: unsupported operand type(s) for /: 'str' and 'int'"
   ]
  },
  {
   "cell_type": "code",
   "execution_count": 52,
   "metadata": {},
   "outputs": [
    {
     "name": "stdout",
     "output_type": "stream",
     "text": [
      "      C1    C2     C3     C4\n",
      "R1     1     2      4      8\n",
      "R2    16    32     64    128\n",
      "R3   256   512   1024   2048\n",
      "R4  4096  8192  16384  32768\n"
     ]
    }
   ],
   "source": [
    "print(df.select_dtypes(include='number'))"
   ]
  },
  {
   "cell_type": "code",
   "execution_count": 53,
   "metadata": {},
   "outputs": [
    {
     "name": "stdout",
     "output_type": "stream",
     "text": [
      "[ 136.  272.  544. 1088.]\n"
     ]
    }
   ],
   "source": [
    "print(scipy.stats.trim_mean(df.select_dtypes(include='number'), 0.25))"
   ]
  }
 ],
 "metadata": {
  "kernelspec": {
   "display_name": "Python 3",
   "language": "python",
   "name": "python3"
  },
  "language_info": {
   "codemirror_mode": {
    "name": "ipython",
    "version": 3
   },
   "file_extension": ".py",
   "mimetype": "text/x-python",
   "name": "python",
   "nbconvert_exporter": "python",
   "pygments_lexer": "ipython3",
   "version": "3.9.6"
  }
 },
 "nbformat": 4,
 "nbformat_minor": 4
}
