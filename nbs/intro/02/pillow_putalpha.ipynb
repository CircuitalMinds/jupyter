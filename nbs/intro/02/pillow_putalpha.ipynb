{
 "cells": [
  {
   "cell_type": "code",
   "execution_count": 1,
   "metadata": {
    "collapsed": true
   },
   "outputs": [],
   "source": [
    "from PIL import Image, ImageDraw, ImageFilter"
   ]
  },
  {
   "cell_type": "code",
   "execution_count": 2,
   "metadata": {
    "collapsed": true
   },
   "outputs": [],
   "source": [
    "im_rgb = Image.open('data/src/lena.jpg')"
   ]
  },
  {
   "cell_type": "code",
   "execution_count": 3,
   "metadata": {},
   "outputs": [],
   "source": [
    "im_rgba = im_rgb.copy()\n",
    "im_rgba.putalpha(128)\n",
    "im_rgba.save('data/dst/pillow_putalpha_solid.png')"
   ]
  },
  {
   "cell_type": "markdown",
   "metadata": {},
   "source": [
    "![pillow_putalpha_solid](data/dst/pillow_putalpha_solid.png)"
   ]
  },
  {
   "cell_type": "code",
   "execution_count": 4,
   "metadata": {},
   "outputs": [],
   "source": [
    "im_a = Image.new(\"L\", im_rgb.size, 0)\n",
    "draw = ImageDraw.Draw(im_a)\n",
    "draw.ellipse((140, 50, 260, 170), fill=255)"
   ]
  },
  {
   "cell_type": "markdown",
   "metadata": {},
   "source": [
    "![mask circle](data/dst/mask_circle.jpg)"
   ]
  },
  {
   "cell_type": "code",
   "execution_count": 5,
   "metadata": {
    "collapsed": true
   },
   "outputs": [],
   "source": [
    "im_rgba = im_rgb.copy()\n",
    "im_rgba.putalpha(im_a)\n",
    "im_rgba_crop = im_rgba.crop((140, 50, 260, 170))\n",
    "im_rgba_crop.save('data/dst/pillow_putalpha_circle.png')"
   ]
  },
  {
   "cell_type": "markdown",
   "metadata": {},
   "source": [
    "![pillow_putalpha_circle](data/dst/pillow_putalpha_circle.png)"
   ]
  },
  {
   "cell_type": "code",
   "execution_count": 6,
   "metadata": {
    "collapsed": true
   },
   "outputs": [],
   "source": [
    "im_a_blur = im_a.filter(ImageFilter.GaussianBlur(4))"
   ]
  },
  {
   "cell_type": "markdown",
   "metadata": {},
   "source": [
    "![mask circle blur](data/dst/mask_circle_blur.jpg)"
   ]
  },
  {
   "cell_type": "code",
   "execution_count": 7,
   "metadata": {
    "collapsed": true
   },
   "outputs": [],
   "source": [
    "im_rgba = im_rgb.copy()\n",
    "im_rgba.putalpha(im_a_blur)\n",
    "im_rgba_crop = im_rgba.crop((135, 45, 265, 175))\n",
    "im_rgba_crop.save('data/dst/pillow_putalpha_circle_blur.png')"
   ]
  },
  {
   "cell_type": "markdown",
   "metadata": {},
   "source": [
    "![pillow_putalpha_circle_blur](data/dst/pillow_putalpha_circle_blur.png)"
   ]
  },
  {
   "cell_type": "code",
   "execution_count": 8,
   "metadata": {
    "collapsed": true
   },
   "outputs": [],
   "source": [
    "im_a = Image.open('data/src/horse_r.png').convert('L').resize(im_rgb.size)"
   ]
  },
  {
   "cell_type": "markdown",
   "metadata": {},
   "source": [
    "![horse](data/src/horse_r_resize.png)"
   ]
  },
  {
   "cell_type": "code",
   "execution_count": 9,
   "metadata": {},
   "outputs": [],
   "source": [
    "im_rgba = im_rgb.copy()\n",
    "im_rgba.putalpha(im_a)\n",
    "im_rgba.save('data/dst/pillow_putalpha_horse.png')"
   ]
  },
  {
   "cell_type": "markdown",
   "metadata": {},
   "source": [
    "![pillow_putalpha_horse](data/dst/pillow_putalpha_horse.png)"
   ]
  }
 ],
 "metadata": {
  "kernelspec": {
   "display_name": "Python 3",
   "language": "python",
   "name": "python3"
  },
  "language_info": {
   "codemirror_mode": {
    "name": "ipython",
    "version": 3
   },
   "file_extension": ".py",
   "mimetype": "text/x-python",
   "name": "python",
   "nbconvert_exporter": "python",
   "pygments_lexer": "ipython3",
   "version": "3.6.3"
  }
 },
 "nbformat": 4,
 "nbformat_minor": 2
}
