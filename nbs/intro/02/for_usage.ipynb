{
 "cells": [
  {
   "cell_type": "code",
   "execution_count": 1,
   "metadata": {},
   "outputs": [
    {
     "name": "stdout",
     "output_type": "stream",
     "text": [
      "Alice\n",
      "Bob\n",
      "Charlie\n"
     ]
    }
   ],
   "source": [
    "l = ['Alice', 'Bob', 'Charlie']\n",
    "\n",
    "for name in l:\n",
    "    print(name)"
   ]
  },
  {
   "cell_type": "code",
   "execution_count": 2,
   "metadata": {},
   "outputs": [
    {
     "name": "stdout",
     "output_type": "stream",
     "text": [
      "Alice\n",
      "!!BREAK!!\n"
     ]
    }
   ],
   "source": [
    "l = ['Alice', 'Bob', 'Charlie']\n",
    "\n",
    "for name in l:\n",
    "    if name == 'Bob':\n",
    "        print('!!BREAK!!')\n",
    "        break\n",
    "    print(name)"
   ]
  },
  {
   "cell_type": "code",
   "execution_count": 3,
   "metadata": {},
   "outputs": [
    {
     "name": "stdout",
     "output_type": "stream",
     "text": [
      "Alice\n",
      "!!SKIP!!\n",
      "Charlie\n"
     ]
    }
   ],
   "source": [
    "l = ['Alice', 'Bob', 'Charlie']\n",
    "\n",
    "for name in l:\n",
    "    if name == 'Bob':\n",
    "        print('!!SKIP!!')\n",
    "        continue\n",
    "    print(name)"
   ]
  },
  {
   "cell_type": "code",
   "execution_count": 4,
   "metadata": {},
   "outputs": [
    {
     "name": "stdout",
     "output_type": "stream",
     "text": [
      "Alice\n",
      "Bob\n",
      "Charlie\n",
      "!!FINISH!!\n"
     ]
    }
   ],
   "source": [
    "l = ['Alice', 'Bob', 'Charlie']\n",
    "\n",
    "for name in l:\n",
    "    print(name)\n",
    "else:\n",
    "    print('!!FINISH!!')"
   ]
  },
  {
   "cell_type": "code",
   "execution_count": 5,
   "metadata": {},
   "outputs": [
    {
     "name": "stdout",
     "output_type": "stream",
     "text": [
      "Alice\n",
      "!!BREAK!!\n"
     ]
    }
   ],
   "source": [
    "l = ['Alice', 'Bob', 'Charlie']\n",
    "\n",
    "for name in l:\n",
    "    if name == 'Bob':\n",
    "        print('!!BREAK!!')\n",
    "        break\n",
    "    print(name)\n",
    "else:\n",
    "    print('!!FINISH!!')"
   ]
  },
  {
   "cell_type": "code",
   "execution_count": 6,
   "metadata": {},
   "outputs": [
    {
     "name": "stdout",
     "output_type": "stream",
     "text": [
      "Alice\n",
      "!!SKIP!!\n",
      "Charlie\n",
      "!!FINISH!!\n"
     ]
    }
   ],
   "source": [
    "l = ['Alice', 'Bob', 'Charlie']\n",
    "\n",
    "for name in l:\n",
    "    if name == 'Bob':\n",
    "        print('!!SKIP!!')\n",
    "        continue\n",
    "    print(name)\n",
    "else:\n",
    "    print('!!FINISH!!')"
   ]
  },
  {
   "cell_type": "code",
   "execution_count": 7,
   "metadata": {},
   "outputs": [
    {
     "name": "stdout",
     "output_type": "stream",
     "text": [
      "C\n",
      "D\n",
      "E\n"
     ]
    }
   ],
   "source": [
    "l = ['A', 'B', 'C', 'D', 'E', 'F', 'G']\n",
    "\n",
    "for c in l[2:5]:\n",
    "    print(c)"
   ]
  },
  {
   "cell_type": "code",
   "execution_count": 8,
   "metadata": {},
   "outputs": [
    {
     "name": "stdout",
     "output_type": "stream",
     "text": [
      "A\n",
      "C\n",
      "E\n",
      "G\n"
     ]
    }
   ],
   "source": [
    "for c in l[::2]:\n",
    "    print(c)"
   ]
  },
  {
   "cell_type": "code",
   "execution_count": 9,
   "metadata": {},
   "outputs": [
    {
     "name": "stdout",
     "output_type": "stream",
     "text": [
      "B\n",
      "D\n",
      "F\n"
     ]
    }
   ],
   "source": [
    "for c in l[1::2]:\n",
    "    print(c)"
   ]
  }
 ],
 "metadata": {
  "kernelspec": {
   "display_name": "Python 3",
   "language": "python",
   "name": "python3"
  },
  "language_info": {
   "codemirror_mode": {
    "name": "ipython",
    "version": 3
   },
   "file_extension": ".py",
   "mimetype": "text/x-python",
   "name": "python",
   "nbconvert_exporter": "python",
   "pygments_lexer": "ipython3",
   "version": "3.7.7"
  }
 },
 "nbformat": 4,
 "nbformat_minor": 2
}
