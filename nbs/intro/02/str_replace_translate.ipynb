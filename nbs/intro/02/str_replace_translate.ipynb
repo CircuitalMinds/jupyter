{
 "cells": [
  {
   "cell_type": "code",
   "execution_count": 1,
   "metadata": {},
   "outputs": [],
   "source": [
    "s = 'one two one two one'"
   ]
  },
  {
   "cell_type": "code",
   "execution_count": 2,
   "metadata": {},
   "outputs": [
    {
     "name": "stdout",
     "output_type": "stream",
     "text": [
      "one-two-one-two-one\n"
     ]
    }
   ],
   "source": [
    "print(s.replace(' ', '-'))"
   ]
  },
  {
   "cell_type": "code",
   "execution_count": 3,
   "metadata": {},
   "outputs": [
    {
     "name": "stdout",
     "output_type": "stream",
     "text": [
      "onetwoonetwoone\n"
     ]
    }
   ],
   "source": [
    "print(s.replace(' ', ''))"
   ]
  },
  {
   "cell_type": "code",
   "execution_count": 4,
   "metadata": {},
   "outputs": [
    {
     "name": "stdout",
     "output_type": "stream",
     "text": [
      "XXX two XXX two XXX\n"
     ]
    }
   ],
   "source": [
    "print(s.replace('one', 'XXX'))"
   ]
  },
  {
   "cell_type": "code",
   "execution_count": 5,
   "metadata": {},
   "outputs": [
    {
     "name": "stdout",
     "output_type": "stream",
     "text": [
      "XXX two XXX two one\n"
     ]
    }
   ],
   "source": [
    "print(s.replace('one', 'XXX', 2))"
   ]
  },
  {
   "cell_type": "code",
   "execution_count": 6,
   "metadata": {},
   "outputs": [
    {
     "name": "stdout",
     "output_type": "stream",
     "text": [
      "XXX YYY XXX YYY XXX\n"
     ]
    }
   ],
   "source": [
    "print(s.replace('one', 'XXX').replace('two', 'YYY'))"
   ]
  },
  {
   "cell_type": "code",
   "execution_count": 7,
   "metadata": {},
   "outputs": [
    {
     "name": "stdout",
     "output_type": "stream",
     "text": [
      "XYYYX YYY XYYYX YYY XYYYX\n"
     ]
    }
   ],
   "source": [
    "print(s.replace('one', 'XtwoX').replace('two', 'YYY'))"
   ]
  },
  {
   "cell_type": "code",
   "execution_count": 8,
   "metadata": {},
   "outputs": [
    {
     "name": "stdout",
     "output_type": "stream",
     "text": [
      "XtwoX YYY XtwoX YYY XtwoX\n"
     ]
    }
   ],
   "source": [
    "print(s.replace('two', 'YYY').replace('one', 'XtwoX'))"
   ]
  },
  {
   "cell_type": "code",
   "execution_count": 9,
   "metadata": {},
   "outputs": [
    {
     "name": "stdout",
     "output_type": "stream",
     "text": [
      "one\n",
      "two\n",
      "three\n"
     ]
    }
   ],
   "source": [
    "s_lines = 'one\\ntwo\\nthree'\n",
    "print(s_lines)"
   ]
  },
  {
   "cell_type": "code",
   "execution_count": 10,
   "metadata": {},
   "outputs": [
    {
     "name": "stdout",
     "output_type": "stream",
     "text": [
      "one-two-three\n"
     ]
    }
   ],
   "source": [
    "print(s_lines.replace('\\n', '-'))"
   ]
  },
  {
   "cell_type": "code",
   "execution_count": 11,
   "metadata": {},
   "outputs": [
    {
     "name": "stdout",
     "output_type": "stream",
     "text": [
      "one\n",
      "two\r\n",
      "three\n"
     ]
    }
   ],
   "source": [
    "s_lines_multi = 'one\\ntwo\\r\\nthree'\n",
    "print(s_lines_multi)"
   ]
  },
  {
   "cell_type": "code",
   "execution_count": 12,
   "metadata": {},
   "outputs": [
    {
     "name": "stdout",
     "output_type": "stream",
     "text": [
      "'one\\ntwo\\r\\nthree'\n"
     ]
    }
   ],
   "source": [
    "print(repr(s_lines_multi))"
   ]
  },
  {
   "cell_type": "code",
   "execution_count": 13,
   "metadata": {},
   "outputs": [
    {
     "name": "stdout",
     "output_type": "stream",
     "text": [
      "one-two-three\n"
     ]
    }
   ],
   "source": [
    "print(s_lines_multi.replace('\\r\\n', '-').replace('\\n', '-'))"
   ]
  },
  {
   "cell_type": "code",
   "execution_count": 14,
   "metadata": {},
   "outputs": [
    {
     "name": "stdout",
     "output_type": "stream",
     "text": [
      "'one-two-three'\n"
     ]
    }
   ],
   "source": [
    "print(repr(s_lines_multi.replace('\\r\\n', '-').replace('\\n', '-')))"
   ]
  },
  {
   "cell_type": "code",
   "execution_count": 15,
   "metadata": {},
   "outputs": [
    {
     "name": "stdout",
     "output_type": "stream",
     "text": [
      "one-two\r",
      "-three\n"
     ]
    }
   ],
   "source": [
    "print(s_lines_multi.replace('\\n', '-').replace('\\r\\n', '-'))"
   ]
  },
  {
   "cell_type": "code",
   "execution_count": 16,
   "metadata": {},
   "outputs": [
    {
     "name": "stdout",
     "output_type": "stream",
     "text": [
      "'one-two\\r-three'\n"
     ]
    }
   ],
   "source": [
    "print(repr(s_lines_multi.replace('\\n', '-').replace('\\r\\n', '-')))"
   ]
  },
  {
   "cell_type": "code",
   "execution_count": 17,
   "metadata": {},
   "outputs": [
    {
     "name": "stdout",
     "output_type": "stream",
     "text": [
      "['one', 'two', 'three']\n"
     ]
    }
   ],
   "source": [
    "print(s_lines_multi.splitlines())"
   ]
  },
  {
   "cell_type": "code",
   "execution_count": 18,
   "metadata": {},
   "outputs": [
    {
     "name": "stdout",
     "output_type": "stream",
     "text": [
      "one-two-three\n"
     ]
    }
   ],
   "source": [
    "print('-'.join(s_lines_multi.splitlines()))"
   ]
  },
  {
   "cell_type": "code",
   "execution_count": 19,
   "metadata": {},
   "outputs": [],
   "source": [
    "s = 'one two one two one'"
   ]
  },
  {
   "cell_type": "code",
   "execution_count": 20,
   "metadata": {},
   "outputs": [
    {
     "name": "stdout",
     "output_type": "stream",
     "text": [
      "One TwO One TwO One\n"
     ]
    }
   ],
   "source": [
    "print(s.translate(str.maketrans({'o': 'O', 't': 'T'})))"
   ]
  },
  {
   "cell_type": "code",
   "execution_count": 21,
   "metadata": {},
   "outputs": [
    {
     "name": "stdout",
     "output_type": "stream",
     "text": [
      "XXXne wXXX XXXne wXXX XXXne\n"
     ]
    }
   ],
   "source": [
    "print(s.translate(str.maketrans({'o': 'XXX', 't': None})))"
   ]
  },
  {
   "cell_type": "code",
   "execution_count": 22,
   "metadata": {},
   "outputs": [
    {
     "name": "stdout",
     "output_type": "stream",
     "text": [
      "Xe tYX Xe tYX Xe\n"
     ]
    }
   ],
   "source": [
    "print(s.translate(str.maketrans('ow', 'XY', 'n')))"
   ]
  },
  {
   "cell_type": "code",
   "execution_count": 23,
   "metadata": {},
   "outputs": [],
   "source": [
    "# print(s.translate(str.maketrans('ow', 'XXY', 'n')))\n",
    "# ValueError: the first two maketrans arguments must have equal length"
   ]
  },
  {
   "cell_type": "code",
   "execution_count": 24,
   "metadata": {},
   "outputs": [],
   "source": [
    "s = 'abcdefghij'"
   ]
  },
  {
   "cell_type": "code",
   "execution_count": 25,
   "metadata": {},
   "outputs": [
    {
     "name": "stdout",
     "output_type": "stream",
     "text": [
      "abcdXXXhij\n"
     ]
    }
   ],
   "source": [
    "print(s[:4] + 'XXX' + s[7:])"
   ]
  },
  {
   "cell_type": "code",
   "execution_count": 26,
   "metadata": {},
   "outputs": [],
   "source": [
    "s_replace = 'XXX'\n",
    "i = 4"
   ]
  },
  {
   "cell_type": "code",
   "execution_count": 27,
   "metadata": {},
   "outputs": [
    {
     "name": "stdout",
     "output_type": "stream",
     "text": [
      "abcdXXXhij\n"
     ]
    }
   ],
   "source": [
    "print(s[:i] + s_replace + s[i + len(s_replace):])"
   ]
  },
  {
   "cell_type": "code",
   "execution_count": 28,
   "metadata": {},
   "outputs": [
    {
     "name": "stdout",
     "output_type": "stream",
     "text": [
      "abcd-hij\n"
     ]
    }
   ],
   "source": [
    "print(s[:4] + '-' + s[7:])"
   ]
  },
  {
   "cell_type": "code",
   "execution_count": 29,
   "metadata": {},
   "outputs": [
    {
     "name": "stdout",
     "output_type": "stream",
     "text": [
      "abcd+++++efghij\n"
     ]
    }
   ],
   "source": [
    "print(s[:4] + '+++++' + s[4:])"
   ]
  }
 ],
 "metadata": {
  "kernelspec": {
   "display_name": "Python 3",
   "language": "python",
   "name": "python3"
  },
  "language_info": {
   "codemirror_mode": {
    "name": "ipython",
    "version": 3
   },
   "file_extension": ".py",
   "mimetype": "text/x-python",
   "name": "python",
   "nbconvert_exporter": "python",
   "pygments_lexer": "ipython3",
   "version": "3.8.5"
  }
 },
 "nbformat": 4,
 "nbformat_minor": 2
}
