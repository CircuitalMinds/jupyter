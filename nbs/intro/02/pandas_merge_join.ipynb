{
 "cells": [
  {
   "cell_type": "code",
   "execution_count": 1,
   "metadata": {},
   "outputs": [],
   "source": [
    "import pandas as pd"
   ]
  },
  {
   "cell_type": "code",
   "execution_count": 2,
   "metadata": {},
   "outputs": [],
   "source": [
    "df_ab = pd.DataFrame({'a': ['a_1', 'a_2', 'a_3'], 'b': ['b_1', 'b_2', 'b_3']})\n",
    "df_ac = pd.DataFrame({'a': ['a_1', 'a_2', 'a_4'], 'c': ['c_1', 'c_2', 'c_4']})"
   ]
  },
  {
   "cell_type": "code",
   "execution_count": 3,
   "metadata": {},
   "outputs": [
    {
     "name": "stdout",
     "output_type": "stream",
     "text": [
      "     a    b\n",
      "0  a_1  b_1\n",
      "1  a_2  b_2\n",
      "2  a_3  b_3\n"
     ]
    }
   ],
   "source": [
    "print(df_ab)"
   ]
  },
  {
   "cell_type": "code",
   "execution_count": 4,
   "metadata": {},
   "outputs": [
    {
     "name": "stdout",
     "output_type": "stream",
     "text": [
      "     a    c\n",
      "0  a_1  c_1\n",
      "1  a_2  c_2\n",
      "2  a_4  c_4\n"
     ]
    }
   ],
   "source": [
    "print(df_ac)"
   ]
  },
  {
   "cell_type": "code",
   "execution_count": 5,
   "metadata": {},
   "outputs": [
    {
     "name": "stdout",
     "output_type": "stream",
     "text": [
      "     a    b    c\n",
      "0  a_1  b_1  c_1\n",
      "1  a_2  b_2  c_2\n"
     ]
    }
   ],
   "source": [
    "print(pd.merge(df_ab, df_ac))"
   ]
  },
  {
   "cell_type": "code",
   "execution_count": 6,
   "metadata": {},
   "outputs": [
    {
     "name": "stdout",
     "output_type": "stream",
     "text": [
      "     a    b    c\n",
      "0  a_1  b_1  c_1\n",
      "1  a_2  b_2  c_2\n"
     ]
    }
   ],
   "source": [
    "print(df_ab.merge(df_ac))"
   ]
  },
  {
   "cell_type": "code",
   "execution_count": 7,
   "metadata": {},
   "outputs": [
    {
     "name": "stdout",
     "output_type": "stream",
     "text": [
      "     a    b    c\n",
      "0  a_1  b_1  c_1\n",
      "1  a_2  b_2  c_2\n"
     ]
    }
   ],
   "source": [
    "print(pd.merge(df_ab, df_ac, on='a'))"
   ]
  },
  {
   "cell_type": "code",
   "execution_count": 8,
   "metadata": {},
   "outputs": [
    {
     "name": "stdout",
     "output_type": "stream",
     "text": [
      "    a_    c\n",
      "0  a_1  c_1\n",
      "1  a_2  c_2\n",
      "2  a_4  c_4\n"
     ]
    }
   ],
   "source": [
    "df_ac_ = df_ac.rename(columns={'a': 'a_'})\n",
    "print(df_ac_)"
   ]
  },
  {
   "cell_type": "code",
   "execution_count": 9,
   "metadata": {},
   "outputs": [
    {
     "name": "stdout",
     "output_type": "stream",
     "text": [
      "     a    b   a_    c\n",
      "0  a_1  b_1  a_1  c_1\n",
      "1  a_2  b_2  a_2  c_2\n"
     ]
    }
   ],
   "source": [
    "print(pd.merge(df_ab, df_ac_, left_on='a', right_on='a_'))"
   ]
  },
  {
   "cell_type": "code",
   "execution_count": 10,
   "metadata": {},
   "outputs": [
    {
     "name": "stdout",
     "output_type": "stream",
     "text": [
      "     a    b    c\n",
      "0  a_1  b_1  c_1\n",
      "1  a_2  b_2  c_2\n"
     ]
    }
   ],
   "source": [
    "print(pd.merge(df_ab, df_ac_, left_on='a', right_on='a_').drop(columns='a_'))"
   ]
  },
  {
   "cell_type": "code",
   "execution_count": 11,
   "metadata": {},
   "outputs": [
    {
     "name": "stdout",
     "output_type": "stream",
     "text": [
      "     a    b    c\n",
      "0  a_1  b_1  c_1\n",
      "1  a_2  b_2  c_2\n"
     ]
    }
   ],
   "source": [
    "print(pd.merge(df_ab, df_ac, on='a', how='inner'))"
   ]
  },
  {
   "cell_type": "code",
   "execution_count": 12,
   "metadata": {},
   "outputs": [
    {
     "name": "stdout",
     "output_type": "stream",
     "text": [
      "     a    b    c\n",
      "0  a_1  b_1  c_1\n",
      "1  a_2  b_2  c_2\n",
      "2  a_3  b_3  NaN\n"
     ]
    }
   ],
   "source": [
    "print(pd.merge(df_ab, df_ac, on='a', how='left'))"
   ]
  },
  {
   "cell_type": "code",
   "execution_count": 13,
   "metadata": {},
   "outputs": [
    {
     "name": "stdout",
     "output_type": "stream",
     "text": [
      "     a    b    c\n",
      "0  a_1  b_1  c_1\n",
      "1  a_2  b_2  c_2\n",
      "2  a_4  NaN  c_4\n"
     ]
    }
   ],
   "source": [
    "print(pd.merge(df_ab, df_ac, on='a', how='right'))"
   ]
  },
  {
   "cell_type": "code",
   "execution_count": 14,
   "metadata": {},
   "outputs": [
    {
     "name": "stdout",
     "output_type": "stream",
     "text": [
      "     a    b    c\n",
      "0  a_1  b_1  c_1\n",
      "1  a_2  b_2  c_2\n",
      "2  a_3  b_3  NaN\n",
      "3  a_4  NaN  c_4\n"
     ]
    }
   ],
   "source": [
    "print(pd.merge(df_ab, df_ac, on='a', how='outer'))"
   ]
  },
  {
   "cell_type": "code",
   "execution_count": 15,
   "metadata": {},
   "outputs": [
    {
     "name": "stdout",
     "output_type": "stream",
     "text": [
      "     a    b    c _merge\n",
      "0  a_1  b_1  c_1   both\n",
      "1  a_2  b_2  c_2   both\n"
     ]
    }
   ],
   "source": [
    "print(pd.merge(df_ab, df_ac, on='a', how='inner', indicator=True))"
   ]
  },
  {
   "cell_type": "code",
   "execution_count": 16,
   "metadata": {},
   "outputs": [
    {
     "name": "stdout",
     "output_type": "stream",
     "text": [
      "     a    b    c      _merge\n",
      "0  a_1  b_1  c_1        both\n",
      "1  a_2  b_2  c_2        both\n",
      "2  a_3  b_3  NaN   left_only\n",
      "3  a_4  NaN  c_4  right_only\n"
     ]
    }
   ],
   "source": [
    "print(pd.merge(df_ab, df_ac, on='a', how='outer', indicator=True))"
   ]
  },
  {
   "cell_type": "code",
   "execution_count": 17,
   "metadata": {},
   "outputs": [
    {
     "name": "stdout",
     "output_type": "stream",
     "text": [
      "     a    b    c   indicator\n",
      "0  a_1  b_1  c_1        both\n",
      "1  a_2  b_2  c_2        both\n",
      "2  a_3  b_3  NaN   left_only\n",
      "3  a_4  NaN  c_4  right_only\n"
     ]
    }
   ],
   "source": [
    "print(pd.merge(df_ab, df_ac, on='a', how='outer', indicator='indicator'))"
   ]
  },
  {
   "cell_type": "code",
   "execution_count": 18,
   "metadata": {},
   "outputs": [
    {
     "name": "stdout",
     "output_type": "stream",
     "text": [
      "     a    b\n",
      "0  a_1  c_1\n",
      "1  a_2  c_2\n",
      "2  a_4  c_4\n"
     ]
    }
   ],
   "source": [
    "df_ac_b = df_ac.rename(columns={'c': 'b'})\n",
    "print(df_ac_b)"
   ]
  },
  {
   "cell_type": "code",
   "execution_count": 19,
   "metadata": {},
   "outputs": [
    {
     "name": "stdout",
     "output_type": "stream",
     "text": [
      "     a  b_x  b_y\n",
      "0  a_1  b_1  c_1\n",
      "1  a_2  b_2  c_2\n"
     ]
    }
   ],
   "source": [
    "print(pd.merge(df_ab, df_ac_b, on='a'))"
   ]
  },
  {
   "cell_type": "code",
   "execution_count": 20,
   "metadata": {},
   "outputs": [
    {
     "name": "stdout",
     "output_type": "stream",
     "text": [
      "     a b_left b_right\n",
      "0  a_1    b_1     c_1\n",
      "1  a_2    b_2     c_2\n"
     ]
    }
   ],
   "source": [
    "print(pd.merge(df_ab, df_ac_b, on='a', suffixes=['_left', '_right']))"
   ]
  },
  {
   "cell_type": "code",
   "execution_count": 21,
   "metadata": {},
   "outputs": [],
   "source": [
    "df_abx = df_ab.assign(x=['x_2', 'x_2', 'x_3'])\n",
    "df_acx = df_ac.assign(x=['x_1', 'x_2', 'x_2'])"
   ]
  },
  {
   "cell_type": "code",
   "execution_count": 22,
   "metadata": {},
   "outputs": [
    {
     "name": "stdout",
     "output_type": "stream",
     "text": [
      "     a    b    x\n",
      "0  a_1  b_1  x_2\n",
      "1  a_2  b_2  x_2\n",
      "2  a_3  b_3  x_3\n"
     ]
    }
   ],
   "source": [
    "print(df_abx)"
   ]
  },
  {
   "cell_type": "code",
   "execution_count": 23,
   "metadata": {},
   "outputs": [
    {
     "name": "stdout",
     "output_type": "stream",
     "text": [
      "     a    c    x\n",
      "0  a_1  c_1  x_1\n",
      "1  a_2  c_2  x_2\n",
      "2  a_4  c_4  x_2\n"
     ]
    }
   ],
   "source": [
    "print(df_acx)"
   ]
  },
  {
   "cell_type": "code",
   "execution_count": 24,
   "metadata": {},
   "outputs": [
    {
     "name": "stdout",
     "output_type": "stream",
     "text": [
      "     a    b    x    c\n",
      "0  a_2  b_2  x_2  c_2\n"
     ]
    }
   ],
   "source": [
    "print(pd.merge(df_abx, df_acx))"
   ]
  },
  {
   "cell_type": "code",
   "execution_count": 25,
   "metadata": {},
   "outputs": [
    {
     "name": "stdout",
     "output_type": "stream",
     "text": [
      "     a    b    x    c\n",
      "0  a_2  b_2  x_2  c_2\n"
     ]
    }
   ],
   "source": [
    "print(pd.merge(df_abx, df_acx, on=['a', 'x']))"
   ]
  },
  {
   "cell_type": "code",
   "execution_count": 26,
   "metadata": {},
   "outputs": [
    {
     "name": "stdout",
     "output_type": "stream",
     "text": [
      "     a    b  x_x    c  x_y\n",
      "0  a_1  b_1  x_2  c_1  x_1\n",
      "1  a_2  b_2  x_2  c_2  x_2\n"
     ]
    }
   ],
   "source": [
    "print(pd.merge(df_abx, df_acx, on='a'))"
   ]
  },
  {
   "cell_type": "code",
   "execution_count": 27,
   "metadata": {},
   "outputs": [
    {
     "name": "stdout",
     "output_type": "stream",
     "text": [
      "     a    c   x_\n",
      "0  a_1  c_1  x_1\n",
      "1  a_2  c_2  x_2\n",
      "2  a_4  c_4  x_2\n"
     ]
    }
   ],
   "source": [
    "df_acx_ = df_acx.rename(columns={'x': 'x_'})\n",
    "print(df_acx_)"
   ]
  },
  {
   "cell_type": "code",
   "execution_count": 28,
   "metadata": {},
   "outputs": [
    {
     "name": "stdout",
     "output_type": "stream",
     "text": [
      "     a    b    x    c   x_\n",
      "0  a_2  b_2  x_2  c_2  x_2\n"
     ]
    }
   ],
   "source": [
    "print(pd.merge(df_abx, df_acx_, left_on=['a', 'x'], right_on=['a', 'x_']))"
   ]
  },
  {
   "cell_type": "code",
   "execution_count": 29,
   "metadata": {},
   "outputs": [
    {
     "name": "stdout",
     "output_type": "stream",
     "text": [
      "     a    b    x    c\n",
      "0  a_2  b_2  x_2  c_2\n"
     ]
    }
   ],
   "source": [
    "print(pd.merge(df_abx, df_acx, on=['a', 'x'], how='inner'))"
   ]
  },
  {
   "cell_type": "code",
   "execution_count": 30,
   "metadata": {},
   "outputs": [
    {
     "name": "stdout",
     "output_type": "stream",
     "text": [
      "     a    b    x    c\n",
      "0  a_1  b_1  x_2  NaN\n",
      "1  a_2  b_2  x_2  c_2\n",
      "2  a_3  b_3  x_3  NaN\n"
     ]
    }
   ],
   "source": [
    "print(pd.merge(df_abx, df_acx, on=['a', 'x'], how='left'))"
   ]
  },
  {
   "cell_type": "code",
   "execution_count": 31,
   "metadata": {},
   "outputs": [
    {
     "name": "stdout",
     "output_type": "stream",
     "text": [
      "     a    b    x    c\n",
      "0  a_2  b_2  x_2  c_2\n",
      "1  a_1  NaN  x_1  c_1\n",
      "2  a_4  NaN  x_2  c_4\n"
     ]
    }
   ],
   "source": [
    "print(pd.merge(df_abx, df_acx, on=['a', 'x'], how='right'))"
   ]
  },
  {
   "cell_type": "code",
   "execution_count": 32,
   "metadata": {},
   "outputs": [
    {
     "name": "stdout",
     "output_type": "stream",
     "text": [
      "     a    b    x    c\n",
      "0  a_1  b_1  x_2  NaN\n",
      "1  a_2  b_2  x_2  c_2\n",
      "2  a_3  b_3  x_3  NaN\n",
      "3  a_1  NaN  x_1  c_1\n",
      "4  a_4  NaN  x_2  c_4\n"
     ]
    }
   ],
   "source": [
    "print(pd.merge(df_abx, df_acx, on=['a', 'x'], how='outer'))"
   ]
  },
  {
   "cell_type": "code",
   "execution_count": 33,
   "metadata": {},
   "outputs": [
    {
     "name": "stdout",
     "output_type": "stream",
     "text": [
      "     a    b    x    c\n",
      "0  a_1  NaN  x_1  c_1\n",
      "1  a_1  b_1  x_2  NaN\n",
      "2  a_2  b_2  x_2  c_2\n",
      "3  a_3  b_3  x_3  NaN\n",
      "4  a_4  NaN  x_2  c_4\n"
     ]
    }
   ],
   "source": [
    "print(pd.merge(df_abx, df_acx, on=['a', 'x'], how='outer', sort=True))"
   ]
  },
  {
   "cell_type": "code",
   "execution_count": 34,
   "metadata": {},
   "outputs": [
    {
     "name": "stdout",
     "output_type": "stream",
     "text": [
      "       c\n",
      "a       \n",
      "a_1  c_1\n",
      "a_2  c_2\n",
      "a_4  c_4\n"
     ]
    }
   ],
   "source": [
    "df_ac_i = df_ac.set_index('a')\n",
    "print(df_ac_i)"
   ]
  },
  {
   "cell_type": "code",
   "execution_count": 35,
   "metadata": {},
   "outputs": [
    {
     "name": "stdout",
     "output_type": "stream",
     "text": [
      "     a    b    c\n",
      "0  a_1  b_1  c_1\n",
      "1  a_2  b_2  c_2\n"
     ]
    }
   ],
   "source": [
    "print(pd.merge(df_ab, df_ac_i, left_on='a', right_index=True))"
   ]
  },
  {
   "cell_type": "code",
   "execution_count": 36,
   "metadata": {},
   "outputs": [
    {
     "name": "stdout",
     "output_type": "stream",
     "text": [
      "       b\n",
      "a       \n",
      "a_1  b_1\n",
      "a_2  b_2\n",
      "a_3  b_3\n"
     ]
    }
   ],
   "source": [
    "df_ab_i = df_ab.set_index('a')\n",
    "print(df_ab_i)"
   ]
  },
  {
   "cell_type": "code",
   "execution_count": 37,
   "metadata": {},
   "outputs": [
    {
     "name": "stdout",
     "output_type": "stream",
     "text": [
      "       b    c\n",
      "a            \n",
      "a_1  b_1  c_1\n",
      "a_2  b_2  c_2\n"
     ]
    }
   ],
   "source": [
    "print(pd.merge(df_ab_i, df_ac_i, left_index=True, right_index=True))"
   ]
  },
  {
   "cell_type": "code",
   "execution_count": 38,
   "metadata": {},
   "outputs": [
    {
     "name": "stdout",
     "output_type": "stream",
     "text": [
      "       b\n",
      "a       \n",
      "a_1  b_1\n",
      "a_2  b_2\n",
      "a_3  b_3\n"
     ]
    }
   ],
   "source": [
    "print(df_ab_i)"
   ]
  },
  {
   "cell_type": "code",
   "execution_count": 39,
   "metadata": {},
   "outputs": [
    {
     "name": "stdout",
     "output_type": "stream",
     "text": [
      "       c\n",
      "a       \n",
      "a_1  c_1\n",
      "a_2  c_2\n",
      "a_4  c_4\n"
     ]
    }
   ],
   "source": [
    "print(df_ac_i)"
   ]
  },
  {
   "cell_type": "code",
   "execution_count": 40,
   "metadata": {},
   "outputs": [
    {
     "name": "stdout",
     "output_type": "stream",
     "text": [
      "       b    c\n",
      "a            \n",
      "a_1  b_1  c_1\n",
      "a_2  b_2  c_2\n",
      "a_3  b_3  NaN\n"
     ]
    }
   ],
   "source": [
    "print(df_ab_i.join(df_ac_i))"
   ]
  },
  {
   "cell_type": "code",
   "execution_count": 41,
   "metadata": {},
   "outputs": [
    {
     "name": "stdout",
     "output_type": "stream",
     "text": [
      "       b    c\n",
      "a            \n",
      "a_1  b_1  c_1\n",
      "a_2  b_2  c_2\n"
     ]
    }
   ],
   "source": [
    "print(df_ab_i.join(df_ac_i, how='inner'))"
   ]
  },
  {
   "cell_type": "code",
   "execution_count": 42,
   "metadata": {},
   "outputs": [
    {
     "name": "stdout",
     "output_type": "stream",
     "text": [
      "     a    b\n",
      "0  a_1  b_1\n",
      "1  a_2  b_2\n",
      "2  a_3  b_3\n"
     ]
    }
   ],
   "source": [
    "print(df_ab)"
   ]
  },
  {
   "cell_type": "code",
   "execution_count": 43,
   "metadata": {},
   "outputs": [
    {
     "name": "stdout",
     "output_type": "stream",
     "text": [
      "     a    b    c\n",
      "0  a_1  b_1  c_1\n",
      "1  a_2  b_2  c_2\n",
      "2  a_3  b_3  NaN\n"
     ]
    }
   ],
   "source": [
    "print(df_ab.join(df_ac_i, on='a'))"
   ]
  },
  {
   "cell_type": "code",
   "execution_count": 44,
   "metadata": {
    "scrolled": true
   },
   "outputs": [
    {
     "name": "stdout",
     "output_type": "stream",
     "text": [
      "       d\n",
      "a       \n",
      "a_1  d_1\n",
      "a_4  d_4\n",
      "a_5  d_5\n"
     ]
    }
   ],
   "source": [
    "df_ad_i = pd.DataFrame({'a': ['a_1', 'a_4', 'a_5'], 'd': ['d_1', 'd_4', 'd_5']}).set_index('a')\n",
    "print(df_ad_i)"
   ]
  },
  {
   "cell_type": "code",
   "execution_count": 45,
   "metadata": {},
   "outputs": [
    {
     "name": "stdout",
     "output_type": "stream",
     "text": [
      "       b    c    d\n",
      "a                 \n",
      "a_1  b_1  c_1  d_1\n",
      "a_2  b_2  c_2  NaN\n",
      "a_3  b_3  NaN  NaN\n"
     ]
    }
   ],
   "source": [
    "print(df_ab_i.join([df_ac_i, df_ad_i]))"
   ]
  },
  {
   "cell_type": "code",
   "execution_count": 46,
   "metadata": {},
   "outputs": [
    {
     "name": "stdout",
     "output_type": "stream",
     "text": [
      "       c    d    b\n",
      "a                 \n",
      "a_1  c_1  d_1  b_1\n",
      "a_2  c_2  NaN  b_2\n",
      "a_4  c_4  d_4  NaN\n"
     ]
    }
   ],
   "source": [
    "print(df_ac_i.join([df_ad_i, df_ab_i]))"
   ]
  }
 ],
 "metadata": {
  "kernelspec": {
   "display_name": "Python 3",
   "language": "python",
   "name": "python3"
  },
  "language_info": {
   "codemirror_mode": {
    "name": "ipython",
    "version": 3
   },
   "file_extension": ".py",
   "mimetype": "text/x-python",
   "name": "python",
   "nbconvert_exporter": "python",
   "pygments_lexer": "ipython3",
   "version": "3.7.0"
  }
 },
 "nbformat": 4,
 "nbformat_minor": 2
}
