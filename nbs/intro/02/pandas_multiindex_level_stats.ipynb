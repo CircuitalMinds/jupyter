{
 "cells": [
  {
   "cell_type": "code",
   "execution_count": 1,
   "metadata": {
    "collapsed": true
   },
   "outputs": [],
   "source": [
    "import pandas as pd"
   ]
  },
  {
   "cell_type": "code",
   "execution_count": 2,
   "metadata": {
    "collapsed": true
   },
   "outputs": [],
   "source": [
    "df = pd.read_csv('data/src/titanic_train.csv')"
   ]
  },
  {
   "cell_type": "code",
   "execution_count": 3,
   "metadata": {
    "collapsed": true
   },
   "outputs": [],
   "source": [
    "df.drop(labels=['Name', 'Ticket', 'Cabin'], axis=1, inplace=True)"
   ]
  },
  {
   "cell_type": "code",
   "execution_count": 4,
   "metadata": {
    "collapsed": true
   },
   "outputs": [],
   "source": [
    "df_single = df.set_index('PassengerId')"
   ]
  },
  {
   "cell_type": "code",
   "execution_count": 5,
   "metadata": {},
   "outputs": [
    {
     "name": "stdout",
     "output_type": "stream",
     "text": [
      "             Survived  Pclass     Sex   Age  SibSp  Parch     Fare Embarked\n",
      "PassengerId                                                                \n",
      "1                   0       3    male  22.0      1      0   7.2500        S\n",
      "2                   1       1  female  38.0      1      0  71.2833        C\n",
      "3                   1       3  female  26.0      0      0   7.9250        S\n",
      "4                   1       1  female  35.0      1      0  53.1000        S\n",
      "5                   0       3    male  35.0      0      0   8.0500        S\n"
     ]
    }
   ],
   "source": [
    "print(df_single.head())"
   ]
  },
  {
   "cell_type": "code",
   "execution_count": 6,
   "metadata": {
    "collapsed": true
   },
   "outputs": [],
   "source": [
    "df_multi = df.set_index(['Sex', 'Pclass', 'Embarked', 'PassengerId']).sort_index()"
   ]
  },
  {
   "cell_type": "code",
   "execution_count": 7,
   "metadata": {},
   "outputs": [
    {
     "name": "stdout",
     "output_type": "stream",
     "text": [
      "                                    Survived   Age  SibSp  Parch      Fare\n",
      "Sex    Pclass Embarked PassengerId                                        \n",
      "female 1      C        2                   1  38.0      1      0   71.2833\n",
      "                       32                  1   NaN      1      0  146.5208\n",
      "                       53                  1  49.0      1      0   76.7292\n",
      "                       178                 0  50.0      0      0   28.7125\n",
      "                       195                 1  44.0      0      0   27.7208\n"
     ]
    }
   ],
   "source": [
    "print(df_multi.head())"
   ]
  },
  {
   "cell_type": "code",
   "execution_count": 8,
   "metadata": {},
   "outputs": [
    {
     "name": "stdout",
     "output_type": "stream",
     "text": [
      "                                  Survived   Age  SibSp  Parch    Fare\n",
      "Sex  Pclass Embarked PassengerId                                      \n",
      "male 3      S        877                 0  20.0      0      0  9.8458\n",
      "                     878                 0  19.0      0      0  7.8958\n",
      "                     879                 0   NaN      0      0  7.8958\n",
      "                     882                 0  33.0      0      0  7.8958\n",
      "                     885                 0  25.0      0      0  7.0500\n"
     ]
    }
   ],
   "source": [
    "print(df_multi.tail())"
   ]
  },
  {
   "cell_type": "code",
   "execution_count": 9,
   "metadata": {},
   "outputs": [
    {
     "name": "stdout",
     "output_type": "stream",
     "text": [
      "Survived     0.383838\n",
      "Age         29.699118\n",
      "SibSp        0.523008\n",
      "Parch        0.381594\n",
      "Fare        32.204208\n",
      "dtype: float64\n"
     ]
    }
   ],
   "source": [
    "print(df_multi.mean())"
   ]
  },
  {
   "cell_type": "code",
   "execution_count": 10,
   "metadata": {},
   "outputs": [
    {
     "name": "stdout",
     "output_type": "stream",
     "text": [
      "Survived     0.383838\n",
      "Pclass       2.308642\n",
      "Age         29.699118\n",
      "SibSp        0.523008\n",
      "Parch        0.381594\n",
      "Fare        32.204208\n",
      "dtype: float64\n"
     ]
    }
   ],
   "source": [
    "print(df_single.mean())"
   ]
  },
  {
   "cell_type": "code",
   "execution_count": 11,
   "metadata": {},
   "outputs": [
    {
     "name": "stdout",
     "output_type": "stream",
     "text": [
      "Survived      1.0000\n",
      "Age          80.0000\n",
      "SibSp         8.0000\n",
      "Parch         6.0000\n",
      "Fare        512.3292\n",
      "dtype: float64\n"
     ]
    }
   ],
   "source": [
    "print(df_multi.max())"
   ]
  },
  {
   "cell_type": "code",
   "execution_count": 12,
   "metadata": {},
   "outputs": [
    {
     "name": "stdout",
     "output_type": "stream",
     "text": [
      "Survived          1\n",
      "Pclass            3\n",
      "Sex            male\n",
      "Age              80\n",
      "SibSp             8\n",
      "Parch             6\n",
      "Fare        512.329\n",
      "dtype: object\n"
     ]
    }
   ],
   "source": [
    "print(df_single.max())"
   ]
  },
  {
   "cell_type": "code",
   "execution_count": 13,
   "metadata": {},
   "outputs": [
    {
     "name": "stdout",
     "output_type": "stream",
     "text": [
      "        Survived        Age     SibSp     Parch       Fare\n",
      "Sex                                                       \n",
      "female  0.742038  27.915709  0.694268  0.649682  44.479818\n",
      "male    0.188908  30.726645  0.429809  0.235702  25.523893\n"
     ]
    }
   ],
   "source": [
    "print(df_multi.mean(level='Sex'))"
   ]
  },
  {
   "cell_type": "code",
   "execution_count": 14,
   "metadata": {},
   "outputs": [
    {
     "name": "stdout",
     "output_type": "stream",
     "text": [
      "        Survived        Age     SibSp     Parch       Fare\n",
      "Sex                                                       \n",
      "female  0.742038  27.915709  0.694268  0.649682  44.479818\n",
      "male    0.188908  30.726645  0.429809  0.235702  25.523893\n"
     ]
    }
   ],
   "source": [
    "print(df_multi.mean(level=0))"
   ]
  },
  {
   "cell_type": "code",
   "execution_count": 15,
   "metadata": {},
   "outputs": [
    {
     "name": "stdout",
     "output_type": "stream",
     "text": [
      "        Survived        Age     SibSp     Parch       Fare\n",
      "Pclass                                                    \n",
      "1       0.629630  38.233441  0.416667  0.356481  84.154687\n",
      "2       0.472826  29.877630  0.402174  0.380435  20.662183\n",
      "3       0.242363  25.140620  0.615071  0.393075  13.675550\n"
     ]
    }
   ],
   "source": [
    "print(df_multi.mean(level=1))"
   ]
  },
  {
   "cell_type": "code",
   "execution_count": 16,
   "metadata": {},
   "outputs": [
    {
     "name": "stdout",
     "output_type": "stream",
     "text": [
      "          Survived        Age     SibSp     Parch       Fare\n",
      "Embarked                                                    \n",
      "C         0.553571  30.814769  0.386905  0.363095  59.954144\n",
      "Q         0.389610  28.089286  0.428571  0.168831  13.276030\n",
      "S         0.336957  29.445397  0.571429  0.413043  27.079812\n"
     ]
    }
   ],
   "source": [
    "print(df_multi.mean(level=2))"
   ]
  },
  {
   "cell_type": "code",
   "execution_count": 17,
   "metadata": {},
   "outputs": [
    {
     "name": "stdout",
     "output_type": "stream",
     "text": [
      "               Survived        Age     SibSp     Parch        Fare\n",
      "Sex    Pclass                                                     \n",
      "female 1       0.968085  34.611765  0.553191  0.457447  106.125798\n",
      "       2       0.921053  28.722973  0.486842  0.605263   21.970121\n",
      "       3       0.500000  21.750000  0.895833  0.798611   16.118810\n",
      "male   1       0.368852  41.281386  0.311475  0.278689   67.226127\n",
      "       2       0.157407  30.740707  0.342593  0.222222   19.741782\n",
      "       3       0.135447  26.507589  0.498559  0.224784   12.661633\n"
     ]
    }
   ],
   "source": [
    "print(df_multi.mean(level=['Sex', 'Pclass']))"
   ]
  },
  {
   "cell_type": "code",
   "execution_count": 18,
   "metadata": {},
   "outputs": [
    {
     "name": "stdout",
     "output_type": "stream",
     "text": [
      "                        Survived        Age     SibSp     Parch        Fare\n",
      "Sex    Pclass Embarked                                                     \n",
      "female 1      C         0.976744  36.052632  0.511628  0.302326  115.640309\n",
      "              Q         1.000000  33.000000  1.000000  0.000000   90.000000\n",
      "              S         0.958333  32.704545  0.604167  0.625000   99.026910\n",
      "       2      C         1.000000  19.142857  0.714286  0.571429   25.268457\n",
      "              Q         1.000000  30.000000  0.000000  0.000000   12.350000\n",
      "              S         0.910448  29.719697  0.477612  0.626866   21.912687\n",
      "       3      C         0.652174  14.062500  0.565217  0.826087   14.694926\n",
      "              Q         0.727273  22.850000  0.212121  0.242424   10.307833\n",
      "              S         0.375000  23.223684  1.238636  1.000000   18.670077\n",
      "male   1      C         0.404762  40.111111  0.238095  0.333333   93.536707\n",
      "              Q         0.000000  44.000000  2.000000  0.000000   90.000000\n",
      "              S         0.354430  41.897188  0.329114  0.253165   52.949947\n",
      "       2      C         0.200000  25.937500  0.500000  0.500000   25.421250\n",
      "              Q         0.000000  57.000000  0.000000  0.000000   12.350000\n",
      "              S         0.154639  30.875889  0.329897  0.195876   19.232474\n",
      "       3      C         0.232558  25.016800  0.232558  0.139535    9.352237\n",
      "              Q         0.076923  28.142857  0.589744  0.128205   11.924251\n",
      "              S         0.128302  26.574766  0.528302  0.252830   13.307149\n"
     ]
    }
   ],
   "source": [
    "print(df_multi.mean(level=[0, 1, 2]))"
   ]
  },
  {
   "cell_type": "code",
   "execution_count": 19,
   "metadata": {},
   "outputs": [
    {
     "name": "stdout",
     "output_type": "stream",
     "text": [
      "        Survived    Pclass        Age     SibSp     Parch       Fare\n",
      "Sex                                                                 \n",
      "female  0.742038  2.159236  27.915709  0.694268  0.649682  44.479818\n",
      "male    0.188908  2.389948  30.726645  0.429809  0.235702  25.523893\n"
     ]
    }
   ],
   "source": [
    "print(df_single.groupby(by='Sex').mean())"
   ]
  },
  {
   "cell_type": "code",
   "execution_count": 20,
   "metadata": {},
   "outputs": [
    {
     "name": "stdout",
     "output_type": "stream",
     "text": [
      "                        Survived        Age     SibSp     Parch        Fare\n",
      "Sex    Pclass Embarked                                                     \n",
      "female 1      C         0.976744  36.052632  0.511628  0.302326  115.640309\n",
      "              Q         1.000000  33.000000  1.000000  0.000000   90.000000\n",
      "              S         0.958333  32.704545  0.604167  0.625000   99.026910\n",
      "       2      C         1.000000  19.142857  0.714286  0.571429   25.268457\n",
      "              Q         1.000000  30.000000  0.000000  0.000000   12.350000\n",
      "              S         0.910448  29.719697  0.477612  0.626866   21.912687\n",
      "       3      C         0.652174  14.062500  0.565217  0.826087   14.694926\n",
      "              Q         0.727273  22.850000  0.212121  0.242424   10.307833\n",
      "              S         0.375000  23.223684  1.238636  1.000000   18.670077\n",
      "male   1      C         0.404762  40.111111  0.238095  0.333333   93.536707\n",
      "              Q         0.000000  44.000000  2.000000  0.000000   90.000000\n",
      "              S         0.354430  41.897188  0.329114  0.253165   52.949947\n",
      "       2      C         0.200000  25.937500  0.500000  0.500000   25.421250\n",
      "              Q         0.000000  57.000000  0.000000  0.000000   12.350000\n",
      "              S         0.154639  30.875889  0.329897  0.195876   19.232474\n",
      "       3      C         0.232558  25.016800  0.232558  0.139535    9.352237\n",
      "              Q         0.076923  28.142857  0.589744  0.128205   11.924251\n",
      "              S         0.128302  26.574766  0.528302  0.252830   13.307149\n"
     ]
    }
   ],
   "source": [
    "print(df_single.groupby(by=['Sex', 'Pclass', 'Embarked']).mean())"
   ]
  },
  {
   "cell_type": "code",
   "execution_count": 21,
   "metadata": {},
   "outputs": [
    {
     "name": "stdout",
     "output_type": "stream",
     "text": [
      "Sex\n",
      "female    314\n",
      "male      577\n",
      "dtype: int64\n"
     ]
    }
   ],
   "source": [
    "print(df_multi.groupby(level='Sex').size())"
   ]
  },
  {
   "cell_type": "code",
   "execution_count": 22,
   "metadata": {},
   "outputs": [
    {
     "name": "stdout",
     "output_type": "stream",
     "text": [
      "Embarked\n",
      "C    168\n",
      "Q     77\n",
      "S    644\n",
      "dtype: int64\n"
     ]
    }
   ],
   "source": [
    "print(df_multi.groupby(level=2).size())"
   ]
  },
  {
   "cell_type": "code",
   "execution_count": 23,
   "metadata": {},
   "outputs": [
    {
     "name": "stdout",
     "output_type": "stream",
     "text": [
      "Sex     Pclass  Embarked\n",
      "female  1       C            43\n",
      "                Q             1\n",
      "                S            48\n",
      "        2       C             7\n",
      "                Q             2\n",
      "                S            67\n",
      "        3       C            23\n",
      "                Q            33\n",
      "                S            88\n",
      "male    1       C            42\n",
      "                Q             1\n",
      "                S            79\n",
      "        2       C            10\n",
      "                Q             1\n",
      "                S            97\n",
      "        3       C            43\n",
      "                Q            39\n",
      "                S           265\n",
      "dtype: int64\n"
     ]
    }
   ],
   "source": [
    "print(df_multi.groupby(level=[0, 1, 2]).size())"
   ]
  },
  {
   "cell_type": "code",
   "execution_count": 24,
   "metadata": {},
   "outputs": [
    {
     "name": "stdout",
     "output_type": "stream",
     "text": [
      "Sex     Pclass  Embarked\n",
      "female  1       C            43\n",
      "                Q             1\n",
      "                S            48\n",
      "        2       C             7\n",
      "                Q             2\n",
      "                S            67\n",
      "        3       C            23\n",
      "                Q            33\n",
      "                S            88\n",
      "male    1       C            42\n",
      "                Q             1\n",
      "                S            79\n",
      "        2       C            10\n",
      "                Q             1\n",
      "                S            97\n",
      "        3       C            43\n",
      "                Q            39\n",
      "                S           265\n",
      "dtype: int64\n"
     ]
    }
   ],
   "source": [
    "print(df_single.groupby(by=['Sex', 'Pclass', 'Embarked']).size())"
   ]
  }
 ],
 "metadata": {
  "kernelspec": {
   "display_name": "Python 3",
   "language": "python",
   "name": "python3"
  },
  "language_info": {
   "codemirror_mode": {
    "name": "ipython",
    "version": 3
   },
   "file_extension": ".py",
   "mimetype": "text/x-python",
   "name": "python",
   "nbconvert_exporter": "python",
   "pygments_lexer": "ipython3",
   "version": "3.6.5"
  }
 },
 "nbformat": 4,
 "nbformat_minor": 2
}
