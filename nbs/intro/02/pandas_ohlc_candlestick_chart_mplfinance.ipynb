{
 "cells": [
  {
   "cell_type": "code",
   "execution_count": 1,
   "metadata": {},
   "outputs": [],
   "source": [
    "import pandas as pd\n",
    "import mplfinance as mpf"
   ]
  },
  {
   "cell_type": "code",
   "execution_count": 2,
   "metadata": {},
   "outputs": [
    {
     "name": "stdout",
     "output_type": "stream",
     "text": [
      "              open      high      low   close    volume\n",
      "2017-01-03  115.80  116.3300  114.760  116.15  28781865\n",
      "2017-01-04  115.85  116.5100  115.750  116.02  21118116\n",
      "2017-01-05  115.92  116.8642  115.810  116.61  22193587\n",
      "2017-01-06  116.78  118.1600  116.470  117.91  31751900\n",
      "2017-01-09  117.95  119.4300  117.940  118.99  33561948\n",
      "...            ...       ...      ...     ...       ...\n",
      "2017-12-22  174.68  175.4240  174.500  175.01  16052615\n",
      "2017-12-26  170.80  171.4700  169.679  170.57  32968167\n",
      "2017-12-27  170.10  170.7800  169.710  170.60  21672062\n",
      "2017-12-28  171.00  171.8500  170.480  171.08  15997739\n",
      "2017-12-29  170.52  170.5900  169.220  169.23  25643711\n",
      "\n",
      "[251 rows x 5 columns]\n"
     ]
    }
   ],
   "source": [
    "df = pd.read_csv('data/src/aapl_2015_2019.csv', index_col=0, parse_dates=True)['2017']\n",
    "print(df)"
   ]
  },
  {
   "cell_type": "code",
   "execution_count": 3,
   "metadata": {},
   "outputs": [],
   "source": [
    "df.columns = ['Open', 'High', 'Low', 'Close', 'Volume']"
   ]
  },
  {
   "cell_type": "code",
   "execution_count": 4,
   "metadata": {},
   "outputs": [],
   "source": [
    "%%capture\n",
    "mpf.plot(df, savefig='data/dst/candlestick_mpf.png')"
   ]
  },
  {
   "cell_type": "markdown",
   "metadata": {},
   "source": [
    "![](data/dst/candlestick_mpf.png)"
   ]
  },
  {
   "cell_type": "code",
   "execution_count": 5,
   "metadata": {},
   "outputs": [],
   "source": [
    "%%capture\n",
    "mpf.plot(df[50:100], figratio=(12,4),\n",
    "         savefig='data/dst/candlestick_mpf_figratio.png')"
   ]
  },
  {
   "cell_type": "markdown",
   "metadata": {},
   "source": [
    "![](data/dst/candlestick_mpf_figratio.png)"
   ]
  },
  {
   "cell_type": "code",
   "execution_count": 6,
   "metadata": {},
   "outputs": [],
   "source": [
    "%%capture\n",
    "mpf.plot(df[50:100], type='candle', figratio=(12,4),\n",
    "         savefig='data/dst/candlestick_mpf_candle.png')"
   ]
  },
  {
   "cell_type": "markdown",
   "metadata": {},
   "source": [
    "![](data/dst/candlestick_mpf_candle.png)"
   ]
  },
  {
   "cell_type": "code",
   "execution_count": 7,
   "metadata": {},
   "outputs": [],
   "source": [
    "%%capture\n",
    "mpf.plot(df[50:100], type='candle', volume=True, figratio=(12,4),\n",
    "         savefig='data/dst/candlestick_mpf_volume.png')"
   ]
  },
  {
   "cell_type": "markdown",
   "metadata": {},
   "source": [
    "![](data/dst/candlestick_mpf_volume.png)"
   ]
  },
  {
   "cell_type": "code",
   "execution_count": 8,
   "metadata": {},
   "outputs": [],
   "source": [
    "%%capture\n",
    "mpf.plot(df[50:100], type='candle', volume=True, mav=(5, 25), figratio=(12,4),\n",
    "         savefig='data/dst/candlestick_mpf_mav.png')"
   ]
  },
  {
   "cell_type": "markdown",
   "metadata": {},
   "source": [
    "![](data/dst/candlestick_mpf_mav.png)"
   ]
  },
  {
   "cell_type": "code",
   "execution_count": 9,
   "metadata": {},
   "outputs": [],
   "source": [
    "%%capture\n",
    "mpf.plot(df[50:100], type='candle', figratio=(12,4),\n",
    "         volume=True, mav=(5, 25), style='yahoo',\n",
    "         savefig='data/dst/candlestick_mpf_style_yahoo.png')"
   ]
  },
  {
   "cell_type": "markdown",
   "metadata": {},
   "source": [
    "![](data/dst/candlestick_mpf_style_yahoo.png)"
   ]
  },
  {
   "cell_type": "code",
   "execution_count": 10,
   "metadata": {},
   "outputs": [],
   "source": [
    "d_ohlcv = {'Open': 'first',\n",
    "           'High': 'max',\n",
    "           'Low': 'min',\n",
    "           'Close': 'last',\n",
    "           'Volume': 'sum'}"
   ]
  },
  {
   "cell_type": "code",
   "execution_count": 11,
   "metadata": {},
   "outputs": [
    {
     "name": "stdout",
     "output_type": "stream",
     "text": [
      "              Open    High     Low   Close     Volume\n",
      "2017-01-02  115.80  118.16  114.76  117.91  103845468\n",
      "2017-01-09  117.95  119.93  117.94  119.04  138810760\n",
      "2017-01-16  118.34  120.50  118.22  120.00  116347987\n",
      "2017-01-23  120.00  122.44  119.50  121.95  124748449\n",
      "2017-01-30  120.93  130.49  120.62  129.08  249781248\n"
     ]
    }
   ],
   "source": [
    "df_w = df.resample('W-MON', closed='left', label='left').agg(d_ohlcv)\n",
    "print(df_w.head())"
   ]
  },
  {
   "cell_type": "code",
   "execution_count": 12,
   "metadata": {},
   "outputs": [],
   "source": [
    "%%capture\n",
    "mpf.plot(df_w, type='candle', figratio=(12,4),\n",
    "         volume=True, mav=(5, 25),\n",
    "         savefig='data/dst/candlestick_mpf_week.png')"
   ]
  },
  {
   "cell_type": "markdown",
   "metadata": {},
   "source": [
    "![](data/dst/candlestick_mpf_week.png)"
   ]
  }
 ],
 "metadata": {
  "kernelspec": {
   "display_name": "Python 3",
   "language": "python",
   "name": "python3"
  },
  "language_info": {
   "codemirror_mode": {
    "name": "ipython",
    "version": 3
   },
   "file_extension": ".py",
   "mimetype": "text/x-python",
   "name": "python",
   "nbconvert_exporter": "python",
   "pygments_lexer": "ipython3",
   "version": "3.7.7"
  }
 },
 "nbformat": 4,
 "nbformat_minor": 2
}
