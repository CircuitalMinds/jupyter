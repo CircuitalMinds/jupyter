{
 "cells": [
  {
   "cell_type": "code",
   "execution_count": 1,
   "metadata": {},
   "outputs": [],
   "source": [
    "import pandas as pd"
   ]
  },
  {
   "cell_type": "code",
   "execution_count": 2,
   "metadata": {},
   "outputs": [],
   "source": [
    "df = pd.DataFrame({'col_1': range(11),\n",
    "                   'col_2': [i ** 2 for i in range(11)],\n",
    "                   'col_3': list('abcdefghijk')})"
   ]
  },
  {
   "cell_type": "code",
   "execution_count": 3,
   "metadata": {},
   "outputs": [
    {
     "name": "stdout",
     "output_type": "stream",
     "text": [
      "    col_1  col_2 col_3\n",
      "0       0      0     a\n",
      "1       1      1     b\n",
      "2       2      4     c\n",
      "3       3      9     d\n",
      "4       4     16     e\n",
      "5       5     25     f\n",
      "6       6     36     g\n",
      "7       7     49     h\n",
      "8       8     64     i\n",
      "9       9     81     j\n",
      "10     10    100     k\n"
     ]
    }
   ],
   "source": [
    "print(df)"
   ]
  },
  {
   "cell_type": "code",
   "execution_count": 4,
   "metadata": {},
   "outputs": [
    {
     "name": "stdout",
     "output_type": "stream",
     "text": [
      "col_1     5.0\n",
      "col_2    25.0\n",
      "Name: 0.5, dtype: float64\n"
     ]
    }
   ],
   "source": [
    "print(df.quantile())"
   ]
  },
  {
   "cell_type": "code",
   "execution_count": 5,
   "metadata": {},
   "outputs": [
    {
     "name": "stdout",
     "output_type": "stream",
     "text": [
      "<class 'pandas.core.series.Series'>\n"
     ]
    }
   ],
   "source": [
    "print(type(df.quantile()))"
   ]
  },
  {
   "cell_type": "code",
   "execution_count": 6,
   "metadata": {},
   "outputs": [
    {
     "name": "stdout",
     "output_type": "stream",
     "text": [
      "5.0\n"
     ]
    }
   ],
   "source": [
    "print(df['col_1'].quantile())"
   ]
  },
  {
   "cell_type": "code",
   "execution_count": 7,
   "metadata": {},
   "outputs": [
    {
     "name": "stdout",
     "output_type": "stream",
     "text": [
      "<class 'float'>\n"
     ]
    }
   ],
   "source": [
    "print(type(df['col_1'].quantile()))"
   ]
  },
  {
   "cell_type": "code",
   "execution_count": 8,
   "metadata": {},
   "outputs": [
    {
     "name": "stdout",
     "output_type": "stream",
     "text": [
      "col_1    2.0\n",
      "col_2    4.0\n",
      "Name: 0.2, dtype: float64\n"
     ]
    }
   ],
   "source": [
    "print(df.quantile(0.2))"
   ]
  },
  {
   "cell_type": "code",
   "execution_count": 9,
   "metadata": {},
   "outputs": [
    {
     "name": "stdout",
     "output_type": "stream",
     "text": [
      "      col_1  col_2\n",
      "0.00    0.0    0.0\n",
      "0.25    2.5    6.5\n",
      "0.50    5.0   25.0\n",
      "0.75    7.5   56.5\n",
      "1.00   10.0  100.0\n"
     ]
    }
   ],
   "source": [
    "print(df.quantile([0, 0.25, 0.5, 0.75, 1.0]))"
   ]
  },
  {
   "cell_type": "code",
   "execution_count": 10,
   "metadata": {},
   "outputs": [
    {
     "name": "stdout",
     "output_type": "stream",
     "text": [
      "<class 'pandas.core.frame.DataFrame'>\n"
     ]
    }
   ],
   "source": [
    "print(type(df.quantile([0, 0.25, 0.5, 0.75, 1.0])))"
   ]
  },
  {
   "cell_type": "code",
   "execution_count": 11,
   "metadata": {},
   "outputs": [
    {
     "name": "stdout",
     "output_type": "stream",
     "text": [
      "0.00     0.0\n",
      "0.25     2.5\n",
      "0.50     5.0\n",
      "0.75     7.5\n",
      "1.00    10.0\n",
      "Name: col_1, dtype: float64\n"
     ]
    }
   ],
   "source": [
    "print(df['col_1'].quantile([0, 0.25, 0.5, 0.75, 1.0]))"
   ]
  },
  {
   "cell_type": "code",
   "execution_count": 12,
   "metadata": {},
   "outputs": [
    {
     "name": "stdout",
     "output_type": "stream",
     "text": [
      "<class 'pandas.core.series.Series'>\n"
     ]
    }
   ],
   "source": [
    "print(type(df['col_1'].quantile([0, 0.25, 0.5, 0.75, 1.0])))"
   ]
  },
  {
   "cell_type": "code",
   "execution_count": 13,
   "metadata": {},
   "outputs": [
    {
     "name": "stdout",
     "output_type": "stream",
     "text": [
      "col_1    2.1\n",
      "col_2    4.5\n",
      "Name: 0.21, dtype: float64\n"
     ]
    }
   ],
   "source": [
    "print(df.quantile(0.21))"
   ]
  },
  {
   "cell_type": "code",
   "execution_count": 14,
   "metadata": {},
   "outputs": [
    {
     "name": "stdout",
     "output_type": "stream",
     "text": [
      "col_1    2.1\n",
      "col_2    4.5\n",
      "Name: 0.21, dtype: float64\n"
     ]
    }
   ],
   "source": [
    "print(df.quantile(0.21, interpolation='linear'))"
   ]
  },
  {
   "cell_type": "code",
   "execution_count": 15,
   "metadata": {},
   "outputs": [
    {
     "name": "stdout",
     "output_type": "stream",
     "text": [
      "col_1    2\n",
      "col_2    4\n",
      "Name: 0.21, dtype: int64\n"
     ]
    }
   ],
   "source": [
    "print(df.quantile(0.21, interpolation='lower'))"
   ]
  },
  {
   "cell_type": "code",
   "execution_count": 16,
   "metadata": {},
   "outputs": [
    {
     "name": "stdout",
     "output_type": "stream",
     "text": [
      "col_1    3\n",
      "col_2    9\n",
      "Name: 0.21, dtype: int64\n"
     ]
    }
   ],
   "source": [
    "print(df.quantile(0.21, interpolation='higher'))"
   ]
  },
  {
   "cell_type": "code",
   "execution_count": 17,
   "metadata": {},
   "outputs": [
    {
     "name": "stdout",
     "output_type": "stream",
     "text": [
      "col_1    2\n",
      "col_2    4\n",
      "Name: 0.21, dtype: int64\n"
     ]
    }
   ],
   "source": [
    "print(df.quantile(0.21, interpolation='nearest'))"
   ]
  },
  {
   "cell_type": "code",
   "execution_count": 18,
   "metadata": {},
   "outputs": [
    {
     "name": "stdout",
     "output_type": "stream",
     "text": [
      "col_1    2.5\n",
      "col_2    6.5\n",
      "Name: 0.21, dtype: float64\n"
     ]
    }
   ],
   "source": [
    "print(df.quantile(0.21, interpolation='midpoint'))"
   ]
  },
  {
   "cell_type": "code",
   "execution_count": 19,
   "metadata": {},
   "outputs": [
    {
     "name": "stdout",
     "output_type": "stream",
     "text": [
      "col_1    2.0\n",
      "col_2    4.0\n",
      "Name: 0.2, dtype: float64\n"
     ]
    }
   ],
   "source": [
    "print(df.quantile(0.2))"
   ]
  },
  {
   "cell_type": "code",
   "execution_count": 20,
   "metadata": {},
   "outputs": [
    {
     "name": "stdout",
     "output_type": "stream",
     "text": [
      "col_1    2\n",
      "col_2    4\n",
      "Name: 0.2, dtype: int64\n"
     ]
    }
   ],
   "source": [
    "print(df.quantile(0.2, interpolation='lower'))"
   ]
  },
  {
   "cell_type": "code",
   "execution_count": 21,
   "metadata": {},
   "outputs": [
    {
     "name": "stdout",
     "output_type": "stream",
     "text": [
      "0      0.0\n",
      "1      1.0\n",
      "2      3.0\n",
      "3      6.0\n",
      "4     10.0\n",
      "5     15.0\n",
      "6     21.0\n",
      "7     28.0\n",
      "8     36.0\n",
      "9     45.0\n",
      "10    55.0\n",
      "Name: 0.5, dtype: float64\n"
     ]
    }
   ],
   "source": [
    "print(df.quantile(axis=1))"
   ]
  },
  {
   "cell_type": "code",
   "execution_count": 22,
   "metadata": {},
   "outputs": [],
   "source": [
    "# print(df.quantile(numeric_only=False))\n",
    "# TypeError: can't multiply sequence by non-int of type 'float'"
   ]
  },
  {
   "cell_type": "code",
   "execution_count": 23,
   "metadata": {},
   "outputs": [
    {
     "name": "stdout",
     "output_type": "stream",
     "text": [
      "col_1     5\n",
      "col_2    25\n",
      "col_3     f\n",
      "Name: 0.5, dtype: object\n"
     ]
    }
   ],
   "source": [
    "print(df.quantile(numeric_only=False, interpolation='lower'))"
   ]
  },
  {
   "cell_type": "code",
   "execution_count": 24,
   "metadata": {},
   "outputs": [
    {
     "name": "stdout",
     "output_type": "stream",
     "text": [
      "col_1    2\n",
      "col_2    4\n",
      "col_3    c\n",
      "Name: 0.25, dtype: object\n"
     ]
    }
   ],
   "source": [
    "print(df.quantile(0.25, numeric_only=False, interpolation='lower'))"
   ]
  },
  {
   "cell_type": "code",
   "execution_count": 25,
   "metadata": {},
   "outputs": [
    {
     "name": "stdout",
     "output_type": "stream",
     "text": [
      "col_1    3\n",
      "col_2    9\n",
      "col_3    d\n",
      "Name: 0.25, dtype: object\n"
     ]
    }
   ],
   "source": [
    "print(df.quantile(0.25, numeric_only=False, interpolation='higher'))"
   ]
  },
  {
   "cell_type": "code",
   "execution_count": 26,
   "metadata": {},
   "outputs": [],
   "source": [
    "df['col_3'] = pd.date_range('2019-01-01', '2019-01-11')"
   ]
  },
  {
   "cell_type": "code",
   "execution_count": 27,
   "metadata": {},
   "outputs": [
    {
     "name": "stdout",
     "output_type": "stream",
     "text": [
      "    col_1  col_2      col_3\n",
      "0       0      0 2019-01-01\n",
      "1       1      1 2019-01-02\n",
      "2       2      4 2019-01-03\n",
      "3       3      9 2019-01-04\n",
      "4       4     16 2019-01-05\n",
      "5       5     25 2019-01-06\n",
      "6       6     36 2019-01-07\n",
      "7       7     49 2019-01-08\n",
      "8       8     64 2019-01-09\n",
      "9       9     81 2019-01-10\n",
      "10     10    100 2019-01-11\n"
     ]
    }
   ],
   "source": [
    "print(df)"
   ]
  },
  {
   "cell_type": "code",
   "execution_count": 28,
   "metadata": {},
   "outputs": [
    {
     "name": "stdout",
     "output_type": "stream",
     "text": [
      "col_1             int64\n",
      "col_2             int64\n",
      "col_3    datetime64[ns]\n",
      "dtype: object\n"
     ]
    }
   ],
   "source": [
    "print(df.dtypes)"
   ]
  },
  {
   "cell_type": "code",
   "execution_count": 29,
   "metadata": {},
   "outputs": [
    {
     "name": "stdout",
     "output_type": "stream",
     "text": [
      "col_1     5.0\n",
      "col_2    25.0\n",
      "Name: 0.5, dtype: float64\n"
     ]
    }
   ],
   "source": [
    "print(df.quantile())"
   ]
  },
  {
   "cell_type": "code",
   "execution_count": 30,
   "metadata": {},
   "outputs": [
    {
     "name": "stdout",
     "output_type": "stream",
     "text": [
      "col_1                      5\n",
      "col_2                     25\n",
      "col_3    2019-01-06 00:00:00\n",
      "Name: 0.5, dtype: object\n"
     ]
    }
   ],
   "source": [
    "print(df.quantile(numeric_only=False))"
   ]
  },
  {
   "cell_type": "code",
   "execution_count": 31,
   "metadata": {},
   "outputs": [
    {
     "name": "stdout",
     "output_type": "stream",
     "text": [
      "col_1                    2.5\n",
      "col_2                    6.5\n",
      "col_3    2019-01-03 12:00:00\n",
      "Name: 0.25, dtype: object\n"
     ]
    }
   ],
   "source": [
    "print(df.quantile(0.25, numeric_only=False))"
   ]
  },
  {
   "cell_type": "code",
   "execution_count": 32,
   "metadata": {},
   "outputs": [
    {
     "name": "stdout",
     "output_type": "stream",
     "text": [
      "col_1                      2\n",
      "col_2                      4\n",
      "col_3    2019-01-03 00:00:00\n",
      "Name: 0.25, dtype: object\n"
     ]
    }
   ],
   "source": [
    "print(df.quantile(0.25, numeric_only=False, interpolation='lower'))"
   ]
  }
 ],
 "metadata": {
  "kernelspec": {
   "display_name": "Python 3",
   "language": "python",
   "name": "python3"
  },
  "language_info": {
   "codemirror_mode": {
    "name": "ipython",
    "version": 3
   },
   "file_extension": ".py",
   "mimetype": "text/x-python",
   "name": "python",
   "nbconvert_exporter": "python",
   "pygments_lexer": "ipython3",
   "version": "3.7.3"
  }
 },
 "nbformat": 4,
 "nbformat_minor": 2
}
