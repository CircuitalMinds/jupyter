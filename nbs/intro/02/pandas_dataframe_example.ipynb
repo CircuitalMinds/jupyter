{
 "cells": [
  {
   "cell_type": "code",
   "execution_count": 1,
   "metadata": {
    "collapsed": true
   },
   "outputs": [],
   "source": [
    "import pandas as pd"
   ]
  },
  {
   "cell_type": "code",
   "execution_count": 2,
   "metadata": {},
   "outputs": [
    {
     "name": "stdout",
     "output_type": "stream",
     "text": [
      "         age state  point     sex\n",
      "name                             \n",
      "Alice     24    NY     64  Female\n",
      "Bob       42    CA     92    Male\n",
      "Charlie   18    CA     70    Male\n",
      "Dave      68    TX     70    Male\n",
      "Ellen     24    CA     88  Female\n",
      "Frank     30    NY     57    Male\n"
     ]
    }
   ],
   "source": [
    "df = pd.read_csv('data/src/sample_pandas_normal.csv', index_col=0)\n",
    "df['sex'] = ['Female', 'Male', 'Male', 'Male', 'Female', 'Male']\n",
    "print(df)"
   ]
  },
  {
   "cell_type": "code",
   "execution_count": 3,
   "metadata": {},
   "outputs": [
    {
     "name": "stdout",
     "output_type": "stream",
     "text": [
      "age      34.333333\n",
      "point    73.500000\n",
      "dtype: float64\n"
     ]
    }
   ],
   "source": [
    "print(df.mean())"
   ]
  },
  {
   "cell_type": "code",
   "execution_count": 4,
   "metadata": {},
   "outputs": [
    {
     "name": "stdout",
     "output_type": "stream",
     "text": [
      "         age        point      \n",
      "sex   Female  Male Female  Male\n",
      "state                          \n",
      "CA      24.0  30.0   88.0  81.0\n",
      "NY      24.0  30.0   64.0  57.0\n",
      "TX       NaN  68.0    NaN  70.0\n"
     ]
    }
   ],
   "source": [
    "print(df.pivot_table(index='state', columns='sex', aggfunc='mean'))"
   ]
  }
 ],
 "metadata": {
  "kernelspec": {
   "display_name": "Python 3",
   "language": "python",
   "name": "python3"
  },
  "language_info": {
   "codemirror_mode": {
    "name": "ipython",
    "version": 3
   },
   "file_extension": ".py",
   "mimetype": "text/x-python",
   "name": "python",
   "nbconvert_exporter": "python",
   "pygments_lexer": "ipython3",
   "version": "3.6.5"
  }
 },
 "nbformat": 4,
 "nbformat_minor": 2
}
