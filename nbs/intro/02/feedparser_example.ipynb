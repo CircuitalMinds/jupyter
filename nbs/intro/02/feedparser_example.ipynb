{
 "cells": [
  {
   "cell_type": "code",
   "execution_count": 1,
   "metadata": {
    "collapsed": true
   },
   "outputs": [],
   "source": [
    "import feedparser\n",
    "import pprint\n",
    "import time"
   ]
  },
  {
   "cell_type": "code",
   "execution_count": 2,
   "metadata": {},
   "outputs": [
    {
     "name": "stdout",
     "output_type": "stream",
     "text": [
      "5.2.1\n"
     ]
    }
   ],
   "source": [
    "print(feedparser.__version__)"
   ]
  },
  {
   "cell_type": "code",
   "execution_count": 3,
   "metadata": {
    "collapsed": true
   },
   "outputs": [],
   "source": [
    "d_atom = feedparser.parse('http://gihyo.jp/feed/atom')"
   ]
  },
  {
   "cell_type": "code",
   "execution_count": 4,
   "metadata": {},
   "outputs": [
    {
     "name": "stdout",
     "output_type": "stream",
     "text": [
      "<class 'feedparser.FeedParserDict'>\n"
     ]
    }
   ],
   "source": [
    "print(type(d_atom))"
   ]
  },
  {
   "cell_type": "code",
   "execution_count": 5,
   "metadata": {},
   "outputs": [
    {
     "name": "stdout",
     "output_type": "stream",
     "text": [
      "{'bozo': 0,\n",
      " 'encoding': 'UTF-8',\n",
      " 'entries': [...],\n",
      " 'feed': {...},\n",
      " 'headers': {...},\n",
      " 'href': 'http://gihyo.jp/feed/atom',\n",
      " 'namespaces': {...},\n",
      " 'status': 200,\n",
      " 'updated': 'Sat, 30 Jun 2018 07:22:01 GMT',\n",
      " 'updated_parsed': time.struct_time(tm_year=2018, tm_mon=6, tm_mday=30, tm_hour=7, tm_min=22, tm_sec=1, tm_wday=5, tm_yday=181, tm_isdst=0),\n",
      " 'version': 'atom10'}\n"
     ]
    }
   ],
   "source": [
    "pprint.pprint(d_atom, depth=1)"
   ]
  },
  {
   "cell_type": "code",
   "execution_count": 6,
   "metadata": {},
   "outputs": [
    {
     "name": "stdout",
     "output_type": "stream",
     "text": [
      "UTF-8\n"
     ]
    }
   ],
   "source": [
    "print(d_atom['encoding'])"
   ]
  },
  {
   "cell_type": "code",
   "execution_count": 7,
   "metadata": {},
   "outputs": [
    {
     "name": "stdout",
     "output_type": "stream",
     "text": [
      "UTF-8\n"
     ]
    }
   ],
   "source": [
    "print(d_atom.get('encoding'))"
   ]
  },
  {
   "cell_type": "code",
   "execution_count": 8,
   "metadata": {},
   "outputs": [
    {
     "name": "stdout",
     "output_type": "stream",
     "text": [
      "['feed', 'entries', 'bozo', 'headers', 'updated', 'updated_parsed', 'href', 'status', 'encoding', 'version', 'namespaces']\n"
     ]
    }
   ],
   "source": [
    "print(list(d_atom.keys()))"
   ]
  },
  {
   "cell_type": "code",
   "execution_count": 9,
   "metadata": {
    "collapsed": true
   },
   "outputs": [],
   "source": [
    "d_rss1 = feedparser.parse('http://gihyo.jp/feed/rss1')"
   ]
  },
  {
   "cell_type": "code",
   "execution_count": 10,
   "metadata": {},
   "outputs": [
    {
     "name": "stdout",
     "output_type": "stream",
     "text": [
      "<class 'feedparser.FeedParserDict'>\n"
     ]
    }
   ],
   "source": [
    "print(type(d_rss1))"
   ]
  },
  {
   "cell_type": "code",
   "execution_count": 11,
   "metadata": {},
   "outputs": [
    {
     "name": "stdout",
     "output_type": "stream",
     "text": [
      "{'bozo': 0,\n",
      " 'encoding': 'UTF-8',\n",
      " 'entries': [...],\n",
      " 'feed': {...},\n",
      " 'headers': {...},\n",
      " 'href': 'http://gihyo.jp/feed/rss1',\n",
      " 'namespaces': {...},\n",
      " 'status': 200,\n",
      " 'updated': 'Sat, 30 Jun 2018 07:22:01 GMT',\n",
      " 'updated_parsed': time.struct_time(tm_year=2018, tm_mon=6, tm_mday=30, tm_hour=7, tm_min=22, tm_sec=1, tm_wday=5, tm_yday=181, tm_isdst=0),\n",
      " 'version': 'rss10'}\n"
     ]
    }
   ],
   "source": [
    "pprint.pprint(d_rss1, depth=1)"
   ]
  },
  {
   "cell_type": "code",
   "execution_count": 12,
   "metadata": {
    "collapsed": true
   },
   "outputs": [],
   "source": [
    "d_rss2 = feedparser.parse('http://gihyo.jp/feed/rss2')"
   ]
  },
  {
   "cell_type": "code",
   "execution_count": 13,
   "metadata": {},
   "outputs": [
    {
     "name": "stdout",
     "output_type": "stream",
     "text": [
      "<class 'feedparser.FeedParserDict'>\n"
     ]
    }
   ],
   "source": [
    "print(type(d_rss2))"
   ]
  },
  {
   "cell_type": "code",
   "execution_count": 14,
   "metadata": {},
   "outputs": [
    {
     "name": "stdout",
     "output_type": "stream",
     "text": [
      "{'bozo': 0,\n",
      " 'encoding': 'UTF-8',\n",
      " 'entries': [...],\n",
      " 'feed': {...},\n",
      " 'headers': {...},\n",
      " 'href': 'http://gihyo.jp/feed/rss2',\n",
      " 'namespaces': {},\n",
      " 'status': 200,\n",
      " 'updated': 'Sat, 30 Jun 2018 07:22:01 GMT',\n",
      " 'updated_parsed': time.struct_time(tm_year=2018, tm_mon=6, tm_mday=30, tm_hour=7, tm_min=22, tm_sec=1, tm_wday=5, tm_yday=181, tm_isdst=0),\n",
      " 'version': 'rss20'}\n"
     ]
    }
   ],
   "source": [
    "pprint.pprint(d_rss2, depth=1)"
   ]
  },
  {
   "cell_type": "code",
   "execution_count": 15,
   "metadata": {
    "collapsed": true
   },
   "outputs": [],
   "source": [
    "feed = feedparser.parse('http://gihyo.jp/feed/atom')['feed']"
   ]
  },
  {
   "cell_type": "code",
   "execution_count": 16,
   "metadata": {},
   "outputs": [
    {
     "name": "stdout",
     "output_type": "stream",
     "text": [
      "<class 'feedparser.FeedParserDict'>\n"
     ]
    }
   ],
   "source": [
    "print(type(feed))"
   ]
  },
  {
   "cell_type": "code",
   "execution_count": 17,
   "metadata": {},
   "outputs": [
    {
     "name": "stdout",
     "output_type": "stream",
     "text": [
      "{'author': '技術評論社',\n",
      " 'author_detail': {'name': '技術評論社'},\n",
      " 'authors': [{'name': '技術評論社'}],\n",
      " 'guidislink': True,\n",
      " 'icon': 'http://gihyo.jp/assets/templates/gihyojp2007/image/header_logo_gihyo.gif',\n",
      " 'id': 'http://gihyo.jp/',\n",
      " 'link': 'http://gihyo.jp/',\n",
      " 'links': [{'href': 'http://gihyo.jp/',\n",
      "            'rel': 'alternate',\n",
      "            'type': 'text/html'}],\n",
      " 'rights': '技術評論社 2018',\n",
      " 'rights_detail': {'base': 'http://gihyo.jp/feed/atom',\n",
      "                   'language': None,\n",
      "                   'type': 'text/plain',\n",
      "                   'value': '技術評論社 2018'},\n",
      " 'subtitle': 'gihyo.jp（総合）の更新情報をお届けします',\n",
      " 'subtitle_detail': {'base': 'http://gihyo.jp/feed/atom',\n",
      "                     'language': None,\n",
      "                     'type': 'text/plain',\n",
      "                     'value': 'gihyo.jp（総合）の更新情報をお届けします'},\n",
      " 'title': 'gihyo.jp：総合',\n",
      " 'title_detail': {'base': 'http://gihyo.jp/feed/atom',\n",
      "                  'language': None,\n",
      "                  'type': 'text/plain',\n",
      "                  'value': 'gihyo.jp：総合'},\n",
      " 'updated': '2018-06-30T16:22:01+09:00',\n",
      " 'updated_parsed': time.struct_time(tm_year=2018, tm_mon=6, tm_mday=30, tm_hour=7, tm_min=22, tm_sec=1, tm_wday=5, tm_yday=181, tm_isdst=0)}\n"
     ]
    }
   ],
   "source": [
    "pprint.pprint(feed)"
   ]
  },
  {
   "cell_type": "code",
   "execution_count": 18,
   "metadata": {},
   "outputs": [
    {
     "name": "stdout",
     "output_type": "stream",
     "text": [
      "2018-06-30T16:22:01+09:00\n"
     ]
    }
   ],
   "source": [
    "print(feed['updated'])"
   ]
  },
  {
   "cell_type": "code",
   "execution_count": 19,
   "metadata": {},
   "outputs": [
    {
     "name": "stdout",
     "output_type": "stream",
     "text": [
      "<class 'str'>\n"
     ]
    }
   ],
   "source": [
    "print(type(feed['updated']))"
   ]
  },
  {
   "cell_type": "code",
   "execution_count": 20,
   "metadata": {
    "collapsed": true
   },
   "outputs": [],
   "source": [
    "t = feed['updated_parsed']"
   ]
  },
  {
   "cell_type": "code",
   "execution_count": 21,
   "metadata": {},
   "outputs": [
    {
     "name": "stdout",
     "output_type": "stream",
     "text": [
      "time.struct_time(tm_year=2018, tm_mon=6, tm_mday=30, tm_hour=7, tm_min=22, tm_sec=1, tm_wday=5, tm_yday=181, tm_isdst=0)\n"
     ]
    }
   ],
   "source": [
    "print(t)"
   ]
  },
  {
   "cell_type": "code",
   "execution_count": 22,
   "metadata": {},
   "outputs": [
    {
     "name": "stdout",
     "output_type": "stream",
     "text": [
      "<class 'time.struct_time'>\n"
     ]
    }
   ],
   "source": [
    "print(type(t))"
   ]
  },
  {
   "cell_type": "code",
   "execution_count": 23,
   "metadata": {},
   "outputs": [
    {
     "name": "stdout",
     "output_type": "stream",
     "text": [
      "2018\n"
     ]
    }
   ],
   "source": [
    "print(t.tm_year)"
   ]
  },
  {
   "cell_type": "code",
   "execution_count": 24,
   "metadata": {},
   "outputs": [
    {
     "name": "stdout",
     "output_type": "stream",
     "text": [
      "6\n"
     ]
    }
   ],
   "source": [
    "print(t.tm_mon)"
   ]
  },
  {
   "cell_type": "code",
   "execution_count": 25,
   "metadata": {},
   "outputs": [
    {
     "name": "stdout",
     "output_type": "stream",
     "text": [
      "30\n"
     ]
    }
   ],
   "source": [
    "print(t.tm_mday)"
   ]
  },
  {
   "cell_type": "code",
   "execution_count": 26,
   "metadata": {},
   "outputs": [
    {
     "name": "stdout",
     "output_type": "stream",
     "text": [
      "2018-06-30 07:22:01\n"
     ]
    }
   ],
   "source": [
    "print(time.strftime('%Y-%m-%d %H:%M:%S', t))"
   ]
  },
  {
   "cell_type": "code",
   "execution_count": 27,
   "metadata": {
    "collapsed": true
   },
   "outputs": [],
   "source": [
    "entries = feedparser.parse('http://gihyo.jp/feed/atom')['entries']"
   ]
  },
  {
   "cell_type": "code",
   "execution_count": 28,
   "metadata": {},
   "outputs": [
    {
     "name": "stdout",
     "output_type": "stream",
     "text": [
      "<class 'list'>\n"
     ]
    }
   ],
   "source": [
    "print(type(entries))"
   ]
  },
  {
   "cell_type": "code",
   "execution_count": 29,
   "metadata": {},
   "outputs": [
    {
     "name": "stdout",
     "output_type": "stream",
     "text": [
      "20\n"
     ]
    }
   ],
   "source": [
    "print(len(entries))"
   ]
  },
  {
   "cell_type": "code",
   "execution_count": 30,
   "metadata": {
    "collapsed": true
   },
   "outputs": [],
   "source": [
    "entry = entries[0]"
   ]
  },
  {
   "cell_type": "code",
   "execution_count": 31,
   "metadata": {},
   "outputs": [
    {
     "name": "stdout",
     "output_type": "stream",
     "text": [
      "<class 'feedparser.FeedParserDict'>\n"
     ]
    }
   ],
   "source": [
    "print(type(entry))"
   ]
  },
  {
   "cell_type": "code",
   "execution_count": 32,
   "metadata": {},
   "outputs": [
    {
     "name": "stdout",
     "output_type": "stream",
     "text": [
      "{'author': '階戸アキラ',\n",
      " 'author_detail': {'name': '階戸アキラ'},\n",
      " 'authors': [{'name': '階戸アキラ'}],\n",
      " 'guidislink': False,\n",
      " 'id': 'http://gihyo.jp/admin/clip/01/linux_dt/201806/29',\n",
      " 'link': 'http://gihyo.jp/admin/clip/01/linux_dt/201806/29',\n",
      " 'links': [{'href': 'http://gihyo.jp/admin/clip/01/linux_dt/201806/29',\n",
      "            'rel': 'alternate',\n",
      "            'type': 'text/html'}],\n",
      " 'published': '2018-06-29T15:46:00+09:00',\n",
      " 'published_parsed': time.struct_time(tm_year=2018, tm_mon=6, tm_mday=29, tm_hour=6, tm_min=46, tm_sec=0, tm_wday=4, tm_yday=180, tm_isdst=0),\n",
      " 'summary': 'Gentoo '\n",
      "            'Linuxは6月28日（世界標準時），同日20時20分に正体不明の何者かによってGitHubのページのコントロールが奪われたことを明らかにした。',\n",
      " 'summary_detail': {'base': 'http://gihyo.jp/feed/atom',\n",
      "                    'language': None,\n",
      "                    'type': 'text/plain',\n",
      "                    'value': 'Gentoo '\n",
      "                             'Linuxは6月28日（世界標準時），同日20時20分に正体不明の何者かによってGitHubのページのコントロールが奪われたことを明らかにした。'},\n",
      " 'tags': [{'label': None,\n",
      "           'scheme': 'http://gihyo.jp/admin/clip/01/linux_dt',\n",
      "           'term': 'Linux Daily Topics'}],\n",
      " 'title': '2018年6月29日\\u3000Gentoo，GitHubリポジトリを不正ハックされる ── Linux Daily Topics',\n",
      " 'title_detail': {'base': 'http://gihyo.jp/feed/atom',\n",
      "                  'language': None,\n",
      "                  'type': 'text/plain',\n",
      "                  'value': '2018年6月29日\\u3000Gentoo，GitHubリポジトリを不正ハックされる ── '\n",
      "                           'Linux Daily Topics'},\n",
      " 'updated': '2018-06-29T15:46:00+09:00',\n",
      " 'updated_parsed': time.struct_time(tm_year=2018, tm_mon=6, tm_mday=29, tm_hour=6, tm_min=46, tm_sec=0, tm_wday=4, tm_yday=180, tm_isdst=0)}\n"
     ]
    }
   ],
   "source": [
    "pprint.pprint(entry)"
   ]
  },
  {
   "cell_type": "code",
   "execution_count": 33,
   "metadata": {
    "collapsed": true
   },
   "outputs": [],
   "source": [
    "d = feedparser.parse('http://gihyo.jp/feed/atom')"
   ]
  },
  {
   "cell_type": "code",
   "execution_count": 34,
   "metadata": {
    "collapsed": true
   },
   "outputs": [],
   "source": [
    "urls = [entry['link'] for entry in d['entries']]"
   ]
  },
  {
   "cell_type": "code",
   "execution_count": 35,
   "metadata": {},
   "outputs": [
    {
     "name": "stdout",
     "output_type": "stream",
     "text": [
      "['http://gihyo.jp/admin/clip/01/linux_dt/201806/29',\n",
      " 'http://gihyo.jp/admin/clip/01/ubuntu-topics/201806/29',\n",
      " 'http://gihyo.jp/book/pickup/2018/0044',\n",
      " 'http://gihyo.jp/book/pickup/2018/0043',\n",
      " 'http://gihyo.jp/news/info/2018/06/2801',\n",
      " 'http://gihyo.jp/news/nr/2018/06/2801',\n",
      " 'http://gihyo.jp/dev/serial/01/continue-power/0012',\n",
      " 'http://gihyo.jp/lifestyle/clip/01/awt/201806/28',\n",
      " 'http://gihyo.jp/design/clip/01/weekly-web-tech/201806/28',\n",
      " 'http://gihyo.jp/book/pickup/2018/0042',\n",
      " 'http://gihyo.jp/book/pickup/2018/0041',\n",
      " 'http://gihyo.jp/admin/serial/01/ubuntu-recipe/0525',\n",
      " 'http://gihyo.jp/dev/serial/01/funny-play-pb/0007',\n",
      " 'http://gihyo.jp/book/pickup/2018/0040',\n",
      " 'http://gihyo.jp/book/pickup/2018/0039',\n",
      " 'http://gihyo.jp/news/info/2018/06/36908',\n",
      " 'http://gihyo.jp/news/info/2018/06/36903',\n",
      " 'http://gihyo.jp/admin/clip/01/linux_dt/201806/26',\n",
      " 'http://gihyo.jp/lifestyle/serial/01/ganshiki-soushi/0099',\n",
      " 'http://gihyo.jp/dev/serial/01/mysql-road-construction-news/0074']\n"
     ]
    }
   ],
   "source": [
    "pprint.pprint(urls)"
   ]
  },
  {
   "cell_type": "code",
   "execution_count": 36,
   "metadata": {
    "collapsed": true
   },
   "outputs": [],
   "source": [
    "titles = [entry['title'] for entry in d['entries']]"
   ]
  },
  {
   "cell_type": "code",
   "execution_count": 37,
   "metadata": {},
   "outputs": [
    {
     "name": "stdout",
     "output_type": "stream",
     "text": [
      "['2018年6月29日\\u3000Gentoo，GitHubリポジトリを不正ハックされる ── Linux Daily Topics',\n",
      " '2018年6月29日号\\u3000CanonicalのUbuntu Desktop調査，Spectre/Meltdown対策さらにさらにその後・AMD編 '\n",
      " '── Ubuntu Weekly Topics',\n",
      " 'Alexaスキル開発の勘所―進化し続けるAlexaの“今”を知る！ ── 新刊ピックアップ',\n",
      " 'IT技術変革の軌跡～変わることと変わらないこと～ ── 新刊ピックアップ',\n",
      " '「Python Boot Camp」7/21に茨城県つくば市で開催 ── インフォメーション',\n",
      " 'ヌーラボ，オンライン描画ツール「Cacoo」のUIを全面刷新――全世界300万人のユーザから得たUXリサーチ結果を反映 ── ニュースリリース',\n",
      " '最終回\\u3000エンジニアはどこに行くのか ── 継続は力なり―大器晩成エンジニアを目指して',\n",
      " '2018年6月第5週\\u3000Googleがポッドキャストへ再参入 ── Android Weekly Topics',\n",
      " '2018年6月第4週号 '\n",
      " '1位は，デザイン作業の段階に分けておすすめのUXツールを紹介，気になるネタは，Instagram、YouTubeに対抗する長尺動画サービス「IGTV」提供開始 '\n",
      " '── 週刊Webテク通信',\n",
      " 'デジ絵をはじめるなら「クリスタ」で決まり！ ── 新刊ピックアップ',\n",
      " 'ほぼほぼ理解！ ブロックチェーンの何が「スゴイ」のか？ ── 新刊ピックアップ',\n",
      " '第525回\\u3000Ubuntu 18.04 LTSリリース記念オフラインミーティング フォトレポート ── Ubuntu Weekly Recipe',\n",
      " 'File.#007\\u3000社内プチミステリ（連載第69回） ── きたみりゅうじの聞かせて珍プレー プレイバック',\n",
      " '正しいコードの書き方とは？～ウェブ業界の即戦力となるHTMLとCSSの記述方法を身につけよう！ ── 新刊ピックアップ',\n",
      " '小さな会社やお店の販促ツールが無料で作れる！ Canvaを始めよう！ ── 新刊ピックアップ',\n",
      " '書籍『統計思考の世界』『系統体系学の世界』刊行記念トークイベント， 7月20日にゲンロンカフェで開催 ── インフォメーション',\n",
      " 'Ruby bizグランプリ2018募集開始\\u3000応募は9月14日まで ── インフォメーション',\n",
      " '2018年6月26日\\u3000Kubernetesこそ未来 ―GitLab，プラットフォームをAzureからGCPへ移行 ── Linux Daily '\n",
      " 'Topics',\n",
      " '第99回\\u3000Plamo-7.0とSysvinit ── 玩式草子─ソフトウェアとたわむれる日々',\n",
      " '第74回\\u3000さまざまなMySQLのバージョンを試す ── MySQL道普請便り']\n"
     ]
    }
   ],
   "source": [
    "pprint.pprint(titles)"
   ]
  },
  {
   "cell_type": "code",
   "execution_count": 38,
   "metadata": {
    "collapsed": true
   },
   "outputs": [],
   "source": [
    "dicts = [{'url': e['link'], 'title': e['title']} for e in d['entries']]"
   ]
  },
  {
   "cell_type": "code",
   "execution_count": 39,
   "metadata": {},
   "outputs": [
    {
     "name": "stdout",
     "output_type": "stream",
     "text": [
      "[{'title': '2018年6月29日\\u3000Gentoo，GitHubリポジトリを不正ハックされる ── Linux Daily Topics',\n",
      "  'url': 'http://gihyo.jp/admin/clip/01/linux_dt/201806/29'},\n",
      " {'title': '2018年6月29日号\\u3000CanonicalのUbuntu '\n",
      "           'Desktop調査，Spectre/Meltdown対策さらにさらにその後・AMD編 ── Ubuntu Weekly Topics',\n",
      "  'url': 'http://gihyo.jp/admin/clip/01/ubuntu-topics/201806/29'},\n",
      " {'title': 'Alexaスキル開発の勘所―進化し続けるAlexaの“今”を知る！ ── 新刊ピックアップ',\n",
      "  'url': 'http://gihyo.jp/book/pickup/2018/0044'},\n",
      " {'title': 'IT技術変革の軌跡～変わることと変わらないこと～ ── 新刊ピックアップ',\n",
      "  'url': 'http://gihyo.jp/book/pickup/2018/0043'},\n",
      " {'title': '「Python Boot Camp」7/21に茨城県つくば市で開催 ── インフォメーション',\n",
      "  'url': 'http://gihyo.jp/news/info/2018/06/2801'},\n",
      " {'title': 'ヌーラボ，オンライン描画ツール「Cacoo」のUIを全面刷新――全世界300万人のユーザから得たUXリサーチ結果を反映 ── '\n",
      "           'ニュースリリース',\n",
      "  'url': 'http://gihyo.jp/news/nr/2018/06/2801'},\n",
      " {'title': '最終回\\u3000エンジニアはどこに行くのか ── 継続は力なり―大器晩成エンジニアを目指して',\n",
      "  'url': 'http://gihyo.jp/dev/serial/01/continue-power/0012'},\n",
      " {'title': '2018年6月第5週\\u3000Googleがポッドキャストへ再参入 ── Android Weekly Topics',\n",
      "  'url': 'http://gihyo.jp/lifestyle/clip/01/awt/201806/28'},\n",
      " {'title': '2018年6月第4週号 '\n",
      "           '1位は，デザイン作業の段階に分けておすすめのUXツールを紹介，気になるネタは，Instagram、YouTubeに対抗する長尺動画サービス「IGTV」提供開始 '\n",
      "           '── 週刊Webテク通信',\n",
      "  'url': 'http://gihyo.jp/design/clip/01/weekly-web-tech/201806/28'},\n",
      " {'title': 'デジ絵をはじめるなら「クリスタ」で決まり！ ── 新刊ピックアップ',\n",
      "  'url': 'http://gihyo.jp/book/pickup/2018/0042'},\n",
      " {'title': 'ほぼほぼ理解！ ブロックチェーンの何が「スゴイ」のか？ ── 新刊ピックアップ',\n",
      "  'url': 'http://gihyo.jp/book/pickup/2018/0041'},\n",
      " {'title': '第525回\\u3000Ubuntu 18.04 LTSリリース記念オフラインミーティング フォトレポート ── Ubuntu '\n",
      "           'Weekly Recipe',\n",
      "  'url': 'http://gihyo.jp/admin/serial/01/ubuntu-recipe/0525'},\n",
      " {'title': 'File.#007\\u3000社内プチミステリ（連載第69回） ── きたみりゅうじの聞かせて珍プレー プレイバック',\n",
      "  'url': 'http://gihyo.jp/dev/serial/01/funny-play-pb/0007'},\n",
      " {'title': '正しいコードの書き方とは？～ウェブ業界の即戦力となるHTMLとCSSの記述方法を身につけよう！ ── 新刊ピックアップ',\n",
      "  'url': 'http://gihyo.jp/book/pickup/2018/0040'},\n",
      " {'title': '小さな会社やお店の販促ツールが無料で作れる！ Canvaを始めよう！ ── 新刊ピックアップ',\n",
      "  'url': 'http://gihyo.jp/book/pickup/2018/0039'},\n",
      " {'title': '書籍『統計思考の世界』『系統体系学の世界』刊行記念トークイベント， 7月20日にゲンロンカフェで開催 ── インフォメーション',\n",
      "  'url': 'http://gihyo.jp/news/info/2018/06/36908'},\n",
      " {'title': 'Ruby bizグランプリ2018募集開始\\u3000応募は9月14日まで ── インフォメーション',\n",
      "  'url': 'http://gihyo.jp/news/info/2018/06/36903'},\n",
      " {'title': '2018年6月26日\\u3000Kubernetesこそ未来 ―GitLab，プラットフォームをAzureからGCPへ移行 ── '\n",
      "           'Linux Daily Topics',\n",
      "  'url': 'http://gihyo.jp/admin/clip/01/linux_dt/201806/26'},\n",
      " {'title': '第99回\\u3000Plamo-7.0とSysvinit ── 玩式草子─ソフトウェアとたわむれる日々',\n",
      "  'url': 'http://gihyo.jp/lifestyle/serial/01/ganshiki-soushi/0099'},\n",
      " {'title': '第74回\\u3000さまざまなMySQLのバージョンを試す ── MySQL道普請便り',\n",
      "  'url': 'http://gihyo.jp/dev/serial/01/mysql-road-construction-news/0074'}]\n"
     ]
    }
   ],
   "source": [
    "pprint.pprint(dicts)"
   ]
  },
  {
   "cell_type": "code",
   "execution_count": 40,
   "metadata": {},
   "outputs": [
    {
     "name": "stdout",
     "output_type": "stream",
     "text": [
      "http://gihyo.jp/admin/clip/01/linux_dt/201806/29\n"
     ]
    }
   ],
   "source": [
    "print(dicts[0]['url'])"
   ]
  },
  {
   "cell_type": "code",
   "execution_count": 41,
   "metadata": {},
   "outputs": [
    {
     "name": "stdout",
     "output_type": "stream",
     "text": [
      "2018年6月29日　Gentoo，GitHubリポジトリを不正ハックされる ── Linux Daily Topics\n"
     ]
    }
   ],
   "source": [
    "print(dicts[0]['title'])"
   ]
  },
  {
   "cell_type": "code",
   "execution_count": 42,
   "metadata": {},
   "outputs": [
    {
     "name": "stdout",
     "output_type": "stream",
     "text": [
      "True\n"
     ]
    }
   ],
   "source": [
    "print('\\u3000' == '　')"
   ]
  },
  {
   "cell_type": "code",
   "execution_count": 43,
   "metadata": {
    "collapsed": true
   },
   "outputs": [],
   "source": [
    "title = d['entries'][0]['title']"
   ]
  },
  {
   "cell_type": "code",
   "execution_count": 44,
   "metadata": {},
   "outputs": [
    {
     "name": "stdout",
     "output_type": "stream",
     "text": [
      "'2018年6月29日\\u3000Gentoo，GitHubリポジトリを不正ハックされる ── Linux Daily Topics'\n"
     ]
    }
   ],
   "source": [
    "print(repr(title))"
   ]
  },
  {
   "cell_type": "code",
   "execution_count": 45,
   "metadata": {},
   "outputs": [
    {
     "name": "stdout",
     "output_type": "stream",
     "text": [
      "2018年6月29日　Gentoo，GitHubリポジトリを不正ハックされる ── Linux Daily Topics\n"
     ]
    }
   ],
   "source": [
    "print(title)"
   ]
  },
  {
   "cell_type": "code",
   "execution_count": 46,
   "metadata": {},
   "outputs": [
    {
     "name": "stdout",
     "output_type": "stream",
     "text": [
      "2018年6月29日 Gentoo，GitHubリポジトリを不正ハックされる ── Linux Daily Topics\n"
     ]
    }
   ],
   "source": [
    "print(title.replace('\\u3000', ' '))"
   ]
  },
  {
   "cell_type": "code",
   "execution_count": 47,
   "metadata": {
    "collapsed": true
   },
   "outputs": [],
   "source": [
    "titles_space = [entry['title'].replace('\\u3000', ' ') for entry in d['entries']]"
   ]
  },
  {
   "cell_type": "code",
   "execution_count": 48,
   "metadata": {},
   "outputs": [
    {
     "name": "stdout",
     "output_type": "stream",
     "text": [
      "['2018年6月29日 Gentoo，GitHubリポジトリを不正ハックされる ── Linux Daily Topics',\n",
      " '2018年6月29日号 CanonicalのUbuntu Desktop調査，Spectre/Meltdown対策さらにさらにその後・AMD編 ── '\n",
      " 'Ubuntu Weekly Topics',\n",
      " 'Alexaスキル開発の勘所―進化し続けるAlexaの“今”を知る！ ── 新刊ピックアップ',\n",
      " 'IT技術変革の軌跡～変わることと変わらないこと～ ── 新刊ピックアップ',\n",
      " '「Python Boot Camp」7/21に茨城県つくば市で開催 ── インフォメーション',\n",
      " 'ヌーラボ，オンライン描画ツール「Cacoo」のUIを全面刷新――全世界300万人のユーザから得たUXリサーチ結果を反映 ── ニュースリリース',\n",
      " '最終回 エンジニアはどこに行くのか ── 継続は力なり―大器晩成エンジニアを目指して',\n",
      " '2018年6月第5週 Googleがポッドキャストへ再参入 ── Android Weekly Topics',\n",
      " '2018年6月第4週号 '\n",
      " '1位は，デザイン作業の段階に分けておすすめのUXツールを紹介，気になるネタは，Instagram、YouTubeに対抗する長尺動画サービス「IGTV」提供開始 '\n",
      " '── 週刊Webテク通信',\n",
      " 'デジ絵をはじめるなら「クリスタ」で決まり！ ── 新刊ピックアップ',\n",
      " 'ほぼほぼ理解！ ブロックチェーンの何が「スゴイ」のか？ ── 新刊ピックアップ',\n",
      " '第525回 Ubuntu 18.04 LTSリリース記念オフラインミーティング フォトレポート ── Ubuntu Weekly Recipe',\n",
      " 'File.#007 社内プチミステリ（連載第69回） ── きたみりゅうじの聞かせて珍プレー プレイバック',\n",
      " '正しいコードの書き方とは？～ウェブ業界の即戦力となるHTMLとCSSの記述方法を身につけよう！ ── 新刊ピックアップ',\n",
      " '小さな会社やお店の販促ツールが無料で作れる！ Canvaを始めよう！ ── 新刊ピックアップ',\n",
      " '書籍『統計思考の世界』『系統体系学の世界』刊行記念トークイベント， 7月20日にゲンロンカフェで開催 ── インフォメーション',\n",
      " 'Ruby bizグランプリ2018募集開始 応募は9月14日まで ── インフォメーション',\n",
      " '2018年6月26日 Kubernetesこそ未来 ―GitLab，プラットフォームをAzureからGCPへ移行 ── Linux Daily '\n",
      " 'Topics',\n",
      " '第99回 Plamo-7.0とSysvinit ── 玩式草子─ソフトウェアとたわむれる日々',\n",
      " '第74回 さまざまなMySQLのバージョンを試す ── MySQL道普請便り']\n"
     ]
    }
   ],
   "source": [
    "pprint.pprint(titles_space)"
   ]
  }
 ],
 "metadata": {
  "kernelspec": {
   "display_name": "Python 3",
   "language": "python",
   "name": "python3"
  },
  "language_info": {
   "codemirror_mode": {
    "name": "ipython",
    "version": 3
   },
   "file_extension": ".py",
   "mimetype": "text/x-python",
   "name": "python",
   "nbconvert_exporter": "python",
   "pygments_lexer": "ipython3",
   "version": "3.6.5"
  }
 },
 "nbformat": 4,
 "nbformat_minor": 2
}
