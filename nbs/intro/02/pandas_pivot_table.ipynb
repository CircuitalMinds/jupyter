{
 "cells": [
  {
   "cell_type": "code",
   "execution_count": 1,
   "metadata": {
    "collapsed": true
   },
   "outputs": [],
   "source": [
    "import numpy as np\n",
    "import pandas as pd"
   ]
  },
  {
   "cell_type": "code",
   "execution_count": 2,
   "metadata": {
    "collapsed": true
   },
   "outputs": [],
   "source": [
    "df = pd.read_csv('data/src/titanic_train.csv', index_col=0).drop(['Name', 'Ticket', 'SibSp', 'Parch'], axis=1)"
   ]
  },
  {
   "cell_type": "code",
   "execution_count": 3,
   "metadata": {},
   "outputs": [
    {
     "name": "stdout",
     "output_type": "stream",
     "text": [
      "             Survived  Pclass     Sex   Age     Fare Cabin Embarked\n",
      "PassengerId                                                        \n",
      "1                   0       3    male  22.0   7.2500   NaN        S\n",
      "2                   1       1  female  38.0  71.2833   C85        C\n",
      "3                   1       3  female  26.0   7.9250   NaN        S\n",
      "4                   1       1  female  35.0  53.1000  C123        S\n",
      "5                   0       3    male  35.0   8.0500   NaN        S\n"
     ]
    }
   ],
   "source": [
    "print(df.head())"
   ]
  },
  {
   "cell_type": "code",
   "execution_count": 4,
   "metadata": {},
   "outputs": [
    {
     "name": "stdout",
     "output_type": "stream",
     "text": [
      "              Age                   Fare             Survived          \n",
      "Sex        female       male      female       male    female      male\n",
      "Pclass                                                                 \n",
      "1       34.611765  41.281386  106.125798  67.226127  0.968085  0.368852\n",
      "2       28.722973  30.740707   21.970121  19.741782  0.921053  0.157407\n",
      "3       21.750000  26.507589   16.118810  12.661633  0.500000  0.135447\n"
     ]
    }
   ],
   "source": [
    "print(pd.pivot_table(df, index='Pclass', columns='Sex'))"
   ]
  },
  {
   "cell_type": "code",
   "execution_count": 5,
   "metadata": {},
   "outputs": [
    {
     "name": "stdout",
     "output_type": "stream",
     "text": [
      "<class 'pandas.core.frame.DataFrame'>\n"
     ]
    }
   ],
   "source": [
    "print(type(pd.pivot_table(df, index='Pclass', columns='Sex')))"
   ]
  },
  {
   "cell_type": "code",
   "execution_count": 6,
   "metadata": {},
   "outputs": [
    {
     "name": "stdout",
     "output_type": "stream",
     "text": [
      "Sex        female       male\n",
      "Pclass                      \n",
      "1       34.611765  41.281386\n",
      "2       28.722973  30.740707\n",
      "3       21.750000  26.507589\n"
     ]
    }
   ],
   "source": [
    "print(pd.pivot_table(df, index='Pclass', columns='Sex', values='Age'))"
   ]
  },
  {
   "cell_type": "code",
   "execution_count": 7,
   "metadata": {},
   "outputs": [
    {
     "name": "stdout",
     "output_type": "stream",
     "text": [
      "                     Age                   Fare            \n",
      "Survived               0          1           0           1\n",
      "Sex    Pclass                                              \n",
      "female 1       25.666667  34.939024  110.604167  105.978159\n",
      "       2       36.000000  28.080882   18.250000   22.288989\n",
      "       3       23.818182  19.329787   19.773093   12.464526\n",
      "male   1       44.581967  36.248000   62.894910   74.637320\n",
      "       2       33.369048  16.022000   19.488965   21.095100\n",
      "       3       27.255814  22.274211   12.204469   15.579696\n"
     ]
    }
   ],
   "source": [
    "print(pd.pivot_table(df, index=['Sex', 'Pclass'], columns='Survived', values=['Age', 'Fare']))"
   ]
  },
  {
   "cell_type": "code",
   "execution_count": 8,
   "metadata": {},
   "outputs": [
    {
     "name": "stdout",
     "output_type": "stream",
     "text": [
      "Pclass          1          2          3        All\n",
      "Sex                                               \n",
      "female  34.611765  28.722973  21.750000  27.915709\n",
      "male    41.281386  30.740707  26.507589  30.726645\n",
      "All     38.233441  29.877630  25.140620  29.699118\n"
     ]
    }
   ],
   "source": [
    "print(pd.pivot_table(df, index='Sex', columns='Pclass', values='Age', margins=True))"
   ]
  },
  {
   "cell_type": "code",
   "execution_count": 9,
   "metadata": {},
   "outputs": [
    {
     "name": "stdout",
     "output_type": "stream",
     "text": [
      "Pclass          1          2          3      Total\n",
      "Sex                                               \n",
      "female  34.611765  28.722973  21.750000  27.915709\n",
      "male    41.281386  30.740707  26.507589  30.726645\n",
      "Total   38.233441  29.877630  25.140620  29.699118\n"
     ]
    }
   ],
   "source": [
    "print(pd.pivot_table(df, index='Sex', columns='Pclass', values='Age',\n",
    "                     margins=True, margins_name='Total'))"
   ]
  },
  {
   "cell_type": "code",
   "execution_count": 10,
   "metadata": {},
   "outputs": [
    {
     "name": "stdout",
     "output_type": "stream",
     "text": [
      "Pclass     1     2     3   All\n",
      "Sex                           \n",
      "female  2.00  2.00  0.75  0.75\n",
      "male    0.92  0.67  0.42  0.42\n",
      "All     0.92  0.67  0.42  0.42\n"
     ]
    }
   ],
   "source": [
    "print(pd.pivot_table(df, index='Sex', columns='Pclass', values='Age',\n",
    "                     margins=True, aggfunc=np.min))"
   ]
  },
  {
   "cell_type": "code",
   "execution_count": 11,
   "metadata": {},
   "outputs": [
    {
     "name": "stdout",
     "output_type": "stream",
     "text": [
      "        amin                    amax                  \n",
      "Pclass     1     2     3   All     1     2     3   All\n",
      "Sex                                                   \n",
      "female  2.00  2.00  0.75  0.75  63.0  57.0  63.0  63.0\n",
      "male    0.92  0.67  0.42  0.42  80.0  70.0  74.0  80.0\n",
      "All     0.92  0.67  0.42  0.42  80.0  70.0  74.0  80.0\n"
     ]
    }
   ],
   "source": [
    "print(pd.pivot_table(df, index='Sex', columns='Pclass', values='Age',\n",
    "                     margins=True, aggfunc=[np.min, np.max]))"
   ]
  },
  {
   "cell_type": "code",
   "execution_count": 12,
   "metadata": {},
   "outputs": [
    {
     "name": "stdout",
     "output_type": "stream",
     "text": [
      "Pclass      1      2      3    All\n",
      "Sex                               \n",
      "female   94.0   76.0  144.0  261.0\n",
      "male    122.0  108.0  347.0  453.0\n",
      "All     186.0  173.0  355.0  714.0\n"
     ]
    }
   ],
   "source": [
    "print(pd.pivot_table(df, index='Sex', columns='Pclass', values='Age',\n",
    "                     margins=True, aggfunc=len))"
   ]
  },
  {
   "cell_type": "code",
   "execution_count": 13,
   "metadata": {},
   "outputs": [
    {
     "name": "stdout",
     "output_type": "stream",
     "text": [
      "891\n"
     ]
    }
   ],
   "source": [
    "print(len(df))"
   ]
  },
  {
   "cell_type": "code",
   "execution_count": 14,
   "metadata": {},
   "outputs": [
    {
     "name": "stdout",
     "output_type": "stream",
     "text": [
      "Survived      0\n",
      "Pclass        0\n",
      "Sex           0\n",
      "Age         177\n",
      "Fare          0\n",
      "Cabin       687\n",
      "Embarked      2\n",
      "dtype: int64\n"
     ]
    }
   ],
   "source": [
    "print(df.isnull().sum())"
   ]
  },
  {
   "cell_type": "code",
   "execution_count": 15,
   "metadata": {},
   "outputs": [
    {
     "name": "stdout",
     "output_type": "stream",
     "text": [
      "Pclass      1      2      3    All\n",
      "Sex                               \n",
      "female   94.0   76.0  144.0  314.0\n",
      "male    122.0  108.0  347.0  577.0\n",
      "All     216.0  184.0  491.0  891.0\n"
     ]
    }
   ],
   "source": [
    "print(pd.pivot_table(df, index='Sex', columns='Pclass', values='Age',\n",
    "                     margins=True, aggfunc=len, dropna=False))"
   ]
  }
 ],
 "metadata": {
  "kernelspec": {
   "display_name": "Python 3",
   "language": "python",
   "name": "python3"
  },
  "language_info": {
   "codemirror_mode": {
    "name": "ipython",
    "version": 3
   },
   "file_extension": ".py",
   "mimetype": "text/x-python",
   "name": "python",
   "nbconvert_exporter": "python",
   "pygments_lexer": "ipython3",
   "version": "3.6.5"
  }
 },
 "nbformat": 4,
 "nbformat_minor": 2
}
