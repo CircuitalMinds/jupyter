{
 "cells": [
  {
   "cell_type": "code",
   "execution_count": 1,
   "metadata": {},
   "outputs": [],
   "source": [
    "import pandas as pd"
   ]
  },
  {
   "cell_type": "code",
   "execution_count": 2,
   "metadata": {},
   "outputs": [],
   "source": [
    "df = pd.read_csv('data/src/sample_pandas_normal.csv', index_col=0)\n",
    "df_A, df_B = df[:3].copy(), df[3:].copy()"
   ]
  },
  {
   "cell_type": "code",
   "execution_count": 3,
   "metadata": {},
   "outputs": [
    {
     "name": "stdout",
     "output_type": "stream",
     "text": [
      "         age state  point\n",
      "name                     \n",
      "Alice     24    NY     64\n",
      "Bob       42    CA     92\n",
      "Charlie   18    CA     70\n"
     ]
    }
   ],
   "source": [
    "print(df_A)"
   ]
  },
  {
   "cell_type": "code",
   "execution_count": 4,
   "metadata": {},
   "outputs": [
    {
     "name": "stdout",
     "output_type": "stream",
     "text": [
      "       age state  point\n",
      "name                   \n",
      "Dave    68    TX     70\n",
      "Ellen   24    CA     88\n",
      "Frank   30    NY     57\n"
     ]
    }
   ],
   "source": [
    "print(df_B)"
   ]
  },
  {
   "cell_type": "code",
   "execution_count": 5,
   "metadata": {},
   "outputs": [
    {
     "name": "stdout",
     "output_type": "stream",
     "text": [
      "         age  point  state_CA  state_NY\n",
      "name                                   \n",
      "Alice     24     64         0         1\n",
      "Bob       42     92         1         0\n",
      "Charlie   18     70         1         0\n"
     ]
    }
   ],
   "source": [
    "print(pd.get_dummies(df_A))"
   ]
  },
  {
   "cell_type": "code",
   "execution_count": 6,
   "metadata": {},
   "outputs": [
    {
     "name": "stdout",
     "output_type": "stream",
     "text": [
      "       age  point  state_CA  state_NY  state_TX\n",
      "name                                           \n",
      "Dave    68     70         0         0         1\n",
      "Ellen   24     88         1         0         0\n",
      "Frank   30     57         0         1         0\n"
     ]
    }
   ],
   "source": [
    "print(pd.get_dummies(df_B))"
   ]
  },
  {
   "cell_type": "code",
   "execution_count": 7,
   "metadata": {},
   "outputs": [
    {
     "name": "stdout",
     "output_type": "stream",
     "text": [
      "{'NY', 'TX', 'CA'}\n"
     ]
    }
   ],
   "source": [
    "categories = set(df_A['state'].unique().tolist() + df_B['state'].unique().tolist())\n",
    "print(categories)"
   ]
  },
  {
   "cell_type": "code",
   "execution_count": 8,
   "metadata": {},
   "outputs": [],
   "source": [
    "df_A['state'] = pd.Categorical(df_A['state'], categories=categories)\n",
    "df_B['state'] = pd.Categorical(df_B['state'], categories=categories)"
   ]
  },
  {
   "cell_type": "code",
   "execution_count": 9,
   "metadata": {},
   "outputs": [
    {
     "name": "stdout",
     "output_type": "stream",
     "text": [
      "category\n"
     ]
    }
   ],
   "source": [
    "print(df_A['state'].dtypes)"
   ]
  },
  {
   "cell_type": "code",
   "execution_count": 10,
   "metadata": {},
   "outputs": [
    {
     "name": "stdout",
     "output_type": "stream",
     "text": [
      "         age  point  state_NY  state_TX  state_CA\n",
      "name                                             \n",
      "Alice     24     64         1         0         0\n",
      "Bob       42     92         0         0         1\n",
      "Charlie   18     70         0         0         1\n"
     ]
    }
   ],
   "source": [
    "print(pd.get_dummies(df_A))"
   ]
  },
  {
   "cell_type": "code",
   "execution_count": 11,
   "metadata": {},
   "outputs": [
    {
     "name": "stdout",
     "output_type": "stream",
     "text": [
      "       age  point  state_NY  state_TX  state_CA\n",
      "name                                           \n",
      "Dave    68     70         0         1         0\n",
      "Ellen   24     88         0         0         1\n",
      "Frank   30     57         1         0         0\n"
     ]
    }
   ],
   "source": [
    "print(pd.get_dummies(df_B))"
   ]
  },
  {
   "cell_type": "code",
   "execution_count": 12,
   "metadata": {},
   "outputs": [],
   "source": [
    "df = pd.read_csv('data/src/sample_pandas_normal.csv', index_col=0)\n",
    "df_train, df_test = df[:3].copy(), df[3:].copy()"
   ]
  },
  {
   "cell_type": "code",
   "execution_count": 13,
   "metadata": {},
   "outputs": [],
   "source": [
    "categories = df_train['state'].unique()"
   ]
  },
  {
   "cell_type": "code",
   "execution_count": 14,
   "metadata": {},
   "outputs": [],
   "source": [
    "df_train['state'] = pd.Categorical(df_train['state'], categories=categories)\n",
    "df_test['state'] = pd.Categorical(df_test['state'], categories=categories)"
   ]
  },
  {
   "cell_type": "code",
   "execution_count": 15,
   "metadata": {},
   "outputs": [
    {
     "name": "stdout",
     "output_type": "stream",
     "text": [
      "       age state  point\n",
      "name                   \n",
      "Dave    68   NaN     70\n",
      "Ellen   24    CA     88\n",
      "Frank   30    NY     57\n"
     ]
    }
   ],
   "source": [
    "print(df_test)"
   ]
  },
  {
   "cell_type": "code",
   "execution_count": 16,
   "metadata": {},
   "outputs": [
    {
     "name": "stdout",
     "output_type": "stream",
     "text": [
      "         age  point  state_NY  state_CA\n",
      "name                                   \n",
      "Alice     24     64         1         0\n",
      "Bob       42     92         0         1\n",
      "Charlie   18     70         0         1\n"
     ]
    }
   ],
   "source": [
    "print(pd.get_dummies(df_train))"
   ]
  },
  {
   "cell_type": "code",
   "execution_count": 17,
   "metadata": {},
   "outputs": [
    {
     "name": "stdout",
     "output_type": "stream",
     "text": [
      "       age  point  state_NY  state_CA\n",
      "name                                 \n",
      "Dave    68     70         0         0\n",
      "Ellen   24     88         0         1\n",
      "Frank   30     57         1         0\n"
     ]
    }
   ],
   "source": [
    "print(pd.get_dummies(df_test))"
   ]
  },
  {
   "cell_type": "code",
   "execution_count": 18,
   "metadata": {},
   "outputs": [],
   "source": [
    "df = pd.read_csv('data/src/sample_pandas_normal.csv', index_col=0)\n",
    "df_train, df_test = df[:3].copy(), df[3:].copy()"
   ]
  },
  {
   "cell_type": "code",
   "execution_count": 19,
   "metadata": {},
   "outputs": [],
   "source": [
    "cols = df_train.select_dtypes('object').columns"
   ]
  },
  {
   "cell_type": "code",
   "execution_count": 20,
   "metadata": {},
   "outputs": [],
   "source": [
    "for col in cols:\n",
    "    categories = df_train[col].unique()\n",
    "    df_train[col] = pd.Categorical(df_train[col], categories=categories)\n",
    "    df_test[col] = pd.Categorical(df_test[col], categories=categories)"
   ]
  },
  {
   "cell_type": "code",
   "execution_count": 21,
   "metadata": {},
   "outputs": [],
   "source": [
    "df_train = pd.get_dummies(df_train)\n",
    "df_test = pd.get_dummies(df_test)"
   ]
  },
  {
   "cell_type": "code",
   "execution_count": 22,
   "metadata": {},
   "outputs": [
    {
     "name": "stdout",
     "output_type": "stream",
     "text": [
      "         age  point  state_NY  state_CA\n",
      "name                                   \n",
      "Alice     24     64         1         0\n",
      "Bob       42     92         0         1\n",
      "Charlie   18     70         0         1\n"
     ]
    }
   ],
   "source": [
    "print(df_train)"
   ]
  },
  {
   "cell_type": "code",
   "execution_count": 23,
   "metadata": {},
   "outputs": [
    {
     "name": "stdout",
     "output_type": "stream",
     "text": [
      "       age  point  state_NY  state_CA\n",
      "name                                 \n",
      "Dave    68     70         0         0\n",
      "Ellen   24     88         0         1\n",
      "Frank   30     57         1         0\n"
     ]
    }
   ],
   "source": [
    "print(df_test)"
   ]
  }
 ],
 "metadata": {
  "kernelspec": {
   "display_name": "Python 3",
   "language": "python",
   "name": "python3"
  },
  "language_info": {
   "codemirror_mode": {
    "name": "ipython",
    "version": 3
   },
   "file_extension": ".py",
   "mimetype": "text/x-python",
   "name": "python",
   "nbconvert_exporter": "python",
   "pygments_lexer": "ipython3",
   "version": "3.7.4"
  }
 },
 "nbformat": 4,
 "nbformat_minor": 2
}
