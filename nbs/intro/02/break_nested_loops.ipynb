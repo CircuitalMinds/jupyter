{
 "cells": [
  {
   "cell_type": "code",
   "execution_count": 1,
   "metadata": {},
   "outputs": [],
   "source": [
    "l1 = [1, 2, 3]\n",
    "l2 = [10, 20, 30]"
   ]
  },
  {
   "cell_type": "code",
   "execution_count": 2,
   "metadata": {},
   "outputs": [
    {
     "name": "stdout",
     "output_type": "stream",
     "text": [
      "1 10\n",
      "1 20\n",
      "1 30\n",
      "2 10\n",
      "2 20\n",
      "2 30\n",
      "3 10\n",
      "3 20\n",
      "3 30\n"
     ]
    }
   ],
   "source": [
    "for i in l1:\n",
    "    for j in l2:\n",
    "        print(i, j)"
   ]
  },
  {
   "cell_type": "code",
   "execution_count": 3,
   "metadata": {},
   "outputs": [
    {
     "name": "stdout",
     "output_type": "stream",
     "text": [
      "1 10\n",
      "1 20\n",
      "1 30\n",
      "2 10\n",
      "2 20\n",
      "BREAK\n",
      "3 10\n",
      "3 20\n",
      "3 30\n"
     ]
    }
   ],
   "source": [
    "for i in l1:\n",
    "    for j in l2:\n",
    "        print(i, j)\n",
    "        if i == 2 and j == 20 :\n",
    "            print('BREAK')\n",
    "            break"
   ]
  },
  {
   "cell_type": "code",
   "execution_count": 4,
   "metadata": {},
   "outputs": [
    {
     "name": "stdout",
     "output_type": "stream",
     "text": [
      "1 10\n",
      "1 20\n",
      "1 30\n",
      "2 10\n",
      "2 20\n",
      "BREAK\n"
     ]
    }
   ],
   "source": [
    "for i in l1:\n",
    "    for j in l2:\n",
    "        print(i, j)\n",
    "        if i == 2 and j == 20:\n",
    "            print('BREAK')\n",
    "            break\n",
    "    else:\n",
    "        continue\n",
    "    break"
   ]
  },
  {
   "cell_type": "code",
   "execution_count": 5,
   "metadata": {},
   "outputs": [
    {
     "name": "stdout",
     "output_type": "stream",
     "text": [
      "Start outer loop\n",
      "-- 1 10\n",
      "-- 1 20\n",
      "-- 1 30\n",
      "-- Finish inner loop without BREAK\n",
      "Start outer loop\n",
      "-- 2 10\n",
      "-- 2 20\n",
      "-- BREAK inner loop\n",
      "BREAK outer loop\n"
     ]
    }
   ],
   "source": [
    "for i in l1:\n",
    "    print('Start outer loop')\n",
    "\n",
    "    for j in l2:\n",
    "        print('--', i, j)\n",
    "        if i == 2 and j == 20:\n",
    "            print('-- BREAK inner loop')\n",
    "            break\n",
    "    else:\n",
    "        print('-- Finish inner loop without BREAK')\n",
    "        continue\n",
    "\n",
    "    print('BREAK outer loop')\n",
    "    break"
   ]
  },
  {
   "cell_type": "code",
   "execution_count": 6,
   "metadata": {},
   "outputs": [
    {
     "name": "stdout",
     "output_type": "stream",
     "text": [
      "1 10 100\n",
      "1 10 200\n",
      "1 10 300\n",
      "1 20 100\n",
      "1 20 200\n",
      "1 20 300\n",
      "1 30 100\n",
      "1 30 200\n",
      "1 30 300\n",
      "2 10 100\n",
      "2 10 200\n",
      "2 10 300\n",
      "2 20 100\n",
      "2 20 200\n",
      "BREAK\n"
     ]
    }
   ],
   "source": [
    "l1 = [1, 2, 3]\n",
    "l2 = [10, 20, 30]\n",
    "l3 = [100, 200, 300]\n",
    "\n",
    "for i in l1:\n",
    "    for j in l2:\n",
    "        for k in l3:\n",
    "            print(i, j, k)\n",
    "            if i == 2 and j == 20 and k == 200:\n",
    "                print('BREAK')\n",
    "                break\n",
    "        else:\n",
    "            continue\n",
    "        break\n",
    "    else:\n",
    "        continue\n",
    "    break"
   ]
  },
  {
   "cell_type": "code",
   "execution_count": 7,
   "metadata": {},
   "outputs": [
    {
     "name": "stdout",
     "output_type": "stream",
     "text": [
      "1 10\n",
      "1 20\n",
      "1 30\n",
      "2 10\n",
      "2 20\n",
      "BREAK\n"
     ]
    }
   ],
   "source": [
    "l1 = [1, 2, 3]\n",
    "l2 = [10, 20, 30]\n",
    "\n",
    "flag = False\n",
    "for i in l1:\n",
    "    for j in l2:\n",
    "        print(i, j)\n",
    "        if i == 2 and j == 20:\n",
    "            flag = True\n",
    "            print('BREAK')\n",
    "            break\n",
    "    if flag:\n",
    "        break"
   ]
  },
  {
   "cell_type": "code",
   "execution_count": 8,
   "metadata": {},
   "outputs": [
    {
     "name": "stdout",
     "output_type": "stream",
     "text": [
      "1 10 100\n",
      "1 10 200\n",
      "1 10 300\n",
      "1 20 100\n",
      "1 20 200\n",
      "1 20 300\n",
      "1 30 100\n",
      "1 30 200\n",
      "1 30 300\n",
      "2 10 100\n",
      "2 10 200\n",
      "2 10 300\n",
      "2 20 100\n",
      "2 20 200\n",
      "BREAK\n"
     ]
    }
   ],
   "source": [
    "l1 = [1, 2, 3]\n",
    "l2 = [10, 20, 30]\n",
    "l3 = [100, 200, 300]\n",
    "\n",
    "flag = False\n",
    "for i in l1:\n",
    "    for j in l2:\n",
    "        for k in l3:\n",
    "            print(i, j, k)\n",
    "            if i == 2 and j == 20 and k == 200:\n",
    "                flag = True\n",
    "                print('BREAK')\n",
    "                break\n",
    "        if flag:\n",
    "            break\n",
    "    if flag:\n",
    "        break"
   ]
  }
 ],
 "metadata": {
  "kernelspec": {
   "display_name": "Python 3",
   "language": "python",
   "name": "python3"
  },
  "language_info": {
   "codemirror_mode": {
    "name": "ipython",
    "version": 3
   },
   "file_extension": ".py",
   "mimetype": "text/x-python",
   "name": "python",
   "nbconvert_exporter": "python",
   "pygments_lexer": "ipython3",
   "version": "3.7.0"
  }
 },
 "nbformat": 4,
 "nbformat_minor": 2
}
