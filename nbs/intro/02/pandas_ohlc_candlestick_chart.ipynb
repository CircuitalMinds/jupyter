{
 "cells": [
  {
   "cell_type": "code",
   "execution_count": 1,
   "metadata": {},
   "outputs": [],
   "source": [
    "import pandas as pd\n",
    "import matplotlib.pyplot as plt\n",
    "import matplotlib.dates as mdates\n",
    "import mpl_finance"
   ]
  },
  {
   "cell_type": "code",
   "execution_count": 2,
   "metadata": {},
   "outputs": [
    {
     "name": "stdout",
     "output_type": "stream",
     "text": [
      "              open      high      low   close    volume\n",
      "2017-01-03  115.80  116.3300  114.760  116.15  28781865\n",
      "2017-01-04  115.85  116.5100  115.750  116.02  21118116\n",
      "2017-01-05  115.92  116.8642  115.810  116.61  22193587\n",
      "2017-01-06  116.78  118.1600  116.470  117.91  31751900\n",
      "2017-01-09  117.95  119.4300  117.940  118.99  33561948\n",
      "...            ...       ...      ...     ...       ...\n",
      "2017-12-22  174.68  175.4240  174.500  175.01  16052615\n",
      "2017-12-26  170.80  171.4700  169.679  170.57  32968167\n",
      "2017-12-27  170.10  170.7800  169.710  170.60  21672062\n",
      "2017-12-28  171.00  171.8500  170.480  171.08  15997739\n",
      "2017-12-29  170.52  170.5900  169.220  169.23  25643711\n",
      "\n",
      "[251 rows x 5 columns]\n"
     ]
    }
   ],
   "source": [
    "df_org = pd.read_csv('data/src/aapl_2015_2019.csv', index_col=0, parse_dates=True)['2017']\n",
    "print(df_org)"
   ]
  },
  {
   "cell_type": "code",
   "execution_count": 3,
   "metadata": {},
   "outputs": [],
   "source": [
    "df = df_org.copy()"
   ]
  },
  {
   "cell_type": "code",
   "execution_count": 4,
   "metadata": {},
   "outputs": [
    {
     "name": "stdout",
     "output_type": "stream",
     "text": [
      "<class 'numpy.ndarray'>\n"
     ]
    }
   ],
   "source": [
    "df.index = mdates.date2num(df.index)\n",
    "data = df.reset_index().values\n",
    "print(type(data))"
   ]
  },
  {
   "cell_type": "code",
   "execution_count": 5,
   "metadata": {},
   "outputs": [
    {
     "name": "stdout",
     "output_type": "stream",
     "text": [
      "(251, 6)\n"
     ]
    }
   ],
   "source": [
    "print(data.shape)"
   ]
  },
  {
   "cell_type": "code",
   "execution_count": 6,
   "metadata": {},
   "outputs": [
    {
     "name": "stdout",
     "output_type": "stream",
     "text": [
      "[[7.3633200e+05 1.1580000e+02 1.1633000e+02 1.1476000e+02 1.1615000e+02\n",
      "  2.8781865e+07]\n",
      " [7.3633300e+05 1.1585000e+02 1.1651000e+02 1.1575000e+02 1.1602000e+02\n",
      "  2.1118116e+07]\n",
      " [7.3633400e+05 1.1592000e+02 1.1686420e+02 1.1581000e+02 1.1661000e+02\n",
      "  2.2193587e+07]\n",
      " ...\n",
      " [7.3669000e+05 1.7010000e+02 1.7078000e+02 1.6971000e+02 1.7060000e+02\n",
      "  2.1672062e+07]\n",
      " [7.3669100e+05 1.7100000e+02 1.7185000e+02 1.7048000e+02 1.7108000e+02\n",
      "  1.5997739e+07]\n",
      " [7.3669200e+05 1.7052000e+02 1.7059000e+02 1.6922000e+02 1.6923000e+02\n",
      "  2.5643711e+07]]\n"
     ]
    }
   ],
   "source": [
    "print(data)"
   ]
  },
  {
   "cell_type": "code",
   "execution_count": 7,
   "metadata": {},
   "outputs": [],
   "source": [
    "fig = plt.figure(figsize=(12, 4))\n",
    "ax = fig.add_subplot(1, 1, 1)\n",
    "\n",
    "mpl_finance.candlestick_ohlc(ax, data, width=2, alpha=0.5, colorup='r', colordown='b')\n",
    "\n",
    "ax.grid()\n",
    "\n",
    "locator = mdates.AutoDateLocator()\n",
    "ax.xaxis.set_major_locator(locator)\n",
    "ax.xaxis.set_major_formatter(mdates.AutoDateFormatter(locator))\n",
    "\n",
    "plt.savefig('data/dst/candlestick_day.png')\n",
    "\n",
    "plt.close()"
   ]
  },
  {
   "cell_type": "markdown",
   "metadata": {},
   "source": [
    "![](data/dst/candlestick_day.png)"
   ]
  },
  {
   "cell_type": "code",
   "execution_count": 8,
   "metadata": {},
   "outputs": [],
   "source": [
    "fig = plt.figure(figsize=(12, 4))\n",
    "ax = fig.add_subplot(1, 1, 1)\n",
    "\n",
    "mpl_finance.candlestick_ohlc(ax, data, width=2, alpha=0.5, colorup='r', colordown='b')\n",
    "\n",
    "ax.grid()\n",
    "\n",
    "ax.xaxis.set_major_locator(mdates.MonthLocator())\n",
    "ax.xaxis.set_major_formatter(mdates.DateFormatter('%Y/%m'))\n",
    "\n",
    "plt.savefig('data/dst/candlestick_day_format.png')\n",
    "\n",
    "plt.close()"
   ]
  },
  {
   "cell_type": "markdown",
   "metadata": {},
   "source": [
    "![](data/dst/candlestick_day_format.png)"
   ]
  },
  {
   "cell_type": "code",
   "execution_count": 9,
   "metadata": {},
   "outputs": [],
   "source": [
    "d_ohlcv = {'open': 'first',\n",
    "           'high': 'max',\n",
    "           'low': 'min',\n",
    "           'close': 'last',\n",
    "           'volume': 'sum'}"
   ]
  },
  {
   "cell_type": "code",
   "execution_count": 10,
   "metadata": {},
   "outputs": [],
   "source": [
    "df_w = df_org.resample('W-MON', closed='left', label='left').agg(d_ohlcv)"
   ]
  },
  {
   "cell_type": "code",
   "execution_count": 11,
   "metadata": {},
   "outputs": [],
   "source": [
    "df_w.index = mdates.date2num(df_w.index)\n",
    "data_w = df_w.reset_index().values"
   ]
  },
  {
   "cell_type": "code",
   "execution_count": 12,
   "metadata": {},
   "outputs": [],
   "source": [
    "fig = plt.figure(figsize=(12, 4))\n",
    "ax = fig.add_subplot(1, 1, 1)\n",
    "\n",
    "mpl_finance.candlestick_ohlc(ax, data_w, width=4, alpha=0.75, colorup='r', colordown='b')\n",
    "\n",
    "ax.grid()\n",
    "\n",
    "locator = mdates.AutoDateLocator()\n",
    "ax.xaxis.set_major_locator(locator)\n",
    "ax.xaxis.set_major_formatter(mdates.AutoDateFormatter(locator))\n",
    "\n",
    "plt.savefig('data/dst/candlestick_week.png')\n",
    "\n",
    "plt.close()"
   ]
  },
  {
   "cell_type": "markdown",
   "metadata": {},
   "source": [
    "![](data/dst/candlestick_week.png)"
   ]
  },
  {
   "cell_type": "code",
   "execution_count": 13,
   "metadata": {},
   "outputs": [],
   "source": [
    "fig = plt.figure(figsize=(12, 4))\n",
    "ax = fig.add_subplot(1, 1, 1)\n",
    "\n",
    "mpl_finance.candlestick_ohlc(ax, data_w, width=4, alpha=0.75, colorup='r', colordown='b')\n",
    "ax.plot(df_w.index, df_w['close'].rolling(4).mean())\n",
    "ax.plot(df_w.index, df_w['close'].rolling(13).mean())\n",
    "ax.plot(df_w.index, df_w['close'].rolling(26).mean())\n",
    "\n",
    "ax.grid()\n",
    "\n",
    "locator = mdates.AutoDateLocator()\n",
    "ax.xaxis.set_major_locator(locator)\n",
    "ax.xaxis.set_major_formatter(mdates.AutoDateFormatter(locator))\n",
    "\n",
    "plt.savefig('data/dst/candlestick_week_sma.png')\n",
    "\n",
    "plt.close()"
   ]
  },
  {
   "cell_type": "markdown",
   "metadata": {},
   "source": [
    "![](data/dst/candlestick_week_sma.png)"
   ]
  },
  {
   "cell_type": "code",
   "execution_count": 14,
   "metadata": {
    "scrolled": true
   },
   "outputs": [],
   "source": [
    "fig, axes = plt.subplots(nrows=2, ncols=1, figsize=(12, 4), sharex=True,\n",
    "                         gridspec_kw={'height_ratios': [3, 1]})\n",
    "\n",
    "mpl_finance.candlestick_ohlc(axes[0], data_w, width=4, alpha=0.75, colorup='r', colordown='b')\n",
    "\n",
    "axes[1].bar(df_w.index, df_w['volume'], width=4, color='navy')\n",
    "\n",
    "axes[0].grid()\n",
    "axes[1].grid()\n",
    "\n",
    "locator = mdates.AutoDateLocator()\n",
    "axes[0].xaxis.set_major_locator(locator)\n",
    "axes[0].xaxis.set_major_formatter(mdates.AutoDateFormatter(locator))\n",
    "\n",
    "plt.savefig('data/dst/candlestick_week_v.png')\n",
    "\n",
    "plt.close()"
   ]
  },
  {
   "cell_type": "markdown",
   "metadata": {},
   "source": [
    "![](data/dst/candlestick_week_v.png)"
   ]
  },
  {
   "cell_type": "code",
   "execution_count": 15,
   "metadata": {},
   "outputs": [],
   "source": [
    "fig, axes = plt.subplots(nrows=2, ncols=1, figsize=(12, 4), sharex=True,\n",
    "                         gridspec_kw={'height_ratios': [3, 1]})\n",
    "\n",
    "mpl_finance.candlestick_ohlc(axes[0], data_w, width=4, alpha=0.75, colorup='r', colordown='b')\n",
    "axes[0].plot(df_w.index, df_w['close'].rolling(4).mean())\n",
    "axes[0].plot(df_w.index, df_w['close'].rolling(13).mean())\n",
    "axes[0].plot(df_w.index, df_w['close'].rolling(26).mean())\n",
    "\n",
    "axes[1].bar(df_w.index, df_w['volume'], width=4, color='navy')\n",
    "\n",
    "axes[0].grid()\n",
    "axes[1].grid()\n",
    "\n",
    "locator = mdates.AutoDateLocator()\n",
    "axes[0].xaxis.set_major_locator(locator)\n",
    "axes[0].xaxis.set_major_formatter(mdates.AutoDateFormatter(locator))\n",
    "\n",
    "plt.savefig('data/dst/candlestick_week_sma_v.png')\n",
    "\n",
    "plt.close()"
   ]
  },
  {
   "cell_type": "markdown",
   "metadata": {},
   "source": [
    "![](data/dst/candlestick_week_sma_v.png)"
   ]
  }
 ],
 "metadata": {
  "kernelspec": {
   "display_name": "Python 3",
   "language": "python",
   "name": "python3"
  },
  "language_info": {
   "codemirror_mode": {
    "name": "ipython",
    "version": 3
   },
   "file_extension": ".py",
   "mimetype": "text/x-python",
   "name": "python",
   "nbconvert_exporter": "python",
   "pygments_lexer": "ipython3",
   "version": "3.7.7"
  }
 },
 "nbformat": 4,
 "nbformat_minor": 2
}
