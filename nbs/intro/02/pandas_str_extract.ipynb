{
 "cells": [
  {
   "cell_type": "code",
   "execution_count": 1,
   "metadata": {
    "collapsed": true
   },
   "outputs": [],
   "source": [
    "import pandas as pd"
   ]
  },
  {
   "cell_type": "code",
   "execution_count": 2,
   "metadata": {},
   "outputs": [
    {
     "name": "stdout",
     "output_type": "stream",
     "text": [
      "A    aaa@xxx.com\n",
      "B    bbb@yyy.com\n",
      "C    ccc@zzz.com\n",
      "D            ddd\n",
      "dtype: object\n"
     ]
    }
   ],
   "source": [
    "s_org = pd.Series(['aaa@xxx.com', 'bbb@yyy.com', 'ccc@zzz.com', 'ddd'], index=['A', 'B', 'C', 'D'])\n",
    "print(s_org)"
   ]
  },
  {
   "cell_type": "code",
   "execution_count": 3,
   "metadata": {},
   "outputs": [
    {
     "name": "stdout",
     "output_type": "stream",
     "text": [
      "     0    1    2\n",
      "A  aaa  xxx  com\n",
      "B  bbb  yyy  com\n",
      "C  ccc  zzz  com\n",
      "D  NaN  NaN  NaN\n"
     ]
    }
   ],
   "source": [
    "df = s_org.str.extract('(.+)@(.+)\\.(.+)', expand=True)\n",
    "print(df)"
   ]
  },
  {
   "cell_type": "code",
   "execution_count": 4,
   "metadata": {},
   "outputs": [
    {
     "name": "stdout",
     "output_type": "stream",
     "text": [
      "     0    1    2\n",
      "A  aaa  xxx  com\n",
      "B  bbb  yyy  com\n",
      "C  ccc  zzz  com\n",
      "D  NaN  NaN  NaN\n"
     ]
    }
   ],
   "source": [
    "df = s_org.str.extract('(.+)@(.+)\\.(.+)', expand=False)\n",
    "print(df)"
   ]
  },
  {
   "cell_type": "code",
   "execution_count": 5,
   "metadata": {},
   "outputs": [
    {
     "name": "stdout",
     "output_type": "stream",
     "text": [
      "     0\n",
      "A  aaa\n",
      "B  bbb\n",
      "C  ccc\n",
      "D  ddd\n",
      "<class 'pandas.core.frame.DataFrame'>\n"
     ]
    }
   ],
   "source": [
    "df_single = s_org.str.extract('(\\w+)', expand=True)\n",
    "print(df_single)\n",
    "print(type(df_single))"
   ]
  },
  {
   "cell_type": "code",
   "execution_count": 6,
   "metadata": {},
   "outputs": [
    {
     "name": "stdout",
     "output_type": "stream",
     "text": [
      "A    aaa\n",
      "B    bbb\n",
      "C    ccc\n",
      "D    ddd\n",
      "dtype: object\n",
      "<class 'pandas.core.series.Series'>\n"
     ]
    }
   ],
   "source": [
    "s = s_org.str.extract('(\\w+)', expand=False)\n",
    "print(s)\n",
    "print(type(s))"
   ]
  },
  {
   "cell_type": "code",
   "execution_count": 7,
   "metadata": {},
   "outputs": [
    {
     "name": "stdout",
     "output_type": "stream",
     "text": [
      "  local second_LD  TLD\n",
      "A   aaa       xxx  com\n",
      "B   bbb       yyy  com\n",
      "C   ccc       zzz  com\n",
      "D   NaN       NaN  NaN\n"
     ]
    }
   ],
   "source": [
    "df_name = s_org.str.extract('(?P<local>.*)@(?P<second_LD>.*)\\.(?P<TLD>.*)', expand=True)\n",
    "print(df_name)"
   ]
  }
 ],
 "metadata": {
  "kernelspec": {
   "display_name": "Python 3",
   "language": "python",
   "name": "python3"
  },
  "language_info": {
   "codemirror_mode": {
    "name": "ipython",
    "version": 3
   },
   "file_extension": ".py",
   "mimetype": "text/x-python",
   "name": "python",
   "nbconvert_exporter": "python",
   "pygments_lexer": "ipython3",
   "version": "3.6.5"
  }
 },
 "nbformat": 4,
 "nbformat_minor": 2
}
