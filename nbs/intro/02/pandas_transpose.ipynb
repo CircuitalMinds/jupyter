{
 "cells": [
  {
   "cell_type": "code",
   "execution_count": 1,
   "metadata": {},
   "outputs": [],
   "source": [
    "import pandas as pd"
   ]
  },
  {
   "cell_type": "code",
   "execution_count": 2,
   "metadata": {},
   "outputs": [
    {
     "name": "stdout",
     "output_type": "stream",
     "text": [
      "   X  Y\n",
      "A  0  3\n",
      "B  1  4\n",
      "C  2  5\n"
     ]
    }
   ],
   "source": [
    "df = pd.DataFrame({'X': [0, 1, 2], 'Y': [3, 4, 5]}, index=['A', 'B', 'C'])\n",
    "print(df)"
   ]
  },
  {
   "cell_type": "code",
   "execution_count": 3,
   "metadata": {},
   "outputs": [
    {
     "name": "stdout",
     "output_type": "stream",
     "text": [
      "   A  B  C\n",
      "X  0  1  2\n",
      "Y  3  4  5\n"
     ]
    }
   ],
   "source": [
    "print(df.T)"
   ]
  },
  {
   "cell_type": "code",
   "execution_count": 4,
   "metadata": {},
   "outputs": [
    {
     "name": "stdout",
     "output_type": "stream",
     "text": [
      "   A  B  C\n",
      "X  0  1  2\n",
      "Y  3  4  5\n"
     ]
    }
   ],
   "source": [
    "print(df.transpose())"
   ]
  },
  {
   "cell_type": "code",
   "execution_count": 5,
   "metadata": {},
   "outputs": [
    {
     "name": "stdout",
     "output_type": "stream",
     "text": [
      "   A  B  C\n",
      "X  0  1  2\n",
      "Y  3  4  5\n"
     ]
    }
   ],
   "source": [
    "df = df.T\n",
    "print(df)"
   ]
  },
  {
   "cell_type": "code",
   "execution_count": 6,
   "metadata": {},
   "outputs": [
    {
     "name": "stdout",
     "output_type": "stream",
     "text": [
      "   X  Y\n",
      "A  0  3\n",
      "B  1  4\n",
      "C  2  5\n"
     ]
    }
   ],
   "source": [
    "df = pd.DataFrame({'X': [0, 1, 2], 'Y': [3, 4, 5]}, index=['A', 'B', 'C'])\n",
    "print(df)"
   ]
  },
  {
   "cell_type": "code",
   "execution_count": 7,
   "metadata": {},
   "outputs": [
    {
     "name": "stdout",
     "output_type": "stream",
     "text": [
      "X    int64\n",
      "Y    int64\n",
      "dtype: object\n"
     ]
    }
   ],
   "source": [
    "print(df.dtypes)"
   ]
  },
  {
   "cell_type": "code",
   "execution_count": 8,
   "metadata": {},
   "outputs": [
    {
     "name": "stdout",
     "output_type": "stream",
     "text": [
      "   A  B  C\n",
      "X  0  1  2\n",
      "Y  3  4  5\n"
     ]
    }
   ],
   "source": [
    "print(df.T)"
   ]
  },
  {
   "cell_type": "code",
   "execution_count": 9,
   "metadata": {},
   "outputs": [
    {
     "name": "stdout",
     "output_type": "stream",
     "text": [
      "A    int64\n",
      "B    int64\n",
      "C    int64\n",
      "dtype: object\n"
     ]
    }
   ],
   "source": [
    "print(df.T.dtypes)"
   ]
  },
  {
   "cell_type": "code",
   "execution_count": 10,
   "metadata": {},
   "outputs": [
    {
     "name": "stdout",
     "output_type": "stream",
     "text": [
      "   col_int  col_float\n",
      "A        0        0.1\n",
      "B        1        0.2\n",
      "C        2        0.3\n"
     ]
    }
   ],
   "source": [
    "df_mix = pd.DataFrame({'col_int': [0, 1, 2], 'col_float': [0.1, 0.2, 0.3]}, index=['A', 'B', 'C'])\n",
    "print(df_mix)"
   ]
  },
  {
   "cell_type": "code",
   "execution_count": 11,
   "metadata": {},
   "outputs": [
    {
     "name": "stdout",
     "output_type": "stream",
     "text": [
      "col_int        int64\n",
      "col_float    float64\n",
      "dtype: object\n"
     ]
    }
   ],
   "source": [
    "print(df_mix.dtypes)"
   ]
  },
  {
   "cell_type": "code",
   "execution_count": 12,
   "metadata": {},
   "outputs": [
    {
     "name": "stdout",
     "output_type": "stream",
     "text": [
      "             A    B    C\n",
      "col_int    0.0  1.0  2.0\n",
      "col_float  0.1  0.2  0.3\n"
     ]
    }
   ],
   "source": [
    "print(df_mix.T)"
   ]
  },
  {
   "cell_type": "code",
   "execution_count": 13,
   "metadata": {},
   "outputs": [
    {
     "name": "stdout",
     "output_type": "stream",
     "text": [
      "A    float64\n",
      "B    float64\n",
      "C    float64\n",
      "dtype: object\n"
     ]
    }
   ],
   "source": [
    "print(df_mix.T.dtypes)"
   ]
  },
  {
   "cell_type": "code",
   "execution_count": 14,
   "metadata": {},
   "outputs": [
    {
     "name": "stdout",
     "output_type": "stream",
     "text": [
      "   col_int  col_float\n",
      "A      0.0        0.1\n",
      "B      1.0        0.2\n",
      "C      2.0        0.3\n"
     ]
    }
   ],
   "source": [
    "print(df_mix.T.T)"
   ]
  },
  {
   "cell_type": "code",
   "execution_count": 15,
   "metadata": {},
   "outputs": [
    {
     "name": "stdout",
     "output_type": "stream",
     "text": [
      "col_int      float64\n",
      "col_float    float64\n",
      "dtype: object\n"
     ]
    }
   ],
   "source": [
    "print(df_mix.T.T.dtypes)"
   ]
  },
  {
   "cell_type": "code",
   "execution_count": 16,
   "metadata": {},
   "outputs": [
    {
     "name": "stdout",
     "output_type": "stream",
     "text": [
      "   col_int  col_float col_str\n",
      "A        0        0.1       a\n",
      "B        1        0.2       b\n",
      "C        2        0.3       c\n"
     ]
    }
   ],
   "source": [
    "df_mix2 = pd.DataFrame({'col_int': [0, 1, 2], 'col_float': [0.1, 0.2, 0.3], 'col_str': ['a', 'b', 'c']},\n",
    "                       index=['A', 'B', 'C'])\n",
    "print(df_mix2)"
   ]
  },
  {
   "cell_type": "code",
   "execution_count": 17,
   "metadata": {},
   "outputs": [
    {
     "name": "stdout",
     "output_type": "stream",
     "text": [
      "col_int        int64\n",
      "col_float    float64\n",
      "col_str       object\n",
      "dtype: object\n"
     ]
    }
   ],
   "source": [
    "print(df_mix2.dtypes)"
   ]
  },
  {
   "cell_type": "code",
   "execution_count": 18,
   "metadata": {},
   "outputs": [
    {
     "name": "stdout",
     "output_type": "stream",
     "text": [
      "             A    B    C\n",
      "col_int      0    1    2\n",
      "col_float  0.1  0.2  0.3\n",
      "col_str      a    b    c\n"
     ]
    }
   ],
   "source": [
    "print(df_mix2.T)"
   ]
  },
  {
   "cell_type": "code",
   "execution_count": 19,
   "metadata": {},
   "outputs": [
    {
     "name": "stdout",
     "output_type": "stream",
     "text": [
      "A    object\n",
      "B    object\n",
      "C    object\n",
      "dtype: object\n"
     ]
    }
   ],
   "source": [
    "print(df_mix2.T.dtypes)"
   ]
  },
  {
   "cell_type": "code",
   "execution_count": 20,
   "metadata": {},
   "outputs": [
    {
     "name": "stdout",
     "output_type": "stream",
     "text": [
      "  col_int col_float col_str\n",
      "A       0       0.1       a\n",
      "B       1       0.2       b\n",
      "C       2       0.3       c\n"
     ]
    }
   ],
   "source": [
    "print(df_mix2.T.T)"
   ]
  },
  {
   "cell_type": "code",
   "execution_count": 21,
   "metadata": {},
   "outputs": [
    {
     "name": "stdout",
     "output_type": "stream",
     "text": [
      "col_int      object\n",
      "col_float    object\n",
      "col_str      object\n",
      "dtype: object\n"
     ]
    }
   ],
   "source": [
    "print(df_mix2.T.T.dtypes)"
   ]
  },
  {
   "cell_type": "code",
   "execution_count": 22,
   "metadata": {},
   "outputs": [
    {
     "name": "stdout",
     "output_type": "stream",
     "text": [
      "   X  Y\n",
      "A  0  3\n",
      "B  1  4\n",
      "C  2  5\n"
     ]
    }
   ],
   "source": [
    "df = pd.DataFrame({'X': [0, 1, 2], 'Y': [3, 4, 5]}, index=['A', 'B', 'C'])\n",
    "print(df)"
   ]
  },
  {
   "cell_type": "code",
   "execution_count": 23,
   "metadata": {},
   "outputs": [
    {
     "name": "stdout",
     "output_type": "stream",
     "text": [
      "   A  B  C\n",
      "X  0  1  2\n",
      "Y  3  4  5\n"
     ]
    }
   ],
   "source": [
    "df_T = df.T\n",
    "print(df_T)"
   ]
  },
  {
   "cell_type": "code",
   "execution_count": 24,
   "metadata": {},
   "outputs": [
    {
     "name": "stdout",
     "output_type": "stream",
     "text": [
      "   A  B  C\n",
      "X  0  1  2\n",
      "Y  3  4  5\n"
     ]
    }
   ],
   "source": [
    "df_transpose = df.transpose()\n",
    "print(df_transpose)"
   ]
  },
  {
   "cell_type": "code",
   "execution_count": 25,
   "metadata": {},
   "outputs": [
    {
     "name": "stdout",
     "output_type": "stream",
     "text": [
      "     X  Y\n",
      "A  100  3\n",
      "B    1  4\n",
      "C    2  5\n"
     ]
    }
   ],
   "source": [
    "df.at['A', 'X'] = 100\n",
    "print(df)"
   ]
  },
  {
   "cell_type": "code",
   "execution_count": 26,
   "metadata": {},
   "outputs": [
    {
     "name": "stdout",
     "output_type": "stream",
     "text": [
      "     A  B  C\n",
      "X  100  1  2\n",
      "Y    3  4  5\n"
     ]
    }
   ],
   "source": [
    "print(df_T)"
   ]
  },
  {
   "cell_type": "code",
   "execution_count": 27,
   "metadata": {},
   "outputs": [
    {
     "name": "stdout",
     "output_type": "stream",
     "text": [
      "     A  B  C\n",
      "X  100  1  2\n",
      "Y    3  4  5\n"
     ]
    }
   ],
   "source": [
    "print(df_transpose)"
   ]
  },
  {
   "cell_type": "code",
   "execution_count": 28,
   "metadata": {},
   "outputs": [
    {
     "name": "stdout",
     "output_type": "stream",
     "text": [
      "   col_int  col_float\n",
      "A        0        0.1\n",
      "B        1        0.2\n",
      "C        2        0.3\n"
     ]
    }
   ],
   "source": [
    "df_mix = pd.DataFrame({'col_int': [0, 1, 2], 'col_float': [0.1, 0.2, 0.3]}, index=['A', 'B', 'C'])\n",
    "print(df_mix)"
   ]
  },
  {
   "cell_type": "code",
   "execution_count": 29,
   "metadata": {},
   "outputs": [
    {
     "name": "stdout",
     "output_type": "stream",
     "text": [
      "             A    B    C\n",
      "col_int    0.0  1.0  2.0\n",
      "col_float  0.1  0.2  0.3\n"
     ]
    }
   ],
   "source": [
    "df_mix_T = df_mix.T\n",
    "print(df_mix_T)"
   ]
  },
  {
   "cell_type": "code",
   "execution_count": 30,
   "metadata": {},
   "outputs": [
    {
     "name": "stdout",
     "output_type": "stream",
     "text": [
      "             A    B    C\n",
      "col_int    0.0  1.0  2.0\n",
      "col_float  0.1  0.2  0.3\n"
     ]
    }
   ],
   "source": [
    "df_mix_transpose = df_mix.transpose()\n",
    "print(df_mix_transpose)"
   ]
  },
  {
   "cell_type": "code",
   "execution_count": 31,
   "metadata": {},
   "outputs": [
    {
     "name": "stdout",
     "output_type": "stream",
     "text": [
      "   col_int  col_float\n",
      "A      100        0.1\n",
      "B        1        0.2\n",
      "C        2        0.3\n"
     ]
    }
   ],
   "source": [
    "df_mix.at['A', 'col_int'] = 100\n",
    "print(df_mix)"
   ]
  },
  {
   "cell_type": "code",
   "execution_count": 32,
   "metadata": {},
   "outputs": [
    {
     "name": "stdout",
     "output_type": "stream",
     "text": [
      "             A    B    C\n",
      "col_int    0.0  1.0  2.0\n",
      "col_float  0.1  0.2  0.3\n"
     ]
    }
   ],
   "source": [
    "print(df_mix_T)"
   ]
  },
  {
   "cell_type": "code",
   "execution_count": 33,
   "metadata": {},
   "outputs": [
    {
     "name": "stdout",
     "output_type": "stream",
     "text": [
      "             A    B    C\n",
      "col_int    0.0  1.0  2.0\n",
      "col_float  0.1  0.2  0.3\n"
     ]
    }
   ],
   "source": [
    "print(df_mix_transpose)"
   ]
  },
  {
   "cell_type": "code",
   "execution_count": 34,
   "metadata": {},
   "outputs": [
    {
     "name": "stdout",
     "output_type": "stream",
     "text": [
      "   X  Y\n",
      "A  0  3\n",
      "B  1  4\n",
      "C  2  5\n"
     ]
    }
   ],
   "source": [
    "df = pd.DataFrame({'X': [0, 1, 2], 'Y': [3, 4, 5]}, index=['A', 'B', 'C'])\n",
    "print(df)"
   ]
  },
  {
   "cell_type": "code",
   "execution_count": 35,
   "metadata": {},
   "outputs": [
    {
     "name": "stdout",
     "output_type": "stream",
     "text": [
      "   A  B  C\n",
      "X  0  1  2\n",
      "Y  3  4  5\n"
     ]
    }
   ],
   "source": [
    "df_T_copy = df.T.copy()\n",
    "print(df_T_copy)"
   ]
  },
  {
   "cell_type": "code",
   "execution_count": 36,
   "metadata": {},
   "outputs": [
    {
     "name": "stdout",
     "output_type": "stream",
     "text": [
      "   A  B  C\n",
      "X  0  1  2\n",
      "Y  3  4  5\n"
     ]
    }
   ],
   "source": [
    "df_transpose_copy = df.transpose(copy=True)\n",
    "print(df_transpose_copy)"
   ]
  },
  {
   "cell_type": "code",
   "execution_count": 37,
   "metadata": {},
   "outputs": [
    {
     "name": "stdout",
     "output_type": "stream",
     "text": [
      "     X  Y\n",
      "A  100  3\n",
      "B    1  4\n",
      "C    2  5\n"
     ]
    }
   ],
   "source": [
    "df.at['A', 'X'] = 100\n",
    "print(df)"
   ]
  },
  {
   "cell_type": "code",
   "execution_count": 38,
   "metadata": {},
   "outputs": [
    {
     "name": "stdout",
     "output_type": "stream",
     "text": [
      "   A  B  C\n",
      "X  0  1  2\n",
      "Y  3  4  5\n"
     ]
    }
   ],
   "source": [
    "print(df_T_copy)"
   ]
  },
  {
   "cell_type": "code",
   "execution_count": 39,
   "metadata": {},
   "outputs": [
    {
     "name": "stdout",
     "output_type": "stream",
     "text": [
      "   A  B  C\n",
      "X  0  1  2\n",
      "Y  3  4  5\n"
     ]
    }
   ],
   "source": [
    "print(df_transpose_copy)"
   ]
  }
 ],
 "metadata": {
  "kernelspec": {
   "display_name": "Python 3",
   "language": "python",
   "name": "python3"
  },
  "language_info": {
   "codemirror_mode": {
    "name": "ipython",
    "version": 3
   },
   "file_extension": ".py",
   "mimetype": "text/x-python",
   "name": "python",
   "nbconvert_exporter": "python",
   "pygments_lexer": "ipython3",
   "version": "3.7.5"
  }
 },
 "nbformat": 4,
 "nbformat_minor": 2
}
