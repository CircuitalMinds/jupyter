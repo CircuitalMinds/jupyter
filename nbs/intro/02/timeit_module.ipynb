{
 "cells": [
  {
   "cell_type": "code",
   "execution_count": 1,
   "metadata": {
    "collapsed": true
   },
   "outputs": [],
   "source": [
    "import timeit"
   ]
  },
  {
   "cell_type": "code",
   "execution_count": 2,
   "metadata": {
    "collapsed": true
   },
   "outputs": [],
   "source": [
    "def test(n):\n",
    "    return sum(range(n))"
   ]
  },
  {
   "cell_type": "code",
   "execution_count": 3,
   "metadata": {
    "collapsed": true
   },
   "outputs": [],
   "source": [
    "n = 10000\n",
    "loop = 1000"
   ]
  },
  {
   "cell_type": "code",
   "execution_count": 4,
   "metadata": {},
   "outputs": [
    {
     "name": "stdout",
     "output_type": "stream",
     "text": [
      "0.0002666301020071842\n"
     ]
    }
   ],
   "source": [
    "result = timeit.timeit('test(n)', globals=globals(), number=loop)\n",
    "print(result / loop)"
   ]
  },
  {
   "cell_type": "code",
   "execution_count": 5,
   "metadata": {},
   "outputs": [
    {
     "name": "stdout",
     "output_type": "stream",
     "text": [
      "0.00027574066299712287\n"
     ]
    }
   ],
   "source": [
    "result = timeit.timeit(lambda: test(n), number=loop)\n",
    "print(result / loop)"
   ]
  },
  {
   "cell_type": "code",
   "execution_count": 6,
   "metadata": {},
   "outputs": [
    {
     "name": "stdout",
     "output_type": "stream",
     "text": [
      "0.0003999490290880203\n",
      "0.0038685189792886376\n",
      "0.03517670702422038\n"
     ]
    }
   ],
   "source": [
    "print(timeit.timeit(lambda: test(n), number=1))\n",
    "print(timeit.timeit(lambda: test(n), number=10))\n",
    "print(timeit.timeit(lambda: test(n), number=100))"
   ]
  },
  {
   "cell_type": "code",
   "execution_count": 7,
   "metadata": {},
   "outputs": [
    {
     "name": "stdout",
     "output_type": "stream",
     "text": [
      "[0.044914519996382296, 0.039663890027441084, 0.02868645201670006, 0.022745631984435022, 0.023260265996214002]\n"
     ]
    }
   ],
   "source": [
    "repeat = 5\n",
    "print(timeit.repeat(lambda: test(n), repeat=repeat, number=100))"
   ]
  },
  {
   "cell_type": "code",
   "execution_count": 8,
   "metadata": {
    "collapsed": true
   },
   "outputs": [],
   "source": [
    "# magic command\n",
    "# It works only on Jupyter / IPython."
   ]
  },
  {
   "cell_type": "code",
   "execution_count": 9,
   "metadata": {},
   "outputs": [
    {
     "name": "stdout",
     "output_type": "stream",
     "text": [
      "259 µs ± 4.87 µs per loop (mean ± std. dev. of 7 runs, 1000 loops each)\n"
     ]
    }
   ],
   "source": [
    "%timeit test(n)"
   ]
  },
  {
   "cell_type": "code",
   "execution_count": 10,
   "metadata": {},
   "outputs": [
    {
     "name": "stdout",
     "output_type": "stream",
     "text": [
      "237 µs ± 6.44 µs per loop (mean ± std. dev. of 3 runs, 10000 loops each)\n"
     ]
    }
   ],
   "source": [
    "%timeit -r 3 -n 10000 test(n)"
   ]
  },
  {
   "cell_type": "code",
   "execution_count": 11,
   "metadata": {},
   "outputs": [
    {
     "name": "stdout",
     "output_type": "stream",
     "text": [
      "19.7 µs ± 9.57 µs per loop (mean ± std. dev. of 3 runs, 10000 loops each)\n"
     ]
    }
   ],
   "source": [
    "%%timeit -r 3 -n 10000\n",
    "import numpy as np\n",
    "a = np.arange(n)\n",
    "np.sum(a)"
   ]
  }
 ],
 "metadata": {
  "kernelspec": {
   "display_name": "Python 3",
   "language": "python",
   "name": "python3"
  },
  "language_info": {
   "codemirror_mode": {
    "name": "ipython",
    "version": 3
   },
   "file_extension": ".py",
   "mimetype": "text/x-python",
   "name": "python",
   "nbconvert_exporter": "python",
   "pygments_lexer": "ipython3",
   "version": "3.6.2"
  }
 },
 "nbformat": 4,
 "nbformat_minor": 2
}
