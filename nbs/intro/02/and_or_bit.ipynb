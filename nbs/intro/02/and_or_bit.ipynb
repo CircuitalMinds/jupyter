{
 "cells": [
  {
   "cell_type": "code",
   "execution_count": 1,
   "metadata": {
    "collapsed": true
   },
   "outputs": [],
   "source": [
    "x = -9"
   ]
  },
  {
   "cell_type": "code",
   "execution_count": 2,
   "metadata": {},
   "outputs": [
    {
     "name": "stdout",
     "output_type": "stream",
     "text": [
      "-9\n",
      "-0b1001\n"
     ]
    }
   ],
   "source": [
    "print(x)\n",
    "print(bin(x))"
   ]
  },
  {
   "cell_type": "code",
   "execution_count": 3,
   "metadata": {},
   "outputs": [
    {
     "name": "stdout",
     "output_type": "stream",
     "text": [
      "0b11110111\n",
      "fff7\n"
     ]
    }
   ],
   "source": [
    "print(bin(x & 0xff))\n",
    "print(format(x & 0xffff, 'x'))"
   ]
  },
  {
   "cell_type": "code",
   "execution_count": 4,
   "metadata": {
    "collapsed": true
   },
   "outputs": [],
   "source": [
    "x = 9   # 0b1001\n",
    "y = 10  # 0b1010"
   ]
  },
  {
   "cell_type": "code",
   "execution_count": 5,
   "metadata": {},
   "outputs": [
    {
     "name": "stdout",
     "output_type": "stream",
     "text": [
      "8\n",
      "0b1000\n"
     ]
    }
   ],
   "source": [
    "print(x & y)\n",
    "print(bin(x & y))"
   ]
  },
  {
   "cell_type": "code",
   "execution_count": 6,
   "metadata": {},
   "outputs": [
    {
     "name": "stdout",
     "output_type": "stream",
     "text": [
      "11\n",
      "0b1011\n"
     ]
    }
   ],
   "source": [
    "print(x | y)\n",
    "print(bin(x | y))"
   ]
  },
  {
   "cell_type": "code",
   "execution_count": 7,
   "metadata": {},
   "outputs": [
    {
     "name": "stdout",
     "output_type": "stream",
     "text": [
      "3\n",
      "0b11\n"
     ]
    }
   ],
   "source": [
    "print(x ^ y)\n",
    "print(bin(x ^ y))"
   ]
  },
  {
   "cell_type": "code",
   "execution_count": 8,
   "metadata": {
    "collapsed": true
   },
   "outputs": [],
   "source": [
    "x = 9  # 0b1001"
   ]
  },
  {
   "cell_type": "code",
   "execution_count": 9,
   "metadata": {},
   "outputs": [
    {
     "name": "stdout",
     "output_type": "stream",
     "text": [
      "-10\n",
      "-0b1010\n"
     ]
    }
   ],
   "source": [
    "print(~x)\n",
    "print(bin(~x))"
   ]
  },
  {
   "cell_type": "code",
   "execution_count": 10,
   "metadata": {},
   "outputs": [
    {
     "name": "stdout",
     "output_type": "stream",
     "text": [
      "0b11110110\n",
      "0110\n"
     ]
    }
   ],
   "source": [
    "print(bin(~x & 0xff))\n",
    "print(format(~x & 0b1111, '04b'))"
   ]
  },
  {
   "cell_type": "code",
   "execution_count": 11,
   "metadata": {
    "collapsed": true
   },
   "outputs": [],
   "source": [
    "x = 9  # 0b1001"
   ]
  },
  {
   "cell_type": "code",
   "execution_count": 12,
   "metadata": {},
   "outputs": [
    {
     "name": "stdout",
     "output_type": "stream",
     "text": [
      "18\n",
      "0b10010\n"
     ]
    }
   ],
   "source": [
    "print(x << 1)\n",
    "print(bin(x << 1))"
   ]
  },
  {
   "cell_type": "code",
   "execution_count": 13,
   "metadata": {},
   "outputs": [
    {
     "name": "stdout",
     "output_type": "stream",
     "text": [
      "4\n",
      "0b100\n"
     ]
    }
   ],
   "source": [
    "print(x >> 1)\n",
    "print(bin(x >> 1))"
   ]
  },
  {
   "cell_type": "code",
   "execution_count": 14,
   "metadata": {},
   "outputs": [
    {
     "name": "stdout",
     "output_type": "stream",
     "text": [
      "-0b1001\n",
      "0b11110111\n"
     ]
    }
   ],
   "source": [
    "x = -9\n",
    "print(bin(x))\n",
    "print(bin(x & 0xff))"
   ]
  },
  {
   "cell_type": "code",
   "execution_count": 15,
   "metadata": {},
   "outputs": [
    {
     "name": "stdout",
     "output_type": "stream",
     "text": [
      "-18\n",
      "-0b10010\n",
      "0b11101110\n"
     ]
    }
   ],
   "source": [
    "print(x << 1)\n",
    "print(bin(x << 1))\n",
    "print(bin((x << 1) & 0xff))"
   ]
  },
  {
   "cell_type": "code",
   "execution_count": 16,
   "metadata": {},
   "outputs": [
    {
     "name": "stdout",
     "output_type": "stream",
     "text": [
      "-5\n",
      "-0b101\n",
      "0b11111011\n"
     ]
    }
   ],
   "source": [
    "print(x >> 1)\n",
    "print(bin(x >> 1))\n",
    "print(bin((x >> 1) & 0xff))"
   ]
  }
 ],
 "metadata": {
  "kernelspec": {
   "display_name": "Python 3",
   "language": "python",
   "name": "python3"
  },
  "language_info": {
   "codemirror_mode": {
    "name": "ipython",
    "version": 3
   },
   "file_extension": ".py",
   "mimetype": "text/x-python",
   "name": "python",
   "nbconvert_exporter": "python",
   "pygments_lexer": "ipython3",
   "version": "3.6.3"
  }
 },
 "nbformat": 4,
 "nbformat_minor": 2
}
