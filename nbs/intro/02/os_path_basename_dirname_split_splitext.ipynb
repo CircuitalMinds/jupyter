{
 "cells": [
  {
   "cell_type": "code",
   "execution_count": 1,
   "metadata": {},
   "outputs": [],
   "source": [
    "import os"
   ]
  },
  {
   "cell_type": "code",
   "execution_count": 2,
   "metadata": {},
   "outputs": [],
   "source": [
    "filepath = './dir/subdir/filename.ext'"
   ]
  },
  {
   "cell_type": "code",
   "execution_count": 3,
   "metadata": {},
   "outputs": [
    {
     "name": "stdout",
     "output_type": "stream",
     "text": [
      "/\n"
     ]
    }
   ],
   "source": [
    "print(os.sep)"
   ]
  },
  {
   "cell_type": "code",
   "execution_count": 4,
   "metadata": {},
   "outputs": [
    {
     "name": "stdout",
     "output_type": "stream",
     "text": [
      "True\n"
     ]
    }
   ],
   "source": [
    "print(os.sep is os.path.sep)"
   ]
  },
  {
   "cell_type": "code",
   "execution_count": 5,
   "metadata": {},
   "outputs": [
    {
     "name": "stdout",
     "output_type": "stream",
     "text": [
      "filename.ext\n"
     ]
    }
   ],
   "source": [
    "basename = os.path.basename(filepath)\n",
    "print(basename)"
   ]
  },
  {
   "cell_type": "code",
   "execution_count": 6,
   "metadata": {},
   "outputs": [
    {
     "name": "stdout",
     "output_type": "stream",
     "text": [
      "<class 'str'>\n"
     ]
    }
   ],
   "source": [
    "print(type(basename))"
   ]
  },
  {
   "cell_type": "code",
   "execution_count": 7,
   "metadata": {},
   "outputs": [
    {
     "name": "stdout",
     "output_type": "stream",
     "text": [
      "filename\n"
     ]
    }
   ],
   "source": [
    "basename_without_ext = os.path.splitext(os.path.basename(filepath))[0]\n",
    "print(basename_without_ext)"
   ]
  },
  {
   "cell_type": "code",
   "execution_count": 8,
   "metadata": {},
   "outputs": [],
   "source": [
    "filepath_tar_gz = './dir/subdir/filename.tar.gz'"
   ]
  },
  {
   "cell_type": "code",
   "execution_count": 9,
   "metadata": {},
   "outputs": [
    {
     "name": "stdout",
     "output_type": "stream",
     "text": [
      "filename.tar\n"
     ]
    }
   ],
   "source": [
    "print(os.path.splitext(os.path.basename(filepath_tar_gz))[0])"
   ]
  },
  {
   "cell_type": "code",
   "execution_count": 10,
   "metadata": {},
   "outputs": [
    {
     "name": "stdout",
     "output_type": "stream",
     "text": [
      "filename\n"
     ]
    }
   ],
   "source": [
    "print(os.path.basename(filepath_tar_gz).split('.', 1)[0])"
   ]
  },
  {
   "cell_type": "code",
   "execution_count": 11,
   "metadata": {},
   "outputs": [
    {
     "name": "stdout",
     "output_type": "stream",
     "text": [
      "./dir/subdir\n"
     ]
    }
   ],
   "source": [
    "dirname = os.path.dirname(filepath)\n",
    "print(dirname)"
   ]
  },
  {
   "cell_type": "code",
   "execution_count": 12,
   "metadata": {},
   "outputs": [
    {
     "name": "stdout",
     "output_type": "stream",
     "text": [
      "<class 'str'>\n"
     ]
    }
   ],
   "source": [
    "print(type(dirname))"
   ]
  },
  {
   "cell_type": "code",
   "execution_count": 13,
   "metadata": {},
   "outputs": [
    {
     "name": "stdout",
     "output_type": "stream",
     "text": [
      "subdir\n"
     ]
    }
   ],
   "source": [
    "subdirname = os.path.basename(os.path.dirname(filepath))\n",
    "print(subdirname)"
   ]
  },
  {
   "cell_type": "code",
   "execution_count": 14,
   "metadata": {},
   "outputs": [
    {
     "name": "stdout",
     "output_type": "stream",
     "text": [
      "('./dir/subdir', 'filename.ext')\n"
     ]
    }
   ],
   "source": [
    "base_dir_pair = os.path.split(filepath)\n",
    "print(base_dir_pair)"
   ]
  },
  {
   "cell_type": "code",
   "execution_count": 15,
   "metadata": {},
   "outputs": [
    {
     "name": "stdout",
     "output_type": "stream",
     "text": [
      "<class 'tuple'>\n"
     ]
    }
   ],
   "source": [
    "print(type(base_dir_pair))"
   ]
  },
  {
   "cell_type": "code",
   "execution_count": 16,
   "metadata": {},
   "outputs": [
    {
     "name": "stdout",
     "output_type": "stream",
     "text": [
      "True\n"
     ]
    }
   ],
   "source": [
    "print(os.path.split(filepath)[0] == os.path.dirname(filepath))"
   ]
  },
  {
   "cell_type": "code",
   "execution_count": 17,
   "metadata": {},
   "outputs": [
    {
     "name": "stdout",
     "output_type": "stream",
     "text": [
      "True\n"
     ]
    }
   ],
   "source": [
    "print(os.path.split(filepath)[1] == os.path.basename(filepath))"
   ]
  },
  {
   "cell_type": "code",
   "execution_count": 18,
   "metadata": {},
   "outputs": [
    {
     "name": "stdout",
     "output_type": "stream",
     "text": [
      "./dir/subdir\n"
     ]
    }
   ],
   "source": [
    "dirname, basename = os.path.split(filepath)\n",
    "print(dirname)"
   ]
  },
  {
   "cell_type": "code",
   "execution_count": 19,
   "metadata": {},
   "outputs": [
    {
     "name": "stdout",
     "output_type": "stream",
     "text": [
      "filename.ext\n"
     ]
    }
   ],
   "source": [
    "print(basename)"
   ]
  },
  {
   "cell_type": "code",
   "execution_count": 20,
   "metadata": {},
   "outputs": [
    {
     "name": "stdout",
     "output_type": "stream",
     "text": [
      "('./dir', 'subdir')\n"
     ]
    }
   ],
   "source": [
    "dirpath_without_sep = './dir/subdir'\n",
    "print(os.path.split(dirpath_without_sep))"
   ]
  },
  {
   "cell_type": "code",
   "execution_count": 21,
   "metadata": {},
   "outputs": [
    {
     "name": "stdout",
     "output_type": "stream",
     "text": [
      "subdir\n"
     ]
    }
   ],
   "source": [
    "print(os.path.basename(dirpath_without_sep))"
   ]
  },
  {
   "cell_type": "code",
   "execution_count": 22,
   "metadata": {},
   "outputs": [
    {
     "name": "stdout",
     "output_type": "stream",
     "text": [
      "('./dir/subdir', '')\n"
     ]
    }
   ],
   "source": [
    "dirpath_with_sep = './dir/subdir/'\n",
    "print(os.path.split(dirpath_with_sep))"
   ]
  },
  {
   "cell_type": "code",
   "execution_count": 23,
   "metadata": {},
   "outputs": [
    {
     "name": "stdout",
     "output_type": "stream",
     "text": [
      "subdir\n"
     ]
    }
   ],
   "source": [
    "print(os.path.basename(os.path.dirname(dirpath_with_sep)))"
   ]
  },
  {
   "cell_type": "code",
   "execution_count": 24,
   "metadata": {},
   "outputs": [
    {
     "name": "stdout",
     "output_type": "stream",
     "text": [
      "('./dir/subdir/filename', '.ext')\n"
     ]
    }
   ],
   "source": [
    "root_ext_pair = os.path.splitext(filepath)\n",
    "print(root_ext_pair)"
   ]
  },
  {
   "cell_type": "code",
   "execution_count": 25,
   "metadata": {},
   "outputs": [
    {
     "name": "stdout",
     "output_type": "stream",
     "text": [
      "<class 'tuple'>\n"
     ]
    }
   ],
   "source": [
    "print(type(root_ext_pair))"
   ]
  },
  {
   "cell_type": "code",
   "execution_count": 26,
   "metadata": {},
   "outputs": [
    {
     "name": "stdout",
     "output_type": "stream",
     "text": [
      "./dir/subdir/filename\n"
     ]
    }
   ],
   "source": [
    "root, ext = os.path.splitext(filepath)\n",
    "print(root)"
   ]
  },
  {
   "cell_type": "code",
   "execution_count": 27,
   "metadata": {},
   "outputs": [
    {
     "name": "stdout",
     "output_type": "stream",
     "text": [
      ".ext\n"
     ]
    }
   ],
   "source": [
    "print(ext)"
   ]
  },
  {
   "cell_type": "code",
   "execution_count": 28,
   "metadata": {},
   "outputs": [
    {
     "name": "stdout",
     "output_type": "stream",
     "text": [
      "./dir/subdir/filename.ext\n"
     ]
    }
   ],
   "source": [
    "path = root + ext\n",
    "print(path)"
   ]
  },
  {
   "cell_type": "code",
   "execution_count": 29,
   "metadata": {},
   "outputs": [
    {
     "name": "stdout",
     "output_type": "stream",
     "text": [
      "./dir/subdir/filename.jpg\n"
     ]
    }
   ],
   "source": [
    "other_ext_filepath = os.path.splitext(filepath)[0] + '.jpg'\n",
    "print(other_ext_filepath)"
   ]
  },
  {
   "cell_type": "code",
   "execution_count": 30,
   "metadata": {},
   "outputs": [
    {
     "name": "stdout",
     "output_type": "stream",
     "text": [
      "ext\n"
     ]
    }
   ],
   "source": [
    "ext_without_dot = os.path.splitext(filepath)[1][1:]\n",
    "print(ext_without_dot)"
   ]
  },
  {
   "cell_type": "code",
   "execution_count": 31,
   "metadata": {},
   "outputs": [
    {
     "name": "stdout",
     "output_type": "stream",
     "text": [
      "('./dir/subdir/filename.tar', '.gz')\n"
     ]
    }
   ],
   "source": [
    "print(os.path.splitext(filepath_tar_gz))"
   ]
  },
  {
   "cell_type": "code",
   "execution_count": 32,
   "metadata": {},
   "outputs": [
    {
     "name": "stdout",
     "output_type": "stream",
     "text": [
      "['', '/dir/subdir/filename.tar.gz']\n"
     ]
    }
   ],
   "source": [
    "print(filepath_tar_gz.split('.', 1))"
   ]
  },
  {
   "cell_type": "code",
   "execution_count": 33,
   "metadata": {},
   "outputs": [
    {
     "name": "stdout",
     "output_type": "stream",
     "text": [
      "./dir/subdir/filename\n"
     ]
    }
   ],
   "source": [
    "dirname, basename = os.path.split(filepath_tar_gz)\n",
    "basename_without_ext, ext = basename.split('.', 1)\n",
    "path_without_ext = os.path.join(dirname, basename_without_ext)\n",
    "print(path_without_ext)"
   ]
  },
  {
   "cell_type": "code",
   "execution_count": 34,
   "metadata": {},
   "outputs": [
    {
     "name": "stdout",
     "output_type": "stream",
     "text": [
      "tar.gz\n"
     ]
    }
   ],
   "source": [
    "print(ext)"
   ]
  },
  {
   "cell_type": "code",
   "execution_count": 35,
   "metadata": {},
   "outputs": [
    {
     "name": "stdout",
     "output_type": "stream",
     "text": [
      ".tar.gz\n"
     ]
    }
   ],
   "source": [
    "ext_with_dot = '.' + ext\n",
    "print(ext_with_dot)"
   ]
  },
  {
   "cell_type": "code",
   "execution_count": 36,
   "metadata": {},
   "outputs": [
    {
     "name": "stdout",
     "output_type": "stream",
     "text": [
      "dir/subdir/filename.ext\n"
     ]
    }
   ],
   "source": [
    "path = os.path.join('dir', 'subdir', 'filename.ext')\n",
    "print(path)"
   ]
  },
  {
   "cell_type": "code",
   "execution_count": 37,
   "metadata": {},
   "outputs": [
    {
     "name": "stdout",
     "output_type": "stream",
     "text": [
      "./dir/subdir/other_file.ext\n"
     ]
    }
   ],
   "source": [
    "other_filepath = os.path.join(os.path.dirname(filepath), 'other_file.ext')\n",
    "print(other_filepath)"
   ]
  }
 ],
 "metadata": {
  "kernelspec": {
   "display_name": "Python 3",
   "language": "python",
   "name": "python3"
  },
  "language_info": {
   "codemirror_mode": {
    "name": "ipython",
    "version": 3
   },
   "file_extension": ".py",
   "mimetype": "text/x-python",
   "name": "python",
   "nbconvert_exporter": "python",
   "pygments_lexer": "ipython3",
   "version": "3.7.5"
  }
 },
 "nbformat": 4,
 "nbformat_minor": 2
}
