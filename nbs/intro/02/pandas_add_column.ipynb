{
 "cells": [
  {
   "cell_type": "code",
   "execution_count": 1,
   "metadata": {},
   "outputs": [],
   "source": [
    "import pandas as pd"
   ]
  },
  {
   "cell_type": "code",
   "execution_count": 2,
   "metadata": {},
   "outputs": [
    {
     "name": "stdout",
     "output_type": "stream",
     "text": [
      "        A   B   C\n",
      "ONE    A1  B1  C1\n",
      "TWO    A2  B2  C2\n",
      "THREE  A3  B3  C3\n"
     ]
    }
   ],
   "source": [
    "df = pd.DataFrame({'A': ['A1', 'A2', 'A3'],\n",
    "                   'B': ['B1', 'B2', 'B3'],\n",
    "                   'C': ['C1', 'C2', 'C3']},\n",
    "                  index=['ONE', 'TWO', 'THREE'])\n",
    "print(df)"
   ]
  },
  {
   "cell_type": "code",
   "execution_count": 3,
   "metadata": {},
   "outputs": [
    {
     "name": "stdout",
     "output_type": "stream",
     "text": [
      "       A   B   C\n",
      "ONE    0  B1  C1\n",
      "TWO    0  B2  C2\n",
      "THREE  0  B3  C3\n"
     ]
    }
   ],
   "source": [
    "df['A'] = 0\n",
    "print(df)"
   ]
  },
  {
   "cell_type": "code",
   "execution_count": 4,
   "metadata": {},
   "outputs": [
    {
     "name": "stdout",
     "output_type": "stream",
     "text": [
      "       A   B   C  D\n",
      "ONE    0  B1  C1  0\n",
      "TWO    0  B2  C2  0\n",
      "THREE  0  B3  C3  0\n"
     ]
    }
   ],
   "source": [
    "df['D'] = 0\n",
    "print(df)"
   ]
  },
  {
   "cell_type": "code",
   "execution_count": 5,
   "metadata": {},
   "outputs": [
    {
     "name": "stdout",
     "output_type": "stream",
     "text": [
      "       A   B   C  D  E\n",
      "ONE    0  B1  C1  0  0\n",
      "TWO    0  B2  C2  0  1\n",
      "THREE  0  B3  C3  0  2\n"
     ]
    }
   ],
   "source": [
    "df['E'] = [0, 1, 2]\n",
    "print(df)"
   ]
  },
  {
   "cell_type": "code",
   "execution_count": 6,
   "metadata": {},
   "outputs": [],
   "source": [
    "# df['F'] = [0, 1, 2, 3]\n",
    "# ValueError: Length of values does not match length of index"
   ]
  },
  {
   "cell_type": "code",
   "execution_count": 7,
   "metadata": {},
   "outputs": [
    {
     "name": "stdout",
     "output_type": "stream",
     "text": [
      "       A   B   C  D  E     F   G\n",
      "ONE    0  B1  C1  0  0  B1C1  b1\n",
      "TWO    0  B2  C2  0  1  B2C2  b2\n",
      "THREE  0  B3  C3  0  2  B3C3  b3\n"
     ]
    }
   ],
   "source": [
    "df['F'] = df['B'] + df['C']\n",
    "df['G'] = df['B'].str.lower()\n",
    "print(df)"
   ]
  },
  {
   "cell_type": "code",
   "execution_count": 8,
   "metadata": {},
   "outputs": [
    {
     "name": "stdout",
     "output_type": "stream",
     "text": [
      "TWO      X2\n",
      "THREE    X3\n",
      "FOUR     X4\n",
      "Name: X, dtype: object\n"
     ]
    }
   ],
   "source": [
    "s = pd.Series(['X2', 'X3', 'X4'], index=['TWO', 'THREE', 'FOUR'], name='X')\n",
    "print(s)"
   ]
  },
  {
   "cell_type": "code",
   "execution_count": 9,
   "metadata": {},
   "outputs": [
    {
     "name": "stdout",
     "output_type": "stream",
     "text": [
      "       A   B   C  D  E     F   G    H\n",
      "ONE    0  B1  C1  0  0  B1C1  b1  NaN\n",
      "TWO    0  B2  C2  0  1  B2C2  b2   X2\n",
      "THREE  0  B3  C3  0  2  B3C3  b3   X3\n"
     ]
    }
   ],
   "source": [
    "df['H'] = s\n",
    "print(df)"
   ]
  },
  {
   "cell_type": "code",
   "execution_count": 10,
   "metadata": {},
   "outputs": [
    {
     "name": "stdout",
     "output_type": "stream",
     "text": [
      "['X2' 'X3' 'X4']\n"
     ]
    }
   ],
   "source": [
    "print(s.values)"
   ]
  },
  {
   "cell_type": "code",
   "execution_count": 11,
   "metadata": {},
   "outputs": [
    {
     "name": "stdout",
     "output_type": "stream",
     "text": [
      "       A   B   C  D  E     F   G    H   I\n",
      "ONE    0  B1  C1  0  0  B1C1  b1  NaN  X2\n",
      "TWO    0  B2  C2  0  1  B2C2  b2   X2  X3\n",
      "THREE  0  B3  C3  0  2  B3C3  b3   X3  X4\n"
     ]
    }
   ],
   "source": [
    "df['I'] = s.values\n",
    "print(df)"
   ]
  },
  {
   "cell_type": "code",
   "execution_count": 12,
   "metadata": {},
   "outputs": [],
   "source": [
    "df = pd.DataFrame({'A': ['A1', 'A2', 'A3'],\n",
    "                   'B': ['B1', 'B2', 'B3'],\n",
    "                   'C': ['C1', 'C2', 'C3']},\n",
    "                  index=['ONE', 'TWO', 'THREE'])"
   ]
  },
  {
   "cell_type": "code",
   "execution_count": 13,
   "metadata": {},
   "outputs": [
    {
     "name": "stdout",
     "output_type": "stream",
     "text": [
      "       A   B   C\n",
      "ONE    0  B1  C1\n",
      "TWO    0  B2  C2\n",
      "THREE  0  B3  C3\n"
     ]
    }
   ],
   "source": [
    "print(df.assign(A=0))"
   ]
  },
  {
   "cell_type": "code",
   "execution_count": 14,
   "metadata": {},
   "outputs": [
    {
     "name": "stdout",
     "output_type": "stream",
     "text": [
      "        A   B   C  D\n",
      "ONE    A1  B1  C1  0\n",
      "TWO    A2  B2  C2  0\n",
      "THREE  A3  B3  C3  0\n"
     ]
    }
   ],
   "source": [
    "print(df.assign(D=0))"
   ]
  },
  {
   "cell_type": "code",
   "execution_count": 15,
   "metadata": {},
   "outputs": [
    {
     "name": "stdout",
     "output_type": "stream",
     "text": [
      "        A   B   C\n",
      "ONE    A1  B1  C1\n",
      "TWO    A2  B2  C2\n",
      "THREE  A3  B3  C3\n"
     ]
    }
   ],
   "source": [
    "print(df)"
   ]
  },
  {
   "cell_type": "code",
   "execution_count": 16,
   "metadata": {},
   "outputs": [
    {
     "name": "stdout",
     "output_type": "stream",
     "text": [
      "TWO      X2\n",
      "THREE    X3\n",
      "FOUR     X4\n",
      "Name: X, dtype: object\n"
     ]
    }
   ],
   "source": [
    "s = pd.Series(['X2', 'X3', 'X4'], index=['TWO', 'THREE', 'FOUR'], name='X')\n",
    "print(s)"
   ]
  },
  {
   "cell_type": "code",
   "execution_count": 17,
   "metadata": {},
   "outputs": [
    {
     "name": "stdout",
     "output_type": "stream",
     "text": [
      "        A   B    C  D  E    F   G     H\n",
      "ONE    A1  B1  XXX  0  0  NaN  X2  A1B1\n",
      "TWO    A2  B2  XXX  0  1   X2  X3  A2B2\n",
      "THREE  A3  B3  XXX  0  2   X3  X4  A3B3\n"
     ]
    }
   ],
   "source": [
    "df_new = df.assign(C='XXX',\n",
    "                   D=0, E=[0, 1, 2],\n",
    "                   F=s, G=s.values,\n",
    "                   H=df['A'] + df['B'])\n",
    "print(df_new)"
   ]
  },
  {
   "cell_type": "code",
   "execution_count": 18,
   "metadata": {},
   "outputs": [],
   "source": [
    "df = pd.DataFrame({'A': ['A1', 'A2', 'A3'],\n",
    "                   'B': ['B1', 'B2', 'B3'],\n",
    "                   'C': ['C1', 'C2', 'C3']},\n",
    "                  index=['ONE', 'TWO', 'THREE'])\n",
    "s = pd.Series(['X2', 'X3', 'X4'], index=['TWO', 'THREE', 'FOUR'], name='X')"
   ]
  },
  {
   "cell_type": "code",
   "execution_count": 19,
   "metadata": {},
   "outputs": [
    {
     "name": "stdout",
     "output_type": "stream",
     "text": [
      "       D   A   B   C\n",
      "ONE    0  A1  B1  C1\n",
      "TWO    0  A2  B2  C2\n",
      "THREE  0  A3  B3  C3\n"
     ]
    }
   ],
   "source": [
    "df.insert(0, 'D', 0)\n",
    "print(df)"
   ]
  },
  {
   "cell_type": "code",
   "execution_count": 20,
   "metadata": {},
   "outputs": [
    {
     "name": "stdout",
     "output_type": "stream",
     "text": [
      "       D   A   B   C    E\n",
      "ONE    0  A1  B1  C1  NaN\n",
      "TWO    0  A2  B2  C2   X2\n",
      "THREE  0  A3  B3  C3   X3\n"
     ]
    }
   ],
   "source": [
    "df.insert(len(df.columns), 'E', s)\n",
    "print(df)"
   ]
  },
  {
   "cell_type": "code",
   "execution_count": 21,
   "metadata": {},
   "outputs": [],
   "source": [
    "# df.insert(10, 'F', 10)\n",
    "# ValueError: cannot insert F, already exists"
   ]
  },
  {
   "cell_type": "code",
   "execution_count": 22,
   "metadata": {},
   "outputs": [],
   "source": [
    "# df.insert(-1, 'F', 10)\n",
    "# ValueError: unbounded slice"
   ]
  },
  {
   "cell_type": "code",
   "execution_count": 23,
   "metadata": {},
   "outputs": [],
   "source": [
    "# df.insert(0, 'D', 10)\n",
    "# ValueError: cannot insert D, already exists"
   ]
  },
  {
   "cell_type": "code",
   "execution_count": 24,
   "metadata": {},
   "outputs": [
    {
     "name": "stdout",
     "output_type": "stream",
     "text": [
      "        D  D   A   B   C    E\n",
      "ONE    10  0  A1  B1  C1  NaN\n",
      "TWO    10  0  A2  B2  C2   X2\n",
      "THREE  10  0  A3  B3  C3   X3\n"
     ]
    }
   ],
   "source": [
    "df.insert(0, 'D', 10, allow_duplicates=True)\n",
    "print(df)"
   ]
  },
  {
   "cell_type": "code",
   "execution_count": 25,
   "metadata": {},
   "outputs": [],
   "source": [
    "df = pd.DataFrame({'A': ['A1', 'A2', 'A3'],\n",
    "                   'B': ['B1', 'B2', 'B3'],\n",
    "                   'C': ['C1', 'C2', 'C3']},\n",
    "                  index=['ONE', 'TWO', 'THREE'])\n",
    "s = pd.Series(['X2', 'X3', 'X4'], index=['TWO', 'THREE', 'FOUR'], name='X')"
   ]
  },
  {
   "cell_type": "code",
   "execution_count": 26,
   "metadata": {},
   "outputs": [
    {
     "name": "stdout",
     "output_type": "stream",
     "text": [
      "         A    B    C    X\n",
      "ONE     A1   B1   C1  NaN\n",
      "TWO     A2   B2   C2   X2\n",
      "THREE   A3   B3   C3   X3\n",
      "FOUR   NaN  NaN  NaN   X4\n"
     ]
    }
   ],
   "source": [
    "print(pd.concat([df, s], axis=1))"
   ]
  },
  {
   "cell_type": "code",
   "execution_count": 27,
   "metadata": {},
   "outputs": [
    {
     "name": "stdout",
     "output_type": "stream",
     "text": [
      "        A   B   C   X\n",
      "TWO    A2  B2  C2  X2\n",
      "THREE  A3  B3  C3  X3\n"
     ]
    }
   ],
   "source": [
    "print(pd.concat([df, s], axis=1, join='inner'))"
   ]
  },
  {
   "cell_type": "code",
   "execution_count": 28,
   "metadata": {},
   "outputs": [],
   "source": [
    "s1 = pd.Series(['X1', 'X2', 'X3'], index=df.index, name='X')\n",
    "s2 = pd.Series(['Y1', 'Y2', 'Y3'], index=df.index, name='Y')"
   ]
  },
  {
   "cell_type": "code",
   "execution_count": 29,
   "metadata": {},
   "outputs": [
    {
     "name": "stdout",
     "output_type": "stream",
     "text": [
      "        A   B   C   X   Y\n",
      "ONE    A1  B1  C1  X1  Y1\n",
      "TWO    A2  B2  C2  X2  Y2\n",
      "THREE  A3  B3  C3  X3  Y3\n"
     ]
    }
   ],
   "source": [
    "print(pd.concat([df, s1, s2], axis=1))"
   ]
  },
  {
   "cell_type": "code",
   "execution_count": 30,
   "metadata": {},
   "outputs": [
    {
     "name": "stdout",
     "output_type": "stream",
     "text": [
      "       df_col1  df_col2\n",
      "ONE          0        0\n",
      "TWO          0        1\n",
      "THREE        0        2\n"
     ]
    }
   ],
   "source": [
    "df2 = pd.DataFrame({'df_col1': 0, 'df_col2': range(3)}, index=df.index)\n",
    "print(df2)"
   ]
  },
  {
   "cell_type": "code",
   "execution_count": 31,
   "metadata": {},
   "outputs": [
    {
     "name": "stdout",
     "output_type": "stream",
     "text": [
      "        A   B   C  df_col1  df_col2\n",
      "ONE    A1  B1  C1        0        0\n",
      "TWO    A2  B2  C2        0        1\n",
      "THREE  A3  B3  C3        0        2\n"
     ]
    }
   ],
   "source": [
    "print(pd.concat([df, df2], axis=1))"
   ]
  }
 ],
 "metadata": {
  "kernelspec": {
   "display_name": "Python 3",
   "language": "python",
   "name": "python3"
  },
  "language_info": {
   "codemirror_mode": {
    "name": "ipython",
    "version": 3
   },
   "file_extension": ".py",
   "mimetype": "text/x-python",
   "name": "python",
   "nbconvert_exporter": "python",
   "pygments_lexer": "ipython3",
   "version": "3.7.7"
  }
 },
 "nbformat": 4,
 "nbformat_minor": 2
}
