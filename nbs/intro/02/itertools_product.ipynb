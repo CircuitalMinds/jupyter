{
 "cells": [
  {
   "cell_type": "code",
   "execution_count": 1,
   "metadata": {},
   "outputs": [],
   "source": [
    "import itertools\n",
    "import pprint"
   ]
  },
  {
   "cell_type": "code",
   "execution_count": 2,
   "metadata": {},
   "outputs": [],
   "source": [
    "l1 = ['a', 'b', 'c']\n",
    "l2 = ['X', 'Y', 'Z']"
   ]
  },
  {
   "cell_type": "code",
   "execution_count": 3,
   "metadata": {},
   "outputs": [],
   "source": [
    "p = itertools.product(l1, l2)"
   ]
  },
  {
   "cell_type": "code",
   "execution_count": 4,
   "metadata": {},
   "outputs": [
    {
     "name": "stdout",
     "output_type": "stream",
     "text": [
      "<itertools.product object at 0x1026edd80>\n"
     ]
    }
   ],
   "source": [
    "print(p)"
   ]
  },
  {
   "cell_type": "code",
   "execution_count": 5,
   "metadata": {},
   "outputs": [
    {
     "name": "stdout",
     "output_type": "stream",
     "text": [
      "<class 'itertools.product'>\n"
     ]
    }
   ],
   "source": [
    "print(type(p))"
   ]
  },
  {
   "cell_type": "code",
   "execution_count": 6,
   "metadata": {},
   "outputs": [
    {
     "name": "stdout",
     "output_type": "stream",
     "text": [
      "('a', 'X')\n",
      "('a', 'Y')\n",
      "('a', 'Z')\n",
      "('b', 'X')\n",
      "('b', 'Y')\n",
      "('b', 'Z')\n",
      "('c', 'X')\n",
      "('c', 'Y')\n",
      "('c', 'Z')\n"
     ]
    }
   ],
   "source": [
    "for v in p:\n",
    "    print(v)"
   ]
  },
  {
   "cell_type": "code",
   "execution_count": 7,
   "metadata": {},
   "outputs": [],
   "source": [
    "for v in p:\n",
    "    print(v)"
   ]
  },
  {
   "cell_type": "code",
   "execution_count": 8,
   "metadata": {},
   "outputs": [
    {
     "name": "stdout",
     "output_type": "stream",
     "text": [
      "a X\n",
      "a Y\n",
      "a Z\n",
      "b X\n",
      "b Y\n",
      "b Z\n",
      "c X\n",
      "c Y\n",
      "c Z\n"
     ]
    }
   ],
   "source": [
    "for v1, v2 in itertools.product(l1, l2):\n",
    "    print(v1, v2)"
   ]
  },
  {
   "cell_type": "code",
   "execution_count": 9,
   "metadata": {},
   "outputs": [
    {
     "name": "stdout",
     "output_type": "stream",
     "text": [
      "a X\n",
      "a Y\n",
      "a Z\n",
      "b X\n",
      "b Y\n",
      "b Z\n",
      "c X\n",
      "c Y\n",
      "c Z\n"
     ]
    }
   ],
   "source": [
    "for v1 in l1:\n",
    "    for v2 in l2:\n",
    "        print(v1, v2)"
   ]
  },
  {
   "cell_type": "code",
   "execution_count": 10,
   "metadata": {},
   "outputs": [],
   "source": [
    "l_p = list(itertools.product(l1, l2))"
   ]
  },
  {
   "cell_type": "code",
   "execution_count": 11,
   "metadata": {},
   "outputs": [
    {
     "name": "stdout",
     "output_type": "stream",
     "text": [
      "[('a', 'X'),\n",
      " ('a', 'Y'),\n",
      " ('a', 'Z'),\n",
      " ('b', 'X'),\n",
      " ('b', 'Y'),\n",
      " ('b', 'Z'),\n",
      " ('c', 'X'),\n",
      " ('c', 'Y'),\n",
      " ('c', 'Z')]\n"
     ]
    }
   ],
   "source": [
    "pprint.pprint(l_p)"
   ]
  },
  {
   "cell_type": "code",
   "execution_count": 12,
   "metadata": {},
   "outputs": [
    {
     "name": "stdout",
     "output_type": "stream",
     "text": [
      "<class 'list'>\n"
     ]
    }
   ],
   "source": [
    "print(type(l_p))"
   ]
  },
  {
   "cell_type": "code",
   "execution_count": 13,
   "metadata": {},
   "outputs": [
    {
     "name": "stdout",
     "output_type": "stream",
     "text": [
      "<class 'tuple'>\n"
     ]
    }
   ],
   "source": [
    "print(type(l_p[0]))"
   ]
  },
  {
   "cell_type": "code",
   "execution_count": 14,
   "metadata": {},
   "outputs": [],
   "source": [
    "t = ('one', 'two')\n",
    "d = {'key1': 'value1', 'key2': 'value2'}\n",
    "r = range(2)"
   ]
  },
  {
   "cell_type": "code",
   "execution_count": 15,
   "metadata": {},
   "outputs": [],
   "source": [
    "l_p = list(itertools.product(t, d, r))"
   ]
  },
  {
   "cell_type": "code",
   "execution_count": 16,
   "metadata": {},
   "outputs": [
    {
     "name": "stdout",
     "output_type": "stream",
     "text": [
      "[('one', 'key1', 0),\n",
      " ('one', 'key1', 1),\n",
      " ('one', 'key2', 0),\n",
      " ('one', 'key2', 1),\n",
      " ('two', 'key1', 0),\n",
      " ('two', 'key1', 1),\n",
      " ('two', 'key2', 0),\n",
      " ('two', 'key2', 1)]\n"
     ]
    }
   ],
   "source": [
    "pprint.pprint(l_p)"
   ]
  },
  {
   "cell_type": "code",
   "execution_count": 17,
   "metadata": {},
   "outputs": [],
   "source": [
    "l1 = ['a', 'b']"
   ]
  },
  {
   "cell_type": "code",
   "execution_count": 18,
   "metadata": {},
   "outputs": [
    {
     "name": "stdout",
     "output_type": "stream",
     "text": [
      "[('a', 'a', 'a'),\n",
      " ('a', 'a', 'b'),\n",
      " ('a', 'b', 'a'),\n",
      " ('a', 'b', 'b'),\n",
      " ('b', 'a', 'a'),\n",
      " ('b', 'a', 'b'),\n",
      " ('b', 'b', 'a'),\n",
      " ('b', 'b', 'b')]\n"
     ]
    }
   ],
   "source": [
    "pprint.pprint(list(itertools.product(l1, repeat=3)))"
   ]
  },
  {
   "cell_type": "code",
   "execution_count": 19,
   "metadata": {},
   "outputs": [
    {
     "name": "stdout",
     "output_type": "stream",
     "text": [
      "[('a', 'a', 'a'),\n",
      " ('a', 'a', 'b'),\n",
      " ('a', 'b', 'a'),\n",
      " ('a', 'b', 'b'),\n",
      " ('b', 'a', 'a'),\n",
      " ('b', 'a', 'b'),\n",
      " ('b', 'b', 'a'),\n",
      " ('b', 'b', 'b')]\n"
     ]
    }
   ],
   "source": [
    "pprint.pprint(list(itertools.product(l1, l1, l1)))"
   ]
  },
  {
   "cell_type": "code",
   "execution_count": 20,
   "metadata": {},
   "outputs": [],
   "source": [
    "l1 = ['a', 'b']\n",
    "l2 = ['X', 'Y']"
   ]
  },
  {
   "cell_type": "code",
   "execution_count": 21,
   "metadata": {},
   "outputs": [
    {
     "name": "stdout",
     "output_type": "stream",
     "text": [
      "[('a', 'X', 'a', 'X'),\n",
      " ('a', 'X', 'a', 'Y'),\n",
      " ('a', 'X', 'b', 'X'),\n",
      " ('a', 'X', 'b', 'Y'),\n",
      " ('a', 'Y', 'a', 'X'),\n",
      " ('a', 'Y', 'a', 'Y'),\n",
      " ('a', 'Y', 'b', 'X'),\n",
      " ('a', 'Y', 'b', 'Y'),\n",
      " ('b', 'X', 'a', 'X'),\n",
      " ('b', 'X', 'a', 'Y'),\n",
      " ('b', 'X', 'b', 'X'),\n",
      " ('b', 'X', 'b', 'Y'),\n",
      " ('b', 'Y', 'a', 'X'),\n",
      " ('b', 'Y', 'a', 'Y'),\n",
      " ('b', 'Y', 'b', 'X'),\n",
      " ('b', 'Y', 'b', 'Y')]\n"
     ]
    }
   ],
   "source": [
    "pprint.pprint(list(itertools.product(l1, l2, repeat=2)))"
   ]
  },
  {
   "cell_type": "code",
   "execution_count": 22,
   "metadata": {},
   "outputs": [
    {
     "name": "stdout",
     "output_type": "stream",
     "text": [
      "[('a', 'X', 'a', 'X'),\n",
      " ('a', 'X', 'a', 'Y'),\n",
      " ('a', 'X', 'b', 'X'),\n",
      " ('a', 'X', 'b', 'Y'),\n",
      " ('a', 'Y', 'a', 'X'),\n",
      " ('a', 'Y', 'a', 'Y'),\n",
      " ('a', 'Y', 'b', 'X'),\n",
      " ('a', 'Y', 'b', 'Y'),\n",
      " ('b', 'X', 'a', 'X'),\n",
      " ('b', 'X', 'a', 'Y'),\n",
      " ('b', 'X', 'b', 'X'),\n",
      " ('b', 'X', 'b', 'Y'),\n",
      " ('b', 'Y', 'a', 'X'),\n",
      " ('b', 'Y', 'a', 'Y'),\n",
      " ('b', 'Y', 'b', 'X'),\n",
      " ('b', 'Y', 'b', 'Y')]\n"
     ]
    }
   ],
   "source": [
    "pprint.pprint(list(itertools.product(l1, l2, l1, l2)))"
   ]
  }
 ],
 "metadata": {
  "kernelspec": {
   "display_name": "Python 3",
   "language": "python",
   "name": "python3"
  },
  "language_info": {
   "codemirror_mode": {
    "name": "ipython",
    "version": 3
   },
   "file_extension": ".py",
   "mimetype": "text/x-python",
   "name": "python",
   "nbconvert_exporter": "python",
   "pygments_lexer": "ipython3",
   "version": "3.7.0"
  }
 },
 "nbformat": 4,
 "nbformat_minor": 2
}
