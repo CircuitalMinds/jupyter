{
 "cells": [
  {
   "cell_type": "code",
   "execution_count": 1,
   "metadata": {},
   "outputs": [],
   "source": [
    "import pandas as pd"
   ]
  },
  {
   "cell_type": "code",
   "execution_count": 2,
   "metadata": {},
   "outputs": [],
   "source": [
    "df = pd.read_csv('data/src/sample_pandas_normal.csv', index_col=0)"
   ]
  },
  {
   "cell_type": "code",
   "execution_count": 3,
   "metadata": {},
   "outputs": [
    {
     "name": "stdout",
     "output_type": "stream",
     "text": [
      "         age state  point\n",
      "name                     \n",
      "Alice     24    NY     64\n",
      "Bob       42    CA     92\n",
      "Charlie   18    CA     70\n",
      "Dave      68    TX     70\n",
      "Ellen     24    CA     88\n",
      "Frank     30    NY     57\n"
     ]
    }
   ],
   "source": [
    "print(df)"
   ]
  },
  {
   "cell_type": "code",
   "execution_count": 4,
   "metadata": {},
   "outputs": [],
   "source": [
    "df = df.assign(point_ratio=df['point'] / 100)\n",
    "df = df.drop(columns='state')\n",
    "df = df.sort_values('age')\n",
    "df = df.head(3)"
   ]
  },
  {
   "cell_type": "code",
   "execution_count": 5,
   "metadata": {},
   "outputs": [
    {
     "name": "stdout",
     "output_type": "stream",
     "text": [
      "         age  point  point_ratio\n",
      "name                            \n",
      "Charlie   18     70         0.70\n",
      "Alice     24     64         0.64\n",
      "Ellen     24     88         0.88\n"
     ]
    }
   ],
   "source": [
    "print(df)"
   ]
  },
  {
   "cell_type": "code",
   "execution_count": 6,
   "metadata": {},
   "outputs": [],
   "source": [
    "df_mc = pd.read_csv('data/src/sample_pandas_normal.csv', index_col=0).assign(point_ratio=df['point'] / 100).drop(columns='state').sort_values('age').head(3)"
   ]
  },
  {
   "cell_type": "code",
   "execution_count": 7,
   "metadata": {},
   "outputs": [
    {
     "name": "stdout",
     "output_type": "stream",
     "text": [
      "         age  point  point_ratio\n",
      "name                            \n",
      "Charlie   18     70         0.70\n",
      "Alice     24     64         0.64\n",
      "Ellen     24     88         0.88\n"
     ]
    }
   ],
   "source": [
    "print(df_mc)"
   ]
  },
  {
   "cell_type": "code",
   "execution_count": 8,
   "metadata": {},
   "outputs": [],
   "source": [
    "df_mc_break = pd.read_csv(\n",
    "    'data/src/sample_pandas_normal.csv',\n",
    "    index_col=0\n",
    ").assign(\n",
    "    point_ratio=df['point'] / 100\n",
    ").drop(\n",
    "    columns='state'\n",
    ").sort_values(\n",
    "    'age'\n",
    ").head(\n",
    "    3\n",
    ")"
   ]
  },
  {
   "cell_type": "code",
   "execution_count": 9,
   "metadata": {},
   "outputs": [
    {
     "name": "stdout",
     "output_type": "stream",
     "text": [
      "         age  point  point_ratio\n",
      "name                            \n",
      "Charlie   18     70         0.70\n",
      "Alice     24     64         0.64\n",
      "Ellen     24     88         0.88\n"
     ]
    }
   ],
   "source": [
    "print(df_mc_break)"
   ]
  },
  {
   "cell_type": "code",
   "execution_count": 10,
   "metadata": {},
   "outputs": [],
   "source": [
    "# df_mc_break = pd.read_csv(\n",
    "#     'data/src/sample_\n",
    "#     pandas_normal.csv',\n",
    "#     index_col=0\n",
    "# ).assign(\n",
    "#     point_ratio=df['point'] / 100\n",
    "# ).drop(\n",
    "#     columns='state'\n",
    "# ).sort_values(\n",
    "#     'age'\n",
    "# ).head(\n",
    "#     3\n",
    "# )\n",
    "# SyntaxError: EOL while scanning string literal"
   ]
  },
  {
   "cell_type": "code",
   "execution_count": 11,
   "metadata": {},
   "outputs": [],
   "source": [
    "dfdf_mc_break_mc = pd.read_csv(\n",
    "    'data/src/sample_pandas_normal.csv', index_col=0\n",
    ").assign(\n",
    "    point_ratio=df['point'] / 100\n",
    ").drop(columns='state').sort_values('age').head(3)"
   ]
  },
  {
   "cell_type": "code",
   "execution_count": 12,
   "metadata": {},
   "outputs": [
    {
     "name": "stdout",
     "output_type": "stream",
     "text": [
      "         age  point  point_ratio\n",
      "name                            \n",
      "Charlie   18     70         0.70\n",
      "Alice     24     64         0.64\n",
      "Ellen     24     88         0.88\n"
     ]
    }
   ],
   "source": [
    "print(df_mc_break)"
   ]
  },
  {
   "cell_type": "code",
   "execution_count": 13,
   "metadata": {},
   "outputs": [],
   "source": [
    "df_mc_break_backslash = pd.read_csv('data/src/sample_pandas_normal.csv', index_col=0) \\\n",
    "                          .assign(point_ratio=df['point'] / 100) \\\n",
    "                          .drop(columns='state') \\\n",
    "                          .sort_values('age') \\\n",
    "                          .head(3)"
   ]
  },
  {
   "cell_type": "code",
   "execution_count": 14,
   "metadata": {},
   "outputs": [
    {
     "name": "stdout",
     "output_type": "stream",
     "text": [
      "         age  point  point_ratio\n",
      "name                            \n",
      "Charlie   18     70         0.70\n",
      "Alice     24     64         0.64\n",
      "Ellen     24     88         0.88\n"
     ]
    }
   ],
   "source": [
    "print(df_mc_break_backslash)"
   ]
  },
  {
   "cell_type": "code",
   "execution_count": 15,
   "metadata": {},
   "outputs": [],
   "source": [
    "df_mc_break_parens = (\n",
    "    pd.read_csv('data/src/sample_pandas_normal.csv', index_col=0)\n",
    "    .assign(point_ratio=df['point'] / 100)\n",
    "    .drop(columns='state')\n",
    "    .sort_values('age')\n",
    "    .head(3)\n",
    ")"
   ]
  },
  {
   "cell_type": "code",
   "execution_count": 16,
   "metadata": {},
   "outputs": [
    {
     "name": "stdout",
     "output_type": "stream",
     "text": [
      "         age  point  point_ratio\n",
      "name                            \n",
      "Charlie   18     70         0.70\n",
      "Alice     24     64         0.64\n",
      "Ellen     24     88         0.88\n"
     ]
    }
   ],
   "source": [
    "print(df_mc_break_parens)"
   ]
  },
  {
   "cell_type": "code",
   "execution_count": 17,
   "metadata": {},
   "outputs": [],
   "source": [
    "df_mc_break_parens = (pd.read_csv('data/src/sample_pandas_normal.csv', index_col=0)\n",
    "                      .assign(point_ratio=df['point'] / 100)\n",
    "                      .drop(columns='state')\n",
    "                      .sort_values('age')\n",
    "                      .head(3))"
   ]
  },
  {
   "cell_type": "code",
   "execution_count": 18,
   "metadata": {},
   "outputs": [
    {
     "name": "stdout",
     "output_type": "stream",
     "text": [
      "         age  point  point_ratio\n",
      "name                            \n",
      "Charlie   18     70         0.70\n",
      "Alice     24     64         0.64\n",
      "Ellen     24     88         0.88\n"
     ]
    }
   ],
   "source": [
    "print(df_mc_break_parens)"
   ]
  },
  {
   "cell_type": "code",
   "execution_count": 19,
   "metadata": {},
   "outputs": [],
   "source": [
    "df_mc_break_parens = (\n",
    "    pd.read_csv('data/src/sample_pandas_normal.csv', index_col=0).\n",
    "    assign(point_ratio=df['point'] / 100).\n",
    "    drop(columns='state').\n",
    "    sort_values('age').\n",
    "    head(3)\n",
    ")"
   ]
  },
  {
   "cell_type": "code",
   "execution_count": 20,
   "metadata": {},
   "outputs": [
    {
     "name": "stdout",
     "output_type": "stream",
     "text": [
      "         age  point  point_ratio\n",
      "name                            \n",
      "Charlie   18     70         0.70\n",
      "Alice     24     64         0.64\n",
      "Ellen     24     88         0.88\n"
     ]
    }
   ],
   "source": [
    "print(df_mc_break_parens)"
   ]
  }
 ],
 "metadata": {
  "kernelspec": {
   "display_name": "Python 3",
   "language": "python",
   "name": "python3"
  },
  "language_info": {
   "codemirror_mode": {
    "name": "ipython",
    "version": 3
   },
   "file_extension": ".py",
   "mimetype": "text/x-python",
   "name": "python",
   "nbconvert_exporter": "python",
   "pygments_lexer": "ipython3",
   "version": "3.7.4"
  }
 },
 "nbformat": 4,
 "nbformat_minor": 2
}
