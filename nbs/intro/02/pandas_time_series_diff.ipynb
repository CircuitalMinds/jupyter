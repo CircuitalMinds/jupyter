{
 "cells": [
  {
   "cell_type": "code",
   "execution_count": 1,
   "metadata": {},
   "outputs": [],
   "source": [
    "import pandas as pd"
   ]
  },
  {
   "cell_type": "code",
   "execution_count": 2,
   "metadata": {},
   "outputs": [],
   "source": [
    "df = pd.DataFrame({'value': range(1, 16, 2)},\n",
    "                  index=pd.date_range('2018-01-01', '2018-01-15', freq='2D'))"
   ]
  },
  {
   "cell_type": "code",
   "execution_count": 3,
   "metadata": {},
   "outputs": [
    {
     "name": "stdout",
     "output_type": "stream",
     "text": [
      "            value\n",
      "2018-01-01      1\n",
      "2018-01-03      3\n",
      "2018-01-05      5\n",
      "2018-01-07      7\n",
      "2018-01-09      9\n",
      "2018-01-11     11\n",
      "2018-01-13     13\n",
      "2018-01-15     15\n"
     ]
    }
   ],
   "source": [
    "print(df)"
   ]
  },
  {
   "cell_type": "code",
   "execution_count": 4,
   "metadata": {},
   "outputs": [
    {
     "name": "stdout",
     "output_type": "stream",
     "text": [
      "            value\n",
      "2018-01-01    NaN\n",
      "2018-01-03    2.0\n",
      "2018-01-05    2.0\n",
      "2018-01-07    2.0\n",
      "2018-01-09    2.0\n",
      "2018-01-11    2.0\n",
      "2018-01-13    2.0\n",
      "2018-01-15    2.0\n"
     ]
    }
   ],
   "source": [
    "print(df.diff())"
   ]
  },
  {
   "cell_type": "code",
   "execution_count": 5,
   "metadata": {},
   "outputs": [
    {
     "name": "stdout",
     "output_type": "stream",
     "text": [
      "            value\n",
      "2018-01-01    NaN\n",
      "2018-01-03    NaN\n",
      "2018-01-05    4.0\n",
      "2018-01-07    4.0\n",
      "2018-01-09    4.0\n",
      "2018-01-11    4.0\n",
      "2018-01-13    4.0\n",
      "2018-01-15    4.0\n"
     ]
    }
   ],
   "source": [
    "print(df.diff(2))"
   ]
  },
  {
   "cell_type": "code",
   "execution_count": 6,
   "metadata": {},
   "outputs": [
    {
     "name": "stdout",
     "output_type": "stream",
     "text": [
      "            value\n",
      "2018-01-03      1\n",
      "2018-01-05      3\n",
      "2018-01-07      5\n",
      "2018-01-09      7\n",
      "2018-01-11      9\n",
      "2018-01-13     11\n",
      "2018-01-15     13\n",
      "2018-01-17     15\n"
     ]
    }
   ],
   "source": [
    "print(df.shift(freq='2D'))"
   ]
  },
  {
   "cell_type": "code",
   "execution_count": 7,
   "metadata": {},
   "outputs": [
    {
     "name": "stdout",
     "output_type": "stream",
     "text": [
      "            value\n",
      "2018-01-01    NaN\n",
      "2018-01-03    2.0\n",
      "2018-01-05    2.0\n",
      "2018-01-07    2.0\n",
      "2018-01-09    2.0\n",
      "2018-01-11    2.0\n",
      "2018-01-13    2.0\n",
      "2018-01-15    2.0\n",
      "2018-01-17    NaN\n"
     ]
    }
   ],
   "source": [
    "print(df - df.shift(freq='2D'))"
   ]
  },
  {
   "cell_type": "code",
   "execution_count": 8,
   "metadata": {},
   "outputs": [
    {
     "name": "stdout",
     "output_type": "stream",
     "text": [
      "            value\n",
      "2018-01-01    NaN\n",
      "2018-01-02    NaN\n",
      "2018-01-03    NaN\n",
      "2018-01-04    NaN\n",
      "2018-01-05    NaN\n",
      "2018-01-06    NaN\n",
      "2018-01-07    NaN\n",
      "2018-01-08    NaN\n",
      "2018-01-09    NaN\n",
      "2018-01-10    NaN\n",
      "2018-01-11    NaN\n",
      "2018-01-12    NaN\n",
      "2018-01-13    NaN\n",
      "2018-01-14    NaN\n",
      "2018-01-15    NaN\n",
      "2018-01-16    NaN\n"
     ]
    }
   ],
   "source": [
    "print(df - df.shift(freq='D'))"
   ]
  }
 ],
 "metadata": {
  "kernelspec": {
   "display_name": "Python 3",
   "language": "python",
   "name": "python3"
  },
  "language_info": {
   "codemirror_mode": {
    "name": "ipython",
    "version": 3
   },
   "file_extension": ".py",
   "mimetype": "text/x-python",
   "name": "python",
   "nbconvert_exporter": "python",
   "pygments_lexer": "ipython3",
   "version": "3.7.0"
  }
 },
 "nbformat": 4,
 "nbformat_minor": 2
}
