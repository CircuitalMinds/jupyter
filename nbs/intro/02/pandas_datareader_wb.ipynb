{
 "cells": [
  {
   "cell_type": "code",
   "execution_count": 1,
   "metadata": {},
   "outputs": [],
   "source": [
    "import warnings\n",
    "\n",
    "warnings.simplefilter('ignore', FutureWarning)"
   ]
  },
  {
   "cell_type": "code",
   "execution_count": 2,
   "metadata": {},
   "outputs": [],
   "source": [
    "from pandas_datareader import wb\n",
    "import matplotlib.pyplot as plt"
   ]
  },
  {
   "cell_type": "code",
   "execution_count": 3,
   "metadata": {},
   "outputs": [
    {
     "name": "stdout",
     "output_type": "stream",
     "text": [
      "                    SP.POP.TOTL\n",
      "country       year             \n",
      "Japan         2014    127276000\n",
      "              2013    127445000\n",
      "              2012    127629000\n",
      "              2011    127833000\n",
      "              2010    128070000\n",
      "...                         ...\n",
      "United States 1964    191889000\n",
      "              1963    189242000\n",
      "              1962    186538000\n",
      "              1961    183691000\n",
      "              1960    180671000\n",
      "\n",
      "[110 rows x 1 columns]\n"
     ]
    }
   ],
   "source": [
    "df = wb.download(indicator='SP.POP.TOTL', country=['JP', 'US'],\n",
    "                 start=1960, end=2014)\n",
    "print(df)"
   ]
  },
  {
   "cell_type": "code",
   "execution_count": 4,
   "metadata": {},
   "outputs": [
    {
     "name": "stdout",
     "output_type": "stream",
     "text": [
      "        SP.POP.TOTL              \n",
      "country       Japan United States\n",
      "year                             \n",
      "1960       92500572     180671000\n",
      "1961       94943000     183691000\n",
      "1962       95832000     186538000\n",
      "1963       96812000     189242000\n",
      "1964       97826000     191889000\n"
     ]
    }
   ],
   "source": [
    "df2 = df.unstack(level=0)\n",
    "print(df2.head())"
   ]
  },
  {
   "cell_type": "code",
   "execution_count": 5,
   "metadata": {},
   "outputs": [
    {
     "name": "stdout",
     "output_type": "stream",
     "text": [
      "        SP.POP.TOTL              \n",
      "country       Japan United States\n",
      "year                             \n",
      "2010      128070000     309321666\n",
      "2011      127833000     311556874\n",
      "2012      127629000     313830990\n",
      "2013      127445000     315993715\n",
      "2014      127276000     318301008\n"
     ]
    }
   ],
   "source": [
    "print(df2.tail())"
   ]
  },
  {
   "cell_type": "code",
   "execution_count": 6,
   "metadata": {},
   "outputs": [
    {
     "name": "stdout",
     "output_type": "stream",
     "text": [
      "MultiIndex([('SP.POP.TOTL',         'Japan'),\n",
      "            ('SP.POP.TOTL', 'United States')],\n",
      "           names=[None, 'country'])\n"
     ]
    }
   ],
   "source": [
    "print(df2.columns)"
   ]
  },
  {
   "cell_type": "code",
   "execution_count": 7,
   "metadata": {},
   "outputs": [
    {
     "name": "stdout",
     "output_type": "stream",
     "text": [
      "         Japan  United States\n",
      "year                         \n",
      "1960  92500572      180671000\n",
      "1961  94943000      183691000\n",
      "1962  95832000      186538000\n",
      "1963  96812000      189242000\n",
      "1964  97826000      191889000\n"
     ]
    }
   ],
   "source": [
    "df2.columns = ['Japan', 'United States']\n",
    "print(df2.head())"
   ]
  },
  {
   "cell_type": "code",
   "execution_count": 8,
   "metadata": {},
   "outputs": [],
   "source": [
    "df2.plot(grid=True)\n",
    "plt.savefig('data/dst/pandas_datareader_wb.png')\n",
    "plt.close()"
   ]
  },
  {
   "cell_type": "markdown",
   "metadata": {},
   "source": [
    "![pandas_datareader_wb.png](data/dst/pandas_datareader_wb.png)"
   ]
  }
 ],
 "metadata": {
  "kernelspec": {
   "display_name": "Python 3",
   "language": "python",
   "name": "python3"
  },
  "language_info": {
   "codemirror_mode": {
    "name": "ipython",
    "version": 3
   },
   "file_extension": ".py",
   "mimetype": "text/x-python",
   "name": "python",
   "nbconvert_exporter": "python",
   "pygments_lexer": "ipython3",
   "version": "3.7.7"
  }
 },
 "nbformat": 4,
 "nbformat_minor": 2
}
