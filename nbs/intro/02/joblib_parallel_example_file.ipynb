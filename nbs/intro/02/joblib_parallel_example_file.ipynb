{
 "cells": [
  {
   "cell_type": "code",
   "execution_count": 1,
   "metadata": {},
   "outputs": [],
   "source": [
    "import os\n",
    "import pathlib\n",
    "import pprint\n",
    "import joblib"
   ]
  },
  {
   "cell_type": "code",
   "execution_count": 2,
   "metadata": {},
   "outputs": [],
   "source": [
    "src_dir = 'data/temp/joblib/src_file'"
   ]
  },
  {
   "cell_type": "code",
   "execution_count": 3,
   "metadata": {},
   "outputs": [],
   "source": [
    "os.makedirs(src_dir, exist_ok=True)"
   ]
  },
  {
   "cell_type": "code",
   "execution_count": 4,
   "metadata": {},
   "outputs": [],
   "source": [
    "for i in range(10):\n",
    "    pathlib.Path(src_dir).joinpath(f'file{i:05}.txt').write_text(f'This is file{i:05}')"
   ]
  },
  {
   "cell_type": "code",
   "execution_count": 5,
   "metadata": {},
   "outputs": [],
   "source": [
    "def func_write(i):\n",
    "    pathlib.Path(src_dir).joinpath(f'file{i:05}.txt').write_text(f'This is file{i:05}')"
   ]
  },
  {
   "cell_type": "code",
   "execution_count": 6,
   "metadata": {},
   "outputs": [],
   "source": [
    "_ = joblib.Parallel(n_jobs=-1)(joblib.delayed(func_write)(i) for i in range(10))"
   ]
  },
  {
   "cell_type": "code",
   "execution_count": 7,
   "metadata": {},
   "outputs": [],
   "source": [
    "first_lines = []\n",
    "for p in pathlib.Path(src_dir).glob('*.txt'):\n",
    "    with p.open() as f:\n",
    "        first_lines.append((p.name, f.readline()))"
   ]
  },
  {
   "cell_type": "code",
   "execution_count": 8,
   "metadata": {},
   "outputs": [
    {
     "name": "stdout",
     "output_type": "stream",
     "text": [
      "[('file00000.txt', 'This is file00000'),\n",
      " ('file00001.txt', 'This is file00001'),\n",
      " ('file00002.txt', 'This is file00002'),\n",
      " ('file00003.txt', 'This is file00003'),\n",
      " ('file00004.txt', 'This is file00004'),\n",
      " ('file00005.txt', 'This is file00005'),\n",
      " ('file00006.txt', 'This is file00006'),\n",
      " ('file00007.txt', 'This is file00007'),\n",
      " ('file00008.txt', 'This is file00008'),\n",
      " ('file00009.txt', 'This is file00009')]\n"
     ]
    }
   ],
   "source": [
    "pprint.pprint(sorted(first_lines))"
   ]
  },
  {
   "cell_type": "code",
   "execution_count": 9,
   "metadata": {},
   "outputs": [],
   "source": [
    "def func_read_first_line(p):\n",
    "    with p.open() as f:\n",
    "        return p.name, f.readline()"
   ]
  },
  {
   "cell_type": "code",
   "execution_count": 10,
   "metadata": {},
   "outputs": [],
   "source": [
    "first_lines = joblib.Parallel(n_jobs=-1)(\n",
    "    joblib.delayed(func_read_first_line)(p) for p in pathlib.Path(src_dir).glob('*.txt')\n",
    ")"
   ]
  },
  {
   "cell_type": "code",
   "execution_count": 11,
   "metadata": {},
   "outputs": [
    {
     "name": "stdout",
     "output_type": "stream",
     "text": [
      "[('file00000.txt', 'This is file00000'),\n",
      " ('file00001.txt', 'This is file00001'),\n",
      " ('file00002.txt', 'This is file00002'),\n",
      " ('file00003.txt', 'This is file00003'),\n",
      " ('file00004.txt', 'This is file00004'),\n",
      " ('file00005.txt', 'This is file00005'),\n",
      " ('file00006.txt', 'This is file00006'),\n",
      " ('file00007.txt', 'This is file00007'),\n",
      " ('file00008.txt', 'This is file00008'),\n",
      " ('file00009.txt', 'This is file00009')]\n"
     ]
    }
   ],
   "source": [
    "pprint.pprint(sorted(first_lines))"
   ]
  }
 ],
 "metadata": {
  "kernelspec": {
   "display_name": "Python 3",
   "language": "python",
   "name": "python3"
  },
  "language_info": {
   "codemirror_mode": {
    "name": "ipython",
    "version": 3
   },
   "file_extension": ".py",
   "mimetype": "text/x-python",
   "name": "python",
   "nbconvert_exporter": "python",
   "pygments_lexer": "ipython3",
   "version": "3.9.1"
  }
 },
 "nbformat": 4,
 "nbformat_minor": 4
}
