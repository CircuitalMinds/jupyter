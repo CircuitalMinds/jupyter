{
 "cells": [
  {
   "cell_type": "code",
   "execution_count": 1,
   "metadata": {},
   "outputs": [],
   "source": [
    "import numpy as np\n",
    "from PIL import Image"
   ]
  },
  {
   "cell_type": "code",
   "execution_count": 2,
   "metadata": {},
   "outputs": [
    {
     "name": "stdout",
     "output_type": "stream",
     "text": [
      "<class 'numpy.ndarray'>\n"
     ]
    }
   ],
   "source": [
    "im_gray = np.array(Image.open('data/src/lena_square_half.png').convert('L'))\n",
    "print(type(im_gray))"
   ]
  },
  {
   "cell_type": "code",
   "execution_count": 3,
   "metadata": {},
   "outputs": [],
   "source": [
    "thresh = 128"
   ]
  },
  {
   "cell_type": "code",
   "execution_count": 4,
   "metadata": {},
   "outputs": [
    {
     "name": "stdout",
     "output_type": "stream",
     "text": [
      "[[ True  True  True ...  True  True False]\n",
      " [ True  True  True ...  True  True False]\n",
      " [ True  True  True ...  True False False]\n",
      " ...\n",
      " [False False False ... False False False]\n",
      " [False False False ... False False False]\n",
      " [False False False ... False False False]]\n"
     ]
    }
   ],
   "source": [
    "im_bool = im_gray > thresh\n",
    "print(im_bool)"
   ]
  },
  {
   "cell_type": "code",
   "execution_count": 5,
   "metadata": {},
   "outputs": [],
   "source": [
    "maxval = 255"
   ]
  },
  {
   "cell_type": "code",
   "execution_count": 6,
   "metadata": {},
   "outputs": [
    {
     "name": "stdout",
     "output_type": "stream",
     "text": [
      "[[255 255 255 ... 255 255   0]\n",
      " [255 255 255 ... 255 255   0]\n",
      " [255 255 255 ... 255   0   0]\n",
      " ...\n",
      " [  0   0   0 ...   0   0   0]\n",
      " [  0   0   0 ...   0   0   0]\n",
      " [  0   0   0 ...   0   0   0]]\n"
     ]
    }
   ],
   "source": [
    "im_bin = (im_gray > thresh) * maxval\n",
    "print(im_bin)"
   ]
  },
  {
   "cell_type": "code",
   "execution_count": 7,
   "metadata": {},
   "outputs": [],
   "source": [
    "Image.fromarray(np.uint8(im_bin)).save('data/dst/numpy_binarization.png')"
   ]
  },
  {
   "cell_type": "code",
   "execution_count": 8,
   "metadata": {},
   "outputs": [
    {
     "name": "stdout",
     "output_type": "stream",
     "text": [
      "[[162 161 156 ... 169 169   0]\n",
      " [162 161 156 ... 169 169   0]\n",
      " [164 155 159 ... 145   0   0]\n",
      " ...\n",
      " [  0   0   0 ...   0   0   0]\n",
      " [  0   0   0 ...   0   0   0]\n",
      " [  0   0   0 ...   0   0   0]]\n"
     ]
    }
   ],
   "source": [
    "im_bin_keep = (im_gray > thresh) * im_gray\n",
    "print(im_bin_keep)"
   ]
  },
  {
   "cell_type": "code",
   "execution_count": 9,
   "metadata": {},
   "outputs": [],
   "source": [
    "Image.fromarray(np.uint8(im_bin_keep)).save('data/dst/numpy_binarization_keep.png')"
   ]
  },
  {
   "cell_type": "code",
   "execution_count": 10,
   "metadata": {},
   "outputs": [],
   "source": [
    "im_bool = im_gray > 128\n",
    "im_dst = np.empty((*im_gray.shape, 3))\n",
    "r, g, b = 255, 128, 32\n",
    "\n",
    "im_dst[:, :, 0] = im_bool * r\n",
    "im_dst[:, :, 1] = im_bool * g\n",
    "im_dst[:, :, 2] = im_bool * b"
   ]
  },
  {
   "cell_type": "code",
   "execution_count": 11,
   "metadata": {},
   "outputs": [],
   "source": [
    "Image.fromarray(np.uint8(im_dst)).save('data/dst/numpy_binarization_color.png')"
   ]
  },
  {
   "cell_type": "code",
   "execution_count": 12,
   "metadata": {},
   "outputs": [],
   "source": [
    "im_bool = im_gray > 128\n",
    "im_dst = np.empty((*im_gray.shape, 3))\n",
    "r, g, b = 128, 160, 192\n",
    "\n",
    "im_dst[:, :, 0] = im_bool * r\n",
    "im_dst[:, :, 1] = ~im_bool * g\n",
    "im_dst[:, :, 2] = im_bool * b"
   ]
  },
  {
   "cell_type": "code",
   "execution_count": 13,
   "metadata": {},
   "outputs": [],
   "source": [
    "Image.fromarray(np.uint8(im_dst)).save('data/dst/numpy_binarization_color2.png')"
   ]
  },
  {
   "cell_type": "code",
   "execution_count": 14,
   "metadata": {},
   "outputs": [],
   "source": [
    "im = np.array(Image.open('data/src/lena_square_half.png'))"
   ]
  },
  {
   "cell_type": "code",
   "execution_count": 15,
   "metadata": {},
   "outputs": [],
   "source": [
    "im_th = np.empty_like(im)"
   ]
  },
  {
   "cell_type": "code",
   "execution_count": 16,
   "metadata": {},
   "outputs": [],
   "source": [
    "thresh = 128\n",
    "maxval = 255\n",
    "\n",
    "for i in range(3):\n",
    "    im_th[:, :, i] = (im[:, :, i] > thresh) * maxval"
   ]
  },
  {
   "cell_type": "code",
   "execution_count": 17,
   "metadata": {},
   "outputs": [],
   "source": [
    "Image.fromarray(np.uint8(im_th)).save('data/dst/numpy_binarization_from_color.png')"
   ]
  },
  {
   "cell_type": "code",
   "execution_count": 18,
   "metadata": {},
   "outputs": [],
   "source": [
    "l_thresh = [64, 128, 192]\n",
    "l_maxval = [64, 128, 192]\n",
    "\n",
    "for i, thresh, maxval in zip(range(3), l_thresh, l_maxval):\n",
    "    im_th[:, :, i] = (im[:, :, i] > thresh) * maxval"
   ]
  },
  {
   "cell_type": "code",
   "execution_count": 19,
   "metadata": {},
   "outputs": [],
   "source": [
    "Image.fromarray(np.uint8(im_th)).save('data/dst/numpy_binarization_from_color2.png')"
   ]
  }
 ],
 "metadata": {
  "kernelspec": {
   "display_name": "Python 3",
   "language": "python",
   "name": "python3"
  },
  "language_info": {
   "codemirror_mode": {
    "name": "ipython",
    "version": 3
   },
   "file_extension": ".py",
   "mimetype": "text/x-python",
   "name": "python",
   "nbconvert_exporter": "python",
   "pygments_lexer": "ipython3",
   "version": "3.7.6"
  }
 },
 "nbformat": 4,
 "nbformat_minor": 2
}
