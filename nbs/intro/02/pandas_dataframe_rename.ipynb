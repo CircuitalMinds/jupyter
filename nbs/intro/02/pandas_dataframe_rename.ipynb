{
 "cells": [
  {
   "cell_type": "code",
   "execution_count": 1,
   "metadata": {},
   "outputs": [],
   "source": [
    "import pandas as pd"
   ]
  },
  {
   "cell_type": "code",
   "execution_count": 2,
   "metadata": {},
   "outputs": [],
   "source": [
    "df = pd.DataFrame({'A': [11, 21, 31],\n",
    "                   'B': [12, 22, 32],\n",
    "                   'C': [13, 23, 33]},\n",
    "                  index=['ONE', 'TWO', 'THREE'])"
   ]
  },
  {
   "cell_type": "code",
   "execution_count": 3,
   "metadata": {},
   "outputs": [
    {
     "name": "stdout",
     "output_type": "stream",
     "text": [
      "        A   B   C\n",
      "ONE    11  12  13\n",
      "TWO    21  22  23\n",
      "THREE  31  32  33\n"
     ]
    }
   ],
   "source": [
    "print(df)"
   ]
  },
  {
   "cell_type": "code",
   "execution_count": 4,
   "metadata": {},
   "outputs": [
    {
     "name": "stdout",
     "output_type": "stream",
     "text": [
      "       Col_1   B   C\n",
      "Row_1     11  12  13\n",
      "TWO       21  22  23\n",
      "THREE     31  32  33\n"
     ]
    }
   ],
   "source": [
    "df_new = df.rename(columns={'A': 'Col_1'}, index={'ONE': 'Row_1'})\n",
    "print(df_new)"
   ]
  },
  {
   "cell_type": "code",
   "execution_count": 5,
   "metadata": {},
   "outputs": [
    {
     "name": "stdout",
     "output_type": "stream",
     "text": [
      "        A   B   C\n",
      "ONE    11  12  13\n",
      "TWO    21  22  23\n",
      "THREE  31  32  33\n"
     ]
    }
   ],
   "source": [
    "print(df)"
   ]
  },
  {
   "cell_type": "code",
   "execution_count": 6,
   "metadata": {},
   "outputs": [
    {
     "name": "stdout",
     "output_type": "stream",
     "text": [
      "       Col_1   B  Col_3\n",
      "ONE       11  12     13\n",
      "TWO       21  22     23\n",
      "THREE     31  32     33\n"
     ]
    }
   ],
   "source": [
    "print(df.rename(columns={'A': 'Col_1', 'C': 'Col_3'}))"
   ]
  },
  {
   "cell_type": "code",
   "execution_count": 7,
   "metadata": {},
   "outputs": [
    {
     "name": "stdout",
     "output_type": "stream",
     "text": [
      "       Col_1   B   C\n",
      "Row_1     11  12  13\n",
      "TWO       21  22  23\n",
      "THREE     31  32  33\n"
     ]
    }
   ],
   "source": [
    "df_copy = df.copy()\n",
    "df_copy.rename(columns={'A': 'Col_1'}, index={'ONE': 'Row_1'}, inplace=True)\n",
    "print(df_copy)"
   ]
  },
  {
   "cell_type": "code",
   "execution_count": 8,
   "metadata": {},
   "outputs": [
    {
     "name": "stdout",
     "output_type": "stream",
     "text": [
      "        a   b   c\n",
      "One    11  12  13\n",
      "Two    21  22  23\n",
      "Three  31  32  33\n"
     ]
    }
   ],
   "source": [
    "print(df.rename(columns=str.lower, index=str.title))"
   ]
  },
  {
   "cell_type": "code",
   "execution_count": 9,
   "metadata": {},
   "outputs": [
    {
     "name": "stdout",
     "output_type": "stream",
     "text": [
      "         AAA  BBB  CCC\n",
      "ONE!!     11   12   13\n",
      "TWO!!     21   22   23\n",
      "THREE!!   31   32   33\n"
     ]
    }
   ],
   "source": [
    "print(df.rename(columns=lambda s: s*3, index=lambda s: s + '!!'))"
   ]
  },
  {
   "cell_type": "code",
   "execution_count": 10,
   "metadata": {},
   "outputs": [
    {
     "name": "stdout",
     "output_type": "stream",
     "text": [
      "       X_A  X_B  X_C\n",
      "ONE     11   12   13\n",
      "TWO     21   22   23\n",
      "THREE   31   32   33\n"
     ]
    }
   ],
   "source": [
    "print(df.add_prefix('X_'))"
   ]
  },
  {
   "cell_type": "code",
   "execution_count": 11,
   "metadata": {},
   "outputs": [
    {
     "name": "stdout",
     "output_type": "stream",
     "text": [
      "       A_X  B_X  C_X\n",
      "ONE     11   12   13\n",
      "TWO     21   22   23\n",
      "THREE   31   32   33\n"
     ]
    }
   ],
   "source": [
    "print(df.add_suffix('_X'))"
   ]
  },
  {
   "cell_type": "code",
   "execution_count": 12,
   "metadata": {},
   "outputs": [
    {
     "name": "stdout",
     "output_type": "stream",
     "text": [
      "        A   B   C\n",
      "Row_1  11  12  13\n",
      "Row_2  21  22  23\n",
      "Row_3  31  32  33\n"
     ]
    }
   ],
   "source": [
    "print(df.set_axis(['Row_1', 'Row_2', 'Row_3'], axis=0))"
   ]
  },
  {
   "cell_type": "code",
   "execution_count": 13,
   "metadata": {},
   "outputs": [
    {
     "name": "stdout",
     "output_type": "stream",
     "text": [
      "        A   B   C\n",
      "Row_1  11  12  13\n",
      "Row_2  21  22  23\n",
      "Row_3  31  32  33\n"
     ]
    }
   ],
   "source": [
    "print(df.set_axis(['Row_1', 'Row_2', 'Row_3'], axis='index'))"
   ]
  },
  {
   "cell_type": "code",
   "execution_count": 14,
   "metadata": {},
   "outputs": [
    {
     "name": "stdout",
     "output_type": "stream",
     "text": [
      "       Col_1  Col_2  Col_3\n",
      "ONE       11     12     13\n",
      "TWO       21     22     23\n",
      "THREE     31     32     33\n"
     ]
    }
   ],
   "source": [
    "print(df.set_axis(['Col_1', 'Col_2', 'Col_3'], axis=1))"
   ]
  },
  {
   "cell_type": "code",
   "execution_count": 15,
   "metadata": {},
   "outputs": [
    {
     "name": "stdout",
     "output_type": "stream",
     "text": [
      "       Col_1  Col_2  Col_3\n",
      "ONE       11     12     13\n",
      "TWO       21     22     23\n",
      "THREE     31     32     33\n"
     ]
    }
   ],
   "source": [
    "print(df.set_axis(['Col_1', 'Col_2', 'Col_3'], axis='columns'))"
   ]
  },
  {
   "cell_type": "code",
   "execution_count": 16,
   "metadata": {},
   "outputs": [
    {
     "name": "stdout",
     "output_type": "stream",
     "text": [
      "        A   B   C\n",
      "Row_1  11  12  13\n",
      "Row_2  21  22  23\n",
      "Row_3  31  32  33\n"
     ]
    }
   ],
   "source": [
    "print(df.set_axis(['Row_1', 'Row_2', 'Row_3']))"
   ]
  },
  {
   "cell_type": "code",
   "execution_count": 17,
   "metadata": {},
   "outputs": [],
   "source": [
    "# print(df.set_axis(['Row_1', 'Row_2', 'Row_3', 'Row_4']))\n",
    "# ValueError: Length mismatch: Expected axis has 3 elements, new values have 4 elements"
   ]
  },
  {
   "cell_type": "code",
   "execution_count": 18,
   "metadata": {},
   "outputs": [
    {
     "name": "stdout",
     "output_type": "stream",
     "text": [
      "        A   B   C\n",
      "Row_1  11  12  13\n",
      "Row_2  21  22  23\n",
      "Row_3  31  32  33\n"
     ]
    }
   ],
   "source": [
    "df_copy = df.copy()\n",
    "df_copy.set_axis(['Row_1', 'Row_2', 'Row_3'], inplace=True)\n",
    "print(df_copy)"
   ]
  },
  {
   "cell_type": "code",
   "execution_count": 19,
   "metadata": {},
   "outputs": [
    {
     "name": "stdout",
     "output_type": "stream",
     "text": [
      "       Col_1  Col_2  Col_3\n",
      "Row_1     11     12     13\n",
      "Row_2     21     22     23\n",
      "Row_3     31     32     33\n"
     ]
    }
   ],
   "source": [
    "df.index = ['Row_1', 'Row_2', 'Row_3']\n",
    "df.columns = ['Col_1', 'Col_2', 'Col_3']\n",
    "print(df)"
   ]
  },
  {
   "cell_type": "code",
   "execution_count": 20,
   "metadata": {},
   "outputs": [],
   "source": [
    "# df.index = ['Row_1', 'Row_2', 'Row_3', 'Row_4']\n",
    "# ValueError: Length mismatch: Expected axis has 3 elements, new values have 4 elements"
   ]
  }
 ],
 "metadata": {
  "kernelspec": {
   "display_name": "Python 3",
   "language": "python",
   "name": "python3"
  },
  "language_info": {
   "codemirror_mode": {
    "name": "ipython",
    "version": 3
   },
   "file_extension": ".py",
   "mimetype": "text/x-python",
   "name": "python",
   "nbconvert_exporter": "python",
   "pygments_lexer": "ipython3",
   "version": "3.9.2"
  }
 },
 "nbformat": 4,
 "nbformat_minor": 2
}
