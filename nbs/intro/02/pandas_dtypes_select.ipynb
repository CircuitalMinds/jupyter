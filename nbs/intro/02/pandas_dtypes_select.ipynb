{
 "cells": [
  {
   "cell_type": "code",
   "execution_count": 1,
   "metadata": {
    "collapsed": true
   },
   "outputs": [],
   "source": [
    "import pandas as pd"
   ]
  },
  {
   "cell_type": "code",
   "execution_count": 2,
   "metadata": {},
   "outputs": [
    {
     "name": "stdout",
     "output_type": "stream",
     "text": [
      "         age state  point  f_data\n",
      "name                             \n",
      "Alice     24    NY     64     0.1\n",
      "Bob       42    CA     92     0.2\n",
      "Charlie   18    CA     70     0.3\n",
      "Dave      68    TX     70     0.4\n",
      "Ellen     24    CA     88     0.5\n",
      "Frank     30    NY     57     0.6\n"
     ]
    }
   ],
   "source": [
    "df = pd.read_csv('data/src/sample_pandas_normal.csv', index_col=0)\n",
    "df['f_data'] = [0.1, 0.2, 0.3, 0.4, 0.5, 0.6]\n",
    "print(df)"
   ]
  },
  {
   "cell_type": "code",
   "execution_count": 3,
   "metadata": {},
   "outputs": [
    {
     "name": "stdout",
     "output_type": "stream",
     "text": [
      "age         int64\n",
      "state      object\n",
      "point       int64\n",
      "f_data    float64\n",
      "dtype: object\n"
     ]
    }
   ],
   "source": [
    "print(df.dtypes)"
   ]
  },
  {
   "cell_type": "code",
   "execution_count": 4,
   "metadata": {},
   "outputs": [
    {
     "name": "stdout",
     "output_type": "stream",
     "text": [
      "<class 'pandas.core.series.Series'>\n",
      "<class 'numpy.dtype'>\n"
     ]
    }
   ],
   "source": [
    "print(type(df.dtypes))\n",
    "print(type(df.dtypes[0]))"
   ]
  },
  {
   "cell_type": "code",
   "execution_count": 5,
   "metadata": {},
   "outputs": [
    {
     "name": "stdout",
     "output_type": "stream",
     "text": [
      "age        True\n",
      "state     False\n",
      "point      True\n",
      "f_data    False\n",
      "dtype: bool\n"
     ]
    }
   ],
   "source": [
    "print(df.dtypes == 'int64')"
   ]
  },
  {
   "cell_type": "code",
   "execution_count": 6,
   "metadata": {},
   "outputs": [
    {
     "name": "stdout",
     "output_type": "stream",
     "text": [
      "         age  point\n",
      "name               \n",
      "Alice     24     64\n",
      "Bob       42     92\n",
      "Charlie   18     70\n",
      "Dave      68     70\n",
      "Ellen     24     88\n",
      "Frank     30     57\n"
     ]
    }
   ],
   "source": [
    "print(df.loc[:, df.dtypes == 'int64'])"
   ]
  },
  {
   "cell_type": "code",
   "execution_count": 7,
   "metadata": {},
   "outputs": [
    {
     "name": "stdout",
     "output_type": "stream",
     "text": [
      "age        True\n",
      "state     False\n",
      "point      True\n",
      "f_data     True\n",
      "dtype: bool\n"
     ]
    }
   ],
   "source": [
    "print(df.dtypes != 'object')"
   ]
  },
  {
   "cell_type": "code",
   "execution_count": 8,
   "metadata": {},
   "outputs": [
    {
     "name": "stdout",
     "output_type": "stream",
     "text": [
      "         age  point  f_data\n",
      "name                       \n",
      "Alice     24     64     0.1\n",
      "Bob       42     92     0.2\n",
      "Charlie   18     70     0.3\n",
      "Dave      68     70     0.4\n",
      "Ellen     24     88     0.5\n",
      "Frank     30     57     0.6\n"
     ]
    }
   ],
   "source": [
    "print(df.loc[:, df.dtypes != 'object'])"
   ]
  },
  {
   "cell_type": "code",
   "execution_count": 9,
   "metadata": {},
   "outputs": [
    {
     "name": "stdout",
     "output_type": "stream",
     "text": [
      "age        True\n",
      "state     False\n",
      "point      True\n",
      "f_data    False\n",
      "dtype: bool\n"
     ]
    }
   ],
   "source": [
    "print(df.dtypes == 'int')"
   ]
  },
  {
   "cell_type": "code",
   "execution_count": 10,
   "metadata": {},
   "outputs": [
    {
     "name": "stdout",
     "output_type": "stream",
     "text": [
      "         age  point\n",
      "name               \n",
      "Alice     24     64\n",
      "Bob       42     92\n",
      "Charlie   18     70\n",
      "Dave      68     70\n",
      "Ellen     24     88\n",
      "Frank     30     57\n"
     ]
    }
   ],
   "source": [
    "print(df.loc[:, df.dtypes == 'int'])"
   ]
  },
  {
   "cell_type": "code",
   "execution_count": 11,
   "metadata": {
    "collapsed": true
   },
   "outputs": [],
   "source": [
    "df = df.astype({'age': 'int8'})"
   ]
  },
  {
   "cell_type": "code",
   "execution_count": 12,
   "metadata": {},
   "outputs": [
    {
     "name": "stdout",
     "output_type": "stream",
     "text": [
      "age          int8\n",
      "state      object\n",
      "point       int64\n",
      "f_data    float64\n",
      "dtype: object\n"
     ]
    }
   ],
   "source": [
    "print(df.dtypes)"
   ]
  },
  {
   "cell_type": "code",
   "execution_count": 13,
   "metadata": {},
   "outputs": [
    {
     "name": "stdout",
     "output_type": "stream",
     "text": [
      "age       False\n",
      "state     False\n",
      "point      True\n",
      "f_data    False\n",
      "dtype: bool\n"
     ]
    }
   ],
   "source": [
    "print(df.dtypes == 'int')"
   ]
  },
  {
   "cell_type": "code",
   "execution_count": 14,
   "metadata": {},
   "outputs": [
    {
     "name": "stdout",
     "output_type": "stream",
     "text": [
      "age       False\n",
      "state     False\n",
      "point      True\n",
      "f_data    False\n",
      "dtype: bool\n"
     ]
    }
   ],
   "source": [
    "print(df.dtypes.isin(['int8', 'int64']))"
   ]
  },
  {
   "cell_type": "code",
   "execution_count": 15,
   "metadata": {},
   "outputs": [
    {
     "name": "stdout",
     "output_type": "stream",
     "text": [
      "age        True\n",
      "state     False\n",
      "point      True\n",
      "f_data    False\n",
      "dtype: bool\n"
     ]
    }
   ],
   "source": [
    "print((df.dtypes == 'int8') | (df.dtypes == 'int64'))"
   ]
  },
  {
   "cell_type": "code",
   "execution_count": 16,
   "metadata": {},
   "outputs": [
    {
     "name": "stdout",
     "output_type": "stream",
     "text": [
      "         age  point\n",
      "name               \n",
      "Alice     24     64\n",
      "Bob       42     92\n",
      "Charlie   18     70\n",
      "Dave      68     70\n",
      "Ellen     24     88\n",
      "Frank     30     57\n"
     ]
    }
   ],
   "source": [
    "print(df.loc[:, (df.dtypes == 'int8') | (df.dtypes == 'int64')])"
   ]
  },
  {
   "cell_type": "code",
   "execution_count": 17,
   "metadata": {},
   "outputs": [
    {
     "name": "stdout",
     "output_type": "stream",
     "text": [
      "age        True\n",
      "state     False\n",
      "point      True\n",
      "f_data    False\n",
      "dtype: bool\n"
     ]
    }
   ],
   "source": [
    "print(df.dtypes.astype('str').str.contains('int'))"
   ]
  },
  {
   "cell_type": "code",
   "execution_count": 18,
   "metadata": {},
   "outputs": [
    {
     "name": "stdout",
     "output_type": "stream",
     "text": [
      "         age  point\n",
      "name               \n",
      "Alice     24     64\n",
      "Bob       42     92\n",
      "Charlie   18     70\n",
      "Dave      68     70\n",
      "Ellen     24     88\n",
      "Frank     30     57\n"
     ]
    }
   ],
   "source": [
    "print(df.loc[:, df.dtypes.astype('str').str.contains('int')])"
   ]
  },
  {
   "cell_type": "code",
   "execution_count": 19,
   "metadata": {},
   "outputs": [
    {
     "name": "stdout",
     "output_type": "stream",
     "text": [
      "         age  point  f_data\n",
      "name                       \n",
      "Alice     24     64     0.1\n",
      "Bob       42     92     0.2\n",
      "Charlie   18     70     0.3\n",
      "Dave      68     70     0.4\n",
      "Ellen     24     88     0.5\n",
      "Frank     30     57     0.6\n"
     ]
    }
   ],
   "source": [
    "print(df.loc[:, df.dtypes != 'object'])"
   ]
  }
 ],
 "metadata": {
  "kernelspec": {
   "display_name": "Python 3",
   "language": "python",
   "name": "python3"
  },
  "language_info": {
   "codemirror_mode": {
    "name": "ipython",
    "version": 3
   },
   "file_extension": ".py",
   "mimetype": "text/x-python",
   "name": "python",
   "nbconvert_exporter": "python",
   "pygments_lexer": "ipython3",
   "version": "3.6.4"
  }
 },
 "nbformat": 4,
 "nbformat_minor": 2
}
