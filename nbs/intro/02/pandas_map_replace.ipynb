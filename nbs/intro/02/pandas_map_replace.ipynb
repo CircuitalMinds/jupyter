{
 "cells": [
  {
   "cell_type": "code",
   "execution_count": 1,
   "metadata": {
    "collapsed": true
   },
   "outputs": [],
   "source": [
    "import pandas as pd"
   ]
  },
  {
   "cell_type": "code",
   "execution_count": 2,
   "metadata": {
    "collapsed": true
   },
   "outputs": [],
   "source": [
    "df = pd.read_csv('data/src/sample_pandas_normal.csv')"
   ]
  },
  {
   "cell_type": "code",
   "execution_count": 3,
   "metadata": {},
   "outputs": [
    {
     "name": "stdout",
     "output_type": "stream",
     "text": [
      "      name  age state  point\n",
      "0    Alice   24    NY     64\n",
      "1      Bob   42    CA     92\n",
      "2  Charlie   18    CA     70\n",
      "3     Dave   68    TX     70\n",
      "4    Ellen   24    CA     88\n",
      "5    Frank   30    NY     57\n"
     ]
    }
   ],
   "source": [
    "print(df)"
   ]
  },
  {
   "cell_type": "code",
   "execution_count": 4,
   "metadata": {},
   "outputs": [
    {
     "name": "stdout",
     "output_type": "stream",
     "text": [
      "0    NY\n",
      "1    CA\n",
      "2    CA\n",
      "3    TX\n",
      "4    CA\n",
      "5    NY\n",
      "Name: state, dtype: object\n"
     ]
    }
   ],
   "source": [
    "s = df['state']\n",
    "print(s)"
   ]
  },
  {
   "cell_type": "code",
   "execution_count": 5,
   "metadata": {},
   "outputs": [
    {
     "name": "stdout",
     "output_type": "stream",
     "text": [
      "0       NewYork\n",
      "1    California\n",
      "2    California\n",
      "3         Texas\n",
      "4    California\n",
      "5       NewYork\n",
      "Name: state, dtype: object\n"
     ]
    }
   ],
   "source": [
    "s_map_all = s.map({'NY': 'NewYork', 'CA': 'California', 'TX': 'Texas'})\n",
    "print(s_map_all)"
   ]
  },
  {
   "cell_type": "code",
   "execution_count": 6,
   "metadata": {},
   "outputs": [
    {
     "name": "stdout",
     "output_type": "stream",
     "text": [
      "0       NewYork\n",
      "1    California\n",
      "2    California\n",
      "3         Texas\n",
      "4    California\n",
      "5       NewYork\n",
      "Name: state, dtype: object\n"
     ]
    }
   ],
   "source": [
    "s_replace_all = s.replace({'NY': 'NewYork', 'CA': 'California', 'TX': 'Texas'})\n",
    "print(s_replace_all)"
   ]
  },
  {
   "cell_type": "code",
   "execution_count": 7,
   "metadata": {},
   "outputs": [
    {
     "name": "stdout",
     "output_type": "stream",
     "text": [
      "0    NewYork\n",
      "1        NaN\n",
      "2        NaN\n",
      "3        NaN\n",
      "4        NaN\n",
      "5    NewYork\n",
      "Name: state, dtype: object\n"
     ]
    }
   ],
   "source": [
    "s_map = s.map({'NY': 'NewYork'})\n",
    "print(s_map)"
   ]
  },
  {
   "cell_type": "code",
   "execution_count": 8,
   "metadata": {},
   "outputs": [
    {
     "name": "stdout",
     "output_type": "stream",
     "text": [
      "0    NewYork\n",
      "1         CA\n",
      "2         CA\n",
      "3         TX\n",
      "4         CA\n",
      "5    NewYork\n",
      "Name: state, dtype: object\n"
     ]
    }
   ],
   "source": [
    "s_replace = s.replace({'NY': 'NewYork'})\n",
    "print(s_replace)"
   ]
  },
  {
   "cell_type": "code",
   "execution_count": 9,
   "metadata": {
    "scrolled": true
   },
   "outputs": [
    {
     "name": "stdout",
     "output_type": "stream",
     "text": [
      "0    NewYork\n",
      "1         CA\n",
      "2         CA\n",
      "3         TX\n",
      "4         CA\n",
      "5    NewYork\n",
      "Name: state, dtype: object\n"
     ]
    }
   ],
   "source": [
    "s_copy = s.copy()\n",
    "s_copy.update(s_copy.map({'NY': 'NewYork'}))\n",
    "print(s_copy)"
   ]
  },
  {
   "cell_type": "code",
   "execution_count": 10,
   "metadata": {},
   "outputs": [
    {
     "name": "stdout",
     "output_type": "stream",
     "text": [
      "0    NewYork\n",
      "1         CA\n",
      "2         CA\n",
      "3         TX\n",
      "4         CA\n",
      "5    NewYork\n",
      "Name: state, dtype: object\n"
     ]
    }
   ],
   "source": [
    "s_copy = s.copy()\n",
    "s_copy.replace({'NY': 'NewYork'}, inplace=True)\n",
    "print(s_copy)"
   ]
  },
  {
   "cell_type": "code",
   "execution_count": 11,
   "metadata": {},
   "outputs": [
    {
     "name": "stdout",
     "output_type": "stream",
     "text": [
      "0    0\n",
      "1    1\n",
      "2    1\n",
      "3    2\n",
      "4    1\n",
      "5    0\n",
      "Name: state, dtype: int64\n"
     ]
    }
   ],
   "source": [
    "s_map_num = s.map({'NY': 0, 'CA': 1, 'TX': 2})\n",
    "print(s_map_num)"
   ]
  },
  {
   "cell_type": "code",
   "execution_count": 12,
   "metadata": {},
   "outputs": [
    {
     "name": "stdout",
     "output_type": "stream",
     "text": [
      "      name  age  state  point\n",
      "0    Alice   24      0     64\n",
      "1      Bob   42      1     92\n",
      "2  Charlie   18      1     70\n",
      "3     Dave   68      2     70\n",
      "4    Ellen   24      1     88\n",
      "5    Frank   30      0     57\n"
     ]
    }
   ],
   "source": [
    "df['state'] = df['state'].map({'NY': 0, 'CA': 1, 'TX': 2})\n",
    "print(df)"
   ]
  },
  {
   "cell_type": "code",
   "execution_count": 13,
   "metadata": {},
   "outputs": [
    {
     "name": "stdout",
     "output_type": "stream",
     "text": [
      "int64\n"
     ]
    }
   ],
   "source": [
    "print(df['state'].dtype)"
   ]
  }
 ],
 "metadata": {
  "kernelspec": {
   "display_name": "Python 3",
   "language": "python",
   "name": "python3"
  },
  "language_info": {
   "codemirror_mode": {
    "name": "ipython",
    "version": 3
   },
   "file_extension": ".py",
   "mimetype": "text/x-python",
   "name": "python",
   "nbconvert_exporter": "python",
   "pygments_lexer": "ipython3",
   "version": "3.6.5"
  }
 },
 "nbformat": 4,
 "nbformat_minor": 2
}
