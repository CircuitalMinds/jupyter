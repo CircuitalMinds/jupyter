{
 "cells": [
  {
   "cell_type": "code",
   "execution_count": 1,
   "metadata": {},
   "outputs": [],
   "source": [
    "import cv2\n",
    "import numpy as np"
   ]
  },
  {
   "cell_type": "code",
   "execution_count": 2,
   "metadata": {},
   "outputs": [],
   "source": [
    "def warp(src, dst, src_pts, dst_pts, transform_func, warp_func, **kwargs):\n",
    "    src_pts_arr = np.array(src_pts, dtype=np.float32)\n",
    "    dst_pts_arr = np.array(dst_pts, dtype=np.float32)\n",
    "    src_rect = cv2.boundingRect(src_pts_arr)\n",
    "    dst_rect = cv2.boundingRect(dst_pts_arr)\n",
    "    src_crop = src[src_rect[1]:src_rect[1] + src_rect[3], src_rect[0]:src_rect[0] + src_rect[2]]\n",
    "    dst_crop = dst[dst_rect[1]:dst_rect[1] + dst_rect[3], dst_rect[0]:dst_rect[0] + dst_rect[2]]\n",
    "    src_pts_crop = src_pts_arr - src_rect[:2]\n",
    "    dst_pts_crop = dst_pts_arr - dst_rect[:2]\n",
    "    \n",
    "    mat = transform_func(src_pts_crop.astype(np.float32), dst_pts_crop.astype(np.float32))\n",
    "    warp_img = warp_func(src_crop, mat, tuple(dst_rect[2:]), **kwargs)\n",
    "    \n",
    "    mask = np.zeros_like(dst_crop, dtype=np.float32)\n",
    "    cv2.fillConvexPoly(mask, dst_pts_crop.astype(np.int), (1.0, 1.0, 1.0), cv2.LINE_AA)\n",
    "    \n",
    "    dst_crop_merge = warp_img * mask + dst_crop * (1 - mask)\n",
    "    dst[dst_rect[1]:dst_rect[1] + dst_rect[3], dst_rect[0]:dst_rect[0] + dst_rect[2]] = dst_crop_merge"
   ]
  },
  {
   "cell_type": "code",
   "execution_count": 3,
   "metadata": {},
   "outputs": [],
   "source": [
    "def warp_triangle(src, dst, src_pts, dst_pts, **kwargs):\n",
    "    warp(src, dst, src_pts, dst_pts,\n",
    "         cv2.getAffineTransform, cv2.warpAffine, **kwargs)"
   ]
  },
  {
   "cell_type": "code",
   "execution_count": 4,
   "metadata": {},
   "outputs": [],
   "source": [
    "def warp_rectangle(src, dst, src_pts, dst_pts, **kwargs):\n",
    "    warp(src, dst, src_pts, dst_pts,\n",
    "         cv2.getPerspectiveTransform, cv2.warpPerspective, **kwargs)"
   ]
  },
  {
   "cell_type": "code",
   "execution_count": 5,
   "metadata": {},
   "outputs": [],
   "source": [
    "src = cv2.imread('data/src/lena.jpg')\n",
    "dst = cv2.imread('data/src/rocket.jpg')"
   ]
  },
  {
   "cell_type": "code",
   "execution_count": 6,
   "metadata": {},
   "outputs": [],
   "source": [
    "src_pts = [[100, 80], [150, 200], [300, 20]]\n",
    "dst_pts = [[280, 120], [320, 300], [400, 150]]"
   ]
  },
  {
   "cell_type": "code",
   "execution_count": 7,
   "metadata": {},
   "outputs": [],
   "source": [
    "warp_triangle(src, dst, src_pts, dst_pts)"
   ]
  },
  {
   "cell_type": "code",
   "execution_count": 8,
   "metadata": {},
   "outputs": [
    {
     "data": {
      "text/plain": [
       "True"
      ]
     },
     "execution_count": 8,
     "metadata": {},
     "output_type": "execute_result"
    }
   ],
   "source": [
    "cv2.imwrite('data/dst/opencv_warp_triangle.jpg', dst)"
   ]
  },
  {
   "cell_type": "markdown",
   "metadata": {},
   "source": [
    "![](data/dst/opencv_warp_triangle.jpg)"
   ]
  },
  {
   "cell_type": "code",
   "execution_count": 9,
   "metadata": {},
   "outputs": [],
   "source": [
    "src = cv2.imread('data/src/lena.jpg')\n",
    "dst = cv2.imread('data/src/rocket.jpg')"
   ]
  },
  {
   "cell_type": "code",
   "execution_count": 10,
   "metadata": {},
   "outputs": [],
   "source": [
    "src_pts = [[100, 80], [150, 200], [350, 160], [300, 20]]\n",
    "dst_pts = [[280, 120], [200, 280], [500, 300], [400, 150]]"
   ]
  },
  {
   "cell_type": "code",
   "execution_count": 11,
   "metadata": {},
   "outputs": [],
   "source": [
    "warp_rectangle(src, dst, src_pts, dst_pts, flags=cv2.INTER_CUBIC)"
   ]
  },
  {
   "cell_type": "code",
   "execution_count": 12,
   "metadata": {},
   "outputs": [
    {
     "data": {
      "text/plain": [
       "True"
      ]
     },
     "execution_count": 12,
     "metadata": {},
     "output_type": "execute_result"
    }
   ],
   "source": [
    "cv2.imwrite('data/dst/opencv_warp_rectangle.jpg', dst)"
   ]
  },
  {
   "cell_type": "markdown",
   "metadata": {},
   "source": [
    "![](data/dst/opencv_warp_rectangle.jpg)"
   ]
  }
 ],
 "metadata": {
  "kernelspec": {
   "display_name": "Python 3",
   "language": "python",
   "name": "python3"
  },
  "language_info": {
   "codemirror_mode": {
    "name": "ipython",
    "version": 3
   },
   "file_extension": ".py",
   "mimetype": "text/x-python",
   "name": "python",
   "nbconvert_exporter": "python",
   "pygments_lexer": "ipython3",
   "version": "3.7.2"
  }
 },
 "nbformat": 4,
 "nbformat_minor": 2
}
