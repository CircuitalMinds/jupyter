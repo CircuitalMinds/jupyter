{
 "cells": [
  {
   "cell_type": "code",
   "execution_count": 1,
   "metadata": {},
   "outputs": [],
   "source": [
    "import pandas as pd"
   ]
  },
  {
   "cell_type": "code",
   "execution_count": 2,
   "metadata": {},
   "outputs": [
    {
     "name": "stdout",
     "output_type": "stream",
     "text": [
      "1.4.1\n"
     ]
    }
   ],
   "source": [
    "print(pd.__version__)"
   ]
  },
  {
   "cell_type": "code",
   "execution_count": 3,
   "metadata": {},
   "outputs": [
    {
     "name": "stdout",
     "output_type": "stream",
     "text": [
      "   col_int  col_float\n",
      "A        0        0.0\n",
      "B        1        0.1\n",
      "C        2        0.2\n"
     ]
    }
   ],
   "source": [
    "df_mix = pd.DataFrame({'col_int': [0, 1, 2], 'col_float': [0.0, 0.1, 0.2]}, index=['A', 'B', 'C'])\n",
    "print(df_mix)"
   ]
  },
  {
   "cell_type": "code",
   "execution_count": 4,
   "metadata": {},
   "outputs": [
    {
     "name": "stdout",
     "output_type": "stream",
     "text": [
      "col_int        int64\n",
      "col_float    float64\n",
      "dtype: object\n"
     ]
    }
   ],
   "source": [
    "print(df_mix.dtypes)"
   ]
  },
  {
   "cell_type": "code",
   "execution_count": 5,
   "metadata": {},
   "outputs": [
    {
     "name": "stdout",
     "output_type": "stream",
     "text": [
      "A    0.0\n",
      "B    1.1\n",
      "C    2.2\n",
      "dtype: float64\n"
     ]
    }
   ],
   "source": [
    "print(df_mix['col_int'] + df_mix['col_float'])"
   ]
  },
  {
   "cell_type": "code",
   "execution_count": 6,
   "metadata": {},
   "outputs": [
    {
     "name": "stdout",
     "output_type": "stream",
     "text": [
      "   col_int  col_float\n",
      "A      0.0        0.0\n",
      "B      1.0        0.1\n",
      "C      2.0        0.2\n"
     ]
    }
   ],
   "source": [
    "print(df_mix / 1)"
   ]
  },
  {
   "cell_type": "code",
   "execution_count": 7,
   "metadata": {},
   "outputs": [
    {
     "name": "stdout",
     "output_type": "stream",
     "text": [
      "col_int      float64\n",
      "col_float    float64\n",
      "dtype: object\n"
     ]
    }
   ],
   "source": [
    "print((df_mix / 1).dtypes)"
   ]
  },
  {
   "cell_type": "code",
   "execution_count": 8,
   "metadata": {},
   "outputs": [
    {
     "name": "stdout",
     "output_type": "stream",
     "text": [
      "   col_int  col_float\n",
      "A        0        0.0\n",
      "B        1        0.1\n",
      "C        2        0.2\n"
     ]
    }
   ],
   "source": [
    "print(df_mix * 1)"
   ]
  },
  {
   "cell_type": "code",
   "execution_count": 9,
   "metadata": {},
   "outputs": [
    {
     "name": "stdout",
     "output_type": "stream",
     "text": [
      "col_int        int64\n",
      "col_float    float64\n",
      "dtype: object\n"
     ]
    }
   ],
   "source": [
    "print((df_mix * 1).dtypes)"
   ]
  },
  {
   "cell_type": "code",
   "execution_count": 10,
   "metadata": {},
   "outputs": [
    {
     "name": "stdout",
     "output_type": "stream",
     "text": [
      "   col_int  col_float\n",
      "A      0.0        0.0\n",
      "B      1.0        0.1\n",
      "C      2.0        0.2\n"
     ]
    }
   ],
   "source": [
    "print(df_mix * 1.0)"
   ]
  },
  {
   "cell_type": "code",
   "execution_count": 11,
   "metadata": {},
   "outputs": [
    {
     "name": "stdout",
     "output_type": "stream",
     "text": [
      "col_int      float64\n",
      "col_float    float64\n",
      "dtype: object\n"
     ]
    }
   ],
   "source": [
    "print((df_mix * 1.0).dtypes)"
   ]
  },
  {
   "cell_type": "code",
   "execution_count": 12,
   "metadata": {},
   "outputs": [
    {
     "name": "stdout",
     "output_type": "stream",
     "text": [
      "col_int      0.0\n",
      "col_float    0.0\n",
      "Name: A, dtype: float64\n"
     ]
    }
   ],
   "source": [
    "print(df_mix.loc['A'])"
   ]
  },
  {
   "cell_type": "code",
   "execution_count": 13,
   "metadata": {},
   "outputs": [
    {
     "name": "stdout",
     "output_type": "stream",
     "text": [
      "             A    B    C\n",
      "col_int    0.0  1.0  2.0\n",
      "col_float  0.0  0.1  0.2\n"
     ]
    }
   ],
   "source": [
    "print(df_mix.T)"
   ]
  },
  {
   "cell_type": "code",
   "execution_count": 14,
   "metadata": {},
   "outputs": [
    {
     "name": "stdout",
     "output_type": "stream",
     "text": [
      "A    float64\n",
      "B    float64\n",
      "C    float64\n",
      "dtype: object\n"
     ]
    }
   ],
   "source": [
    "print(df_mix.T.dtypes)"
   ]
  },
  {
   "cell_type": "code",
   "execution_count": 15,
   "metadata": {},
   "outputs": [
    {
     "name": "stdout",
     "output_type": "stream",
     "text": [
      "   col_int  col_float\n",
      "A     10.1       10.0\n",
      "B      1.0        0.1\n",
      "C      2.0        0.2\n"
     ]
    }
   ],
   "source": [
    "df_mix.at['A', 'col_int'] = 10.1\n",
    "df_mix.at['A', 'col_float'] = 10\n",
    "print(df_mix)"
   ]
  },
  {
   "cell_type": "code",
   "execution_count": 16,
   "metadata": {},
   "outputs": [
    {
     "name": "stdout",
     "output_type": "stream",
     "text": [
      "col_int      float64\n",
      "col_float    float64\n",
      "dtype: object\n"
     ]
    }
   ],
   "source": [
    "print(df_mix.dtypes)"
   ]
  },
  {
   "cell_type": "code",
   "execution_count": 17,
   "metadata": {},
   "outputs": [
    {
     "name": "stdout",
     "output_type": "stream",
     "text": [
      "   col_int col_float\n",
      "A     10.1       abc\n",
      "B      1.0       0.1\n",
      "C      2.0       0.2\n"
     ]
    }
   ],
   "source": [
    "df_mix.at['A', 'col_float'] = 'abc'\n",
    "print(df_mix)"
   ]
  },
  {
   "cell_type": "code",
   "execution_count": 18,
   "metadata": {},
   "outputs": [
    {
     "name": "stdout",
     "output_type": "stream",
     "text": [
      "col_int      float64\n",
      "col_float     object\n",
      "dtype: object\n"
     ]
    }
   ],
   "source": [
    "print(df_mix.dtypes)"
   ]
  },
  {
   "cell_type": "code",
   "execution_count": 19,
   "metadata": {},
   "outputs": [
    {
     "name": "stdout",
     "output_type": "stream",
     "text": [
      "           col_int        col_float\n",
      "A  <class 'float'>    <class 'str'>\n",
      "B  <class 'float'>  <class 'float'>\n",
      "C  <class 'float'>  <class 'float'>\n"
     ]
    }
   ],
   "source": [
    "print(df_mix.applymap(type))"
   ]
  }
 ],
 "metadata": {
  "kernelspec": {
   "display_name": "Python 3",
   "language": "python",
   "name": "python3"
  },
  "language_info": {
   "codemirror_mode": {
    "name": "ipython",
    "version": 3
   },
   "file_extension": ".py",
   "mimetype": "text/x-python",
   "name": "python",
   "nbconvert_exporter": "python",
   "pygments_lexer": "ipython3",
   "version": "3.9.12"
  }
 },
 "nbformat": 4,
 "nbformat_minor": 2
}
