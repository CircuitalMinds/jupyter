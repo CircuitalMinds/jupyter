{
 "cells": [
  {
   "cell_type": "code",
   "execution_count": 1,
   "metadata": {
    "collapsed": true
   },
   "outputs": [],
   "source": [
    "import re"
   ]
  },
  {
   "cell_type": "code",
   "execution_count": 2,
   "metadata": {
    "collapsed": true
   },
   "outputs": [],
   "source": [
    "l = ['oneXXXaaa', 'twoXXXbbb', 'three999aaa', '000111222']"
   ]
  },
  {
   "cell_type": "code",
   "execution_count": 3,
   "metadata": {},
   "outputs": [
    {
     "name": "stdout",
     "output_type": "stream",
     "text": [
      "['oneXXXaaa', 'twoXXXbbb']\n"
     ]
    }
   ],
   "source": [
    "l_re_match = [s for s in l if re.match('.*XXX.*', s)]\n",
    "print(l_re_match)"
   ]
  },
  {
   "cell_type": "code",
   "execution_count": 4,
   "metadata": {},
   "outputs": [
    {
     "name": "stdout",
     "output_type": "stream",
     "text": [
      "['aaa---one', 'bbb---two', 'three999aaa', '000111222']\n"
     ]
    }
   ],
   "source": [
    "l_re_sub_all = [re.sub('(.*)XXX(.*)', r'\\2---\\1', s) for s in l]\n",
    "print(l_re_sub_all)"
   ]
  },
  {
   "cell_type": "code",
   "execution_count": 5,
   "metadata": {},
   "outputs": [
    {
     "name": "stdout",
     "output_type": "stream",
     "text": [
      "['aaa---one', 'bbb---two']\n"
     ]
    }
   ],
   "source": [
    "l_re_sub = [re.sub('(.*)XXX(.*)', r'\\2---\\1', s) for s in l if re.match('.*XXX.*', s)]\n",
    "print(l_re_sub)"
   ]
  }
 ],
 "metadata": {
  "kernelspec": {
   "display_name": "Python 3",
   "language": "python",
   "name": "python3"
  },
  "language_info": {
   "codemirror_mode": {
    "name": "ipython",
    "version": 3
   },
   "file_extension": ".py",
   "mimetype": "text/x-python",
   "name": "python",
   "nbconvert_exporter": "python",
   "pygments_lexer": "ipython3",
   "version": "3.6.4"
  }
 },
 "nbformat": 4,
 "nbformat_minor": 2
}
