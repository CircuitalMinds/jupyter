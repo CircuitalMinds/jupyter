{
 "cells": [
  {
   "cell_type": "code",
   "execution_count": 1,
   "metadata": {
    "collapsed": true
   },
   "outputs": [],
   "source": [
    "import pandas as pd\n",
    "import numpy as np"
   ]
  },
  {
   "cell_type": "code",
   "execution_count": 2,
   "metadata": {
    "collapsed": true
   },
   "outputs": [],
   "source": [
    "df = pd.DataFrame({'A': [-20, -10, 0, 10, 20],\n",
    "                   'B': [1, 2, 3, 4, 5],\n",
    "                   'C': ['a', 'b', 'b', 'b', 'a']})"
   ]
  },
  {
   "cell_type": "code",
   "execution_count": 3,
   "metadata": {},
   "outputs": [
    {
     "name": "stdout",
     "output_type": "stream",
     "text": [
      "    A  B  C\n",
      "0 -20  1  a\n",
      "1 -10  2  b\n",
      "2   0  3  b\n",
      "3  10  4  b\n",
      "4  20  5  a\n"
     ]
    }
   ],
   "source": [
    "print(df)"
   ]
  },
  {
   "cell_type": "code",
   "execution_count": 4,
   "metadata": {},
   "outputs": [
    {
     "name": "stdout",
     "output_type": "stream",
     "text": [
      "     A  B  C\n",
      "0 -100  1  a\n",
      "1 -100  2  b\n",
      "2  100  3  b\n",
      "3  100  4  b\n",
      "4  100  5  a\n"
     ]
    }
   ],
   "source": [
    "df.loc[df['A'] < 0, 'A'] = -100\n",
    "df.loc[~(df['A'] < 0), 'A'] = 100\n",
    "print(df)"
   ]
  },
  {
   "cell_type": "code",
   "execution_count": 5,
   "metadata": {},
   "outputs": [
    {
     "name": "stdout",
     "output_type": "stream",
     "text": [
      "0     True\n",
      "1     True\n",
      "2    False\n",
      "3    False\n",
      "4    False\n",
      "Name: A, dtype: bool\n"
     ]
    }
   ],
   "source": [
    "print(df['A'] < 0)"
   ]
  },
  {
   "cell_type": "code",
   "execution_count": 6,
   "metadata": {},
   "outputs": [
    {
     "name": "stdout",
     "output_type": "stream",
     "text": [
      "0    False\n",
      "1    False\n",
      "2     True\n",
      "3     True\n",
      "4     True\n",
      "Name: A, dtype: bool\n"
     ]
    }
   ],
   "source": [
    "print(~(df['A'] < 0))"
   ]
  },
  {
   "cell_type": "code",
   "execution_count": 7,
   "metadata": {},
   "outputs": [
    {
     "name": "stdout",
     "output_type": "stream",
     "text": [
      "0   -100\n",
      "1   -100\n",
      "Name: A, dtype: int64\n"
     ]
    }
   ],
   "source": [
    "print(df.loc[df['A'] < 0, 'A'])"
   ]
  },
  {
   "cell_type": "code",
   "execution_count": 8,
   "metadata": {},
   "outputs": [
    {
     "name": "stdout",
     "output_type": "stream",
     "text": [
      "     A  B  C\n",
      "0  -10  1  a\n",
      "1  -10  2  b\n",
      "2  100  3  b\n",
      "3  100  4  b\n",
      "4  100  5  a\n"
     ]
    }
   ],
   "source": [
    "df.loc[df['A'] < 0, 'A'] = -10\n",
    "print(df)"
   ]
  },
  {
   "cell_type": "code",
   "execution_count": 9,
   "metadata": {},
   "outputs": [
    {
     "name": "stdout",
     "output_type": "stream",
     "text": [
      "    A  B  C\n",
      "0 -10  1  a\n",
      "1 -10  2  b\n",
      "2   3  3  b\n",
      "3   4  4  b\n",
      "4   5  5  a\n"
     ]
    }
   ],
   "source": [
    "df.loc[~(df['A'] < 0), 'A'] = df['B']\n",
    "print(df)"
   ]
  },
  {
   "cell_type": "code",
   "execution_count": 10,
   "metadata": {},
   "outputs": [
    {
     "name": "stdout",
     "output_type": "stream",
     "text": [
      "    A  B  C     D\n",
      "0 -10  1  a   odd\n",
      "1 -10  2  b  even\n",
      "2   3  3  b   odd\n",
      "3   4  4  b  even\n",
      "4   5  5  a   odd\n"
     ]
    }
   ],
   "source": [
    "df.loc[df['B'] % 2 == 0, 'D'] = 'even'\n",
    "df.loc[df['B'] % 2 != 0, 'D'] = 'odd'\n",
    "print(df)"
   ]
  },
  {
   "cell_type": "code",
   "execution_count": 11,
   "metadata": {},
   "outputs": [
    {
     "name": "stdout",
     "output_type": "stream",
     "text": [
      "    A  B  C     D    E\n",
      "0 -10  1  a   odd  NaN\n",
      "1 -10  2  b  even  NaN\n",
      "2   3  3  b   odd  6.0\n",
      "3   4  4  b  even  8.0\n",
      "4   5  5  a   odd  NaN\n"
     ]
    }
   ],
   "source": [
    "df.loc[~(df['A'] < 0) & (df['C'] == 'b'), 'E'] = df['B'] * 2\n",
    "print(df)"
   ]
  },
  {
   "cell_type": "code",
   "execution_count": 12,
   "metadata": {},
   "outputs": [
    {
     "name": "stdout",
     "output_type": "stream",
     "text": [
      "    A  B  C     D    E\n",
      "0 -10  1  a   odd  NaN\n",
      "1 -10  2  b  even  NaN\n",
      "2  10  3  b   odd  6.0\n",
      "3  10  4  b  even  8.0\n",
      "4  10  5  a   odd  NaN\n"
     ]
    }
   ],
   "source": [
    "df.loc[~(df['A'] < 0), 'A'] = 10\n",
    "print(df)"
   ]
  },
  {
   "cell_type": "code",
   "execution_count": 13,
   "metadata": {},
   "outputs": [
    {
     "name": "stdout",
     "output_type": "stream",
     "text": [
      "    A  B  C     D    E     F\n",
      "0 -10  1  a   odd  NaN -10.0\n",
      "1 -10  2  b  even  NaN   2.0\n",
      "2  10  3  b   odd  6.0   3.0\n",
      "3  10  4  b  even  8.0   4.0\n",
      "4  10  5  a   odd  NaN  10.0\n"
     ]
    }
   ],
   "source": [
    "df.loc[df['C'] == 'a', 'F'] = df['A']\n",
    "df.loc[df['C'] == 'b', 'F'] = df['B']\n",
    "print(df)"
   ]
  },
  {
   "cell_type": "code",
   "execution_count": 14,
   "metadata": {},
   "outputs": [
    {
     "name": "stdout",
     "output_type": "stream",
     "text": [
      "    A  B  C     D    E   F\n",
      "0 -10  1  a   odd  NaN -10\n",
      "1 -10  2  b  even  NaN   2\n",
      "2  10  3  b   odd  6.0   3\n",
      "3  10  4  b  even  8.0   4\n",
      "4  10  5  a   odd  NaN  10\n"
     ]
    }
   ],
   "source": [
    "df['F'] = df['F'].astype(int)\n",
    "print(df)"
   ]
  },
  {
   "cell_type": "code",
   "execution_count": 15,
   "metadata": {},
   "outputs": [
    {
     "name": "stdout",
     "output_type": "stream",
     "text": [
      "    A  B  C     D      E    F\n",
      "0 -10  1  a   odd  100.0  100\n",
      "1 -10  2  b  even    NaN    2\n",
      "2  10  3  b   odd    6.0    3\n",
      "3  10  4  b  even    8.0    4\n",
      "4  10  5  a   odd  100.0  100\n"
     ]
    }
   ],
   "source": [
    "df.loc[df['C'] == 'a', ['E', 'F']] = 100\n",
    "print(df)"
   ]
  },
  {
   "cell_type": "code",
   "execution_count": 16,
   "metadata": {},
   "outputs": [
    {
     "name": "stdout",
     "output_type": "stream",
     "text": [
      "       A      B     C     D      E      F\n",
      "0   True  False  True  True  False  False\n",
      "1   True  False  True  True  False  False\n",
      "2  False  False  True  True  False  False\n",
      "3  False  False  True  True  False  False\n",
      "4  False  False  True  True  False  False\n"
     ]
    }
   ],
   "source": [
    "print(df < 0)"
   ]
  },
  {
   "cell_type": "code",
   "execution_count": 17,
   "metadata": {},
   "outputs": [
    {
     "name": "stdout",
     "output_type": "stream",
     "text": [
      "      A   B  C     D   E   F\n",
      "0 -10.0 NaN  a   odd NaN NaN\n",
      "1 -10.0 NaN  b  even NaN NaN\n",
      "2   NaN NaN  b   odd NaN NaN\n",
      "3   NaN NaN  b  even NaN NaN\n",
      "4   NaN NaN  a   odd NaN NaN\n"
     ]
    }
   ],
   "source": [
    "print(df[df < 0])"
   ]
  },
  {
   "cell_type": "code",
   "execution_count": 18,
   "metadata": {
    "collapsed": true
   },
   "outputs": [],
   "source": [
    "# df[df < 0] = 0\n",
    "# TypeError: Cannot do inplace boolean setting on mixed-types with a non np.nan value"
   ]
  },
  {
   "cell_type": "code",
   "execution_count": 19,
   "metadata": {},
   "outputs": [
    {
     "name": "stdout",
     "output_type": "stream",
     "text": [
      "    A  B  C\n",
      "0 -20  1  a\n",
      "1 -10  2  b\n",
      "2   0  3  b\n",
      "3  10  4  b\n",
      "4  20  5  a\n"
     ]
    }
   ],
   "source": [
    "df = pd.DataFrame({'A': [-20, -10, 0, 10, 20],\n",
    "                   'B': [1, 2, 3, 4, 5],\n",
    "                   'C': ['a', 'b', 'b', 'b', 'a']})\n",
    "print(df)"
   ]
  },
  {
   "cell_type": "code",
   "execution_count": 20,
   "metadata": {},
   "outputs": [
    {
     "name": "stdout",
     "output_type": "stream",
     "text": [
      "0   -20.0\n",
      "1     NaN\n",
      "2     NaN\n",
      "3     NaN\n",
      "4    20.0\n",
      "Name: A, dtype: float64\n"
     ]
    }
   ],
   "source": [
    "print(df['A'].where(df['C'] == 'a'))"
   ]
  },
  {
   "cell_type": "code",
   "execution_count": 21,
   "metadata": {},
   "outputs": [
    {
     "name": "stdout",
     "output_type": "stream",
     "text": [
      "0    -20\n",
      "1    100\n",
      "2    100\n",
      "3    100\n",
      "4     20\n",
      "Name: A, dtype: int64\n"
     ]
    }
   ],
   "source": [
    "print(df['A'].where(df['C'] == 'a', 100))"
   ]
  },
  {
   "cell_type": "code",
   "execution_count": 22,
   "metadata": {},
   "outputs": [
    {
     "name": "stdout",
     "output_type": "stream",
     "text": [
      "0   -20\n",
      "1     2\n",
      "2     3\n",
      "3     4\n",
      "4    20\n",
      "Name: A, dtype: int64\n"
     ]
    }
   ],
   "source": [
    "print(df['A'].where(df['C'] == 'a', df['B']))"
   ]
  },
  {
   "cell_type": "code",
   "execution_count": 23,
   "metadata": {},
   "outputs": [
    {
     "name": "stdout",
     "output_type": "stream",
     "text": [
      "    A  B  C   D\n",
      "0 -20  1  a -20\n",
      "1 -10  2  b   2\n",
      "2   0  3  b   3\n",
      "3  10  4  b   4\n",
      "4  20  5  a  20\n"
     ]
    }
   ],
   "source": [
    "df['D'] = df['A'].where(df['C'] == 'a', df['B'])\n",
    "print(df)"
   ]
  },
  {
   "cell_type": "code",
   "execution_count": 24,
   "metadata": {},
   "outputs": [
    {
     "name": "stdout",
     "output_type": "stream",
     "text": [
      "    A  B  C     D\n",
      "0 -20  1  a   -20\n",
      "1 -10  2  b     2\n",
      "2   0  3  b   300\n",
      "3  10  4  b   400\n",
      "4  20  5  a  2000\n"
     ]
    }
   ],
   "source": [
    "df['D'].where((df['D'] % 2 == 0) & (df['A'] < 0), df['D'] * 100, inplace=True)\n",
    "print(df)"
   ]
  },
  {
   "cell_type": "code",
   "execution_count": 25,
   "metadata": {},
   "outputs": [
    {
     "name": "stdout",
     "output_type": "stream",
     "text": [
      "       A      B     C      D\n",
      "0   True  False  True   True\n",
      "1   True  False  True  False\n",
      "2  False  False  True  False\n",
      "3  False  False  True  False\n",
      "4  False  False  True  False\n"
     ]
    }
   ],
   "source": [
    "print(df < 0)"
   ]
  },
  {
   "cell_type": "code",
   "execution_count": 26,
   "metadata": {},
   "outputs": [
    {
     "name": "stdout",
     "output_type": "stream",
     "text": [
      "      A   B  C     D\n",
      "0 -20.0 NaN  a -20.0\n",
      "1 -10.0 NaN  b   NaN\n",
      "2   NaN NaN  b   NaN\n",
      "3   NaN NaN  b   NaN\n",
      "4   NaN NaN  a   NaN\n"
     ]
    }
   ],
   "source": [
    "print(df.where(df < 0))"
   ]
  },
  {
   "cell_type": "code",
   "execution_count": 27,
   "metadata": {},
   "outputs": [
    {
     "name": "stdout",
     "output_type": "stream",
     "text": [
      "    A   B  C     D\n",
      "0 -20   2  a   -20\n",
      "1 -10   4  b     4\n",
      "2   0   6  b   600\n",
      "3  20   8  b   800\n",
      "4  40  10  a  4000\n"
     ]
    }
   ],
   "source": [
    "print(df.where(df < 0, df * 2))"
   ]
  },
  {
   "cell_type": "code",
   "execution_count": 28,
   "metadata": {},
   "outputs": [
    {
     "name": "stdout",
     "output_type": "stream",
     "text": [
      "     A    B  C    D\n",
      "0  -20  100  a  -20\n",
      "1  -10  100  b  100\n",
      "2  100  100  b  100\n",
      "3  100  100  b  100\n",
      "4  100  100  a  100\n"
     ]
    }
   ],
   "source": [
    "print(df.where(df < 0, 100))"
   ]
  },
  {
   "cell_type": "code",
   "execution_count": 29,
   "metadata": {},
   "outputs": [
    {
     "name": "stdout",
     "output_type": "stream",
     "text": [
      "    A  B  C\n",
      "0 -20  1  a\n",
      "1 -10  2  b\n",
      "2   0  3  b\n",
      "3  10  4  b\n",
      "4  20  5  a\n"
     ]
    }
   ],
   "source": [
    "df = pd.DataFrame({'A': [-20, -10, 0, 10, 20],\n",
    "                   'B': [1, 2, 3, 4, 5],\n",
    "                   'C': ['a', 'b', 'b', 'b', 'a']})\n",
    "print(df)"
   ]
  },
  {
   "cell_type": "code",
   "execution_count": 30,
   "metadata": {},
   "outputs": [
    {
     "name": "stdout",
     "output_type": "stream",
     "text": [
      "0    NaN\n",
      "1      b\n",
      "2      b\n",
      "3      b\n",
      "4    NaN\n",
      "Name: C, dtype: object\n"
     ]
    }
   ],
   "source": [
    "print(df['C'].mask(df['C'] == 'a'))"
   ]
  },
  {
   "cell_type": "code",
   "execution_count": 31,
   "metadata": {},
   "outputs": [
    {
     "name": "stdout",
     "output_type": "stream",
     "text": [
      "0    100\n",
      "1      b\n",
      "2      b\n",
      "3      b\n",
      "4    100\n",
      "Name: C, dtype: object\n"
     ]
    }
   ],
   "source": [
    "print(df['C'].mask(df['C'] == 'a', 100))"
   ]
  },
  {
   "cell_type": "code",
   "execution_count": 32,
   "metadata": {},
   "outputs": [
    {
     "name": "stdout",
     "output_type": "stream",
     "text": [
      "    A  B  C   D\n",
      "0 -20  1  a   1\n",
      "1 -10  2  b -10\n",
      "2   0  3  b   0\n",
      "3  10  4  b  10\n",
      "4  20  5  a   5\n"
     ]
    }
   ],
   "source": [
    "df['D'] = df['A'].mask(df['C'] == 'a', df['B'])\n",
    "print(df)"
   ]
  },
  {
   "cell_type": "code",
   "execution_count": 33,
   "metadata": {},
   "outputs": [
    {
     "name": "stdout",
     "output_type": "stream",
     "text": [
      "    A  B  C   D\n",
      "0 -20  1  a  10\n",
      "1 -10  2  b -10\n",
      "2   0  3  b   0\n",
      "3  10  4  b  10\n",
      "4  20  5  a  50\n"
     ]
    }
   ],
   "source": [
    "df['D'].mask(df['D'] % 2 != 0, df['D'] * 10, inplace=True)\n",
    "print(df)"
   ]
  },
  {
   "cell_type": "code",
   "execution_count": 34,
   "metadata": {},
   "outputs": [
    {
     "name": "stdout",
     "output_type": "stream",
     "text": [
      "     A  B     C    D\n",
      "0 -100  1  -100   10\n",
      "1 -100  2  -100 -100\n",
      "2    0  3  -100    0\n",
      "3   10  4  -100   10\n",
      "4   20  5  -100   50\n"
     ]
    }
   ],
   "source": [
    "print(df.mask(df < 0, -100))"
   ]
  },
  {
   "cell_type": "code",
   "execution_count": 35,
   "metadata": {},
   "outputs": [
    {
     "name": "stdout",
     "output_type": "stream",
     "text": [
      "     A  B    D\n",
      "0 -100  1   10\n",
      "1 -100  2 -100\n",
      "2    0  3    0\n",
      "3   10  4   10\n",
      "4   20  5   50\n"
     ]
    }
   ],
   "source": [
    "print(df.select_dtypes(include='number').mask(df < 0, -100))"
   ]
  },
  {
   "cell_type": "code",
   "execution_count": 36,
   "metadata": {},
   "outputs": [
    {
     "name": "stdout",
     "output_type": "stream",
     "text": [
      "     A  B  C    D\n",
      "0 -100  1  a   10\n",
      "1 -100  2  b -100\n",
      "2    0  3  b    0\n",
      "3   10  4  b   10\n",
      "4   20  5  a   50\n"
     ]
    }
   ],
   "source": [
    "df_mask = df.select_dtypes(include='number').mask(df < 0, -100)\n",
    "df_mask = pd.concat([df_mask, df.select_dtypes(exclude='number')], axis=1)\n",
    "print(df_mask.sort_index(axis=1))"
   ]
  },
  {
   "cell_type": "code",
   "execution_count": 37,
   "metadata": {},
   "outputs": [
    {
     "name": "stdout",
     "output_type": "stream",
     "text": [
      "    A  B  C\n",
      "0 -20  1  a\n",
      "1 -10  2  b\n",
      "2   0  3  b\n",
      "3  10  4  b\n",
      "4  20  5  a\n"
     ]
    }
   ],
   "source": [
    "df = pd.DataFrame({'A': [-20, -10, 0, 10, 20],\n",
    "                   'B': [1, 2, 3, 4, 5],\n",
    "                   'C': ['a', 'b', 'b', 'b', 'a']})\n",
    "print(df)"
   ]
  },
  {
   "cell_type": "code",
   "execution_count": 38,
   "metadata": {},
   "outputs": [
    {
     "name": "stdout",
     "output_type": "stream",
     "text": [
      "['odd' 'even' 'odd' 'even' 'odd']\n"
     ]
    }
   ],
   "source": [
    "print(np.where(df['B'] % 2 == 0, 'even', 'odd'))"
   ]
  },
  {
   "cell_type": "code",
   "execution_count": 39,
   "metadata": {},
   "outputs": [
    {
     "name": "stdout",
     "output_type": "stream",
     "text": [
      "[-20   2   3   4  20]\n"
     ]
    }
   ],
   "source": [
    "print(np.where(df['C'] == 'a', df['A'], df['B']))"
   ]
  },
  {
   "cell_type": "code",
   "execution_count": 40,
   "metadata": {},
   "outputs": [
    {
     "name": "stdout",
     "output_type": "stream",
     "text": [
      "    A  B  C     D\n",
      "0 -20  1  a   odd\n",
      "1 -10  2  b  even\n",
      "2   0  3  b   odd\n",
      "3  10  4  b  even\n",
      "4  20  5  a   odd\n"
     ]
    }
   ],
   "source": [
    "df['D'] = np.where(df['B'] % 2 == 0, 'even', 'odd')\n",
    "print(df)"
   ]
  },
  {
   "cell_type": "code",
   "execution_count": 41,
   "metadata": {},
   "outputs": [
    {
     "name": "stdout",
     "output_type": "stream",
     "text": [
      "    A  B  C     D   E\n",
      "0 -20  1  a   odd -20\n",
      "1 -10  2  b  even   2\n",
      "2   0  3  b   odd   3\n",
      "3  10  4  b  even   4\n",
      "4  20  5  a   odd  20\n"
     ]
    }
   ],
   "source": [
    "df['E'] = np.where(df['C'] == 'a', df['A'], df['B'])\n",
    "print(df)"
   ]
  },
  {
   "cell_type": "code",
   "execution_count": 42,
   "metadata": {},
   "outputs": [
    {
     "name": "stdout",
     "output_type": "stream",
     "text": [
      "[[-20 100 'a' 'odd' -20]\n",
      " [-10 100 'b' 'even' 100]\n",
      " [100 100 'b' 'odd' 100]\n",
      " [100 100 'b' 'even' 100]\n",
      " [100 100 'a' 'odd' 100]]\n"
     ]
    }
   ],
   "source": [
    "print(np.where(df < 0, df, 100))"
   ]
  },
  {
   "cell_type": "code",
   "execution_count": 43,
   "metadata": {
    "collapsed": true
   },
   "outputs": [],
   "source": [
    "df_np_where = pd.DataFrame(np.where(df < 0, df, 100),\n",
    "                           index=df.index, columns=df.columns)"
   ]
  },
  {
   "cell_type": "code",
   "execution_count": 44,
   "metadata": {},
   "outputs": [
    {
     "name": "stdout",
     "output_type": "stream",
     "text": [
      "     A    B  C     D    E\n",
      "0  -20  100  a   odd  -20\n",
      "1  -10  100  b  even  100\n",
      "2  100  100  b   odd  100\n",
      "3  100  100  b  even  100\n",
      "4  100  100  a   odd  100\n"
     ]
    }
   ],
   "source": [
    "print(df_np_where)"
   ]
  }
 ],
 "metadata": {
  "kernelspec": {
   "display_name": "Python 3",
   "language": "python",
   "name": "python3"
  },
  "language_info": {
   "codemirror_mode": {
    "name": "ipython",
    "version": 3
   },
   "file_extension": ".py",
   "mimetype": "text/x-python",
   "name": "python",
   "nbconvert_exporter": "python",
   "pygments_lexer": "ipython3",
   "version": "3.6.5"
  }
 },
 "nbformat": 4,
 "nbformat_minor": 2
}
