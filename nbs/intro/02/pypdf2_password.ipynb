{
 "cells": [
  {
   "cell_type": "code",
   "execution_count": 1,
   "metadata": {},
   "outputs": [],
   "source": [
    "import PyPDF2"
   ]
  },
  {
   "cell_type": "code",
   "execution_count": 2,
   "metadata": {},
   "outputs": [],
   "source": [
    "pdf = PyPDF2.PdfFileReader('data/src/pdf/sample1.pdf')"
   ]
  },
  {
   "cell_type": "code",
   "execution_count": 3,
   "metadata": {},
   "outputs": [
    {
     "name": "stdout",
     "output_type": "stream",
     "text": [
      "False\n"
     ]
    }
   ],
   "source": [
    "print(pdf.isEncrypted)"
   ]
  },
  {
   "cell_type": "code",
   "execution_count": 4,
   "metadata": {},
   "outputs": [],
   "source": [
    "src_pdf = PyPDF2.PdfFileReader('data/src/pdf/sample1.pdf')"
   ]
  },
  {
   "cell_type": "code",
   "execution_count": 5,
   "metadata": {},
   "outputs": [],
   "source": [
    "dst_pdf = PyPDF2.PdfFileWriter()"
   ]
  },
  {
   "cell_type": "code",
   "execution_count": 6,
   "metadata": {},
   "outputs": [],
   "source": [
    "dst_pdf.cloneReaderDocumentRoot(src_pdf)"
   ]
  },
  {
   "cell_type": "code",
   "execution_count": 7,
   "metadata": {},
   "outputs": [
    {
     "name": "stdout",
     "output_type": "stream",
     "text": [
      "{'/Title': IndirectObject(33, 0), '/Producer': IndirectObject(34, 0), '/Creator': IndirectObject(35, 0), '/CreationDate': IndirectObject(36, 0), '/ModDate': IndirectObject(36, 0)}\n"
     ]
    }
   ],
   "source": [
    "print(src_pdf.documentInfo)"
   ]
  },
  {
   "cell_type": "code",
   "execution_count": 8,
   "metadata": {},
   "outputs": [],
   "source": [
    "# dst_pdf.addMetadata(src_pdf.documentInfo)\n",
    "# TypeError: createStringObject should have str or unicode arg"
   ]
  },
  {
   "cell_type": "code",
   "execution_count": 9,
   "metadata": {},
   "outputs": [],
   "source": [
    "d = {key: src_pdf.documentInfo[key] for key in src_pdf.documentInfo.keys()}"
   ]
  },
  {
   "cell_type": "code",
   "execution_count": 10,
   "metadata": {},
   "outputs": [
    {
     "name": "stdout",
     "output_type": "stream",
     "text": [
      "{'/Title': 'sample1', '/Producer': 'macOS バージョン10.14.2（ビルド18C54） Quartz PDFContext', '/Creator': 'Keynote', '/CreationDate': \"D:20190114072947Z00'00'\", '/ModDate': \"D:20190114072947Z00'00'\"}\n"
     ]
    }
   ],
   "source": [
    "print(d)"
   ]
  },
  {
   "cell_type": "code",
   "execution_count": 11,
   "metadata": {},
   "outputs": [],
   "source": [
    "dst_pdf.addMetadata(d)"
   ]
  },
  {
   "cell_type": "code",
   "execution_count": 12,
   "metadata": {},
   "outputs": [],
   "source": [
    "dst_pdf.encrypt('password')"
   ]
  },
  {
   "cell_type": "code",
   "execution_count": 13,
   "metadata": {},
   "outputs": [],
   "source": [
    "with open('data/temp/sample1_pass.pdf', 'wb') as f:\n",
    "    dst_pdf.write(f)"
   ]
  },
  {
   "cell_type": "code",
   "execution_count": 14,
   "metadata": {},
   "outputs": [],
   "source": [
    "def set_password(src_path, dst_path, password):\n",
    "    src_pdf = PyPDF2.PdfFileReader(src_path)\n",
    "    \n",
    "    dst_pdf = PyPDF2.PdfFileWriter()\n",
    "    dst_pdf.cloneReaderDocumentRoot(src_pdf)\n",
    "    \n",
    "    d = {key: src_pdf.documentInfo[key] for key in src_pdf.documentInfo.keys()}\n",
    "    dst_pdf.addMetadata(d)\n",
    "    \n",
    "    dst_pdf.encrypt(password)\n",
    "    \n",
    "    with open(dst_path, 'wb') as f:\n",
    "        dst_pdf.write(f)"
   ]
  },
  {
   "cell_type": "code",
   "execution_count": 15,
   "metadata": {},
   "outputs": [],
   "source": [
    "set_password('data/src/pdf/sample1.pdf', 'data/temp/sample1_pass.pdf', 'password')"
   ]
  },
  {
   "cell_type": "code",
   "execution_count": 16,
   "metadata": {},
   "outputs": [],
   "source": [
    "pdf_rc4 = PyPDF2.PdfFileReader('data/src/pdf/sample1_pass_rc4.pdf')"
   ]
  },
  {
   "cell_type": "code",
   "execution_count": 17,
   "metadata": {},
   "outputs": [
    {
     "name": "stdout",
     "output_type": "stream",
     "text": [
      "True\n"
     ]
    }
   ],
   "source": [
    "print(pdf_rc4.isEncrypted)"
   ]
  },
  {
   "cell_type": "code",
   "execution_count": 18,
   "metadata": {},
   "outputs": [],
   "source": [
    "# print(pdf_rc4.documentInfo)\n",
    "# PdfReadError: file has not been decrypted"
   ]
  },
  {
   "cell_type": "code",
   "execution_count": 19,
   "metadata": {},
   "outputs": [
    {
     "name": "stdout",
     "output_type": "stream",
     "text": [
      "0\n"
     ]
    }
   ],
   "source": [
    "print(pdf_rc4.decrypt('wrong-password'))"
   ]
  },
  {
   "cell_type": "code",
   "execution_count": 20,
   "metadata": {},
   "outputs": [
    {
     "name": "stdout",
     "output_type": "stream",
     "text": [
      "1\n"
     ]
    }
   ],
   "source": [
    "print(pdf_rc4.decrypt('password'))"
   ]
  },
  {
   "cell_type": "code",
   "execution_count": 21,
   "metadata": {},
   "outputs": [
    {
     "name": "stdout",
     "output_type": "stream",
     "text": [
      "{'/Producer': 'macOS バージョン10.14.2（ビルド18C54） Quartz PDFContext', '/Title': 'sample1', '/Creator': 'Keynote', '/CreationDate': \"D:20190114072947Z00'00'\", '/ModDate': \"D:20190114072947Z00'00'\"}\n"
     ]
    }
   ],
   "source": [
    "print(pdf_rc4.documentInfo)"
   ]
  },
  {
   "cell_type": "code",
   "execution_count": 22,
   "metadata": {},
   "outputs": [],
   "source": [
    "pdf_aes = PyPDF2.PdfFileReader('data/src/pdf/sample1_pass_aes.pdf')"
   ]
  },
  {
   "cell_type": "code",
   "execution_count": 23,
   "metadata": {},
   "outputs": [],
   "source": [
    "# print(pdf_aes.decrypt('password'))\n",
    "# NotImplementedError: only algorithm code 1 and 2 are supported"
   ]
  },
  {
   "cell_type": "code",
   "execution_count": 24,
   "metadata": {},
   "outputs": [],
   "source": [
    "def change_password(src_path, dst_path, src_password, dst_password=None):\n",
    "    src_pdf = PyPDF2.PdfFileReader(src_path)\n",
    "    src_pdf.decrypt(src_password)\n",
    "    \n",
    "    dst_pdf = PyPDF2.PdfFileWriter()\n",
    "    dst_pdf.cloneReaderDocumentRoot(src_pdf)\n",
    "    \n",
    "    d = {key: src_pdf.documentInfo[key] for key in src_pdf.documentInfo.keys()}\n",
    "    dst_pdf.addMetadata(d)\n",
    "    \n",
    "    if dst_password:\n",
    "        dst_pdf.encrypt(dst_password)\n",
    "    \n",
    "    with open(dst_path, 'wb') as f:\n",
    "        dst_pdf.write(f)"
   ]
  },
  {
   "cell_type": "code",
   "execution_count": 25,
   "metadata": {},
   "outputs": [],
   "source": [
    "change_password('data/src/pdf/sample1_pass_rc4.pdf', 'data/temp/sample1_no_pass.pdf', 'password')"
   ]
  },
  {
   "cell_type": "code",
   "execution_count": 26,
   "metadata": {},
   "outputs": [],
   "source": [
    "change_password('data/src/pdf/sample1_pass_rc4.pdf', 'data/temp/sample1_new_pass.pdf',\n",
    "                'password', 'new_password')"
   ]
  }
 ],
 "metadata": {
  "kernelspec": {
   "display_name": "Python 3",
   "language": "python",
   "name": "python3"
  },
  "language_info": {
   "codemirror_mode": {
    "name": "ipython",
    "version": 3
   },
   "file_extension": ".py",
   "mimetype": "text/x-python",
   "name": "python",
   "nbconvert_exporter": "python",
   "pygments_lexer": "ipython3",
   "version": "3.7.2"
  }
 },
 "nbformat": 4,
 "nbformat_minor": 2
}
