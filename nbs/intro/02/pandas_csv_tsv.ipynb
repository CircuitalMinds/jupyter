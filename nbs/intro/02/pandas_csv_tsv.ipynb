{
 "cells": [
  {
   "cell_type": "code",
   "execution_count": 1,
   "metadata": {
    "collapsed": true
   },
   "outputs": [],
   "source": [
    "import pandas as pd"
   ]
  },
  {
   "cell_type": "code",
   "execution_count": 2,
   "metadata": {},
   "outputs": [
    {
     "name": "stdout",
     "output_type": "stream",
     "text": [
      "   11  12  13  14\n",
      "0  21  22  23  24\n",
      "1  31  32  33  34\n"
     ]
    }
   ],
   "source": [
    "df = pd.read_csv('data/src/sample.csv')\n",
    "print(df)"
   ]
  },
  {
   "cell_type": "code",
   "execution_count": 3,
   "metadata": {},
   "outputs": [
    {
     "name": "stdout",
     "output_type": "stream",
     "text": [
      "Index(['11', '12', '13', '14'], dtype='object')\n"
     ]
    }
   ],
   "source": [
    "print(df.columns)"
   ]
  },
  {
   "cell_type": "code",
   "execution_count": 4,
   "metadata": {},
   "outputs": [
    {
     "name": "stdout",
     "output_type": "stream",
     "text": [
      "    0   1   2   3\n",
      "0  11  12  13  14\n",
      "1  21  22  23  24\n",
      "2  31  32  33  34\n"
     ]
    }
   ],
   "source": [
    "df_none = pd.read_csv('data/src/sample.csv', header=None)\n",
    "print(df_none)"
   ]
  },
  {
   "cell_type": "code",
   "execution_count": 5,
   "metadata": {},
   "outputs": [
    {
     "name": "stdout",
     "output_type": "stream",
     "text": [
      "    A   B   C   D\n",
      "0  11  12  13  14\n",
      "1  21  22  23  24\n",
      "2  31  32  33  34\n"
     ]
    }
   ],
   "source": [
    "df_names = pd.read_csv('data/src/sample.csv', names=('A', 'B', 'C', 'D'))\n",
    "print(df_names)"
   ]
  },
  {
   "cell_type": "code",
   "execution_count": 6,
   "metadata": {},
   "outputs": [
    {
     "name": "stdout",
     "output_type": "stream",
     "text": [
      "    a   b   c   d\n",
      "0  11  12  13  14\n",
      "1  21  22  23  24\n",
      "2  31  32  33  34\n"
     ]
    }
   ],
   "source": [
    "df_header = pd.read_csv('data/src/sample_header.csv')\n",
    "print(df_header)"
   ]
  },
  {
   "cell_type": "code",
   "execution_count": 7,
   "metadata": {},
   "outputs": [
    {
     "name": "stdout",
     "output_type": "stream",
     "text": [
      "    a   b   c   d\n",
      "0  11  12  13  14\n",
      "1  21  22  23  24\n",
      "2  31  32  33  34\n"
     ]
    }
   ],
   "source": [
    "df_header_0 = pd.read_csv('data/src/sample_header.csv', header=0)\n",
    "print(df_header_0)"
   ]
  },
  {
   "cell_type": "code",
   "execution_count": 8,
   "metadata": {},
   "outputs": [
    {
     "name": "stdout",
     "output_type": "stream",
     "text": [
      "   21  22  23  24\n",
      "0  31  32  33  34\n"
     ]
    }
   ],
   "source": [
    "df_header_2 = pd.read_csv('data/src/sample_header.csv', header=2)\n",
    "print(df_header_2)"
   ]
  },
  {
   "cell_type": "code",
   "execution_count": 9,
   "metadata": {},
   "outputs": [
    {
     "name": "stdout",
     "output_type": "stream",
     "text": [
      "  Unnamed: 0   a   b   c   d\n",
      "0        ONE  11  12  13  14\n",
      "1        TWO  21  22  23  24\n",
      "2      THREE  31  32  33  34\n"
     ]
    }
   ],
   "source": [
    "df_header_index = pd.read_csv('data/src/sample_header_index.csv')\n",
    "print(df_header_index)"
   ]
  },
  {
   "cell_type": "code",
   "execution_count": 10,
   "metadata": {},
   "outputs": [
    {
     "name": "stdout",
     "output_type": "stream",
     "text": [
      "RangeIndex(start=0, stop=3, step=1)\n"
     ]
    }
   ],
   "source": [
    "print(df_header_index.index)"
   ]
  },
  {
   "cell_type": "code",
   "execution_count": 11,
   "metadata": {},
   "outputs": [
    {
     "name": "stdout",
     "output_type": "stream",
     "text": [
      "        a   b   c   d\n",
      "ONE    11  12  13  14\n",
      "TWO    21  22  23  24\n",
      "THREE  31  32  33  34\n"
     ]
    }
   ],
   "source": [
    "df_header_index_col = pd.read_csv('data/src/sample_header_index.csv', index_col=0)\n",
    "print(df_header_index_col)"
   ]
  },
  {
   "cell_type": "code",
   "execution_count": 12,
   "metadata": {},
   "outputs": [
    {
     "name": "stdout",
     "output_type": "stream",
     "text": [
      "Index(['ONE', 'TWO', 'THREE'], dtype='object')\n"
     ]
    }
   ],
   "source": [
    "print(df_header_index_col.index)"
   ]
  },
  {
   "cell_type": "code",
   "execution_count": 13,
   "metadata": {},
   "outputs": [
    {
     "name": "stdout",
     "output_type": "stream",
     "text": [
      "    1   3\n",
      "0  12  14\n",
      "1  22  24\n",
      "2  32  34\n"
     ]
    }
   ],
   "source": [
    "df_none_usecols = pd.read_csv('data/src/sample.csv', header=None, usecols=[1, 3])\n",
    "print(df_none_usecols)"
   ]
  },
  {
   "cell_type": "code",
   "execution_count": 14,
   "metadata": {},
   "outputs": [
    {
     "name": "stdout",
     "output_type": "stream",
     "text": [
      "    2\n",
      "0  13\n",
      "1  23\n",
      "2  33\n"
     ]
    }
   ],
   "source": [
    "df_none_usecols = pd.read_csv('data/src/sample.csv', header=None, usecols=[2])\n",
    "print(df_none_usecols)"
   ]
  },
  {
   "cell_type": "code",
   "execution_count": 15,
   "metadata": {},
   "outputs": [
    {
     "name": "stdout",
     "output_type": "stream",
     "text": [
      "    a   c\n",
      "0  11  13\n",
      "1  21  23\n",
      "2  31  33\n"
     ]
    }
   ],
   "source": [
    "df_header_usecols = pd.read_csv('data/src/sample_header.csv', usecols=['a', 'c'])\n",
    "print(df_header_usecols)"
   ]
  },
  {
   "cell_type": "code",
   "execution_count": 16,
   "metadata": {},
   "outputs": [
    {
     "name": "stdout",
     "output_type": "stream",
     "text": [
      "    a   c   d\n",
      "0  11  13  14\n",
      "1  21  23  24\n",
      "2  31  33  34\n"
     ]
    }
   ],
   "source": [
    "df_header_usecols = pd.read_csv('data/src/sample_header.csv',\n",
    "                                usecols=lambda x: x is not 'b')\n",
    "print(df_header_usecols)"
   ]
  },
  {
   "cell_type": "code",
   "execution_count": 17,
   "metadata": {},
   "outputs": [
    {
     "name": "stdout",
     "output_type": "stream",
     "text": [
      "    b   d\n",
      "0  12  14\n",
      "1  22  24\n",
      "2  32  34\n"
     ]
    }
   ],
   "source": [
    "df_header_usecols = pd.read_csv('data/src/sample_header.csv',\n",
    "                                usecols=lambda x: x not in ['a', 'c'])\n",
    "print(df_header_usecols)"
   ]
  },
  {
   "cell_type": "code",
   "execution_count": 18,
   "metadata": {},
   "outputs": [
    {
     "name": "stdout",
     "output_type": "stream",
     "text": [
      "        a   c\n",
      "ONE    11  13\n",
      "TWO    21  23\n",
      "THREE  31  33\n"
     ]
    }
   ],
   "source": [
    "df_index_usecols = pd.read_csv('data/src/sample_header_index.csv',\n",
    "                               index_col=0, usecols=[0, 1, 3])\n",
    "print(df_index_usecols)"
   ]
  },
  {
   "cell_type": "code",
   "execution_count": 19,
   "metadata": {},
   "outputs": [
    {
     "name": "stdout",
     "output_type": "stream",
     "text": [
      "    0   1   2   3\n",
      "0  11  12  13  14\n",
      "1  21  22  23  24\n",
      "2  31  32  33  34\n"
     ]
    }
   ],
   "source": [
    "df_none = pd.read_csv('data/src/sample.csv', header=None)\n",
    "print(df_none)"
   ]
  },
  {
   "cell_type": "code",
   "execution_count": 20,
   "metadata": {},
   "outputs": [
    {
     "name": "stdout",
     "output_type": "stream",
     "text": [
      "    0   1   2   3\n",
      "0  31  32  33  34\n"
     ]
    }
   ],
   "source": [
    "df_none = pd.read_csv('data/src/sample.csv', header=None, skiprows=2)\n",
    "print(df_none)"
   ]
  },
  {
   "cell_type": "code",
   "execution_count": 21,
   "metadata": {},
   "outputs": [
    {
     "name": "stdout",
     "output_type": "stream",
     "text": [
      "    0   1   2   3\n",
      "0  21  22  23  24\n"
     ]
    }
   ],
   "source": [
    "df_none_skiprows = pd.read_csv('data/src/sample.csv', header=None, skiprows=[0, 2])\n",
    "print(df_none_skiprows)"
   ]
  },
  {
   "cell_type": "code",
   "execution_count": 22,
   "metadata": {},
   "outputs": [
    {
     "name": "stdout",
     "output_type": "stream",
     "text": [
      "    0   1   2   3\n",
      "0  11  12  13  14\n",
      "1  31  32  33  34\n"
     ]
    }
   ],
   "source": [
    "df_none_skiprows = pd.read_csv('data/src/sample.csv', header=None, skiprows=[1])\n",
    "print(df_none_skiprows)"
   ]
  },
  {
   "cell_type": "code",
   "execution_count": 23,
   "metadata": {},
   "outputs": [
    {
     "name": "stdout",
     "output_type": "stream",
     "text": [
      "    0   1   2   3\n",
      "0  11  12  13  14\n",
      "1  31  32  33  34\n"
     ]
    }
   ],
   "source": [
    "df_none_skiprows = pd.read_csv('data/src/sample.csv', header=None,\n",
    "                               skiprows=lambda x: x not in [0, 2])\n",
    "print(df_none_skiprows)"
   ]
  },
  {
   "cell_type": "code",
   "execution_count": 24,
   "metadata": {},
   "outputs": [
    {
     "name": "stdout",
     "output_type": "stream",
     "text": [
      "    a   b   c   d\n",
      "0  21  22  23  24\n",
      "1  31  32  33  34\n"
     ]
    }
   ],
   "source": [
    "df_header_skiprows = pd.read_csv('data/src/sample_header.csv', skiprows=[1])\n",
    "print(df_header_skiprows)"
   ]
  },
  {
   "cell_type": "code",
   "execution_count": 25,
   "metadata": {},
   "outputs": [
    {
     "name": "stdout",
     "output_type": "stream",
     "text": [
      "   11  12  13  14\n",
      "0  21  22  23  24\n"
     ]
    }
   ],
   "source": [
    "df_header_skiprows = pd.read_csv('data/src/sample_header.csv', skiprows=[0, 3])\n",
    "print(df_header_skiprows)"
   ]
  },
  {
   "cell_type": "code",
   "execution_count": 26,
   "metadata": {},
   "outputs": [
    {
     "name": "stdout",
     "output_type": "stream",
     "text": [
      "    0   1   2   3\n",
      "0  11  12  13  14\n",
      "1  21  22  23  24\n"
     ]
    }
   ],
   "source": [
    "df_none_skipfooter = pd.read_csv('data/src/sample.csv', header=None,\n",
    "                                 skipfooter=1, engine='python')\n",
    "print(df_none_skipfooter)"
   ]
  },
  {
   "cell_type": "code",
   "execution_count": 27,
   "metadata": {},
   "outputs": [
    {
     "name": "stdout",
     "output_type": "stream",
     "text": [
      "    0   1   2   3\n",
      "0  11  12  13  14\n",
      "1  21  22  23  24\n"
     ]
    }
   ],
   "source": [
    "df_none_nrows = pd.read_csv('data/src/sample.csv', header=None, nrows=2)\n",
    "print(df_none_nrows)"
   ]
  },
  {
   "cell_type": "code",
   "execution_count": 28,
   "metadata": {},
   "outputs": [
    {
     "name": "stdout",
     "output_type": "stream",
     "text": [
      "       a    b      c  d\n",
      "ONE    1    1  100.0  x\n",
      "TWO    2   20    NaN  y\n",
      "THREE  3  300  300.0  z\n"
     ]
    }
   ],
   "source": [
    "df_default = pd.read_csv('data/src/sample_header_index_dtype.csv', index_col=0)\n",
    "print(df_default)"
   ]
  },
  {
   "cell_type": "code",
   "execution_count": 29,
   "metadata": {},
   "outputs": [
    {
     "name": "stdout",
     "output_type": "stream",
     "text": [
      "a      int64\n",
      "b      int64\n",
      "c    float64\n",
      "d     object\n",
      "dtype: object\n"
     ]
    }
   ],
   "source": [
    "print(df_default.dtypes)"
   ]
  },
  {
   "cell_type": "code",
   "execution_count": 30,
   "metadata": {},
   "outputs": [
    {
     "name": "stdout",
     "output_type": "stream",
     "text": [
      "                   a              b                c              d\n",
      "ONE    <class 'int'>  <class 'int'>  <class 'float'>  <class 'str'>\n",
      "TWO    <class 'int'>  <class 'int'>  <class 'float'>  <class 'str'>\n",
      "THREE  <class 'int'>  <class 'int'>  <class 'float'>  <class 'str'>\n"
     ]
    }
   ],
   "source": [
    "print(df_default.applymap(type))"
   ]
  },
  {
   "cell_type": "code",
   "execution_count": 31,
   "metadata": {},
   "outputs": [
    {
     "name": "stdout",
     "output_type": "stream",
     "text": [
      "       a    b    c  d\n",
      "ONE    1  001  100  x\n",
      "TWO    2  020  NaN  y\n",
      "THREE  3  300  300  z\n"
     ]
    }
   ],
   "source": [
    "df_str = pd.read_csv('data/src/sample_header_index_dtype.csv',\n",
    "                     index_col=0, dtype=str)\n",
    "print(df_str)"
   ]
  },
  {
   "cell_type": "code",
   "execution_count": 32,
   "metadata": {},
   "outputs": [
    {
     "name": "stdout",
     "output_type": "stream",
     "text": [
      "a    object\n",
      "b    object\n",
      "c    object\n",
      "d    object\n",
      "dtype: object\n"
     ]
    }
   ],
   "source": [
    "print(df_str.dtypes)"
   ]
  },
  {
   "cell_type": "code",
   "execution_count": 33,
   "metadata": {},
   "outputs": [
    {
     "name": "stdout",
     "output_type": "stream",
     "text": [
      "                   a              b                c              d\n",
      "ONE    <class 'str'>  <class 'str'>    <class 'str'>  <class 'str'>\n",
      "TWO    <class 'str'>  <class 'str'>  <class 'float'>  <class 'str'>\n",
      "THREE  <class 'str'>  <class 'str'>    <class 'str'>  <class 'str'>\n"
     ]
    }
   ],
   "source": [
    "print(df_str.applymap(type))"
   ]
  },
  {
   "cell_type": "code",
   "execution_count": 34,
   "metadata": {},
   "outputs": [
    {
     "name": "stdout",
     "output_type": "stream",
     "text": [
      "       a    b    c  d\n",
      "ONE    1  001  100  x\n",
      "TWO    2  020  NaN  y\n",
      "THREE  3  300  300  z\n"
     ]
    }
   ],
   "source": [
    "df_object = pd.read_csv('data/src/sample_header_index_dtype.csv',\n",
    "                        index_col=0, dtype=object)\n",
    "print(df_object)"
   ]
  },
  {
   "cell_type": "code",
   "execution_count": 35,
   "metadata": {},
   "outputs": [
    {
     "name": "stdout",
     "output_type": "stream",
     "text": [
      "a    object\n",
      "b    object\n",
      "c    object\n",
      "d    object\n",
      "dtype: object\n"
     ]
    }
   ],
   "source": [
    "print(df_object.dtypes)"
   ]
  },
  {
   "cell_type": "code",
   "execution_count": 36,
   "metadata": {},
   "outputs": [
    {
     "name": "stdout",
     "output_type": "stream",
     "text": [
      "                   a              b                c              d\n",
      "ONE    <class 'str'>  <class 'str'>    <class 'str'>  <class 'str'>\n",
      "TWO    <class 'str'>  <class 'str'>  <class 'float'>  <class 'str'>\n",
      "THREE  <class 'str'>  <class 'str'>    <class 'str'>  <class 'str'>\n"
     ]
    }
   ],
   "source": [
    "print(df_object.applymap(type))"
   ]
  },
  {
   "cell_type": "code",
   "execution_count": 37,
   "metadata": {
    "collapsed": true
   },
   "outputs": [],
   "source": [
    "# df_int = pd.read_csv('data/src/sample_header_index_dtype.csv',\n",
    "#                      index_col=0, dtype=int)\n",
    "# ValueError: invalid literal for int() with base 10: 'ONE'"
   ]
  },
  {
   "cell_type": "code",
   "execution_count": 38,
   "metadata": {},
   "outputs": [
    {
     "name": "stdout",
     "output_type": "stream",
     "text": [
      "       a    b    c  d\n",
      "ONE    1  001  100  x\n",
      "TWO    2  020  NaN  y\n",
      "THREE  3  300  300  z\n"
     ]
    }
   ],
   "source": [
    "df_str_cast = df_str.astype({'a': int})\n",
    "print(df_str_cast)"
   ]
  },
  {
   "cell_type": "code",
   "execution_count": 39,
   "metadata": {},
   "outputs": [
    {
     "name": "stdout",
     "output_type": "stream",
     "text": [
      "a     int64\n",
      "b    object\n",
      "c    object\n",
      "d    object\n",
      "dtype: object\n"
     ]
    }
   ],
   "source": [
    "print(df_str_cast.dtypes)"
   ]
  },
  {
   "cell_type": "code",
   "execution_count": 40,
   "metadata": {},
   "outputs": [
    {
     "name": "stdout",
     "output_type": "stream",
     "text": [
      "       a    b    c  d\n",
      "ONE    1  001  100  x\n",
      "TWO    2  020  NaN  y\n",
      "THREE  3  300  300  z\n"
     ]
    }
   ],
   "source": [
    "df_str_col = pd.read_csv('data/src/sample_header_index_dtype.csv',\n",
    "                         index_col=0, dtype={'b': str, 'c': str})\n",
    "print(df_str_col)"
   ]
  },
  {
   "cell_type": "code",
   "execution_count": 41,
   "metadata": {},
   "outputs": [
    {
     "name": "stdout",
     "output_type": "stream",
     "text": [
      "a     int64\n",
      "b    object\n",
      "c    object\n",
      "d    object\n",
      "dtype: object\n"
     ]
    }
   ],
   "source": [
    "print(df_str_col.dtypes)"
   ]
  },
  {
   "cell_type": "code",
   "execution_count": 42,
   "metadata": {},
   "outputs": [
    {
     "name": "stdout",
     "output_type": "stream",
     "text": [
      "       a    b    c  d\n",
      "ONE    1  001  100  x\n",
      "TWO    2  020  NaN  y\n",
      "THREE  3  300  300  z\n"
     ]
    }
   ],
   "source": [
    "df_str_col_num = pd.read_csv('data/src/sample_header_index_dtype.csv',\n",
    "                             index_col=0, dtype={2: str, 3: str})\n",
    "print(df_str_col_num)"
   ]
  },
  {
   "cell_type": "code",
   "execution_count": 43,
   "metadata": {},
   "outputs": [
    {
     "name": "stdout",
     "output_type": "stream",
     "text": [
      "a     int64\n",
      "b    object\n",
      "c    object\n",
      "d    object\n",
      "dtype: object\n"
     ]
    }
   ],
   "source": [
    "print(df_str_col_num.dtypes)"
   ]
  },
  {
   "cell_type": "code",
   "execution_count": 44,
   "metadata": {},
   "outputs": [
    {
     "name": "stdout",
     "output_type": "stream",
     "text": [
      "         a   b\n",
      "ONE    NaN NaN\n",
      "TWO      - NaN\n",
      "THREE  NaN NaN\n"
     ]
    }
   ],
   "source": [
    "df_nan = pd.read_csv('data/src/sample_header_index_nan.csv', index_col=0)\n",
    "print(df_nan)"
   ]
  },
  {
   "cell_type": "code",
   "execution_count": 45,
   "metadata": {},
   "outputs": [
    {
     "name": "stdout",
     "output_type": "stream",
     "text": [
      "           a     b\n",
      "ONE     True  True\n",
      "TWO    False  True\n",
      "THREE   True  True\n"
     ]
    }
   ],
   "source": [
    "print(df_nan.isnull())"
   ]
  },
  {
   "cell_type": "code",
   "execution_count": 46,
   "metadata": {},
   "outputs": [
    {
     "name": "stdout",
     "output_type": "stream",
     "text": [
      "        a   b\n",
      "ONE   NaN NaN\n",
      "TWO   NaN NaN\n",
      "THREE NaN NaN\n"
     ]
    }
   ],
   "source": [
    "df_nan_set_na = pd.read_csv('data/src/sample_header_index_nan.csv',\n",
    "                            index_col=0, na_values='-')\n",
    "print(df_nan_set_na)"
   ]
  },
  {
   "cell_type": "code",
   "execution_count": 47,
   "metadata": {},
   "outputs": [
    {
     "name": "stdout",
     "output_type": "stream",
     "text": [
      "          a     b\n",
      "ONE    True  True\n",
      "TWO    True  True\n",
      "THREE  True  True\n"
     ]
    }
   ],
   "source": [
    "print(df_nan_set_na.isnull())"
   ]
  },
  {
   "cell_type": "code",
   "execution_count": 48,
   "metadata": {},
   "outputs": [
    {
     "name": "stdout",
     "output_type": "stream",
     "text": [
      "         a    b\n",
      "ONE         NaN\n",
      "TWO    NaN  nan\n",
      "THREE  NaN  N/A\n"
     ]
    }
   ],
   "source": [
    "df_nan_set_na_no_keep = pd.read_csv('data/src/sample_header_index_nan.csv',\n",
    "                                    index_col=0, na_values=['-', 'NaN', 'null'],\n",
    "                                    keep_default_na=False)\n",
    "print(df_nan_set_na_no_keep)"
   ]
  },
  {
   "cell_type": "code",
   "execution_count": 49,
   "metadata": {},
   "outputs": [
    {
     "name": "stdout",
     "output_type": "stream",
     "text": [
      "           a      b\n",
      "ONE    False   True\n",
      "TWO     True  False\n",
      "THREE   True  False\n"
     ]
    }
   ],
   "source": [
    "print(df_nan_set_na_no_keep.isnull())"
   ]
  },
  {
   "cell_type": "code",
   "execution_count": 50,
   "metadata": {},
   "outputs": [
    {
     "name": "stdout",
     "output_type": "stream",
     "text": [
      "          a    b\n",
      "ONE          NaN\n",
      "TWO       -  nan\n",
      "THREE  null  N/A\n"
     ]
    }
   ],
   "source": [
    "df_nan_no_filter = pd.read_csv('data/src/sample_header_index_nan.csv',\n",
    "                               index_col=0, na_filter=False)\n",
    "print(df_nan_no_filter)"
   ]
  },
  {
   "cell_type": "code",
   "execution_count": 51,
   "metadata": {},
   "outputs": [
    {
     "name": "stdout",
     "output_type": "stream",
     "text": [
      "           a      b\n",
      "ONE    False  False\n",
      "TWO    False  False\n",
      "THREE  False  False\n"
     ]
    }
   ],
   "source": [
    "print(df_nan_no_filter.isnull())"
   ]
  },
  {
   "cell_type": "code",
   "execution_count": 52,
   "metadata": {},
   "outputs": [
    {
     "name": "stdout",
     "output_type": "stream",
     "text": [
      "        a   b   c   d\n",
      "ONE    11  12  13  14\n",
      "TWO    21  22  23  24\n",
      "THREE  31  32  33  34\n"
     ]
    }
   ],
   "source": [
    "df_tsv = pd.read_table('data/src/sample_header_index.tsv', index_col=0)\n",
    "print(df_tsv)"
   ]
  },
  {
   "cell_type": "code",
   "execution_count": 53,
   "metadata": {},
   "outputs": [
    {
     "name": "stdout",
     "output_type": "stream",
     "text": [
      "        a   b   c   d\n",
      "ONE    11  12  13  14\n",
      "TWO    21  22  23  24\n",
      "THREE  31  32  33  34\n"
     ]
    }
   ],
   "source": [
    "df_tsv_sep = pd.read_csv('data/src/sample_header_index.tsv', index_col=0, sep='\\t')\n",
    "print(df_tsv_sep)"
   ]
  }
 ],
 "metadata": {
  "kernelspec": {
   "display_name": "Python 3",
   "language": "python",
   "name": "python3"
  },
  "language_info": {
   "codemirror_mode": {
    "name": "ipython",
    "version": 3
   },
   "file_extension": ".py",
   "mimetype": "text/x-python",
   "name": "python",
   "nbconvert_exporter": "python",
   "pygments_lexer": "ipython3",
   "version": "3.6.5"
  }
 },
 "nbformat": 4,
 "nbformat_minor": 2
}
