{
 "cells": [
  {
   "cell_type": "code",
   "execution_count": 1,
   "metadata": {},
   "outputs": [],
   "source": [
    "import os\n",
    "from pathlib import Path"
   ]
  },
  {
   "cell_type": "code",
   "execution_count": 2,
   "metadata": {},
   "outputs": [],
   "source": [
    "os.chdir('data/temp')"
   ]
  },
  {
   "cell_type": "code",
   "execution_count": 3,
   "metadata": {},
   "outputs": [],
   "source": [
    "Path('another_file.txt').touch()"
   ]
  },
  {
   "cell_type": "code",
   "execution_count": 4,
   "metadata": {},
   "outputs": [
    {
     "data": {
      "text/plain": [
       "23"
      ]
     },
     "execution_count": 4,
     "metadata": {},
     "output_type": "execute_result"
    }
   ],
   "source": [
    "p = Path('dir_zip')\n",
    "p.joinpath('dir_sub').mkdir(parents=True, exist_ok=True)\n",
    "p.joinpath('file.txt').write_text('file in dir_zip')\n",
    "p.joinpath('dir_sub/file_sub.txt').write_text('file in dir_zip/dir_sub')"
   ]
  },
  {
   "cell_type": "code",
   "execution_count": 5,
   "metadata": {},
   "outputs": [],
   "source": [
    "import shutil"
   ]
  },
  {
   "cell_type": "code",
   "execution_count": 6,
   "metadata": {},
   "outputs": [
    {
     "data": {
      "text/plain": [
       "'/Users/mbp/Documents/my-project/python-snippets/notebook/data/temp/archive_shutil.zip'"
      ]
     },
     "execution_count": 6,
     "metadata": {},
     "output_type": "execute_result"
    }
   ],
   "source": [
    "shutil.make_archive('archive_shutil', format='zip', root_dir='dir_zip')"
   ]
  },
  {
   "cell_type": "code",
   "execution_count": 7,
   "metadata": {},
   "outputs": [
    {
     "data": {
      "text/plain": [
       "'/Users/mbp/Documents/my-project/python-snippets/notebook/data/temp/archive_shutil_base.zip'"
      ]
     },
     "execution_count": 7,
     "metadata": {},
     "output_type": "execute_result"
    }
   ],
   "source": [
    "shutil.make_archive('archive_shutil_base', format='zip',\n",
    "                    root_dir='.', base_dir='dir_zip')"
   ]
  },
  {
   "cell_type": "code",
   "execution_count": 8,
   "metadata": {},
   "outputs": [],
   "source": [
    "shutil.unpack_archive('archive_shutil.zip', 'dir_out')"
   ]
  },
  {
   "cell_type": "code",
   "execution_count": 9,
   "metadata": {},
   "outputs": [],
   "source": [
    "shutil.unpack_archive('archive_shutil_base.zip', 'dir_out_base')"
   ]
  },
  {
   "cell_type": "code",
   "execution_count": 10,
   "metadata": {},
   "outputs": [],
   "source": [
    "import zipfile"
   ]
  },
  {
   "cell_type": "code",
   "execution_count": 11,
   "metadata": {},
   "outputs": [],
   "source": [
    "with zipfile.ZipFile('archive_zipfile.zip', 'w',\n",
    "                     compression=zipfile.ZIP_DEFLATED,\n",
    "                     compresslevel=9) as zf:\n",
    "    zf.write('dir_zip/file.txt', arcname='file.txt')\n",
    "    zf.write('dir_zip/dir_sub/file_sub.txt', arcname='dir_sub/file_sub.txt')"
   ]
  },
  {
   "cell_type": "code",
   "execution_count": 12,
   "metadata": {},
   "outputs": [],
   "source": [
    "with zipfile.ZipFile('archive_zipfile.zip', 'a') as zf:\n",
    "    zf.write('another_file.txt')"
   ]
  },
  {
   "cell_type": "code",
   "execution_count": 13,
   "metadata": {},
   "outputs": [],
   "source": [
    "with zipfile.ZipFile('archive_zipfile.zip', 'a') as zf:\n",
    "    with zf.open('dir_sub/new_file.txt', 'w') as f:\n",
    "        f.write(b'text in new file')"
   ]
  },
  {
   "cell_type": "code",
   "execution_count": 14,
   "metadata": {},
   "outputs": [
    {
     "name": "stdout",
     "output_type": "stream",
     "text": [
      "<class 'bytes'>\n"
     ]
    }
   ],
   "source": [
    "print(type(b'text'))"
   ]
  },
  {
   "cell_type": "code",
   "execution_count": 15,
   "metadata": {},
   "outputs": [
    {
     "name": "stdout",
     "output_type": "stream",
     "text": [
      "<class 'bytes'>\n"
     ]
    }
   ],
   "source": [
    "print(type('text'.encode('utf-8')))"
   ]
  },
  {
   "cell_type": "code",
   "execution_count": 16,
   "metadata": {},
   "outputs": [
    {
     "name": "stdout",
     "output_type": "stream",
     "text": [
      "['file.txt', 'dir_sub/file_sub.txt', 'another_file.txt', 'dir_sub/new_file.txt']\n"
     ]
    }
   ],
   "source": [
    "with zipfile.ZipFile('archive_zipfile.zip') as zf:\n",
    "    print(zf.namelist())"
   ]
  },
  {
   "cell_type": "code",
   "execution_count": 17,
   "metadata": {},
   "outputs": [
    {
     "name": "stdout",
     "output_type": "stream",
     "text": [
      "['dir_sub/', 'file.txt', 'dir_sub/file_sub.txt']\n"
     ]
    }
   ],
   "source": [
    "with zipfile.ZipFile('archive_shutil.zip') as zf:\n",
    "    print(zf.namelist())"
   ]
  },
  {
   "cell_type": "code",
   "execution_count": 18,
   "metadata": {},
   "outputs": [
    {
     "name": "stdout",
     "output_type": "stream",
     "text": [
      "['file.txt', 'dir_sub/file_sub.txt']\n"
     ]
    }
   ],
   "source": [
    "with zipfile.ZipFile('archive_shutil.zip') as zf:\n",
    "    print([x for x in zf.namelist() if not x.endswith('/')])"
   ]
  },
  {
   "cell_type": "code",
   "execution_count": 19,
   "metadata": {},
   "outputs": [],
   "source": [
    "with zipfile.ZipFile('archive_zipfile.zip') as zf:\n",
    "    zf.extract('file.txt', 'dir_out_extract')\n",
    "    zf.extract('dir_sub/file_sub.txt', 'dir_out_extract')"
   ]
  },
  {
   "cell_type": "code",
   "execution_count": 20,
   "metadata": {},
   "outputs": [],
   "source": [
    "with zipfile.ZipFile('archive_zipfile.zip') as zf:\n",
    "    zf.extractall('dir_out_extractall')"
   ]
  },
  {
   "cell_type": "code",
   "execution_count": 21,
   "metadata": {},
   "outputs": [],
   "source": [
    "with zipfile.ZipFile('archive_zipfile.zip') as zf:\n",
    "    with zf.open('dir_sub/new_file.txt') as f:\n",
    "        b = f.read()"
   ]
  },
  {
   "cell_type": "code",
   "execution_count": 22,
   "metadata": {},
   "outputs": [
    {
     "name": "stdout",
     "output_type": "stream",
     "text": [
      "b'text in new file'\n"
     ]
    }
   ],
   "source": [
    "print(b)"
   ]
  },
  {
   "cell_type": "code",
   "execution_count": 23,
   "metadata": {},
   "outputs": [
    {
     "name": "stdout",
     "output_type": "stream",
     "text": [
      "<class 'bytes'>\n"
     ]
    }
   ],
   "source": [
    "print(type(b))"
   ]
  },
  {
   "cell_type": "code",
   "execution_count": 24,
   "metadata": {},
   "outputs": [
    {
     "name": "stdout",
     "output_type": "stream",
     "text": [
      "text in new file\n"
     ]
    }
   ],
   "source": [
    "s = b.decode('utf-8')\n",
    "print(s)"
   ]
  },
  {
   "cell_type": "code",
   "execution_count": 25,
   "metadata": {},
   "outputs": [
    {
     "name": "stdout",
     "output_type": "stream",
     "text": [
      "<class 'str'>\n"
     ]
    }
   ],
   "source": [
    "print(type(s))"
   ]
  },
  {
   "cell_type": "code",
   "execution_count": 26,
   "metadata": {},
   "outputs": [],
   "source": [
    "import pyzipper"
   ]
  },
  {
   "cell_type": "code",
   "execution_count": 27,
   "metadata": {},
   "outputs": [],
   "source": [
    "with pyzipper.AESZipFile('archive_with_pass.zip', 'w',\n",
    "                         encryption=pyzipper.WZ_AES) as zf:\n",
    "    zf.setpassword(b'password')\n",
    "    zf.write('dir_zip/file.txt', arcname='file.txt')\n",
    "    zf.write('dir_zip/dir_sub/file_sub.txt', arcname='dir_sub/file_sub.txt')"
   ]
  },
  {
   "cell_type": "code",
   "execution_count": 28,
   "metadata": {},
   "outputs": [],
   "source": [
    "with pyzipper.AESZipFile('archive_with_pass.zip') as zf:\n",
    "    zf.setpassword(b'password')\n",
    "    zf.extractall('dir_out_pyzipper')"
   ]
  },
  {
   "cell_type": "code",
   "execution_count": 29,
   "metadata": {},
   "outputs": [],
   "source": [
    "# with pyzipper.AESZipFile('archive_with_pass.zip') as zf:\n",
    "#     zf.setpassword(b'wrong_password')\n",
    "#     zf.extractall('dir_out_pass')\n",
    "# RuntimeError: Bad password for file 'file.txt'"
   ]
  },
  {
   "cell_type": "code",
   "execution_count": 30,
   "metadata": {},
   "outputs": [],
   "source": [
    "# shutil.unpack_archive('archive_with_pass.zip', 'dir_out_pass')\n",
    "# RuntimeError: File 'file.txt' is encrypted, password required for extraction"
   ]
  },
  {
   "cell_type": "code",
   "execution_count": 31,
   "metadata": {},
   "outputs": [],
   "source": [
    "# with zipfile.ZipFile('archive_with_pass.zip') as zf:\n",
    "#     zf.setpassword(b'password')\n",
    "#     zf.extractall('dir_out_pass')\n",
    "# NotImplementedError: That compression method is not supported"
   ]
  },
  {
   "cell_type": "code",
   "execution_count": 32,
   "metadata": {},
   "outputs": [],
   "source": [
    "import subprocess"
   ]
  },
  {
   "cell_type": "code",
   "execution_count": 33,
   "metadata": {},
   "outputs": [
    {
     "data": {
      "text/plain": [
       "CompletedProcess(args=['7z', 'x', 'archive_with_pass.zip', '-ppassword', '-odir_out_7z'], returncode=0)"
      ]
     },
     "execution_count": 33,
     "metadata": {},
     "output_type": "execute_result"
    }
   ],
   "source": [
    "subprocess.run(['7z', 'x', 'archive_with_pass.zip', '-ppassword', '-odir_out_7z'])"
   ]
  }
 ],
 "metadata": {
  "kernelspec": {
   "display_name": "Python 3",
   "language": "python",
   "name": "python3"
  },
  "language_info": {
   "codemirror_mode": {
    "name": "ipython",
    "version": 3
   },
   "file_extension": ".py",
   "mimetype": "text/x-python",
   "name": "python",
   "nbconvert_exporter": "python",
   "pygments_lexer": "ipython3",
   "version": "3.9.9"
  }
 },
 "nbformat": 4,
 "nbformat_minor": 4
}
