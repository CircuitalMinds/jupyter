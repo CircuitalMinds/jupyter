{
 "cells": [
  {
   "cell_type": "code",
   "execution_count": 1,
   "metadata": {},
   "outputs": [],
   "source": [
    "import statistics\n",
    "import pprint"
   ]
  },
  {
   "cell_type": "code",
   "execution_count": 2,
   "metadata": {},
   "outputs": [],
   "source": [
    "l = [0, 1, 2, 3, 4]"
   ]
  },
  {
   "cell_type": "code",
   "execution_count": 3,
   "metadata": {},
   "outputs": [
    {
     "name": "stdout",
     "output_type": "stream",
     "text": [
      "[0, 1, 2, 3, 4]\n"
     ]
    }
   ],
   "source": [
    "print(l)"
   ]
  },
  {
   "cell_type": "code",
   "execution_count": 4,
   "metadata": {},
   "outputs": [],
   "source": [
    "def min_max(l):\n",
    "    l_min = min(l)\n",
    "    l_max = max(l)\n",
    "    return [(i - l_min) / (l_max - l_min) for i in l]"
   ]
  },
  {
   "cell_type": "code",
   "execution_count": 5,
   "metadata": {},
   "outputs": [
    {
     "name": "stdout",
     "output_type": "stream",
     "text": [
      "[0.0, 0.25, 0.5, 0.75, 1.0]\n"
     ]
    }
   ],
   "source": [
    "print(min_max(l))"
   ]
  },
  {
   "cell_type": "code",
   "execution_count": 6,
   "metadata": {},
   "outputs": [],
   "source": [
    "def standardization(l):\n",
    "    l_mean = statistics.mean(l)\n",
    "    l_stdev = statistics.stdev(l)\n",
    "    return [(i - l_mean) / l_stdev for i in l]"
   ]
  },
  {
   "cell_type": "code",
   "execution_count": 7,
   "metadata": {},
   "outputs": [
    {
     "name": "stdout",
     "output_type": "stream",
     "text": [
      "[-1.2649110640673518,\n",
      " -0.6324555320336759,\n",
      " 0.0,\n",
      " 0.6324555320336759,\n",
      " 1.2649110640673518]\n"
     ]
    }
   ],
   "source": [
    "pprint.pprint(standardization(l))"
   ]
  },
  {
   "cell_type": "code",
   "execution_count": 8,
   "metadata": {},
   "outputs": [],
   "source": [
    "def standardization_p(l):\n",
    "    l_mean = statistics.mean(l)\n",
    "    l_pstdev = statistics.pstdev(l)\n",
    "    return [(i - l_mean) / l_pstdev for i in l]"
   ]
  },
  {
   "cell_type": "code",
   "execution_count": 9,
   "metadata": {},
   "outputs": [
    {
     "name": "stdout",
     "output_type": "stream",
     "text": [
      "[-1.414213562373095,\n",
      " -0.7071067811865475,\n",
      " 0.0,\n",
      " 0.7071067811865475,\n",
      " 1.414213562373095]\n"
     ]
    }
   ],
   "source": [
    "pprint.pprint(standardization_p(l))"
   ]
  },
  {
   "cell_type": "code",
   "execution_count": 10,
   "metadata": {},
   "outputs": [],
   "source": [
    "l_2d = [[0, 1, 2], [3, 4, 5], [6, 7, 8]]"
   ]
  },
  {
   "cell_type": "code",
   "execution_count": 11,
   "metadata": {},
   "outputs": [
    {
     "name": "stdout",
     "output_type": "stream",
     "text": [
      "[[0, 1, 2], [3, 4, 5], [6, 7, 8]]\n"
     ]
    }
   ],
   "source": [
    "print(l_2d)"
   ]
  },
  {
   "cell_type": "code",
   "execution_count": 12,
   "metadata": {},
   "outputs": [
    {
     "name": "stdout",
     "output_type": "stream",
     "text": [
      "[[0.0, 0.5, 1.0],\n",
      " [0.0, 0.5, 1.0],\n",
      " [0.0, 0.5, 1.0]]\n"
     ]
    }
   ],
   "source": [
    "pprint.pprint([min_max(l_1d) for l_1d in l_2d], width=40)"
   ]
  },
  {
   "cell_type": "code",
   "execution_count": 13,
   "metadata": {},
   "outputs": [
    {
     "name": "stdout",
     "output_type": "stream",
     "text": [
      "[[-1.0, 0.0, 1.0],\n",
      " [-1.0, 0.0, 1.0],\n",
      " [-1.0, 0.0, 1.0]]\n"
     ]
    }
   ],
   "source": [
    "pprint.pprint([standardization(l_1d) for l_1d in l_2d], width=40)"
   ]
  },
  {
   "cell_type": "code",
   "execution_count": 14,
   "metadata": {},
   "outputs": [
    {
     "name": "stdout",
     "output_type": "stream",
     "text": [
      "[[-1.224744871391589, 0.0, 1.224744871391589],\n",
      " [-1.224744871391589, 0.0, 1.224744871391589],\n",
      " [-1.224744871391589, 0.0, 1.224744871391589]]\n"
     ]
    }
   ],
   "source": [
    "pprint.pprint([standardization_p(l_1d) for l_1d in l_2d])"
   ]
  },
  {
   "cell_type": "code",
   "execution_count": 15,
   "metadata": {},
   "outputs": [],
   "source": [
    "l_2d_min_max_col = list(zip(*[min_max(l_1d) for l_1d in list(zip(*l_2d))]))"
   ]
  },
  {
   "cell_type": "code",
   "execution_count": 16,
   "metadata": {},
   "outputs": [
    {
     "name": "stdout",
     "output_type": "stream",
     "text": [
      "[(0.0, 0.0, 0.0),\n",
      " (0.5, 0.5, 0.5),\n",
      " (1.0, 1.0, 1.0)]\n"
     ]
    }
   ],
   "source": [
    "pprint.pprint(l_2d_min_max_col, width=40)"
   ]
  },
  {
   "cell_type": "code",
   "execution_count": 17,
   "metadata": {},
   "outputs": [],
   "source": [
    "l_2d_standardization_col = list(zip(*[standardization(l_1d) for l_1d in list(zip(*l_2d))]))"
   ]
  },
  {
   "cell_type": "code",
   "execution_count": 18,
   "metadata": {},
   "outputs": [
    {
     "name": "stdout",
     "output_type": "stream",
     "text": [
      "[(-1.0, -1.0, -1.0),\n",
      " (0.0, 0.0, 0.0),\n",
      " (1.0, 1.0, 1.0)]\n"
     ]
    }
   ],
   "source": [
    "pprint.pprint(l_2d_standardization_col, width=40)"
   ]
  },
  {
   "cell_type": "code",
   "execution_count": 19,
   "metadata": {},
   "outputs": [],
   "source": [
    "l_2d_standardization_p_col = list(zip(*[standardization_p(l_1d) for l_1d in list(zip(*l_2d))]))"
   ]
  },
  {
   "cell_type": "code",
   "execution_count": 20,
   "metadata": {},
   "outputs": [
    {
     "name": "stdout",
     "output_type": "stream",
     "text": [
      "[(-1.2247448713915892, -1.2247448713915892, -1.2247448713915892),\n",
      " (0.0, 0.0, 0.0),\n",
      " (1.2247448713915892, 1.2247448713915892, 1.2247448713915892)]\n"
     ]
    }
   ],
   "source": [
    "pprint.pprint(l_2d_standardization_p_col)"
   ]
  },
  {
   "cell_type": "code",
   "execution_count": 21,
   "metadata": {},
   "outputs": [],
   "source": [
    "def min_max_2d_all(l_2d):\n",
    "    l_flatten = sum(l_2d, [])\n",
    "    l_2d_min = min(l_flatten)\n",
    "    l_2d_max = max(l_flatten)\n",
    "    return [[(i - l_2d_min) / (l_2d_max - l_2d_min) for i in l_1d]\n",
    "            for l_1d in l_2d]"
   ]
  },
  {
   "cell_type": "code",
   "execution_count": 22,
   "metadata": {},
   "outputs": [
    {
     "name": "stdout",
     "output_type": "stream",
     "text": [
      "[[0.0, 0.125, 0.25],\n",
      " [0.375, 0.5, 0.625],\n",
      " [0.75, 0.875, 1.0]]\n"
     ]
    }
   ],
   "source": [
    "pprint.pprint(min_max_2d_all(l_2d), width=40)"
   ]
  },
  {
   "cell_type": "code",
   "execution_count": 23,
   "metadata": {},
   "outputs": [],
   "source": [
    "def standardization_2d_all(l):\n",
    "    l_flatten = sum(l_2d, [])\n",
    "    l_2d_mean = statistics.mean(l_flatten)\n",
    "    l_2d_stdev = statistics.stdev(l_flatten)\n",
    "    return [[(i - l_2d_mean) / l_2d_stdev for i in l_1d]\n",
    "            for l_1d in l_2d]"
   ]
  },
  {
   "cell_type": "code",
   "execution_count": 24,
   "metadata": {},
   "outputs": [
    {
     "name": "stdout",
     "output_type": "stream",
     "text": [
      "[[-1.4605934866804429, -1.0954451150103321, -0.7302967433402214],\n",
      " [-0.3651483716701107, 0.0, 0.3651483716701107],\n",
      " [0.7302967433402214, 1.0954451150103321, 1.4605934866804429]]\n"
     ]
    }
   ],
   "source": [
    "pprint.pprint(standardization_2d_all(l_2d))"
   ]
  },
  {
   "cell_type": "code",
   "execution_count": 25,
   "metadata": {},
   "outputs": [],
   "source": [
    "def standardization_p_2d_all(l):\n",
    "    l_flatten = sum(l_2d, [])\n",
    "    l_2d_mean = statistics.mean(l_flatten)\n",
    "    l_2d_pstdev = statistics.pstdev(l_flatten)\n",
    "    return [[(i - l_2d_mean) / l_2d_pstdev for i in l_1d]\n",
    "            for l_1d in l_2d]"
   ]
  },
  {
   "cell_type": "code",
   "execution_count": 26,
   "metadata": {},
   "outputs": [
    {
     "name": "stdout",
     "output_type": "stream",
     "text": [
      "[[-1.5491933384829668, -1.161895003862225, -0.7745966692414834],\n",
      " [-0.3872983346207417, 0.0, 0.3872983346207417],\n",
      " [0.7745966692414834, 1.161895003862225, 1.5491933384829668]]\n"
     ]
    }
   ],
   "source": [
    "pprint.pprint(standardization_p_2d_all(l_2d))"
   ]
  }
 ],
 "metadata": {
  "kernelspec": {
   "display_name": "Python 3",
   "language": "python",
   "name": "python3"
  },
  "language_info": {
   "codemirror_mode": {
    "name": "ipython",
    "version": 3
   },
   "file_extension": ".py",
   "mimetype": "text/x-python",
   "name": "python",
   "nbconvert_exporter": "python",
   "pygments_lexer": "ipython3",
   "version": "3.7.0"
  }
 },
 "nbformat": 4,
 "nbformat_minor": 2
}
