{
 "cells": [
  {
   "cell_type": "code",
   "execution_count": 1,
   "metadata": {},
   "outputs": [],
   "source": [
    "import pandas as pd"
   ]
  },
  {
   "cell_type": "code",
   "execution_count": 2,
   "metadata": {},
   "outputs": [
    {
     "name": "stdout",
     "output_type": "stream",
     "text": [
      "1.0.5\n"
     ]
    }
   ],
   "source": [
    "print(pd.__version__)"
   ]
  },
  {
   "cell_type": "code",
   "execution_count": 3,
   "metadata": {},
   "outputs": [
    {
     "name": "stdout",
     "output_type": "stream",
     "text": [
      "   A  B\n",
      "X  1  4\n",
      "Y  2  5\n",
      "Z  3  6\n"
     ]
    }
   ],
   "source": [
    "df = pd.DataFrame({'A': [1, 2, 3], 'B': [4, 5, 6]}, index=['X', 'Y', 'Z'])\n",
    "print(df)"
   ]
  },
  {
   "cell_type": "code",
   "execution_count": 4,
   "metadata": {},
   "outputs": [
    {
     "name": "stdout",
     "output_type": "stream",
     "text": [
      "   A   B\n",
      "X  1   4\n",
      "Y  3   9\n",
      "Z  6  15\n"
     ]
    }
   ],
   "source": [
    "print(df.cumsum())"
   ]
  },
  {
   "cell_type": "code",
   "execution_count": 5,
   "metadata": {},
   "outputs": [
    {
     "name": "stdout",
     "output_type": "stream",
     "text": [
      "   A  B\n",
      "X  1  5\n",
      "Y  2  7\n",
      "Z  3  9\n"
     ]
    }
   ],
   "source": [
    "print(df.cumsum(axis=1))"
   ]
  },
  {
   "cell_type": "code",
   "execution_count": 6,
   "metadata": {},
   "outputs": [
    {
     "name": "stdout",
     "output_type": "stream",
     "text": [
      "   A    B\n",
      "X  1    4\n",
      "Y  2   20\n",
      "Z  6  120\n"
     ]
    }
   ],
   "source": [
    "print(df.cumprod())"
   ]
  },
  {
   "cell_type": "code",
   "execution_count": 7,
   "metadata": {},
   "outputs": [
    {
     "name": "stdout",
     "output_type": "stream",
     "text": [
      "   A   B\n",
      "X  1   4\n",
      "Y  2  10\n",
      "Z  3  18\n"
     ]
    }
   ],
   "source": [
    "print(df.cumprod(axis=1))"
   ]
  },
  {
   "cell_type": "code",
   "execution_count": 8,
   "metadata": {},
   "outputs": [
    {
     "name": "stdout",
     "output_type": "stream",
     "text": [
      "X    4\n",
      "Y    5\n",
      "Z    6\n",
      "Name: B, dtype: int64\n"
     ]
    }
   ],
   "source": [
    "print(df['B'])"
   ]
  },
  {
   "cell_type": "code",
   "execution_count": 9,
   "metadata": {},
   "outputs": [
    {
     "name": "stdout",
     "output_type": "stream",
     "text": [
      "<class 'pandas.core.series.Series'>\n"
     ]
    }
   ],
   "source": [
    "print(type(df['B']))"
   ]
  },
  {
   "cell_type": "code",
   "execution_count": 10,
   "metadata": {},
   "outputs": [
    {
     "name": "stdout",
     "output_type": "stream",
     "text": [
      "X     4\n",
      "Y     9\n",
      "Z    15\n",
      "Name: B, dtype: int64\n"
     ]
    }
   ],
   "source": [
    "print(df['B'].cumsum())"
   ]
  },
  {
   "cell_type": "code",
   "execution_count": 11,
   "metadata": {},
   "outputs": [
    {
     "name": "stdout",
     "output_type": "stream",
     "text": [
      "X      4\n",
      "Y     20\n",
      "Z    120\n",
      "Name: B, dtype: int64\n"
     ]
    }
   ],
   "source": [
    "print(df['B'].cumprod())"
   ]
  },
  {
   "cell_type": "code",
   "execution_count": 12,
   "metadata": {},
   "outputs": [
    {
     "name": "stdout",
     "output_type": "stream",
     "text": [
      "   A    B\n",
      "X  1  4.0\n",
      "Y  2  NaN\n",
      "Z  3  6.0\n"
     ]
    }
   ],
   "source": [
    "df_nan = pd.DataFrame({'A': [1, 2, 3], 'B': [4, float('nan'), 6]}, index=['X', 'Y', 'Z'])\n",
    "print(df_nan)"
   ]
  },
  {
   "cell_type": "code",
   "execution_count": 13,
   "metadata": {},
   "outputs": [
    {
     "name": "stdout",
     "output_type": "stream",
     "text": [
      "   A     B\n",
      "X  1   4.0\n",
      "Y  3   NaN\n",
      "Z  6  10.0\n"
     ]
    }
   ],
   "source": [
    "print(df_nan.cumsum())"
   ]
  },
  {
   "cell_type": "code",
   "execution_count": 14,
   "metadata": {},
   "outputs": [
    {
     "name": "stdout",
     "output_type": "stream",
     "text": [
      "nan\n"
     ]
    }
   ],
   "source": [
    "print(float('nan') + 4)"
   ]
  },
  {
   "cell_type": "code",
   "execution_count": 15,
   "metadata": {},
   "outputs": [
    {
     "name": "stdout",
     "output_type": "stream",
     "text": [
      "   A    B\n",
      "X  1  4.0\n",
      "Y  3  NaN\n",
      "Z  6  NaN\n"
     ]
    }
   ],
   "source": [
    "print(df_nan.cumsum(skipna=False))"
   ]
  },
  {
   "cell_type": "code",
   "execution_count": 16,
   "metadata": {},
   "outputs": [
    {
     "name": "stdout",
     "output_type": "stream",
     "text": [
      "   A     B\n",
      "X  1   4.0\n",
      "Y  2   NaN\n",
      "Z  6  24.0\n"
     ]
    }
   ],
   "source": [
    "print(df_nan.cumprod())"
   ]
  },
  {
   "cell_type": "code",
   "execution_count": 17,
   "metadata": {},
   "outputs": [
    {
     "name": "stdout",
     "output_type": "stream",
     "text": [
      "   A    B\n",
      "X  1  4.0\n",
      "Y  2  NaN\n",
      "Z  6  NaN\n"
     ]
    }
   ],
   "source": [
    "print(df_nan.cumprod(skipna=False))"
   ]
  },
  {
   "cell_type": "code",
   "execution_count": 18,
   "metadata": {},
   "outputs": [
    {
     "name": "stdout",
     "output_type": "stream",
     "text": [
      "   A  B\n",
      "X  1  6\n",
      "Y  4  3\n",
      "Z  2  5\n"
     ]
    }
   ],
   "source": [
    "df2 = pd.DataFrame({'A': [1, 4, 2], 'B': [6, 3, 5]}, index=['X', 'Y', 'Z'])\n",
    "print(df2)"
   ]
  },
  {
   "cell_type": "code",
   "execution_count": 19,
   "metadata": {},
   "outputs": [
    {
     "name": "stdout",
     "output_type": "stream",
     "text": [
      "   A  B\n",
      "X  1  6\n",
      "Y  4  6\n",
      "Z  4  6\n"
     ]
    }
   ],
   "source": [
    "print(df2.cummax())"
   ]
  },
  {
   "cell_type": "code",
   "execution_count": 20,
   "metadata": {},
   "outputs": [
    {
     "name": "stdout",
     "output_type": "stream",
     "text": [
      "   A  B\n",
      "X  1  6\n",
      "Y  4  4\n",
      "Z  2  5\n"
     ]
    }
   ],
   "source": [
    "print(df2.cummax(axis=1))"
   ]
  },
  {
   "cell_type": "code",
   "execution_count": 21,
   "metadata": {},
   "outputs": [
    {
     "name": "stdout",
     "output_type": "stream",
     "text": [
      "   A  B\n",
      "X  1  6\n",
      "Y  1  3\n",
      "Z  1  3\n"
     ]
    }
   ],
   "source": [
    "print(df2.cummin())"
   ]
  },
  {
   "cell_type": "code",
   "execution_count": 22,
   "metadata": {},
   "outputs": [
    {
     "name": "stdout",
     "output_type": "stream",
     "text": [
      "   A  B\n",
      "X  1  1\n",
      "Y  4  3\n",
      "Z  2  2\n"
     ]
    }
   ],
   "source": [
    "print(df2.cummin(axis=1))"
   ]
  },
  {
   "cell_type": "code",
   "execution_count": 23,
   "metadata": {},
   "outputs": [
    {
     "name": "stdout",
     "output_type": "stream",
     "text": [
      "   A    B\n",
      "X  1  6.0\n",
      "Y  4  NaN\n",
      "Z  2  5.0\n"
     ]
    }
   ],
   "source": [
    "df2_nan = pd.DataFrame({'A': [1, 4, 2], 'B': [6, float('nan'), 5]}, index=['X', 'Y', 'Z'])\n",
    "print(df2_nan)"
   ]
  },
  {
   "cell_type": "code",
   "execution_count": 24,
   "metadata": {},
   "outputs": [
    {
     "name": "stdout",
     "output_type": "stream",
     "text": [
      "   A    B\n",
      "X  1  6.0\n",
      "Y  4  NaN\n",
      "Z  4  6.0\n"
     ]
    }
   ],
   "source": [
    "print(df2_nan.cummax())"
   ]
  },
  {
   "cell_type": "code",
   "execution_count": 25,
   "metadata": {},
   "outputs": [
    {
     "name": "stdout",
     "output_type": "stream",
     "text": [
      "   A    B\n",
      "X  1  6.0\n",
      "Y  4  NaN\n",
      "Z  4  NaN\n"
     ]
    }
   ],
   "source": [
    "print(df2_nan.cummax(skipna=False))"
   ]
  },
  {
   "cell_type": "code",
   "execution_count": 26,
   "metadata": {},
   "outputs": [
    {
     "name": "stdout",
     "output_type": "stream",
     "text": [
      "   A    B\n",
      "X  1  6.0\n",
      "Y  1  NaN\n",
      "Z  1  5.0\n"
     ]
    }
   ],
   "source": [
    "print(df2_nan.cummin())"
   ]
  },
  {
   "cell_type": "code",
   "execution_count": 27,
   "metadata": {},
   "outputs": [
    {
     "name": "stdout",
     "output_type": "stream",
     "text": [
      "   A    B\n",
      "X  1  6.0\n",
      "Y  1  NaN\n",
      "Z  1  NaN\n"
     ]
    }
   ],
   "source": [
    "print(df2_nan.cummin(skipna=False))"
   ]
  }
 ],
 "metadata": {
  "kernelspec": {
   "display_name": "Python 3",
   "language": "python",
   "name": "python3"
  },
  "language_info": {
   "codemirror_mode": {
    "name": "ipython",
    "version": 3
   },
   "file_extension": ".py",
   "mimetype": "text/x-python",
   "name": "python",
   "nbconvert_exporter": "python",
   "pygments_lexer": "ipython3",
   "version": "3.8.5"
  }
 },
 "nbformat": 4,
 "nbformat_minor": 4
}
