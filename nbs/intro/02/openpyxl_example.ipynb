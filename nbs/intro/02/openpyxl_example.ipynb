{
 "cells": [
  {
   "cell_type": "code",
   "execution_count": 1,
   "metadata": {},
   "outputs": [],
   "source": [
    "import openpyxl\n",
    "import pprint"
   ]
  },
  {
   "cell_type": "code",
   "execution_count": 2,
   "metadata": {},
   "outputs": [],
   "source": [
    "wb = openpyxl.load_workbook('data/src/sample.xlsx')"
   ]
  },
  {
   "cell_type": "code",
   "execution_count": 3,
   "metadata": {},
   "outputs": [
    {
     "name": "stdout",
     "output_type": "stream",
     "text": [
      "<class 'openpyxl.workbook.workbook.Workbook'>\n"
     ]
    }
   ],
   "source": [
    "print(type(wb))"
   ]
  },
  {
   "cell_type": "code",
   "execution_count": 4,
   "metadata": {},
   "outputs": [
    {
     "name": "stdout",
     "output_type": "stream",
     "text": [
      "['sheet1', 'sheet2']\n"
     ]
    }
   ],
   "source": [
    "print(wb.sheetnames)"
   ]
  },
  {
   "cell_type": "code",
   "execution_count": 5,
   "metadata": {},
   "outputs": [],
   "source": [
    "sheet = wb['sheet1']"
   ]
  },
  {
   "cell_type": "code",
   "execution_count": 6,
   "metadata": {},
   "outputs": [
    {
     "name": "stdout",
     "output_type": "stream",
     "text": [
      "<class 'openpyxl.worksheet.worksheet.Worksheet'>\n"
     ]
    }
   ],
   "source": [
    "print(type(sheet))"
   ]
  },
  {
   "cell_type": "code",
   "execution_count": 7,
   "metadata": {},
   "outputs": [],
   "source": [
    "cell = sheet['A2']"
   ]
  },
  {
   "cell_type": "code",
   "execution_count": 8,
   "metadata": {},
   "outputs": [
    {
     "name": "stdout",
     "output_type": "stream",
     "text": [
      "<class 'openpyxl.cell.cell.Cell'>\n"
     ]
    }
   ],
   "source": [
    "print(type(cell))"
   ]
  },
  {
   "cell_type": "code",
   "execution_count": 9,
   "metadata": {},
   "outputs": [
    {
     "name": "stdout",
     "output_type": "stream",
     "text": [
      "one\n"
     ]
    }
   ],
   "source": [
    "print(cell.value)"
   ]
  },
  {
   "cell_type": "code",
   "execution_count": 10,
   "metadata": {},
   "outputs": [],
   "source": [
    "cell = sheet.cell(row=2, column=1)"
   ]
  },
  {
   "cell_type": "code",
   "execution_count": 11,
   "metadata": {},
   "outputs": [
    {
     "name": "stdout",
     "output_type": "stream",
     "text": [
      "<class 'openpyxl.cell.cell.Cell'>\n"
     ]
    }
   ],
   "source": [
    "print(type(cell))"
   ]
  },
  {
   "cell_type": "code",
   "execution_count": 12,
   "metadata": {},
   "outputs": [
    {
     "name": "stdout",
     "output_type": "stream",
     "text": [
      "one\n"
     ]
    }
   ],
   "source": [
    "print(cell.value)"
   ]
  },
  {
   "cell_type": "code",
   "execution_count": 13,
   "metadata": {},
   "outputs": [
    {
     "name": "stdout",
     "output_type": "stream",
     "text": [
      "((<Cell 'sheet1'.A2>, <Cell 'sheet1'.B2>, <Cell 'sheet1'.C2>),\n",
      " (<Cell 'sheet1'.A3>, <Cell 'sheet1'.B3>, <Cell 'sheet1'.C3>),\n",
      " (<Cell 'sheet1'.A4>, <Cell 'sheet1'.B4>, <Cell 'sheet1'.C4>))\n"
     ]
    }
   ],
   "source": [
    "pprint.pprint(sheet['A2:C4'])"
   ]
  },
  {
   "cell_type": "code",
   "execution_count": 14,
   "metadata": {},
   "outputs": [],
   "source": [
    "g = sheet.iter_rows(min_row=2, max_row=4, min_col=1, max_col=3)"
   ]
  },
  {
   "cell_type": "code",
   "execution_count": 15,
   "metadata": {},
   "outputs": [
    {
     "name": "stdout",
     "output_type": "stream",
     "text": [
      "<class 'generator'>\n"
     ]
    }
   ],
   "source": [
    "print(type(g))"
   ]
  },
  {
   "cell_type": "code",
   "execution_count": 16,
   "metadata": {},
   "outputs": [
    {
     "name": "stdout",
     "output_type": "stream",
     "text": [
      "[(<Cell 'sheet1'.A2>, <Cell 'sheet1'.B2>, <Cell 'sheet1'.C2>),\n",
      " (<Cell 'sheet1'.A3>, <Cell 'sheet1'.B3>, <Cell 'sheet1'.C3>),\n",
      " (<Cell 'sheet1'.A4>, <Cell 'sheet1'.B4>, <Cell 'sheet1'.C4>)]\n"
     ]
    }
   ],
   "source": [
    "pprint.pprint(list(g))"
   ]
  },
  {
   "cell_type": "code",
   "execution_count": 17,
   "metadata": {},
   "outputs": [],
   "source": [
    "def get_value_list(t_2d):\n",
    "    return([[cell.value for cell in row] for row in t_2d])"
   ]
  },
  {
   "cell_type": "code",
   "execution_count": 18,
   "metadata": {},
   "outputs": [
    {
     "name": "stdout",
     "output_type": "stream",
     "text": [
      "[['one', 11.0, 12.0],\n",
      " ['two', 21.0, 22.0],\n",
      " ['three', 31.0, 32.0]]\n"
     ]
    }
   ],
   "source": [
    "l_2d = get_value_list(sheet['A2:C4'])\n",
    "\n",
    "pprint.pprint(l_2d, width=40)"
   ]
  },
  {
   "cell_type": "code",
   "execution_count": 19,
   "metadata": {},
   "outputs": [],
   "source": [
    "def get_list_2d(sheet, start_row, end_row, start_col, end_col):\n",
    "    return get_value_list(sheet.iter_rows(min_row=start_row,\n",
    "                                          max_row=end_row,\n",
    "                                          min_col=start_col,\n",
    "                                          max_col=end_col))"
   ]
  },
  {
   "cell_type": "code",
   "execution_count": 20,
   "metadata": {},
   "outputs": [
    {
     "name": "stdout",
     "output_type": "stream",
     "text": [
      "[['one', 11.0, 12.0],\n",
      " ['two', 21.0, 22.0],\n",
      " ['three', 31.0, 32.0]]\n"
     ]
    }
   ],
   "source": [
    "l_2d = get_list_2d(sheet, 2, 4, 1, 3)\n",
    "\n",
    "pprint.pprint(l_2d, width=40)"
   ]
  },
  {
   "cell_type": "code",
   "execution_count": 21,
   "metadata": {},
   "outputs": [
    {
     "name": "stdout",
     "output_type": "stream",
     "text": [
      "<class 'generator'>\n"
     ]
    }
   ],
   "source": [
    "g_all = sheet.values\n",
    "\n",
    "print(type(g_all))"
   ]
  },
  {
   "cell_type": "code",
   "execution_count": 22,
   "metadata": {},
   "outputs": [
    {
     "name": "stdout",
     "output_type": "stream",
     "text": [
      "[(None, 'A', 'B', 'C'),\n",
      " ('one', 11.0, 12.0, 13.0),\n",
      " ('two', 21.0, 22.0, 23.0),\n",
      " ('three', 31.0, 32.0, 33.0)]\n"
     ]
    }
   ],
   "source": [
    "pprint.pprint(list(g_all), width=40)"
   ]
  },
  {
   "cell_type": "code",
   "execution_count": 23,
   "metadata": {},
   "outputs": [],
   "source": [
    "sheet['C1'] = 'XXX'\n",
    "sheet['E1'] = 'new'"
   ]
  },
  {
   "cell_type": "code",
   "execution_count": 24,
   "metadata": {},
   "outputs": [
    {
     "name": "stdout",
     "output_type": "stream",
     "text": [
      "[(None, 'A', 'XXX', 'C', 'new'),\n",
      " ('one', 11.0, 12.0, 13.0, None),\n",
      " ('two', 21.0, 22.0, 23.0, None),\n",
      " ('three', 31.0, 32.0, 33.0, None)]\n"
     ]
    }
   ],
   "source": [
    "pprint.pprint(list(sheet.values), width=40)"
   ]
  },
  {
   "cell_type": "code",
   "execution_count": 25,
   "metadata": {},
   "outputs": [
    {
     "name": "stdout",
     "output_type": "stream",
     "text": [
      "[(None, 'A', 'XXX', 'C', 'new'),\n",
      " ('one', 11.0, 12.0, 13.0, 14),\n",
      " ('two', 21.0, 22.0, 23.0, None),\n",
      " ('three', 31.0, 32.0, 33.0, None)]\n"
     ]
    }
   ],
   "source": [
    "sheet.cell(row=2, column=5, value=14)\n",
    "\n",
    "pprint.pprint(list(sheet.values), width=40)"
   ]
  },
  {
   "cell_type": "code",
   "execution_count": 26,
   "metadata": {},
   "outputs": [],
   "source": [
    "def write_list_2d(sheet, l_2d, start_row, start_col):\n",
    "    for y, row in enumerate(l_2d):\n",
    "        for x, cell in enumerate(row):\n",
    "            sheet.cell(row=start_row + y,\n",
    "                       column=start_col + x,\n",
    "                       value=l_2d[y][x])"
   ]
  },
  {
   "cell_type": "code",
   "execution_count": 27,
   "metadata": {},
   "outputs": [],
   "source": [
    "l_2d = [['four', 41, 42, 43], ['five', 51, 52, 53]]\n",
    "\n",
    "write_list_2d(sheet, l_2d, 5, 1)"
   ]
  },
  {
   "cell_type": "code",
   "execution_count": 28,
   "metadata": {},
   "outputs": [
    {
     "name": "stdout",
     "output_type": "stream",
     "text": [
      "[(None, 'A', 'XXX', 'C', 'new'),\n",
      " ('one', 11.0, 12.0, 13.0, 14),\n",
      " ('two', 21.0, 22.0, 23.0, None),\n",
      " ('three', 31.0, 32.0, 33.0, None),\n",
      " ('four', 41, 42, 43, None),\n",
      " ('five', 51, 52, 53, None)]\n"
     ]
    }
   ],
   "source": [
    "pprint.pprint(list(sheet.values), width=40)"
   ]
  },
  {
   "cell_type": "code",
   "execution_count": 29,
   "metadata": {},
   "outputs": [
    {
     "name": "stdout",
     "output_type": "stream",
     "text": [
      "[<Worksheet \"sheet1\">, <Worksheet \"sheet2\">, <Worksheet \"sheet_new\">]\n"
     ]
    }
   ],
   "source": [
    "sheet_new = wb.create_sheet('sheet_new')\n",
    "\n",
    "print(wb.worksheets)"
   ]
  },
  {
   "cell_type": "code",
   "execution_count": 30,
   "metadata": {},
   "outputs": [
    {
     "name": "stdout",
     "output_type": "stream",
     "text": [
      "[('new sheet!',)]\n"
     ]
    }
   ],
   "source": [
    "sheet_new['A1'] = 'new sheet!'\n",
    "\n",
    "print(list(sheet_new.values))"
   ]
  },
  {
   "cell_type": "code",
   "execution_count": 31,
   "metadata": {},
   "outputs": [],
   "source": [
    "sheet_copy = wb.copy_worksheet(wb['sheet1'])"
   ]
  },
  {
   "cell_type": "code",
   "execution_count": 32,
   "metadata": {},
   "outputs": [
    {
     "name": "stdout",
     "output_type": "stream",
     "text": [
      "[<Worksheet \"sheet1\">, <Worksheet \"sheet2\">, <Worksheet \"sheet_new\">, <Worksheet \"sheet1 Copy\">]\n"
     ]
    }
   ],
   "source": [
    "print(wb.worksheets)"
   ]
  },
  {
   "cell_type": "code",
   "execution_count": 33,
   "metadata": {},
   "outputs": [
    {
     "name": "stdout",
     "output_type": "stream",
     "text": [
      "[(None, 'A', 'XXX', 'C', 'new'),\n",
      " ('one', 11.0, 12.0, 13.0, 14),\n",
      " ('two', 21.0, 22.0, 23.0, None),\n",
      " ('three', 31.0, 32.0, 33.0, None),\n",
      " ('four', 41, 42, 43, None),\n",
      " ('five', 51, 52, 53, None)]\n"
     ]
    }
   ],
   "source": [
    "pprint.pprint(list(sheet_copy.values))"
   ]
  },
  {
   "cell_type": "code",
   "execution_count": 34,
   "metadata": {},
   "outputs": [],
   "source": [
    "wb.remove(wb['sheet1 Copy'])"
   ]
  },
  {
   "cell_type": "code",
   "execution_count": 35,
   "metadata": {},
   "outputs": [
    {
     "name": "stdout",
     "output_type": "stream",
     "text": [
      "[<Worksheet \"sheet1\">, <Worksheet \"sheet2\">, <Worksheet \"sheet_new\">]\n"
     ]
    }
   ],
   "source": [
    "print(wb.worksheets)"
   ]
  },
  {
   "cell_type": "code",
   "execution_count": 36,
   "metadata": {},
   "outputs": [],
   "source": [
    "wb.save('data/dst/openpyxl_sample.xlsx')"
   ]
  }
 ],
 "metadata": {
  "kernelspec": {
   "display_name": "Python 3",
   "language": "python",
   "name": "python3"
  },
  "language_info": {
   "codemirror_mode": {
    "name": "ipython",
    "version": 3
   },
   "file_extension": ".py",
   "mimetype": "text/x-python",
   "name": "python",
   "nbconvert_exporter": "python",
   "pygments_lexer": "ipython3",
   "version": "3.9.2"
  }
 },
 "nbformat": 4,
 "nbformat_minor": 2
}
