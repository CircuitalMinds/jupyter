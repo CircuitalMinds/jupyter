{
 "cells": [
  {
   "cell_type": "code",
   "execution_count": 1,
   "metadata": {
    "collapsed": true
   },
   "outputs": [],
   "source": [
    "import pandas as pd"
   ]
  },
  {
   "cell_type": "code",
   "execution_count": 2,
   "metadata": {},
   "outputs": [
    {
     "name": "stdout",
     "output_type": "stream",
     "text": [
      "0.23.0\n"
     ]
    }
   ],
   "source": [
    "print(pd.__version__)"
   ]
  },
  {
   "cell_type": "code",
   "execution_count": 3,
   "metadata": {
    "collapsed": true
   },
   "outputs": [],
   "source": [
    "df = pd.DataFrame({'i': [0, 10, 200], 'f': [0, 0.9, 0.09],\n",
    "                   's_i': ['0', '10', '200'], 's_f': ['0', '0.9', '0.09']})"
   ]
  },
  {
   "cell_type": "code",
   "execution_count": 4,
   "metadata": {},
   "outputs": [
    {
     "name": "stdout",
     "output_type": "stream",
     "text": [
      "     i     f  s_i   s_f\n",
      "0    0  0.00    0     0\n",
      "1   10  0.90   10   0.9\n",
      "2  200  0.09  200  0.09\n"
     ]
    }
   ],
   "source": [
    "print(df)"
   ]
  },
  {
   "cell_type": "code",
   "execution_count": 5,
   "metadata": {},
   "outputs": [
    {
     "name": "stdout",
     "output_type": "stream",
     "text": [
      "i        int64\n",
      "f      float64\n",
      "s_i     object\n",
      "s_f     object\n",
      "dtype: object\n"
     ]
    }
   ],
   "source": [
    "print(df.dtypes)"
   ]
  },
  {
   "cell_type": "code",
   "execution_count": 6,
   "metadata": {},
   "outputs": [
    {
     "name": "stdout",
     "output_type": "stream",
     "text": [
      "0      0\n",
      "1     10\n",
      "2    200\n",
      "Name: i, dtype: object\n"
     ]
    }
   ],
   "source": [
    "print(df['i'].astype(str))"
   ]
  },
  {
   "cell_type": "code",
   "execution_count": 7,
   "metadata": {},
   "outputs": [
    {
     "name": "stdout",
     "output_type": "stream",
     "text": [
      "0     0.0\n",
      "1     0.9\n",
      "2    0.09\n",
      "Name: f, dtype: object\n"
     ]
    }
   ],
   "source": [
    "print(df['f'].astype(str))"
   ]
  },
  {
   "cell_type": "code",
   "execution_count": 8,
   "metadata": {},
   "outputs": [
    {
     "name": "stdout",
     "output_type": "stream",
     "text": [
      "     i     f  s_i   s_f\n",
      "0    0   0.0    0     0\n",
      "1   10   0.9   10   0.9\n",
      "2  200  0.09  200  0.09\n"
     ]
    }
   ],
   "source": [
    "print(df.astype(str))"
   ]
  },
  {
   "cell_type": "code",
   "execution_count": 9,
   "metadata": {},
   "outputs": [
    {
     "name": "stdout",
     "output_type": "stream",
     "text": [
      "i      object\n",
      "f      object\n",
      "s_i    object\n",
      "s_f    object\n",
      "dtype: object\n"
     ]
    }
   ],
   "source": [
    "print(df.astype(str).dtypes)"
   ]
  },
  {
   "cell_type": "code",
   "execution_count": 10,
   "metadata": {},
   "outputs": [
    {
     "name": "stdout",
     "output_type": "stream",
     "text": [
      "0      0.0\n",
      "1     10.0\n",
      "2    200.0\n",
      "Name: i, dtype: float64\n"
     ]
    }
   ],
   "source": [
    "print(df['i'].astype(float))"
   ]
  },
  {
   "cell_type": "code",
   "execution_count": 11,
   "metadata": {},
   "outputs": [
    {
     "name": "stdout",
     "output_type": "stream",
     "text": [
      "0    0\n",
      "1    0\n",
      "2    0\n",
      "Name: f, dtype: int64\n"
     ]
    }
   ],
   "source": [
    "print(df['f'].astype(int))"
   ]
  },
  {
   "cell_type": "code",
   "execution_count": 12,
   "metadata": {},
   "outputs": [
    {
     "name": "stdout",
     "output_type": "stream",
     "text": [
      "0      0\n",
      "1     10\n",
      "2    200\n",
      "Name: s_i, dtype: int64\n"
     ]
    }
   ],
   "source": [
    "print(df['s_i'].astype(int))"
   ]
  },
  {
   "cell_type": "code",
   "execution_count": 13,
   "metadata": {},
   "outputs": [
    {
     "name": "stdout",
     "output_type": "stream",
     "text": [
      "0      0.0\n",
      "1     10.0\n",
      "2    200.0\n",
      "Name: s_i, dtype: float64\n"
     ]
    }
   ],
   "source": [
    "print(df['s_i'].astype(float))"
   ]
  },
  {
   "cell_type": "code",
   "execution_count": 14,
   "metadata": {},
   "outputs": [
    {
     "name": "stdout",
     "output_type": "stream",
     "text": [
      "0    0.00\n",
      "1    0.90\n",
      "2    0.09\n",
      "Name: s_f, dtype: float64\n"
     ]
    }
   ],
   "source": [
    "print(df['s_f'].astype(float))"
   ]
  },
  {
   "cell_type": "code",
   "execution_count": 15,
   "metadata": {
    "collapsed": true
   },
   "outputs": [],
   "source": [
    "# print(df['s_f'].astype(int))\n",
    "# ValueError: invalid literal for int() with base 10: '0.1'"
   ]
  },
  {
   "cell_type": "code",
   "execution_count": 16,
   "metadata": {},
   "outputs": [
    {
     "name": "stdout",
     "output_type": "stream",
     "text": [
      "0    0\n",
      "1    0\n",
      "2    0\n",
      "Name: s_f, dtype: int64\n"
     ]
    }
   ],
   "source": [
    "print(df['s_f'].astype(float).astype(int))"
   ]
  },
  {
   "cell_type": "code",
   "execution_count": 17,
   "metadata": {},
   "outputs": [
    {
     "name": "stdout",
     "output_type": "stream",
     "text": [
      "     i     f  s_i   s_f\n",
      "0    0  0.00    0     0\n",
      "1   10  0.90   10   0.9\n",
      "2  200  0.09  200  0.09\n"
     ]
    }
   ],
   "source": [
    "df['i'] = df['i'].astype(str)\n",
    "print(df)"
   ]
  },
  {
   "cell_type": "code",
   "execution_count": 18,
   "metadata": {},
   "outputs": [
    {
     "name": "stdout",
     "output_type": "stream",
     "text": [
      "     i     f  s_i   s_f   f_s\n",
      "0    0  0.00    0     0   0.0\n",
      "1   10  0.90   10   0.9   0.9\n",
      "2  200  0.09  200  0.09  0.09\n"
     ]
    }
   ],
   "source": [
    "df['f_s'] = df['f'].astype(str)\n",
    "print(df)"
   ]
  },
  {
   "cell_type": "code",
   "execution_count": 19,
   "metadata": {},
   "outputs": [
    {
     "name": "stdout",
     "output_type": "stream",
     "text": [
      "i       object\n",
      "f      float64\n",
      "s_i     object\n",
      "s_f     object\n",
      "f_s     object\n",
      "dtype: object\n"
     ]
    }
   ],
   "source": [
    "print(df.dtypes)"
   ]
  },
  {
   "cell_type": "code",
   "execution_count": 20,
   "metadata": {
    "collapsed": true
   },
   "outputs": [],
   "source": [
    "s_int = pd.Series([0xff, 0o77, 0b11])"
   ]
  },
  {
   "cell_type": "code",
   "execution_count": 21,
   "metadata": {},
   "outputs": [
    {
     "name": "stdout",
     "output_type": "stream",
     "text": [
      "0    255\n",
      "1     63\n",
      "2      3\n",
      "dtype: int64\n"
     ]
    }
   ],
   "source": [
    "print(s_int)"
   ]
  },
  {
   "cell_type": "code",
   "execution_count": 22,
   "metadata": {},
   "outputs": [
    {
     "name": "stdout",
     "output_type": "stream",
     "text": [
      "0    0b11111111\n",
      "1      0b111111\n",
      "2          0b11\n",
      "dtype: object\n"
     ]
    }
   ],
   "source": [
    "print(s_int.map(bin))"
   ]
  },
  {
   "cell_type": "code",
   "execution_count": 23,
   "metadata": {},
   "outputs": [
    {
     "name": "stdout",
     "output_type": "stream",
     "text": [
      "0    0o377\n",
      "1     0o77\n",
      "2      0o3\n",
      "dtype: object\n"
     ]
    }
   ],
   "source": [
    "print(s_int.map(oct))"
   ]
  },
  {
   "cell_type": "code",
   "execution_count": 24,
   "metadata": {},
   "outputs": [
    {
     "name": "stdout",
     "output_type": "stream",
     "text": [
      "0    0xff\n",
      "1    0x3f\n",
      "2     0x3\n",
      "dtype: object\n"
     ]
    }
   ],
   "source": [
    "print(s_int.map(hex))"
   ]
  },
  {
   "cell_type": "code",
   "execution_count": 25,
   "metadata": {},
   "outputs": [
    {
     "name": "stdout",
     "output_type": "stream",
     "text": [
      "0    11111111\n",
      "1      111111\n",
      "2          11\n",
      "dtype: object\n"
     ]
    }
   ],
   "source": [
    "print(s_int.map('{:b}'.format))"
   ]
  },
  {
   "cell_type": "code",
   "execution_count": 26,
   "metadata": {},
   "outputs": [
    {
     "name": "stdout",
     "output_type": "stream",
     "text": [
      "0    0b11111111\n",
      "1      0b111111\n",
      "2          0b11\n",
      "dtype: object\n"
     ]
    }
   ],
   "source": [
    "print(s_int.map('{:#b}'.format))"
   ]
  },
  {
   "cell_type": "code",
   "execution_count": 27,
   "metadata": {},
   "outputs": [
    {
     "name": "stdout",
     "output_type": "stream",
     "text": [
      "0    0b11111111\n",
      "1    0b00111111\n",
      "2    0b00000011\n",
      "dtype: object\n"
     ]
    }
   ],
   "source": [
    "print(s_int.map('{:#010b}'.format))"
   ]
  },
  {
   "cell_type": "code",
   "execution_count": 28,
   "metadata": {
    "collapsed": true
   },
   "outputs": [],
   "source": [
    "df_str = pd.DataFrame({'bin': ['0b01', '0b10', '0b11'],\n",
    "                       'oct': ['0o07', '0o70', '0o77'],\n",
    "                       'hex': ['0x0f', '0xf0', '0xff'],\n",
    "                       'dec': ['1', '10', '11']})"
   ]
  },
  {
   "cell_type": "code",
   "execution_count": 29,
   "metadata": {},
   "outputs": [
    {
     "name": "stdout",
     "output_type": "stream",
     "text": [
      "    bin   oct   hex dec\n",
      "0  0b01  0o07  0x0f   1\n",
      "1  0b10  0o70  0xf0  10\n",
      "2  0b11  0o77  0xff  11\n"
     ]
    }
   ],
   "source": [
    "print(df_str)"
   ]
  },
  {
   "cell_type": "code",
   "execution_count": 30,
   "metadata": {},
   "outputs": [
    {
     "name": "stdout",
     "output_type": "stream",
     "text": [
      "bin    object\n",
      "oct    object\n",
      "hex    object\n",
      "dec    object\n",
      "dtype: object\n"
     ]
    }
   ],
   "source": [
    "print(df_str.dtypes)"
   ]
  },
  {
   "cell_type": "code",
   "execution_count": 31,
   "metadata": {
    "collapsed": true
   },
   "outputs": [],
   "source": [
    "# print(df_str['bin'].astype(int))\n",
    "# ValueError: invalid literal for int() with base 10: '0b01'"
   ]
  },
  {
   "cell_type": "code",
   "execution_count": 32,
   "metadata": {},
   "outputs": [
    {
     "name": "stdout",
     "output_type": "stream",
     "text": [
      "0    1\n",
      "1    2\n",
      "2    3\n",
      "Name: bin, dtype: int64\n"
     ]
    }
   ],
   "source": [
    "print(df_str['bin'].map(lambda x: int(x, 2)))"
   ]
  },
  {
   "cell_type": "code",
   "execution_count": 33,
   "metadata": {},
   "outputs": [
    {
     "name": "stdout",
     "output_type": "stream",
     "text": [
      "0     7\n",
      "1    56\n",
      "2    63\n",
      "Name: oct, dtype: int64\n"
     ]
    }
   ],
   "source": [
    "print(df_str['oct'].map(lambda x: int(x, 8)))"
   ]
  },
  {
   "cell_type": "code",
   "execution_count": 34,
   "metadata": {},
   "outputs": [
    {
     "name": "stdout",
     "output_type": "stream",
     "text": [
      "0     15\n",
      "1    240\n",
      "2    255\n",
      "Name: hex, dtype: int64\n"
     ]
    }
   ],
   "source": [
    "print(df_str['hex'].map(lambda x: int(x, 16)))"
   ]
  },
  {
   "cell_type": "code",
   "execution_count": 35,
   "metadata": {},
   "outputs": [
    {
     "name": "stdout",
     "output_type": "stream",
     "text": [
      "   bin  oct  hex  dec\n",
      "0    1    7   15    1\n",
      "1    2   56  240   10\n",
      "2    3   63  255   11\n"
     ]
    }
   ],
   "source": [
    "print(df_str.applymap(lambda x: int(x, 0)))"
   ]
  },
  {
   "cell_type": "code",
   "execution_count": 36,
   "metadata": {},
   "outputs": [
    {
     "name": "stdout",
     "output_type": "stream",
     "text": [
      "0    1\n",
      "1    2\n",
      "2    3\n",
      "Name: dec, dtype: int64\n"
     ]
    }
   ],
   "source": [
    "print(df_str['dec'].map(lambda x: int(x, 2)))"
   ]
  },
  {
   "cell_type": "code",
   "execution_count": 37,
   "metadata": {
    "collapsed": true
   },
   "outputs": [],
   "source": [
    "s_str_dec = pd.Series(['01', '10', '11'])"
   ]
  },
  {
   "cell_type": "code",
   "execution_count": 38,
   "metadata": {},
   "outputs": [
    {
     "name": "stdout",
     "output_type": "stream",
     "text": [
      "0    01\n",
      "1    10\n",
      "2    11\n",
      "dtype: object\n"
     ]
    }
   ],
   "source": [
    "print(s_str_dec)"
   ]
  },
  {
   "cell_type": "code",
   "execution_count": 39,
   "metadata": {},
   "outputs": [
    {
     "name": "stdout",
     "output_type": "stream",
     "text": [
      "0     1\n",
      "1    10\n",
      "2    11\n",
      "dtype: int64\n"
     ]
    }
   ],
   "source": [
    "print(s_str_dec.astype(int))"
   ]
  },
  {
   "cell_type": "code",
   "execution_count": 40,
   "metadata": {
    "collapsed": true
   },
   "outputs": [],
   "source": [
    "# print(s_str_dec.map(lambda x: int(x, 0)))\n",
    "# ValueError: invalid literal for int() with base 0: '01'"
   ]
  },
  {
   "cell_type": "code",
   "execution_count": 41,
   "metadata": {},
   "outputs": [
    {
     "name": "stdout",
     "output_type": "stream",
     "text": [
      "0     0x7\n",
      "1    0x38\n",
      "2    0x3f\n",
      "Name: oct, dtype: object\n"
     ]
    }
   ],
   "source": [
    "print(df_str['oct'].map(lambda x: int(x, 8)).map(hex))"
   ]
  },
  {
   "cell_type": "code",
   "execution_count": 42,
   "metadata": {
    "collapsed": true
   },
   "outputs": [],
   "source": [
    "s_str = pd.Series(['0', '10', 'xxx'])"
   ]
  },
  {
   "cell_type": "code",
   "execution_count": 43,
   "metadata": {},
   "outputs": [
    {
     "name": "stdout",
     "output_type": "stream",
     "text": [
      "0      0\n",
      "1     10\n",
      "2    xxx\n",
      "dtype: object\n"
     ]
    }
   ],
   "source": [
    "print(s_str)"
   ]
  },
  {
   "cell_type": "code",
   "execution_count": 44,
   "metadata": {},
   "outputs": [
    {
     "name": "stdout",
     "output_type": "stream",
     "text": [
      "0    00000000\n",
      "1    00000010\n",
      "2    00000xxx\n",
      "dtype: object\n"
     ]
    }
   ],
   "source": [
    "print(s_str.str.zfill(8))"
   ]
  },
  {
   "cell_type": "code",
   "execution_count": 45,
   "metadata": {},
   "outputs": [
    {
     "name": "stdout",
     "output_type": "stream",
     "text": [
      "0           0\n",
      "1          10\n",
      "2         xxx\n",
      "dtype: object\n"
     ]
    }
   ],
   "source": [
    "print(s_str.str.rjust(8))"
   ]
  },
  {
   "cell_type": "code",
   "execution_count": 46,
   "metadata": {},
   "outputs": [
    {
     "name": "stdout",
     "output_type": "stream",
     "text": [
      "0    _______0\n",
      "1    ______10\n",
      "2    _____xxx\n",
      "dtype: object\n"
     ]
    }
   ],
   "source": [
    "print(s_str.str.rjust(8, '_'))"
   ]
  },
  {
   "cell_type": "code",
   "execution_count": 47,
   "metadata": {},
   "outputs": [
    {
     "name": "stdout",
     "output_type": "stream",
     "text": [
      "0       0    \n",
      "1       10   \n",
      "2      xxx   \n",
      "dtype: object\n"
     ]
    }
   ],
   "source": [
    "print(s_str.str.center(8))"
   ]
  },
  {
   "cell_type": "code",
   "execution_count": 48,
   "metadata": {},
   "outputs": [
    {
     "name": "stdout",
     "output_type": "stream",
     "text": [
      "0    ___0____\n",
      "1    ___10___\n",
      "2    __xxx___\n",
      "dtype: object\n"
     ]
    }
   ],
   "source": [
    "print(s_str.str.center(8, '_'))"
   ]
  },
  {
   "cell_type": "code",
   "execution_count": 49,
   "metadata": {},
   "outputs": [
    {
     "name": "stdout",
     "output_type": "stream",
     "text": [
      "0    0       \n",
      "1    10      \n",
      "2    xxx     \n",
      "dtype: object\n"
     ]
    }
   ],
   "source": [
    "print(s_str.str.ljust(8))"
   ]
  },
  {
   "cell_type": "code",
   "execution_count": 50,
   "metadata": {},
   "outputs": [
    {
     "name": "stdout",
     "output_type": "stream",
     "text": [
      "0    0_______\n",
      "1    10______\n",
      "2    xxx_____\n",
      "dtype: object\n"
     ]
    }
   ],
   "source": [
    "print(s_str.str.ljust(8, '_'))"
   ]
  },
  {
   "cell_type": "code",
   "execution_count": 51,
   "metadata": {
    "collapsed": true
   },
   "outputs": [],
   "source": [
    "s_num = pd.Series([0, 10, 100])"
   ]
  },
  {
   "cell_type": "code",
   "execution_count": 52,
   "metadata": {
    "collapsed": true
   },
   "outputs": [],
   "source": [
    "# print(s_num.str.rjust(8, '_'))\n",
    "# AttributeError: Can only use .str accessor with string values, which use np.object_ dtype in pandas"
   ]
  },
  {
   "cell_type": "code",
   "execution_count": 53,
   "metadata": {},
   "outputs": [
    {
     "name": "stdout",
     "output_type": "stream",
     "text": [
      "0    _______0\n",
      "1    ______10\n",
      "2    _____100\n",
      "dtype: object\n"
     ]
    }
   ],
   "source": [
    "print(s_num.astype(str).str.rjust(8, '_'))"
   ]
  },
  {
   "cell_type": "code",
   "execution_count": 54,
   "metadata": {
    "collapsed": true
   },
   "outputs": [],
   "source": [
    "df = pd.DataFrame({'i': [0, 10, 100],\n",
    "                   'f': [0.1234, 1.234, 12.34],\n",
    "                   'round': [0.4, 0.5, 0.6]})"
   ]
  },
  {
   "cell_type": "code",
   "execution_count": 55,
   "metadata": {},
   "outputs": [
    {
     "name": "stdout",
     "output_type": "stream",
     "text": [
      "     i        f  round\n",
      "0    0   0.1234    0.4\n",
      "1   10   1.2340    0.5\n",
      "2  100  12.3400    0.6\n"
     ]
    }
   ],
   "source": [
    "print(df)"
   ]
  },
  {
   "cell_type": "code",
   "execution_count": 56,
   "metadata": {},
   "outputs": [
    {
     "name": "stdout",
     "output_type": "stream",
     "text": [
      "i          int64\n",
      "f        float64\n",
      "round    float64\n",
      "dtype: object\n"
     ]
    }
   ],
   "source": [
    "print(df.dtypes)"
   ]
  },
  {
   "cell_type": "code",
   "execution_count": 57,
   "metadata": {},
   "outputs": [
    {
     "name": "stdout",
     "output_type": "stream",
     "text": [
      "0    00000000\n",
      "1    00000010\n",
      "2    00000100\n",
      "Name: i, dtype: object\n"
     ]
    }
   ],
   "source": [
    "print(df['i'].map('{:08}'.format))"
   ]
  },
  {
   "cell_type": "code",
   "execution_count": 58,
   "metadata": {},
   "outputs": [
    {
     "name": "stdout",
     "output_type": "stream",
     "text": [
      "0    0_______\n",
      "1    10______\n",
      "2    100_____\n",
      "Name: i, dtype: object\n"
     ]
    }
   ],
   "source": [
    "print(df['i'].map('{:_<8}'.format))"
   ]
  },
  {
   "cell_type": "code",
   "execution_count": 59,
   "metadata": {},
   "outputs": [
    {
     "name": "stdout",
     "output_type": "stream",
     "text": [
      "0     0\n",
      "1     a\n",
      "2    64\n",
      "Name: i, dtype: object\n"
     ]
    }
   ],
   "source": [
    "print(df['i'].map('{:x}'.format))"
   ]
  },
  {
   "cell_type": "code",
   "execution_count": 60,
   "metadata": {},
   "outputs": [
    {
     "name": "stdout",
     "output_type": "stream",
     "text": [
      "0    0b00000000\n",
      "1    0b00001010\n",
      "2    0b01100100\n",
      "Name: i, dtype: object\n"
     ]
    }
   ],
   "source": [
    "print(df['i'].map('{:#010b}'.format))"
   ]
  },
  {
   "cell_type": "code",
   "execution_count": 61,
   "metadata": {},
   "outputs": [
    {
     "name": "stdout",
     "output_type": "stream",
     "text": [
      "0     0.12\n",
      "1     1.23\n",
      "2    12.34\n",
      "Name: f, dtype: object\n"
     ]
    }
   ],
   "source": [
    "print(df['f'].map('{:.2f}'.format))"
   ]
  },
  {
   "cell_type": "code",
   "execution_count": 62,
   "metadata": {},
   "outputs": [
    {
     "name": "stdout",
     "output_type": "stream",
     "text": [
      "0    0.12\n",
      "1     1.2\n",
      "2      12\n",
      "Name: f, dtype: object\n"
     ]
    }
   ],
   "source": [
    "print(df['f'].map('{:.2g}'.format))"
   ]
  },
  {
   "cell_type": "code",
   "execution_count": 63,
   "metadata": {},
   "outputs": [
    {
     "name": "stdout",
     "output_type": "stream",
     "text": [
      "0    1.23e-01\n",
      "1    1.23e+00\n",
      "2    1.23e+01\n",
      "Name: f, dtype: object\n"
     ]
    }
   ],
   "source": [
    "print(df['f'].map('{:.2e}'.format))"
   ]
  },
  {
   "cell_type": "code",
   "execution_count": 64,
   "metadata": {},
   "outputs": [
    {
     "name": "stdout",
     "output_type": "stream",
     "text": [
      "0      12.34%\n",
      "1     123.40%\n",
      "2    1234.00%\n",
      "Name: f, dtype: object\n"
     ]
    }
   ],
   "source": [
    "print(df['f'].map('{:.2%}'.format))"
   ]
  },
  {
   "cell_type": "code",
   "execution_count": 65,
   "metadata": {},
   "outputs": [
    {
     "name": "stdout",
     "output_type": "stream",
     "text": [
      "0    0\n",
      "1    0\n",
      "2    1\n",
      "Name: round, dtype: object\n"
     ]
    }
   ],
   "source": [
    "print(df['round'].map('{:.0f}'.format))"
   ]
  }
 ],
 "metadata": {
  "kernelspec": {
   "display_name": "Python 3",
   "language": "python",
   "name": "python3"
  },
  "language_info": {
   "codemirror_mode": {
    "name": "ipython",
    "version": 3
   },
   "file_extension": ".py",
   "mimetype": "text/x-python",
   "name": "python",
   "nbconvert_exporter": "python",
   "pygments_lexer": "ipython3",
   "version": "3.6.5"
  }
 },
 "nbformat": 4,
 "nbformat_minor": 2
}
