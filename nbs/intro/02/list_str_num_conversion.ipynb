{
 "cells": [
  {
   "cell_type": "code",
   "execution_count": 1,
   "metadata": {
    "collapsed": true
   },
   "outputs": [],
   "source": [
    "l_n = [-0.5, 0, 1.0, 100, 1.2e-2, 0xff, 0b11]"
   ]
  },
  {
   "cell_type": "code",
   "execution_count": 2,
   "metadata": {},
   "outputs": [
    {
     "name": "stdout",
     "output_type": "stream",
     "text": [
      "['-0.5', '0', '1.0', '100', '0.012', '255', '3']\n"
     ]
    }
   ],
   "source": [
    "l_n_str = [str(n) for n in l_n]\n",
    "print(l_n_str)"
   ]
  },
  {
   "cell_type": "code",
   "execution_count": 3,
   "metadata": {
    "collapsed": true
   },
   "outputs": [],
   "source": [
    "l_i = [0, 64, 128, 192, 256]"
   ]
  },
  {
   "cell_type": "code",
   "execution_count": 4,
   "metadata": {},
   "outputs": [
    {
     "name": "stdout",
     "output_type": "stream",
     "text": [
      "['0x0', '0x40', '0x80', '0xc0', '0x100']\n"
     ]
    }
   ],
   "source": [
    "l_i_hex1 = [hex(i) for i in l_i]\n",
    "print(l_i_hex1)"
   ]
  },
  {
   "cell_type": "code",
   "execution_count": 5,
   "metadata": {},
   "outputs": [
    {
     "name": "stdout",
     "output_type": "stream",
     "text": [
      "['0000', '0040', '0080', '00c0', '0100']\n"
     ]
    }
   ],
   "source": [
    "l_i_hex2 = [format(i, '04x') for i in l_i]\n",
    "print(l_i_hex2)"
   ]
  },
  {
   "cell_type": "code",
   "execution_count": 6,
   "metadata": {},
   "outputs": [
    {
     "name": "stdout",
     "output_type": "stream",
     "text": [
      "['0x0000', '0x0040', '0x0080', '0x00c0', '0x0100']\n"
     ]
    }
   ],
   "source": [
    "l_i_hex3 = [format(i, '#06x') for i in l_i]\n",
    "print(l_i_hex3)"
   ]
  },
  {
   "cell_type": "code",
   "execution_count": 7,
   "metadata": {
    "collapsed": true
   },
   "outputs": [],
   "source": [
    "l_f = [0.0001, 123.456, 123400000]"
   ]
  },
  {
   "cell_type": "code",
   "execution_count": 8,
   "metadata": {},
   "outputs": [
    {
     "name": "stdout",
     "output_type": "stream",
     "text": [
      "['1.000000e-04', '1.234560e+02', '1.234000e+08']\n"
     ]
    }
   ],
   "source": [
    "l_f_e1 = [format(f, 'e') for f in l_f]\n",
    "print(l_f_e1)"
   ]
  },
  {
   "cell_type": "code",
   "execution_count": 9,
   "metadata": {},
   "outputs": [
    {
     "name": "stdout",
     "output_type": "stream",
     "text": [
      "['1.000E-04', '1.235E+02', '1.234E+08']\n"
     ]
    }
   ],
   "source": [
    "l_f_e2 = [format(f, '.3E') for f in l_f]\n",
    "print(l_f_e2)"
   ]
  },
  {
   "cell_type": "code",
   "execution_count": 10,
   "metadata": {
    "collapsed": true
   },
   "outputs": [],
   "source": [
    "l_si = ['-10', '0', '100']"
   ]
  },
  {
   "cell_type": "code",
   "execution_count": 11,
   "metadata": {},
   "outputs": [
    {
     "name": "stdout",
     "output_type": "stream",
     "text": [
      "[-10, 0, 100]\n"
     ]
    }
   ],
   "source": [
    "l_si_i = [int(s) for s in l_si]\n",
    "print(l_si_i)"
   ]
  },
  {
   "cell_type": "code",
   "execution_count": 12,
   "metadata": {
    "collapsed": true
   },
   "outputs": [],
   "source": [
    "l_sf = ['.123', '1.23', '123']"
   ]
  },
  {
   "cell_type": "code",
   "execution_count": 13,
   "metadata": {},
   "outputs": [
    {
     "name": "stdout",
     "output_type": "stream",
     "text": [
      "[0.123, 1.23, 123.0]\n"
     ]
    }
   ],
   "source": [
    "l_sf_f = [float(s) for s in l_sf]\n",
    "print(l_sf_f)"
   ]
  },
  {
   "cell_type": "code",
   "execution_count": 14,
   "metadata": {
    "collapsed": true
   },
   "outputs": [],
   "source": [
    "l_sb = ['0011', '0101', '1111']"
   ]
  },
  {
   "cell_type": "code",
   "execution_count": 15,
   "metadata": {},
   "outputs": [
    {
     "name": "stdout",
     "output_type": "stream",
     "text": [
      "[3, 5, 15]\n"
     ]
    }
   ],
   "source": [
    "l_sb_i = [int(s, 2) for s in l_sb]\n",
    "print(l_sb_i)"
   ]
  },
  {
   "cell_type": "code",
   "execution_count": 16,
   "metadata": {
    "collapsed": true
   },
   "outputs": [],
   "source": [
    "l_sbox = ['100', '0b100', '0o77', '0xff']"
   ]
  },
  {
   "cell_type": "code",
   "execution_count": 17,
   "metadata": {},
   "outputs": [
    {
     "name": "stdout",
     "output_type": "stream",
     "text": [
      "[100, 4, 63, 255]\n"
     ]
    }
   ],
   "source": [
    "l_sbox_i = [int(s, 0) for s in l_sbox]\n",
    "print(l_sbox_i)"
   ]
  },
  {
   "cell_type": "code",
   "execution_count": 18,
   "metadata": {
    "collapsed": true
   },
   "outputs": [],
   "source": [
    "l_se = ['1.23e3', '0.123e-1', '123']"
   ]
  },
  {
   "cell_type": "code",
   "execution_count": 19,
   "metadata": {},
   "outputs": [
    {
     "name": "stdout",
     "output_type": "stream",
     "text": [
      "[1230.0, 0.0123, 123.0]\n"
     ]
    }
   ],
   "source": [
    "l_se_f = [float(s) for s in l_se]\n",
    "print(l_se_f)"
   ]
  },
  {
   "cell_type": "code",
   "execution_count": 20,
   "metadata": {
    "collapsed": true
   },
   "outputs": [],
   "source": [
    "def is_int(s):\n",
    "    try:\n",
    "        int(s)\n",
    "    except ValueError:\n",
    "        return False\n",
    "    else:\n",
    "        return True"
   ]
  },
  {
   "cell_type": "code",
   "execution_count": 21,
   "metadata": {
    "collapsed": true
   },
   "outputs": [],
   "source": [
    "def is_float(s):\n",
    "    try:\n",
    "        float(s)\n",
    "    except ValueError:\n",
    "        return False\n",
    "    else:\n",
    "        return True"
   ]
  },
  {
   "cell_type": "code",
   "execution_count": 22,
   "metadata": {
    "collapsed": true
   },
   "outputs": [],
   "source": [
    "l_multi = ['-100', '100', '1.23', '1.23e2', 'one']"
   ]
  },
  {
   "cell_type": "code",
   "execution_count": 23,
   "metadata": {},
   "outputs": [
    {
     "name": "stdout",
     "output_type": "stream",
     "text": [
      "[-100, 100]\n"
     ]
    }
   ],
   "source": [
    "l_multi_i = [int(s) for s in l_multi if is_int(s)]\n",
    "print(l_multi_i)"
   ]
  },
  {
   "cell_type": "code",
   "execution_count": 24,
   "metadata": {},
   "outputs": [
    {
     "name": "stdout",
     "output_type": "stream",
     "text": [
      "[-100.0, 100.0, 1.23, 123.0]\n"
     ]
    }
   ],
   "source": [
    "l_multi_f = [float(s) for s in l_multi if is_float(s)]\n",
    "print(l_multi_f)"
   ]
  }
 ],
 "metadata": {
  "kernelspec": {
   "display_name": "Python 3",
   "language": "python",
   "name": "python3"
  },
  "language_info": {
   "codemirror_mode": {
    "name": "ipython",
    "version": 3
   },
   "file_extension": ".py",
   "mimetype": "text/x-python",
   "name": "python",
   "nbconvert_exporter": "python",
   "pygments_lexer": "ipython3",
   "version": "3.6.4"
  }
 },
 "nbformat": 4,
 "nbformat_minor": 2
}
