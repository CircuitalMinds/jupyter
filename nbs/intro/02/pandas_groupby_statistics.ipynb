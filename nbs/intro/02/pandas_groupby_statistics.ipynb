{
 "cells": [
  {
   "cell_type": "code",
   "execution_count": 1,
   "metadata": {},
   "outputs": [],
   "source": [
    "import pandas as pd\n",
    "import seaborn as sns\n",
    "import numpy as np"
   ]
  },
  {
   "cell_type": "code",
   "execution_count": 2,
   "metadata": {},
   "outputs": [
    {
     "name": "stdout",
     "output_type": "stream",
     "text": [
      "(150, 5)\n"
     ]
    }
   ],
   "source": [
    "df = sns.load_dataset('iris')\n",
    "print(df.shape)"
   ]
  },
  {
   "cell_type": "code",
   "execution_count": 3,
   "metadata": {},
   "outputs": [
    {
     "name": "stdout",
     "output_type": "stream",
     "text": [
      "   sepal_length  sepal_width  petal_length  petal_width species\n",
      "0           5.1          3.5           1.4          0.2  setosa\n",
      "1           4.9          3.0           1.4          0.2  setosa\n",
      "2           4.7          3.2           1.3          0.2  setosa\n",
      "3           4.6          3.1           1.5          0.2  setosa\n",
      "4           5.0          3.6           1.4          0.2  setosa\n"
     ]
    }
   ],
   "source": [
    "print(df.head(5))"
   ]
  },
  {
   "cell_type": "code",
   "execution_count": 4,
   "metadata": {},
   "outputs": [
    {
     "name": "stdout",
     "output_type": "stream",
     "text": [
      "    sl   sw   pl   pw species\n",
      "0  5.1  3.5  1.4  0.2  setosa\n",
      "1  4.9  3.0  1.4  0.2  setosa\n",
      "2  4.7  3.2  1.3  0.2  setosa\n",
      "3  4.6  3.1  1.5  0.2  setosa\n",
      "4  5.0  3.6  1.4  0.2  setosa\n"
     ]
    }
   ],
   "source": [
    "df.columns = ['sl', 'sw', 'pl', 'pw', 'species']\n",
    "print(df.head(5))"
   ]
  },
  {
   "cell_type": "code",
   "execution_count": 5,
   "metadata": {},
   "outputs": [
    {
     "name": "stdout",
     "output_type": "stream",
     "text": [
      "<pandas.core.groupby.generic.DataFrameGroupBy object at 0x115de1650>\n"
     ]
    }
   ],
   "source": [
    "grouped = df.groupby('species')\n",
    "print(grouped)"
   ]
  },
  {
   "cell_type": "code",
   "execution_count": 6,
   "metadata": {},
   "outputs": [
    {
     "name": "stdout",
     "output_type": "stream",
     "text": [
      "<class 'pandas.core.groupby.generic.DataFrameGroupBy'>\n"
     ]
    }
   ],
   "source": [
    "print(type(grouped))"
   ]
  },
  {
   "cell_type": "code",
   "execution_count": 7,
   "metadata": {},
   "outputs": [
    {
     "name": "stdout",
     "output_type": "stream",
     "text": [
      "species\n",
      "setosa        50\n",
      "versicolor    50\n",
      "virginica     50\n",
      "dtype: int64\n"
     ]
    }
   ],
   "source": [
    "print(grouped.size())"
   ]
  },
  {
   "cell_type": "code",
   "execution_count": 8,
   "metadata": {},
   "outputs": [
    {
     "name": "stdout",
     "output_type": "stream",
     "text": [
      "               sl     sw     pl     pw\n",
      "species                               \n",
      "setosa      5.006  3.428  1.462  0.246\n",
      "versicolor  5.936  2.770  4.260  1.326\n",
      "virginica   6.588  2.974  5.552  2.026\n"
     ]
    }
   ],
   "source": [
    "print(grouped.mean())"
   ]
  },
  {
   "cell_type": "code",
   "execution_count": 9,
   "metadata": {},
   "outputs": [
    {
     "name": "stdout",
     "output_type": "stream",
     "text": [
      "             sl   sw   pl   pw\n",
      "species                       \n",
      "setosa      4.3  2.3  1.0  0.1\n",
      "versicolor  4.9  2.0  3.0  1.0\n",
      "virginica   4.9  2.2  4.5  1.4\n"
     ]
    }
   ],
   "source": [
    "print(grouped.min())"
   ]
  },
  {
   "cell_type": "code",
   "execution_count": 10,
   "metadata": {},
   "outputs": [
    {
     "name": "stdout",
     "output_type": "stream",
     "text": [
      "             sl   sw   pl   pw\n",
      "species                       \n",
      "setosa      5.8  4.4  1.9  0.6\n",
      "versicolor  7.0  3.4  5.1  1.8\n",
      "virginica   7.9  3.8  6.9  2.5\n"
     ]
    }
   ],
   "source": [
    "print(grouped.max())"
   ]
  },
  {
   "cell_type": "code",
   "execution_count": 11,
   "metadata": {
    "scrolled": true
   },
   "outputs": [
    {
     "name": "stdout",
     "output_type": "stream",
     "text": [
      "               sl     sw     pl     pw\n",
      "species                               \n",
      "setosa      250.3  171.4   73.1   12.3\n",
      "versicolor  296.8  138.5  213.0   66.3\n",
      "virginica   329.4  148.7  277.6  101.3\n"
     ]
    }
   ],
   "source": [
    "print(grouped.sum())"
   ]
  },
  {
   "cell_type": "code",
   "execution_count": 12,
   "metadata": {},
   "outputs": [
    {
     "name": "stdout",
     "output_type": "stream",
     "text": [
      "<class 'pandas.core.frame.DataFrame'>\n"
     ]
    }
   ],
   "source": [
    "print(type(grouped.mean()))"
   ]
  },
  {
   "cell_type": "code",
   "execution_count": 13,
   "metadata": {},
   "outputs": [
    {
     "name": "stdout",
     "output_type": "stream",
     "text": [
      "               sl     sw     pl     pw\n",
      "species                               \n",
      "setosa      5.006  3.428  1.462  0.246\n",
      "versicolor  5.936  2.770  4.260  1.326\n",
      "virginica   6.588  2.974  5.552  2.026\n"
     ]
    }
   ],
   "source": [
    "print(grouped.agg('mean'))"
   ]
  },
  {
   "cell_type": "code",
   "execution_count": 14,
   "metadata": {},
   "outputs": [
    {
     "name": "stdout",
     "output_type": "stream",
     "text": [
      "             sl   sw   pl   pw\n",
      "species                       \n",
      "setosa      5.8  4.4  1.9  0.6\n",
      "versicolor  7.0  3.4  5.1  1.8\n",
      "virginica   7.9  3.8  6.9  2.5\n"
     ]
    }
   ],
   "source": [
    "print(grouped.agg(max))"
   ]
  },
  {
   "cell_type": "code",
   "execution_count": 15,
   "metadata": {},
   "outputs": [
    {
     "name": "stdout",
     "output_type": "stream",
     "text": [
      "             sl   sw   pl   pw\n",
      "species                       \n",
      "setosa      4.3  2.3  1.0  0.1\n",
      "versicolor  4.9  2.0  3.0  1.0\n",
      "virginica   4.9  2.2  4.5  1.4\n"
     ]
    }
   ],
   "source": [
    "print(grouped.agg(np.min))"
   ]
  },
  {
   "cell_type": "code",
   "execution_count": 16,
   "metadata": {},
   "outputs": [
    {
     "name": "stdout",
     "output_type": "stream",
     "text": [
      "             sl   sw   pl   pw\n",
      "species                       \n",
      "setosa      1.5  2.1  0.9  0.5\n",
      "versicolor  2.1  1.4  2.1  0.8\n",
      "virginica   3.0  1.6  2.4  1.1\n"
     ]
    }
   ],
   "source": [
    "print(grouped.agg(lambda x: max(x) - min(x)))"
   ]
  },
  {
   "cell_type": "code",
   "execution_count": 17,
   "metadata": {},
   "outputs": [
    {
     "name": "stdout",
     "output_type": "stream",
     "text": [
      "species\n",
      "setosa        <class 'pandas.core.series.Series'>\n",
      "versicolor    <class 'pandas.core.series.Series'>\n",
      "virginica     <class 'pandas.core.series.Series'>\n",
      "Name: sl, dtype: object\n"
     ]
    }
   ],
   "source": [
    "print(grouped.agg(lambda x: type(x))['sl'])"
   ]
  },
  {
   "cell_type": "code",
   "execution_count": 18,
   "metadata": {},
   "outputs": [],
   "source": [
    "# print(grouped.agg(lambda x: x + 1))\n",
    "# Exception: Must produce aggregated value"
   ]
  },
  {
   "cell_type": "code",
   "execution_count": 19,
   "metadata": {},
   "outputs": [],
   "source": [
    "def my_func(x):\n",
    "    return max(x) - min(x)"
   ]
  },
  {
   "cell_type": "code",
   "execution_count": 20,
   "metadata": {},
   "outputs": [
    {
     "name": "stdout",
     "output_type": "stream",
     "text": [
      "             sl   sw   pl   pw\n",
      "species                       \n",
      "setosa      1.5  2.1  0.9  0.5\n",
      "versicolor  2.1  1.4  2.1  0.8\n",
      "virginica   3.0  1.6  2.4  1.1\n"
     ]
    }
   ],
   "source": [
    "print(grouped.agg(my_func))"
   ]
  },
  {
   "cell_type": "code",
   "execution_count": 21,
   "metadata": {
    "scrolled": false
   },
   "outputs": [
    {
     "name": "stdout",
     "output_type": "stream",
     "text": [
      "               sl               sw               pl               pw          \n",
      "             mean  max amin   mean  max amin   mean  max amin   mean  max amin\n",
      "species                                                                       \n",
      "setosa      5.006  5.8  4.3  3.428  4.4  2.3  1.462  1.9  1.0  0.246  0.6  0.1\n",
      "versicolor  5.936  7.0  4.9  2.770  3.4  2.0  4.260  5.1  3.0  1.326  1.8  1.0\n",
      "virginica   6.588  7.9  4.9  2.974  3.8  2.2  5.552  6.9  4.5  2.026  2.5  1.4\n"
     ]
    }
   ],
   "source": [
    "print(grouped.agg(['mean', max, np.min]))"
   ]
  },
  {
   "cell_type": "code",
   "execution_count": 22,
   "metadata": {},
   "outputs": [
    {
     "name": "stdout",
     "output_type": "stream",
     "text": [
      "               sl   sw   pl   pw\n",
      "species                         \n",
      "setosa      5.006  4.4  1.0  0.5\n",
      "versicolor  5.936  3.4  3.0  0.8\n",
      "virginica   6.588  3.8  4.5  1.1\n"
     ]
    }
   ],
   "source": [
    "print(grouped.agg({'sl': 'mean', 'sw': max, 'pl': np.min, 'pw': my_func}))"
   ]
  },
  {
   "cell_type": "code",
   "execution_count": 23,
   "metadata": {},
   "outputs": [
    {
     "name": "stdout",
     "output_type": "stream",
     "text": [
      "            count   mean       std  min    25%  50%  75%  max\n",
      "species                                                      \n",
      "setosa       50.0  5.006  0.352490  4.3  4.800  5.0  5.2  5.8\n",
      "versicolor   50.0  5.936  0.516171  4.9  5.600  5.9  6.3  7.0\n",
      "virginica    50.0  6.588  0.635880  4.9  6.225  6.5  6.9  7.9\n"
     ]
    }
   ],
   "source": [
    "print(grouped.describe()['sl']) "
   ]
  },
  {
   "cell_type": "code",
   "execution_count": 24,
   "metadata": {},
   "outputs": [
    {
     "name": "stdout",
     "output_type": "stream",
     "text": [
      "<class 'pandas.core.frame.DataFrame'>\n"
     ]
    }
   ],
   "source": [
    "print(type(grouped.max()))"
   ]
  },
  {
   "cell_type": "code",
   "execution_count": 25,
   "metadata": {},
   "outputs": [],
   "source": [
    "%matplotlib agg"
   ]
  },
  {
   "cell_type": "code",
   "execution_count": 26,
   "metadata": {},
   "outputs": [],
   "source": [
    "ax = grouped.max().plot.bar(rot=0)\n",
    "fig = ax.get_figure()\n",
    "fig.savefig('data/dst/iris_pandas_groupby_max.jpg')"
   ]
  }
 ],
 "metadata": {
  "kernelspec": {
   "display_name": "Python 3",
   "language": "python",
   "name": "python3"
  },
  "language_info": {
   "codemirror_mode": {
    "name": "ipython",
    "version": 3
   },
   "file_extension": ".py",
   "mimetype": "text/x-python",
   "name": "python",
   "nbconvert_exporter": "python",
   "pygments_lexer": "ipython3",
   "version": "3.7.7"
  }
 },
 "nbformat": 4,
 "nbformat_minor": 2
}
