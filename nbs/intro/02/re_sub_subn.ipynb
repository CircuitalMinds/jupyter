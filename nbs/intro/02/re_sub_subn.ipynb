{
 "cells": [
  {
   "cell_type": "code",
   "execution_count": 1,
   "metadata": {},
   "outputs": [],
   "source": [
    "import re"
   ]
  },
  {
   "cell_type": "code",
   "execution_count": 2,
   "metadata": {},
   "outputs": [],
   "source": [
    "s = 'aaa@xxx.com, bbb@yyy.com, ccc@zzz.net'"
   ]
  },
  {
   "cell_type": "code",
   "execution_count": 3,
   "metadata": {},
   "outputs": [
    {
     "name": "stdout",
     "output_type": "stream",
     "text": [
      "new-address, new-address, ccc@zzz.net\n"
     ]
    }
   ],
   "source": [
    "result = re.sub(r'[a-z]+@[a-z]+\\.com', 'new-address', s)\n",
    "print(result)"
   ]
  },
  {
   "cell_type": "code",
   "execution_count": 4,
   "metadata": {},
   "outputs": [
    {
     "name": "stdout",
     "output_type": "stream",
     "text": [
      "<class 'str'>\n"
     ]
    }
   ],
   "source": [
    "print(type(result))"
   ]
  },
  {
   "cell_type": "code",
   "execution_count": 5,
   "metadata": {},
   "outputs": [
    {
     "name": "stdout",
     "output_type": "stream",
     "text": [
      "aaa@xxx.net, bbb@yyy.net, ccc@zzz.net\n"
     ]
    }
   ],
   "source": [
    "result = re.sub(r'([a-z]+)@([a-z]+)\\.com', r'\\1@\\2.net', s)\n",
    "print(result)"
   ]
  },
  {
   "cell_type": "code",
   "execution_count": 6,
   "metadata": {},
   "outputs": [
    {
     "name": "stdout",
     "output_type": "stream",
     "text": [
      "aaa@xxx.net, bbb@yyy.net, ccc@zzz.net\n"
     ]
    }
   ],
   "source": [
    "result = re.sub(r'(?P<local>[a-z]+)@(?P<SLD>[a-z]+)\\.com', r'\\g<local>@\\g<SLD>.net', s)\n",
    "print(result)"
   ]
  },
  {
   "cell_type": "code",
   "execution_count": 7,
   "metadata": {},
   "outputs": [
    {
     "name": "stdout",
     "output_type": "stream",
     "text": [
      "new-address, bbb@yyy.com, ccc@zzz.net\n"
     ]
    }
   ],
   "source": [
    "result = re.sub(r'[a-z]+@[a-z]+\\.com', 'new-address', s, count=1)\n",
    "print(result)"
   ]
  },
  {
   "cell_type": "code",
   "execution_count": 8,
   "metadata": {},
   "outputs": [
    {
     "name": "stdout",
     "output_type": "stream",
     "text": [
      "('new-address, new-address, ccc@zzz.net', 2)\n"
     ]
    }
   ],
   "source": [
    "result = re.subn(r'[a-z]+@[a-z]+\\.com', 'new-address', s)\n",
    "print(result)"
   ]
  },
  {
   "cell_type": "code",
   "execution_count": 9,
   "metadata": {},
   "outputs": [
    {
     "name": "stdout",
     "output_type": "stream",
     "text": [
      "new-address, new-address, ccc@zzz.net\n"
     ]
    }
   ],
   "source": [
    "print(result[0])"
   ]
  },
  {
   "cell_type": "code",
   "execution_count": 10,
   "metadata": {},
   "outputs": [
    {
     "name": "stdout",
     "output_type": "stream",
     "text": [
      "2\n"
     ]
    }
   ],
   "source": [
    "print(result[1])"
   ]
  },
  {
   "cell_type": "code",
   "execution_count": 11,
   "metadata": {},
   "outputs": [
    {
     "name": "stdout",
     "output_type": "stream",
     "text": [
      "('aaa@xxx.net, bbb@yyy.net, ccc@zzz.net', 2)\n"
     ]
    }
   ],
   "source": [
    "result = re.subn(r'(?P<local>[a-z]+)@(?P<SLD>[a-z]+)\\.com', r'\\g<local>@\\g<SLD>.net', s)\n",
    "print(result)"
   ]
  },
  {
   "cell_type": "code",
   "execution_count": 12,
   "metadata": {},
   "outputs": [
    {
     "name": "stdout",
     "output_type": "stream",
     "text": [
      "('new-address, bbb@yyy.com, ccc@zzz.net', 1)\n"
     ]
    }
   ],
   "source": [
    "result = re.subn(r'[a-z]+@[a-z]+\\.com', 'new-address', s, count=1)\n",
    "print(result)"
   ]
  }
 ],
 "metadata": {
  "kernelspec": {
   "display_name": "Python 3",
   "language": "python",
   "name": "python3"
  },
  "language_info": {
   "codemirror_mode": {
    "name": "ipython",
    "version": 3
   },
   "file_extension": ".py",
   "mimetype": "text/x-python",
   "name": "python",
   "nbconvert_exporter": "python",
   "pygments_lexer": "ipython3",
   "version": "3.7.3"
  }
 },
 "nbformat": 4,
 "nbformat_minor": 2
}
