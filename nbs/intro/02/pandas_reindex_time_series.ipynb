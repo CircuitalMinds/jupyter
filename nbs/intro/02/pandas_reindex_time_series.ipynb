{
 "cells": [
  {
   "cell_type": "code",
   "execution_count": 1,
   "metadata": {},
   "outputs": [],
   "source": [
    "import pandas as pd"
   ]
  },
  {
   "cell_type": "code",
   "execution_count": 2,
   "metadata": {},
   "outputs": [
    {
     "name": "stdout",
     "output_type": "stream",
     "text": [
      "            A   B    C\n",
      "2020-06-01  1  10  100\n",
      "2020-06-03  3  30  300\n",
      "2020-06-05  5  50  500\n"
     ]
    }
   ],
   "source": [
    "df = pd.DataFrame({'A': [1, 3, 5], 'B': [10, 30, 50], 'C': [100, 300, 500]},\n",
    "                  index=pd.date_range('2020-06-01', '2020-06-05', freq='2D'))\n",
    "print(df)"
   ]
  },
  {
   "cell_type": "code",
   "execution_count": 3,
   "metadata": {},
   "outputs": [
    {
     "name": "stdout",
     "output_type": "stream",
     "text": [
      "DatetimeIndex(['2020-06-01', '2020-06-02', '2020-06-03', '2020-06-04',\n",
      "               '2020-06-05'],\n",
      "              dtype='datetime64[ns]', freq='D')\n"
     ]
    }
   ],
   "source": [
    "new_index = pd.date_range('2020-06-01', '2020-06-05', freq='1D')\n",
    "print(new_index)"
   ]
  },
  {
   "cell_type": "code",
   "execution_count": 4,
   "metadata": {},
   "outputs": [
    {
     "name": "stdout",
     "output_type": "stream",
     "text": [
      "              A     B      C\n",
      "2020-06-01  1.0  10.0  100.0\n",
      "2020-06-02  NaN   NaN    NaN\n",
      "2020-06-03  3.0  30.0  300.0\n",
      "2020-06-04  NaN   NaN    NaN\n",
      "2020-06-05  5.0  50.0  500.0\n"
     ]
    }
   ],
   "source": [
    "print(df.reindex(index=new_index))"
   ]
  },
  {
   "cell_type": "code",
   "execution_count": 5,
   "metadata": {},
   "outputs": [
    {
     "name": "stdout",
     "output_type": "stream",
     "text": [
      "            A   B    C\n",
      "2020-06-01  1  10  100\n",
      "2020-06-02  3  30  300\n",
      "2020-06-03  3  30  300\n",
      "2020-06-04  5  50  500\n",
      "2020-06-05  5  50  500\n"
     ]
    }
   ],
   "source": [
    "print(df.reindex(index=new_index, method='bfill'))"
   ]
  },
  {
   "cell_type": "code",
   "execution_count": 6,
   "metadata": {},
   "outputs": [
    {
     "name": "stdout",
     "output_type": "stream",
     "text": [
      "              A     B      C\n",
      "2020-06-01  1.0  10.0  100.0\n",
      "2020-06-02  2.0  20.0  200.0\n",
      "2020-06-03  3.0  30.0  300.0\n",
      "2020-06-04  4.0  40.0  400.0\n",
      "2020-06-05  5.0  50.0  500.0\n"
     ]
    }
   ],
   "source": [
    "print(df.reindex(index=new_index).interpolate(method='time'))"
   ]
  },
  {
   "cell_type": "code",
   "execution_count": 7,
   "metadata": {},
   "outputs": [
    {
     "name": "stdout",
     "output_type": "stream",
     "text": [
      "             A   B   C\n",
      "2020-06-01 NaN NaN NaN\n",
      "2020-06-02 NaN NaN NaN\n",
      "2020-06-03 NaN NaN NaN\n"
     ]
    }
   ],
   "source": [
    "print(df.reindex(index=['2020-06-01', '2020-06-02', '2020-06-03']))"
   ]
  },
  {
   "cell_type": "code",
   "execution_count": 8,
   "metadata": {},
   "outputs": [
    {
     "name": "stdout",
     "output_type": "stream",
     "text": [
      "            A    C\n",
      "2020-06-01  1  100\n",
      "2020-06-02  1  100\n",
      "2020-06-03  1  100\n",
      "2020-06-04  1  100\n",
      "2020-06-05  1  100\n"
     ]
    }
   ],
   "source": [
    "df2 = pd.DataFrame({'A': [1, 1, 1, 1, 1], 'C': [100, 100, 100, 100, 100]},\n",
    "                   index=pd.date_range('2020-06-01', '2020-06-05', freq='D'))\n",
    "print(df2)"
   ]
  },
  {
   "cell_type": "code",
   "execution_count": 9,
   "metadata": {},
   "outputs": [
    {
     "name": "stdout",
     "output_type": "stream",
     "text": [
      "              A      C\n",
      "2020-06-01  1.0  100.0\n",
      "2020-06-02  NaN    NaN\n",
      "2020-06-03  3.0  300.0\n",
      "2020-06-04  NaN    NaN\n",
      "2020-06-05  5.0  500.0\n"
     ]
    }
   ],
   "source": [
    "print(df.reindex_like(df2))"
   ]
  },
  {
   "cell_type": "code",
   "execution_count": 10,
   "metadata": {},
   "outputs": [
    {
     "name": "stdout",
     "output_type": "stream",
     "text": [
      "              A      C\n",
      "2020-06-01  1.0  100.0\n",
      "2020-06-02  2.0  200.0\n",
      "2020-06-03  3.0  300.0\n",
      "2020-06-04  4.0  400.0\n",
      "2020-06-05  5.0  500.0\n"
     ]
    }
   ],
   "source": [
    "print(df.reindex_like(df2).interpolate(method='time'))"
   ]
  }
 ],
 "metadata": {
  "kernelspec": {
   "display_name": "Python 3",
   "language": "python",
   "name": "python3"
  },
  "language_info": {
   "codemirror_mode": {
    "name": "ipython",
    "version": 3
   },
   "file_extension": ".py",
   "mimetype": "text/x-python",
   "name": "python",
   "nbconvert_exporter": "python",
   "pygments_lexer": "ipython3",
   "version": "3.7.7"
  }
 },
 "nbformat": 4,
 "nbformat_minor": 2
}
