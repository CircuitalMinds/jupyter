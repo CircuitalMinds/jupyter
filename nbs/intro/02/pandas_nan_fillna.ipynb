{
 "cells": [
  {
   "cell_type": "code",
   "execution_count": 1,
   "metadata": {},
   "outputs": [],
   "source": [
    "import pandas as pd"
   ]
  },
  {
   "cell_type": "code",
   "execution_count": 2,
   "metadata": {},
   "outputs": [
    {
     "name": "stdout",
     "output_type": "stream",
     "text": [
      "      name   age state  point  other\n",
      "0    Alice  24.0    NY    NaN    NaN\n",
      "1      NaN   NaN   NaN    NaN    NaN\n",
      "2  Charlie   NaN    CA    NaN    NaN\n",
      "3     Dave  68.0    TX   70.0    NaN\n",
      "4    Ellen   NaN    CA   88.0    NaN\n",
      "5    Frank  30.0   NaN    NaN    NaN\n"
     ]
    }
   ],
   "source": [
    "df = pd.read_csv('data/src/sample_pandas_normal_nan.csv')\n",
    "print(df)"
   ]
  },
  {
   "cell_type": "code",
   "execution_count": 3,
   "metadata": {},
   "outputs": [
    {
     "name": "stdout",
     "output_type": "stream",
     "text": [
      "      name   age state  point  other\n",
      "0    Alice  24.0    NY    0.0    0.0\n",
      "1        0   0.0     0    0.0    0.0\n",
      "2  Charlie   0.0    CA    0.0    0.0\n",
      "3     Dave  68.0    TX   70.0    0.0\n",
      "4    Ellen   0.0    CA   88.0    0.0\n",
      "5    Frank  30.0     0    0.0    0.0\n"
     ]
    }
   ],
   "source": [
    "print(df.fillna(0))"
   ]
  },
  {
   "cell_type": "code",
   "execution_count": 4,
   "metadata": {},
   "outputs": [
    {
     "name": "stdout",
     "output_type": "stream",
     "text": [
      "      name   age state  point  other\n",
      "0    Alice  24.0    NY    NaN    NaN\n",
      "1      XXX  20.0   NaN    NaN    NaN\n",
      "2  Charlie  20.0    CA    NaN    NaN\n",
      "3     Dave  68.0    TX   70.0    NaN\n",
      "4    Ellen  20.0    CA   88.0    NaN\n",
      "5    Frank  30.0   NaN    NaN    NaN\n"
     ]
    }
   ],
   "source": [
    "print(df.fillna({'name': 'XXX', 'age': 20, 'ZZZ': 100}))"
   ]
  },
  {
   "cell_type": "code",
   "execution_count": 5,
   "metadata": {},
   "outputs": [
    {
     "name": "stdout",
     "output_type": "stream",
     "text": [
      "name    XXX\n",
      "age      20\n",
      "ZZZ     100\n",
      "dtype: object\n"
     ]
    }
   ],
   "source": [
    "s_for_fill = pd.Series(['XXX', 20, 100], index=['name', 'age', 'ZZZ'])\n",
    "print(s_for_fill)"
   ]
  },
  {
   "cell_type": "code",
   "execution_count": 6,
   "metadata": {},
   "outputs": [
    {
     "name": "stdout",
     "output_type": "stream",
     "text": [
      "      name   age state  point  other\n",
      "0    Alice  24.0    NY    NaN    NaN\n",
      "1      XXX  20.0   NaN    NaN    NaN\n",
      "2  Charlie  20.0    CA    NaN    NaN\n",
      "3     Dave  68.0    TX   70.0    NaN\n",
      "4    Ellen  20.0    CA   88.0    NaN\n",
      "5    Frank  30.0   NaN    NaN    NaN\n"
     ]
    }
   ],
   "source": [
    "print(df.fillna(s_for_fill))"
   ]
  },
  {
   "cell_type": "code",
   "execution_count": 7,
   "metadata": {},
   "outputs": [
    {
     "name": "stdout",
     "output_type": "stream",
     "text": [
      "age      40.666667\n",
      "point    79.000000\n",
      "other          NaN\n",
      "dtype: float64\n"
     ]
    }
   ],
   "source": [
    "print(df.mean())"
   ]
  },
  {
   "cell_type": "code",
   "execution_count": 8,
   "metadata": {},
   "outputs": [
    {
     "name": "stdout",
     "output_type": "stream",
     "text": [
      "      name        age state  point  other\n",
      "0    Alice  24.000000    NY   79.0    NaN\n",
      "1      NaN  40.666667   NaN   79.0    NaN\n",
      "2  Charlie  40.666667    CA   79.0    NaN\n",
      "3     Dave  68.000000    TX   70.0    NaN\n",
      "4    Ellen  40.666667    CA   88.0    NaN\n",
      "5    Frank  30.000000   NaN   79.0    NaN\n"
     ]
    }
   ],
   "source": [
    "print(df.fillna(df.mean()))"
   ]
  },
  {
   "cell_type": "code",
   "execution_count": 9,
   "metadata": {},
   "outputs": [
    {
     "name": "stdout",
     "output_type": "stream",
     "text": [
      "      name   age state  point  other\n",
      "0    Alice  24.0    NY   79.0    NaN\n",
      "1      NaN  30.0   NaN   79.0    NaN\n",
      "2  Charlie  30.0    CA   79.0    NaN\n",
      "3     Dave  68.0    TX   70.0    NaN\n",
      "4    Ellen  30.0    CA   88.0    NaN\n",
      "5    Frank  30.0   NaN   79.0    NaN\n"
     ]
    }
   ],
   "source": [
    "print(df.fillna(df.median()))"
   ]
  },
  {
   "cell_type": "code",
   "execution_count": 10,
   "metadata": {},
   "outputs": [
    {
     "name": "stdout",
     "output_type": "stream",
     "text": [
      "      name   age state  point  other\n",
      "0    Alice  24.0    NY   70.0    NaN\n",
      "1    Alice  24.0    CA   70.0    NaN\n",
      "2  Charlie  24.0    CA   70.0    NaN\n",
      "3     Dave  68.0    TX   70.0    NaN\n",
      "4    Ellen  24.0    CA   88.0    NaN\n",
      "5    Frank  30.0    CA   70.0    NaN\n"
     ]
    }
   ],
   "source": [
    "print(df.fillna(df.mode().iloc[0]))"
   ]
  },
  {
   "cell_type": "code",
   "execution_count": 11,
   "metadata": {},
   "outputs": [
    {
     "name": "stdout",
     "output_type": "stream",
     "text": [
      "      name   age state  point  other\n",
      "0    Alice  24.0    NY    NaN    NaN\n",
      "1    Alice  24.0    NY    NaN    NaN\n",
      "2  Charlie  24.0    CA    NaN    NaN\n",
      "3     Dave  68.0    TX   70.0    NaN\n",
      "4    Ellen  68.0    CA   88.0    NaN\n",
      "5    Frank  30.0    CA   88.0    NaN\n"
     ]
    }
   ],
   "source": [
    "print(df.fillna(method='ffill'))"
   ]
  },
  {
   "cell_type": "code",
   "execution_count": 12,
   "metadata": {},
   "outputs": [
    {
     "name": "stdout",
     "output_type": "stream",
     "text": [
      "      name   age state  point  other\n",
      "0    Alice  24.0    NY   70.0    NaN\n",
      "1  Charlie  68.0    CA   70.0    NaN\n",
      "2  Charlie  68.0    CA   70.0    NaN\n",
      "3     Dave  68.0    TX   70.0    NaN\n",
      "4    Ellen  30.0    CA   88.0    NaN\n",
      "5    Frank  30.0   NaN    NaN    NaN\n"
     ]
    }
   ],
   "source": [
    "print(df.fillna(method='bfill'))"
   ]
  },
  {
   "cell_type": "code",
   "execution_count": 13,
   "metadata": {},
   "outputs": [
    {
     "name": "stdout",
     "output_type": "stream",
     "text": [
      "      name   age state  point  other\n",
      "0    Alice  24.0    NY    NaN    NaN\n",
      "1    Alice  24.0    NY    NaN    NaN\n",
      "2  Charlie   NaN    CA    NaN    NaN\n",
      "3     Dave  68.0    TX   70.0    NaN\n",
      "4    Ellen  68.0    CA   88.0    NaN\n",
      "5    Frank  30.0    CA   88.0    NaN\n"
     ]
    }
   ],
   "source": [
    "print(df.fillna(method='ffill', limit=1))"
   ]
  },
  {
   "cell_type": "code",
   "execution_count": 14,
   "metadata": {},
   "outputs": [
    {
     "name": "stdout",
     "output_type": "stream",
     "text": [
      "      name   age state  point  other\n",
      "0    Alice  24.0    NY    NaN    NaN\n",
      "1  Charlie   NaN    CA    NaN    NaN\n",
      "2  Charlie  68.0    CA   70.0    NaN\n",
      "3     Dave  68.0    TX   70.0    NaN\n",
      "4    Ellen  30.0    CA   88.0    NaN\n",
      "5    Frank  30.0   NaN    NaN    NaN\n"
     ]
    }
   ],
   "source": [
    "print(df.fillna(method='bfill', limit=1))"
   ]
  },
  {
   "cell_type": "code",
   "execution_count": 15,
   "metadata": {},
   "outputs": [
    {
     "name": "stdout",
     "output_type": "stream",
     "text": [
      "      name      age state point other\n",
      "0    Alice     24.0    NY    NY    NY\n",
      "1      NaN      NaN   NaN   NaN   NaN\n",
      "2  Charlie  Charlie    CA    CA    CA\n",
      "3     Dave     68.0    TX  70.0  70.0\n",
      "4    Ellen    Ellen    CA  88.0  88.0\n",
      "5    Frank     30.0  30.0  30.0  30.0\n"
     ]
    }
   ],
   "source": [
    "print(df.fillna(method='ffill', axis=1))"
   ]
  },
  {
   "cell_type": "code",
   "execution_count": 16,
   "metadata": {},
   "outputs": [
    {
     "name": "stdout",
     "output_type": "stream",
     "text": [
      "      name   age state point other\n",
      "0    Alice  24.0    NY   NaN   NaN\n",
      "1      NaN   NaN   NaN   NaN   NaN\n",
      "2  Charlie    CA    CA   NaN   NaN\n",
      "3     Dave  68.0    TX  70.0   NaN\n",
      "4    Ellen    CA    CA  88.0   NaN\n",
      "5    Frank  30.0   NaN   NaN   NaN\n"
     ]
    }
   ],
   "source": [
    "print(df.fillna(method='bfill', axis=1))"
   ]
  },
  {
   "cell_type": "code",
   "execution_count": 17,
   "metadata": {},
   "outputs": [
    {
     "name": "stdout",
     "output_type": "stream",
     "text": [
      "      name   age state  point  other\n",
      "0    Alice  24.0    NY    NaN    NaN\n",
      "1    Alice  24.0    NY    NaN    NaN\n",
      "2  Charlie  24.0    CA    NaN    NaN\n",
      "3     Dave  68.0    TX   70.0    NaN\n",
      "4    Ellen  68.0    CA   88.0    NaN\n",
      "5    Frank  30.0    CA   88.0    NaN\n"
     ]
    }
   ],
   "source": [
    "print(df.ffill())"
   ]
  },
  {
   "cell_type": "code",
   "execution_count": 18,
   "metadata": {},
   "outputs": [
    {
     "name": "stdout",
     "output_type": "stream",
     "text": [
      "      name   age state  point  other\n",
      "0    Alice  24.0    NY    NaN    NaN\n",
      "1  Charlie   NaN    CA    NaN    NaN\n",
      "2  Charlie  68.0    CA   70.0    NaN\n",
      "3     Dave  68.0    TX   70.0    NaN\n",
      "4    Ellen  30.0    CA   88.0    NaN\n",
      "5    Frank  30.0   NaN    NaN    NaN\n"
     ]
    }
   ],
   "source": [
    "print(df.bfill(limit=1))"
   ]
  },
  {
   "cell_type": "code",
   "execution_count": 19,
   "metadata": {},
   "outputs": [
    {
     "name": "stdout",
     "output_type": "stream",
     "text": [
      "      name   age state  point  other\n",
      "0    Alice  24.0    NY    0.0    0.0\n",
      "1        0   0.0     0    0.0    0.0\n",
      "2  Charlie   0.0    CA    0.0    0.0\n",
      "3     Dave  68.0    TX   70.0    0.0\n",
      "4    Ellen   0.0    CA   88.0    0.0\n",
      "5    Frank  30.0     0    0.0    0.0\n"
     ]
    }
   ],
   "source": [
    "df.fillna(0, inplace=True)\n",
    "print(df)"
   ]
  },
  {
   "cell_type": "code",
   "execution_count": 20,
   "metadata": {},
   "outputs": [
    {
     "name": "stdout",
     "output_type": "stream",
     "text": [
      "0    24.0\n",
      "1     NaN\n",
      "2     NaN\n",
      "3    68.0\n",
      "4     NaN\n",
      "5    30.0\n",
      "Name: age, dtype: float64\n"
     ]
    }
   ],
   "source": [
    "s = pd.read_csv('data/src/sample_pandas_normal_nan.csv')['age']\n",
    "print(s)"
   ]
  },
  {
   "cell_type": "code",
   "execution_count": 21,
   "metadata": {},
   "outputs": [
    {
     "name": "stdout",
     "output_type": "stream",
     "text": [
      "0     24.0\n",
      "1    100.0\n",
      "2    100.0\n",
      "3     68.0\n",
      "4    100.0\n",
      "5     30.0\n",
      "Name: age, dtype: float64\n"
     ]
    }
   ],
   "source": [
    "print(s.fillna(100))"
   ]
  },
  {
   "cell_type": "code",
   "execution_count": 22,
   "metadata": {},
   "outputs": [
    {
     "name": "stdout",
     "output_type": "stream",
     "text": [
      "0     24.0\n",
      "1    100.0\n",
      "2      NaN\n",
      "3     68.0\n",
      "4   -100.0\n",
      "5     30.0\n",
      "Name: age, dtype: float64\n"
     ]
    }
   ],
   "source": [
    "print(s.fillna({1: 100, 4: -100}))"
   ]
  },
  {
   "cell_type": "code",
   "execution_count": 23,
   "metadata": {},
   "outputs": [
    {
     "name": "stdout",
     "output_type": "stream",
     "text": [
      "0    24.0\n",
      "1     NaN\n",
      "2    68.0\n",
      "3    68.0\n",
      "4    30.0\n",
      "5    30.0\n",
      "Name: age, dtype: float64\n"
     ]
    }
   ],
   "source": [
    "print(s.fillna(method='bfill', limit=1))"
   ]
  },
  {
   "cell_type": "code",
   "execution_count": 24,
   "metadata": {},
   "outputs": [
    {
     "name": "stdout",
     "output_type": "stream",
     "text": [
      "0    24.0\n",
      "1     NaN\n",
      "2    68.0\n",
      "3    68.0\n",
      "4    30.0\n",
      "5    30.0\n",
      "Name: age, dtype: float64\n"
     ]
    }
   ],
   "source": [
    "print(s.bfill(limit=1))"
   ]
  }
 ],
 "metadata": {
  "kernelspec": {
   "display_name": "Python 3",
   "language": "python",
   "name": "python3"
  },
  "language_info": {
   "codemirror_mode": {
    "name": "ipython",
    "version": 3
   },
   "file_extension": ".py",
   "mimetype": "text/x-python",
   "name": "python",
   "nbconvert_exporter": "python",
   "pygments_lexer": "ipython3",
   "version": "3.9.9"
  }
 },
 "nbformat": 4,
 "nbformat_minor": 4
}
