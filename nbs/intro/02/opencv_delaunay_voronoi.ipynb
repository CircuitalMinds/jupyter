{
 "cells": [
  {
   "cell_type": "code",
   "execution_count": 1,
   "metadata": {},
   "outputs": [],
   "source": [
    "import cv2\n",
    "import numpy as np\n",
    "\n",
    "import pprint"
   ]
  },
  {
   "cell_type": "code",
   "execution_count": 2,
   "metadata": {},
   "outputs": [],
   "source": [
    "w = h = 360"
   ]
  },
  {
   "cell_type": "code",
   "execution_count": 3,
   "metadata": {},
   "outputs": [],
   "source": [
    "n = 6\n",
    "np.random.seed(0)\n",
    "pts = np.random.randint(0, w, (n, 2))"
   ]
  },
  {
   "cell_type": "code",
   "execution_count": 4,
   "metadata": {},
   "outputs": [
    {
     "name": "stdout",
     "output_type": "stream",
     "text": [
      "[[172  47]\n",
      " [117 192]\n",
      " [323 251]\n",
      " [195 359]\n",
      " [  9 211]\n",
      " [277 242]]\n"
     ]
    }
   ],
   "source": [
    "print(pts)"
   ]
  },
  {
   "cell_type": "code",
   "execution_count": 5,
   "metadata": {},
   "outputs": [
    {
     "name": "stdout",
     "output_type": "stream",
     "text": [
      "<class 'numpy.ndarray'>\n"
     ]
    }
   ],
   "source": [
    "print(type(pts))"
   ]
  },
  {
   "cell_type": "code",
   "execution_count": 6,
   "metadata": {},
   "outputs": [
    {
     "name": "stdout",
     "output_type": "stream",
     "text": [
      "(6, 2)\n"
     ]
    }
   ],
   "source": [
    "print(pts.shape)"
   ]
  },
  {
   "cell_type": "code",
   "execution_count": 7,
   "metadata": {},
   "outputs": [],
   "source": [
    "img = np.zeros((w, h, 3), np.uint8)"
   ]
  },
  {
   "cell_type": "code",
   "execution_count": 8,
   "metadata": {},
   "outputs": [],
   "source": [
    "for p in pts:\n",
    "    cv2.drawMarker(img, tuple(p), (255, 255, 255), thickness=2)"
   ]
  },
  {
   "cell_type": "code",
   "execution_count": 9,
   "metadata": {},
   "outputs": [
    {
     "data": {
      "text/plain": [
       "True"
      ]
     },
     "execution_count": 9,
     "metadata": {},
     "output_type": "execute_result"
    }
   ],
   "source": [
    "cv2.imwrite('data/dst/opencv_random_pts.png', img)"
   ]
  },
  {
   "cell_type": "markdown",
   "metadata": {},
   "source": [
    "![data/dst/opencv_random_pts.png](data/dst/opencv_random_pts.png)"
   ]
  },
  {
   "cell_type": "code",
   "execution_count": 10,
   "metadata": {},
   "outputs": [],
   "source": [
    "rect = (0, 0, w, h)"
   ]
  },
  {
   "cell_type": "code",
   "execution_count": 11,
   "metadata": {},
   "outputs": [],
   "source": [
    "subdiv = cv2.Subdiv2D(rect)"
   ]
  },
  {
   "cell_type": "code",
   "execution_count": 12,
   "metadata": {},
   "outputs": [],
   "source": [
    "for p in pts:\n",
    "    subdiv.insert((p[0], p[1]))"
   ]
  },
  {
   "cell_type": "code",
   "execution_count": 13,
   "metadata": {},
   "outputs": [],
   "source": [
    "triangles = subdiv.getTriangleList()"
   ]
  },
  {
   "cell_type": "code",
   "execution_count": 14,
   "metadata": {},
   "outputs": [
    {
     "name": "stdout",
     "output_type": "stream",
     "text": [
      "[[ 1080.     0.     0.  1080.   323.   251.]\n",
      " [    0.  1080.  1080.     0. -1080. -1080.]\n",
      " [    0.  1080. -1080. -1080.     9.   211.]\n",
      " [-1080. -1080.  1080.     0.   172.    47.]\n",
      " [  172.    47.  1080.     0.   323.   251.]\n",
      " [  172.    47.   323.   251.   277.   242.]\n",
      " [-1080. -1080.   172.    47.     9.   211.]\n",
      " [  172.    47.   117.   192.     9.   211.]\n",
      " [  117.   192.   172.    47.   277.   242.]\n",
      " [    9.   211.   195.   359.     0.  1080.]\n",
      " [  195.   359.     9.   211.   117.   192.]\n",
      " [  323.   251.     0.  1080.   195.   359.]\n",
      " [  195.   359.   117.   192.   277.   242.]\n",
      " [  323.   251.   195.   359.   277.   242.]]\n"
     ]
    }
   ],
   "source": [
    "print(triangles)"
   ]
  },
  {
   "cell_type": "code",
   "execution_count": 15,
   "metadata": {},
   "outputs": [],
   "source": [
    "pols = triangles.reshape(-1, 3, 2)"
   ]
  },
  {
   "cell_type": "code",
   "execution_count": 16,
   "metadata": {},
   "outputs": [
    {
     "name": "stdout",
     "output_type": "stream",
     "text": [
      "[[[ 1080.     0.]\n",
      "  [    0.  1080.]\n",
      "  [  323.   251.]]\n",
      "\n",
      " [[    0.  1080.]\n",
      "  [ 1080.     0.]\n",
      "  [-1080. -1080.]]\n",
      "\n",
      " [[    0.  1080.]\n",
      "  [-1080. -1080.]\n",
      "  [    9.   211.]]\n",
      "\n",
      " [[-1080. -1080.]\n",
      "  [ 1080.     0.]\n",
      "  [  172.    47.]]\n",
      "\n",
      " [[  172.    47.]\n",
      "  [ 1080.     0.]\n",
      "  [  323.   251.]]\n",
      "\n",
      " [[  172.    47.]\n",
      "  [  323.   251.]\n",
      "  [  277.   242.]]\n",
      "\n",
      " [[-1080. -1080.]\n",
      "  [  172.    47.]\n",
      "  [    9.   211.]]\n",
      "\n",
      " [[  172.    47.]\n",
      "  [  117.   192.]\n",
      "  [    9.   211.]]\n",
      "\n",
      " [[  117.   192.]\n",
      "  [  172.    47.]\n",
      "  [  277.   242.]]\n",
      "\n",
      " [[    9.   211.]\n",
      "  [  195.   359.]\n",
      "  [    0.  1080.]]\n",
      "\n",
      " [[  195.   359.]\n",
      "  [    9.   211.]\n",
      "  [  117.   192.]]\n",
      "\n",
      " [[  323.   251.]\n",
      "  [    0.  1080.]\n",
      "  [  195.   359.]]\n",
      "\n",
      " [[  195.   359.]\n",
      "  [  117.   192.]\n",
      "  [  277.   242.]]\n",
      "\n",
      " [[  323.   251.]\n",
      "  [  195.   359.]\n",
      "  [  277.   242.]]]\n"
     ]
    }
   ],
   "source": [
    "print(pols)"
   ]
  },
  {
   "cell_type": "code",
   "execution_count": 17,
   "metadata": {},
   "outputs": [
    {
     "data": {
      "text/plain": [
       "True"
      ]
     },
     "execution_count": 17,
     "metadata": {},
     "output_type": "execute_result"
    }
   ],
   "source": [
    "img_draw = img.copy()\n",
    "\n",
    "cv2.polylines(img_draw, pols.astype(int), True, (0, 0, 255), thickness=2)\n",
    "\n",
    "cv2.imwrite('data/dst/opencv_delaunay.png', img_draw)"
   ]
  },
  {
   "cell_type": "markdown",
   "metadata": {},
   "source": [
    "![data/dst/opencv_delaunay.png](data/dst/opencv_delaunay.png)"
   ]
  },
  {
   "cell_type": "code",
   "execution_count": 18,
   "metadata": {},
   "outputs": [
    {
     "name": "stdout",
     "output_type": "stream",
     "text": [
      "[False False  True False False  True  True  True  True  True  True  True\n",
      "  True  True]\n"
     ]
    }
   ],
   "source": [
    "print(np.all(pols[:, :, 0] < w, axis=1))"
   ]
  },
  {
   "cell_type": "code",
   "execution_count": 19,
   "metadata": {},
   "outputs": [],
   "source": [
    "pols_inner = pols[np.all(pols[:, :, 0] < w, axis=1) &\n",
    "                  np.all(pols[:, :, 0] > 0, axis=1) &\n",
    "                  np.all(pols[:, :, 1] < h, axis=1) &\n",
    "                  np.all(pols[:, :, 1] > 0, axis=1)]"
   ]
  },
  {
   "cell_type": "code",
   "execution_count": 20,
   "metadata": {},
   "outputs": [
    {
     "name": "stdout",
     "output_type": "stream",
     "text": [
      "[[[172.  47.]\n",
      "  [323. 251.]\n",
      "  [277. 242.]]\n",
      "\n",
      " [[172.  47.]\n",
      "  [117. 192.]\n",
      "  [  9. 211.]]\n",
      "\n",
      " [[117. 192.]\n",
      "  [172.  47.]\n",
      "  [277. 242.]]\n",
      "\n",
      " [[195. 359.]\n",
      "  [  9. 211.]\n",
      "  [117. 192.]]\n",
      "\n",
      " [[195. 359.]\n",
      "  [117. 192.]\n",
      "  [277. 242.]]\n",
      "\n",
      " [[323. 251.]\n",
      "  [195. 359.]\n",
      "  [277. 242.]]]\n"
     ]
    }
   ],
   "source": [
    "print(pols_inner)"
   ]
  },
  {
   "cell_type": "code",
   "execution_count": 21,
   "metadata": {},
   "outputs": [
    {
     "data": {
      "text/plain": [
       "True"
      ]
     },
     "execution_count": 21,
     "metadata": {},
     "output_type": "execute_result"
    }
   ],
   "source": [
    "img_draw = img.copy()\n",
    "\n",
    "cv2.polylines(img_draw, pols_inner.astype(int), True, (0, 0, 255), thickness=2)\n",
    "\n",
    "cv2.imwrite('data/dst/opencv_delaunay_inner.png', img_draw)"
   ]
  },
  {
   "cell_type": "markdown",
   "metadata": {},
   "source": [
    "![data/dst/opencv_delaunay_inner.png](data/dst/opencv_delaunay_inner.png)"
   ]
  },
  {
   "cell_type": "code",
   "execution_count": 22,
   "metadata": {},
   "outputs": [],
   "source": [
    "facets, centers = subdiv.getVoronoiFacetList([])"
   ]
  },
  {
   "cell_type": "code",
   "execution_count": 23,
   "metadata": {},
   "outputs": [
    {
     "name": "stdout",
     "output_type": "stream",
     "text": [
      "[array([[  331.1972 ,    87.04766],\n",
      "       [  218.6763 ,   147.63583],\n",
      "       [   41.71519,    80.51266],\n",
      "       [ -503.5626 ,  -461.44025],\n",
      "       [  540.8418 , -1621.6836 ],\n",
      "       [  618.2897 ,  -125.45706]], dtype=float32),\n",
      " array([[218.6763 , 147.63583],\n",
      "       [182.60144, 263.07538],\n",
      "       [ 82.09151, 310.02014],\n",
      "       [ 41.71519,  80.51266]], dtype=float32),\n",
      " array([[ 282.99118,  333.434  ],\n",
      "       [ 331.1972 ,   87.04766],\n",
      "       [ 618.2897 , -125.45706],\n",
      "       [ 987.2233 ,  987.2233 ],\n",
      "       [ 759.8912 ,  898.6488 ]], dtype=float32),\n",
      " array([[ 182.60144,  263.07538],\n",
      "       [ 282.99118,  333.434  ],\n",
      "       [ 759.8912 ,  898.6488 ],\n",
      "       [-183.30182,  643.555  ],\n",
      "       [  82.09151,  310.02014]], dtype=float32),\n",
      " array([[   82.09151,   310.02014],\n",
      "       [ -183.30182,   643.555  ],\n",
      "       [-1793.752  ,   626.876  ],\n",
      "       [ -503.5626 ,  -461.44025],\n",
      "       [   41.71519,    80.51266]], dtype=float32),\n",
      " array([[218.6763 , 147.63583],\n",
      "       [331.1972 ,  87.04766],\n",
      "       [282.99118, 333.434  ],\n",
      "       [182.60144, 263.07538]], dtype=float32)]\n"
     ]
    }
   ],
   "source": [
    "pprint.pprint(facets)"
   ]
  },
  {
   "cell_type": "code",
   "execution_count": 24,
   "metadata": {},
   "outputs": [
    {
     "name": "stdout",
     "output_type": "stream",
     "text": [
      "[[172.  47.]\n",
      " [117. 192.]\n",
      " [323. 251.]\n",
      " [195. 359.]\n",
      " [  9. 211.]\n",
      " [277. 242.]]\n"
     ]
    }
   ],
   "source": [
    "print(centers)"
   ]
  },
  {
   "cell_type": "code",
   "execution_count": 25,
   "metadata": {},
   "outputs": [
    {
     "data": {
      "text/plain": [
       "True"
      ]
     },
     "execution_count": 25,
     "metadata": {},
     "output_type": "execute_result"
    }
   ],
   "source": [
    "img_draw = img.copy()\n",
    "\n",
    "cv2.polylines(img_draw, [f.astype(int) for f in facets], True, (255, 255, 255), thickness=2)\n",
    "\n",
    "cv2.imwrite('data/dst/opencv_voronoi.png', img_draw)"
   ]
  },
  {
   "cell_type": "markdown",
   "metadata": {},
   "source": [
    "![data/dst/opencv_voronoi.png](data/dst/opencv_voronoi.png)"
   ]
  },
  {
   "cell_type": "code",
   "execution_count": 26,
   "metadata": {},
   "outputs": [
    {
     "data": {
      "text/plain": [
       "True"
      ]
     },
     "execution_count": 26,
     "metadata": {},
     "output_type": "execute_result"
    }
   ],
   "source": [
    "img_draw = img.copy()\n",
    "\n",
    "step = int(255 / len(facets))\n",
    "\n",
    "for i, p in enumerate(f.astype(int) for f in facets):\n",
    "    cv2.fillPoly(img_draw, [p], (step * i, step * i, step * i))\n",
    "\n",
    "cv2.imwrite('data/dst/opencv_voronoi_fill.png', img_draw)"
   ]
  },
  {
   "cell_type": "markdown",
   "metadata": {},
   "source": [
    "![data/dst/opencv_voronoi_fill.png](data/dst/opencv_voronoi_fill.png)"
   ]
  },
  {
   "cell_type": "code",
   "execution_count": 27,
   "metadata": {},
   "outputs": [
    {
     "data": {
      "text/plain": [
       "True"
      ]
     },
     "execution_count": 27,
     "metadata": {},
     "output_type": "execute_result"
    }
   ],
   "source": [
    "img_draw = img.copy()\n",
    "\n",
    "step = int(255 / len(facets))\n",
    "\n",
    "for i, p in enumerate(f.astype(int) for f in facets):\n",
    "    cv2.fillPoly(img_draw, [p], (step * i, step * i, step * i))\n",
    "\n",
    "cv2.polylines(img_draw, pols_inner.astype(int), True, (0, 0, 255), thickness=2)\n",
    "\n",
    "for c in centers:\n",
    "    cv2.drawMarker(img_draw, tuple(c), (255, 255, 255), thickness=2)\n",
    "\n",
    "cv2.imwrite('data/dst/opencv_delaunay_voronoi.png', img_draw)"
   ]
  },
  {
   "cell_type": "markdown",
   "metadata": {},
   "source": [
    "![data/dst/opencv_delaunay_voronoi.png](data/dst/opencv_delaunay_voronoi.png)"
   ]
  }
 ],
 "metadata": {
  "kernelspec": {
   "display_name": "Python 3",
   "language": "python",
   "name": "python3"
  },
  "language_info": {
   "codemirror_mode": {
    "name": "ipython",
    "version": 3
   },
   "file_extension": ".py",
   "mimetype": "text/x-python",
   "name": "python",
   "nbconvert_exporter": "python",
   "pygments_lexer": "ipython3",
   "version": "3.7.1"
  }
 },
 "nbformat": 4,
 "nbformat_minor": 2
}
