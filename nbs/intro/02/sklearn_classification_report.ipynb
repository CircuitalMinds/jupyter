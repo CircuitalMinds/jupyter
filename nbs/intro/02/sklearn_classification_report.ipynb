{
 "cells": [
  {
   "cell_type": "code",
   "execution_count": 1,
   "metadata": {},
   "outputs": [],
   "source": [
    "from sklearn.metrics import classification_report\n",
    "import pandas as pd\n",
    "import pprint"
   ]
  },
  {
   "cell_type": "code",
   "execution_count": 2,
   "metadata": {},
   "outputs": [],
   "source": [
    "y_true = [0, 0, 0, 0, 0, 1, 1, 1, 1, 1]\n",
    "y_pred = [0, 1, 1, 1, 1, 0, 0, 0, 1, 1]"
   ]
  },
  {
   "cell_type": "code",
   "execution_count": 3,
   "metadata": {},
   "outputs": [
    {
     "name": "stdout",
     "output_type": "stream",
     "text": [
      "              precision    recall  f1-score   support\n",
      "\n",
      "           0       0.25      0.20      0.22         5\n",
      "           1       0.33      0.40      0.36         5\n",
      "\n",
      "   micro avg       0.30      0.30      0.30        10\n",
      "   macro avg       0.29      0.30      0.29        10\n",
      "weighted avg       0.29      0.30      0.29        10\n",
      "\n"
     ]
    }
   ],
   "source": [
    "print(classification_report(y_true, y_pred))"
   ]
  },
  {
   "cell_type": "code",
   "execution_count": 4,
   "metadata": {},
   "outputs": [
    {
     "name": "stdout",
     "output_type": "stream",
     "text": [
      "<class 'str'>\n"
     ]
    }
   ],
   "source": [
    "print(type(classification_report(y_true, y_pred)))"
   ]
  },
  {
   "cell_type": "code",
   "execution_count": 5,
   "metadata": {},
   "outputs": [
    {
     "name": "stdout",
     "output_type": "stream",
     "text": [
      "              precision    recall  f1-score   support\n",
      "\n",
      "     class_0       0.25      0.20      0.22         5\n",
      "     class_1       0.33      0.40      0.36         5\n",
      "\n",
      "   micro avg       0.30      0.30      0.30        10\n",
      "   macro avg       0.29      0.30      0.29        10\n",
      "weighted avg       0.29      0.30      0.29        10\n",
      "\n"
     ]
    }
   ],
   "source": [
    "print(classification_report(y_true, y_pred,\n",
    "                            target_names=['class_0', 'class_1']))"
   ]
  },
  {
   "cell_type": "code",
   "execution_count": 6,
   "metadata": {},
   "outputs": [],
   "source": [
    "d = classification_report(y_true, y_pred, output_dict=True)"
   ]
  },
  {
   "cell_type": "code",
   "execution_count": 7,
   "metadata": {},
   "outputs": [
    {
     "name": "stdout",
     "output_type": "stream",
     "text": [
      "{'0': {'f1-score': 0.22222222222222224,\n",
      "       'precision': 0.25,\n",
      "       'recall': 0.2,\n",
      "       'support': 5},\n",
      " '1': {'f1-score': 0.3636363636363636,\n",
      "       'precision': 0.3333333333333333,\n",
      "       'recall': 0.4,\n",
      "       'support': 5},\n",
      " 'macro avg': {'f1-score': 0.29292929292929293,\n",
      "               'precision': 0.29166666666666663,\n",
      "               'recall': 0.30000000000000004,\n",
      "               'support': 10},\n",
      " 'micro avg': {'f1-score': 0.3, 'precision': 0.3, 'recall': 0.3, 'support': 10},\n",
      " 'weighted avg': {'f1-score': 0.29292929292929293,\n",
      "                  'precision': 0.29166666666666663,\n",
      "                  'recall': 0.3,\n",
      "                  'support': 10}}\n"
     ]
    }
   ],
   "source": [
    "pprint.pprint(d)"
   ]
  },
  {
   "cell_type": "code",
   "execution_count": 8,
   "metadata": {},
   "outputs": [
    {
     "name": "stdout",
     "output_type": "stream",
     "text": [
      "{'precision': 0.25, 'recall': 0.2, 'f1-score': 0.22222222222222224, 'support': 5}\n"
     ]
    }
   ],
   "source": [
    "print(d['0'])"
   ]
  },
  {
   "cell_type": "code",
   "execution_count": 9,
   "metadata": {},
   "outputs": [
    {
     "name": "stdout",
     "output_type": "stream",
     "text": [
      "0.25\n"
     ]
    }
   ],
   "source": [
    "print(d['0']['precision'])"
   ]
  },
  {
   "cell_type": "code",
   "execution_count": 10,
   "metadata": {},
   "outputs": [
    {
     "name": "stdout",
     "output_type": "stream",
     "text": [
      "<class 'float'>\n"
     ]
    }
   ],
   "source": [
    "print(type(d['0']['precision']))"
   ]
  },
  {
   "cell_type": "code",
   "execution_count": 11,
   "metadata": {},
   "outputs": [],
   "source": [
    "df = pd.DataFrame(d)"
   ]
  },
  {
   "cell_type": "code",
   "execution_count": 12,
   "metadata": {},
   "outputs": [
    {
     "name": "stdout",
     "output_type": "stream",
     "text": [
      "                  0         1  micro avg  macro avg  weighted avg\n",
      "f1-score   0.222222  0.363636        0.3   0.292929      0.292929\n",
      "precision  0.250000  0.333333        0.3   0.291667      0.291667\n",
      "recall     0.200000  0.400000        0.3   0.300000      0.300000\n",
      "support    5.000000  5.000000       10.0  10.000000     10.000000\n"
     ]
    }
   ],
   "source": [
    "print(df)"
   ]
  },
  {
   "cell_type": "code",
   "execution_count": 13,
   "metadata": {},
   "outputs": [
    {
     "name": "stdout",
     "output_type": "stream",
     "text": [
      "                  0         1\n",
      "f1-score   0.222222  0.363636\n",
      "precision  0.250000  0.333333\n",
      "recall     0.200000  0.400000\n",
      "support    5.000000  5.000000\n"
     ]
    }
   ],
   "source": [
    "print(df.iloc[:, :-3])"
   ]
  },
  {
   "cell_type": "code",
   "execution_count": 14,
   "metadata": {},
   "outputs": [
    {
     "name": "stdout",
     "output_type": "stream",
     "text": [
      "           micro avg  macro avg  weighted avg\n",
      "f1-score         0.3   0.292929      0.292929\n",
      "precision        0.3   0.291667      0.291667\n",
      "recall           0.3   0.300000      0.300000\n",
      "support         10.0  10.000000     10.000000\n"
     ]
    }
   ],
   "source": [
    "print(df.iloc[:, -3:])"
   ]
  }
 ],
 "metadata": {
  "kernelspec": {
   "display_name": "Python 3",
   "language": "python",
   "name": "python3"
  },
  "language_info": {
   "codemirror_mode": {
    "name": "ipython",
    "version": 3
   },
   "file_extension": ".py",
   "mimetype": "text/x-python",
   "name": "python",
   "nbconvert_exporter": "python",
   "pygments_lexer": "ipython3",
   "version": "3.7.3"
  }
 },
 "nbformat": 4,
 "nbformat_minor": 2
}
