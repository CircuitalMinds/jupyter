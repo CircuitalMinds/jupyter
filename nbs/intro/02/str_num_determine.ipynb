{
 "cells": [
  {
   "cell_type": "code",
   "execution_count": 1,
   "metadata": {},
   "outputs": [
    {
     "name": "stdout",
     "output_type": "stream",
     "text": [
      "s = 1234567890\n",
      "isdecimal: True\n",
      "isdigit: True\n",
      "isnumeric: True\n"
     ]
    }
   ],
   "source": [
    "s = '1234567890'\n",
    "print('s =', s)\n",
    "print('isdecimal:', s.isdecimal())\n",
    "print('isdigit:', s.isdigit())\n",
    "print('isnumeric:', s.isnumeric())"
   ]
  },
  {
   "cell_type": "code",
   "execution_count": 2,
   "metadata": {},
   "outputs": [
    {
     "name": "stdout",
     "output_type": "stream",
     "text": [
      "s = １２３４５６７８９０\n",
      "isdecimal: True\n",
      "isdigit: True\n",
      "isnumeric: True\n"
     ]
    }
   ],
   "source": [
    "s = '１２３４５６７８９０'\n",
    "print('s =', s)\n",
    "print('isdecimal:', s.isdecimal())\n",
    "print('isdigit:', s.isdigit())\n",
    "print('isnumeric:', s.isnumeric())"
   ]
  },
  {
   "cell_type": "code",
   "execution_count": 3,
   "metadata": {},
   "outputs": [
    {
     "name": "stdout",
     "output_type": "stream",
     "text": [
      "s = -1.23\n",
      "isdecimal: False\n",
      "isdigit: False\n",
      "isnumeric: False\n"
     ]
    }
   ],
   "source": [
    "s = '-1.23'\n",
    "print('s =', s)\n",
    "print('isdecimal:', s.isdecimal())\n",
    "print('isdigit:', s.isdigit())\n",
    "print('isnumeric:', s.isnumeric())"
   ]
  },
  {
   "cell_type": "code",
   "execution_count": 4,
   "metadata": {},
   "outputs": [
    {
     "name": "stdout",
     "output_type": "stream",
     "text": [
      "s = 10²\n",
      "isdecimal: False\n",
      "isdigit: True\n",
      "isnumeric: True\n"
     ]
    }
   ],
   "source": [
    "s = '10\\u00B2'\n",
    "print('s =', s)\n",
    "print('isdecimal:', s.isdecimal())\n",
    "print('isdigit:', s.isdigit())\n",
    "print('isnumeric:', s.isnumeric())"
   ]
  },
  {
   "cell_type": "code",
   "execution_count": 5,
   "metadata": {},
   "outputs": [
    {
     "name": "stdout",
     "output_type": "stream",
     "text": [
      "s = ½\n",
      "isdecimal: False\n",
      "isdigit: False\n",
      "isnumeric: True\n"
     ]
    }
   ],
   "source": [
    "s = '\\u00BD'\n",
    "print('s =', s)\n",
    "print('isdecimal:', s.isdecimal())\n",
    "print('isdigit:', s.isdigit())\n",
    "print('isnumeric:', s.isnumeric())"
   ]
  },
  {
   "cell_type": "code",
   "execution_count": 6,
   "metadata": {},
   "outputs": [
    {
     "name": "stdout",
     "output_type": "stream",
     "text": [
      "s = Ⅶ\n",
      "isdecimal: False\n",
      "isdigit: False\n",
      "isnumeric: True\n"
     ]
    }
   ],
   "source": [
    "s = '\\u2166'\n",
    "print('s =', s)\n",
    "print('isdecimal:', s.isdecimal())\n",
    "print('isdigit:', s.isdigit())\n",
    "print('isnumeric:', s.isnumeric())"
   ]
  },
  {
   "cell_type": "code",
   "execution_count": 7,
   "metadata": {},
   "outputs": [
    {
     "name": "stdout",
     "output_type": "stream",
     "text": [
      "s = 一二三四五六七八九〇\n",
      "isdecimal: False\n",
      "isdigit: False\n",
      "isnumeric: True\n"
     ]
    }
   ],
   "source": [
    "s = '一二三四五六七八九〇'\n",
    "print('s =', s)\n",
    "print('isdecimal:', s.isdecimal())\n",
    "print('isdigit:', s.isdigit())\n",
    "print('isnumeric:', s.isnumeric())"
   ]
  },
  {
   "cell_type": "code",
   "execution_count": 8,
   "metadata": {},
   "outputs": [
    {
     "name": "stdout",
     "output_type": "stream",
     "text": [
      "s = 壱億参阡萬\n",
      "isdecimal: False\n",
      "isdigit: False\n",
      "isnumeric: True\n"
     ]
    }
   ],
   "source": [
    "s = '壱億参阡萬'\n",
    "print('s =', s)\n",
    "print('isdecimal:', s.isdecimal())\n",
    "print('isdigit:', s.isdigit())\n",
    "print('isnumeric:', s.isnumeric())"
   ]
  },
  {
   "cell_type": "code",
   "execution_count": 9,
   "metadata": {},
   "outputs": [
    {
     "name": "stdout",
     "output_type": "stream",
     "text": [
      "s = abc\n",
      "isalpha: True\n"
     ]
    }
   ],
   "source": [
    "s = 'abc'\n",
    "print('s =', s)\n",
    "print('isalpha:', s.isalpha())"
   ]
  },
  {
   "cell_type": "code",
   "execution_count": 10,
   "metadata": {},
   "outputs": [
    {
     "name": "stdout",
     "output_type": "stream",
     "text": [
      "s = あいうえお\n",
      "isalpha: True\n"
     ]
    }
   ],
   "source": [
    "s = 'あいうえお'\n",
    "print('s =', s)\n",
    "print('isalpha:', s.isalpha())"
   ]
  },
  {
   "cell_type": "code",
   "execution_count": 11,
   "metadata": {},
   "outputs": [
    {
     "name": "stdout",
     "output_type": "stream",
     "text": [
      "s = アイウエオ\n",
      "isalpha: True\n"
     ]
    }
   ],
   "source": [
    "s = 'アイウエオ'\n",
    "print('s =', s)\n",
    "print('isalpha:', s.isalpha())"
   ]
  },
  {
   "cell_type": "code",
   "execution_count": 12,
   "metadata": {},
   "outputs": [
    {
     "name": "stdout",
     "output_type": "stream",
     "text": [
      "s = 漢字\n",
      "isalpha: True\n"
     ]
    }
   ],
   "source": [
    "s = '漢字'\n",
    "print('s =', s)\n",
    "print('isalpha:', s.isalpha())"
   ]
  },
  {
   "cell_type": "code",
   "execution_count": 13,
   "metadata": {},
   "outputs": [
    {
     "name": "stdout",
     "output_type": "stream",
     "text": [
      "s = 1234567890\n",
      "isalpha: False\n"
     ]
    }
   ],
   "source": [
    "s = '1234567890'\n",
    "print('s =', s)\n",
    "print('isalpha:', s.isalpha())"
   ]
  },
  {
   "cell_type": "code",
   "execution_count": 14,
   "metadata": {},
   "outputs": [
    {
     "name": "stdout",
     "output_type": "stream",
     "text": [
      "s = １２３４５６７８９０\n",
      "isalpha: False\n"
     ]
    }
   ],
   "source": [
    "s = '１２３４５６７８９０'\n",
    "print('s =', s)\n",
    "print('isalpha:', s.isalpha())"
   ]
  },
  {
   "cell_type": "code",
   "execution_count": 15,
   "metadata": {},
   "outputs": [
    {
     "name": "stdout",
     "output_type": "stream",
     "text": [
      "s = 一二三四五六七八九\n",
      "isalpha: True\n"
     ]
    }
   ],
   "source": [
    "s = '一二三四五六七八九'\n",
    "print('s =', s)\n",
    "print('isalpha:', s.isalpha())"
   ]
  },
  {
   "cell_type": "code",
   "execution_count": 16,
   "metadata": {},
   "outputs": [
    {
     "name": "stdout",
     "output_type": "stream",
     "text": [
      "s = 壱億参阡萬\n",
      "isalpha: True\n"
     ]
    }
   ],
   "source": [
    "s = '壱億参阡萬'\n",
    "print('s =', s)\n",
    "print('isalpha:', s.isalpha())"
   ]
  },
  {
   "cell_type": "code",
   "execution_count": 17,
   "metadata": {},
   "outputs": [
    {
     "name": "stdout",
     "output_type": "stream",
     "text": [
      "s = 〇\n",
      "isalpha: False\n"
     ]
    }
   ],
   "source": [
    "s = '〇'\n",
    "print('s =', s)\n",
    "print('isalpha:', s.isalpha())"
   ]
  },
  {
   "cell_type": "code",
   "execution_count": 18,
   "metadata": {},
   "outputs": [
    {
     "name": "stdout",
     "output_type": "stream",
     "text": [
      "s = Ⅶ\n",
      "isalpha: False\n"
     ]
    }
   ],
   "source": [
    "s = '\\u2166'\n",
    "print('s =', s)\n",
    "print('isalpha:', s.isalpha())"
   ]
  },
  {
   "cell_type": "code",
   "execution_count": 19,
   "metadata": {},
   "outputs": [
    {
     "name": "stdout",
     "output_type": "stream",
     "text": [
      "s = abc123\n",
      "isalnum: True\n",
      "isalpha: False\n",
      "isdecimal: False\n",
      "isdigit: False\n",
      "isnumeric: False\n"
     ]
    }
   ],
   "source": [
    "s = 'abc123'\n",
    "print('s =', s)\n",
    "print('isalnum:', s.isalnum())\n",
    "print('isalpha:', s.isalpha())\n",
    "print('isdecimal:', s.isdecimal())\n",
    "print('isdigit:', s.isdigit())\n",
    "print('isnumeric:', s.isnumeric())"
   ]
  },
  {
   "cell_type": "code",
   "execution_count": 20,
   "metadata": {},
   "outputs": [
    {
     "name": "stdout",
     "output_type": "stream",
     "text": [
      "s = abc123+-,.&\n",
      "isascii: True\n",
      "isalnum: False\n"
     ]
    }
   ],
   "source": [
    "s = 'abc123+-,.&'\n",
    "print('s =', s)\n",
    "print('isascii:', s.isascii())\n",
    "print('isalnum:', s.isalnum())"
   ]
  },
  {
   "cell_type": "code",
   "execution_count": 21,
   "metadata": {},
   "outputs": [
    {
     "name": "stdout",
     "output_type": "stream",
     "text": [
      "s = あいうえお\n",
      "isascii: False\n",
      "isalnum: True\n"
     ]
    }
   ],
   "source": [
    "s = 'あいうえお'\n",
    "print('s =', s)\n",
    "print('isascii:', s.isascii())\n",
    "print('isalnum:', s.isalnum())"
   ]
  },
  {
   "cell_type": "code",
   "execution_count": 22,
   "metadata": {},
   "outputs": [
    {
     "name": "stdout",
     "output_type": "stream",
     "text": [
      "s = \n",
      "isalnum: False\n",
      "isalpha: False\n",
      "isdecimal: False\n",
      "isdigit: False\n",
      "isnumeric: False\n",
      "isascii: True\n"
     ]
    }
   ],
   "source": [
    "s = ''\n",
    "print('s =', s)\n",
    "print('isalnum:', s.isalnum())\n",
    "print('isalpha:', s.isalpha())\n",
    "print('isdecimal:', s.isdecimal())\n",
    "print('isdigit:', s.isdigit())\n",
    "print('isnumeric:', s.isnumeric())\n",
    "print('isascii:', s.isascii())"
   ]
  },
  {
   "cell_type": "code",
   "execution_count": 23,
   "metadata": {},
   "outputs": [
    {
     "name": "stdout",
     "output_type": "stream",
     "text": [
      "False\n"
     ]
    }
   ],
   "source": [
    "print(bool(''))"
   ]
  },
  {
   "cell_type": "code",
   "execution_count": 24,
   "metadata": {},
   "outputs": [
    {
     "name": "stdout",
     "output_type": "stream",
     "text": [
      "True\n"
     ]
    }
   ],
   "source": [
    "print(bool('abc123'))"
   ]
  },
  {
   "cell_type": "code",
   "execution_count": 25,
   "metadata": {},
   "outputs": [
    {
     "name": "stdout",
     "output_type": "stream",
     "text": [
      "s = -1.23\n",
      "isalnum: False\n",
      "isalpha: False\n",
      "isdecimal: False\n",
      "isdigit: False\n",
      "isnumeric: False\n",
      "isascii: True\n"
     ]
    }
   ],
   "source": [
    "s = '-1.23'\n",
    "print('s =', s)\n",
    "print('isalnum:', s.isalnum())\n",
    "print('isalpha:', s.isalpha())\n",
    "print('isdecimal:', s.isdecimal())\n",
    "print('isdigit:', s.isdigit())\n",
    "print('isnumeric:', s.isnumeric())\n",
    "print('isascii:', s.isascii())"
   ]
  },
  {
   "cell_type": "code",
   "execution_count": 26,
   "metadata": {},
   "outputs": [
    {
     "name": "stdout",
     "output_type": "stream",
     "text": [
      "-1.23\n"
     ]
    }
   ],
   "source": [
    "print(float('-1.23'))"
   ]
  },
  {
   "cell_type": "code",
   "execution_count": 27,
   "metadata": {},
   "outputs": [
    {
     "name": "stdout",
     "output_type": "stream",
     "text": [
      "<class 'float'>\n"
     ]
    }
   ],
   "source": [
    "print(type(float('-1.23')))"
   ]
  },
  {
   "cell_type": "code",
   "execution_count": 28,
   "metadata": {},
   "outputs": [],
   "source": [
    "# print(float('abc'))\n",
    "# ValueError: could not convert string to float: 'abc'"
   ]
  },
  {
   "cell_type": "code",
   "execution_count": 29,
   "metadata": {},
   "outputs": [],
   "source": [
    "def is_num(s):\n",
    "    try:\n",
    "        float(s)\n",
    "    except ValueError:\n",
    "        return False\n",
    "    else:\n",
    "        return True"
   ]
  },
  {
   "cell_type": "code",
   "execution_count": 30,
   "metadata": {},
   "outputs": [
    {
     "name": "stdout",
     "output_type": "stream",
     "text": [
      "True\n"
     ]
    }
   ],
   "source": [
    "print(is_num('123'))"
   ]
  },
  {
   "cell_type": "code",
   "execution_count": 31,
   "metadata": {},
   "outputs": [
    {
     "name": "stdout",
     "output_type": "stream",
     "text": [
      "True\n"
     ]
    }
   ],
   "source": [
    "print(is_num('-1.23'))"
   ]
  },
  {
   "cell_type": "code",
   "execution_count": 32,
   "metadata": {},
   "outputs": [
    {
     "name": "stdout",
     "output_type": "stream",
     "text": [
      "True\n"
     ]
    }
   ],
   "source": [
    "print(is_num('+1.23e10'))"
   ]
  },
  {
   "cell_type": "code",
   "execution_count": 33,
   "metadata": {},
   "outputs": [
    {
     "name": "stdout",
     "output_type": "stream",
     "text": [
      "False\n"
     ]
    }
   ],
   "source": [
    "print(is_num('abc'))"
   ]
  },
  {
   "cell_type": "code",
   "execution_count": 34,
   "metadata": {},
   "outputs": [
    {
     "name": "stdout",
     "output_type": "stream",
     "text": [
      "False\n"
     ]
    }
   ],
   "source": [
    "print(is_num('10,000,000'))"
   ]
  },
  {
   "cell_type": "code",
   "execution_count": 35,
   "metadata": {},
   "outputs": [],
   "source": [
    "def is_num_delimiter(s):\n",
    "    try:\n",
    "        float(s.replace(',', ''))\n",
    "    except ValueError:\n",
    "        return False\n",
    "    else:\n",
    "        return True"
   ]
  },
  {
   "cell_type": "code",
   "execution_count": 36,
   "metadata": {},
   "outputs": [
    {
     "name": "stdout",
     "output_type": "stream",
     "text": [
      "True\n"
     ]
    }
   ],
   "source": [
    "print(is_num_delimiter('10,000,000'))"
   ]
  },
  {
   "cell_type": "code",
   "execution_count": 37,
   "metadata": {},
   "outputs": [],
   "source": [
    "def is_num_delimiter2(s):\n",
    "    try:\n",
    "        float(s.replace(',', '').replace(' ', ''))\n",
    "    except ValueError:\n",
    "        return False\n",
    "    else:\n",
    "        return True"
   ]
  },
  {
   "cell_type": "code",
   "execution_count": 38,
   "metadata": {},
   "outputs": [
    {
     "name": "stdout",
     "output_type": "stream",
     "text": [
      "True\n"
     ]
    }
   ],
   "source": [
    "print(is_num_delimiter2('10,000,000'))"
   ]
  },
  {
   "cell_type": "code",
   "execution_count": 39,
   "metadata": {},
   "outputs": [
    {
     "name": "stdout",
     "output_type": "stream",
     "text": [
      "True\n"
     ]
    }
   ],
   "source": [
    "print(is_num_delimiter2('10 000 000'))"
   ]
  }
 ],
 "metadata": {
  "kernelspec": {
   "display_name": "Python 3",
   "language": "python",
   "name": "python3"
  },
  "language_info": {
   "codemirror_mode": {
    "name": "ipython",
    "version": 3
   },
   "file_extension": ".py",
   "mimetype": "text/x-python",
   "name": "python",
   "nbconvert_exporter": "python",
   "pygments_lexer": "ipython3",
   "version": "3.9.1"
  }
 },
 "nbformat": 4,
 "nbformat_minor": 2
}
