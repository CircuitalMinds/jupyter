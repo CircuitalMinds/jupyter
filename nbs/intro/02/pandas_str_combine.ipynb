{
 "cells": [
  {
   "cell_type": "code",
   "execution_count": 1,
   "metadata": {},
   "outputs": [],
   "source": [
    "import pandas as pd"
   ]
  },
  {
   "cell_type": "code",
   "execution_count": 2,
   "metadata": {},
   "outputs": [
    {
     "name": "stdout",
     "output_type": "stream",
     "text": [
      "      name  age state  point\n",
      "0    Alice   24    NY     64\n",
      "1      Bob   42    CA     92\n",
      "2  Charlie   18    CA     70\n"
     ]
    }
   ],
   "source": [
    "df = pd.read_csv('data/src/sample_pandas_normal.csv').head(3)\n",
    "print(df)"
   ]
  },
  {
   "cell_type": "code",
   "execution_count": 3,
   "metadata": {},
   "outputs": [
    {
     "name": "stdout",
     "output_type": "stream",
     "text": [
      "0      AliceNY\n",
      "1        BobCA\n",
      "2    CharlieCA\n",
      "Name: name, dtype: object\n"
     ]
    }
   ],
   "source": [
    "print(df['name'].str.cat(df['state']))"
   ]
  },
  {
   "cell_type": "code",
   "execution_count": 4,
   "metadata": {},
   "outputs": [
    {
     "name": "stdout",
     "output_type": "stream",
     "text": [
      "0      Alice in NY\n",
      "1        Bob in CA\n",
      "2    Charlie in CA\n",
      "Name: name, dtype: object\n"
     ]
    }
   ],
   "source": [
    "print(df['name'].str.cat(df['state'], sep=' in '))"
   ]
  },
  {
   "cell_type": "code",
   "execution_count": 5,
   "metadata": {},
   "outputs": [
    {
     "name": "stdout",
     "output_type": "stream",
     "text": [
      "0      Alice in X\n",
      "1        Bob in Y\n",
      "2    Charlie in Z\n",
      "Name: name, dtype: object\n"
     ]
    }
   ],
   "source": [
    "print(df['name'].str.cat(['X', 'Y', 'Z'], sep=' in '))"
   ]
  },
  {
   "cell_type": "code",
   "execution_count": 6,
   "metadata": {},
   "outputs": [
    {
     "name": "stdout",
     "output_type": "stream",
     "text": [
      "0      Alice-NY-X\n",
      "1        Bob-CA-Y\n",
      "2    Charlie-CA-Z\n",
      "Name: name, dtype: object\n"
     ]
    }
   ],
   "source": [
    "print(df['name'].str.cat([df['state'], ['X', 'Y', 'Z']], sep='-'))"
   ]
  },
  {
   "cell_type": "code",
   "execution_count": 7,
   "metadata": {},
   "outputs": [],
   "source": [
    "# print(df['name'].str.cat('X', sep='-'))\n",
    "# ValueError: Did you mean to supply a `sep` keyword?"
   ]
  },
  {
   "cell_type": "code",
   "execution_count": 8,
   "metadata": {},
   "outputs": [
    {
     "name": "stdout",
     "output_type": "stream",
     "text": [
      "0      AliceNY\n",
      "1        BobCA\n",
      "2    CharlieCA\n",
      "dtype: object\n"
     ]
    }
   ],
   "source": [
    "print(df['name'] + df['state'])"
   ]
  },
  {
   "cell_type": "code",
   "execution_count": 9,
   "metadata": {},
   "outputs": [
    {
     "name": "stdout",
     "output_type": "stream",
     "text": [
      "0      Alice in NY\n",
      "1        Bob in CA\n",
      "2    Charlie in CA\n",
      "dtype: object\n"
     ]
    }
   ],
   "source": [
    "print(df['name'] + ' in ' + df['state'])"
   ]
  },
  {
   "cell_type": "code",
   "execution_count": 10,
   "metadata": {},
   "outputs": [
    {
     "name": "stdout",
     "output_type": "stream",
     "text": [
      "0      Alice in NY - X\n",
      "1        Bob in CA - Y\n",
      "2    Charlie in CA - Z\n",
      "dtype: object\n"
     ]
    }
   ],
   "source": [
    "print(df['name'] + ' in ' + df['state'] + ' - ' + ['X', 'Y', 'Z'])"
   ]
  },
  {
   "cell_type": "code",
   "execution_count": 11,
   "metadata": {},
   "outputs": [
    {
     "name": "stdout",
     "output_type": "stream",
     "text": [
      "      name  age state  point col_NaN\n",
      "0    Alice   24    NY     64       X\n",
      "1      Bob   42    CA     92     NaN\n",
      "2  Charlie   18    CA     70       Z\n"
     ]
    }
   ],
   "source": [
    "df['col_NaN'] = ['X', pd.np.nan, 'Z']\n",
    "print(df)"
   ]
  },
  {
   "cell_type": "code",
   "execution_count": 12,
   "metadata": {},
   "outputs": [
    {
     "name": "stdout",
     "output_type": "stream",
     "text": [
      "0      Alice-X\n",
      "1          NaN\n",
      "2    Charlie-Z\n",
      "Name: name, dtype: object\n"
     ]
    }
   ],
   "source": [
    "print(df['name'].str.cat(df['col_NaN'], sep='-'))"
   ]
  },
  {
   "cell_type": "code",
   "execution_count": 13,
   "metadata": {},
   "outputs": [
    {
     "name": "stdout",
     "output_type": "stream",
     "text": [
      "0        Alice-X\n",
      "1    Bob-No Data\n",
      "2      Charlie-Z\n",
      "Name: name, dtype: object\n"
     ]
    }
   ],
   "source": [
    "print(df['name'].str.cat(df['col_NaN'], sep='-', na_rep='No Data'))"
   ]
  },
  {
   "cell_type": "code",
   "execution_count": 14,
   "metadata": {},
   "outputs": [
    {
     "name": "stdout",
     "output_type": "stream",
     "text": [
      "0      Alice-X\n",
      "1          NaN\n",
      "2    Charlie-Z\n",
      "dtype: object\n"
     ]
    }
   ],
   "source": [
    "print(df['name'] + '-' + df['col_NaN'])"
   ]
  },
  {
   "cell_type": "code",
   "execution_count": 15,
   "metadata": {},
   "outputs": [
    {
     "name": "stdout",
     "output_type": "stream",
     "text": [
      "0        Alice-X\n",
      "1    Bob-No Data\n",
      "2      Charlie-Z\n",
      "dtype: object\n"
     ]
    }
   ],
   "source": [
    "print(df['name'] + '-' + df['col_NaN'].fillna('No Data'))"
   ]
  },
  {
   "cell_type": "code",
   "execution_count": 16,
   "metadata": {},
   "outputs": [],
   "source": [
    "# print(df['name'].str.cat(df['age'], sep='-'))\n",
    "# TypeError: sequence item 1: expected str instance, int found"
   ]
  },
  {
   "cell_type": "code",
   "execution_count": 17,
   "metadata": {},
   "outputs": [
    {
     "name": "stdout",
     "output_type": "stream",
     "text": [
      "0      Alice-24\n",
      "1        Bob-42\n",
      "2    Charlie-18\n",
      "Name: name, dtype: object\n"
     ]
    }
   ],
   "source": [
    "print(df['name'].str.cat(df['age'].astype(str), sep='-'))"
   ]
  },
  {
   "cell_type": "code",
   "execution_count": 18,
   "metadata": {},
   "outputs": [],
   "source": [
    "# print(df['name'] + '-' + df['age'])\n",
    "# TypeError: can only concatenate str (not \"int\") to str"
   ]
  },
  {
   "cell_type": "code",
   "execution_count": 19,
   "metadata": {},
   "outputs": [
    {
     "name": "stdout",
     "output_type": "stream",
     "text": [
      "0      Alice-24\n",
      "1        Bob-42\n",
      "2    Charlie-18\n",
      "dtype: object\n"
     ]
    }
   ],
   "source": [
    "print(df['name'] + '-' + df['age'].astype(str))"
   ]
  },
  {
   "cell_type": "code",
   "execution_count": 20,
   "metadata": {},
   "outputs": [
    {
     "name": "stdout",
     "output_type": "stream",
     "text": [
      "      name  age state  point col_NaN     name_state\n",
      "0    Alice   24    NY     64       X    Alice in NY\n",
      "1      Bob   42    CA     92     NaN      Bob in CA\n",
      "2  Charlie   18    CA     70       Z  Charlie in CA\n"
     ]
    }
   ],
   "source": [
    "df['name_state'] = df['name'].str.cat(df['state'], sep=' in ')\n",
    "print(df)"
   ]
  },
  {
   "cell_type": "code",
   "execution_count": 21,
   "metadata": {},
   "outputs": [
    {
     "name": "stdout",
     "output_type": "stream",
     "text": [
      "   age  point col_NaN     name_state\n",
      "0   24     64       X    Alice in NY\n",
      "1   42     92     NaN      Bob in CA\n",
      "2   18     70       Z  Charlie in CA\n"
     ]
    }
   ],
   "source": [
    "print(df.drop(columns=['name', 'state']))"
   ]
  },
  {
   "cell_type": "code",
   "execution_count": 22,
   "metadata": {},
   "outputs": [
    {
     "name": "stdout",
     "output_type": "stream",
     "text": [
      "      name  age state  point\n",
      "0    Alice   24    NY     64\n",
      "1      Bob   42    CA     92\n",
      "2  Charlie   18    CA     70\n"
     ]
    }
   ],
   "source": [
    "df = pd.read_csv('data/src/sample_pandas_normal.csv').head(3)\n",
    "print(df)"
   ]
  },
  {
   "cell_type": "code",
   "execution_count": 23,
   "metadata": {},
   "outputs": [
    {
     "name": "stdout",
     "output_type": "stream",
     "text": [
      "      name  age state  point     name_state\n",
      "0    Alice   24    NY     64    Alice in NY\n",
      "1      Bob   42    CA     92      Bob in CA\n",
      "2  Charlie   18    CA     70  Charlie in CA\n"
     ]
    }
   ],
   "source": [
    "print(df.assign(name_state=df['name'] + ' in ' + df['state']))"
   ]
  },
  {
   "cell_type": "code",
   "execution_count": 24,
   "metadata": {},
   "outputs": [
    {
     "name": "stdout",
     "output_type": "stream",
     "text": [
      "   age  point     name_state\n",
      "0   24     64    Alice in NY\n",
      "1   42     92      Bob in CA\n",
      "2   18     70  Charlie in CA\n"
     ]
    }
   ],
   "source": [
    "print(df.assign(name_state=df['name'] + ' in ' + df['state']).drop(columns=['name', 'state']))"
   ]
  }
 ],
 "metadata": {
  "kernelspec": {
   "display_name": "Python 3",
   "language": "python",
   "name": "python3"
  },
  "language_info": {
   "codemirror_mode": {
    "name": "ipython",
    "version": 3
   },
   "file_extension": ".py",
   "mimetype": "text/x-python",
   "name": "python",
   "nbconvert_exporter": "python",
   "pygments_lexer": "ipython3",
   "version": "3.7.3"
  }
 },
 "nbformat": 4,
 "nbformat_minor": 2
}
