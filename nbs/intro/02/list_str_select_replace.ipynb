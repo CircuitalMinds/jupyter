{
 "cells": [
  {
   "cell_type": "code",
   "execution_count": 1,
   "metadata": {
    "collapsed": true
   },
   "outputs": [],
   "source": [
    "l = ['oneXXXaaa', 'twoXXXbbb', 'three999aaa', '000111222']"
   ]
  },
  {
   "cell_type": "code",
   "execution_count": 2,
   "metadata": {},
   "outputs": [
    {
     "name": "stdout",
     "output_type": "stream",
     "text": [
      "['oneXXXaaa', 'twoXXXbbb']\n"
     ]
    }
   ],
   "source": [
    "l_in = [s for s in l if 'XXX' in s]\n",
    "print(l_in)"
   ]
  },
  {
   "cell_type": "code",
   "execution_count": 3,
   "metadata": {},
   "outputs": [
    {
     "name": "stdout",
     "output_type": "stream",
     "text": [
      "['three999aaa', '000111222']\n"
     ]
    }
   ],
   "source": [
    "l_in_not = [s for s in l if 'XXX' not in s]\n",
    "print(l_in_not)"
   ]
  },
  {
   "cell_type": "code",
   "execution_count": 4,
   "metadata": {},
   "outputs": [
    {
     "name": "stdout",
     "output_type": "stream",
     "text": [
      "['oneZZZaaa', 'twoZZZbbb', 'three999aaa', '000111222']\n"
     ]
    }
   ],
   "source": [
    "l_replace = [s.replace('XXX', 'ZZZ') for s in l]\n",
    "print(l_replace)"
   ]
  },
  {
   "cell_type": "code",
   "execution_count": 5,
   "metadata": {},
   "outputs": [
    {
     "name": "stdout",
     "output_type": "stream",
     "text": [
      "['ZZZ', 'ZZZ', 'three999aaa', '000111222']\n"
     ]
    }
   ],
   "source": [
    "l_replace_all = ['ZZZ' if 'XXX' in s else s for s in l]\n",
    "print(l_replace_all)"
   ]
  },
  {
   "cell_type": "code",
   "execution_count": 6,
   "metadata": {},
   "outputs": [
    {
     "name": "stdout",
     "output_type": "stream",
     "text": [
      "['twoXXXbbb', 'three999aaa']\n"
     ]
    }
   ],
   "source": [
    "l_start = [s for s in l if s.startswith('t')]\n",
    "print(l_start)"
   ]
  },
  {
   "cell_type": "code",
   "execution_count": 7,
   "metadata": {},
   "outputs": [
    {
     "name": "stdout",
     "output_type": "stream",
     "text": [
      "['oneXXXaaa', '000111222']\n"
     ]
    }
   ],
   "source": [
    "l_start_not = [s for s in l if not s.startswith('t')]\n",
    "print(l_start_not)"
   ]
  },
  {
   "cell_type": "code",
   "execution_count": 8,
   "metadata": {},
   "outputs": [
    {
     "name": "stdout",
     "output_type": "stream",
     "text": [
      "['oneXXXaaa', 'three999aaa']\n"
     ]
    }
   ],
   "source": [
    "l_end = [s for s in l if s.endswith('aaa')]\n",
    "print(l_end)"
   ]
  },
  {
   "cell_type": "code",
   "execution_count": 9,
   "metadata": {},
   "outputs": [
    {
     "name": "stdout",
     "output_type": "stream",
     "text": [
      "['twoXXXbbb', '000111222']\n"
     ]
    }
   ],
   "source": [
    "l_end_not = [s for s in l if not s.endswith('aaa')]\n",
    "print(l_end_not)"
   ]
  },
  {
   "cell_type": "code",
   "execution_count": 10,
   "metadata": {},
   "outputs": [
    {
     "name": "stdout",
     "output_type": "stream",
     "text": [
      "['three999aaa']\n"
     ]
    }
   ],
   "source": [
    "l_lower = [s for s in l if s.islower()]\n",
    "print(l_lower)"
   ]
  },
  {
   "cell_type": "code",
   "execution_count": 11,
   "metadata": {},
   "outputs": [
    {
     "name": "stdout",
     "output_type": "stream",
     "text": [
      "['ONEXXXAAA', 'TWOXXXBBB', 'THREE999AAA', '000111222']\n"
     ]
    }
   ],
   "source": [
    "l_upper_all = [s.upper() for s in l]\n",
    "print(l_upper_all)"
   ]
  },
  {
   "cell_type": "code",
   "execution_count": 12,
   "metadata": {},
   "outputs": [
    {
     "name": "stdout",
     "output_type": "stream",
     "text": [
      "['oneXXXaaa', 'twoXXXbbb', 'THREE999AAA', '000111222']\n"
     ]
    }
   ],
   "source": [
    "l_lower_to_upper = [s.upper() if s.islower() else s for s in l]\n",
    "print(l_lower_to_upper)"
   ]
  },
  {
   "cell_type": "code",
   "execution_count": 13,
   "metadata": {},
   "outputs": [
    {
     "name": "stdout",
     "output_type": "stream",
     "text": [
      "['oneXXXaaa', 'twoXXXbbb']\n"
     ]
    }
   ],
   "source": [
    "l_isalpha = [s for s in l if s.isalpha()]\n",
    "print(l_isalpha)"
   ]
  },
  {
   "cell_type": "code",
   "execution_count": 14,
   "metadata": {},
   "outputs": [
    {
     "name": "stdout",
     "output_type": "stream",
     "text": [
      "['000111222']\n"
     ]
    }
   ],
   "source": [
    "l_isnumeric = [s for s in l if s.isnumeric()]\n",
    "print(l_isnumeric)"
   ]
  },
  {
   "cell_type": "code",
   "execution_count": 15,
   "metadata": {},
   "outputs": [
    {
     "name": "stdout",
     "output_type": "stream",
     "text": [
      "['oneXXXaaa']\n"
     ]
    }
   ],
   "source": [
    "l_multi = [s for s in l if s.isalpha() and not s.startswith('t')]\n",
    "print(l_multi)"
   ]
  },
  {
   "cell_type": "code",
   "execution_count": 16,
   "metadata": {},
   "outputs": [
    {
     "name": "stdout",
     "output_type": "stream",
     "text": [
      "['oneXXXaaa', 'twoXXXbbb']\n"
     ]
    }
   ],
   "source": [
    "l_multi_or = [s for s in l if (s.isalpha() and not s.startswith('t')) or ('bbb' in s)]\n",
    "print(l_multi_or)"
   ]
  }
 ],
 "metadata": {
  "kernelspec": {
   "display_name": "Python 3",
   "language": "python",
   "name": "python3"
  },
  "language_info": {
   "codemirror_mode": {
    "name": "ipython",
    "version": 3
   },
   "file_extension": ".py",
   "mimetype": "text/x-python",
   "name": "python",
   "nbconvert_exporter": "python",
   "pygments_lexer": "ipython3",
   "version": "3.6.4"
  }
 },
 "nbformat": 4,
 "nbformat_minor": 2
}
