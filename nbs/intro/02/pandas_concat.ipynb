{
 "cells": [
  {
   "cell_type": "code",
   "execution_count": 1,
   "metadata": {
    "collapsed": true
   },
   "outputs": [],
   "source": [
    "import pandas as pd"
   ]
  },
  {
   "cell_type": "code",
   "execution_count": 2,
   "metadata": {},
   "outputs": [
    {
     "name": "stdout",
     "output_type": "stream",
     "text": [
      "        A   B   C\n",
      "ONE    A1  B1  C1\n",
      "TWO    A2  B2  C2\n",
      "THREE  A3  B3  C3\n"
     ]
    }
   ],
   "source": [
    "df1 = pd.DataFrame({'A': ['A1', 'A2', 'A3'],\n",
    "                    'B': ['B1', 'B2', 'B3'],\n",
    "                    'C': ['C1', 'C2', 'C3']},\n",
    "                   index=['ONE', 'TWO', 'THREE'])\n",
    "print(df1)"
   ]
  },
  {
   "cell_type": "code",
   "execution_count": 3,
   "metadata": {},
   "outputs": [
    {
     "name": "stdout",
     "output_type": "stream",
     "text": [
      "        C   D\n",
      "TWO    C2  D2\n",
      "THREE  C3  D3\n",
      "FOUR   C4  D4\n"
     ]
    }
   ],
   "source": [
    "df2 = pd.DataFrame({'C': ['C2', 'C3', 'C4'],\n",
    "                    'D': ['D2', 'D3', 'D4']},\n",
    "                   index=['TWO', 'THREE', 'FOUR'])\n",
    "print(df2)"
   ]
  },
  {
   "cell_type": "code",
   "execution_count": 4,
   "metadata": {},
   "outputs": [
    {
     "name": "stdout",
     "output_type": "stream",
     "text": [
      "ONE      X1\n",
      "TWO      X2\n",
      "THREE    X3\n",
      "Name: X, dtype: object\n"
     ]
    }
   ],
   "source": [
    "s1 = pd.Series(['X1', 'X2', 'X3'], index=['ONE', 'TWO', 'THREE'], name='X')\n",
    "print(s1)"
   ]
  },
  {
   "cell_type": "code",
   "execution_count": 5,
   "metadata": {},
   "outputs": [
    {
     "name": "stdout",
     "output_type": "stream",
     "text": [
      "TWO      Y2\n",
      "THREE    Y3\n",
      "FOUR     Y4\n",
      "Name: Y, dtype: object\n"
     ]
    }
   ],
   "source": [
    "s2 = pd.Series(['Y2', 'Y3', 'Y4'], index=['TWO', 'THREE', 'FOUR'], name='Y')\n",
    "print(s2)"
   ]
  },
  {
   "cell_type": "code",
   "execution_count": 6,
   "metadata": {},
   "outputs": [
    {
     "name": "stdout",
     "output_type": "stream",
     "text": [
      "         A    B   C    D\n",
      "ONE     A1   B1  C1  NaN\n",
      "TWO     A2   B2  C2  NaN\n",
      "THREE   A3   B3  C3  NaN\n",
      "TWO    NaN  NaN  C2   D2\n",
      "THREE  NaN  NaN  C3   D3\n",
      "FOUR   NaN  NaN  C4   D4\n"
     ]
    }
   ],
   "source": [
    "df_concat = pd.concat([df1, df2])\n",
    "print(df_concat)"
   ]
  },
  {
   "cell_type": "code",
   "execution_count": 7,
   "metadata": {},
   "outputs": [
    {
     "name": "stdout",
     "output_type": "stream",
     "text": [
      "         A    B   C    D\n",
      "ONE     A1   B1  C1  NaN\n",
      "TWO     A2   B2  C2  NaN\n",
      "THREE   A3   B3  C3  NaN\n",
      "TWO    NaN  NaN  C2   D2\n",
      "THREE  NaN  NaN  C3   D3\n",
      "FOUR   NaN  NaN  C4   D4\n",
      "ONE     A1   B1  C1  NaN\n",
      "TWO     A2   B2  C2  NaN\n",
      "THREE   A3   B3  C3  NaN\n"
     ]
    }
   ],
   "source": [
    "df_concat_multi = pd.concat([df1, df2, df1])\n",
    "print(df_concat_multi)"
   ]
  },
  {
   "cell_type": "code",
   "execution_count": 8,
   "metadata": {},
   "outputs": [
    {
     "name": "stdout",
     "output_type": "stream",
     "text": [
      "         A    B   C    D\n",
      "ONE     A1   B1  C1  NaN\n",
      "TWO     A2   B2  C2  NaN\n",
      "THREE   A3   B3  C3  NaN\n",
      "TWO    NaN  NaN  C2   D2\n",
      "THREE  NaN  NaN  C3   D3\n",
      "FOUR   NaN  NaN  C4   D4\n"
     ]
    }
   ],
   "source": [
    "df_v = pd.concat([df1, df2], axis=0)\n",
    "print(df_v)"
   ]
  },
  {
   "cell_type": "code",
   "execution_count": 9,
   "metadata": {},
   "outputs": [
    {
     "name": "stdout",
     "output_type": "stream",
     "text": [
      "         A    B    C    C    D\n",
      "FOUR   NaN  NaN  NaN   C4   D4\n",
      "ONE     A1   B1   C1  NaN  NaN\n",
      "THREE   A3   B3   C3   C3   D3\n",
      "TWO     A2   B2   C2   C2   D2\n"
     ]
    }
   ],
   "source": [
    "df_h = pd.concat([df1, df2], axis=1)\n",
    "print(df_h)"
   ]
  },
  {
   "cell_type": "code",
   "execution_count": 10,
   "metadata": {},
   "outputs": [
    {
     "name": "stdout",
     "output_type": "stream",
     "text": [
      "         A    B   C    D\n",
      "ONE     A1   B1  C1  NaN\n",
      "TWO     A2   B2  C2  NaN\n",
      "THREE   A3   B3  C3  NaN\n",
      "TWO    NaN  NaN  C2   D2\n",
      "THREE  NaN  NaN  C3   D3\n",
      "FOUR   NaN  NaN  C4   D4\n"
     ]
    }
   ],
   "source": [
    "df_v_out = pd.concat([df1, df2], join='outer')\n",
    "print(df_v_out)"
   ]
  },
  {
   "cell_type": "code",
   "execution_count": 11,
   "metadata": {},
   "outputs": [
    {
     "name": "stdout",
     "output_type": "stream",
     "text": [
      "        C\n",
      "ONE    C1\n",
      "TWO    C2\n",
      "THREE  C3\n",
      "TWO    C2\n",
      "THREE  C3\n",
      "FOUR   C4\n"
     ]
    }
   ],
   "source": [
    "df_v_in = pd.concat([df1, df2], join='inner')\n",
    "print(df_v_in)"
   ]
  },
  {
   "cell_type": "code",
   "execution_count": 12,
   "metadata": {},
   "outputs": [
    {
     "name": "stdout",
     "output_type": "stream",
     "text": [
      "         A    B    C    C    D\n",
      "FOUR   NaN  NaN  NaN   C4   D4\n",
      "ONE     A1   B1   C1  NaN  NaN\n",
      "THREE   A3   B3   C3   C3   D3\n",
      "TWO     A2   B2   C2   C2   D2\n"
     ]
    }
   ],
   "source": [
    "df_h_out = pd.concat([df1, df2], axis=1, join='outer')\n",
    "print(df_h_out)"
   ]
  },
  {
   "cell_type": "code",
   "execution_count": 13,
   "metadata": {},
   "outputs": [
    {
     "name": "stdout",
     "output_type": "stream",
     "text": [
      "        A   B   C   C   D\n",
      "TWO    A2  B2  C2  C2  D2\n",
      "THREE  A3  B3  C3  C3  D3\n"
     ]
    }
   ],
   "source": [
    "df_h_in = pd.concat([df1, df2], axis=1, join='inner')\n",
    "print(df_h_in)"
   ]
  },
  {
   "cell_type": "code",
   "execution_count": 14,
   "metadata": {},
   "outputs": [
    {
     "name": "stdout",
     "output_type": "stream",
     "text": [
      "         A    B   C    D\n",
      "ONE     A1   B1  C1  NaN\n",
      "TWO     A2   B2  C2  NaN\n",
      "THREE   A3   B3  C3  NaN\n",
      "TWO    NaN  NaN  C2   D2\n",
      "THREE  NaN  NaN  C3   D3\n",
      "FOUR   NaN  NaN  C4   D4\n"
     ]
    }
   ],
   "source": [
    "df_concat = pd.concat([df1, df2])\n",
    "print(df_concat)"
   ]
  },
  {
   "cell_type": "code",
   "execution_count": 15,
   "metadata": {},
   "outputs": [
    {
     "name": "stdout",
     "output_type": "stream",
     "text": [
      "<class 'pandas.core.frame.DataFrame'>\n"
     ]
    }
   ],
   "source": [
    "print(type(df_concat))"
   ]
  },
  {
   "cell_type": "code",
   "execution_count": 16,
   "metadata": {},
   "outputs": [
    {
     "name": "stdout",
     "output_type": "stream",
     "text": [
      "ONE      X1\n",
      "TWO      X2\n",
      "THREE    X3\n",
      "TWO      Y2\n",
      "THREE    Y3\n",
      "FOUR     Y4\n",
      "dtype: object\n"
     ]
    }
   ],
   "source": [
    "s_v = pd.concat([s1, s2])\n",
    "print(s_v)"
   ]
  },
  {
   "cell_type": "code",
   "execution_count": 17,
   "metadata": {},
   "outputs": [
    {
     "name": "stdout",
     "output_type": "stream",
     "text": [
      "<class 'pandas.core.series.Series'>\n"
     ]
    }
   ],
   "source": [
    "print(type(s_v))"
   ]
  },
  {
   "cell_type": "code",
   "execution_count": 18,
   "metadata": {},
   "outputs": [
    {
     "name": "stdout",
     "output_type": "stream",
     "text": [
      "         X    Y\n",
      "FOUR   NaN   Y4\n",
      "ONE     X1  NaN\n",
      "THREE   X3   Y3\n",
      "TWO     X2   Y2\n"
     ]
    }
   ],
   "source": [
    "s_h = pd.concat([s1, s2], axis=1)\n",
    "print(s_h)"
   ]
  },
  {
   "cell_type": "code",
   "execution_count": 19,
   "metadata": {},
   "outputs": [
    {
     "name": "stdout",
     "output_type": "stream",
     "text": [
      "<class 'pandas.core.frame.DataFrame'>\n"
     ]
    }
   ],
   "source": [
    "print(type(s_h))"
   ]
  },
  {
   "cell_type": "code",
   "execution_count": 20,
   "metadata": {},
   "outputs": [
    {
     "name": "stdout",
     "output_type": "stream",
     "text": [
      "        X   Y\n",
      "TWO    X2  Y2\n",
      "THREE  X3  Y3\n"
     ]
    }
   ],
   "source": [
    "s_h_in = pd.concat([s1, s2], axis=1, join='inner')\n",
    "print(s_h_in)"
   ]
  },
  {
   "cell_type": "code",
   "execution_count": 21,
   "metadata": {},
   "outputs": [
    {
     "name": "stdout",
     "output_type": "stream",
     "text": [
      "         A    B    C    Y\n",
      "FOUR   NaN  NaN  NaN   Y4\n",
      "ONE     A1   B1   C1  NaN\n",
      "THREE   A3   B3   C3   Y3\n",
      "TWO     A2   B2   C2   Y2\n"
     ]
    }
   ],
   "source": [
    "df_s_h = pd.concat([df1, s2], axis=1)\n",
    "print(df_s_h)"
   ]
  },
  {
   "cell_type": "code",
   "execution_count": 22,
   "metadata": {},
   "outputs": [
    {
     "name": "stdout",
     "output_type": "stream",
     "text": [
      "        A   B   C   Y\n",
      "TWO    A2  B2  C2  Y2\n",
      "THREE  A3  B3  C3  Y3\n"
     ]
    }
   ],
   "source": [
    "df_s_h_in = pd.concat([df1, s2], axis=1, join='inner')\n",
    "print(df_s_h_in)"
   ]
  },
  {
   "cell_type": "code",
   "execution_count": 23,
   "metadata": {},
   "outputs": [
    {
     "name": "stdout",
     "output_type": "stream",
     "text": [
      "         A    B    C    0\n",
      "ONE     A1   B1   C1  NaN\n",
      "TWO     A2   B2   C2  NaN\n",
      "THREE   A3   B3   C3  NaN\n",
      "TWO    NaN  NaN  NaN   Y2\n",
      "THREE  NaN  NaN  NaN   Y3\n",
      "FOUR   NaN  NaN  NaN   Y4\n"
     ]
    }
   ],
   "source": [
    "df_s_v = pd.concat([df1, s2])\n",
    "print(df_s_v)"
   ]
  },
  {
   "cell_type": "code",
   "execution_count": 24,
   "metadata": {},
   "outputs": [
    {
     "name": "stdout",
     "output_type": "stream",
     "text": [
      "        A   B   C\n",
      "ONE    A1  B1  C1\n",
      "TWO    A2  B2  C2\n",
      "THREE  A3  B3  C3\n",
      "FOUR   A4  B4  C4\n"
     ]
    }
   ],
   "source": [
    "df1.loc['FOUR'] = ['A4', 'B4', 'C4']\n",
    "print(df1)"
   ]
  },
  {
   "cell_type": "code",
   "execution_count": 25,
   "metadata": {},
   "outputs": [
    {
     "name": "stdout",
     "output_type": "stream",
     "text": [
      "A    A5\n",
      "B    B5\n",
      "C    C5\n",
      "Name: FIVE, dtype: object\n"
     ]
    }
   ],
   "source": [
    "s = pd.Series(['A5', 'B5', 'C5'], index=df1.columns, name='FIVE')\n",
    "print(s)"
   ]
  },
  {
   "cell_type": "code",
   "execution_count": 26,
   "metadata": {},
   "outputs": [
    {
     "name": "stdout",
     "output_type": "stream",
     "text": [
      "        A   B   C\n",
      "ONE    A1  B1  C1\n",
      "TWO    A2  B2  C2\n",
      "THREE  A3  B3  C3\n",
      "FOUR   A4  B4  C4\n",
      "FIVE   A5  B5  C5\n"
     ]
    }
   ],
   "source": [
    "df_append = df1.append(s)\n",
    "print(df_append)"
   ]
  }
 ],
 "metadata": {
  "kernelspec": {
   "display_name": "Python 3",
   "language": "python",
   "name": "python3"
  },
  "language_info": {
   "codemirror_mode": {
    "name": "ipython",
    "version": 3
   },
   "file_extension": ".py",
   "mimetype": "text/x-python",
   "name": "python",
   "nbconvert_exporter": "python",
   "pygments_lexer": "ipython3",
   "version": "3.6.5"
  }
 },
 "nbformat": 4,
 "nbformat_minor": 2
}
