{
 "cells": [
  {
   "cell_type": "code",
   "execution_count": 1,
   "metadata": {},
   "outputs": [],
   "source": [
    "import pandas as pd"
   ]
  },
  {
   "cell_type": "code",
   "execution_count": 2,
   "metadata": {},
   "outputs": [
    {
     "name": "stdout",
     "output_type": "stream",
     "text": [
      "      name   age state  point  other\n",
      "0    Alice  24.0    NY    NaN    NaN\n",
      "1      NaN   NaN   NaN    NaN    NaN\n",
      "2  Charlie   NaN    CA    NaN    NaN\n",
      "3     Dave  68.0    TX   70.0    NaN\n",
      "4    Ellen   NaN    CA   88.0    NaN\n",
      "5    Frank  30.0   NaN    NaN    NaN\n"
     ]
    }
   ],
   "source": [
    "df = pd.read_csv('data/src/sample_pandas_normal_nan.csv')\n",
    "print(df)"
   ]
  },
  {
   "cell_type": "code",
   "execution_count": 3,
   "metadata": {},
   "outputs": [
    {
     "name": "stdout",
     "output_type": "stream",
     "text": [
      "    name    age  state  point  other\n",
      "0  False  False  False   True   True\n",
      "1   True   True   True   True   True\n",
      "2  False   True  False   True   True\n",
      "3  False  False  False  False   True\n",
      "4  False   True  False  False   True\n",
      "5  False  False   True   True   True\n"
     ]
    }
   ],
   "source": [
    "print(df.isnull())"
   ]
  },
  {
   "cell_type": "code",
   "execution_count": 4,
   "metadata": {},
   "outputs": [
    {
     "name": "stdout",
     "output_type": "stream",
     "text": [
      "0     True\n",
      "1     True\n",
      "2     True\n",
      "3    False\n",
      "4    False\n",
      "5     True\n",
      "Name: point, dtype: bool\n"
     ]
    }
   ],
   "source": [
    "print(df['point'].isnull())"
   ]
  },
  {
   "cell_type": "code",
   "execution_count": 5,
   "metadata": {},
   "outputs": [
    {
     "name": "stdout",
     "output_type": "stream",
     "text": [
      "      name   age state  point  other\n",
      "0    Alice  24.0    NY    NaN    NaN\n",
      "1      NaN   NaN   NaN    NaN    NaN\n",
      "2  Charlie   NaN    CA    NaN    NaN\n",
      "5    Frank  30.0   NaN    NaN    NaN\n"
     ]
    }
   ],
   "source": [
    "print(df[df['point'].isnull()])"
   ]
  },
  {
   "cell_type": "code",
   "execution_count": 6,
   "metadata": {},
   "outputs": [
    {
     "name": "stdout",
     "output_type": "stream",
     "text": [
      "name     False\n",
      "age       True\n",
      "state    False\n",
      "point     True\n",
      "other     True\n",
      "Name: 2, dtype: bool\n"
     ]
    }
   ],
   "source": [
    "print(df.iloc[2].isnull())"
   ]
  },
  {
   "cell_type": "code",
   "execution_count": 7,
   "metadata": {},
   "outputs": [
    {
     "name": "stdout",
     "output_type": "stream",
     "text": [
      "    age  point  other\n",
      "0  24.0    NaN    NaN\n",
      "1   NaN    NaN    NaN\n",
      "2   NaN    NaN    NaN\n",
      "3  68.0   70.0    NaN\n",
      "4   NaN   88.0    NaN\n",
      "5  30.0    NaN    NaN\n"
     ]
    }
   ],
   "source": [
    "print(df.loc[:, df.iloc[2].isnull()])"
   ]
  },
  {
   "cell_type": "code",
   "execution_count": 8,
   "metadata": {},
   "outputs": [
    {
     "name": "stdout",
     "output_type": "stream",
     "text": [
      "      name   age state  point\n",
      "0    Alice  24.0    NY    NaN\n",
      "2  Charlie   NaN    CA    NaN\n",
      "3     Dave  68.0    TX   70.0\n",
      "4    Ellen   NaN    CA   88.0\n",
      "5    Frank  30.0   NaN    NaN\n"
     ]
    }
   ],
   "source": [
    "df2 = df.dropna(how='all').dropna(how='all', axis=1)\n",
    "print(df2)"
   ]
  },
  {
   "cell_type": "code",
   "execution_count": 9,
   "metadata": {},
   "outputs": [
    {
     "name": "stdout",
     "output_type": "stream",
     "text": [
      "    name    age  state  point\n",
      "0  False  False  False   True\n",
      "2  False   True  False   True\n",
      "3  False  False  False  False\n",
      "4  False   True  False  False\n",
      "5  False  False   True   True\n"
     ]
    }
   ],
   "source": [
    "print(df2.isnull())"
   ]
  },
  {
   "cell_type": "code",
   "execution_count": 10,
   "metadata": {},
   "outputs": [
    {
     "name": "stdout",
     "output_type": "stream",
     "text": [
      "0     True\n",
      "2     True\n",
      "3    False\n",
      "4     True\n",
      "5     True\n",
      "dtype: bool\n"
     ]
    }
   ],
   "source": [
    "print(df2.isnull().any(axis=1))"
   ]
  },
  {
   "cell_type": "code",
   "execution_count": 11,
   "metadata": {},
   "outputs": [
    {
     "name": "stdout",
     "output_type": "stream",
     "text": [
      "      name   age state  point\n",
      "0    Alice  24.0    NY    NaN\n",
      "2  Charlie   NaN    CA    NaN\n",
      "4    Ellen   NaN    CA   88.0\n",
      "5    Frank  30.0   NaN    NaN\n"
     ]
    }
   ],
   "source": [
    "print(df2[df2.isnull().any(axis=1)])"
   ]
  },
  {
   "cell_type": "code",
   "execution_count": 12,
   "metadata": {},
   "outputs": [
    {
     "name": "stdout",
     "output_type": "stream",
     "text": [
      "name     False\n",
      "age       True\n",
      "state     True\n",
      "point     True\n",
      "dtype: bool\n"
     ]
    }
   ],
   "source": [
    "print(df2.isnull().any())"
   ]
  },
  {
   "cell_type": "code",
   "execution_count": 13,
   "metadata": {},
   "outputs": [
    {
     "name": "stdout",
     "output_type": "stream",
     "text": [
      "    age state  point\n",
      "0  24.0    NY    NaN\n",
      "2   NaN    CA    NaN\n",
      "3  68.0    TX   70.0\n",
      "4   NaN    CA   88.0\n",
      "5  30.0   NaN    NaN\n"
     ]
    }
   ],
   "source": [
    "print(df2.loc[:, df2.isnull().any()])"
   ]
  }
 ],
 "metadata": {
  "kernelspec": {
   "display_name": "Python 3",
   "language": "python",
   "name": "python3"
  },
  "language_info": {
   "codemirror_mode": {
    "name": "ipython",
    "version": 3
   },
   "file_extension": ".py",
   "mimetype": "text/x-python",
   "name": "python",
   "nbconvert_exporter": "python",
   "pygments_lexer": "ipython3",
   "version": "3.9.9"
  }
 },
 "nbformat": 4,
 "nbformat_minor": 4
}
