{
 "cells": [
  {
   "cell_type": "code",
   "execution_count": 1,
   "metadata": {},
   "outputs": [],
   "source": [
    "from itertools import zip_longest"
   ]
  },
  {
   "cell_type": "code",
   "execution_count": 2,
   "metadata": {},
   "outputs": [],
   "source": [
    "names = ['Alice', 'Bob', 'Charlie', 'Dave']\n",
    "ages = [24, 50, 18]"
   ]
  },
  {
   "cell_type": "code",
   "execution_count": 3,
   "metadata": {},
   "outputs": [
    {
     "name": "stdout",
     "output_type": "stream",
     "text": [
      "Alice 24\n",
      "Bob 50\n",
      "Charlie 18\n",
      "Dave None\n"
     ]
    }
   ],
   "source": [
    "for name, age in zip_longest(names, ages):\n",
    "    print(name, age)"
   ]
  },
  {
   "cell_type": "code",
   "execution_count": 4,
   "metadata": {},
   "outputs": [
    {
     "name": "stdout",
     "output_type": "stream",
     "text": [
      "Alice 24\n",
      "Bob 50\n",
      "Charlie 18\n",
      "Dave 20\n"
     ]
    }
   ],
   "source": [
    "for name, age in zip_longest(names, ages, fillvalue=20):\n",
    "    print(name, age)"
   ]
  },
  {
   "cell_type": "code",
   "execution_count": 5,
   "metadata": {},
   "outputs": [],
   "source": [
    "points = [100, 85]"
   ]
  },
  {
   "cell_type": "code",
   "execution_count": 6,
   "metadata": {},
   "outputs": [
    {
     "name": "stdout",
     "output_type": "stream",
     "text": [
      "Alice 24 100\n",
      "Bob 50 85\n",
      "Charlie 18 20\n",
      "Dave 20 20\n"
     ]
    }
   ],
   "source": [
    "for name, age, point in zip_longest(names, ages, points, fillvalue=20):\n",
    "    print(name, age, point)"
   ]
  },
  {
   "cell_type": "code",
   "execution_count": 7,
   "metadata": {},
   "outputs": [],
   "source": [
    "fill_name = 'XXX'\n",
    "fill_age = 20\n",
    "fill_point = 50\n",
    "\n",
    "len_names = len(names)\n",
    "len_ages = len(ages)\n",
    "len_points = len(points)\n",
    "\n",
    "max_len = max(len_names, len_ages, len_points)\n",
    "\n",
    "names = names + [fill_name] * (max_len - len_names)\n",
    "ages = ages + [fill_age] * (max_len - len_ages)\n",
    "points = points + [fill_point] * (max_len - len_points)"
   ]
  },
  {
   "cell_type": "code",
   "execution_count": 8,
   "metadata": {},
   "outputs": [
    {
     "name": "stdout",
     "output_type": "stream",
     "text": [
      "['Alice', 'Bob', 'Charlie', 'Dave']\n",
      "[24, 50, 18, 20]\n",
      "[100, 85, 50, 50]\n"
     ]
    }
   ],
   "source": [
    "print(names)\n",
    "print(ages)\n",
    "print(points)"
   ]
  },
  {
   "cell_type": "code",
   "execution_count": 9,
   "metadata": {},
   "outputs": [
    {
     "name": "stdout",
     "output_type": "stream",
     "text": [
      "Alice 24 100\n",
      "Bob 50 85\n",
      "Charlie 18 50\n",
      "Dave 20 50\n"
     ]
    }
   ],
   "source": [
    "for name, age, point in zip(names, ages, points):\n",
    "    print(name, age, point)"
   ]
  },
  {
   "cell_type": "code",
   "execution_count": 10,
   "metadata": {},
   "outputs": [],
   "source": [
    "def my_zip_longest(iterables, fillvalues):\n",
    "    max_len = max(len(i) for i in iterables)\n",
    "    return zip(*[list(i) + [v] * (max_len - len(i)) for i, v in zip(iterables, fillvalues)])"
   ]
  },
  {
   "cell_type": "code",
   "execution_count": 11,
   "metadata": {},
   "outputs": [
    {
     "name": "stdout",
     "output_type": "stream",
     "text": [
      "Alice 24 100\n",
      "Bob 50 85\n",
      "Charlie 18 50\n",
      "Dave 20 50\n"
     ]
    }
   ],
   "source": [
    "for name, age, point in my_zip_longest((names, ages, points), ('XXX', 20, 50)):\n",
    "    print(name, age, point)"
   ]
  }
 ],
 "metadata": {
  "kernelspec": {
   "display_name": "Python 3",
   "language": "python",
   "name": "python3"
  },
  "language_info": {
   "codemirror_mode": {
    "name": "ipython",
    "version": 3
   },
   "file_extension": ".py",
   "mimetype": "text/x-python",
   "name": "python",
   "nbconvert_exporter": "python",
   "pygments_lexer": "ipython3",
   "version": "3.7.0"
  }
 },
 "nbformat": 4,
 "nbformat_minor": 2
}
