{
 "cells": [
  {
   "cell_type": "code",
   "execution_count": 1,
   "metadata": {},
   "outputs": [],
   "source": [
    "import pandas as pd"
   ]
  },
  {
   "cell_type": "code",
   "execution_count": 2,
   "metadata": {},
   "outputs": [
    {
     "name": "stdout",
     "output_type": "stream",
     "text": [
      "      name  age state  point\n",
      "0    Alice   24    NY     64\n",
      "1      Bob   42    CA     92\n",
      "2  Charlie   18    CA     70\n",
      "3     Dave   68    TX     70\n",
      "4    Ellen   24    CA     88\n",
      "5    Frank   30    NY     57\n"
     ]
    }
   ],
   "source": [
    "df = pd.read_csv('data/src/sample_pandas_normal.csv')\n",
    "print(df)"
   ]
  },
  {
   "cell_type": "code",
   "execution_count": 3,
   "metadata": {},
   "outputs": [
    {
     "name": "stdout",
     "output_type": "stream",
     "text": [
      "      name  age state  point\n",
      "0    Alice   24    NY     64\n",
      "1      Bob   42    CA     92\n",
      "2  Charlie   18    CA     70\n",
      "3     Dave   68    TX     70\n",
      "4    Ellen   24    CA     88\n",
      "5    Frank   30    NY     57\n"
     ]
    }
   ],
   "source": [
    "print(df.sort_values('name'))"
   ]
  },
  {
   "cell_type": "code",
   "execution_count": 4,
   "metadata": {},
   "outputs": [
    {
     "name": "stdout",
     "output_type": "stream",
     "text": [
      "      name  age state  point\n",
      "5    Frank   30    NY     57\n",
      "4    Ellen   24    CA     88\n",
      "3     Dave   68    TX     70\n",
      "2  Charlie   18    CA     70\n",
      "1      Bob   42    CA     92\n",
      "0    Alice   24    NY     64\n"
     ]
    }
   ],
   "source": [
    "print(df.sort_values('name', ascending=False))"
   ]
  },
  {
   "cell_type": "code",
   "execution_count": 5,
   "metadata": {},
   "outputs": [],
   "source": [
    "l_order = ['Charlie', 'Alice', 'Dave', 'Bob']"
   ]
  },
  {
   "cell_type": "code",
   "execution_count": 6,
   "metadata": {},
   "outputs": [
    {
     "name": "stdout",
     "output_type": "stream",
     "text": [
      "      name  age state  point  order\n",
      "0    Alice   24    NY     64      1\n",
      "1      Bob   42    CA     92      3\n",
      "2  Charlie   18    CA     70      0\n",
      "3     Dave   68    TX     70      2\n",
      "4    Ellen   24    CA     88     -1\n",
      "5    Frank   30    NY     57     -1\n"
     ]
    }
   ],
   "source": [
    "df['order'] = df['name'].apply(lambda x: l_order.index(x) if x in l_order else -1)\n",
    "print(df)"
   ]
  },
  {
   "cell_type": "code",
   "execution_count": 7,
   "metadata": {},
   "outputs": [
    {
     "name": "stdout",
     "output_type": "stream",
     "text": [
      "      name  age state  point  order\n",
      "4    Ellen   24    CA     88     -1\n",
      "5    Frank   30    NY     57     -1\n",
      "2  Charlie   18    CA     70      0\n",
      "0    Alice   24    NY     64      1\n",
      "3     Dave   68    TX     70      2\n",
      "1      Bob   42    CA     92      3\n"
     ]
    }
   ],
   "source": [
    "print(df.sort_values('order'))"
   ]
  },
  {
   "cell_type": "code",
   "execution_count": 8,
   "metadata": {},
   "outputs": [
    {
     "name": "stdout",
     "output_type": "stream",
     "text": [
      "      name  age state  point\n",
      "0    Ellen   24    CA     88\n",
      "1    Frank   30    NY     57\n",
      "2  Charlie   18    CA     70\n",
      "3    Alice   24    NY     64\n",
      "4     Dave   68    TX     70\n",
      "5      Bob   42    CA     92\n"
     ]
    }
   ],
   "source": [
    "print(df.sort_values('order').reset_index(drop=True).drop(columns='order'))"
   ]
  },
  {
   "cell_type": "code",
   "execution_count": 9,
   "metadata": {},
   "outputs": [],
   "source": [
    "d_order = {'Charlie': 0, 'Alice': 1, 'Dave': 2, 'Bob': 3}"
   ]
  },
  {
   "cell_type": "code",
   "execution_count": 10,
   "metadata": {},
   "outputs": [
    {
     "name": "stdout",
     "output_type": "stream",
     "text": [
      "      name  age state  point  order\n",
      "0    Alice   24    NY     64    1.0\n",
      "1      Bob   42    CA     92    3.0\n",
      "2  Charlie   18    CA     70    0.0\n",
      "3     Dave   68    TX     70    2.0\n",
      "4    Ellen   24    CA     88    NaN\n",
      "5    Frank   30    NY     57    NaN\n"
     ]
    }
   ],
   "source": [
    "df['order'] = df['name'].map(d_order)\n",
    "print(df)"
   ]
  },
  {
   "cell_type": "code",
   "execution_count": 11,
   "metadata": {},
   "outputs": [
    {
     "name": "stdout",
     "output_type": "stream",
     "text": [
      "      name  age state  point  order\n",
      "2  Charlie   18    CA     70    0.0\n",
      "0    Alice   24    NY     64    1.0\n",
      "3     Dave   68    TX     70    2.0\n",
      "1      Bob   42    CA     92    3.0\n",
      "4    Ellen   24    CA     88    NaN\n",
      "5    Frank   30    NY     57    NaN\n"
     ]
    }
   ],
   "source": [
    "print(df.sort_values('order'))"
   ]
  },
  {
   "cell_type": "code",
   "execution_count": 12,
   "metadata": {},
   "outputs": [
    {
     "name": "stdout",
     "output_type": "stream",
     "text": [
      "      name  age state  point  order\n",
      "4    Ellen   24    CA     88    NaN\n",
      "5    Frank   30    NY     57    NaN\n",
      "2  Charlie   18    CA     70    0.0\n",
      "0    Alice   24    NY     64    1.0\n",
      "3     Dave   68    TX     70    2.0\n",
      "1      Bob   42    CA     92    3.0\n"
     ]
    }
   ],
   "source": [
    "print(df.sort_values('order', na_position='first'))"
   ]
  },
  {
   "cell_type": "code",
   "execution_count": 13,
   "metadata": {},
   "outputs": [
    {
     "name": "stdout",
     "output_type": "stream",
     "text": [
      "      name  age state  point\n",
      "0    Ellen   24    CA     88\n",
      "1    Frank   30    NY     57\n",
      "2  Charlie   18    CA     70\n",
      "3    Alice   24    NY     64\n",
      "4     Dave   68    TX     70\n",
      "5      Bob   42    CA     92\n"
     ]
    }
   ],
   "source": [
    "print(df.sort_values('order', na_position='first').reset_index(drop=True).drop(columns='order'))"
   ]
  }
 ],
 "metadata": {
  "kernelspec": {
   "display_name": "Python 3",
   "language": "python",
   "name": "python3"
  },
  "language_info": {
   "codemirror_mode": {
    "name": "ipython",
    "version": 3
   },
   "file_extension": ".py",
   "mimetype": "text/x-python",
   "name": "python",
   "nbconvert_exporter": "python",
   "pygments_lexer": "ipython3",
   "version": "3.7.3"
  }
 },
 "nbformat": 4,
 "nbformat_minor": 2
}
