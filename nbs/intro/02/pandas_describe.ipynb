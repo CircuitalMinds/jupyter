{
 "cells": [
  {
   "cell_type": "code",
   "execution_count": 1,
   "metadata": {
    "collapsed": true
   },
   "outputs": [],
   "source": [
    "import pandas as pd"
   ]
  },
  {
   "cell_type": "code",
   "execution_count": 2,
   "metadata": {
    "collapsed": true
   },
   "outputs": [],
   "source": [
    "df = pd.DataFrame({'a': [1, 2, 1, 3],\n",
    "                   'b': [0.4, 1.1, 0.1, 0.8],\n",
    "                   'c': ['X', 'Y', 'X', 'Z'],\n",
    "                   'd': ['3', '5', '2', '1'],\n",
    "                   'e': [True, True, False, True]})"
   ]
  },
  {
   "cell_type": "code",
   "execution_count": 3,
   "metadata": {},
   "outputs": [
    {
     "name": "stdout",
     "output_type": "stream",
     "text": [
      "   a    b  c  d      e\n",
      "0  1  0.4  X  3   True\n",
      "1  2  1.1  Y  5   True\n",
      "2  1  0.1  X  2  False\n",
      "3  3  0.8  Z  1   True\n"
     ]
    }
   ],
   "source": [
    "print(df)"
   ]
  },
  {
   "cell_type": "code",
   "execution_count": 4,
   "metadata": {},
   "outputs": [
    {
     "name": "stdout",
     "output_type": "stream",
     "text": [
      "a      int64\n",
      "b    float64\n",
      "c     object\n",
      "d     object\n",
      "e       bool\n",
      "dtype: object\n"
     ]
    }
   ],
   "source": [
    "print(df.dtypes)"
   ]
  },
  {
   "cell_type": "code",
   "execution_count": 5,
   "metadata": {},
   "outputs": [
    {
     "name": "stdout",
     "output_type": "stream",
     "text": [
      "              a         b\n",
      "count  4.000000  4.000000\n",
      "mean   1.750000  0.600000\n",
      "std    0.957427  0.439697\n",
      "min    1.000000  0.100000\n",
      "25%    1.000000  0.325000\n",
      "50%    1.500000  0.600000\n",
      "75%    2.250000  0.875000\n",
      "max    3.000000  1.100000\n"
     ]
    }
   ],
   "source": [
    "print(df.describe())"
   ]
  },
  {
   "cell_type": "code",
   "execution_count": 6,
   "metadata": {},
   "outputs": [
    {
     "name": "stdout",
     "output_type": "stream",
     "text": [
      "<class 'pandas.core.frame.DataFrame'>\n"
     ]
    }
   ],
   "source": [
    "print(type(df.describe()))"
   ]
  },
  {
   "cell_type": "code",
   "execution_count": 7,
   "metadata": {},
   "outputs": [
    {
     "name": "stdout",
     "output_type": "stream",
     "text": [
      "a    0.957427\n",
      "b    0.439697\n",
      "Name: std, dtype: float64\n"
     ]
    }
   ],
   "source": [
    "print(df.describe().loc['std'])"
   ]
  },
  {
   "cell_type": "code",
   "execution_count": 8,
   "metadata": {},
   "outputs": [
    {
     "name": "stdout",
     "output_type": "stream",
     "text": [
      "0.439696865275764\n"
     ]
    }
   ],
   "source": [
    "print(df.describe().at['std', 'b'])"
   ]
  },
  {
   "cell_type": "code",
   "execution_count": 9,
   "metadata": {},
   "outputs": [
    {
     "name": "stdout",
     "output_type": "stream",
     "text": [
      "        c  d     e\n",
      "count   4  4     4\n",
      "unique  3  4     2\n",
      "top     X  3  True\n",
      "freq    2  1     3\n"
     ]
    }
   ],
   "source": [
    "print(df.describe(exclude='number'))"
   ]
  },
  {
   "cell_type": "code",
   "execution_count": 10,
   "metadata": {},
   "outputs": [
    {
     "name": "stdout",
     "output_type": "stream",
     "text": [
      "   c  d      e\n",
      "0  X  3   True\n",
      "1  Y  5   True\n",
      "2  X  2  False\n",
      "3  Z  1   True\n"
     ]
    }
   ],
   "source": [
    "df_notnum = df[['c', 'd', 'e']]\n",
    "print(df_notnum)"
   ]
  },
  {
   "cell_type": "code",
   "execution_count": 11,
   "metadata": {},
   "outputs": [
    {
     "name": "stdout",
     "output_type": "stream",
     "text": [
      "c    object\n",
      "d    object\n",
      "e      bool\n",
      "dtype: object\n"
     ]
    }
   ],
   "source": [
    "print(df_notnum.dtypes)"
   ]
  },
  {
   "cell_type": "code",
   "execution_count": 12,
   "metadata": {},
   "outputs": [
    {
     "name": "stdout",
     "output_type": "stream",
     "text": [
      "        c  d     e\n",
      "count   4  4     4\n",
      "unique  3  4     2\n",
      "top     X  3  True\n",
      "freq    2  1     3\n"
     ]
    }
   ],
   "source": [
    "print(df_notnum.describe())"
   ]
  },
  {
   "cell_type": "code",
   "execution_count": 13,
   "metadata": {},
   "outputs": [
    {
     "name": "stdout",
     "output_type": "stream",
     "text": [
      "               a         b    c    d     e\n",
      "count   4.000000  4.000000    4    4     4\n",
      "unique       NaN       NaN    3    4     2\n",
      "top          NaN       NaN    X    3  True\n",
      "freq         NaN       NaN    2    1     3\n",
      "mean    1.750000  0.600000  NaN  NaN   NaN\n",
      "std     0.957427  0.439697  NaN  NaN   NaN\n",
      "min     1.000000  0.100000  NaN  NaN   NaN\n",
      "25%     1.000000  0.325000  NaN  NaN   NaN\n",
      "50%     1.500000  0.600000  NaN  NaN   NaN\n",
      "75%     2.250000  0.875000  NaN  NaN   NaN\n",
      "max     3.000000  1.100000  NaN  NaN   NaN\n"
     ]
    }
   ],
   "source": [
    "print(df.describe(include='all'))"
   ]
  },
  {
   "cell_type": "code",
   "execution_count": 14,
   "metadata": {},
   "outputs": [
    {
     "name": "stdout",
     "output_type": "stream",
     "text": [
      "              a\n",
      "count  4.000000\n",
      "mean   1.750000\n",
      "std    0.957427\n",
      "min    1.000000\n",
      "25%    1.000000\n",
      "50%    1.500000\n",
      "75%    2.250000\n",
      "max    3.000000\n"
     ]
    }
   ],
   "source": [
    "print(df.describe(include=int))"
   ]
  },
  {
   "cell_type": "code",
   "execution_count": 15,
   "metadata": {},
   "outputs": [
    {
     "name": "stdout",
     "output_type": "stream",
     "text": [
      "<class 'pandas.core.frame.DataFrame'>\n"
     ]
    }
   ],
   "source": [
    "print(type(df.describe(include=int)))"
   ]
  },
  {
   "cell_type": "code",
   "execution_count": 16,
   "metadata": {},
   "outputs": [
    {
     "name": "stdout",
     "output_type": "stream",
     "text": [
      "        c  d     e\n",
      "count   4  4     4\n",
      "unique  3  4     2\n",
      "top     X  3  True\n",
      "freq    2  1     3\n"
     ]
    }
   ],
   "source": [
    "print(df.describe(include=[object, bool]))"
   ]
  },
  {
   "cell_type": "code",
   "execution_count": 17,
   "metadata": {},
   "outputs": [
    {
     "name": "stdout",
     "output_type": "stream",
     "text": [
      "               a     e\n",
      "count   4.000000     4\n",
      "unique       NaN     2\n",
      "top          NaN  True\n",
      "freq         NaN     3\n",
      "mean    1.750000   NaN\n",
      "std     0.957427   NaN\n",
      "min     1.000000   NaN\n",
      "25%     1.000000   NaN\n",
      "50%     1.500000   NaN\n",
      "75%     2.250000   NaN\n",
      "max     3.000000   NaN\n"
     ]
    }
   ],
   "source": [
    "print(df.describe(exclude=[float, object]))"
   ]
  },
  {
   "cell_type": "code",
   "execution_count": 18,
   "metadata": {},
   "outputs": [
    {
     "name": "stdout",
     "output_type": "stream",
     "text": [
      "a    4\n",
      "b    4\n",
      "c    4\n",
      "d    4\n",
      "e    4\n",
      "dtype: int64\n"
     ]
    }
   ],
   "source": [
    "print(df.count())"
   ]
  },
  {
   "cell_type": "code",
   "execution_count": 19,
   "metadata": {},
   "outputs": [
    {
     "name": "stdout",
     "output_type": "stream",
     "text": [
      "a    3\n",
      "b    4\n",
      "c    3\n",
      "d    4\n",
      "e    2\n",
      "dtype: int64\n"
     ]
    }
   ],
   "source": [
    "print(df.nunique())"
   ]
  },
  {
   "cell_type": "code",
   "execution_count": 20,
   "metadata": {},
   "outputs": [
    {
     "name": "stdout",
     "output_type": "stream",
     "text": [
      "     a    b    c  d     e\n",
      "0  1.0  0.1    X  1  True\n",
      "1  NaN  0.4  NaN  2   NaN\n",
      "2  NaN  0.8  NaN  3   NaN\n",
      "3  NaN  1.1  NaN  5   NaN\n"
     ]
    }
   ],
   "source": [
    "print(df.mode())"
   ]
  },
  {
   "cell_type": "code",
   "execution_count": 21,
   "metadata": {},
   "outputs": [
    {
     "name": "stdout",
     "output_type": "stream",
     "text": [
      "a    1\n",
      "b    4\n",
      "c    1\n",
      "d    4\n",
      "e    1\n",
      "dtype: int64\n"
     ]
    }
   ],
   "source": [
    "print(df.mode().count())"
   ]
  },
  {
   "cell_type": "code",
   "execution_count": 22,
   "metadata": {},
   "outputs": [
    {
     "name": "stdout",
     "output_type": "stream",
     "text": [
      "a       1\n",
      "b     0.1\n",
      "c       X\n",
      "d       1\n",
      "e    True\n",
      "Name: 0, dtype: object\n"
     ]
    }
   ],
   "source": [
    "print(df.mode().iloc[0])"
   ]
  },
  {
   "cell_type": "code",
   "execution_count": 23,
   "metadata": {},
   "outputs": [
    {
     "name": "stdout",
     "output_type": "stream",
     "text": [
      "2\n"
     ]
    }
   ],
   "source": [
    "print(df['c'].value_counts().iat[0])"
   ]
  },
  {
   "cell_type": "code",
   "execution_count": 24,
   "metadata": {},
   "outputs": [
    {
     "name": "stdout",
     "output_type": "stream",
     "text": [
      "a    2\n",
      "b    1\n",
      "c    2\n",
      "d    1\n",
      "e    3\n",
      "dtype: int64\n"
     ]
    }
   ],
   "source": [
    "print(df.apply(lambda x: x.value_counts().iat[0]))"
   ]
  },
  {
   "cell_type": "code",
   "execution_count": 25,
   "metadata": {},
   "outputs": [
    {
     "name": "stdout",
     "output_type": "stream",
     "text": [
      "a    1.75\n",
      "b    0.60\n",
      "e    0.75\n",
      "dtype: float64\n"
     ]
    }
   ],
   "source": [
    "print(df.mean(numeric_only=True))"
   ]
  },
  {
   "cell_type": "code",
   "execution_count": 26,
   "metadata": {},
   "outputs": [
    {
     "name": "stdout",
     "output_type": "stream",
     "text": [
      "a    0.957427\n",
      "b    0.439697\n",
      "e    0.500000\n",
      "dtype: float64\n"
     ]
    }
   ],
   "source": [
    "print(df.std(numeric_only=True))"
   ]
  },
  {
   "cell_type": "code",
   "execution_count": 27,
   "metadata": {},
   "outputs": [
    {
     "name": "stdout",
     "output_type": "stream",
     "text": [
      "a    1.0\n",
      "b    0.1\n",
      "e    0.0\n",
      "dtype: float64\n"
     ]
    }
   ],
   "source": [
    "print(df.min(numeric_only=True))"
   ]
  },
  {
   "cell_type": "code",
   "execution_count": 28,
   "metadata": {},
   "outputs": [
    {
     "name": "stdout",
     "output_type": "stream",
     "text": [
      "a    3.0\n",
      "b    1.1\n",
      "e    1.0\n",
      "dtype: float64\n"
     ]
    }
   ],
   "source": [
    "print(df.max(numeric_only=True))"
   ]
  },
  {
   "cell_type": "code",
   "execution_count": 29,
   "metadata": {},
   "outputs": [
    {
     "name": "stdout",
     "output_type": "stream",
     "text": [
      "a    1.5\n",
      "b    0.6\n",
      "e    1.0\n",
      "dtype: float64\n"
     ]
    }
   ],
   "source": [
    "print(df.median(numeric_only=True))"
   ]
  },
  {
   "cell_type": "code",
   "execution_count": 30,
   "metadata": {},
   "outputs": [
    {
     "name": "stdout",
     "output_type": "stream",
     "text": [
      "         a      b     e\n",
      "0.25  1.00  0.325  0.75\n",
      "0.75  2.25  0.875  1.00\n"
     ]
    }
   ],
   "source": [
    "print(df.quantile(q=[0.25, 0.75], numeric_only=True))"
   ]
  },
  {
   "cell_type": "code",
   "execution_count": 31,
   "metadata": {},
   "outputs": [
    {
     "name": "stdout",
     "output_type": "stream",
     "text": [
      "         a      b     e\n",
      "0.00  1.00  0.100  0.00\n",
      "0.25  1.00  0.325  0.75\n",
      "0.50  1.50  0.600  1.00\n",
      "0.75  2.25  0.875  1.00\n",
      "1.00  3.00  1.100  1.00\n"
     ]
    }
   ],
   "source": [
    "print(df.quantile(q=[0, 0.25, 0.5, 0.75, 1], numeric_only=True))"
   ]
  },
  {
   "cell_type": "code",
   "execution_count": 32,
   "metadata": {},
   "outputs": [
    {
     "name": "stdout",
     "output_type": "stream",
     "text": [
      "              a         b\n",
      "count  4.000000  4.000000\n",
      "mean   1.750000  0.600000\n",
      "std    0.957427  0.439697\n",
      "min    1.000000  0.100000\n",
      "20%    1.000000  0.280000\n",
      "40%    1.200000  0.480000\n",
      "50%    1.500000  0.600000\n",
      "60%    1.800000  0.720000\n",
      "80%    2.400000  0.920000\n",
      "max    3.000000  1.100000\n"
     ]
    }
   ],
   "source": [
    "print(df.describe(percentiles=[0.2, 0.4, 0.6, 0.8]))"
   ]
  },
  {
   "cell_type": "code",
   "execution_count": 33,
   "metadata": {},
   "outputs": [
    {
     "name": "stdout",
     "output_type": "stream",
     "text": [
      "        a    b  c  d     e\n",
      "count   4    4  4  4     4\n",
      "unique  3    4  3  4     2\n",
      "top     1  1.1  X  3  True\n",
      "freq    2    1  2  1     3\n"
     ]
    }
   ],
   "source": [
    "print(df.astype('str').describe())"
   ]
  },
  {
   "cell_type": "code",
   "execution_count": 34,
   "metadata": {},
   "outputs": [
    {
     "name": "stdout",
     "output_type": "stream",
     "text": [
      "        a  c  d     e\n",
      "count   4  4  4     4\n",
      "unique  3  3  4     2\n",
      "top     1  X  3  True\n",
      "freq    2  2  1     3\n"
     ]
    }
   ],
   "source": [
    "print(df.astype({'a': str}).describe(exclude='number'))"
   ]
  },
  {
   "cell_type": "code",
   "execution_count": 35,
   "metadata": {},
   "outputs": [
    {
     "name": "stdout",
     "output_type": "stream",
     "text": [
      "              a         b         d     e\n",
      "count  4.000000  4.000000  4.000000  4.00\n",
      "mean   1.750000  0.600000  2.750000  0.75\n",
      "std    0.957427  0.439697  1.707825  0.50\n",
      "min    1.000000  0.100000  1.000000  0.00\n",
      "25%    1.000000  0.325000  1.750000  0.75\n",
      "50%    1.500000  0.600000  2.500000  1.00\n",
      "75%    2.250000  0.875000  3.500000  1.00\n",
      "max    3.000000  1.100000  5.000000  1.00\n"
     ]
    }
   ],
   "source": [
    "print(df.astype({'d': int, 'e': int}).describe())"
   ]
  },
  {
   "cell_type": "code",
   "execution_count": 36,
   "metadata": {},
   "outputs": [
    {
     "name": "stdout",
     "output_type": "stream",
     "text": [
      "0    1\n",
      "1    2\n",
      "2    1\n",
      "3    3\n",
      "Name: a, dtype: int64\n"
     ]
    }
   ],
   "source": [
    "s_int = df['a']\n",
    "print(s_int)"
   ]
  },
  {
   "cell_type": "code",
   "execution_count": 37,
   "metadata": {},
   "outputs": [
    {
     "name": "stdout",
     "output_type": "stream",
     "text": [
      "count    4.000000\n",
      "mean     1.750000\n",
      "std      0.957427\n",
      "min      1.000000\n",
      "25%      1.000000\n",
      "50%      1.500000\n",
      "75%      2.250000\n",
      "max      3.000000\n",
      "Name: a, dtype: float64\n"
     ]
    }
   ],
   "source": [
    "print(s_int.describe())"
   ]
  },
  {
   "cell_type": "code",
   "execution_count": 38,
   "metadata": {},
   "outputs": [
    {
     "name": "stdout",
     "output_type": "stream",
     "text": [
      "<class 'pandas.core.series.Series'>\n"
     ]
    }
   ],
   "source": [
    "print(type(s_int.describe()))"
   ]
  },
  {
   "cell_type": "code",
   "execution_count": 39,
   "metadata": {},
   "outputs": [
    {
     "name": "stdout",
     "output_type": "stream",
     "text": [
      "count     4\n",
      "unique    4\n",
      "top       3\n",
      "freq      1\n",
      "Name: d, dtype: object\n"
     ]
    }
   ],
   "source": [
    "s_str = df['d']\n",
    "print(s_str.describe())"
   ]
  },
  {
   "cell_type": "code",
   "execution_count": 40,
   "metadata": {},
   "outputs": [
    {
     "name": "stdout",
     "output_type": "stream",
     "text": [
      "count    4.000000\n",
      "mean     2.750000\n",
      "std      1.707825\n",
      "min      1.000000\n",
      "25%      1.750000\n",
      "50%      2.500000\n",
      "75%      3.500000\n",
      "max      5.000000\n",
      "Name: d, dtype: float64\n"
     ]
    }
   ],
   "source": [
    "print(s_str.astype('int').describe())"
   ]
  },
  {
   "cell_type": "code",
   "execution_count": 41,
   "metadata": {
    "collapsed": true
   },
   "outputs": [],
   "source": [
    "df['dt'] = pd.to_datetime(['2018-01-01', '2018-03-15', '2018-02-20', '2018-03-15'])"
   ]
  },
  {
   "cell_type": "code",
   "execution_count": 42,
   "metadata": {},
   "outputs": [
    {
     "name": "stdout",
     "output_type": "stream",
     "text": [
      "a              int64\n",
      "b            float64\n",
      "c             object\n",
      "d             object\n",
      "e               bool\n",
      "dt    datetime64[ns]\n",
      "dtype: object\n"
     ]
    }
   ],
   "source": [
    "print(df.dtypes)"
   ]
  },
  {
   "cell_type": "code",
   "execution_count": 43,
   "metadata": {},
   "outputs": [
    {
     "name": "stdout",
     "output_type": "stream",
     "text": [
      "                         dt\n",
      "count                     4\n",
      "unique                    3\n",
      "top     2018-03-15 00:00:00\n",
      "freq                      2\n",
      "first   2018-01-01 00:00:00\n",
      "last    2018-03-15 00:00:00\n"
     ]
    }
   ],
   "source": [
    "print(df.describe(include='datetime'))"
   ]
  },
  {
   "cell_type": "code",
   "execution_count": 44,
   "metadata": {},
   "outputs": [
    {
     "name": "stdout",
     "output_type": "stream",
     "text": [
      "2018-01-01 00:00:00\n"
     ]
    }
   ],
   "source": [
    "print(df['dt'].min())"
   ]
  },
  {
   "cell_type": "code",
   "execution_count": 45,
   "metadata": {},
   "outputs": [
    {
     "name": "stdout",
     "output_type": "stream",
     "text": [
      "2018-03-15 00:00:00\n"
     ]
    }
   ],
   "source": [
    "print(df['dt'].max())"
   ]
  },
  {
   "cell_type": "code",
   "execution_count": 46,
   "metadata": {},
   "outputs": [
    {
     "name": "stdout",
     "output_type": "stream",
     "text": [
      "        0                    1                    2                    3\n",
      "count   6                    6                    6                    6\n",
      "unique  5                    6                    6                    6\n",
      "top     1  2018-03-15 00:00:00  2018-02-20 00:00:00  2018-03-15 00:00:00\n",
      "freq    2                    1                    1                    1\n"
     ]
    }
   ],
   "source": [
    "print(df.T.describe())"
   ]
  }
 ],
 "metadata": {
  "kernelspec": {
   "display_name": "Python 3",
   "language": "python",
   "name": "python3"
  },
  "language_info": {
   "codemirror_mode": {
    "name": "ipython",
    "version": 3
   },
   "file_extension": ".py",
   "mimetype": "text/x-python",
   "name": "python",
   "nbconvert_exporter": "python",
   "pygments_lexer": "ipython3",
   "version": "3.6.5"
  }
 },
 "nbformat": 4,
 "nbformat_minor": 2
}
