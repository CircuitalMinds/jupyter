{
 "cells": [
  {
   "cell_type": "code",
   "execution_count": 1,
   "metadata": {
    "collapsed": true
   },
   "outputs": [],
   "source": [
    "import pandas as pd\n",
    "import numpy as np"
   ]
  },
  {
   "cell_type": "code",
   "execution_count": 2,
   "metadata": {
    "collapsed": true
   },
   "outputs": [],
   "source": [
    "df = pd.read_csv('data/src/sample_pandas_normal.csv', index_col=0)"
   ]
  },
  {
   "cell_type": "code",
   "execution_count": 3,
   "metadata": {
    "collapsed": true
   },
   "outputs": [],
   "source": [
    "df['sex'] = ['female', np.nan, 'male', 'male', 'female', 'male']\n",
    "df['rank'] = [2, 1, 1, 0, 2, 0]"
   ]
  },
  {
   "cell_type": "code",
   "execution_count": 4,
   "metadata": {},
   "outputs": [
    {
     "name": "stdout",
     "output_type": "stream",
     "text": [
      "         age state  point     sex  rank\n",
      "name                                   \n",
      "Alice     24    NY     64  female     2\n",
      "Bob       42    CA     92     NaN     1\n",
      "Charlie   18    CA     70    male     1\n",
      "Dave      68    TX     70    male     0\n",
      "Ellen     24    CA     88  female     2\n",
      "Frank     30    NY     57    male     0\n"
     ]
    }
   ],
   "source": [
    "print(df)"
   ]
  },
  {
   "cell_type": "code",
   "execution_count": 5,
   "metadata": {},
   "outputs": [
    {
     "name": "stdout",
     "output_type": "stream",
     "text": [
      "         female  male\n",
      "name                 \n",
      "Alice         1     0\n",
      "Bob           0     0\n",
      "Charlie       0     1\n",
      "Dave          0     1\n",
      "Ellen         1     0\n",
      "Frank         0     1\n"
     ]
    }
   ],
   "source": [
    "print(pd.get_dummies(df['sex']))"
   ]
  },
  {
   "cell_type": "code",
   "execution_count": 6,
   "metadata": {},
   "outputs": [
    {
     "name": "stdout",
     "output_type": "stream",
     "text": [
      "   1  2  male\n",
      "0  0  0     1\n",
      "1  1  0     0\n",
      "2  1  0     0\n",
      "3  0  1     0\n"
     ]
    }
   ],
   "source": [
    "print(pd.get_dummies(['male', 1, 1, 2]))"
   ]
  },
  {
   "cell_type": "code",
   "execution_count": 7,
   "metadata": {},
   "outputs": [
    {
     "name": "stdout",
     "output_type": "stream",
     "text": [
      "   0  1  2  3  4  5\n",
      "0  1  0  0  0  0  0\n",
      "1  0  1  0  0  0  0\n",
      "2  0  0  1  0  0  0\n",
      "3  0  0  0  1  0  0\n",
      "4  0  0  0  0  1  0\n",
      "5  0  0  0  0  0  1\n"
     ]
    }
   ],
   "source": [
    "print(pd.get_dummies(np.arange(6)))"
   ]
  },
  {
   "cell_type": "code",
   "execution_count": 8,
   "metadata": {},
   "outputs": [],
   "source": [
    "# print(pd.get_dummies(np.arange(6).reshape((2, 3))))\n",
    "# Exception: Data must be 1-dimensional"
   ]
  },
  {
   "cell_type": "code",
   "execution_count": 9,
   "metadata": {},
   "outputs": [
    {
     "name": "stdout",
     "output_type": "stream",
     "text": [
      "         age  point  rank  state_CA  state_NY  state_TX  sex_female  sex_male\n",
      "name                                                                         \n",
      "Alice     24     64     2         0         1         0           1         0\n",
      "Bob       42     92     1         1         0         0           0         0\n",
      "Charlie   18     70     1         1         0         0           0         1\n",
      "Dave      68     70     0         0         0         1           0         1\n",
      "Ellen     24     88     2         1         0         0           1         0\n",
      "Frank     30     57     0         0         1         0           0         1\n"
     ]
    }
   ],
   "source": [
    "print(pd.get_dummies(df))"
   ]
  },
  {
   "cell_type": "code",
   "execution_count": 10,
   "metadata": {
    "scrolled": true
   },
   "outputs": [
    {
     "name": "stdout",
     "output_type": "stream",
     "text": [
      "         age  point  rank  state_NY  state_TX  sex_male\n",
      "name                                                   \n",
      "Alice     24     64     2         1         0         0\n",
      "Bob       42     92     1         0         0         0\n",
      "Charlie   18     70     1         0         0         1\n",
      "Dave      68     70     0         0         1         1\n",
      "Ellen     24     88     2         0         0         0\n",
      "Frank     30     57     0         1         0         1\n"
     ]
    }
   ],
   "source": [
    "print(pd.get_dummies(df, drop_first=True))"
   ]
  },
  {
   "cell_type": "code",
   "execution_count": 11,
   "metadata": {},
   "outputs": [
    {
     "name": "stdout",
     "output_type": "stream",
     "text": [
      "         age  point  rank  state_NY  state_TX  state_nan  sex_male  sex_nan\n",
      "name                                                                       \n",
      "Alice     24     64     2         1         0          0         0        0\n",
      "Bob       42     92     1         0         0          0         0        1\n",
      "Charlie   18     70     1         0         0          0         1        0\n",
      "Dave      68     70     0         0         1          0         1        0\n",
      "Ellen     24     88     2         0         0          0         0        0\n",
      "Frank     30     57     0         1         0          0         1        0\n"
     ]
    }
   ],
   "source": [
    "print(pd.get_dummies(df, drop_first=True, dummy_na=True))"
   ]
  },
  {
   "cell_type": "code",
   "execution_count": 12,
   "metadata": {},
   "outputs": [
    {
     "name": "stdout",
     "output_type": "stream",
     "text": [
      "         age  point  rank  NY  TX  male\n",
      "name                                   \n",
      "Alice     24     64     2   1   0     0\n",
      "Bob       42     92     1   0   0     0\n",
      "Charlie   18     70     1   0   0     1\n",
      "Dave      68     70     0   0   1     1\n",
      "Ellen     24     88     2   0   0     0\n",
      "Frank     30     57     0   1   0     1\n"
     ]
    }
   ],
   "source": [
    "print(pd.get_dummies(df, drop_first=True, prefix='', prefix_sep=''))"
   ]
  },
  {
   "cell_type": "code",
   "execution_count": 13,
   "metadata": {},
   "outputs": [
    {
     "name": "stdout",
     "output_type": "stream",
     "text": [
      "         age  point  rank  ST-NY  ST-TX  sex-male\n",
      "name                                             \n",
      "Alice     24     64     2      1      0         0\n",
      "Bob       42     92     1      0      0         0\n",
      "Charlie   18     70     1      0      0         1\n",
      "Dave      68     70     0      0      1         1\n",
      "Ellen     24     88     2      0      0         0\n",
      "Frank     30     57     0      1      0         1\n"
     ]
    }
   ],
   "source": [
    "print(pd.get_dummies(df, drop_first=True, prefix=['ST', 'sex'], prefix_sep='-'))"
   ]
  },
  {
   "cell_type": "code",
   "execution_count": 14,
   "metadata": {},
   "outputs": [
    {
     "name": "stdout",
     "output_type": "stream",
     "text": [
      "         age  point  rank  ST-NY  ST-TX  sex-male\n",
      "name                                             \n",
      "Alice     24     64     2      1      0         0\n",
      "Bob       42     92     1      0      0         0\n",
      "Charlie   18     70     1      0      0         1\n",
      "Dave      68     70     0      0      1         1\n",
      "Ellen     24     88     2      0      0         0\n",
      "Frank     30     57     0      1      0         1\n"
     ]
    }
   ],
   "source": [
    "print(pd.get_dummies(df, drop_first=True, prefix={'state': 'ST', 'sex': 'sex'}, prefix_sep='-'))"
   ]
  },
  {
   "cell_type": "code",
   "execution_count": 15,
   "metadata": {},
   "outputs": [
    {
     "name": "stdout",
     "output_type": "stream",
     "text": [
      "         age state  point  sex_male  rank_1  rank_2\n",
      "name                                               \n",
      "Alice     24    NY     64         0       0       1\n",
      "Bob       42    CA     92         0       1       0\n",
      "Charlie   18    CA     70         1       1       0\n",
      "Dave      68    TX     70         1       0       0\n",
      "Ellen     24    CA     88         0       0       1\n",
      "Frank     30    NY     57         1       0       0\n"
     ]
    }
   ],
   "source": [
    "print(pd.get_dummies(df, drop_first=True, columns=['sex', 'rank']))"
   ]
  },
  {
   "cell_type": "code",
   "execution_count": 16,
   "metadata": {},
   "outputs": [
    {
     "name": "stdout",
     "output_type": "stream",
     "text": [
      "         age  point  state_NY  state_TX  sex_male  rank_1  rank_2\n",
      "name                                                             \n",
      "Alice     24     64         1         0         0       0       1\n",
      "Bob       42     92         0         0         0       1       0\n",
      "Charlie   18     70         0         0         1       1       0\n",
      "Dave      68     70         0         1         1       0       0\n",
      "Ellen     24     88         0         0         0       0       1\n",
      "Frank     30     57         1         0         1       0       0\n"
     ]
    }
   ],
   "source": [
    "df['rank'] = df['rank'].astype(object)\n",
    "print(pd.get_dummies(df, drop_first=True))"
   ]
  },
  {
   "cell_type": "code",
   "execution_count": 17,
   "metadata": {},
   "outputs": [
    {
     "name": "stdout",
     "output_type": "stream",
     "text": [
      "name\n",
      "Alice      1\n",
      "Bob        0\n",
      "Charlie    0\n",
      "Dave       2\n",
      "Ellen      0\n",
      "Frank      1\n",
      "Name: state, dtype: int64\n"
     ]
    }
   ],
   "source": [
    "print(df['state'].map({'CA': 0, 'NY': 1, 'TX': 2}))"
   ]
  },
  {
   "cell_type": "code",
   "execution_count": 18,
   "metadata": {},
   "outputs": [
    {
     "name": "stdout",
     "output_type": "stream",
     "text": [
      "         age  state  point     sex rank\n",
      "name                                   \n",
      "Alice     24      1     64  female    2\n",
      "Bob       42      0     92     NaN    1\n",
      "Charlie   18      0     70    male    1\n",
      "Dave      68      2     70    male    0\n",
      "Ellen     24      0     88  female    2\n",
      "Frank     30      1     57    male    0\n"
     ]
    }
   ],
   "source": [
    "df['state'] = df['state'].map({'CA': 0, 'NY': 1, 'TX': 2})\n",
    "print(df)"
   ]
  }
 ],
 "metadata": {
  "kernelspec": {
   "display_name": "Python 3",
   "language": "python",
   "name": "python3"
  },
  "language_info": {
   "codemirror_mode": {
    "name": "ipython",
    "version": 3
   },
   "file_extension": ".py",
   "mimetype": "text/x-python",
   "name": "python",
   "nbconvert_exporter": "python",
   "pygments_lexer": "ipython3",
   "version": "3.6.5"
  }
 },
 "nbformat": 4,
 "nbformat_minor": 2
}
