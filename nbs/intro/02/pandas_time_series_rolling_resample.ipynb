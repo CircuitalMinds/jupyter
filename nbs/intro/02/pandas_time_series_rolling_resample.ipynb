{
 "cells": [
  {
   "cell_type": "code",
   "execution_count": 1,
   "metadata": {},
   "outputs": [],
   "source": [
    "import pandas as pd"
   ]
  },
  {
   "cell_type": "code",
   "execution_count": 2,
   "metadata": {},
   "outputs": [],
   "source": [
    "df = pd.DataFrame({'value': range(1, 32, 2)},\n",
    "                  index=pd.date_range('2018-01-01', '2018-01-31', freq='2D'))"
   ]
  },
  {
   "cell_type": "code",
   "execution_count": 3,
   "metadata": {},
   "outputs": [
    {
     "name": "stdout",
     "output_type": "stream",
     "text": [
      "            value\n",
      "2018-01-01      1\n",
      "2018-01-03      3\n",
      "2018-01-05      5\n",
      "2018-01-07      7\n",
      "2018-01-09      9\n",
      "2018-01-11     11\n",
      "2018-01-13     13\n",
      "2018-01-15     15\n",
      "2018-01-17     17\n",
      "2018-01-19     19\n",
      "2018-01-21     21\n",
      "2018-01-23     23\n",
      "2018-01-25     25\n",
      "2018-01-27     27\n",
      "2018-01-29     29\n",
      "2018-01-31     31\n"
     ]
    }
   ],
   "source": [
    "print(df)"
   ]
  },
  {
   "cell_type": "code",
   "execution_count": 4,
   "metadata": {},
   "outputs": [
    {
     "name": "stdout",
     "output_type": "stream",
     "text": [
      "            value\n",
      "2018-01-01    NaN\n",
      "2018-01-03    NaN\n",
      "2018-01-05    NaN\n",
      "2018-01-07    NaN\n",
      "2018-01-09    5.0\n",
      "2018-01-11    7.0\n",
      "2018-01-13    9.0\n",
      "2018-01-15   11.0\n",
      "2018-01-17   13.0\n",
      "2018-01-19   15.0\n",
      "2018-01-21   17.0\n",
      "2018-01-23   19.0\n",
      "2018-01-25   21.0\n",
      "2018-01-27   23.0\n",
      "2018-01-29   25.0\n",
      "2018-01-31   27.0\n"
     ]
    }
   ],
   "source": [
    "print(df.rolling(5).mean())"
   ]
  },
  {
   "cell_type": "code",
   "execution_count": 5,
   "metadata": {},
   "outputs": [
    {
     "name": "stdout",
     "output_type": "stream",
     "text": [
      "            value\n",
      "2018-01-01    1.0\n",
      "2018-01-03    2.0\n",
      "2018-01-05    3.0\n",
      "2018-01-07    5.0\n",
      "2018-01-09    7.0\n",
      "2018-01-11    9.0\n",
      "2018-01-13   11.0\n",
      "2018-01-15   13.0\n",
      "2018-01-17   15.0\n",
      "2018-01-19   17.0\n",
      "2018-01-21   19.0\n",
      "2018-01-23   21.0\n",
      "2018-01-25   23.0\n",
      "2018-01-27   25.0\n",
      "2018-01-29   27.0\n",
      "2018-01-31   29.0\n"
     ]
    }
   ],
   "source": [
    "print(df.rolling('5D').mean())"
   ]
  },
  {
   "cell_type": "code",
   "execution_count": 6,
   "metadata": {},
   "outputs": [
    {
     "name": "stdout",
     "output_type": "stream",
     "text": [
      "            value\n",
      "2018-01-01      3\n",
      "2018-01-06      8\n",
      "2018-01-11     13\n",
      "2018-01-16     18\n",
      "2018-01-21     23\n",
      "2018-01-26     28\n",
      "2018-01-31     31\n"
     ]
    }
   ],
   "source": [
    "print(df.resample('5D').mean())"
   ]
  }
 ],
 "metadata": {
  "kernelspec": {
   "display_name": "Python 3",
   "language": "python",
   "name": "python3"
  },
  "language_info": {
   "codemirror_mode": {
    "name": "ipython",
    "version": 3
   },
   "file_extension": ".py",
   "mimetype": "text/x-python",
   "name": "python",
   "nbconvert_exporter": "python",
   "pygments_lexer": "ipython3",
   "version": "3.7.0"
  }
 },
 "nbformat": 4,
 "nbformat_minor": 2
}
