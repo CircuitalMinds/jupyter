{
 "cells": [
  {
   "cell_type": "code",
   "execution_count": 1,
   "metadata": {},
   "outputs": [],
   "source": [
    "import pandas as pd"
   ]
  },
  {
   "cell_type": "code",
   "execution_count": 2,
   "metadata": {},
   "outputs": [],
   "source": [
    "df = pd.DataFrame({'a': range(1, 6),\n",
    "                   'b': [x**2 for x in range(1, 6)],\n",
    "                   'c': [x**3 for x in range(1, 6)]})"
   ]
  },
  {
   "cell_type": "code",
   "execution_count": 3,
   "metadata": {},
   "outputs": [
    {
     "name": "stdout",
     "output_type": "stream",
     "text": [
      "   a   b    c\n",
      "0  1   1    1\n",
      "1  2   4    8\n",
      "2  3   9   27\n",
      "3  4  16   64\n",
      "4  5  25  125\n"
     ]
    }
   ],
   "source": [
    "print(df)"
   ]
  },
  {
   "cell_type": "code",
   "execution_count": 4,
   "metadata": {},
   "outputs": [
    {
     "name": "stdout",
     "output_type": "stream",
     "text": [
      "     a     b     c\n",
      "0  NaN   NaN   NaN\n",
      "1  1.0   1.0   1.0\n",
      "2  2.0   4.0   8.0\n",
      "3  3.0   9.0  27.0\n",
      "4  4.0  16.0  64.0\n"
     ]
    }
   ],
   "source": [
    "print(df.shift())"
   ]
  },
  {
   "cell_type": "code",
   "execution_count": 5,
   "metadata": {},
   "outputs": [
    {
     "name": "stdout",
     "output_type": "stream",
     "text": [
      "     a     b     c\n",
      "0  NaN   NaN   NaN\n",
      "1  1.0   1.0   1.0\n",
      "2  2.0   4.0   8.0\n",
      "3  3.0   9.0  27.0\n",
      "4  4.0  16.0  64.0\n"
     ]
    }
   ],
   "source": [
    "print(df.shift(1))"
   ]
  },
  {
   "cell_type": "code",
   "execution_count": 6,
   "metadata": {},
   "outputs": [
    {
     "name": "stdout",
     "output_type": "stream",
     "text": [
      "     a    b     c\n",
      "0  NaN  NaN   NaN\n",
      "1  NaN  NaN   NaN\n",
      "2  1.0  1.0   1.0\n",
      "3  2.0  4.0   8.0\n",
      "4  3.0  9.0  27.0\n"
     ]
    }
   ],
   "source": [
    "print(df.shift(2))"
   ]
  },
  {
   "cell_type": "code",
   "execution_count": 7,
   "metadata": {},
   "outputs": [
    {
     "name": "stdout",
     "output_type": "stream",
     "text": [
      "     a     b      c\n",
      "0  2.0   4.0    8.0\n",
      "1  3.0   9.0   27.0\n",
      "2  4.0  16.0   64.0\n",
      "3  5.0  25.0  125.0\n",
      "4  NaN   NaN    NaN\n"
     ]
    }
   ],
   "source": [
    "print(df.shift(-1))"
   ]
  },
  {
   "cell_type": "code",
   "execution_count": 8,
   "metadata": {},
   "outputs": [
    {
     "name": "stdout",
     "output_type": "stream",
     "text": [
      "    a    b     c\n",
      "0 NaN  1.0   1.0\n",
      "1 NaN  2.0   4.0\n",
      "2 NaN  3.0   9.0\n",
      "3 NaN  4.0  16.0\n",
      "4 NaN  5.0  25.0\n"
     ]
    }
   ],
   "source": [
    "print(df.shift(axis=1))"
   ]
  },
  {
   "cell_type": "code",
   "execution_count": 9,
   "metadata": {},
   "outputs": [
    {
     "name": "stdout",
     "output_type": "stream",
     "text": [
      "      a      b   c\n",
      "0   1.0    1.0 NaN\n",
      "1   4.0    8.0 NaN\n",
      "2   9.0   27.0 NaN\n",
      "3  16.0   64.0 NaN\n",
      "4  25.0  125.0 NaN\n"
     ]
    }
   ],
   "source": [
    "print(df.shift(-1, axis=1))"
   ]
  }
 ],
 "metadata": {
  "kernelspec": {
   "display_name": "Python 3",
   "language": "python",
   "name": "python3"
  },
  "language_info": {
   "codemirror_mode": {
    "name": "ipython",
    "version": 3
   },
   "file_extension": ".py",
   "mimetype": "text/x-python",
   "name": "python",
   "nbconvert_exporter": "python",
   "pygments_lexer": "ipython3",
   "version": "3.7.0"
  }
 },
 "nbformat": 4,
 "nbformat_minor": 2
}
