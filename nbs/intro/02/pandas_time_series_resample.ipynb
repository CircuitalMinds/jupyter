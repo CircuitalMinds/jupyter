{
 "cells": [
  {
   "cell_type": "code",
   "execution_count": 1,
   "metadata": {},
   "outputs": [],
   "source": [
    "import pandas as pd"
   ]
  },
  {
   "cell_type": "code",
   "execution_count": 2,
   "metadata": {},
   "outputs": [],
   "source": [
    "df = pd.DataFrame({'value': range(1, 32, 2)},\n",
    "                  index=pd.date_range('2018-08-01', '2018-08-31', freq='2D'))"
   ]
  },
  {
   "cell_type": "code",
   "execution_count": 3,
   "metadata": {},
   "outputs": [
    {
     "name": "stdout",
     "output_type": "stream",
     "text": [
      "            value\n",
      "2018-08-01      1\n",
      "2018-08-03      3\n",
      "2018-08-05      5\n",
      "2018-08-07      7\n",
      "2018-08-09      9\n",
      "2018-08-11     11\n",
      "2018-08-13     13\n",
      "2018-08-15     15\n",
      "2018-08-17     17\n",
      "2018-08-19     19\n",
      "2018-08-21     21\n",
      "2018-08-23     23\n",
      "2018-08-25     25\n",
      "2018-08-27     27\n",
      "2018-08-29     29\n",
      "2018-08-31     31\n"
     ]
    }
   ],
   "source": [
    "print(df)"
   ]
  },
  {
   "cell_type": "code",
   "execution_count": 4,
   "metadata": {},
   "outputs": [
    {
     "name": "stdout",
     "output_type": "stream",
     "text": [
      "DatetimeIndexResampler [freq=<Week: weekday=6>, axis=0, closed=right, label=right, convention=start, base=0]\n"
     ]
    }
   ],
   "source": [
    "print(df.resample('W'))"
   ]
  },
  {
   "cell_type": "code",
   "execution_count": 5,
   "metadata": {},
   "outputs": [
    {
     "name": "stdout",
     "output_type": "stream",
     "text": [
      "<class 'pandas.core.resample.DatetimeIndexResampler'>\n"
     ]
    }
   ],
   "source": [
    "print(type(df.resample('W')))"
   ]
  },
  {
   "cell_type": "code",
   "execution_count": 6,
   "metadata": {},
   "outputs": [
    {
     "name": "stdout",
     "output_type": "stream",
     "text": [
      "            value\n",
      "2018-08-05      3\n",
      "2018-08-12      9\n",
      "2018-08-19     16\n",
      "2018-08-26     23\n",
      "2018-09-02     29\n"
     ]
    }
   ],
   "source": [
    "print(df.resample('W').mean())"
   ]
  },
  {
   "cell_type": "code",
   "execution_count": 7,
   "metadata": {},
   "outputs": [
    {
     "name": "stdout",
     "output_type": "stream",
     "text": [
      "            value\n",
      "2018-08-05      3\n",
      "2018-08-12      9\n",
      "2018-08-19     16\n",
      "2018-08-26     23\n",
      "2018-09-02     29\n"
     ]
    }
   ],
   "source": [
    "print(df.resample('W').median())"
   ]
  },
  {
   "cell_type": "code",
   "execution_count": 8,
   "metadata": {},
   "outputs": [
    {
     "name": "stdout",
     "output_type": "stream",
     "text": [
      "            value\n",
      "2018-08-05      9\n",
      "2018-08-12     27\n",
      "2018-08-19     64\n",
      "2018-08-26     69\n",
      "2018-09-02     87\n"
     ]
    }
   ],
   "source": [
    "print(df.resample('W').sum())"
   ]
  },
  {
   "cell_type": "code",
   "execution_count": 9,
   "metadata": {},
   "outputs": [
    {
     "name": "stdout",
     "output_type": "stream",
     "text": [
      "            value\n",
      "2018-08-05      1\n",
      "2018-08-12      7\n",
      "2018-08-19     13\n",
      "2018-08-26     21\n",
      "2018-09-02     27\n"
     ]
    }
   ],
   "source": [
    "print(df.resample('W').first())"
   ]
  },
  {
   "cell_type": "code",
   "execution_count": 10,
   "metadata": {},
   "outputs": [
    {
     "name": "stdout",
     "output_type": "stream",
     "text": [
      "            value\n",
      "2018-08-05      5\n",
      "2018-08-12     11\n",
      "2018-08-19     19\n",
      "2018-08-26     25\n",
      "2018-09-02     31\n"
     ]
    }
   ],
   "source": [
    "print(df.resample('W').last())"
   ]
  },
  {
   "cell_type": "code",
   "execution_count": 11,
   "metadata": {},
   "outputs": [
    {
     "name": "stdout",
     "output_type": "stream",
     "text": [
      "            value\n",
      "2018-08-05      3\n",
      "2018-08-12      3\n",
      "2018-08-19      4\n",
      "2018-08-26      3\n",
      "2018-09-02      3\n"
     ]
    }
   ],
   "source": [
    "print(df.resample('W').count())"
   ]
  },
  {
   "cell_type": "code",
   "execution_count": 12,
   "metadata": {
    "scrolled": true
   },
   "outputs": [
    {
     "name": "stdout",
     "output_type": "stream",
     "text": [
      "           value               \n",
      "            open high low close\n",
      "2018-08-05     1    5   1     5\n",
      "2018-08-12     7   11   7    11\n",
      "2018-08-19    13   19  13    19\n",
      "2018-08-26    21   25  21    25\n",
      "2018-09-02    27   31  27    31\n"
     ]
    }
   ],
   "source": [
    "print(df.resample('W').ohlc())"
   ]
  },
  {
   "cell_type": "code",
   "execution_count": 13,
   "metadata": {},
   "outputs": [
    {
     "name": "stdout",
     "output_type": "stream",
     "text": [
      "                       value\n",
      "2018-08-05         [1, 3, 5]\n",
      "2018-08-12        [7, 9, 11]\n",
      "2018-08-19  [13, 15, 17, 19]\n",
      "2018-08-26      [21, 23, 25]\n",
      "2018-09-02      [27, 29, 31]\n"
     ]
    }
   ],
   "source": [
    "print(df.resample('W').apply(list))"
   ]
  },
  {
   "cell_type": "code",
   "execution_count": 14,
   "metadata": {},
   "outputs": [
    {
     "name": "stdout",
     "output_type": "stream",
     "text": [
      "           value        \n",
      "             min max sum\n",
      "2018-08-05     1   5   9\n",
      "2018-08-12     7  11  27\n",
      "2018-08-19    13  19  64\n",
      "2018-08-26    21  25  69\n",
      "2018-09-02    27  31  87\n"
     ]
    }
   ],
   "source": [
    "print(df.resample('W').agg(['min', 'max', 'sum']))"
   ]
  },
  {
   "cell_type": "code",
   "execution_count": 15,
   "metadata": {},
   "outputs": [
    {
     "name": "stdout",
     "output_type": "stream",
     "text": [
      "                       value\n",
      "2018-08-05         [1, 3, 5]\n",
      "2018-08-12        [7, 9, 11]\n",
      "2018-08-19  [13, 15, 17, 19]\n",
      "2018-08-26      [21, 23, 25]\n",
      "2018-09-02      [27, 29, 31]\n"
     ]
    }
   ],
   "source": [
    "print(df.resample('W').apply(list))"
   ]
  },
  {
   "cell_type": "code",
   "execution_count": 16,
   "metadata": {},
   "outputs": [
    {
     "name": "stdout",
     "output_type": "stream",
     "text": [
      "                       value\n",
      "2018-07-29         [1, 3, 5]\n",
      "2018-08-05        [7, 9, 11]\n",
      "2018-08-12  [13, 15, 17, 19]\n",
      "2018-08-19      [21, 23, 25]\n",
      "2018-08-26      [27, 29, 31]\n"
     ]
    }
   ],
   "source": [
    "print(df.resample('W', label='left').apply(list))"
   ]
  },
  {
   "cell_type": "code",
   "execution_count": 17,
   "metadata": {},
   "outputs": [
    {
     "name": "stdout",
     "output_type": "stream",
     "text": [
      "                       value\n",
      "2018-07-29            [1, 3]\n",
      "2018-08-05     [5, 7, 9, 11]\n",
      "2018-08-12      [13, 15, 17]\n",
      "2018-08-19  [19, 21, 23, 25]\n",
      "2018-08-26      [27, 29, 31]\n"
     ]
    }
   ],
   "source": [
    "print(df.resample('W', label='left', closed='left').apply(list))"
   ]
  },
  {
   "cell_type": "code",
   "execution_count": 18,
   "metadata": {},
   "outputs": [
    {
     "name": "stdout",
     "output_type": "stream",
     "text": [
      "        index  value\n",
      "0  2018-08-01      1\n",
      "1  2018-08-03      3\n",
      "2  2018-08-05      5\n",
      "3  2018-08-07      7\n",
      "4  2018-08-09      9\n",
      "5  2018-08-11     11\n",
      "6  2018-08-13     13\n",
      "7  2018-08-15     15\n",
      "8  2018-08-17     17\n",
      "9  2018-08-19     19\n",
      "10 2018-08-21     21\n",
      "11 2018-08-23     23\n",
      "12 2018-08-25     25\n",
      "13 2018-08-27     27\n",
      "14 2018-08-29     29\n",
      "15 2018-08-31     31\n"
     ]
    }
   ],
   "source": [
    "df_reset = df.reset_index()\n",
    "print(df_reset)"
   ]
  },
  {
   "cell_type": "code",
   "execution_count": 19,
   "metadata": {},
   "outputs": [
    {
     "name": "stdout",
     "output_type": "stream",
     "text": [
      "            value\n",
      "index            \n",
      "2018-08-05      9\n",
      "2018-08-12     27\n",
      "2018-08-19     64\n",
      "2018-08-26     69\n",
      "2018-09-02     87\n"
     ]
    }
   ],
   "source": [
    "print(df_reset.resample('W', on='index').sum())"
   ]
  }
 ],
 "metadata": {
  "kernelspec": {
   "display_name": "Python 3",
   "language": "python",
   "name": "python3"
  },
  "language_info": {
   "codemirror_mode": {
    "name": "ipython",
    "version": 3
   },
   "file_extension": ".py",
   "mimetype": "text/x-python",
   "name": "python",
   "nbconvert_exporter": "python",
   "pygments_lexer": "ipython3",
   "version": "3.7.7"
  }
 },
 "nbformat": 4,
 "nbformat_minor": 2
}
