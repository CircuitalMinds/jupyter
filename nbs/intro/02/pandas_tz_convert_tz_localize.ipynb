{
 "cells": [
  {
   "cell_type": "code",
   "execution_count": 1,
   "metadata": {},
   "outputs": [],
   "source": [
    "import pandas as pd"
   ]
  },
  {
   "cell_type": "code",
   "execution_count": 2,
   "metadata": {},
   "outputs": [
    {
     "name": "stdout",
     "output_type": "stream",
     "text": [
      "2018-01-01T12:00+09:00\n"
     ]
    }
   ],
   "source": [
    "s = '2018-01-01T12:00+09:00'\n",
    "print(s)"
   ]
  },
  {
   "cell_type": "code",
   "execution_count": 3,
   "metadata": {},
   "outputs": [
    {
     "name": "stdout",
     "output_type": "stream",
     "text": [
      "<class 'str'>\n"
     ]
    }
   ],
   "source": [
    "print(type(s))"
   ]
  },
  {
   "cell_type": "code",
   "execution_count": 4,
   "metadata": {},
   "outputs": [
    {
     "name": "stdout",
     "output_type": "stream",
     "text": [
      "2018-01-01 12:00:00+09:00\n"
     ]
    }
   ],
   "source": [
    "ts = pd.to_datetime(s)\n",
    "print(ts)"
   ]
  },
  {
   "cell_type": "code",
   "execution_count": 5,
   "metadata": {},
   "outputs": [
    {
     "name": "stdout",
     "output_type": "stream",
     "text": [
      "<class 'pandas._libs.tslibs.timestamps.Timestamp'>\n"
     ]
    }
   ],
   "source": [
    "print(type(ts))"
   ]
  },
  {
   "cell_type": "code",
   "execution_count": 6,
   "metadata": {},
   "outputs": [
    {
     "name": "stdout",
     "output_type": "stream",
     "text": [
      "pytz.FixedOffset(540)\n"
     ]
    }
   ],
   "source": [
    "print(ts.tz)"
   ]
  },
  {
   "cell_type": "code",
   "execution_count": 7,
   "metadata": {},
   "outputs": [
    {
     "name": "stdout",
     "output_type": "stream",
     "text": [
      "2018-01-01 03:00:00+00:00\n"
     ]
    }
   ],
   "source": [
    "ts_utc = pd.to_datetime(s, utc=True)\n",
    "print(ts_utc)"
   ]
  },
  {
   "cell_type": "code",
   "execution_count": 8,
   "metadata": {},
   "outputs": [
    {
     "name": "stdout",
     "output_type": "stream",
     "text": [
      "UTC\n"
     ]
    }
   ],
   "source": [
    "print(ts_utc.tz)"
   ]
  },
  {
   "cell_type": "code",
   "execution_count": 9,
   "metadata": {},
   "outputs": [],
   "source": [
    "s_without_tz = '2018-01-01T12:00'"
   ]
  },
  {
   "cell_type": "code",
   "execution_count": 10,
   "metadata": {},
   "outputs": [
    {
     "name": "stdout",
     "output_type": "stream",
     "text": [
      "2018-01-01 12:00:00\n"
     ]
    }
   ],
   "source": [
    "ts_naive = pd.to_datetime(s_without_tz)\n",
    "print(ts_naive)"
   ]
  },
  {
   "cell_type": "code",
   "execution_count": 11,
   "metadata": {},
   "outputs": [
    {
     "name": "stdout",
     "output_type": "stream",
     "text": [
      "None\n"
     ]
    }
   ],
   "source": [
    "print(ts_naive.tz)"
   ]
  },
  {
   "cell_type": "code",
   "execution_count": 12,
   "metadata": {},
   "outputs": [
    {
     "name": "stdout",
     "output_type": "stream",
     "text": [
      "2018-01-01 12:00:00+00:00\n"
     ]
    }
   ],
   "source": [
    "ts_set_utc = pd.to_datetime(s_without_tz, utc=True)\n",
    "print(ts_set_utc)"
   ]
  },
  {
   "cell_type": "code",
   "execution_count": 13,
   "metadata": {},
   "outputs": [
    {
     "name": "stdout",
     "output_type": "stream",
     "text": [
      "UTC\n"
     ]
    }
   ],
   "source": [
    "print(ts_set_utc.tz)"
   ]
  },
  {
   "cell_type": "code",
   "execution_count": 14,
   "metadata": {},
   "outputs": [
    {
     "name": "stdout",
     "output_type": "stream",
     "text": [
      "2018-01-01 03:00:00+00:00\n"
     ]
    }
   ],
   "source": [
    "print(ts_utc)"
   ]
  },
  {
   "cell_type": "code",
   "execution_count": 15,
   "metadata": {},
   "outputs": [
    {
     "name": "stdout",
     "output_type": "stream",
     "text": [
      "UTC\n"
     ]
    }
   ],
   "source": [
    "print(ts_utc.tz)"
   ]
  },
  {
   "cell_type": "code",
   "execution_count": 16,
   "metadata": {},
   "outputs": [
    {
     "name": "stdout",
     "output_type": "stream",
     "text": [
      "2018-01-01 12:00:00+09:00\n"
     ]
    }
   ],
   "source": [
    "ts_jst = ts_utc.tz_convert('Asia/Tokyo')\n",
    "print(ts_jst)"
   ]
  },
  {
   "cell_type": "code",
   "execution_count": 17,
   "metadata": {},
   "outputs": [
    {
     "name": "stdout",
     "output_type": "stream",
     "text": [
      "Asia/Tokyo\n"
     ]
    }
   ],
   "source": [
    "print(ts_jst.tz)"
   ]
  },
  {
   "cell_type": "code",
   "execution_count": 18,
   "metadata": {},
   "outputs": [
    {
     "name": "stdout",
     "output_type": "stream",
     "text": [
      "1514775600000000000\n"
     ]
    }
   ],
   "source": [
    "print(ts_utc.value)"
   ]
  },
  {
   "cell_type": "code",
   "execution_count": 19,
   "metadata": {},
   "outputs": [
    {
     "name": "stdout",
     "output_type": "stream",
     "text": [
      "1514775600000000000\n"
     ]
    }
   ],
   "source": [
    "print(ts_jst.value)"
   ]
  },
  {
   "cell_type": "code",
   "execution_count": 20,
   "metadata": {},
   "outputs": [
    {
     "name": "stdout",
     "output_type": "stream",
     "text": [
      "True\n"
     ]
    }
   ],
   "source": [
    "print(ts_utc == ts_jst)"
   ]
  },
  {
   "cell_type": "code",
   "execution_count": 21,
   "metadata": {},
   "outputs": [
    {
     "name": "stdout",
     "output_type": "stream",
     "text": [
      "2017-12-31 19:00:00-08:00\n"
     ]
    }
   ],
   "source": [
    "ts_pst = ts_utc.tz_convert('US/Pacific')\n",
    "print(ts_pst)"
   ]
  },
  {
   "cell_type": "code",
   "execution_count": 22,
   "metadata": {},
   "outputs": [
    {
     "name": "stdout",
     "output_type": "stream",
     "text": [
      "US/Pacific\n"
     ]
    }
   ],
   "source": [
    "print(ts_pst.tz)"
   ]
  },
  {
   "cell_type": "code",
   "execution_count": 23,
   "metadata": {},
   "outputs": [
    {
     "name": "stdout",
     "output_type": "stream",
     "text": [
      "2017-12-31 19:00:00-08:00\n"
     ]
    }
   ],
   "source": [
    "print(ts_utc.tz_convert('America/Los_Angeles'))"
   ]
  },
  {
   "cell_type": "code",
   "execution_count": 24,
   "metadata": {},
   "outputs": [
    {
     "name": "stdout",
     "output_type": "stream",
     "text": [
      "2017-12-31 19:00:00-08:00\n"
     ]
    }
   ],
   "source": [
    "print(ts_utc.tz_convert('America/Vancouver'))"
   ]
  },
  {
   "cell_type": "code",
   "execution_count": 25,
   "metadata": {},
   "outputs": [
    {
     "name": "stdout",
     "output_type": "stream",
     "text": [
      "2018-01-01 12:00:00\n"
     ]
    }
   ],
   "source": [
    "print(ts_naive)"
   ]
  },
  {
   "cell_type": "code",
   "execution_count": 26,
   "metadata": {},
   "outputs": [
    {
     "name": "stdout",
     "output_type": "stream",
     "text": [
      "None\n"
     ]
    }
   ],
   "source": [
    "print(ts_naive.tz)"
   ]
  },
  {
   "cell_type": "code",
   "execution_count": 27,
   "metadata": {},
   "outputs": [],
   "source": [
    "# print(ts_naive.tz_convert('Asia/Tokyo'))\n",
    "# TypeError: Cannot convert tz-naive Timestamp, use tz_localize to localize"
   ]
  },
  {
   "cell_type": "code",
   "execution_count": 28,
   "metadata": {},
   "outputs": [
    {
     "name": "stdout",
     "output_type": "stream",
     "text": [
      "2018-01-01 12:00:00+09:00\n"
     ]
    }
   ],
   "source": [
    "ts_jst_localize = ts_naive.tz_localize('Asia/Tokyo')\n",
    "print(ts_jst_localize)"
   ]
  },
  {
   "cell_type": "code",
   "execution_count": 29,
   "metadata": {},
   "outputs": [
    {
     "name": "stdout",
     "output_type": "stream",
     "text": [
      "Asia/Tokyo\n"
     ]
    }
   ],
   "source": [
    "print(ts_jst_localize.tz)"
   ]
  },
  {
   "cell_type": "code",
   "execution_count": 30,
   "metadata": {},
   "outputs": [
    {
     "name": "stdout",
     "output_type": "stream",
     "text": [
      "2018-01-01 12:00:00-08:00\n"
     ]
    }
   ],
   "source": [
    "print(ts_naive.tz_localize('US/Pacific'))"
   ]
  },
  {
   "cell_type": "code",
   "execution_count": 31,
   "metadata": {},
   "outputs": [
    {
     "name": "stdout",
     "output_type": "stream",
     "text": [
      "False\n"
     ]
    }
   ],
   "source": [
    "print(ts_naive.tz_localize('Asia/Tokyo') == ts_naive.tz_localize('US/Pacific'))"
   ]
  },
  {
   "cell_type": "code",
   "execution_count": 32,
   "metadata": {},
   "outputs": [
    {
     "name": "stdout",
     "output_type": "stream",
     "text": [
      "2018-01-01 12:00:00+09:00\n"
     ]
    }
   ],
   "source": [
    "print(ts_jst)"
   ]
  },
  {
   "cell_type": "code",
   "execution_count": 33,
   "metadata": {},
   "outputs": [
    {
     "name": "stdout",
     "output_type": "stream",
     "text": [
      "Asia/Tokyo\n"
     ]
    }
   ],
   "source": [
    "print(ts_jst.tz)"
   ]
  },
  {
   "cell_type": "code",
   "execution_count": 34,
   "metadata": {},
   "outputs": [],
   "source": [
    "# print(ts_jst.tz_localize('US/Pacific'))\n",
    "# TypeError: Cannot localize tz-aware Timestamp, use tz_convert for conversions"
   ]
  },
  {
   "cell_type": "code",
   "execution_count": 35,
   "metadata": {},
   "outputs": [
    {
     "name": "stdout",
     "output_type": "stream",
     "text": [
      "2018-01-01 12:00:00+09:00\n"
     ]
    }
   ],
   "source": [
    "print(ts_jst)"
   ]
  },
  {
   "cell_type": "code",
   "execution_count": 36,
   "metadata": {},
   "outputs": [
    {
     "name": "stdout",
     "output_type": "stream",
     "text": [
      "Asia/Tokyo\n"
     ]
    }
   ],
   "source": [
    "print(ts_jst.tz)"
   ]
  },
  {
   "cell_type": "code",
   "execution_count": 37,
   "metadata": {},
   "outputs": [
    {
     "name": "stdout",
     "output_type": "stream",
     "text": [
      "2018-01-01 03:00:00\n"
     ]
    }
   ],
   "source": [
    "print(ts_jst.tz_convert(None))"
   ]
  },
  {
   "cell_type": "code",
   "execution_count": 38,
   "metadata": {},
   "outputs": [
    {
     "name": "stdout",
     "output_type": "stream",
     "text": [
      "2018-01-01 12:00:00\n"
     ]
    }
   ],
   "source": [
    "print(ts_jst.tz_localize(None))"
   ]
  },
  {
   "cell_type": "code",
   "execution_count": 39,
   "metadata": {},
   "outputs": [],
   "source": [
    "df = pd.DataFrame({'date': ['2018-01-01T12:00',\n",
    "                            '2018-01-02T00:00',\n",
    "                            '2018-01-03T10:00',\n",
    "                            '2018-01-03T19:00'],\n",
    "                   'value': ['A', 'B', 'C', 'D']})"
   ]
  },
  {
   "cell_type": "code",
   "execution_count": 40,
   "metadata": {},
   "outputs": [
    {
     "name": "stdout",
     "output_type": "stream",
     "text": [
      "               date value\n",
      "0  2018-01-01T12:00     A\n",
      "1  2018-01-02T00:00     B\n",
      "2  2018-01-03T10:00     C\n",
      "3  2018-01-03T19:00     D\n"
     ]
    }
   ],
   "source": [
    "print(df)"
   ]
  },
  {
   "cell_type": "code",
   "execution_count": 41,
   "metadata": {},
   "outputs": [
    {
     "name": "stdout",
     "output_type": "stream",
     "text": [
      "0   2018-01-01 12:00:00\n",
      "1   2018-01-02 00:00:00\n",
      "2   2018-01-03 10:00:00\n",
      "3   2018-01-03 19:00:00\n",
      "Name: date, dtype: datetime64[ns]\n"
     ]
    }
   ],
   "source": [
    "s_naive = pd.to_datetime(df['date'])\n",
    "print(s_naive)"
   ]
  },
  {
   "cell_type": "code",
   "execution_count": 42,
   "metadata": {},
   "outputs": [
    {
     "name": "stdout",
     "output_type": "stream",
     "text": [
      "2018-01-01 12:00:00\n"
     ]
    }
   ],
   "source": [
    "print(s_naive[0])"
   ]
  },
  {
   "cell_type": "code",
   "execution_count": 43,
   "metadata": {},
   "outputs": [
    {
     "name": "stdout",
     "output_type": "stream",
     "text": [
      "<class 'pandas._libs.tslibs.timestamps.Timestamp'>\n"
     ]
    }
   ],
   "source": [
    "print(type(s_naive[0]))"
   ]
  },
  {
   "cell_type": "code",
   "execution_count": 44,
   "metadata": {},
   "outputs": [
    {
     "name": "stdout",
     "output_type": "stream",
     "text": [
      "None\n"
     ]
    }
   ],
   "source": [
    "print(s_naive[0].tz)"
   ]
  },
  {
   "cell_type": "code",
   "execution_count": 45,
   "metadata": {},
   "outputs": [
    {
     "name": "stdout",
     "output_type": "stream",
     "text": [
      "0   2018-01-01 12:00:00+00:00\n",
      "1   2018-01-02 00:00:00+00:00\n",
      "2   2018-01-03 10:00:00+00:00\n",
      "3   2018-01-03 19:00:00+00:00\n",
      "Name: date, dtype: datetime64[ns, UTC]\n"
     ]
    }
   ],
   "source": [
    "s_utc = pd.to_datetime(df['date'], utc=True)\n",
    "print(s_utc)"
   ]
  },
  {
   "cell_type": "code",
   "execution_count": 46,
   "metadata": {},
   "outputs": [
    {
     "name": "stdout",
     "output_type": "stream",
     "text": [
      "UTC\n"
     ]
    }
   ],
   "source": [
    "print(s_utc[0].tz)"
   ]
  },
  {
   "cell_type": "code",
   "execution_count": 47,
   "metadata": {},
   "outputs": [],
   "source": [
    "# print(s_naive.tz_localize('Asia/Tokyo'))\n",
    "# TypeError: index is not a valid DatetimeIndex or PeriodIndex"
   ]
  },
  {
   "cell_type": "code",
   "execution_count": 48,
   "metadata": {},
   "outputs": [],
   "source": [
    "# print(s_utc.tz_convert('Asia/Tokyo'))\n",
    "# TypeError: index is not a valid DatetimeIndex or PeriodIndex"
   ]
  },
  {
   "cell_type": "code",
   "execution_count": 49,
   "metadata": {},
   "outputs": [
    {
     "name": "stdout",
     "output_type": "stream",
     "text": [
      "0   2018-01-01 12:00:00+09:00\n",
      "1   2018-01-02 00:00:00+09:00\n",
      "2   2018-01-03 10:00:00+09:00\n",
      "3   2018-01-03 19:00:00+09:00\n",
      "Name: date, dtype: datetime64[ns, Asia/Tokyo]\n"
     ]
    }
   ],
   "source": [
    "print(s_naive.dt.tz_localize('Asia/Tokyo'))"
   ]
  },
  {
   "cell_type": "code",
   "execution_count": 50,
   "metadata": {},
   "outputs": [
    {
     "name": "stdout",
     "output_type": "stream",
     "text": [
      "0   2018-01-01 21:00:00+09:00\n",
      "1   2018-01-02 09:00:00+09:00\n",
      "2   2018-01-03 19:00:00+09:00\n",
      "3   2018-01-04 04:00:00+09:00\n",
      "Name: date, dtype: datetime64[ns, Asia/Tokyo]\n"
     ]
    }
   ],
   "source": [
    "print(s_utc.dt.tz_convert('Asia/Tokyo'))"
   ]
  },
  {
   "cell_type": "code",
   "execution_count": 51,
   "metadata": {},
   "outputs": [],
   "source": [
    "# print(s_naive.dt.tz_convert('Asia/Tokyo'))\n",
    "# TypeError: Cannot convert tz-naive timestamps, use tz_localize to localize"
   ]
  },
  {
   "cell_type": "code",
   "execution_count": 52,
   "metadata": {},
   "outputs": [],
   "source": [
    "# print(s_utc.dt.tz_localize('Asia/Tokyo'))\n",
    "# TypeError: Already tz-aware, use tz_convert to convert."
   ]
  },
  {
   "cell_type": "code",
   "execution_count": 53,
   "metadata": {},
   "outputs": [],
   "source": [
    "# print(df['date'].dt.tz_localize('Asia/Tokyo'))\n",
    "# AttributeError: Can only use .dt accessor with datetimelike values"
   ]
  },
  {
   "cell_type": "code",
   "execution_count": 54,
   "metadata": {},
   "outputs": [
    {
     "name": "stdout",
     "output_type": "stream",
     "text": [
      "                    value\n",
      "date                     \n",
      "2018-01-01 12:00:00     A\n",
      "2018-01-02 00:00:00     B\n",
      "2018-01-03 10:00:00     C\n",
      "2018-01-03 19:00:00     D\n"
     ]
    }
   ],
   "source": [
    "df['date'] = pd.to_datetime(df['date'])\n",
    "df_ts = df.set_index('date')\n",
    "print(df_ts)"
   ]
  },
  {
   "cell_type": "code",
   "execution_count": 55,
   "metadata": {},
   "outputs": [
    {
     "name": "stdout",
     "output_type": "stream",
     "text": [
      "DatetimeIndex(['2018-01-01 12:00:00', '2018-01-02 00:00:00',\n",
      "               '2018-01-03 10:00:00', '2018-01-03 19:00:00'],\n",
      "              dtype='datetime64[ns]', name='date', freq=None)\n"
     ]
    }
   ],
   "source": [
    "print(df_ts.index)"
   ]
  },
  {
   "cell_type": "code",
   "execution_count": 56,
   "metadata": {},
   "outputs": [
    {
     "name": "stdout",
     "output_type": "stream",
     "text": [
      "<class 'pandas.core.indexes.datetimes.DatetimeIndex'>\n"
     ]
    }
   ],
   "source": [
    "print(type(df_ts.index))"
   ]
  },
  {
   "cell_type": "code",
   "execution_count": 57,
   "metadata": {},
   "outputs": [
    {
     "name": "stdout",
     "output_type": "stream",
     "text": [
      "                    value\n",
      "date                     \n",
      "2018-01-03 10:00:00     C\n",
      "2018-01-03 19:00:00     D\n"
     ]
    }
   ],
   "source": [
    "print(df_ts['2018-01-03'])"
   ]
  },
  {
   "cell_type": "code",
   "execution_count": 58,
   "metadata": {},
   "outputs": [
    {
     "name": "stdout",
     "output_type": "stream",
     "text": [
      "DatetimeIndex(['2018-01-01 12:00:00+09:00', '2018-01-02 00:00:00+09:00',\n",
      "               '2018-01-03 10:00:00+09:00', '2018-01-03 19:00:00+09:00'],\n",
      "              dtype='datetime64[ns, Asia/Tokyo]', name='date', freq=None)\n"
     ]
    }
   ],
   "source": [
    "print(df_ts.index.tz_localize('Asia/Tokyo'))"
   ]
  },
  {
   "cell_type": "code",
   "execution_count": 59,
   "metadata": {},
   "outputs": [
    {
     "name": "stdout",
     "output_type": "stream",
     "text": [
      "                          value\n",
      "date                           \n",
      "2018-01-01 12:00:00+09:00     A\n",
      "2018-01-02 00:00:00+09:00     B\n",
      "2018-01-03 10:00:00+09:00     C\n",
      "2018-01-03 19:00:00+09:00     D\n"
     ]
    }
   ],
   "source": [
    "print(df_ts.tz_localize('Asia/Tokyo'))"
   ]
  },
  {
   "cell_type": "code",
   "execution_count": 60,
   "metadata": {},
   "outputs": [
    {
     "name": "stdout",
     "output_type": "stream",
     "text": [
      "date\n",
      "2018-01-01 12:00:00    A\n",
      "2018-01-02 00:00:00    B\n",
      "2018-01-03 10:00:00    C\n",
      "2018-01-03 19:00:00    D\n",
      "Name: value, dtype: object\n"
     ]
    }
   ],
   "source": [
    "s_ts = df_ts['value']\n",
    "print(s_ts)"
   ]
  },
  {
   "cell_type": "code",
   "execution_count": 61,
   "metadata": {},
   "outputs": [
    {
     "name": "stdout",
     "output_type": "stream",
     "text": [
      "date\n",
      "2018-01-01 12:00:00+09:00    A\n",
      "2018-01-02 00:00:00+09:00    B\n",
      "2018-01-03 10:00:00+09:00    C\n",
      "2018-01-03 19:00:00+09:00    D\n",
      "Name: value, dtype: object\n"
     ]
    }
   ],
   "source": [
    "print(s_ts.tz_localize('Asia/Tokyo'))"
   ]
  },
  {
   "cell_type": "code",
   "execution_count": 62,
   "metadata": {},
   "outputs": [],
   "source": [
    "df = pd.DataFrame({'date': ['2018-01-01T12:00+09:00',\n",
    "                            '2018-01-02T00:00+09:00',\n",
    "                            '2018-01-03T10:00+09:00',\n",
    "                            '2018-01-03T19:00+09:00'],\n",
    "                   'value': ['A', 'B', 'C', 'D']})"
   ]
  },
  {
   "cell_type": "code",
   "execution_count": 63,
   "metadata": {},
   "outputs": [
    {
     "name": "stdout",
     "output_type": "stream",
     "text": [
      "                     date value\n",
      "0  2018-01-01T12:00+09:00     A\n",
      "1  2018-01-02T00:00+09:00     B\n",
      "2  2018-01-03T10:00+09:00     C\n",
      "3  2018-01-03T19:00+09:00     D\n"
     ]
    }
   ],
   "source": [
    "print(df)"
   ]
  },
  {
   "cell_type": "code",
   "execution_count": 64,
   "metadata": {},
   "outputs": [
    {
     "name": "stdout",
     "output_type": "stream",
     "text": [
      "0   2018-01-01 12:00:00+09:00\n",
      "1   2018-01-02 00:00:00+09:00\n",
      "2   2018-01-03 10:00:00+09:00\n",
      "3   2018-01-03 19:00:00+09:00\n",
      "Name: date, dtype: datetime64[ns, pytz.FixedOffset(540)]\n"
     ]
    }
   ],
   "source": [
    "print(pd.to_datetime(df['date']))"
   ]
  },
  {
   "cell_type": "code",
   "execution_count": 65,
   "metadata": {},
   "outputs": [
    {
     "name": "stdout",
     "output_type": "stream",
     "text": [
      "0   2018-01-01 03:00:00+00:00\n",
      "1   2018-01-01 15:00:00+00:00\n",
      "2   2018-01-03 01:00:00+00:00\n",
      "3   2018-01-03 10:00:00+00:00\n",
      "Name: date, dtype: datetime64[ns, UTC]\n"
     ]
    }
   ],
   "source": [
    "print(pd.to_datetime(df['date'], utc=True))"
   ]
  },
  {
   "cell_type": "code",
   "execution_count": 66,
   "metadata": {},
   "outputs": [
    {
     "name": "stdout",
     "output_type": "stream",
     "text": [
      "0   2017-12-31 19:00:00-08:00\n",
      "1   2018-01-01 07:00:00-08:00\n",
      "2   2018-01-02 17:00:00-08:00\n",
      "3   2018-01-03 02:00:00-08:00\n",
      "Name: date, dtype: datetime64[ns, US/Pacific]\n"
     ]
    }
   ],
   "source": [
    "print(pd.to_datetime(df['date']).dt.tz_convert('US/Pacific'))"
   ]
  },
  {
   "cell_type": "code",
   "execution_count": 67,
   "metadata": {},
   "outputs": [
    {
     "name": "stdout",
     "output_type": "stream",
     "text": [
      "                          value\n",
      "date                           \n",
      "2018-01-01 12:00:00+09:00     A\n",
      "2018-01-02 00:00:00+09:00     B\n",
      "2018-01-03 10:00:00+09:00     C\n",
      "2018-01-03 19:00:00+09:00     D\n"
     ]
    }
   ],
   "source": [
    "df['date'] = pd.to_datetime(df['date'])\n",
    "df_ts = df.set_index('date')\n",
    "print(df_ts)"
   ]
  },
  {
   "cell_type": "code",
   "execution_count": 68,
   "metadata": {},
   "outputs": [
    {
     "name": "stdout",
     "output_type": "stream",
     "text": [
      "DatetimeIndex(['2018-01-01 12:00:00+09:00', '2018-01-02 00:00:00+09:00',\n",
      "               '2018-01-03 10:00:00+09:00', '2018-01-03 19:00:00+09:00'],\n",
      "              dtype='datetime64[ns, pytz.FixedOffset(540)]', name='date', freq=None)\n"
     ]
    }
   ],
   "source": [
    "print(df_ts.index)"
   ]
  },
  {
   "cell_type": "code",
   "execution_count": 69,
   "metadata": {},
   "outputs": [
    {
     "name": "stdout",
     "output_type": "stream",
     "text": [
      "                          value\n",
      "date                           \n",
      "2017-12-31 19:00:00-08:00     A\n",
      "2018-01-01 07:00:00-08:00     B\n",
      "2018-01-02 17:00:00-08:00     C\n",
      "2018-01-03 02:00:00-08:00     D\n"
     ]
    }
   ],
   "source": [
    "print(df_ts.tz_convert('US/Pacific'))"
   ]
  },
  {
   "cell_type": "code",
   "execution_count": 70,
   "metadata": {},
   "outputs": [],
   "source": [
    "df = pd.DataFrame({'date': ['2018-01-01T12:00+09:00',\n",
    "                            '2018-01-02T00:00+09:00',\n",
    "                            '2018-01-03T10:00-05:00',\n",
    "                            '2018-01-03T19:00-08:00'],\n",
    "                   'value': ['A', 'B', 'C', 'D']})"
   ]
  },
  {
   "cell_type": "code",
   "execution_count": 71,
   "metadata": {},
   "outputs": [
    {
     "name": "stdout",
     "output_type": "stream",
     "text": [
      "                     date value\n",
      "0  2018-01-01T12:00+09:00     A\n",
      "1  2018-01-02T00:00+09:00     B\n",
      "2  2018-01-03T10:00-05:00     C\n",
      "3  2018-01-03T19:00-08:00     D\n"
     ]
    }
   ],
   "source": [
    "print(df)"
   ]
  },
  {
   "cell_type": "code",
   "execution_count": 72,
   "metadata": {},
   "outputs": [
    {
     "name": "stdout",
     "output_type": "stream",
     "text": [
      "0    2018-01-01 12:00:00+09:00\n",
      "1    2018-01-02 00:00:00+09:00\n",
      "2    2018-01-03 10:00:00-05:00\n",
      "3    2018-01-03 19:00:00-08:00\n",
      "Name: date, dtype: object\n"
     ]
    }
   ],
   "source": [
    "print(pd.to_datetime(df['date']))"
   ]
  },
  {
   "cell_type": "code",
   "execution_count": 73,
   "metadata": {},
   "outputs": [
    {
     "name": "stdout",
     "output_type": "stream",
     "text": [
      "<class 'datetime.datetime'>\n"
     ]
    }
   ],
   "source": [
    "print(type(pd.to_datetime(df['date'])[0]))"
   ]
  },
  {
   "cell_type": "code",
   "execution_count": 74,
   "metadata": {},
   "outputs": [
    {
     "name": "stdout",
     "output_type": "stream",
     "text": [
      "tzoffset(None, 32400)\n"
     ]
    }
   ],
   "source": [
    "print(pd.to_datetime(df['date'])[0].tzinfo)"
   ]
  },
  {
   "cell_type": "code",
   "execution_count": 75,
   "metadata": {},
   "outputs": [
    {
     "name": "stdout",
     "output_type": "stream",
     "text": [
      "tzoffset(None, -18000)\n"
     ]
    }
   ],
   "source": [
    "print(pd.to_datetime(df['date'])[2].tzinfo)"
   ]
  },
  {
   "cell_type": "code",
   "execution_count": 76,
   "metadata": {},
   "outputs": [
    {
     "name": "stdout",
     "output_type": "stream",
     "text": [
      "0   2018-01-01 03:00:00+00:00\n",
      "1   2018-01-01 15:00:00+00:00\n",
      "2   2018-01-03 15:00:00+00:00\n",
      "3   2018-01-04 03:00:00+00:00\n",
      "Name: date, dtype: datetime64[ns, UTC]\n"
     ]
    }
   ],
   "source": [
    "print(pd.to_datetime(df['date'], utc=True))"
   ]
  },
  {
   "cell_type": "code",
   "execution_count": 77,
   "metadata": {},
   "outputs": [
    {
     "name": "stdout",
     "output_type": "stream",
     "text": [
      "<class 'pandas._libs.tslibs.timestamps.Timestamp'>\n"
     ]
    }
   ],
   "source": [
    "print(type(pd.to_datetime(df['date'], utc=True)[0]))"
   ]
  },
  {
   "cell_type": "code",
   "execution_count": 78,
   "metadata": {},
   "outputs": [],
   "source": [
    "# print(pd.to_datetime(df['date']).dt.tz_convert('Asia/Tokyo'))\n",
    "# ValueError: Tz-aware datetime.datetime cannot be converted to datetime64 unless utc=True"
   ]
  },
  {
   "cell_type": "code",
   "execution_count": 79,
   "metadata": {},
   "outputs": [
    {
     "name": "stdout",
     "output_type": "stream",
     "text": [
      "                          value\n",
      "date                           \n",
      "2018-01-01 12:00:00+09:00     A\n",
      "2018-01-02 00:00:00+09:00     B\n",
      "2018-01-03 10:00:00-05:00     C\n",
      "2018-01-03 19:00:00-08:00     D\n"
     ]
    }
   ],
   "source": [
    "df['date'] = pd.to_datetime(df['date'])\n",
    "df_dt = df.set_index('date')\n",
    "print(df_dt)"
   ]
  },
  {
   "cell_type": "code",
   "execution_count": 80,
   "metadata": {},
   "outputs": [
    {
     "name": "stdout",
     "output_type": "stream",
     "text": [
      "Index([2018-01-01 12:00:00+09:00, 2018-01-02 00:00:00+09:00,\n",
      "       2018-01-03 10:00:00-05:00, 2018-01-03 19:00:00-08:00],\n",
      "      dtype='object', name='date')\n"
     ]
    }
   ],
   "source": [
    "print(df_dt.index)"
   ]
  },
  {
   "cell_type": "code",
   "execution_count": 81,
   "metadata": {},
   "outputs": [],
   "source": [
    "# print(df_dt.tz_convert('Asia/Tokyo'))\n",
    "# TypeError: index is not a valid DatetimeIndex or PeriodIndex"
   ]
  },
  {
   "cell_type": "code",
   "execution_count": 82,
   "metadata": {},
   "outputs": [],
   "source": [
    "# print(df_dt.tz_localize('Asia/Tokyo'))\n",
    "# TypeError: index is not a valid DatetimeIndex or PeriodIndex"
   ]
  }
 ],
 "metadata": {
  "kernelspec": {
   "display_name": "Python 3",
   "language": "python",
   "name": "python3"
  },
  "language_info": {
   "codemirror_mode": {
    "name": "ipython",
    "version": 3
   },
   "file_extension": ".py",
   "mimetype": "text/x-python",
   "name": "python",
   "nbconvert_exporter": "python",
   "pygments_lexer": "ipython3",
   "version": "3.7.7"
  }
 },
 "nbformat": 4,
 "nbformat_minor": 2
}
