{
 "cells": [
  {
   "cell_type": "code",
   "execution_count": 1,
   "metadata": {},
   "outputs": [],
   "source": [
    "import PyPDF2\n",
    "import glob\n",
    "import os"
   ]
  },
  {
   "cell_type": "code",
   "execution_count": 2,
   "metadata": {},
   "outputs": [],
   "source": [
    "def merge_pdf_in_dir(dir_path, dst_path):\n",
    "    l = glob.glob(os.path.join(dir_path, '*.pdf'))\n",
    "    l.sort()\n",
    "    \n",
    "    merger = PyPDF2.PdfFileMerger()\n",
    "    for p in l:\n",
    "        if not PyPDF2.PdfFileReader(p).isEncrypted:\n",
    "            merger.append(p)\n",
    "    \n",
    "    merger.write(dst_path)\n",
    "    merger.close()"
   ]
  },
  {
   "cell_type": "code",
   "execution_count": 3,
   "metadata": {},
   "outputs": [],
   "source": [
    "merge_pdf_in_dir('data/src/pdf', 'data/temp/sample_dir.pdf')"
   ]
  }
 ],
 "metadata": {
  "kernelspec": {
   "display_name": "Python 3",
   "language": "python",
   "name": "python3"
  },
  "language_info": {
   "codemirror_mode": {
    "name": "ipython",
    "version": 3
   },
   "file_extension": ".py",
   "mimetype": "text/x-python",
   "name": "python",
   "nbconvert_exporter": "python",
   "pygments_lexer": "ipython3",
   "version": "3.7.2"
  }
 },
 "nbformat": 4,
 "nbformat_minor": 2
}
