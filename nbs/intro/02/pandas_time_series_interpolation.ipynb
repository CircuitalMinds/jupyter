{
 "cells": [
  {
   "cell_type": "code",
   "execution_count": 1,
   "metadata": {},
   "outputs": [],
   "source": [
    "import pandas as pd"
   ]
  },
  {
   "cell_type": "code",
   "execution_count": 2,
   "metadata": {},
   "outputs": [],
   "source": [
    "df = pd.DataFrame({'value': [1, 15, 31]},\n",
    "                  index=pd.to_datetime(['2018-01-01', '2018-01-15', '2018-01-31']))"
   ]
  },
  {
   "cell_type": "code",
   "execution_count": 3,
   "metadata": {},
   "outputs": [
    {
     "name": "stdout",
     "output_type": "stream",
     "text": [
      "            value\n",
      "2018-01-01      1\n",
      "2018-01-15     15\n",
      "2018-01-31     31\n"
     ]
    }
   ],
   "source": [
    "print(df)"
   ]
  },
  {
   "cell_type": "code",
   "execution_count": 4,
   "metadata": {},
   "outputs": [
    {
     "name": "stdout",
     "output_type": "stream",
     "text": [
      "            value\n",
      "2018-01-01    1.0\n",
      "2018-01-06    NaN\n",
      "2018-01-11    NaN\n",
      "2018-01-16    NaN\n",
      "2018-01-21    NaN\n",
      "2018-01-26    NaN\n",
      "2018-01-31   31.0\n"
     ]
    }
   ],
   "source": [
    "print(df.asfreq('5D'))"
   ]
  },
  {
   "cell_type": "code",
   "execution_count": 5,
   "metadata": {},
   "outputs": [
    {
     "name": "stdout",
     "output_type": "stream",
     "text": [
      "            value\n",
      "2018-01-01      1\n",
      "2018-01-06     15\n",
      "2018-01-11     15\n",
      "2018-01-16     15\n",
      "2018-01-21     15\n",
      "2018-01-26     15\n",
      "2018-01-31     31\n"
     ]
    }
   ],
   "source": [
    "print(df.asfreq('5D', fill_value=15))"
   ]
  },
  {
   "cell_type": "code",
   "execution_count": 6,
   "metadata": {},
   "outputs": [
    {
     "name": "stdout",
     "output_type": "stream",
     "text": [
      "            value\n",
      "2018-01-01      1\n",
      "2018-01-06      1\n",
      "2018-01-11      1\n",
      "2018-01-16     15\n",
      "2018-01-21     15\n",
      "2018-01-26     15\n",
      "2018-01-31     31\n"
     ]
    }
   ],
   "source": [
    "print(df.asfreq('5D', method='pad'))"
   ]
  },
  {
   "cell_type": "code",
   "execution_count": 7,
   "metadata": {},
   "outputs": [
    {
     "name": "stdout",
     "output_type": "stream",
     "text": [
      "            value\n",
      "2018-01-01      1\n",
      "2018-01-06     15\n",
      "2018-01-11     15\n",
      "2018-01-16     31\n",
      "2018-01-21     31\n",
      "2018-01-26     31\n",
      "2018-01-31     31\n"
     ]
    }
   ],
   "source": [
    "print(df.asfreq('5D', method='bfill'))"
   ]
  },
  {
   "cell_type": "code",
   "execution_count": 8,
   "metadata": {},
   "outputs": [
    {
     "name": "stdout",
     "output_type": "stream",
     "text": [
      "            value\n",
      "2018-01-01      1\n",
      "2018-01-06      1\n",
      "2018-01-11      1\n",
      "2018-01-16     15\n",
      "2018-01-21     15\n",
      "2018-01-26     15\n",
      "2018-01-31     31\n"
     ]
    }
   ],
   "source": [
    "print(df.resample('5D').ffill())"
   ]
  },
  {
   "cell_type": "code",
   "execution_count": 9,
   "metadata": {},
   "outputs": [
    {
     "name": "stdout",
     "output_type": "stream",
     "text": [
      "            value\n",
      "2018-01-01      1\n",
      "2018-01-06     15\n",
      "2018-01-11     15\n",
      "2018-01-16     31\n",
      "2018-01-21     31\n",
      "2018-01-26     31\n",
      "2018-01-31     31\n"
     ]
    }
   ],
   "source": [
    "print(df.resample('5D').bfill())"
   ]
  },
  {
   "cell_type": "code",
   "execution_count": 10,
   "metadata": {},
   "outputs": [
    {
     "name": "stdout",
     "output_type": "stream",
     "text": [
      "            value\n",
      "2018-01-01      1\n",
      "2018-01-06      1\n",
      "2018-01-11     15\n",
      "2018-01-16     15\n",
      "2018-01-21     15\n",
      "2018-01-26     31\n",
      "2018-01-31     31\n"
     ]
    }
   ],
   "source": [
    "print(df.resample('5D').nearest())"
   ]
  },
  {
   "cell_type": "code",
   "execution_count": 11,
   "metadata": {},
   "outputs": [
    {
     "name": "stdout",
     "output_type": "stream",
     "text": [
      "            value\n",
      "2018-01-01    1.0\n",
      "2018-01-06    6.0\n",
      "2018-01-11   11.0\n",
      "2018-01-16   16.0\n",
      "2018-01-21   21.0\n",
      "2018-01-26   26.0\n",
      "2018-01-31   31.0\n"
     ]
    }
   ],
   "source": [
    "print(df.resample('5D').interpolate())"
   ]
  },
  {
   "cell_type": "code",
   "execution_count": 12,
   "metadata": {},
   "outputs": [
    {
     "name": "stdout",
     "output_type": "stream",
     "text": [
      "            value\n",
      "2018-01-01      1\n",
      "2018-01-15    100\n",
      "2018-01-31     31\n"
     ]
    }
   ],
   "source": [
    "df.loc['2018-01-15', 'value'] = 100\n",
    "print(df)"
   ]
  },
  {
   "cell_type": "code",
   "execution_count": 13,
   "metadata": {},
   "outputs": [
    {
     "name": "stdout",
     "output_type": "stream",
     "text": [
      "            value\n",
      "2018-01-01    1.0\n",
      "2018-01-06    6.0\n",
      "2018-01-11   11.0\n",
      "2018-01-16   16.0\n",
      "2018-01-21   21.0\n",
      "2018-01-26   26.0\n",
      "2018-01-31   31.0\n"
     ]
    }
   ],
   "source": [
    "print(df.resample('5D').interpolate())"
   ]
  },
  {
   "cell_type": "code",
   "execution_count": 14,
   "metadata": {},
   "outputs": [
    {
     "name": "stdout",
     "output_type": "stream",
     "text": [
      "                 value\n",
      "2018-01-01    1.000000\n",
      "2018-01-02    8.071429\n",
      "2018-01-03   15.142857\n",
      "2018-01-04   22.214286\n",
      "2018-01-05   29.285714\n",
      "2018-01-06   36.357143\n",
      "2018-01-07   43.428571\n",
      "2018-01-08   50.500000\n",
      "2018-01-09   57.571429\n",
      "2018-01-10   64.642857\n",
      "2018-01-11   71.714286\n",
      "2018-01-12   78.785714\n",
      "2018-01-13   85.857143\n",
      "2018-01-14   92.928571\n",
      "2018-01-15  100.000000\n",
      "2018-01-16   95.687500\n",
      "2018-01-17   91.375000\n",
      "2018-01-18   87.062500\n",
      "2018-01-19   82.750000\n",
      "2018-01-20   78.437500\n",
      "2018-01-21   74.125000\n",
      "2018-01-22   69.812500\n",
      "2018-01-23   65.500000\n",
      "2018-01-24   61.187500\n",
      "2018-01-25   56.875000\n",
      "2018-01-26   52.562500\n",
      "2018-01-27   48.250000\n",
      "2018-01-28   43.937500\n",
      "2018-01-29   39.625000\n",
      "2018-01-30   35.312500\n",
      "2018-01-31   31.000000\n"
     ]
    }
   ],
   "source": [
    "print(df.resample('D').interpolate())"
   ]
  },
  {
   "cell_type": "code",
   "execution_count": 15,
   "metadata": {},
   "outputs": [
    {
     "name": "stdout",
     "output_type": "stream",
     "text": [
      "                value\n",
      "2018-01-01   1.000000\n",
      "2018-01-06  36.357143\n",
      "2018-01-11  71.714286\n",
      "2018-01-16  95.687500\n",
      "2018-01-21  74.125000\n",
      "2018-01-26  52.562500\n",
      "2018-01-31  31.000000\n"
     ]
    }
   ],
   "source": [
    "print(df.resample('D').interpolate().asfreq('5D'))"
   ]
  },
  {
   "cell_type": "code",
   "execution_count": 16,
   "metadata": {},
   "outputs": [
    {
     "name": "stdout",
     "output_type": "stream",
     "text": [
      "                 value\n",
      "2018-01-01    1.000000\n",
      "2018-01-02   13.004464\n",
      "2018-01-03   24.250000\n",
      "2018-01-04   34.736607\n",
      "2018-01-05   44.464286\n",
      "2018-01-06   53.433036\n",
      "2018-01-07   61.642857\n",
      "2018-01-08   69.093750\n",
      "2018-01-09   75.785714\n",
      "2018-01-10   81.718750\n",
      "2018-01-11   86.892857\n",
      "2018-01-12   91.308036\n",
      "2018-01-13   94.964286\n",
      "2018-01-14   97.861607\n",
      "2018-01-15  100.000000\n",
      "2018-01-16  101.379464\n",
      "2018-01-17  102.000000\n",
      "2018-01-18  101.861607\n",
      "2018-01-19  100.964286\n",
      "2018-01-20   99.308036\n",
      "2018-01-21   96.892857\n",
      "2018-01-22   93.718750\n",
      "2018-01-23   89.785714\n",
      "2018-01-24   85.093750\n",
      "2018-01-25   79.642857\n",
      "2018-01-26   73.433036\n",
      "2018-01-27   66.464286\n",
      "2018-01-28   58.736607\n",
      "2018-01-29   50.250000\n",
      "2018-01-30   41.004464\n",
      "2018-01-31   31.000000\n"
     ]
    }
   ],
   "source": [
    "print(df.resample('D').interpolate('spline', order=2))"
   ]
  },
  {
   "cell_type": "code",
   "execution_count": 17,
   "metadata": {},
   "outputs": [
    {
     "name": "stdout",
     "output_type": "stream",
     "text": [
      "                 value\n",
      "2018-01-01    1.000000\n",
      "2018-01-06   53.433036\n",
      "2018-01-11   86.892857\n",
      "2018-01-16  101.379464\n",
      "2018-01-21   96.892857\n",
      "2018-01-26   73.433036\n",
      "2018-01-31   31.000000\n"
     ]
    }
   ],
   "source": [
    "print(df.resample('D').interpolate('spline', order=2).asfreq('5D'))"
   ]
  },
  {
   "cell_type": "code",
   "execution_count": 18,
   "metadata": {},
   "outputs": [],
   "source": [
    "df_nan = pd.DataFrame({'value': [1, pd.np.nan, pd.np.nan, pd.np.nan, 31]},\n",
    "                      index=pd.to_datetime(['2018-01-01', '2018-01-02', '2018-01-15', '2018-01-20', '2018-01-31']))"
   ]
  },
  {
   "cell_type": "code",
   "execution_count": 19,
   "metadata": {},
   "outputs": [
    {
     "name": "stdout",
     "output_type": "stream",
     "text": [
      "            value\n",
      "2018-01-01    1.0\n",
      "2018-01-02    NaN\n",
      "2018-01-15    NaN\n",
      "2018-01-20    NaN\n",
      "2018-01-31   31.0\n"
     ]
    }
   ],
   "source": [
    "print(df_nan)"
   ]
  },
  {
   "cell_type": "code",
   "execution_count": 20,
   "metadata": {},
   "outputs": [
    {
     "name": "stdout",
     "output_type": "stream",
     "text": [
      "            value\n",
      "2018-01-01    1.0\n",
      "2018-01-02    8.5\n",
      "2018-01-15   16.0\n",
      "2018-01-20   23.5\n",
      "2018-01-31   31.0\n"
     ]
    }
   ],
   "source": [
    "print(df_nan.interpolate())"
   ]
  },
  {
   "cell_type": "code",
   "execution_count": 21,
   "metadata": {},
   "outputs": [
    {
     "name": "stdout",
     "output_type": "stream",
     "text": [
      "            value\n",
      "2018-01-01    1.0\n",
      "2018-01-02    2.0\n",
      "2018-01-15   15.0\n",
      "2018-01-20   20.0\n",
      "2018-01-31   31.0\n"
     ]
    }
   ],
   "source": [
    "print(df_nan.interpolate('time'))"
   ]
  }
 ],
 "metadata": {
  "kernelspec": {
   "display_name": "Python 3",
   "language": "python",
   "name": "python3"
  },
  "language_info": {
   "codemirror_mode": {
    "name": "ipython",
    "version": 3
   },
   "file_extension": ".py",
   "mimetype": "text/x-python",
   "name": "python",
   "nbconvert_exporter": "python",
   "pygments_lexer": "ipython3",
   "version": "3.7.0"
  }
 },
 "nbformat": 4,
 "nbformat_minor": 2
}
