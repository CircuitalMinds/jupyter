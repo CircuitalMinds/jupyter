{
 "cells": [
  {
   "cell_type": "code",
   "execution_count": 1,
   "metadata": {
    "collapsed": true
   },
   "outputs": [],
   "source": [
    "import pandas as pd"
   ]
  },
  {
   "cell_type": "code",
   "execution_count": 2,
   "metadata": {
    "collapsed": true
   },
   "outputs": [],
   "source": [
    "df = pd.read_csv('data/src/estat_0003215840.csv')"
   ]
  },
  {
   "cell_type": "code",
   "execution_count": 3,
   "metadata": {
    "collapsed": true
   },
   "outputs": [],
   "source": [
    "df = df[['男女別・性比', '人口', '年齢各歳', 'value']]"
   ]
  },
  {
   "cell_type": "code",
   "execution_count": 4,
   "metadata": {},
   "outputs": [
    {
     "name": "stdout",
     "output_type": "stream",
     "text": [
      "  男女別・性比   人口 年齢各歳     value\n",
      "0    男女計  総人口   総数  126706.0\n",
      "1    男女計  総人口   0歳     963.0\n",
      "2    男女計  総人口   1歳    1000.0\n",
      "3    男女計  総人口   2歳     960.0\n",
      "4    男女計  総人口   3歳     975.0\n",
      "5    男女計  総人口   4歳    1011.0\n",
      "6    男女計  総人口   5歳    1017.0\n",
      "7    男女計  総人口   6歳    1045.0\n",
      "8    男女計  総人口   7歳    1049.0\n",
      "9    男女計  総人口   8歳    1060.0\n"
     ]
    }
   ],
   "source": [
    "print(df.head(10))"
   ]
  },
  {
   "cell_type": "code",
   "execution_count": 5,
   "metadata": {},
   "outputs": [
    {
     "name": "stdout",
     "output_type": "stream",
     "text": [
      "['男女計' '男' '女' '人口性比']\n"
     ]
    }
   ],
   "source": [
    "print(df['男女別・性比'].unique())"
   ]
  },
  {
   "cell_type": "code",
   "execution_count": 6,
   "metadata": {},
   "outputs": [
    {
     "name": "stdout",
     "output_type": "stream",
     "text": [
      "['総人口' '日本人人口']\n"
     ]
    }
   ],
   "source": [
    "print(df['人口'].unique())"
   ]
  },
  {
   "cell_type": "code",
   "execution_count": 7,
   "metadata": {},
   "outputs": [
    {
     "name": "stdout",
     "output_type": "stream",
     "text": [
      "    男女別・性比     人口\n",
      "0      男女計    総人口\n",
      "102    男女計  日本人人口\n",
      "204      男    総人口\n",
      "306      男  日本人人口\n",
      "408      女    総人口\n",
      "510      女  日本人人口\n",
      "612   人口性比    総人口\n",
      "714   人口性比  日本人人口\n"
     ]
    }
   ],
   "source": [
    "print(df[['男女別・性比', '人口']].drop_duplicates())"
   ]
  },
  {
   "cell_type": "code",
   "execution_count": 8,
   "metadata": {
    "collapsed": true
   },
   "outputs": [],
   "source": [
    "# df.pivot(index='年齢各歳', columns='男女別・性比', values='value')\n",
    "# ValueError: Index contains duplicate entries, cannot reshape"
   ]
  },
  {
   "cell_type": "code",
   "execution_count": 9,
   "metadata": {
    "collapsed": true
   },
   "outputs": [],
   "source": [
    "df_jp = df.query('人口 == \"日本人人口\"')"
   ]
  },
  {
   "cell_type": "code",
   "execution_count": 10,
   "metadata": {},
   "outputs": [
    {
     "name": "stdout",
     "output_type": "stream",
     "text": [
      "男女別・性比   人口性比      女      男     男女計\n",
      "年齢各歳                               \n",
      "0歳      105.0  462.0  485.0   947.0\n",
      "100歳以上   15.0   59.0    9.0    67.0\n",
      "10歳     105.0  518.0  544.0  1061.0\n",
      "11歳     104.8  515.0  540.0  1054.0\n",
      "12歳     104.9  516.0  541.0  1057.0\n",
      "13歳     104.6  535.0  560.0  1095.0\n",
      "14歳     105.2  543.0  571.0  1115.0\n",
      "15歳     105.1  560.0  588.0  1148.0\n",
      "16歳     105.3  567.0  597.0  1163.0\n",
      "17歳     106.2  577.0  613.0  1189.0\n"
     ]
    }
   ],
   "source": [
    "print(df_jp.pivot(index='年齢各歳', columns='男女別・性比', values='value').head(10))"
   ]
  },
  {
   "cell_type": "code",
   "execution_count": 11,
   "metadata": {},
   "outputs": [
    {
     "name": "stdout",
     "output_type": "stream",
     "text": [
      "        value                                                   \n",
      "人口      日本人人口                          総人口                      \n",
      "男女別・性比   人口性比      女      男     男女計   人口性比      女      男     男女計\n",
      "年齢各歳                                                            \n",
      "0歳      105.0  462.0  485.0   947.0  105.0  470.0  493.0   963.0\n",
      "100歳以上   15.0   59.0    9.0    67.0   15.0   59.0    9.0    67.0\n",
      "10歳     105.0  518.0  544.0  1061.0  105.1  523.0  549.0  1072.0\n",
      "11歳     104.8  515.0  540.0  1054.0  104.8  520.0  545.0  1065.0\n",
      "12歳     104.9  516.0  541.0  1057.0  104.9  521.0  546.0  1067.0\n",
      "13歳     104.6  535.0  560.0  1095.0  104.6  540.0  565.0  1105.0\n",
      "14歳     105.2  543.0  571.0  1115.0  105.2  548.0  576.0  1124.0\n",
      "15歳     105.1  560.0  588.0  1148.0  105.1  565.0  594.0  1158.0\n",
      "16歳     105.3  567.0  597.0  1163.0  105.3  572.0  602.0  1174.0\n",
      "17歳     106.2  577.0  613.0  1189.0  106.2  583.0  619.0  1202.0\n"
     ]
    }
   ],
   "source": [
    "print(df.set_index(['年齢各歳', '人口', '男女別・性比']).unstack(['人口', '男女別・性比']).sort_index(axis=1).head(10))"
   ]
  },
  {
   "cell_type": "code",
   "execution_count": 12,
   "metadata": {
    "collapsed": true
   },
   "outputs": [],
   "source": [
    "df_pt = df.pivot_table(index='年齢各歳', columns=['人口', '男女別・性比'], values='value')"
   ]
  },
  {
   "cell_type": "code",
   "execution_count": 13,
   "metadata": {},
   "outputs": [
    {
     "name": "stdout",
     "output_type": "stream",
     "text": [
      "人口      日本人人口                          総人口                      \n",
      "男女別・性比   人口性比      女      男     男女計   人口性比      女      男     男女計\n",
      "年齢各歳                                                            \n",
      "0歳      105.0  462.0  485.0   947.0  105.0  470.0  493.0   963.0\n",
      "100歳以上   15.0   59.0    9.0    67.0   15.0   59.0    9.0    67.0\n",
      "10歳     105.0  518.0  544.0  1061.0  105.1  523.0  549.0  1072.0\n",
      "11歳     104.8  515.0  540.0  1054.0  104.8  520.0  545.0  1065.0\n",
      "12歳     104.9  516.0  541.0  1057.0  104.9  521.0  546.0  1067.0\n",
      "13歳     104.6  535.0  560.0  1095.0  104.6  540.0  565.0  1105.0\n",
      "14歳     105.2  543.0  571.0  1115.0  105.2  548.0  576.0  1124.0\n",
      "15歳     105.1  560.0  588.0  1148.0  105.1  565.0  594.0  1158.0\n",
      "16歳     105.3  567.0  597.0  1163.0  105.3  572.0  602.0  1174.0\n",
      "17歳     106.2  577.0  613.0  1189.0  106.2  583.0  619.0  1202.0\n"
     ]
    }
   ],
   "source": [
    "print(df_pt.head(10))"
   ]
  },
  {
   "cell_type": "code",
   "execution_count": 14,
   "metadata": {},
   "outputs": [
    {
     "name": "stdout",
     "output_type": "stream",
     "text": [
      "MultiIndex(levels=[['日本人人口', '総人口'], ['人口性比', '女', '男', '男女計']],\n",
      "           labels=[[0, 0, 0, 0, 1, 1, 1, 1], [0, 1, 2, 3, 0, 1, 2, 3]],\n",
      "           names=['人口', '男女別・性比'])\n"
     ]
    }
   ],
   "source": [
    "print(df_pt.columns)"
   ]
  },
  {
   "cell_type": "code",
   "execution_count": 15,
   "metadata": {},
   "outputs": [
    {
     "name": "stdout",
     "output_type": "stream",
     "text": [
      "年齢各歳\n",
      "0歳        485.0\n",
      "100歳以上      9.0\n",
      "10歳       544.0\n",
      "11歳       540.0\n",
      "12歳       541.0\n",
      "13歳       560.0\n",
      "14歳       571.0\n",
      "15歳       588.0\n",
      "16歳       597.0\n",
      "17歳       613.0\n",
      "Name: (日本人人口, 男), dtype: float64\n"
     ]
    }
   ],
   "source": [
    "print(df_pt.loc[:, ('日本人人口', '男')].head(10))"
   ]
  },
  {
   "cell_type": "code",
   "execution_count": 16,
   "metadata": {},
   "outputs": [
    {
     "name": "stdout",
     "output_type": "stream",
     "text": [
      "人口      日本人人口       \n",
      "男女別・性比      女      男\n",
      "年齢各歳                \n",
      "0歳      462.0  485.0\n",
      "100歳以上   59.0    9.0\n",
      "10歳     518.0  544.0\n",
      "11歳     515.0  540.0\n",
      "12歳     516.0  541.0\n",
      "13歳     535.0  560.0\n",
      "14歳     543.0  571.0\n",
      "15歳     560.0  588.0\n",
      "16歳     567.0  597.0\n",
      "17歳     577.0  613.0\n"
     ]
    }
   ],
   "source": [
    "print(df_pt.loc[:, ('日本人人口', ['男', '女'])].head(10))"
   ]
  }
 ],
 "metadata": {
  "kernelspec": {
   "display_name": "Python 3",
   "language": "python",
   "name": "python3"
  },
  "language_info": {
   "codemirror_mode": {
    "name": "ipython",
    "version": 3
   },
   "file_extension": ".py",
   "mimetype": "text/x-python",
   "name": "python",
   "nbconvert_exporter": "python",
   "pygments_lexer": "ipython3",
   "version": "3.6.5"
  }
 },
 "nbformat": 4,
 "nbformat_minor": 2
}
