{
 "cells": [
  {
   "cell_type": "code",
   "execution_count": 1,
   "metadata": {},
   "outputs": [],
   "source": [
    "from PIL import Image"
   ]
  },
  {
   "cell_type": "code",
   "execution_count": 2,
   "metadata": {},
   "outputs": [],
   "source": [
    "im = Image.open('data/src/lena.jpg')"
   ]
  },
  {
   "cell_type": "markdown",
   "metadata": {},
   "source": [
    "![lena](data/src/lena.jpg)"
   ]
  },
  {
   "cell_type": "code",
   "execution_count": 3,
   "metadata": {},
   "outputs": [],
   "source": [
    "im_rotate = im.rotate(90)\n",
    "im_rotate.save('data/dst/lena_rotate_90.jpg', quality=95)"
   ]
  },
  {
   "cell_type": "markdown",
   "metadata": {},
   "source": [
    "![lena_rotate_90](data/dst/lena_rotate_90.jpg)"
   ]
  },
  {
   "cell_type": "code",
   "execution_count": 4,
   "metadata": {},
   "outputs": [],
   "source": [
    "im_rotate = im.rotate(45)\n",
    "im_rotate.save('data/dst/lena_rotate_45.jpg', quality=95)"
   ]
  },
  {
   "cell_type": "markdown",
   "metadata": {},
   "source": [
    "![lena_rotate_45](data/dst/lena_rotate_45.jpg)"
   ]
  },
  {
   "cell_type": "code",
   "execution_count": 5,
   "metadata": {},
   "outputs": [],
   "source": [
    "im_rotate = im.rotate(45, resample=Image.BICUBIC)\n",
    "im_rotate.save('data/dst/lena_rotate_45_bicubic.jpg', quality=95)"
   ]
  },
  {
   "cell_type": "markdown",
   "metadata": {},
   "source": [
    "![lena_rotate_45_bicubic](data/dst/lena_rotate_45_bicubic.jpg)"
   ]
  },
  {
   "cell_type": "code",
   "execution_count": 6,
   "metadata": {},
   "outputs": [],
   "source": [
    "im_rotate = im.rotate(90, expand=True)\n",
    "im_rotate.save('data/dst/lena_rotate_90_expand.jpg', quality=95)"
   ]
  },
  {
   "cell_type": "markdown",
   "metadata": {},
   "source": [
    "![lena_rotate_90_expand](data/dst/lena_rotate_90_expand.jpg)"
   ]
  },
  {
   "cell_type": "code",
   "execution_count": 7,
   "metadata": {},
   "outputs": [],
   "source": [
    "im_rotate = im.rotate(45, expand=True)\n",
    "im_rotate.save('data/dst/lena_rotate_45_expand.jpg', quality=95)"
   ]
  },
  {
   "cell_type": "markdown",
   "metadata": {},
   "source": [
    "![lena_rotate_45_expand](data/dst/lena_rotate_45_expand.jpg)"
   ]
  },
  {
   "cell_type": "code",
   "execution_count": 8,
   "metadata": {},
   "outputs": [],
   "source": [
    "im_rotate = im.rotate(45, center=(0, 60))\n",
    "im_rotate.save('data/dst/lena_rotate_45_change_center.jpg', quality=95)"
   ]
  },
  {
   "cell_type": "markdown",
   "metadata": {},
   "source": [
    "![lena_rotate_45_change_center](data/dst/lena_rotate_45_change_center.jpg)"
   ]
  },
  {
   "cell_type": "code",
   "execution_count": 9,
   "metadata": {},
   "outputs": [],
   "source": [
    "im_rotate = im.rotate(45, center=(0, 60), expand=True)\n",
    "im_rotate.save('data/dst/lena_rotate_45_change_center_expand.jpg', quality=95)"
   ]
  },
  {
   "cell_type": "markdown",
   "metadata": {},
   "source": [
    "![lena_rotate_45_change_center_expand](data/dst/lena_rotate_45_change_center_expand.jpg)"
   ]
  },
  {
   "cell_type": "code",
   "execution_count": 10,
   "metadata": {},
   "outputs": [],
   "source": [
    "im_rotate = im.rotate(0, translate=(100, 50))\n",
    "im_rotate.save('data/dst/lena_rotate_0_translate.jpg', quality=95)"
   ]
  },
  {
   "cell_type": "markdown",
   "metadata": {},
   "source": [
    "![lena_rotate_0_translate](data/dst/lena_rotate_0_translate.jpg)"
   ]
  },
  {
   "cell_type": "code",
   "execution_count": 11,
   "metadata": {},
   "outputs": [],
   "source": [
    "im_rotate = im.rotate(45, translate=(100, 50))\n",
    "im_rotate.save('data/dst/lena_rotate_45_translate.jpg', quality=95)"
   ]
  },
  {
   "cell_type": "markdown",
   "metadata": {},
   "source": [
    "![lena_rotate_45_translate](data/dst/lena_rotate_45_translate.jpg)"
   ]
  },
  {
   "cell_type": "code",
   "execution_count": 12,
   "metadata": {},
   "outputs": [],
   "source": [
    "im_rotate = im.rotate(45, translate=(100, 50), expand=True)\n",
    "im_rotate.save('data/dst/lena_rotate_45_translate_expand.jpg', quality=95)"
   ]
  },
  {
   "cell_type": "markdown",
   "metadata": {},
   "source": [
    "![lena_rotate_45_translate_expand](data/dst/lena_rotate_45_translate_expand.jpg)"
   ]
  },
  {
   "cell_type": "code",
   "execution_count": 13,
   "metadata": {},
   "outputs": [],
   "source": [
    "im_rotate = im.rotate(45, fillcolor=(255, 128, 0), expand=True)\n",
    "im_rotate.save('data/dst/lena_rotate_45_fillcolor_expand.jpg', quality=95)"
   ]
  },
  {
   "cell_type": "markdown",
   "metadata": {},
   "source": [
    "![lena_rotate_45_fillcolor_expand](data/dst/lena_rotate_45_fillcolor_expand.jpg)"
   ]
  }
 ],
 "metadata": {
  "kernelspec": {
   "display_name": "Python 3",
   "language": "python",
   "name": "python3"
  },
  "language_info": {
   "codemirror_mode": {
    "name": "ipython",
    "version": 3
   },
   "file_extension": ".py",
   "mimetype": "text/x-python",
   "name": "python",
   "nbconvert_exporter": "python",
   "pygments_lexer": "ipython3",
   "version": "3.7.5"
  }
 },
 "nbformat": 4,
 "nbformat_minor": 2
}
