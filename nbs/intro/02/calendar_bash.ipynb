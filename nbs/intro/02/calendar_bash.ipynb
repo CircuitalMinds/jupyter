{
 "cells": [
  {
   "cell_type": "code",
   "execution_count": 1,
   "metadata": {},
   "outputs": [
    {
     "name": "stdout",
     "output_type": "stream",
     "text": [
      "    January 2019\n",
      "Mo Tu We Th Fr Sa Su\n",
      "    1  2  3  4  5  6\n",
      " 7  8  9 10 11 12 13\n",
      "14 15 16 17 18 19 20\n",
      "21 22 23 24 25 26 27\n",
      "28 29 30 31\n"
     ]
    }
   ],
   "source": [
    "python3 -m calendar 2019 1"
   ]
  },
  {
   "cell_type": "code",
   "execution_count": 2,
   "metadata": {},
   "outputs": [
    {
     "name": "stdout",
     "output_type": "stream",
     "text": [
      "usage: calendar.py [-h] [-w WIDTH] [-l LINES] [-s SPACING] [-m MONTHS]\n",
      "                   [-c CSS] [-L LOCALE] [-e ENCODING] [-t {text,html}]\n",
      "                   [year] [month]\n",
      "\n",
      "positional arguments:\n",
      "  year                  year number (1-9999)\n",
      "  month                 month number (1-12, text only)\n",
      "\n",
      "optional arguments:\n",
      "  -h, --help            show this help message and exit\n",
      "  -L LOCALE, --locale LOCALE\n",
      "                        locale to be used from month and weekday names\n",
      "  -e ENCODING, --encoding ENCODING\n",
      "                        encoding to use for output\n",
      "  -t {text,html}, --type {text,html}\n",
      "                        output type (text or html)\n",
      "\n",
      "text only arguments:\n",
      "  -w WIDTH, --width WIDTH\n",
      "                        width of date column (default 2)\n",
      "  -l LINES, --lines LINES\n",
      "                        number of lines for each week (default 1)\n",
      "  -s SPACING, --spacing SPACING\n",
      "                        spacing between months (default 6)\n",
      "  -m MONTHS, --months MONTHS\n",
      "                        months per row (default 3)\n",
      "\n",
      "html only arguments:\n",
      "  -c CSS, --css CSS     CSS to use for page\n"
     ]
    }
   ],
   "source": [
    "python3 -m calendar -h"
   ]
  }
 ],
 "metadata": {
  "kernelspec": {
   "display_name": "Bash",
   "language": "bash",
   "name": "bash"
  },
  "language_info": {
   "codemirror_mode": "shell",
   "file_extension": ".sh",
   "mimetype": "text/x-sh",
   "name": "bash"
  }
 },
 "nbformat": 4,
 "nbformat_minor": 2
}
