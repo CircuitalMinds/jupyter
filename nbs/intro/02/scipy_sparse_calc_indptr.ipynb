{
 "cells": [
  {
   "cell_type": "code",
   "execution_count": 1,
   "metadata": {},
   "outputs": [],
   "source": [
    "import numpy as np"
   ]
  },
  {
   "cell_type": "code",
   "execution_count": 2,
   "metadata": {},
   "outputs": [],
   "source": [
    "def calc_indptr(n, data, row, column, tocsr=True):\n",
    "    if tocsr:\n",
    "        Ai, Aj = row, column\n",
    "    else:\n",
    "        Ai, Aj = column, row\n",
    "\n",
    "    indptr = np.zeros(n + 1, dtype=int)\n",
    "    indices = np.zeros_like(Aj)\n",
    "    data_ = np.zeros_like(data)\n",
    "    \n",
    "    for a in Ai:\n",
    "        indptr[a + 1] += 1\n",
    "    \n",
    "    indptr = indptr.cumsum()\n",
    "    \n",
    "    for i, j, d in zip(Ai, Aj, data):\n",
    "        dest = indptr[i]\n",
    "        indices[dest] = j\n",
    "        data_[dest] = d\n",
    "        indptr[i] += 1\n",
    "    \n",
    "    indptr[-1] = 0\n",
    "        \n",
    "    return data_, indices, np.roll(indptr, 1)"
   ]
  },
  {
   "cell_type": "code",
   "execution_count": 3,
   "metadata": {},
   "outputs": [
    {
     "name": "stdout",
     "output_type": "stream",
     "text": [
      "(array([10, 20, 30, 40]), array([1, 2, 0, 2]), array([0, 2, 4, 4]))\n"
     ]
    }
   ],
   "source": [
    "print(calc_indptr(3, [10, 20, 30, 40], [0, 0, 1, 1], [1, 2, 0, 2]))"
   ]
  },
  {
   "cell_type": "code",
   "execution_count": 4,
   "metadata": {},
   "outputs": [
    {
     "name": "stdout",
     "output_type": "stream",
     "text": [
      "(array([30, 10, 20, 40]), array([1, 0, 0, 1]), array([0, 1, 2, 4]))\n"
     ]
    }
   ],
   "source": [
    "print(calc_indptr(3, [10, 20, 30, 40], [0, 0, 1, 1], [1, 2, 0, 2], False))"
   ]
  }
 ],
 "metadata": {
  "kernelspec": {
   "display_name": "Python 3",
   "language": "python",
   "name": "python3"
  },
  "language_info": {
   "codemirror_mode": {
    "name": "ipython",
    "version": 3
   },
   "file_extension": ".py",
   "mimetype": "text/x-python",
   "name": "python",
   "nbconvert_exporter": "python",
   "pygments_lexer": "ipython3",
   "version": "3.7.4"
  }
 },
 "nbformat": 4,
 "nbformat_minor": 2
}
