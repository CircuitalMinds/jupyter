{
 "cells": [
  {
   "cell_type": "code",
   "execution_count": 1,
   "metadata": {},
   "outputs": [],
   "source": [
    "import numpy as np\n",
    "from scipy.sparse.csgraph import shortest_path, floyd_warshall, dijkstra, bellman_ford, johnson\n",
    "from scipy.sparse import csr_matrix"
   ]
  },
  {
   "cell_type": "code",
   "execution_count": 2,
   "metadata": {},
   "outputs": [],
   "source": [
    "l = [[0, 1, 2, 0],\n",
    "     [0, 0, 0, 1],\n",
    "     [3, 0, 0, 3],\n",
    "     [0, 0, 0, 0]]"
   ]
  },
  {
   "cell_type": "code",
   "execution_count": 3,
   "metadata": {},
   "outputs": [],
   "source": [
    "# print(shortest_path(l))\n",
    "# AttributeError: 'list' object has no attribute 'shape'"
   ]
  },
  {
   "cell_type": "code",
   "execution_count": 4,
   "metadata": {},
   "outputs": [
    {
     "name": "stdout",
     "output_type": "stream",
     "text": [
      "<class 'numpy.ndarray'>\n"
     ]
    }
   ],
   "source": [
    "a = np.array(l)\n",
    "print(type(a))"
   ]
  },
  {
   "cell_type": "code",
   "execution_count": 5,
   "metadata": {},
   "outputs": [
    {
     "name": "stdout",
     "output_type": "stream",
     "text": [
      "[[ 0.  1.  2.  2.]\n",
      " [inf  0. inf  1.]\n",
      " [ 3.  4.  0.  3.]\n",
      " [inf inf inf  0.]]\n"
     ]
    }
   ],
   "source": [
    "print(shortest_path(a))"
   ]
  },
  {
   "cell_type": "code",
   "execution_count": 6,
   "metadata": {},
   "outputs": [
    {
     "name": "stdout",
     "output_type": "stream",
     "text": [
      "<class 'numpy.ndarray'>\n"
     ]
    }
   ],
   "source": [
    "print(type(shortest_path(a)))"
   ]
  },
  {
   "cell_type": "code",
   "execution_count": 7,
   "metadata": {},
   "outputs": [
    {
     "name": "stdout",
     "output_type": "stream",
     "text": [
      "  (0, 1)\t1\n",
      "  (0, 2)\t2\n",
      "  (1, 3)\t1\n",
      "  (2, 0)\t3\n",
      "  (2, 3)\t3\n"
     ]
    }
   ],
   "source": [
    "csr = csr_matrix(l)\n",
    "print(csr)"
   ]
  },
  {
   "cell_type": "code",
   "execution_count": 8,
   "metadata": {},
   "outputs": [
    {
     "name": "stdout",
     "output_type": "stream",
     "text": [
      "<class 'scipy.sparse.csr.csr_matrix'>\n"
     ]
    }
   ],
   "source": [
    "print(type(csr))"
   ]
  },
  {
   "cell_type": "code",
   "execution_count": 9,
   "metadata": {},
   "outputs": [
    {
     "name": "stdout",
     "output_type": "stream",
     "text": [
      "[[ 0.  1.  2.  2.]\n",
      " [inf  0. inf  1.]\n",
      " [ 3.  4.  0.  3.]\n",
      " [inf inf inf  0.]]\n"
     ]
    }
   ],
   "source": [
    "print(shortest_path(csr))"
   ]
  },
  {
   "cell_type": "code",
   "execution_count": 10,
   "metadata": {},
   "outputs": [
    {
     "name": "stdout",
     "output_type": "stream",
     "text": [
      "[0. 1. 2. 2.]\n"
     ]
    }
   ],
   "source": [
    "print(shortest_path(csr, indices=0))"
   ]
  },
  {
   "cell_type": "code",
   "execution_count": 11,
   "metadata": {},
   "outputs": [
    {
     "name": "stdout",
     "output_type": "stream",
     "text": [
      "[[ 0.  1.  2.  2.]\n",
      " [inf inf inf  0.]]\n"
     ]
    }
   ],
   "source": [
    "print(shortest_path(csr, indices=[0, 3]))"
   ]
  },
  {
   "cell_type": "code",
   "execution_count": 12,
   "metadata": {
    "scrolled": true
   },
   "outputs": [
    {
     "name": "stdout",
     "output_type": "stream",
     "text": [
      "[[0. 1. 2. 2.]\n",
      " [1. 0. 3. 1.]\n",
      " [2. 3. 0. 3.]\n",
      " [2. 1. 3. 0.]]\n"
     ]
    }
   ],
   "source": [
    "print(shortest_path(csr, directed=False))"
   ]
  },
  {
   "cell_type": "code",
   "execution_count": 13,
   "metadata": {},
   "outputs": [],
   "source": [
    "l_ud = [[0, 1, 2, 0],\n",
    "        [1, 0, 0, 1],\n",
    "        [2, 0, 0, 3],\n",
    "        [0, 1, 3, 0]]"
   ]
  },
  {
   "cell_type": "code",
   "execution_count": 14,
   "metadata": {},
   "outputs": [
    {
     "name": "stdout",
     "output_type": "stream",
     "text": [
      "[[0. 1. 2. 2.]\n",
      " [1. 0. 3. 1.]\n",
      " [2. 3. 0. 3.]\n",
      " [2. 1. 3. 0.]]\n"
     ]
    }
   ],
   "source": [
    "print(shortest_path(csr_matrix(l_ud)))"
   ]
  },
  {
   "cell_type": "code",
   "execution_count": 15,
   "metadata": {},
   "outputs": [],
   "source": [
    "l2 = [[0, 1, 2, 0],\n",
    "      [100, 0, 0, 1],\n",
    "      [100, 0, 0, 3],\n",
    "      [0, 100, 100, 0]]"
   ]
  },
  {
   "cell_type": "code",
   "execution_count": 16,
   "metadata": {},
   "outputs": [
    {
     "name": "stdout",
     "output_type": "stream",
     "text": [
      "[[0. 1. 2. 2.]\n",
      " [1. 0. 3. 1.]\n",
      " [2. 3. 0. 3.]\n",
      " [2. 1. 3. 0.]]\n"
     ]
    }
   ],
   "source": [
    "print(shortest_path(csr_matrix(l2), directed=False))"
   ]
  },
  {
   "cell_type": "code",
   "execution_count": 17,
   "metadata": {},
   "outputs": [
    {
     "name": "stdout",
     "output_type": "stream",
     "text": [
      "[[ 0.  1.  1.  2.]\n",
      " [inf  0. inf  1.]\n",
      " [ 1.  2.  0.  1.]\n",
      " [inf inf inf  0.]]\n"
     ]
    }
   ],
   "source": [
    "print(shortest_path(csr, unweighted=True))"
   ]
  },
  {
   "cell_type": "code",
   "execution_count": 18,
   "metadata": {},
   "outputs": [],
   "source": [
    "l_uw = [[0, 1, 1, 0],\n",
    "        [0, 0, 0, 1],\n",
    "        [1, 0, 0, 1],\n",
    "        [0, 0, 0, 0]]"
   ]
  },
  {
   "cell_type": "code",
   "execution_count": 19,
   "metadata": {},
   "outputs": [
    {
     "name": "stdout",
     "output_type": "stream",
     "text": [
      "[[ 0.  1.  1.  2.]\n",
      " [inf  0. inf  1.]\n",
      " [ 1.  2.  0.  1.]\n",
      " [inf inf inf  0.]]\n"
     ]
    }
   ],
   "source": [
    "print(shortest_path(csr_matrix(l_uw)))"
   ]
  },
  {
   "cell_type": "code",
   "execution_count": 20,
   "metadata": {},
   "outputs": [],
   "source": [
    "d, p = shortest_path(csr, return_predecessors=True)"
   ]
  },
  {
   "cell_type": "code",
   "execution_count": 21,
   "metadata": {},
   "outputs": [
    {
     "name": "stdout",
     "output_type": "stream",
     "text": [
      "[[ 0.  1.  2.  2.]\n",
      " [inf  0. inf  1.]\n",
      " [ 3.  4.  0.  3.]\n",
      " [inf inf inf  0.]]\n"
     ]
    }
   ],
   "source": [
    "print(d)"
   ]
  },
  {
   "cell_type": "code",
   "execution_count": 22,
   "metadata": {},
   "outputs": [
    {
     "name": "stdout",
     "output_type": "stream",
     "text": [
      "[[-9999     0     0     1]\n",
      " [-9999 -9999 -9999     1]\n",
      " [    2     0 -9999     2]\n",
      " [-9999 -9999 -9999 -9999]]\n"
     ]
    }
   ],
   "source": [
    "print(p)"
   ]
  },
  {
   "cell_type": "code",
   "execution_count": 23,
   "metadata": {},
   "outputs": [],
   "source": [
    "def get_path(start, goal, pred):\n",
    "    return get_path_row(start, goal, pred[start])"
   ]
  },
  {
   "cell_type": "code",
   "execution_count": 24,
   "metadata": {},
   "outputs": [],
   "source": [
    "def get_path_row(start, goal, pred_row):\n",
    "    path = []\n",
    "    i = goal\n",
    "    while i != start and i >= 0:\n",
    "        path.append(i)\n",
    "        i = pred_row[i]\n",
    "    if i < 0:\n",
    "        return []\n",
    "    path.append(i)\n",
    "    return path[::-1]"
   ]
  },
  {
   "cell_type": "code",
   "execution_count": 25,
   "metadata": {},
   "outputs": [
    {
     "name": "stdout",
     "output_type": "stream",
     "text": [
      "[0, 1, 3]\n"
     ]
    }
   ],
   "source": [
    "print(get_path(0, 3, p))"
   ]
  },
  {
   "cell_type": "code",
   "execution_count": 26,
   "metadata": {},
   "outputs": [
    {
     "name": "stdout",
     "output_type": "stream",
     "text": [
      "[2, 0, 1]\n"
     ]
    }
   ],
   "source": [
    "print(get_path(2, 1, p))"
   ]
  },
  {
   "cell_type": "code",
   "execution_count": 27,
   "metadata": {},
   "outputs": [
    {
     "name": "stdout",
     "output_type": "stream",
     "text": [
      "[3]\n"
     ]
    }
   ],
   "source": [
    "print(get_path(3, 3, p))"
   ]
  },
  {
   "cell_type": "code",
   "execution_count": 28,
   "metadata": {},
   "outputs": [
    {
     "name": "stdout",
     "output_type": "stream",
     "text": [
      "[]\n"
     ]
    }
   ],
   "source": [
    "print(get_path(3, 1, p))"
   ]
  },
  {
   "cell_type": "code",
   "execution_count": 29,
   "metadata": {},
   "outputs": [],
   "source": [
    "d2, p2 = shortest_path(csr, indices=2, return_predecessors=True)"
   ]
  },
  {
   "cell_type": "code",
   "execution_count": 30,
   "metadata": {},
   "outputs": [
    {
     "name": "stdout",
     "output_type": "stream",
     "text": [
      "[3. 4. 0. 3.]\n"
     ]
    }
   ],
   "source": [
    "print(d2)"
   ]
  },
  {
   "cell_type": "code",
   "execution_count": 31,
   "metadata": {},
   "outputs": [
    {
     "name": "stdout",
     "output_type": "stream",
     "text": [
      "[    2     0 -9999     2]\n"
     ]
    }
   ],
   "source": [
    "print(p2)"
   ]
  },
  {
   "cell_type": "code",
   "execution_count": 32,
   "metadata": {},
   "outputs": [
    {
     "name": "stdout",
     "output_type": "stream",
     "text": [
      "[2, 0, 1]\n"
     ]
    }
   ],
   "source": [
    "print(get_path_row(2, 1, p2))"
   ]
  },
  {
   "cell_type": "code",
   "execution_count": 33,
   "metadata": {},
   "outputs": [
    {
     "name": "stdout",
     "output_type": "stream",
     "text": [
      "[2, 0]\n"
     ]
    }
   ],
   "source": [
    "print(get_path_row(2, 0, p2))"
   ]
  },
  {
   "cell_type": "code",
   "execution_count": 34,
   "metadata": {},
   "outputs": [],
   "source": [
    "# print(floyd_warshall(csr, indices=0))\n",
    "# TypeError: floyd_warshall() got an unexpected keyword argument 'indices'"
   ]
  },
  {
   "cell_type": "code",
   "execution_count": 35,
   "metadata": {},
   "outputs": [],
   "source": [
    "# print(shortest_path(csr, indices=0, method='FW'))\n",
    "# ValueError: Cannot specify indices with method == 'FW'."
   ]
  },
  {
   "cell_type": "code",
   "execution_count": 36,
   "metadata": {},
   "outputs": [],
   "source": [
    "l_n = [[0, 1, 2, 0],\n",
    "       [0, 0, 0, 1],\n",
    "       [-3, 0, 0, 3],\n",
    "       [0, 0, 0, 0]]"
   ]
  },
  {
   "cell_type": "code",
   "execution_count": 37,
   "metadata": {},
   "outputs": [],
   "source": [
    "# print(dijkstra(csr_matrix(l_n)))\n",
    "# UserWarning: Graph has negative weights: dijkstra will give inaccurate results\n",
    "#              if the graph contains negative cycles. Consider johnson or bellman_ford."
   ]
  },
  {
   "cell_type": "code",
   "execution_count": 38,
   "metadata": {},
   "outputs": [
    {
     "name": "stdout",
     "output_type": "stream",
     "text": [
      "[[ 0.  1.  2.  2.]\n",
      " [inf  0. inf  1.]\n",
      " [ 3.  4.  0.  3.]\n",
      " [inf inf inf  0.]]\n"
     ]
    }
   ],
   "source": [
    "print(dijkstra(csr))"
   ]
  },
  {
   "cell_type": "code",
   "execution_count": 39,
   "metadata": {},
   "outputs": [
    {
     "name": "stdout",
     "output_type": "stream",
     "text": [
      "[[ 0.  1.  2.  2.]\n",
      " [inf  0. inf  1.]\n",
      " [inf inf  0. inf]\n",
      " [inf inf inf  0.]]\n"
     ]
    }
   ],
   "source": [
    "print(dijkstra(csr, limit=2))"
   ]
  },
  {
   "cell_type": "code",
   "execution_count": 40,
   "metadata": {},
   "outputs": [],
   "source": [
    "l_nc = [[0, 1, 2, 0],\n",
    "        [0, 0, -10, 1],\n",
    "        [3, 0, 0, 3],\n",
    "        [0, 0, 0, 0]]"
   ]
  },
  {
   "cell_type": "code",
   "execution_count": 41,
   "metadata": {},
   "outputs": [],
   "source": [
    "# print(bellman_ford(csr_matrix(l_nc)))\n",
    "# NegativeCycleError: Negative cycle detected on node 0"
   ]
  },
  {
   "cell_type": "code",
   "execution_count": 42,
   "metadata": {},
   "outputs": [],
   "source": [
    "# print(floyd_warshall(csr_matrix(l_nc)))\n",
    "# NegativeCycleError: Negative cycle in nodes [0 1 2]"
   ]
  },
  {
   "cell_type": "code",
   "execution_count": 43,
   "metadata": {},
   "outputs": [],
   "source": [
    "# print(johnson(csr_matrix(l_nc)))\n",
    "# NegativeCycleError: Negative cycle detected on node 0"
   ]
  },
  {
   "cell_type": "code",
   "execution_count": 44,
   "metadata": {},
   "outputs": [
    {
     "name": "stdout",
     "output_type": "stream",
     "text": [
      "[[  0.   1.  -9.  -6.]\n",
      " [ -7.   0. -10.  -7.]\n",
      " [  3.   4.   0.   3.]\n",
      " [ inf  inf  inf   0.]]\n"
     ]
    },
    {
     "name": "stderr",
     "output_type": "stream",
     "text": [
      "/usr/local/lib/python3.7/site-packages/ipykernel_launcher.py:1: UserWarning: Graph has negative weights: dijkstra will give inaccurate results if the graph contains negative cycles. Consider johnson or bellman_ford.\n",
      "  \"\"\"Entry point for launching an IPython kernel.\n"
     ]
    }
   ],
   "source": [
    "print(dijkstra(csr_matrix(l_nc)))"
   ]
  }
 ],
 "metadata": {
  "kernelspec": {
   "display_name": "Python 3",
   "language": "python",
   "name": "python3"
  },
  "language_info": {
   "codemirror_mode": {
    "name": "ipython",
    "version": 3
   },
   "file_extension": ".py",
   "mimetype": "text/x-python",
   "name": "python",
   "nbconvert_exporter": "python",
   "pygments_lexer": "ipython3",
   "version": "3.7.4"
  }
 },
 "nbformat": 4,
 "nbformat_minor": 2
}
