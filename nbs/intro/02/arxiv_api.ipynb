{
 "cells": [
  {
   "cell_type": "code",
   "execution_count": 1,
   "metadata": {},
   "outputs": [],
   "source": [
    "import pprint\n",
    "\n",
    "import arxiv\n",
    "import pandas as pd"
   ]
  },
  {
   "cell_type": "code",
   "execution_count": 2,
   "metadata": {},
   "outputs": [],
   "source": [
    "l = arxiv.query(query='au:\"Grisha Perelman\"')"
   ]
  },
  {
   "cell_type": "code",
   "execution_count": 3,
   "metadata": {},
   "outputs": [
    {
     "name": "stdout",
     "output_type": "stream",
     "text": [
      "<class 'list'>\n"
     ]
    }
   ],
   "source": [
    "print(type(l))"
   ]
  },
  {
   "cell_type": "code",
   "execution_count": 4,
   "metadata": {},
   "outputs": [
    {
     "name": "stdout",
     "output_type": "stream",
     "text": [
      "3\n"
     ]
    }
   ],
   "source": [
    "print(len(l))"
   ]
  },
  {
   "cell_type": "code",
   "execution_count": 5,
   "metadata": {},
   "outputs": [
    {
     "name": "stdout",
     "output_type": "stream",
     "text": [
      "<class 'feedparser.FeedParserDict'>\n"
     ]
    }
   ],
   "source": [
    "print(type(l[0]))"
   ]
  },
  {
   "cell_type": "code",
   "execution_count": 6,
   "metadata": {},
   "outputs": [
    {
     "name": "stdout",
     "output_type": "stream",
     "text": [
      "{'affiliation': 'None',\n",
      " 'arxiv_comment': '39 pages',\n",
      " 'arxiv_primary_category': {'scheme': 'http://arxiv.org/schemas/atom', 'term': 'math.DG'},\n",
      " 'arxiv_url': 'http://arxiv.org/abs/math/0211159v1',\n",
      " 'author': 'Grisha Perelman',\n",
      " 'author_detail': {'name': 'Grisha Perelman'},\n",
      " 'authors': ['Grisha Perelman'],\n",
      " 'doi': None,\n",
      " 'guidislink': True,\n",
      " 'id': 'http://arxiv.org/abs/math/0211159v1',\n",
      " 'journal_reference': None,\n",
      " 'links': [{'href': 'http://arxiv.org/abs/math/0211159v1', 'rel': 'alternate', 'type': 'text/html'},\n",
      "           {'href': 'http://arxiv.org/pdf/math/0211159v1', 'rel': 'related', 'title': 'pdf', 'type': 'application/pdf'}],\n",
      " 'pdf_url': 'http://arxiv.org/pdf/math/0211159v1',\n",
      " 'published': '2002-11-11T16:11:49Z',\n",
      " 'published_parsed': time.struct_time(tm_year=2002, tm_mon=11, tm_mday=11, tm_hour=16, tm_min=11, tm_sec=49, tm_wday=0, tm_yday=315, tm_isdst=0),\n",
      " 'summary': 'We present a monotonic expression for the Ricci flow, valid in all dimensions\\n'\n",
      "            'and without curvature assumptions. It is interpreted as an entropy for a\\n'\n",
      "            'certain canonical ensemble. Several geometric applications are given. In\\n'\n",
      "            'particular, (1) Ricci flow, considered on the space of riemannian metrics\\n'\n",
      "            'modulo diffeomorphism and scaling, has no nontrivial periodic orbits (that is,\\n'\n",
      "            'other than fixed points); (2) In a region, where singularity is forming in\\n'\n",
      "            'finite time, the injectivity radius is controlled by the curvature; (3) Ricci\\n'\n",
      "            'flow can not quickly turn an almost euclidean region into a very curved one, no\\n'\n",
      "            'matter what happens far away. We also verify several assertions related to\\n'\n",
      "            \"Richard Hamilton's program for the proof of Thurston geometrization conjecture\\n\"\n",
      "            'for closed three-manifolds, and give a sketch of an eclectic proof of this\\n'\n",
      "            'conjecture, making use of earlier results on collapsing with local lower\\n'\n",
      "            'curvature bound.',\n",
      " 'summary_detail': {'base': 'http://export.arxiv.org/api/query?search_query=au%3A%22Grisha+Perelman%22&id_list=&start=0&max_results=1000&sortBy=relevance&sortOrder=descending',\n",
      "                    'language': None,\n",
      "                    'type': 'text/plain',\n",
      "                    'value': 'We present a monotonic expression for the Ricci flow, valid in all dimensions\\n'\n",
      "                             'and without curvature assumptions. It is interpreted as an entropy for a\\n'\n",
      "                             'certain canonical ensemble. Several geometric applications are given. In\\n'\n",
      "                             'particular, (1) Ricci flow, considered on the space of riemannian metrics\\n'\n",
      "                             'modulo diffeomorphism and scaling, has no nontrivial periodic orbits (that is,\\n'\n",
      "                             'other than fixed points); (2) In a region, where singularity is forming in\\n'\n",
      "                             'finite time, the injectivity radius is controlled by the curvature; (3) Ricci\\n'\n",
      "                             'flow can not quickly turn an almost euclidean region into a very curved one, no\\n'\n",
      "                             'matter what happens far away. We also verify several assertions related to\\n'\n",
      "                             \"Richard Hamilton's program for the proof of Thurston geometrization conjecture\\n\"\n",
      "                             'for closed three-manifolds, and give a sketch of an eclectic proof of this\\n'\n",
      "                             'conjecture, making use of earlier results on collapsing with local lower\\n'\n",
      "                             'curvature bound.'},\n",
      " 'tags': [{'label': None, 'scheme': 'http://arxiv.org/schemas/atom', 'term': 'math.DG'}, {'label': None, 'scheme': 'http://arxiv.org/schemas/atom', 'term': '53C'}],\n",
      " 'title': 'The entropy formula for the Ricci flow and its geometric applications',\n",
      " 'title_detail': {'base': 'http://export.arxiv.org/api/query?search_query=au%3A%22Grisha+Perelman%22&id_list=&start=0&max_results=1000&sortBy=relevance&sortOrder=descending',\n",
      "                  'language': None,\n",
      "                  'type': 'text/plain',\n",
      "                  'value': 'The entropy formula for the Ricci flow and its geometric applications'},\n",
      " 'updated': '2002-11-11T16:11:49Z',\n",
      " 'updated_parsed': time.struct_time(tm_year=2002, tm_mon=11, tm_mday=11, tm_hour=16, tm_min=11, tm_sec=49, tm_wday=0, tm_yday=315, tm_isdst=0)}\n"
     ]
    }
   ],
   "source": [
    "pprint.pprint(l[0], width=200)"
   ]
  },
  {
   "cell_type": "code",
   "execution_count": 7,
   "metadata": {},
   "outputs": [
    {
     "name": "stdout",
     "output_type": "stream",
     "text": [
      "Grisha Perelman\n"
     ]
    }
   ],
   "source": [
    "print(l[0]['author'])"
   ]
  },
  {
   "cell_type": "code",
   "execution_count": 8,
   "metadata": {},
   "outputs": [
    {
     "name": "stdout",
     "output_type": "stream",
     "text": [
      "The entropy formula for the Ricci flow and its geometric applications\n"
     ]
    }
   ],
   "source": [
    "print(l[0]['title'])"
   ]
  },
  {
   "cell_type": "code",
   "execution_count": 9,
   "metadata": {},
   "outputs": [
    {
     "name": "stdout",
     "output_type": "stream",
     "text": [
      "http://arxiv.org/abs/math/0211159v1\n"
     ]
    }
   ],
   "source": [
    "print(l[0]['arxiv_url'])"
   ]
  },
  {
   "cell_type": "code",
   "execution_count": 10,
   "metadata": {},
   "outputs": [
    {
     "name": "stdout",
     "output_type": "stream",
     "text": [
      "http://arxiv.org/pdf/math/0211159v1\n"
     ]
    }
   ],
   "source": [
    "print(l[0]['pdf_url'])"
   ]
  },
  {
   "cell_type": "code",
   "execution_count": 11,
   "metadata": {},
   "outputs": [
    {
     "name": "stdout",
     "output_type": "stream",
     "text": [
      "We present a monotonic expression for the Ricci flow, valid in all dimensions\n",
      "and without curvature assumptions. It is interpreted as an entropy for a\n",
      "certain canonical ensemble. Several geometric applications are given. In\n",
      "particular, (1) Ricci flow, considered on the space of riemannian metrics\n",
      "modulo diffeomorphism and scaling, has no nontrivial periodic orbits (that is,\n",
      "other than fixed points); (2) In a region, where singularity is forming in\n",
      "finite time, the injectivity radius is controlled by the curvature; (3) Ricci\n",
      "flow can not quickly turn an almost euclidean region into a very curved one, no\n",
      "matter what happens far away. We also verify several assertions related to\n",
      "Richard Hamilton's program for the proof of Thurston geometrization conjecture\n",
      "for closed three-manifolds, and give a sketch of an eclectic proof of this\n",
      "conjecture, making use of earlier results on collapsing with local lower\n",
      "curvature bound.\n"
     ]
    }
   ],
   "source": [
    "print(l[0]['summary'])"
   ]
  },
  {
   "cell_type": "code",
   "execution_count": 12,
   "metadata": {},
   "outputs": [
    {
     "name": "stdout",
     "output_type": "stream",
     "text": [
      "['http://arxiv.org/abs/math/0211159v1',\n",
      " 'http://arxiv.org/abs/math/0303109v1',\n",
      " 'http://arxiv.org/abs/math/0307245v1']\n"
     ]
    }
   ],
   "source": [
    "pprint.pprint([a['id'] for a in l])"
   ]
  },
  {
   "cell_type": "code",
   "execution_count": 13,
   "metadata": {},
   "outputs": [
    {
     "name": "stdout",
     "output_type": "stream",
     "text": [
      "[['http://arxiv.org/abs/math/0211159v1', '2002-11-11T16:11:49Z'],\n",
      " ['http://arxiv.org/abs/math/0303109v1', '2003-03-10T16:44:35Z'],\n",
      " ['http://arxiv.org/abs/math/0307245v1', '2003-07-17T15:26:38Z']]\n"
     ]
    }
   ],
   "source": [
    "pprint.pprint([[a['id'], a['published']] for a in l])"
   ]
  },
  {
   "cell_type": "code",
   "execution_count": 14,
   "metadata": {},
   "outputs": [
    {
     "name": "stdout",
     "output_type": "stream",
     "text": [
      "(3, 29)\n"
     ]
    }
   ],
   "source": [
    "df = pd.io.json.json_normalize(l)\n",
    "print(df.shape)"
   ]
  },
  {
   "cell_type": "code",
   "execution_count": 15,
   "metadata": {},
   "outputs": [
    {
     "name": "stdout",
     "output_type": "stream",
     "text": [
      "                                               title             published\n",
      "0  The entropy formula for the Ricci flow and its...  2002-11-11T16:11:49Z\n",
      "1         Ricci flow with surgery on three-manifolds  2003-03-10T16:44:35Z\n",
      "2  Finite extinction time for the solutions to th...  2003-07-17T15:26:38Z\n"
     ]
    }
   ],
   "source": [
    "print(df[['title', 'published']])"
   ]
  },
  {
   "cell_type": "code",
   "execution_count": 16,
   "metadata": {},
   "outputs": [],
   "source": [
    "l = arxiv.query(query='cat:cs.AI', max_results=10, sort_by='submittedDate')"
   ]
  },
  {
   "cell_type": "code",
   "execution_count": 17,
   "metadata": {},
   "outputs": [
    {
     "name": "stdout",
     "output_type": "stream",
     "text": [
      "[['http://arxiv.org/abs/1907.11184v1', '2019-07-25T16:45:06Z'],\n",
      " ['http://arxiv.org/abs/1907.11112v1', '2019-07-25T14:45:04Z'],\n",
      " ['http://arxiv.org/abs/1907.11021v1', '2019-07-25T13:15:12Z'],\n",
      " ['http://arxiv.org/abs/1907.11007v1', '2019-07-25T12:30:08Z'],\n",
      " ['http://arxiv.org/abs/1907.10953v1', '2019-07-25T10:36:01Z'],\n",
      " ['http://arxiv.org/abs/1907.10952v1', '2019-07-25T10:31:34Z'],\n",
      " ['http://arxiv.org/abs/1907.10925v1', '2019-07-25T09:34:13Z'],\n",
      " ['http://arxiv.org/abs/1907.10914v1', '2019-07-25T09:19:30Z'],\n",
      " ['http://arxiv.org/abs/1907.10772v1', '2019-07-24T23:28:37Z'],\n",
      " ['http://arxiv.org/abs/1907.10761v1', '2019-07-24T22:30:04Z']]\n"
     ]
    }
   ],
   "source": [
    "pprint.pprint([[a['id'], a['published']] for a in l])"
   ]
  },
  {
   "cell_type": "code",
   "execution_count": 18,
   "metadata": {},
   "outputs": [],
   "source": [
    "l = arxiv.query(query='cat:cs.AI', max_results=10,\n",
    "                sort_by='submittedDate', sort_order='ascending')"
   ]
  },
  {
   "cell_type": "code",
   "execution_count": 19,
   "metadata": {},
   "outputs": [
    {
     "name": "stdout",
     "output_type": "stream",
     "text": [
      "[['http://arxiv.org/abs/cs/9308101v1', '1993-08-01T00:00:00Z'],\n",
      " ['http://arxiv.org/abs/cs/9308102v1', '1993-08-01T00:00:00Z'],\n",
      " ['http://arxiv.org/abs/cs/9309101v1', '1993-09-01T00:00:00Z'],\n",
      " ['http://arxiv.org/abs/cs/9311101v1', '1993-11-01T00:00:00Z'],\n",
      " ['http://arxiv.org/abs/cs/9311102v1', '1993-11-01T00:00:00Z'],\n",
      " ['http://arxiv.org/abs/cs/9312101v1', '1993-12-01T00:00:00Z'],\n",
      " ['http://arxiv.org/abs/cs/9401101v1', '1994-01-01T00:00:00Z'],\n",
      " ['http://arxiv.org/abs/cs/9402101v1', '1994-02-01T00:00:00Z'],\n",
      " ['http://arxiv.org/abs/cs/9402102v1', '1994-02-01T00:00:00Z'],\n",
      " ['http://arxiv.org/abs/cs/9402103v1', '1994-02-01T00:00:00Z']]\n"
     ]
    }
   ],
   "source": [
    "pprint.pprint([[a['id'], a['published']] for a in l])"
   ]
  },
  {
   "cell_type": "code",
   "execution_count": 20,
   "metadata": {},
   "outputs": [],
   "source": [
    "l = arxiv.query(query='cat:cs.AI AND submittedDate:[20190101 TO 20190131235959]',\n",
    "                sort_by='submittedDate', sort_order='ascending')"
   ]
  },
  {
   "cell_type": "code",
   "execution_count": 21,
   "metadata": {},
   "outputs": [
    {
     "name": "stdout",
     "output_type": "stream",
     "text": [
      "(298, 29)\n"
     ]
    }
   ],
   "source": [
    "df = pd.io.json.json_normalize(l)\n",
    "print(df.shape)"
   ]
  },
  {
   "cell_type": "code",
   "execution_count": 22,
   "metadata": {},
   "outputs": [
    {
     "name": "stdout",
     "output_type": "stream",
     "text": [
      "                                  id             published\n",
      "0  http://arxiv.org/abs/1901.00073v1  2019-01-01T01:22:19Z\n",
      "1  http://arxiv.org/abs/1901.00117v1  2019-01-01T08:50:47Z\n",
      "2  http://arxiv.org/abs/1901.00158v2  2019-01-01T14:41:17Z\n",
      "3  http://arxiv.org/abs/1901.01851v1  2019-01-01T18:05:43Z\n",
      "4  http://arxiv.org/abs/1901.00204v1  2019-01-01T20:02:38Z\n"
     ]
    }
   ],
   "source": [
    "print(df.head()[['id', 'published']])"
   ]
  },
  {
   "cell_type": "code",
   "execution_count": 23,
   "metadata": {},
   "outputs": [
    {
     "name": "stdout",
     "output_type": "stream",
     "text": [
      "                                    id             published\n",
      "293  http://arxiv.org/abs/1902.00045v1  2019-01-31T19:33:13Z\n",
      "294  http://arxiv.org/abs/1902.00098v1  2019-01-31T22:14:34Z\n",
      "295  http://arxiv.org/abs/1902.03092v1  2019-01-31T22:26:56Z\n",
      "296  http://arxiv.org/abs/1902.00120v1  2019-01-31T23:10:31Z\n",
      "297  http://arxiv.org/abs/1902.00137v2  2019-01-31T23:59:34Z\n"
     ]
    }
   ],
   "source": [
    "print(df.tail()[['id', 'published']])"
   ]
  },
  {
   "cell_type": "code",
   "execution_count": 24,
   "metadata": {},
   "outputs": [],
   "source": [
    "l = arxiv.query(query='cat:cs.AI AND ti:\"deep learning\" AND submittedDate:[20190101 TO 20190131235959]',\n",
    "                sort_by='submittedDate', sort_order='ascending')"
   ]
  },
  {
   "cell_type": "code",
   "execution_count": 25,
   "metadata": {},
   "outputs": [
    {
     "name": "stdout",
     "output_type": "stream",
     "text": [
      "                                               title             published\n",
      "0  Augmentation Scheme for Dealing with Imbalance...  2019-01-01T20:02:38Z\n",
      "1  Geometrization of deep networks for the interp...  2019-01-06T14:32:45Z\n",
      "2  Deep Learning for Human Affect Recognition: In...  2019-01-09T23:33:47Z\n",
      "3  Automatic Surface Area and Volume Prediction o...  2019-01-15T17:26:43Z\n",
      "4  Fast Deep Learning for Automatic Modulation Cl...  2019-01-16T01:15:50Z\n",
      "5  DLocRL: A Deep Learning Pipeline for Fine-Grai...  2019-01-21T17:36:19Z\n",
      "6  DF-SLAM: A Deep-Learning Enhanced Visual SLAM ...  2019-01-22T09:25:08Z\n",
      "7            Deep learning Inversion of Seismic Data  2019-01-23T05:51:05Z\n",
      "8  Proceedings of AAAI 2019 Workshop on Network I...  2019-01-25T10:12:23Z\n"
     ]
    }
   ],
   "source": [
    "df = pd.io.json.json_normalize(l)\n",
    "print(df[['title', 'published']])"
   ]
  },
  {
   "cell_type": "code",
   "execution_count": 26,
   "metadata": {},
   "outputs": [],
   "source": [
    "l = arxiv.query(id_list=['1902.00358v2', '1902.00358', 'math/0211159v1'])"
   ]
  },
  {
   "cell_type": "code",
   "execution_count": 27,
   "metadata": {},
   "outputs": [
    {
     "name": "stdout",
     "output_type": "stream",
     "text": [
      "http://arxiv.org/abs/1902.00358v2\n",
      "http://arxiv.org/abs/1902.00358v2\n",
      "http://arxiv.org/abs/math/0211159v1\n"
     ]
    }
   ],
   "source": [
    "for a in l:\n",
    "    print(a['arxiv_url'])"
   ]
  }
 ],
 "metadata": {
  "kernelspec": {
   "display_name": "Python 3",
   "language": "python",
   "name": "python3"
  },
  "language_info": {
   "codemirror_mode": {
    "name": "ipython",
    "version": 3
   },
   "file_extension": ".py",
   "mimetype": "text/x-python",
   "name": "python",
   "nbconvert_exporter": "python",
   "pygments_lexer": "ipython3",
   "version": "3.7.5"
  }
 },
 "nbformat": 4,
 "nbformat_minor": 2
}
