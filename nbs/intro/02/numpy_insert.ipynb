{
 "cells": [
  {
   "cell_type": "code",
   "execution_count": 1,
   "metadata": {
    "collapsed": true
   },
   "outputs": [],
   "source": [
    "import numpy as np"
   ]
  },
  {
   "cell_type": "code",
   "execution_count": 2,
   "metadata": {},
   "outputs": [
    {
     "name": "stdout",
     "output_type": "stream",
     "text": [
      "[0 1 2 3]\n"
     ]
    }
   ],
   "source": [
    "a = np.arange(4)\n",
    "print(a)"
   ]
  },
  {
   "cell_type": "code",
   "execution_count": 3,
   "metadata": {},
   "outputs": [
    {
     "name": "stdout",
     "output_type": "stream",
     "text": [
      "[  0   1 100   2   3]\n"
     ]
    }
   ],
   "source": [
    "print(np.insert(a, 2, 100))"
   ]
  },
  {
   "cell_type": "code",
   "execution_count": 4,
   "metadata": {},
   "outputs": [
    {
     "name": "stdout",
     "output_type": "stream",
     "text": [
      "[  0 100 101 102   1   2   3]\n"
     ]
    }
   ],
   "source": [
    "print(np.insert(a, 1, [100, 101, 102]))"
   ]
  },
  {
   "cell_type": "code",
   "execution_count": 5,
   "metadata": {},
   "outputs": [
    {
     "name": "stdout",
     "output_type": "stream",
     "text": [
      "[100   0   1 101   2   3 102]\n"
     ]
    }
   ],
   "source": [
    "print(np.insert(a, [0, 2, 4], [100, 101, 102]))"
   ]
  },
  {
   "cell_type": "code",
   "execution_count": 6,
   "metadata": {},
   "outputs": [
    {
     "name": "stdout",
     "output_type": "stream",
     "text": [
      "[  0 100   2   3]\n"
     ]
    }
   ],
   "source": [
    "_a = a.copy()\n",
    "_a[1] = 100\n",
    "print(_a)"
   ]
  },
  {
   "cell_type": "code",
   "execution_count": 7,
   "metadata": {},
   "outputs": [
    {
     "name": "stdout",
     "output_type": "stream",
     "text": [
      "[  0 100 101   3]\n"
     ]
    }
   ],
   "source": [
    "_a = a.copy()\n",
    "_a[1:3] = [100, 101]\n",
    "print(_a)"
   ]
  },
  {
   "cell_type": "code",
   "execution_count": 8,
   "metadata": {
    "collapsed": true
   },
   "outputs": [],
   "source": [
    "# _a = a.copy()\n",
    "# _a[1] = [100, 101, 102]\n",
    "# print(_a)\n",
    "# ValueError: setting an array element with a sequence."
   ]
  },
  {
   "cell_type": "code",
   "execution_count": 9,
   "metadata": {},
   "outputs": [
    {
     "name": "stdout",
     "output_type": "stream",
     "text": [
      "[  0 100 101 102   2   3]\n"
     ]
    }
   ],
   "source": [
    "_a = np.insert(a, 1, [100, 101, 102])\n",
    "_a = np.delete(_a, 4)\n",
    "print(_a)"
   ]
  },
  {
   "cell_type": "code",
   "execution_count": 10,
   "metadata": {},
   "outputs": [
    {
     "name": "stdout",
     "output_type": "stream",
     "text": [
      "[[ 0  1  2  3]\n",
      " [ 4  5  6  7]\n",
      " [ 8  9 10 11]]\n"
     ]
    }
   ],
   "source": [
    "a = np.arange(12).reshape((3, 4))\n",
    "print(a)"
   ]
  },
  {
   "cell_type": "code",
   "execution_count": 11,
   "metadata": {},
   "outputs": [
    {
     "name": "stdout",
     "output_type": "stream",
     "text": [
      "[  0   1 100   2   3   4   5   6   7   8   9  10  11]\n"
     ]
    }
   ],
   "source": [
    "print(np.insert(a, 2, 100))"
   ]
  },
  {
   "cell_type": "code",
   "execution_count": 12,
   "metadata": {},
   "outputs": [
    {
     "name": "stdout",
     "output_type": "stream",
     "text": [
      "[[  0   1   2   3]\n",
      " [  4   5   6   7]\n",
      " [100 100 100 100]\n",
      " [  8   9  10  11]]\n"
     ]
    }
   ],
   "source": [
    "print(np.insert(a, 2, 100, axis=0))"
   ]
  },
  {
   "cell_type": "code",
   "execution_count": 13,
   "metadata": {},
   "outputs": [
    {
     "name": "stdout",
     "output_type": "stream",
     "text": [
      "[100 101 102 103]\n"
     ]
    }
   ],
   "source": [
    "b1 = np.arange(100, 104)\n",
    "print(b1)"
   ]
  },
  {
   "cell_type": "code",
   "execution_count": 14,
   "metadata": {},
   "outputs": [
    {
     "name": "stdout",
     "output_type": "stream",
     "text": [
      "[[  0   1   2   3]\n",
      " [100 101 102 103]\n",
      " [  4   5   6   7]\n",
      " [  8   9  10  11]]\n"
     ]
    }
   ],
   "source": [
    "print(np.insert(a, 1, b1, axis=0))"
   ]
  },
  {
   "cell_type": "code",
   "execution_count": 15,
   "metadata": {},
   "outputs": [
    {
     "name": "stdout",
     "output_type": "stream",
     "text": [
      "[[  0   1   2   3]\n",
      " [  4   5   6   7]\n",
      " [  8   9  10  11]\n",
      " [100 101 102 103]]\n"
     ]
    }
   ],
   "source": [
    "print(np.insert(a, 3, b1, axis=0))"
   ]
  },
  {
   "cell_type": "code",
   "execution_count": 16,
   "metadata": {},
   "outputs": [
    {
     "name": "stdout",
     "output_type": "stream",
     "text": [
      "[[100 101 102 103]\n",
      " [  0   1   2   3]\n",
      " [  4   5   6   7]\n",
      " [100 101 102 103]\n",
      " [  8   9  10  11]]\n"
     ]
    }
   ],
   "source": [
    "print(np.insert(a, [0, 2], b1, axis=0))"
   ]
  },
  {
   "cell_type": "code",
   "execution_count": 17,
   "metadata": {},
   "outputs": [
    {
     "name": "stdout",
     "output_type": "stream",
     "text": [
      "[[100 101 102 103]\n",
      " [104 105 106 107]\n",
      " [108 109 110 111]]\n"
     ]
    }
   ],
   "source": [
    "b2 = np.arange(100, 112).reshape((3, 4))\n",
    "print(b2)"
   ]
  },
  {
   "cell_type": "code",
   "execution_count": 18,
   "metadata": {},
   "outputs": [
    {
     "name": "stdout",
     "output_type": "stream",
     "text": [
      "[[  0   1   2   3]\n",
      " [  4   5   6   7]\n",
      " [100 101 102 103]\n",
      " [104 105 106 107]\n",
      " [108 109 110 111]\n",
      " [  8   9  10  11]]\n"
     ]
    }
   ],
   "source": [
    "print(np.insert(a, 2, b2, axis=0))"
   ]
  },
  {
   "cell_type": "code",
   "execution_count": 19,
   "metadata": {},
   "outputs": [
    {
     "name": "stdout",
     "output_type": "stream",
     "text": [
      "[[  0   1   2   3]\n",
      " [  4   5   6   7]\n",
      " [108 109 110 111]\n",
      " [  8   9  10  11]]\n"
     ]
    }
   ],
   "source": [
    "print(np.insert(a, 2, b2[2], axis=0))"
   ]
  },
  {
   "cell_type": "code",
   "execution_count": 20,
   "metadata": {},
   "outputs": [
    {
     "name": "stdout",
     "output_type": "stream",
     "text": [
      "[[100 101 102 103]\n",
      " [  0   1   2   3]\n",
      " [  4   5   6   7]\n",
      " [104 105 106 107]\n",
      " [  8   9  10  11]\n",
      " [108 109 110 111]]\n"
     ]
    }
   ],
   "source": [
    "print(np.insert(a, [0, 2, 3], b2, axis=0))"
   ]
  },
  {
   "cell_type": "code",
   "execution_count": 21,
   "metadata": {},
   "outputs": [
    {
     "name": "stdout",
     "output_type": "stream",
     "text": [
      "[[100 101 102 103]\n",
      " [  0   1   2   3]\n",
      " [104 105 106 107]\n",
      " [  4   5   6   7]\n",
      " [108 109 110 111]\n",
      " [  8   9  10  11]]\n"
     ]
    }
   ],
   "source": [
    "print(np.insert(a, range(3), b2, axis=0))"
   ]
  },
  {
   "cell_type": "code",
   "execution_count": 22,
   "metadata": {},
   "outputs": [
    {
     "name": "stdout",
     "output_type": "stream",
     "text": [
      "[[  0   1   2   3]\n",
      " [  4   5   6   7]\n",
      " [  8   9  10  11]\n",
      " [100 101 102 103]]\n"
     ]
    }
   ],
   "source": [
    "print(np.vstack((a, b1)))"
   ]
  },
  {
   "cell_type": "code",
   "execution_count": 23,
   "metadata": {},
   "outputs": [
    {
     "name": "stdout",
     "output_type": "stream",
     "text": [
      "[[100 101 102 103]\n",
      " [104 105 106 107]\n",
      " [108 109 110 111]\n",
      " [  0   1   2   3]\n",
      " [  4   5   6   7]\n",
      " [  8   9  10  11]]\n"
     ]
    }
   ],
   "source": [
    "print(np.vstack((b2, a)))"
   ]
  },
  {
   "cell_type": "code",
   "execution_count": 24,
   "metadata": {},
   "outputs": [
    {
     "name": "stdout",
     "output_type": "stream",
     "text": [
      "[[  0   1   2   3]\n",
      " [  4   5   6   7]\n",
      " [100 101 102 103]]\n"
     ]
    }
   ],
   "source": [
    "_a = a.copy()\n",
    "_a[2] = b1\n",
    "print(_a)"
   ]
  },
  {
   "cell_type": "code",
   "execution_count": 25,
   "metadata": {},
   "outputs": [
    {
     "name": "stdout",
     "output_type": "stream",
     "text": [
      "[[  0   1   2   3]\n",
      " [104 105 106 107]\n",
      " [  8   9  10  11]]\n"
     ]
    }
   ],
   "source": [
    "_a = a.copy()\n",
    "_a[1] = b2[1]\n",
    "print(_a)"
   ]
  },
  {
   "cell_type": "code",
   "execution_count": 26,
   "metadata": {},
   "outputs": [
    {
     "name": "stdout",
     "output_type": "stream",
     "text": [
      "[[  0   1   2   3]\n",
      " [100 101 102 103]\n",
      " [108 109 110 111]]\n"
     ]
    }
   ],
   "source": [
    "_a = a.copy()\n",
    "_a[1:] = b2[[0, 2]]\n",
    "print(_a)"
   ]
  },
  {
   "cell_type": "code",
   "execution_count": 27,
   "metadata": {},
   "outputs": [
    {
     "name": "stdout",
     "output_type": "stream",
     "text": [
      "[[ 0  1  2  3]\n",
      " [ 4  5  6  7]\n",
      " [ 8  9 10 11]]\n"
     ]
    }
   ],
   "source": [
    "print(a)"
   ]
  },
  {
   "cell_type": "code",
   "execution_count": 28,
   "metadata": {},
   "outputs": [
    {
     "name": "stdout",
     "output_type": "stream",
     "text": [
      "[[  0 100   1   2   3]\n",
      " [  4 100   5   6   7]\n",
      " [  8 100   9  10  11]]\n"
     ]
    }
   ],
   "source": [
    "print(np.insert(a, 1, 100, axis=1))"
   ]
  },
  {
   "cell_type": "code",
   "execution_count": 29,
   "metadata": {},
   "outputs": [
    {
     "name": "stdout",
     "output_type": "stream",
     "text": [
      "[100 101 102]\n"
     ]
    }
   ],
   "source": [
    "c1 = np.arange(100, 103)\n",
    "print(c1)"
   ]
  },
  {
   "cell_type": "code",
   "execution_count": 30,
   "metadata": {},
   "outputs": [
    {
     "name": "stdout",
     "output_type": "stream",
     "text": [
      "[[  0 100   1   2   3]\n",
      " [  4 101   5   6   7]\n",
      " [  8 102   9  10  11]]\n"
     ]
    }
   ],
   "source": [
    "print(np.insert(a, 1, c1, axis=1))"
   ]
  },
  {
   "cell_type": "code",
   "execution_count": 31,
   "metadata": {},
   "outputs": [
    {
     "name": "stdout",
     "output_type": "stream",
     "text": [
      "[[  0   1   2 100   3]\n",
      " [  4   5   6 101   7]\n",
      " [  8   9  10 102  11]]\n"
     ]
    }
   ],
   "source": [
    "print(np.insert(a, 3, c1, axis=1))"
   ]
  },
  {
   "cell_type": "code",
   "execution_count": 32,
   "metadata": {},
   "outputs": [
    {
     "name": "stdout",
     "output_type": "stream",
     "text": [
      "[[100 101]\n",
      " [102 103]\n",
      " [104 105]]\n"
     ]
    }
   ],
   "source": [
    "c2 = np.arange(100, 106).reshape((3, 2))\n",
    "print(c2)"
   ]
  },
  {
   "cell_type": "code",
   "execution_count": 33,
   "metadata": {
    "collapsed": true
   },
   "outputs": [],
   "source": [
    "# print(np.insert(a, 1, c2, axis=1))\n",
    "# ValueError: could not broadcast input array from shape (2,3) into shape (3,3)"
   ]
  },
  {
   "cell_type": "code",
   "execution_count": 34,
   "metadata": {},
   "outputs": [
    {
     "name": "stdout",
     "output_type": "stream",
     "text": [
      "[[  0 100 101   1   2   3]\n",
      " [  4 102 103   5   6   7]\n",
      " [  8 104 105   9  10  11]]\n"
     ]
    }
   ],
   "source": [
    "print(np.insert(a, [1], c2, axis=1))"
   ]
  },
  {
   "cell_type": "code",
   "execution_count": 35,
   "metadata": {},
   "outputs": [
    {
     "name": "stdout",
     "output_type": "stream",
     "text": [
      "[[100   0   1 101   2   3]\n",
      " [102   4   5 103   6   7]\n",
      " [104   8   9 105  10  11]]\n"
     ]
    }
   ],
   "source": [
    "print(np.insert(a, [0, 2], c2, axis=1))"
   ]
  },
  {
   "cell_type": "code",
   "execution_count": 36,
   "metadata": {},
   "outputs": [
    {
     "name": "stdout",
     "output_type": "stream",
     "text": [
      "[100 101 102]\n"
     ]
    }
   ],
   "source": [
    "print(c1)"
   ]
  },
  {
   "cell_type": "code",
   "execution_count": 37,
   "metadata": {},
   "outputs": [
    {
     "name": "stdout",
     "output_type": "stream",
     "text": [
      "[[  0 100   1   2   3]\n",
      " [  4 101   5   6   7]\n",
      " [  8 102   9  10  11]]\n"
     ]
    }
   ],
   "source": [
    "print(np.insert(a, 1, c1, axis=1))"
   ]
  },
  {
   "cell_type": "code",
   "execution_count": 38,
   "metadata": {},
   "outputs": [
    {
     "name": "stdout",
     "output_type": "stream",
     "text": [
      "[[  0 100 101 102   1   2   3]\n",
      " [  4 100 101 102   5   6   7]\n",
      " [  8 100 101 102   9  10  11]]\n"
     ]
    }
   ],
   "source": [
    "print(np.insert(a, [1], c1, axis=1))"
   ]
  },
  {
   "cell_type": "code",
   "execution_count": 39,
   "metadata": {},
   "outputs": [
    {
     "name": "stdout",
     "output_type": "stream",
     "text": [
      "[[  0 100   1   2 101   3 102]\n",
      " [  4 100   5   6 101   7 102]\n",
      " [  8 100   9  10 101  11 102]]\n"
     ]
    }
   ],
   "source": [
    "print(np.insert(a, [1, 3, 4], c1, axis=1))"
   ]
  },
  {
   "cell_type": "code",
   "execution_count": 40,
   "metadata": {},
   "outputs": [
    {
     "name": "stdout",
     "output_type": "stream",
     "text": [
      "[[100]\n",
      " [101]\n",
      " [102]]\n"
     ]
    }
   ],
   "source": [
    "_c1 = c1.reshape((3, 1))\n",
    "print(_c1)"
   ]
  },
  {
   "cell_type": "code",
   "execution_count": 41,
   "metadata": {},
   "outputs": [
    {
     "name": "stdout",
     "output_type": "stream",
     "text": [
      "[[  0 100 101 102   1   2   3]\n",
      " [  4 100 101 102   5   6   7]\n",
      " [  8 100 101 102   9  10  11]]\n"
     ]
    }
   ],
   "source": [
    "print(np.insert(a, 1, _c1, axis=1))"
   ]
  },
  {
   "cell_type": "code",
   "execution_count": 42,
   "metadata": {},
   "outputs": [
    {
     "name": "stdout",
     "output_type": "stream",
     "text": [
      "[[  0 100   1   2   3]\n",
      " [  4 101   5   6   7]\n",
      " [  8 102   9  10  11]]\n"
     ]
    }
   ],
   "source": [
    "print(np.insert(a, [1], _c1, axis=1))"
   ]
  },
  {
   "cell_type": "code",
   "execution_count": 43,
   "metadata": {},
   "outputs": [
    {
     "name": "stdout",
     "output_type": "stream",
     "text": [
      "[[  0 100   1   2 100   3 100]\n",
      " [  4 101   5   6 101   7 101]\n",
      " [  8 102   9  10 102  11 102]]\n"
     ]
    }
   ],
   "source": [
    "print(np.insert(a, [1, 3, 4], _c1, axis=1))"
   ]
  },
  {
   "cell_type": "code",
   "execution_count": 44,
   "metadata": {
    "collapsed": true
   },
   "outputs": [],
   "source": [
    "# print(np.hstack((a, c1)))\n",
    "# ValueError: all the input arrays must have same number of dimensions"
   ]
  },
  {
   "cell_type": "code",
   "execution_count": 45,
   "metadata": {},
   "outputs": [
    {
     "name": "stdout",
     "output_type": "stream",
     "text": [
      "[[100]\n",
      " [101]\n",
      " [102]]\n"
     ]
    }
   ],
   "source": [
    "print(_c1)"
   ]
  },
  {
   "cell_type": "code",
   "execution_count": 46,
   "metadata": {},
   "outputs": [
    {
     "name": "stdout",
     "output_type": "stream",
     "text": [
      "[[  0   1   2   3 100]\n",
      " [  4   5   6   7 101]\n",
      " [  8   9  10  11 102]]\n"
     ]
    }
   ],
   "source": [
    "print(np.hstack((a, _c1)))"
   ]
  },
  {
   "cell_type": "code",
   "execution_count": 47,
   "metadata": {},
   "outputs": [
    {
     "name": "stdout",
     "output_type": "stream",
     "text": [
      "[[100   0   1   2   3]\n",
      " [101   4   5   6   7]\n",
      " [102   8   9  10  11]]\n"
     ]
    }
   ],
   "source": [
    "print(np.hstack((_c1, a)))"
   ]
  },
  {
   "cell_type": "code",
   "execution_count": 48,
   "metadata": {},
   "outputs": [
    {
     "name": "stdout",
     "output_type": "stream",
     "text": [
      "[[  0   1   2   3 100 101]\n",
      " [  4   5   6   7 102 103]\n",
      " [  8   9  10  11 104 105]]\n"
     ]
    }
   ],
   "source": [
    "print(np.hstack((a, c2)))"
   ]
  },
  {
   "cell_type": "code",
   "execution_count": 49,
   "metadata": {},
   "outputs": [
    {
     "name": "stdout",
     "output_type": "stream",
     "text": [
      "[[100 101   0   1   2   3]\n",
      " [102 103   4   5   6   7]\n",
      " [104 105   8   9  10  11]]\n"
     ]
    }
   ],
   "source": [
    "print(np.hstack((c2, a)))"
   ]
  },
  {
   "cell_type": "code",
   "execution_count": 50,
   "metadata": {},
   "outputs": [
    {
     "name": "stdout",
     "output_type": "stream",
     "text": [
      "[[  0 100   2   3]\n",
      " [  4 101   6   7]\n",
      " [  8 102  10  11]]\n"
     ]
    }
   ],
   "source": [
    "_a = a.copy()\n",
    "_a[:, 1] = c1\n",
    "print(_a)"
   ]
  },
  {
   "cell_type": "code",
   "execution_count": 51,
   "metadata": {},
   "outputs": [
    {
     "name": "stdout",
     "output_type": "stream",
     "text": [
      "[[100 101   2   3]\n",
      " [102 103   6   7]\n",
      " [104 105  10  11]]\n"
     ]
    }
   ],
   "source": [
    "_a = a.copy()\n",
    "_a[:, :2] = c2\n",
    "print(_a)"
   ]
  },
  {
   "cell_type": "code",
   "execution_count": 52,
   "metadata": {},
   "outputs": [
    {
     "name": "stdout",
     "output_type": "stream",
     "text": [
      "[[100   1   2 101]\n",
      " [102   5   6 103]\n",
      " [104   9  10 105]]\n"
     ]
    }
   ],
   "source": [
    "_a = a.copy()\n",
    "_a[:, [0, 3]] = c2\n",
    "print(_a)"
   ]
  }
 ],
 "metadata": {
  "kernelspec": {
   "display_name": "Python 3",
   "language": "python",
   "name": "python3"
  },
  "language_info": {
   "codemirror_mode": {
    "name": "ipython",
    "version": 3
   },
   "file_extension": ".py",
   "mimetype": "text/x-python",
   "name": "python",
   "nbconvert_exporter": "python",
   "pygments_lexer": "ipython3",
   "version": "3.6.4"
  }
 },
 "nbformat": 4,
 "nbformat_minor": 2
}
