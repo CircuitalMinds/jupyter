{
 "cells": [
  {
   "cell_type": "code",
   "execution_count": 1,
   "metadata": {},
   "outputs": [],
   "source": [
    "import pprint"
   ]
  },
  {
   "cell_type": "code",
   "execution_count": 2,
   "metadata": {},
   "outputs": [],
   "source": [
    "l = [{'Name': 'Alice XXX', 'Age': 40, 'Points': [80, 20]}, \n",
    "     {'Name': 'Bob YYY', 'Age': 20, 'Points': [90, 10]},\n",
    "     {'Name': 'Charlie ZZZ', 'Age': 30, 'Points': [70, 30]}]"
   ]
  },
  {
   "cell_type": "code",
   "execution_count": 3,
   "metadata": {},
   "outputs": [
    {
     "name": "stdout",
     "output_type": "stream",
     "text": [
      "[{'Name': 'Alice XXX', 'Age': 40, 'Points': [80, 20]}, {'Name': 'Bob YYY', 'Age': 20, 'Points': [90, 10]}, {'Name': 'Charlie ZZZ', 'Age': 30, 'Points': [70, 30]}]\n"
     ]
    }
   ],
   "source": [
    "print(l)"
   ]
  },
  {
   "cell_type": "code",
   "execution_count": 4,
   "metadata": {},
   "outputs": [
    {
     "name": "stdout",
     "output_type": "stream",
     "text": [
      "[{'Age': 40, 'Name': 'Alice XXX', 'Points': [80, 20]},\n",
      " {'Age': 20, 'Name': 'Bob YYY', 'Points': [90, 10]},\n",
      " {'Age': 30, 'Name': 'Charlie ZZZ', 'Points': [70, 30]}]\n"
     ]
    }
   ],
   "source": [
    "pprint.pprint(l)"
   ]
  },
  {
   "cell_type": "code",
   "execution_count": 5,
   "metadata": {},
   "outputs": [
    {
     "name": "stdout",
     "output_type": "stream",
     "text": [
      "[{'Age': 40,\n",
      "  'Name': 'Alice XXX',\n",
      "  'Points': [80, 20]},\n",
      " {'Age': 20,\n",
      "  'Name': 'Bob YYY',\n",
      "  'Points': [90, 10]},\n",
      " {'Age': 30,\n",
      "  'Name': 'Charlie ZZZ',\n",
      "  'Points': [70, 30]}]\n"
     ]
    }
   ],
   "source": [
    "pprint.pprint(l, width=40)"
   ]
  },
  {
   "cell_type": "code",
   "execution_count": 6,
   "metadata": {},
   "outputs": [
    {
     "name": "stdout",
     "output_type": "stream",
     "text": [
      "[{'Age': 40, 'Name': 'Alice XXX', 'Points': [80, 20]}, {'Age': 20, 'Name': 'Bob YYY', 'Points': [90, 10]}, {'Age': 30, 'Name': 'Charlie ZZZ', 'Points': [70, 30]}]\n"
     ]
    }
   ],
   "source": [
    "pprint.pprint(l, width=200)"
   ]
  },
  {
   "cell_type": "code",
   "execution_count": 7,
   "metadata": {},
   "outputs": [
    {
     "name": "stdout",
     "output_type": "stream",
     "text": [
      "[{'Age': 40,\n",
      "  'Name': 'Alice '\n",
      "          'XXX',\n",
      "  'Points': [80,\n",
      "             20]},\n",
      " {'Age': 20,\n",
      "  'Name': 'Bob '\n",
      "          'YYY',\n",
      "  'Points': [90,\n",
      "             10]},\n",
      " {'Age': 30,\n",
      "  'Name': 'Charlie '\n",
      "          'ZZZ',\n",
      "  'Points': [70,\n",
      "             30]}]\n"
     ]
    }
   ],
   "source": [
    "pprint.pprint(l, width=1)"
   ]
  },
  {
   "cell_type": "code",
   "execution_count": 8,
   "metadata": {},
   "outputs": [
    {
     "name": "stdout",
     "output_type": "stream",
     "text": [
      "[{...}, {...}, {...}]\n"
     ]
    }
   ],
   "source": [
    "pprint.pprint(l, depth=1)"
   ]
  },
  {
   "cell_type": "code",
   "execution_count": 9,
   "metadata": {},
   "outputs": [
    {
     "name": "stdout",
     "output_type": "stream",
     "text": [
      "[{'Age': 40, 'Name': 'Alice XXX', 'Points': [...]},\n",
      " {'Age': 20, 'Name': 'Bob YYY', 'Points': [...]},\n",
      " {'Age': 30, 'Name': 'Charlie ZZZ', 'Points': [...]}]\n"
     ]
    }
   ],
   "source": [
    "pprint.pprint(l, depth=2)"
   ]
  },
  {
   "cell_type": "code",
   "execution_count": 10,
   "metadata": {},
   "outputs": [
    {
     "name": "stdout",
     "output_type": "stream",
     "text": [
      "[{'Age': 40,\n",
      "  'Name': 'Alice XXX',\n",
      "  'Points': [...]},\n",
      " {'Age': 20,\n",
      "  'Name': 'Bob YYY',\n",
      "  'Points': [...]},\n",
      " {'Age': 30,\n",
      "  'Name': 'Charlie ZZZ',\n",
      "  'Points': [...]}]\n"
     ]
    }
   ],
   "source": [
    "pprint.pprint(l, depth=2, width=40)"
   ]
  },
  {
   "cell_type": "code",
   "execution_count": 11,
   "metadata": {},
   "outputs": [
    {
     "name": "stdout",
     "output_type": "stream",
     "text": [
      "[   {   'Age': 40,\n",
      "        'Name': 'Alice '\n",
      "                'XXX',\n",
      "        'Points': [   80,\n",
      "                      20]},\n",
      "    {   'Age': 20,\n",
      "        'Name': 'Bob '\n",
      "                'YYY',\n",
      "        'Points': [   90,\n",
      "                      10]},\n",
      "    {   'Age': 30,\n",
      "        'Name': 'Charlie '\n",
      "                'ZZZ',\n",
      "        'Points': [   70,\n",
      "                      30]}]\n"
     ]
    }
   ],
   "source": [
    "pprint.pprint(l, indent=4, width=4)"
   ]
  },
  {
   "cell_type": "code",
   "execution_count": 12,
   "metadata": {},
   "outputs": [],
   "source": [
    "l_long = [list(range(10)), list(range(100, 110))]"
   ]
  },
  {
   "cell_type": "code",
   "execution_count": 13,
   "metadata": {},
   "outputs": [
    {
     "name": "stdout",
     "output_type": "stream",
     "text": [
      "[[0, 1, 2, 3, 4, 5, 6, 7, 8, 9], [100, 101, 102, 103, 104, 105, 106, 107, 108, 109]]\n"
     ]
    }
   ],
   "source": [
    "print(l_long)"
   ]
  },
  {
   "cell_type": "code",
   "execution_count": 14,
   "metadata": {},
   "outputs": [
    {
     "name": "stdout",
     "output_type": "stream",
     "text": [
      "[[0, 1, 2, 3, 4, 5, 6, 7, 8, 9],\n",
      " [100,\n",
      "  101,\n",
      "  102,\n",
      "  103,\n",
      "  104,\n",
      "  105,\n",
      "  106,\n",
      "  107,\n",
      "  108,\n",
      "  109]]\n"
     ]
    }
   ],
   "source": [
    "pprint.pprint(l_long, width=40)"
   ]
  },
  {
   "cell_type": "code",
   "execution_count": 15,
   "metadata": {},
   "outputs": [
    {
     "name": "stdout",
     "output_type": "stream",
     "text": [
      "[[0, 1, 2, 3, 4, 5, 6, 7, 8, 9],\n",
      " [100, 101, 102, 103, 104, 105, 106,\n",
      "  107, 108, 109]]\n"
     ]
    }
   ],
   "source": [
    "pprint.pprint(l_long, width=40, compact=True)"
   ]
  },
  {
   "cell_type": "code",
   "execution_count": 16,
   "metadata": {},
   "outputs": [
    {
     "name": "stdout",
     "output_type": "stream",
     "text": [
      "[{'Name': 'Alice XXX', 'Age': 40, 'Points': [80, 20]}, {'Name': 'Bob YYY', 'Age': 20, 'Points': [90, 10]}, {'Name': 'Charlie ZZZ', 'Age': 30, 'Points': [70, 30]}]\n"
     ]
    }
   ],
   "source": [
    "s_normal = str(l)\n",
    "print(s_normal)"
   ]
  },
  {
   "cell_type": "code",
   "execution_count": 17,
   "metadata": {},
   "outputs": [
    {
     "name": "stdout",
     "output_type": "stream",
     "text": [
      "<class 'str'>\n"
     ]
    }
   ],
   "source": [
    "print(type(s_normal))"
   ]
  },
  {
   "cell_type": "code",
   "execution_count": 18,
   "metadata": {},
   "outputs": [
    {
     "name": "stdout",
     "output_type": "stream",
     "text": [
      "[{'Age': 40, 'Name': 'Alice XXX', 'Points': [80, 20]},\n",
      " {'Age': 20, 'Name': 'Bob YYY', 'Points': [90, 10]},\n",
      " {'Age': 30, 'Name': 'Charlie ZZZ', 'Points': [70, 30]}]\n"
     ]
    }
   ],
   "source": [
    "s_pp = pprint.pformat(l)\n",
    "print(s_pp)"
   ]
  },
  {
   "cell_type": "code",
   "execution_count": 19,
   "metadata": {},
   "outputs": [
    {
     "name": "stdout",
     "output_type": "stream",
     "text": [
      "<class 'str'>\n"
     ]
    }
   ],
   "source": [
    "print(type(s_pp))"
   ]
  },
  {
   "cell_type": "code",
   "execution_count": 20,
   "metadata": {},
   "outputs": [
    {
     "name": "stdout",
     "output_type": "stream",
     "text": [
      "[ { 'Age': 40,\n",
      "    'Name': 'Alice XXX',\n",
      "    'Points': [...]},\n",
      "  { 'Age': 20,\n",
      "    'Name': 'Bob YYY',\n",
      "    'Points': [...]},\n",
      "  { 'Age': 30,\n",
      "    'Name': 'Charlie ZZZ',\n",
      "    'Points': [...]}]\n"
     ]
    }
   ],
   "source": [
    "s_pp = pprint.pformat(l, depth=2, width=40, indent=2)\n",
    "print(s_pp)"
   ]
  },
  {
   "cell_type": "code",
   "execution_count": 21,
   "metadata": {},
   "outputs": [],
   "source": [
    "l_2d = [list(range(10)), list(range(10)), list(range(10))]"
   ]
  },
  {
   "cell_type": "code",
   "execution_count": 22,
   "metadata": {},
   "outputs": [
    {
     "name": "stdout",
     "output_type": "stream",
     "text": [
      "[[0, 1, 2, 3, 4, 5, 6, 7, 8, 9], [0, 1, 2, 3, 4, 5, 6, 7, 8, 9], [0, 1, 2, 3, 4, 5, 6, 7, 8, 9]]\n"
     ]
    }
   ],
   "source": [
    "print(l_2d)"
   ]
  },
  {
   "cell_type": "code",
   "execution_count": 23,
   "metadata": {},
   "outputs": [
    {
     "name": "stdout",
     "output_type": "stream",
     "text": [
      "[[0, 1, 2, 3, 4, 5, 6, 7, 8, 9],\n",
      " [0, 1, 2, 3, 4, 5, 6, 7, 8, 9],\n",
      " [0, 1, 2, 3, 4, 5, 6, 7, 8, 9]]\n"
     ]
    }
   ],
   "source": [
    "pprint.pprint(l_2d)"
   ]
  },
  {
   "cell_type": "code",
   "execution_count": 24,
   "metadata": {},
   "outputs": [],
   "source": [
    "l_2d = [[0, 1, 2], [3, 4, 5], [6, 7, 8]]"
   ]
  },
  {
   "cell_type": "code",
   "execution_count": 25,
   "metadata": {},
   "outputs": [
    {
     "name": "stdout",
     "output_type": "stream",
     "text": [
      "[[0, 1, 2], [3, 4, 5], [6, 7, 8]]\n"
     ]
    }
   ],
   "source": [
    "print(l_2d)"
   ]
  },
  {
   "cell_type": "code",
   "execution_count": 26,
   "metadata": {},
   "outputs": [
    {
     "name": "stdout",
     "output_type": "stream",
     "text": [
      "[[0, 1, 2], [3, 4, 5], [6, 7, 8]]\n"
     ]
    }
   ],
   "source": [
    "pprint.pprint(l_2d)"
   ]
  },
  {
   "cell_type": "code",
   "execution_count": 27,
   "metadata": {},
   "outputs": [
    {
     "name": "stdout",
     "output_type": "stream",
     "text": [
      "[[0, 1, 2],\n",
      " [3, 4, 5],\n",
      " [6, 7, 8]]\n"
     ]
    }
   ],
   "source": [
    "pprint.pprint(l_2d, width=20)"
   ]
  },
  {
   "cell_type": "code",
   "execution_count": 28,
   "metadata": {},
   "outputs": [
    {
     "name": "stdout",
     "output_type": "stream",
     "text": [
      "[[0, 1, 2],\n",
      " [3, 4, 5],\n",
      " [6, 7, 8]]\n"
     ]
    }
   ],
   "source": [
    "s = pprint.pformat(l_2d, width=20)\n",
    "print(s)"
   ]
  },
  {
   "cell_type": "code",
   "execution_count": 29,
   "metadata": {},
   "outputs": [
    {
     "name": "stdout",
     "output_type": "stream",
     "text": [
      "<class 'str'>\n"
     ]
    }
   ],
   "source": [
    "print(type(s))"
   ]
  }
 ],
 "metadata": {
  "kernelspec": {
   "display_name": "Python 3",
   "language": "python",
   "name": "python3"
  },
  "language_info": {
   "codemirror_mode": {
    "name": "ipython",
    "version": 3
   },
   "file_extension": ".py",
   "mimetype": "text/x-python",
   "name": "python",
   "nbconvert_exporter": "python",
   "pygments_lexer": "ipython3",
   "version": "3.7.0"
  }
 },
 "nbformat": 4,
 "nbformat_minor": 2
}
