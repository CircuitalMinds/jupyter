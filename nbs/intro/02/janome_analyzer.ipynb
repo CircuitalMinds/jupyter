{
 "cells": [
  {
   "cell_type": "code",
   "execution_count": 1,
   "metadata": {
    "collapsed": true
   },
   "outputs": [],
   "source": [
    "from janome.tokenizer import Tokenizer\n",
    "from janome.analyzer import Analyzer\n",
    "from janome.charfilter import *\n",
    "from janome.tokenfilter import *"
   ]
  },
  {
   "cell_type": "code",
   "execution_count": 2,
   "metadata": {
    "collapsed": true
   },
   "outputs": [],
   "source": [
    "t = Tokenizer()"
   ]
  },
  {
   "cell_type": "code",
   "execution_count": 3,
   "metadata": {
    "collapsed": true
   },
   "outputs": [],
   "source": [
    "s = '<div>PythonとＰＹＴＨＯＮとパイソンとﾊﾟｲｿﾝ</div>'"
   ]
  },
  {
   "cell_type": "code",
   "execution_count": 4,
   "metadata": {},
   "outputs": [
    {
     "name": "stdout",
     "output_type": "stream",
     "text": [
      "<\t名詞,サ変接続,*,*,*,*,<,*,*\n",
      "div\t名詞,一般,*,*,*,*,div,*,*\n",
      ">\t名詞,サ変接続,*,*,*,*,>,*,*\n",
      "Python\t名詞,一般,*,*,*,*,Python,*,*\n",
      "と\t助詞,並立助詞,*,*,*,*,と,ト,ト\n",
      "ＰＹＴＨＯＮ\t名詞,固有名詞,組織,*,*,*,ＰＹＴＨＯＮ,*,*\n",
      "と\t助詞,並立助詞,*,*,*,*,と,ト,ト\n",
      "パイソン\t名詞,一般,*,*,*,*,パイソン,*,*\n",
      "と\t助詞,並立助詞,*,*,*,*,と,ト,ト\n",
      "ﾊﾟｲｿﾝ\t名詞,一般,*,*,*,*,ﾊﾟｲｿﾝ,*,*\n",
      "</\t名詞,サ変接続,*,*,*,*,</,*,*\n",
      "div\t名詞,一般,*,*,*,*,div,*,*\n",
      ">\t名詞,サ変接続,*,*,*,*,>,*,*\n"
     ]
    }
   ],
   "source": [
    "for token in t.tokenize(s):\n",
    "    print(token)"
   ]
  },
  {
   "cell_type": "code",
   "execution_count": 5,
   "metadata": {
    "collapsed": true
   },
   "outputs": [],
   "source": [
    "char_filters = [UnicodeNormalizeCharFilter(),\n",
    "                RegexReplaceCharFilter('<.*?>', '')]"
   ]
  },
  {
   "cell_type": "code",
   "execution_count": 6,
   "metadata": {
    "collapsed": true
   },
   "outputs": [],
   "source": [
    "token_filters = [POSKeepFilter(['名詞']),\n",
    "                 LowerCaseFilter(),\n",
    "                 ExtractAttributeFilter('surface')]"
   ]
  },
  {
   "cell_type": "code",
   "execution_count": 7,
   "metadata": {
    "collapsed": true
   },
   "outputs": [],
   "source": [
    "a = Analyzer(char_filters=char_filters, token_filters=token_filters)"
   ]
  },
  {
   "cell_type": "code",
   "execution_count": 8,
   "metadata": {},
   "outputs": [
    {
     "name": "stdout",
     "output_type": "stream",
     "text": [
      "python\n",
      "python\n",
      "パイソン\n",
      "パイソン\n"
     ]
    }
   ],
   "source": [
    "for token in a.analyze(s):\n",
    "    print(token)"
   ]
  },
  {
   "cell_type": "code",
   "execution_count": 9,
   "metadata": {
    "collapsed": true
   },
   "outputs": [],
   "source": [
    "s = '自然言語処理による日本国憲法の形態素解析'"
   ]
  },
  {
   "cell_type": "code",
   "execution_count": 10,
   "metadata": {},
   "outputs": [
    {
     "name": "stdout",
     "output_type": "stream",
     "text": [
      "自然\t名詞,形容動詞語幹,*,*,*,*,自然,シゼン,シゼン\n",
      "言語\t名詞,一般,*,*,*,*,言語,ゲンゴ,ゲンゴ\n",
      "処理\t名詞,サ変接続,*,*,*,*,処理,ショリ,ショリ\n",
      "による\t助詞,格助詞,連語,*,*,*,による,ニヨル,ニヨル\n",
      "日本国\t名詞,固有名詞,地域,国,*,*,日本国,ニッポンコク,ニッポンコク\n",
      "憲法\t名詞,一般,*,*,*,*,憲法,ケンポウ,ケンポー\n",
      "の\t助詞,連体化,*,*,*,*,の,ノ,ノ\n",
      "形態素\t名詞,一般,*,*,*,*,形態素,ケイタイソ,ケイタイソ\n",
      "解析\t名詞,サ変接続,*,*,*,*,解析,カイセキ,カイセキ\n"
     ]
    }
   ],
   "source": [
    "for token in t.tokenize(s):\n",
    "    print(token)"
   ]
  },
  {
   "cell_type": "code",
   "execution_count": 11,
   "metadata": {
    "collapsed": true
   },
   "outputs": [],
   "source": [
    "a = Analyzer(token_filters=[CompoundNounFilter()])"
   ]
  },
  {
   "cell_type": "code",
   "execution_count": 12,
   "metadata": {},
   "outputs": [
    {
     "name": "stdout",
     "output_type": "stream",
     "text": [
      "自然言語処理\t名詞,複合,*,*,*,*,自然言語処理,シゼンゲンゴショリ,シゼンゲンゴショリ\n",
      "による\t助詞,格助詞,連語,*,*,*,による,ニヨル,ニヨル\n",
      "日本国憲法\t名詞,複合,*,*,*,*,日本国憲法,ニッポンコクケンポウ,ニッポンコクケンポー\n",
      "の\t助詞,連体化,*,*,*,*,の,ノ,ノ\n",
      "形態素解析\t名詞,複合,*,*,*,*,形態素解析,ケイタイソカイセキ,ケイタイソカイセキ\n"
     ]
    }
   ],
   "source": [
    "for token in a.analyze(s):\n",
    "    print(token)"
   ]
  },
  {
   "cell_type": "code",
   "execution_count": 13,
   "metadata": {
    "collapsed": true
   },
   "outputs": [],
   "source": [
    "s = '人民の人民による人民のための政治'"
   ]
  },
  {
   "cell_type": "code",
   "execution_count": 14,
   "metadata": {
    "collapsed": true
   },
   "outputs": [],
   "source": [
    "a = Analyzer(token_filters=[POSKeepFilter(['名詞']), TokenCountFilter()])"
   ]
  },
  {
   "cell_type": "code",
   "execution_count": 15,
   "metadata": {},
   "outputs": [
    {
     "name": "stdout",
     "output_type": "stream",
     "text": [
      "<class 'generator'>\n"
     ]
    }
   ],
   "source": [
    "g_count = a.analyze(s)\n",
    "print(type(g_count))"
   ]
  },
  {
   "cell_type": "code",
   "execution_count": 16,
   "metadata": {},
   "outputs": [
    {
     "name": "stdout",
     "output_type": "stream",
     "text": [
      "('人民', 3)\n",
      "('ため', 1)\n",
      "('政治', 1)\n"
     ]
    }
   ],
   "source": [
    "for i in g_count:\n",
    "    print(i)"
   ]
  },
  {
   "cell_type": "code",
   "execution_count": 17,
   "metadata": {},
   "outputs": [
    {
     "name": "stdout",
     "output_type": "stream",
     "text": [
      "<class 'list'>\n"
     ]
    }
   ],
   "source": [
    "l_count = list(a.analyze(s))\n",
    "print(type(l_count))"
   ]
  },
  {
   "cell_type": "code",
   "execution_count": 18,
   "metadata": {},
   "outputs": [
    {
     "name": "stdout",
     "output_type": "stream",
     "text": [
      "[('人民', 3), ('ため', 1), ('政治', 1)]\n"
     ]
    }
   ],
   "source": [
    "print(l_count)"
   ]
  },
  {
   "cell_type": "code",
   "execution_count": 19,
   "metadata": {},
   "outputs": [
    {
     "name": "stdout",
     "output_type": "stream",
     "text": [
      "<class 'dict'>\n"
     ]
    }
   ],
   "source": [
    "d_count = dict(a.analyze(s))\n",
    "print(type(d_count))"
   ]
  },
  {
   "cell_type": "code",
   "execution_count": 20,
   "metadata": {},
   "outputs": [
    {
     "name": "stdout",
     "output_type": "stream",
     "text": [
      "{'人民': 3, 'ため': 1, '政治': 1}\n"
     ]
    }
   ],
   "source": [
    "print(d_count)"
   ]
  },
  {
   "cell_type": "code",
   "execution_count": 21,
   "metadata": {},
   "outputs": [
    {
     "name": "stdout",
     "output_type": "stream",
     "text": [
      "3\n"
     ]
    }
   ],
   "source": [
    "print(d_count['人民'])"
   ]
  },
  {
   "cell_type": "code",
   "execution_count": 22,
   "metadata": {
    "collapsed": true
   },
   "outputs": [],
   "source": [
    "# print(d_count['国民'])\n",
    "# KeyError: '国民'"
   ]
  },
  {
   "cell_type": "code",
   "execution_count": 23,
   "metadata": {},
   "outputs": [
    {
     "name": "stdout",
     "output_type": "stream",
     "text": [
      "0\n"
     ]
    }
   ],
   "source": [
    "print(d_count.get('国民', 0))"
   ]
  },
  {
   "cell_type": "code",
   "execution_count": 24,
   "metadata": {
    "collapsed": true
   },
   "outputs": [],
   "source": [
    "s = '走れと言われたので走ると言った'"
   ]
  },
  {
   "cell_type": "code",
   "execution_count": 25,
   "metadata": {
    "collapsed": true
   },
   "outputs": [],
   "source": [
    "a = Analyzer(token_filters=[TokenCountFilter()])"
   ]
  },
  {
   "cell_type": "code",
   "execution_count": 26,
   "metadata": {},
   "outputs": [
    {
     "name": "stdout",
     "output_type": "stream",
     "text": [
      "[('走れ', 1), ('と', 2), ('言わ', 1), ('れ', 1), ('た', 2), ('ので', 1), ('走る', 1), ('言っ', 1)]\n"
     ]
    }
   ],
   "source": [
    "print(list(a.analyze(s)))"
   ]
  },
  {
   "cell_type": "code",
   "execution_count": 27,
   "metadata": {
    "collapsed": true
   },
   "outputs": [],
   "source": [
    "a = Analyzer(token_filters=[TokenCountFilter(att='base_form')])"
   ]
  },
  {
   "cell_type": "code",
   "execution_count": 28,
   "metadata": {},
   "outputs": [
    {
     "name": "stdout",
     "output_type": "stream",
     "text": [
      "[('走る', 2), ('と', 2), ('言う', 2), ('れる', 1), ('た', 2), ('ので', 1)]\n"
     ]
    }
   ],
   "source": [
    "print(list(a.analyze(s)))"
   ]
  },
  {
   "cell_type": "code",
   "execution_count": 29,
   "metadata": {
    "collapsed": true
   },
   "outputs": [],
   "source": [
    "a = Analyzer(token_filters=[TokenCountFilter(att='part_of_speech')])"
   ]
  },
  {
   "cell_type": "code",
   "execution_count": 30,
   "metadata": {},
   "outputs": [
    {
     "name": "stdout",
     "output_type": "stream",
     "text": [
      "[('動詞,自立,*,*', 4), ('助詞,格助詞,引用,*', 2), ('動詞,接尾,*,*', 1), ('助動詞,*,*,*', 2), ('助詞,接続助詞,*,*', 1)]\n"
     ]
    }
   ],
   "source": [
    "print(list(a.analyze(s)))"
   ]
  },
  {
   "cell_type": "code",
   "execution_count": 31,
   "metadata": {
    "collapsed": true
   },
   "outputs": [],
   "source": [
    "s = '吾輩は猫である'"
   ]
  },
  {
   "cell_type": "code",
   "execution_count": 32,
   "metadata": {
    "collapsed": true
   },
   "outputs": [],
   "source": [
    "a = Analyzer(token_filters=[POSKeepFilter('助動詞')])"
   ]
  },
  {
   "cell_type": "code",
   "execution_count": 33,
   "metadata": {},
   "outputs": [
    {
     "name": "stdout",
     "output_type": "stream",
     "text": [
      "は\t助詞,係助詞,*,*,*,*,は,ハ,ワ\n",
      "で\t助動詞,*,*,*,特殊・ダ,連用形,だ,デ,デ\n",
      "ある\t助動詞,*,*,*,五段・ラ行アル,基本形,ある,アル,アル\n"
     ]
    }
   ],
   "source": [
    "for token in a.analyze(s):\n",
    "    print(token)"
   ]
  },
  {
   "cell_type": "code",
   "execution_count": 34,
   "metadata": {
    "collapsed": true
   },
   "outputs": [],
   "source": [
    "a = Analyzer(token_filters=[POSKeepFilter(['助動詞'])])"
   ]
  },
  {
   "cell_type": "code",
   "execution_count": 35,
   "metadata": {},
   "outputs": [
    {
     "name": "stdout",
     "output_type": "stream",
     "text": [
      "で\t助動詞,*,*,*,特殊・ダ,連用形,だ,デ,デ\n",
      "ある\t助動詞,*,*,*,五段・ラ行アル,基本形,ある,アル,アル\n"
     ]
    }
   ],
   "source": [
    "for token in a.analyze(s):\n",
    "    print(token)"
   ]
  }
 ],
 "metadata": {
  "kernelspec": {
   "display_name": "Python 3",
   "language": "python",
   "name": "python3"
  },
  "language_info": {
   "codemirror_mode": {
    "name": "ipython",
    "version": 3
   },
   "file_extension": ".py",
   "mimetype": "text/x-python",
   "name": "python",
   "nbconvert_exporter": "python",
   "pygments_lexer": "ipython3",
   "version": "3.6.5"
  }
 },
 "nbformat": 4,
 "nbformat_minor": 2
}
