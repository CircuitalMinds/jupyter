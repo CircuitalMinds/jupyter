{
 "cells": [
  {
   "cell_type": "code",
   "execution_count": 1,
   "metadata": {
    "collapsed": true
   },
   "outputs": [],
   "source": [
    "import textwrap"
   ]
  },
  {
   "cell_type": "code",
   "execution_count": 2,
   "metadata": {
    "collapsed": true
   },
   "outputs": [],
   "source": [
    "s = \"Python can be easy to pick up whether you're a first time programmer or you're experienced with other languages\""
   ]
  },
  {
   "cell_type": "code",
   "execution_count": 3,
   "metadata": {},
   "outputs": [
    {
     "name": "stdout",
     "output_type": "stream",
     "text": [
      "['Python can be easy to pick up whether', \"you're a first time programmer or you're\", 'experienced with other languages']\n"
     ]
    }
   ],
   "source": [
    "s_wrap_list = textwrap.wrap(s, 40)\n",
    "print(s_wrap_list)"
   ]
  },
  {
   "cell_type": "code",
   "execution_count": 4,
   "metadata": {},
   "outputs": [
    {
     "name": "stdout",
     "output_type": "stream",
     "text": [
      "Python can be easy to pick up whether\n",
      "you're a first time programmer or you're\n",
      "experienced with other languages\n"
     ]
    }
   ],
   "source": [
    "print('\\n'.join(s_wrap_list))"
   ]
  },
  {
   "cell_type": "code",
   "execution_count": 5,
   "metadata": {},
   "outputs": [
    {
     "name": "stdout",
     "output_type": "stream",
     "text": [
      "Python can be easy to pick up whether\n",
      "you're a first time programmer or you're\n",
      "experienced with other languages\n"
     ]
    }
   ],
   "source": [
    "print(textwrap.fill(s, 40))"
   ]
  },
  {
   "cell_type": "code",
   "execution_count": 6,
   "metadata": {},
   "outputs": [
    {
     "name": "stdout",
     "output_type": "stream",
     "text": [
      "['Python can be easy to pick up whether', \"you're a first time programmer or [...]\"]\n"
     ]
    }
   ],
   "source": [
    "print(textwrap.wrap(s, 40, max_lines=2))"
   ]
  },
  {
   "cell_type": "code",
   "execution_count": 7,
   "metadata": {},
   "outputs": [
    {
     "name": "stdout",
     "output_type": "stream",
     "text": [
      "Python can be easy to pick up whether\n",
      "you're a first time programmer or [...]\n"
     ]
    }
   ],
   "source": [
    "print(textwrap.fill(s, 40, max_lines=2))"
   ]
  },
  {
   "cell_type": "code",
   "execution_count": 8,
   "metadata": {},
   "outputs": [
    {
     "name": "stdout",
     "output_type": "stream",
     "text": [
      "Python can be easy to pick up whether\n",
      "you're a first time programmer or ~\n"
     ]
    }
   ],
   "source": [
    "print(textwrap.fill(s, 40, max_lines=2, placeholder=' ~'))"
   ]
  },
  {
   "cell_type": "code",
   "execution_count": 9,
   "metadata": {},
   "outputs": [
    {
     "name": "stdout",
     "output_type": "stream",
     "text": [
      "  Python can be easy to pick up whether\n",
      "you're a first time programmer or ~\n"
     ]
    }
   ],
   "source": [
    "print(textwrap.fill(s, 40, max_lines=2, placeholder=' ~', initial_indent='  '))"
   ]
  },
  {
   "cell_type": "code",
   "execution_count": 10,
   "metadata": {
    "collapsed": true
   },
   "outputs": [],
   "source": [
    "s = 'あいうえお、かきくけこ、12345,67890, さしすせそ、abcde'"
   ]
  },
  {
   "cell_type": "code",
   "execution_count": 11,
   "metadata": {},
   "outputs": [
    {
     "name": "stdout",
     "output_type": "stream",
     "text": [
      "あいうえお、かきくけこ、\n",
      "12345,67890,\n",
      "さしすせそ、abcde\n"
     ]
    }
   ],
   "source": [
    "print(textwrap.fill(s, 12))"
   ]
  },
  {
   "cell_type": "code",
   "execution_count": 12,
   "metadata": {
    "collapsed": true
   },
   "outputs": [],
   "source": [
    "s = 'Python is powerful'"
   ]
  },
  {
   "cell_type": "code",
   "execution_count": 13,
   "metadata": {},
   "outputs": [
    {
     "name": "stdout",
     "output_type": "stream",
     "text": [
      "Python [...]\n"
     ]
    }
   ],
   "source": [
    "print(textwrap.shorten(s, 12))"
   ]
  },
  {
   "cell_type": "code",
   "execution_count": 14,
   "metadata": {},
   "outputs": [
    {
     "name": "stdout",
     "output_type": "stream",
     "text": [
      "Python is ~\n"
     ]
    }
   ],
   "source": [
    "print(textwrap.shorten(s, 12, placeholder=' ~'))"
   ]
  },
  {
   "cell_type": "code",
   "execution_count": 15,
   "metadata": {
    "collapsed": true
   },
   "outputs": [],
   "source": [
    "s = 'Pythonについて。Pythonは汎用のプログラミング言語である。'"
   ]
  },
  {
   "cell_type": "code",
   "execution_count": 16,
   "metadata": {},
   "outputs": [
    {
     "name": "stdout",
     "output_type": "stream",
     "text": [
      "[...]\n"
     ]
    }
   ],
   "source": [
    "print(textwrap.shorten(s, 20))"
   ]
  },
  {
   "cell_type": "code",
   "execution_count": 17,
   "metadata": {},
   "outputs": [
    {
     "name": "stdout",
     "output_type": "stream",
     "text": [
      "Pythonについて。P...\n"
     ]
    }
   ],
   "source": [
    "s_short = s[:12] + '...'\n",
    "print(s_short)"
   ]
  },
  {
   "cell_type": "code",
   "execution_count": 18,
   "metadata": {
    "collapsed": true
   },
   "outputs": [],
   "source": [
    "wrapper = textwrap.TextWrapper(width=30, max_lines=3, placeholder=' ~', initial_indent='  ')"
   ]
  },
  {
   "cell_type": "code",
   "execution_count": 19,
   "metadata": {
    "collapsed": true
   },
   "outputs": [],
   "source": [
    "s = \"Python can be easy to pick up whether you're a first time programmer or you're experienced with other languages\""
   ]
  },
  {
   "cell_type": "code",
   "execution_count": 20,
   "metadata": {},
   "outputs": [
    {
     "name": "stdout",
     "output_type": "stream",
     "text": [
      "['  Python can be easy to pick', \"up whether you're a first time\", \"programmer or you're ~\"]\n"
     ]
    }
   ],
   "source": [
    "print(wrapper.wrap(s))"
   ]
  },
  {
   "cell_type": "code",
   "execution_count": 21,
   "metadata": {},
   "outputs": [
    {
     "name": "stdout",
     "output_type": "stream",
     "text": [
      "  Python can be easy to pick\n",
      "up whether you're a first time\n",
      "programmer or you're ~\n"
     ]
    }
   ],
   "source": [
    "print(wrapper.fill(s))"
   ]
  }
 ],
 "metadata": {
  "kernelspec": {
   "display_name": "Python 3",
   "language": "python",
   "name": "python3"
  },
  "language_info": {
   "codemirror_mode": {
    "name": "ipython",
    "version": 3
   },
   "file_extension": ".py",
   "mimetype": "text/x-python",
   "name": "python",
   "nbconvert_exporter": "python",
   "pygments_lexer": "ipython3",
   "version": "3.6.4"
  }
 },
 "nbformat": 4,
 "nbformat_minor": 2
}
