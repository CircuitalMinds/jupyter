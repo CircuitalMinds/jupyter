{
 "cells": [
  {
   "cell_type": "code",
   "execution_count": 1,
   "metadata": {},
   "outputs": [],
   "source": [
    "import regex"
   ]
  },
  {
   "cell_type": "code",
   "execution_count": 2,
   "metadata": {},
   "outputs": [
    {
     "name": "stdout",
     "output_type": "stream",
     "text": [
      "<regex.Match object; span=(0, 14), match='あいうえおぁぃぅぇぉわをんゟ'>\n"
     ]
    }
   ],
   "source": [
    "p = regex.compile(r'\\p{Block=Hiragana}+')\n",
    "print(p.fullmatch('あいうえおぁぃぅぇぉわをんゟ'))"
   ]
  },
  {
   "cell_type": "code",
   "execution_count": 3,
   "metadata": {},
   "outputs": [
    {
     "name": "stdout",
     "output_type": "stream",
     "text": [
      "<regex.Match object; span=(0, 15), match='あいうえおぁぃぅぇぉわをんゟ🈀'>\n"
     ]
    }
   ],
   "source": [
    "p = regex.compile(r'\\p{Script=Hiragana}+')\n",
    "print(p.fullmatch('あいうえおぁぃぅぇぉわをんゟ🈀'))"
   ]
  },
  {
   "cell_type": "code",
   "execution_count": 4,
   "metadata": {},
   "outputs": [
    {
     "name": "stdout",
     "output_type": "stream",
     "text": [
      "<regex.Match object; span=(0, 15), match='あいうえおぁぃぅぇぉわをんゟ🈀'>\n"
     ]
    }
   ],
   "source": [
    "p = regex.compile(r'\\p{Hiragana}+')\n",
    "print(p.fullmatch('あいうえおぁぃぅぇぉわをんゟ🈀'))"
   ]
  },
  {
   "cell_type": "code",
   "execution_count": 5,
   "metadata": {},
   "outputs": [],
   "source": [
    "# p = regex.compile(r'\\p{subhead=Hiragana_letters}+')\n",
    "# error: unknown property at position 28"
   ]
  },
  {
   "cell_type": "code",
   "execution_count": 6,
   "metadata": {},
   "outputs": [
    {
     "name": "stdout",
     "output_type": "stream",
     "text": [
      "<regex.Match object; span=(0, 10), match='あーいアイウabc🈀'>\n"
     ]
    }
   ],
   "source": [
    "p = regex.compile(r'[\\p{Script=Hiragana}\\p{Script=Katakana}ーa-z]+')\n",
    "print(p.fullmatch('あーいアイウabc🈀'))"
   ]
  }
 ],
 "metadata": {
  "kernelspec": {
   "display_name": "Python 3",
   "language": "python",
   "name": "python3"
  },
  "language_info": {
   "codemirror_mode": {
    "name": "ipython",
    "version": 3
   },
   "file_extension": ".py",
   "mimetype": "text/x-python",
   "name": "python",
   "nbconvert_exporter": "python",
   "pygments_lexer": "ipython3",
   "version": "3.7.3"
  }
 },
 "nbformat": 4,
 "nbformat_minor": 2
}
