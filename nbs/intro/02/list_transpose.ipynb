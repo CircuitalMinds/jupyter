{
 "cells": [
  {
   "cell_type": "code",
   "execution_count": 1,
   "metadata": {
    "collapsed": true
   },
   "outputs": [],
   "source": [
    "import numpy as np\n",
    "import pandas as pd"
   ]
  },
  {
   "cell_type": "code",
   "execution_count": 2,
   "metadata": {
    "collapsed": true
   },
   "outputs": [],
   "source": [
    "l_2d = [[0, 1, 2], [3, 4, 5]]"
   ]
  },
  {
   "cell_type": "code",
   "execution_count": 3,
   "metadata": {},
   "outputs": [
    {
     "name": "stdout",
     "output_type": "stream",
     "text": [
      "[[0 3]\n",
      " [1 4]\n",
      " [2 5]]\n",
      "<class 'numpy.ndarray'>\n"
     ]
    }
   ],
   "source": [
    "arr_t = np.array(l_2d).T\n",
    "\n",
    "print(arr_t)\n",
    "print(type(arr_t))"
   ]
  },
  {
   "cell_type": "code",
   "execution_count": 4,
   "metadata": {},
   "outputs": [
    {
     "name": "stdout",
     "output_type": "stream",
     "text": [
      "[[0, 3], [1, 4], [2, 5]]\n",
      "<class 'list'>\n"
     ]
    }
   ],
   "source": [
    "l_2d_t = np.array(l_2d).T.tolist()\n",
    "\n",
    "print(l_2d_t)\n",
    "print(type(l_2d_t))"
   ]
  },
  {
   "cell_type": "code",
   "execution_count": 5,
   "metadata": {},
   "outputs": [
    {
     "name": "stdout",
     "output_type": "stream",
     "text": [
      "   0  1\n",
      "0  0  3\n",
      "1  1  4\n",
      "2  2  5\n",
      "<class 'pandas.core.frame.DataFrame'>\n"
     ]
    }
   ],
   "source": [
    "df_t = pd.DataFrame(l_2d).T\n",
    "\n",
    "print(df_t)\n",
    "print(type(df_t))"
   ]
  },
  {
   "cell_type": "code",
   "execution_count": 6,
   "metadata": {},
   "outputs": [
    {
     "name": "stdout",
     "output_type": "stream",
     "text": [
      "[[0, 3], [1, 4], [2, 5]]\n",
      "<class 'list'>\n"
     ]
    }
   ],
   "source": [
    "l_2d_t = pd.DataFrame(l_2d).T.values.tolist()\n",
    "\n",
    "print(l_2d_t)\n",
    "print(type(l_2d_t))"
   ]
  },
  {
   "cell_type": "code",
   "execution_count": 7,
   "metadata": {},
   "outputs": [
    {
     "name": "stdout",
     "output_type": "stream",
     "text": [
      "[(0, 3), (1, 4), (2, 5)]\n",
      "<class 'list'>\n"
     ]
    }
   ],
   "source": [
    "l_2d_t_tuple = list(zip(*l_2d))\n",
    "\n",
    "print(l_2d_t_tuple)\n",
    "print(type(l_2d_t_tuple))"
   ]
  },
  {
   "cell_type": "code",
   "execution_count": 8,
   "metadata": {},
   "outputs": [
    {
     "name": "stdout",
     "output_type": "stream",
     "text": [
      "(0, 3)\n",
      "<class 'tuple'>\n"
     ]
    }
   ],
   "source": [
    "print(l_2d_t_tuple[0])\n",
    "print(type(l_2d_t_tuple[0]))"
   ]
  },
  {
   "cell_type": "code",
   "execution_count": 9,
   "metadata": {},
   "outputs": [
    {
     "name": "stdout",
     "output_type": "stream",
     "text": [
      "[[0, 3], [1, 4], [2, 5]]\n",
      "<class 'list'>\n"
     ]
    }
   ],
   "source": [
    "l_2d_t = [list(x) for x in zip(*l_2d)]\n",
    "\n",
    "print(l_2d_t)\n",
    "print(type(l_2d_t))"
   ]
  },
  {
   "cell_type": "code",
   "execution_count": 10,
   "metadata": {},
   "outputs": [
    {
     "name": "stdout",
     "output_type": "stream",
     "text": [
      "[0, 3]\n",
      "<class 'list'>\n"
     ]
    }
   ],
   "source": [
    "print(l_2d_t[0])\n",
    "print(type(l_2d_t[0]))"
   ]
  },
  {
   "cell_type": "code",
   "execution_count": 11,
   "metadata": {},
   "outputs": [
    {
     "name": "stdout",
     "output_type": "stream",
     "text": [
      "[0, 1, 2] [3, 4, 5]\n"
     ]
    }
   ],
   "source": [
    "print(*l_2d)"
   ]
  },
  {
   "cell_type": "code",
   "execution_count": 12,
   "metadata": {},
   "outputs": [
    {
     "name": "stdout",
     "output_type": "stream",
     "text": [
      "[(0, 3), (1, 4), (2, 5)]\n"
     ]
    }
   ],
   "source": [
    "print(list(zip([0, 1, 2], [3, 4, 5])))"
   ]
  },
  {
   "cell_type": "code",
   "execution_count": 13,
   "metadata": {},
   "outputs": [
    {
     "name": "stdout",
     "output_type": "stream",
     "text": [
      "[[0, 3], [1, 4], [2, 5]]\n"
     ]
    }
   ],
   "source": [
    "print([list(x) for x in [(0, 3), (1, 4), (2, 5)]])"
   ]
  }
 ],
 "metadata": {
  "kernelspec": {
   "display_name": "Python 3",
   "language": "python",
   "name": "python3"
  },
  "language_info": {
   "codemirror_mode": {
    "name": "ipython",
    "version": 3
   },
   "file_extension": ".py",
   "mimetype": "text/x-python",
   "name": "python",
   "nbconvert_exporter": "python",
   "pygments_lexer": "ipython3",
   "version": "3.6.4"
  }
 },
 "nbformat": 4,
 "nbformat_minor": 2
}
