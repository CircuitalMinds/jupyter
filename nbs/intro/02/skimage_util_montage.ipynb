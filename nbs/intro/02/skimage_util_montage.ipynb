{
 "cells": [
  {
   "cell_type": "code",
   "execution_count": 1,
   "metadata": {},
   "outputs": [],
   "source": [
    "import numpy as np"
   ]
  },
  {
   "cell_type": "code",
   "execution_count": 2,
   "metadata": {},
   "outputs": [],
   "source": [
    "import skimage.util"
   ]
  },
  {
   "cell_type": "code",
   "execution_count": 3,
   "metadata": {},
   "outputs": [
    {
     "name": "stdout",
     "output_type": "stream",
     "text": [
      "[[1 2 3]\n",
      " [4 5 6]]\n"
     ]
    }
   ],
   "source": [
    "a = np.arange(1, 7).reshape(2, 3)\n",
    "print(a)"
   ]
  },
  {
   "cell_type": "code",
   "execution_count": 4,
   "metadata": {},
   "outputs": [
    {
     "name": "stdout",
     "output_type": "stream",
     "text": [
      "[[10 20 30]\n",
      " [40 50 60]]\n"
     ]
    }
   ],
   "source": [
    "b = a * 10\n",
    "print(b)"
   ]
  },
  {
   "cell_type": "code",
   "execution_count": 5,
   "metadata": {},
   "outputs": [
    {
     "name": "stdout",
     "output_type": "stream",
     "text": [
      "[[100 200 300]\n",
      " [400 500 600]]\n"
     ]
    }
   ],
   "source": [
    "c = a * 100\n",
    "print(c)"
   ]
  },
  {
   "cell_type": "code",
   "execution_count": 6,
   "metadata": {},
   "outputs": [
    {
     "name": "stdout",
     "output_type": "stream",
     "text": [
      "[[  1   2   3  10  20  30]\n",
      " [  4   5   6  40  50  60]\n",
      " [100 200 300 129 129 129]\n",
      " [400 500 600 129 129 129]]\n"
     ]
    }
   ],
   "source": [
    "m = skimage.util.montage([a, b, c])\n",
    "print(m)"
   ]
  },
  {
   "cell_type": "code",
   "execution_count": 7,
   "metadata": {},
   "outputs": [
    {
     "name": "stdout",
     "output_type": "stream",
     "text": [
      "(4, 6)\n"
     ]
    }
   ],
   "source": [
    "print(m.shape)"
   ]
  },
  {
   "cell_type": "code",
   "execution_count": 8,
   "metadata": {},
   "outputs": [
    {
     "name": "stdout",
     "output_type": "stream",
     "text": [
      "[[[  1   2   3]\n",
      "  [  4   5   6]]\n",
      "\n",
      " [[ 10  20  30]\n",
      "  [ 40  50  60]]\n",
      "\n",
      " [[100 200 300]\n",
      "  [400 500 600]]]\n"
     ]
    }
   ],
   "source": [
    "abc = np.array([a, b, c])\n",
    "print(abc)"
   ]
  },
  {
   "cell_type": "code",
   "execution_count": 9,
   "metadata": {},
   "outputs": [
    {
     "name": "stdout",
     "output_type": "stream",
     "text": [
      "(3, 2, 3)\n"
     ]
    }
   ],
   "source": [
    "print(abc.shape)"
   ]
  },
  {
   "cell_type": "code",
   "execution_count": 10,
   "metadata": {},
   "outputs": [
    {
     "name": "stdout",
     "output_type": "stream",
     "text": [
      "[[  1   2   3  10  20  30]\n",
      " [  4   5   6  40  50  60]\n",
      " [100 200 300 129 129 129]\n",
      " [400 500 600 129 129 129]]\n"
     ]
    }
   ],
   "source": [
    "print(skimage.util.montage(abc))"
   ]
  },
  {
   "cell_type": "code",
   "execution_count": 11,
   "metadata": {},
   "outputs": [
    {
     "name": "stdout",
     "output_type": "stream",
     "text": [
      "[[1 2]\n",
      " [4 5]]\n"
     ]
    }
   ],
   "source": [
    "d = a[:, :2]\n",
    "print(d)"
   ]
  },
  {
   "cell_type": "code",
   "execution_count": 12,
   "metadata": {},
   "outputs": [],
   "source": [
    "# skimage.util.montage([a, b, c, d])\n",
    "# ValueError: could not broadcast input array from shape (2,3) into shape (2)"
   ]
  },
  {
   "cell_type": "code",
   "execution_count": 13,
   "metadata": {},
   "outputs": [
    {
     "name": "stdout",
     "output_type": "stream",
     "text": [
      "129.5\n"
     ]
    }
   ],
   "source": [
    "print(np.mean(np.array([a, b, c])))"
   ]
  },
  {
   "cell_type": "code",
   "execution_count": 14,
   "metadata": {},
   "outputs": [
    {
     "name": "stdout",
     "output_type": "stream",
     "text": [
      "[[  1   2   3  10  20  30]\n",
      " [  4   5   6  40  50  60]\n",
      " [100 200 300   0   0   0]\n",
      " [400 500 600   0   0   0]]\n"
     ]
    }
   ],
   "source": [
    "print(skimage.util.montage([a, b, c], fill=0))"
   ]
  },
  {
   "cell_type": "code",
   "execution_count": 15,
   "metadata": {},
   "outputs": [
    {
     "name": "stdout",
     "output_type": "stream",
     "text": [
      "[[  1   2   3  10  20  30 100 200 300]\n",
      " [  4   5   6  40  50  60 400 500 600]]\n"
     ]
    }
   ],
   "source": [
    "print(skimage.util.montage([a, b, c], grid_shape=(1, 3)))"
   ]
  },
  {
   "cell_type": "code",
   "execution_count": 16,
   "metadata": {},
   "outputs": [
    {
     "name": "stdout",
     "output_type": "stream",
     "text": [
      "[[  1   2   3]\n",
      " [  4   5   6]\n",
      " [ 10  20  30]\n",
      " [ 40  50  60]\n",
      " [100 200 300]\n",
      " [400 500 600]]\n"
     ]
    }
   ],
   "source": [
    "print(skimage.util.montage([a, b, c], grid_shape=(3, 1)))"
   ]
  },
  {
   "cell_type": "code",
   "execution_count": 17,
   "metadata": {},
   "outputs": [],
   "source": [
    "# print(skimage.util.montage([a, b, c], grid_shape=(1, 2)))\n",
    "# IndexError: list index out of range"
   ]
  },
  {
   "cell_type": "code",
   "execution_count": 18,
   "metadata": {},
   "outputs": [
    {
     "name": "stdout",
     "output_type": "stream",
     "text": [
      "[[  1   2   3  10  20  30 100 200 300]\n",
      " [  4   5   6  40  50  60 400 500 600]\n",
      " [129 129 129 129 129 129 129 129 129]\n",
      " [129 129 129 129 129 129 129 129 129]]\n"
     ]
    }
   ],
   "source": [
    "print(skimage.util.montage([a, b, c], grid_shape=(2, 3)))"
   ]
  },
  {
   "cell_type": "code",
   "execution_count": 19,
   "metadata": {},
   "outputs": [
    {
     "name": "stdout",
     "output_type": "stream",
     "text": [
      "[[  1   2   3  10  20  30 100 200 300]\n",
      " [  4   5   6  40  50  60 400 500 600]\n",
      " [  0   0   0   0   0   0   0   0   0]\n",
      " [  0   0   0   0   0   0   0   0   0]]\n"
     ]
    }
   ],
   "source": [
    "print(skimage.util.montage([a, b, c], grid_shape=(2, 3), fill=0))"
   ]
  },
  {
   "cell_type": "code",
   "execution_count": 20,
   "metadata": {},
   "outputs": [
    {
     "name": "stdout",
     "output_type": "stream",
     "text": [
      "[[129 129 129 129 129 129 129 129 129]\n",
      " [129   1   2   3 129  10  20  30 129]\n",
      " [129   4   5   6 129  40  50  60 129]\n",
      " [129 129 129 129 129 129 129 129 129]\n",
      " [129 100 200 300 129 129 129 129 129]\n",
      " [129 400 500 600 129 129 129 129 129]\n",
      " [129 129 129 129 129 129 129 129 129]]\n"
     ]
    }
   ],
   "source": [
    "print(skimage.util.montage([a, b, c], padding_width=1))"
   ]
  },
  {
   "cell_type": "code",
   "execution_count": 21,
   "metadata": {},
   "outputs": [
    {
     "name": "stdout",
     "output_type": "stream",
     "text": [
      "[[  0   0   0   0   0   0   0   0   0]\n",
      " [  0   1   2   3   0  10  20  30   0]\n",
      " [  0   4   5   6   0  40  50  60   0]\n",
      " [  0   0   0   0   0   0   0   0   0]\n",
      " [  0 100 200 300   0   0   0   0   0]\n",
      " [  0 400 500 600   0   0   0   0   0]\n",
      " [  0   0   0   0   0   0   0   0   0]]\n"
     ]
    }
   ],
   "source": [
    "print(skimage.util.montage([a, b, c], padding_width=1, fill=0))"
   ]
  }
 ],
 "metadata": {
  "kernelspec": {
   "display_name": "Python 3",
   "language": "python",
   "name": "python3"
  },
  "language_info": {
   "codemirror_mode": {
    "name": "ipython",
    "version": 3
   },
   "file_extension": ".py",
   "mimetype": "text/x-python",
   "name": "python",
   "nbconvert_exporter": "python",
   "pygments_lexer": "ipython3",
   "version": "3.7.5"
  }
 },
 "nbformat": 4,
 "nbformat_minor": 2
}
