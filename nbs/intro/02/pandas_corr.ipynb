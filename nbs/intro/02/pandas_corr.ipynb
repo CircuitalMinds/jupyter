{
 "cells": [
  {
   "cell_type": "code",
   "execution_count": 1,
   "metadata": {
    "collapsed": true
   },
   "outputs": [],
   "source": [
    "import pandas as pd\n",
    "import numpy as np\n",
    "import seaborn as sns\n",
    "import matplotlib.pyplot as plt"
   ]
  },
  {
   "cell_type": "code",
   "execution_count": 2,
   "metadata": {
    "collapsed": true
   },
   "outputs": [],
   "source": [
    "df = pd.DataFrame({'A': range(5),\n",
    "                   'B': [x**2 for x in range(5)],\n",
    "                   'C': [x**3 for x in range(5)]})"
   ]
  },
  {
   "cell_type": "code",
   "execution_count": 3,
   "metadata": {},
   "outputs": [
    {
     "name": "stdout",
     "output_type": "stream",
     "text": [
      "   A   B   C\n",
      "0  0   0   0\n",
      "1  1   1   1\n",
      "2  2   4   8\n",
      "3  3   9  27\n",
      "4  4  16  64\n"
     ]
    }
   ],
   "source": [
    "print(df)"
   ]
  },
  {
   "cell_type": "code",
   "execution_count": 5,
   "metadata": {},
   "outputs": [
    {
     "name": "stdout",
     "output_type": "stream",
     "text": [
      "          A         B         C\n",
      "A  1.000000  0.958927  0.905882\n",
      "B  0.958927  1.000000  0.987130\n",
      "C  0.905882  0.987130  1.000000\n",
      "<class 'pandas.core.frame.DataFrame'>\n"
     ]
    }
   ],
   "source": [
    "df_corr = df.corr()\n",
    "print(df_corr)\n",
    "print(type(df_corr))"
   ]
  },
  {
   "cell_type": "code",
   "execution_count": 6,
   "metadata": {},
   "outputs": [
    {
     "name": "stdout",
     "output_type": "stream",
     "text": [
      "   A   B   C  D      E\n",
      "0  0   0   0  a   True\n",
      "1  1   1   1  b  False\n",
      "2  2   4   8  c   True\n",
      "3  3   9  27  d   True\n",
      "4  4  16  64  e  False\n"
     ]
    }
   ],
   "source": [
    "df['D'] = list('abcde')\n",
    "df['E'] = [True, False, True, True, False]\n",
    "print(df)"
   ]
  },
  {
   "cell_type": "code",
   "execution_count": 7,
   "metadata": {},
   "outputs": [
    {
     "name": "stdout",
     "output_type": "stream",
     "text": [
      "A     int64\n",
      "B     int64\n",
      "C     int64\n",
      "D    object\n",
      "E      bool\n",
      "dtype: object\n"
     ]
    }
   ],
   "source": [
    "print(df.dtypes)"
   ]
  },
  {
   "cell_type": "code",
   "execution_count": 8,
   "metadata": {},
   "outputs": [
    {
     "name": "stdout",
     "output_type": "stream",
     "text": [
      "          A         B         C         E\n",
      "A  1.000000  0.958927  0.905882 -0.288675\n",
      "B  0.958927  1.000000  0.987130 -0.346023\n",
      "C  0.905882  0.987130  1.000000 -0.424522\n",
      "E -0.288675 -0.346023 -0.424522  1.000000\n"
     ]
    }
   ],
   "source": [
    "df_corr = df.corr()\n",
    "print(df_corr)"
   ]
  },
  {
   "cell_type": "code",
   "execution_count": 9,
   "metadata": {},
   "outputs": [
    {
     "name": "stdout",
     "output_type": "stream",
     "text": [
      "   A    B   C  D      E\n",
      "0  0  0.0   0  a   True\n",
      "1  1  1.0   1  b  False\n",
      "2  2  NaN   8  c   True\n",
      "3  3  NaN  27  d   True\n",
      "4  4  NaN  64  e  False\n"
     ]
    }
   ],
   "source": [
    "df_nan = df.copy()\n",
    "df_nan.iloc[[2, 3, 4], 1] = np.nan\n",
    "print(df_nan)"
   ]
  },
  {
   "cell_type": "code",
   "execution_count": 10,
   "metadata": {},
   "outputs": [
    {
     "name": "stdout",
     "output_type": "stream",
     "text": [
      "          A    B         C         E\n",
      "A  1.000000  1.0  0.905882 -0.288675\n",
      "B  1.000000  1.0  1.000000 -1.000000\n",
      "C  0.905882  1.0  1.000000 -0.424522\n",
      "E -0.288675 -1.0 -0.424522  1.000000\n"
     ]
    }
   ],
   "source": [
    "df_nan_corr = df_nan.corr()\n",
    "print(df_nan_corr)"
   ]
  },
  {
   "cell_type": "code",
   "execution_count": 11,
   "metadata": {
    "collapsed": true
   },
   "outputs": [],
   "source": [
    "sns.heatmap(df_corr, vmax=1, vmin=-1, center=0)\n",
    "plt.savefig('data/dst/seaborn_heatmap_corr_example.png')"
   ]
  },
  {
   "cell_type": "code",
   "execution_count": 12,
   "metadata": {
    "collapsed": true
   },
   "outputs": [],
   "source": [
    "df_house = pd.read_csv('data/src/house_prices_train.csv', index_col=0)"
   ]
  },
  {
   "cell_type": "code",
   "execution_count": 13,
   "metadata": {},
   "outputs": [
    {
     "name": "stdout",
     "output_type": "stream",
     "text": [
      "(1460, 80)\n"
     ]
    }
   ],
   "source": [
    "print(df_house.shape)"
   ]
  },
  {
   "cell_type": "code",
   "execution_count": 14,
   "metadata": {},
   "outputs": [
    {
     "name": "stdout",
     "output_type": "stream",
     "text": [
      "object     43\n",
      "int64      34\n",
      "float64     3\n",
      "dtype: int64\n"
     ]
    }
   ],
   "source": [
    "print(df_house.dtypes.value_counts())"
   ]
  },
  {
   "cell_type": "code",
   "execution_count": 15,
   "metadata": {
    "collapsed": true
   },
   "outputs": [],
   "source": [
    "df_house_corr = df_house.corr()"
   ]
  },
  {
   "cell_type": "code",
   "execution_count": 16,
   "metadata": {},
   "outputs": [
    {
     "name": "stdout",
     "output_type": "stream",
     "text": [
      "(37, 37)\n"
     ]
    }
   ],
   "source": [
    "print(df_house_corr.shape)"
   ]
  },
  {
   "cell_type": "code",
   "execution_count": 17,
   "metadata": {
    "collapsed": true
   },
   "outputs": [],
   "source": [
    "fig, ax = plt.subplots(figsize=(12, 9)) \n",
    "sns.heatmap(df_house_corr, square=True, vmax=1, vmin=-1, center=0)\n",
    "plt.savefig('data/dst/seaborn_heatmap_house_price.png')"
   ]
  }
 ],
 "metadata": {
  "kernelspec": {
   "display_name": "Python 3",
   "language": "python",
   "name": "python3"
  },
  "language_info": {
   "codemirror_mode": {
    "name": "ipython",
    "version": 3
   },
   "file_extension": ".py",
   "mimetype": "text/x-python",
   "name": "python",
   "nbconvert_exporter": "python",
   "pygments_lexer": "ipython3",
   "version": "3.6.5"
  }
 },
 "nbformat": 4,
 "nbformat_minor": 2
}
