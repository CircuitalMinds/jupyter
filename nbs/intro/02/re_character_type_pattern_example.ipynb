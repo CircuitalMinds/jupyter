{
 "cells": [
  {
   "cell_type": "code",
   "execution_count": 1,
   "metadata": {},
   "outputs": [],
   "source": [
    "import re\n",
    "import regex"
   ]
  },
  {
   "cell_type": "code",
   "execution_count": 2,
   "metadata": {},
   "outputs": [
    {
     "name": "stdout",
     "output_type": "stream",
     "text": [
      "<re.Match object; span=(0, 3), match='abc'>\n"
     ]
    }
   ],
   "source": [
    "p = re.compile('[a-z]+')\n",
    "print(p.fullmatch('abc'))"
   ]
  },
  {
   "cell_type": "code",
   "execution_count": 3,
   "metadata": {},
   "outputs": [
    {
     "name": "stdout",
     "output_type": "stream",
     "text": [
      "<re.Match object; span=(0, 3), match='ABC'>\n"
     ]
    }
   ],
   "source": [
    "p = re.compile('[A-Z]+')\n",
    "print(p.fullmatch('ABC'))"
   ]
  },
  {
   "cell_type": "code",
   "execution_count": 4,
   "metadata": {},
   "outputs": [
    {
     "name": "stdout",
     "output_type": "stream",
     "text": [
      "<re.Match object; span=(0, 3), match='ａｂｃ'>\n"
     ]
    }
   ],
   "source": [
    "p = re.compile('[ａ-ｚ]+')\n",
    "print(p.fullmatch('ａｂｃ'))"
   ]
  },
  {
   "cell_type": "code",
   "execution_count": 5,
   "metadata": {},
   "outputs": [
    {
     "name": "stdout",
     "output_type": "stream",
     "text": [
      "<re.Match object; span=(0, 3), match='ＡＢＣ'>\n"
     ]
    }
   ],
   "source": [
    "p = re.compile('[Ａ-Ｚ]+')\n",
    "print(p.fullmatch('ＡＢＣ'))"
   ]
  },
  {
   "cell_type": "code",
   "execution_count": 6,
   "metadata": {},
   "outputs": [
    {
     "name": "stdout",
     "output_type": "stream",
     "text": [
      "<re.Match object; span=(0, 12), match='abcABCａｂｃＡＢＣ'>\n"
     ]
    }
   ],
   "source": [
    "p = re.compile('[a-zA-Zａ-ｚＡ-Ｚ]+')\n",
    "print(p.fullmatch('abcABCａｂｃＡＢＣ'))"
   ]
  },
  {
   "cell_type": "code",
   "execution_count": 7,
   "metadata": {},
   "outputs": [
    {
     "name": "stdout",
     "output_type": "stream",
     "text": [
      "<regex.Match object; span=(0, 6), match='AÁÀÂÄÆ'>\n"
     ]
    }
   ],
   "source": [
    "p = regex.compile(r'\\p{Script=Latin}+')\n",
    "print(p.fullmatch('AÁÀÂÄÆ'))"
   ]
  },
  {
   "cell_type": "code",
   "execution_count": 8,
   "metadata": {},
   "outputs": [
    {
     "name": "stdout",
     "output_type": "stream",
     "text": [
      "<re.Match object; span=(0, 3), match='123'>\n"
     ]
    }
   ],
   "source": [
    "p = re.compile('[0-9]+')\n",
    "print(p.fullmatch('123'))"
   ]
  },
  {
   "cell_type": "code",
   "execution_count": 9,
   "metadata": {},
   "outputs": [
    {
     "name": "stdout",
     "output_type": "stream",
     "text": [
      "<re.Match object; span=(0, 3), match='１２３'>\n"
     ]
    }
   ],
   "source": [
    "p = re.compile('[０-９]+')\n",
    "print(p.fullmatch('１２３'))"
   ]
  },
  {
   "cell_type": "code",
   "execution_count": 10,
   "metadata": {},
   "outputs": [
    {
     "name": "stdout",
     "output_type": "stream",
     "text": [
      "<regex.Match object; span=(0, 11), match='一二三ⅠⅡⅢ百万億⑩⑽'>\n"
     ]
    }
   ],
   "source": [
    "p = regex.compile(r'\\p{Numeric_Type=Numeric}+')\n",
    "print(p.fullmatch('一二三ⅠⅡⅢ百万億⑩⑽'))"
   ]
  },
  {
   "cell_type": "code",
   "execution_count": 11,
   "metadata": {},
   "outputs": [
    {
     "name": "stdout",
     "output_type": "stream",
     "text": [
      "None\n"
     ]
    }
   ],
   "source": [
    "print(p.fullmatch('123'))"
   ]
  },
  {
   "cell_type": "code",
   "execution_count": 12,
   "metadata": {},
   "outputs": [
    {
     "name": "stdout",
     "output_type": "stream",
     "text": [
      "<re.Match object; span=(0, 3), match='ⅠⅡⅢ'>\n"
     ]
    }
   ],
   "source": [
    "p = re.compile('[\\u2160-\\u217F]+')\n",
    "print(p.fullmatch('ⅠⅡⅢ'))"
   ]
  },
  {
   "cell_type": "code",
   "execution_count": 13,
   "metadata": {},
   "outputs": [
    {
     "name": "stdout",
     "output_type": "stream",
     "text": [
      "<re.Match object; span=(0, 4), match='三十五億'>\n"
     ]
    }
   ],
   "source": [
    "p = re.compile('[〇一二三四五六七八九十百千万億兆]+')\n",
    "print(p.fullmatch('三十五億'))"
   ]
  },
  {
   "cell_type": "code",
   "execution_count": 14,
   "metadata": {},
   "outputs": [
    {
     "name": "stdout",
     "output_type": "stream",
     "text": [
      "<re.Match object; span=(0, 13), match='(abc)!_(123)?'>\n"
     ]
    }
   ],
   "source": [
    "p = re.compile('[\\u0000-\\u007F]+')\n",
    "print(p.fullmatch('(abc)!_(123)?'))"
   ]
  },
  {
   "cell_type": "code",
   "execution_count": 15,
   "metadata": {},
   "outputs": [
    {
     "name": "stdout",
     "output_type": "stream",
     "text": [
      "<re.Match object; span=(0, 8), match='!_? ()[]'>\n"
     ]
    }
   ],
   "source": [
    "p = re.compile('[\\u0020-\\u002F\\u003A-\\u0040\\u005B-\\u0060\\u007B-\\u007E]+')\n",
    "print(p.fullmatch('!_? ()[]'))"
   ]
  },
  {
   "cell_type": "code",
   "execution_count": 16,
   "metadata": {},
   "outputs": [
    {
     "name": "stdout",
     "output_type": "stream",
     "text": [
      "<re.Match object; span=(0, 8), match=',.!?[]()'>\n"
     ]
    }
   ],
   "source": [
    "p = re.compile(r'[,.!?[\\]()]+')\n",
    "print(p.fullmatch(',.!?[]()'))"
   ]
  },
  {
   "cell_type": "code",
   "execution_count": 17,
   "metadata": {},
   "outputs": [
    {
     "name": "stdout",
     "output_type": "stream",
     "text": [
      "<re.Match object; span=(0, 8), match='！？（）［］｢｣'>\n"
     ]
    }
   ],
   "source": [
    "p = re.compile('[\\uFF01-\\uFF0F\\uFF1A-\\uFF20\\uFF3B-\\uFF40\\uFF5B-\\uFF65]+')\n",
    "print(p.fullmatch('！？（）［］｢｣'))"
   ]
  },
  {
   "cell_type": "code",
   "execution_count": 18,
   "metadata": {},
   "outputs": [
    {
     "name": "stdout",
     "output_type": "stream",
     "text": [
      "<re.Match object; span=(0, 6), match='、。「」【】'>\n"
     ]
    }
   ],
   "source": [
    "p = re.compile('[\\u3000-\\u303F]+')\n",
    "print(p.fullmatch('、。「」【】'))"
   ]
  },
  {
   "cell_type": "code",
   "execution_count": 19,
   "metadata": {},
   "outputs": [
    {
     "name": "stdout",
     "output_type": "stream",
     "text": [
      "<re.Match object; span=(0, 14), match='！？（）［］｢｣、。「」【】'>\n"
     ]
    }
   ],
   "source": [
    "p = re.compile('[\\uFF01-\\uFF0F\\uFF1A-\\uFF20\\uFF3B-\\uFF40\\uFF5B-\\uFF65\\u3000-\\u303F]+')\n",
    "print(p.fullmatch('！？（）［］｢｣、。「」【】'))"
   ]
  },
  {
   "cell_type": "code",
   "execution_count": 20,
   "metadata": {},
   "outputs": [
    {
     "name": "stdout",
     "output_type": "stream",
     "text": [
      "<re.Match object; span=(0, 10), match='あいうえおぁぃぅぇぉ'>\n"
     ]
    }
   ],
   "source": [
    "p = re.compile('[\\u3041-\\u309F]+')\n",
    "print(p.fullmatch('あいうえおぁぃぅぇぉ'))"
   ]
  },
  {
   "cell_type": "code",
   "execution_count": 21,
   "metadata": {},
   "outputs": [
    {
     "name": "stdout",
     "output_type": "stream",
     "text": [
      "<re.Match object; span=(0, 10), match='あいうえおぁぃぅぇぉ'>\n"
     ]
    }
   ],
   "source": [
    "p = re.compile('[ぁ-ゟ]+')\n",
    "print(p.fullmatch('あいうえおぁぃぅぇぉ'))"
   ]
  },
  {
   "cell_type": "code",
   "execution_count": 22,
   "metadata": {},
   "outputs": [
    {
     "name": "stdout",
     "output_type": "stream",
     "text": [
      "<re.Match object; span=(0, 10), match='アイウエオァィゥェォ'>\n"
     ]
    }
   ],
   "source": [
    "p = re.compile('[\\u30A1-\\u30FF]+')\n",
    "print(p.fullmatch('アイウエオァィゥェォ'))"
   ]
  },
  {
   "cell_type": "code",
   "execution_count": 23,
   "metadata": {},
   "outputs": [
    {
     "name": "stdout",
     "output_type": "stream",
     "text": [
      "<re.Match object; span=(0, 10), match='アイウエオァィゥェォ'>\n"
     ]
    }
   ],
   "source": [
    "p = re.compile('[\\ァ-ヿ]+')\n",
    "print(p.fullmatch('アイウエオァィゥェォ'))"
   ]
  },
  {
   "cell_type": "code",
   "execution_count": 24,
   "metadata": {},
   "outputs": [
    {
     "name": "stdout",
     "output_type": "stream",
     "text": [
      "<re.Match object; span=(0, 10), match='ｱｲｳｴｵｧｨｩｪｫ'>\n"
     ]
    }
   ],
   "source": [
    "p = re.compile('[\\uFF66-\\uFF9F]+')\n",
    "print(p.fullmatch('ｱｲｳｴｵｧｨｩｪｫ'))"
   ]
  },
  {
   "cell_type": "code",
   "execution_count": 25,
   "metadata": {},
   "outputs": [
    {
     "name": "stdout",
     "output_type": "stream",
     "text": [
      "<re.Match object; span=(0, 10), match='ｱｲｳｴｵｧｨｩｪｫ'>\n"
     ]
    }
   ],
   "source": [
    "p = re.compile('[ｦ-ﾟ]+')\n",
    "print(p.fullmatch('ｱｲｳｴｵｧｨｩｪｫ'))"
   ]
  },
  {
   "cell_type": "code",
   "execution_count": 26,
   "metadata": {},
   "outputs": [
    {
     "name": "stdout",
     "output_type": "stream",
     "text": [
      "<regex.Match object; span=(0, 2), match='漢字'>\n"
     ]
    }
   ],
   "source": [
    "p = regex.compile(r'\\p{Script=Han}+')\n",
    "print(p.fullmatch('漢字'))"
   ]
  },
  {
   "cell_type": "code",
   "execution_count": 27,
   "metadata": {},
   "outputs": [
    {
     "name": "stdout",
     "output_type": "stream",
     "text": [
      "<regex.Match object; span=(0, 7), match='漢字〆㈠㈱㊊㏩'>\n"
     ]
    }
   ],
   "source": [
    "p = regex.compile(r'\\p{Script_Extensions=Han}+')\n",
    "print(p.fullmatch('漢字〆㈠㈱㊊㏩'))"
   ]
  },
  {
   "cell_type": "code",
   "execution_count": 28,
   "metadata": {},
   "outputs": [
    {
     "name": "stdout",
     "output_type": "stream",
     "text": [
      "<re.Match object; span=(0, 2), match='漢字'>\n"
     ]
    }
   ],
   "source": [
    "p = re.compile('[\\u2E80-\\u2FDF\\u3005-\\u3007\\u3400-\\u4DBF\\u4E00-\\u9FFF\\uF900-\\uFAFF\\U00020000-\\U0002EBEF]+')\n",
    "print(p.fullmatch('漢字'))"
   ]
  },
  {
   "cell_type": "code",
   "execution_count": 29,
   "metadata": {},
   "outputs": [
    {
     "name": "stdout",
     "output_type": "stream",
     "text": [
      "<regex.Match object; span=(0, 4), match='💯123'>\n"
     ]
    }
   ],
   "source": [
    "p = regex.compile(r'\\p{Emoji=Yes}+')\n",
    "print(p.fullmatch('💯123'))"
   ]
  },
  {
   "cell_type": "code",
   "execution_count": 30,
   "metadata": {},
   "outputs": [
    {
     "name": "stdout",
     "output_type": "stream",
     "text": [
      "<regex.Match object; span=(0, 1), match='💯'>\n"
     ]
    }
   ],
   "source": [
    "p = regex.compile(r'\\p{Emoji_Presentation=Yes}+')\n",
    "print(p.fullmatch('💯'))"
   ]
  },
  {
   "cell_type": "code",
   "execution_count": 31,
   "metadata": {},
   "outputs": [],
   "source": [
    "# p = regex.compile(r'\\p{Basic_Emoji=Yes}+')\n",
    "# error: unknown property at position 19"
   ]
  },
  {
   "cell_type": "code",
   "execution_count": 32,
   "metadata": {},
   "outputs": [
    {
     "name": "stdout",
     "output_type": "stream",
     "text": [
      "<re.Match object; span=(0, 1), match='💯'>\n"
     ]
    }
   ],
   "source": [
    "p = re.compile('[\\U0001F300-\\U0001F5FF]+')\n",
    "print(p.fullmatch('💯'))"
   ]
  },
  {
   "cell_type": "code",
   "execution_count": 33,
   "metadata": {},
   "outputs": [
    {
     "name": "stdout",
     "output_type": "stream",
     "text": [
      "<re.Match object; span=(0, 1), match='😀'>\n"
     ]
    }
   ],
   "source": [
    "p = re.compile('[\\U0001F600-\\U0001F64F]+')\n",
    "print(p.fullmatch('😀'))"
   ]
  }
 ],
 "metadata": {
  "kernelspec": {
   "display_name": "Python 3",
   "language": "python",
   "name": "python3"
  },
  "language_info": {
   "codemirror_mode": {
    "name": "ipython",
    "version": 3
   },
   "file_extension": ".py",
   "mimetype": "text/x-python",
   "name": "python",
   "nbconvert_exporter": "python",
   "pygments_lexer": "ipython3",
   "version": "3.7.3"
  }
 },
 "nbformat": 4,
 "nbformat_minor": 2
}
