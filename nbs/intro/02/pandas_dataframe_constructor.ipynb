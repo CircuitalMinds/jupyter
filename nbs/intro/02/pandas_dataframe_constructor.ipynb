{
 "cells": [
  {
   "cell_type": "code",
   "execution_count": 1,
   "metadata": {},
   "outputs": [],
   "source": [
    "import pandas as pd\n",
    "import numpy as np"
   ]
  },
  {
   "cell_type": "code",
   "execution_count": 2,
   "metadata": {},
   "outputs": [
    {
     "name": "stdout",
     "output_type": "stream",
     "text": [
      "[[0 1 2]\n",
      " [3 4 5]\n",
      " [6 7 8]]\n"
     ]
    }
   ],
   "source": [
    "print(np.arange(9).reshape(3, 3))"
   ]
  },
  {
   "cell_type": "code",
   "execution_count": 3,
   "metadata": {},
   "outputs": [
    {
     "name": "stdout",
     "output_type": "stream",
     "text": [
      "   0  1  2\n",
      "0  0  1  2\n",
      "1  3  4  5\n",
      "2  6  7  8\n"
     ]
    }
   ],
   "source": [
    "print(pd.DataFrame(np.arange(9).reshape(3, 3)))"
   ]
  },
  {
   "cell_type": "code",
   "execution_count": 4,
   "metadata": {},
   "outputs": [
    {
     "name": "stdout",
     "output_type": "stream",
     "text": [
      "       col_0  col_1  col_2\n",
      "row_0      0      1      2\n",
      "row_1      3      4      5\n",
      "row_2      6      7      8\n"
     ]
    }
   ],
   "source": [
    "print(pd.DataFrame(np.arange(9).reshape(3, 3),\n",
    "                   columns=['col_0', 'col_1', 'col_2'],\n",
    "                   index=['row_0', 'row_1', 'row_2']))"
   ]
  },
  {
   "cell_type": "code",
   "execution_count": 5,
   "metadata": {},
   "outputs": [
    {
     "name": "stdout",
     "output_type": "stream",
     "text": [
      "   0  1  2\n",
      "0  0  1  2\n",
      "1  3  4  5\n",
      "2  6  7  8\n"
     ]
    }
   ],
   "source": [
    "print(pd.DataFrame([[0, 1, 2], [3, 4, 5], [6, 7, 8]]))"
   ]
  },
  {
   "cell_type": "code",
   "execution_count": 6,
   "metadata": {},
   "outputs": [
    {
     "name": "stdout",
     "output_type": "stream",
     "text": [
      "   0  1  2    3     4\n",
      "0  0  1  2  NaN   NaN\n",
      "1  3  4  5  NaN   NaN\n",
      "2  6  7  8  9.0  10.0\n"
     ]
    }
   ],
   "source": [
    "print(pd.DataFrame([[0, 1, 2], [3, 4, 5], [6, 7, 8, 9, 10]]))"
   ]
  },
  {
   "cell_type": "code",
   "execution_count": 7,
   "metadata": {},
   "outputs": [
    {
     "name": "stdout",
     "output_type": "stream",
     "text": [
      "   col_0  col_1  col_2\n",
      "0      0      3      6\n",
      "1      1      4      7\n",
      "2      2      5      8\n"
     ]
    }
   ],
   "source": [
    "print(pd.DataFrame({'col_0': [0, 1, 2],\n",
    "                    'col_1': np.arange(3, 6),\n",
    "                    'col_2': (6, 7, 8)}))"
   ]
  },
  {
   "cell_type": "code",
   "execution_count": 8,
   "metadata": {},
   "outputs": [
    {
     "name": "stdout",
     "output_type": "stream",
     "text": [
      "       col_0  col_1  col_2\n",
      "row_0      0      3      6\n",
      "row_1      1      4      7\n",
      "row_2      2      5      8\n"
     ]
    }
   ],
   "source": [
    "print(pd.DataFrame({'col_0': [0, 1, 2],\n",
    "                    'col_1': np.arange(3, 6),\n",
    "                    'col_2': (6, 7, 8)},\n",
    "                   index=['row_0', 'row_1', 'row_2']))"
   ]
  },
  {
   "cell_type": "code",
   "execution_count": 9,
   "metadata": {},
   "outputs": [],
   "source": [
    "# print(pd.DataFrame({'col_0': [0, 1, 2, 100],\n",
    "#                     'col_1': np.arange(3, 6),\n",
    "#                     'col_2': (6, 7, 8)}))\n",
    "# ValueError: arrays must all be same length"
   ]
  },
  {
   "cell_type": "code",
   "execution_count": 10,
   "metadata": {},
   "outputs": [
    {
     "name": "stdout",
     "output_type": "stream",
     "text": [
      "       col_0  col_1  col_2\n",
      "row_0      0      3      6\n",
      "row_1      1      4      7\n",
      "row_2      2      5      8\n"
     ]
    }
   ],
   "source": [
    "print(pd.DataFrame({'col_0': [0, 1, 2],\n",
    "                    'col_1': np.arange(3, 6),\n",
    "                    'col_2': (6, 7, 8)},\n",
    "                   index=['row_0', 'row_1', 'row_2']))"
   ]
  },
  {
   "cell_type": "code",
   "execution_count": 11,
   "metadata": {},
   "outputs": [
    {
     "name": "stdout",
     "output_type": "stream",
     "text": [
      "       0  1  2\n",
      "row_0  0  1  2\n",
      "row_1  3  4  5\n",
      "row_2  7  8  9\n"
     ]
    }
   ],
   "source": [
    "print(pd.DataFrame({'row_0': [0, 1, 2],\n",
    "                    'row_1': np.arange(3, 6),\n",
    "                    'row_2': (7, 8, 9)}).T)"
   ]
  },
  {
   "cell_type": "code",
   "execution_count": 12,
   "metadata": {},
   "outputs": [
    {
     "name": "stdout",
     "output_type": "stream",
     "text": [
      "       0  1  2\n",
      "row_0  0  1  2\n",
      "row_1  3  4  5\n",
      "row_2  6  7  8\n"
     ]
    }
   ],
   "source": [
    "print(pd.DataFrame.from_dict(\n",
    "    {'row_0': [0, 1, 2],\n",
    "     'row_1': [3, 4, 5],\n",
    "     'row_2': [6, 7, 8]},\n",
    "    orient='index'))"
   ]
  },
  {
   "cell_type": "code",
   "execution_count": 13,
   "metadata": {},
   "outputs": [
    {
     "name": "stdout",
     "output_type": "stream",
     "text": [
      "       0  1  2\n",
      "row_0  0  1  2\n",
      "row_1  3  4  5\n",
      "row_2  6  7  8\n"
     ]
    }
   ],
   "source": [
    "print(pd.DataFrame.from_dict(\n",
    "    {'row_0': np.array([0, 1, 2]),\n",
    "     'row_1': np.array([3, 4, 5]),\n",
    "     'row_2': np.array([6, 7, 8])},\n",
    "    orient='index'))"
   ]
  },
  {
   "cell_type": "code",
   "execution_count": 14,
   "metadata": {},
   "outputs": [],
   "source": [
    "# print(pd.DataFrame.from_dict(\n",
    "#     {'row_0': [0, 1, 2],\n",
    "#      'row_1': np.array([3, 4, 5]),\n",
    "#      'row_2': [6, 7, 8]},\n",
    "#     orient='index'))\n",
    "# TypeError: Expected list, got numpy.ndarray"
   ]
  },
  {
   "cell_type": "code",
   "execution_count": 15,
   "metadata": {},
   "outputs": [
    {
     "name": "stdout",
     "output_type": "stream",
     "text": [
      "   col_0  col_1  col_2\n",
      "0      0      1      2\n",
      "1      3      4      5\n",
      "2      6      7      8\n"
     ]
    }
   ],
   "source": [
    "print(pd.DataFrame([{'col_0': 0, 'col_1': 1, 'col_2': 2},\n",
    "                    {'col_0': 3, 'col_1': 4, 'col_2': 5},\n",
    "                    {'col_0': 6, 'col_1': 7, 'col_2': 8}]))"
   ]
  },
  {
   "cell_type": "code",
   "execution_count": 16,
   "metadata": {},
   "outputs": [
    {
     "name": "stdout",
     "output_type": "stream",
     "text": [
      "       col_0  col_1  col_2\n",
      "row_0      0      1      2\n",
      "row_1      3      4      5\n",
      "row_2      6      7      8\n"
     ]
    }
   ],
   "source": [
    "print(pd.DataFrame([{'col_0': 0, 'col_1': 1, 'col_2': 2},\n",
    "                    {'col_0': 3, 'col_1': 4, 'col_2': 5},\n",
    "                    {'col_0': 6, 'col_1': 7, 'col_2': 8}],\n",
    "                   index=['row_0', 'row_1', 'row_2']))"
   ]
  },
  {
   "cell_type": "code",
   "execution_count": 17,
   "metadata": {},
   "outputs": [
    {
     "name": "stdout",
     "output_type": "stream",
     "text": [
      "   col_0  col_1  col_2  col_3\n",
      "0      0    1.0      2    NaN\n",
      "1      3    NaN      5  100.0\n",
      "2      6    7.0      8    NaN\n"
     ]
    }
   ],
   "source": [
    "print(pd.DataFrame([{'col_0': 0, 'col_1': 1, 'col_2': 2},\n",
    "                    {'col_0': 3, 'col_2': 5, 'col_3': 100},\n",
    "                    {'col_0': 6, 'col_1': 7, 'col_2': 8}]))"
   ]
  },
  {
   "cell_type": "code",
   "execution_count": 18,
   "metadata": {},
   "outputs": [
    {
     "name": "stdout",
     "output_type": "stream",
     "text": [
      "       col_0  col_1  col_2\n",
      "row_0    0.0    3.0    6.0\n",
      "row_1    1.0    NaN    7.0\n",
      "row_2    2.0    4.0    8.0\n",
      "row_3    NaN    5.0    NaN\n"
     ]
    }
   ],
   "source": [
    "print(pd.DataFrame({'col_0': {'row_0': 0, 'row_1': 1, 'row_2': 2},\n",
    "                    'col_1': {'row_0': 3, 'row_2': 4, 'row_3': 5},\n",
    "                    'col_2': {'row_0': 6, 'row_1': 7, 'row_2': 8}}))"
   ]
  }
 ],
 "metadata": {
  "kernelspec": {
   "display_name": "Python 3",
   "language": "python",
   "name": "python3"
  },
  "language_info": {
   "codemirror_mode": {
    "name": "ipython",
    "version": 3
   },
   "file_extension": ".py",
   "mimetype": "text/x-python",
   "name": "python",
   "nbconvert_exporter": "python",
   "pygments_lexer": "ipython3",
   "version": "3.7.3"
  }
 },
 "nbformat": 4,
 "nbformat_minor": 2
}
