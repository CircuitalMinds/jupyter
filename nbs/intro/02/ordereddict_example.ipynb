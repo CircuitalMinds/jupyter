{
 "cells": [
  {
   "cell_type": "code",
   "execution_count": 1,
   "metadata": {
    "collapsed": true
   },
   "outputs": [],
   "source": [
    "import collections"
   ]
  },
  {
   "cell_type": "code",
   "execution_count": 2,
   "metadata": {
    "collapsed": true
   },
   "outputs": [],
   "source": [
    "od = collections.OrderedDict()"
   ]
  },
  {
   "cell_type": "code",
   "execution_count": 3,
   "metadata": {
    "collapsed": true
   },
   "outputs": [],
   "source": [
    "od['k1'] = 1\n",
    "od['k2'] = 2\n",
    "od['k3'] = 3"
   ]
  },
  {
   "cell_type": "code",
   "execution_count": 4,
   "metadata": {},
   "outputs": [
    {
     "name": "stdout",
     "output_type": "stream",
     "text": [
      "OrderedDict([('k1', 1), ('k2', 2), ('k3', 3)])\n"
     ]
    }
   ],
   "source": [
    "print(od)"
   ]
  },
  {
   "cell_type": "code",
   "execution_count": 5,
   "metadata": {},
   "outputs": [
    {
     "name": "stdout",
     "output_type": "stream",
     "text": [
      "OrderedDict([('k1', 1), ('k2', 2), ('k3', 3)])\n",
      "OrderedDict([('k1', 1), ('k2', 2), ('k3', 3)])\n",
      "OrderedDict([('k1', 1), ('k2', 2), ('k3', 3)])\n"
     ]
    }
   ],
   "source": [
    "print(collections.OrderedDict(k1=1, k2=2, k3=3))\n",
    "print(collections.OrderedDict([('k1', 1), ('k2', 2), ('k3', 3)]))\n",
    "print(collections.OrderedDict((['k1', 1], ['k2', 2], ['k3', 3])))"
   ]
  },
  {
   "cell_type": "code",
   "execution_count": 6,
   "metadata": {},
   "outputs": [
    {
     "name": "stdout",
     "output_type": "stream",
     "text": [
      "OrderedDict([('k1', 1), ('k2', 2), ('k3', 3)])\n"
     ]
    }
   ],
   "source": [
    "print(collections.OrderedDict({'k1': 1, 'k2': 2, 'k3': 3}))"
   ]
  },
  {
   "cell_type": "code",
   "execution_count": 7,
   "metadata": {},
   "outputs": [
    {
     "name": "stdout",
     "output_type": "stream",
     "text": [
      "True\n"
     ]
    }
   ],
   "source": [
    "print(issubclass(collections.OrderedDict, dict))"
   ]
  },
  {
   "cell_type": "code",
   "execution_count": 8,
   "metadata": {},
   "outputs": [
    {
     "name": "stdout",
     "output_type": "stream",
     "text": [
      "1\n"
     ]
    }
   ],
   "source": [
    "print(od['k1'])"
   ]
  },
  {
   "cell_type": "code",
   "execution_count": 9,
   "metadata": {},
   "outputs": [
    {
     "name": "stdout",
     "output_type": "stream",
     "text": [
      "OrderedDict([('k1', 1), ('k2', 200), ('k3', 3)])\n"
     ]
    }
   ],
   "source": [
    "od['k2'] = 200\n",
    "print(od)"
   ]
  },
  {
   "cell_type": "code",
   "execution_count": 10,
   "metadata": {},
   "outputs": [
    {
     "name": "stdout",
     "output_type": "stream",
     "text": [
      "OrderedDict([('k1', 1), ('k2', 200), ('k3', 3), ('k4', 4), ('k5', 5)])\n"
     ]
    }
   ],
   "source": [
    "od.update(k4=4, k5=5)\n",
    "print(od)"
   ]
  },
  {
   "cell_type": "code",
   "execution_count": 11,
   "metadata": {},
   "outputs": [
    {
     "name": "stdout",
     "output_type": "stream",
     "text": [
      "OrderedDict([('k1', 1), ('k2', 200), ('k3', 3)])\n"
     ]
    }
   ],
   "source": [
    "del od['k4'], od['k5']\n",
    "print(od)"
   ]
  },
  {
   "cell_type": "code",
   "execution_count": 12,
   "metadata": {},
   "outputs": [
    {
     "name": "stdout",
     "output_type": "stream",
     "text": [
      "OrderedDict([('k2', 200), ('k3', 3), ('k1', 1)])\n"
     ]
    }
   ],
   "source": [
    "od.move_to_end('k1')\n",
    "print(od)"
   ]
  },
  {
   "cell_type": "code",
   "execution_count": 13,
   "metadata": {},
   "outputs": [
    {
     "name": "stdout",
     "output_type": "stream",
     "text": [
      "OrderedDict([('k1', 1), ('k2', 200), ('k3', 3)])\n"
     ]
    }
   ],
   "source": [
    "od.move_to_end('k1', False)\n",
    "print(od)"
   ]
  },
  {
   "cell_type": "code",
   "execution_count": 14,
   "metadata": {},
   "outputs": [
    {
     "name": "stdout",
     "output_type": "stream",
     "text": [
      "[('k1', 1), ('k2', 200), ('k3', 3)]\n"
     ]
    }
   ],
   "source": [
    "l = list(od.items())\n",
    "print(l)"
   ]
  },
  {
   "cell_type": "code",
   "execution_count": 15,
   "metadata": {},
   "outputs": [
    {
     "name": "stdout",
     "output_type": "stream",
     "text": [
      "[('k1', 1), ('kx', -1), ('k2', 200), ('k3', 3)]\n"
     ]
    }
   ],
   "source": [
    "l.insert(1, ('kx', -1))\n",
    "print(l)"
   ]
  },
  {
   "cell_type": "code",
   "execution_count": 16,
   "metadata": {},
   "outputs": [
    {
     "name": "stdout",
     "output_type": "stream",
     "text": [
      "OrderedDict([('k1', 1), ('kx', -1), ('k2', 200), ('k3', 3)])\n"
     ]
    }
   ],
   "source": [
    "od = collections.OrderedDict(l)\n",
    "print(od)"
   ]
  },
  {
   "cell_type": "code",
   "execution_count": 17,
   "metadata": {},
   "outputs": [
    {
     "name": "stdout",
     "output_type": "stream",
     "text": [
      "[('k1', 1), ('kx', -1), ('k2', 200), ('k3', 3)]\n"
     ]
    }
   ],
   "source": [
    "l = list(od.items())\n",
    "print(l)"
   ]
  },
  {
   "cell_type": "code",
   "execution_count": 18,
   "metadata": {},
   "outputs": [
    {
     "name": "stdout",
     "output_type": "stream",
     "text": [
      "[('k2', 200), ('kx', -1), ('k1', 1), ('k3', 3)]\n"
     ]
    }
   ],
   "source": [
    "l[0], l[2] = l[2], l[0]\n",
    "print(l)"
   ]
  },
  {
   "cell_type": "code",
   "execution_count": 19,
   "metadata": {},
   "outputs": [
    {
     "name": "stdout",
     "output_type": "stream",
     "text": [
      "OrderedDict([('k2', 200), ('kx', -1), ('k1', 1), ('k3', 3)])\n"
     ]
    }
   ],
   "source": [
    "od = collections.OrderedDict(l)\n",
    "print(od)"
   ]
  },
  {
   "cell_type": "code",
   "execution_count": 20,
   "metadata": {},
   "outputs": [
    {
     "name": "stdout",
     "output_type": "stream",
     "text": [
      "['k2', 'kx', 'k1', 'k3']\n"
     ]
    }
   ],
   "source": [
    "l = list(od.items())\n",
    "k = list(od.keys())\n",
    "print(k)"
   ]
  },
  {
   "cell_type": "code",
   "execution_count": 21,
   "metadata": {},
   "outputs": [
    {
     "name": "stdout",
     "output_type": "stream",
     "text": [
      "1\n"
     ]
    }
   ],
   "source": [
    "print(k.index('kx'))"
   ]
  },
  {
   "cell_type": "code",
   "execution_count": 22,
   "metadata": {},
   "outputs": [
    {
     "name": "stdout",
     "output_type": "stream",
     "text": [
      "[('k2', 200), ('k3', 3), ('k1', 1), ('kx', -1)]\n"
     ]
    }
   ],
   "source": [
    "l[k.index('kx')], l[k.index('k3')] = l[k.index('k3')], l[k.index('kx')]\n",
    "print(l)"
   ]
  },
  {
   "cell_type": "code",
   "execution_count": 23,
   "metadata": {},
   "outputs": [
    {
     "name": "stdout",
     "output_type": "stream",
     "text": [
      "OrderedDict([('k2', 200), ('k3', 3), ('k1', 1), ('kx', -1)])\n"
     ]
    }
   ],
   "source": [
    "od = collections.OrderedDict(l)\n",
    "print(od)"
   ]
  },
  {
   "cell_type": "code",
   "execution_count": 24,
   "metadata": {},
   "outputs": [
    {
     "name": "stdout",
     "output_type": "stream",
     "text": [
      "OrderedDict([('k1', 1), ('k2', 200), ('k3', 3), ('kx', -1)])\n"
     ]
    }
   ],
   "source": [
    "od_sorted_key = collections.OrderedDict(\n",
    "    sorted(od.items(), key=lambda x: x[0])\n",
    ")\n",
    "print(od_sorted_key)"
   ]
  },
  {
   "cell_type": "code",
   "execution_count": 25,
   "metadata": {},
   "outputs": [
    {
     "name": "stdout",
     "output_type": "stream",
     "text": [
      "OrderedDict([('k2', 200), ('k3', 3), ('k1', 1), ('kx', -1)])\n"
     ]
    }
   ],
   "source": [
    "od_sorted_value = collections.OrderedDict(\n",
    "    sorted(od.items(), key=lambda x: x[1], reverse=True)\n",
    ")\n",
    "print(od_sorted_value)"
   ]
  }
 ],
 "metadata": {
  "kernelspec": {
   "display_name": "Python 3",
   "language": "python",
   "name": "python3"
  },
  "language_info": {
   "codemirror_mode": {
    "name": "ipython",
    "version": 3
   },
   "file_extension": ".py",
   "mimetype": "text/x-python",
   "name": "python",
   "nbconvert_exporter": "python",
   "pygments_lexer": "ipython3",
   "version": "3.6.5"
  }
 },
 "nbformat": 4,
 "nbformat_minor": 2
}
