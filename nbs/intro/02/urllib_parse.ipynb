{
 "cells": [
  {
   "cell_type": "code",
   "execution_count": 1,
   "metadata": {
    "collapsed": true
   },
   "outputs": [],
   "source": [
    "# http://docs.python.jp/3.6/library/urllib.parse.html"
   ]
  },
  {
   "cell_type": "code",
   "execution_count": 2,
   "metadata": {
    "collapsed": true
   },
   "outputs": [],
   "source": [
    "import urllib.parse"
   ]
  },
  {
   "cell_type": "code",
   "execution_count": 3,
   "metadata": {},
   "outputs": [
    {
     "name": "stdout",
     "output_type": "stream",
     "text": [
      "key1=value1&key2=%E3%83%90%E3%83%AA%E3%83%A5%E3%83%BC2\n"
     ]
    }
   ],
   "source": [
    "values = {'key1': 'value1', 'key2': 'バリュー2'}\n",
    "print(urllib.parse.urlencode(values))"
   ]
  },
  {
   "cell_type": "code",
   "execution_count": 4,
   "metadata": {},
   "outputs": [
    {
     "name": "stdout",
     "output_type": "stream",
     "text": [
      "http://example.com/sub1/index2.html\n",
      "http://example.com/sub2/index.html\n",
      "https://google.com\n",
      "http://google.com\n"
     ]
    }
   ],
   "source": [
    "base = 'http://example.com/sub1/index.html'\n",
    "print(urllib.parse.urljoin(base, 'index2.html'))\n",
    "print(urllib.parse.urljoin(base, '../../sub2/index.html'))\n",
    "print(urllib.parse.urljoin(base, 'https://google.com'))\n",
    "print(urllib.parse.urljoin(base, '//google.com'))"
   ]
  },
  {
   "cell_type": "code",
   "execution_count": 5,
   "metadata": {},
   "outputs": [
    {
     "name": "stdout",
     "output_type": "stream",
     "text": [
      "ParseResult(scheme='http', netloc='example.com', path='/sub1/index.html', params='', query='key=value', fragment='')\n",
      "http example.com /sub1/index.html\n"
     ]
    }
   ],
   "source": [
    "url = 'http://example.com/sub1/index.html?key=value'\n",
    "o = urllib.parse.urlparse(url)\n",
    "print(o)\n",
    "print(o.scheme, o.netloc, o.path)"
   ]
  },
  {
   "cell_type": "code",
   "execution_count": 6,
   "metadata": {},
   "outputs": [
    {
     "name": "stdout",
     "output_type": "stream",
     "text": [
      "ParseResult(scheme='', netloc='', path='sub/index.html', params='', query='', fragment='')\n"
     ]
    }
   ],
   "source": [
    "relative_url = 'sub/index.html'\n",
    "o = urllib.parse.urlparse(relative_url)\n",
    "print(o)"
   ]
  }
 ],
 "metadata": {
  "kernelspec": {
   "display_name": "Python 3",
   "language": "python",
   "name": "python3"
  },
  "language_info": {
   "codemirror_mode": {
    "name": "ipython",
    "version": 3
   },
   "file_extension": ".py",
   "mimetype": "text/x-python",
   "name": "python",
   "nbconvert_exporter": "python",
   "pygments_lexer": "ipython3",
   "version": "3.6.3"
  }
 },
 "nbformat": 4,
 "nbformat_minor": 2
}
