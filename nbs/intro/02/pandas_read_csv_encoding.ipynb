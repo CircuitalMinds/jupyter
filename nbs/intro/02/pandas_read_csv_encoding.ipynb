{
 "cells": [
  {
   "cell_type": "code",
   "execution_count": 1,
   "metadata": {
    "collapsed": true
   },
   "outputs": [],
   "source": [
    "import pandas as pd"
   ]
  },
  {
   "cell_type": "code",
   "execution_count": 3,
   "metadata": {},
   "outputs": [],
   "source": [
    "# df_sjis = pd.read_csv('data/src/sample_header_shift_jis.csv')\n",
    "# UnicodeDecodeError: 'utf-8' codec can't decode byte 0x82 in position 0: invalid start byte"
   ]
  },
  {
   "cell_type": "code",
   "execution_count": 4,
   "metadata": {},
   "outputs": [
    {
     "name": "stdout",
     "output_type": "stream",
     "text": [
      "   a   b   c   d\n",
      "0  あ  12  13  14\n",
      "1  い  22  23  24\n",
      "2  う  32  33  34\n"
     ]
    }
   ],
   "source": [
    "df_sjis = pd.read_csv('data/src/sample_header_shift_jis.csv',\n",
    "                      encoding='shift_jis')\n",
    "print(df_sjis)"
   ]
  }
 ],
 "metadata": {
  "kernelspec": {
   "display_name": "Python 3",
   "language": "python",
   "name": "python3"
  },
  "language_info": {
   "codemirror_mode": {
    "name": "ipython",
    "version": 3
   },
   "file_extension": ".py",
   "mimetype": "text/x-python",
   "name": "python",
   "nbconvert_exporter": "python",
   "pygments_lexer": "ipython3",
   "version": "3.6.5"
  }
 },
 "nbformat": 4,
 "nbformat_minor": 2
}
