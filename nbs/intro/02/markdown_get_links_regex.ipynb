{
 "cells": [
  {
   "cell_type": "code",
   "execution_count": 1,
   "metadata": {},
   "outputs": [],
   "source": [
    "import pprint\n",
    "import re"
   ]
  },
  {
   "cell_type": "code",
   "execution_count": 2,
   "metadata": {},
   "outputs": [],
   "source": [
    "def get_links_from_md_regex(file_path, p=re.compile(r'\\[(.+?)\\]\\((.+?)\\)')):\n",
    "    l = []\n",
    "    with open(file_path) as f:\n",
    "        for i, line in enumerate(f):\n",
    "            for result in p.findall(line):\n",
    "                l.append([file_path, i + 1, result[0], result[1]])\n",
    "    return l"
   ]
  },
  {
   "cell_type": "code",
   "execution_count": 3,
   "metadata": {},
   "outputs": [
    {
     "name": "stdout",
     "output_type": "stream",
     "text": [
      "[['data/src/md/test1.md', 1, 'Instagram', 'https://www.instagram.com/'],\n",
      " ['data/src/md/test1.md', 1, 'Twitter', 'https://twitter.com'],\n",
      " ['data/src/md/test1.md', 3, '[Py] Python.org', 'https://www.python.org/'],\n",
      " ['data/src/md/test1.md', 4, 'relative link', '../test/']]\n"
     ]
    }
   ],
   "source": [
    "pprint.pprint(get_links_from_md_regex('data/src/md/test1.md'))"
   ]
  },
  {
   "cell_type": "code",
   "execution_count": 4,
   "metadata": {},
   "outputs": [],
   "source": [
    "s = '[text](URL_with())'"
   ]
  },
  {
   "cell_type": "code",
   "execution_count": 5,
   "metadata": {},
   "outputs": [
    {
     "name": "stdout",
     "output_type": "stream",
     "text": [
      "[('text', 'URL_with(')]\n"
     ]
    }
   ],
   "source": [
    "p1 = re.compile(r'\\[(.+?)\\]\\((.+?)\\)')\n",
    "print(p1.findall(s))"
   ]
  },
  {
   "cell_type": "code",
   "execution_count": 6,
   "metadata": {},
   "outputs": [
    {
     "name": "stdout",
     "output_type": "stream",
     "text": [
      "[('text', 'URL_with()')]\n"
     ]
    }
   ],
   "source": [
    "p2 = re.compile(r'\\[(.+?)\\]\\((.+)\\)')\n",
    "print(p2.findall(s))"
   ]
  },
  {
   "cell_type": "code",
   "execution_count": 7,
   "metadata": {},
   "outputs": [],
   "source": [
    "s_inline = '[text](URL_with()) and [text2](URL2)'"
   ]
  },
  {
   "cell_type": "code",
   "execution_count": 8,
   "metadata": {},
   "outputs": [
    {
     "name": "stdout",
     "output_type": "stream",
     "text": [
      "[('text', 'URL_with()) and [text2](URL2')]\n"
     ]
    }
   ],
   "source": [
    "print(p2.findall(s_inline))"
   ]
  },
  {
   "cell_type": "code",
   "execution_count": 9,
   "metadata": {},
   "outputs": [
    {
     "name": "stdout",
     "output_type": "stream",
     "text": [
      "[('text', 'URL_with()')]\n"
     ]
    }
   ],
   "source": [
    "p3 = re.compile(r\"\\[(.+?)\\]\\(([a-zA-Z0-9-._~:/?#@!$&'()*+,;=%]+)\\)\")\n",
    "print(p3.findall(s))"
   ]
  },
  {
   "cell_type": "code",
   "execution_count": 10,
   "metadata": {},
   "outputs": [
    {
     "name": "stdout",
     "output_type": "stream",
     "text": [
      "[('text', 'URL_with()'), ('text2', 'URL2')]\n"
     ]
    }
   ],
   "source": [
    "print(p3.findall(s_inline))"
   ]
  },
  {
   "cell_type": "code",
   "execution_count": 11,
   "metadata": {},
   "outputs": [],
   "source": [
    "s_jp = '[text](日本語URL)'"
   ]
  },
  {
   "cell_type": "code",
   "execution_count": 12,
   "metadata": {},
   "outputs": [
    {
     "name": "stdout",
     "output_type": "stream",
     "text": [
      "[('text', '日本語URL')]\n"
     ]
    }
   ],
   "source": [
    "print(p1.findall(s_jp))"
   ]
  },
  {
   "cell_type": "code",
   "execution_count": 13,
   "metadata": {},
   "outputs": [
    {
     "name": "stdout",
     "output_type": "stream",
     "text": [
      "[('text', '日本語URL')]\n"
     ]
    }
   ],
   "source": [
    "print(p2.findall(s_jp))"
   ]
  },
  {
   "cell_type": "code",
   "execution_count": 14,
   "metadata": {},
   "outputs": [
    {
     "name": "stdout",
     "output_type": "stream",
     "text": [
      "[]\n"
     ]
    }
   ],
   "source": [
    "print(p3.findall(s_jp))"
   ]
  },
  {
   "cell_type": "code",
   "execution_count": 15,
   "metadata": {},
   "outputs": [
    {
     "name": "stdout",
     "output_type": "stream",
     "text": [
      "[('text', '日本語URL')]\n"
     ]
    }
   ],
   "source": [
    "p4 = re.compile(r\"\\[(.+?)\\]\\(([a-zA-Z0-9-._~:/?#@!$&'()*+,;=%\\w]+)\\)\")\n",
    "print(p4.findall(s_jp))"
   ]
  },
  {
   "cell_type": "code",
   "execution_count": 16,
   "metadata": {},
   "outputs": [],
   "source": [
    "s_jp_inline = '[text](日本語URL)と括弧(xxx)。'"
   ]
  },
  {
   "cell_type": "code",
   "execution_count": 17,
   "metadata": {},
   "outputs": [
    {
     "name": "stdout",
     "output_type": "stream",
     "text": [
      "[('text', '日本語URL')]\n"
     ]
    }
   ],
   "source": [
    "print(p1.findall(s_jp_inline))"
   ]
  },
  {
   "cell_type": "code",
   "execution_count": 18,
   "metadata": {},
   "outputs": [
    {
     "name": "stdout",
     "output_type": "stream",
     "text": [
      "[('text', '日本語URL)と括弧(xxx')]\n"
     ]
    }
   ],
   "source": [
    "print(p2.findall(s_jp_inline))"
   ]
  },
  {
   "cell_type": "code",
   "execution_count": 19,
   "metadata": {},
   "outputs": [
    {
     "name": "stdout",
     "output_type": "stream",
     "text": [
      "[]\n"
     ]
    }
   ],
   "source": [
    "print(p3.findall(s_jp_inline))"
   ]
  },
  {
   "cell_type": "code",
   "execution_count": 20,
   "metadata": {},
   "outputs": [
    {
     "name": "stdout",
     "output_type": "stream",
     "text": [
      "[('text', '日本語URL)と括弧(xxx')]\n"
     ]
    }
   ],
   "source": [
    "print(p4.findall(s_jp_inline))"
   ]
  },
  {
   "cell_type": "code",
   "execution_count": 21,
   "metadata": {},
   "outputs": [],
   "source": [
    "p_title = re.compile(r'\\[(.+?)\\]\\(([a-zA-Z0-9-._~:/?#@!$&\\'()*+,;=%\\w]+)( \"(.+)\")?\\)')"
   ]
  },
  {
   "cell_type": "code",
   "execution_count": 22,
   "metadata": {},
   "outputs": [
    {
     "name": "stdout",
     "output_type": "stream",
     "text": [
      "[('text', 'URL', ' \"title\"', 'title')]\n"
     ]
    }
   ],
   "source": [
    "print(p_title.findall('[text](URL \"title\")'))"
   ]
  },
  {
   "cell_type": "code",
   "execution_count": 23,
   "metadata": {},
   "outputs": [
    {
     "name": "stdout",
     "output_type": "stream",
     "text": [
      "[('text', 'URL', '', '')]\n"
     ]
    }
   ],
   "source": [
    "print(p_title.findall('[text](URL)'))"
   ]
  }
 ],
 "metadata": {
  "kernelspec": {
   "display_name": "Python 3",
   "language": "python",
   "name": "python3"
  },
  "language_info": {
   "codemirror_mode": {
    "name": "ipython",
    "version": 3
   },
   "file_extension": ".py",
   "mimetype": "text/x-python",
   "name": "python",
   "nbconvert_exporter": "python",
   "pygments_lexer": "ipython3",
   "version": "3.7.4"
  }
 },
 "nbformat": 4,
 "nbformat_minor": 2
}
