{
 "cells": [
  {
   "cell_type": "code",
   "execution_count": 1,
   "metadata": {},
   "outputs": [],
   "source": [
    "import calendar\n",
    "import pprint"
   ]
  },
  {
   "cell_type": "code",
   "execution_count": 2,
   "metadata": {},
   "outputs": [
    {
     "name": "stdout",
     "output_type": "stream",
     "text": [
      "[[0, 1, 2, 3, 4, 5, 6],\n",
      " [7, 8, 9, 10, 11, 12, 13],\n",
      " [14, 15, 16, 17, 18, 19, 20],\n",
      " [21, 22, 23, 24, 25, 26, 27],\n",
      " [28, 29, 30, 31, 0, 0, 0]]\n"
     ]
    }
   ],
   "source": [
    "pprint.pprint(calendar.monthcalendar(2019, 1))"
   ]
  },
  {
   "cell_type": "code",
   "execution_count": 3,
   "metadata": {},
   "outputs": [],
   "source": [
    "calendar.setfirstweekday(6)"
   ]
  },
  {
   "cell_type": "code",
   "execution_count": 4,
   "metadata": {},
   "outputs": [
    {
     "name": "stdout",
     "output_type": "stream",
     "text": [
      "[[0, 0, 1, 2, 3, 4, 5],\n",
      " [6, 7, 8, 9, 10, 11, 12],\n",
      " [13, 14, 15, 16, 17, 18, 19],\n",
      " [20, 21, 22, 23, 24, 25, 26],\n",
      " [27, 28, 29, 30, 31, 0, 0]]\n"
     ]
    }
   ],
   "source": [
    "pprint.pprint(calendar.monthcalendar(2019, 1))"
   ]
  },
  {
   "cell_type": "code",
   "execution_count": 5,
   "metadata": {},
   "outputs": [],
   "source": [
    "c = calendar.Calendar(firstweekday=0)"
   ]
  },
  {
   "cell_type": "code",
   "execution_count": 6,
   "metadata": {},
   "outputs": [
    {
     "name": "stdout",
     "output_type": "stream",
     "text": [
      "[[0, 1, 2, 3, 4, 5, 6],\n",
      " [7, 8, 9, 10, 11, 12, 13],\n",
      " [14, 15, 16, 17, 18, 19, 20],\n",
      " [21, 22, 23, 24, 25, 26, 27],\n",
      " [28, 29, 30, 31, 0, 0, 0]]\n"
     ]
    }
   ],
   "source": [
    "pprint.pprint(c.monthdayscalendar(2019, 1))"
   ]
  },
  {
   "cell_type": "code",
   "execution_count": 7,
   "metadata": {},
   "outputs": [
    {
     "name": "stdout",
     "output_type": "stream",
     "text": [
      "[[[...], [...], [...]],\n",
      " [[...], [...], [...]],\n",
      " [[...], [...], [...]],\n",
      " [[...], [...], [...]]]\n"
     ]
    }
   ],
   "source": [
    "pprint.pprint(c.yeardayscalendar(2019), depth=2)"
   ]
  },
  {
   "cell_type": "code",
   "execution_count": 8,
   "metadata": {},
   "outputs": [
    {
     "name": "stdout",
     "output_type": "stream",
     "text": [
      "[[[...], [...], [...], [...]],\n",
      " [[...], [...], [...], [...]],\n",
      " [[...], [...], [...], [...]]]\n"
     ]
    }
   ],
   "source": [
    "pprint.pprint(c.yeardayscalendar(2019, width=4), depth=2)"
   ]
  },
  {
   "cell_type": "code",
   "execution_count": 9,
   "metadata": {},
   "outputs": [
    {
     "name": "stdout",
     "output_type": "stream",
     "text": [
      "[[(0, 0), (1, 1), (2, 2), (3, 3), (4, 4), (5, 5), (6, 6)],\n",
      " [(7, 0), (8, 1), (9, 2), (10, 3), (11, 4), (12, 5), (13, 6)],\n",
      " [(14, 0), (15, 1), (16, 2), (17, 3), (18, 4), (19, 5), (20, 6)],\n",
      " [(21, 0), (22, 1), (23, 2), (24, 3), (25, 4), (26, 5), (27, 6)],\n",
      " [(28, 0), (29, 1), (30, 2), (31, 3), (0, 4), (0, 5), (0, 6)]]\n"
     ]
    }
   ],
   "source": [
    "pprint.pprint(c.monthdays2calendar(2019, 1))"
   ]
  },
  {
   "cell_type": "code",
   "execution_count": 10,
   "metadata": {},
   "outputs": [
    {
     "name": "stdout",
     "output_type": "stream",
     "text": [
      "[[datetime.date(2018, 12, 31),\n",
      "  datetime.date(2019, 1, 1),\n",
      "  datetime.date(2019, 1, 2),\n",
      "  datetime.date(2019, 1, 3),\n",
      "  datetime.date(2019, 1, 4),\n",
      "  datetime.date(2019, 1, 5),\n",
      "  datetime.date(2019, 1, 6)],\n",
      " [datetime.date(2019, 1, 7),\n",
      "  datetime.date(2019, 1, 8),\n",
      "  datetime.date(2019, 1, 9),\n",
      "  datetime.date(2019, 1, 10),\n",
      "  datetime.date(2019, 1, 11),\n",
      "  datetime.date(2019, 1, 12),\n",
      "  datetime.date(2019, 1, 13)],\n",
      " [datetime.date(2019, 1, 14),\n",
      "  datetime.date(2019, 1, 15),\n",
      "  datetime.date(2019, 1, 16),\n",
      "  datetime.date(2019, 1, 17),\n",
      "  datetime.date(2019, 1, 18),\n",
      "  datetime.date(2019, 1, 19),\n",
      "  datetime.date(2019, 1, 20)],\n",
      " [datetime.date(2019, 1, 21),\n",
      "  datetime.date(2019, 1, 22),\n",
      "  datetime.date(2019, 1, 23),\n",
      "  datetime.date(2019, 1, 24),\n",
      "  datetime.date(2019, 1, 25),\n",
      "  datetime.date(2019, 1, 26),\n",
      "  datetime.date(2019, 1, 27)],\n",
      " [datetime.date(2019, 1, 28),\n",
      "  datetime.date(2019, 1, 29),\n",
      "  datetime.date(2019, 1, 30),\n",
      "  datetime.date(2019, 1, 31),\n",
      "  datetime.date(2019, 2, 1),\n",
      "  datetime.date(2019, 2, 2),\n",
      "  datetime.date(2019, 2, 3)]]\n"
     ]
    }
   ],
   "source": [
    "pprint.pprint(c.monthdatescalendar(2019, 1))"
   ]
  }
 ],
 "metadata": {
  "kernelspec": {
   "display_name": "Python 3",
   "language": "python",
   "name": "python3"
  },
  "language_info": {
   "codemirror_mode": {
    "name": "ipython",
    "version": 3
   },
   "file_extension": ".py",
   "mimetype": "text/x-python",
   "name": "python",
   "nbconvert_exporter": "python",
   "pygments_lexer": "ipython3",
   "version": "3.7.4"
  }
 },
 "nbformat": 4,
 "nbformat_minor": 2
}
