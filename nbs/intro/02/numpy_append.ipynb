{
 "cells": [
  {
   "cell_type": "code",
   "execution_count": 1,
   "metadata": {},
   "outputs": [],
   "source": [
    "import numpy as np"
   ]
  },
  {
   "cell_type": "code",
   "execution_count": 2,
   "metadata": {},
   "outputs": [
    {
     "name": "stdout",
     "output_type": "stream",
     "text": [
      "[0 1 2]\n"
     ]
    }
   ],
   "source": [
    "a = np.arange(3)\n",
    "print(a)"
   ]
  },
  {
   "cell_type": "code",
   "execution_count": 3,
   "metadata": {},
   "outputs": [
    {
     "name": "stdout",
     "output_type": "stream",
     "text": [
      "[0 1 2 3]\n"
     ]
    }
   ],
   "source": [
    "a_append = np.append(a, 3)\n",
    "print(a_append)"
   ]
  },
  {
   "cell_type": "code",
   "execution_count": 4,
   "metadata": {},
   "outputs": [
    {
     "name": "stdout",
     "output_type": "stream",
     "text": [
      "[0 1 2]\n"
     ]
    }
   ],
   "source": [
    "print(a)"
   ]
  },
  {
   "cell_type": "code",
   "execution_count": 5,
   "metadata": {},
   "outputs": [
    {
     "name": "stdout",
     "output_type": "stream",
     "text": [
      "[0 1 2 3 4 5]\n"
     ]
    }
   ],
   "source": [
    "print(np.append(a, [3, 4, 5]))"
   ]
  },
  {
   "cell_type": "code",
   "execution_count": 6,
   "metadata": {},
   "outputs": [
    {
     "name": "stdout",
     "output_type": "stream",
     "text": [
      "[0 1 2 3 4 5]\n"
     ]
    }
   ],
   "source": [
    "print(np.append(a, np.arange(3, 6)))"
   ]
  },
  {
   "cell_type": "code",
   "execution_count": 7,
   "metadata": {},
   "outputs": [
    {
     "name": "stdout",
     "output_type": "stream",
     "text": [
      "[-1  0  1  2]\n"
     ]
    }
   ],
   "source": [
    "print(np.append(-1, a))"
   ]
  },
  {
   "cell_type": "code",
   "execution_count": 8,
   "metadata": {},
   "outputs": [
    {
     "name": "stdout",
     "output_type": "stream",
     "text": [
      "[-3 -2 -1  0  1  2]\n"
     ]
    }
   ],
   "source": [
    "print(np.append([-3, -2, -1], a))"
   ]
  },
  {
   "cell_type": "code",
   "execution_count": 9,
   "metadata": {},
   "outputs": [
    {
     "name": "stdout",
     "output_type": "stream",
     "text": [
      "[-3 -2 -1  0  1  2]\n"
     ]
    }
   ],
   "source": [
    "print(np.append(np.arange(-3, 0), a))"
   ]
  },
  {
   "cell_type": "code",
   "execution_count": 10,
   "metadata": {},
   "outputs": [
    {
     "name": "stdout",
     "output_type": "stream",
     "text": [
      "[[0 1 2]\n",
      " [3 4 5]]\n"
     ]
    }
   ],
   "source": [
    "a_2d = np.arange(6).reshape(2, 3)\n",
    "print(a_2d)"
   ]
  },
  {
   "cell_type": "code",
   "execution_count": 11,
   "metadata": {},
   "outputs": [
    {
     "name": "stdout",
     "output_type": "stream",
     "text": [
      "[ 0  1  2  3  4  5 10]\n"
     ]
    }
   ],
   "source": [
    "print(np.append(a_2d, 10))"
   ]
  },
  {
   "cell_type": "code",
   "execution_count": 12,
   "metadata": {},
   "outputs": [
    {
     "name": "stdout",
     "output_type": "stream",
     "text": [
      "[[ 0 10 20]\n",
      " [30 40 50]]\n"
     ]
    }
   ],
   "source": [
    "a_2d_ex = np.arange(6).reshape(2, 3) * 10\n",
    "print(a_2d_ex)"
   ]
  },
  {
   "cell_type": "code",
   "execution_count": 13,
   "metadata": {},
   "outputs": [
    {
     "name": "stdout",
     "output_type": "stream",
     "text": [
      "[ 0  1  2  3  4  5  0 10 20 30 40 50]\n"
     ]
    }
   ],
   "source": [
    "print(np.append(a_2d, a_2d_ex))"
   ]
  },
  {
   "cell_type": "code",
   "execution_count": 14,
   "metadata": {},
   "outputs": [
    {
     "name": "stdout",
     "output_type": "stream",
     "text": [
      "[[ 0  1  2]\n",
      " [ 3  4  5]\n",
      " [ 0 10 20]\n",
      " [30 40 50]]\n"
     ]
    }
   ],
   "source": [
    "print(np.append(a_2d, a_2d_ex, axis=0))"
   ]
  },
  {
   "cell_type": "code",
   "execution_count": 15,
   "metadata": {},
   "outputs": [
    {
     "name": "stdout",
     "output_type": "stream",
     "text": [
      "[[ 0  1  2  0 10 20]\n",
      " [ 3  4  5 30 40 50]]\n"
     ]
    }
   ],
   "source": [
    "print(np.append(a_2d, a_2d_ex, axis=1))"
   ]
  },
  {
   "cell_type": "code",
   "execution_count": 16,
   "metadata": {},
   "outputs": [],
   "source": [
    "# print(np.append(a_2d, a_2d_ex, axis=2))\n",
    "# AxisError: axis 2 is out of bounds for array of dimension 2"
   ]
  },
  {
   "cell_type": "code",
   "execution_count": 17,
   "metadata": {},
   "outputs": [
    {
     "name": "stdout",
     "output_type": "stream",
     "text": [
      "[[ 0 10]]\n"
     ]
    }
   ],
   "source": [
    "a_2d_ex2 = np.arange(2).reshape(1, 2) * 10\n",
    "print(a_2d_ex2)"
   ]
  },
  {
   "cell_type": "code",
   "execution_count": 18,
   "metadata": {},
   "outputs": [],
   "source": [
    "# print(np.append(a_2d, a_2d_ex2, axis=0))\n",
    "# ValueError: all the input array dimensions except for the concatenation axis must match exactly"
   ]
  },
  {
   "cell_type": "code",
   "execution_count": 19,
   "metadata": {},
   "outputs": [],
   "source": [
    "# print(np.append(a_2d, a_2d_ex2, axis=1))\n",
    "# ValueError: all the input array dimensions except for the concatenation axis must match exactly"
   ]
  },
  {
   "cell_type": "code",
   "execution_count": 20,
   "metadata": {},
   "outputs": [
    {
     "name": "stdout",
     "output_type": "stream",
     "text": [
      "[[ 0 10 20]\n",
      " [30 40 50]\n",
      " [ 0  1  2]\n",
      " [ 3  4  5]]\n"
     ]
    }
   ],
   "source": [
    "print(np.append(a_2d_ex, a_2d, axis=0))"
   ]
  },
  {
   "cell_type": "code",
   "execution_count": 21,
   "metadata": {},
   "outputs": [
    {
     "name": "stdout",
     "output_type": "stream",
     "text": [
      "[[ 0 10 20  0  1  2]\n",
      " [30 40 50  3  4  5]]\n"
     ]
    }
   ],
   "source": [
    "print(np.append(a_2d_ex, a_2d, axis=1))"
   ]
  },
  {
   "cell_type": "code",
   "execution_count": 22,
   "metadata": {},
   "outputs": [
    {
     "name": "stdout",
     "output_type": "stream",
     "text": [
      "[[ 0  1  2]\n",
      " [ 3  4  5]\n",
      " [ 0 10 20]\n",
      " [30 40 50]]\n"
     ]
    }
   ],
   "source": [
    "print(np.append(a_2d, [[0, 10, 20], [30, 40, 50]], axis=0))"
   ]
  },
  {
   "cell_type": "code",
   "execution_count": 23,
   "metadata": {},
   "outputs": [
    {
     "name": "stdout",
     "output_type": "stream",
     "text": [
      "[ 0 10 20]\n"
     ]
    }
   ],
   "source": [
    "a_row_1d = np.arange(3) * 10\n",
    "print(a_row_1d)"
   ]
  },
  {
   "cell_type": "code",
   "execution_count": 24,
   "metadata": {},
   "outputs": [],
   "source": [
    "# print(np.append(a_2d, a_row_1d, axis=0))\n",
    "# ValueError: all the input arrays must have same number of dimensions"
   ]
  },
  {
   "cell_type": "code",
   "execution_count": 25,
   "metadata": {},
   "outputs": [
    {
     "name": "stdout",
     "output_type": "stream",
     "text": [
      "[[  0 100 200]]\n"
     ]
    }
   ],
   "source": [
    "a_row_2d = np.arange(3).reshape(1, 3) * 100\n",
    "print(a_row_2d)"
   ]
  },
  {
   "cell_type": "code",
   "execution_count": 26,
   "metadata": {},
   "outputs": [
    {
     "name": "stdout",
     "output_type": "stream",
     "text": [
      "[[  0   1   2]\n",
      " [  3   4   5]\n",
      " [  0 100 200]]\n"
     ]
    }
   ],
   "source": [
    "print(np.append(a_2d, a_row_2d, axis=0))"
   ]
  },
  {
   "cell_type": "code",
   "execution_count": 27,
   "metadata": {},
   "outputs": [
    {
     "name": "stdout",
     "output_type": "stream",
     "text": [
      "[[ 0  1  2]\n",
      " [ 3  4  5]\n",
      " [ 0 10 20]]\n"
     ]
    }
   ],
   "source": [
    "print(np.append(a_2d, a_row_1d.reshape(1, 3), axis=0))"
   ]
  },
  {
   "cell_type": "code",
   "execution_count": 28,
   "metadata": {},
   "outputs": [
    {
     "name": "stdout",
     "output_type": "stream",
     "text": [
      "[ 0 10]\n"
     ]
    }
   ],
   "source": [
    "a_col_1d = np.arange(2) * 10\n",
    "print(a_col_1d)"
   ]
  },
  {
   "cell_type": "code",
   "execution_count": 29,
   "metadata": {},
   "outputs": [],
   "source": [
    "# print(np.append(a_2d, a_col_1d, axis=1))\n",
    "# ValueError: all the input arrays must have same number of dimensions"
   ]
  },
  {
   "cell_type": "code",
   "execution_count": 30,
   "metadata": {},
   "outputs": [
    {
     "name": "stdout",
     "output_type": "stream",
     "text": [
      "[[  0]\n",
      " [100]]\n"
     ]
    }
   ],
   "source": [
    "a_col_2d = np.arange(2).reshape(2, 1) * 100\n",
    "print(a_col_2d)"
   ]
  },
  {
   "cell_type": "code",
   "execution_count": 31,
   "metadata": {},
   "outputs": [
    {
     "name": "stdout",
     "output_type": "stream",
     "text": [
      "[[  0   1   2   0]\n",
      " [  3   4   5 100]]\n"
     ]
    }
   ],
   "source": [
    "print(np.append(a_2d, a_col_2d, axis=1))"
   ]
  },
  {
   "cell_type": "code",
   "execution_count": 32,
   "metadata": {},
   "outputs": [
    {
     "name": "stdout",
     "output_type": "stream",
     "text": [
      "[[ 0  1  2  0]\n",
      " [ 3  4  5 10]]\n"
     ]
    }
   ],
   "source": [
    "print(np.append(a_2d, a_col_1d.reshape(2, 1), axis=1))"
   ]
  },
  {
   "cell_type": "code",
   "execution_count": 33,
   "metadata": {},
   "outputs": [
    {
     "name": "stdout",
     "output_type": "stream",
     "text": [
      "[[ 0  1  2]\n",
      " [ 3  4  5]\n",
      " [ 0 10 20]]\n"
     ]
    }
   ],
   "source": [
    "print(np.vstack([a_2d, a_row_1d]))"
   ]
  },
  {
   "cell_type": "code",
   "execution_count": 34,
   "metadata": {},
   "outputs": [
    {
     "name": "stdout",
     "output_type": "stream",
     "text": [
      "[[  0 100 200]\n",
      " [  0   1   2]\n",
      " [  3   4   5]\n",
      " [  0  10  20]\n",
      " [  0  -1  -2]\n",
      " [ -3  -4  -5]]\n"
     ]
    }
   ],
   "source": [
    "print(np.vstack([a_row_2d, a_2d, a_row_1d, [[0, -1, -2], [-3, -4, -5]]]))"
   ]
  },
  {
   "cell_type": "code",
   "execution_count": 35,
   "metadata": {},
   "outputs": [],
   "source": [
    "# print(np.hstack([a_2d, a_col_1d]))\n",
    "# ValueError: all the input arrays must have same number of dimensions"
   ]
  },
  {
   "cell_type": "code",
   "execution_count": 36,
   "metadata": {},
   "outputs": [
    {
     "name": "stdout",
     "output_type": "stream",
     "text": [
      "[[  0   0   1   2   0   0  -1]\n",
      " [100   3   4   5  10  -2  -3]]\n"
     ]
    }
   ],
   "source": [
    "print(np.hstack([a_col_2d, a_2d, a_col_1d.reshape(2, 1), [[0, -1], [-2, -3]]]))"
   ]
  },
  {
   "cell_type": "code",
   "execution_count": 37,
   "metadata": {},
   "outputs": [
    {
     "name": "stdout",
     "output_type": "stream",
     "text": [
      "[[[ 0  1]\n",
      "  [ 2  3]\n",
      "  [ 4  5]]\n",
      "\n",
      " [[ 6  7]\n",
      "  [ 8  9]\n",
      "  [10 11]]]\n"
     ]
    }
   ],
   "source": [
    "a_3d = np.arange(12).reshape(2, 3, 2)\n",
    "print(a_3d)"
   ]
  },
  {
   "cell_type": "code",
   "execution_count": 38,
   "metadata": {},
   "outputs": [
    {
     "name": "stdout",
     "output_type": "stream",
     "text": [
      "[  0   1   2   3   4   5   6   7   8   9  10  11 100]\n"
     ]
    }
   ],
   "source": [
    "print(np.append(a_3d, 100))"
   ]
  },
  {
   "cell_type": "code",
   "execution_count": 39,
   "metadata": {},
   "outputs": [
    {
     "name": "stdout",
     "output_type": "stream",
     "text": [
      "[[[  0  10]\n",
      "  [ 20  30]\n",
      "  [ 40  50]]\n",
      "\n",
      " [[ 60  70]\n",
      "  [ 80  90]\n",
      "  [100 110]]]\n"
     ]
    }
   ],
   "source": [
    "a_3d_ex = np.arange(12).reshape(2, 3, 2) * 10\n",
    "print(a_3d_ex)"
   ]
  },
  {
   "cell_type": "code",
   "execution_count": 40,
   "metadata": {},
   "outputs": [
    {
     "name": "stdout",
     "output_type": "stream",
     "text": [
      "(2, 3, 2)\n"
     ]
    }
   ],
   "source": [
    "print(a_3d_ex.shape)"
   ]
  },
  {
   "cell_type": "code",
   "execution_count": 41,
   "metadata": {},
   "outputs": [
    {
     "name": "stdout",
     "output_type": "stream",
     "text": [
      "[[[  0   1]\n",
      "  [  2   3]\n",
      "  [  4   5]]\n",
      "\n",
      " [[  6   7]\n",
      "  [  8   9]\n",
      "  [ 10  11]]\n",
      "\n",
      " [[  0  10]\n",
      "  [ 20  30]\n",
      "  [ 40  50]]\n",
      "\n",
      " [[ 60  70]\n",
      "  [ 80  90]\n",
      "  [100 110]]]\n"
     ]
    }
   ],
   "source": [
    "print(np.append(a_3d, a_3d_ex, axis=0))"
   ]
  },
  {
   "cell_type": "code",
   "execution_count": 42,
   "metadata": {},
   "outputs": [
    {
     "name": "stdout",
     "output_type": "stream",
     "text": [
      "(4, 3, 2)\n"
     ]
    }
   ],
   "source": [
    "print(np.append(a_3d, a_3d_ex, axis=0).shape)"
   ]
  },
  {
   "cell_type": "code",
   "execution_count": 43,
   "metadata": {},
   "outputs": [
    {
     "name": "stdout",
     "output_type": "stream",
     "text": [
      "[[[  0   1]\n",
      "  [  2   3]\n",
      "  [  4   5]\n",
      "  [  0  10]\n",
      "  [ 20  30]\n",
      "  [ 40  50]]\n",
      "\n",
      " [[  6   7]\n",
      "  [  8   9]\n",
      "  [ 10  11]\n",
      "  [ 60  70]\n",
      "  [ 80  90]\n",
      "  [100 110]]]\n"
     ]
    }
   ],
   "source": [
    "print(np.append(a_3d, a_3d_ex, axis=1))"
   ]
  },
  {
   "cell_type": "code",
   "execution_count": 44,
   "metadata": {},
   "outputs": [
    {
     "name": "stdout",
     "output_type": "stream",
     "text": [
      "(2, 6, 2)\n"
     ]
    }
   ],
   "source": [
    "print(np.append(a_3d, a_3d_ex, axis=1).shape)"
   ]
  },
  {
   "cell_type": "code",
   "execution_count": 45,
   "metadata": {},
   "outputs": [
    {
     "name": "stdout",
     "output_type": "stream",
     "text": [
      "[[[  0   1   0  10]\n",
      "  [  2   3  20  30]\n",
      "  [  4   5  40  50]]\n",
      "\n",
      " [[  6   7  60  70]\n",
      "  [  8   9  80  90]\n",
      "  [ 10  11 100 110]]]\n"
     ]
    }
   ],
   "source": [
    "print(np.append(a_3d, a_3d_ex, axis=2))"
   ]
  },
  {
   "cell_type": "code",
   "execution_count": 46,
   "metadata": {},
   "outputs": [
    {
     "name": "stdout",
     "output_type": "stream",
     "text": [
      "(2, 3, 4)\n"
     ]
    }
   ],
   "source": [
    "print(np.append(a_3d, a_3d_ex, axis=2).shape)"
   ]
  },
  {
   "cell_type": "code",
   "execution_count": 47,
   "metadata": {},
   "outputs": [
    {
     "name": "stdout",
     "output_type": "stream",
     "text": [
      "[[[  0  10   0   1   0  10]\n",
      "  [ 20  30   2   3  20  30]\n",
      "  [ 40  50   4   5  40  50]]\n",
      "\n",
      " [[ 60  70   6   7  60  70]\n",
      "  [ 80  90   8   9  80  90]\n",
      "  [100 110  10  11 100 110]]]\n"
     ]
    }
   ],
   "source": [
    "print(np.concatenate([a_3d_ex, a_3d, a_3d_ex], axis=2))"
   ]
  }
 ],
 "metadata": {
  "kernelspec": {
   "display_name": "Python 3",
   "language": "python",
   "name": "python3"
  },
  "language_info": {
   "codemirror_mode": {
    "name": "ipython",
    "version": 3
   },
   "file_extension": ".py",
   "mimetype": "text/x-python",
   "name": "python",
   "nbconvert_exporter": "python",
   "pygments_lexer": "ipython3",
   "version": "3.7.3"
  }
 },
 "nbformat": 4,
 "nbformat_minor": 2
}
