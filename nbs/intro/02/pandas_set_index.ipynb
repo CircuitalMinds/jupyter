{
 "cells": [
  {
   "cell_type": "code",
   "execution_count": 1,
   "metadata": {},
   "outputs": [],
   "source": [
    "import pandas as pd"
   ]
  },
  {
   "cell_type": "code",
   "execution_count": 2,
   "metadata": {},
   "outputs": [
    {
     "name": "stdout",
     "output_type": "stream",
     "text": [
      "      name  age state  point\n",
      "0    Alice   24    NY     64\n",
      "1      Bob   42    CA     92\n",
      "2  Charlie   18    CA     70\n",
      "3     Dave   68    TX     70\n",
      "4    Ellen   24    CA     88\n",
      "5    Frank   30    NY     57\n"
     ]
    }
   ],
   "source": [
    "df = pd.read_csv('data/src/sample_pandas_normal.csv')\n",
    "print(df)"
   ]
  },
  {
   "cell_type": "code",
   "execution_count": 3,
   "metadata": {},
   "outputs": [
    {
     "name": "stdout",
     "output_type": "stream",
     "text": [
      "         age state  point\n",
      "name                     \n",
      "Alice     24    NY     64\n",
      "Bob       42    CA     92\n",
      "Charlie   18    CA     70\n",
      "Dave      68    TX     70\n",
      "Ellen     24    CA     88\n",
      "Frank     30    NY     57\n"
     ]
    }
   ],
   "source": [
    "df_i = df.set_index('name')\n",
    "print(df_i)"
   ]
  },
  {
   "cell_type": "code",
   "execution_count": 4,
   "metadata": {},
   "outputs": [
    {
     "name": "stdout",
     "output_type": "stream",
     "text": [
      "            name  age state  point\n",
      "name                              \n",
      "Alice      Alice   24    NY     64\n",
      "Bob          Bob   42    CA     92\n",
      "Charlie  Charlie   18    CA     70\n",
      "Dave        Dave   68    TX     70\n",
      "Ellen      Ellen   24    CA     88\n",
      "Frank      Frank   30    NY     57\n"
     ]
    }
   ],
   "source": [
    "df_id = df.set_index('name', drop=False)\n",
    "print(df_id)"
   ]
  },
  {
   "cell_type": "code",
   "execution_count": 5,
   "metadata": {},
   "outputs": [
    {
     "name": "stdout",
     "output_type": "stream",
     "text": [
      "               age  point\n",
      "state name               \n",
      "NY    Alice     24     64\n",
      "CA    Bob       42     92\n",
      "      Charlie   18     70\n",
      "TX    Dave      68     70\n",
      "CA    Ellen     24     88\n",
      "NY    Frank     30     57\n"
     ]
    }
   ],
   "source": [
    "df_mi = df.set_index(['state', 'name'])\n",
    "print(df_mi)"
   ]
  },
  {
   "cell_type": "code",
   "execution_count": 6,
   "metadata": {},
   "outputs": [
    {
     "name": "stdout",
     "output_type": "stream",
     "text": [
      "               age  point\n",
      "state name               \n",
      "CA    Bob       42     92\n",
      "      Charlie   18     70\n",
      "      Ellen     24     88\n",
      "NY    Alice     24     64\n",
      "      Frank     30     57\n",
      "TX    Dave      68     70\n"
     ]
    }
   ],
   "source": [
    "df_mi.sort_index(inplace=True)\n",
    "print(df_mi)"
   ]
  },
  {
   "cell_type": "code",
   "execution_count": 7,
   "metadata": {},
   "outputs": [
    {
     "name": "stdout",
     "output_type": "stream",
     "text": [
      "         age state  point\n",
      "name                     \n",
      "Alice     24    NY     64\n",
      "Bob       42    CA     92\n",
      "Charlie   18    CA     70\n",
      "Dave      68    TX     70\n",
      "Ellen     24    CA     88\n",
      "Frank     30    NY     57\n"
     ]
    }
   ],
   "source": [
    "print(df_i)"
   ]
  },
  {
   "cell_type": "code",
   "execution_count": 8,
   "metadata": {},
   "outputs": [
    {
     "name": "stdout",
     "output_type": "stream",
     "text": [
      "       age  point\n",
      "state            \n",
      "NY      24     64\n",
      "CA      42     92\n",
      "CA      18     70\n",
      "TX      68     70\n",
      "CA      24     88\n",
      "NY      30     57\n"
     ]
    }
   ],
   "source": [
    "df_ii = df_i.set_index('state')\n",
    "print(df_ii)"
   ]
  },
  {
   "cell_type": "code",
   "execution_count": 9,
   "metadata": {},
   "outputs": [
    {
     "name": "stdout",
     "output_type": "stream",
     "text": [
      "               age  point\n",
      "name    state            \n",
      "Alice   NY      24     64\n",
      "Bob     CA      42     92\n",
      "Charlie CA      18     70\n",
      "Dave    TX      68     70\n",
      "Ellen   CA      24     88\n",
      "Frank   NY      30     57\n"
     ]
    }
   ],
   "source": [
    "df_mi = df_i.set_index('state', append=True)\n",
    "print(df_mi)"
   ]
  },
  {
   "cell_type": "code",
   "execution_count": 10,
   "metadata": {},
   "outputs": [
    {
     "name": "stdout",
     "output_type": "stream",
     "text": [
      "               age  point\n",
      "state name               \n",
      "NY    Alice     24     64\n",
      "CA    Bob       42     92\n",
      "      Charlie   18     70\n",
      "TX    Dave      68     70\n",
      "CA    Ellen     24     88\n",
      "NY    Frank     30     57\n"
     ]
    }
   ],
   "source": [
    "print(df_mi.swaplevel(0, 1))"
   ]
  },
  {
   "cell_type": "code",
   "execution_count": 11,
   "metadata": {},
   "outputs": [
    {
     "name": "stdout",
     "output_type": "stream",
     "text": [
      "         age state  point\n",
      "name                     \n",
      "Alice     24    NY     64\n",
      "Bob       42    CA     92\n",
      "Charlie   18    CA     70\n",
      "Dave      68    TX     70\n",
      "Ellen     24    CA     88\n",
      "Frank     30    NY     57\n"
     ]
    }
   ],
   "source": [
    "print(df_i)"
   ]
  },
  {
   "cell_type": "code",
   "execution_count": 12,
   "metadata": {},
   "outputs": [
    {
     "name": "stdout",
     "output_type": "stream",
     "text": [
      "      name  age state  point\n",
      "0    Alice   24    NY     64\n",
      "1      Bob   42    CA     92\n",
      "2  Charlie   18    CA     70\n",
      "3     Dave   68    TX     70\n",
      "4    Ellen   24    CA     88\n",
      "5    Frank   30    NY     57\n"
     ]
    }
   ],
   "source": [
    "df_ri = df_i.reset_index()\n",
    "print(df_ri)"
   ]
  },
  {
   "cell_type": "code",
   "execution_count": 13,
   "metadata": {},
   "outputs": [
    {
     "name": "stdout",
     "output_type": "stream",
     "text": [
      "          name  age  point\n",
      "state                     \n",
      "NY       Alice   24     64\n",
      "CA         Bob   42     92\n",
      "CA     Charlie   18     70\n",
      "TX        Dave   68     70\n",
      "CA       Ellen   24     88\n",
      "NY       Frank   30     57\n"
     ]
    }
   ],
   "source": [
    "df_change = df_i.reset_index().set_index('state')\n",
    "print(df_change)"
   ]
  },
  {
   "cell_type": "code",
   "execution_count": 14,
   "metadata": {},
   "outputs": [
    {
     "name": "stdout",
     "output_type": "stream",
     "text": [
      "         age state  point\n",
      "name                     \n",
      "Alice     24    NY     64\n",
      "Bob       42    CA     92\n",
      "Charlie   18    CA     70\n",
      "Dave      68    TX     70\n",
      "Ellen     24    CA     88\n",
      "Frank     30    NY     57\n"
     ]
    }
   ],
   "source": [
    "df.set_index('name', inplace=True)\n",
    "print(df)"
   ]
  },
  {
   "cell_type": "code",
   "execution_count": 15,
   "metadata": {},
   "outputs": [
    {
     "name": "stdout",
     "output_type": "stream",
     "text": [
      "         age state  point\n",
      "name                     \n",
      "Alice     24    NY     64\n",
      "Bob       42    CA     92\n",
      "Charlie   18    CA     70\n",
      "Dave      68    TX     70\n",
      "Ellen     24    CA     88\n",
      "Frank     30    NY     57\n"
     ]
    }
   ],
   "source": [
    "df = pd.read_csv('data/src/sample_pandas_normal.csv', index_col=0)\n",
    "print(df)"
   ]
  },
  {
   "cell_type": "code",
   "execution_count": 16,
   "metadata": {},
   "outputs": [
    {
     "name": "stdout",
     "output_type": "stream",
     "text": [
      "age      42\n",
      "state    CA\n",
      "point    92\n",
      "Name: Bob, dtype: object\n"
     ]
    }
   ],
   "source": [
    "print(df.loc['Bob'])"
   ]
  },
  {
   "cell_type": "code",
   "execution_count": 17,
   "metadata": {},
   "outputs": [
    {
     "name": "stdout",
     "output_type": "stream",
     "text": [
      "42\n"
     ]
    }
   ],
   "source": [
    "print(df.at['Bob', 'age'])"
   ]
  }
 ],
 "metadata": {
  "kernelspec": {
   "display_name": "Python 3",
   "language": "python",
   "name": "python3"
  },
  "language_info": {
   "codemirror_mode": {
    "name": "ipython",
    "version": 3
   },
   "file_extension": ".py",
   "mimetype": "text/x-python",
   "name": "python",
   "nbconvert_exporter": "python",
   "pygments_lexer": "ipython3",
   "version": "3.7.7"
  }
 },
 "nbformat": 4,
 "nbformat_minor": 2
}
