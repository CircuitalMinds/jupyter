{
 "cells": [
  {
   "cell_type": "code",
   "execution_count": 1,
   "metadata": {},
   "outputs": [],
   "source": [
    "import itertools"
   ]
  },
  {
   "cell_type": "code",
   "execution_count": 2,
   "metadata": {},
   "outputs": [
    {
     "name": "stdout",
     "output_type": "stream",
     "text": [
      "[(0, [0, 0, 0]), (1, [1, 1]), (2, [2]), (0, [0, 0])]\n"
     ]
    }
   ],
   "source": [
    "l = [0, 0, 0, 1, 1, 2, 0, 0]\n",
    "print([(k, list(g)) for k, g in itertools.groupby(l)])"
   ]
  },
  {
   "cell_type": "code",
   "execution_count": 3,
   "metadata": {},
   "outputs": [
    {
     "name": "stdout",
     "output_type": "stream",
     "text": [
      "<itertools.groupby object at 0x110ab58b0>\n"
     ]
    }
   ],
   "source": [
    "l = [0, 0, 0, 1, 1, 2, 0, 0]\n",
    "print(itertools.groupby(l))"
   ]
  },
  {
   "cell_type": "code",
   "execution_count": 4,
   "metadata": {},
   "outputs": [
    {
     "name": "stdout",
     "output_type": "stream",
     "text": [
      "0 <itertools._grouper object at 0x110a26940>\n",
      "1 <itertools._grouper object at 0x110a2c400>\n",
      "2 <itertools._grouper object at 0x110aa8f10>\n",
      "0 <itertools._grouper object at 0x110aa8ee0>\n"
     ]
    }
   ],
   "source": [
    "for k, g in itertools.groupby(l):\n",
    "    print(k, g)"
   ]
  },
  {
   "cell_type": "code",
   "execution_count": 5,
   "metadata": {},
   "outputs": [
    {
     "name": "stdout",
     "output_type": "stream",
     "text": [
      "0 [0, 0, 0]\n",
      "1 [1, 1]\n",
      "2 [2]\n",
      "0 [0, 0]\n"
     ]
    }
   ],
   "source": [
    "for k, g in itertools.groupby(l):\n",
    "    print(k, list(g))"
   ]
  },
  {
   "cell_type": "code",
   "execution_count": 6,
   "metadata": {},
   "outputs": [
    {
     "name": "stdout",
     "output_type": "stream",
     "text": [
      "[0, 1, 2, 0]\n"
     ]
    }
   ],
   "source": [
    "print([k for k, g in itertools.groupby(l)])"
   ]
  },
  {
   "cell_type": "code",
   "execution_count": 7,
   "metadata": {},
   "outputs": [
    {
     "name": "stdout",
     "output_type": "stream",
     "text": [
      "[[0, 0, 0], [1, 1], [2], [0, 0]]\n"
     ]
    }
   ],
   "source": [
    "print([list(g) for k, g in itertools.groupby(l)])"
   ]
  },
  {
   "cell_type": "code",
   "execution_count": 8,
   "metadata": {},
   "outputs": [
    {
     "name": "stdout",
     "output_type": "stream",
     "text": [
      "[(0, [0, 0, 0]), (1, [1, 1]), (2, [2]), (0, [0, 0])]\n"
     ]
    }
   ],
   "source": [
    "print([(k, list(g)) for k, g in itertools.groupby(l)])"
   ]
  },
  {
   "cell_type": "code",
   "execution_count": 9,
   "metadata": {},
   "outputs": [
    {
     "name": "stdout",
     "output_type": "stream",
     "text": [
      "[(3, ['aaa', 'bbb', 'ccc']), (1, ['a', 'b']), (2, ['aa', 'bb'])]\n"
     ]
    }
   ],
   "source": [
    "l = ['aaa', 'bbb', 'ccc', 'a', 'b', 'aa', 'bb']\n",
    "print([(k, list(g)) for k, g in itertools.groupby(l, len)])"
   ]
  },
  {
   "cell_type": "code",
   "execution_count": 10,
   "metadata": {},
   "outputs": [
    {
     "name": "stdout",
     "output_type": "stream",
     "text": [
      "[(0, [0, 2, 0]), (1, [3, 1]), (0, [4, 4, 0])]\n"
     ]
    }
   ],
   "source": [
    "l = [0, 2, 0, 3, 1, 4, 4, 0]\n",
    "print([(k, list(g)) for k, g in itertools.groupby(l, lambda x: x % 2)])"
   ]
  },
  {
   "cell_type": "code",
   "execution_count": 11,
   "metadata": {},
   "outputs": [],
   "source": [
    "l = [[0, 'Alice', 0],\n",
    "     [1, 'Alice', 10],\n",
    "     [2, 'Bob', 20],\n",
    "     [3, 'Bob', 30],\n",
    "     [4, 'Alice', 40]]"
   ]
  },
  {
   "cell_type": "code",
   "execution_count": 12,
   "metadata": {},
   "outputs": [
    {
     "name": "stdout",
     "output_type": "stream",
     "text": [
      "Alice [[0, 'Alice', 0], [1, 'Alice', 10]]\n",
      "Bob [[2, 'Bob', 20], [3, 'Bob', 30]]\n",
      "Alice [[4, 'Alice', 40]]\n"
     ]
    }
   ],
   "source": [
    "for k, g in itertools.groupby(l, lambda x: x[1]):\n",
    "    print(k, list(g))"
   ]
  },
  {
   "cell_type": "code",
   "execution_count": 13,
   "metadata": {},
   "outputs": [
    {
     "name": "stdout",
     "output_type": "stream",
     "text": [
      "Alice [[0, 'Alice', 0], [1, 'Alice', 10], [4, 'Alice', 40]]\n",
      "Bob [[2, 'Bob', 20], [3, 'Bob', 30]]\n"
     ]
    }
   ],
   "source": [
    "for k, g in itertools.groupby(sorted(l, key=lambda x: x[1]), lambda x: x[1]):\n",
    "    print(k, list(g))"
   ]
  },
  {
   "cell_type": "code",
   "execution_count": 14,
   "metadata": {},
   "outputs": [
    {
     "name": "stdout",
     "output_type": "stream",
     "text": [
      "Alice 50\n",
      "Bob 50\n"
     ]
    }
   ],
   "source": [
    "for k, g in itertools.groupby(sorted(l, key=lambda x: x[1]), lambda x: x[1]):\n",
    "    print(k, sum(x[2] for x in g))"
   ]
  },
  {
   "cell_type": "code",
   "execution_count": 15,
   "metadata": {},
   "outputs": [
    {
     "name": "stdout",
     "output_type": "stream",
     "text": [
      "[(0, [0, 0, 0]), (1, [1, 1]), (2, [2]), (0, [0, 0])]\n"
     ]
    }
   ],
   "source": [
    "t = (0, 0, 0, 1, 1, 2, 0, 0)\n",
    "print([(k, list(g)) for k, g in itertools.groupby(t)])"
   ]
  },
  {
   "cell_type": "code",
   "execution_count": 16,
   "metadata": {},
   "outputs": [
    {
     "name": "stdout",
     "output_type": "stream",
     "text": [
      "((0, (0, 0, 0)), (1, (1, 1)), (2, (2,)), (0, (0, 0)))\n"
     ]
    }
   ],
   "source": [
    "print(tuple((k, tuple(g)) for k, g in itertools.groupby(t)))"
   ]
  },
  {
   "cell_type": "code",
   "execution_count": 17,
   "metadata": {},
   "outputs": [
    {
     "name": "stdout",
     "output_type": "stream",
     "text": [
      "[('a', ['a', 'a', 'a']), ('b', ['b', 'b']), ('c', ['c']), ('a', ['a', 'a'])]\n"
     ]
    }
   ],
   "source": [
    "s = 'aaabbcaa'\n",
    "print([(k, list(g)) for k, g in itertools.groupby(s)])"
   ]
  },
  {
   "cell_type": "code",
   "execution_count": 18,
   "metadata": {},
   "outputs": [
    {
     "name": "stdout",
     "output_type": "stream",
     "text": [
      "[('a', 'aaa'), ('b', 'bb'), ('c', 'c'), ('a', 'aa')]\n"
     ]
    }
   ],
   "source": [
    "print([(k, ''.join(g)) for k, g in itertools.groupby(s)])"
   ]
  }
 ],
 "metadata": {
  "kernelspec": {
   "display_name": "Python 3",
   "language": "python",
   "name": "python3"
  },
  "language_info": {
   "codemirror_mode": {
    "name": "ipython",
    "version": 3
   },
   "file_extension": ".py",
   "mimetype": "text/x-python",
   "name": "python",
   "nbconvert_exporter": "python",
   "pygments_lexer": "ipython3",
   "version": "3.9.12"
  }
 },
 "nbformat": 4,
 "nbformat_minor": 4
}
