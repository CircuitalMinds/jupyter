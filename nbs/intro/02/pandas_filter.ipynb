{
 "cells": [
  {
   "cell_type": "code",
   "execution_count": 1,
   "metadata": {},
   "outputs": [],
   "source": [
    "import pandas as pd"
   ]
  },
  {
   "cell_type": "code",
   "execution_count": 2,
   "metadata": {},
   "outputs": [
    {
     "name": "stdout",
     "output_type": "stream",
     "text": [
      "1.2.2\n"
     ]
    }
   ],
   "source": [
    "print(pd.__version__)"
   ]
  },
  {
   "cell_type": "code",
   "execution_count": 3,
   "metadata": {},
   "outputs": [
    {
     "name": "stdout",
     "output_type": "stream",
     "text": [
      "           A  B  C\n",
      "apple      0  1  2\n",
      "banana     3  4  5\n",
      "pineapple  6  7  8\n"
     ]
    }
   ],
   "source": [
    "df = pd.DataFrame([[0, 1, 2], [3, 4, 5], [6, 7, 8]],\n",
    "                  index=['apple', 'banana', 'pineapple'],\n",
    "                  columns=['A', 'B', 'C'])\n",
    "print(df)"
   ]
  },
  {
   "cell_type": "code",
   "execution_count": 4,
   "metadata": {},
   "outputs": [
    {
     "name": "stdout",
     "output_type": "stream",
     "text": [
      "           A  C\n",
      "apple      0  2\n",
      "banana     3  5\n",
      "pineapple  6  8\n"
     ]
    }
   ],
   "source": [
    "print(df.filter(items=['A', 'C']))"
   ]
  },
  {
   "cell_type": "code",
   "execution_count": 5,
   "metadata": {},
   "outputs": [],
   "source": [
    "# print(df.filter(items=['A', 'C'], like='A'))\n",
    "# TypeError: Keyword arguments `items`, `like`, or `regex` are mutually exclusive"
   ]
  },
  {
   "cell_type": "code",
   "execution_count": 6,
   "metadata": {},
   "outputs": [
    {
     "name": "stdout",
     "output_type": "stream",
     "text": [
      "Empty DataFrame\n",
      "Columns: []\n",
      "Index: [apple, banana, pineapple]\n"
     ]
    }
   ],
   "source": [
    "print(df.filter(items=['X']))"
   ]
  },
  {
   "cell_type": "code",
   "execution_count": 7,
   "metadata": {},
   "outputs": [
    {
     "name": "stdout",
     "output_type": "stream",
     "text": [
      "           A  B  C\n",
      "apple      0  1  2\n",
      "pineapple  6  7  8\n"
     ]
    }
   ],
   "source": [
    "print(df.filter(items=['apple', 'pineapple'], axis=0))"
   ]
  },
  {
   "cell_type": "code",
   "execution_count": 8,
   "metadata": {},
   "outputs": [
    {
     "name": "stdout",
     "output_type": "stream",
     "text": [
      "           A  B  C\n",
      "apple      0  1  2\n",
      "pineapple  6  7  8\n"
     ]
    }
   ],
   "source": [
    "print(df.filter(items=['apple', 'pineapple'], axis='index'))"
   ]
  },
  {
   "cell_type": "code",
   "execution_count": 9,
   "metadata": {},
   "outputs": [
    {
     "name": "stdout",
     "output_type": "stream",
     "text": [
      "           A  C\n",
      "apple      0  2\n",
      "banana     3  5\n",
      "pineapple  6  8\n"
     ]
    }
   ],
   "source": [
    "print(df.filter(items=['A', 'C'], axis=1))"
   ]
  },
  {
   "cell_type": "code",
   "execution_count": 10,
   "metadata": {},
   "outputs": [
    {
     "name": "stdout",
     "output_type": "stream",
     "text": [
      "           A  C\n",
      "apple      0  2\n",
      "banana     3  5\n",
      "pineapple  6  8\n"
     ]
    }
   ],
   "source": [
    "print(df.filter(items=['A', 'C'], axis='columns'))"
   ]
  },
  {
   "cell_type": "code",
   "execution_count": 11,
   "metadata": {},
   "outputs": [
    {
     "name": "stdout",
     "output_type": "stream",
     "text": [
      "           A  C\n",
      "apple      0  2\n",
      "pineapple  6  8\n"
     ]
    }
   ],
   "source": [
    "print(df.filter(items=['A', 'C']).filter(items=['apple', 'pineapple'], axis=0))"
   ]
  },
  {
   "cell_type": "code",
   "execution_count": 12,
   "metadata": {},
   "outputs": [
    {
     "name": "stdout",
     "output_type": "stream",
     "text": [
      "           A  C\n",
      "apple      0  2\n",
      "banana     3  5\n",
      "pineapple  6  8\n"
     ]
    }
   ],
   "source": [
    "print(df.filter(items=['A', 'C']))"
   ]
  },
  {
   "cell_type": "code",
   "execution_count": 13,
   "metadata": {},
   "outputs": [
    {
     "name": "stdout",
     "output_type": "stream",
     "text": [
      "           C  A\n",
      "apple      2  0\n",
      "banana     5  3\n",
      "pineapple  8  6\n"
     ]
    }
   ],
   "source": [
    "print(df.filter(items=['C', 'A']))"
   ]
  },
  {
   "cell_type": "code",
   "execution_count": 14,
   "metadata": {},
   "outputs": [
    {
     "name": "stdout",
     "output_type": "stream",
     "text": [
      "           C  A\n",
      "apple      2  0\n",
      "banana     5  3\n",
      "pineapple  8  6\n"
     ]
    }
   ],
   "source": [
    "print(df[['C', 'A']])"
   ]
  },
  {
   "cell_type": "code",
   "execution_count": 15,
   "metadata": {},
   "outputs": [
    {
     "name": "stdout",
     "output_type": "stream",
     "text": [
      "           C  A\n",
      "apple      2  0\n",
      "banana     5  3\n",
      "pineapple  8  6\n"
     ]
    }
   ],
   "source": [
    "print(df.loc[:, ['C', 'A']])"
   ]
  },
  {
   "cell_type": "code",
   "execution_count": 16,
   "metadata": {},
   "outputs": [
    {
     "name": "stdout",
     "output_type": "stream",
     "text": [
      "           A  B  C\n",
      "pineapple  6  7  8\n",
      "apple      0  1  2\n"
     ]
    }
   ],
   "source": [
    "print(df.loc[['pineapple', 'apple']])"
   ]
  },
  {
   "cell_type": "code",
   "execution_count": 17,
   "metadata": {},
   "outputs": [
    {
     "name": "stdout",
     "output_type": "stream",
     "text": [
      "           A  B  C\n",
      "apple      0  1  2\n",
      "pineapple  6  7  8\n"
     ]
    }
   ],
   "source": [
    "print(df.filter(like='apple', axis=0))"
   ]
  },
  {
   "cell_type": "code",
   "execution_count": 18,
   "metadata": {},
   "outputs": [
    {
     "name": "stdout",
     "output_type": "stream",
     "text": [
      "           A  B  C\n",
      "apple      0  1  2\n",
      "pineapple  6  7  8\n"
     ]
    }
   ],
   "source": [
    "print(df.filter(regex='e$', axis=0))"
   ]
  },
  {
   "cell_type": "code",
   "execution_count": 19,
   "metadata": {},
   "outputs": [
    {
     "name": "stdout",
     "output_type": "stream",
     "text": [
      "        A  B  C\n",
      "apple   0  1  2\n",
      "banana  3  4  5\n"
     ]
    }
   ],
   "source": [
    "print(df.filter(regex='^(a|b)', axis=0))"
   ]
  },
  {
   "cell_type": "code",
   "execution_count": 20,
   "metadata": {},
   "outputs": [
    {
     "name": "stdout",
     "output_type": "stream",
     "text": [
      "           A  B  C\n",
      "banana     3  4  5\n",
      "pineapple  6  7  8\n"
     ]
    }
   ],
   "source": [
    "print(df.filter(regex='(na|ne)', axis=0))"
   ]
  },
  {
   "cell_type": "code",
   "execution_count": 21,
   "metadata": {},
   "outputs": [
    {
     "name": "stdout",
     "output_type": "stream",
     "text": [
      "apple        0\n",
      "banana       1\n",
      "pineapple    2\n",
      "dtype: int64\n"
     ]
    }
   ],
   "source": [
    "s = pd.Series([0, 1, 2], index=['apple', 'banana', 'pineapple'])\n",
    "print(s)"
   ]
  },
  {
   "cell_type": "code",
   "execution_count": 22,
   "metadata": {},
   "outputs": [
    {
     "name": "stdout",
     "output_type": "stream",
     "text": [
      "pineapple    2\n",
      "banana       1\n",
      "dtype: int64\n"
     ]
    }
   ],
   "source": [
    "print(s.filter(items=['pineapple', 'banana']))"
   ]
  },
  {
   "cell_type": "code",
   "execution_count": 23,
   "metadata": {},
   "outputs": [
    {
     "name": "stdout",
     "output_type": "stream",
     "text": [
      "apple        0\n",
      "pineapple    2\n",
      "dtype: int64\n"
     ]
    }
   ],
   "source": [
    "print(s.filter(like='apple'))"
   ]
  },
  {
   "cell_type": "code",
   "execution_count": 24,
   "metadata": {},
   "outputs": [
    {
     "name": "stdout",
     "output_type": "stream",
     "text": [
      "apple     0\n",
      "banana    1\n",
      "dtype: int64\n"
     ]
    }
   ],
   "source": [
    "print(s.filter(regex='^(a|b)'))"
   ]
  }
 ],
 "metadata": {
  "kernelspec": {
   "display_name": "Python 3",
   "language": "python",
   "name": "python3"
  },
  "language_info": {
   "codemirror_mode": {
    "name": "ipython",
    "version": 3
   },
   "file_extension": ".py",
   "mimetype": "text/x-python",
   "name": "python",
   "nbconvert_exporter": "python",
   "pygments_lexer": "ipython3",
   "version": "3.9.2"
  }
 },
 "nbformat": 4,
 "nbformat_minor": 4
}
