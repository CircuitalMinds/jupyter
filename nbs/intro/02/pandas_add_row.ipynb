{
 "cells": [
  {
   "cell_type": "code",
   "execution_count": 1,
   "metadata": {},
   "outputs": [],
   "source": [
    "import pandas as pd"
   ]
  },
  {
   "cell_type": "code",
   "execution_count": 2,
   "metadata": {},
   "outputs": [
    {
     "name": "stdout",
     "output_type": "stream",
     "text": [
      "        A   B   C\n",
      "ONE    A1  B1  C1\n",
      "TWO    A2  B2  C2\n",
      "THREE  A3  B3  C3\n"
     ]
    }
   ],
   "source": [
    "df = pd.DataFrame({'A': ['A1', 'A2', 'A3'],\n",
    "                   'B': ['B1', 'B2', 'B3'],\n",
    "                   'C': ['C1', 'C2', 'C3']},\n",
    "                  index=['ONE', 'TWO', 'THREE'])\n",
    "print(df)"
   ]
  },
  {
   "cell_type": "code",
   "execution_count": 3,
   "metadata": {},
   "outputs": [
    {
     "name": "stdout",
     "output_type": "stream",
     "text": [
      "        A   B   C\n",
      "ONE     0   0   0\n",
      "TWO    A2  B2  C2\n",
      "THREE  A3  B3  C3\n"
     ]
    }
   ],
   "source": [
    "df.loc['ONE'] = 0\n",
    "print(df)"
   ]
  },
  {
   "cell_type": "code",
   "execution_count": 4,
   "metadata": {},
   "outputs": [
    {
     "name": "stdout",
     "output_type": "stream",
     "text": [
      "        A   B   C\n",
      "ONE     0   0   0\n",
      "TWO    A2  B2  C2\n",
      "THREE  A3  B3  C3\n",
      "FOUR    0   0   0\n",
      "FIVE   A5  B5  C5\n"
     ]
    }
   ],
   "source": [
    "df.loc['FOUR'] = 0\n",
    "df.loc['FIVE'] = ['A5', 'B5', 'C5']\n",
    "print(df)"
   ]
  },
  {
   "cell_type": "code",
   "execution_count": 5,
   "metadata": {},
   "outputs": [],
   "source": [
    "# df.loc['SIX'] = ['A6', 'B6']\n",
    "# ValueError: cannot set a row with mismatched columns"
   ]
  },
  {
   "cell_type": "code",
   "execution_count": 6,
   "metadata": {},
   "outputs": [
    {
     "name": "stdout",
     "output_type": "stream",
     "text": [
      "B    B6\n",
      "C    C6\n",
      "D    D6\n",
      "Name: SIX, dtype: object\n"
     ]
    }
   ],
   "source": [
    "s = pd.Series(['B6', 'C6', 'D6'], index=['B', 'C', 'D'], name='SIX')\n",
    "print(s)"
   ]
  },
  {
   "cell_type": "code",
   "execution_count": 7,
   "metadata": {},
   "outputs": [
    {
     "name": "stdout",
     "output_type": "stream",
     "text": [
      "          A     B     C\n",
      "ONE       0     0     0\n",
      "TWO      A2    B2    C2\n",
      "THREE    A3    B3    C3\n",
      "FOUR      0     0     0\n",
      "FIVE     A5    B5    C5\n",
      "XXX    A2A3  B2B3  C2C3\n",
      "YYY     NaN    B6    C6\n",
      "ZZZ      B6    C6    D6\n"
     ]
    }
   ],
   "source": [
    "df.loc['XXX'] = df.loc['TWO'] + df.loc['THREE']\n",
    "df.loc['YYY'] = s\n",
    "df.loc['ZZZ'] = s.values\n",
    "print(df)"
   ]
  },
  {
   "cell_type": "code",
   "execution_count": 8,
   "metadata": {},
   "outputs": [],
   "source": [
    "df = pd.DataFrame({'A': ['A1', 'A2', 'A3'],\n",
    "                   'B': ['B1', 'B2', 'B3'],\n",
    "                   'C': ['C1', 'C2', 'C3']},\n",
    "                  index=['ONE', 'TWO', 'THREE'])"
   ]
  },
  {
   "cell_type": "code",
   "execution_count": 9,
   "metadata": {},
   "outputs": [],
   "source": [
    "# print(df.append(0))\n",
    "# TypeError: cannot concatenate object of type '<class 'int'>'; only Series and DataFrame objs are valid"
   ]
  },
  {
   "cell_type": "code",
   "execution_count": 10,
   "metadata": {},
   "outputs": [
    {
     "name": "stdout",
     "output_type": "stream",
     "text": [
      "         A    B    C    0\n",
      "ONE     A1   B1   C1  NaN\n",
      "TWO     A2   B2   C2  NaN\n",
      "THREE   A3   B3   C3  NaN\n",
      "0      NaN  NaN  NaN  0.0\n",
      "1      NaN  NaN  NaN  1.0\n",
      "2      NaN  NaN  NaN  2.0\n"
     ]
    }
   ],
   "source": [
    "print(df.append([0, 1, 2]))"
   ]
  },
  {
   "cell_type": "code",
   "execution_count": 11,
   "metadata": {},
   "outputs": [
    {
     "name": "stdout",
     "output_type": "stream",
     "text": [
      "    A   B   C\n",
      "0  A1  B1  C1\n",
      "1  A2  B2  C2\n",
      "2  A3  B3  C3\n",
      "3   0   1   2\n"
     ]
    }
   ],
   "source": [
    "print(df.append({'A': 0, 'B': 1, 'C': 2}, ignore_index=True))"
   ]
  },
  {
   "cell_type": "code",
   "execution_count": 12,
   "metadata": {},
   "outputs": [],
   "source": [
    "s = pd.Series(['A4', 'B4', 'C4'], index=df.columns, name='FOUR')"
   ]
  },
  {
   "cell_type": "code",
   "execution_count": 13,
   "metadata": {},
   "outputs": [
    {
     "name": "stdout",
     "output_type": "stream",
     "text": [
      "        A   B   C\n",
      "ONE    A1  B1  C1\n",
      "TWO    A2  B2  C2\n",
      "THREE  A3  B3  C3\n",
      "FOUR   A4  B4  C4\n"
     ]
    }
   ],
   "source": [
    "print(df.append(s))"
   ]
  },
  {
   "cell_type": "code",
   "execution_count": 14,
   "metadata": {},
   "outputs": [],
   "source": [
    "s_mismatch = pd.Series(['B5', 'C5', 'D5'], index=['B', 'C', 'D'], name='FIVE')"
   ]
  },
  {
   "cell_type": "code",
   "execution_count": 15,
   "metadata": {},
   "outputs": [
    {
     "name": "stdout",
     "output_type": "stream",
     "text": [
      "         A   B   C    D\n",
      "ONE     A1  B1  C1  NaN\n",
      "TWO     A2  B2  C2  NaN\n",
      "THREE   A3  B3  C3  NaN\n",
      "FIVE   NaN  B5  C5   D5\n"
     ]
    }
   ],
   "source": [
    "print(df.append(s_mismatch))"
   ]
  },
  {
   "cell_type": "code",
   "execution_count": 16,
   "metadata": {},
   "outputs": [
    {
     "name": "stdout",
     "output_type": "stream",
     "text": [
      "        A   B   C\n",
      "ONE    A1  B1  C1\n",
      "TWO    A2  B2  C2\n",
      "THREE  A3  B3  C3\n"
     ]
    }
   ],
   "source": [
    "print(df)"
   ]
  },
  {
   "cell_type": "code",
   "execution_count": 17,
   "metadata": {},
   "outputs": [],
   "source": [
    "s_no_name = pd.Series(['B4', 'C4', 'D4'], index=['B', 'C', 'D'])"
   ]
  },
  {
   "cell_type": "code",
   "execution_count": 18,
   "metadata": {},
   "outputs": [],
   "source": [
    "# print(df.append(s_no_name))\n",
    "# TypeError: Can only append a Series if ignore_index=True or if the Series has a name"
   ]
  },
  {
   "cell_type": "code",
   "execution_count": 19,
   "metadata": {},
   "outputs": [
    {
     "name": "stdout",
     "output_type": "stream",
     "text": [
      "     A   B   C    D\n",
      "0   A1  B1  C1  NaN\n",
      "1   A2  B2  C2  NaN\n",
      "2   A3  B3  C3  NaN\n",
      "3  NaN  B4  C4   D4\n"
     ]
    }
   ],
   "source": [
    "print(df.append(s_no_name, ignore_index=True))"
   ]
  },
  {
   "cell_type": "code",
   "execution_count": 20,
   "metadata": {},
   "outputs": [
    {
     "name": "stdout",
     "output_type": "stream",
     "text": [
      "         A   B   C    D\n",
      "ONE     A1  B1  C1  NaN\n",
      "TWO     A2  B2  C2  NaN\n",
      "THREE   A3  B3  C3  NaN\n",
      "FOUR    A4  B4  C4  NaN\n",
      "FIVE   NaN  B5  C5   D5\n"
     ]
    }
   ],
   "source": [
    "print(df.append([s, s_mismatch]))"
   ]
  },
  {
   "cell_type": "code",
   "execution_count": 21,
   "metadata": {},
   "outputs": [
    {
     "name": "stdout",
     "output_type": "stream",
     "text": [
      "        B   C   D\n",
      "SIX    B6  C6  D6\n",
      "SEVEN  B7  C7  D7\n"
     ]
    }
   ],
   "source": [
    "df2 = pd.DataFrame([['B6', 'C6', 'D6'], ['B7', 'C7', 'D7']], \n",
    "                   index=['SIX', 'SEVEN'], columns=['B', 'C', 'D'])\n",
    "print(df2)"
   ]
  },
  {
   "cell_type": "code",
   "execution_count": 22,
   "metadata": {},
   "outputs": [
    {
     "name": "stdout",
     "output_type": "stream",
     "text": [
      "         A   B   C    D\n",
      "ONE     A1  B1  C1  NaN\n",
      "TWO     A2  B2  C2  NaN\n",
      "THREE   A3  B3  C3  NaN\n",
      "SIX    NaN  B6  C6   D6\n",
      "SEVEN  NaN  B7  C7   D7\n"
     ]
    }
   ],
   "source": [
    "print(df.append(df2))"
   ]
  },
  {
   "cell_type": "code",
   "execution_count": 23,
   "metadata": {},
   "outputs": [],
   "source": [
    "# print(df.append([s, df2]))\n",
    "# ValueError: all the input array dimensions for the concatenation axis must match exactly, but along dimension 1, the array at index 0 has size 5 and the array at index 1 has size 3"
   ]
  },
  {
   "cell_type": "code",
   "execution_count": 24,
   "metadata": {},
   "outputs": [
    {
     "name": "stdout",
     "output_type": "stream",
     "text": [
      "         A   B   C    D\n",
      "ONE     A1  B1  C1  NaN\n",
      "TWO     A2  B2  C2  NaN\n",
      "THREE   A3  B3  C3  NaN\n",
      "FOUR    A4  B4  C4  NaN\n",
      "SIX    NaN  B6  C6   D6\n",
      "SEVEN  NaN  B7  C7   D7\n"
     ]
    }
   ],
   "source": [
    "print(df.append(s).append(df2))"
   ]
  },
  {
   "cell_type": "code",
   "execution_count": 25,
   "metadata": {},
   "outputs": [
    {
     "name": "stdout",
     "output_type": "stream",
     "text": [
      "         A   B   C    D\n",
      "ONE     A1  B1  C1  NaN\n",
      "TWO     A2  B2  C2  NaN\n",
      "THREE   A3  B3  C3  NaN\n",
      "SIX    NaN  B6  C6   D6\n",
      "SEVEN  NaN  B7  C7   D7\n"
     ]
    }
   ],
   "source": [
    "print(pd.concat([df, df2]))"
   ]
  },
  {
   "cell_type": "code",
   "execution_count": 26,
   "metadata": {},
   "outputs": [
    {
     "name": "stdout",
     "output_type": "stream",
     "text": [
      "        B   C\n",
      "ONE    B1  C1\n",
      "TWO    B2  C2\n",
      "THREE  B3  C3\n",
      "SIX    B6  C6\n",
      "SEVEN  B7  C7\n"
     ]
    }
   ],
   "source": [
    "print(pd.concat([df, df2], join='inner'))"
   ]
  },
  {
   "cell_type": "code",
   "execution_count": 27,
   "metadata": {},
   "outputs": [
    {
     "name": "stdout",
     "output_type": "stream",
     "text": [
      "        A   B   C\n",
      "ONE    A1  B1  C1\n",
      "TWO    A2  B2  C2\n",
      "THREE  A3  B3  C3\n",
      "FOUR   A4  B4  C4\n"
     ]
    }
   ],
   "source": [
    "print(df.append(s))"
   ]
  },
  {
   "cell_type": "code",
   "execution_count": 28,
   "metadata": {},
   "outputs": [
    {
     "name": "stdout",
     "output_type": "stream",
     "text": [
      "         A    B    C    0\n",
      "ONE     A1   B1   C1  NaN\n",
      "TWO     A2   B2   C2  NaN\n",
      "THREE   A3   B3   C3  NaN\n",
      "A      NaN  NaN  NaN   A4\n",
      "B      NaN  NaN  NaN   B4\n",
      "C      NaN  NaN  NaN   C4\n"
     ]
    }
   ],
   "source": [
    "print(pd.concat([df, s]))"
   ]
  },
  {
   "cell_type": "code",
   "execution_count": 29,
   "metadata": {},
   "outputs": [
    {
     "name": "stdout",
     "output_type": "stream",
     "text": [
      "       A   B   C\n",
      "FOUR  A4  B4  C4\n"
     ]
    }
   ],
   "source": [
    "print(pd.DataFrame(s).T)"
   ]
  },
  {
   "cell_type": "code",
   "execution_count": 30,
   "metadata": {},
   "outputs": [
    {
     "name": "stdout",
     "output_type": "stream",
     "text": [
      "        A   B   C\n",
      "ONE    A1  B1  C1\n",
      "TWO    A2  B2  C2\n",
      "THREE  A3  B3  C3\n",
      "FOUR   A4  B4  C4\n"
     ]
    }
   ],
   "source": [
    "print(pd.concat([df, pd.DataFrame(s).T]))"
   ]
  },
  {
   "cell_type": "code",
   "execution_count": 31,
   "metadata": {},
   "outputs": [
    {
     "name": "stdout",
     "output_type": "stream",
     "text": [
      "        A   B   C\n",
      "ONE    A1  B1  C1\n",
      "TWO    A2  B2  C2\n",
      "THREE  A3  B3  C3\n",
      "FOUR    0   0   0\n",
      "FIVE   A5  B5  C5\n"
     ]
    }
   ],
   "source": [
    "print(df.T.assign(FOUR=0, FIVE=['A5', 'B5', 'C5']).T)"
   ]
  },
  {
   "cell_type": "code",
   "execution_count": 32,
   "metadata": {},
   "outputs": [],
   "source": [
    "# df_insert = df.T.insert(0, 'FOUR', 0).T\n",
    "# AttributeError: 'NoneType' object has no attribute 'T'"
   ]
  },
  {
   "cell_type": "code",
   "execution_count": 33,
   "metadata": {},
   "outputs": [
    {
     "name": "stdout",
     "output_type": "stream",
     "text": [
      "        A   B   C\n",
      "FOUR    0   0   0\n",
      "ONE    A1  B1  C1\n",
      "TWO    A2  B2  C2\n",
      "THREE  A3  B3  C3\n"
     ]
    }
   ],
   "source": [
    "df_T = df.T\n",
    "df_T.insert(0, 'FOUR', 0)\n",
    "print(df_T.T)"
   ]
  }
 ],
 "metadata": {
  "kernelspec": {
   "display_name": "Python 3",
   "language": "python",
   "name": "python3"
  },
  "language_info": {
   "codemirror_mode": {
    "name": "ipython",
    "version": 3
   },
   "file_extension": ".py",
   "mimetype": "text/x-python",
   "name": "python",
   "nbconvert_exporter": "python",
   "pygments_lexer": "ipython3",
   "version": "3.7.7"
  }
 },
 "nbformat": 4,
 "nbformat_minor": 2
}
