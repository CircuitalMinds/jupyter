{
 "cells": [
  {
   "cell_type": "code",
   "execution_count": 1,
   "metadata": {},
   "outputs": [],
   "source": [
    "import pandas as pd"
   ]
  },
  {
   "cell_type": "code",
   "execution_count": 2,
   "metadata": {},
   "outputs": [
    {
     "name": "stdout",
     "output_type": "stream",
     "text": [
      "a    0\n",
      "b    1\n",
      "c    2\n",
      "dtype: int64\n"
     ]
    }
   ],
   "source": [
    "s = pd.Series([0, 1, 2], index=['a', 'b', 'c'])\n",
    "print(s)"
   ]
  },
  {
   "cell_type": "code",
   "execution_count": 3,
   "metadata": {},
   "outputs": [
    {
     "name": "stdout",
     "output_type": "stream",
     "text": [
      "   0\n",
      "a  0\n",
      "b  1\n",
      "c  2\n"
     ]
    }
   ],
   "source": [
    "df = pd.DataFrame(s)\n",
    "print(df)"
   ]
  },
  {
   "cell_type": "code",
   "execution_count": 4,
   "metadata": {},
   "outputs": [
    {
     "name": "stdout",
     "output_type": "stream",
     "text": [
      "<class 'pandas.core.frame.DataFrame'>\n"
     ]
    }
   ],
   "source": [
    "print(type(df))"
   ]
  },
  {
   "cell_type": "code",
   "execution_count": 5,
   "metadata": {},
   "outputs": [
    {
     "name": "stdout",
     "output_type": "stream",
     "text": [
      "   a  b  c\n",
      "0  0  1  2\n"
     ]
    }
   ],
   "source": [
    "df_ = pd.DataFrame([s])\n",
    "print(df_)"
   ]
  },
  {
   "cell_type": "code",
   "execution_count": 6,
   "metadata": {},
   "outputs": [
    {
     "name": "stdout",
     "output_type": "stream",
     "text": [
      "<class 'pandas.core.frame.DataFrame'>\n"
     ]
    }
   ],
   "source": [
    "print(type(df_))"
   ]
  },
  {
   "cell_type": "code",
   "execution_count": 7,
   "metadata": {},
   "outputs": [
    {
     "name": "stdout",
     "output_type": "stream",
     "text": [
      "a    0\n",
      "b    1\n",
      "c    2\n",
      "Name: X, dtype: int64\n"
     ]
    }
   ],
   "source": [
    "s_name = pd.Series([0, 1, 2], index=['a', 'b', 'c'], name='X')\n",
    "print(s_name)"
   ]
  },
  {
   "cell_type": "code",
   "execution_count": 8,
   "metadata": {},
   "outputs": [
    {
     "name": "stdout",
     "output_type": "stream",
     "text": [
      "   X\n",
      "a  0\n",
      "b  1\n",
      "c  2\n"
     ]
    }
   ],
   "source": [
    "print(pd.DataFrame(s_name))"
   ]
  },
  {
   "cell_type": "code",
   "execution_count": 9,
   "metadata": {},
   "outputs": [
    {
     "name": "stdout",
     "output_type": "stream",
     "text": [
      "   a  b  c\n",
      "X  0  1  2\n"
     ]
    }
   ],
   "source": [
    "print(pd.DataFrame([s_name]))"
   ]
  },
  {
   "cell_type": "code",
   "execution_count": 10,
   "metadata": {},
   "outputs": [
    {
     "name": "stdout",
     "output_type": "stream",
     "text": [
      "a    0\n",
      "b    1\n",
      "c    2\n",
      "dtype: int64\n"
     ]
    }
   ],
   "source": [
    "s1 = pd.Series([0, 1, 2], index=['a', 'b', 'c'])\n",
    "print(s1)"
   ]
  },
  {
   "cell_type": "code",
   "execution_count": 11,
   "metadata": {},
   "outputs": [
    {
     "name": "stdout",
     "output_type": "stream",
     "text": [
      "a    0.0\n",
      "b    0.1\n",
      "c    0.2\n",
      "dtype: float64\n"
     ]
    }
   ],
   "source": [
    "s2 = pd.Series([0.0, 0.1, 0.2], index=['a', 'b', 'c'])\n",
    "print(s2)"
   ]
  },
  {
   "cell_type": "code",
   "execution_count": 12,
   "metadata": {},
   "outputs": [
    {
     "name": "stdout",
     "output_type": "stream",
     "text": [
      "   col0  col1\n",
      "a     0   0.0\n",
      "b     1   0.1\n",
      "c     2   0.2\n"
     ]
    }
   ],
   "source": [
    "print(pd.DataFrame({'col0': s1, 'col1': s2}))"
   ]
  },
  {
   "cell_type": "code",
   "execution_count": 13,
   "metadata": {},
   "outputs": [
    {
     "name": "stdout",
     "output_type": "stream",
     "text": [
      "     a    b    c\n",
      "0  0.0  1.0  2.0\n",
      "1  0.0  0.1  0.2\n"
     ]
    }
   ],
   "source": [
    "print(pd.DataFrame([s1, s2]))"
   ]
  },
  {
   "cell_type": "code",
   "execution_count": 14,
   "metadata": {},
   "outputs": [
    {
     "name": "stdout",
     "output_type": "stream",
     "text": [
      "   0    1\n",
      "a  0  0.0\n",
      "b  1  0.1\n",
      "c  2  0.2\n"
     ]
    }
   ],
   "source": [
    "print(pd.concat([s1, s2], axis=1))"
   ]
  },
  {
   "cell_type": "code",
   "execution_count": 15,
   "metadata": {},
   "outputs": [
    {
     "name": "stdout",
     "output_type": "stream",
     "text": [
      "a    0\n",
      "b    1\n",
      "c    2\n",
      "Name: X, dtype: int64\n"
     ]
    }
   ],
   "source": [
    "s1_name = pd.Series([0, 1, 2], index=['a', 'b', 'c'], name='X')\n",
    "print(s1_name)"
   ]
  },
  {
   "cell_type": "code",
   "execution_count": 16,
   "metadata": {},
   "outputs": [
    {
     "name": "stdout",
     "output_type": "stream",
     "text": [
      "a    0.0\n",
      "b    0.1\n",
      "c    0.2\n",
      "Name: Y, dtype: float64\n"
     ]
    }
   ],
   "source": [
    "s2_name = pd.Series([0.0, 0.1, 0.2], index=['a', 'b', 'c'], name='Y')\n",
    "print(s2_name)"
   ]
  },
  {
   "cell_type": "code",
   "execution_count": 17,
   "metadata": {},
   "outputs": [
    {
     "name": "stdout",
     "output_type": "stream",
     "text": [
      "   X    Y\n",
      "a  0  0.0\n",
      "b  1  0.1\n",
      "c  2  0.2\n"
     ]
    }
   ],
   "source": [
    "print(pd.DataFrame({s1_name.name: s1_name, s2_name.name: s2_name}))"
   ]
  },
  {
   "cell_type": "code",
   "execution_count": 18,
   "metadata": {},
   "outputs": [
    {
     "name": "stdout",
     "output_type": "stream",
     "text": [
      "     a    b    c\n",
      "X  0.0  1.0  2.0\n",
      "Y  0.0  0.1  0.2\n"
     ]
    }
   ],
   "source": [
    "print(pd.DataFrame([s1_name, s2_name]))"
   ]
  },
  {
   "cell_type": "code",
   "execution_count": 19,
   "metadata": {},
   "outputs": [
    {
     "name": "stdout",
     "output_type": "stream",
     "text": [
      "   X    Y\n",
      "a  0  0.0\n",
      "b  1  0.1\n",
      "c  2  0.2\n"
     ]
    }
   ],
   "source": [
    "print(pd.concat([s1_name, s2_name], axis=1))"
   ]
  },
  {
   "cell_type": "code",
   "execution_count": 20,
   "metadata": {},
   "outputs": [
    {
     "name": "stdout",
     "output_type": "stream",
     "text": [
      "b    0.1\n",
      "c    0.2\n",
      "d    0.3\n",
      "dtype: float64\n"
     ]
    }
   ],
   "source": [
    "s3 = pd.Series([0.1, 0.2, 0.3], index=['b', 'c', 'd'])\n",
    "print(s3)"
   ]
  },
  {
   "cell_type": "code",
   "execution_count": 21,
   "metadata": {},
   "outputs": [
    {
     "name": "stdout",
     "output_type": "stream",
     "text": [
      "   col0  col1\n",
      "a   0.0   NaN\n",
      "b   1.0   0.1\n",
      "c   2.0   0.2\n",
      "d   NaN   0.3\n"
     ]
    }
   ],
   "source": [
    "print(pd.DataFrame({'col0': s1, 'col1': s3}))"
   ]
  },
  {
   "cell_type": "code",
   "execution_count": 22,
   "metadata": {},
   "outputs": [
    {
     "name": "stdout",
     "output_type": "stream",
     "text": [
      "     a    b    c    d\n",
      "0  0.0  1.0  2.0  NaN\n",
      "1  NaN  0.1  0.2  0.3\n"
     ]
    }
   ],
   "source": [
    "print(pd.DataFrame([s1, s3]))"
   ]
  },
  {
   "cell_type": "code",
   "execution_count": 23,
   "metadata": {},
   "outputs": [
    {
     "name": "stdout",
     "output_type": "stream",
     "text": [
      "     0    1\n",
      "a  0.0  NaN\n",
      "b  1.0  0.1\n",
      "c  2.0  0.2\n",
      "d  NaN  0.3\n"
     ]
    },
    {
     "name": "stderr",
     "output_type": "stream",
     "text": [
      "/usr/local/lib/python3.7/site-packages/ipykernel_launcher.py:1: FutureWarning: Sorting because non-concatenation axis is not aligned. A future version\n",
      "of pandas will change to not sort by default.\n",
      "\n",
      "To accept the future behavior, pass 'sort=False'.\n",
      "\n",
      "To retain the current behavior and silence the warning, pass 'sort=True'.\n",
      "\n",
      "  \"\"\"Entry point for launching an IPython kernel.\n"
     ]
    }
   ],
   "source": [
    "print(pd.concat([s1, s3], axis=1))"
   ]
  },
  {
   "cell_type": "code",
   "execution_count": 24,
   "metadata": {},
   "outputs": [
    {
     "name": "stdout",
     "output_type": "stream",
     "text": [
      "   0    1\n",
      "b  1  0.1\n",
      "c  2  0.2\n"
     ]
    }
   ],
   "source": [
    "print(pd.concat([s1, s3], axis=1, join='inner'))"
   ]
  },
  {
   "cell_type": "code",
   "execution_count": 25,
   "metadata": {},
   "outputs": [
    {
     "name": "stdout",
     "output_type": "stream",
     "text": [
      "[0 1 2]\n"
     ]
    }
   ],
   "source": [
    "print(s1.values)"
   ]
  },
  {
   "cell_type": "code",
   "execution_count": 26,
   "metadata": {},
   "outputs": [
    {
     "name": "stdout",
     "output_type": "stream",
     "text": [
      "<class 'numpy.ndarray'>\n"
     ]
    }
   ],
   "source": [
    "print(type(s1.values))"
   ]
  },
  {
   "cell_type": "code",
   "execution_count": 27,
   "metadata": {},
   "outputs": [
    {
     "name": "stdout",
     "output_type": "stream",
     "text": [
      "   col0  col1\n",
      "0     0   0.1\n",
      "1     1   0.2\n",
      "2     2   0.3\n"
     ]
    }
   ],
   "source": [
    "print(pd.DataFrame({'col0': s1.values, 'col1': s3.values}))"
   ]
  },
  {
   "cell_type": "code",
   "execution_count": 28,
   "metadata": {},
   "outputs": [
    {
     "name": "stdout",
     "output_type": "stream",
     "text": [
      "     0    1    2\n",
      "0  0.0  1.0  2.0\n",
      "1  0.1  0.2  0.3\n"
     ]
    }
   ],
   "source": [
    "print(pd.DataFrame([s1.values, s3.values]))"
   ]
  },
  {
   "cell_type": "code",
   "execution_count": 29,
   "metadata": {},
   "outputs": [],
   "source": [
    "# print(pd.concat([s1.values, s3.values], axis=1))\n",
    "# TypeError: cannot concatenate object of type '<class 'numpy.ndarray'>'; only Series and DataFrame objs are valid"
   ]
  },
  {
   "cell_type": "code",
   "execution_count": 30,
   "metadata": {},
   "outputs": [
    {
     "name": "stdout",
     "output_type": "stream",
     "text": [
      "   col0  col1\n",
      "a     0   0.1\n",
      "b     1   0.2\n",
      "c     2   0.3\n"
     ]
    }
   ],
   "source": [
    "print(pd.DataFrame({'col0': s1, 'col1': s3.values}))"
   ]
  },
  {
   "cell_type": "code",
   "execution_count": 31,
   "metadata": {},
   "outputs": [
    {
     "name": "stdout",
     "output_type": "stream",
     "text": [
      "     a    b    c\n",
      "0  0.0  1.0  2.0\n",
      "1  NaN  NaN  NaN\n"
     ]
    }
   ],
   "source": [
    "print(pd.DataFrame([s1, s3.values]))"
   ]
  },
  {
   "cell_type": "code",
   "execution_count": 32,
   "metadata": {},
   "outputs": [
    {
     "name": "stdout",
     "output_type": "stream",
     "text": [
      "   col0  col1\n",
      "a     0   0.1\n",
      "b     1   0.2\n",
      "c     2   0.3\n"
     ]
    }
   ],
   "source": [
    "print(pd.DataFrame({'col0': s1.values, 'col1': s3.values}, index=s1.index))"
   ]
  },
  {
   "cell_type": "code",
   "execution_count": 33,
   "metadata": {},
   "outputs": [
    {
     "name": "stdout",
     "output_type": "stream",
     "text": [
      "     a    b    c\n",
      "0  0.0  1.0  2.0\n",
      "1  0.1  0.2  0.3\n"
     ]
    }
   ],
   "source": [
    "print(pd.DataFrame([s1.values, s3.values], columns=s1.index))"
   ]
  },
  {
   "cell_type": "code",
   "execution_count": 34,
   "metadata": {},
   "outputs": [
    {
     "name": "stdout",
     "output_type": "stream",
     "text": [
      "b    0.1\n",
      "d    0.2\n",
      "dtype: float64\n"
     ]
    }
   ],
   "source": [
    "s4 = pd.Series([0.1, 0.2], index=['b', 'd'])\n",
    "print(s4)"
   ]
  },
  {
   "cell_type": "code",
   "execution_count": 35,
   "metadata": {},
   "outputs": [
    {
     "name": "stdout",
     "output_type": "stream",
     "text": [
      "   col0  col1\n",
      "a   0.0   NaN\n",
      "b   1.0   0.1\n",
      "c   2.0   NaN\n",
      "d   NaN   0.2\n"
     ]
    }
   ],
   "source": [
    "print(pd.DataFrame({'col0': s1, 'col1': s4}))"
   ]
  },
  {
   "cell_type": "code",
   "execution_count": 36,
   "metadata": {},
   "outputs": [
    {
     "name": "stdout",
     "output_type": "stream",
     "text": [
      "     a    b    c    d\n",
      "0  0.0  1.0  2.0  NaN\n",
      "1  NaN  0.1  NaN  0.2\n"
     ]
    }
   ],
   "source": [
    "print(pd.DataFrame([s1, s4]))"
   ]
  },
  {
   "cell_type": "code",
   "execution_count": 37,
   "metadata": {},
   "outputs": [
    {
     "name": "stdout",
     "output_type": "stream",
     "text": [
      "   0    1\n",
      "b  1  0.1\n"
     ]
    }
   ],
   "source": [
    "print(pd.concat([s1, s4], axis=1, join='inner'))"
   ]
  },
  {
   "cell_type": "code",
   "execution_count": 38,
   "metadata": {},
   "outputs": [],
   "source": [
    "# print(pd.DataFrame({'col0': s1.values, 'col1': s4.values}))\n",
    "# ValueError: arrays must all be same length"
   ]
  },
  {
   "cell_type": "code",
   "execution_count": 39,
   "metadata": {},
   "outputs": [
    {
     "name": "stdout",
     "output_type": "stream",
     "text": [
      "     0    1    2\n",
      "0  0.0  1.0  2.0\n",
      "1  0.1  0.2  NaN\n"
     ]
    }
   ],
   "source": [
    "print(pd.DataFrame([s1.values, s4.values]))"
   ]
  },
  {
   "cell_type": "code",
   "execution_count": 40,
   "metadata": {},
   "outputs": [
    {
     "name": "stdout",
     "output_type": "stream",
     "text": [
      "a    0.1\n",
      "b    0.2\n",
      "dtype: float64\n"
     ]
    }
   ],
   "source": [
    "s4.index = ['a', 'b']\n",
    "print(s4)"
   ]
  },
  {
   "cell_type": "code",
   "execution_count": 41,
   "metadata": {},
   "outputs": [
    {
     "name": "stdout",
     "output_type": "stream",
     "text": [
      "   col0  col1\n",
      "a     0   0.1\n",
      "b     1   0.2\n",
      "c     2   NaN\n"
     ]
    }
   ],
   "source": [
    "print(pd.DataFrame({'col0': s1, 'col1': s4}))"
   ]
  },
  {
   "cell_type": "code",
   "execution_count": 42,
   "metadata": {},
   "outputs": [
    {
     "name": "stdout",
     "output_type": "stream",
     "text": [
      "   col0   col1\n",
      "a     0    0.1\n",
      "b     1    0.2\n",
      "c     2  100.0\n"
     ]
    }
   ],
   "source": [
    "print(pd.DataFrame({'col0': s1, 'col1': s4}).fillna(100))"
   ]
  },
  {
   "cell_type": "code",
   "execution_count": 43,
   "metadata": {},
   "outputs": [
    {
     "name": "stdout",
     "output_type": "stream",
     "text": [
      "a    0\n",
      "b    1\n",
      "c    2\n",
      "dtype: int64\n"
     ]
    }
   ],
   "source": [
    "print(s)"
   ]
  },
  {
   "cell_type": "code",
   "execution_count": 44,
   "metadata": {},
   "outputs": [
    {
     "name": "stdout",
     "output_type": "stream",
     "text": [
      "   0\n",
      "a  0\n",
      "b  1\n",
      "c  2\n"
     ]
    }
   ],
   "source": [
    "df = pd.DataFrame(s)\n",
    "print(df)"
   ]
  },
  {
   "cell_type": "code",
   "execution_count": 45,
   "metadata": {},
   "outputs": [
    {
     "name": "stdout",
     "output_type": "stream",
     "text": [
      "a    100\n",
      "b      1\n",
      "c      2\n",
      "dtype: int64\n"
     ]
    }
   ],
   "source": [
    "s[0] = 100\n",
    "print(s)"
   ]
  },
  {
   "cell_type": "code",
   "execution_count": 46,
   "metadata": {},
   "outputs": [
    {
     "name": "stdout",
     "output_type": "stream",
     "text": [
      "     0\n",
      "a  100\n",
      "b    1\n",
      "c    2\n"
     ]
    }
   ],
   "source": [
    "print(df)"
   ]
  },
  {
   "cell_type": "code",
   "execution_count": 47,
   "metadata": {},
   "outputs": [
    {
     "name": "stdout",
     "output_type": "stream",
     "text": [
      "     0\n",
      "a  100\n",
      "b    1\n",
      "c    2\n"
     ]
    }
   ],
   "source": [
    "df_copy = pd.DataFrame(s, copy=True)\n",
    "print(df_copy)"
   ]
  },
  {
   "cell_type": "code",
   "execution_count": 48,
   "metadata": {},
   "outputs": [
    {
     "name": "stdout",
     "output_type": "stream",
     "text": [
      "a    100\n",
      "b    100\n",
      "c      2\n",
      "dtype: int64\n"
     ]
    }
   ],
   "source": [
    "s[1] = 100\n",
    "print(s)"
   ]
  },
  {
   "cell_type": "code",
   "execution_count": 49,
   "metadata": {},
   "outputs": [
    {
     "name": "stdout",
     "output_type": "stream",
     "text": [
      "     0\n",
      "a  100\n",
      "b    1\n",
      "c    2\n"
     ]
    }
   ],
   "source": [
    "print(df_copy)"
   ]
  },
  {
   "cell_type": "code",
   "execution_count": 50,
   "metadata": {},
   "outputs": [
    {
     "name": "stdout",
     "output_type": "stream",
     "text": [
      "   0    1\n",
      "a  0  0.0\n",
      "b  1  0.1\n",
      "c  2  0.2\n"
     ]
    }
   ],
   "source": [
    "df_c = pd.concat([s1, s2], axis=1)\n",
    "print(df_c)"
   ]
  },
  {
   "cell_type": "code",
   "execution_count": 51,
   "metadata": {},
   "outputs": [
    {
     "name": "stdout",
     "output_type": "stream",
     "text": [
      "a    100\n",
      "b      1\n",
      "c      2\n",
      "dtype: int64\n"
     ]
    }
   ],
   "source": [
    "s1[0] = 100\n",
    "print(s1)"
   ]
  },
  {
   "cell_type": "code",
   "execution_count": 52,
   "metadata": {},
   "outputs": [
    {
     "name": "stdout",
     "output_type": "stream",
     "text": [
      "   0    1\n",
      "a  0  0.0\n",
      "b  1  0.1\n",
      "c  2  0.2\n"
     ]
    }
   ],
   "source": [
    "print(df_c)"
   ]
  },
  {
   "cell_type": "code",
   "execution_count": 53,
   "metadata": {},
   "outputs": [
    {
     "name": "stdout",
     "output_type": "stream",
     "text": [
      "     0    1\n",
      "a  100  0.0\n",
      "b    1  0.1\n",
      "c    2  0.2\n"
     ]
    }
   ],
   "source": [
    "df_c_false = pd.concat([s1, s2], axis=1, copy=False)\n",
    "print(df_c_false)"
   ]
  },
  {
   "cell_type": "code",
   "execution_count": 54,
   "metadata": {},
   "outputs": [
    {
     "name": "stdout",
     "output_type": "stream",
     "text": [
      "a    100\n",
      "b    100\n",
      "c      2\n",
      "dtype: int64\n"
     ]
    }
   ],
   "source": [
    "s1[1] = 100\n",
    "print(s1)"
   ]
  },
  {
   "cell_type": "code",
   "execution_count": 55,
   "metadata": {},
   "outputs": [
    {
     "name": "stdout",
     "output_type": "stream",
     "text": [
      "     0    1\n",
      "a  100  0.0\n",
      "b    1  0.1\n",
      "c    2  0.2\n"
     ]
    }
   ],
   "source": [
    "print(df_c_false)"
   ]
  }
 ],
 "metadata": {
  "kernelspec": {
   "display_name": "Python 3",
   "language": "python",
   "name": "python3"
  },
  "language_info": {
   "codemirror_mode": {
    "name": "ipython",
    "version": 3
   },
   "file_extension": ".py",
   "mimetype": "text/x-python",
   "name": "python",
   "nbconvert_exporter": "python",
   "pygments_lexer": "ipython3",
   "version": "3.7.6"
  }
 },
 "nbformat": 4,
 "nbformat_minor": 2
}
