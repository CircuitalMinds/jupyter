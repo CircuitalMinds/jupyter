{
 "cells": [
  {
   "cell_type": "code",
   "execution_count": 1,
   "metadata": {},
   "outputs": [],
   "source": [
    "import pandas as pd"
   ]
  },
  {
   "cell_type": "code",
   "execution_count": 2,
   "metadata": {},
   "outputs": [
    {
     "name": "stdout",
     "output_type": "stream",
     "text": [
      "      name  age state  point\n",
      "0    Alice   24    NY     64\n",
      "1      Bob   42    CA     92\n",
      "2  Charlie   18    CA     70\n",
      "3     Dave   68    TX     70\n",
      "4    Ellen   24    CA     88\n",
      "5    Frank   30    NY     57\n"
     ]
    }
   ],
   "source": [
    "df = pd.read_csv('data/src/sample_pandas_normal.csv')\n",
    "print(df)"
   ]
  },
  {
   "cell_type": "code",
   "execution_count": 3,
   "metadata": {},
   "outputs": [
    {
     "name": "stdout",
     "output_type": "stream",
     "text": [
      "      name  age state  point\n",
      "1      Bob   42    CA     92\n",
      "2  Charlie   18    CA     70\n",
      "4    Ellen   24    CA     88\n",
      "0    Alice   24    NY     64\n",
      "5    Frank   30    NY     57\n",
      "3     Dave   68    TX     70\n"
     ]
    }
   ],
   "source": [
    "df_s = df.sort_values('state')\n",
    "print(df_s)"
   ]
  },
  {
   "cell_type": "code",
   "execution_count": 4,
   "metadata": {},
   "outputs": [
    {
     "name": "stdout",
     "output_type": "stream",
     "text": [
      "      name  age state  point\n",
      "3     Dave   68    TX     70\n",
      "0    Alice   24    NY     64\n",
      "5    Frank   30    NY     57\n",
      "1      Bob   42    CA     92\n",
      "2  Charlie   18    CA     70\n",
      "4    Ellen   24    CA     88\n"
     ]
    }
   ],
   "source": [
    "df_s = df.sort_values('state', ascending=False)\n",
    "print(df_s)"
   ]
  },
  {
   "cell_type": "code",
   "execution_count": 5,
   "metadata": {},
   "outputs": [
    {
     "name": "stdout",
     "output_type": "stream",
     "text": [
      "      name  age state  point\n",
      "2  Charlie   18    CA     70\n",
      "4    Ellen   24    CA     88\n",
      "1      Bob   42    CA     92\n",
      "0    Alice   24    NY     64\n",
      "5    Frank   30    NY     57\n",
      "3     Dave   68    TX     70\n"
     ]
    }
   ],
   "source": [
    "df_s = df.sort_values(['state', 'age'])\n",
    "print(df_s)"
   ]
  },
  {
   "cell_type": "code",
   "execution_count": 6,
   "metadata": {},
   "outputs": [
    {
     "name": "stdout",
     "output_type": "stream",
     "text": [
      "      name  age state  point\n",
      "2  Charlie   18    CA     70\n",
      "4    Ellen   24    CA     88\n",
      "0    Alice   24    NY     64\n",
      "5    Frank   30    NY     57\n",
      "1      Bob   42    CA     92\n",
      "3     Dave   68    TX     70\n"
     ]
    }
   ],
   "source": [
    "df_s = df.sort_values(['age', 'state'])\n",
    "print(df_s)"
   ]
  },
  {
   "cell_type": "code",
   "execution_count": 7,
   "metadata": {},
   "outputs": [
    {
     "name": "stdout",
     "output_type": "stream",
     "text": [
      "      name  age state  point\n",
      "2  Charlie   18    CA     70\n",
      "0    Alice   24    NY     64\n",
      "4    Ellen   24    CA     88\n",
      "5    Frank   30    NY     57\n",
      "1      Bob   42    CA     92\n",
      "3     Dave   68    TX     70\n"
     ]
    }
   ],
   "source": [
    "df_s = df.sort_values(['age', 'state'], ascending=[True, False])\n",
    "print(df_s)"
   ]
  },
  {
   "cell_type": "code",
   "execution_count": 8,
   "metadata": {},
   "outputs": [
    {
     "name": "stdout",
     "output_type": "stream",
     "text": [
      "      name   age state  point\n",
      "0    Alice   NaN    NY     64\n",
      "1      Bob   NaN    CA     92\n",
      "2  Charlie  18.0    CA     70\n",
      "3     Dave  68.0    TX     70\n",
      "4    Ellen  24.0    CA     88\n",
      "5    Frank  30.0    NY     57\n"
     ]
    }
   ],
   "source": [
    "df_nan = df.copy()\n",
    "df_nan.iloc[:2, 1] = pd.np.nan\n",
    "print(df_nan)"
   ]
  },
  {
   "cell_type": "code",
   "execution_count": 9,
   "metadata": {},
   "outputs": [
    {
     "name": "stdout",
     "output_type": "stream",
     "text": [
      "      name   age state  point\n",
      "2  Charlie  18.0    CA     70\n",
      "4    Ellen  24.0    CA     88\n",
      "5    Frank  30.0    NY     57\n",
      "3     Dave  68.0    TX     70\n",
      "0    Alice   NaN    NY     64\n",
      "1      Bob   NaN    CA     92\n"
     ]
    }
   ],
   "source": [
    "df_nan_s = df_nan.sort_values('age')\n",
    "print(df_nan_s)"
   ]
  },
  {
   "cell_type": "code",
   "execution_count": 10,
   "metadata": {},
   "outputs": [
    {
     "name": "stdout",
     "output_type": "stream",
     "text": [
      "      name   age state  point\n",
      "0    Alice   NaN    NY     64\n",
      "1      Bob   NaN    CA     92\n",
      "2  Charlie  18.0    CA     70\n",
      "4    Ellen  24.0    CA     88\n",
      "5    Frank  30.0    NY     57\n",
      "3     Dave  68.0    TX     70\n"
     ]
    }
   ],
   "source": [
    "df_nan_s = df_nan.sort_values('age', na_position='first')\n",
    "print(df_nan_s)"
   ]
  },
  {
   "cell_type": "code",
   "execution_count": 11,
   "metadata": {},
   "outputs": [
    {
     "name": "stdout",
     "output_type": "stream",
     "text": [
      "      name  age state  point\n",
      "1      Bob   42    CA     92\n",
      "2  Charlie   18    CA     70\n",
      "4    Ellen   24    CA     88\n",
      "0    Alice   24    NY     64\n",
      "5    Frank   30    NY     57\n",
      "3     Dave   68    TX     70\n"
     ]
    }
   ],
   "source": [
    "df.sort_values('state', inplace=True)\n",
    "print(df)"
   ]
  },
  {
   "cell_type": "code",
   "execution_count": 12,
   "metadata": {},
   "outputs": [
    {
     "name": "stdout",
     "output_type": "stream",
     "text": [
      "   age  point\n",
      "1   42     92\n",
      "2   18     70\n",
      "4   24     88\n",
      "0   24     64\n",
      "5   30     57\n",
      "3   68     70\n"
     ]
    }
   ],
   "source": [
    "df_d = df.drop(['name', 'state'], axis=1)\n",
    "print(df_d)"
   ]
  },
  {
   "cell_type": "code",
   "execution_count": 13,
   "metadata": {},
   "outputs": [
    {
     "name": "stdout",
     "output_type": "stream",
     "text": [
      "   point  age\n",
      "1     92   42\n",
      "2     70   18\n",
      "4     88   24\n",
      "0     64   24\n",
      "5     57   30\n",
      "3     70   68\n"
     ]
    }
   ],
   "source": [
    "df_d .sort_values(by=1, axis=1, ascending=False, inplace=True)\n",
    "print(df_d)"
   ]
  },
  {
   "cell_type": "code",
   "execution_count": 14,
   "metadata": {},
   "outputs": [
    {
     "name": "stdout",
     "output_type": "stream",
     "text": [
      "      name  age state  point\n",
      "1      Bob   42    CA     92\n",
      "2  Charlie   18    CA     70\n",
      "4    Ellen   24    CA     88\n",
      "0    Alice   24    NY     64\n",
      "5    Frank   30    NY     57\n",
      "3     Dave   68    TX     70\n"
     ]
    }
   ],
   "source": [
    "print(df)"
   ]
  },
  {
   "cell_type": "code",
   "execution_count": 15,
   "metadata": {},
   "outputs": [
    {
     "name": "stdout",
     "output_type": "stream",
     "text": [
      "      name  age state  point\n",
      "0    Alice   24    NY     64\n",
      "1      Bob   42    CA     92\n",
      "2  Charlie   18    CA     70\n",
      "3     Dave   68    TX     70\n",
      "4    Ellen   24    CA     88\n",
      "5    Frank   30    NY     57\n"
     ]
    }
   ],
   "source": [
    "df_s = df.sort_index()\n",
    "print(df_s)"
   ]
  },
  {
   "cell_type": "code",
   "execution_count": 16,
   "metadata": {},
   "outputs": [
    {
     "name": "stdout",
     "output_type": "stream",
     "text": [
      "      name  age state  point\n",
      "5    Frank   30    NY     57\n",
      "4    Ellen   24    CA     88\n",
      "3     Dave   68    TX     70\n",
      "2  Charlie   18    CA     70\n",
      "1      Bob   42    CA     92\n",
      "0    Alice   24    NY     64\n"
     ]
    }
   ],
   "source": [
    "df_s = df.sort_index(ascending=False)\n",
    "print(df_s)"
   ]
  },
  {
   "cell_type": "code",
   "execution_count": 17,
   "metadata": {},
   "outputs": [
    {
     "name": "stdout",
     "output_type": "stream",
     "text": [
      "      name  age state  point\n",
      "0    Alice   24    NY     64\n",
      "1      Bob   42    CA     92\n",
      "2  Charlie   18    CA     70\n",
      "3     Dave   68    TX     70\n",
      "4    Ellen   24    CA     88\n",
      "5    Frank   30    NY     57\n"
     ]
    }
   ],
   "source": [
    "df.sort_index(inplace=True)\n",
    "print(df)"
   ]
  },
  {
   "cell_type": "code",
   "execution_count": 18,
   "metadata": {},
   "outputs": [
    {
     "name": "stdout",
     "output_type": "stream",
     "text": [
      "   age     name  point state\n",
      "0   24    Alice     64    NY\n",
      "1   42      Bob     92    CA\n",
      "2   18  Charlie     70    CA\n",
      "3   68     Dave     70    TX\n",
      "4   24    Ellen     88    CA\n",
      "5   30    Frank     57    NY\n"
     ]
    }
   ],
   "source": [
    "df_s = df.sort_index(axis=1)\n",
    "print(df_s)"
   ]
  },
  {
   "cell_type": "code",
   "execution_count": 19,
   "metadata": {},
   "outputs": [
    {
     "name": "stdout",
     "output_type": "stream",
     "text": [
      "  state  point     name  age\n",
      "0    NY     64    Alice   24\n",
      "1    CA     92      Bob   42\n",
      "2    CA     70  Charlie   18\n",
      "3    TX     70     Dave   68\n",
      "4    CA     88    Ellen   24\n",
      "5    NY     57    Frank   30\n"
     ]
    }
   ],
   "source": [
    "df.sort_index(axis=1, ascending=False, inplace=True)\n",
    "print(df)"
   ]
  }
 ],
 "metadata": {
  "kernelspec": {
   "display_name": "Python 3",
   "language": "python",
   "name": "python3"
  },
  "language_info": {
   "codemirror_mode": {
    "name": "ipython",
    "version": 3
   },
   "file_extension": ".py",
   "mimetype": "text/x-python",
   "name": "python",
   "nbconvert_exporter": "python",
   "pygments_lexer": "ipython3",
   "version": "3.7.3"
  }
 },
 "nbformat": 4,
 "nbformat_minor": 2
}
