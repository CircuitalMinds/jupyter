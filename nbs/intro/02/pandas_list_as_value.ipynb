{
 "cells": [
  {
   "cell_type": "code",
   "execution_count": 1,
   "metadata": {},
   "outputs": [],
   "source": [
    "import pandas as pd"
   ]
  },
  {
   "cell_type": "code",
   "execution_count": 2,
   "metadata": {},
   "outputs": [],
   "source": [
    "df = pd.DataFrame({'s': ['X,Y,Z', 'X', 'XY,Y', 'Y,Z,XY']},\n",
    "                  index=['a', 'b', 'c', 'd'])"
   ]
  },
  {
   "cell_type": "code",
   "execution_count": 3,
   "metadata": {},
   "outputs": [
    {
     "name": "stdout",
     "output_type": "stream",
     "text": [
      "        s\n",
      "a   X,Y,Z\n",
      "b       X\n",
      "c    XY,Y\n",
      "d  Y,Z,XY\n"
     ]
    }
   ],
   "source": [
    "print(df)"
   ]
  },
  {
   "cell_type": "code",
   "execution_count": 4,
   "metadata": {},
   "outputs": [
    {
     "name": "stdout",
     "output_type": "stream",
     "text": [
      "        s           l\n",
      "a   X,Y,Z   [X, Y, Z]\n",
      "b       X         [X]\n",
      "c    XY,Y     [XY, Y]\n",
      "d  Y,Z,XY  [Y, Z, XY]\n"
     ]
    }
   ],
   "source": [
    "df['l'] = df['s'].str.split(',')\n",
    "print(df)"
   ]
  },
  {
   "cell_type": "code",
   "execution_count": 5,
   "metadata": {},
   "outputs": [
    {
     "name": "stdout",
     "output_type": "stream",
     "text": [
      "s    object\n",
      "l    object\n",
      "dtype: object\n"
     ]
    }
   ],
   "source": [
    "print(df.dtypes)"
   ]
  },
  {
   "cell_type": "code",
   "execution_count": 6,
   "metadata": {},
   "outputs": [
    {
     "name": "stdout",
     "output_type": "stream",
     "text": [
      "<class 'str'>\n"
     ]
    }
   ],
   "source": [
    "print(type(df.at['a', 's']))"
   ]
  },
  {
   "cell_type": "code",
   "execution_count": 7,
   "metadata": {},
   "outputs": [
    {
     "name": "stdout",
     "output_type": "stream",
     "text": [
      "<class 'list'>\n"
     ]
    }
   ],
   "source": [
    "print(type(df.at['a', 'l']))"
   ]
  },
  {
   "cell_type": "code",
   "execution_count": 8,
   "metadata": {},
   "outputs": [
    {
     "name": "stdout",
     "output_type": "stream",
     "text": [
      "a     [X, Y, Z]\n",
      "b           [X]\n",
      "c       [XY, Y]\n",
      "d    [Y, Z, XY]\n",
      "Name: s, dtype: object\n"
     ]
    }
   ],
   "source": [
    "print(df['s'].apply(lambda x: [s.strip() for s in x.split(',')]))"
   ]
  },
  {
   "cell_type": "code",
   "execution_count": 9,
   "metadata": {},
   "outputs": [
    {
     "name": "stdout",
     "output_type": "stream",
     "text": [
      "a    3\n",
      "b    1\n",
      "c    2\n",
      "d    3\n",
      "Name: l, dtype: int64\n"
     ]
    }
   ],
   "source": [
    "print(df['l'].apply(len))"
   ]
  },
  {
   "cell_type": "code",
   "execution_count": 10,
   "metadata": {},
   "outputs": [
    {
     "name": "stdout",
     "output_type": "stream",
     "text": [
      "a     [X, Y, Z]\n",
      "b           [X]\n",
      "c       [XY, Y]\n",
      "d    [XY, Y, Z]\n",
      "Name: l, dtype: object\n"
     ]
    }
   ],
   "source": [
    "print(df['l'].apply(sorted))"
   ]
  },
  {
   "cell_type": "code",
   "execution_count": 11,
   "metadata": {},
   "outputs": [
    {
     "name": "stdout",
     "output_type": "stream",
     "text": [
      "a     X,Y,Z\n",
      "b         X\n",
      "c      XY,Y\n",
      "d    Y,Z,XY\n",
      "Name: l, dtype: object\n"
     ]
    }
   ],
   "source": [
    "print(df['l'].apply(lambda x: ','.join(x)))"
   ]
  },
  {
   "cell_type": "code",
   "execution_count": 12,
   "metadata": {},
   "outputs": [
    {
     "name": "stdout",
     "output_type": "stream",
     "text": [
      "a     X,Y,Z\n",
      "b         X\n",
      "c      XY,Y\n",
      "d    Y,Z,XY\n",
      "Name: l, dtype: object\n"
     ]
    }
   ],
   "source": [
    "print(df['l'].apply(','.join))"
   ]
  },
  {
   "cell_type": "code",
   "execution_count": 13,
   "metadata": {},
   "outputs": [
    {
     "name": "stdout",
     "output_type": "stream",
     "text": [
      "a     X,Y,Z\n",
      "b         X\n",
      "c      XY,Y\n",
      "d    XY,Y,Z\n",
      "Name: l, dtype: object\n"
     ]
    }
   ],
   "source": [
    "print(df['l'].apply(lambda x: ','.join(sorted(x))))"
   ]
  },
  {
   "cell_type": "code",
   "execution_count": 14,
   "metadata": {},
   "outputs": [
    {
     "name": "stdout",
     "output_type": "stream",
     "text": [
      "        s              l\n",
      "a   X,Y,Z   [X, Y, Z, A]\n",
      "b       X         [X, A]\n",
      "c    XY,Y     [XY, Y, A]\n",
      "d  Y,Z,XY  [Y, Z, XY, A]\n"
     ]
    }
   ],
   "source": [
    "df['l'].apply(lambda x: x.append('A'))\n",
    "print(df)"
   ]
  },
  {
   "cell_type": "code",
   "execution_count": 15,
   "metadata": {},
   "outputs": [
    {
     "name": "stdout",
     "output_type": "stream",
     "text": [
      "        s           l\n",
      "a   X,Y,Z   [X, Y, A]\n",
      "b       X      [X, A]\n",
      "c    XY,Y  [XY, Y, A]\n",
      "d  Y,Z,XY  [Y, XY, A]\n"
     ]
    }
   ],
   "source": [
    "df['l'].apply(lambda x: x.remove('Z') if 'Z' in x else x)\n",
    "print(df)"
   ]
  },
  {
   "cell_type": "code",
   "execution_count": 16,
   "metadata": {},
   "outputs": [
    {
     "name": "stdout",
     "output_type": "stream",
     "text": [
      "a     True\n",
      "b     True\n",
      "c    False\n",
      "d    False\n",
      "Name: l, dtype: bool\n"
     ]
    }
   ],
   "source": [
    "print(df['l'].apply(lambda x: 'X' in x))"
   ]
  },
  {
   "cell_type": "code",
   "execution_count": 17,
   "metadata": {},
   "outputs": [
    {
     "name": "stdout",
     "output_type": "stream",
     "text": [
      "       s          l\n",
      "a  X,Y,Z  [X, Y, A]\n",
      "b      X     [X, A]\n"
     ]
    }
   ],
   "source": [
    "print(df[df['l'].apply(lambda x: 'X' in x)])"
   ]
  },
  {
   "cell_type": "code",
   "execution_count": 18,
   "metadata": {},
   "outputs": [
    {
     "name": "stdout",
     "output_type": "stream",
     "text": [
      "a     True\n",
      "b    False\n",
      "c    False\n",
      "d     True\n",
      "Name: s, dtype: bool\n"
     ]
    }
   ],
   "source": [
    "print(df['s'].str.contains('Z'))"
   ]
  },
  {
   "cell_type": "code",
   "execution_count": 19,
   "metadata": {},
   "outputs": [
    {
     "name": "stdout",
     "output_type": "stream",
     "text": [
      "        s           l\n",
      "a   X,Y,Z   [X, Y, A]\n",
      "d  Y,Z,XY  [Y, XY, A]\n"
     ]
    }
   ],
   "source": [
    "print(df[df['s'].str.contains('Z')])"
   ]
  }
 ],
 "metadata": {
  "kernelspec": {
   "display_name": "Python 3",
   "language": "python",
   "name": "python3"
  },
  "language_info": {
   "codemirror_mode": {
    "name": "ipython",
    "version": 3
   },
   "file_extension": ".py",
   "mimetype": "text/x-python",
   "name": "python",
   "nbconvert_exporter": "python",
   "pygments_lexer": "ipython3",
   "version": "3.7.0"
  }
 },
 "nbformat": 4,
 "nbformat_minor": 2
}
