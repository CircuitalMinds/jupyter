{
 "cells": [
  {
   "cell_type": "code",
   "execution_count": 1,
   "metadata": {},
   "outputs": [],
   "source": [
    "import pandas as pd"
   ]
  },
  {
   "cell_type": "code",
   "execution_count": 2,
   "metadata": {},
   "outputs": [],
   "source": [
    "df = pd.DataFrame({'value': range(1, 16, 2)},\n",
    "                  index=pd.date_range('2018-01-01', '2018-01-15', freq='2D'))"
   ]
  },
  {
   "cell_type": "code",
   "execution_count": 3,
   "metadata": {},
   "outputs": [
    {
     "name": "stdout",
     "output_type": "stream",
     "text": [
      "            value\n",
      "2018-01-01      1\n",
      "2018-01-03      3\n",
      "2018-01-05      5\n",
      "2018-01-07      7\n",
      "2018-01-09      9\n",
      "2018-01-11     11\n",
      "2018-01-13     13\n",
      "2018-01-15     15\n"
     ]
    }
   ],
   "source": [
    "print(df)"
   ]
  },
  {
   "cell_type": "code",
   "execution_count": 4,
   "metadata": {},
   "outputs": [
    {
     "name": "stdout",
     "output_type": "stream",
     "text": [
      "            value\n",
      "2018-01-01    NaN\n",
      "2018-01-03    1.0\n",
      "2018-01-05    3.0\n",
      "2018-01-07    5.0\n",
      "2018-01-09    7.0\n",
      "2018-01-11    9.0\n",
      "2018-01-13   11.0\n",
      "2018-01-15   13.0\n"
     ]
    }
   ],
   "source": [
    "print(df.shift())"
   ]
  },
  {
   "cell_type": "code",
   "execution_count": 5,
   "metadata": {},
   "outputs": [
    {
     "name": "stdout",
     "output_type": "stream",
     "text": [
      "            value\n",
      "2018-01-01    NaN\n",
      "2018-01-03    NaN\n",
      "2018-01-05    1.0\n",
      "2018-01-07    3.0\n",
      "2018-01-09    5.0\n",
      "2018-01-11    7.0\n",
      "2018-01-13    9.0\n",
      "2018-01-15   11.0\n"
     ]
    }
   ],
   "source": [
    "print(df.shift(2))"
   ]
  },
  {
   "cell_type": "code",
   "execution_count": 6,
   "metadata": {},
   "outputs": [
    {
     "name": "stdout",
     "output_type": "stream",
     "text": [
      "            value\n",
      "2018-01-02      1\n",
      "2018-01-04      3\n",
      "2018-01-06      5\n",
      "2018-01-08      7\n",
      "2018-01-10      9\n",
      "2018-01-12     11\n",
      "2018-01-14     13\n",
      "2018-01-16     15\n"
     ]
    }
   ],
   "source": [
    "print(df.shift(freq='D'))"
   ]
  },
  {
   "cell_type": "code",
   "execution_count": 7,
   "metadata": {},
   "outputs": [
    {
     "name": "stdout",
     "output_type": "stream",
     "text": [
      "            value\n",
      "2018-01-04      1\n",
      "2018-01-06      3\n",
      "2018-01-08      5\n",
      "2018-01-10      7\n",
      "2018-01-12      9\n",
      "2018-01-14     11\n",
      "2018-01-16     13\n",
      "2018-01-18     15\n"
     ]
    }
   ],
   "source": [
    "print(df.shift(freq='3D'))"
   ]
  },
  {
   "cell_type": "code",
   "execution_count": 8,
   "metadata": {},
   "outputs": [
    {
     "name": "stdout",
     "output_type": "stream",
     "text": [
      "            value\n",
      "2018-01-04      1\n",
      "2018-01-06      3\n",
      "2018-01-08      5\n",
      "2018-01-10      7\n",
      "2018-01-12      9\n",
      "2018-01-14     11\n",
      "2018-01-16     13\n",
      "2018-01-18     15\n"
     ]
    }
   ],
   "source": [
    "print(df.shift(3, freq='D'))"
   ]
  },
  {
   "cell_type": "code",
   "execution_count": 9,
   "metadata": {},
   "outputs": [
    {
     "name": "stdout",
     "output_type": "stream",
     "text": [
      "            value\n",
      "2018-01-07      1\n",
      "2018-01-07      3\n",
      "2018-01-07      5\n",
      "2018-01-14      7\n",
      "2018-01-14      9\n",
      "2018-01-14     11\n",
      "2018-01-14     13\n",
      "2018-01-21     15\n"
     ]
    }
   ],
   "source": [
    "print(df.shift(freq='W'))"
   ]
  },
  {
   "cell_type": "code",
   "execution_count": 10,
   "metadata": {},
   "outputs": [
    {
     "name": "stdout",
     "output_type": "stream",
     "text": [
      "            value\n",
      "2018-01-31      1\n",
      "2018-01-31      3\n",
      "2018-01-31      5\n",
      "2018-01-31      7\n",
      "2018-01-31      9\n",
      "2018-01-31     11\n",
      "2018-01-31     13\n",
      "2018-01-31     15\n"
     ]
    }
   ],
   "source": [
    "print(df.shift(freq='M'))"
   ]
  },
  {
   "cell_type": "code",
   "execution_count": 11,
   "metadata": {},
   "outputs": [
    {
     "name": "stdout",
     "output_type": "stream",
     "text": [
      "            value\n",
      "2018-01-08      1\n",
      "2018-01-10      3\n",
      "2018-01-12      5\n",
      "2018-01-14      7\n",
      "2018-01-16      9\n",
      "2018-01-18     11\n",
      "2018-01-20     13\n",
      "2018-01-22     15\n"
     ]
    }
   ],
   "source": [
    "print(df.shift(freq='7D'))"
   ]
  },
  {
   "cell_type": "code",
   "execution_count": 12,
   "metadata": {},
   "outputs": [
    {
     "name": "stdout",
     "output_type": "stream",
     "text": [
      "            value\n",
      "2018-02-01      1\n",
      "2018-02-03      3\n",
      "2018-02-05      5\n",
      "2018-02-07      7\n",
      "2018-02-09      9\n",
      "2018-02-11     11\n",
      "2018-02-13     13\n",
      "2018-02-15     15\n"
     ]
    }
   ],
   "source": [
    "print(df.shift(freq='31D'))"
   ]
  },
  {
   "cell_type": "code",
   "execution_count": 13,
   "metadata": {},
   "outputs": [],
   "source": [
    "df_m = pd.DataFrame({'value': range(1, 13)},\n",
    "                    index=pd.date_range('2018-01-01', '2018-12-31', freq='M'))"
   ]
  },
  {
   "cell_type": "code",
   "execution_count": 14,
   "metadata": {},
   "outputs": [
    {
     "name": "stdout",
     "output_type": "stream",
     "text": [
      "            value\n",
      "2018-01-31      1\n",
      "2018-02-28      2\n",
      "2018-03-31      3\n",
      "2018-04-30      4\n",
      "2018-05-31      5\n",
      "2018-06-30      6\n",
      "2018-07-31      7\n",
      "2018-08-31      8\n",
      "2018-09-30      9\n",
      "2018-10-31     10\n",
      "2018-11-30     11\n",
      "2018-12-31     12\n"
     ]
    }
   ],
   "source": [
    "print(df_m)"
   ]
  },
  {
   "cell_type": "code",
   "execution_count": 15,
   "metadata": {},
   "outputs": [
    {
     "name": "stdout",
     "output_type": "stream",
     "text": [
      "            value\n",
      "2018-02-28      1\n",
      "2018-03-31      2\n",
      "2018-04-30      3\n",
      "2018-05-31      4\n",
      "2018-06-30      5\n",
      "2018-07-31      6\n",
      "2018-08-31      7\n",
      "2018-09-30      8\n",
      "2018-10-31      9\n",
      "2018-11-30     10\n",
      "2018-12-31     11\n",
      "2019-01-31     12\n"
     ]
    }
   ],
   "source": [
    "print(df_m.shift(freq='M'))"
   ]
  }
 ],
 "metadata": {
  "kernelspec": {
   "display_name": "Python 3",
   "language": "python",
   "name": "python3"
  },
  "language_info": {
   "codemirror_mode": {
    "name": "ipython",
    "version": 3
   },
   "file_extension": ".py",
   "mimetype": "text/x-python",
   "name": "python",
   "nbconvert_exporter": "python",
   "pygments_lexer": "ipython3",
   "version": "3.7.0"
  }
 },
 "nbformat": 4,
 "nbformat_minor": 2
}
