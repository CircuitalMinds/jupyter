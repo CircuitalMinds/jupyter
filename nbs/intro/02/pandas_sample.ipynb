{
 "cells": [
  {
   "cell_type": "code",
   "execution_count": 1,
   "metadata": {},
   "outputs": [],
   "source": [
    "import pandas as pd\n",
    "import seaborn as sns"
   ]
  },
  {
   "cell_type": "code",
   "execution_count": 2,
   "metadata": {},
   "outputs": [
    {
     "name": "stdout",
     "output_type": "stream",
     "text": [
      "(150, 5)\n"
     ]
    }
   ],
   "source": [
    "df = sns.load_dataset(\"iris\")\n",
    "print(df.shape)"
   ]
  },
  {
   "cell_type": "code",
   "execution_count": 3,
   "metadata": {},
   "outputs": [
    {
     "name": "stdout",
     "output_type": "stream",
     "text": [
      "     sepal_length  sepal_width  petal_length  petal_width    species\n",
      "133           6.3          2.8           5.1          1.5  virginica\n"
     ]
    }
   ],
   "source": [
    "print(df.sample())"
   ]
  },
  {
   "cell_type": "code",
   "execution_count": 4,
   "metadata": {},
   "outputs": [
    {
     "name": "stdout",
     "output_type": "stream",
     "text": [
      "     petal_width\n",
      "0            0.2\n",
      "1            0.2\n",
      "2            0.2\n",
      "3            0.2\n",
      "4            0.2\n",
      "..           ...\n",
      "145          2.3\n",
      "146          1.9\n",
      "147          2.0\n",
      "148          2.3\n",
      "149          1.8\n",
      "\n",
      "[150 rows x 1 columns]\n"
     ]
    }
   ],
   "source": [
    "print(df.sample(axis=1))"
   ]
  },
  {
   "cell_type": "code",
   "execution_count": 5,
   "metadata": {},
   "outputs": [
    {
     "name": "stdout",
     "output_type": "stream",
     "text": [
      "    sepal_length  sepal_width  petal_length  petal_width     species\n",
      "29           4.7          3.2           1.6          0.2      setosa\n",
      "67           5.8          2.7           4.1          1.0  versicolor\n",
      "18           5.7          3.8           1.7          0.3      setosa\n"
     ]
    }
   ],
   "source": [
    "print(df.sample(n=3))"
   ]
  },
  {
   "cell_type": "code",
   "execution_count": 6,
   "metadata": {},
   "outputs": [
    {
     "name": "stdout",
     "output_type": "stream",
     "text": [
      "     sepal_length  sepal_width  petal_length  petal_width     species\n",
      "15            5.7          4.4           1.5          0.4      setosa\n",
      "66            5.6          3.0           4.5          1.5  versicolor\n",
      "131           7.9          3.8           6.4          2.0   virginica\n",
      "64            5.6          2.9           3.6          1.3  versicolor\n",
      "81            5.5          2.4           3.7          1.0  versicolor\n",
      "137           6.4          3.1           5.5          1.8   virginica\n"
     ]
    }
   ],
   "source": [
    "print(df.sample(frac=0.04))"
   ]
  },
  {
   "cell_type": "code",
   "execution_count": 7,
   "metadata": {},
   "outputs": [],
   "source": [
    "# print(df.sample(n=3, frac=0.04))\n",
    "# ValueError: Please enter a value for `frac` OR `n`, not both"
   ]
  },
  {
   "cell_type": "code",
   "execution_count": 8,
   "metadata": {
    "scrolled": true
   },
   "outputs": [
    {
     "name": "stdout",
     "output_type": "stream",
     "text": [
      "     sepal_length  sepal_width  petal_length  petal_width     species\n",
      "114           5.8          2.8           5.1          2.4   virginica\n",
      "62            6.0          2.2           4.0          1.0  versicolor\n",
      "33            5.5          4.2           1.4          0.2      setosa\n"
     ]
    }
   ],
   "source": [
    "print(df.sample(n=3, random_state=0))"
   ]
  },
  {
   "cell_type": "code",
   "execution_count": 9,
   "metadata": {},
   "outputs": [
    {
     "name": "stdout",
     "output_type": "stream",
     "text": [
      "     sepal_length  sepal_width  petal_length  petal_width     species\n",
      "114           5.8          2.8           5.1          2.4   virginica\n",
      "62            6.0          2.2           4.0          1.0  versicolor\n",
      "33            5.5          4.2           1.4          0.2      setosa\n"
     ]
    }
   ],
   "source": [
    "print(df.sample(n=3, random_state=0))"
   ]
  },
  {
   "cell_type": "code",
   "execution_count": 10,
   "metadata": {},
   "outputs": [
    {
     "name": "stdout",
     "output_type": "stream",
     "text": [
      "   sepal_length  sepal_width  petal_length  petal_width species\n",
      "0           5.1          3.5           1.4          0.2  setosa\n",
      "1           4.9          3.0           1.4          0.2  setosa\n",
      "2           4.7          3.2           1.3          0.2  setosa\n"
     ]
    }
   ],
   "source": [
    "print(df.head(3))"
   ]
  },
  {
   "cell_type": "code",
   "execution_count": 11,
   "metadata": {
    "scrolled": true
   },
   "outputs": [
    {
     "name": "stdout",
     "output_type": "stream",
     "text": [
      "   sepal_length  sepal_width  petal_length  petal_width species\n",
      "0           5.1          3.5           1.4          0.2  setosa\n",
      "0           5.1          3.5           1.4          0.2  setosa\n",
      "2           4.7          3.2           1.3          0.2  setosa\n"
     ]
    }
   ],
   "source": [
    "print(df.head(3).sample(n=3, replace=True))"
   ]
  },
  {
   "cell_type": "code",
   "execution_count": 12,
   "metadata": {
    "scrolled": true
   },
   "outputs": [
    {
     "name": "stdout",
     "output_type": "stream",
     "text": [
      "   sepal_length  sepal_width  petal_length  petal_width species\n",
      "1           4.9          3.0           1.4          0.2  setosa\n",
      "2           4.7          3.2           1.3          0.2  setosa\n",
      "0           5.1          3.5           1.4          0.2  setosa\n",
      "0           5.1          3.5           1.4          0.2  setosa\n",
      "1           4.9          3.0           1.4          0.2  setosa\n"
     ]
    }
   ],
   "source": [
    "print(df.head(3).sample(n=5, replace=True))"
   ]
  },
  {
   "cell_type": "code",
   "execution_count": 13,
   "metadata": {},
   "outputs": [
    {
     "name": "stdout",
     "output_type": "stream",
     "text": [
      "   sepal_length  sepal_width  petal_length  petal_width species\n",
      "2           4.7          3.2           1.3          0.2  setosa\n",
      "1           4.9          3.0           1.4          0.2  setosa\n",
      "2           4.7          3.2           1.3          0.2  setosa\n",
      "2           4.7          3.2           1.3          0.2  setosa\n",
      "0           5.1          3.5           1.4          0.2  setosa\n",
      "2           4.7          3.2           1.3          0.2  setosa\n"
     ]
    }
   ],
   "source": [
    "print(df.head(3).sample(frac=2, replace=True))"
   ]
  },
  {
   "cell_type": "code",
   "execution_count": 14,
   "metadata": {},
   "outputs": [
    {
     "name": "stdout",
     "output_type": "stream",
     "text": [
      "   sepal_length  sepal_width  petal_length  petal_width     species\n",
      "0           5.2          2.7           3.9          1.4  versicolor\n",
      "1           6.3          2.5           4.9          1.5  versicolor\n",
      "2           5.7          3.0           4.2          1.2  versicolor\n"
     ]
    }
   ],
   "source": [
    "print(df.sample(n=3, ignore_index=True))"
   ]
  },
  {
   "cell_type": "code",
   "execution_count": 15,
   "metadata": {},
   "outputs": [
    {
     "name": "stdout",
     "output_type": "stream",
     "text": [
      "   sepal_length  sepal_width  petal_length  petal_width    species\n",
      "0           4.9          3.1           1.5          0.2     setosa\n",
      "1           7.9          3.8           6.4          2.0  virginica\n",
      "2           6.3          2.8           5.1          1.5  virginica\n"
     ]
    }
   ],
   "source": [
    "print(df.sample(n=3).reset_index(drop=True))"
   ]
  }
 ],
 "metadata": {
  "kernelspec": {
   "display_name": "Python 3",
   "language": "python",
   "name": "python3"
  },
  "language_info": {
   "codemirror_mode": {
    "name": "ipython",
    "version": 3
   },
   "file_extension": ".py",
   "mimetype": "text/x-python",
   "name": "python",
   "nbconvert_exporter": "python",
   "pygments_lexer": "ipython3",
   "version": "3.9.12"
  }
 },
 "nbformat": 4,
 "nbformat_minor": 2
}
