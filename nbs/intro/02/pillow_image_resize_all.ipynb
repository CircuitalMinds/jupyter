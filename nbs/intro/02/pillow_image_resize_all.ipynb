{
 "cells": [
  {
   "cell_type": "code",
   "execution_count": 1,
   "metadata": {},
   "outputs": [],
   "source": [
    "import os\n",
    "import glob\n",
    "from PIL import Image"
   ]
  },
  {
   "cell_type": "code",
   "execution_count": 2,
   "metadata": {},
   "outputs": [],
   "source": [
    "dst_dir = 'data/temp/images_half'\n",
    "os.makedirs(dst_dir, exist_ok=True)"
   ]
  },
  {
   "cell_type": "code",
   "execution_count": 3,
   "metadata": {},
   "outputs": [],
   "source": [
    "files = glob.glob('./data/temp/images/*.jpg')"
   ]
  },
  {
   "cell_type": "code",
   "execution_count": 4,
   "metadata": {},
   "outputs": [],
   "source": [
    "for f in files:\n",
    "    img = Image.open(f)\n",
    "    img_resize = img.resize((img.width // 2, img.height // 2))\n",
    "    root, ext = os.path.splitext(f)\n",
    "    basename = os.path.basename(root)\n",
    "    img_resize.save(os.path.join(dst_dir, basename + '_half' + ext))"
   ]
  },
  {
   "cell_type": "code",
   "execution_count": 5,
   "metadata": {},
   "outputs": [],
   "source": [
    "files = glob.glob('./data/temp/images/*')"
   ]
  },
  {
   "cell_type": "code",
   "execution_count": 6,
   "metadata": {},
   "outputs": [],
   "source": [
    "for f in files:\n",
    "    root, ext = os.path.splitext(f)\n",
    "    if ext in ['.jpg', '.png']:\n",
    "        img = Image.open(f)\n",
    "        img_resize = img.resize((img.width // 2, img.height // 2))\n",
    "        basename = os.path.basename(root)\n",
    "        img_resize.save(os.path.join(dst_dir, basename + '_half' + ext))"
   ]
  },
  {
   "cell_type": "code",
   "execution_count": 7,
   "metadata": {},
   "outputs": [],
   "source": [
    "files = glob.glob('./data/temp/images/*')"
   ]
  },
  {
   "cell_type": "code",
   "execution_count": 8,
   "metadata": {},
   "outputs": [],
   "source": [
    "for f in files:\n",
    "    try:\n",
    "        img = Image.open(f)\n",
    "        img_resize = img.resize((img.width // 2, img.height // 2))\n",
    "        root, ext = os.path.splitext(f)\n",
    "        basename = os.path.basename(root)\n",
    "        img_resize.save(os.path.join(dst_dir, basename + '_half' + ext))\n",
    "    except OSError as e:\n",
    "        pass"
   ]
  }
 ],
 "metadata": {
  "kernelspec": {
   "display_name": "Python 3",
   "language": "python",
   "name": "python3"
  },
  "language_info": {
   "codemirror_mode": {
    "name": "ipython",
    "version": 3
   },
   "file_extension": ".py",
   "mimetype": "text/x-python",
   "name": "python",
   "nbconvert_exporter": "python",
   "pygments_lexer": "ipython3",
   "version": "3.9.1"
  }
 },
 "nbformat": 4,
 "nbformat_minor": 2
}
