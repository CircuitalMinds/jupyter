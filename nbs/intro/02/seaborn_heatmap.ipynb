{
 "cells": [
  {
   "cell_type": "code",
   "execution_count": 1,
   "metadata": {
    "collapsed": true
   },
   "outputs": [],
   "source": [
    "# %matplotlib inline"
   ]
  },
  {
   "cell_type": "code",
   "execution_count": 2,
   "metadata": {
    "collapsed": true
   },
   "outputs": [],
   "source": [
    "import seaborn as sns\n",
    "import pandas as pd\n",
    "import numpy as np\n",
    "import matplotlib as mpl\n",
    "import matplotlib.pyplot as plt"
   ]
  },
  {
   "cell_type": "code",
   "execution_count": 3,
   "metadata": {
    "collapsed": true
   },
   "outputs": [],
   "source": [
    "list_2d = [[0, 1, 2], [3, 4, 5]]"
   ]
  },
  {
   "cell_type": "code",
   "execution_count": 4,
   "metadata": {
    "collapsed": true
   },
   "outputs": [],
   "source": [
    "plt.figure()\n",
    "sns.heatmap(list_2d)\n",
    "plt.savefig('data/dst/seaborn_heatmap_list.png')\n",
    "plt.close('all')"
   ]
  },
  {
   "cell_type": "code",
   "execution_count": 5,
   "metadata": {},
   "outputs": [
    {
     "name": "stdout",
     "output_type": "stream",
     "text": [
      "[[-8 -7 -6 -5]\n",
      " [-4 -3 -2 -1]\n",
      " [ 0  1  2  3]\n",
      " [ 4  5  6  7]]\n"
     ]
    }
   ],
   "source": [
    "arr_2d = np.arange(-8, 8).reshape((4, 4))\n",
    "print(arr_2d)"
   ]
  },
  {
   "cell_type": "code",
   "execution_count": 6,
   "metadata": {
    "collapsed": true
   },
   "outputs": [],
   "source": [
    "plt.figure()\n",
    "sns.heatmap(arr_2d)\n",
    "plt.savefig('data/dst/seaborn_heatmap_ndarray.png')"
   ]
  },
  {
   "cell_type": "code",
   "execution_count": 7,
   "metadata": {},
   "outputs": [
    {
     "name": "stdout",
     "output_type": "stream",
     "text": [
      "   A  B  C  D\n",
      "a -8 -7 -6 -5\n",
      "b -4 -3 -2 -1\n",
      "c  0  1  2  3\n",
      "d  4  5  6  7\n"
     ]
    }
   ],
   "source": [
    "df = pd.DataFrame(data=arr_2d, index=['a', 'b', 'c', 'd'], columns=['A', 'B', 'C', 'D'])\n",
    "print(df)"
   ]
  },
  {
   "cell_type": "code",
   "execution_count": 8,
   "metadata": {
    "collapsed": true
   },
   "outputs": [],
   "source": [
    "plt.figure()\n",
    "sns.heatmap(df)\n",
    "plt.savefig('data/dst/seaborn_heatmap_dataframe.png')"
   ]
  },
  {
   "cell_type": "code",
   "execution_count": 9,
   "metadata": {
    "scrolled": true
   },
   "outputs": [
    {
     "name": "stdout",
     "output_type": "stream",
     "text": [
      "<class 'matplotlib.axes._subplots.AxesSubplot'>\n"
     ]
    }
   ],
   "source": [
    "print(type(sns.heatmap(list_2d)))"
   ]
  },
  {
   "cell_type": "code",
   "execution_count": 10,
   "metadata": {
    "collapsed": true
   },
   "outputs": [],
   "source": [
    "fig = plt.figure()\n",
    "ax = fig.add_subplot(1, 1, 1)\n",
    "sns.heatmap(list_2d, ax=ax)\n",
    "fig.savefig('data/dst/seaborn_heatmap_list.png')"
   ]
  },
  {
   "cell_type": "code",
   "execution_count": 11,
   "metadata": {
    "collapsed": true
   },
   "outputs": [],
   "source": [
    "fig, axes = plt.subplots(nrows=2, ncols=3, figsize=(8, 6))\n",
    "sns.heatmap(list_2d, ax=axes[0, 0])\n",
    "sns.heatmap(arr_2d, ax=axes[1, 2])\n",
    "fig.savefig('data/dst/seaborn_heatmap_list_sub.png')"
   ]
  },
  {
   "cell_type": "code",
   "execution_count": 12,
   "metadata": {
    "collapsed": true
   },
   "outputs": [],
   "source": [
    "plt.figure()\n",
    "sns.heatmap(df, annot=True)\n",
    "plt.savefig('data/dst/seaborn_heatmap_annot.png')"
   ]
  },
  {
   "cell_type": "code",
   "execution_count": 13,
   "metadata": {
    "collapsed": true
   },
   "outputs": [],
   "source": [
    "plt.figure()\n",
    "sns.heatmap(df, cbar=False)\n",
    "plt.savefig('data/dst/seaborn_heatmap_no_cbar.png')"
   ]
  },
  {
   "cell_type": "code",
   "execution_count": 14,
   "metadata": {
    "collapsed": true
   },
   "outputs": [],
   "source": [
    "plt.figure()\n",
    "sns.heatmap(df, square=True)\n",
    "plt.savefig('data/dst/seaborn_heatmap_square.png')"
   ]
  },
  {
   "cell_type": "code",
   "execution_count": 15,
   "metadata": {
    "collapsed": true
   },
   "outputs": [],
   "source": [
    "plt.figure()\n",
    "sns.heatmap(df, vmax=10, vmin=-10, center=0)\n",
    "plt.savefig('data/dst/seaborn_heatmap_vmax_vmin_center.png')"
   ]
  },
  {
   "cell_type": "code",
   "execution_count": 16,
   "metadata": {
    "collapsed": true
   },
   "outputs": [],
   "source": [
    "plt.figure()\n",
    "sns.heatmap(df, cmap='hot')\n",
    "plt.savefig('data/dst/seaborn_heatmap_hot.png')"
   ]
  },
  {
   "cell_type": "code",
   "execution_count": 17,
   "metadata": {
    "collapsed": true
   },
   "outputs": [],
   "source": [
    "plt.figure()\n",
    "sns.heatmap(df, cmap='Blues')\n",
    "plt.savefig('data/dst/seaborn_heatmap_blues.png')"
   ]
  },
  {
   "cell_type": "code",
   "execution_count": 18,
   "metadata": {
    "collapsed": true
   },
   "outputs": [],
   "source": [
    "plt.figure()\n",
    "sns.heatmap(df, cmap='Blues_r')\n",
    "plt.savefig('data/dst/seaborn_heatmap_blues_r.png')"
   ]
  },
  {
   "cell_type": "code",
   "execution_count": 19,
   "metadata": {},
   "outputs": [
    {
     "name": "stdout",
     "output_type": "stream",
     "text": [
      "[6.0, 4.0]\n"
     ]
    }
   ],
   "source": [
    "current_figsize = mpl.rcParams['figure.figsize']\n",
    "print(current_figsize)"
   ]
  },
  {
   "cell_type": "code",
   "execution_count": 20,
   "metadata": {
    "collapsed": true
   },
   "outputs": [],
   "source": [
    "plt.figure(figsize=(9, 6)) \n",
    "sns.heatmap(df, square=True)\n",
    "plt.savefig('data/dst/seaborn_heatmap_big.png')"
   ]
  },
  {
   "cell_type": "code",
   "execution_count": 21,
   "metadata": {},
   "outputs": [
    {
     "name": "stdout",
     "output_type": "stream",
     "text": [
      "72.0\n"
     ]
    }
   ],
   "source": [
    "current_dpi = mpl.rcParams['figure.dpi']\n",
    "print(current_dpi)"
   ]
  },
  {
   "cell_type": "code",
   "execution_count": 22,
   "metadata": {
    "collapsed": true
   },
   "outputs": [],
   "source": [
    "plt.figure()\n",
    "sns.heatmap(df, square=True)\n",
    "plt.savefig('data/dst/seaborn_heatmap_big_2.png', dpi=current_dpi * 1.5)"
   ]
  },
  {
   "cell_type": "code",
   "execution_count": 23,
   "metadata": {
    "collapsed": true
   },
   "outputs": [],
   "source": [
    "df_house = pd.read_csv('data/src/house_prices_train.csv', index_col=0)"
   ]
  },
  {
   "cell_type": "code",
   "execution_count": 24,
   "metadata": {},
   "outputs": [
    {
     "name": "stdout",
     "output_type": "stream",
     "text": [
      "(37, 37)\n"
     ]
    }
   ],
   "source": [
    "df_house_corr = df_house.corr()\n",
    "print(df_house_corr.shape)"
   ]
  },
  {
   "cell_type": "code",
   "execution_count": 25,
   "metadata": {},
   "outputs": [
    {
     "name": "stdout",
     "output_type": "stream",
     "text": [
      "             MSSubClass  LotFrontage   LotArea  OverallQual  OverallCond  \\\n",
      "MSSubClass     1.000000    -0.386347 -0.139781     0.032628    -0.059316   \n",
      "LotFrontage   -0.386347     1.000000  0.426095     0.251646    -0.059213   \n",
      "LotArea       -0.139781     0.426095  1.000000     0.105806    -0.005636   \n",
      "OverallQual    0.032628     0.251646  0.105806     1.000000    -0.091932   \n",
      "OverallCond   -0.059316    -0.059213 -0.005636    -0.091932     1.000000   \n",
      "\n",
      "             YearBuilt  YearRemodAdd  MasVnrArea  BsmtFinSF1  BsmtFinSF2  \\\n",
      "MSSubClass    0.027850      0.040581    0.022936   -0.069836   -0.065649   \n",
      "LotFrontage   0.123349      0.088866    0.193458    0.233633    0.049900   \n",
      "LotArea       0.014228      0.013788    0.104160    0.214103    0.111170   \n",
      "OverallQual   0.572323      0.550684    0.411876    0.239666   -0.059119   \n",
      "OverallCond  -0.375983      0.073741   -0.128101   -0.046231    0.040229   \n",
      "\n",
      "               ...      WoodDeckSF  OpenPorchSF  EnclosedPorch  3SsnPorch  \\\n",
      "MSSubClass     ...       -0.012579    -0.006100      -0.012037  -0.043825   \n",
      "LotFrontage    ...        0.088521     0.151972       0.010700   0.070029   \n",
      "LotArea        ...        0.171698     0.084774      -0.018340   0.020423   \n",
      "OverallQual    ...        0.238923     0.308819      -0.113937   0.030371   \n",
      "OverallCond    ...       -0.003334    -0.032589       0.070356   0.025504   \n",
      "\n",
      "             ScreenPorch  PoolArea   MiscVal    MoSold    YrSold  SalePrice  \n",
      "MSSubClass     -0.026030  0.008283 -0.007683 -0.013585 -0.021407  -0.084284  \n",
      "LotFrontage     0.041383  0.206167  0.003368  0.011200  0.007450   0.351799  \n",
      "LotArea         0.043160  0.077672  0.038068  0.001205 -0.014261   0.263843  \n",
      "OverallQual     0.064886  0.065166 -0.031406  0.070815 -0.027347   0.790982  \n",
      "OverallCond     0.054811 -0.001985  0.068777 -0.003511  0.043950  -0.077856  \n",
      "\n",
      "[5 rows x 37 columns]\n"
     ]
    }
   ],
   "source": [
    "print(df_house_corr.head())"
   ]
  },
  {
   "cell_type": "code",
   "execution_count": 26,
   "metadata": {
    "collapsed": true
   },
   "outputs": [],
   "source": [
    "plt.figure(figsize=(12, 9)) \n",
    "sns.heatmap(df_house_corr, square=True, vmax=1, vmin=-1, center=0)\n",
    "plt.savefig('data/dst/seaborn_heatmap_house_price.png')"
   ]
  }
 ],
 "metadata": {
  "kernelspec": {
   "display_name": "Python 3",
   "language": "python",
   "name": "python3"
  },
  "language_info": {
   "codemirror_mode": {
    "name": "ipython",
    "version": 3
   },
   "file_extension": ".py",
   "mimetype": "text/x-python",
   "name": "python",
   "nbconvert_exporter": "python",
   "pygments_lexer": "ipython3",
   "version": "3.6.5"
  }
 },
 "nbformat": 4,
 "nbformat_minor": 2
}
