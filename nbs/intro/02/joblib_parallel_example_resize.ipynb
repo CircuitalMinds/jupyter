{
 "cells": [
  {
   "cell_type": "code",
   "execution_count": 1,
   "metadata": {},
   "outputs": [],
   "source": [
    "import os\n",
    "import glob\n",
    "from PIL import Image\n",
    "import joblib"
   ]
  },
  {
   "cell_type": "code",
   "execution_count": 2,
   "metadata": {},
   "outputs": [],
   "source": [
    "dst_dir = 'data/temp/joblib/dst_img'\n",
    "os.makedirs(dst_dir, exist_ok=True)"
   ]
  },
  {
   "cell_type": "code",
   "execution_count": 3,
   "metadata": {},
   "outputs": [],
   "source": [
    "files = glob.glob('data/temp/joblib/src_img/*')"
   ]
  },
  {
   "cell_type": "code",
   "execution_count": 4,
   "metadata": {},
   "outputs": [],
   "source": [
    "for f in files:\n",
    "    try:\n",
    "        img = Image.open(f)\n",
    "        img_resize = img.resize((img.width // 2, img.height // 2))\n",
    "        root, ext = os.path.splitext(f)\n",
    "        basename = os.path.basename(root)\n",
    "        img_resize.save(os.path.join(dst_dir, basename + '_half' + ext))\n",
    "    except OSError as e:\n",
    "        pass"
   ]
  },
  {
   "cell_type": "code",
   "execution_count": 5,
   "metadata": {},
   "outputs": [],
   "source": [
    "def func(f):\n",
    "    try:\n",
    "        img = Image.open(f)\n",
    "        img_resize = img.resize((img.width // 2, img.height // 2))\n",
    "        root, ext = os.path.splitext(f)\n",
    "        basename = os.path.basename(root)\n",
    "        img_resize.save(os.path.join(dst_dir, basename + '_half' + ext))\n",
    "    except OSError as e:\n",
    "        pass"
   ]
  },
  {
   "cell_type": "code",
   "execution_count": 6,
   "metadata": {},
   "outputs": [],
   "source": [
    "_ = joblib.Parallel(n_jobs=-1)(joblib.delayed(func)(f) for f in files)"
   ]
  }
 ],
 "metadata": {
  "kernelspec": {
   "display_name": "Python 3",
   "language": "python",
   "name": "python3"
  },
  "language_info": {
   "codemirror_mode": {
    "name": "ipython",
    "version": 3
   },
   "file_extension": ".py",
   "mimetype": "text/x-python",
   "name": "python",
   "nbconvert_exporter": "python",
   "pygments_lexer": "ipython3",
   "version": "3.9.1"
  }
 },
 "nbformat": 4,
 "nbformat_minor": 4
}
