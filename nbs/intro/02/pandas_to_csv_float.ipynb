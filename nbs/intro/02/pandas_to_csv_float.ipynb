{
 "cells": [
  {
   "cell_type": "code",
   "execution_count": 1,
   "metadata": {},
   "outputs": [],
   "source": [
    "import pandas as pd"
   ]
  },
  {
   "cell_type": "code",
   "execution_count": 2,
   "metadata": {},
   "outputs": [
    {
     "name": "stdout",
     "output_type": "stream",
     "text": [
      "           col1         col2       col3\n",
      "0  1.234568e-01  123456789.0  123456789\n",
      "1  1.000000e+09          0.0          0\n"
     ]
    }
   ],
   "source": [
    "df = pd.DataFrame({'col1': [0.123456789, 1000000000.0],\n",
    "                   'col2': [123456789.0, 0.0],\n",
    "                   'col3': [123456789, 0]})\n",
    "print(df)"
   ]
  },
  {
   "cell_type": "code",
   "execution_count": 3,
   "metadata": {},
   "outputs": [
    {
     "name": "stdout",
     "output_type": "stream",
     "text": [
      "col1    float64\n",
      "col2    float64\n",
      "col3      int64\n",
      "dtype: object\n"
     ]
    }
   ],
   "source": [
    "print(df.dtypes)"
   ]
  },
  {
   "cell_type": "code",
   "execution_count": 4,
   "metadata": {},
   "outputs": [
    {
     "name": "stdout",
     "output_type": "stream",
     "text": [
      "0.123456789\n"
     ]
    }
   ],
   "source": [
    "print(df.iat[0, 0])"
   ]
  },
  {
   "cell_type": "code",
   "execution_count": 5,
   "metadata": {},
   "outputs": [
    {
     "name": "stdout",
     "output_type": "stream",
     "text": [
      "1000000000.0\n"
     ]
    }
   ],
   "source": [
    "print(df.iat[1, 0])"
   ]
  },
  {
   "cell_type": "code",
   "execution_count": 6,
   "metadata": {},
   "outputs": [],
   "source": [
    "df.to_csv('data/dst/to_csv_out_float_default.csv')"
   ]
  },
  {
   "cell_type": "code",
   "execution_count": 7,
   "metadata": {},
   "outputs": [
    {
     "name": "stdout",
     "output_type": "stream",
     "text": [
      "0.123\n"
     ]
    }
   ],
   "source": [
    "print('%.3f' % 0.123456789)"
   ]
  },
  {
   "cell_type": "code",
   "execution_count": 8,
   "metadata": {},
   "outputs": [
    {
     "name": "stdout",
     "output_type": "stream",
     "text": [
      "123456789.000\n"
     ]
    }
   ],
   "source": [
    "print('%.3f' % 123456789)"
   ]
  },
  {
   "cell_type": "code",
   "execution_count": 9,
   "metadata": {},
   "outputs": [],
   "source": [
    "df.to_csv('data/dst/to_csv_out_float_format_3f.csv', float_format='%.3f')"
   ]
  },
  {
   "cell_type": "code",
   "execution_count": 10,
   "metadata": {},
   "outputs": [
    {
     "name": "stdout",
     "output_type": "stream",
     "text": [
      "1.235e-01\n"
     ]
    }
   ],
   "source": [
    "print('%.3e' % 0.123456789)"
   ]
  },
  {
   "cell_type": "code",
   "execution_count": 11,
   "metadata": {},
   "outputs": [
    {
     "name": "stdout",
     "output_type": "stream",
     "text": [
      "1.235e+08\n"
     ]
    }
   ],
   "source": [
    "print('%.3e' % 123456789)"
   ]
  },
  {
   "cell_type": "code",
   "execution_count": 12,
   "metadata": {},
   "outputs": [],
   "source": [
    "df.to_csv('data/dst/to_csv_out_float_format_3e.csv', float_format='%.3e')"
   ]
  },
  {
   "cell_type": "code",
   "execution_count": 13,
   "metadata": {},
   "outputs": [],
   "source": [
    "df['col1'] = df['col1'].map('{:.3f}'.format)\n",
    "df['col2'] = df['col2'].map('{:.3e}'.format)\n",
    "df['col3'] = df['col3'].map('{:#010x}'.format)"
   ]
  },
  {
   "cell_type": "code",
   "execution_count": 14,
   "metadata": {},
   "outputs": [
    {
     "name": "stdout",
     "output_type": "stream",
     "text": [
      "             col1       col2        col3\n",
      "0           0.123  1.235e+08  0x075bcd15\n",
      "1  1000000000.000  0.000e+00  0x00000000\n"
     ]
    }
   ],
   "source": [
    "print(df)"
   ]
  },
  {
   "cell_type": "code",
   "execution_count": 15,
   "metadata": {},
   "outputs": [
    {
     "name": "stdout",
     "output_type": "stream",
     "text": [
      "col1    object\n",
      "col2    object\n",
      "col3    object\n",
      "dtype: object\n"
     ]
    }
   ],
   "source": [
    "print(df.dtypes)"
   ]
  },
  {
   "cell_type": "code",
   "execution_count": 16,
   "metadata": {},
   "outputs": [],
   "source": [
    "df.to_csv('data/dst/to_csv_out_float_format_str.csv')"
   ]
  },
  {
   "cell_type": "code",
   "execution_count": 17,
   "metadata": {},
   "outputs": [
    {
     "name": "stdout",
     "output_type": "stream",
     "text": [
      "           col1         col2        col3\n",
      "0  1.230000e-01  123500000.0  0x075bcd15\n",
      "1  1.000000e+09          0.0  0x00000000\n"
     ]
    }
   ],
   "source": [
    "df = pd.read_csv('data/dst/to_csv_out_float_format_str.csv', index_col=0)\n",
    "print(df)"
   ]
  },
  {
   "cell_type": "code",
   "execution_count": 18,
   "metadata": {},
   "outputs": [
    {
     "name": "stdout",
     "output_type": "stream",
     "text": [
      "col1    float64\n",
      "col2    float64\n",
      "col3     object\n",
      "dtype: object\n"
     ]
    }
   ],
   "source": [
    "print(df.dtypes)"
   ]
  },
  {
   "cell_type": "code",
   "execution_count": 19,
   "metadata": {},
   "outputs": [
    {
     "name": "stdout",
     "output_type": "stream",
     "text": [
      "           col1         col2       col3\n",
      "0  1.230000e-01  123500000.0  123456789\n",
      "1  1.000000e+09          0.0          0\n"
     ]
    }
   ],
   "source": [
    "df['col3'] = df['col3'].map(lambda x: int(x, 16))\n",
    "print(df)"
   ]
  },
  {
   "cell_type": "code",
   "execution_count": 20,
   "metadata": {},
   "outputs": [
    {
     "name": "stdout",
     "output_type": "stream",
     "text": [
      "col1    float64\n",
      "col2    float64\n",
      "col3      int64\n",
      "dtype: object\n"
     ]
    }
   ],
   "source": [
    "print(df.dtypes)"
   ]
  }
 ],
 "metadata": {
  "kernelspec": {
   "display_name": "Python 3",
   "language": "python",
   "name": "python3"
  },
  "language_info": {
   "codemirror_mode": {
    "name": "ipython",
    "version": 3
   },
   "file_extension": ".py",
   "mimetype": "text/x-python",
   "name": "python",
   "nbconvert_exporter": "python",
   "pygments_lexer": "ipython3",
   "version": "3.7.4"
  }
 },
 "nbformat": 4,
 "nbformat_minor": 2
}
