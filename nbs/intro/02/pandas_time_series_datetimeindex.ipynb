{
 "cells": [
  {
   "cell_type": "code",
   "execution_count": 1,
   "metadata": {},
   "outputs": [],
   "source": [
    "import pandas as pd"
   ]
  },
  {
   "cell_type": "code",
   "execution_count": 2,
   "metadata": {},
   "outputs": [
    {
     "name": "stdout",
     "output_type": "stream",
     "text": [
      "1.2.2\n"
     ]
    }
   ],
   "source": [
    "print(pd.__version__)"
   ]
  },
  {
   "cell_type": "code",
   "execution_count": 3,
   "metadata": {},
   "outputs": [
    {
     "name": "stdout",
     "output_type": "stream",
     "text": [
      "            val_1  val_2\n",
      "date                    \n",
      "2017-11-01     65     76\n",
      "2017-11-07     26     66\n",
      "2017-11-18     47     47\n"
     ]
    }
   ],
   "source": [
    "df = pd.read_csv('data/src/sample_date.csv',\n",
    "                  index_col='date', parse_dates=True).head(3)\n",
    "print(df)"
   ]
  },
  {
   "cell_type": "code",
   "execution_count": 4,
   "metadata": {},
   "outputs": [
    {
     "name": "stdout",
     "output_type": "stream",
     "text": [
      "<class 'pandas.core.indexes.datetimes.DatetimeIndex'>\n"
     ]
    }
   ],
   "source": [
    "print(type(df.index))"
   ]
  },
  {
   "cell_type": "code",
   "execution_count": 5,
   "metadata": {},
   "outputs": [
    {
     "name": "stdout",
     "output_type": "stream",
     "text": [
      "2017-11-01 00:00:00\n"
     ]
    }
   ],
   "source": [
    "print(df.index[0])"
   ]
  },
  {
   "cell_type": "code",
   "execution_count": 6,
   "metadata": {},
   "outputs": [
    {
     "name": "stdout",
     "output_type": "stream",
     "text": [
      "<class 'pandas._libs.tslibs.timestamps.Timestamp'>\n"
     ]
    }
   ],
   "source": [
    "print(type(df.index[0]))"
   ]
  },
  {
   "cell_type": "code",
   "execution_count": 7,
   "metadata": {},
   "outputs": [
    {
     "name": "stdout",
     "output_type": "stream",
     "text": [
      "            val_1  val_2\n",
      "date                    \n",
      "2017-11-01     65     76\n",
      "2017-11-07     26     66\n",
      "2017-11-18     47     47\n"
     ]
    }
   ],
   "source": [
    "df_default = pd.read_csv('data/src/sample_date.csv', index_col='date').head(3)\n",
    "print(df_default)"
   ]
  },
  {
   "cell_type": "code",
   "execution_count": 8,
   "metadata": {},
   "outputs": [
    {
     "name": "stdout",
     "output_type": "stream",
     "text": [
      "<class 'pandas.core.indexes.base.Index'>\n"
     ]
    }
   ],
   "source": [
    "print(type(df_default.index))"
   ]
  },
  {
   "cell_type": "code",
   "execution_count": 9,
   "metadata": {},
   "outputs": [
    {
     "name": "stdout",
     "output_type": "stream",
     "text": [
      "2017-11-01\n"
     ]
    }
   ],
   "source": [
    "print(df_default.index[0])"
   ]
  },
  {
   "cell_type": "code",
   "execution_count": 10,
   "metadata": {},
   "outputs": [
    {
     "name": "stdout",
     "output_type": "stream",
     "text": [
      "<class 'str'>\n"
     ]
    }
   ],
   "source": [
    "print(type(df_default.index[0]))"
   ]
  },
  {
   "cell_type": "code",
   "execution_count": 11,
   "metadata": {},
   "outputs": [
    {
     "name": "stdout",
     "output_type": "stream",
     "text": [
      "             val_1  val_2\n",
      "date                     \n",
      "2017年11月1日      65     76\n",
      "2017年11月7日      26     66\n",
      "2017年11月18日     47     47\n"
     ]
    }
   ],
   "source": [
    "df_jp_ng = pd.read_csv('data/src/sample_date_jp.csv',\n",
    "                       index_col='date', parse_dates=True).head(3)\n",
    "print(df_jp_ng)"
   ]
  },
  {
   "cell_type": "code",
   "execution_count": 12,
   "metadata": {},
   "outputs": [
    {
     "name": "stdout",
     "output_type": "stream",
     "text": [
      "<class 'pandas.core.indexes.base.Index'>\n"
     ]
    }
   ],
   "source": [
    "print(type(df_jp_ng.index))"
   ]
  },
  {
   "cell_type": "code",
   "execution_count": 13,
   "metadata": {},
   "outputs": [
    {
     "name": "stdout",
     "output_type": "stream",
     "text": [
      "            val_1  val_2\n",
      "date                    \n",
      "2017-11-01     65     76\n",
      "2017-11-07     26     66\n",
      "2017-11-18     47     47\n"
     ]
    }
   ],
   "source": [
    "df_jp = pd.read_csv('data/src/sample_date_jp.csv',\n",
    "                    index_col='date', parse_dates=True,\n",
    "                    date_parser=lambda x: pd.to_datetime(x, format='%Y年%m月%d日')).head(3)\n",
    "print(df_jp)"
   ]
  },
  {
   "cell_type": "code",
   "execution_count": 14,
   "metadata": {},
   "outputs": [
    {
     "name": "stdout",
     "output_type": "stream",
     "text": [
      "<class 'pandas.core.indexes.datetimes.DatetimeIndex'>\n"
     ]
    }
   ],
   "source": [
    "print(type(df_jp.index))"
   ]
  },
  {
   "cell_type": "code",
   "execution_count": 15,
   "metadata": {},
   "outputs": [
    {
     "name": "stdout",
     "output_type": "stream",
     "text": [
      "         date  val_1  val_2\n",
      "0  2017-11-01     65     76\n",
      "1  2017-11-07     26     66\n",
      "2  2017-11-18     47     47\n"
     ]
    }
   ],
   "source": [
    "df = pd.read_csv('data/src/sample_date.csv').head(3)\n",
    "print(df)"
   ]
  },
  {
   "cell_type": "code",
   "execution_count": 16,
   "metadata": {},
   "outputs": [
    {
     "name": "stdout",
     "output_type": "stream",
     "text": [
      "<class 'pandas.core.indexes.range.RangeIndex'>\n"
     ]
    }
   ],
   "source": [
    "print(type(df.index))"
   ]
  },
  {
   "cell_type": "code",
   "execution_count": 17,
   "metadata": {},
   "outputs": [
    {
     "name": "stdout",
     "output_type": "stream",
     "text": [
      "datetime64[ns]\n"
     ]
    }
   ],
   "source": [
    "df['date'] = pd.to_datetime(df['date'])\n",
    "print(df['date'].dtype)"
   ]
  },
  {
   "cell_type": "code",
   "execution_count": 18,
   "metadata": {},
   "outputs": [
    {
     "name": "stdout",
     "output_type": "stream",
     "text": [
      "            val_1  val_2\n",
      "date                    \n",
      "2017-11-01     65     76\n",
      "2017-11-07     26     66\n",
      "2017-11-18     47     47\n"
     ]
    }
   ],
   "source": [
    "df.set_index('date', inplace=True)\n",
    "print(df)"
   ]
  },
  {
   "cell_type": "code",
   "execution_count": 19,
   "metadata": {},
   "outputs": [
    {
     "name": "stdout",
     "output_type": "stream",
     "text": [
      "<class 'pandas.core.indexes.datetimes.DatetimeIndex'>\n"
     ]
    }
   ],
   "source": [
    "print(type(df.index))"
   ]
  },
  {
   "cell_type": "code",
   "execution_count": 20,
   "metadata": {},
   "outputs": [
    {
     "name": "stdout",
     "output_type": "stream",
     "text": [
      "                  date  val_1  val_2\n",
      "date                                \n",
      "2017-11-01  2017-11-01     65     76\n",
      "2017-11-07  2017-11-07     26     66\n",
      "2017-11-18  2017-11-18     47     47\n"
     ]
    }
   ],
   "source": [
    "df = pd.read_csv('data/src/sample_date.csv').head(3)\n",
    "df.set_axis(pd.to_datetime(df['date']), axis='index', inplace=True)\n",
    "print(df)"
   ]
  },
  {
   "cell_type": "code",
   "execution_count": 21,
   "metadata": {},
   "outputs": [
    {
     "name": "stdout",
     "output_type": "stream",
     "text": [
      "<class 'pandas.core.indexes.datetimes.DatetimeIndex'>\n"
     ]
    }
   ],
   "source": [
    "print(type(df.index))"
   ]
  },
  {
   "cell_type": "code",
   "execution_count": 22,
   "metadata": {},
   "outputs": [
    {
     "name": "stdout",
     "output_type": "stream",
     "text": [
      "            val_1  val_2\n",
      "date                    \n",
      "2017-11-01     65     76\n",
      "2017-11-07     26     66\n",
      "2017-11-18     47     47\n"
     ]
    }
   ],
   "source": [
    "df.drop(['date'], axis='columns', inplace=True)\n",
    "print(df)"
   ]
  },
  {
   "cell_type": "code",
   "execution_count": 23,
   "metadata": {},
   "outputs": [
    {
     "name": "stdout",
     "output_type": "stream",
     "text": [
      "            val_1  val_2\n",
      "date                    \n",
      "2017-11-01     65     76\n",
      "2017-11-07     26     66\n",
      "2017-11-18     47     47\n"
     ]
    }
   ],
   "source": [
    "df = pd.read_csv('data/src/sample_date.csv').head(3)\n",
    "df.index = pd.to_datetime(df['date'])\n",
    "df.drop(['date'], axis='columns', inplace=True)\n",
    "print(df)"
   ]
  },
  {
   "cell_type": "code",
   "execution_count": 24,
   "metadata": {},
   "outputs": [
    {
     "name": "stdout",
     "output_type": "stream",
     "text": [
      "<class 'pandas.core.indexes.datetimes.DatetimeIndex'>\n"
     ]
    }
   ],
   "source": [
    "print(type(df.index))"
   ]
  },
  {
   "cell_type": "code",
   "execution_count": 25,
   "metadata": {},
   "outputs": [
    {
     "name": "stdout",
     "output_type": "stream",
     "text": [
      "            val_1  val_2\n",
      "date                    \n",
      "2017-11-01     65     76\n",
      "2017-11-07     26     66\n",
      "2017-11-18     47     47\n",
      "2017-11-27     20     38\n",
      "2017-12-05     65     85\n",
      "2017-12-12      4     29\n",
      "2017-12-22     31     54\n",
      "2017-12-29     21      8\n",
      "2018-01-03     98     76\n",
      "2018-01-08     48     64\n",
      "2018-01-19     18     48\n",
      "2018-01-23     86     70\n"
     ]
    }
   ],
   "source": [
    "df = pd.read_csv('data/src/sample_date.csv', index_col='date', parse_dates=True)\n",
    "print(df)"
   ]
  },
  {
   "cell_type": "code",
   "execution_count": 26,
   "metadata": {},
   "outputs": [
    {
     "name": "stdout",
     "output_type": "stream",
     "text": [
      "<class 'pandas.core.indexes.datetimes.DatetimeIndex'>\n"
     ]
    }
   ],
   "source": [
    "print(type(df.index))"
   ]
  },
  {
   "cell_type": "code",
   "execution_count": 27,
   "metadata": {},
   "outputs": [
    {
     "name": "stdout",
     "output_type": "stream",
     "text": [
      "            val_1  val_2\n",
      "date                    \n",
      "2018-01-03     98     76\n",
      "2018-01-08     48     64\n",
      "2018-01-19     18     48\n",
      "2018-01-23     86     70\n"
     ]
    }
   ],
   "source": [
    "print(df.loc['2018'])"
   ]
  },
  {
   "cell_type": "code",
   "execution_count": 28,
   "metadata": {},
   "outputs": [
    {
     "name": "stdout",
     "output_type": "stream",
     "text": [
      "            val_1  val_2\n",
      "date                    \n",
      "2017-11-01     65     76\n",
      "2017-11-07     26     66\n",
      "2017-11-18     47     47\n",
      "2017-11-27     20     38\n"
     ]
    }
   ],
   "source": [
    "print(df.loc['2017-11'])"
   ]
  },
  {
   "cell_type": "code",
   "execution_count": 29,
   "metadata": {},
   "outputs": [
    {
     "name": "stdout",
     "output_type": "stream",
     "text": [
      "            val_1  val_2\n",
      "date                    \n",
      "2017-12-22     31     54\n",
      "2017-12-29     21      8\n",
      "2018-01-03     98     76\n",
      "2018-01-08     48     64\n"
     ]
    }
   ],
   "source": [
    "print(df.loc['2017-12-15':'2018-01-15'])"
   ]
  },
  {
   "cell_type": "code",
   "execution_count": 30,
   "metadata": {},
   "outputs": [
    {
     "name": "stdout",
     "output_type": "stream",
     "text": [
      "18\n"
     ]
    }
   ],
   "source": [
    "print(df.at['01/19/2018', 'val_1'])"
   ]
  },
  {
   "cell_type": "code",
   "execution_count": 31,
   "metadata": {},
   "outputs": [
    {
     "name": "stdout",
     "output_type": "stream",
     "text": [
      "76\n"
     ]
    }
   ],
   "source": [
    "print(df.at['20180103', 'val_2'])"
   ]
  }
 ],
 "metadata": {
  "kernelspec": {
   "display_name": "Python 3",
   "language": "python",
   "name": "python3"
  },
  "language_info": {
   "codemirror_mode": {
    "name": "ipython",
    "version": 3
   },
   "file_extension": ".py",
   "mimetype": "text/x-python",
   "name": "python",
   "nbconvert_exporter": "python",
   "pygments_lexer": "ipython3",
   "version": "3.9.2"
  }
 },
 "nbformat": 4,
 "nbformat_minor": 2
}
