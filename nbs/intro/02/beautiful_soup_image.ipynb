{
 "cells": [
  {
   "cell_type": "code",
   "execution_count": 1,
   "metadata": {},
   "outputs": [],
   "source": [
    "import os\n",
    "import time\n",
    "import urllib.error\n",
    "import urllib.request\n",
    "\n",
    "from bs4 import BeautifulSoup"
   ]
  },
  {
   "cell_type": "code",
   "execution_count": 2,
   "metadata": {},
   "outputs": [],
   "source": [
    "url = 'https://news.yahoo.co.jp/list/'\n",
    "ua = 'Mozilla/5.0 (Macintosh; Intel Mac OS X 10_12_3) '\\\n",
    "     'AppleWebKit/537.36 (KHTML, like Gecko) '\\\n",
    "     'Chrome/55.0.2883.95 Safari/537.36 '"
   ]
  },
  {
   "cell_type": "code",
   "execution_count": 3,
   "metadata": {},
   "outputs": [],
   "source": [
    "req = urllib.request.Request(url, headers={'User-Agent': ua})\n",
    "html = urllib.request.urlopen(req)"
   ]
  },
  {
   "cell_type": "code",
   "execution_count": 4,
   "metadata": {},
   "outputs": [],
   "source": [
    "soup = BeautifulSoup(html, \"html.parser\")"
   ]
  },
  {
   "cell_type": "code",
   "execution_count": 5,
   "metadata": {},
   "outputs": [],
   "source": [
    "url_list = [img.get('data-src') for img in soup.find(class_='list').find_all('img')]"
   ]
  },
  {
   "cell_type": "code",
   "execution_count": 6,
   "metadata": {},
   "outputs": [],
   "source": [
    "def download_file(url, dst_path):\n",
    "    try:\n",
    "        with urllib.request.urlopen(url) as web_file, open(dst_path, 'wb') as local_file:\n",
    "            local_file.write(web_file.read())\n",
    "    except urllib.error.URLError as e:\n",
    "        print(e)"
   ]
  },
  {
   "cell_type": "code",
   "execution_count": 7,
   "metadata": {},
   "outputs": [],
   "source": [
    "def download_file_to_dir(url, dst_dir):\n",
    "    download_file(url, os.path.join(dst_dir, os.path.basename(url)))"
   ]
  },
  {
   "cell_type": "code",
   "execution_count": 8,
   "metadata": {},
   "outputs": [],
   "source": [
    "download_dir = 'data/temp'\n",
    "sleep_time_sec = 1\n",
    "\n",
    "for url in url_list:\n",
    "#     print(url)\n",
    "#     download_file_to_dir(url, download_dir)\n",
    "    time.sleep(sleep_time_sec)"
   ]
  }
 ],
 "metadata": {
  "kernelspec": {
   "display_name": "Python 3",
   "language": "python",
   "name": "python3"
  },
  "language_info": {
   "codemirror_mode": {
    "name": "ipython",
    "version": 3
   },
   "file_extension": ".py",
   "mimetype": "text/x-python",
   "name": "python",
   "nbconvert_exporter": "python",
   "pygments_lexer": "ipython3",
   "version": "3.7.3"
  }
 },
 "nbformat": 4,
 "nbformat_minor": 2
}
