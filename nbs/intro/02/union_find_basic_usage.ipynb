{
 "cells": [
  {
   "cell_type": "code",
   "execution_count": 1,
   "metadata": {},
   "outputs": [],
   "source": [
    "from union_find_basic import UnionFindBasic, UnionFindPathCompression, UnionFindByRank, UnionFindBySize, UnionFind"
   ]
  },
  {
   "cell_type": "code",
   "execution_count": 2,
   "metadata": {},
   "outputs": [
    {
     "name": "stdout",
     "output_type": "stream",
     "text": [
      "[0, 1, 2, 3, 4]\n"
     ]
    }
   ],
   "source": [
    "ufb = UnionFindBasic(5)\n",
    "print(ufb.parents)"
   ]
  },
  {
   "cell_type": "code",
   "execution_count": 3,
   "metadata": {},
   "outputs": [
    {
     "name": "stdout",
     "output_type": "stream",
     "text": [
      "[0, 1, 2, 3, 3]\n",
      "[0, 1, 2, 2, 3]\n",
      "[0, 1, 1, 2, 3]\n",
      "[0, 0, 1, 2, 3]\n"
     ]
    }
   ],
   "source": [
    "ufb.union(3, 4)\n",
    "print(ufb.parents)\n",
    "ufb.union(2, 3)\n",
    "print(ufb.parents)\n",
    "ufb.union(1, 2)\n",
    "print(ufb.parents)\n",
    "ufb.union(0, 4)\n",
    "print(ufb.parents)"
   ]
  },
  {
   "cell_type": "code",
   "execution_count": 4,
   "metadata": {},
   "outputs": [
    {
     "name": "stdout",
     "output_type": "stream",
     "text": [
      "[0, 0, 0, 0, 0]\n"
     ]
    }
   ],
   "source": [
    "print([ufb.find(i) for i in range(5)])"
   ]
  },
  {
   "cell_type": "code",
   "execution_count": 5,
   "metadata": {},
   "outputs": [
    {
     "name": "stdout",
     "output_type": "stream",
     "text": [
      "[0, 1, 2, 3, 4]\n"
     ]
    }
   ],
   "source": [
    "ufpc = UnionFindPathCompression(5)\n",
    "print(ufpc.parents)"
   ]
  },
  {
   "cell_type": "code",
   "execution_count": 6,
   "metadata": {},
   "outputs": [
    {
     "name": "stdout",
     "output_type": "stream",
     "text": [
      "[0, 1, 2, 3, 3]\n",
      "[0, 1, 2, 2, 3]\n",
      "[0, 1, 1, 2, 3]\n",
      "[0, 0, 1, 1, 1]\n"
     ]
    }
   ],
   "source": [
    "ufpc.union(3, 4)\n",
    "print(ufpc.parents)\n",
    "ufpc.union(2, 3)\n",
    "print(ufpc.parents)\n",
    "ufpc.union(1, 2)\n",
    "print(ufpc.parents)\n",
    "ufpc.union(0, 4)\n",
    "print(ufpc.parents)"
   ]
  },
  {
   "cell_type": "code",
   "execution_count": 7,
   "metadata": {},
   "outputs": [
    {
     "name": "stdout",
     "output_type": "stream",
     "text": [
      "[0, 0, 0, 0, 0]\n"
     ]
    }
   ],
   "source": [
    "print([ufpc.find(i) for i in range(5)])"
   ]
  },
  {
   "cell_type": "code",
   "execution_count": 8,
   "metadata": {},
   "outputs": [
    {
     "name": "stdout",
     "output_type": "stream",
     "text": [
      "[0, 1, 2, 3, 4]\n"
     ]
    }
   ],
   "source": [
    "ufbr = UnionFindByRank(5)\n",
    "print(ufbr.parents)"
   ]
  },
  {
   "cell_type": "code",
   "execution_count": 9,
   "metadata": {},
   "outputs": [
    {
     "name": "stdout",
     "output_type": "stream",
     "text": [
      "[0, 1, 2, 3, 3]\n",
      "[0, 1, 3, 3, 3]\n",
      "[0, 3, 3, 3, 3]\n",
      "[3, 3, 3, 3, 3]\n"
     ]
    }
   ],
   "source": [
    "ufbr.union(3, 4)\n",
    "print(ufbr.parents)\n",
    "ufbr.union(2, 3)\n",
    "print(ufbr.parents)\n",
    "ufbr.union(1, 2)\n",
    "print(ufbr.parents)\n",
    "ufbr.union(0, 4)\n",
    "print(ufbr.parents)"
   ]
  },
  {
   "cell_type": "code",
   "execution_count": 10,
   "metadata": {},
   "outputs": [
    {
     "name": "stdout",
     "output_type": "stream",
     "text": [
      "[0, 1, 2, 3, 4]\n"
     ]
    }
   ],
   "source": [
    "ufbs = UnionFindBySize(5)\n",
    "print(ufbs.parents)"
   ]
  },
  {
   "cell_type": "code",
   "execution_count": 11,
   "metadata": {},
   "outputs": [
    {
     "name": "stdout",
     "output_type": "stream",
     "text": [
      "[0, 1, 2, 3, 3]\n",
      "[0, 1, 3, 3, 3]\n",
      "[0, 3, 3, 3, 3]\n",
      "[3, 3, 3, 3, 3]\n"
     ]
    }
   ],
   "source": [
    "ufbs.union(3, 4)\n",
    "print(ufbs.parents)\n",
    "ufbs.union(2, 3)\n",
    "print(ufbs.parents)\n",
    "ufbs.union(1, 2)\n",
    "print(ufbs.parents)\n",
    "ufbs.union(0, 4)\n",
    "print(ufbs.parents)"
   ]
  },
  {
   "cell_type": "code",
   "execution_count": 12,
   "metadata": {},
   "outputs": [
    {
     "name": "stdout",
     "output_type": "stream",
     "text": [
      "[1, 1, 1, 5, 1]\n"
     ]
    }
   ],
   "source": [
    "print(ufbs.size)"
   ]
  },
  {
   "cell_type": "code",
   "execution_count": 13,
   "metadata": {},
   "outputs": [
    {
     "name": "stdout",
     "output_type": "stream",
     "text": [
      "5\n"
     ]
    }
   ],
   "source": [
    "print(ufbs.size[ufbs.find(0)])"
   ]
  },
  {
   "cell_type": "code",
   "execution_count": 14,
   "metadata": {},
   "outputs": [
    {
     "name": "stdout",
     "output_type": "stream",
     "text": [
      "[-1, -1, -1, -1, -1]\n"
     ]
    }
   ],
   "source": [
    "uf = UnionFind(5)\n",
    "print(uf.parents)"
   ]
  },
  {
   "cell_type": "code",
   "execution_count": 15,
   "metadata": {},
   "outputs": [
    {
     "name": "stdout",
     "output_type": "stream",
     "text": [
      "[-1, -1, -1, -2, 3]\n",
      "[-1, -1, 3, -3, 3]\n",
      "[-1, 3, 3, -4, 3]\n",
      "[3, 3, 3, -5, 3]\n"
     ]
    }
   ],
   "source": [
    "uf.union(3, 4)\n",
    "print(uf.parents)\n",
    "uf.union(2, 3)\n",
    "print(uf.parents)\n",
    "uf.union(1, 2)\n",
    "print(uf.parents)\n",
    "uf.union(0, 4)\n",
    "print(uf.parents)"
   ]
  }
 ],
 "metadata": {
  "kernelspec": {
   "display_name": "Python 3",
   "language": "python",
   "name": "python3"
  },
  "language_info": {
   "codemirror_mode": {
    "name": "ipython",
    "version": 3
   },
   "file_extension": ".py",
   "mimetype": "text/x-python",
   "name": "python",
   "nbconvert_exporter": "python",
   "pygments_lexer": "ipython3",
   "version": "3.7.4"
  }
 },
 "nbformat": 4,
 "nbformat_minor": 2
}
