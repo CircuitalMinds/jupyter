{
 "cells": [
  {
   "cell_type": "code",
   "execution_count": 1,
   "metadata": {},
   "outputs": [],
   "source": [
    "import pandas as pd"
   ]
  },
  {
   "cell_type": "code",
   "execution_count": 2,
   "metadata": {},
   "outputs": [
    {
     "name": "stdout",
     "output_type": "stream",
     "text": [
      "A      aaa@xxx.com\n",
      "B      bbb@yyy.net\n",
      "C    ccc@zzz.co.jp\n",
      "dtype: object\n"
     ]
    }
   ],
   "source": [
    "s_org = pd.Series(['aaa@xxx.com', 'bbb@yyy.net', 'ccc@zzz.co.jp'], index=['A', 'B', 'C'])\n",
    "print(s_org)"
   ]
  },
  {
   "cell_type": "code",
   "execution_count": 3,
   "metadata": {},
   "outputs": [
    {
     "name": "stdout",
     "output_type": "stream",
     "text": [
      "     0\n",
      "A  aaa\n",
      "B  bbb\n",
      "C  ccc\n",
      "<class 'pandas.core.frame.DataFrame'>\n"
     ]
    }
   ],
   "source": [
    "df_single = s_org.str.extract('(.+)@', expand=True)\n",
    "print(df_single)\n",
    "print(type(df_single))"
   ]
  },
  {
   "cell_type": "code",
   "execution_count": 4,
   "metadata": {},
   "outputs": [
    {
     "name": "stdout",
     "output_type": "stream",
     "text": [
      "A    aaa\n",
      "B    bbb\n",
      "C    ccc\n",
      "dtype: object\n",
      "<class 'pandas.core.series.Series'>\n"
     ]
    }
   ],
   "source": [
    "s = s_org.str.extract('(.+)@', expand=False)\n",
    "print(s)\n",
    "print(type(s))"
   ]
  },
  {
   "cell_type": "code",
   "execution_count": 5,
   "metadata": {},
   "outputs": [
    {
     "name": "stdout",
     "output_type": "stream",
     "text": [
      "  local\n",
      "A   aaa\n",
      "B   bbb\n",
      "C   ccc\n",
      "<class 'pandas.core.frame.DataFrame'>\n"
     ]
    }
   ],
   "source": [
    "df_name = s_org.str.extract('(?P<local>.+)@', expand=True)\n",
    "print(df_name)\n",
    "print(type(df_name))"
   ]
  },
  {
   "cell_type": "code",
   "execution_count": 6,
   "metadata": {},
   "outputs": [
    {
     "name": "stdout",
     "output_type": "stream",
     "text": [
      "     0          1\n",
      "A  aaa    xxx.com\n",
      "B  bbb    yyy.net\n",
      "C  ccc  zzz.co.jp\n"
     ]
    }
   ],
   "source": [
    "print(s_org.str.extract('(.+)@(.+)'))"
   ]
  },
  {
   "cell_type": "code",
   "execution_count": 7,
   "metadata": {},
   "outputs": [
    {
     "name": "stdout",
     "output_type": "stream",
     "text": [
      "  local     domain\n",
      "A   aaa    xxx.com\n",
      "B   bbb    yyy.net\n",
      "C   ccc  zzz.co.jp\n"
     ]
    }
   ],
   "source": [
    "print(s_org.str.extract('(?P<local>.+)@(?P<domain>.+)'))"
   ]
  },
  {
   "cell_type": "code",
   "execution_count": 8,
   "metadata": {},
   "outputs": [
    {
     "name": "stdout",
     "output_type": "stream",
     "text": [
      "     0\n",
      "A  aaa\n",
      "B  NaN\n",
      "C  NaN\n"
     ]
    }
   ],
   "source": [
    "print(s_org.str.extract('(a+)', expand=True))"
   ]
  },
  {
   "cell_type": "code",
   "execution_count": 9,
   "metadata": {},
   "outputs": [
    {
     "name": "stdout",
     "output_type": "stream",
     "text": [
      "A    aaa@xxx.com, iii@xxx.com\n",
      "B    bbb@yyy.net, jjj@yyy.net\n",
      "C               ccc@zzz.co.jp\n",
      "dtype: object\n"
     ]
    }
   ],
   "source": [
    "s_org2 = pd.Series(['aaa@xxx.com, iii@xxx.com', 'bbb@yyy.net, jjj@yyy.net', 'ccc@zzz.co.jp'],\n",
    "                   index=['A', 'B', 'C'])\n",
    "print(s_org2)"
   ]
  },
  {
   "cell_type": "code",
   "execution_count": 10,
   "metadata": {},
   "outputs": [
    {
     "name": "stdout",
     "output_type": "stream",
     "text": [
      "     0          1\n",
      "A  aaa    xxx.com\n",
      "B  bbb    yyy.net\n",
      "C  ccc  zzz.co.jp\n"
     ]
    }
   ],
   "source": [
    "print(s_org2.str.extract('([a-z]+)@([a-z.]+)', expand=True))"
   ]
  },
  {
   "cell_type": "code",
   "execution_count": 11,
   "metadata": {},
   "outputs": [
    {
     "name": "stdout",
     "output_type": "stream",
     "text": [
      "           0          1\n",
      "  match                \n",
      "A 0      aaa    xxx.com\n",
      "  1      iii    xxx.com\n",
      "B 0      bbb    yyy.net\n",
      "  1      jjj    yyy.net\n",
      "C 0      ccc  zzz.co.jp\n"
     ]
    }
   ],
   "source": [
    "df_all = s_org2.str.extractall('([a-z]+)@([a-z.]+)')\n",
    "print(df_all)"
   ]
  },
  {
   "cell_type": "code",
   "execution_count": 12,
   "metadata": {},
   "outputs": [
    {
     "name": "stdout",
     "output_type": "stream",
     "text": [
      "MultiIndex(levels=[['A', 'B', 'C'], [0, 1]],\n",
      "           labels=[[0, 0, 1, 1, 2], [0, 1, 0, 1, 0]],\n",
      "           names=[None, 'match'])\n"
     ]
    }
   ],
   "source": [
    "print(df_all.index)"
   ]
  },
  {
   "cell_type": "code",
   "execution_count": 13,
   "metadata": {},
   "outputs": [
    {
     "name": "stdout",
     "output_type": "stream",
     "text": [
      "           0          1\n",
      "  match                \n",
      "A 0      aaa    xxx.com\n",
      "B 0      bbb    yyy.net\n",
      "C 0      ccc  zzz.co.jp\n"
     ]
    }
   ],
   "source": [
    "print(s_org.str.extractall('([a-z]+)@([a-z.]+)'))"
   ]
  }
 ],
 "metadata": {
  "kernelspec": {
   "display_name": "Python 3",
   "language": "python",
   "name": "python3"
  },
  "language_info": {
   "codemirror_mode": {
    "name": "ipython",
    "version": 3
   },
   "file_extension": ".py",
   "mimetype": "text/x-python",
   "name": "python",
   "nbconvert_exporter": "python",
   "pygments_lexer": "ipython3",
   "version": "3.7.4"
  }
 },
 "nbformat": 4,
 "nbformat_minor": 2
}
