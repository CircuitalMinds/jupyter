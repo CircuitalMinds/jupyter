{
 "cells": [
  {
   "cell_type": "code",
   "execution_count": 1,
   "metadata": {},
   "outputs": [],
   "source": [
    "import datetime"
   ]
  },
  {
   "cell_type": "code",
   "execution_count": 2,
   "metadata": {},
   "outputs": [
    {
     "name": "stdout",
     "output_type": "stream",
     "text": [
      "2010-10-01\n",
      "<class 'datetime.date'>\n",
      "2010 10 1\n"
     ]
    }
   ],
   "source": [
    "d1 = datetime.date(2010, 10, 1)\n",
    "print(d1)\n",
    "print(type(d1))\n",
    "print(d1.year, d1.month, d1.day)"
   ]
  },
  {
   "cell_type": "code",
   "execution_count": 3,
   "metadata": {},
   "outputs": [
    {
     "name": "stdout",
     "output_type": "stream",
     "text": [
      "time.struct_time(tm_year=2010, tm_mon=10, tm_mday=1, tm_hour=0, tm_min=0, tm_sec=0, tm_wday=4, tm_yday=274, tm_isdst=-1)\n",
      "<class 'time.struct_time'>\n",
      "2010\n",
      "2010\n"
     ]
    }
   ],
   "source": [
    "d1_tt = d1.timetuple()\n",
    "print(d1_tt)\n",
    "print(type(d1_tt))\n",
    "print(d1_tt.tm_year)\n",
    "print(d1_tt[0])"
   ]
  },
  {
   "cell_type": "code",
   "execution_count": 4,
   "metadata": {},
   "outputs": [
    {
     "name": "stdout",
     "output_type": "stream",
     "text": [
      "2017-08-12\n"
     ]
    }
   ],
   "source": [
    "d2 = datetime.date.today()\n",
    "print(d2)"
   ]
  },
  {
   "cell_type": "code",
   "execution_count": 5,
   "metadata": {},
   "outputs": [
    {
     "name": "stdout",
     "output_type": "stream",
     "text": [
      "10:05:45\n",
      "<class 'datetime.time'>\n",
      "10 5 45\n"
     ]
    }
   ],
   "source": [
    "t = datetime.time(10, 5, 45)\n",
    "print(t)\n",
    "print(type(t))\n",
    "print(t.hour, t.minute, t.second)"
   ]
  },
  {
   "cell_type": "code",
   "execution_count": 6,
   "metadata": {},
   "outputs": [
    {
     "name": "stdout",
     "output_type": "stream",
     "text": [
      "2001-05-10 14:10:05\n",
      "<class 'datetime.datetime'>\n",
      "2001 5 10 14 10 5\n",
      "2001-05-10\n",
      "14:10:05\n"
     ]
    }
   ],
   "source": [
    "dt1 = datetime.datetime(2001, 5, 10, 14, 10, 5)\n",
    "print(dt1)\n",
    "print(type(dt1))\n",
    "print(dt1.year, dt1.month, dt1.day, dt1.hour, dt1.minute, dt1.second)\n",
    "print(dt1.date())\n",
    "print(dt1.time())"
   ]
  },
  {
   "cell_type": "code",
   "execution_count": 7,
   "metadata": {},
   "outputs": [
    {
     "name": "stdout",
     "output_type": "stream",
     "text": [
      "2017-08-12 09:42:45.329713\n",
      "329713\n"
     ]
    }
   ],
   "source": [
    "dt2 = datetime.datetime.now()\n",
    "print(dt2)\n",
    "print(dt2.microsecond)"
   ]
  },
  {
   "cell_type": "code",
   "execution_count": 8,
   "metadata": {},
   "outputs": [
    {
     "name": "stdout",
     "output_type": "stream",
     "text": [
      "5937 days, 19:32:40.329713\n",
      "<class 'datetime.timedelta'>\n",
      "5937 70360 329713\n",
      "513027160.329713\n",
      "513027160.329713\n"
     ]
    }
   ],
   "source": [
    "td1 = dt2 - dt1\n",
    "print(td1)\n",
    "print(type(td1))\n",
    "print(td1.days, td1.seconds, td1.microseconds)\n",
    "print(td1.total_seconds())\n",
    "print(td1.days * 24 * 60 * 60 + td1.seconds + td1.microseconds / 1000000)"
   ]
  },
  {
   "cell_type": "code",
   "execution_count": 9,
   "metadata": {},
   "outputs": [
    {
     "name": "stdout",
     "output_type": "stream",
     "text": [
      "2015-03-20 20:00:10\n",
      "2015-06-28 20:00:10\n"
     ]
    }
   ],
   "source": [
    "dt = datetime.datetime(2015, 3, 20, 20, 0, 10)\n",
    "td = datetime.timedelta(days=100)\n",
    "dt_a = dt + td\n",
    "print(dt)\n",
    "print(dt_a)"
   ]
  },
  {
   "cell_type": "code",
   "execution_count": 10,
   "metadata": {},
   "outputs": [
    {
     "name": "stdout",
     "output_type": "stream",
     "text": [
      "2015-03-20 20:00:10\n",
      "2015/03/20(Fri) 20:00:10\n",
      "20 Mar. 2015\n",
      "03/20/15 20:00:10\n"
     ]
    }
   ],
   "source": [
    "# https://docs.python.jp/3/library/datetime.html#strftime-strptime-behavior\n",
    "dt = datetime.datetime(2015, 3, 20, 20, 0, 10)\n",
    "print(dt)\n",
    "print(dt.strftime('%Y/%m/%d(%a) %H:%M:%S'))\n",
    "print(dt.strftime('%d %b. %Y'))\n",
    "print(dt.strftime('%x %X'))"
   ]
  },
  {
   "cell_type": "code",
   "execution_count": 11,
   "metadata": {},
   "outputs": [
    {
     "name": "stdout",
     "output_type": "stream",
     "text": [
      "2010-04-01 00:00:00\n",
      "2010 0\n",
      "<class 'datetime.datetime'>\n"
     ]
    }
   ],
   "source": [
    "s = '2010/4/1'\n",
    "dts = datetime.datetime.strptime(s, '%Y/%m/%d')\n",
    "print(dts)\n",
    "print(dts.year, dts.hour)\n",
    "print(type(dts))"
   ]
  }
 ],
 "metadata": {
  "kernelspec": {
   "display_name": "Python 3",
   "language": "python",
   "name": "python3"
  },
  "language_info": {
   "codemirror_mode": {
    "name": "ipython",
    "version": 3
   },
   "file_extension": ".py",
   "mimetype": "text/x-python",
   "name": "python",
   "nbconvert_exporter": "python",
   "pygments_lexer": "ipython3",
   "version": "3.6.2"
  }
 },
 "nbformat": 4,
 "nbformat_minor": 2
}
