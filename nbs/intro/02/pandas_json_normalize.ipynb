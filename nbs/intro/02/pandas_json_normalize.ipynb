{
 "cells": [
  {
   "cell_type": "code",
   "execution_count": 1,
   "metadata": {},
   "outputs": [],
   "source": [
    "import pandas as pd"
   ]
  },
  {
   "cell_type": "code",
   "execution_count": 2,
   "metadata": {},
   "outputs": [],
   "source": [
    "l_simple = [{'name': 'Alice', 'age': 25},\n",
    "            {'name': 'Bob'}]"
   ]
  },
  {
   "cell_type": "code",
   "execution_count": 3,
   "metadata": {},
   "outputs": [
    {
     "name": "stdout",
     "output_type": "stream",
     "text": [
      "    name   age\n",
      "0  Alice  25.0\n",
      "1    Bob   NaN\n"
     ]
    }
   ],
   "source": [
    "print(pd.DataFrame(l_simple))"
   ]
  },
  {
   "cell_type": "code",
   "execution_count": 4,
   "metadata": {},
   "outputs": [
    {
     "name": "stdout",
     "output_type": "stream",
     "text": [
      "    name   age\n",
      "0  Alice  25.0\n",
      "1    Bob   NaN\n"
     ]
    }
   ],
   "source": [
    "print(pd.json_normalize(l_simple))"
   ]
  },
  {
   "cell_type": "code",
   "execution_count": 5,
   "metadata": {},
   "outputs": [],
   "source": [
    "l_nested = [{'name': 'Alice', 'age': 25, 'id': {'x': 2, 'y': 8}},\n",
    "            {'name': 'Bob', 'id': {'x': 10, 'y': 4}}]"
   ]
  },
  {
   "cell_type": "code",
   "execution_count": 6,
   "metadata": {},
   "outputs": [
    {
     "name": "stdout",
     "output_type": "stream",
     "text": [
      "    name   age                 id\n",
      "0  Alice  25.0   {'x': 2, 'y': 8}\n",
      "1    Bob   NaN  {'x': 10, 'y': 4}\n"
     ]
    }
   ],
   "source": [
    "print(pd.DataFrame(l_nested))"
   ]
  },
  {
   "cell_type": "code",
   "execution_count": 7,
   "metadata": {},
   "outputs": [
    {
     "name": "stdout",
     "output_type": "stream",
     "text": [
      "    name   age  id.x  id.y\n",
      "0  Alice  25.0     2     8\n",
      "1    Bob   NaN    10     4\n"
     ]
    }
   ],
   "source": [
    "print(pd.json_normalize(l_nested))"
   ]
  },
  {
   "cell_type": "code",
   "execution_count": 8,
   "metadata": {},
   "outputs": [
    {
     "name": "stdout",
     "output_type": "stream",
     "text": [
      "    name   age  id_x  id_y\n",
      "0  Alice  25.0     2     8\n",
      "1    Bob   NaN    10     4\n"
     ]
    }
   ],
   "source": [
    "print(pd.json_normalize(l_nested, sep='_'))"
   ]
  },
  {
   "cell_type": "code",
   "execution_count": 9,
   "metadata": {},
   "outputs": [],
   "source": [
    "l_complex = [{'label': 'X',\n",
    "              'info' : {'n': 'nx', 'm': 'mx'},\n",
    "              'data': [{'a': 1, 'b': 2},\n",
    "                       {'a': 3, 'b': 4}]},\n",
    "             {'label': 'Y',\n",
    "              'info' : {'n': 'ny', 'm': 'my'},\n",
    "              'data': [{'a': 10, 'b': 20},\n",
    "                       {'a': 30, 'b': 40}]}]"
   ]
  },
  {
   "cell_type": "code",
   "execution_count": 10,
   "metadata": {},
   "outputs": [
    {
     "name": "stdout",
     "output_type": "stream",
     "text": [
      "  label                                      data info.n info.m\n",
      "0     X      [{'a': 1, 'b': 2}, {'a': 3, 'b': 4}]     nx     mx\n",
      "1     Y  [{'a': 10, 'b': 20}, {'a': 30, 'b': 40}]     ny     my\n"
     ]
    }
   ],
   "source": [
    "print(pd.json_normalize(l_complex))"
   ]
  },
  {
   "cell_type": "code",
   "execution_count": 11,
   "metadata": {},
   "outputs": [
    {
     "name": "stdout",
     "output_type": "stream",
     "text": [
      "    a   b\n",
      "0   1   2\n",
      "1   3   4\n",
      "2  10  20\n",
      "3  30  40\n"
     ]
    }
   ],
   "source": [
    "print(pd.json_normalize(l_complex, record_path='data'))"
   ]
  },
  {
   "cell_type": "code",
   "execution_count": 12,
   "metadata": {},
   "outputs": [
    {
     "name": "stdout",
     "output_type": "stream",
     "text": [
      "   data_a  data_b\n",
      "0       1       2\n",
      "1       3       4\n",
      "2      10      20\n",
      "3      30      40\n"
     ]
    }
   ],
   "source": [
    "print(pd.json_normalize(l_complex, record_path='data', record_prefix='data_'))"
   ]
  },
  {
   "cell_type": "code",
   "execution_count": 13,
   "metadata": {},
   "outputs": [
    {
     "name": "stdout",
     "output_type": "stream",
     "text": [
      "    a   b label\n",
      "0   1   2     X\n",
      "1   3   4     X\n",
      "2  10  20     Y\n",
      "3  30  40     Y\n"
     ]
    }
   ],
   "source": [
    "print(pd.json_normalize(l_complex, record_path='data',\n",
    "                        meta='label'))"
   ]
  },
  {
   "cell_type": "code",
   "execution_count": 14,
   "metadata": {},
   "outputs": [
    {
     "name": "stdout",
     "output_type": "stream",
     "text": [
      "    a   b meta_label\n",
      "0   1   2          X\n",
      "1   3   4          X\n",
      "2  10  20          Y\n",
      "3  30  40          Y\n"
     ]
    }
   ],
   "source": [
    "print(pd.json_normalize(l_complex, record_path='data',\n",
    "                        meta='label', meta_prefix='meta_'))"
   ]
  },
  {
   "cell_type": "code",
   "execution_count": 15,
   "metadata": {},
   "outputs": [
    {
     "name": "stdout",
     "output_type": "stream",
     "text": [
      "    a   b                    info\n",
      "0   1   2  {'n': 'nx', 'm': 'mx'}\n",
      "1   3   4  {'n': 'nx', 'm': 'mx'}\n",
      "2  10  20  {'n': 'ny', 'm': 'my'}\n",
      "3  30  40  {'n': 'ny', 'm': 'my'}\n"
     ]
    }
   ],
   "source": [
    "print(pd.json_normalize(l_complex, record_path='data',\n",
    "                        meta='info'))"
   ]
  },
  {
   "cell_type": "code",
   "execution_count": 16,
   "metadata": {},
   "outputs": [
    {
     "name": "stdout",
     "output_type": "stream",
     "text": [
      "    a   b info.n info.m\n",
      "0   1   2     nx     mx\n",
      "1   3   4     nx     mx\n",
      "2  10  20     ny     my\n",
      "3  30  40     ny     my\n"
     ]
    }
   ],
   "source": [
    "print(pd.json_normalize(l_complex, record_path='data',\n",
    "                        meta=[['info', 'n'], ['info', 'm']]))"
   ]
  },
  {
   "cell_type": "code",
   "execution_count": 17,
   "metadata": {},
   "outputs": [
    {
     "name": "stdout",
     "output_type": "stream",
     "text": [
      "    a   b info_n info_m\n",
      "0   1   2     nx     mx\n",
      "1   3   4     nx     mx\n",
      "2  10  20     ny     my\n",
      "3  30  40     ny     my\n"
     ]
    }
   ],
   "source": [
    "print(pd.json_normalize(l_complex, record_path='data',\n",
    "                        meta=[['info', 'n'], ['info', 'm']],\n",
    "                        sep='_'))"
   ]
  },
  {
   "cell_type": "code",
   "execution_count": 18,
   "metadata": {},
   "outputs": [
    {
     "name": "stdout",
     "output_type": "stream",
     "text": [
      "    a   b label info_n info_m\n",
      "0   1   2     X     nx     mx\n",
      "1   3   4     X     nx     mx\n",
      "2  10  20     Y     ny     my\n",
      "3  30  40     Y     ny     my\n"
     ]
    }
   ],
   "source": [
    "print(pd.json_normalize(l_complex, record_path='data',\n",
    "                        meta=['label', ['info', 'n'], ['info', 'm']],\n",
    "                        sep='_'))"
   ]
  },
  {
   "cell_type": "code",
   "execution_count": 19,
   "metadata": {},
   "outputs": [
    {
     "name": "stdout",
     "output_type": "stream",
     "text": [
      "    a   b info.n\n",
      "0   1   2     nx\n",
      "1   3   4     nx\n",
      "2  10  20     ny\n",
      "3  30  40     ny\n"
     ]
    }
   ],
   "source": [
    "print(pd.json_normalize(l_complex, record_path='data',\n",
    "                        meta=[['info', 'n']]))"
   ]
  },
  {
   "cell_type": "code",
   "execution_count": 20,
   "metadata": {},
   "outputs": [],
   "source": [
    "# print(pd.json_normalize(l_complex, record_path='data',\n",
    "#                         meta=['info', 'n']))\n",
    "# KeyError: \"Try running with errors='ignore' as key 'n' is not always present\""
   ]
  }
 ],
 "metadata": {
  "kernelspec": {
   "display_name": "Python 3",
   "language": "python",
   "name": "python3"
  },
  "language_info": {
   "codemirror_mode": {
    "name": "ipython",
    "version": 3
   },
   "file_extension": ".py",
   "mimetype": "text/x-python",
   "name": "python",
   "nbconvert_exporter": "python",
   "pygments_lexer": "ipython3",
   "version": "3.9.2"
  }
 },
 "nbformat": 4,
 "nbformat_minor": 2
}
