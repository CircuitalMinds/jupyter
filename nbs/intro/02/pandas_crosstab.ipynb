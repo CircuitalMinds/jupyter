{
 "cells": [
  {
   "cell_type": "code",
   "execution_count": 1,
   "metadata": {
    "collapsed": true
   },
   "outputs": [],
   "source": [
    "import pandas as pd"
   ]
  },
  {
   "cell_type": "code",
   "execution_count": 2,
   "metadata": {
    "collapsed": true
   },
   "outputs": [],
   "source": [
    "df = pd.read_csv('data/src/titanic_train.csv', index_col=0).drop(['Name', 'Ticket', 'SibSp', 'Parch'], axis=1)"
   ]
  },
  {
   "cell_type": "code",
   "execution_count": 3,
   "metadata": {},
   "outputs": [
    {
     "name": "stdout",
     "output_type": "stream",
     "text": [
      "             Survived  Pclass     Sex   Age     Fare Cabin Embarked\n",
      "PassengerId                                                        \n",
      "1                   0       3    male  22.0   7.2500   NaN        S\n",
      "2                   1       1  female  38.0  71.2833   C85        C\n",
      "3                   1       3  female  26.0   7.9250   NaN        S\n",
      "4                   1       1  female  35.0  53.1000  C123        S\n",
      "5                   0       3    male  35.0   8.0500   NaN        S\n"
     ]
    }
   ],
   "source": [
    "print(df.head())"
   ]
  },
  {
   "cell_type": "code",
   "execution_count": 4,
   "metadata": {},
   "outputs": [
    {
     "name": "stdout",
     "output_type": "stream",
     "text": [
      "Pclass    1    2    3\n",
      "Sex                  \n",
      "female   94   76  144\n",
      "male    122  108  347\n"
     ]
    }
   ],
   "source": [
    "print(pd.crosstab(df['Sex'], df['Pclass']))"
   ]
  },
  {
   "cell_type": "code",
   "execution_count": 5,
   "metadata": {},
   "outputs": [
    {
     "name": "stdout",
     "output_type": "stream",
     "text": [
      "<class 'pandas.core.frame.DataFrame'>\n"
     ]
    }
   ],
   "source": [
    "print(type(pd.crosstab(df['Sex'], df['Pclass'])))"
   ]
  },
  {
   "cell_type": "code",
   "execution_count": 6,
   "metadata": {},
   "outputs": [
    {
     "name": "stdout",
     "output_type": "stream",
     "text": [
      "Pclass            1         2          3         \n",
      "Embarked          C  Q   S  C  Q   S   C   Q    S\n",
      "Sex    Survived                                  \n",
      "female 0          1  0   2  0  0   6   8   9   55\n",
      "       1         42  1  46  7  2  61  15  24   33\n",
      "male   0         25  1  51  8  1  82  33  36  231\n",
      "       1         17  0  28  2  0  15  10   3   34\n"
     ]
    }
   ],
   "source": [
    "print(pd.crosstab([df['Sex'], df['Survived']], [df['Pclass'], df['Embarked']]))"
   ]
  },
  {
   "cell_type": "code",
   "execution_count": 7,
   "metadata": {},
   "outputs": [
    {
     "name": "stdout",
     "output_type": "stream",
     "text": [
      "Pclass            1           2           3           All\n",
      "Embarked          C  Q    S   C  Q    S   C   Q    S     \n",
      "Sex    Survived                                          \n",
      "female 0          1  0    2   0  0    6   8   9   55   81\n",
      "       1         42  1   46   7  2   61  15  24   33  231\n",
      "male   0         25  1   51   8  1   82  33  36  231  468\n",
      "       1         17  0   28   2  0   15  10   3   34  109\n",
      "All              85  2  127  17  3  164  66  72  353  889\n"
     ]
    }
   ],
   "source": [
    "print(pd.crosstab([df['Sex'], df['Survived']], [df['Pclass'], df['Embarked']],\n",
    "                  margins=True))"
   ]
  },
  {
   "cell_type": "code",
   "execution_count": 8,
   "metadata": {},
   "outputs": [
    {
     "name": "stdout",
     "output_type": "stream",
     "text": [
      "Pclass            1           2           3          Total\n",
      "Embarked          C  Q    S   C  Q    S   C   Q    S      \n",
      "Sex    Survived                                           \n",
      "female 0          1  0    2   0  0    6   8   9   55    81\n",
      "       1         42  1   46   7  2   61  15  24   33   231\n",
      "male   0         25  1   51   8  1   82  33  36  231   468\n",
      "       1         17  0   28   2  0   15  10   3   34   109\n",
      "Total            85  2  127  17  3  164  66  72  353   889\n"
     ]
    }
   ],
   "source": [
    "print(pd.crosstab([df['Sex'], df['Survived']], [df['Pclass'], df['Embarked']],\n",
    "                  margins=True, margins_name='Total'))"
   ]
  },
  {
   "cell_type": "code",
   "execution_count": 9,
   "metadata": {},
   "outputs": [
    {
     "name": "stdout",
     "output_type": "stream",
     "text": [
      "Pclass         1         2         3       All\n",
      "Sex                                           \n",
      "female  0.105499  0.085297  0.161616  0.352413\n",
      "male    0.136925  0.121212  0.389450  0.647587\n",
      "All     0.242424  0.206510  0.551066  1.000000\n"
     ]
    }
   ],
   "source": [
    "print(pd.crosstab(df['Sex'], df['Pclass'], margins=True, normalize=True))"
   ]
  },
  {
   "cell_type": "code",
   "execution_count": 10,
   "metadata": {},
   "outputs": [
    {
     "name": "stdout",
     "output_type": "stream",
     "text": [
      "Pclass         1         2         3\n",
      "Sex                                 \n",
      "female  0.299363  0.242038  0.458599\n",
      "male    0.211438  0.187175  0.601386\n",
      "All     0.242424  0.206510  0.551066\n"
     ]
    }
   ],
   "source": [
    "print(pd.crosstab(df['Sex'], df['Pclass'], margins=True, normalize='index'))"
   ]
  },
  {
   "cell_type": "code",
   "execution_count": 11,
   "metadata": {},
   "outputs": [
    {
     "name": "stdout",
     "output_type": "stream",
     "text": [
      "Pclass         1         2         3       All\n",
      "Sex                                           \n",
      "female  0.435185  0.413043  0.293279  0.352413\n",
      "male    0.564815  0.586957  0.706721  0.647587\n"
     ]
    }
   ],
   "source": [
    "print(pd.crosstab(df['Sex'], df['Pclass'], margins=True, normalize='columns'))"
   ]
  },
  {
   "cell_type": "code",
   "execution_count": 12,
   "metadata": {
    "collapsed": true
   },
   "outputs": [],
   "source": [
    "# print(pd.crosstab(df['Sex'], [df['Pclass'], df['Embarked']],\n",
    "#                   margins=True, normalize=True))\n",
    "# TypeError: Expected tuple, got str"
   ]
  },
  {
   "cell_type": "code",
   "execution_count": 13,
   "metadata": {},
   "outputs": [
    {
     "name": "stdout",
     "output_type": "stream",
     "text": [
      "Pclass           1                             2                      \\\n",
      "Embarked         C         Q         S         C         Q         S   \n",
      "Sex                                                                    \n",
      "female    0.137821  0.003205  0.153846  0.022436  0.006410  0.214744   \n",
      "male      0.072790  0.001733  0.136915  0.017331  0.001733  0.168111   \n",
      "All       0.095613  0.002250  0.142857  0.019123  0.003375  0.184477   \n",
      "\n",
      "Pclass           3                      \n",
      "Embarked         C         Q         S  \n",
      "Sex                                     \n",
      "female    0.073718  0.105769  0.282051  \n",
      "male      0.074523  0.067591  0.459272  \n",
      "All       0.074241  0.080990  0.397075  \n"
     ]
    }
   ],
   "source": [
    "print(pd.crosstab(df['Sex'], [df['Pclass'], df['Embarked']],\n",
    "                  margins=True, normalize='index'))"
   ]
  },
  {
   "cell_type": "code",
   "execution_count": 14,
   "metadata": {
    "collapsed": true
   },
   "outputs": [],
   "source": [
    "# print(pd.crosstab(df['Sex'], [df['Pclass'], df['Embarked']],\n",
    "#                   margins=True, normalize='columns'))\n",
    "# ValueError: Length of new names must be 1, got 2"
   ]
  },
  {
   "cell_type": "code",
   "execution_count": 15,
   "metadata": {},
   "outputs": [
    {
     "name": "stdout",
     "output_type": "stream",
     "text": [
      "Pclass           1                             2                      \\\n",
      "Embarked         C         Q         S         C         Q         S   \n",
      "Sex                                                                    \n",
      "female    0.048369  0.001125  0.053993  0.007874  0.002250  0.075366   \n",
      "male      0.047244  0.001125  0.088864  0.011249  0.001125  0.109111   \n",
      "\n",
      "Pclass           3                     \n",
      "Embarked         C        Q         S  \n",
      "Sex                                    \n",
      "female    0.025872  0.03712  0.098988  \n",
      "male      0.048369  0.04387  0.298088  \n"
     ]
    }
   ],
   "source": [
    "print(pd.crosstab(df['Sex'], [df['Pclass'], df['Embarked']], normalize=True))"
   ]
  },
  {
   "cell_type": "code",
   "execution_count": 16,
   "metadata": {},
   "outputs": [
    {
     "name": "stdout",
     "output_type": "stream",
     "text": [
      "Pclass           1                             2                      \\\n",
      "Embarked         C         Q         S         C         Q         S   \n",
      "Sex                                                                    \n",
      "female    0.137821  0.003205  0.153846  0.022436  0.006410  0.214744   \n",
      "male      0.072790  0.001733  0.136915  0.017331  0.001733  0.168111   \n",
      "\n",
      "Pclass           3                      \n",
      "Embarked         C         Q         S  \n",
      "Sex                                     \n",
      "female    0.073718  0.105769  0.282051  \n",
      "male      0.074523  0.067591  0.459272  \n"
     ]
    }
   ],
   "source": [
    "print(pd.crosstab(df['Sex'], [df['Pclass'], df['Embarked']], normalize='index'))"
   ]
  },
  {
   "cell_type": "code",
   "execution_count": 17,
   "metadata": {},
   "outputs": [
    {
     "name": "stdout",
     "output_type": "stream",
     "text": [
      "Pclass           1                        2                             3  \\\n",
      "Embarked         C    Q         S         C         Q         S         C   \n",
      "Sex                                                                         \n",
      "female    0.505882  0.5  0.377953  0.411765  0.666667  0.408537  0.348485   \n",
      "male      0.494118  0.5  0.622047  0.588235  0.333333  0.591463  0.651515   \n",
      "\n",
      "Pclass                        \n",
      "Embarked         Q         S  \n",
      "Sex                           \n",
      "female    0.458333  0.249292  \n",
      "male      0.541667  0.750708  \n"
     ]
    }
   ],
   "source": [
    "print(pd.crosstab(df['Sex'], [df['Pclass'], df['Embarked']], normalize='columns'))"
   ]
  }
 ],
 "metadata": {
  "kernelspec": {
   "display_name": "Python 3",
   "language": "python",
   "name": "python3"
  },
  "language_info": {
   "codemirror_mode": {
    "name": "ipython",
    "version": 3
   },
   "file_extension": ".py",
   "mimetype": "text/x-python",
   "name": "python",
   "nbconvert_exporter": "python",
   "pygments_lexer": "ipython3",
   "version": "3.6.5"
  }
 },
 "nbformat": 4,
 "nbformat_minor": 2
}
