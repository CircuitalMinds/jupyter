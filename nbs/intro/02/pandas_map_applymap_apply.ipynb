{
 "cells": [
  {
   "cell_type": "code",
   "execution_count": 1,
   "metadata": {
    "collapsed": true
   },
   "outputs": [],
   "source": [
    "import pandas as pd\n",
    "import numpy as np"
   ]
  },
  {
   "cell_type": "code",
   "execution_count": 2,
   "metadata": {},
   "outputs": [
    {
     "name": "stdout",
     "output_type": "stream",
     "text": [
      "    a   b   c   d\n",
      "0  11  12  13  14\n",
      "1  21  22  23  24\n",
      "2  31  32  33  34\n"
     ]
    }
   ],
   "source": [
    "df = pd.read_csv('data/src/sample_header.csv')\n",
    "print(df)"
   ]
  },
  {
   "cell_type": "code",
   "execution_count": 3,
   "metadata": {},
   "outputs": [
    {
     "name": "stdout",
     "output_type": "stream",
     "text": [
      "          a         b         c         d\n",
      "0  3.316625  3.464102  3.605551  3.741657\n",
      "1  4.582576  4.690416  4.795832  4.898979\n",
      "2  5.567764  5.656854  5.744563  5.830952\n"
     ]
    }
   ],
   "source": [
    "print(np.sqrt(df))"
   ]
  },
  {
   "cell_type": "code",
   "execution_count": 4,
   "metadata": {},
   "outputs": [
    {
     "name": "stdout",
     "output_type": "stream",
     "text": [
      "a    31\n",
      "b    32\n",
      "c    33\n",
      "d    34\n",
      "dtype: int64\n"
     ]
    }
   ],
   "source": [
    "print(np.amax(df))"
   ]
  },
  {
   "cell_type": "code",
   "execution_count": 5,
   "metadata": {},
   "outputs": [
    {
     "name": "stdout",
     "output_type": "stream",
     "text": [
      "0    12.5\n",
      "1    22.5\n",
      "2    32.5\n",
      "dtype: float64\n"
     ]
    }
   ],
   "source": [
    "print(np.mean(df, axis=1))"
   ]
  },
  {
   "cell_type": "code",
   "execution_count": 6,
   "metadata": {},
   "outputs": [
    {
     "name": "stdout",
     "output_type": "stream",
     "text": [
      "a    31\n",
      "b    32\n",
      "c    33\n",
      "d    34\n",
      "dtype: int64\n"
     ]
    }
   ],
   "source": [
    "print(df.max())"
   ]
  },
  {
   "cell_type": "code",
   "execution_count": 7,
   "metadata": {},
   "outputs": [
    {
     "name": "stdout",
     "output_type": "stream",
     "text": [
      "0    14\n",
      "1    24\n",
      "2    34\n",
      "dtype: int64\n"
     ]
    }
   ],
   "source": [
    "print(df.max(axis=1))"
   ]
  },
  {
   "cell_type": "code",
   "execution_count": 8,
   "metadata": {},
   "outputs": [
    {
     "name": "stdout",
     "output_type": "stream",
     "text": [
      "0    11\n",
      "1    21\n",
      "2    31\n",
      "Name: a, dtype: int64\n"
     ]
    }
   ],
   "source": [
    "s = df['a']\n",
    "print(s)"
   ]
  },
  {
   "cell_type": "code",
   "execution_count": 9,
   "metadata": {},
   "outputs": [
    {
     "name": "stdout",
     "output_type": "stream",
     "text": [
      "0    [11]\n",
      "1    [21]\n",
      "2    [31]\n",
      "Name: a, dtype: object\n"
     ]
    }
   ],
   "source": [
    "f_brackets = lambda x: '[{}]'.format(x)\n",
    "print(s.map(f_brackets))"
   ]
  },
  {
   "cell_type": "code",
   "execution_count": 10,
   "metadata": {},
   "outputs": [
    {
     "name": "stdout",
     "output_type": "stream",
     "text": [
      "0      OneOne\n",
      "1      TwoOne\n",
      "2    ThreeOne\n",
      "Name: a, dtype: object\n"
     ]
    }
   ],
   "source": [
    "def f_str(x):\n",
    "    return str(x).replace('1', 'One').replace('2', 'Two').replace('3', 'Three').replace('4', 'Four')\n",
    "\n",
    "print(s.map(f_str))"
   ]
  },
  {
   "cell_type": "code",
   "execution_count": 11,
   "metadata": {},
   "outputs": [
    {
     "name": "stdout",
     "output_type": "stream",
     "text": [
      "     a     b    c     d\n",
      "0  odd  even  odd  even\n",
      "1  odd  even  odd  even\n",
      "2  odd  even  odd  even\n"
     ]
    }
   ],
   "source": [
    "f_oddeven = lambda x: 'odd' if x % 2 == 1 else 'even'\n",
    "print(df.applymap(f_oddeven))"
   ]
  },
  {
   "cell_type": "code",
   "execution_count": 12,
   "metadata": {},
   "outputs": [
    {
     "name": "stdout",
     "output_type": "stream",
     "text": [
      "a    20\n",
      "b    20\n",
      "c    20\n",
      "d    20\n",
      "dtype: int64\n"
     ]
    }
   ],
   "source": [
    "f_maxmin = lambda x: max(x) - min(x)\n",
    "print(df.apply(f_maxmin))"
   ]
  },
  {
   "cell_type": "code",
   "execution_count": 13,
   "metadata": {},
   "outputs": [
    {
     "name": "stdout",
     "output_type": "stream",
     "text": [
      "0    3\n",
      "1    3\n",
      "2    3\n",
      "dtype: int64\n"
     ]
    }
   ],
   "source": [
    "print(df.apply(f_maxmin, axis=1))"
   ]
  },
  {
   "cell_type": "code",
   "execution_count": 14,
   "metadata": {},
   "outputs": [
    {
     "name": "stdout",
     "output_type": "stream",
     "text": [
      "    a         b   c   d\n",
      "0  11    OneTwo  13  14\n",
      "1  21    TwoTwo  23  24\n",
      "2  31  ThreeTwo  33  34\n"
     ]
    }
   ],
   "source": [
    "df['b'] = df['b'].map(f_str)\n",
    "print(df)"
   ]
  },
  {
   "cell_type": "code",
   "execution_count": 15,
   "metadata": {},
   "outputs": [
    {
     "name": "stdout",
     "output_type": "stream",
     "text": [
      "          a         b           c          d\n",
      "0        11    OneTwo          13         14\n",
      "1        21    TwoTwo          23         24\n",
      "2  ThreeOne  ThreeTwo  ThreeThree  ThreeFour\n"
     ]
    }
   ],
   "source": [
    "df.iloc[2] = df.iloc[2].map(f_str)\n",
    "print(df)"
   ]
  }
 ],
 "metadata": {
  "kernelspec": {
   "display_name": "Python 3",
   "language": "python",
   "name": "python3"
  },
  "language_info": {
   "codemirror_mode": {
    "name": "ipython",
    "version": 3
   },
   "file_extension": ".py",
   "mimetype": "text/x-python",
   "name": "python",
   "nbconvert_exporter": "python",
   "pygments_lexer": "ipython3",
   "version": "3.6.3"
  }
 },
 "nbformat": 4,
 "nbformat_minor": 2
}
