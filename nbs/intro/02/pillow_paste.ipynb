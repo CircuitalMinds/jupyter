{
 "cells": [
  {
   "cell_type": "code",
   "execution_count": 1,
   "metadata": {
    "collapsed": true
   },
   "outputs": [],
   "source": [
    "from PIL import Image, ImageDraw, ImageFilter"
   ]
  },
  {
   "cell_type": "code",
   "execution_count": 2,
   "metadata": {
    "collapsed": true
   },
   "outputs": [],
   "source": [
    "im1 = Image.open('data/src/rocket.jpg')\n",
    "im2 = Image.open('data/src/lena.jpg')"
   ]
  },
  {
   "cell_type": "markdown",
   "metadata": {},
   "source": [
    "![rocket](data/src/rocket.jpg)\n",
    "![lena](data/src/lena.jpg)"
   ]
  },
  {
   "cell_type": "code",
   "execution_count": 3,
   "metadata": {
    "collapsed": true
   },
   "outputs": [],
   "source": [
    "im1.paste(im2)\n",
    "im1.save('data/dst/rocket_pillow_paste.jpg', quality=95)"
   ]
  },
  {
   "cell_type": "markdown",
   "metadata": {},
   "source": [
    "![rocket_pillow_paste](data/dst/rocket_pillow_paste.jpg)"
   ]
  },
  {
   "cell_type": "code",
   "execution_count": 4,
   "metadata": {
    "collapsed": true
   },
   "outputs": [],
   "source": [
    "im1 = Image.open('data/src/rocket.jpg')\n",
    "im2 = Image.open('data/src/lena.jpg')"
   ]
  },
  {
   "cell_type": "code",
   "execution_count": 5,
   "metadata": {
    "collapsed": true
   },
   "outputs": [],
   "source": [
    "back_im = im1.copy()\n",
    "back_im.paste(im2)\n",
    "back_im.save('data/dst/rocket_pillow_paste.jpg', quality=95)"
   ]
  },
  {
   "cell_type": "code",
   "execution_count": 6,
   "metadata": {
    "collapsed": true
   },
   "outputs": [],
   "source": [
    "back_im = im1.copy()\n",
    "back_im.paste(im2, (100, 50))\n",
    "back_im.save('data/dst/rocket_pillow_paste_pos.jpg', quality=95)"
   ]
  },
  {
   "cell_type": "markdown",
   "metadata": {},
   "source": [
    "![rocket_pillow_paste_pos](data/dst/rocket_pillow_paste_pos.jpg)"
   ]
  },
  {
   "cell_type": "code",
   "execution_count": 7,
   "metadata": {
    "collapsed": true
   },
   "outputs": [],
   "source": [
    "back_im = im1.copy()\n",
    "back_im.paste(im2, (400, 100))\n",
    "back_im.save('data/dst/rocket_pillow_paste_out.jpg', quality=95)"
   ]
  },
  {
   "cell_type": "markdown",
   "metadata": {},
   "source": [
    "![rocket_pillow_paste_out](data/dst/rocket_pillow_paste_out.jpg)"
   ]
  },
  {
   "cell_type": "code",
   "execution_count": 8,
   "metadata": {
    "collapsed": true
   },
   "outputs": [],
   "source": [
    "mask_im = Image.new(\"L\", im2.size, 0)\n",
    "draw = ImageDraw.Draw(mask_im)\n",
    "draw.ellipse((140, 50, 260, 170), fill=255)\n",
    "mask_im.save('data/dst/mask_circle.jpg', quality=95)\n",
    "\n",
    "back_im = im1.copy()\n",
    "back_im.paste(im2, (0, 0), mask_im)\n",
    "back_im.save('data/dst/rocket_pillow_paste_mask_circle.jpg', quality=95)"
   ]
  },
  {
   "cell_type": "markdown",
   "metadata": {},
   "source": [
    "![rocket_pillow_paste_mask_circle](data/dst/rocket_pillow_paste_mask_circle.jpg)"
   ]
  },
  {
   "cell_type": "code",
   "execution_count": 9,
   "metadata": {
    "collapsed": true
   },
   "outputs": [],
   "source": [
    "mask_im_blur = mask_im.filter(ImageFilter.GaussianBlur(10))\n",
    "mask_im_blur.save('data/dst/mask_circle_blur.jpg', quality=95)\n",
    "\n",
    "back_im = im1.copy()\n",
    "back_im.paste(im2, (0, 0), mask_im_blur)\n",
    "back_im.save('data/dst/rocket_pillow_paste_mask_circle_blur.jpg', quality=95)"
   ]
  },
  {
   "cell_type": "markdown",
   "metadata": {},
   "source": [
    "![rocket_pillow_paste_mask_circle_blur](data/dst/rocket_pillow_paste_mask_circle_blur.jpg)"
   ]
  },
  {
   "cell_type": "code",
   "execution_count": 10,
   "metadata": {
    "collapsed": true
   },
   "outputs": [],
   "source": [
    "mask_im = Image.open('data/src/horse.png').resize(im2.size).convert('L')\n",
    "\n",
    "back_im = im1.copy()\n",
    "back_im.paste(im2, (100, 50), mask_im)\n",
    "back_im.save('data/dst/rocket_pillow_paste_mask_horse.jpg', quality=95)"
   ]
  },
  {
   "cell_type": "markdown",
   "metadata": {},
   "source": [
    "![rocket_pillow_paste_mask_horse](data/dst/rocket_pillow_paste_mask_horse.jpg)"
   ]
  }
 ],
 "metadata": {
  "kernelspec": {
   "display_name": "Python 3",
   "language": "python",
   "name": "python3"
  },
  "language_info": {
   "codemirror_mode": {
    "name": "ipython",
    "version": 3
   },
   "file_extension": ".py",
   "mimetype": "text/x-python",
   "name": "python",
   "nbconvert_exporter": "python",
   "pygments_lexer": "ipython3",
   "version": "3.6.3"
  }
 },
 "nbformat": 4,
 "nbformat_minor": 2
}
