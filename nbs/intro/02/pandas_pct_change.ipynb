{
 "cells": [
  {
   "cell_type": "code",
   "execution_count": 1,
   "metadata": {},
   "outputs": [],
   "source": [
    "import pandas as pd"
   ]
  },
  {
   "cell_type": "code",
   "execution_count": 2,
   "metadata": {},
   "outputs": [],
   "source": [
    "df = pd.DataFrame({'a': range(1, 6),\n",
    "                   'b': [x**2 for x in range(1, 6)],\n",
    "                   'c': [x**3 for x in range(1, 6)]})"
   ]
  },
  {
   "cell_type": "code",
   "execution_count": 3,
   "metadata": {},
   "outputs": [
    {
     "name": "stdout",
     "output_type": "stream",
     "text": [
      "   a   b    c\n",
      "0  1   1    1\n",
      "1  2   4    8\n",
      "2  3   9   27\n",
      "3  4  16   64\n",
      "4  5  25  125\n"
     ]
    }
   ],
   "source": [
    "print(df)"
   ]
  },
  {
   "cell_type": "code",
   "execution_count": 4,
   "metadata": {},
   "outputs": [
    {
     "name": "stdout",
     "output_type": "stream",
     "text": [
      "          a         b         c\n",
      "0       NaN       NaN       NaN\n",
      "1  1.000000  3.000000  7.000000\n",
      "2  0.500000  1.250000  2.375000\n",
      "3  0.333333  0.777778  1.370370\n",
      "4  0.250000  0.562500  0.953125\n"
     ]
    }
   ],
   "source": [
    "print(df.pct_change())"
   ]
  },
  {
   "cell_type": "code",
   "execution_count": 5,
   "metadata": {},
   "outputs": [
    {
     "name": "stdout",
     "output_type": "stream",
     "text": [
      "          a         b         c\n",
      "0       NaN       NaN       NaN\n",
      "1       NaN       NaN       NaN\n",
      "2  2.000000  8.000000  26.00000\n",
      "3  1.000000  3.000000   7.00000\n",
      "4  0.666667  1.777778   3.62963\n"
     ]
    }
   ],
   "source": [
    "print(df.pct_change(2))"
   ]
  },
  {
   "cell_type": "code",
   "execution_count": 6,
   "metadata": {},
   "outputs": [
    {
     "name": "stdout",
     "output_type": "stream",
     "text": [
      "          a         b         c\n",
      "0 -0.500000 -0.750000 -0.875000\n",
      "1 -0.333333 -0.555556 -0.703704\n",
      "2 -0.250000 -0.437500 -0.578125\n",
      "3 -0.200000 -0.360000 -0.488000\n",
      "4       NaN       NaN       NaN\n"
     ]
    }
   ],
   "source": [
    "print(df.pct_change(-1))"
   ]
  },
  {
   "cell_type": "code",
   "execution_count": 7,
   "metadata": {},
   "outputs": [
    {
     "name": "stdout",
     "output_type": "stream",
     "text": [
      "    a    b    c\n",
      "0 NaN  0.0  0.0\n",
      "1 NaN  1.0  1.0\n",
      "2 NaN  2.0  2.0\n",
      "3 NaN  3.0  3.0\n",
      "4 NaN  4.0  4.0\n"
     ]
    }
   ],
   "source": [
    "print(df.pct_change(axis=1))"
   ]
  },
  {
   "cell_type": "code",
   "execution_count": 8,
   "metadata": {},
   "outputs": [
    {
     "name": "stdout",
     "output_type": "stream",
     "text": [
      "          a         b   c\n",
      "0  0.000000  0.000000 NaN\n",
      "1 -0.500000 -0.500000 NaN\n",
      "2 -0.666667 -0.666667 NaN\n",
      "3 -0.750000 -0.750000 NaN\n",
      "4 -0.800000 -0.800000 NaN\n"
     ]
    }
   ],
   "source": [
    "print(df.pct_change(-1, axis=1))"
   ]
  },
  {
   "cell_type": "code",
   "execution_count": 9,
   "metadata": {},
   "outputs": [
    {
     "name": "stdout",
     "output_type": "stream",
     "text": [
      "          a         b         c\n",
      "2  2.000000  8.000000  26.00000\n",
      "3  1.000000  3.000000   7.00000\n",
      "4  0.666667  1.777778   3.62963\n"
     ]
    }
   ],
   "source": [
    "print(df.pct_change(2).dropna())"
   ]
  },
  {
   "cell_type": "code",
   "execution_count": 10,
   "metadata": {},
   "outputs": [
    {
     "name": "stdout",
     "output_type": "stream",
     "text": [
      "          a         b         c\n",
      "0  0.000000  0.000000   0.00000\n",
      "1  0.000000  0.000000   0.00000\n",
      "2  2.000000  8.000000  26.00000\n",
      "3  1.000000  3.000000   7.00000\n",
      "4  0.666667  1.777778   3.62963\n"
     ]
    }
   ],
   "source": [
    "print(df.pct_change(2).fillna(0))"
   ]
  },
  {
   "cell_type": "code",
   "execution_count": 11,
   "metadata": {},
   "outputs": [
    {
     "name": "stdout",
     "output_type": "stream",
     "text": [
      "          a         b         c\n",
      "0  2.000000  8.000000  26.00000\n",
      "1  2.000000  8.000000  26.00000\n",
      "2  2.000000  8.000000  26.00000\n",
      "3  1.000000  3.000000   7.00000\n",
      "4  0.666667  1.777778   3.62963\n"
     ]
    }
   ],
   "source": [
    "print(df.pct_change(2).fillna(method='bfill'))"
   ]
  },
  {
   "cell_type": "code",
   "execution_count": 12,
   "metadata": {},
   "outputs": [
    {
     "name": "stdout",
     "output_type": "stream",
     "text": [
      "   a   b    c  b_pct_change\n",
      "0  1   1    1     -0.750000\n",
      "1  2   4    8     -0.555556\n",
      "2  3   9   27     -0.437500\n",
      "3  4  16   64     -0.360000\n",
      "4  5  25  125           NaN\n"
     ]
    }
   ],
   "source": [
    "df['b_pct_change'] = df['b'].pct_change(-1)\n",
    "print(df)"
   ]
  }
 ],
 "metadata": {
  "kernelspec": {
   "display_name": "Python 3",
   "language": "python",
   "name": "python3"
  },
  "language_info": {
   "codemirror_mode": {
    "name": "ipython",
    "version": 3
   },
   "file_extension": ".py",
   "mimetype": "text/x-python",
   "name": "python",
   "nbconvert_exporter": "python",
   "pygments_lexer": "ipython3",
   "version": "3.7.0"
  }
 },
 "nbformat": 4,
 "nbformat_minor": 2
}
