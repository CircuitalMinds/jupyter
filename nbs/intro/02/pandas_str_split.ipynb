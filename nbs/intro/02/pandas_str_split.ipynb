{
 "cells": [
  {
   "cell_type": "code",
   "execution_count": 1,
   "metadata": {
    "collapsed": true
   },
   "outputs": [],
   "source": [
    "import pandas as pd"
   ]
  },
  {
   "cell_type": "code",
   "execution_count": 2,
   "metadata": {},
   "outputs": [
    {
     "name": "stdout",
     "output_type": "stream",
     "text": [
      "A    aaa@xxx.com\n",
      "B    bbb@yyy.com\n",
      "C    ccc@zzz.com\n",
      "D            ddd\n",
      "dtype: object\n",
      "<class 'pandas.core.series.Series'>\n"
     ]
    }
   ],
   "source": [
    "s_org = pd.Series(['aaa@xxx.com', 'bbb@yyy.com', 'ccc@zzz.com', 'ddd'], index=['A', 'B', 'C', 'D'])\n",
    "print(s_org)\n",
    "print(type(s_org))"
   ]
  },
  {
   "cell_type": "code",
   "execution_count": 3,
   "metadata": {},
   "outputs": [
    {
     "name": "stdout",
     "output_type": "stream",
     "text": [
      "A    [aaa, xxx.com]\n",
      "B    [bbb, yyy.com]\n",
      "C    [ccc, zzz.com]\n",
      "D             [ddd]\n",
      "dtype: object\n",
      "<class 'pandas.core.series.Series'>\n"
     ]
    }
   ],
   "source": [
    "s = s_org.str.split('@')\n",
    "print(s)\n",
    "print(type(s))"
   ]
  },
  {
   "cell_type": "code",
   "execution_count": 4,
   "metadata": {},
   "outputs": [
    {
     "name": "stdout",
     "output_type": "stream",
     "text": [
      "     0        1\n",
      "A  aaa  xxx.com\n",
      "B  bbb  yyy.com\n",
      "C  ccc  zzz.com\n",
      "D  ddd     None\n",
      "<class 'pandas.core.frame.DataFrame'>\n"
     ]
    }
   ],
   "source": [
    "df = s_org.str.split('@', expand=True)\n",
    "print(df)\n",
    "print(type(df))"
   ]
  },
  {
   "cell_type": "code",
   "execution_count": 5,
   "metadata": {},
   "outputs": [
    {
     "name": "stdout",
     "output_type": "stream",
     "text": [
      "  local   domain\n",
      "A   aaa  xxx.com\n",
      "B   bbb  yyy.com\n",
      "C   ccc  zzz.com\n",
      "D   ddd     None\n"
     ]
    }
   ],
   "source": [
    "df.columns = ['local', 'domain']\n",
    "print(df)"
   ]
  },
  {
   "cell_type": "code",
   "execution_count": 6,
   "metadata": {},
   "outputs": [
    {
     "name": "stdout",
     "output_type": "stream",
     "text": [
      "      0     1\n",
      "A   xxx   com\n",
      "B   yyy   com\n",
      "C   zzz   com\n",
      "D  None  None\n"
     ]
    }
   ],
   "source": [
    "print(df['domain'].str.split('.', expand=True))"
   ]
  },
  {
   "cell_type": "code",
   "execution_count": 7,
   "metadata": {},
   "outputs": [
    {
     "name": "stdout",
     "output_type": "stream",
     "text": [
      "  local     0     1\n",
      "A   aaa   xxx   com\n",
      "B   bbb   yyy   com\n",
      "C   ccc   zzz   com\n",
      "D   ddd  None  None\n"
     ]
    }
   ],
   "source": [
    "df2 = pd.concat([df, df['domain'].str.split('.', expand=True)], axis=1).drop('domain', axis=1)\n",
    "print(df2)"
   ]
  },
  {
   "cell_type": "code",
   "execution_count": 8,
   "metadata": {},
   "outputs": [
    {
     "name": "stdout",
     "output_type": "stream",
     "text": [
      "  local     0     1\n",
      "A   aaa   xxx   com\n",
      "B   bbb   yyy   com\n",
      "C   ccc   zzz   com\n",
      "D   ddd  None  None\n"
     ]
    }
   ],
   "source": [
    "df3 = pd.concat([df['local'], df['domain'].str.split('.', expand=True)], axis=1)\n",
    "print(df3)"
   ]
  },
  {
   "cell_type": "code",
   "execution_count": 9,
   "metadata": {},
   "outputs": [
    {
     "name": "stdout",
     "output_type": "stream",
     "text": [
      "  local second_LD   TLD\n",
      "A   aaa       xxx   com\n",
      "B   bbb       yyy   com\n",
      "C   ccc       zzz   com\n",
      "D   ddd      None  None\n"
     ]
    }
   ],
   "source": [
    "df3.rename(columns={0: 'second_LD', 1: 'TLD'}, inplace=True)\n",
    "print(df3)"
   ]
  }
 ],
 "metadata": {
  "kernelspec": {
   "display_name": "Python 3",
   "language": "python",
   "name": "python3"
  },
  "language_info": {
   "codemirror_mode": {
    "name": "ipython",
    "version": 3
   },
   "file_extension": ".py",
   "mimetype": "text/x-python",
   "name": "python",
   "nbconvert_exporter": "python",
   "pygments_lexer": "ipython3",
   "version": "3.6.5"
  }
 },
 "nbformat": 4,
 "nbformat_minor": 2
}
