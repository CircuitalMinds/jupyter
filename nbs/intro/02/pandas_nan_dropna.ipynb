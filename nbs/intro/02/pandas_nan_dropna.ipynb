{
 "cells": [
  {
   "cell_type": "code",
   "execution_count": 1,
   "metadata": {},
   "outputs": [],
   "source": [
    "import pandas as pd"
   ]
  },
  {
   "cell_type": "code",
   "execution_count": 2,
   "metadata": {},
   "outputs": [
    {
     "name": "stdout",
     "output_type": "stream",
     "text": [
      "      name   age state  point  other\n",
      "0    Alice  24.0    NY    NaN    NaN\n",
      "1      NaN   NaN   NaN    NaN    NaN\n",
      "2  Charlie   NaN    CA    NaN    NaN\n",
      "3     Dave  68.0    TX   70.0    NaN\n",
      "4    Ellen   NaN    CA   88.0    NaN\n",
      "5    Frank  30.0   NaN    NaN    NaN\n"
     ]
    }
   ],
   "source": [
    "df = pd.read_csv('data/src/sample_pandas_normal_nan.csv')\n",
    "print(df)"
   ]
  },
  {
   "cell_type": "code",
   "execution_count": 3,
   "metadata": {},
   "outputs": [
    {
     "name": "stdout",
     "output_type": "stream",
     "text": [
      "      name   age state  point  other\n",
      "0    Alice  24.0    NY    NaN    NaN\n",
      "2  Charlie   NaN    CA    NaN    NaN\n",
      "3     Dave  68.0    TX   70.0    NaN\n",
      "4    Ellen   NaN    CA   88.0    NaN\n",
      "5    Frank  30.0   NaN    NaN    NaN\n"
     ]
    }
   ],
   "source": [
    "print(df.dropna(how='all'))"
   ]
  },
  {
   "cell_type": "code",
   "execution_count": 4,
   "metadata": {},
   "outputs": [
    {
     "name": "stdout",
     "output_type": "stream",
     "text": [
      "      name   age state  point\n",
      "0    Alice  24.0    NY    NaN\n",
      "1      NaN   NaN   NaN    NaN\n",
      "2  Charlie   NaN    CA    NaN\n",
      "3     Dave  68.0    TX   70.0\n",
      "4    Ellen   NaN    CA   88.0\n",
      "5    Frank  30.0   NaN    NaN\n"
     ]
    }
   ],
   "source": [
    "print(df.dropna(how='all', axis=1))"
   ]
  },
  {
   "cell_type": "code",
   "execution_count": 5,
   "metadata": {},
   "outputs": [],
   "source": [
    "# print(df.dropna(how='all', axis=[0, 1]))\n",
    "# TypeError: supplying multiple axes to axis is no longer supported."
   ]
  },
  {
   "cell_type": "code",
   "execution_count": 6,
   "metadata": {},
   "outputs": [
    {
     "name": "stdout",
     "output_type": "stream",
     "text": [
      "      name   age state  point\n",
      "0    Alice  24.0    NY    NaN\n",
      "2  Charlie   NaN    CA    NaN\n",
      "3     Dave  68.0    TX   70.0\n",
      "4    Ellen   NaN    CA   88.0\n",
      "5    Frank  30.0   NaN    NaN\n"
     ]
    }
   ],
   "source": [
    "print(df.dropna(how='all').dropna(how='all', axis=1))"
   ]
  },
  {
   "cell_type": "code",
   "execution_count": 7,
   "metadata": {},
   "outputs": [
    {
     "name": "stdout",
     "output_type": "stream",
     "text": [
      "      name   age state  point\n",
      "0    Alice  24.0    NY    NaN\n",
      "2  Charlie   NaN    CA    NaN\n",
      "3     Dave  68.0    TX   70.0\n",
      "4    Ellen   NaN    CA   88.0\n",
      "5    Frank  30.0   NaN    NaN\n"
     ]
    }
   ],
   "source": [
    "df2 = df.dropna(how='all').dropna(how='all', axis=1)\n",
    "print(df2)"
   ]
  },
  {
   "cell_type": "code",
   "execution_count": 8,
   "metadata": {},
   "outputs": [
    {
     "name": "stdout",
     "output_type": "stream",
     "text": [
      "   name   age state  point\n",
      "3  Dave  68.0    TX   70.0\n"
     ]
    }
   ],
   "source": [
    "print(df2.dropna(how='any'))"
   ]
  },
  {
   "cell_type": "code",
   "execution_count": 9,
   "metadata": {},
   "outputs": [
    {
     "name": "stdout",
     "output_type": "stream",
     "text": [
      "   name   age state  point\n",
      "3  Dave  68.0    TX   70.0\n"
     ]
    }
   ],
   "source": [
    "print(df2.dropna())"
   ]
  },
  {
   "cell_type": "code",
   "execution_count": 10,
   "metadata": {},
   "outputs": [
    {
     "name": "stdout",
     "output_type": "stream",
     "text": [
      "      name\n",
      "0    Alice\n",
      "2  Charlie\n",
      "3     Dave\n",
      "4    Ellen\n",
      "5    Frank\n"
     ]
    }
   ],
   "source": [
    "print(df2.dropna(axis=1))"
   ]
  },
  {
   "cell_type": "code",
   "execution_count": 11,
   "metadata": {},
   "outputs": [
    {
     "name": "stdout",
     "output_type": "stream",
     "text": [
      "    name   age state  point  other\n",
      "0  Alice  24.0    NY    NaN    NaN\n",
      "3   Dave  68.0    TX   70.0    NaN\n",
      "4  Ellen   NaN    CA   88.0    NaN\n"
     ]
    }
   ],
   "source": [
    "print(df.dropna(thresh=3))"
   ]
  },
  {
   "cell_type": "code",
   "execution_count": 12,
   "metadata": {},
   "outputs": [
    {
     "name": "stdout",
     "output_type": "stream",
     "text": [
      "      name   age state\n",
      "0    Alice  24.0    NY\n",
      "1      NaN   NaN   NaN\n",
      "2  Charlie   NaN    CA\n",
      "3     Dave  68.0    TX\n",
      "4    Ellen   NaN    CA\n",
      "5    Frank  30.0   NaN\n"
     ]
    }
   ],
   "source": [
    "print(df.dropna(thresh=3, axis=1))"
   ]
  },
  {
   "cell_type": "code",
   "execution_count": 13,
   "metadata": {},
   "outputs": [
    {
     "name": "stdout",
     "output_type": "stream",
     "text": [
      "    name   age state  point  other\n",
      "0  Alice  24.0    NY    NaN    NaN\n",
      "3   Dave  68.0    TX   70.0    NaN\n",
      "5  Frank  30.0   NaN    NaN    NaN\n"
     ]
    }
   ],
   "source": [
    "print(df.dropna(subset=['age']))"
   ]
  },
  {
   "cell_type": "code",
   "execution_count": 14,
   "metadata": {},
   "outputs": [
    {
     "name": "stdout",
     "output_type": "stream",
     "text": [
      "    name   age state  point  other\n",
      "0  Alice  24.0    NY    NaN    NaN\n",
      "3   Dave  68.0    TX   70.0    NaN\n"
     ]
    }
   ],
   "source": [
    "print(df.dropna(subset=['age', 'state']))"
   ]
  },
  {
   "cell_type": "code",
   "execution_count": 15,
   "metadata": {},
   "outputs": [
    {
     "name": "stdout",
     "output_type": "stream",
     "text": [
      "      name   age state  point  other\n",
      "0    Alice  24.0    NY    NaN    NaN\n",
      "2  Charlie   NaN    CA    NaN    NaN\n",
      "3     Dave  68.0    TX   70.0    NaN\n",
      "4    Ellen   NaN    CA   88.0    NaN\n",
      "5    Frank  30.0   NaN    NaN    NaN\n"
     ]
    }
   ],
   "source": [
    "print(df.dropna(subset=['age', 'state'], how='all'))"
   ]
  },
  {
   "cell_type": "code",
   "execution_count": 16,
   "metadata": {},
   "outputs": [
    {
     "name": "stdout",
     "output_type": "stream",
     "text": [
      "      name state\n",
      "0    Alice    NY\n",
      "1      NaN   NaN\n",
      "2  Charlie    CA\n",
      "3     Dave    TX\n",
      "4    Ellen    CA\n",
      "5    Frank   NaN\n"
     ]
    }
   ],
   "source": [
    "print(df.dropna(subset=[0, 4], axis=1))"
   ]
  },
  {
   "cell_type": "code",
   "execution_count": 17,
   "metadata": {},
   "outputs": [
    {
     "name": "stdout",
     "output_type": "stream",
     "text": [
      "      name   age state  point\n",
      "0    Alice  24.0    NY    NaN\n",
      "1      NaN   NaN   NaN    NaN\n",
      "2  Charlie   NaN    CA    NaN\n",
      "3     Dave  68.0    TX   70.0\n",
      "4    Ellen   NaN    CA   88.0\n",
      "5    Frank  30.0   NaN    NaN\n"
     ]
    }
   ],
   "source": [
    "print(df.dropna(subset=[0, 4], axis=1, how='all'))"
   ]
  },
  {
   "cell_type": "code",
   "execution_count": 18,
   "metadata": {},
   "outputs": [],
   "source": [
    "# print(df.dropna(subset=['age', 'state', 'xxx']))\n",
    "# KeyError: ['xxx']"
   ]
  },
  {
   "cell_type": "code",
   "execution_count": 19,
   "metadata": {},
   "outputs": [],
   "source": [
    "# print(df.dropna(subset=['age', 'state'], axis=1))\n",
    "# KeyError: ['age', 'state']"
   ]
  },
  {
   "cell_type": "code",
   "execution_count": 20,
   "metadata": {},
   "outputs": [
    {
     "name": "stdout",
     "output_type": "stream",
     "text": [
      "    name   age state  point  other\n",
      "0  Alice  24.0    NY    NaN    NaN\n",
      "3   Dave  68.0    TX   70.0    NaN\n",
      "5  Frank  30.0   NaN    NaN    NaN\n"
     ]
    }
   ],
   "source": [
    "df.dropna(subset=['age'], inplace=True)\n",
    "print(df)"
   ]
  },
  {
   "cell_type": "code",
   "execution_count": 21,
   "metadata": {},
   "outputs": [
    {
     "name": "stdout",
     "output_type": "stream",
     "text": [
      "0    24.0\n",
      "1     NaN\n",
      "2     NaN\n",
      "3    68.0\n",
      "4     NaN\n",
      "5    30.0\n",
      "Name: age, dtype: float64\n"
     ]
    }
   ],
   "source": [
    "s = pd.read_csv('data/src/sample_pandas_normal_nan.csv')['age']\n",
    "print(s)"
   ]
  },
  {
   "cell_type": "code",
   "execution_count": 22,
   "metadata": {},
   "outputs": [
    {
     "name": "stdout",
     "output_type": "stream",
     "text": [
      "0    24.0\n",
      "3    68.0\n",
      "5    30.0\n",
      "Name: age, dtype: float64\n"
     ]
    }
   ],
   "source": [
    "print(s.dropna())"
   ]
  },
  {
   "cell_type": "code",
   "execution_count": 23,
   "metadata": {},
   "outputs": [
    {
     "name": "stdout",
     "output_type": "stream",
     "text": [
      "0    24.0\n",
      "3    68.0\n",
      "5    30.0\n",
      "Name: age, dtype: float64\n"
     ]
    }
   ],
   "source": [
    "s.dropna(inplace=True)\n",
    "print(s)"
   ]
  }
 ],
 "metadata": {
  "kernelspec": {
   "display_name": "Python 3",
   "language": "python",
   "name": "python3"
  },
  "language_info": {
   "codemirror_mode": {
    "name": "ipython",
    "version": 3
   },
   "file_extension": ".py",
   "mimetype": "text/x-python",
   "name": "python",
   "nbconvert_exporter": "python",
   "pygments_lexer": "ipython3",
   "version": "3.9.9"
  }
 },
 "nbformat": 4,
 "nbformat_minor": 4
}
