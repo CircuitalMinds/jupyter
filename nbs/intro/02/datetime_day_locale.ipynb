{
 "cells": [
  {
   "cell_type": "code",
   "execution_count": 1,
   "metadata": {
    "collapsed": true
   },
   "outputs": [],
   "source": [
    "import datetime\n",
    "import locale"
   ]
  },
  {
   "cell_type": "code",
   "execution_count": 2,
   "metadata": {},
   "outputs": [
    {
     "name": "stdout",
     "output_type": "stream",
     "text": [
      "2018-01-01 00:00:00\n"
     ]
    }
   ],
   "source": [
    "dt = datetime.datetime(2018, 1, 1)\n",
    "print(dt)"
   ]
  },
  {
   "cell_type": "code",
   "execution_count": 3,
   "metadata": {},
   "outputs": [
    {
     "name": "stdout",
     "output_type": "stream",
     "text": [
      "Monday, Mon, January, Jan\n"
     ]
    }
   ],
   "source": [
    "print(dt.strftime('%A, %a, %B, %b'))"
   ]
  },
  {
   "cell_type": "code",
   "execution_count": 4,
   "metadata": {},
   "outputs": [
    {
     "name": "stdout",
     "output_type": "stream",
     "text": [
      "(None, None)\n"
     ]
    }
   ],
   "source": [
    "print(locale.getlocale(locale.LC_TIME))"
   ]
  },
  {
   "cell_type": "code",
   "execution_count": 5,
   "metadata": {},
   "outputs": [
    {
     "name": "stdout",
     "output_type": "stream",
     "text": [
      "('ja_JP', 'UTF-8')\n"
     ]
    }
   ],
   "source": [
    "locale.setlocale(locale.LC_TIME, 'ja_JP.UTF-8')\n",
    "print(locale.getlocale(locale.LC_TIME))"
   ]
  },
  {
   "cell_type": "code",
   "execution_count": 6,
   "metadata": {},
   "outputs": [
    {
     "name": "stdout",
     "output_type": "stream",
     "text": [
      "月曜日, 月, 1月,  1\n"
     ]
    }
   ],
   "source": [
    "print(dt.strftime('%A, %a, %B, %b'))"
   ]
  },
  {
   "cell_type": "code",
   "execution_count": 7,
   "metadata": {},
   "outputs": [
    {
     "name": "stdout",
     "output_type": "stream",
     "text": [
      "Monday, Mon, January, Jan\n"
     ]
    }
   ],
   "source": [
    "locale.setlocale(locale.LC_TIME, 'en_US.UTF-8')\n",
    "print(dt.strftime('%A, %a, %B, %b'))"
   ]
  },
  {
   "cell_type": "code",
   "execution_count": 8,
   "metadata": {},
   "outputs": [
    {
     "name": "stdout",
     "output_type": "stream",
     "text": [
      "Montag, Mo, Januar, Jan\n"
     ]
    }
   ],
   "source": [
    "locale.setlocale(locale.LC_TIME, 'de_DE.UTF-8')\n",
    "print(dt.strftime('%A, %a, %B, %b'))"
   ]
  },
  {
   "cell_type": "code",
   "execution_count": 9,
   "metadata": {},
   "outputs": [
    {
     "name": "stdout",
     "output_type": "stream",
     "text": [
      "月曜日\n"
     ]
    }
   ],
   "source": [
    "locale.setlocale(locale.LC_TIME, 'ja_JP.UTF-8')\n",
    "\n",
    "s = '2018-01-01'\n",
    "s_dow = datetime.datetime.strptime(s, '%Y-%m-%d').strftime('%A')\n",
    "\n",
    "print(s_dow)"
   ]
  }
 ],
 "metadata": {
  "kernelspec": {
   "display_name": "Python 3",
   "language": "python",
   "name": "python3"
  },
  "language_info": {
   "codemirror_mode": {
    "name": "ipython",
    "version": 3
   },
   "file_extension": ".py",
   "mimetype": "text/x-python",
   "name": "python",
   "nbconvert_exporter": "python",
   "pygments_lexer": "ipython3",
   "version": "3.6.4"
  }
 },
 "nbformat": 4,
 "nbformat_minor": 2
}
