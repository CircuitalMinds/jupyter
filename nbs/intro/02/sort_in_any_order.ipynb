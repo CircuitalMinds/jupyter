{
 "cells": [
  {
   "cell_type": "code",
   "execution_count": 1,
   "metadata": {},
   "outputs": [],
   "source": [
    "l = ['Banana', 'Alice', 'Apple', 'Bob']"
   ]
  },
  {
   "cell_type": "code",
   "execution_count": 2,
   "metadata": {},
   "outputs": [
    {
     "name": "stdout",
     "output_type": "stream",
     "text": [
      "['Alice', 'Apple', 'Banana', 'Bob']\n"
     ]
    }
   ],
   "source": [
    "print(sorted(l))"
   ]
  },
  {
   "cell_type": "code",
   "execution_count": 3,
   "metadata": {},
   "outputs": [
    {
     "name": "stdout",
     "output_type": "stream",
     "text": [
      "['Bob', 'Banana', 'Apple', 'Alice']\n"
     ]
    }
   ],
   "source": [
    "print(sorted(l, reverse=True))"
   ]
  },
  {
   "cell_type": "code",
   "execution_count": 4,
   "metadata": {},
   "outputs": [],
   "source": [
    "l_order = ['Alice', 'Bob', 'Apple', 'Banana']"
   ]
  },
  {
   "cell_type": "code",
   "execution_count": 5,
   "metadata": {},
   "outputs": [
    {
     "name": "stdout",
     "output_type": "stream",
     "text": [
      "['Alice', 'Bob', 'Apple', 'Banana']\n"
     ]
    }
   ],
   "source": [
    "print(sorted(l, key=l_order.index))"
   ]
  },
  {
   "cell_type": "code",
   "execution_count": 6,
   "metadata": {},
   "outputs": [
    {
     "name": "stdout",
     "output_type": "stream",
     "text": [
      "['Banana', 'Alice', 'Apple', 'Bob']\n"
     ]
    }
   ],
   "source": [
    "print(l)"
   ]
  },
  {
   "cell_type": "code",
   "execution_count": 7,
   "metadata": {},
   "outputs": [
    {
     "name": "stdout",
     "output_type": "stream",
     "text": [
      "[3, 0, 2, 1]\n"
     ]
    }
   ],
   "source": [
    "print([l_order.index(s) for s in l])"
   ]
  },
  {
   "cell_type": "code",
   "execution_count": 8,
   "metadata": {},
   "outputs": [
    {
     "name": "stdout",
     "output_type": "stream",
     "text": [
      "['Alice', 'Bob', 'Apple', 'Banana']\n"
     ]
    }
   ],
   "source": [
    "print(sorted(l, key=l_order.index))"
   ]
  },
  {
   "cell_type": "code",
   "execution_count": 9,
   "metadata": {},
   "outputs": [],
   "source": [
    "d_order = {'Alice': 0, 'Bob': 1, 'Apple': 2, 'Banana': 3}"
   ]
  },
  {
   "cell_type": "code",
   "execution_count": 10,
   "metadata": {},
   "outputs": [
    {
     "name": "stdout",
     "output_type": "stream",
     "text": [
      "['Alice', 'Bob', 'Apple', 'Banana']\n"
     ]
    }
   ],
   "source": [
    "print(sorted(l, key=lambda x: d_order[x]))"
   ]
  },
  {
   "cell_type": "code",
   "execution_count": 11,
   "metadata": {},
   "outputs": [],
   "source": [
    "l = ['Banana', 'Alice', 'Apple', 'Bob', 'xxx']\n",
    "l_order = ['Alice', 'Bob', 'Apple', 'Banana']"
   ]
  },
  {
   "cell_type": "code",
   "execution_count": 12,
   "metadata": {},
   "outputs": [],
   "source": [
    "# print(sorted(l, key=l_order.index))\n",
    "# ValueError: 'xxx' is not in list"
   ]
  },
  {
   "cell_type": "code",
   "execution_count": 13,
   "metadata": {},
   "outputs": [
    {
     "name": "stdout",
     "output_type": "stream",
     "text": [
      "['xxx', 'Alice', 'Bob', 'Apple', 'Banana']\n"
     ]
    }
   ],
   "source": [
    "print(sorted(l, key=lambda x: l_order.index(x) if x in l_order else -1))"
   ]
  },
  {
   "cell_type": "code",
   "execution_count": 14,
   "metadata": {},
   "outputs": [
    {
     "name": "stdout",
     "output_type": "stream",
     "text": [
      "['Alice', 'Bob', 'Apple', 'Banana', 'xxx']\n"
     ]
    }
   ],
   "source": [
    "print(sorted(l, key=lambda x: l_order.index(x) if x in l_order else float('inf')))"
   ]
  },
  {
   "cell_type": "code",
   "execution_count": 15,
   "metadata": {},
   "outputs": [],
   "source": [
    "def my_index(x):\n",
    "    l_order = ['Alice', 'Bob', 'Apple', 'Banana']\n",
    "    return l_order.index(x) if x in l_order else -1"
   ]
  },
  {
   "cell_type": "code",
   "execution_count": 16,
   "metadata": {},
   "outputs": [
    {
     "name": "stdout",
     "output_type": "stream",
     "text": [
      "['xxx', 'Alice', 'Bob', 'Apple', 'Banana']\n"
     ]
    }
   ],
   "source": [
    "print(sorted(l, key=my_index))"
   ]
  },
  {
   "cell_type": "code",
   "execution_count": 17,
   "metadata": {},
   "outputs": [],
   "source": [
    "l = ['Banana', 'Alice', 'Apple', 'Bob']\n",
    "l_order = ['Alice', 'Bob', 'Apple', 'Banana', 'xxx']"
   ]
  },
  {
   "cell_type": "code",
   "execution_count": 18,
   "metadata": {},
   "outputs": [
    {
     "name": "stdout",
     "output_type": "stream",
     "text": [
      "['Alice', 'Bob', 'Apple', 'Banana']\n"
     ]
    }
   ],
   "source": [
    "print(sorted(l, key=l_order.index))"
   ]
  },
  {
   "cell_type": "code",
   "execution_count": 19,
   "metadata": {},
   "outputs": [],
   "source": [
    "l = ['Banana', 'Alice', 'Apple', 'Bob', 'xxx']\n",
    "d_order = {'Alice': 0, 'Bob': 1, 'Apple': 2, 'Banana': 3}"
   ]
  },
  {
   "cell_type": "code",
   "execution_count": 20,
   "metadata": {},
   "outputs": [],
   "source": [
    "# print(sorted(l, key=lambda x: d_order[x]))\n",
    "# KeyError: 'xxx'"
   ]
  },
  {
   "cell_type": "code",
   "execution_count": 21,
   "metadata": {},
   "outputs": [
    {
     "name": "stdout",
     "output_type": "stream",
     "text": [
      "['xxx', 'Alice', 'Bob', 'Apple', 'Banana']\n"
     ]
    }
   ],
   "source": [
    "print(sorted(l, key=lambda x: d_order.get(x, -1)))"
   ]
  },
  {
   "cell_type": "code",
   "execution_count": 22,
   "metadata": {},
   "outputs": [
    {
     "name": "stdout",
     "output_type": "stream",
     "text": [
      "['Alice', 'Bob', 'Apple', 'Banana', 'xxx']\n"
     ]
    }
   ],
   "source": [
    "print(sorted(l, key=lambda x: d_order.get(x, float('inf'))))"
   ]
  },
  {
   "cell_type": "code",
   "execution_count": 23,
   "metadata": {},
   "outputs": [],
   "source": [
    "l = ['Banana', 'Alice', 'Apple', 'Bob']\n",
    "d_order = {'Alice': 0, 'Bob': 1, 'Apple': 2, 'Banana': 3, 'xxx': 4}"
   ]
  },
  {
   "cell_type": "code",
   "execution_count": 24,
   "metadata": {},
   "outputs": [
    {
     "name": "stdout",
     "output_type": "stream",
     "text": [
      "['Alice', 'Bob', 'Apple', 'Banana']\n"
     ]
    }
   ],
   "source": [
    "print(sorted(l, key=lambda x: d_order[x]))"
   ]
  }
 ],
 "metadata": {
  "kernelspec": {
   "display_name": "Python 3",
   "language": "python",
   "name": "python3"
  },
  "language_info": {
   "codemirror_mode": {
    "name": "ipython",
    "version": 3
   },
   "file_extension": ".py",
   "mimetype": "text/x-python",
   "name": "python",
   "nbconvert_exporter": "python",
   "pygments_lexer": "ipython3",
   "version": "3.7.3"
  }
 },
 "nbformat": 4,
 "nbformat_minor": 2
}
