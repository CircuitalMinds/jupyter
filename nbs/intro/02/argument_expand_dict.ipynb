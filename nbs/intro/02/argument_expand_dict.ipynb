{
 "cells": [
  {
   "cell_type": "code",
   "execution_count": 1,
   "metadata": {},
   "outputs": [],
   "source": [
    "def func(arg1, arg2, arg3):\n",
    "    print('arg1 =', arg1)\n",
    "    print('arg2 =', arg2)\n",
    "    print('arg3 =', arg3)"
   ]
  },
  {
   "cell_type": "code",
   "execution_count": 2,
   "metadata": {},
   "outputs": [],
   "source": [
    "d = {'arg1': 'one', 'arg2': 'two', 'arg3': 'three'}"
   ]
  },
  {
   "cell_type": "code",
   "execution_count": 3,
   "metadata": {},
   "outputs": [
    {
     "name": "stdout",
     "output_type": "stream",
     "text": [
      "arg1 = one\n",
      "arg2 = two\n",
      "arg3 = three\n"
     ]
    }
   ],
   "source": [
    "func(**d)"
   ]
  },
  {
   "cell_type": "code",
   "execution_count": 4,
   "metadata": {},
   "outputs": [
    {
     "name": "stdout",
     "output_type": "stream",
     "text": [
      "arg1 = one\n",
      "arg2 = two\n",
      "arg3 = three\n"
     ]
    }
   ],
   "source": [
    "func(**{'arg1': 'one', 'arg2': 'two', 'arg3': 'three'})"
   ]
  },
  {
   "cell_type": "code",
   "execution_count": 5,
   "metadata": {},
   "outputs": [],
   "source": [
    "# func(**{'arg1': 'one', 'arg2': 'two'})\n",
    "# TypeError: func() missing 1 required positional argument: 'arg3'"
   ]
  },
  {
   "cell_type": "code",
   "execution_count": 6,
   "metadata": {},
   "outputs": [],
   "source": [
    "# func(**{'arg1': 'one', 'arg2': 'two', 'arg3': 'three', 'arg4': 'four'})\n",
    "# TypeError: func() got an unexpected keyword argument 'arg4'"
   ]
  },
  {
   "cell_type": "code",
   "execution_count": 7,
   "metadata": {},
   "outputs": [],
   "source": [
    "def func_default(arg1=1, arg2=2, arg3=3):\n",
    "    print('arg1 =', arg1)\n",
    "    print('arg2 =', arg2)\n",
    "    print('arg3 =', arg3)"
   ]
  },
  {
   "cell_type": "code",
   "execution_count": 8,
   "metadata": {},
   "outputs": [
    {
     "name": "stdout",
     "output_type": "stream",
     "text": [
      "arg1 = one\n",
      "arg2 = 2\n",
      "arg3 = 3\n"
     ]
    }
   ],
   "source": [
    "func_default(**{'arg1': 'one'})"
   ]
  },
  {
   "cell_type": "code",
   "execution_count": 9,
   "metadata": {},
   "outputs": [
    {
     "name": "stdout",
     "output_type": "stream",
     "text": [
      "arg1 = 1\n",
      "arg2 = two\n",
      "arg3 = three\n"
     ]
    }
   ],
   "source": [
    "func_default(**{'arg2': 'two', 'arg3': 'three'})"
   ]
  },
  {
   "cell_type": "code",
   "execution_count": 10,
   "metadata": {},
   "outputs": [],
   "source": [
    "# func_default(**{'arg1': 'one', 'arg4': 'four'})\n",
    "# TypeError: func_default() got an unexpected keyword argument 'arg4'"
   ]
  },
  {
   "cell_type": "code",
   "execution_count": 11,
   "metadata": {},
   "outputs": [],
   "source": [
    "def func_kwargs(arg1, **kwargs):\n",
    "    print('arg1 =', arg1)\n",
    "    print('kwargs =', kwargs)"
   ]
  },
  {
   "cell_type": "code",
   "execution_count": 12,
   "metadata": {},
   "outputs": [
    {
     "name": "stdout",
     "output_type": "stream",
     "text": [
      "arg1 = one\n",
      "kwargs = {'arg2': 'two', 'arg3': 'three'}\n"
     ]
    }
   ],
   "source": [
    "func_kwargs(**{'arg1': 'one', 'arg2': 'two', 'arg3': 'three'})"
   ]
  },
  {
   "cell_type": "code",
   "execution_count": 13,
   "metadata": {},
   "outputs": [
    {
     "name": "stdout",
     "output_type": "stream",
     "text": [
      "arg1 = one\n",
      "kwargs = {'arg2': 'two', 'arg3': 'three', 'arg4': 'four'}\n"
     ]
    }
   ],
   "source": [
    "func_kwargs(**{'arg1': 'one', 'arg2': 'two', 'arg3': 'three', 'arg4': 'four'})"
   ]
  },
  {
   "cell_type": "code",
   "execution_count": 14,
   "metadata": {},
   "outputs": [
    {
     "name": "stdout",
     "output_type": "stream",
     "text": [
      "arg1 = one\n",
      "kwargs = {'arg3': 'three'}\n"
     ]
    }
   ],
   "source": [
    "func_kwargs(**{'arg1': 'one', 'arg3': 'three'})"
   ]
  }
 ],
 "metadata": {
  "kernelspec": {
   "display_name": "Python 3",
   "language": "python",
   "name": "python3"
  },
  "language_info": {
   "codemirror_mode": {
    "name": "ipython",
    "version": 3
   },
   "file_extension": ".py",
   "mimetype": "text/x-python",
   "name": "python",
   "nbconvert_exporter": "python",
   "pygments_lexer": "ipython3",
   "version": "3.9.7"
  }
 },
 "nbformat": 4,
 "nbformat_minor": 2
}
