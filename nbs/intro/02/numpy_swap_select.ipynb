{
 "cells": [
  {
   "cell_type": "code",
   "execution_count": 1,
   "metadata": {
    "collapsed": true
   },
   "outputs": [],
   "source": [
    "import numpy as np"
   ]
  },
  {
   "cell_type": "code",
   "execution_count": 2,
   "metadata": {},
   "outputs": [
    {
     "name": "stdout",
     "output_type": "stream",
     "text": [
      "[[10 11 12 13 14]\n",
      " [15 16 17 18 19]\n",
      " [20 21 22 23 24]\n",
      " [25 26 27 28 29]\n",
      " [30 31 32 33 34]]\n"
     ]
    }
   ],
   "source": [
    "a = np.arange(10, 35).reshape(5, 5)\n",
    "print(a)"
   ]
  },
  {
   "cell_type": "code",
   "execution_count": 3,
   "metadata": {},
   "outputs": [
    {
     "name": "stdout",
     "output_type": "stream",
     "text": [
      "[[13 12 14 10 11]\n",
      " [18 17 19 15 16]\n",
      " [23 22 24 20 21]\n",
      " [28 27 29 25 26]\n",
      " [33 32 34 30 31]]\n"
     ]
    }
   ],
   "source": [
    "col_swap = a[:, [3, 2, 4, 0, 1]]\n",
    "print(col_swap)"
   ]
  },
  {
   "cell_type": "code",
   "execution_count": 4,
   "metadata": {},
   "outputs": [
    {
     "name": "stdout",
     "output_type": "stream",
     "text": [
      "[[14 13 12 11 10]\n",
      " [19 18 17 16 15]\n",
      " [24 23 22 21 20]\n",
      " [29 28 27 26 25]\n",
      " [34 33 32 31 30]]\n"
     ]
    }
   ],
   "source": [
    "col_inverse = a[:, ::-1]\n",
    "print(col_inverse)"
   ]
  },
  {
   "cell_type": "code",
   "execution_count": 5,
   "metadata": {},
   "outputs": [
    {
     "name": "stdout",
     "output_type": "stream",
     "text": [
      "[[12 14 10]\n",
      " [17 19 15]\n",
      " [22 24 20]\n",
      " [27 29 25]\n",
      " [32 34 30]]\n"
     ]
    }
   ],
   "source": [
    "col_select = a[:, [2, 4, 0]]\n",
    "print(col_select)"
   ]
  },
  {
   "cell_type": "code",
   "execution_count": 6,
   "metadata": {},
   "outputs": [
    {
     "name": "stdout",
     "output_type": "stream",
     "text": [
      "[[12 12 12]\n",
      " [17 17 17]\n",
      " [22 22 22]\n",
      " [27 27 27]\n",
      " [32 32 32]]\n"
     ]
    }
   ],
   "source": [
    "col_select2 = a[:, [2, 2, 2]]\n",
    "print(col_select2)"
   ]
  },
  {
   "cell_type": "code",
   "execution_count": 7,
   "metadata": {},
   "outputs": [
    {
     "name": "stdout",
     "output_type": "stream",
     "text": [
      "[[25 26 27 28 29]\n",
      " [20 21 22 23 24]\n",
      " [30 31 32 33 34]\n",
      " [10 11 12 13 14]\n",
      " [15 16 17 18 19]]\n"
     ]
    }
   ],
   "source": [
    "row_swap = a[[3, 2, 4, 0, 1], :]\n",
    "print(row_swap)"
   ]
  },
  {
   "cell_type": "code",
   "execution_count": 8,
   "metadata": {},
   "outputs": [
    {
     "name": "stdout",
     "output_type": "stream",
     "text": [
      "[[25 26 27 28 29]\n",
      " [20 21 22 23 24]\n",
      " [30 31 32 33 34]\n",
      " [10 11 12 13 14]\n",
      " [15 16 17 18 19]]\n"
     ]
    }
   ],
   "source": [
    "row_swap = a[[3, 2, 4, 0, 1]]\n",
    "print(row_swap)"
   ]
  },
  {
   "cell_type": "code",
   "execution_count": 9,
   "metadata": {},
   "outputs": [
    {
     "name": "stdout",
     "output_type": "stream",
     "text": [
      "[[30 31 32 33 34]\n",
      " [25 26 27 28 29]\n",
      " [20 21 22 23 24]\n",
      " [15 16 17 18 19]\n",
      " [10 11 12 13 14]]\n"
     ]
    }
   ],
   "source": [
    "row_inverse = a[::-1]\n",
    "print(row_inverse)"
   ]
  },
  {
   "cell_type": "code",
   "execution_count": 10,
   "metadata": {},
   "outputs": [
    {
     "name": "stdout",
     "output_type": "stream",
     "text": [
      "[[20 21 22 23 24]\n",
      " [30 31 32 33 34]\n",
      " [10 11 12 13 14]]\n"
     ]
    }
   ],
   "source": [
    "row_select = a[[2, 4, 0]]\n",
    "print(row_select)"
   ]
  },
  {
   "cell_type": "code",
   "execution_count": 11,
   "metadata": {},
   "outputs": [
    {
     "name": "stdout",
     "output_type": "stream",
     "text": [
      "[[20 21 22 23 24]\n",
      " [20 21 22 23 24]\n",
      " [20 21 22 23 24]]\n"
     ]
    }
   ],
   "source": [
    "row_select2 = a[[2, 2, 2]]\n",
    "print(row_select2)"
   ]
  }
 ],
 "metadata": {
  "kernelspec": {
   "display_name": "Python 3",
   "language": "python",
   "name": "python3"
  },
  "language_info": {
   "codemirror_mode": {
    "name": "ipython",
    "version": 3
   },
   "file_extension": ".py",
   "mimetype": "text/x-python",
   "name": "python",
   "nbconvert_exporter": "python",
   "pygments_lexer": "ipython3",
   "version": "3.6.4"
  }
 },
 "nbformat": 4,
 "nbformat_minor": 2
}
