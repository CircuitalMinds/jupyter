{
 "cells": [
  {
   "cell_type": "code",
   "execution_count": 1,
   "metadata": {},
   "outputs": [],
   "source": [
    "from sklearn.metrics import roc_curve, recall_score, confusion_matrix\n",
    "import matplotlib.pyplot as plt\n",
    "import numpy as np\n",
    "import pandas as pd"
   ]
  },
  {
   "cell_type": "code",
   "execution_count": 2,
   "metadata": {},
   "outputs": [],
   "source": [
    "y_true = np.array([0, 0, 0, 0, 1, 1, 1, 1])\n",
    "y_score = np.array([0.2, 0.3, 0.6, 0.8, 0.4, 0.5, 0.7, 0.9])"
   ]
  },
  {
   "cell_type": "code",
   "execution_count": 3,
   "metadata": {},
   "outputs": [
    {
     "name": "stdout",
     "output_type": "stream",
     "text": [
      "[False False  True  True False  True  True  True]\n"
     ]
    }
   ],
   "source": [
    "print(y_score >= 0.5)"
   ]
  },
  {
   "cell_type": "code",
   "execution_count": 4,
   "metadata": {},
   "outputs": [
    {
     "name": "stdout",
     "output_type": "stream",
     "text": [
      "[0 0 1 1 0 1 1 1]\n"
     ]
    }
   ],
   "source": [
    "print((y_score >= 0.5).astype(int))"
   ]
  },
  {
   "cell_type": "code",
   "execution_count": 5,
   "metadata": {},
   "outputs": [],
   "source": [
    "def fpr_score(y_true, y_pred):\n",
    "    tn, fp, fn, tp = confusion_matrix(y_true, y_pred).flatten()\n",
    "    return fp / (tn + fp)"
   ]
  },
  {
   "cell_type": "code",
   "execution_count": 6,
   "metadata": {},
   "outputs": [
    {
     "name": "stdout",
     "output_type": "stream",
     "text": [
      "0.5\n"
     ]
    }
   ],
   "source": [
    "print(fpr_score(y_true, y_score >= 0.5))"
   ]
  },
  {
   "cell_type": "code",
   "execution_count": 7,
   "metadata": {},
   "outputs": [
    {
     "name": "stdout",
     "output_type": "stream",
     "text": [
      "0.75\n"
     ]
    }
   ],
   "source": [
    "print(recall_score(y_true, y_score >= 0.5))"
   ]
  },
  {
   "cell_type": "code",
   "execution_count": 8,
   "metadata": {},
   "outputs": [
    {
     "name": "stdout",
     "output_type": "stream",
     "text": [
      "0.2\n"
     ]
    }
   ],
   "source": [
    "th_min = min(y_score)\n",
    "print(th_min)"
   ]
  },
  {
   "cell_type": "code",
   "execution_count": 9,
   "metadata": {},
   "outputs": [
    {
     "name": "stdout",
     "output_type": "stream",
     "text": [
      "[1 1 1 1 1 1 1 1]\n"
     ]
    }
   ],
   "source": [
    "print((y_score >= th_min).astype(int))"
   ]
  },
  {
   "cell_type": "code",
   "execution_count": 10,
   "metadata": {},
   "outputs": [
    {
     "name": "stdout",
     "output_type": "stream",
     "text": [
      "1.0\n"
     ]
    }
   ],
   "source": [
    "print(fpr_score(y_true, y_score >= th_min))"
   ]
  },
  {
   "cell_type": "code",
   "execution_count": 11,
   "metadata": {},
   "outputs": [
    {
     "name": "stdout",
     "output_type": "stream",
     "text": [
      "1.0\n"
     ]
    }
   ],
   "source": [
    "print(recall_score(y_true, y_score >= th_min))"
   ]
  },
  {
   "cell_type": "code",
   "execution_count": 12,
   "metadata": {},
   "outputs": [
    {
     "name": "stdout",
     "output_type": "stream",
     "text": [
      "1.9\n"
     ]
    }
   ],
   "source": [
    "th_max = max(y_score) + 1\n",
    "print(th_max)"
   ]
  },
  {
   "cell_type": "code",
   "execution_count": 13,
   "metadata": {},
   "outputs": [
    {
     "name": "stdout",
     "output_type": "stream",
     "text": [
      "[0 0 0 0 0 0 0 0]\n"
     ]
    }
   ],
   "source": [
    "print((y_score >= th_max).astype(int))"
   ]
  },
  {
   "cell_type": "code",
   "execution_count": 14,
   "metadata": {},
   "outputs": [
    {
     "name": "stdout",
     "output_type": "stream",
     "text": [
      "0.0\n"
     ]
    }
   ],
   "source": [
    "print(fpr_score(y_true, y_score >= th_max))"
   ]
  },
  {
   "cell_type": "code",
   "execution_count": 15,
   "metadata": {},
   "outputs": [
    {
     "name": "stdout",
     "output_type": "stream",
     "text": [
      "0.0\n"
     ]
    }
   ],
   "source": [
    "print(recall_score(y_true, y_score >= th_max))"
   ]
  },
  {
   "cell_type": "code",
   "execution_count": 16,
   "metadata": {},
   "outputs": [],
   "source": [
    "df = pd.DataFrame({'true': y_true, 'score': y_score})"
   ]
  },
  {
   "cell_type": "code",
   "execution_count": 17,
   "metadata": {},
   "outputs": [],
   "source": [
    "df['TPR'] = df.apply(lambda row: recall_score(y_true, y_score >= row['score']), axis=1)\n",
    "df['FPR'] = df.apply(lambda row: fpr_score(y_true, y_score >= row['score']), axis=1)"
   ]
  },
  {
   "cell_type": "code",
   "execution_count": 18,
   "metadata": {},
   "outputs": [
    {
     "name": "stdout",
     "output_type": "stream",
     "text": [
      "   true  score   TPR   FPR\n",
      "0     0    0.2  1.00  1.00\n",
      "1     0    0.3  1.00  0.75\n",
      "2     0    0.6  0.50  0.50\n",
      "3     0    0.8  0.25  0.25\n",
      "4     1    0.4  1.00  0.50\n",
      "5     1    0.5  0.75  0.50\n",
      "6     1    0.7  0.50  0.25\n",
      "7     1    0.9  0.25  0.00\n"
     ]
    }
   ],
   "source": [
    "print(df)"
   ]
  },
  {
   "cell_type": "code",
   "execution_count": 19,
   "metadata": {},
   "outputs": [
    {
     "name": "stdout",
     "output_type": "stream",
     "text": [
      "   true  score   TPR   FPR\n",
      "7     1    0.9  0.25  0.00\n",
      "3     0    0.8  0.25  0.25\n",
      "6     1    0.7  0.50  0.25\n",
      "2     0    0.6  0.50  0.50\n",
      "5     1    0.5  0.75  0.50\n",
      "4     1    0.4  1.00  0.50\n",
      "1     0    0.3  1.00  0.75\n",
      "0     0    0.2  1.00  1.00\n"
     ]
    }
   ],
   "source": [
    "print(df.sort_values('score', ascending=False))"
   ]
  },
  {
   "cell_type": "code",
   "execution_count": 20,
   "metadata": {},
   "outputs": [],
   "source": [
    "fpr_all, tpr_all, th_all = roc_curve(y_true, y_score,\n",
    "                                     drop_intermediate=False)"
   ]
  },
  {
   "cell_type": "code",
   "execution_count": 21,
   "metadata": {},
   "outputs": [],
   "source": [
    "df_roc = pd.DataFrame({'th_all': th_all, 'tpr_all': tpr_all, 'fpr_all': fpr_all})"
   ]
  },
  {
   "cell_type": "code",
   "execution_count": 22,
   "metadata": {},
   "outputs": [
    {
     "name": "stdout",
     "output_type": "stream",
     "text": [
      "   th_all  tpr_all  fpr_all\n",
      "0     1.9     0.00     0.00\n",
      "1     0.9     0.25     0.00\n",
      "2     0.8     0.25     0.25\n",
      "3     0.7     0.50     0.25\n",
      "4     0.6     0.50     0.50\n",
      "5     0.5     0.75     0.50\n",
      "6     0.4     1.00     0.50\n",
      "7     0.3     1.00     0.75\n",
      "8     0.2     1.00     1.00\n"
     ]
    }
   ],
   "source": [
    "print(df_roc)"
   ]
  },
  {
   "cell_type": "code",
   "execution_count": 23,
   "metadata": {},
   "outputs": [],
   "source": [
    "y_true_perfect = np.array([0, 0, 0, 0, 1, 1, 1, 1])\n",
    "y_score_perfect = np.array([0.1, 0.2, 0.3, 0.4, 0.5, 0.6, 0.7, 0.8])"
   ]
  },
  {
   "cell_type": "code",
   "execution_count": 24,
   "metadata": {},
   "outputs": [
    {
     "name": "stdout",
     "output_type": "stream",
     "text": [
      "[0 0 0 0 1 1 1 1]\n"
     ]
    }
   ],
   "source": [
    "print(y_true_perfect)"
   ]
  },
  {
   "cell_type": "code",
   "execution_count": 25,
   "metadata": {},
   "outputs": [
    {
     "name": "stdout",
     "output_type": "stream",
     "text": [
      "[0 0 0 0 1 1 1 1]\n"
     ]
    }
   ],
   "source": [
    "print((y_score_perfect >= 0.5).astype(int))"
   ]
  },
  {
   "cell_type": "code",
   "execution_count": 26,
   "metadata": {},
   "outputs": [
    {
     "name": "stdout",
     "output_type": "stream",
     "text": [
      "0.0\n"
     ]
    }
   ],
   "source": [
    "print(fpr_score(y_true_perfect, y_score_perfect >= 0.5))"
   ]
  },
  {
   "cell_type": "code",
   "execution_count": 27,
   "metadata": {},
   "outputs": [
    {
     "name": "stdout",
     "output_type": "stream",
     "text": [
      "1.0\n"
     ]
    }
   ],
   "source": [
    "print(recall_score(y_true_perfect, y_score_perfect >= 0.5))"
   ]
  },
  {
   "cell_type": "code",
   "execution_count": 28,
   "metadata": {},
   "outputs": [],
   "source": [
    "roc_p = roc_curve(y_true_perfect, y_score_perfect, drop_intermediate=False)"
   ]
  },
  {
   "cell_type": "code",
   "execution_count": 29,
   "metadata": {},
   "outputs": [],
   "source": [
    "plt.plot(roc_p[0], roc_p[1], marker='o')\n",
    "plt.xlabel('FPR: False positive rate')\n",
    "plt.ylabel('TPR: True positive rate')\n",
    "plt.grid()\n",
    "plt.savefig('data/dst/sklearn_roc_curve_perfect.png')\n",
    "plt.close()"
   ]
  },
  {
   "cell_type": "code",
   "execution_count": 30,
   "metadata": {},
   "outputs": [],
   "source": [
    "y_true_1 = np.array([0, 0, 0, 1, 0, 1, 1, 1])\n",
    "y_score_1 = y_score_perfect"
   ]
  },
  {
   "cell_type": "code",
   "execution_count": 31,
   "metadata": {},
   "outputs": [],
   "source": [
    "roc_1 = roc_curve(y_true_1, y_score_1, drop_intermediate=False)"
   ]
  },
  {
   "cell_type": "code",
   "execution_count": 32,
   "metadata": {},
   "outputs": [],
   "source": [
    "y_true_2 = np.array([0, 0, 1, 1, 0, 0, 1, 1])\n",
    "y_score_2 = y_score_perfect"
   ]
  },
  {
   "cell_type": "code",
   "execution_count": 33,
   "metadata": {},
   "outputs": [],
   "source": [
    "roc_2 = roc_curve(y_true_2, y_score_2, drop_intermediate=False)"
   ]
  },
  {
   "cell_type": "code",
   "execution_count": 34,
   "metadata": {},
   "outputs": [],
   "source": [
    "plt.plot(roc_p[0], roc_p[1], marker='s')\n",
    "plt.plot(roc_1[0], roc_1[1], marker='o')\n",
    "plt.plot(roc_2[0], roc_2[1], marker='x')\n",
    "plt.xlabel('FPR: False positive rate')\n",
    "plt.ylabel('TPR: True positive rate')\n",
    "plt.grid()\n",
    "plt.savefig('data/dst/sklearn_roc_curve_compare.png')\n",
    "plt.close()"
   ]
  },
  {
   "cell_type": "code",
   "execution_count": 35,
   "metadata": {},
   "outputs": [],
   "source": [
    "y_true_org = np.array([0, 0, 1, 1, 0, 0, 1, 1])\n",
    "y_score_org = np.array([0.1, 0.2, 0.3, 0.4, 0.5, 0.6, 0.7, 0.8])"
   ]
  },
  {
   "cell_type": "code",
   "execution_count": 36,
   "metadata": {},
   "outputs": [],
   "source": [
    "roc_org = roc_curve(y_true_org, y_score_org, drop_intermediate=False)"
   ]
  },
  {
   "cell_type": "code",
   "execution_count": 37,
   "metadata": {},
   "outputs": [
    {
     "name": "stdout",
     "output_type": "stream",
     "text": [
      "[0.05 0.1  0.15 0.2  0.25 0.3  0.35 0.4 ]\n"
     ]
    }
   ],
   "source": [
    "y_score_scale = y_score_org / 2\n",
    "print(y_score_scale)"
   ]
  },
  {
   "cell_type": "code",
   "execution_count": 38,
   "metadata": {},
   "outputs": [],
   "source": [
    "roc_scale = roc_curve(y_true_org, y_score_scale, drop_intermediate=False)"
   ]
  },
  {
   "cell_type": "code",
   "execution_count": 39,
   "metadata": {},
   "outputs": [],
   "source": [
    "y_score_interval = np.array([0.01, 0.02, 0.91, 0.92, 0.93, 0.94, 0.95, 0.96])"
   ]
  },
  {
   "cell_type": "code",
   "execution_count": 40,
   "metadata": {},
   "outputs": [],
   "source": [
    "roc_interval = roc_curve(y_true_org, y_score_interval, drop_intermediate=False)"
   ]
  },
  {
   "cell_type": "code",
   "execution_count": 41,
   "metadata": {},
   "outputs": [],
   "source": [
    "plt.plot(roc_org[0], roc_org[1], marker='s')\n",
    "plt.plot(roc_scale[0], roc_scale[1], marker='o', linestyle='-.')\n",
    "plt.plot(roc_interval[0], roc_interval[1], marker='x', linestyle=':')\n",
    "plt.xlabel('FPR: False positive rate')\n",
    "plt.ylabel('TPR: True positive rate')\n",
    "plt.grid()\n",
    "plt.savefig('data/dst/sklearn_roc_curve_same.png')\n",
    "plt.close()"
   ]
  },
  {
   "cell_type": "code",
   "execution_count": 42,
   "metadata": {},
   "outputs": [],
   "source": [
    "s = pd.Series(y_score_interval)"
   ]
  },
  {
   "cell_type": "code",
   "execution_count": 43,
   "metadata": {},
   "outputs": [
    {
     "name": "stdout",
     "output_type": "stream",
     "text": [
      "0    0.01\n",
      "1    0.02\n",
      "2    0.91\n",
      "3    0.92\n",
      "4    0.93\n",
      "5    0.94\n",
      "6    0.95\n",
      "7    0.96\n",
      "dtype: float64\n"
     ]
    }
   ],
   "source": [
    "print(s)"
   ]
  },
  {
   "cell_type": "code",
   "execution_count": 44,
   "metadata": {},
   "outputs": [
    {
     "name": "stdout",
     "output_type": "stream",
     "text": [
      "0    1.0\n",
      "1    2.0\n",
      "2    3.0\n",
      "3    4.0\n",
      "4    5.0\n",
      "5    6.0\n",
      "6    7.0\n",
      "7    8.0\n",
      "dtype: float64\n"
     ]
    }
   ],
   "source": [
    "print(s.rank())"
   ]
  },
  {
   "cell_type": "code",
   "execution_count": 45,
   "metadata": {},
   "outputs": [],
   "source": [
    "np.random.seed(0)\n",
    "y_true_random = np.array([0] * 5000 + [1] * 5000)\n",
    "y_score_random = np.random.rand(10000)"
   ]
  },
  {
   "cell_type": "code",
   "execution_count": 46,
   "metadata": {},
   "outputs": [],
   "source": [
    "roc_random = roc_curve(y_true_random, y_score_random)"
   ]
  },
  {
   "cell_type": "code",
   "execution_count": 47,
   "metadata": {},
   "outputs": [],
   "source": [
    "plt.plot(roc_random[0], roc_random[1])\n",
    "plt.xlabel('FPR: False positive rate')\n",
    "plt.ylabel('TPR: True positive rate')\n",
    "plt.grid()\n",
    "plt.savefig('data/dst/sklearn_roc_curve_random.png')\n",
    "plt.close()"
   ]
  }
 ],
 "metadata": {
  "kernelspec": {
   "display_name": "Python 3",
   "language": "python",
   "name": "python3"
  },
  "language_info": {
   "codemirror_mode": {
    "name": "ipython",
    "version": 3
   },
   "file_extension": ".py",
   "mimetype": "text/x-python",
   "name": "python",
   "nbconvert_exporter": "python",
   "pygments_lexer": "ipython3",
   "version": "3.7.3"
  }
 },
 "nbformat": 4,
 "nbformat_minor": 2
}
