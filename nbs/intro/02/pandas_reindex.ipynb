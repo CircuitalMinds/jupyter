{
 "cells": [
  {
   "cell_type": "code",
   "execution_count": 1,
   "metadata": {},
   "outputs": [],
   "source": [
    "import pandas as pd"
   ]
  },
  {
   "cell_type": "code",
   "execution_count": 2,
   "metadata": {},
   "outputs": [
    {
     "name": "stdout",
     "output_type": "stream",
     "text": [
      "       A   B    C\n",
      "One    1  10  100\n",
      "Two    2  20  200\n",
      "Three  3  30  300\n"
     ]
    }
   ],
   "source": [
    "df = pd.DataFrame({'A': [1, 2, 3], 'B': [10, 20, 30], 'C': [100, 200, 300]},\n",
    "                  index=['One', 'Two', 'Three'])\n",
    "print(df)"
   ]
  },
  {
   "cell_type": "code",
   "execution_count": 3,
   "metadata": {},
   "outputs": [
    {
     "name": "stdout",
     "output_type": "stream",
     "text": [
      "       A   B    C\n",
      "Two    2  20  200\n",
      "Three  3  30  300\n",
      "One    1  10  100\n"
     ]
    }
   ],
   "source": [
    "print(df.reindex(index=['Two', 'Three', 'One']))"
   ]
  },
  {
   "cell_type": "code",
   "execution_count": 4,
   "metadata": {},
   "outputs": [
    {
     "name": "stdout",
     "output_type": "stream",
     "text": [
      "        B    C  A\n",
      "One    10  100  1\n",
      "Two    20  200  2\n",
      "Three  30  300  3\n"
     ]
    }
   ],
   "source": [
    "print(df.reindex(columns=['B', 'C', 'A']))"
   ]
  },
  {
   "cell_type": "code",
   "execution_count": 5,
   "metadata": {},
   "outputs": [
    {
     "name": "stdout",
     "output_type": "stream",
     "text": [
      "        B    C  A\n",
      "Two    20  200  2\n",
      "Three  30  300  3\n",
      "One    10  100  1\n"
     ]
    }
   ],
   "source": [
    "print(df.reindex(index=['Two', 'Three', 'One'], columns=['B', 'C', 'A']))"
   ]
  },
  {
   "cell_type": "code",
   "execution_count": 6,
   "metadata": {},
   "outputs": [
    {
     "name": "stdout",
     "output_type": "stream",
     "text": [
      "        B  A\n",
      "Three  30  3\n",
      "One    10  1\n"
     ]
    }
   ],
   "source": [
    "print(df.reindex(columns=['B', 'A'], index=['Three', 'One']))"
   ]
  },
  {
   "cell_type": "code",
   "execution_count": 7,
   "metadata": {},
   "outputs": [
    {
     "name": "stdout",
     "output_type": "stream",
     "text": [
      "       A   B    C\n",
      "Two    2  20  200\n",
      "Three  3  30  300\n",
      "One    1  10  100\n"
     ]
    }
   ],
   "source": [
    "print(df.reindex(['Two', 'Three', 'One'], axis=0))"
   ]
  },
  {
   "cell_type": "code",
   "execution_count": 8,
   "metadata": {},
   "outputs": [
    {
     "name": "stdout",
     "output_type": "stream",
     "text": [
      "        B    C  A\n",
      "One    10  100  1\n",
      "Two    20  200  2\n",
      "Three  30  300  3\n"
     ]
    }
   ],
   "source": [
    "print(df.reindex(['B', 'C', 'A'], axis='columns'))"
   ]
  },
  {
   "cell_type": "code",
   "execution_count": 9,
   "metadata": {},
   "outputs": [
    {
     "name": "stdout",
     "output_type": "stream",
     "text": [
      "        B    C  A\n",
      "One    10  100  1\n",
      "Two    20  200  2\n",
      "Three  30  300  3\n"
     ]
    }
   ],
   "source": [
    "print(df[['B', 'C', 'A']])"
   ]
  },
  {
   "cell_type": "code",
   "execution_count": 10,
   "metadata": {},
   "outputs": [
    {
     "name": "stdout",
     "output_type": "stream",
     "text": [
      "         B   X      C\n",
      "Two   20.0 NaN  200.0\n",
      "One   10.0 NaN  100.0\n",
      "Four   NaN NaN    NaN\n"
     ]
    }
   ],
   "source": [
    "print(df.reindex(columns=['B', 'X', 'C'], index=['Two', 'One', 'Four']))"
   ]
  },
  {
   "cell_type": "code",
   "execution_count": 11,
   "metadata": {},
   "outputs": [
    {
     "name": "stdout",
     "output_type": "stream",
     "text": [
      "       B  X    C\n",
      "Two   20  0  200\n",
      "One   10  0  100\n",
      "Four   0  0    0\n"
     ]
    }
   ],
   "source": [
    "print(df.reindex(columns=['B', 'X', 'C'], index=['Two', 'One', 'Four'],\n",
    "                 fill_value=0))"
   ]
  },
  {
   "cell_type": "code",
   "execution_count": 12,
   "metadata": {},
   "outputs": [
    {
     "name": "stdout",
     "output_type": "stream",
     "text": [
      "    A   B    C\n",
      "10  1  10  100\n",
      "20  2  20  200\n"
     ]
    }
   ],
   "source": [
    "df = pd.DataFrame({'A': [1, 2], 'B': [10, 20], 'C': [100, 200]},\n",
    "                  index=[10, 20])\n",
    "print(df)"
   ]
  },
  {
   "cell_type": "code",
   "execution_count": 13,
   "metadata": {},
   "outputs": [
    {
     "name": "stdout",
     "output_type": "stream",
     "text": [
      "      A     B      C\n",
      "5   NaN   NaN    NaN\n",
      "10  1.0  10.0  100.0\n",
      "15  NaN   NaN    NaN\n",
      "20  2.0  20.0  200.0\n",
      "25  NaN   NaN    NaN\n"
     ]
    }
   ],
   "source": [
    "print(df.reindex(index=[5, 10, 15, 20, 25]))"
   ]
  },
  {
   "cell_type": "code",
   "execution_count": 14,
   "metadata": {},
   "outputs": [
    {
     "name": "stdout",
     "output_type": "stream",
     "text": [
      "      A     B      C\n",
      "5   1.0  10.0  100.0\n",
      "10  1.0  10.0  100.0\n",
      "15  2.0  20.0  200.0\n",
      "20  2.0  20.0  200.0\n",
      "25  NaN   NaN    NaN\n"
     ]
    }
   ],
   "source": [
    "print(df.reindex(index=[5, 10, 15, 20, 25], method='bfill'))"
   ]
  },
  {
   "cell_type": "code",
   "execution_count": 15,
   "metadata": {},
   "outputs": [
    {
     "name": "stdout",
     "output_type": "stream",
     "text": [
      "      A     B      C\n",
      "5   NaN   NaN    NaN\n",
      "10  1.0  10.0  100.0\n",
      "15  1.0  10.0  100.0\n",
      "20  2.0  20.0  200.0\n",
      "25  2.0  20.0  200.0\n"
     ]
    }
   ],
   "source": [
    "print(df.reindex(index=[5, 10, 15, 20, 25], method='ffill'))"
   ]
  },
  {
   "cell_type": "code",
   "execution_count": 16,
   "metadata": {},
   "outputs": [
    {
     "name": "stdout",
     "output_type": "stream",
     "text": [
      "    A   B    C\n",
      "5   1  10  100\n",
      "10  1  10  100\n",
      "15  2  20  200\n",
      "20  2  20  200\n",
      "25  2  20  200\n"
     ]
    }
   ],
   "source": [
    "print(df.reindex(index=[5, 10, 15, 20, 25], method='nearest'))"
   ]
  },
  {
   "cell_type": "code",
   "execution_count": 17,
   "metadata": {},
   "outputs": [
    {
     "name": "stdout",
     "output_type": "stream",
     "text": [
      "      A     B      C\n",
      "10  1.0  10.0  100.0\n",
      "12  NaN   NaN    NaN\n",
      "14  NaN   NaN    NaN\n",
      "16  NaN   NaN    NaN\n",
      "18  NaN   NaN    NaN\n",
      "20  2.0  20.0  200.0\n"
     ]
    }
   ],
   "source": [
    "print(df.reindex(index=[10, 12, 14, 16, 18, 20]))"
   ]
  },
  {
   "cell_type": "code",
   "execution_count": 18,
   "metadata": {},
   "outputs": [
    {
     "name": "stdout",
     "output_type": "stream",
     "text": [
      "      A     B      C\n",
      "10  1.0  10.0  100.0\n",
      "12  NaN   NaN    NaN\n",
      "14  NaN   NaN    NaN\n",
      "16  2.0  20.0  200.0\n",
      "18  2.0  20.0  200.0\n",
      "20  2.0  20.0  200.0\n"
     ]
    }
   ],
   "source": [
    "print(df.reindex(index=[10, 12, 14, 16, 18, 20], method='bfill', limit=2))"
   ]
  },
  {
   "cell_type": "code",
   "execution_count": 19,
   "metadata": {},
   "outputs": [
    {
     "name": "stdout",
     "output_type": "stream",
     "text": [
      "      A     B      C\n",
      "25  NaN   NaN    NaN\n",
      "5   1.0  10.0  100.0\n",
      "15  2.0  20.0  200.0\n"
     ]
    }
   ],
   "source": [
    "print(df.reindex(index=[25, 5, 15], method='bfill'))"
   ]
  },
  {
   "cell_type": "code",
   "execution_count": 20,
   "metadata": {},
   "outputs": [
    {
     "name": "stdout",
     "output_type": "stream",
     "text": [
      "      A     B      C\n",
      "5   1.0  10.0  100.0\n",
      "15  2.0  20.0  200.0\n",
      "25  NaN   NaN    NaN\n"
     ]
    }
   ],
   "source": [
    "print(df.reindex(index=[5, 15, 25], method='bfill'))"
   ]
  },
  {
   "cell_type": "code",
   "execution_count": 21,
   "metadata": {},
   "outputs": [
    {
     "name": "stdout",
     "output_type": "stream",
     "text": [
      "      A     B      C\n",
      "5   1.0  10.0  100.0\n",
      "10  1.0  10.0  100.0\n",
      "15  2.0  20.0  200.0\n",
      "20  2.0  20.0  200.0\n",
      "25  NaN   NaN    NaN\n"
     ]
    }
   ],
   "source": [
    "print(df.reindex(index=[5, 10, 15, 20, 25]).fillna(method='bfill'))"
   ]
  },
  {
   "cell_type": "code",
   "execution_count": 22,
   "metadata": {},
   "outputs": [
    {
     "name": "stdout",
     "output_type": "stream",
     "text": [
      "      A     B      C\n",
      "5   NaN   NaN    NaN\n",
      "10  1.0  10.0  100.0\n",
      "15  1.5  15.0  150.0\n",
      "20  2.0  20.0  200.0\n",
      "25  2.0  20.0  200.0\n"
     ]
    }
   ],
   "source": [
    "print(df.reindex(index=[5, 10, 15, 20, 25]).interpolate())"
   ]
  },
  {
   "cell_type": "code",
   "execution_count": 23,
   "metadata": {},
   "outputs": [
    {
     "name": "stdout",
     "output_type": "stream",
     "text": [
      "    A   X    C\n",
      "10  1 NaN  100\n",
      "20  2 NaN  200\n"
     ]
    }
   ],
   "source": [
    "print(df.reindex(columns=['A', 'X', 'C'], method='bfill'))"
   ]
  },
  {
   "cell_type": "code",
   "execution_count": 24,
   "metadata": {},
   "outputs": [
    {
     "name": "stdout",
     "output_type": "stream",
     "text": [
      "      A      X      C\n",
      "10  1.0  100.0  100.0\n",
      "20  2.0  200.0  200.0\n"
     ]
    }
   ],
   "source": [
    "print(df.reindex(columns=['A', 'X', 'C']).fillna(method='bfill', axis=1))"
   ]
  },
  {
   "cell_type": "code",
   "execution_count": 25,
   "metadata": {},
   "outputs": [
    {
     "name": "stdout",
     "output_type": "stream",
     "text": [
      "      A      X      C\n",
      "10  1.0   50.5  100.0\n",
      "20  2.0  101.0  200.0\n"
     ]
    }
   ],
   "source": [
    "print(df.reindex(columns=['A', 'X', 'C']).interpolate(axis=1))"
   ]
  },
  {
   "cell_type": "code",
   "execution_count": 26,
   "metadata": {},
   "outputs": [
    {
     "name": "stdout",
     "output_type": "stream",
     "text": [
      "    A   B    C\n",
      "20  1  10  100\n",
      "10  2  20  200\n",
      "30  3  30  300\n"
     ]
    }
   ],
   "source": [
    "df = pd.DataFrame({'A': [1, 2, 3], 'B': [10, 20, 30], 'C': [100, 200, 300]},\n",
    "                  index=[20, 10, 30])\n",
    "print(df)"
   ]
  },
  {
   "cell_type": "code",
   "execution_count": 27,
   "metadata": {},
   "outputs": [],
   "source": [
    "# print(df.reindex(index=[10, 15, 20], method='ffill'))\n",
    "# ValueError: index must be monotonic increasing or decreasing"
   ]
  },
  {
   "cell_type": "code",
   "execution_count": 28,
   "metadata": {},
   "outputs": [
    {
     "name": "stdout",
     "output_type": "stream",
     "text": [
      "      A     B      C\n",
      "10  2.0  20.0  200.0\n",
      "15  NaN   NaN    NaN\n",
      "20  1.0  10.0  100.0\n"
     ]
    }
   ],
   "source": [
    "print(df.reindex(index=[10, 15, 20]))"
   ]
  },
  {
   "cell_type": "code",
   "execution_count": 29,
   "metadata": {},
   "outputs": [
    {
     "name": "stdout",
     "output_type": "stream",
     "text": [
      "      A     B      C\n",
      "10  2.0  20.0  200.0\n",
      "15  1.0  10.0  100.0\n",
      "20  1.0  10.0  100.0\n"
     ]
    }
   ],
   "source": [
    "print(df.reindex(index=[10, 15, 20]).fillna(method='bfill'))"
   ]
  }
 ],
 "metadata": {
  "kernelspec": {
   "display_name": "Python 3",
   "language": "python",
   "name": "python3"
  },
  "language_info": {
   "codemirror_mode": {
    "name": "ipython",
    "version": 3
   },
   "file_extension": ".py",
   "mimetype": "text/x-python",
   "name": "python",
   "nbconvert_exporter": "python",
   "pygments_lexer": "ipython3",
   "version": "3.7.7"
  }
 },
 "nbformat": 4,
 "nbformat_minor": 2
}
