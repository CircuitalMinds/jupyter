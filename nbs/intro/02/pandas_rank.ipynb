{
 "cells": [
  {
   "cell_type": "code",
   "execution_count": 1,
   "metadata": {},
   "outputs": [],
   "source": [
    "import pandas as pd"
   ]
  },
  {
   "cell_type": "code",
   "execution_count": 2,
   "metadata": {},
   "outputs": [],
   "source": [
    "df = pd.DataFrame({'col1': [50, 80, 100, 80],\n",
    "                   'col2': [0.3, pd.np.nan, 0.1, pd.np.nan],\n",
    "                   'col3': ['h', 'j', 'i', 'k']},\n",
    "                  index=['a', 'b', 'c', 'd'])"
   ]
  },
  {
   "cell_type": "code",
   "execution_count": 3,
   "metadata": {},
   "outputs": [
    {
     "name": "stdout",
     "output_type": "stream",
     "text": [
      "   col1  col2 col3\n",
      "a    50   0.3    h\n",
      "b    80   NaN    j\n",
      "c   100   0.1    i\n",
      "d    80   NaN    k\n"
     ]
    }
   ],
   "source": [
    "print(df)"
   ]
  },
  {
   "cell_type": "code",
   "execution_count": 4,
   "metadata": {},
   "outputs": [
    {
     "name": "stdout",
     "output_type": "stream",
     "text": [
      "   col1  col2  col3\n",
      "a   1.0   2.0   1.0\n",
      "b   2.5   NaN   3.0\n",
      "c   4.0   1.0   2.0\n",
      "d   2.5   NaN   4.0\n"
     ]
    }
   ],
   "source": [
    "print(df.rank())"
   ]
  },
  {
   "cell_type": "code",
   "execution_count": 5,
   "metadata": {},
   "outputs": [
    {
     "name": "stdout",
     "output_type": "stream",
     "text": [
      "   col1  col2\n",
      "a   2.0   1.0\n",
      "b   1.0   NaN\n",
      "c   2.0   1.0\n",
      "d   1.0   NaN\n"
     ]
    }
   ],
   "source": [
    "print(df.rank(axis=1))"
   ]
  },
  {
   "cell_type": "code",
   "execution_count": 6,
   "metadata": {},
   "outputs": [
    {
     "name": "stdout",
     "output_type": "stream",
     "text": [
      "   col1  col2\n",
      "a   1.0   2.0\n",
      "b   2.5   NaN\n",
      "c   4.0   1.0\n",
      "d   2.5   NaN\n"
     ]
    }
   ],
   "source": [
    "print(df.rank(numeric_only=True))"
   ]
  },
  {
   "cell_type": "code",
   "execution_count": 7,
   "metadata": {},
   "outputs": [],
   "source": [
    "# print(df.rank(axis=1, numeric_only=False))\n",
    "# TypeError: '<' not supported between instances of 'str' and 'int'"
   ]
  },
  {
   "cell_type": "code",
   "execution_count": 8,
   "metadata": {},
   "outputs": [
    {
     "name": "stdout",
     "output_type": "stream",
     "text": [
      "   col1  col2  col3\n",
      "a   4.0   1.0   4.0\n",
      "b   2.5   NaN   2.0\n",
      "c   1.0   2.0   3.0\n",
      "d   2.5   NaN   1.0\n"
     ]
    }
   ],
   "source": [
    "print(df.rank(ascending=False))"
   ]
  },
  {
   "cell_type": "code",
   "execution_count": 9,
   "metadata": {},
   "outputs": [
    {
     "name": "stdout",
     "output_type": "stream",
     "text": [
      "   col1  col2  col3\n",
      "a   1.0   2.0   1.0\n",
      "b   2.5   NaN   3.0\n",
      "c   4.0   1.0   2.0\n",
      "d   2.5   NaN   4.0\n"
     ]
    }
   ],
   "source": [
    "print(df.rank(method='average'))"
   ]
  },
  {
   "cell_type": "code",
   "execution_count": 10,
   "metadata": {},
   "outputs": [
    {
     "name": "stdout",
     "output_type": "stream",
     "text": [
      "   col1  col2  col3\n",
      "a   1.0   2.0   1.0\n",
      "b   2.0   NaN   3.0\n",
      "c   4.0   1.0   2.0\n",
      "d   2.0   NaN   4.0\n"
     ]
    }
   ],
   "source": [
    "print(df.rank(method='min'))"
   ]
  },
  {
   "cell_type": "code",
   "execution_count": 11,
   "metadata": {},
   "outputs": [
    {
     "name": "stdout",
     "output_type": "stream",
     "text": [
      "   col1  col2  col3\n",
      "a   1.0   2.0   1.0\n",
      "b   3.0   NaN   3.0\n",
      "c   4.0   1.0   2.0\n",
      "d   3.0   NaN   4.0\n"
     ]
    }
   ],
   "source": [
    "print(df.rank(method='max'))"
   ]
  },
  {
   "cell_type": "code",
   "execution_count": 12,
   "metadata": {},
   "outputs": [],
   "source": [
    "# print(df.rank(method='first'))\n",
    "# ValueError: first not supported for non-numeric data"
   ]
  },
  {
   "cell_type": "code",
   "execution_count": 13,
   "metadata": {},
   "outputs": [
    {
     "name": "stdout",
     "output_type": "stream",
     "text": [
      "   col1  col2\n",
      "a   1.0   2.0\n",
      "b   2.0   NaN\n",
      "c   4.0   1.0\n",
      "d   3.0   NaN\n"
     ]
    }
   ],
   "source": [
    "print(df.rank(method='first', numeric_only=True))"
   ]
  },
  {
   "cell_type": "code",
   "execution_count": 14,
   "metadata": {},
   "outputs": [
    {
     "name": "stdout",
     "output_type": "stream",
     "text": [
      "   col1  col2  col3\n",
      "a   1.0   2.0   1.0\n",
      "b   2.0   NaN   3.0\n",
      "c   3.0   1.0   2.0\n",
      "d   2.0   NaN   4.0\n"
     ]
    }
   ],
   "source": [
    "print(df.rank(method='dense'))"
   ]
  },
  {
   "cell_type": "code",
   "execution_count": 15,
   "metadata": {},
   "outputs": [
    {
     "name": "stdout",
     "output_type": "stream",
     "text": [
      "   col1  col2  col3\n",
      "a   1.0   2.0   1.0\n",
      "b   2.5   NaN   3.0\n",
      "c   4.0   1.0   2.0\n",
      "d   2.5   NaN   4.0\n"
     ]
    }
   ],
   "source": [
    "print(df.rank(na_option='keep'))"
   ]
  },
  {
   "cell_type": "code",
   "execution_count": 16,
   "metadata": {},
   "outputs": [
    {
     "name": "stdout",
     "output_type": "stream",
     "text": [
      "   col1  col2  col3\n",
      "a   1.0   4.0   1.0\n",
      "b   2.5   1.5   3.0\n",
      "c   4.0   3.0   2.0\n",
      "d   2.5   1.5   4.0\n"
     ]
    }
   ],
   "source": [
    "print(df.rank(na_option='top'))"
   ]
  },
  {
   "cell_type": "code",
   "execution_count": 17,
   "metadata": {},
   "outputs": [
    {
     "name": "stdout",
     "output_type": "stream",
     "text": [
      "   col1  col2  col3\n",
      "a   1.0   4.0   1.0\n",
      "b   2.0   1.0   3.0\n",
      "c   4.0   3.0   2.0\n",
      "d   2.0   1.0   4.0\n"
     ]
    }
   ],
   "source": [
    "print(df.rank(na_option='top', method='min'))"
   ]
  },
  {
   "cell_type": "code",
   "execution_count": 18,
   "metadata": {},
   "outputs": [
    {
     "name": "stdout",
     "output_type": "stream",
     "text": [
      "   col1  col2  col3\n",
      "a   1.0   2.0   1.0\n",
      "b   2.5   3.5   3.0\n",
      "c   4.0   1.0   2.0\n",
      "d   2.5   3.5   4.0\n"
     ]
    }
   ],
   "source": [
    "print(df.rank(na_option='bottom'))"
   ]
  },
  {
   "cell_type": "code",
   "execution_count": 19,
   "metadata": {},
   "outputs": [
    {
     "name": "stdout",
     "output_type": "stream",
     "text": [
      "   col1  col2  col3\n",
      "a   1.0   2.0   1.0\n",
      "b   2.0   3.0   3.0\n",
      "c   4.0   1.0   2.0\n",
      "d   2.0   3.0   4.0\n"
     ]
    }
   ],
   "source": [
    "print(df.rank(na_option='bottom', method='min'))"
   ]
  },
  {
   "cell_type": "code",
   "execution_count": 20,
   "metadata": {},
   "outputs": [
    {
     "name": "stdout",
     "output_type": "stream",
     "text": [
      "    col1  col2  col3\n",
      "a  0.250   1.0  0.25\n",
      "b  0.625   NaN  0.75\n",
      "c  1.000   0.5  0.50\n",
      "d  0.625   NaN  1.00\n"
     ]
    }
   ],
   "source": [
    "print(df.rank(pct=True))"
   ]
  },
  {
   "cell_type": "code",
   "execution_count": 21,
   "metadata": {},
   "outputs": [
    {
     "name": "stdout",
     "output_type": "stream",
     "text": [
      "   col1  col2  col3\n",
      "a  1.00  0.25  1.00\n",
      "b  0.50  0.75  0.50\n",
      "c  0.25  0.50  0.75\n",
      "d  0.50  0.75  0.25\n"
     ]
    }
   ],
   "source": [
    "print(df.rank(pct=True, method='min', ascending=False, na_option='bottom'))"
   ]
  },
  {
   "cell_type": "code",
   "execution_count": 22,
   "metadata": {},
   "outputs": [
    {
     "name": "stdout",
     "output_type": "stream",
     "text": [
      "a    4.0\n",
      "b    2.0\n",
      "c    1.0\n",
      "d    2.0\n",
      "Name: col1, dtype: float64\n"
     ]
    }
   ],
   "source": [
    "print(df['col1'].rank(method='min', ascending=False))"
   ]
  }
 ],
 "metadata": {
  "kernelspec": {
   "display_name": "Python 3",
   "language": "python",
   "name": "python3"
  },
  "language_info": {
   "codemirror_mode": {
    "name": "ipython",
    "version": 3
   },
   "file_extension": ".py",
   "mimetype": "text/x-python",
   "name": "python",
   "nbconvert_exporter": "python",
   "pygments_lexer": "ipython3",
   "version": "3.7.0"
  }
 },
 "nbformat": 4,
 "nbformat_minor": 2
}
