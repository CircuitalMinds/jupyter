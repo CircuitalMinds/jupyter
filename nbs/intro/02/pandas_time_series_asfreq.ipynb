{
 "cells": [
  {
   "cell_type": "code",
   "execution_count": 1,
   "metadata": {},
   "outputs": [],
   "source": [
    "import pandas as pd"
   ]
  },
  {
   "cell_type": "code",
   "execution_count": 2,
   "metadata": {},
   "outputs": [],
   "source": [
    "df = pd.DataFrame({'value': range(1, 32, 2)},\n",
    "                  index=pd.date_range('2018-08-01', '2018-08-31', freq='2D'))"
   ]
  },
  {
   "cell_type": "code",
   "execution_count": 3,
   "metadata": {},
   "outputs": [
    {
     "name": "stdout",
     "output_type": "stream",
     "text": [
      "            value\n",
      "2018-08-01      1\n",
      "2018-08-03      3\n",
      "2018-08-05      5\n",
      "2018-08-07      7\n",
      "2018-08-09      9\n",
      "2018-08-11     11\n",
      "2018-08-13     13\n",
      "2018-08-15     15\n",
      "2018-08-17     17\n",
      "2018-08-19     19\n",
      "2018-08-21     21\n",
      "2018-08-23     23\n",
      "2018-08-25     25\n",
      "2018-08-27     27\n",
      "2018-08-29     29\n",
      "2018-08-31     31\n"
     ]
    }
   ],
   "source": [
    "print(df)"
   ]
  },
  {
   "cell_type": "code",
   "execution_count": 4,
   "metadata": {},
   "outputs": [
    {
     "name": "stdout",
     "output_type": "stream",
     "text": [
      "            value\n",
      "2018-08-01      1\n",
      "2018-08-11     11\n",
      "2018-08-21     21\n",
      "2018-08-31     31\n"
     ]
    }
   ],
   "source": [
    "print(df.asfreq('10D'))"
   ]
  },
  {
   "cell_type": "code",
   "execution_count": 5,
   "metadata": {},
   "outputs": [
    {
     "name": "stdout",
     "output_type": "stream",
     "text": [
      "            value\n",
      "2018-08-01    1.0\n",
      "2018-08-06    NaN\n",
      "2018-08-11   11.0\n",
      "2018-08-16    NaN\n",
      "2018-08-21   21.0\n",
      "2018-08-26    NaN\n",
      "2018-08-31   31.0\n"
     ]
    }
   ],
   "source": [
    "print(df.asfreq('5D'))"
   ]
  },
  {
   "cell_type": "code",
   "execution_count": 6,
   "metadata": {},
   "outputs": [
    {
     "name": "stdout",
     "output_type": "stream",
     "text": [
      "            value\n",
      "2018-08-05    5.0\n",
      "2018-08-12    NaN\n",
      "2018-08-19   19.0\n",
      "2018-08-26    NaN\n"
     ]
    }
   ],
   "source": [
    "print(df.asfreq('W'))"
   ]
  },
  {
   "cell_type": "code",
   "execution_count": 7,
   "metadata": {},
   "outputs": [
    {
     "name": "stdout",
     "output_type": "stream",
     "text": [
      "            value\n",
      "2018-08-01    1.0\n",
      "2018-08-08    NaN\n",
      "2018-08-15   15.0\n",
      "2018-08-22    NaN\n",
      "2018-08-29   29.0\n"
     ]
    }
   ],
   "source": [
    "print(df.asfreq('W-WED'))"
   ]
  },
  {
   "cell_type": "code",
   "execution_count": 8,
   "metadata": {},
   "outputs": [
    {
     "name": "stdout",
     "output_type": "stream",
     "text": [
      "            value\n",
      "2018-08-05      5\n",
      "2018-08-12      0\n",
      "2018-08-19     19\n",
      "2018-08-26      0\n"
     ]
    }
   ],
   "source": [
    "print(df.asfreq('W', fill_value=0))"
   ]
  },
  {
   "cell_type": "code",
   "execution_count": 9,
   "metadata": {},
   "outputs": [
    {
     "name": "stdout",
     "output_type": "stream",
     "text": [
      "            value\n",
      "2018-08-05      5\n",
      "2018-08-12     11\n",
      "2018-08-19     19\n",
      "2018-08-26     25\n"
     ]
    }
   ],
   "source": [
    "print(df.asfreq('W', method='pad'))"
   ]
  },
  {
   "cell_type": "code",
   "execution_count": 10,
   "metadata": {},
   "outputs": [
    {
     "name": "stdout",
     "output_type": "stream",
     "text": [
      "            value\n",
      "2018-08-05      5\n",
      "2018-08-12     11\n",
      "2018-08-19     19\n",
      "2018-08-26     25\n"
     ]
    }
   ],
   "source": [
    "print(df.asfreq('W', method='ffill'))"
   ]
  },
  {
   "cell_type": "code",
   "execution_count": 11,
   "metadata": {},
   "outputs": [
    {
     "name": "stdout",
     "output_type": "stream",
     "text": [
      "            value\n",
      "2018-08-05      5\n",
      "2018-08-12     13\n",
      "2018-08-19     19\n",
      "2018-08-26     27\n"
     ]
    }
   ],
   "source": [
    "print(df.asfreq('W', method='backfill'))"
   ]
  },
  {
   "cell_type": "code",
   "execution_count": 12,
   "metadata": {},
   "outputs": [
    {
     "name": "stdout",
     "output_type": "stream",
     "text": [
      "            value\n",
      "2018-08-05      5\n",
      "2018-08-12     13\n",
      "2018-08-19     19\n",
      "2018-08-26     27\n"
     ]
    }
   ],
   "source": [
    "print(df.asfreq('W', method='bfill'))"
   ]
  },
  {
   "cell_type": "code",
   "execution_count": 13,
   "metadata": {},
   "outputs": [],
   "source": [
    "df_3D = pd.DataFrame({'value': range(1, 32, 3)},\n",
    "                     index=pd.date_range('2018-08-01', '2018-08-31', freq='3D'))"
   ]
  },
  {
   "cell_type": "code",
   "execution_count": 14,
   "metadata": {},
   "outputs": [
    {
     "name": "stdout",
     "output_type": "stream",
     "text": [
      "            value\n",
      "2018-08-01      1\n",
      "2018-08-02      4\n",
      "2018-08-03      4\n",
      "2018-08-04      4\n",
      "2018-08-05      7\n",
      "2018-08-06      7\n",
      "2018-08-07      7\n",
      "2018-08-08     10\n",
      "2018-08-09     10\n",
      "2018-08-10     10\n",
      "2018-08-11     13\n",
      "2018-08-12     13\n",
      "2018-08-13     13\n",
      "2018-08-14     16\n",
      "2018-08-15     16\n",
      "2018-08-16     16\n",
      "2018-08-17     19\n",
      "2018-08-18     19\n",
      "2018-08-19     19\n",
      "2018-08-20     22\n",
      "2018-08-21     22\n",
      "2018-08-22     22\n",
      "2018-08-23     25\n",
      "2018-08-24     25\n",
      "2018-08-25     25\n",
      "2018-08-26     28\n",
      "2018-08-27     28\n",
      "2018-08-28     28\n",
      "2018-08-29     31\n",
      "2018-08-30     31\n",
      "2018-08-31     31\n"
     ]
    }
   ],
   "source": [
    "print(df_3D.asfreq('D', method='bfill'))"
   ]
  },
  {
   "cell_type": "code",
   "execution_count": 15,
   "metadata": {},
   "outputs": [
    {
     "name": "stdout",
     "output_type": "stream",
     "text": [
      "                     value\n",
      "2018-08-01 00:00:00      0\n",
      "2018-08-01 12:00:00      1\n",
      "2018-08-02 00:00:00      2\n",
      "2018-08-02 12:00:00      3\n",
      "2018-08-03 00:00:00      4\n",
      "2018-08-03 12:00:00      5\n",
      "2018-08-04 00:00:00      6\n",
      "2018-08-04 12:00:00      7\n",
      "2018-08-05 00:00:00      8\n"
     ]
    }
   ],
   "source": [
    "df_h = pd.DataFrame({'value': range(9)},\n",
    "                    index=pd.date_range('2018-08-01', '2018-08-05', freq='12H'))\n",
    "print(df_h)"
   ]
  },
  {
   "cell_type": "code",
   "execution_count": 16,
   "metadata": {},
   "outputs": [
    {
     "name": "stdout",
     "output_type": "stream",
     "text": [
      "            value\n",
      "2018-08-01      0\n",
      "2018-08-02      2\n",
      "2018-08-03      4\n",
      "2018-08-04      6\n",
      "2018-08-05      8\n"
     ]
    }
   ],
   "source": [
    "print(df_h.asfreq('D'))"
   ]
  },
  {
   "cell_type": "code",
   "execution_count": 17,
   "metadata": {},
   "outputs": [
    {
     "name": "stdout",
     "output_type": "stream",
     "text": [
      "            value\n",
      "2018-08-01    0.5\n",
      "2018-08-02    2.5\n",
      "2018-08-03    4.5\n",
      "2018-08-04    6.5\n",
      "2018-08-05    8.0\n"
     ]
    }
   ],
   "source": [
    "print(df_h.resample('D').mean())"
   ]
  }
 ],
 "metadata": {
  "kernelspec": {
   "display_name": "Python 3",
   "language": "python",
   "name": "python3"
  },
  "language_info": {
   "codemirror_mode": {
    "name": "ipython",
    "version": 3
   },
   "file_extension": ".py",
   "mimetype": "text/x-python",
   "name": "python",
   "nbconvert_exporter": "python",
   "pygments_lexer": "ipython3",
   "version": "3.7.0"
  }
 },
 "nbformat": 4,
 "nbformat_minor": 2
}
