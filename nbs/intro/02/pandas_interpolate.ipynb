{
 "cells": [
  {
   "cell_type": "code",
   "execution_count": 1,
   "metadata": {},
   "outputs": [],
   "source": [
    "import pandas as pd\n",
    "import numpy as np"
   ]
  },
  {
   "cell_type": "code",
   "execution_count": 2,
   "metadata": {},
   "outputs": [
    {
     "name": "stdout",
     "output_type": "stream",
     "text": [
      "   col1  col2  col3\n",
      "0   0.0   NaN   4.0\n",
      "1   NaN   1.0   NaN\n",
      "2   NaN   2.0   NaN\n",
      "3   3.0   NaN   7.0\n",
      "4   4.0   NaN  10.0\n"
     ]
    }
   ],
   "source": [
    "df = pd.DataFrame({'col1': [0, np.nan, np.nan, 3, 4],\n",
    "                   'col2': [np.nan, 1, 2, np.nan, np.nan],\n",
    "                   'col3': [4, np.nan, np.nan, 7, 10]})\n",
    "print(df)"
   ]
  },
  {
   "cell_type": "code",
   "execution_count": 3,
   "metadata": {},
   "outputs": [
    {
     "name": "stdout",
     "output_type": "stream",
     "text": [
      "   col1  col2  col3\n",
      "0   0.0   NaN   4.0\n",
      "1   1.0   1.0   5.0\n",
      "2   2.0   2.0   6.0\n",
      "3   3.0   2.0   7.0\n",
      "4   4.0   2.0  10.0\n"
     ]
    }
   ],
   "source": [
    "print(df.interpolate())"
   ]
  },
  {
   "cell_type": "code",
   "execution_count": 4,
   "metadata": {},
   "outputs": [
    {
     "name": "stdout",
     "output_type": "stream",
     "text": [
      "   col1  col2  col3\n",
      "0   0.0   2.0   4.0\n",
      "1   NaN   1.0   1.0\n",
      "2   NaN   2.0   2.0\n",
      "3   3.0   5.0   7.0\n",
      "4   4.0   7.0  10.0\n"
     ]
    }
   ],
   "source": [
    "print(df.interpolate(axis=1))"
   ]
  },
  {
   "cell_type": "code",
   "execution_count": 5,
   "metadata": {},
   "outputs": [
    {
     "name": "stdout",
     "output_type": "stream",
     "text": [
      "   col1  col2  col3\n",
      "0   0.0   NaN   4.0\n",
      "1   1.0   1.0   5.0\n",
      "2   NaN   2.0   NaN\n",
      "3   3.0   2.0   7.0\n",
      "4   4.0   NaN  10.0\n"
     ]
    }
   ],
   "source": [
    "print(df.interpolate(limit=1))"
   ]
  },
  {
   "cell_type": "code",
   "execution_count": 6,
   "metadata": {},
   "outputs": [
    {
     "name": "stdout",
     "output_type": "stream",
     "text": [
      "   col1  col2  col3\n",
      "0   0.0   NaN   4.0\n",
      "1   1.0   1.0   5.0\n",
      "2   NaN   2.0   NaN\n",
      "3   3.0   2.0   7.0\n",
      "4   4.0   NaN  10.0\n"
     ]
    }
   ],
   "source": [
    "print(df.interpolate(limit=1, limit_direction='forward'))"
   ]
  },
  {
   "cell_type": "code",
   "execution_count": 7,
   "metadata": {},
   "outputs": [
    {
     "name": "stdout",
     "output_type": "stream",
     "text": [
      "   col1  col2  col3\n",
      "0   0.0   1.0   4.0\n",
      "1   NaN   1.0   NaN\n",
      "2   2.0   2.0   6.0\n",
      "3   3.0   NaN   7.0\n",
      "4   4.0   NaN  10.0\n"
     ]
    }
   ],
   "source": [
    "print(df.interpolate(limit=1, limit_direction='backward'))"
   ]
  },
  {
   "cell_type": "code",
   "execution_count": 8,
   "metadata": {},
   "outputs": [
    {
     "name": "stdout",
     "output_type": "stream",
     "text": [
      "   col1  col2  col3\n",
      "0   0.0   1.0   4.0\n",
      "1   1.0   1.0   5.0\n",
      "2   2.0   2.0   6.0\n",
      "3   3.0   2.0   7.0\n",
      "4   4.0   NaN  10.0\n"
     ]
    }
   ],
   "source": [
    "print(df.interpolate(limit=1, limit_direction='both'))"
   ]
  },
  {
   "cell_type": "code",
   "execution_count": 9,
   "metadata": {},
   "outputs": [
    {
     "name": "stdout",
     "output_type": "stream",
     "text": [
      "   col1  col2  col3\n",
      "0   0.0   1.0   4.0\n",
      "1   1.0   1.0   5.0\n",
      "2   2.0   2.0   6.0\n",
      "3   3.0   2.0   7.0\n",
      "4   4.0   2.0  10.0\n"
     ]
    }
   ],
   "source": [
    "print(df.interpolate(limit_direction='both'))"
   ]
  },
  {
   "cell_type": "code",
   "execution_count": 10,
   "metadata": {},
   "outputs": [
    {
     "name": "stdout",
     "output_type": "stream",
     "text": [
      "   col1  col2  col3\n",
      "0   0.0   NaN   4.0\n",
      "1   1.0   1.0   5.0\n",
      "2   2.0   2.0   6.0\n",
      "3   3.0   NaN   7.0\n",
      "4   4.0   NaN  10.0\n"
     ]
    }
   ],
   "source": [
    "print(df.interpolate(limit_area='inside'))"
   ]
  },
  {
   "cell_type": "code",
   "execution_count": 11,
   "metadata": {},
   "outputs": [
    {
     "name": "stdout",
     "output_type": "stream",
     "text": [
      "   col1  col2  col3\n",
      "0   0.0   NaN   4.0\n",
      "1   NaN   1.0   NaN\n",
      "2   NaN   2.0   NaN\n",
      "3   3.0   2.0   7.0\n",
      "4   4.0   2.0  10.0\n"
     ]
    }
   ],
   "source": [
    "print(df.interpolate(limit_area='outside'))"
   ]
  },
  {
   "cell_type": "code",
   "execution_count": 12,
   "metadata": {},
   "outputs": [
    {
     "name": "stdout",
     "output_type": "stream",
     "text": [
      "   col1  col2  col3\n",
      "0   0.0   1.0   4.0\n",
      "1   NaN   1.0   NaN\n",
      "2   NaN   2.0   NaN\n",
      "3   3.0   2.0   7.0\n",
      "4   4.0   2.0  10.0\n"
     ]
    }
   ],
   "source": [
    "print(df.interpolate(limit_area='outside', limit_direction='both'))"
   ]
  },
  {
   "cell_type": "code",
   "execution_count": 13,
   "metadata": {
    "scrolled": true
   },
   "outputs": [
    {
     "name": "stdout",
     "output_type": "stream",
     "text": [
      "   col1  col2  col3\n",
      "0   0.0   NaN   4.0\n",
      "1   1.0   1.0   5.0\n",
      "2   2.0   2.0   6.0\n",
      "3   3.0   2.0   7.0\n",
      "4   4.0   2.0  10.0\n"
     ]
    }
   ],
   "source": [
    "df.interpolate(inplace=True)\n",
    "print(df)"
   ]
  },
  {
   "cell_type": "code",
   "execution_count": 14,
   "metadata": {},
   "outputs": [
    {
     "name": "stdout",
     "output_type": "stream",
     "text": [
      "0    0.0\n",
      "4    NaN\n",
      "6    NaN\n",
      "8    3.0\n",
      "dtype: float64\n"
     ]
    }
   ],
   "source": [
    "s = pd.Series([0, np.nan, np.nan, 3],\n",
    "              index=[0, 4, 6, 8])\n",
    "print(s)"
   ]
  },
  {
   "cell_type": "code",
   "execution_count": 15,
   "metadata": {},
   "outputs": [
    {
     "name": "stdout",
     "output_type": "stream",
     "text": [
      "0    0.0\n",
      "4    1.0\n",
      "6    2.0\n",
      "8    3.0\n",
      "dtype: float64\n"
     ]
    }
   ],
   "source": [
    "print(s.interpolate())"
   ]
  },
  {
   "cell_type": "code",
   "execution_count": 16,
   "metadata": {},
   "outputs": [
    {
     "name": "stdout",
     "output_type": "stream",
     "text": [
      "0    0.00\n",
      "4    1.50\n",
      "6    2.25\n",
      "8    3.00\n",
      "dtype: float64\n"
     ]
    }
   ],
   "source": [
    "print(s.interpolate('index'))"
   ]
  },
  {
   "cell_type": "code",
   "execution_count": 17,
   "metadata": {},
   "outputs": [
    {
     "name": "stdout",
     "output_type": "stream",
     "text": [
      "a    0.0\n",
      "b    NaN\n",
      "c    NaN\n",
      "d    3.0\n",
      "dtype: float64\n"
     ]
    }
   ],
   "source": [
    "s.index = list('abcd')\n",
    "print(s)"
   ]
  },
  {
   "cell_type": "code",
   "execution_count": 18,
   "metadata": {},
   "outputs": [
    {
     "name": "stdout",
     "output_type": "stream",
     "text": [
      "a    0.0\n",
      "b    1.0\n",
      "c    2.0\n",
      "d    3.0\n",
      "dtype: float64\n"
     ]
    }
   ],
   "source": [
    "print(s.interpolate())"
   ]
  },
  {
   "cell_type": "code",
   "execution_count": 19,
   "metadata": {},
   "outputs": [],
   "source": [
    "# print(s.interpolate('index'))\n",
    "# TypeError: Cannot cast array data from dtype('O') to dtype('float64') according to the rule 'safe'"
   ]
  },
  {
   "cell_type": "code",
   "execution_count": 20,
   "metadata": {},
   "outputs": [
    {
     "name": "stdout",
     "output_type": "stream",
     "text": [
      "0    NaN\n",
      "1    1.0\n",
      "2    NaN\n",
      "3    2.0\n",
      "4    NaN\n",
      "dtype: float64\n"
     ]
    }
   ],
   "source": [
    "s = pd.Series([np.nan, 1, np.nan, 2, np.nan])\n",
    "print(s)"
   ]
  },
  {
   "cell_type": "code",
   "execution_count": 21,
   "metadata": {},
   "outputs": [
    {
     "name": "stdout",
     "output_type": "stream",
     "text": [
      "0    NaN\n",
      "1    1.0\n",
      "2    1.0\n",
      "3    2.0\n",
      "4    2.0\n",
      "dtype: float64\n"
     ]
    }
   ],
   "source": [
    "print(s.interpolate('ffill'))"
   ]
  },
  {
   "cell_type": "code",
   "execution_count": 22,
   "metadata": {},
   "outputs": [
    {
     "name": "stdout",
     "output_type": "stream",
     "text": [
      "0    1.0\n",
      "1    1.0\n",
      "2    2.0\n",
      "3    2.0\n",
      "4    NaN\n",
      "dtype: float64\n"
     ]
    }
   ],
   "source": [
    "print(s.interpolate('bfill'))"
   ]
  },
  {
   "cell_type": "code",
   "execution_count": 23,
   "metadata": {},
   "outputs": [],
   "source": [
    "# s.interpolate('ffill', limit_direction='both')\n",
    "# ValueError: `limit_direction` must be 'forward' for method `ffill`"
   ]
  },
  {
   "cell_type": "code",
   "execution_count": 24,
   "metadata": {},
   "outputs": [],
   "source": [
    "# s.interpolate('bfill', limit_direction='both')\n",
    "# ValueError: `limit_direction` must be 'backward' for method `bfill`"
   ]
  },
  {
   "cell_type": "code",
   "execution_count": 25,
   "metadata": {},
   "outputs": [
    {
     "name": "stdout",
     "output_type": "stream",
     "text": [
      "0    NaN\n",
      "1    1.0\n",
      "2    1.0\n",
      "3    2.0\n",
      "4    2.0\n",
      "dtype: float64\n"
     ]
    }
   ],
   "source": [
    "print(s.fillna(method='ffill'))"
   ]
  },
  {
   "cell_type": "code",
   "execution_count": 26,
   "metadata": {},
   "outputs": [
    {
     "name": "stdout",
     "output_type": "stream",
     "text": [
      "0    1.0\n",
      "1    1.0\n",
      "2    2.0\n",
      "3    2.0\n",
      "4    NaN\n",
      "dtype: float64\n"
     ]
    }
   ],
   "source": [
    "print(s.fillna(method='bfill'))"
   ]
  },
  {
   "cell_type": "code",
   "execution_count": 27,
   "metadata": {},
   "outputs": [
    {
     "name": "stdout",
     "output_type": "stream",
     "text": [
      "0      0.0\n",
      "2     10.0\n",
      "5      NaN\n",
      "6      NaN\n",
      "8      4.0\n",
      "12     NaN\n",
      "dtype: float64\n"
     ]
    }
   ],
   "source": [
    "s = pd.Series([0, 10, np.nan, np.nan, 4, np.nan],\n",
    "              index=[0, 2, 5, 6, 8, 12])\n",
    "print(s)"
   ]
  },
  {
   "cell_type": "code",
   "execution_count": 28,
   "metadata": {},
   "outputs": [
    {
     "name": "stdout",
     "output_type": "stream",
     "text": [
      "0      0.00\n",
      "2     10.00\n",
      "5     13.75\n",
      "6     12.00\n",
      "8      4.00\n",
      "12   -30.00\n",
      "dtype: float64\n"
     ]
    }
   ],
   "source": [
    "print(s.interpolate('spline', order=2))"
   ]
  },
  {
   "cell_type": "code",
   "execution_count": 29,
   "metadata": {},
   "outputs": [
    {
     "name": "stdout",
     "output_type": "stream",
     "text": [
      "0     0.0\n",
      "1    10.0\n",
      "2     NaN\n",
      "3     NaN\n",
      "4     4.0\n",
      "5     NaN\n",
      "dtype: float64\n"
     ]
    }
   ],
   "source": [
    "s.index = range(6)\n",
    "print(s)"
   ]
  },
  {
   "cell_type": "code",
   "execution_count": 30,
   "metadata": {
    "scrolled": true
   },
   "outputs": [
    {
     "name": "stdout",
     "output_type": "stream",
     "text": [
      "0     0.0\n",
      "1    10.0\n",
      "2    14.0\n",
      "3    12.0\n",
      "4     4.0\n",
      "5   -10.0\n",
      "dtype: float64\n"
     ]
    }
   ],
   "source": [
    "print(s.interpolate('spline', order=2))"
   ]
  },
  {
   "cell_type": "code",
   "execution_count": 31,
   "metadata": {},
   "outputs": [
    {
     "name": "stdout",
     "output_type": "stream",
     "text": [
      "a     0.0\n",
      "b    10.0\n",
      "c     NaN\n",
      "d     NaN\n",
      "e     4.0\n",
      "f     NaN\n",
      "dtype: float64\n"
     ]
    }
   ],
   "source": [
    "s.index = list('abcdef')\n",
    "print(s)"
   ]
  },
  {
   "cell_type": "code",
   "execution_count": 32,
   "metadata": {},
   "outputs": [],
   "source": [
    "# print(s.interpolate('spline', order=2))\n",
    "# ValueError: Index column must be numeric or datetime type when using spline method other than linear.\n",
    "# Try setting a numeric or datetime index column before interpolating."
   ]
  },
  {
   "cell_type": "code",
   "execution_count": 33,
   "metadata": {},
   "outputs": [
    {
     "name": "stdout",
     "output_type": "stream",
     "text": [
      "0      A\n",
      "1    NaN\n",
      "2      C\n",
      "dtype: object\n"
     ]
    }
   ],
   "source": [
    "s_object = pd.Series(['A', np.nan, 'C'])\n",
    "print(s_object)"
   ]
  },
  {
   "cell_type": "code",
   "execution_count": 34,
   "metadata": {},
   "outputs": [
    {
     "name": "stdout",
     "output_type": "stream",
     "text": [
      "0      A\n",
      "1    NaN\n",
      "2      C\n",
      "dtype: object\n"
     ]
    }
   ],
   "source": [
    "print(s_object.interpolate())"
   ]
  },
  {
   "cell_type": "code",
   "execution_count": 35,
   "metadata": {},
   "outputs": [
    {
     "name": "stdout",
     "output_type": "stream",
     "text": [
      "0    A\n",
      "1    A\n",
      "2    C\n",
      "dtype: object\n"
     ]
    }
   ],
   "source": [
    "print(s_object.interpolate('ffill'))"
   ]
  },
  {
   "cell_type": "code",
   "execution_count": 36,
   "metadata": {},
   "outputs": [
    {
     "name": "stdout",
     "output_type": "stream",
     "text": [
      "0      0\n",
      "1    NaN\n",
      "2      2\n",
      "dtype: object\n"
     ]
    }
   ],
   "source": [
    "s_object_num = pd.Series([0, np.nan, 2], dtype=object)\n",
    "print(s_object_num)"
   ]
  },
  {
   "cell_type": "code",
   "execution_count": 37,
   "metadata": {},
   "outputs": [
    {
     "name": "stdout",
     "output_type": "stream",
     "text": [
      "0      0\n",
      "1    NaN\n",
      "2      2\n",
      "dtype: object\n"
     ]
    }
   ],
   "source": [
    "print(s_object_num.interpolate())"
   ]
  },
  {
   "cell_type": "code",
   "execution_count": 38,
   "metadata": {},
   "outputs": [
    {
     "name": "stdout",
     "output_type": "stream",
     "text": [
      "0    0\n",
      "1    0\n",
      "2    2\n",
      "dtype: int64\n"
     ]
    }
   ],
   "source": [
    "print(s_object_num.interpolate('ffill'))"
   ]
  },
  {
   "cell_type": "code",
   "execution_count": 39,
   "metadata": {},
   "outputs": [
    {
     "name": "stdout",
     "output_type": "stream",
     "text": [
      "0    0.0\n",
      "1    1.0\n",
      "2    2.0\n",
      "dtype: float64\n"
     ]
    }
   ],
   "source": [
    "print(s_object_num.astype(float).interpolate())"
   ]
  },
  {
   "cell_type": "code",
   "execution_count": 40,
   "metadata": {},
   "outputs": [],
   "source": [
    "# print(s_object_num.astype(int))\n",
    "# ValueError: cannot convert float NaN to integer"
   ]
  }
 ],
 "metadata": {
  "kernelspec": {
   "display_name": "Python 3",
   "language": "python",
   "name": "python3"
  },
  "language_info": {
   "codemirror_mode": {
    "name": "ipython",
    "version": 3
   },
   "file_extension": ".py",
   "mimetype": "text/x-python",
   "name": "python",
   "nbconvert_exporter": "python",
   "pygments_lexer": "ipython3",
   "version": "3.9.9"
  }
 },
 "nbformat": 4,
 "nbformat_minor": 2
}
