{
 "cells": [
  {
   "cell_type": "code",
   "execution_count": 1,
   "metadata": {},
   "outputs": [],
   "source": [
    "import pandas as pd"
   ]
  },
  {
   "cell_type": "code",
   "execution_count": 2,
   "metadata": {},
   "outputs": [],
   "source": [
    "df = pd.DataFrame({'a': range(1, 6),\n",
    "                   'b': [x**2 for x in range(1, 6)],\n",
    "                   'c': [x**3 for x in range(1, 6)]})"
   ]
  },
  {
   "cell_type": "code",
   "execution_count": 3,
   "metadata": {},
   "outputs": [
    {
     "name": "stdout",
     "output_type": "stream",
     "text": [
      "   a   b    c\n",
      "0  1   1    1\n",
      "1  2   4    8\n",
      "2  3   9   27\n",
      "3  4  16   64\n",
      "4  5  25  125\n"
     ]
    }
   ],
   "source": [
    "print(df)"
   ]
  },
  {
   "cell_type": "code",
   "execution_count": 4,
   "metadata": {},
   "outputs": [
    {
     "name": "stdout",
     "output_type": "stream",
     "text": [
      "     a    b     c\n",
      "0  NaN  NaN   NaN\n",
      "1  1.0  3.0   7.0\n",
      "2  1.0  5.0  19.0\n",
      "3  1.0  7.0  37.0\n",
      "4  1.0  9.0  61.0\n"
     ]
    }
   ],
   "source": [
    "print(df.diff())"
   ]
  },
  {
   "cell_type": "code",
   "execution_count": 5,
   "metadata": {},
   "outputs": [
    {
     "name": "stdout",
     "output_type": "stream",
     "text": [
      "     a    b     c\n",
      "0  NaN  NaN   NaN\n",
      "1  1.0  3.0   7.0\n",
      "2  1.0  5.0  19.0\n",
      "3  1.0  7.0  37.0\n",
      "4  1.0  9.0  61.0\n"
     ]
    }
   ],
   "source": [
    "print(df.diff(1))"
   ]
  },
  {
   "cell_type": "code",
   "execution_count": 6,
   "metadata": {},
   "outputs": [
    {
     "name": "stdout",
     "output_type": "stream",
     "text": [
      "     a     b     c\n",
      "0  NaN   NaN   NaN\n",
      "1  NaN   NaN   NaN\n",
      "2  2.0   8.0  26.0\n",
      "3  2.0  12.0  56.0\n",
      "4  2.0  16.0  98.0\n"
     ]
    }
   ],
   "source": [
    "print(df.diff(2))"
   ]
  },
  {
   "cell_type": "code",
   "execution_count": 7,
   "metadata": {},
   "outputs": [
    {
     "name": "stdout",
     "output_type": "stream",
     "text": [
      "     a    b     c\n",
      "0 -1.0 -3.0  -7.0\n",
      "1 -1.0 -5.0 -19.0\n",
      "2 -1.0 -7.0 -37.0\n",
      "3 -1.0 -9.0 -61.0\n",
      "4  NaN  NaN   NaN\n"
     ]
    }
   ],
   "source": [
    "print(df.diff(-1))"
   ]
  },
  {
   "cell_type": "code",
   "execution_count": 8,
   "metadata": {},
   "outputs": [
    {
     "name": "stdout",
     "output_type": "stream",
     "text": [
      "    a     b      c\n",
      "0 NaN   0.0    0.0\n",
      "1 NaN   2.0    4.0\n",
      "2 NaN   6.0   18.0\n",
      "3 NaN  12.0   48.0\n",
      "4 NaN  20.0  100.0\n"
     ]
    }
   ],
   "source": [
    "print(df.diff(axis=1))"
   ]
  },
  {
   "cell_type": "code",
   "execution_count": 9,
   "metadata": {},
   "outputs": [
    {
     "name": "stdout",
     "output_type": "stream",
     "text": [
      "      a      b   c\n",
      "0   0.0    0.0 NaN\n",
      "1  -2.0   -4.0 NaN\n",
      "2  -6.0  -18.0 NaN\n",
      "3 -12.0  -48.0 NaN\n",
      "4 -20.0 -100.0 NaN\n"
     ]
    }
   ],
   "source": [
    "print(df.diff(-1, axis=1))"
   ]
  },
  {
   "cell_type": "code",
   "execution_count": 10,
   "metadata": {},
   "outputs": [
    {
     "name": "stdout",
     "output_type": "stream",
     "text": [
      "     a     b     c\n",
      "2  2.0   8.0  26.0\n",
      "3  2.0  12.0  56.0\n",
      "4  2.0  16.0  98.0\n"
     ]
    }
   ],
   "source": [
    "print(df.diff(2).dropna())"
   ]
  },
  {
   "cell_type": "code",
   "execution_count": 11,
   "metadata": {},
   "outputs": [
    {
     "name": "stdout",
     "output_type": "stream",
     "text": [
      "     a     b     c\n",
      "0  0.0   0.0   0.0\n",
      "1  0.0   0.0   0.0\n",
      "2  2.0   8.0  26.0\n",
      "3  2.0  12.0  56.0\n",
      "4  2.0  16.0  98.0\n"
     ]
    }
   ],
   "source": [
    "print(df.diff(2).fillna(0))"
   ]
  },
  {
   "cell_type": "code",
   "execution_count": 12,
   "metadata": {},
   "outputs": [
    {
     "name": "stdout",
     "output_type": "stream",
     "text": [
      "     a     b     c\n",
      "0  2.0   8.0  26.0\n",
      "1  2.0   8.0  26.0\n",
      "2  2.0   8.0  26.0\n",
      "3  2.0  12.0  56.0\n",
      "4  2.0  16.0  98.0\n"
     ]
    }
   ],
   "source": [
    "print(df.diff(2).fillna(method='bfill'))"
   ]
  },
  {
   "cell_type": "code",
   "execution_count": 13,
   "metadata": {},
   "outputs": [
    {
     "name": "stdout",
     "output_type": "stream",
     "text": [
      "   a   b    c  b_diff\n",
      "0  1   1    1    -3.0\n",
      "1  2   4    8    -5.0\n",
      "2  3   9   27    -7.0\n",
      "3  4  16   64    -9.0\n",
      "4  5  25  125     NaN\n"
     ]
    }
   ],
   "source": [
    "df['b_diff'] = df['b'].diff(-1)\n",
    "print(df)"
   ]
  }
 ],
 "metadata": {
  "kernelspec": {
   "display_name": "Python 3",
   "language": "python",
   "name": "python3"
  },
  "language_info": {
   "codemirror_mode": {
    "name": "ipython",
    "version": 3
   },
   "file_extension": ".py",
   "mimetype": "text/x-python",
   "name": "python",
   "nbconvert_exporter": "python",
   "pygments_lexer": "ipython3",
   "version": "3.7.0"
  }
 },
 "nbformat": 4,
 "nbformat_minor": 2
}
