{
 "cells": [
  {
   "cell_type": "code",
   "execution_count": 1,
   "metadata": {},
   "outputs": [],
   "source": [
    "import cv2\n",
    "import numpy as np"
   ]
  },
  {
   "cell_type": "code",
   "execution_count": 2,
   "metadata": {},
   "outputs": [],
   "source": [
    "img = cv2.imread('data/src/lena.jpg')"
   ]
  },
  {
   "cell_type": "code",
   "execution_count": 3,
   "metadata": {},
   "outputs": [],
   "source": [
    "h, w, c = img.shape"
   ]
  },
  {
   "cell_type": "markdown",
   "metadata": {},
   "source": [
    "![](data/src/lena.jpg)"
   ]
  },
  {
   "cell_type": "code",
   "execution_count": 4,
   "metadata": {},
   "outputs": [],
   "source": [
    "src_pts = np.array([[0, 0], [0, h], [w, h], [w, 0]], dtype=np.float32)\n",
    "dst_pts = np.array([[20, 50], [50, 175], [300, 205], [380, 20]], dtype=np.float32)"
   ]
  },
  {
   "cell_type": "code",
   "execution_count": 5,
   "metadata": {},
   "outputs": [
    {
     "name": "stdout",
     "output_type": "stream",
     "text": [
      "[[ 5.42651593e-01  2.04362225e-01  2.00000000e+01]\n",
      " [-9.38078109e-02  8.04156675e-01  5.00000000e+01]\n",
      " [-9.40390545e-04  1.42057782e-03  1.00000000e+00]]\n"
     ]
    }
   ],
   "source": [
    "mat = cv2.getPerspectiveTransform(src_pts, dst_pts)\n",
    "print(mat)"
   ]
  },
  {
   "cell_type": "code",
   "execution_count": 6,
   "metadata": {},
   "outputs": [
    {
     "data": {
      "text/plain": [
       "True"
      ]
     },
     "execution_count": 6,
     "metadata": {},
     "output_type": "execute_result"
    }
   ],
   "source": [
    "perspective_img = cv2.warpPerspective(img, mat, (w, h))\n",
    "cv2.imwrite('data/dst/opencv_perspective_dst.jpg', perspective_img)"
   ]
  },
  {
   "cell_type": "markdown",
   "metadata": {},
   "source": [
    "![](data/dst/opencv_perspective_dst.jpg)"
   ]
  },
  {
   "cell_type": "code",
   "execution_count": 7,
   "metadata": {},
   "outputs": [
    {
     "name": "stdout",
     "output_type": "stream",
     "text": [
      "[[ 1.60933274e+00 -3.86239857e-01 -1.28746619e+01]\n",
      " [ 1.02707766e-01  1.23249319e+00 -6.36788147e+01]\n",
      " [ 1.36749691e-03 -2.11406880e-03  1.00000000e+00]]\n"
     ]
    }
   ],
   "source": [
    "mat_i = cv2.getPerspectiveTransform(dst_pts, src_pts)\n",
    "print(mat_i)"
   ]
  },
  {
   "cell_type": "code",
   "execution_count": 8,
   "metadata": {},
   "outputs": [
    {
     "data": {
      "text/plain": [
       "True"
      ]
     },
     "execution_count": 8,
     "metadata": {},
     "output_type": "execute_result"
    }
   ],
   "source": [
    "perspective_img_i = cv2.warpPerspective(perspective_img, mat_i, (w, h))\n",
    "cv2.imwrite('data/dst/opencv_perspective_dst_inverse.jpg', perspective_img_i)"
   ]
  },
  {
   "cell_type": "markdown",
   "metadata": {},
   "source": [
    "![](data/dst/opencv_perspective_dst_inverse.jpg)"
   ]
  }
 ],
 "metadata": {
  "kernelspec": {
   "display_name": "Python 3",
   "language": "python",
   "name": "python3"
  },
  "language_info": {
   "codemirror_mode": {
    "name": "ipython",
    "version": 3
   },
   "file_extension": ".py",
   "mimetype": "text/x-python",
   "name": "python",
   "nbconvert_exporter": "python",
   "pygments_lexer": "ipython3",
   "version": "3.7.2"
  }
 },
 "nbformat": 4,
 "nbformat_minor": 2
}
