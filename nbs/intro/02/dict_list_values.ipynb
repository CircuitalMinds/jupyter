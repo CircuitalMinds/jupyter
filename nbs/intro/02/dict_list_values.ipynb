{
 "cells": [
  {
   "cell_type": "code",
   "execution_count": 1,
   "metadata": {
    "collapsed": true
   },
   "outputs": [],
   "source": [
    "l = [{'Name': 'Alice', 'Age': 40, 'Point': 80}, \n",
    "     {'Name': 'Bob', 'Age': 20},\n",
    "     {'Name': 'Charlie', 'Age': 30, 'Point': 70}]"
   ]
  },
  {
   "cell_type": "code",
   "execution_count": 2,
   "metadata": {},
   "outputs": [
    {
     "name": "stdout",
     "output_type": "stream",
     "text": [
      "['Alice', 'Bob', 'Charlie']\n"
     ]
    }
   ],
   "source": [
    "l_name = [d.get('Name') for d in l]\n",
    "print(l_name)"
   ]
  },
  {
   "cell_type": "code",
   "execution_count": 3,
   "metadata": {},
   "outputs": [
    {
     "name": "stdout",
     "output_type": "stream",
     "text": [
      "[40, 20, 30]\n"
     ]
    }
   ],
   "source": [
    "l_age = [d.get('Age') for d in l]\n",
    "print(l_age)"
   ]
  },
  {
   "cell_type": "code",
   "execution_count": 4,
   "metadata": {},
   "outputs": [
    {
     "name": "stdout",
     "output_type": "stream",
     "text": [
      "[80, None, 70]\n"
     ]
    }
   ],
   "source": [
    "l_point = [d.get('Point') for d in l]\n",
    "print(l_point)"
   ]
  },
  {
   "cell_type": "code",
   "execution_count": 5,
   "metadata": {},
   "outputs": [
    {
     "name": "stdout",
     "output_type": "stream",
     "text": [
      "['Alice', 'Bob', 'Charlie']\n"
     ]
    }
   ],
   "source": [
    "l_name = [d['Name'] for d in l]\n",
    "print(l_name)"
   ]
  },
  {
   "cell_type": "code",
   "execution_count": 6,
   "metadata": {
    "collapsed": true
   },
   "outputs": [],
   "source": [
    "# l_point = [d['Point'] for d in l]\n",
    "# KeyError: 'Point'"
   ]
  },
  {
   "cell_type": "code",
   "execution_count": 7,
   "metadata": {},
   "outputs": [
    {
     "name": "stdout",
     "output_type": "stream",
     "text": [
      "[80, 0, 70]\n"
     ]
    }
   ],
   "source": [
    "l_point_default = [d.get('Point', 0) for d in l]\n",
    "print(l_point_default)"
   ]
  },
  {
   "cell_type": "code",
   "execution_count": 8,
   "metadata": {},
   "outputs": [
    {
     "name": "stdout",
     "output_type": "stream",
     "text": [
      "[80, 70]\n"
     ]
    }
   ],
   "source": [
    "l_point_ignore = [d.get('Point') for d in l if d.get('Point')]\n",
    "print(l_point_ignore)"
   ]
  }
 ],
 "metadata": {
  "kernelspec": {
   "display_name": "Python 3",
   "language": "python",
   "name": "python3"
  },
  "language_info": {
   "codemirror_mode": {
    "name": "ipython",
    "version": 3
   },
   "file_extension": ".py",
   "mimetype": "text/x-python",
   "name": "python",
   "nbconvert_exporter": "python",
   "pygments_lexer": "ipython3",
   "version": "3.6.5"
  }
 },
 "nbformat": 4,
 "nbformat_minor": 2
}
