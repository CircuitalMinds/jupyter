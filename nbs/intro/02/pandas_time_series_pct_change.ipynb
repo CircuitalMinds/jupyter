{
 "cells": [
  {
   "cell_type": "code",
   "execution_count": 1,
   "metadata": {},
   "outputs": [],
   "source": [
    "import pandas as pd"
   ]
  },
  {
   "cell_type": "code",
   "execution_count": 2,
   "metadata": {},
   "outputs": [],
   "source": [
    "df = pd.DataFrame({'value': range(1, 16, 2)},\n",
    "                  index=pd.date_range('2018-01-01', '2018-01-15', freq='2D'))"
   ]
  },
  {
   "cell_type": "code",
   "execution_count": 3,
   "metadata": {},
   "outputs": [
    {
     "name": "stdout",
     "output_type": "stream",
     "text": [
      "            value\n",
      "2018-01-01      1\n",
      "2018-01-03      3\n",
      "2018-01-05      5\n",
      "2018-01-07      7\n",
      "2018-01-09      9\n",
      "2018-01-11     11\n",
      "2018-01-13     13\n",
      "2018-01-15     15\n"
     ]
    }
   ],
   "source": [
    "print(df)"
   ]
  },
  {
   "cell_type": "code",
   "execution_count": 4,
   "metadata": {},
   "outputs": [
    {
     "name": "stdout",
     "output_type": "stream",
     "text": [
      "               value\n",
      "2018-01-01       NaN\n",
      "2018-01-03  2.000000\n",
      "2018-01-05  0.666667\n",
      "2018-01-07  0.400000\n",
      "2018-01-09  0.285714\n",
      "2018-01-11  0.222222\n",
      "2018-01-13  0.181818\n",
      "2018-01-15  0.153846\n"
     ]
    }
   ],
   "source": [
    "print(df.pct_change())"
   ]
  },
  {
   "cell_type": "code",
   "execution_count": 5,
   "metadata": {},
   "outputs": [
    {
     "name": "stdout",
     "output_type": "stream",
     "text": [
      "               value\n",
      "2018-01-01       NaN\n",
      "2018-01-03       NaN\n",
      "2018-01-05  4.000000\n",
      "2018-01-07  1.333333\n",
      "2018-01-09  0.800000\n",
      "2018-01-11  0.571429\n",
      "2018-01-13  0.444444\n",
      "2018-01-15  0.363636\n"
     ]
    }
   ],
   "source": [
    "print(df.pct_change(2))"
   ]
  },
  {
   "cell_type": "code",
   "execution_count": 6,
   "metadata": {},
   "outputs": [
    {
     "name": "stdout",
     "output_type": "stream",
     "text": [
      "               value\n",
      "2018-01-01       NaN\n",
      "2018-01-03  2.000000\n",
      "2018-01-05  0.666667\n",
      "2018-01-07  0.400000\n",
      "2018-01-09  0.285714\n",
      "2018-01-11  0.222222\n",
      "2018-01-13  0.181818\n",
      "2018-01-15  0.153846\n"
     ]
    }
   ],
   "source": [
    "print(df.pct_change(freq='2D'))"
   ]
  },
  {
   "cell_type": "code",
   "execution_count": 7,
   "metadata": {},
   "outputs": [
    {
     "name": "stdout",
     "output_type": "stream",
     "text": [
      "            value\n",
      "2018-01-01    NaN\n",
      "2018-01-03    NaN\n",
      "2018-01-05    NaN\n",
      "2018-01-07    NaN\n",
      "2018-01-09    NaN\n",
      "2018-01-11    NaN\n",
      "2018-01-13    NaN\n",
      "2018-01-15    NaN\n"
     ]
    }
   ],
   "source": [
    "print(df.pct_change(freq='D'))"
   ]
  }
 ],
 "metadata": {
  "kernelspec": {
   "display_name": "Python 3",
   "language": "python",
   "name": "python3"
  },
  "language_info": {
   "codemirror_mode": {
    "name": "ipython",
    "version": 3
   },
   "file_extension": ".py",
   "mimetype": "text/x-python",
   "name": "python",
   "nbconvert_exporter": "python",
   "pygments_lexer": "ipython3",
   "version": "3.7.0"
  }
 },
 "nbformat": 4,
 "nbformat_minor": 2
}
