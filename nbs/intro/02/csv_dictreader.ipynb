{
 "cells": [
  {
   "cell_type": "code",
   "execution_count": 1,
   "metadata": {},
   "outputs": [],
   "source": [
    "import csv\n",
    "import pprint"
   ]
  },
  {
   "cell_type": "code",
   "execution_count": 2,
   "metadata": {},
   "outputs": [
    {
     "name": "stdout",
     "output_type": "stream",
     "text": [
      "a,b,c,d\n",
      "11,12,13,14\n",
      "21,22,23,24\n",
      "31,32,33,34\n"
     ]
    }
   ],
   "source": [
    "with open('data/src/sample_header.csv') as f:\n",
    "    print(f.read())"
   ]
  },
  {
   "cell_type": "code",
   "execution_count": 3,
   "metadata": {},
   "outputs": [],
   "source": [
    "with open('data/src/sample_header.csv') as f:\n",
    "    reader = csv.DictReader(f)\n",
    "    l = [row for row in reader]"
   ]
  },
  {
   "cell_type": "code",
   "execution_count": 4,
   "metadata": {},
   "outputs": [
    {
     "name": "stdout",
     "output_type": "stream",
     "text": [
      "[OrderedDict([('a', '11'), ('b', '12'), ('c', '13'), ('d', '14')]),\n",
      " OrderedDict([('a', '21'), ('b', '22'), ('c', '23'), ('d', '24')]),\n",
      " OrderedDict([('a', '31'), ('b', '32'), ('c', '33'), ('d', '34')])]\n"
     ]
    }
   ],
   "source": [
    "pprint.pprint(l)"
   ]
  },
  {
   "cell_type": "code",
   "execution_count": 5,
   "metadata": {},
   "outputs": [
    {
     "name": "stdout",
     "output_type": "stream",
     "text": [
      "OrderedDict([('a', '21'), ('b', '22'), ('c', '23'), ('d', '24')])\n"
     ]
    }
   ],
   "source": [
    "print(l[1])"
   ]
  },
  {
   "cell_type": "code",
   "execution_count": 6,
   "metadata": {},
   "outputs": [
    {
     "name": "stdout",
     "output_type": "stream",
     "text": [
      "23\n"
     ]
    }
   ],
   "source": [
    "print(l[1]['c'])"
   ]
  },
  {
   "cell_type": "code",
   "execution_count": 7,
   "metadata": {},
   "outputs": [
    {
     "name": "stdout",
     "output_type": "stream",
     "text": [
      "11,12,13,14\n",
      "21,22,23,24\n",
      "31,32,33,34\n"
     ]
    }
   ],
   "source": [
    "with open('data/src/sample.csv') as f:\n",
    "    print(f.read())"
   ]
  },
  {
   "cell_type": "code",
   "execution_count": 8,
   "metadata": {},
   "outputs": [
    {
     "name": "stdout",
     "output_type": "stream",
     "text": [
      "OrderedDict([('a', '11'), ('b', '12'), ('c', '13'), ('d', '14')])\n",
      "OrderedDict([('a', '21'), ('b', '22'), ('c', '23'), ('d', '24')])\n",
      "OrderedDict([('a', '31'), ('b', '32'), ('c', '33'), ('d', '34')])\n"
     ]
    }
   ],
   "source": [
    "with open('data/src/sample.csv') as f:\n",
    "    reader = csv.DictReader(f, fieldnames=['a', 'b', 'c', 'd'], )\n",
    "    for row in reader:\n",
    "        print(row)"
   ]
  },
  {
   "cell_type": "code",
   "execution_count": 9,
   "metadata": {},
   "outputs": [
    {
     "name": "stdout",
     "output_type": "stream",
     "text": [
      ",a,b,c,d\n",
      "ONE,11,12,13,14\n",
      "TWO,21,22,23,24\n",
      "THREE,31,32,33,34\n"
     ]
    }
   ],
   "source": [
    "with open('data/src/sample_header_index.csv') as f:\n",
    "    print(f.read())"
   ]
  },
  {
   "cell_type": "code",
   "execution_count": 10,
   "metadata": {},
   "outputs": [],
   "source": [
    "with open('data/src/sample_header_index.csv') as f:\n",
    "    reader = csv.DictReader(f)\n",
    "    l = [row for row in reader]"
   ]
  },
  {
   "cell_type": "code",
   "execution_count": 11,
   "metadata": {},
   "outputs": [
    {
     "name": "stdout",
     "output_type": "stream",
     "text": [
      "[OrderedDict([('', 'ONE'), ('a', '11'), ('b', '12'), ('c', '13'), ('d', '14')]),\n",
      " OrderedDict([('', 'TWO'), ('a', '21'), ('b', '22'), ('c', '23'), ('d', '24')]),\n",
      " OrderedDict([('', 'THREE'), ('a', '31'), ('b', '32'), ('c', '33'), ('d', '34')])]\n"
     ]
    }
   ],
   "source": [
    "pprint.pprint(l, width=100)"
   ]
  },
  {
   "cell_type": "code",
   "execution_count": 12,
   "metadata": {},
   "outputs": [
    {
     "name": "stdout",
     "output_type": "stream",
     "text": [
      "['ONE', 'TWO', 'THREE']\n"
     ]
    }
   ],
   "source": [
    "print([od.pop('') for od in l])"
   ]
  },
  {
   "cell_type": "code",
   "execution_count": 13,
   "metadata": {},
   "outputs": [
    {
     "name": "stdout",
     "output_type": "stream",
     "text": [
      "[OrderedDict([('a', '11'), ('b', '12'), ('c', '13'), ('d', '14')]),\n",
      " OrderedDict([('a', '21'), ('b', '22'), ('c', '23'), ('d', '24')]),\n",
      " OrderedDict([('a', '31'), ('b', '32'), ('c', '33'), ('d', '34')])]\n"
     ]
    }
   ],
   "source": [
    "pprint.pprint(l)"
   ]
  }
 ],
 "metadata": {
  "kernelspec": {
   "display_name": "Python 3",
   "language": "python",
   "name": "python3"
  },
  "language_info": {
   "codemirror_mode": {
    "name": "ipython",
    "version": 3
   },
   "file_extension": ".py",
   "mimetype": "text/x-python",
   "name": "python",
   "nbconvert_exporter": "python",
   "pygments_lexer": "ipython3",
   "version": "3.7.2"
  }
 },
 "nbformat": 4,
 "nbformat_minor": 2
}
