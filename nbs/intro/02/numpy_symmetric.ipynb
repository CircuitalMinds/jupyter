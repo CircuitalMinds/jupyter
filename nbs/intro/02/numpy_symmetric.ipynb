{
 "cells": [
  {
   "cell_type": "code",
   "execution_count": 1,
   "metadata": {},
   "outputs": [],
   "source": [
    "import numpy as np"
   ]
  },
  {
   "cell_type": "code",
   "execution_count": 2,
   "metadata": {},
   "outputs": [
    {
     "name": "stdout",
     "output_type": "stream",
     "text": [
      "[[ 0  1  2  3]\n",
      " [ 4  5  6  7]\n",
      " [ 8  9 10 11]\n",
      " [12 13 14 15]]\n"
     ]
    }
   ],
   "source": [
    "a = np.arange(16).reshape(4, 4)\n",
    "print(a)"
   ]
  },
  {
   "cell_type": "code",
   "execution_count": 3,
   "metadata": {},
   "outputs": [
    {
     "name": "stdout",
     "output_type": "stream",
     "text": [
      "[[ 0  0  0  0]\n",
      " [ 4  5  0  0]\n",
      " [ 8  9 10  0]\n",
      " [12 13 14 15]]\n"
     ]
    }
   ],
   "source": [
    "print(np.tril(a))"
   ]
  },
  {
   "cell_type": "code",
   "execution_count": 4,
   "metadata": {},
   "outputs": [
    {
     "name": "stdout",
     "output_type": "stream",
     "text": [
      "[[ 0  1  2  3]\n",
      " [ 0  5  6  7]\n",
      " [ 0  0 10 11]\n",
      " [ 0  0  0 15]]\n"
     ]
    }
   ],
   "source": [
    "print(np.triu(a))"
   ]
  },
  {
   "cell_type": "code",
   "execution_count": 5,
   "metadata": {},
   "outputs": [
    {
     "name": "stdout",
     "output_type": "stream",
     "text": [
      "[[ 0  4  8 12]\n",
      " [ 0  5  9 13]\n",
      " [ 0  0 10 14]\n",
      " [ 0  0  0 15]]\n"
     ]
    }
   ],
   "source": [
    "print(np.tril(a).T)"
   ]
  },
  {
   "cell_type": "code",
   "execution_count": 6,
   "metadata": {},
   "outputs": [
    {
     "name": "stdout",
     "output_type": "stream",
     "text": [
      "[[ 0  4  8 12]\n",
      " [ 4 10  9 13]\n",
      " [ 8  9 20 14]\n",
      " [12 13 14 30]]\n"
     ]
    }
   ],
   "source": [
    "print(np.tril(a) + np.tril(a).T)"
   ]
  },
  {
   "cell_type": "code",
   "execution_count": 7,
   "metadata": {},
   "outputs": [
    {
     "name": "stdout",
     "output_type": "stream",
     "text": [
      "[ 0  5 10 15]\n"
     ]
    }
   ],
   "source": [
    "print(a.diagonal())"
   ]
  },
  {
   "cell_type": "code",
   "execution_count": 8,
   "metadata": {},
   "outputs": [
    {
     "name": "stdout",
     "output_type": "stream",
     "text": [
      "[[ 0  0  0  0]\n",
      " [ 0  5  0  0]\n",
      " [ 0  0 10  0]\n",
      " [ 0  0  0 15]]\n"
     ]
    }
   ],
   "source": [
    "print(np.diag(a.diagonal()))"
   ]
  },
  {
   "cell_type": "code",
   "execution_count": 9,
   "metadata": {},
   "outputs": [
    {
     "name": "stdout",
     "output_type": "stream",
     "text": [
      "[[ 0  4  8 12]\n",
      " [ 4  5  9 13]\n",
      " [ 8  9 10 14]\n",
      " [12 13 14 15]]\n"
     ]
    }
   ],
   "source": [
    "print(np.tril(a) + np.tril(a).T - np.diag(a.diagonal()))"
   ]
  },
  {
   "cell_type": "code",
   "execution_count": 10,
   "metadata": {},
   "outputs": [],
   "source": [
    "def get_symmetric(a, use_tril=True):\n",
    "    if use_tril:\n",
    "        a = np.tril(a)\n",
    "    else:\n",
    "        a = np.triu(a)\n",
    "    return a + a.T - np.diag(a.diagonal())"
   ]
  },
  {
   "cell_type": "code",
   "execution_count": 11,
   "metadata": {},
   "outputs": [
    {
     "name": "stdout",
     "output_type": "stream",
     "text": [
      "[[ 0  4  8 12]\n",
      " [ 4  5  9 13]\n",
      " [ 8  9 10 14]\n",
      " [12 13 14 15]]\n"
     ]
    }
   ],
   "source": [
    "print(get_symmetric(a))"
   ]
  },
  {
   "cell_type": "code",
   "execution_count": 12,
   "metadata": {},
   "outputs": [
    {
     "name": "stdout",
     "output_type": "stream",
     "text": [
      "[[ 0  1  2  3]\n",
      " [ 1  5  6  7]\n",
      " [ 2  6 10 11]\n",
      " [ 3  7 11 15]]\n"
     ]
    }
   ],
   "source": [
    "print(get_symmetric(a, False))"
   ]
  },
  {
   "cell_type": "code",
   "execution_count": 13,
   "metadata": {},
   "outputs": [],
   "source": [
    "def is_symmetric(a):\n",
    "    return np.array_equal(a, a.T)"
   ]
  },
  {
   "cell_type": "code",
   "execution_count": 14,
   "metadata": {},
   "outputs": [
    {
     "name": "stdout",
     "output_type": "stream",
     "text": [
      "[[ 0  4  8 12]\n",
      " [ 4  5  9 13]\n",
      " [ 8  9 10 14]\n",
      " [12 13 14 15]]\n"
     ]
    }
   ],
   "source": [
    "a_sym = get_symmetric(a)\n",
    "print(a_sym)"
   ]
  },
  {
   "cell_type": "code",
   "execution_count": 15,
   "metadata": {},
   "outputs": [
    {
     "name": "stdout",
     "output_type": "stream",
     "text": [
      "True\n"
     ]
    }
   ],
   "source": [
    "print(is_symmetric(a_sym))"
   ]
  },
  {
   "cell_type": "code",
   "execution_count": 16,
   "metadata": {},
   "outputs": [
    {
     "name": "stdout",
     "output_type": "stream",
     "text": [
      "False\n"
     ]
    }
   ],
   "source": [
    "print(is_symmetric(a))"
   ]
  },
  {
   "cell_type": "code",
   "execution_count": 17,
   "metadata": {},
   "outputs": [],
   "source": [
    "def get_skew_symmetric(a, use_tril=True):\n",
    "    if use_tril:\n",
    "        a = np.tril(a)\n",
    "    else:\n",
    "        a = np.triu(a)\n",
    "    return a - a.T"
   ]
  },
  {
   "cell_type": "code",
   "execution_count": 18,
   "metadata": {},
   "outputs": [
    {
     "name": "stdout",
     "output_type": "stream",
     "text": [
      "[[  0  -4  -8 -12]\n",
      " [  4   0  -9 -13]\n",
      " [  8   9   0 -14]\n",
      " [ 12  13  14   0]]\n"
     ]
    }
   ],
   "source": [
    "print(get_skew_symmetric(a))"
   ]
  },
  {
   "cell_type": "code",
   "execution_count": 19,
   "metadata": {},
   "outputs": [
    {
     "name": "stdout",
     "output_type": "stream",
     "text": [
      "[[  0   1   2   3]\n",
      " [ -1   0   6   7]\n",
      " [ -2  -6   0  11]\n",
      " [ -3  -7 -11   0]]\n"
     ]
    }
   ],
   "source": [
    "print(get_skew_symmetric(a, False))"
   ]
  },
  {
   "cell_type": "code",
   "execution_count": 20,
   "metadata": {},
   "outputs": [],
   "source": [
    "def is_skew_symmetric(a):\n",
    "    return np.array_equal(a, -a.T)"
   ]
  },
  {
   "cell_type": "code",
   "execution_count": 21,
   "metadata": {},
   "outputs": [
    {
     "name": "stdout",
     "output_type": "stream",
     "text": [
      "[[  0  -4  -8 -12]\n",
      " [  4   0  -9 -13]\n",
      " [  8   9   0 -14]\n",
      " [ 12  13  14   0]]\n"
     ]
    }
   ],
   "source": [
    "a_sk_sym = get_skew_symmetric(a)\n",
    "print(a_sk_sym)"
   ]
  },
  {
   "cell_type": "code",
   "execution_count": 22,
   "metadata": {},
   "outputs": [
    {
     "name": "stdout",
     "output_type": "stream",
     "text": [
      "True\n"
     ]
    }
   ],
   "source": [
    "print(is_skew_symmetric(a_sk_sym))"
   ]
  },
  {
   "cell_type": "code",
   "execution_count": 23,
   "metadata": {},
   "outputs": [
    {
     "name": "stdout",
     "output_type": "stream",
     "text": [
      "False\n"
     ]
    }
   ],
   "source": [
    "print(is_skew_symmetric(a))"
   ]
  }
 ],
 "metadata": {
  "kernelspec": {
   "display_name": "Python 3",
   "language": "python",
   "name": "python3"
  },
  "language_info": {
   "codemirror_mode": {
    "name": "ipython",
    "version": 3
   },
   "file_extension": ".py",
   "mimetype": "text/x-python",
   "name": "python",
   "nbconvert_exporter": "python",
   "pygments_lexer": "ipython3",
   "version": "3.7.6"
  }
 },
 "nbformat": 4,
 "nbformat_minor": 2
}
