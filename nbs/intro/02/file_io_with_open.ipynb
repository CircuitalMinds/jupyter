{
 "cells": [
  {
   "cell_type": "code",
   "execution_count": 1,
   "metadata": {
    "collapsed": true
   },
   "outputs": [],
   "source": [
    "path = 'data/src/test.txt'"
   ]
  },
  {
   "cell_type": "code",
   "execution_count": 2,
   "metadata": {},
   "outputs": [],
   "source": [
    "f = open(path)"
   ]
  },
  {
   "cell_type": "code",
   "execution_count": 3,
   "metadata": {},
   "outputs": [
    {
     "name": "stdout",
     "output_type": "stream",
     "text": [
      "<class '_io.TextIOWrapper'>\n"
     ]
    }
   ],
   "source": [
    "print(type(f))"
   ]
  },
  {
   "cell_type": "code",
   "execution_count": 4,
   "metadata": {
    "collapsed": true
   },
   "outputs": [],
   "source": [
    "f.close()"
   ]
  },
  {
   "cell_type": "code",
   "execution_count": 5,
   "metadata": {},
   "outputs": [
    {
     "name": "stdout",
     "output_type": "stream",
     "text": [
      "<class '_io.TextIOWrapper'>\n"
     ]
    }
   ],
   "source": [
    "with open(path) as f:\n",
    "    print(type(f))"
   ]
  },
  {
   "cell_type": "code",
   "execution_count": 6,
   "metadata": {},
   "outputs": [],
   "source": [
    "# with open('data/src/test_error.txt') as f:\n",
    "#     print(type(f))\n",
    "# FileNotFoundError: [Errno 2] No such file or directory: 'data/src/test_error.txt'"
   ]
  },
  {
   "cell_type": "code",
   "execution_count": 7,
   "metadata": {},
   "outputs": [
    {
     "name": "stdout",
     "output_type": "stream",
     "text": [
      "<class 'str'>\n",
      "line 1\n",
      "line 2\n",
      "line 3\n"
     ]
    }
   ],
   "source": [
    "with open(path) as f:\n",
    "    s = f.read()\n",
    "    print(type(s))\n",
    "    print(s)"
   ]
  },
  {
   "cell_type": "code",
   "execution_count": 8,
   "metadata": {},
   "outputs": [
    {
     "name": "stdout",
     "output_type": "stream",
     "text": [
      "line 1\n",
      "line 2\n",
      "line 3\n"
     ]
    }
   ],
   "source": [
    "with open(path) as f:\n",
    "    s = f.read()\n",
    "\n",
    "print(s)"
   ]
  },
  {
   "cell_type": "code",
   "execution_count": 9,
   "metadata": {},
   "outputs": [
    {
     "name": "stdout",
     "output_type": "stream",
     "text": [
      "<class 'list'>\n",
      "['line 1\\n', 'line 2\\n', 'line 3']\n"
     ]
    }
   ],
   "source": [
    "with open(path) as f:\n",
    "    l = f.readlines()\n",
    "    print(type(l))\n",
    "    print(l)"
   ]
  },
  {
   "cell_type": "code",
   "execution_count": 10,
   "metadata": {},
   "outputs": [
    {
     "name": "stdout",
     "output_type": "stream",
     "text": [
      "['line 1', 'line 2', 'line 3']\n"
     ]
    }
   ],
   "source": [
    "with open(path) as f:\n",
    "    l_strip = [s.strip() for s in f.readlines()]\n",
    "    print(l_strip)"
   ]
  },
  {
   "cell_type": "code",
   "execution_count": 11,
   "metadata": {},
   "outputs": [
    {
     "name": "stdout",
     "output_type": "stream",
     "text": [
      "line 2\n",
      "\n"
     ]
    }
   ],
   "source": [
    "with open(path) as f:\n",
    "    l = f.readlines()\n",
    "    print(l[1])"
   ]
  },
  {
   "cell_type": "code",
   "execution_count": 12,
   "metadata": {},
   "outputs": [
    {
     "name": "stdout",
     "output_type": "stream",
     "text": [
      "line 1\n",
      "\n",
      "line 2\n",
      "\n",
      "line 3\n"
     ]
    }
   ],
   "source": [
    "with open(path) as f:\n",
    "    for s_line in f:\n",
    "        print(s_line)"
   ]
  },
  {
   "cell_type": "code",
   "execution_count": 13,
   "metadata": {},
   "outputs": [
    {
     "name": "stdout",
     "output_type": "stream",
     "text": [
      "line 1\n",
      "\n"
     ]
    }
   ],
   "source": [
    "with open(path) as f:\n",
    "    s_line = f.readline()\n",
    "    print(s_line)"
   ]
  },
  {
   "cell_type": "code",
   "execution_count": 14,
   "metadata": {},
   "outputs": [
    {
     "name": "stdout",
     "output_type": "stream",
     "text": [
      "line 1\n",
      "\n",
      "line 2\n",
      "\n",
      "line 3\n",
      "\n"
     ]
    }
   ],
   "source": [
    "with open(path) as f:\n",
    "    while True:\n",
    "        s_line = f.readline()\n",
    "        print(s_line)\n",
    "        if not s_line:\n",
    "            break"
   ]
  },
  {
   "cell_type": "code",
   "execution_count": 15,
   "metadata": {
    "collapsed": true
   },
   "outputs": [],
   "source": [
    "path_w = 'data/src/test_w.txt'"
   ]
  },
  {
   "cell_type": "code",
   "execution_count": 16,
   "metadata": {},
   "outputs": [
    {
     "name": "stdout",
     "output_type": "stream",
     "text": [
      "New file\n"
     ]
    }
   ],
   "source": [
    "s = 'New file'\n",
    "\n",
    "with open(path_w, mode='w') as f:\n",
    "    f.write(s)\n",
    "\n",
    "with open(path_w) as f:\n",
    "    print(f.read())"
   ]
  },
  {
   "cell_type": "code",
   "execution_count": 17,
   "metadata": {},
   "outputs": [],
   "source": [
    "# with open('data/src/new_dir/test_w.txt', mode='w') as f:\n",
    "#     f.write(s)\n",
    "# FileNotFoundError: [Errno 2] No such file or directory: 'data/src/new_dir/test_w.txt'"
   ]
  },
  {
   "cell_type": "code",
   "execution_count": 18,
   "metadata": {},
   "outputs": [
    {
     "name": "stdout",
     "output_type": "stream",
     "text": [
      "New line 1\n",
      "New line 2\n",
      "New line 3\n"
     ]
    }
   ],
   "source": [
    "s = 'New line 1\\nNew line 2\\nNew line 3'\n",
    "\n",
    "with open(path_w, mode='w') as f:\n",
    "    f.write(s)\n",
    "\n",
    "with open(path_w) as f:\n",
    "    print(f.read())"
   ]
  },
  {
   "cell_type": "code",
   "execution_count": 19,
   "metadata": {},
   "outputs": [
    {
     "name": "stdout",
     "output_type": "stream",
     "text": [
      "OneTwoThree\n"
     ]
    }
   ],
   "source": [
    "l = ['One', 'Two', 'Three']\n",
    "\n",
    "with open(path_w, mode='w') as f:\n",
    "    f.writelines(l)\n",
    "\n",
    "with open(path_w) as f:\n",
    "    print(f.read())"
   ]
  },
  {
   "cell_type": "code",
   "execution_count": 20,
   "metadata": {},
   "outputs": [
    {
     "name": "stdout",
     "output_type": "stream",
     "text": [
      "One\n",
      "Two\n",
      "Three\n"
     ]
    }
   ],
   "source": [
    "with open(path_w, mode='w') as f:\n",
    "    f.write('\\n'.join(l))\n",
    "\n",
    "with open(path_w) as f:\n",
    "    print(f.read())"
   ]
  },
  {
   "cell_type": "code",
   "execution_count": 21,
   "metadata": {},
   "outputs": [],
   "source": [
    "# with open(path_w, mode='x') as f:\n",
    "#     f.write(s)\n",
    "# FileExistsError: [Errno 17] File exists: 'data/src/test_w.txt'"
   ]
  },
  {
   "cell_type": "code",
   "execution_count": 22,
   "metadata": {},
   "outputs": [],
   "source": [
    "try:\n",
    "    with open(path_w, mode='x') as f:\n",
    "        f.write(s)\n",
    "except FileExistsError:\n",
    "    pass"
   ]
  },
  {
   "cell_type": "code",
   "execution_count": 23,
   "metadata": {},
   "outputs": [],
   "source": [
    "import os\n",
    "\n",
    "if not os.path.isfile(path_w):\n",
    "    with open(path_w, mode='w') as f:\n",
    "        f.write(s)"
   ]
  },
  {
   "cell_type": "code",
   "execution_count": 24,
   "metadata": {},
   "outputs": [
    {
     "name": "stdout",
     "output_type": "stream",
     "text": [
      "One\n",
      "Two\n",
      "ThreeFour\n"
     ]
    }
   ],
   "source": [
    "with open(path_w, mode='a') as f:\n",
    "    f.write('Four')\n",
    "\n",
    "with open(path_w) as f:\n",
    "    print(f.read())"
   ]
  },
  {
   "cell_type": "code",
   "execution_count": 25,
   "metadata": {},
   "outputs": [
    {
     "name": "stdout",
     "output_type": "stream",
     "text": [
      "One\n",
      "Two\n",
      "ThreeFour\n",
      "Four\n"
     ]
    }
   ],
   "source": [
    "with open(path_w, mode='a') as f:\n",
    "    f.write('\\nFour')\n",
    "\n",
    "with open(path_w) as f:\n",
    "    print(f.read())"
   ]
  },
  {
   "cell_type": "code",
   "execution_count": 26,
   "metadata": {},
   "outputs": [
    {
     "name": "stdout",
     "output_type": "stream",
     "text": [
      "123456o\n",
      "ThreeFour\n",
      "Four\n"
     ]
    }
   ],
   "source": [
    "with open(path_w, mode='r+') as f:\n",
    "    f.write('123456')\n",
    "\n",
    "with open(path_w) as f:\n",
    "    print(f.read())"
   ]
  },
  {
   "cell_type": "code",
   "execution_count": 27,
   "metadata": {},
   "outputs": [
    {
     "name": "stdout",
     "output_type": "stream",
     "text": [
      "123-56o\n",
      "ThreeFour\n",
      "Four\n"
     ]
    }
   ],
   "source": [
    "with open(path_w, mode='r+') as f:\n",
    "    f.seek(3)\n",
    "    f.write('-')\n",
    "\n",
    "with open(path_w) as f:\n",
    "    print(f.read())"
   ]
  },
  {
   "cell_type": "code",
   "execution_count": 28,
   "metadata": {},
   "outputs": [
    {
     "name": "stdout",
     "output_type": "stream",
     "text": [
      "FIRST\n",
      "123-56o\n",
      "ThreeFour\n",
      "Four\n"
     ]
    }
   ],
   "source": [
    "with open(path_w) as f:\n",
    "    l = f.readlines()\n",
    "\n",
    "l.insert(0, 'FIRST\\n')\n",
    "\n",
    "with open(path_w, mode='w') as f:\n",
    "    f.writelines(l)\n",
    "\n",
    "with open(path_w) as f:\n",
    "    print(f.read())"
   ]
  }
 ],
 "metadata": {
  "kernelspec": {
   "display_name": "Python 3",
   "language": "python",
   "name": "python3"
  },
  "language_info": {
   "codemirror_mode": {
    "name": "ipython",
    "version": 3
   },
   "file_extension": ".py",
   "mimetype": "text/x-python",
   "name": "python",
   "nbconvert_exporter": "python",
   "pygments_lexer": "ipython3",
   "version": "3.6.5"
  }
 },
 "nbformat": 4,
 "nbformat_minor": 2
}
