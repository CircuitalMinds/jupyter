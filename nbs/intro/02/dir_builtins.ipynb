{
 "cells": [
  {
   "cell_type": "code",
   "execution_count": 1,
   "metadata": {},
   "outputs": [],
   "source": [
    "import pprint"
   ]
  },
  {
   "cell_type": "code",
   "execution_count": 2,
   "metadata": {},
   "outputs": [
    {
     "name": "stdout",
     "output_type": "stream",
     "text": [
      "<class 'list'>\n"
     ]
    }
   ],
   "source": [
    "print(type(dir(__builtins__)))"
   ]
  },
  {
   "cell_type": "code",
   "execution_count": 3,
   "metadata": {},
   "outputs": [
    {
     "name": "stdout",
     "output_type": "stream",
     "text": [
      "153\n"
     ]
    }
   ],
   "source": [
    "print(len(dir(__builtins__)))"
   ]
  },
  {
   "cell_type": "code",
   "execution_count": 4,
   "metadata": {},
   "outputs": [
    {
     "name": "stdout",
     "output_type": "stream",
     "text": [
      "['ArithmeticError', 'AssertionError', 'AttributeError', 'BaseException',\n",
      " 'BlockingIOError', 'BrokenPipeError', 'BufferError', 'BytesWarning',\n",
      " 'ChildProcessError', 'ConnectionAbortedError', 'ConnectionError',\n",
      " 'ConnectionRefusedError', 'ConnectionResetError', 'DeprecationWarning',\n",
      " 'EOFError', 'Ellipsis', 'EnvironmentError', 'Exception', 'False',\n",
      " 'FileExistsError', 'FileNotFoundError', 'FloatingPointError', 'FutureWarning',\n",
      " 'GeneratorExit', 'IOError', 'ImportError', 'ImportWarning', 'IndentationError',\n",
      " 'IndexError', 'InterruptedError', 'IsADirectoryError', 'KeyError',\n",
      " 'KeyboardInterrupt', 'LookupError', 'MemoryError', 'ModuleNotFoundError',\n",
      " 'NameError', 'None', 'NotADirectoryError', 'NotImplemented',\n",
      " 'NotImplementedError', 'OSError', 'OverflowError', 'PendingDeprecationWarning',\n",
      " 'PermissionError', 'ProcessLookupError', 'RecursionError', 'ReferenceError',\n",
      " 'ResourceWarning', 'RuntimeError', 'RuntimeWarning', 'StopAsyncIteration',\n",
      " 'StopIteration', 'SyntaxError', 'SyntaxWarning', 'SystemError', 'SystemExit',\n",
      " 'TabError', 'TimeoutError', 'True', 'TypeError', 'UnboundLocalError',\n",
      " 'UnicodeDecodeError', 'UnicodeEncodeError', 'UnicodeError',\n",
      " 'UnicodeTranslateError', 'UnicodeWarning', 'UserWarning', 'ValueError',\n",
      " 'Warning', 'ZeroDivisionError', '__IPYTHON__', '__build_class__', '__debug__',\n",
      " '__doc__', '__import__', '__loader__', '__name__', '__package__', '__spec__',\n",
      " 'abs', 'all', 'any', 'ascii', 'bin', 'bool', 'breakpoint', 'bytearray',\n",
      " 'bytes', 'callable', 'chr', 'classmethod', 'compile', 'complex', 'copyright',\n",
      " 'credits', 'delattr', 'dict', 'dir', 'display', 'divmod', 'enumerate', 'eval',\n",
      " 'exec', 'filter', 'float', 'format', 'frozenset', 'get_ipython', 'getattr',\n",
      " 'globals', 'hasattr', 'hash', 'help', 'hex', 'id', 'input', 'int',\n",
      " 'isinstance', 'issubclass', 'iter', 'len', 'license', 'list', 'locals', 'map',\n",
      " 'max', 'memoryview', 'min', 'next', 'object', 'oct', 'open', 'ord', 'pow',\n",
      " 'print', 'property', 'range', 'repr', 'reversed', 'round', 'set', 'setattr',\n",
      " 'slice', 'sorted', 'staticmethod', 'str', 'sum', 'super', 'tuple', 'type',\n",
      " 'vars', 'zip']\n"
     ]
    }
   ],
   "source": [
    "pprint.pprint(dir(__builtins__), compact=True)"
   ]
  },
  {
   "cell_type": "code",
   "execution_count": 5,
   "metadata": {},
   "outputs": [
    {
     "name": "stdout",
     "output_type": "stream",
     "text": [
      "ArithmeticError\n"
     ]
    }
   ],
   "source": [
    "print(dir(__builtins__)[0])"
   ]
  },
  {
   "cell_type": "code",
   "execution_count": 6,
   "metadata": {},
   "outputs": [
    {
     "name": "stdout",
     "output_type": "stream",
     "text": [
      "<class 'str'>\n"
     ]
    }
   ],
   "source": [
    "print(type(dir(__builtins__)[0]))"
   ]
  },
  {
   "cell_type": "code",
   "execution_count": 7,
   "metadata": {},
   "outputs": [
    {
     "name": "stdout",
     "output_type": "stream",
     "text": [
      "['abs', 'all', 'any', 'ascii', 'bin', 'bool', 'breakpoint', 'bytearray',\n",
      " 'bytes', 'callable', 'chr', 'classmethod', 'compile', 'complex', 'copyright',\n",
      " 'credits', 'delattr', 'dict', 'dir', 'display', 'divmod', 'enumerate', 'eval',\n",
      " 'exec', 'filter', 'float', 'format', 'frozenset', 'get_ipython', 'getattr',\n",
      " 'globals', 'hasattr', 'hash', 'help', 'hex', 'id', 'input', 'int',\n",
      " 'isinstance', 'issubclass', 'iter', 'len', 'license', 'list', 'locals', 'map',\n",
      " 'max', 'memoryview', 'min', 'next', 'object', 'oct', 'open', 'ord', 'pow',\n",
      " 'print', 'property', 'range', 'repr', 'reversed', 'round', 'set', 'setattr',\n",
      " 'slice', 'sorted', 'staticmethod', 'str', 'sum', 'super', 'tuple', 'type',\n",
      " 'vars', 'zip']\n"
     ]
    }
   ],
   "source": [
    "pprint.pprint([s for s in dir(__builtins__) if s.islower() and not s.startswith('_')], compact=True)"
   ]
  },
  {
   "cell_type": "code",
   "execution_count": 8,
   "metadata": {},
   "outputs": [
    {
     "name": "stdout",
     "output_type": "stream",
     "text": [
      "['ArithmeticError', 'AssertionError', 'AttributeError', 'BlockingIOError',\n",
      " 'BrokenPipeError', 'BufferError', 'ChildProcessError',\n",
      " 'ConnectionAbortedError', 'ConnectionError', 'ConnectionRefusedError',\n",
      " 'ConnectionResetError', 'EOFError', 'EnvironmentError', 'FileExistsError',\n",
      " 'FileNotFoundError', 'FloatingPointError', 'IOError', 'ImportError',\n",
      " 'IndentationError', 'IndexError', 'InterruptedError', 'IsADirectoryError',\n",
      " 'KeyError', 'LookupError', 'MemoryError', 'ModuleNotFoundError', 'NameError',\n",
      " 'NotADirectoryError', 'NotImplementedError', 'OSError', 'OverflowError',\n",
      " 'PermissionError', 'ProcessLookupError', 'RecursionError', 'ReferenceError',\n",
      " 'RuntimeError', 'SyntaxError', 'SystemError', 'TabError', 'TimeoutError',\n",
      " 'TypeError', 'UnboundLocalError', 'UnicodeDecodeError', 'UnicodeEncodeError',\n",
      " 'UnicodeError', 'UnicodeTranslateError', 'ValueError', 'ZeroDivisionError']\n"
     ]
    }
   ],
   "source": [
    "pprint.pprint([s for s in dir(__builtins__) if s.endswith('Error')], compact=True)"
   ]
  },
  {
   "cell_type": "code",
   "execution_count": 9,
   "metadata": {},
   "outputs": [
    {
     "name": "stdout",
     "output_type": "stream",
     "text": [
      "['BytesWarning', 'DeprecationWarning', 'FutureWarning', 'ImportWarning',\n",
      " 'PendingDeprecationWarning', 'ResourceWarning', 'RuntimeWarning',\n",
      " 'SyntaxWarning', 'UnicodeWarning', 'UserWarning', 'Warning']\n"
     ]
    }
   ],
   "source": [
    "pprint.pprint([s for s in dir(__builtins__) if s.endswith('Warning')], compact=True)"
   ]
  },
  {
   "cell_type": "code",
   "execution_count": 10,
   "metadata": {},
   "outputs": [
    {
     "name": "stdout",
     "output_type": "stream",
     "text": [
      "True\n"
     ]
    }
   ],
   "source": [
    "print('len' in dir(__builtins__))"
   ]
  }
 ],
 "metadata": {
  "kernelspec": {
   "display_name": "Python 3",
   "language": "python",
   "name": "python3"
  },
  "language_info": {
   "codemirror_mode": {
    "name": "ipython",
    "version": 3
   },
   "file_extension": ".py",
   "mimetype": "text/x-python",
   "name": "python",
   "nbconvert_exporter": "python",
   "pygments_lexer": "ipython3",
   "version": "3.7.3"
  }
 },
 "nbformat": 4,
 "nbformat_minor": 2
}
