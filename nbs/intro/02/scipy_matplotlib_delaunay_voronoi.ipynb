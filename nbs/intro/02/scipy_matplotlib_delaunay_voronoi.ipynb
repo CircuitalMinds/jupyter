{
 "cells": [
  {
   "cell_type": "code",
   "execution_count": 1,
   "metadata": {},
   "outputs": [],
   "source": [
    "from scipy.spatial import Delaunay, delaunay_plot_2d, Voronoi, voronoi_plot_2d\n",
    "import matplotlib.pyplot as plt\n",
    "import numpy as np"
   ]
  },
  {
   "cell_type": "code",
   "execution_count": 2,
   "metadata": {},
   "outputs": [],
   "source": [
    "w = h = 360"
   ]
  },
  {
   "cell_type": "code",
   "execution_count": 3,
   "metadata": {},
   "outputs": [],
   "source": [
    "n = 6\n",
    "np.random.seed(0)\n",
    "pts = np.random.randint(0, w, (n, 2))"
   ]
  },
  {
   "cell_type": "code",
   "execution_count": 4,
   "metadata": {},
   "outputs": [
    {
     "name": "stdout",
     "output_type": "stream",
     "text": [
      "[[172  47]\n",
      " [117 192]\n",
      " [323 251]\n",
      " [195 359]\n",
      " [  9 211]\n",
      " [277 242]]\n"
     ]
    }
   ],
   "source": [
    "print(pts)"
   ]
  },
  {
   "cell_type": "code",
   "execution_count": 5,
   "metadata": {},
   "outputs": [
    {
     "name": "stdout",
     "output_type": "stream",
     "text": [
      "<class 'numpy.ndarray'>\n"
     ]
    }
   ],
   "source": [
    "print(type(pts))"
   ]
  },
  {
   "cell_type": "code",
   "execution_count": 6,
   "metadata": {},
   "outputs": [
    {
     "name": "stdout",
     "output_type": "stream",
     "text": [
      "(6, 2)\n"
     ]
    }
   ],
   "source": [
    "print(pts.shape)"
   ]
  },
  {
   "cell_type": "code",
   "execution_count": 7,
   "metadata": {},
   "outputs": [],
   "source": [
    "tri = Delaunay(pts)"
   ]
  },
  {
   "cell_type": "code",
   "execution_count": 8,
   "metadata": {},
   "outputs": [
    {
     "name": "stdout",
     "output_type": "stream",
     "text": [
      "<class 'scipy.spatial.qhull.Delaunay'>\n"
     ]
    }
   ],
   "source": [
    "print(type(tri))"
   ]
  },
  {
   "cell_type": "code",
   "execution_count": 9,
   "metadata": {},
   "outputs": [],
   "source": [
    "fig = delaunay_plot_2d(tri)\n",
    "fig.savefig('data/dst/scipy_matplotlib_delaunay.png')\n",
    "plt.close()"
   ]
  },
  {
   "cell_type": "markdown",
   "metadata": {},
   "source": [
    "![data/dst/scipy_matplotlib_delaunay.png](data/dst/scipy_matplotlib_delaunay.png)"
   ]
  },
  {
   "cell_type": "code",
   "execution_count": 10,
   "metadata": {},
   "outputs": [
    {
     "name": "stdout",
     "output_type": "stream",
     "text": [
      "[[172.  47.]\n",
      " [117. 192.]\n",
      " [323. 251.]\n",
      " [195. 359.]\n",
      " [  9. 211.]\n",
      " [277. 242.]]\n"
     ]
    }
   ],
   "source": [
    "print(tri.points)"
   ]
  },
  {
   "cell_type": "code",
   "execution_count": 11,
   "metadata": {},
   "outputs": [
    {
     "name": "stdout",
     "output_type": "stream",
     "text": [
      "[[ True  True]\n",
      " [ True  True]\n",
      " [ True  True]\n",
      " [ True  True]\n",
      " [ True  True]\n",
      " [ True  True]]\n"
     ]
    }
   ],
   "source": [
    "print(tri.points == pts)"
   ]
  },
  {
   "cell_type": "code",
   "execution_count": 12,
   "metadata": {},
   "outputs": [
    {
     "name": "stdout",
     "output_type": "stream",
     "text": [
      "[[0 1 4]\n",
      " [1 3 4]\n",
      " [5 0 2]\n",
      " [5 1 0]\n",
      " [3 5 2]\n",
      " [5 3 1]]\n"
     ]
    }
   ],
   "source": [
    "print(tri.simplices)"
   ]
  },
  {
   "cell_type": "code",
   "execution_count": 13,
   "metadata": {},
   "outputs": [
    {
     "name": "stdout",
     "output_type": "stream",
     "text": [
      "[[[172  47]\n",
      "  [117 192]\n",
      "  [  9 211]]\n",
      "\n",
      " [[117 192]\n",
      "  [195 359]\n",
      "  [  9 211]]\n",
      "\n",
      " [[277 242]\n",
      "  [172  47]\n",
      "  [323 251]]\n",
      "\n",
      " [[277 242]\n",
      "  [117 192]\n",
      "  [172  47]]\n",
      "\n",
      " [[195 359]\n",
      "  [277 242]\n",
      "  [323 251]]\n",
      "\n",
      " [[277 242]\n",
      "  [195 359]\n",
      "  [117 192]]]\n"
     ]
    }
   ],
   "source": [
    "print(pts[tri.simplices])"
   ]
  },
  {
   "cell_type": "code",
   "execution_count": 14,
   "metadata": {},
   "outputs": [],
   "source": [
    "vor = Voronoi(pts)"
   ]
  },
  {
   "cell_type": "code",
   "execution_count": 15,
   "metadata": {},
   "outputs": [
    {
     "name": "stdout",
     "output_type": "stream",
     "text": [
      "<class 'scipy.spatial.qhull.Voronoi'>\n"
     ]
    }
   ],
   "source": [
    "print(type(vor))"
   ]
  },
  {
   "cell_type": "code",
   "execution_count": 16,
   "metadata": {},
   "outputs": [],
   "source": [
    "fig = voronoi_plot_2d(vor)\n",
    "fig.savefig('data/dst/scipy_matplotlib_voronoi.png')\n",
    "plt.close()"
   ]
  },
  {
   "cell_type": "markdown",
   "metadata": {},
   "source": [
    "![data/dst/scipy_matplotlib_voronoi.png](data/dst/scipy_matplotlib_voronoi.png)"
   ]
  },
  {
   "cell_type": "code",
   "execution_count": 17,
   "metadata": {},
   "outputs": [
    {
     "name": "stdout",
     "output_type": "stream",
     "text": [
      "[[ 41.71518987  80.51265823]\n",
      " [ 82.09150528 310.02013526]\n",
      " [331.19719626  87.04766355]\n",
      " [218.67630058 147.63583815]\n",
      " [282.99117647 333.43398693]\n",
      " [182.6014461  263.07537248]]\n"
     ]
    }
   ],
   "source": [
    "print(vor.vertices)"
   ]
  },
  {
   "cell_type": "code",
   "execution_count": 18,
   "metadata": {},
   "outputs": [
    {
     "name": "stdout",
     "output_type": "stream",
     "text": [
      "[[-1, 0, 1], [], [5, 3, 2, 4], [3, 0, -1, 2], [4, -1, 2], [5, 1, 0, 3], [5, 1, -1, 4]]\n"
     ]
    }
   ],
   "source": [
    "print(vor.regions)"
   ]
  },
  {
   "cell_type": "code",
   "execution_count": 19,
   "metadata": {},
   "outputs": [
    {
     "name": "stdout",
     "output_type": "stream",
     "text": [
      "[[5, 3, 2, 4], [5, 1, 0, 3]]\n"
     ]
    }
   ],
   "source": [
    "print([r for r in vor.regions if -1 not in r and r])"
   ]
  },
  {
   "cell_type": "code",
   "execution_count": 20,
   "metadata": {},
   "outputs": [
    {
     "name": "stdout",
     "output_type": "stream",
     "text": [
      "[[182.6014461  263.07537248]\n",
      " [218.67630058 147.63583815]\n",
      " [331.19719626  87.04766355]\n",
      " [282.99117647 333.43398693]]\n",
      "[[182.6014461  263.07537248]\n",
      " [ 82.09150528 310.02013526]\n",
      " [ 41.71518987  80.51265823]\n",
      " [218.67630058 147.63583815]]\n"
     ]
    }
   ],
   "source": [
    "for region in [r for r in vor.regions if -1 not in r and r]:\n",
    "    print(vor.vertices[region])"
   ]
  },
  {
   "cell_type": "code",
   "execution_count": 21,
   "metadata": {},
   "outputs": [
    {
     "name": "stderr",
     "output_type": "stream",
     "text": [
      "/usr/local/lib/python3.7/site-packages/scipy/spatial/_plotutils.py:20: MatplotlibDeprecationWarning: The ishold function was deprecated in version 2.0.\n",
      "  was_held = ax.ishold()\n"
     ]
    }
   ],
   "source": [
    "fig, ax = plt.subplots()\n",
    "voronoi_plot_2d(vor, ax)\n",
    "\n",
    "for region, c in zip([r for r in vor.regions if -1 not in r and r], ['yellow', 'pink']):\n",
    "    ax.fill(vor.vertices[region][:, 0],\n",
    "            vor.vertices[region][:, 1],\n",
    "            color=c)\n",
    "\n",
    "fig.savefig('data/dst/scipy_matplotlib_voronoi_fill.png')\n",
    "plt.close()"
   ]
  },
  {
   "cell_type": "markdown",
   "metadata": {},
   "source": [
    "![data/dst/scipy_matplotlib_voronoi_fill.png](data/dst/scipy_matplotlib_voronoi_fill.png)"
   ]
  },
  {
   "cell_type": "code",
   "execution_count": 22,
   "metadata": {},
   "outputs": [
    {
     "name": "stderr",
     "output_type": "stream",
     "text": [
      "/usr/local/lib/python3.7/site-packages/scipy/spatial/_plotutils.py:20: MatplotlibDeprecationWarning: The ishold function was deprecated in version 2.0.\n",
      "  was_held = ax.ishold()\n"
     ]
    }
   ],
   "source": [
    "fig, ax = plt.subplots(figsize=(4, 4))\n",
    "delaunay_plot_2d(tri, ax)\n",
    "voronoi_plot_2d(vor, ax, show_vertices=False)\n",
    "\n",
    "ax.set_xlim(0, w)\n",
    "ax.set_ylim(0, h)\n",
    "ax.grid(linestyle='--')\n",
    "\n",
    "fig.savefig('data/dst/scipy_matplotlib_delaunay_voronoi.png')\n",
    "plt.close()"
   ]
  },
  {
   "cell_type": "markdown",
   "metadata": {},
   "source": [
    "![data/dst/scipy_matplotlib_delaunay_voronoi.png](data/dst/scipy_matplotlib_delaunay_voronoi.png)"
   ]
  }
 ],
 "metadata": {
  "kernelspec": {
   "display_name": "Python 3",
   "language": "python",
   "name": "python3"
  },
  "language_info": {
   "codemirror_mode": {
    "name": "ipython",
    "version": 3
   },
   "file_extension": ".py",
   "mimetype": "text/x-python",
   "name": "python",
   "nbconvert_exporter": "python",
   "pygments_lexer": "ipython3",
   "version": "3.7.1"
  }
 },
 "nbformat": 4,
 "nbformat_minor": 2
}
