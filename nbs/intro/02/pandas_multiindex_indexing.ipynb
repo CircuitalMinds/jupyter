{
 "cells": [
  {
   "cell_type": "code",
   "execution_count": 1,
   "metadata": {
    "collapsed": true
   },
   "outputs": [],
   "source": [
    "import pandas as pd"
   ]
  },
  {
   "cell_type": "code",
   "execution_count": 2,
   "metadata": {},
   "outputs": [
    {
     "name": "stdout",
     "output_type": "stream",
     "text": [
      "                         val_1  val_2\n",
      "level_1 level_2 level_3              \n",
      "A0      B0      C0          98     90\n",
      "                C1          44      9\n",
      "        B1      C2          39     17\n",
      "                C3          75     71\n",
      "A1      B2      C0           1     89\n",
      "                C1          54     60\n",
      "        B3      C2          47      6\n",
      "                C3          16      5\n",
      "A2      B0      C0          75     22\n",
      "                C1          19      4\n",
      "        B1      C2          25     52\n",
      "                C3          57     40\n",
      "A3      B2      C0          64     54\n",
      "                C1          27     96\n",
      "        B3      C2         100     77\n",
      "                C3          22     50\n"
     ]
    }
   ],
   "source": [
    "df = pd.read_csv('data/src/sample_multi.csv', index_col=[0, 1, 2])\n",
    "print(df)"
   ]
  },
  {
   "cell_type": "code",
   "execution_count": 3,
   "metadata": {},
   "outputs": [
    {
     "name": "stdout",
     "output_type": "stream",
     "text": [
      "MultiIndex(levels=[['A0', 'A1', 'A2', 'A3'], ['B0', 'B1', 'B2', 'B3'], ['C0', 'C1', 'C2', 'C3']],\n",
      "           labels=[[0, 0, 0, 0, 1, 1, 1, 1, 2, 2, 2, 2, 3, 3, 3, 3], [0, 0, 1, 1, 2, 2, 3, 3, 0, 0, 1, 1, 2, 2, 3, 3], [0, 1, 2, 3, 0, 1, 2, 3, 0, 1, 2, 3, 0, 1, 2, 3]],\n",
      "           names=['level_1', 'level_2', 'level_3'])\n"
     ]
    }
   ],
   "source": [
    "print(df.index)"
   ]
  },
  {
   "cell_type": "code",
   "execution_count": 4,
   "metadata": {},
   "outputs": [
    {
     "name": "stdout",
     "output_type": "stream",
     "text": [
      "level_2  level_3\n",
      "B0       C0         98\n",
      "         C1         44\n",
      "B1       C2         39\n",
      "         C3         75\n",
      "Name: val_1, dtype: int64\n"
     ]
    }
   ],
   "source": [
    "print(df.loc['A0', 'val_1'])"
   ]
  },
  {
   "cell_type": "code",
   "execution_count": 5,
   "metadata": {},
   "outputs": [
    {
     "name": "stdout",
     "output_type": "stream",
     "text": [
      "                 val_1  val_2\n",
      "level_2 level_3              \n",
      "B0      C0          98     90\n",
      "        C1          44      9\n",
      "B1      C2          39     17\n",
      "        C3          75     71\n"
     ]
    }
   ],
   "source": [
    "print(df.loc['A0', :])"
   ]
  },
  {
   "cell_type": "code",
   "execution_count": 6,
   "metadata": {},
   "outputs": [
    {
     "name": "stdout",
     "output_type": "stream",
     "text": [
      "                 val_1  val_2\n",
      "level_2 level_3              \n",
      "B0      C0          98     90\n",
      "        C1          44      9\n",
      "B1      C2          39     17\n",
      "        C3          75     71\n"
     ]
    }
   ],
   "source": [
    "print(df.loc['A0'])"
   ]
  },
  {
   "cell_type": "code",
   "execution_count": 7,
   "metadata": {
    "scrolled": true
   },
   "outputs": [
    {
     "name": "stdout",
     "output_type": "stream",
     "text": [
      "                         val_1  val_2\n",
      "level_1 level_2 level_3              \n",
      "A0      B0      C0          98     90\n",
      "                C1          44      9\n",
      "        B1      C2          39     17\n",
      "                C3          75     71\n",
      "A1      B2      C0           1     89\n",
      "                C1          54     60\n",
      "        B3      C2          47      6\n",
      "                C3          16      5\n",
      "A2      B0      C0          75     22\n",
      "                C1          19      4\n",
      "        B1      C2          25     52\n",
      "                C3          57     40\n"
     ]
    }
   ],
   "source": [
    "print(df.loc['A0':'A2', :])"
   ]
  },
  {
   "cell_type": "code",
   "execution_count": 8,
   "metadata": {},
   "outputs": [
    {
     "name": "stdout",
     "output_type": "stream",
     "text": [
      "                         val_1  val_2\n",
      "level_1 level_2 level_3              \n",
      "A0      B0      C0          98     90\n",
      "                C1          44      9\n",
      "        B1      C2          39     17\n",
      "                C3          75     71\n",
      "A2      B0      C0          75     22\n",
      "                C1          19      4\n",
      "        B1      C2          25     52\n",
      "                C3          57     40\n"
     ]
    }
   ],
   "source": [
    "print(df.loc[['A0', 'A2'], :])"
   ]
  },
  {
   "cell_type": "code",
   "execution_count": 9,
   "metadata": {},
   "outputs": [
    {
     "name": "stdout",
     "output_type": "stream",
     "text": [
      "         val_1  val_2\n",
      "level_3              \n",
      "C2          39     17\n",
      "C3          75     71\n"
     ]
    }
   ],
   "source": [
    "print(df.loc[('A0', 'B1'), :])"
   ]
  },
  {
   "cell_type": "code",
   "execution_count": 10,
   "metadata": {},
   "outputs": [
    {
     "name": "stdout",
     "output_type": "stream",
     "text": [
      "val_1    39\n",
      "val_2    17\n",
      "Name: (A0, B1, C2), dtype: int64\n"
     ]
    }
   ],
   "source": [
    "print(df.loc[('A0', 'B1', 'C2'), :])"
   ]
  },
  {
   "cell_type": "code",
   "execution_count": 11,
   "metadata": {},
   "outputs": [
    {
     "name": "stdout",
     "output_type": "stream",
     "text": [
      "                         val_1  val_2\n",
      "level_1 level_2 level_3              \n",
      "A0      B0      C0          98     90\n",
      "                C1          44      9\n",
      "A1      B3      C2          47      6\n",
      "                C3          16      5\n"
     ]
    }
   ],
   "source": [
    "print(df.loc[(['A0', 'A1'], ['B0', 'B3']), :])"
   ]
  },
  {
   "cell_type": "code",
   "execution_count": 12,
   "metadata": {
    "collapsed": true
   },
   "outputs": [],
   "source": [
    "# print(df.loc[(:, 'B1'), :])\n",
    "# SyntaxError: invalid syntax"
   ]
  },
  {
   "cell_type": "code",
   "execution_count": 13,
   "metadata": {
    "collapsed": true
   },
   "outputs": [],
   "source": [
    "# print(df.loc[('A1':'A3', 'B2'), :])\n",
    "# SyntaxError: invalid syntax"
   ]
  },
  {
   "cell_type": "code",
   "execution_count": 14,
   "metadata": {},
   "outputs": [
    {
     "name": "stdout",
     "output_type": "stream",
     "text": [
      "                         val_1  val_2\n",
      "level_1 level_2 level_3              \n",
      "A0      B1      C2          39     17\n",
      "                C3          75     71\n",
      "A2      B1      C2          25     52\n",
      "                C3          57     40\n"
     ]
    }
   ],
   "source": [
    "print(df.loc[(slice(None), 'B1'), :])"
   ]
  },
  {
   "cell_type": "code",
   "execution_count": 15,
   "metadata": {},
   "outputs": [
    {
     "name": "stdout",
     "output_type": "stream",
     "text": [
      "                         val_1  val_2\n",
      "level_1 level_2 level_3              \n",
      "A1      B2      C0           1     89\n",
      "                C1          54     60\n",
      "A3      B2      C0          64     54\n",
      "                C1          27     96\n"
     ]
    }
   ],
   "source": [
    "print(df.loc[(slice('A1', 'A3'), 'B2'), :])"
   ]
  },
  {
   "cell_type": "code",
   "execution_count": 16,
   "metadata": {},
   "outputs": [
    {
     "name": "stdout",
     "output_type": "stream",
     "text": [
      "                         val_1  val_2\n",
      "level_1 level_2 level_3              \n",
      "A1      B2      C1          54     60\n",
      "A2      B0      C1          19      4\n",
      "A3      B2      C1          27     96\n"
     ]
    }
   ],
   "source": [
    "print(df.loc[(slice('A1', 'A3'), ['B0', 'B2'], 'C1'), :])"
   ]
  },
  {
   "cell_type": "code",
   "execution_count": 17,
   "metadata": {},
   "outputs": [
    {
     "name": "stdout",
     "output_type": "stream",
     "text": [
      "                         val_1  val_2\n",
      "level_1 level_2 level_3              \n",
      "A0      B1      C2          39     17\n",
      "                C3          75     71\n",
      "A2      B1      C2          25     52\n",
      "                C3          57     40\n"
     ]
    }
   ],
   "source": [
    "print(df.loc[pd.IndexSlice[:, 'B1'], :])"
   ]
  },
  {
   "cell_type": "code",
   "execution_count": 18,
   "metadata": {},
   "outputs": [
    {
     "name": "stdout",
     "output_type": "stream",
     "text": [
      "                         val_1  val_2\n",
      "level_1 level_2 level_3              \n",
      "A1      B2      C0           1     89\n",
      "                C1          54     60\n",
      "A3      B2      C0          64     54\n",
      "                C1          27     96\n"
     ]
    }
   ],
   "source": [
    "print(df.loc[pd.IndexSlice['A1':'A3', 'B2'], :])"
   ]
  },
  {
   "cell_type": "code",
   "execution_count": 19,
   "metadata": {},
   "outputs": [
    {
     "name": "stdout",
     "output_type": "stream",
     "text": [
      "                         val_1  val_2\n",
      "level_1 level_2 level_3              \n",
      "A1      B2      C1          54     60\n",
      "A2      B0      C1          19      4\n",
      "A3      B2      C1          27     96\n"
     ]
    }
   ],
   "source": [
    "print(df.loc[pd.IndexSlice['A1':'A3', ['B0', 'B2'], 'C1'], :])"
   ]
  },
  {
   "cell_type": "code",
   "execution_count": 20,
   "metadata": {},
   "outputs": [
    {
     "name": "stdout",
     "output_type": "stream",
     "text": [
      "                 val_1  val_2\n",
      "level_1 level_3              \n",
      "A0      C2          39     17\n",
      "        C3          75     71\n",
      "A2      C2          25     52\n",
      "        C3          57     40\n"
     ]
    }
   ],
   "source": [
    "print(df.xs('B1', level='level_2'))"
   ]
  },
  {
   "cell_type": "code",
   "execution_count": 21,
   "metadata": {},
   "outputs": [
    {
     "name": "stdout",
     "output_type": "stream",
     "text": [
      "                 val_1  val_2\n",
      "level_1 level_2              \n",
      "A0      B0          44      9\n",
      "A1      B2          54     60\n",
      "A2      B0          19      4\n",
      "A3      B2          27     96\n"
     ]
    }
   ],
   "source": [
    "print(df.xs('C1', level=2))"
   ]
  },
  {
   "cell_type": "code",
   "execution_count": 22,
   "metadata": {},
   "outputs": [
    {
     "name": "stdout",
     "output_type": "stream",
     "text": [
      "         val_1  val_2\n",
      "level_1              \n",
      "A0          39     17\n",
      "A2          25     52\n"
     ]
    }
   ],
   "source": [
    "print(df.xs(['B1', 'C2'], level=['level_2', 'level_3']))"
   ]
  },
  {
   "cell_type": "code",
   "execution_count": 23,
   "metadata": {},
   "outputs": [
    {
     "name": "stdout",
     "output_type": "stream",
     "text": [
      "                 val_1  val_2\n",
      "level_2 level_3              \n",
      "B2      C0           1     89\n",
      "        C1          54     60\n",
      "B3      C2          47      6\n",
      "        C3          16      5\n",
      "B0      C0          75     22\n",
      "        C1          19      4\n",
      "B1      C2          25     52\n",
      "        C3          57     40\n",
      "B2      C0          64     54\n",
      "        C1          27     96\n",
      "B3      C2         100     77\n",
      "        C3          22     50\n"
     ]
    }
   ],
   "source": [
    "print(df.xs(pd.IndexSlice['A1':'A3'], level='level_1'))"
   ]
  },
  {
   "cell_type": "code",
   "execution_count": 24,
   "metadata": {},
   "outputs": [
    {
     "name": "stdout",
     "output_type": "stream",
     "text": [
      "                 val_1  val_2\n",
      "level_2 level_3              \n",
      "B2      C0           1     89\n",
      "        C1          54     60\n",
      "B3      C2          47      6\n",
      "        C3          16      5\n",
      "B0      C0          75     22\n",
      "        C1          19      4\n",
      "B1      C2          25     52\n",
      "        C3          57     40\n",
      "B2      C0          64     54\n",
      "        C1          27     96\n",
      "B3      C2         100     77\n",
      "        C3          22     50\n"
     ]
    }
   ],
   "source": [
    "print(df.xs(slice('A1', 'A3'), level='level_1'))"
   ]
  },
  {
   "cell_type": "code",
   "execution_count": 25,
   "metadata": {},
   "outputs": [],
   "source": [
    "# print(df.xs(['B1', 'B2'], level='level_2'))\n",
    "# KeyError: ('B1', 'B2')"
   ]
  },
  {
   "cell_type": "code",
   "execution_count": 26,
   "metadata": {},
   "outputs": [
    {
     "name": "stdout",
     "output_type": "stream",
     "text": [
      "                         val_1  val_2\n",
      "level_1 level_2 level_3              \n",
      "A0      B1      C2          39     17\n",
      "                C3          75     71\n",
      "A1      B2      C0           1     89\n",
      "                C1          54     60\n",
      "A2      B1      C2          25     52\n",
      "                C3          57     40\n",
      "A3      B2      C0          64     54\n",
      "                C1          27     96\n"
     ]
    }
   ],
   "source": [
    "print(df.loc[pd.IndexSlice[:, ['B1', 'B2']], :])"
   ]
  },
  {
   "cell_type": "code",
   "execution_count": 27,
   "metadata": {
    "collapsed": true
   },
   "outputs": [],
   "source": [
    "df.loc[(['A0', 'A1'], ['B0', 'B3']), :] = -100"
   ]
  },
  {
   "cell_type": "code",
   "execution_count": 28,
   "metadata": {},
   "outputs": [
    {
     "name": "stdout",
     "output_type": "stream",
     "text": [
      "                         val_1  val_2\n",
      "level_1 level_2 level_3              \n",
      "A0      B0      C0        -100   -100\n",
      "                C1        -100   -100\n",
      "        B1      C2          39     17\n",
      "                C3          75     71\n",
      "A1      B2      C0           1     89\n",
      "                C1          54     60\n",
      "        B3      C2        -100   -100\n",
      "                C3        -100   -100\n",
      "A2      B0      C0          75     22\n",
      "                C1          19      4\n",
      "        B1      C2          25     52\n",
      "                C3          57     40\n",
      "A3      B2      C0          64     54\n",
      "                C1          27     96\n",
      "        B3      C2         100     77\n",
      "                C3          22     50\n"
     ]
    }
   ],
   "source": [
    "print(df)"
   ]
  },
  {
   "cell_type": "code",
   "execution_count": 29,
   "metadata": {
    "collapsed": true
   },
   "outputs": [],
   "source": [
    "df.loc[(['A0', 'A1'], ['B0', 'B3']), :] = [-200, -300]"
   ]
  },
  {
   "cell_type": "code",
   "execution_count": 30,
   "metadata": {},
   "outputs": [
    {
     "name": "stdout",
     "output_type": "stream",
     "text": [
      "                         val_1  val_2\n",
      "level_1 level_2 level_3              \n",
      "A0      B0      C0        -200   -300\n",
      "                C1        -200   -300\n",
      "        B1      C2          39     17\n",
      "                C3          75     71\n",
      "A1      B2      C0           1     89\n",
      "                C1          54     60\n",
      "        B3      C2        -200   -300\n",
      "                C3        -200   -300\n",
      "A2      B0      C0          75     22\n",
      "                C1          19      4\n",
      "        B1      C2          25     52\n",
      "                C3          57     40\n",
      "A3      B2      C0          64     54\n",
      "                C1          27     96\n",
      "        B3      C2         100     77\n",
      "                C3          22     50\n"
     ]
    }
   ],
   "source": [
    "print(df)"
   ]
  },
  {
   "cell_type": "code",
   "execution_count": 31,
   "metadata": {
    "collapsed": true
   },
   "outputs": [],
   "source": [
    "df.loc[(['A0', 'A1'], ['B0', 'B3']), :] = [[-1, -2], [-3, -4], [-5, -6], [-7, -8]]"
   ]
  },
  {
   "cell_type": "code",
   "execution_count": 32,
   "metadata": {},
   "outputs": [
    {
     "name": "stdout",
     "output_type": "stream",
     "text": [
      "                         val_1  val_2\n",
      "level_1 level_2 level_3              \n",
      "A0      B0      C0          -1     -2\n",
      "                C1          -3     -4\n",
      "        B1      C2          39     17\n",
      "                C3          75     71\n",
      "A1      B2      C0           1     89\n",
      "                C1          54     60\n",
      "        B3      C2          -5     -6\n",
      "                C3          -7     -8\n",
      "A2      B0      C0          75     22\n",
      "                C1          19      4\n",
      "        B1      C2          25     52\n",
      "                C3          57     40\n",
      "A3      B2      C0          64     54\n",
      "                C1          27     96\n",
      "        B3      C2         100     77\n",
      "                C3          22     50\n"
     ]
    }
   ],
   "source": [
    "print(df)"
   ]
  },
  {
   "cell_type": "code",
   "execution_count": 33,
   "metadata": {
    "collapsed": true
   },
   "outputs": [],
   "source": [
    "# df.xs(['B1', 'C2'], level=['level_2', 'level_3']) = 0\n",
    "# SyntaxError: can't assign to function call"
   ]
  }
 ],
 "metadata": {
  "kernelspec": {
   "display_name": "Python 3",
   "language": "python",
   "name": "python3"
  },
  "language_info": {
   "codemirror_mode": {
    "name": "ipython",
    "version": 3
   },
   "file_extension": ".py",
   "mimetype": "text/x-python",
   "name": "python",
   "nbconvert_exporter": "python",
   "pygments_lexer": "ipython3",
   "version": "3.6.5"
  }
 },
 "nbformat": 4,
 "nbformat_minor": 2
}
