{
 "cells": [
  {
   "cell_type": "code",
   "execution_count": 1,
   "metadata": {
    "collapsed": true
   },
   "outputs": [],
   "source": [
    "python3 doctest_example.py"
   ]
  },
  {
   "cell_type": "code",
   "execution_count": 2,
   "metadata": {},
   "outputs": [
    {
     "name": "stdout",
     "output_type": "stream",
     "text": [
      "**********************************************************************\n",
      "File \"doctest_example_error.py\", line 3, in __main__.add\n",
      "Failed example:\n",
      "    add(1, 2)\n",
      "Expected:\n",
      "    3\n",
      "Got:\n",
      "    2\n",
      "**********************************************************************\n",
      "File \"doctest_example_error.py\", line 5, in __main__.add\n",
      "Failed example:\n",
      "    add(5, 10)\n",
      "Expected:\n",
      "    10\n",
      "Got:\n",
      "    50\n",
      "**********************************************************************\n",
      "1 items had failures:\n",
      "   2 of   2 in __main__.add\n",
      "***Test Failed*** 2 failures.\n"
     ]
    }
   ],
   "source": [
    "python3 doctest_example_error.py"
   ]
  },
  {
   "cell_type": "code",
   "execution_count": 3,
   "metadata": {},
   "outputs": [
    {
     "name": "stdout",
     "output_type": "stream",
     "text": [
      "Trying:\n",
      "    add(1, 2)\n",
      "Expecting:\n",
      "    3\n",
      "ok\n",
      "Trying:\n",
      "    add(5, 10)\n",
      "Expecting:\n",
      "    15\n",
      "ok\n",
      "1 items had no tests:\n",
      "    __main__\n",
      "1 items passed all tests:\n",
      "   2 tests in __main__.add\n",
      "2 tests in 2 items.\n",
      "2 passed and 0 failed.\n",
      "Test passed.\n"
     ]
    }
   ],
   "source": [
    "python3 doctest_example.py -v"
   ]
  },
  {
   "cell_type": "code",
   "execution_count": 4,
   "metadata": {},
   "outputs": [
    {
     "name": "stdout",
     "output_type": "stream",
     "text": [
      "Trying:\n",
      "    add(1, 2)\n",
      "Expecting:\n",
      "    3\n",
      "ok\n",
      "Trying:\n",
      "    add(5, 10)\n",
      "Expecting:\n",
      "    15\n",
      "ok\n",
      "1 items had no tests:\n",
      "    __main__\n",
      "1 items passed all tests:\n",
      "   2 tests in __main__.add\n",
      "2 tests in 2 items.\n",
      "2 passed and 0 failed.\n",
      "Test passed.\n"
     ]
    }
   ],
   "source": [
    "python3 doctest_example_verbose.py"
   ]
  },
  {
   "cell_type": "code",
   "execution_count": 5,
   "metadata": {},
   "outputs": [
    {
     "name": "stdout",
     "output_type": "stream",
     "text": [
      "7\n"
     ]
    }
   ],
   "source": [
    "python3 doctest_example_without_import.py 3 4"
   ]
  },
  {
   "cell_type": "code",
   "execution_count": 6,
   "metadata": {},
   "outputs": [],
   "source": [
    "python3 -m doctest doctest_example_without_import.py"
   ]
  },
  {
   "cell_type": "code",
   "execution_count": 7,
   "metadata": {},
   "outputs": [
    {
     "name": "stdout",
     "output_type": "stream",
     "text": [
      "Trying:\n",
      "    add(1, 2)\n",
      "Expecting:\n",
      "    3\n",
      "ok\n",
      "Trying:\n",
      "    add(5, 10)\n",
      "Expecting:\n",
      "    15\n",
      "ok\n",
      "1 items had no tests:\n",
      "    doctest_example_without_import\n",
      "1 items passed all tests:\n",
      "   2 tests in doctest_example_without_import.add\n",
      "2 tests in 2 items.\n",
      "2 passed and 0 failed.\n",
      "Test passed.\n"
     ]
    }
   ],
   "source": [
    "python3 -m doctest -v doctest_example_without_import.py"
   ]
  },
  {
   "cell_type": "code",
   "execution_count": 8,
   "metadata": {},
   "outputs": [],
   "source": [
    "python3 doctest_example_testfile.py"
   ]
  },
  {
   "cell_type": "code",
   "execution_count": 9,
   "metadata": {},
   "outputs": [
    {
     "name": "stdout",
     "output_type": "stream",
     "text": [
      "Trying:\n",
      "    from doctest_example import add\n",
      "Expecting nothing\n",
      "ok\n",
      "Trying:\n",
      "    add(1, 2)\n",
      "Expecting:\n",
      "    3\n",
      "ok\n",
      "Trying:\n",
      "    add(5, 10)\n",
      "Expecting:\n",
      "    15\n",
      "ok\n",
      "1 items passed all tests:\n",
      "   3 tests in doctest_text.txt\n",
      "3 tests in 1 items.\n",
      "3 passed and 0 failed.\n",
      "Test passed.\n"
     ]
    }
   ],
   "source": [
    "python3 doctest_example_testfile.py -v"
   ]
  },
  {
   "cell_type": "code",
   "execution_count": 10,
   "metadata": {},
   "outputs": [
    {
     "name": "stdout",
     "output_type": "stream",
     "text": [
      "Trying:\n",
      "    from doctest_example import add\n",
      "Expecting nothing\n",
      "ok\n",
      "Trying:\n",
      "    add(1, 2)\n",
      "Expecting:\n",
      "    3\n",
      "ok\n",
      "Trying:\n",
      "    add(5, 10)\n",
      "Expecting:\n",
      "    15\n",
      "ok\n",
      "1 items passed all tests:\n",
      "   3 tests in doctest_text.txt\n",
      "3 tests in 1 items.\n",
      "3 passed and 0 failed.\n",
      "Test passed.\n"
     ]
    }
   ],
   "source": [
    "python3 -m doctest -v doctest_text.txt"
   ]
  }
 ],
 "metadata": {
  "kernelspec": {
   "display_name": "Bash",
   "language": "bash",
   "name": "bash"
  },
  "language_info": {
   "codemirror_mode": "shell",
   "file_extension": ".sh",
   "mimetype": "text/x-sh",
   "name": "bash"
  }
 },
 "nbformat": 4,
 "nbformat_minor": 2
}
