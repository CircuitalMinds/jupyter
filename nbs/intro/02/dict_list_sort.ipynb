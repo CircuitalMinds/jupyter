{
 "cells": [
  {
   "cell_type": "code",
   "execution_count": 1,
   "metadata": {},
   "outputs": [],
   "source": [
    "import pprint"
   ]
  },
  {
   "cell_type": "code",
   "execution_count": 2,
   "metadata": {},
   "outputs": [
    {
     "name": "stdout",
     "output_type": "stream",
     "text": [
      "[{'Age': 40, 'Name': 'Alice', 'Point': 80},\n",
      " {'Age': 20, 'Name': 'Bob'},\n",
      " {'Age': 30, 'Name': 'Charlie', 'Point': 70}]\n"
     ]
    }
   ],
   "source": [
    "l = [{'Name': 'Alice', 'Age': 40, 'Point': 80},\n",
    "     {'Name': 'Bob', 'Age': 20},\n",
    "     {'Name': 'Charlie', 'Age': 30, 'Point': 70}]\n",
    "pprint.pprint(l)"
   ]
  },
  {
   "cell_type": "code",
   "execution_count": 3,
   "metadata": {},
   "outputs": [],
   "source": [
    "# sorted(l)\n",
    "# TypeError: '<' not supported between instances of 'dict' and 'dict'"
   ]
  },
  {
   "cell_type": "code",
   "execution_count": 4,
   "metadata": {},
   "outputs": [
    {
     "name": "stdout",
     "output_type": "stream",
     "text": [
      "[{'Age': 20, 'Name': 'Bob'},\n",
      " {'Age': 30, 'Name': 'Charlie', 'Point': 70},\n",
      " {'Age': 40, 'Name': 'Alice', 'Point': 80}]\n"
     ]
    }
   ],
   "source": [
    "pprint.pprint(sorted(l, key=lambda x: x['Age']))"
   ]
  },
  {
   "cell_type": "code",
   "execution_count": 5,
   "metadata": {},
   "outputs": [
    {
     "name": "stdout",
     "output_type": "stream",
     "text": [
      "[{'Age': 40, 'Name': 'Alice', 'Point': 80},\n",
      " {'Age': 20, 'Name': 'Bob'},\n",
      " {'Age': 30, 'Name': 'Charlie', 'Point': 70}]\n"
     ]
    }
   ],
   "source": [
    "pprint.pprint(sorted(l, key=lambda x: x['Name']))"
   ]
  },
  {
   "cell_type": "code",
   "execution_count": 6,
   "metadata": {},
   "outputs": [
    {
     "name": "stdout",
     "output_type": "stream",
     "text": [
      "[{'Age': 40, 'Name': 'Alice', 'Point': 80},\n",
      " {'Age': 30, 'Name': 'Charlie', 'Point': 70},\n",
      " {'Age': 20, 'Name': 'Bob'}]\n"
     ]
    }
   ],
   "source": [
    "pprint.pprint(sorted(l, key=lambda x: x['Age'], reverse=True))"
   ]
  },
  {
   "cell_type": "code",
   "execution_count": 7,
   "metadata": {},
   "outputs": [],
   "source": [
    "# sorted(l, key=lambda x: x['Point'])\n",
    "# KeyError: 'Point'"
   ]
  },
  {
   "cell_type": "code",
   "execution_count": 8,
   "metadata": {},
   "outputs": [],
   "source": [
    "# sorted(l, key=lambda x: x.get('Point'))\n",
    "# TypeError: '<' not supported between instances of 'int' and 'NoneType'"
   ]
  },
  {
   "cell_type": "code",
   "execution_count": 9,
   "metadata": {},
   "outputs": [
    {
     "name": "stdout",
     "output_type": "stream",
     "text": [
      "[{'Age': 30, 'Name': 'Charlie', 'Point': 70},\n",
      " {'Age': 20, 'Name': 'Bob'},\n",
      " {'Age': 40, 'Name': 'Alice', 'Point': 80}]\n"
     ]
    }
   ],
   "source": [
    "pprint.pprint(sorted(l, key=lambda x: x.get('Point', 75)))"
   ]
  },
  {
   "cell_type": "code",
   "execution_count": 10,
   "metadata": {},
   "outputs": [
    {
     "name": "stdout",
     "output_type": "stream",
     "text": [
      "[{'Age': 30, 'Name': 'Charlie', 'Point': 70},\n",
      " {'Age': 40, 'Name': 'Alice', 'Point': 80},\n",
      " {'Age': 20, 'Name': 'Bob'}]\n"
     ]
    }
   ],
   "source": [
    "pprint.pprint(sorted(l, key=lambda x: x.get('Point', float('inf'))))"
   ]
  },
  {
   "cell_type": "code",
   "execution_count": 11,
   "metadata": {},
   "outputs": [
    {
     "name": "stdout",
     "output_type": "stream",
     "text": [
      "[{'Age': 20, 'Name': 'Bob'},\n",
      " {'Age': 30, 'Name': 'Charlie', 'Point': 70},\n",
      " {'Age': 40, 'Name': 'Alice', 'Point': 80}]\n"
     ]
    }
   ],
   "source": [
    "pprint.pprint(sorted(l, key=lambda x: x.get('Point', -float('inf'))))"
   ]
  },
  {
   "cell_type": "code",
   "execution_count": 12,
   "metadata": {},
   "outputs": [],
   "source": [
    "import operator"
   ]
  },
  {
   "cell_type": "code",
   "execution_count": 13,
   "metadata": {},
   "outputs": [
    {
     "name": "stdout",
     "output_type": "stream",
     "text": [
      "[{'Age': 20, 'Name': 'Bob'},\n",
      " {'Age': 30, 'Name': 'Charlie', 'Point': 70},\n",
      " {'Age': 40, 'Name': 'Alice', 'Point': 80}]\n"
     ]
    }
   ],
   "source": [
    "pprint.pprint(sorted(l, key=operator.itemgetter('Age')))"
   ]
  },
  {
   "cell_type": "code",
   "execution_count": 14,
   "metadata": {},
   "outputs": [
    {
     "name": "stdout",
     "output_type": "stream",
     "text": [
      "[{'Age': 40, 'Name': 'Alice', 'Point': 80},\n",
      " {'Age': 20, 'Name': 'Bob'},\n",
      " {'Age': 30, 'Name': 'Charlie', 'Point': 70}]\n"
     ]
    }
   ],
   "source": [
    "pprint.pprint(sorted(l, key=operator.itemgetter('Name')))"
   ]
  },
  {
   "cell_type": "code",
   "execution_count": 15,
   "metadata": {},
   "outputs": [],
   "source": [
    "# sorted(l, key=operator.itemgetter('Point'))\n",
    "# KeyError: 'Point'"
   ]
  },
  {
   "cell_type": "code",
   "execution_count": 16,
   "metadata": {},
   "outputs": [
    {
     "name": "stdout",
     "output_type": "stream",
     "text": [
      "[{'Age': 40, 'Name': 'Alice', 'Point': 80, 'State': 'CA'},\n",
      " {'Age': 20, 'Name': 'Bob', 'State': 'NY'},\n",
      " {'Age': 30, 'Name': 'Charlie', 'Point': 70, 'State': 'CA'}]\n"
     ]
    }
   ],
   "source": [
    "l_dup = [{'Name': 'Alice', 'Age': 40, 'Point': 80, 'State': 'CA'},\n",
    "         {'Name': 'Bob', 'Age': 20, 'State': 'NY'},\n",
    "         {'Name': 'Charlie', 'Age': 30, 'Point': 70, 'State': 'CA'}]\n",
    "pprint.pprint(l_dup)"
   ]
  },
  {
   "cell_type": "code",
   "execution_count": 17,
   "metadata": {},
   "outputs": [
    {
     "name": "stdout",
     "output_type": "stream",
     "text": [
      "[{'Age': 40, 'Name': 'Alice', 'Point': 80, 'State': 'CA'},\n",
      " {'Age': 30, 'Name': 'Charlie', 'Point': 70, 'State': 'CA'},\n",
      " {'Age': 20, 'Name': 'Bob', 'State': 'NY'}]\n"
     ]
    }
   ],
   "source": [
    "pprint.pprint(sorted(l_dup, key=operator.itemgetter('State')))"
   ]
  },
  {
   "cell_type": "code",
   "execution_count": 18,
   "metadata": {},
   "outputs": [
    {
     "name": "stdout",
     "output_type": "stream",
     "text": [
      "[{'Age': 30, 'Name': 'Charlie', 'Point': 70, 'State': 'CA'},\n",
      " {'Age': 40, 'Name': 'Alice', 'Point': 80, 'State': 'CA'},\n",
      " {'Age': 20, 'Name': 'Bob', 'State': 'NY'}]\n"
     ]
    }
   ],
   "source": [
    "pprint.pprint(sorted(l_dup, key=operator.itemgetter('State', 'Age')))"
   ]
  },
  {
   "cell_type": "code",
   "execution_count": 19,
   "metadata": {},
   "outputs": [
    {
     "name": "stdout",
     "output_type": "stream",
     "text": [
      "[{'Age': 20, 'Name': 'Bob', 'State': 'NY'},\n",
      " {'Age': 30, 'Name': 'Charlie', 'Point': 70, 'State': 'CA'},\n",
      " {'Age': 40, 'Name': 'Alice', 'Point': 80, 'State': 'CA'}]\n"
     ]
    }
   ],
   "source": [
    "pprint.pprint(sorted(l_dup, key=operator.itemgetter('Age', 'State')))"
   ]
  },
  {
   "cell_type": "code",
   "execution_count": 20,
   "metadata": {},
   "outputs": [
    {
     "name": "stdout",
     "output_type": "stream",
     "text": [
      "[{'Age': 30, 'Name': 'Charlie', 'Point': 70, 'State': 'CA'},\n",
      " {'Age': 40, 'Name': 'Alice', 'Point': 80, 'State': 'CA'},\n",
      " {'Age': 20, 'Name': 'Bob', 'State': 'NY'}]\n"
     ]
    }
   ],
   "source": [
    "pprint.pprint(sorted(l_dup, key=lambda x: (x['State'], x['Age'])))"
   ]
  },
  {
   "cell_type": "code",
   "execution_count": 21,
   "metadata": {},
   "outputs": [],
   "source": [
    "# max(l)\n",
    "# TypeError: '>' not supported between instances of 'dict' and 'dict'"
   ]
  },
  {
   "cell_type": "code",
   "execution_count": 22,
   "metadata": {},
   "outputs": [
    {
     "name": "stdout",
     "output_type": "stream",
     "text": [
      "{'Name': 'Alice', 'Age': 40, 'Point': 80}\n"
     ]
    }
   ],
   "source": [
    "print(max(l, key=lambda x: x['Age']))"
   ]
  },
  {
   "cell_type": "code",
   "execution_count": 23,
   "metadata": {},
   "outputs": [
    {
     "name": "stdout",
     "output_type": "stream",
     "text": [
      "{'Name': 'Bob', 'Age': 20}\n"
     ]
    }
   ],
   "source": [
    "print(min(l, key=lambda x: x['Age']))"
   ]
  },
  {
   "cell_type": "code",
   "execution_count": 24,
   "metadata": {},
   "outputs": [
    {
     "name": "stdout",
     "output_type": "stream",
     "text": [
      "40\n"
     ]
    }
   ],
   "source": [
    "print(max(l, key=lambda x: x['Age'])['Age'])"
   ]
  },
  {
   "cell_type": "code",
   "execution_count": 25,
   "metadata": {
    "scrolled": true
   },
   "outputs": [
    {
     "name": "stdout",
     "output_type": "stream",
     "text": [
      "{'Name': 'Alice', 'Age': 40, 'Point': 80}\n"
     ]
    }
   ],
   "source": [
    "print(max(l, key=operator.itemgetter('Age')))"
   ]
  }
 ],
 "metadata": {
  "kernelspec": {
   "display_name": "Python 3",
   "language": "python",
   "name": "python3"
  },
  "language_info": {
   "codemirror_mode": {
    "name": "ipython",
    "version": 3
   },
   "file_extension": ".py",
   "mimetype": "text/x-python",
   "name": "python",
   "nbconvert_exporter": "python",
   "pygments_lexer": "ipython3",
   "version": "3.8.5"
  }
 },
 "nbformat": 4,
 "nbformat_minor": 2
}
