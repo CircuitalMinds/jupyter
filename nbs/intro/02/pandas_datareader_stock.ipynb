{
 "cells": [
  {
   "cell_type": "code",
   "execution_count": 1,
   "metadata": {},
   "outputs": [],
   "source": [
    "import warnings\n",
    "\n",
    "warnings.simplefilter('ignore', FutureWarning)"
   ]
  },
  {
   "cell_type": "code",
   "execution_count": 2,
   "metadata": {},
   "outputs": [],
   "source": [
    "import datetime\n",
    "\n",
    "import pandas as pd\n",
    "import pandas_datareader.data as web\n",
    "import matplotlib.pyplot as plt"
   ]
  },
  {
   "cell_type": "code",
   "execution_count": 3,
   "metadata": {},
   "outputs": [],
   "source": [
    "with open('data/temp/alpha_vantage_api_key.txt') as f:\n",
    "    api_key = f.read()"
   ]
  },
  {
   "cell_type": "code",
   "execution_count": 4,
   "metadata": {},
   "outputs": [],
   "source": [
    "start = datetime.datetime(2015, 1, 1)\n",
    "end = datetime.datetime(2019, 12, 31)"
   ]
  },
  {
   "cell_type": "code",
   "execution_count": 5,
   "metadata": {},
   "outputs": [
    {
     "name": "stdout",
     "output_type": "stream",
     "text": [
      "             open    high    low  close   volume\n",
      "2015-01-02  20.47  20.685  20.43  20.56  1229939\n",
      "2015-01-05  20.45  20.450  20.21  20.26  1083137\n",
      "2015-01-06  20.46  20.580  20.15  20.25  2209124\n",
      "2015-01-07  21.59  21.700  21.47  21.53  2486293\n",
      "2015-01-08  21.53  21.620  21.47  21.56  1296471\n",
      "...           ...     ...    ...    ...      ...\n",
      "2019-12-24  67.98  68.000  67.76  67.76   264463\n",
      "2019-12-26  68.00  68.030  67.85  68.02   517975\n",
      "2019-12-27  68.03  68.100  67.73  67.78   351118\n",
      "2019-12-30  67.78  67.790  67.25  67.72   993865\n",
      "2019-12-31  67.72  68.025  67.51  68.00   549672\n",
      "\n",
      "[1258 rows x 5 columns]\n"
     ]
    }
   ],
   "source": [
    "df_sne = web.DataReader('SNE', 'av-daily', start, end, api_key=api_key)\n",
    "print(df_sne)"
   ]
  },
  {
   "cell_type": "code",
   "execution_count": 6,
   "metadata": {},
   "outputs": [
    {
     "name": "stdout",
     "output_type": "stream",
     "text": [
      "              open    high       low   close    volume\n",
      "2015-01-02  111.39  111.44  107.3500  109.33  53204626\n",
      "2015-01-05  108.29  108.65  105.4100  106.25  64285491\n",
      "2015-01-06  106.54  107.43  104.6300  106.26  65797116\n",
      "2015-01-07  107.20  108.20  106.6950  107.75  40105934\n",
      "2015-01-08  109.23  112.15  108.7000  111.89  59364547\n",
      "...            ...     ...       ...     ...       ...\n",
      "2019-12-24  284.69  284.89  282.9197  284.27  12119714\n",
      "2019-12-26  284.82  289.98  284.7000  289.91  23334004\n",
      "2019-12-27  291.12  293.97  288.1200  289.80  36592936\n",
      "2019-12-30  289.46  292.69  285.2200  291.52  36059614\n",
      "2019-12-31  289.93  293.68  289.5200  293.65  25247625\n",
      "\n",
      "[1258 rows x 5 columns]\n"
     ]
    }
   ],
   "source": [
    "df_aapl = web.DataReader('AAPL', 'av-daily', start, end, api_key=api_key)\n",
    "print(df_aapl)"
   ]
  },
  {
   "cell_type": "code",
   "execution_count": 7,
   "metadata": {},
   "outputs": [
    {
     "name": "stdout",
     "output_type": "stream",
     "text": [
      "              SNE    AAPL\n",
      "2015-01-02  20.56  109.33\n",
      "2015-01-05  20.26  106.25\n",
      "2015-01-06  20.25  106.26\n",
      "2015-01-07  21.53  107.75\n",
      "2015-01-08  21.56  111.89\n",
      "...           ...     ...\n",
      "2019-12-24  67.76  284.27\n",
      "2019-12-26  68.02  289.91\n",
      "2019-12-27  67.78  289.80\n",
      "2019-12-30  67.72  291.52\n",
      "2019-12-31  68.00  293.65\n",
      "\n",
      "[1258 rows x 2 columns]\n"
     ]
    }
   ],
   "source": [
    "df_sne_aapl = pd.DataFrame({'SNE': df_sne['close'], 'AAPL': df_aapl['close']})\n",
    "print(df_sne_aapl)"
   ]
  },
  {
   "cell_type": "code",
   "execution_count": 8,
   "metadata": {},
   "outputs": [],
   "source": [
    "df_sne.to_csv('data/src/sne_2015_2019.csv')\n",
    "df_aapl.to_csv('data/src/aapl_2015_2019.csv')\n",
    "df_sne_aapl.to_csv('data/src/sne_aapl_2015_2019.csv')"
   ]
  },
  {
   "cell_type": "code",
   "execution_count": 9,
   "metadata": {},
   "outputs": [
    {
     "name": "stdout",
     "output_type": "stream",
     "text": [
      "<class 'pandas.core.indexes.base.Index'>\n"
     ]
    }
   ],
   "source": [
    "print(type(df_sne_aapl.index))"
   ]
  },
  {
   "cell_type": "code",
   "execution_count": 10,
   "metadata": {},
   "outputs": [
    {
     "name": "stdout",
     "output_type": "stream",
     "text": [
      "<class 'pandas.core.indexes.datetimes.DatetimeIndex'>\n"
     ]
    }
   ],
   "source": [
    "df_sne_aapl.index = pd.to_datetime(df_sne_aapl.index)\n",
    "print(type(df_sne_aapl.index))"
   ]
  },
  {
   "cell_type": "code",
   "execution_count": 11,
   "metadata": {},
   "outputs": [],
   "source": [
    "df_sne_aapl.plot(title='SNE vs. AAPL', grid=True)\n",
    "# plt.show()\n",
    "plt.savefig('data/dst/pandas_datareader_stock.png')\n",
    "plt.close()"
   ]
  },
  {
   "cell_type": "markdown",
   "metadata": {},
   "source": [
    "![SNE vs. AAPL](data/dst/pandas_datareader_stock.png)"
   ]
  },
  {
   "cell_type": "code",
   "execution_count": 12,
   "metadata": {},
   "outputs": [],
   "source": [
    "df_sne_aapl['SNE'] /= df_sne_aapl['SNE'][0]\n",
    "df_sne_aapl['AAPL'] /= df_sne_aapl['AAPL'][0]"
   ]
  },
  {
   "cell_type": "code",
   "execution_count": 13,
   "metadata": {},
   "outputs": [],
   "source": [
    "df_sne_aapl.plot(title='SNE vs. AAPL', grid=True)\n",
    "plt.savefig('data/dst/pandas_datareader_stock_normalize.png')\n",
    "plt.close()"
   ]
  },
  {
   "cell_type": "markdown",
   "metadata": {},
   "source": [
    "![SNE vs. AAPL normalize](data/dst/pandas_datareader_stock_normalize.png)"
   ]
  }
 ],
 "metadata": {
  "kernelspec": {
   "display_name": "Python 3",
   "language": "python",
   "name": "python3"
  },
  "language_info": {
   "codemirror_mode": {
    "name": "ipython",
    "version": 3
   },
   "file_extension": ".py",
   "mimetype": "text/x-python",
   "name": "python",
   "nbconvert_exporter": "python",
   "pygments_lexer": "ipython3",
   "version": "3.7.7"
  }
 },
 "nbformat": 4,
 "nbformat_minor": 2
}
