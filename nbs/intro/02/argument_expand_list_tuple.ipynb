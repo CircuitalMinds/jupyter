{
 "cells": [
  {
   "cell_type": "code",
   "execution_count": 1,
   "metadata": {},
   "outputs": [],
   "source": [
    "def func(arg1, arg2, arg3):\n",
    "    print('arg1 =', arg1)\n",
    "    print('arg2 =', arg2)\n",
    "    print('arg3 =', arg3)"
   ]
  },
  {
   "cell_type": "code",
   "execution_count": 2,
   "metadata": {},
   "outputs": [],
   "source": [
    "l = ['one', 'two', 'three']"
   ]
  },
  {
   "cell_type": "code",
   "execution_count": 3,
   "metadata": {},
   "outputs": [
    {
     "name": "stdout",
     "output_type": "stream",
     "text": [
      "arg1 = one\n",
      "arg2 = two\n",
      "arg3 = three\n"
     ]
    }
   ],
   "source": [
    "func(*l)"
   ]
  },
  {
   "cell_type": "code",
   "execution_count": 4,
   "metadata": {},
   "outputs": [
    {
     "name": "stdout",
     "output_type": "stream",
     "text": [
      "arg1 = one\n",
      "arg2 = two\n",
      "arg3 = three\n"
     ]
    }
   ],
   "source": [
    "func(*['one', 'two', 'three'])"
   ]
  },
  {
   "cell_type": "code",
   "execution_count": 5,
   "metadata": {},
   "outputs": [],
   "source": [
    "t = ('one', 'two', 'three')"
   ]
  },
  {
   "cell_type": "code",
   "execution_count": 6,
   "metadata": {},
   "outputs": [
    {
     "name": "stdout",
     "output_type": "stream",
     "text": [
      "arg1 = one\n",
      "arg2 = two\n",
      "arg3 = three\n"
     ]
    }
   ],
   "source": [
    "func(*t)"
   ]
  },
  {
   "cell_type": "code",
   "execution_count": 7,
   "metadata": {},
   "outputs": [
    {
     "name": "stdout",
     "output_type": "stream",
     "text": [
      "arg1 = one\n",
      "arg2 = two\n",
      "arg3 = three\n"
     ]
    }
   ],
   "source": [
    "func(*('one', 'two', 'three'))"
   ]
  },
  {
   "cell_type": "code",
   "execution_count": 8,
   "metadata": {},
   "outputs": [],
   "source": [
    "# func(*['one', 'two'])\n",
    "# TypeError: func() missing 1 required positional argument: 'arg3'"
   ]
  },
  {
   "cell_type": "code",
   "execution_count": 9,
   "metadata": {},
   "outputs": [],
   "source": [
    "# func(*['one', 'two', 'three', 'four'])\n",
    "# TypeError: func() takes 3 positional arguments but 4 were given"
   ]
  },
  {
   "cell_type": "code",
   "execution_count": 10,
   "metadata": {},
   "outputs": [],
   "source": [
    "def func_default(arg1=1, arg2=2, arg3=3):\n",
    "    print('arg1 =', arg1)\n",
    "    print('arg2 =', arg2)\n",
    "    print('arg3 =', arg3)"
   ]
  },
  {
   "cell_type": "code",
   "execution_count": 11,
   "metadata": {},
   "outputs": [
    {
     "name": "stdout",
     "output_type": "stream",
     "text": [
      "arg1 = one\n",
      "arg2 = two\n",
      "arg3 = 3\n"
     ]
    }
   ],
   "source": [
    "func_default(*['one', 'two'])"
   ]
  },
  {
   "cell_type": "code",
   "execution_count": 12,
   "metadata": {},
   "outputs": [
    {
     "name": "stdout",
     "output_type": "stream",
     "text": [
      "arg1 = one\n",
      "arg2 = 2\n",
      "arg3 = 3\n"
     ]
    }
   ],
   "source": [
    "func_default(*['one'])"
   ]
  },
  {
   "cell_type": "code",
   "execution_count": 13,
   "metadata": {},
   "outputs": [],
   "source": [
    "# func_default(*['one', 'two', 'three', 'four'])\n",
    "# TypeError: func_default() takes from 0 to 3 positional arguments but 4 were given"
   ]
  },
  {
   "cell_type": "code",
   "execution_count": 14,
   "metadata": {},
   "outputs": [],
   "source": [
    "def func_args(arg1, *args):\n",
    "    print('arg1 =', arg1)\n",
    "    print('args =', args)"
   ]
  },
  {
   "cell_type": "code",
   "execution_count": 15,
   "metadata": {},
   "outputs": [
    {
     "name": "stdout",
     "output_type": "stream",
     "text": [
      "arg1 = one\n",
      "args = ('two',)\n"
     ]
    }
   ],
   "source": [
    "func_args(*['one', 'two'])"
   ]
  },
  {
   "cell_type": "code",
   "execution_count": 16,
   "metadata": {},
   "outputs": [
    {
     "name": "stdout",
     "output_type": "stream",
     "text": [
      "arg1 = one\n",
      "args = ('two', 'three')\n"
     ]
    }
   ],
   "source": [
    "func_args(*['one', 'two', 'three'])"
   ]
  },
  {
   "cell_type": "code",
   "execution_count": 17,
   "metadata": {},
   "outputs": [
    {
     "name": "stdout",
     "output_type": "stream",
     "text": [
      "arg1 = one\n",
      "args = ('two', 'three', 'four')\n"
     ]
    }
   ],
   "source": [
    "func_args(*['one', 'two', 'three', 'four'])"
   ]
  }
 ],
 "metadata": {
  "kernelspec": {
   "display_name": "Python 3",
   "language": "python",
   "name": "python3"
  },
  "language_info": {
   "codemirror_mode": {
    "name": "ipython",
    "version": 3
   },
   "file_extension": ".py",
   "mimetype": "text/x-python",
   "name": "python",
   "nbconvert_exporter": "python",
   "pygments_lexer": "ipython3",
   "version": "3.9.7"
  }
 },
 "nbformat": 4,
 "nbformat_minor": 2
}
