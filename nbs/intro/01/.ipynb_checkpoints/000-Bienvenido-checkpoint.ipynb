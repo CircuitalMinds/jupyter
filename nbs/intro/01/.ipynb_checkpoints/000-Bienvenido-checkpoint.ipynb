{
 "cells": [
  {
   "cell_type": "markdown",
   "metadata": {
    "collapsed": true
   },
   "source": [
    "<img src=\"../Archivos/images/python.png\" alt=\"python\" align=\"center\" style=\"width: 300px;\">"
   ]
  },
  {
   "cell_type": "markdown",
   "metadata": {
    "collapsed": true
   },
   "source": [
    "<h3 align=\"center\"> Bienvenido al curso de Programación en Python</h3>   "
   ]
  },
  {
   "cell_type": "markdown",
   "metadata": {},
   "source": [
    "El objetivo de este curso es __iniciarte desde cero en la programación en Python y aprender distintas aplicaciones de este lenguaje en la ingeniería.__\n",
    "\n",
    "__Nuestra herramienta fundamental de trabajo es el Notebook de Jupyter__, podrás conocer más acerca de él en las siguientes clases. Durante el curso te familiarizarás con él y aprenderás a manejarlo (este documento ha sido generado a partir de un notebook).\n",
    "\n",
    "En esta sesión inicial, veremos los pasos a seguir para que __instales Python, descargues el material y puedas empezar a aprender a tu ritmo.__ \n",
    "\n",
    "Recuerda, que todo el material del curso se encuentra disponible en [mi repositorio](https://github.com/alanmatzumiya/Curso-Python.git).\n",
    "\n",
    "_¡¡Manos a la obra!!_\n"
   ]
  },
  {
   "cell_type": "markdown",
   "metadata": {},
   "source": [
    "## Pasos a seguir:"
   ]
  },
  {
   "cell_type": "markdown",
   "metadata": {},
   "source": [
    "### 1. Descarga de Python."
   ]
  },
  {
   "cell_type": "markdown",
   "metadata": {},
   "source": [
    "La instalación de Python, el Notebook y todos los paquetes que utilizaremos, por separado puede ser una tarea ardua y agotadora, pero no te preocupes: ¡alguien ha hecho ya el trabajo duro!\n",
    "\n",
    "__[Anaconda](https://continuum.io/anaconda/) es una distribución de Python que recopila muchas de las bibliotecas necesarias en el ámbito de la computación científica__ y desde luego, todas las que necesitaremos en este curso. Además __incluye herramientas para programar en Python, como el [Notebook](https://ipython.org/index.html) y [Spyder](https://code.google.com/p/spyderlib/)__ (un IDE al estilo de MATLAB)."
   ]
  },
  {
   "cell_type": "markdown",
   "metadata": {},
   "source": [
    "Lo único que necesitas hacer es:\n",
    "\n",
    "* Ir a la [página de descargas de Anaconda](http://continuum.io/downloads).\n",
    "* Seleccionar tu sistema operativo (Windows, OSX, Linux).\n",
    "* Descargar Anaconda (utilizaremos Python 2.X)."
   ]
  },
  {
   "cell_type": "markdown",
   "metadata": {},
   "source": [
    "<img src=\"../Archivos/images/download_anaconda.png\" alt=\"Download\" />"
   ]
  },
  {
   "cell_type": "markdown",
   "metadata": {},
   "source": [
    "### 2. Instalación de Python."
   ]
  },
  {
   "cell_type": "markdown",
   "metadata": {},
   "source": [
    "Consulta las __[instrucciones de instalación](http://docs.continuum.io/anaconda/install.html)__ de Anaconda para tu sistema operativo. En el caso de Windows y OS X, te encontrarás con los típicos instaladores gráficos a los que ya estás acostumbrado. Si te encuentras en Linux, deberás ejectuar el script de instalación desde la consola de comandos, así que recuerda comprobar que tienes bash instalado y asignar permisos de ejecución al script.\n",
    "\n",
    "En caso de que tengas cualquier caso de duda durante el proceso, recuerda que __¡los buscadores de internet son tus mejores amigos!__\n",
    "\n",
    "¡Muy bien! Ya tienes instalado ¿pero dónde?\n",
    "\n",
    "* En __Windows__, desde `Inicio > Anaconda` verás una serie de herramientas de las que ahora dispones ¡no tengas miedo de abrirlas! \n",
    "\n",
    "* En __OS X__, podrás acceder a un launcher con las mismas herramientas desde la carpeta `anaconda` dentro de tu carpeta personal. \n",
    "\n",
    "* En __Linux__, debido al gran número de combinaciones de distribuciones más escritorios no tendrás esos accesos directos gráficos (lo que no quiere decir que no puedas crearlos tú a posteriori) pero, como comprobarás, no hacen ninguna falta y no forman parte de nuestra forma de trabajar en el curso.\n",
    "\n",
    "Ahora, vamos a __actualizar Anaconda__ para asegurarnos de que tenemos nuestra distribución de Python con todos sus paquetes al día para lo que abrimos una __ventana de comandos__ (símbolo de sistema en Windows o terminal en OS X) y ejecutamos los siguientes comandos de actualización (confirmando en el caso de tener que instalar paquetes nuevos):\n",
    "\n",
    "```\n",
    "conda update anaconda\n",
    "conda update --all\n",
    "```\n",
    "\n",
    "Si experimentas cualquier clase de problema durante este proceso, [desinstala tu distribución de Anaconda](http://docs.continuum.io/anaconda/install.html) y vuelve a instalarla donde puedas asegurarte de tener una conexión a internet estable.\n",
    "\n",
    "Ya tenemos nuestra distribución de Python con todos los paquetes que necesitemos (y prácticamente todos los que en un futuro podamos necesitar). \n",
    "\n",
    "_¡A trabajar!_\n"
   ]
  },
  {
   "cell_type": "markdown",
   "metadata": {},
   "source": [
    "### 3. Descarga del material del curso."
   ]
  },
  {
   "cell_type": "markdown",
   "metadata": {},
   "source": [
    "El material del curso está disponible en __GitHub, una plataforma para alojar proyectos de software que también  proporciona una serie de herramientas para el trabajo en equipo__. Digamos que es una especie de red social-herramienta para escribir y compartir código. (No te preocupes, no necesitarás saber nada sobre ella para seguir el curso)."
   ]
  },
  {
   "cell_type": "markdown",
   "metadata": {},
   "source": [
    "Simplemente ve a mi [repositorio del curso en GitHub](https://github.com/alanmatzumiya/Curso-Python.git), y en la parte derecha encontrarás un botón __*Clone or download*__ como éste: ![](../images/download_zip.png) \n",
    "\n",
    "Púlsalo, selecciona __*Download Zip*__, __guarda el archivo__ en tu ordenador y __descomprímelo__. "
   ]
  },
  {
   "cell_type": "markdown",
   "metadata": {},
   "source": [
    "### 4. Utilización del material del curso."
   ]
  },
  {
   "cell_type": "markdown",
   "metadata": {},
   "source": [
    "Una vez que instalado Python y descargado el material del curso, para poder utilizarlo debes __abrir una línea de comandos en la carpeta que has descomprimido__.\n",
    "\n",
    "* En __Windows__, puedes hacer esto desde el explorador. Primero navega hasta la carpeta y luego usa `shift + clic-derecho` en un espacio vacío de la carpeta  y pulsa sobre `Abrir ventana de comandos aquí`:\n",
    "\n",
    "![](../images/ventana_comandos_windows.png)\n",
    "\n",
    "* En __OS X__, puedes activar el menú [nuevo terminal en carpeta](http://appleadicto.com/mac/osx/ejecutar-el-terminal-de-os-x-desde-una-carpeta-del-finder/):\n",
    "![](../images/ventana_comandos_mac.png)\n",
    "\n",
    "* En __Linux__, la totalidad de escritorios disponibles tienen una opción para lanzar un terminal en una determinada carpeta (por ejemplo, el plugin `nautilus-open-terminal` en GNOME o pulsando `F4` dentro de Dolphin en KDE)."
   ]
  },
  {
   "cell_type": "markdown",
   "metadata": {},
   "source": [
    "Se abrirá una línea de comandos, teclea en ella:\n",
    "\n",
    "`jupyter notebook` \n",
    "\n",
    "y pulsa Intro.\n",
    "\n",
    "__¡Es importante que la dirección que aparezca en la línea de comandos sea la correspondiente a la carpeta del curso (e.g. \"curso_caminos-2016-master\"), o determinados elementos como las imágenes incrustadas no se visualizarán correctamente!__\n",
    "\n",
    "Aparecerán unas cuantas líneas y __se abrirá tu navegador web predefinido. __No hace falta disponer de conexión a Internet__. Lo que está ocurriendo es que *\"tu navegador está mostrando lo que le manda el programa que se está ejecutando desde la línea de comandos\"*__ (entiéndelo así ya tendrás tiempo de profundizar si quieres). __Así que no cierres la línea de comandos hasta que termines de usar el notebook y ya lo hayas guardado y cerrado en tu navegador.__"
   ]
  },
  {
   "cell_type": "markdown",
   "metadata": {},
   "source": [
    "En esa ventana de tu navegador puedes moverte por las carpetas y ver los archivos con extensión `.ipynb`. __Ve a la carpeta `Notebooks` y abre la primera clase haciendo click sobre ella.__ Para cambiar el estilo (letra, colores...) ve a `File > Trust Notebook`.\n",
    "\n",
    "En esa primera clase se hace una pequeña introducción a Python. __Lee el principio con calma__ para saber cómo manejar el Notebook (también puedes usar la ayuda `Help > User Interface Tour` ) y __no tengas miedo de tocar y cambiar cosas a tu antojo__. No vas a romper tu ordenador y en una de malas, siempre puedes volverte a descargar todo de GitHub."
   ]
  },
  {
   "cell_type": "markdown",
   "metadata": {},
   "source": [
    "##### ¡Ya estás listo para empezar!"
   ]
  },
  {
   "cell_type": "code",
   "execution_count": 1,
   "metadata": {},
   "outputs": [
    {
     "data": {
      "text/html": [
       "\n",
       "        <iframe\n",
       "            width=\"560\"\n",
       "            height=\"300\"\n",
       "            src=\"https://www.youtube.com/embed/h7MD94Woz-E?heigth=450\"\n",
       "            frameborder=\"0\"\n",
       "            allowfullscreen\n",
       "            \n",
       "        ></iframe>\n",
       "        "
      ],
      "text/plain": [
       "<IPython.lib.display.YouTubeVideo at 0x7f0760585a60>"
      ]
     },
     "execution_count": 1,
     "metadata": {},
     "output_type": "execute_result"
    }
   ],
   "source": [
    "from IPython.display import YouTubeVideo\n",
    "\n",
    "YouTubeVideo(\"h7MD94Woz-E\", width=560, heigth = 450)"
   ]
  },
  {
   "cell_type": "markdown",
   "metadata": {},
   "source": [
    "#### *[DARLE AQUI PARA SEGUIR !!](/notebooks/Modulo 1/001-PythonBasico-JupyterNotebook.ipynb)*"
   ]
  },
  {
   "cell_type": "code",
   "execution_count": 2,
   "metadata": {},
   "outputs": [
    {
     "ename": "FileNotFoundError",
     "evalue": "[Errno 2] No such file or directory: '../Archivos/styles/aeropython.css'",
     "output_type": "error",
     "traceback": [
      "\u001b[0;31m---------------------------------------------------------------------------\u001b[0m",
      "\u001b[0;31mFileNotFoundError\u001b[0m                         Traceback (most recent call last)",
      "Input \u001b[0;32mIn [2]\u001b[0m, in \u001b[0;36m<cell line: 4>\u001b[0;34m()\u001b[0m\n\u001b[1;32m      2\u001b[0m \u001b[38;5;28;01mfrom\u001b[39;00m \u001b[38;5;21;01mIPython\u001b[39;00m\u001b[38;5;21;01m.\u001b[39;00m\u001b[38;5;21;01mcore\u001b[39;00m\u001b[38;5;21;01m.\u001b[39;00m\u001b[38;5;21;01mdisplay\u001b[39;00m \u001b[38;5;28;01mimport\u001b[39;00m HTML\n\u001b[1;32m      3\u001b[0m css_file \u001b[38;5;241m=\u001b[39m \u001b[38;5;124m'\u001b[39m\u001b[38;5;124m../Archivos/styles/aeropython.css\u001b[39m\u001b[38;5;124m'\u001b[39m\n\u001b[0;32m----> 4\u001b[0m HTML(\u001b[38;5;28;43mopen\u001b[39;49m\u001b[43m(\u001b[49m\u001b[43mcss_file\u001b[49m\u001b[43m,\u001b[49m\u001b[43m \u001b[49m\u001b[38;5;124;43m\"\u001b[39;49m\u001b[38;5;124;43mr\u001b[39;49m\u001b[38;5;124;43m\"\u001b[39;49m\u001b[43m)\u001b[49m\u001b[38;5;241m.\u001b[39mread())\n",
      "\u001b[0;31mFileNotFoundError\u001b[0m: [Errno 2] No such file or directory: '../Archivos/styles/aeropython.css'"
     ]
    }
   ],
   "source": [
    "# Esta celda da el estilo al notebook\n",
    "from IPython.core.display import HTML\n",
    "css_file = '../Archivos/styles/aeropython.css'\n",
    "HTML(open(css_file, \"r\").read())"
   ]
  },
  {
   "cell_type": "code",
   "execution_count": null,
   "metadata": {},
   "outputs": [],
   "source": []
  }
 ],
 "metadata": {
  "anaconda-cloud": {},
  "kernelspec": {
   "display_name": "Python 3 (ipykernel)",
   "language": "python",
   "name": "python3"
  },
  "language_info": {
   "codemirror_mode": {
    "name": "ipython",
    "version": 3
   },
   "file_extension": ".py",
   "mimetype": "text/x-python",
   "name": "python",
   "nbconvert_exporter": "python",
   "pygments_lexer": "ipython3",
   "version": "3.9.12"
  }
 },
 "nbformat": 4,
 "nbformat_minor": 1
}
