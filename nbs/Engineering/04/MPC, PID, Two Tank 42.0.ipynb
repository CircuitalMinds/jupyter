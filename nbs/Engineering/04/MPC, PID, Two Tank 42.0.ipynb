{
 "cells": [
  {
   "cell_type": "markdown",
   "metadata": {},
   "source": [
    "# Gravity Drained Tanks in Series\n",
    "We'll start with a straightforward model for a pair of gravity drained\n",
    "tanks in series. "
   ]
  },
  {
   "cell_type": "code",
   "execution_count": 101,
   "metadata": {
    "collapsed": false
   },
   "outputs": [],
   "source": [
    "#%    _______\n",
    "#%           |  q_in (manipulated)\n",
    "#%           v\n",
    "#%        -------\n",
    "#%       |       |  Area = A1\n",
    "#%       |       |\n",
    "#%        -------\n",
    "#%    ----   |\n",
    "#    q_d  |  |  q1 = C1*sqrt(h1)\n",
    "#%        v  v\n",
    "#%        -------\n",
    "#%       |       |  Area = A2\n",
    "#%       |       |\n",
    "#%        -------\n",
    "#%           |\n",
    "#%            -----> q2 = C2*sqrt(h2)\n",
    "#%\n",
    "# % The model equations are\n",
    "# %\n",
    "#%   dh(1)/dt = (qin(t) - C1*sqrt(h(1)))/A1\n",
    "#%   dh(2)/dt = (qd(t) + C1*sqrt(h(1)) - C2*sqrt(h(2)))/A2\n",
    "#%\n",
    "#% q_d is an unmeasured inflow to tank 2. The control objective is to\n",
    "#% maintain a desired level in tank 2 and thereby a steady outflow q2 by\n",
    "#% adjusting the manipulable variable q_in.\n",
    "#%\n",
    "#% The right hand side of the differential equations are given in the form a\n",
    "#% function of time (t), a vector of tank levels (h), and functions of time\n",
    "#% that return values for qin(t) and qd(t)\n",
    "\n",
    "# import imporant packages\n",
    "import math \n",
    "import numpy\n",
    "import numpy as np\n",
    "from scipy.integrate import odeint\n",
    "import matplotlib.pyplot as plt\n",
    "import pylab\n",
    "from operator import add \n",
    "from scipy.interpolate import interp1d\n",
    "%matplotlib inline\n",
    "\n",
    "\n",
    "# Model Parameters\n",
    "\n",
    "A1 = 2.0;\n",
    "C1 = 1.2;\n",
    "A2 = 3.0;\n",
    "C2 = 1.0;\n",
    "h1store = [0];\n",
    "h2store = [0];\n",
    "Hmatrix = np.matrix([h1store,h2store])\n",
    "qin = []\n",
    "qd = []\n",
    "# Model equations\n",
    "\n",
    "def dHtankone(t,h1,qin,qd):\n",
    "    dh = (qin - C1*np.real(math.sqrt(h1)))/A1\n",
    "    return dh\n",
    "def dHtanktwo(t,h1,h2,qin,qd):\n",
    "    dhtwo = (qd + C1*np.real(math.sqrt(h1)) - C2*np.real(math.sqrt(h2)))/A2\n",
    "    return dhtwo\n",
    "dHtanktwo(10,10,10,10,10);"
   ]
  },
  {
   "cell_type": "markdown",
   "metadata": {},
   "source": [
    "# Demo 1. Simulation of the Tank Filling Operation\n",
    " We'll start with a straightforward simulation of the tank filling\n",
    " operation. "
   ]
  },
  {
   "cell_type": "code",
   "execution_count": 102,
   "metadata": {
    "collapsed": false
   },
   "outputs": [],
   "source": [
    "# nominal inlet flows\n",
    "qin_nominal = 1.0;\n",
    "qd_nominal = 0.0;\n",
    "\n",
    "def qinfunction(t):\n",
    "    qin = qin_nominal\n",
    "    return qin\n",
    "def qdfunction(t):\n",
    "    qd = qd_nominal\n",
    "    return qd\n",
    "def height(M,t):\n",
    "    h1 = M[0];\n",
    "    h2 = M[1];\n",
    "    qin = qinfunction(t);\n",
    "    qd = qdfunction(t);\n",
    "    X1 = dHtankone(t,h1,qin,qd)\n",
    "    X2 = dHtanktwo(t,h1,h2,qin,qd)\n",
    "    dH = [X1,X2]\n",
    "    return dH\n",
    "#start = [0,0,0,1]\n",
    "\n",
    "#dH = height(start,0)\n",
    "tf = 150;\n",
    "h1_initial = 0;\n",
    "h2_initial = 0;\n",
    "#h1.append(h1_initial);\n",
    "#h2.append(h2_initial);\n",
    "#h1store.append(dH[0]);\n",
    "#h2store.append(dH[1]);\n",
    "#Hmatrix = np.matrix([h1store,h2store])\n",
    "\n",
    "time = numpy.linspace(0.0, tf, 1000)\n",
    "start = [0,0]"
   ]
  },
  {
   "cell_type": "code",
   "execution_count": 103,
   "metadata": {
    "collapsed": false
   },
   "outputs": [
    {
     "name": "stdout",
     "output_type": "stream",
     "text": [
      "[[ 0.          0.        ]\n",
      " [ 0.05994069  0.0075329 ]\n",
      " [ 0.10883878  0.01928267]\n",
      " ..., \n",
      " [ 0.69444444  1.        ]\n",
      " [ 0.69444444  1.        ]\n",
      " [ 0.69444444  1.        ]]\n"
     ]
    }
   ],
   "source": [
    "f = odeint(height, start, time)\n",
    "print f\n",
    "h_ss = f[-1,:]"
   ]
  },
  {
   "cell_type": "code",
   "execution_count": 104,
   "metadata": {
    "collapsed": false
   },
   "outputs": [
    {
     "data": {
      "text/plain": [
       "<matplotlib.text.Text at 0x10b9d7590>"
      ]
     },
     "execution_count": 104,
     "metadata": {},
     "output_type": "execute_result"
    },
    {
     "data": {
      "image/png": "[encoded data removed]",
      "text/plain": [
       "<matplotlib.figure.Figure at 0x109cf4890>"
      ]
     },
     "metadata": {},
     "output_type": "display_data"
    }
   ],
   "source": [
    "fr, axarr = plt.subplots(2, sharex=True)\n",
    "axarr[0].plot(time,f[:,0],'b')\n",
    "axarr[0].plot(time,f[:,1],'r')\n",
    "axarr[0].set_title('Tank Levels')\n",
    "axarr[0].axhline(y = h_ss[0], xmin = 0, xmax = 1, color='b',ls='--')\n",
    "axarr[0].axhline(y = h_ss[1], xmin = 0, xmax = 1, color= 'r',ls='--')\n",
    "axarr[0].legend(['Tank Level 1','Tank Level 2'],'best')\n",
    "axarr[0].set_ylim([0,1.2])\n",
    "axarr[0].set_ylabel('Level [meters]')\n",
    "axarr[0].set_xlabel('Time[min]')\n",
    "axarr[1].axhline(y = qinfunction(1), xmin = 0, xmax = 1, color='b')\n",
    "axarr[1].axhline(y = qdfunction(1), xmin = 0, xmax = 1, color='r')\n",
    "axarr[1].set_ylim([-.2,1.2])\n",
    "axarr[1].legend(['Manipulated Inflow','Disturbance'],'best')\n",
    "axarr[1].set_ylabel('Flow (cubic metters/min)')\n",
    "axarr[1].set_xlabel('Time[min]')"
   ]
  },
  {
   "cell_type": "code",
   "execution_count": null,
   "metadata": {
    "collapsed": false
   },
   "outputs": [],
   "source": []
  },
  {
   "cell_type": "markdown",
   "metadata": {},
   "source": [
    "#  Demo 2. Proportional-Integral (PI) Feedback Control of Tank Level\n",
    " We next demonstration feedback control of the level in tank 2 using\n",
    " Proportional-Integral (PI) control to manipulate the inlet flowrate. The\n",
    " desired level is specified by the function href(t)."
   ]
  },
  {
   "cell_type": "code",
   "execution_count": 105,
   "metadata": {
    "collapsed": false
   },
   "outputs": [],
   "source": [
    "# Establish a Reference function\n",
    "def href(t):\n",
    "    hreff = h_ss[1] + min(.1*t, .5) - .7*(t>=120)\n",
    "    return hreff\n",
    "# Redefine Qd\n",
    "def qdfunction(t):\n",
    "    qd = .3*((t>= 50) & (t<70));\n",
    "    return qd\n",
    "# Turn Time into Discreet Time\n",
    "dt = 2.0;\n",
    "tf = 200;\n",
    "time_discrete = np.linspace(0,200,101)"
   ]
  },
  {
   "cell_type": "code",
   "execution_count": 106,
   "metadata": {
    "collapsed": false
   },
   "outputs": [],
   "source": [
    "h = h_ss\n",
    "I = 0;\n",
    "k = 0;\n",
    "yrefstore = [0]\n",
    "p1 = [h_ss[1]]\n",
    "#p2 = [h_ss[0]]\n",
    "#p3 = [h_ss[1]]\n",
    "qinf = [1]\n",
    "\n",
    "while k < len(time_discrete) - 1:\n",
    "    # Our Measured Value\n",
    "    y = h[1] - h_ss[1];\n",
    "    # The PI Controller\n",
    "    yref = href(time_discrete[k]) - h_ss[1];\n",
    "    yerr = yref - y;\n",
    "    P = .6*yerr;\n",
    "    I = I + .1*dt*yerr;\n",
    "    u = P + I;\n",
    "    # Actuator \n",
    "    qin_last = qinfunction(time_discrete[k])\n",
    "    qin_delta = (qin_nominal + u) - qin_last;\n",
    "    def qinfunction(ts):\n",
    "        qin = qin_last + (ts > time_discrete[k])*qin_delta;\n",
    "        return qin\n",
    "    tiwtp = qinfunction(time_discrete[k+1])\n",
    "    qinf.append(tiwtp)\n",
    "    # Process Simulation\n",
    "    M = [h[0],h[1]]\n",
    "    timeinter = [time_discrete[k],time_discrete[k+1]]\n",
    "    Hsim = odeint(height, M, [time_discrete[k], time_discrete[k+1]])\n",
    "    h = Hsim[-1,:]\n",
    "    k = k+1\n",
    "    # Visualization\n",
    "    p1.append(y+h_ss[1])\n",
    "    #p2.append(Hsim[-1,0])"
   ]
  },
  {
   "cell_type": "code",
   "execution_count": 107,
   "metadata": {
    "collapsed": false
   },
   "outputs": [
    {
     "data": {
      "text/plain": [
       "(0, 2)"
      ]
     },
     "execution_count": 107,
     "metadata": {},
     "output_type": "execute_result"
    },
    {
     "data": {
      "image/png": "[encoded data removed]",
      "text/plain": [
       "<matplotlib.figure.Figure at 0x10b118bd0>"
      ]
     },
     "metadata": {},
     "output_type": "display_data"
    }
   ],
   "source": [
    "f, axarr = plt.subplots(2, sharex=True)\n",
    "axarr[0].plot(time_discrete, p1,'b-o',ms=4.0)\n",
    "hrf = [href(0)]\n",
    "time = numpy.linspace(0,200,201)\n",
    "for t in range(1,201):\n",
    "    hrf.append(href(t))\n",
    "axarr[0].plot(time, hrf,'r--')\n",
    "axarr[0].set_title('Feedback Control of Tank 2 Level')\n",
    "axarr[0].set_ylabel('Level [meters]')\n",
    "\n",
    "qdf = [qdfunction(0)]\n",
    "for t in range(1,201):\n",
    "    qdf.append(qdfunction(t))\n",
    "    \n",
    "axarr[1].plot(time, qdf,'r')\n",
    "axarr[1].plot(time_discrete,qinf,'b',drawstyle='steps')\n",
    "axarr[1].set_ylabel('Flow')\n",
    "axarr[1].set_xlabel('Time[min]')\n",
    "plt.ylim([0,2])"
   ]
  },
  {
   "cell_type": "markdown",
   "metadata": {},
   "source": [
    "# Demo 3 Linearization\n",
    " For detailed control design we will need a linear model that approximates\n",
    " the response of the two-tank system in the neighhborhood of a typical\n",
    " operating point. The model will be in the form\n",
    "\n",
    " dx/dt = A*x + B*u + Ed\n",
    " \n",
    " y = C*x + D*u + Fd\n",
    "\n",
    " where state vector x denotes deviations of tank heights from the steady\n",
    " state operating point, u denotes deviations in the manipulable input qin,\n",
    " and d denotes deviations in the nominal disturbance qd. Here we derive\n",
    " analytical expressions for the partial derivatives of f with respect to\n",
    " all of these variables, and evaluate at the steady state computed above."
   ]
  },
  {
   "cell_type": "code",
   "execution_count": 108,
   "metadata": {
    "collapsed": false
   },
   "outputs": [],
   "source": [
    "A = np.array([[-C1/(2*A1*math.sqrt(h_ss[0])), 0],[C1/(2*A2*math.sqrt(h_ss[0])), -C2/(2*A2*math.sqrt(h_ss[1]))]])\n",
    "B = np.array([1/A1, 0])\n",
    "E = np.array([0, 1/A2])\n",
    "C = [0, 1]\n",
    "D = [0]\n",
    "F = [0]"
   ]
  },
  {
   "cell_type": "code",
   "execution_count": 109,
   "metadata": {
    "collapsed": false
   },
   "outputs": [],
   "source": [
    "# Now compare the response of the nonlinear model and the linear\n",
    "# approximation for typical inputs. A time grid is set up, then used to for\n",
    "# a nonlinear simulation starting at the nominal steady state and with some\n",
    "# time-varying inputs. The simulation is then repeated for the nonlinear\n",
    "# model after constructing the initial condition and inputs in terms of the\n",
    "# deviations from the nominal steady state.\n",
    "\n",
    "# simulation horizon\n",
    "tf = 80\n",
    "t = numpy.linspace(0,tf,1601)\n",
    "\n",
    "# nonlinear simulation\n",
    "def qinfunction(t):\n",
    "    qin = qin_nominal + 0.2*(t>=10) - 0.4*(t>=40)\n",
    "    return qin\n",
    "h = odeint(height, h_ss, t)\n",
    "\n",
    "# linear simulation\n",
    "def ufunction(t):\n",
    "    return qinfunction(t) - qin_nominal\n",
    "def dfunction(t):\n",
    "    return qdfunction(t) - qd_nominal\n",
    "\n",
    "x_initial =  np.array([0,0])\n",
    "def linfunction(x,t):\n",
    "    return np.dot(A,x) + B*ufunction(t) + E*dfunction(t)"
   ]
  },
  {
   "cell_type": "code",
   "execution_count": 110,
   "metadata": {
    "collapsed": false
   },
   "outputs": [],
   "source": [
    "x = odeint(linfunction, x_initial, t)"
   ]
  },
  {
   "cell_type": "code",
   "execution_count": 111,
   "metadata": {
    "collapsed": false
   },
   "outputs": [],
   "source": [
    "#np.dot(A,x_initial) + np.dot(B,ufunction(15)) + np.dot(E, dfunction(15))\n"
   ]
  },
  {
   "cell_type": "code",
   "execution_count": 112,
   "metadata": {
    "collapsed": false
   },
   "outputs": [
    {
     "data": {
      "text/plain": [
       "(0, 1.4)"
      ]
     },
     "execution_count": 112,
     "metadata": {},
     "output_type": "execute_result"
    },
    {
     "data": {
      "image/png": "[encoded data removed]",
      "text/plain": [
       "<matplotlib.figure.Figure at 0x10b25e690>"
      ]
     },
     "metadata": {},
     "output_type": "display_data"
    }
   ],
   "source": [
    "#%%\n",
    "#% The simulation results are displayed by converting the linear deviation\n",
    "# variables back to values corresponding to the actual process variables.\n",
    "#% This allows for a better comparison of the nonlinear and linear models.\n",
    "\n",
    "f, axarr = plt.subplots(2, sharex=True)\n",
    "axarr[0].plot(t,h[:,0],'b')\n",
    "axarr[0].plot(t,h[:,1],'r')\n",
    "axarr[0].plot(t,(x+h_ss)[:,0],'b--')\n",
    "axarr[0].plot(t,(x+h_ss)[:,1],'r--')\n",
    "axarr[0].legend(['Tank Level 1','Tank Level 2'],'best')\n",
    "axarr[0].set_ylabel('Level [meters]')\n",
    "axarr[0].set_title('Response: Nonlinear (solid) versus Linear (dashed) models')\n",
    "axarr[1].plot(t,qinfunction(t))\n",
    "axarr[1].plot(t,qdfunction(t),'r')\n",
    "axarr[1].set_ylabel('cubic meters/min')\n",
    "axarr[1].set_xlabel('Time[min]')\n",
    "axarr[1].legend(['qin manipulated input','qd disturbance'],'best')\n",
    "plt.ylim([0,1.4])\n"
   ]
  },
  {
   "cell_type": "markdown",
   "metadata": {},
   "source": [
    "#  Demo 4. Discrete Time Transformation with ZOH\n",
    " Model predictive control is normally implemented in discrete time. We\n",
    " therefore need a discrete time version of the linearized model that we'll\n",
    " construct using matrix exponentials. The model is in the form\n",
    "\n",
    "  x(k+1) = Ad*x(k) + Bd*u(k) + Ed*d(k)\n",
    "  y(k) = C*x(k) + D*u(k) + F*d(k)\n",
    "  x(k), u(k), d(k), y(k) refer to values of the linear model evaluated at\n",
    "  time t(k) where k is the sample numbe, and k=1 is the initial condition.\n",
    "  Note that C, D, and F are the same for the discrete-time and\n",
    "  continuous-time models."
   ]
  },
  {
   "cell_type": "code",
   "execution_count": 113,
   "metadata": {
    "collapsed": false
   },
   "outputs": [],
   "source": [
    "#import expm function\n",
    "from scipy.linalg import expm, inv\n",
    "\n",
    "#sample time\n",
    "dt=2.0;\n",
    "A = np.matrix([[-C1/(2*A1*math.sqrt(h_ss[0])), 0],[C1/(2*A2*math.sqrt(h_ss[0])), -C2/(2*A2*math.sqrt(h_ss[1]))]])\n",
    "B = np.array([[1/A1], [0]])\n",
    "E = np.array([[0], [1/A2]])\n",
    "\n",
    "#discrete-time model \n",
    "Ad=expm(A*dt);\n",
    "Bd=(expm(A*dt)-numpy.matrix(numpy.identity(2)))*inv(A)*B;\n",
    "Ed=(expm(A*dt)-numpy.matrix(numpy.identity(2)))*inv(A)*E;\n",
    "Ad1=Ad[0]\n",
    "Ad2=Ad[1]\n",
    "Ad=np.matrix([Ad1, Ad2])\n",
    "\n",
    "    "
   ]
  },
  {
   "cell_type": "code",
   "execution_count": 114,
   "metadata": {
    "collapsed": false
   },
   "outputs": [
    {
     "data": {
      "text/plain": [
       "(-0.3, 0.3)"
      ]
     },
     "execution_count": 114,
     "metadata": {},
     "output_type": "execute_result"
    },
    {
     "data": {
      "image/png": "[encoded data removed]",
      "text/plain": [
       "<matplotlib.figure.Figure at 0x10b485e50>"
      ]
     },
     "metadata": {},
     "output_type": "display_data"
    }
   ],
   "source": [
    "#%%\n",
    "#% Next we construct simulations using both the discrete-time and\n",
    "#% continuous-time models.\n",
    "\n",
    "xi1 = [0];\n",
    "xi2 = [0];\n",
    "x_initial = np.matrix([xi1,xi2])\n",
    "\n",
    "# discrete time simulation\n",
    "td = numpy.linspace(0,tf,tf/dt+1);\n",
    "xd = x_initial;\n",
    "\n",
    "for k in range (1,len(td-1)):\n",
    "    xd = np.c_[xd,np.dot(Ad,xd[:,k-1])+np.dot(Bd,ufunction(td[k-1]))+np.dot(Ed,dfunction(td[k-1]))]\n",
    "\n",
    "# flip matrix to row vector\n",
    "xd= xd.T\n",
    "\n",
    "#continues-time model taken from Demo 3\n",
    "\n",
    "f, axarr = plt.subplots(2, sharex=True)\n",
    "\n",
    "axarr[0].plot(t,x[:,0],'b')\n",
    "axarr[0].plot(t,x[:,1],'r')\n",
    "axarr[0].plot(td,xd[:,0],'bo',ms=5.0)\n",
    "axarr[0].plot(td,xd[:,1],'ro',ms=5.0)\n",
    "axarr[0].set_ylabel('Deviation from SS')\n",
    "axarr[0].set_title('System Response')\n",
    "axarr[0].legend(['Tank Level 1','Tank Level 2'],'lower left')\n",
    "\n",
    "axarr[1].plot(t,ufunction(t),'b')\n",
    "axarr[1].plot(t,dfunction(t),'r')\n",
    "axarr[1].plot(td,ufunction(td),'o')\n",
    "axarr[1].plot(td,dfunction(td),'ro')\n",
    "axarr[1].set_ylabel('Deviation from SS')\n",
    "axarr[1].set_xlabel('Time[min]')\n",
    "axarr[1].legend(['qin manipulated input','qd disturbance'],'lower left')\n",
    "\n",
    "plt.ylim([-.3,.3])\n",
    "\n"
   ]
  },
  {
   "cell_type": "markdown",
   "metadata": {},
   "source": [
    "#  Demo 5. Step Response Matrix\n",
    " As outlined in Chapter 20 of the (SEMD) textbook, the computations for\n",
    " Model Predictive Control can formulated in terms of the step response\n",
    " matrix. The step response matrix is computed using the step response of\n",
    " the discrete-time linear model, which is computed by finding the values\n",
    " of the output starting at steady state, and where the manipuleable input\n",
    " is a unit step."
   ]
  },
  {
   "cell_type": "code",
   "execution_count": 115,
   "metadata": {
    "collapsed": false
   },
   "outputs": [
    {
     "data": {
      "text/plain": [
       "<matplotlib.text.Text at 0x107b16590>"
      ]
     },
     "execution_count": 115,
     "metadata": {},
     "output_type": "execute_result"
    },
    {
     "data": {
      "image/png": "[encoded data removed]",
      "text/plain": [
       "<matplotlib.figure.Figure at 0x109163d90>"
      ]
     },
     "metadata": {},
     "output_type": "display_data"
    }
   ],
   "source": [
    "#% prediction and control horizons\n",
    "dt = 2.0;\n",
    "tprediction = 50;\n",
    "tcontrol = 8;\n",
    "\n",
    "tpred = np.linspace(0,tprediction+tcontrol,((tprediction+tcontrol)/dt)+1);\n",
    "\n",
    "#% unit step input\n",
    "def ufunction(t):\n",
    "    upred=1.0;\n",
    "    return upred\n",
    "\n",
    "#% compute unit step response\n",
    "x1=[0]\n",
    "x2=[0]\n",
    "x = np.matrix([x1,x2]);\n",
    "\n",
    "#cant make ystep an empty matrix leads to extra point on graph\n",
    "ystep=[0];\n",
    "\n",
    "for k in range(0,len(tpred)):\n",
    "    ystep = np.c_[ystep,np.dot(C,x)+np.dot(D,ufunction(tpred[k]))]\n",
    "    x= np.dot(Ad,x) + np.dot(Bd,ufunction(tpred[k]))\n",
    "    \n",
    "ystep = ystep.T[range(1,31)]\n",
    "#weird range ^^ because of extra point from ystep\n",
    "\n",
    "plt.plot(tpred,ystep,'bo',ms=4.0)\n",
    "plt.ylabel('Deviation of Tank Level2 from SS [meters]')\n",
    "plt.xlabel('Time[min]')\n",
    "plt.title('Step Response')"
   ]
  },
  {
   "cell_type": "code",
   "execution_count": 116,
   "metadata": {
    "collapsed": false
   },
   "outputs": [],
   "source": [
    "## Establish Toeplitz Matrix\n",
    "\n",
    "from scipy.linalg import toeplitz\n",
    "# toeplitz function \n",
    "steps = int(tcontrol/dt);\n",
    "\n",
    "ytoe = ystep\n",
    "\n",
    "ytoe = np.array(ytoe)\n",
    "ytoe = ytoe.tolist()\n",
    "zerovector = np.zeros(steps+1)\n",
    "S = toeplitz(ytoe,zerovector)\n"
   ]
  },
  {
   "cell_type": "markdown",
   "metadata": {},
   "source": [
    "# Demo 6. Computing an Open Loop Control Policy\n",
    " As a first step towards feedback control, let's look at using the step\n",
    " response matrix to compute the control moves necessary to acheive a\n",
    " desired change in the level of tank 2. We start with desired reference\n",
    " trajectory for future values of level in tank 2.\n",
    "\n",
    "href = @(t) h_ss(2) + min(0.1*t, 0.5);"
   ]
  },
  {
   "cell_type": "code",
   "execution_count": 117,
   "metadata": {
    "collapsed": false
   },
   "outputs": [
    {
     "name": "stdout",
     "output_type": "stream",
     "text": [
      "[ 1.14444852 -0.94682513  0.07216944 -0.11428922  0.09468556]\n"
     ]
    },
    {
     "data": {
      "text/plain": [
       "<matplotlib.text.Text at 0x107d80e90>"
      ]
     },
     "execution_count": 117,
     "metadata": {},
     "output_type": "execute_result"
    },
    {
     "data": {
      "image/png": "[encoded data removed]",
      "text/plain": [
       "<matplotlib.figure.Figure at 0x1066609d0>"
      ]
     },
     "metadata": {},
     "output_type": "display_data"
    }
   ],
   "source": [
    "f, axarr = plt.subplots(2, sharex=True)\n",
    "\n",
    "for k in range(0,len(tpred)-1):\n",
    "    axarr[0].plot(tpred[k],href(tpred[k]),'ro')\n",
    "plt.ylim(0,2)\n",
    "\n",
    "#%%\n",
    "#% A series of control moves du are computed by 'solving' the equation\n",
    "#%\n",
    "#%   yref = S*du\n",
    "#%\n",
    "#% where\n",
    "#% \n",
    "#%   yref = href = h_ss\n",
    "#%\n",
    "#% and u is reconstructed from du by taking a cumulative sum. The quotes\n",
    "#% around 'solving' are because there are more equations than unknowns, so\n",
    "#% the best we can do (without further knowledge) is a regression.\n",
    "\n",
    "def yreffunction(t):\n",
    "    yref= href(t) - h_ss[1]\n",
    "    return yref\n",
    "yreffunction\n",
    "yrefsave=np.zeros(len(S))\n",
    "for k in range(0,len(S)):\n",
    "    #yref= np.c_[yref,yreffunction(tpred[k])]\n",
    "    #print yref\n",
    "    yrefsave[k]= yreffunction(tpred[k])\n",
    "    #yref = np.vstack((yref,yrefnew))\n",
    "\n",
    "np.array(yrefsave)\n",
    "#print len(yrefsave)\n",
    "#print len(S)\n",
    "S = np.reshape(S,(len(S),steps+1))\n",
    "du= np.linalg.lstsq(S,yrefsave)[0]\n",
    "#du = S\\yref[tpred]\n",
    "du=du.T\n",
    "print du\n",
    "\n",
    "## The Following Function Was supplied by Professor Jeff Kantor, University of Notre Dame\n",
    "def interp0(x, xp, yp):\n",
    "    \"\"\"Zeroth order hold interpolation w/ same\n",
    "    (base)   signature  as numpy.interp.\"\"\"\n",
    "\n",
    "    def func(x0):\n",
    "        if x0 <= xp[0]:\n",
    "            return yp[0]\n",
    "        if x0 >= xp[-1]:\n",
    "            return yp[-1]\n",
    "        k = 0\n",
    "        while x0 > xp[k]:\n",
    "            k += 1\n",
    "        return yp[k-1]\n",
    "\n",
    "    return map(func, x)\n",
    "\n",
    "\n",
    "## Convert Control Moves to a Continuous Control Policy\n",
    "from scipy import interp\n",
    "linearrange = np.linspace(0,tcontrol,tcontrol/dt+1)\n",
    "linearrange = np.array(linearrange)\n",
    "def ufunctionvec(t):\n",
    "    return interp0(t,linearrange, np.cumsum(du))\n",
    "def qinfunctionvec(t):\n",
    "    X = (qin_nominal*np.ones(len(linearrange))).T + ufunction(linearrange)\n",
    "    return X\n",
    "\n",
    "R = h_ss[1] + np.dot(S,du)\n",
    "axarr[0].plot(tpred, R,'bo',ms=4.0)\n",
    "axarr[0].set_ylim(0,2)\n",
    "#plt.plot()\n",
    "\n",
    "## The Following Function Was supplied by Professor Jeff Kantor, University of Notre Dame\n",
    "def interp0(x, xp, yp):\n",
    "    \"\"\"Zeroth order hold interpolation w/ same\n",
    "    (base)   signature  as numpy.interp.\"\"\"\n",
    "\n",
    "    def func(x0):\n",
    "        if x0 <= xp[0]:\n",
    "            return yp[0]\n",
    "        if x0 >= xp[-1]:\n",
    "            return yp[-1]\n",
    "        k = 0\n",
    "        while x0 > xp[k]:\n",
    "            k += 1\n",
    "        return yp[k-1]\n",
    "\n",
    "    return func(x)\n",
    "\n",
    "\n",
    "\n",
    "\n",
    "def ufunction(t):\n",
    "    return interp0(t,linearrange, np.cumsum(du))\n",
    "def qinfunction(t):\n",
    "    X = (qin_nominal) + ufunction(t)\n",
    "    return X\n",
    "\n",
    "\n",
    "\n",
    "t = np.linspace(0,tpred[-1],2901)\n",
    "michael = np.ones(len(t))\n",
    "#print len(michael)\n",
    "for l in range(0,len(t)):\n",
    "    michael[l] = qinfunction(t[l])\n",
    "    \n",
    "#print len(michael)\n",
    "axarr[1].plot(t,michael,'b')\n",
    "#print len(t) \n",
    "#print len(qinfunction(t))\n",
    "#plt.plot(t,interp0(t,linearrange, np.cumsum(du)))\n",
    "\n",
    "tvec = np.linspace(0,58,30)\n",
    "\n",
    "h = odeint(height, h_ss, tvec)\n",
    "           \n",
    "axarr[0].plot(tpred,h[:,0])\n",
    "axarr[0].plot(tpred,h[:,1],'r')\n",
    "axarr[1].set_ylim([1,2.2])\n",
    "axarr[0].set_ylabel('Level [meters]')\n",
    "axarr[0].set_title('Feedback Control of Tank 2 Level')\n",
    "axarr[1].set_ylabel('Flow')\n",
    "axarr[1].set_xlabel('Time[min]')"
   ]
  },
  {
   "cell_type": "markdown",
   "metadata": {
    "collapsed": true
   },
   "source": [
    "#  Demo 7. Feedback Implementation of Model Predictive Control\n",
    " The open loop implementation has obvious problems in correcting for the\n",
    " effects of model error and unmeasured disturbances. The following cell\n",
    " demonstrates a feedback implementation in which a vector ypred is used to\n",
    " store projections of the future output.  At each time step a new\n",
    " measurement is taken. If there is a mismatch, it assumed the mismatch\n",
    " will bias all future predictions by the same amount, and therefore added\n",
    " to the current prediction. Control moves are then calculated to push the\n",
    " revised prediction to the desired reference tranjectory. The control\n",
    " moves are limited feasible values before being applied to the process."
   ]
  },
  {
   "cell_type": "code",
   "execution_count": 118,
   "metadata": {
    "collapsed": false
   },
   "outputs": [],
   "source": [
    "dt = 2\n",
    "t = np.linspace(0,200,101)\n",
    "ypred = np.zeros(len(tpred))\n",
    "h = h_ss\n",
    "u = 0\n",
    "\n",
    "def qinfunction(t):\n",
    "    return qin_nominal\n",
    "qin_min = 0.0\n",
    "qin_max = 2.0\n",
    "du_max = .5\n",
    "du_min = -.5\n",
    "\n",
    "def href(t):\n",
    "    hreff = h_ss[1] + min(.1*t, .5) - .7*(t>=120)\n",
    "    return hreff"
   ]
  },
  {
   "cell_type": "code",
   "execution_count": 119,
   "metadata": {
    "collapsed": false
   },
   "outputs": [
    {
     "data": {
      "image/png": "[encoded data removed]",
      "text/plain": [
       "<matplotlib.figure.Figure at 0x10b4c87d0>"
      ]
     },
     "metadata": {},
     "output_type": "display_data"
    }
   ],
   "source": [
    "hrefvector = np.zeros(len(t))\n",
    "for i in range(0,len(t)):\n",
    "    hrefvector[i] = href(t[i])\n",
    "    \n",
    "# build subplot    \n",
    "fr, axarr = plt.subplots(2, sharex=True)\n",
    "axarr[0].plot(t,hrefvector,'r--',linewidth = 2.0)\n",
    "axarr[1].plot(t,qdfunction(t),'r')\n",
    "h = h_ss\n",
    "\n",
    "for k in range(0,len(t)-1):\n",
    "    leastsquare = np.zeros(len(tpred))\n",
    "    y = h[1] - h_ss[1]\n",
    "    ## Shift Prediction\n",
    "    ypredsave = (ypred[-1])\n",
    "    ypredremove = (ypred[0])\n",
    "    ypred = ypred.tolist()\n",
    "    ypred.remove(ypredremove)\n",
    "    ypred.append(ypredsave)\n",
    "    ydisturbance = np.add(y,-ypred[0])\n",
    "    ypred = np.add(ypred,ydisturbance) \n",
    "    for j in range(0,len(tpred)):\n",
    "        leastsquare[j] = yreffunction(t[k] + tpred[j]) - ypred[j]\n",
    "    du = np.linalg.lstsq(S,leastsquare)[0][0]\n",
    "    du = min(du, qin_max-qinfunction(t[k]))\n",
    "    du = max(du, qin_min-qinfunction(t[k]))\n",
    "    du = min(du, du_max)\n",
    "    du = max(du, du_min)\n",
    "    ypred = np.add(ypred,S[:,0]*du)\n",
    "    qin_last = qinfunction(t[k+1])\n",
    "    def qinfunction(ts):\n",
    "        A = qin_last + duf*(ts > t[k])\n",
    "        return A\n",
    "    duf = du\n",
    "    timevector = [t[k], t[k+1]]\n",
    "    f = odeint(height,h,timevector)\n",
    "    h = f[1,:]\n",
    "    plt.hold(True)\n",
    "    axarr[0].plot([t[k], t[k+1]],[f[0,1],f[1,1]], 'r')\n",
    "    axarr[0].plot([t[k], t[k+1]],[f[0,0],f[1,0]], 'b')\n",
    "    axarr[0].set_ylim([0,2])\n",
    "   \n",
    "    axarr[1].plot([t[k],t[k+1]], [qinfunction(t[k]), qinfunction(t[k+1])], 'b',drawstyle='steps')\n",
    "    axarr[0].set_ylabel('Level [meters]')\n",
    "    axarr[1].set_ylabel('Flow')\n",
    "    axarr[1].set_xlabel('Time[min]')\n",
    "    axarr[0].set_title('Feedback Control of Tank 2 Level')"
   ]
  },
  {
   "cell_type": "markdown",
   "metadata": {},
   "source": [
    "# Demo 8. Feedback Implementation of Model Predictive Control with CVX\n",
    "The solution to the equation\n",
    "\n",
    "(yref-ypred) = S*du\n",
    "\n",
    "involves possible contraints. For example, there are upper and lower\n",
    "bounds on the manipulable inflow, and on changes in the manipulable inflow. In the previous implementation these constraints were enforced\n",
    "after solving for du, so no accommodation was made by the controller itself for the impact of these constraints on control performance.\n",
    "\n",
    "This cell demonstrates the significant improvement in closed-loop performance that can be acheived by incorporating constraints directly\n",
    "into the control calculations using constrained optimization."
   ]
  },
  {
   "cell_type": "code",
   "execution_count": 120,
   "metadata": {
    "collapsed": false
   },
   "outputs": [
    {
     "data": {
      "image/png": "[encoded data removed]",
      "text/plain": [
       "<matplotlib.figure.Figure at 0x10bf20050>"
      ]
     },
     "metadata": {},
     "output_type": "display_data"
    }
   ],
   "source": [
    "from cvxopt import matrix\n",
    "from cvxopt.modeling import variable, op, max, sum \n",
    "from scipy.optimize import minimize\n",
    "from cvxopt import *\n",
    "from cvxpy import *\n",
    "\n",
    "# discrete simulation horizon \n",
    "dt = 2.0\n",
    "t = np.linspace(0,200,101)\n",
    "\n",
    "# Vector to predicted values of y\n",
    "ypred = np.zeros(len(tpred))\n",
    "\n",
    "# current tank heights\n",
    "h = h_ss\n",
    "u = 0\n",
    "\n",
    "# Initialize control\n",
    "def qinfunction(t):\n",
    "    return qin_nominal\n",
    "\n",
    "# plotting\n",
    "hrefvector = np.zeros(len(t))\n",
    "for i in range(0,len(t)):\n",
    "    hrefvector[i] = href(t[i])\n",
    "    \n",
    "#build subplot\n",
    "fr, axarr = plt.subplots(2, sharex=True)\n",
    "    \n",
    "axarr[0].plot(t,hrefvector,'r--')\n",
    "axarr[1].plot(t,qdfunction(t),'r')\n",
    "\n",
    "for k in range(0,len(t)-1):  #####\n",
    "    # get current measurment\n",
    "    y = h[1]-h_ss[1]\n",
    "    # shift prediction to new time\n",
    "    ypredsave = (ypred[-1])\n",
    "    ypredremove = (ypred[0])\n",
    "    ypred = ypred.tolist()\n",
    "    ypred.remove(ypredremove)\n",
    "    ypred.append(ypredsave)\n",
    "    # compare measurment to prediction\n",
    "    ydisturbance = np.add(y,-ypred[0])\n",
    "    # measurment mismatch update\n",
    "    ypred = np.add(ypred,ydisturbance) \n",
    "    \n",
    "    # Compute control moves needed push ypred to yref\n",
    "    dy = np.zeros(len(tpred))\n",
    "    for j in range(0,len(tpred)):\n",
    "        dy[j] = yreffunction(t[k] + tpred[j]) - ypred[j]\n",
    "\n",
    "    # Create two scalar optimization variables.\n",
    "    a = Variable()\n",
    "    b = Variable()\n",
    "    c = Variable()\n",
    "    d = Variable()\n",
    "    e = Variable()\n",
    "    F = np.array([a,b,c,d,e])\n",
    "    G = a\n",
    "    H = a+b\n",
    "    I = H+c\n",
    "    J = I+d\n",
    "    K = J+e\n",
    "\n",
    "    constraints = [G + qinfunction(t[k]) <= qin_max,\n",
    "                   H + qinfunction(t[k]) <= qin_max,\n",
    "                   I + qinfunction(t[k]) <= qin_max,\n",
    "                   J + qinfunction(t[k]) <= qin_max,\n",
    "                   K + qinfunction(t[k]) <= qin_max,\n",
    "                   G + qinfunction(t[k]) >= qin_min,\n",
    "                   H + qinfunction(t[k]) >= qin_min,\n",
    "                   I + qinfunction(t[k]) >= qin_min,\n",
    "                   J + qinfunction(t[k]) >= qin_min,\n",
    "                   K + qinfunction(t[k]) >= qin_min,\n",
    "                   a <= du_max,\n",
    "                   b <= du_max,\n",
    "                   c <= du_max,\n",
    "                   d <= du_max,\n",
    "                   e <= du_max,\n",
    "                   a >= du_min,\n",
    "                   b >= du_min,\n",
    "                   c >= du_min,\n",
    "                   d >= du_min,\n",
    "                   e >= du_min]\n",
    "    \n",
    "    # Form objective.\n",
    "    def happy1(s):\n",
    "        a = len(s)\n",
    "        d = 0\n",
    "        for k in range(0,a):\n",
    "            d = d + abs(s[k])\n",
    "        return d\n",
    "        \n",
    "    obj = Minimize(happy1(np.dot(S,F)-dy))\n",
    "\n",
    "    # Form and solve problem.\n",
    "    prob = Problem(obj, constraints)\n",
    "    prob.solve()\n",
    "    \n",
    "    # control update assuming we implement the first control move\n",
    "    ypred = np.add(ypred,S[:,0]*a.value)\n",
    "    # Actuator model\n",
    "    qin_last = qinfunction(t[k+1])\n",
    "    def qinfunction(ts):\n",
    "        A = qin_last + duf*(ts > t[k])\n",
    "        return A\n",
    "    duf = a.value\n",
    "    # process simulation\n",
    "    timevector = [t[k], t[k+1]]\n",
    "    f = odeint(height,h,timevector)\n",
    "    h = f[1,:]\n",
    "    \n",
    "    \n",
    "    # Visualization\n",
    "    axarr[0].plot([t[k], t[k+1]], [f[0,1],f[1,1]], 'r-')\n",
    "    axarr[0].plot([t[k], t[k+1]], [f[0,0], f[1,0]] ,'b' )\n",
    "    axarr[0].set_title('Feedback Control of Tank 2 Level')\n",
    "    axarr[0].set_ylabel('Level[meters]')\n",
    "    axarr[1].set_ylabel('Flow')\n",
    "    axarr[1].set_xlabel('Time [mins]')\n",
    "    axarr[1].plot([t[k], t[k+1]], [qinfunction(t[k]),qinfunction(t[k+1])], 'b',linestyle='steps')\n",
    "    # Plot right above is on flow plot in matlab\n",
    "    "
   ]
  },
  {
   "cell_type": "markdown",
   "metadata": {},
   "source": [
    "# Demo 9. Model Predictive Control with State Constraints\n",
    " The final demonstration is to show how constraints on the state of the\n",
    " system can be incorporated in the feedback calculations. In this case,\n",
    " we'll imagine that tank 1 can not be filled past a level x_max, or below\n",
    " a minimum level x_min. The control moves must therefore be constrained\n",
    " not to overflow or underflow tank 1. The constraint is handled by\n",
    " introducing an additional step response matrix R that predicts the impact\n",
    " of control on the level of tank 1, then enforcing the constraint inside\n",
    " the constrained optimization."
   ]
  },
  {
   "cell_type": "code",
   "execution_count": 123,
   "metadata": {
    "collapsed": false
   },
   "outputs": [
    {
     "data": {
      "image/png": "[encoded data removed]",
      "text/plain": [
       "<matplotlib.figure.Figure at 0x10b558150>"
      ]
     },
     "metadata": {},
     "output_type": "display_data"
    }
   ],
   "source": [
    "\n",
    "# maximum level for tank 1\n",
    "x_max = 5\n",
    "x_min = 0\n",
    "\n",
    "# compute unit step response of tank 1\n",
    "x = np.array([[0],[0]])\n",
    "c = np.zeros(len(tpred))\n",
    "for k in range(0,len(tpred)):\n",
    "    c[k] = x[0]\n",
    "    x = np.dot(Ad,x) + Bd\n",
    "    \n",
    "\n",
    "yzero = np.zeros(5)\n",
    "\n",
    "R = toeplitz(c, yzero)\n",
    "\n",
    "# vector to preicted values of y\n",
    "xpred = np.zeros(len(tpred))\n",
    "ypred = np.zeros(len(tpred))\n",
    "\n",
    "# current tank heights\n",
    "h = h_ss\n",
    "u = 0\n",
    "\n",
    "# min an max flowrates\n",
    "def qinfunction(t):\n",
    "    return qin_nominal \n",
    "\n",
    "fr, axarr = plt.subplots(2, sharex=True)\n",
    "axarr[0].plot(t, hrefvector, 'r--',linewidth=2.0)\n",
    "axarr[1].plot(t,qdfunction(t), 'r')\n",
    "bbb = np.zeros(len(t))\n",
    "\n",
    "for k in range(0,len(t)-1):\n",
    "    # get current measurment\n",
    "    x = h[0] - h_ss[0]\n",
    "    y = h[1] - h_ss[1]\n",
    "    \n",
    "    # shift prediction to new time\n",
    "    ypredsave = (ypred[-1])\n",
    "    ypredremove = (ypred[0])\n",
    "    ypred = ypred.tolist()\n",
    "    ypred.remove(ypredremove)\n",
    "    ypred.append(ypredsave)\n",
    "    # compare measurment to prediction\n",
    "    ydisturbance = np.add(y,-ypred[0])\n",
    "    # measurment mismatch update\n",
    "    ypred = np.add(ypred,ydisturbance) \n",
    "    \n",
    "    # shift prediction to new time\n",
    "    xpredsave = (xpred[-1])\n",
    "    xpredremove = (xpred[0])\n",
    "    xpred = xpred.tolist()\n",
    "    xpred.remove(xpredremove)\n",
    "    xpred.append(xpredsave)\n",
    "    # compare measurment to prediction\n",
    "    xdisturbance = np.add(x,-xpred[0])\n",
    "    # measurment mismatch update\n",
    "    xpred = np.add(xpred,xdisturbance) \n",
    "    \n",
    "    dy = np.zeros(len(tpred))\n",
    "    for j in range(0,len(tpred)):\n",
    "        dy[j] = yreffunction(t[k] + tpred[j]) - ypred[j]\n",
    "           \n",
    "                \n",
    "        \n",
    "        \n",
    "        \n",
    "    # Create two scalar optimization variables.\n",
    "    a = Variable()\n",
    "    b = Variable()\n",
    "    c = Variable()\n",
    "    d = Variable()\n",
    "    e = Variable()\n",
    "    F = np.array([a,b,c,d,e])\n",
    "    G = a\n",
    "    H = a+b\n",
    "    I = H+c\n",
    "    J = I+d\n",
    "    K = J+e\n",
    "    YY = np.add(h_ss[0],xpred)\n",
    "    XX = np.dot(R,F)\n",
    "    GG = YY + XX\n",
    "    l = GG[0]\n",
    "    m = GG[1]\n",
    "    n = GG[2]\n",
    "    o = GG[3]\n",
    "    p = GG[4]\n",
    "\n",
    "    constraints = [G + qinfunction(t[k]) <= qin_max,\n",
    "                   H + qinfunction(t[k]) <= qin_max,\n",
    "                   I + qinfunction(t[k]) <= qin_max,\n",
    "                   J + qinfunction(t[k]) <= qin_max,\n",
    "                   K + qinfunction(t[k]) <= qin_max,\n",
    "                   G + qinfunction(t[k]) >= qin_min,\n",
    "                   H + qinfunction(t[k]) >= qin_min,\n",
    "                   I + qinfunction(t[k]) >= qin_min,\n",
    "                   J + qinfunction(t[k]) >= qin_min,\n",
    "                   K + qinfunction(t[k]) >= qin_min,\n",
    "                   a <= du_max,\n",
    "                   b <= du_max,\n",
    "                   c <= du_max,\n",
    "                   d <= du_max,\n",
    "                   e <= du_max,\n",
    "                   a >= du_min,\n",
    "                   b >= du_min,\n",
    "                   c >= du_min,\n",
    "                   d >= du_min,\n",
    "                   e >= du_min,\n",
    "                   l <= x_max,\n",
    "                   m <= x_max,\n",
    "                   n <= x_max,\n",
    "                   o <= x_max,\n",
    "                   p <= x_max,\n",
    "                   l >= x_min,\n",
    "                   m >= x_min,\n",
    "                   n >= x_min,\n",
    "                   o >= x_min,\n",
    "                   p >= x_min]\n",
    "\n",
    "    # Form objective.\n",
    "    def happy1(s):\n",
    "        a = len(s)\n",
    "        d = 0\n",
    "        for k in range(0,a):\n",
    "            d = d + abs(s[k])\n",
    "        return d\n",
    "        \n",
    "    obj = Minimize(happy1(np.dot(S,F)-dy))\n",
    "\n",
    "    # Form and solve problem.\n",
    "    prob = Problem(obj, constraints)\n",
    "    prob.solve()\n",
    "    \n",
    "    cc = a.value\n",
    "    bbb[k] = b.value\n",
    "    if a.value == None:\n",
    "        cc = 0\n",
    "    # control update assuming we implement the first control move\n",
    "\n",
    "    \n",
    "    ypred = np.add(ypred,S[:,0]*cc)\n",
    "    xpred = np.add(xpred,R[:,0]*cc)\n",
    "    \n",
    "    \n",
    "    # actuator model \n",
    "    qin_last = qinfunction(t[k+1])\n",
    "    def qinfunction(ts):\n",
    "        A = qin_last + duf*(ts > t[k])\n",
    "        return A\n",
    "    duf = cc\n",
    "    # process simulation\n",
    "    timevector = [t[k], t[k+1]]\n",
    "    f = odeint(height,h,timevector)\n",
    "    h = f[1,:]\n",
    "    \n",
    "    axarr[0].plot([t[k], t[k+1]], [f[0,1],f[1,1]], 'r')\n",
    "    axarr[0].plot([t[k], t[k+1]], [f[0,0], f[1,0]] ,'b' )\n",
    "    axarr[0].set_title('Feedback Control of Tank 2 Level')\n",
    "    axarr[0].set_ylabel('Level[meters]')\n",
    "    axarr[1].set_ylabel('Inlet Flow')\n",
    "    axarr[1].set_xlabel('Time [mins]')\n",
    "    axarr[1].plot([t[k], t[k+1]], [qinfunction(t[k]),qinfunction(t[k+1])], 'b',linestyle='steps')# maximum level for tank 1\n"
   ]
  },
  {
   "cell_type": "code",
   "execution_count": null,
   "metadata": {
    "collapsed": true
   },
   "outputs": [],
   "source": []
  }
 ],
 "metadata": {
  "anaconda-cloud": {},
  "kernelspec": {
   "display_name": "Python [conda root]",
   "language": "python",
   "name": "conda-root-py"
  },
  "language_info": {
   "codemirror_mode": {
    "name": "ipython",
    "version": 3
   },
   "file_extension": ".py",
   "mimetype": "text/x-python",
   "name": "python",
   "nbconvert_exporter": "python",
   "pygments_lexer": "ipython3",
   "version": "3.5.2"
  }
 },
 "nbformat": 4,
 "nbformat_minor": 0
}
