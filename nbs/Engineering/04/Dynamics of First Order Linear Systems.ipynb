{
 "cells": [
  {
   "cell_type": "markdown",
   "metadata": {},
   "source": [
    "# Dynamics of First Order Linear Systems\n",
    "\n",
    "A first order linear system is represented as\n",
    "\n",
    "$$\\frac{dx}{dt} = a\\,x(t) + b\\,u(t)$$\n",
    "\n",
    "where $a$ and $b$ are constants, $x(t)$ is a *state* variable, and $u(t)$ is a system input. Understanding the dynamics of this simple model provides insights into the behavior process systems."
   ]
  },
  {
   "cell_type": "markdown",
   "metadata": {},
   "source": [
    "## Examples\n",
    "\n",
    "### Savings Account\n",
    "\n",
    "A simple example of a first order linear systems is a savings account that pays a continuously compounded rate of return $r$. Representing the value of the account as $P(t)$, and the savings rate as $S(t)$, the savings account changes as\n",
    "\n",
    "$$\\frac{dP}{dt} = r P(t) + S(t)$$\n",
    "\n",
    "Written in continuous time, the parameter $r$ is denotes interest rate based on continous compounding of the principle.  $S(t)$ can be positive, in which case you're adding to your savings account, or negative which corresponds to withdrawal. Withdraw too much and $P(t)$ becomes negative in which case you now have a debt account rather than a savings account.\n",
    "\n",
    "### One Compartment Pharamcokinetics Model\n",
    "\n",
    "$$\\frac{dC}{dt} = -\\frac{Q}{V}C + u(t)$$\n",
    "\n",
    "### Isothermal Stirred Tank Reactor with First Order Kinetics\n",
    "\n",
    "Consider a continuous stirred-tank reactor operating at constant temperature, and with a single first-order reaction\n",
    "\n",
    "$$A \\longrightarrow \\text{products}$$\n",
    "\n",
    "From a material balance\n",
    "\n",
    "$$V\\frac{dC_A}{dt} = q C_{A,f} - q C_A - k V C_A $$\n",
    "\n",
    "which simplifies to\n",
    "\n",
    "$$\\frac{dC_A}{dt} = -\\left(k + \\frac{q}{V}\\right)C_A + \\frac{q}{V} C_{A,f}$$\n",
    "\n",
    "| State Space | Model Expression |\n",
    "|:---:|:---:|\n",
    "|$x(t)$|$C_A$|\n",
    "|$u(t)$|$C_{A,f}$|\n",
    "|$a$|$-\\left(k + \\frac{q}{V}\\right)$|\n",
    "|$b$|$\\frac{q}{V}$|\n",
    "\n",
    "### Thermocouple Response\n",
    "\n",
    "$$m C_p \\frac{dT}{dt} = hA\\left(T_{amb} - T\\right)$$"
   ]
  },
  {
   "cell_type": "markdown",
   "metadata": {},
   "source": [
    "## Dynamics\n",
    "\n",
    "Let's first consider the dynamics of first-order system where there are no inputs\n",
    "\n",
    "$$\\frac{dx}{dt} = a\\,x(t)$$\n",
    "\n",
    "has a solution\n",
    "\n",
    "$$x(t) = x(t_0) e^{a(t-t_0})$$\n",
    "\n"
   ]
  },
  {
   "cell_type": "code",
   "execution_count": 1,
   "metadata": {
    "collapsed": false
   },
   "outputs": [
    {
     "data": {
      "text/plain": [
       "<matplotlib.text.Text at 0x110563eb8>"
      ]
     },
     "execution_count": 1,
     "metadata": {},
     "output_type": "execute_result"
    },
    {
     "data": {
      "image/png": "[encoded data removed]",
      "text/plain": [
       "<matplotlib.figure.Figure at 0x10c4e0400>"
      ]
     },
     "metadata": {},
     "output_type": "display_data"
    }
   ],
   "source": [
    "%matplotlib inline\n",
    "import numpy as np\n",
    "import matplotlib.pyplot as plt\n",
    "\n",
    "t = np.linspace(0,10)\n",
    "a = 0.05\n",
    "\n",
    "plt.plot(t,np.exp(0.2*t))\n",
    "plt.plot(t,np.exp(0*t))\n",
    "plt.plot(t,np.exp(-0.2*t))\n",
    "\n",
    "plt.legend(['a = 0.2','a = 0.0','a = -0.2'],loc = 'upper left')\n",
    "plt.xlabel('Time')\n",
    "plt.title('Solutions x(t) = exp(a*t)')"
   ]
  },
  {
   "cell_type": "code",
   "execution_count": null,
   "metadata": {
    "collapsed": true
   },
   "outputs": [],
   "source": []
  }
 ],
 "metadata": {
  "anaconda-cloud": {},
  "kernelspec": {
   "display_name": "Python [default]",
   "language": "python",
   "name": "python3"
  },
  "language_info": {
   "codemirror_mode": {
    "name": "ipython",
    "version": 3
   },
   "file_extension": ".py",
   "mimetype": "text/x-python",
   "name": "python",
   "nbconvert_exporter": "python",
   "pygments_lexer": "ipython3",
   "version": "3.5.2"
  }
 },
 "nbformat": 4,
 "nbformat_minor": 1
}
