{
 "cells": [
  {
   "cell_type": "markdown",
   "metadata": {},
   "source": [
    "# Problem 19.6"
   ]
  },
  {
   "cell_type": "code",
   "execution_count": 13,
   "metadata": {},
   "outputs": [],
   "source": [
    "from pyomo.environ import *\n",
    "\n",
    "model = ConcreteModel()\n",
    "streams = [1, 2, 3, 4, 5]\n",
    "model.x = Var(streams, domain=NonNegativeReals)\n",
    "\n",
    "# material balances\n",
    "model.massbal = ConstraintList()\n",
    "model.massbal.add(0 == model.x[1] - model.x[2] - model.x[3])\n",
    "model.massbal.add(0 == model.x[2] - model.x[4] - model.x[5])\n",
    "\n",
    "# specifications\n",
    "model.spec = ConstraintList()\n",
    "model.spec.add(model.x[3] == 0.4*model.x[1])\n",
    "model.spec.add(0.5*model.x[2] <= model.x[4])\n",
    "model.spec.add(0.7*model.x[2] >= model.x[4])\n",
    "model.spec.add(0.3*model.x[2] <= model.x[5])\n",
    "model.spec.add(0.5*model.x[2] >= model.x[5])\n",
    "model.spec.add(model.x[1] <= 2000)\n",
    "model.spec.add(model.x[4] >= 200)\n",
    "model.spec.add(model.x[4] <= 400)\n",
    "\n",
    "# profit objective\n",
    "profit = -40*model.x[1] + 50*model.x[3] + 70*(model.x[4]-200) + 40*model.x[5] -2*(model.x[1]+model.x[2])\n",
    "model.objective = Objective(expr=profit, sense=maximize)\n",
    "\n",
    "results = SolverFactory('glpk').solve(model)"
   ]
  },
  {
   "cell_type": "code",
   "execution_count": 11,
   "metadata": {},
   "outputs": [
    {
     "name": "stdout",
     "output_type": "stream",
     "text": [
      "Flow x[ 1 ] = 1333.33 bbls/day\n",
      "Flow x[ 2 ] = 800.0 bbls/day\n",
      "Flow x[ 3 ] = 533.33 bbls/day\n",
      "Flow x[ 4 ] = 400.0 bbls/day\n",
      "Flow x[ 5 ] = 400.0 bbls/day\n"
     ]
    }
   ],
   "source": [
    "for s in streams:\n",
    "    print('Flow x[', s, '] =', round(model.x[s](),2), 'bbls/day')"
   ]
  },
  {
   "cell_type": "code",
   "execution_count": 12,
   "metadata": {},
   "outputs": [
    {
     "name": "stdout",
     "output_type": "stream",
     "text": [
      "13066.666666666784\n"
     ]
    }
   ],
   "source": [
    "print(profit())"
   ]
  },
  {
   "cell_type": "code",
   "execution_count": null,
   "metadata": {},
   "outputs": [],
   "source": []
  }
 ],
 "metadata": {
  "kernelspec": {
   "display_name": "Python 3",
   "language": "python",
   "name": "python3"
  },
  "language_info": {
   "codemirror_mode": {
    "name": "ipython",
    "version": 3
   },
   "file_extension": ".py",
   "mimetype": "text/x-python",
   "name": "python",
   "nbconvert_exporter": "python",
   "pygments_lexer": "ipython3",
   "version": "3.6.4"
  }
 },
 "nbformat": 4,
 "nbformat_minor": 2
}
