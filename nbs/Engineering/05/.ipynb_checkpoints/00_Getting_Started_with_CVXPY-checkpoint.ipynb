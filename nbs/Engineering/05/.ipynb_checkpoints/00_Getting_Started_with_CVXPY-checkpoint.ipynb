{
 "cells": [
  {
   "cell_type": "markdown",
   "metadata": {},
   "source": [
    "# Getting Started with CVXPY\n",
    "\n",
    "[CVXPY](http://www.cvxpy.org/en/latest/index.html) is modeling and optimization language embedded into Python. The language provides for the specification of convex optimization problems (which includes the important cases of linear and quadratic programming).  "
   ]
  },
  {
   "cell_type": "markdown",
   "metadata": {},
   "source": [
    "## Installation of CVXPY\n",
    "\n",
    "The installation instructions are given [here](http://www.cvxpy.org/en/latest/install/index.html)."
   ]
  },
  {
   "cell_type": "markdown",
   "metadata": {},
   "source": [
    "## Example: Solving a System of Equations\n",
    "\n",
    "### Using Scalar Parameters and Variables\n",
    "\n",
    "A fully specified system of linear equations given by\n",
    "\n",
    "\\begin{align}\n",
    "3x + 4y & = 26 \\\\\n",
    "2x - 3y & = - 11\n",
    "\\end{align}\n",
    "\n",
    "can be readily solved as a convex optimization problem. The following cell demonstrates the specification and solution of these equations using $x$ and $y$ as decision variables."
   ]
  },
  {
   "cell_type": "code",
   "execution_count": 29,
   "metadata": {},
   "outputs": [
    {
     "name": "stdout",
     "output_type": "stream",
     "text": [
      " Problem Status: optimal\n",
      "Objective Value: 28.999999401072134\n",
      "     Solution x: 1.9999999999532951\n",
      "     Solution y: 5.0000000000054285\n"
     ]
    }
   ],
   "source": [
    "import cvxpy as cvx\n",
    "import numpy as np\n",
    "\n",
    "# create two scalar optimization variables.\n",
    "x = cvx.Variable()\n",
    "y = cvx.Variable()\n",
    "\n",
    "# create two constraints.\n",
    "constraints = [3*x + 4*y == 26,\n",
    "               2*x - 3*y == -11]\n",
    "\n",
    "# form objective.\n",
    "objective = cvx.Minimize(x**2 + y**2)\n",
    "\n",
    "# form and solve problem.\n",
    "problem = cvx.Problem(objective, constraints)\n",
    "problem.solve()\n",
    "\n",
    "# display the solution\n",
    "print(\" Problem Status:\", problem.status)\n",
    "print(\"Objective Value:\", problem.value)\n",
    "print(\"     Solution x:\", x.value)\n",
    "print(\"     Solution y:\", y.value)"
   ]
  },
  {
   "cell_type": "markdown",
   "metadata": {},
   "source": [
    "### Using Matrix Parameters and Vector Variables"
   ]
  },
  {
   "cell_type": "code",
   "execution_count": 27,
   "metadata": {},
   "outputs": [
    {
     "name": "stdout",
     "output_type": "stream",
     "text": [
      " Problem Status: optimal\n",
      "Objective Value: 5.385164802505173\n",
      "  Solution x[0]: 2.0\n",
      "  Solution x[1]: 4.999999999999999\n"
     ]
    }
   ],
   "source": [
    "import cvxpy as cvx\n",
    "import numpy as np\n",
    "\n",
    "# specify problem data as numpy matrix and vectors\n",
    "A = np.array([[3, 4], [2, -3]])\n",
    "b = np.array([26, -11])\n",
    "\n",
    "# create a vector variables\n",
    "x = cvx.Variable(2)\n",
    "\n",
    "# specify equality constraints\n",
    "constraints = [A*x == b]\n",
    "\n",
    "# form objective.\n",
    "objective = cvx.Minimize(cvx.norm(x))\n",
    "\n",
    "# form and solve problem.\n",
    "problem = cvx.Problem(objective, constraints)\n",
    "problem.solve()\n",
    "\n",
    "# display the solution\n",
    "print(\" Problem Status:\", problem.status)\n",
    "print(\"Objective Value:\", problem.value)\n",
    "print(\"  Solution x[0]:\", x[0].value)\n",
    "print(\"  Solution x[1]:\", x[1].value)"
   ]
  },
  {
   "cell_type": "code",
   "execution_count": null,
   "metadata": {},
   "outputs": [],
   "source": []
  },
  {
   "cell_type": "code",
   "execution_count": null,
   "metadata": {},
   "outputs": [],
   "source": []
  }
 ],
 "metadata": {
  "kernelspec": {
   "display_name": "Python 3",
   "language": "python",
   "name": "python3"
  },
  "language_info": {
   "codemirror_mode": {
    "name": "ipython",
    "version": 3
   },
   "file_extension": ".py",
   "mimetype": "text/x-python",
   "name": "python",
   "nbconvert_exporter": "python",
   "pygments_lexer": "ipython3",
   "version": "3.6.4"
  }
 },
 "nbformat": 4,
 "nbformat_minor": 1
}
