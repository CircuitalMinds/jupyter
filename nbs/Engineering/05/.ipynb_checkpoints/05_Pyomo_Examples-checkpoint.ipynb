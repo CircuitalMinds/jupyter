{
 "cells": [
  {
   "cell_type": "markdown",
   "metadata": {},
   "source": [
    "# Pyomo Examples"
   ]
  },
  {
   "cell_type": "markdown",
   "metadata": {},
   "source": [
    "## Example: Series Reaction in a Continuous Stirred Tank Reactor"
   ]
  },
  {
   "cell_type": "code",
   "execution_count": 14,
   "metadata": {},
   "outputs": [
    {
     "name": "stdout",
     "output_type": "stream",
     "text": [
      "1 Var Declarations\n",
      "    q : Size=1, Index=None\n",
      "        Key  : Lower : Value             : Upper : Fixed : Stale : Domain\n",
      "        None :  None : 8.944271909985442 :  None : False : False :  Reals\n",
      "\n",
      "1 Objective Declarations\n",
      "    objective : Size=1, Index=None, Active=True\n",
      "        Key  : Active : Sense    : Expression\n",
      "        None :   True : maximize : 40.0 * q / ( ( 4.0 + q ) * ( 20.0 + q ) )\n",
      "\n",
      "2 Declarations: q objective\n",
      "\n",
      "Flowrate at maximum CB =  8.944271909985442 liters per minute.\n",
      "\n",
      "Maximum CB = 0.954915028125263 moles per liter.\n",
      "\n",
      "Productivity =  8.541019662483748 moles per minute.\n"
     ]
    }
   ],
   "source": [
    "from pyomo.environ import *\n",
    "\n",
    "V = 40     # liters\n",
    "kA = 0.5   # 1/min\n",
    "kB = 0.1   # l/min\n",
    "CAf = 2.0  # moles/liter\n",
    "\n",
    "# create a model instance\n",
    "model = ConcreteModel()\n",
    "\n",
    "# create x and y variables in the model\n",
    "model.q = Var()\n",
    "\n",
    "# add a model objective\n",
    "model.objective = Objective(expr = model.q*V*kA*CAf/(model.q + V*kB)/(model.q + V*kA), sense=maximize)\n",
    "\n",
    "# compute a solution using ipopt for nonlinear optimization\n",
    "results = SolverFactory('ipopt').solve(model)\n",
    "model.pprint()\n",
    "\n",
    "\n",
    "# print solutions\n",
    "qmax = model.q()\n",
    "CBmax = model.objective()\n",
    "print('\\nFlowrate at maximum CB = ', qmax, 'liters per minute.')\n",
    "print('\\nMaximum CB =', CBmax, 'moles per liter.')\n",
    "print('\\nProductivity = ', qmax*CBmax, 'moles per minute.')"
   ]
  },
  {
   "cell_type": "markdown",
   "metadata": {},
   "source": [
    "## Example: Linear Production Model with Constraints with Duals"
   ]
  },
  {
   "cell_type": "code",
   "execution_count": 3,
   "metadata": {},
   "outputs": [
    {
     "name": "stdout",
     "output_type": "stream",
     "text": [
      "# ==========================================================\n",
      "# = Solver Results                                         =\n",
      "# ==========================================================\n",
      "# ----------------------------------------------------------\n",
      "#   Problem Information\n",
      "# ----------------------------------------------------------\n",
      "Problem: \n",
      "- Name: unknown\n",
      "  Lower bound: 2600.0\n",
      "  Upper bound: 2600.0\n",
      "  Number of objectives: 1\n",
      "  Number of constraints: 4\n",
      "  Number of variables: 3\n",
      "  Number of nonzeros: 6\n",
      "  Sense: maximize\n",
      "# ----------------------------------------------------------\n",
      "#   Solver Information\n",
      "# ----------------------------------------------------------\n",
      "Solver: \n",
      "- Status: ok\n",
      "  Termination condition: optimal\n",
      "  Statistics: \n",
      "    Branch and bound: \n",
      "      Number of bounded subproblems: 0\n",
      "      Number of created subproblems: 0\n",
      "  Error rc: 0\n",
      "  Time: 0.01401972770690918\n",
      "# ----------------------------------------------------------\n",
      "#   Solution Information\n",
      "# ----------------------------------------------------------\n",
      "Solution: \n",
      "- number of solutions: 0\n",
      "  number of solutions displayed: 0\n"
     ]
    }
   ],
   "source": [
    "from pyomo.environ import *\n",
    "model = ConcreteModel()\n",
    "\n",
    "# for access to dual solution for constraints\n",
    "model.dual = Suffix(direction=Suffix.IMPORT)\n",
    "\n",
    "# declare decision variables\n",
    "model.x = Var(domain=NonNegativeReals)\n",
    "model.y = Var(domain=NonNegativeReals)\n",
    "\n",
    "# declare objective\n",
    "model.profit = Objective(expr = 40*model.x + 30*model.y, sense = maximize)\n",
    "\n",
    "# declare constraints\n",
    "model.demand = Constraint(expr = model.x <= 40)\n",
    "model.laborA = Constraint(expr = model.x + model.y <= 80)\n",
    "model.laborB = Constraint(expr = 2*model.x + model.y <= 100)\n",
    "\n",
    "# solve\n",
    "SolverFactory('glpk').solve(model).write()"
   ]
  },
  {
   "cell_type": "markdown",
   "metadata": {},
   "source": [
    "Analysis of the constraints."
   ]
  },
  {
   "cell_type": "code",
   "execution_count": 4,
   "metadata": {},
   "outputs": [
    {
     "name": "stdout",
     "output_type": "stream",
     "text": [
      "Constraint  value  lslack  uslack    dual\n",
      "demand      20.00    -inf   20.00    0.00\n",
      "laborA      80.00    -inf    0.00   20.00\n",
      "laborB     100.00    -inf    0.00   10.00\n"
     ]
    }
   ],
   "source": [
    "str = \"   {0:7.2f} {1:7.2f} {2:7.2f} {3:7.2f}\"\n",
    "\n",
    "print(\"Constraint  value  lslack  uslack    dual\")\n",
    "for c in [model.demand, model.laborA, model.laborB]:\n",
    "    print(c, str.format(c(), c.lslack(), c.uslack(), model.dual[c]))"
   ]
  },
  {
   "cell_type": "markdown",
   "metadata": {},
   "source": [
    "## Example 19.3: Refinery"
   ]
  },
  {
   "cell_type": "code",
   "execution_count": 5,
   "metadata": {},
   "outputs": [
    {
     "name": "stdout",
     "output_type": "stream",
     "text": [
      "3 Set Declarations\n",
      "    constraints_index : Dim=0, Dimen=1, Size=8, Domain=None, Ordered=False, Bounds=None\n",
      "        [1, 2, 3, 4, 5, 6, 7, 8]\n",
      "    x_index : Dim=0, Dimen=1, Size=2, Domain=None, Ordered=False, Bounds=None\n",
      "        ['Crude #1', 'Crude #2']\n",
      "    y_index : Dim=0, Dimen=1, Size=4, Domain=None, Ordered=False, Bounds=None\n",
      "        ['Fuel Oil', 'Gasoline', 'Kerosine', 'Residual']\n",
      "\n",
      "2 Var Declarations\n",
      "    x : Size=2, Index=x_index\n",
      "        Key      : Lower : Value            : Upper : Fixed : Stale : Domain\n",
      "        Crude #1 :     0 : 26206.8965517241 :  None : False : False : NonNegativeReals\n",
      "        Crude #2 :     0 : 6896.55172413793 :  None : False : False : NonNegativeReals\n",
      "    y : Size=4, Index=y_index\n",
      "        Key      : Lower : Value            : Upper : Fixed : Stale : Domain\n",
      "        Fuel Oil :     0 : 5103.44827586207 :  None : False : False : NonNegativeReals\n",
      "        Gasoline :     0 :          24000.0 :  None : False : False : NonNegativeReals\n",
      "        Kerosine :     0 :           2000.0 :  None : False : False : NonNegativeReals\n",
      "        Residual :     0 :           2000.0 :  None : False : False : NonNegativeReals\n",
      "\n",
      "1 Objective Declarations\n",
      "    objective : Size=1, Index=None, Active=True\n",
      "        Key  : Active : Sense    : Expression\n",
      "        None :   True : maximize : 72*y[Gasoline] + 48*y[Kerosine] + 42*y[Fuel Oil] + 20*y[Residual] - 48*x[Crude #1] - 30*x[Crude #2] - x[Crude #1] - 2.0*x[Crude #2]\n",
      "\n",
      "1 Constraint Declarations\n",
      "    constraints : Size=8, Index=constraints_index, Active=True\n",
      "        Key : Lower : Body                                             : Upper    : Active\n",
      "          1 :   0.0 :                                      y[Gasoline] :  24000.0 :   True\n",
      "          2 :   0.0 :                                      y[Kerosine] :   2000.0 :   True\n",
      "          3 :   0.0 :                                      y[Fuel Oil] :   6000.0 :   True\n",
      "          4 :   0.0 :                                      y[Residual] : 100000.0 :   True\n",
      "          5 :   0.0 : y[Gasoline] - 0.8*x[Crude #1] - 0.44*x[Crude #2] :      0.0 :   True\n",
      "          6 :   0.0 : y[Kerosine] - 0.05*x[Crude #1] - 0.1*x[Crude #2] :      0.0 :   True\n",
      "          7 :   0.0 : y[Fuel Oil] - 0.1*x[Crude #1] - 0.36*x[Crude #2] :      0.0 :   True\n",
      "          8 :   0.0 : y[Residual] - 0.05*x[Crude #1] - 0.1*x[Crude #2] :      0.0 :   True\n",
      "\n",
      "7 Declarations: x_index x y_index y objective constraints_index constraints\n"
     ]
    }
   ],
   "source": [
    "from pyomo.environ import *\n",
    "import numpy as np\n",
    "\n",
    "# problem data\n",
    "FEEDS = ['Crude #1', 'Crude #2']\n",
    "PRODUCTS = ['Gasoline', 'Kerosine', 'Fuel Oil', 'Residual']\n",
    "\n",
    "# feed costs\n",
    "feed_costs = {'Crude #1': 48,\n",
    "              'Crude #2': 30}\n",
    "\n",
    "# processing costs\n",
    "processing_costs = {'Crude #1': 1.00,\n",
    "                    'Crude #2': 2.00}\n",
    "\n",
    "# yield data\n",
    "product_yield = {('Crude #1', 'Gasoline'): 0.80,\n",
    "                 ('Crude #1', 'Kerosine'): 0.05,\n",
    "                 ('Crude #1', 'Fuel Oil'): 0.10,\n",
    "                 ('Crude #1', 'Residual'): 0.05,\n",
    "                 ('Crude #2', 'Gasoline'): 0.44,\n",
    "                 ('Crude #2', 'Kerosine'): 0.10,\n",
    "                 ('Crude #2', 'Fuel Oil'): 0.36,\n",
    "                 ('Crude #2', 'Residual'): 0.10}\n",
    "\n",
    "# product sales prices\n",
    "sales_price = {'Gasoline': 72,\n",
    "               'Kerosine': 48,\n",
    "               'Fuel Oil': 42,\n",
    "               'Residual': 20}\n",
    "\n",
    "# production limits\n",
    "max_production = {'Gasoline': 24000,\n",
    "                  'Kerosine': 2000,\n",
    "                  'Fuel Oil': 6000,\n",
    "                  'Residual': 100000}\n",
    "\n",
    "# model formulation\n",
    "model = ConcreteModel()\n",
    "\n",
    "# variables\n",
    "model.x = Var(FEEDS, domain=NonNegativeReals)\n",
    "model.y = Var(PRODUCTS, domain=NonNegativeReals)\n",
    "\n",
    "# objective\n",
    "income = sum(sales_price[p] * model.y[p] for p in PRODUCTS)\n",
    "raw_materials_cost = sum(feed_costs[f] * model.x[f] for f in FEEDS)\n",
    "processing_cost = sum(processing_costs[f] * model.x[f] for f in FEEDS)\n",
    "\n",
    "profit = income - raw_materials_cost - processing_cost\n",
    "model.objective = Objective(expr = profit, sense=maximize)\n",
    "\n",
    "# constraints\n",
    "model.constraints = ConstraintList()\n",
    "for p in PRODUCTS:\n",
    "    model.constraints.add(0 <= model.y[p] <= max_production[p])\n",
    "for p in PRODUCTS:\n",
    "    model.constraints.add(model.y[p] == sum(model.x[f] * product_yield[(f,p)] for f in FEEDS))\n",
    "\n",
    "solver = SolverFactory('glpk')\n",
    "solver.solve(model)\n",
    "model.pprint()"
   ]
  },
  {
   "cell_type": "code",
   "execution_count": 6,
   "metadata": {},
   "outputs": [
    {
     "data": {
      "text/plain": [
       "573517.2413793121"
      ]
     },
     "execution_count": 6,
     "metadata": {},
     "output_type": "execute_result"
    }
   ],
   "source": [
    "profit()"
   ]
  },
  {
   "cell_type": "code",
   "execution_count": 7,
   "metadata": {},
   "outputs": [
    {
     "data": {
      "text/plain": [
       "2078344.8275862068"
      ]
     },
     "execution_count": 7,
     "metadata": {},
     "output_type": "execute_result"
    }
   ],
   "source": [
    "income()"
   ]
  },
  {
   "cell_type": "code",
   "execution_count": 8,
   "metadata": {},
   "outputs": [
    {
     "data": {
      "text/plain": [
       "1464827.5862068948"
      ]
     },
     "execution_count": 8,
     "metadata": {},
     "output_type": "execute_result"
    }
   ],
   "source": [
    "raw_materials_cost()"
   ]
  },
  {
   "cell_type": "code",
   "execution_count": 9,
   "metadata": {},
   "outputs": [
    {
     "data": {
      "text/plain": [
       "39999.99999999996"
      ]
     },
     "execution_count": 9,
     "metadata": {},
     "output_type": "execute_result"
    }
   ],
   "source": [
    "processing_cost()"
   ]
  },
  {
   "cell_type": "code",
   "execution_count": null,
   "metadata": {},
   "outputs": [],
   "source": []
  }
 ],
 "metadata": {
  "kernelspec": {
   "display_name": "Python 3",
   "language": "python",
   "name": "python3"
  },
  "language_info": {
   "codemirror_mode": {
    "name": "ipython",
    "version": 3
   },
   "file_extension": ".py",
   "mimetype": "text/x-python",
   "name": "python",
   "nbconvert_exporter": "python",
   "pygments_lexer": "ipython3",
   "version": "3.6.4"
  }
 },
 "nbformat": 4,
 "nbformat_minor": 2
}
