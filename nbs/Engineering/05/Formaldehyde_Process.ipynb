{
 "cells": [
  {
   "cell_type": "code",
   "execution_count": 2,
   "metadata": {},
   "outputs": [],
   "source": [
    "STREAMS = [k for k in range(1,22)]\n",
    "COMPONENTS = ['H2', 'CH4', 'W', 'CH3OH']\n",
    "UNITS = ['MIXER']"
   ]
  },
  {
   "cell_type": "code",
   "execution_count": 3,
   "metadata": {},
   "outputs": [
    {
     "data": {
      "text/plain": [
       "{'Problem': [{'Name': 'unknown', 'Lower bound': 10.0, 'Upper bound': 10.0, 'Number of objectives': 1, 'Number of constraints': 6, 'Number of variables': 13, 'Number of nonzeros': 14, 'Sense': 'minimize'}], 'Solver': [{'Status': 'ok', 'Termination condition': 'optimal', 'Statistics': {'Branch and bound': {'Number of bounded subproblems': 0, 'Number of created subproblems': 0}}, 'Error rc': 0, 'Time': 0.015413999557495117}], 'Solution': [OrderedDict([('number of solutions', 0), ('number of solutions displayed', 0)])]}"
      ]
     },
     "execution_count": 3,
     "metadata": {},
     "output_type": "execute_result"
    }
   ],
   "source": [
    "import pyomo.environ as pyomo\n",
    "\n",
    "m = pyomo.ConcreteModel()\n",
    "m.m = pyomo.Var(COMPONENTS,STREAMS, domain=pyomo.NonNegativeReals)\n",
    "\n",
    "m.obj = pyomo.Objective(expr = m.m['H2',1], sense=pyomo.minimize)\n",
    "\n",
    "m.mixer = pyomo.ConstraintList()\n",
    "for c in COMPONENTS:\n",
    "    m.mixer.add(m.m[c,1] + m.m[c,20] - m.m[c,2] == 0)\n",
    "    \n",
    "m.feed = pyomo.ConstraintList()\n",
    "m.feed.add(m.m['H2',1] == 10)\n",
    "\n",
    "solver = pyomo.SolverFactory('glpk')\n",
    "solver.solve(m)"
   ]
  },
  {
   "cell_type": "code",
   "execution_count": 4,
   "metadata": {},
   "outputs": [
    {
     "name": "stdout",
     "output_type": "stream",
     "text": [
      "\n",
      "           1    2    3    4    5    6    7    8    9    10   11   12   13   14   15   16   17   18   19   20   21   \n",
      " H2       10.0 10.0 None None None None None None None None None None None None None None None None None 0.0 None \n",
      " CH4      0.0 -0.0 None None None None None None None None None None None None None None None None None 0.0 None \n",
      " W        0.0 -0.0 None None None None None None None None None None None None None None None None None 0.0 None \n",
      " CH3OH    0.0 -0.0 None None None None None None None None None None None None None None None None None 0.0 None "
     ]
    }
   ],
   "source": [
    "\n",
    "\n",
    "print('\\n           ', end='')\n",
    "for s in STREAMS:\n",
    "    print('{0:5s}'.format(str(s)), end='')\n",
    "for c in COMPONENTS:\n",
    "    print('\\n','{0:6s}'.format(c), '  ', end='')\n",
    "    for s in STREAMS:\n",
    "        print('{0:} '.format(m.m[c,s]()), end='')\n",
    "        \n",
    "        "
   ]
  },
  {
   "cell_type": "code",
   "execution_count": null,
   "metadata": {},
   "outputs": [],
   "source": []
  },
  {
   "cell_type": "code",
   "execution_count": null,
   "metadata": {},
   "outputs": [],
   "source": []
  }
 ],
 "metadata": {
  "kernelspec": {
   "display_name": "Python 3",
   "language": "python",
   "name": "python3"
  },
  "language_info": {
   "codemirror_mode": {
    "name": "ipython",
    "version": 3
   },
   "file_extension": ".py",
   "mimetype": "text/x-python",
   "name": "python",
   "nbconvert_exporter": "python",
   "pygments_lexer": "ipython3",
   "version": "3.6.4"
  }
 },
 "nbformat": 4,
 "nbformat_minor": 2
}
