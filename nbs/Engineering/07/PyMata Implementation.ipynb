{
 "cells": [
  {
   "cell_type": "code",
   "execution_count": 7,
   "metadata": {},
   "outputs": [
    {
     "name": "stdout",
     "output_type": "stream",
     "text": [
      "0 0\n",
      "1.0 157\n",
      "2.0 3713\n",
      "3.0 157\n",
      "4.0 157\n",
      "5.0 157\n"
     ]
    }
   ],
   "source": [
    "import time\n",
    "\n",
    "from PyMata.pymata import PyMata\n",
    "from tclab import clock\n",
    "\n",
    "pinT1 = 0\n",
    "pinT2 = 2\n",
    "pinQ1 = 3\n",
    "pinQ2 = 5\n",
    "pinLED1 = 9\n",
    "\n",
    "class TCLabPyMata(object):\n",
    "\n",
    "    \n",
    "    def __init__(self, port=\"/dev/cu.usbmodem1411\"):\n",
    "        self.board = PyMata(port, verbose=False)\n",
    "        self.board.enable_analog_reporting(pinT1)\n",
    "        \n",
    "    def __enter__(self):\n",
    "        return self\n",
    "\n",
    "    def __exit__(self, exc_type, exc_value, traceback):\n",
    "        self.close()\n",
    "        return\n",
    "        \n",
    "    def LED(self, val=100):\n",
    "        self.board.digital_write(pinLED1, 1)\n",
    "        time.sleep(10)\n",
    "        self.board.digital_write(pinLED1, 0)\n",
    "        \n",
    "    def close(self):\n",
    "        self.board._command_handler.system_reset()\n",
    "        self.board._command_handler.stop()\n",
    "        self.board.transport.stop()\n",
    "        self.board.transport.close()\n",
    "        \n",
    "    def T1(self):\n",
    "        return self.board.analog_read(pinT1)\n",
    "        \n",
    "\n",
    "with TCLabPyMata() as lab:\n",
    "    #lab.LED()\n",
    "    for t in clock(5):\n",
    "        print(t, lab.T1())\n",
    "    \n"
   ]
  },
  {
   "cell_type": "code",
   "execution_count": 13,
   "metadata": {},
   "outputs": [],
   "source": [
    "from pyfirmata import Arduino, util\n"
   ]
  },
  {
   "cell_type": "code",
   "execution_count": null,
   "metadata": {},
   "outputs": [],
   "source": []
  }
 ],
 "metadata": {
  "kernelspec": {
   "display_name": "Python 3",
   "language": "python",
   "name": "python3"
  },
  "language_info": {
   "codemirror_mode": {
    "name": "ipython",
    "version": 3
   },
   "file_extension": ".py",
   "mimetype": "text/x-python",
   "name": "python",
   "nbconvert_exporter": "python",
   "pygments_lexer": "ipython3",
   "version": "3.6.4"
  }
 },
 "nbformat": 4,
 "nbformat_minor": 2
}
