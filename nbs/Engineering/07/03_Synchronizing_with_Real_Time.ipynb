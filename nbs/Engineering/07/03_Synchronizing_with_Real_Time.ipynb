{
 "cells": [
  {
   "cell_type": "markdown",
   "metadata": {
    "slideshow": {
     "slide_type": "skip"
    }
   },
   "source": [
    "# Synchronizing with Real Time"
   ]
  },
  {
   "cell_type": "markdown",
   "metadata": {
    "slideshow": {
     "slide_type": "skip"
    }
   },
   "source": [
    "## Simple use of `tclab.clock()`\n",
    "\n",
    "The tclab module includes a function `clock` for synchronizing calculations with real time.  `clock(period)` is an iterator that generates a sequence of equally spaced time steps from zero to `period`  separated by one second intervals. For each step `clock` returns time since start rounded to the nearest 10th of a second."
   ]
  },
  {
   "cell_type": "code",
   "execution_count": 1,
   "metadata": {},
   "outputs": [
    {
     "name": "stdout",
     "output_type": "stream",
     "text": [
      "0 sec.\n",
      "1.0 sec.\n",
      "2.0 sec.\n",
      "3.0 sec.\n",
      "4.0 sec.\n"
     ]
    }
   ],
   "source": [
    "import tclab\n",
    "\n",
    "period = 5\n",
    "for t in tclab.clock(period):\n",
    "    print(t, \"sec.\")"
   ]
  },
  {
   "cell_type": "markdown",
   "metadata": {},
   "source": [
    "`tclab.clock()` is implemented as a Python generator. A consequence of this implementation is that `tclab.clock()` is 'blocking' which limits its use for creating interactive demonstrations. See later sections of this user's guide for non-blocking alternatives that can be used for interactive demonstrations or GUI's."
   ]
  },
  {
   "cell_type": "markdown",
   "metadata": {},
   "source": [
    "## Optional Parameters\n",
    "\n",
    "### `step`: Clock time step\n",
    "\n",
    "An optional parameter `step` specifies a time step different from one second."
   ]
  },
  {
   "cell_type": "code",
   "execution_count": 2,
   "metadata": {},
   "outputs": [
    {
     "name": "stdout",
     "output_type": "stream",
     "text": [
      "0 sec.\n",
      "2.5 sec.\n"
     ]
    }
   ],
   "source": [
    "import tclab\n",
    "\n",
    "period = 5\n",
    "step = 2.5\n",
    "for t in tclab.clock(period, step):\n",
    "    print(t, \"sec.\")"
   ]
  },
  {
   "cell_type": "markdown",
   "metadata": {},
   "source": [
    "### `tol`: clock tolerance\n",
    "\n",
    "There are some considerations when using `clock`. First, by its nature Python is not a real-time environment. `clock` makes a best effort to stay in sync with the wall clock but there can be no guarantees. The default behavior of `clock` is to maintain long-term synchronization with the real time clock.\n",
    "\n",
    "The `tol` argument specifies the allowable error on time steps. By default it is 0.5 seconds.\n",
    "\n",
    "The following cell demonstrates the effect of an intermittent calculation that exceeds the time step specified by `step`. In this instance, a `sleep` timeout of 2 seconds occurs at t=2.  The default behaviour is to raise an error when desynchronisation occurs. "
   ]
  },
  {
   "cell_type": "code",
   "execution_count": 3,
   "metadata": {},
   "outputs": [
    {
     "name": "stdout",
     "output_type": "stream",
     "text": [
      "0 sec.\n",
      "1.0 sec.\n",
      "2.0 sec.\n"
     ]
    },
    {
     "ename": "RuntimeError",
     "evalue": "Labtime clock lost synchronization with real time. Step size was 1 s, but 2.01 s elapsed (1.01 too long). Consider increasing step.",
     "output_type": "error",
     "traceback": [
      "\u001b[0;31m---------------------------------------------------------------------------\u001b[0m",
      "\u001b[0;31mRuntimeError\u001b[0m                              Traceback (most recent call last)",
      "\u001b[0;32m<ipython-input-3-10f7d48b2c2a>\u001b[0m in \u001b[0;36m<module>\u001b[0;34m()\u001b[0m\n\u001b[1;32m      5\u001b[0m \u001b[0mstep\u001b[0m \u001b[0;34m=\u001b[0m \u001b[0;36m1\u001b[0m\u001b[0;34m\u001b[0m\u001b[0m\n\u001b[1;32m      6\u001b[0m \u001b[0;34m\u001b[0m\u001b[0m\n\u001b[0;32m----> 7\u001b[0;31m \u001b[0;32mfor\u001b[0m \u001b[0mt\u001b[0m \u001b[0;32min\u001b[0m \u001b[0mtclab\u001b[0m\u001b[0;34m.\u001b[0m\u001b[0mclock\u001b[0m\u001b[0;34m(\u001b[0m\u001b[0mperiod\u001b[0m\u001b[0;34m,\u001b[0m \u001b[0mstep\u001b[0m\u001b[0;34m)\u001b[0m\u001b[0;34m:\u001b[0m\u001b[0;34m\u001b[0m\u001b[0m\n\u001b[0m\u001b[1;32m      8\u001b[0m     \u001b[0mprint\u001b[0m\u001b[0;34m(\u001b[0m\u001b[0mt\u001b[0m\u001b[0;34m,\u001b[0m \u001b[0;34m\"sec.\"\u001b[0m\u001b[0;34m)\u001b[0m\u001b[0;34m\u001b[0m\u001b[0m\n\u001b[1;32m      9\u001b[0m     \u001b[0;32mif\u001b[0m \u001b[0;36m1.9\u001b[0m \u001b[0;34m<\u001b[0m \u001b[0mt\u001b[0m \u001b[0;34m<\u001b[0m \u001b[0;36m2.5\u001b[0m\u001b[0;34m:\u001b[0m\u001b[0;34m\u001b[0m\u001b[0m\n",
      "\u001b[0;32m~/Documents/Development/TCLab/tclab/labtime.py\u001b[0m in \u001b[0;36mclock\u001b[0;34m(period, step, tol, adaptive)\u001b[0m\n\u001b[1;32m    102\u001b[0m                            \u001b[0;34m'Step size was {} s, but {:.2f} s elapsed '\u001b[0m\u001b[0;34m\u001b[0m\u001b[0m\n\u001b[1;32m    103\u001b[0m                            '({:.2f} too long). Consider increasing step.')\n\u001b[0;32m--> 104\u001b[0;31m                 \u001b[0;32mraise\u001b[0m \u001b[0mRuntimeError\u001b[0m\u001b[0;34m(\u001b[0m\u001b[0mmessage\u001b[0m\u001b[0;34m.\u001b[0m\u001b[0mformat\u001b[0m\u001b[0;34m(\u001b[0m\u001b[0mstep\u001b[0m\u001b[0;34m,\u001b[0m \u001b[0melapsed\u001b[0m\u001b[0;34m,\u001b[0m \u001b[0melapsed\u001b[0m\u001b[0;34m-\u001b[0m\u001b[0mstep\u001b[0m\u001b[0;34m)\u001b[0m\u001b[0;34m)\u001b[0m\u001b[0;34m\u001b[0m\u001b[0m\n\u001b[0m\u001b[1;32m    105\u001b[0m         \u001b[0mlabtime\u001b[0m\u001b[0;34m.\u001b[0m\u001b[0msleep\u001b[0m\u001b[0;34m(\u001b[0m\u001b[0mstep\u001b[0m \u001b[0;34m-\u001b[0m \u001b[0;34m(\u001b[0m\u001b[0mlabtime\u001b[0m\u001b[0;34m.\u001b[0m\u001b[0mtime\u001b[0m\u001b[0;34m(\u001b[0m\u001b[0;34m)\u001b[0m \u001b[0;34m-\u001b[0m \u001b[0mstart\u001b[0m\u001b[0;34m)\u001b[0m \u001b[0;34m%\u001b[0m \u001b[0mstep\u001b[0m\u001b[0;34m)\u001b[0m\u001b[0;34m\u001b[0m\u001b[0m\n\u001b[1;32m    106\u001b[0m         \u001b[0mnow\u001b[0m \u001b[0;34m=\u001b[0m \u001b[0mlabtime\u001b[0m\u001b[0;34m.\u001b[0m\u001b[0mtime\u001b[0m\u001b[0;34m(\u001b[0m\u001b[0;34m)\u001b[0m \u001b[0;34m-\u001b[0m \u001b[0mstart\u001b[0m\u001b[0;34m\u001b[0m\u001b[0m\n",
      "\u001b[0;31mRuntimeError\u001b[0m: Labtime clock lost synchronization with real time. Step size was 1 s, but 2.01 s elapsed (1.01 too long). Consider increasing step."
     ]
    }
   ],
   "source": [
    "import tclab\n",
    "import time\n",
    "\n",
    "period = 5\n",
    "step = 1\n",
    "\n",
    "for t in tclab.clock(period, step):\n",
    "    print(t, \"sec.\")\n",
    "    if 1.9 < t < 2.5:\n",
    "        time.sleep(2)"
   ]
  },
  {
   "cell_type": "markdown",
   "metadata": {},
   "source": [
    "We can avoid the error above by specifying a larger value of `step` as advised, or we can specify a larger value for `tol`. Note that now time steps are skipped."
   ]
  },
  {
   "cell_type": "code",
   "execution_count": 4,
   "metadata": {},
   "outputs": [
    {
     "name": "stdout",
     "output_type": "stream",
     "text": [
      "0 sec.\n",
      "1.0 sec.\n",
      "2.0 sec.\n",
      "5.0 sec.\n"
     ]
    }
   ],
   "source": [
    "for t in tclab.clock(period, step, tol=2):\n",
    "    print(t, \"sec.\")\n",
    "    if 1.9 < t < 2.5:\n",
    "        time.sleep(2)"
   ]
  },
  {
   "cell_type": "markdown",
   "metadata": {},
   "source": [
    "## Using `tclab.clock()` with TCLab\n",
    "\n",
    "An important use of the `tclab.clock()` generator is to implement and test control and estimation algorithms. The following cell shows how the `clock` generator can be used within the context defined by the Python `with` statement."
   ]
  },
  {
   "cell_type": "code",
   "execution_count": 4,
   "metadata": {},
   "outputs": [
    {
     "name": "stdout",
     "output_type": "stream",
     "text": [
      "Arduino Leonardo connected on port /dev/cu.usbmodemWUAR1 at 115200 baud.\n",
      "TCLab Firmware 1.3.0 Arduino Leonardo/Micro.\n",
      "\n",
      "Set Heater 1 to 100.000000 %\n",
      "Set Heater 2 to 100.000000 %\n",
      "\n",
      "     0.0 sec:   T1 = 30.9 °C    T2 = 33.1 °C\n",
      "     2.0 sec:   T1 = 30.9 °C    T2 = 33.5 °C\n",
      "     4.0 sec:   T1 = 30.9 °C    T2 = 33.1 °C\n",
      "     6.0 sec:   T1 = 30.6 °C    T2 = 32.2 °C\n",
      "     8.0 sec:   T1 = 30.9 °C    T2 = 33.1 °C\n",
      "    10.0 sec:   T1 = 30.9 °C    T2 = 33.1 °C\n",
      "    12.0 sec:   T1 = 30.9 °C    T2 = 33.5 °C\n",
      "    14.0 sec:   T1 = 30.9 °C    T2 = 33.8 °C\n",
      "    16.0 sec:   T1 = 31.2 °C    T2 = 32.8 °C\n",
      "    18.0 sec:   T1 = 31.2 °C    T2 = 34.4 °C\n",
      "    20.0 sec:   T1 = 31.5 °C    T2 = 34.8 °C\n",
      "TCLab disconnected successfully.\n"
     ]
    }
   ],
   "source": [
    "import tclab\n",
    "\n",
    "period = 20\n",
    "step = 2\n",
    "\n",
    "with tclab.TCLab() as lab:\n",
    "    lab.Q1(100)\n",
    "    lab.Q2(100)\n",
    "    \n",
    "    print(\"\\nSet Heater 1 to {0:f} %\".format(lab.Q1()))\n",
    "    print(\"Set Heater 2 to {0:f} %\\n\".format(lab.Q2()))\n",
    "\n",
    "    sfmt = \"   {0:5.1f} sec:   T1 = {1:0.1f} °C    T2 = {2:0.1f} °C\"\n",
    "    \n",
    "    for t in tclab.clock(period, step):\n",
    "        print(sfmt.format(t, lab.T1, lab.T2), flush=True)"
   ]
  },
  {
   "cell_type": "code",
   "execution_count": null,
   "metadata": {},
   "outputs": [],
   "source": []
  }
 ],
 "metadata": {
  "kernelspec": {
   "display_name": "Python 3",
   "language": "python",
   "name": "python3"
  },
  "language_info": {
   "codemirror_mode": {
    "name": "ipython",
    "version": 3
   },
   "file_extension": ".py",
   "mimetype": "text/x-python",
   "name": "python",
   "nbconvert_exporter": "python",
   "pygments_lexer": "ipython3",
   "version": "3.6.5"
  }
 },
 "nbformat": 4,
 "nbformat_minor": 2
}
