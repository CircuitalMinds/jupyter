{
 "cells": [
  {
   "cell_type": "markdown",
   "metadata": {},
   "source": [
    "# Lean $NO_x$ Trap\n",
    "\n",
    "by Jeffrey Kantor  (jeff at nd.edu). The latest version of this notebook is available at [https://github.com/jckantor/CBE20255](https://github.com/jckantor/CBE20255). \n",
    "\n",
    "### Summary\n",
    "\n",
    "This [Jupyter notebook](http://ipython.org/notebook.html) demonstrates the calculation of mass balances for a lean NOx trap used to meet air quality standards for nitrogen oxides in the exhaust of diesel powered trucks and automobiles."
   ]
  },
  {
   "cell_type": "markdown",
   "metadata": {
    "collapsed": true
   },
   "source": [
    "## Problem Statement\n",
    "\n",
    "Some diesel car and truck manufacturers, including Volkswagen and others, have introduced Lean $NO_x$ Traps (LNT) in exhaust systems to meet stringent air quality standards for nitrogen oxides. \n",
    "\n",
    "An LNT includes a small amount of platinum ($Pt$) in a barium oxide ($BaO$) wash coat spread over a ceramic monolith. Under under lean fuel conditions, $NO$ is converted to $NO_2$ by the reaction\n",
    "\n",
    "$$NO \\, (g) + \\frac{1}{2} O_2 \\,(g) \\longrightarrow NO_2 \\,(g)$$\n",
    "\n",
    "catalyzed by $Pt$. Nitrogen dioxide is then adsorbed into the trap by the reaction\n",
    "\n",
    "$$BaO\\,(s) + 2\\,NO_2\\,(g) + \\frac{1}{2}\\,O_2\\,(g) \\longrightarrow Ba(NO_3)_2\\,(s)$$\n",
    "\n",
    "The washcoat has to be regenerated once it has been saturated with nitrogen oxides. To regenerate, a small amount of diesel fuel to release the $NO_x$ which reacts with the hydrocarbons to form water and nitrogen.\n",
    "\n",
    "Consider an LNT operating with a total inflow of 1 kg/min with 850ppm $NO$, 150ppm $NO_2$, and $O_2$ in substantial excess.\n",
    "\n",
    "![](figures/LeanNOxTrap.png)\n",
    "\n",
    "Needed data is in the following table.\n",
    "\n",
    "|   Molecular Species |  MW   |\n",
    "| :----------- | ---: |\n",
    "| $Ba(NO_3)_2$ | 261.3 |\n",
    "| $BaO$        | 153.3 |\n",
    "| $NO$         | 30.0  |\n",
    "| $NO_2$       | 46.0  |\n",
    "| $O_2$        | 32.0  |\n",
    "\n",
    "The exhaust gas is to be reduced to 50ppm $NO$ with no residual $NO_2$.\n",
    "\n",
    "1. Identify the relevant stream and system variables. Perform a degree of freedom analysis.\n",
    "2. Calculate the extents of reaction. Be sure to show units.\n",
    "3. The washcoat is initially loaded with 100 grams of $BaO$. How long is it before the trap must be regenerated?                                             "
   ]
  },
  {
   "cell_type": "markdown",
   "metadata": {
    "collapsed": true
   },
   "source": [
    "## Solution\n",
    "\n",
    "### Part a. Degree of Freedom Analysis\n",
    "\n",
    "The relevant stream and system variables are labeled on the following diagram. The inlet specifications have been translated to flow rates.  The outlet flow of $NO_2$ is zero, and the flow of $\\dot{m}_{{NO},2}$ is 50 ppm of the total outlet mass flow.\n",
    "\n",
    "![](figures/LeanNOxTrap2.png)\n",
    "\n",
    "\n",
    "| Variables |    |\n",
    "| :-------- | -: |\n",
    "| Stream Variables | 6\n",
    "| Accumulation Variables | 2\n",
    "| Extents of Reaction | 2\n",
    "| TOTAL VARIABLES | 10\n",
    "\n",
    "| Equations |    |\n",
    "| :-------- | -: |\n",
    "| Mass Balances | 5\n",
    "| Inlet Specifications | 2\n",
    "| Outlet Specification | 2\n",
    "| TOTAL EQUATIONS | 8\n",
    "\n",
    "$$ DOF = Variables - Equations = 10 - 9 = \\fbox{1}$$\n",
    "\n",
    "\n",
    "### Part b. Material Balances\n",
    "\n",
    "\\begin{align*}\n",
    "\\dot{r}_{Ba(NO_3)_2} & = M_{Ba(NO_3)_2}\\dot{\\xi}_2 \\\\\n",
    "\\dot{r}_{BaO} & = -M_{BaO}\\dot{\\xi}_2 \\\\\n",
    "0 & = \\dot{m}_{{NO},1} - \\dot{m}_{{NO},2} - M_{NO} \\dot{\\xi}_1 \\\\\n",
    "0 & = \\dot{m}_{{NO_2},1} - \\dot{m}_{{NO_2},2} + M_{NO_2} \\dot{\\xi}_1 - 2 M_{NO_2} \\dot{\\xi}_2 \\\\\n",
    "0 & = \\dot{m}_{{O_2},1} - \\dot{m}_{{O_2},2} - \\frac{1}{2}M_{O_2}\\dot{\\xi}_1 - \\frac{1}{2}M_{O_2}\\dot{\\xi}_2 \\\\ \n",
    "\\end{align*}\n",
    "\n",
    "The flow of stream 2 is essentially 1 kg/min because only a small part is reactive. The material balances for $NO$ and $NO_2$ are\n",
    "\n",
    "\\begin{align*}\n",
    "0 & = \\underbrace{\\dot{m}_{{NO},1}}_{0.85\\ g/min} - \\underbrace{\\dot{m}_{{NO},2}}_{0.05\\ g/min} - \\underbrace{M_{NO}}_{30.0} \\dot{\\xi}_1 \\\\\n",
    "0 & = \\underbrace{\\dot{m}_{{NO_2},1}}_{0.15\\ g/min} - \\underbrace{\\dot{m}_{{NO_2},2}}_{0\\ g/min} + \\underbrace{M_{NO_2}}_{46.0} \\dot{\\xi}_1 - 2 \\underbrace{M_{NO_2}}_{46.0} \\dot{\\xi}_2 \\\\\n",
    "\\end{align*}\n",
    "\n",
    "Solving the first equation\n",
    "\n",
    "\\begin{align*}\n",
    "\\dot{\\xi}_1 = \\frac{\\dot{m}_{{NO},1} - \\dot{m}_{{NO},2}}{M_{NO}} = \\frac{0.85\\ g/min - 0.05\\ g/min}{30.0\\ g/gmol} = \\fbox{0.0267 gmol/min}\n",
    "\\end{align*}\n",
    "\n",
    "The solving for the second\n",
    "\n",
    "\\begin{align*}\n",
    "\\dot{\\xi}_2 = \\frac{0.15\\ g/min + 46.0\\ g/gmol\\times 0.0267\\ gmol/min}{2\\times 46.0 g/gmol} = \\fbox{0.015 gmol/min}\n",
    "\\end{align*}\n",
    "\n",
    "### Part c. The rate of consumption of $BaO$\n",
    "\n",
    "\\begin{align*}\n",
    "\\dot{r}_{Ba(NO_3)_2} = M_{Ba(NO_3)_2}\\dot{\\xi}_2 = 153.3 \\times 0.015\\ gmol/min = \\fbox{2.3 g/min}\n",
    "\\end{align*}\n",
    "\n",
    "so the 100 grams of \\ce{BaO} will need to be regenerated in\n",
    "\n",
    "\\begin{align*}\n",
    "t = \\frac{100\\ g}{2.3\\ g/min} = \\fbox{43.6 min}\n",
    "\\end{align*}\n",
    "\n"
   ]
  },
  {
   "cell_type": "code",
   "execution_count": null,
   "metadata": {
    "collapsed": true
   },
   "outputs": [],
   "source": []
  }
 ],
 "metadata": {
  "kernelspec": {
   "display_name": "Python [conda root]",
   "language": "python",
   "name": "conda-root-py"
  },
  "language_info": {
   "codemirror_mode": {
    "name": "ipython",
    "version": 3
   },
   "file_extension": ".py",
   "mimetype": "text/x-python",
   "name": "python",
   "nbconvert_exporter": "python",
   "pygments_lexer": "ipython3",
   "version": "3.5.2"
  }
 },
 "nbformat": 4,
 "nbformat_minor": 0
}
