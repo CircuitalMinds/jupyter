{
 "cells": [
  {
   "cell_type": "markdown",
   "metadata": {},
   "source": [
    "# West Virginia Chemical Spill\n",
    "\n",
    "by Jeffrey Kantor  (jeff at nd.edu). The latest version of this notebook is available at [https://github.com/jckantor/CBE20255](https://github.com/jckantor/CBE20255). \n",
    "\n",
    "### Summary\n",
    "\n",
    "This notebook describes a series of simple calculations for the analyis of a chemical spill in West Virgina that occurred in 2014."
   ]
  },
  {
   "cell_type": "markdown",
   "metadata": {},
   "source": [
    "## Background\n",
    "\n",
    "On January 9, 2014, approximately 300,000 residents in nine counties in West Virginia, including the city of Charleston and environs, were told to stop using tap water due a chemical spill. A few days later it was estimated that a total of 7,500 gallons of 4-methylcyclohexane methanol (MCHM) leaked into the Elk River from a 40,000 gallon tank on the property of Freedom Industries. The site is about a mile upstream of West Virginia American Water which is the water utility for Charleston and the surrounding area.\n",
    "\n",
    "MCHM is used in froth floatation process for cleaning coal. Relatively little information is available. It is more often described as an 'irritant' rather than 'toxic' material, but there is little known about its carcinogenic, mutagenic, or development toxicology properties. From various media reports we find the maximum permissible levels of 4-methylcyclohexane methanol in drinking water is 1ppm by weight. The density of MCHM is 0.9074 g/cm^3.\n",
    "\n",
    "From Wikipedia we find the <a href=\"http://en.wikipedia.org/wiki/Elk_River_(West_Virginia)\">Elk River</a> has an average flow of 2,650 cu ft/sec, with a minimum recorded flow of 271 cu ft/s in 1972.   "
   ]
  },
  {
   "cell_type": "markdown",
   "metadata": {},
   "source": [
    "## Problems\n",
    "\n",
    "Assume the leak occurred over a 4 hour period and that MCHM is soluble and completely mixed with the river water when it reaches the treatment plant. What is the approximate concentration of MCHM under average river flow conditions? "
   ]
  },
  {
   "cell_type": "code",
   "execution_count": 4,
   "metadata": {
    "collapsed": false
   },
   "outputs": [
    {
     "name": "stdout",
     "output_type": "stream",
     "text": [
      "MCHM Concentration = 23.8 ppm\n"
     ]
    }
   ],
   "source": [
    "# densities in kg/liter\n",
    "rhoMCHM = 0.9074\n",
    "rhoW = 1.0\n",
    "\n",
    "# Mass flows in kg/sec\n",
    "mRiver = 2650*28.31*rhoW\n",
    "mMCHM = 7500*3.785*rhoMCHM/(4*3600)\n",
    "\n",
    "# concentration in ppm by mass\n",
    "cMCHM = mMCHM*1e6/(mRiver+mMCHM)\n",
    "print(\"MCHM Concentration = {:0.1f} ppm\".format(cMCHM))"
   ]
  },
  {
   "cell_type": "markdown",
   "metadata": {},
   "source": [
    "Under minimum flow conditions?"
   ]
  },
  {
   "cell_type": "code",
   "execution_count": 5,
   "metadata": {
    "collapsed": false
   },
   "outputs": [
    {
     "name": "stdout",
     "output_type": "stream",
     "text": [
      "MCHM Concentration = 233.1 ppm\n"
     ]
    }
   ],
   "source": [
    "# densities in kg/liter\n",
    "rhoMCHM = 0.9074\n",
    "rhoW = 1.0\n",
    "\n",
    "# Mass flows in kg/sec\n",
    "mRiver = 271*28.31*rhoW\n",
    "mMCHM = 7500*3.785*rhoMCHM/(4*3600)\n",
    "\n",
    "# concentration in ppm by mass\n",
    "cMCHM = mMCHM*1e6/(mRiver+mMCHM)\n",
    "print(\"MCHM Concentration = {:0.1f} ppm\".format(cMCHM))"
   ]
  },
  {
   "cell_type": "markdown",
   "metadata": {},
   "source": [
    "Suppose Freedom Industries installs a tank monitoring system to detect leaks. The objective is to detect any leak that would lead to 0.1ppm or higher in the river water, even under minimum flow conditions. What is minimum leak rate (in liter/hour) that you would have to detect?"
   ]
  },
  {
   "cell_type": "code",
   "execution_count": 6,
   "metadata": {
    "collapsed": false
   },
   "outputs": [
    {
     "name": "stdout",
     "output_type": "stream",
     "text": [
      "MCHM Flowrate = 3.0 liters/hour\n"
     ]
    }
   ],
   "source": [
    "# densities in kg/liter\n",
    "rhoMCHM = 0.9074\n",
    "rhoW = 1.0\n",
    "\n",
    "# Mass flows in kg/sec\n",
    "mRiver = 271*28.31*rhoW\n",
    "mMCHM = 0.1e-6*mRiver\n",
    "\n",
    "# Volumetric flow in liter/hour\n",
    "vMCHM = 3600*mMCHM/rhoMCHM\n",
    "print(\"MCHM Flowrate = {:0.1f} liters/hour\".format(vMCHM))"
   ]
  },
  {
   "cell_type": "code",
   "execution_count": null,
   "metadata": {
    "collapsed": true
   },
   "outputs": [],
   "source": []
  }
 ],
 "metadata": {
  "kernelspec": {
   "display_name": "Python [conda root]",
   "language": "python",
   "name": "conda-root-py"
  },
  "language_info": {
   "codemirror_mode": {
    "name": "ipython",
    "version": 3
   },
   "file_extension": ".py",
   "mimetype": "text/x-python",
   "name": "python",
   "nbconvert_exporter": "python",
   "pygments_lexer": "ipython3",
   "version": "3.5.2"
  }
 },
 "nbformat": 4,
 "nbformat_minor": 0
}
