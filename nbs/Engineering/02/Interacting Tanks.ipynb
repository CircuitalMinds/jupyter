{
 "cells": [
  {
   "cell_type": "markdown",
   "metadata": {
    "collapsed": true
   },
   "source": [
    "# Interacting Tanks\n",
    "\n",
    "by Jeffrey Kantor  (jeff at nd.edu). The latest version of this notebook is available at [https://github.com/jckantor/CBE30338](https://github.com/jckantor/CBE30338)."
   ]
  },
  {
   "cell_type": "markdown",
   "metadata": {},
   "source": [
    "## Problem Statement\n",
    "\n",
    "The following diagram shows a pair of interacting tanks.\n",
    "\n",
    "![Image of a two interacting tanks](../images/InteractingTanks.png)\n",
    "\n",
    "Assume the pressure driven flow into and out of the tanks is linearly proportional to tank levels. The steady state flowrate through the tanks is 3 cubic ft per minute, the steady state heights are 7 and 3 feet, respectively, and a constant cross-sectional area 5 sq. ft. The equations are written as\n",
    "\n",
    "$$\\begin{align*}\n",
    "\\frac{dh_1}{dt} & = \\frac{F_0}{A_1} - \\frac{\\beta_1}{A_1}\\left(h_1-h_2\\right) \\\\\n",
    "\\frac{dh_2}{dt} & = \\frac{\\beta_1}{A_2}\\left(h_1-h_2\\right) - \\frac{\\beta_2}{A_2}h_2\n",
    "\\end{align*}$$\n",
    "\n",
    "**a.** Use the problem data to determine values for all constants in the model equations.\n",
    "\n",
    "**b.** Construct a Phython simulation using `odeint`, and show a plot of the tank levels as function of time starting with an initial condition $h_1(0)=6$ and $h_2(0)$ = 5. Is this an overdamped or underdamped system."
   ]
  },
  {
   "cell_type": "markdown",
   "metadata": {},
   "source": [
    "## Solution"
   ]
  },
  {
   "cell_type": "markdown",
   "metadata": {},
   "source": [
    "### Part a. \n",
    "\n",
    "The parameters that need to be determined are $\\beta_1$ and $\\beta_2$. At steady state all of the flows must be identical and\n",
    "\n",
    "$$\\begin{align*}\n",
    "0 & = F_0 - \\beta_1(h_1 - h_2) \\\\\n",
    "0 & = \\beta_1(h_1 - h_2) - \\beta_2h_2 \n",
    "\\end{align*}$$\n",
    "\n",
    "Substituting problem data,\n",
    "\n",
    "$$\\beta_1 = \\frac{F_0}{h_1-h_2} = \\frac{3\\text{ cu.ft./min}}{4\\text{ ft}} = 0.75\\text{ sq.ft./min}$$ \n",
    "\n",
    "$$\\beta_2 = \\frac{\\beta_1(h_1 - h_2)}{h_2} = \\frac{3\\text{ cu.ft./min}}{3\\text{ ft}} = 1.0\\text{ sq.ft./min}$$ "
   ]
  },
  {
   "cell_type": "markdown",
   "metadata": {},
   "source": [
    "### Part b.\n",
    "\n",
    "The next step is perform a simulation from a specified initial condition. "
   ]
  },
  {
   "cell_type": "code",
   "execution_count": 1,
   "metadata": {
    "collapsed": false
   },
   "outputs": [
    {
     "data": {
      "text/plain": [
       "<matplotlib.legend.Legend at 0x7fe9f6a132d0>"
      ]
     },
     "execution_count": 1,
     "metadata": {},
     "output_type": "execute_result"
    },
    {
     "data": {
      "image/png": "[encoded data removed]",
      "text/plain": [
       "<matplotlib.figure.Figure at 0x7fea1c379b50>"
      ]
     },
     "metadata": {},
     "output_type": "display_data"
    }
   ],
   "source": [
    "%matplotlib inline\n",
    "import numpy as np\n",
    "import matplotlib.pyplot as plt\n",
    "from scipy.integrate import odeint\n",
    "from ipywidgets import interact\n",
    "\n",
    "# simulation time grid\n",
    "t = np.linspace(0,30,1000)\n",
    "\n",
    "# initial condition\n",
    "IC = [6,5]\n",
    "\n",
    "# inlet flowrate\n",
    "F0 = 3\n",
    "\n",
    "# parameters for tank 1 \n",
    "A1 = 5\n",
    "beta1 = 0.75\n",
    "\n",
    "# parameters for tank 2\n",
    "A2 = 5\n",
    "beta2 = 1.0\n",
    "\n",
    "def hderiv(H, t):\n",
    "    h1,h2 = H\n",
    "    h1dot = (F0 - beta1*(h1-h2))/A1\n",
    "    h2dot = (beta1*(h1-h2) - beta2*h2)/A2\n",
    "    return [h1dot,h2dot]\n",
    "\n",
    "\n",
    "sol = odeint(hderiv,IC,t)\n",
    "plt.plot(t,sol)\n",
    "plt.ylim(0,8)\n",
    "plt.grid()\n",
    "plt.xlabel('Time [min]')\n",
    "plt.ylabel('Level [ft]')\n",
    "plt.legend(['Tanque 1', 'Tanque 2'])"
   ]
  },
  {
   "cell_type": "markdown",
   "metadata": {},
   "source": [
    "##### Further Calculations\n",
    "\n",
    "$$\\frac{d}{dt}\\left[\\begin{array}{c} h_1 \\\\ h_2 \\end{array}\\right] = \n",
    "\\left[\\begin{array}{cc}-\\frac{\\beta_1}{A_1} & \\frac{\\beta_1}{A_1} \\\\\n",
    "\\frac{\\beta_1}{A_2} & -\\frac{\\beta_1}{A_2} - \\frac{\\beta_2}{A_2} \\end{array}\\right]\n",
    "\\left[\\begin{array}{c}h_1 \\\\ h_2\\end{array}\\right]\n",
    "+\n",
    "\\left[\\begin{array}{c}\\frac{1}{A_1} \\\\ 0\\end{array}\\right]F_0$$"
   ]
  },
  {
   "cell_type": "code",
   "execution_count": null,
   "metadata": {
    "collapsed": true
   },
   "outputs": [],
   "source": []
  }
 ],
 "metadata": {
  "anaconda-cloud": {},
  "kernelspec": {
   "display_name": "Python [conda root]",
   "language": "python",
   "name": "conda-root-py"
  },
  "language_info": {
   "codemirror_mode": {
    "name": "ipython",
    "version": 2
   },
   "file_extension": ".py",
   "mimetype": "text/x-python",
   "name": "python",
   "nbconvert_exporter": "python",
   "pygments_lexer": "ipython2",
   "version": "2.7.12"
  }
 },
 "nbformat": 4,
 "nbformat_minor": 1
}
