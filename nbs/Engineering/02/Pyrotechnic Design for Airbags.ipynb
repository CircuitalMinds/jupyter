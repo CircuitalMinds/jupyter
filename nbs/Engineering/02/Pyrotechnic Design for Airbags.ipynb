{
 "cells": [
  {
   "cell_type": "markdown",
   "metadata": {},
   "source": [
    "# Pyrotechnic Design for Airbags\n",
    "\n",
    "by Jeffrey Kantor  (jeff at nd.edu). The latest version of this notebook is available at [https://github.com/jckantor/CBE20255](https://github.com/jckantor/CBE20255). \n",
    "\n",
    "### Summary\n",
    "\n",
    "This [Jupyter notebook](http://jupyter.org/notebook.html) introduces the analysis and design of the chemistry underlying the automotive airbags."
   ]
  },
  {
   "cell_type": "markdown",
   "metadata": {},
   "source": [
    "## Background\n",
    "\n",
    "Automobile airbags are designed to protect occupants in the event of front and side impact crashes, and have been mandated in all new cars since 1998. The following video provides background on the chemistry and engineering challenges involved in the design of modern airbags."
   ]
  },
  {
   "cell_type": "code",
   "execution_count": 2,
   "metadata": {
    "collapsed": false
   },
   "outputs": [
    {
     "data": {
      "image/jpeg": "[encoded data removed]",
      "text/html": [
       "\n",
       "        <iframe\n",
       "            width=\"560\"\n",
       "            height=\"315\"\n",
       "            src=\"https://www.youtube.com/embed/9vynOdF61aM?rel=0\"\n",
       "            frameborder=\"0\"\n",
       "            allowfullscreen\n",
       "        ></iframe>\n",
       "        "
      ],
      "text/plain": [
       "<IPython.lib.display.YouTubeVideo at 0x106c9a0b8>"
      ]
     },
     "execution_count": 2,
     "metadata": {},
     "output_type": "execute_result"
    }
   ],
   "source": [
    "from IPython.display import YouTubeVideo\n",
    "YouTubeVideo(\"9vynOdF61aM\",560,315,rel=0)"
   ]
  },
  {
   "cell_type": "markdown",
   "metadata": {},
   "source": [
    "In older technologies, airbags were inflated with nitrogen generated by the explosive decomposition of sodium azide. \n",
    "\n",
    "2 NaN<sub>3</sub> &rarr; 2 Na + 3 N<sub>2</sub> (g)\n",
    "\n",
    "Highly reactive sodium would be a hazard at a crash site. A clever piece of chemical engineering is to add potassium nitrate (KNO<sub>3</sub>) to oxidize the sodium by the reaction \n",
    "\n",
    "10 Na + 2 KNO<sub>3</sub> &rarr; K<sub>2</sub>O + 5 Na<sub>2</sub>O + N<sub>2</sub> (g)\n",
    "\n",
    "K<sub>2</sub>O and Na<sub>2</sub>O are also highly reactive. In the presence of water, which is common near crash sites, these compounds would react to form KOH and NaOH, both of which would be hazardous to passengers and emergency personnel. So another clever piece of engineering is to add silica (SiO<sub>2</sub>) to the airbag which will react with K<sub>2</sub>O and Na<sub>2</sub>O to form silicate glass though the reactions\n",
    "\n",
    "K<sub>2</sub>O + SiO<sub>2</sub> &rarr; K<sub>2</sub>O<sub>3</sub>Si (potassium silicate glass)\n",
    "\n",
    "Na<sub>2</sub>O + SiO<sub>2</sub> &rarr; Na<sub>2</sub>O<sub>3</sub>Si (sodium silicate glass)\n",
    "\n",
    "[With proper design](http://youtu.be/BmH_eIhHLX8) of the initial charge one can avoid the net production of sodium with the added benefit of generating further nitrogen."
   ]
  },
  {
   "cell_type": "markdown",
   "metadata": {},
   "source": [
    "## Problem 1\n",
    "\n",
    "Perform a generation consumption analysis to determine a process stoichiometry that avoids the net production of Na, Na<sub>2</sub>O, or K<sub>2</sub>O. Show your work, including the stoichiometric matrix and the final net stoichiometry."
   ]
  },
  {
   "cell_type": "markdown",
   "metadata": {},
   "source": [
    "## Problem 2\n",
    "\n",
    "Approximately 98 grams of N<sub>2</sub> are needed to fill a typical airbag. Calculate (in grams) the required amount of sodium azide, potassium nitrate, and silica to be loaded into the airbag."
   ]
  },
  {
   "cell_type": "markdown",
   "metadata": {},
   "source": [
    "## Problem 3\n",
    "\n",
    "As mentioned in the video, newer airbag technologies replace sodium azide with other pyrotechnic agents, such as guanidine nitrate. One example from the vast patent literature cites  mixture of 45.35 wt% ammonium nitrate (NH<sub>4</sub>NO<sub>3</sub>), 8.0 wt% potassium nitrate (KNO<sub>3</sub>), and 46.65 wt% guanidine nitrate (C(NH<sub>2</sub>)<sub>3</sub>NO<sub>3</sub>).  \n",
    "\n",
    "| Species | MW | wt% |\n",
    "| :-----: | --: | --: | \n",
    "| NH<sub>4</sub>NO<sub>3</sub> | 80.05 | 45.35 |\n",
    "| KNO<sub>3</sub> | 101.1 | 8.0 | \n",
    "| C(NH<sub>2</sub>)<sub>3</sub>NO<sub>3</sub> | 122.1 | 46.65 |\n",
    "\n",
    "Assume\n",
    "\n",
    "* the gaseous reaction products are carbon dioxide (CO<sub>2</sub>), nitrogen (N<sub>2</sub>), and water (H<sub>2</sub>O), and \n",
    "* KNO<sub>3</sub> reacts to form K<sub>2</sub>O, and \n",
    "* silica (SiO<sub>2</sub>) will be added to produce a silicate glass.\n",
    "\n",
    "How much of the mixture will be required to produce the same gas volume as in problem 2?\n",
    "\n",
    "### Hint\n",
    "\n",
    "The problem does not provide a list of reactions.  But we can make some inferences based on knowledge of the reaction products.  The first step is to consider the decomposition of the reactants to reaction products plus elemental species.\n",
    "\n",
    "NH<sub>4</sub>NO<sub>3</sub> &rarr; N<sub>2</sub> + 2 H<sub>2</sub>O + 1/2 O<sub>2</sub>\n",
    "\n",
    "C(NH<sub>2</sub>)<sub>3</sub>NO<sub>3</sub> + O<sub>2</sub> &rarr; 2 N<sub>2</sub> + CO<sub>2</sub> + 3 H<sub>2</sub>O\n",
    "\n",
    "2 KNO<sub>3</sub> &rarr; K<sub>2</sub>O + N<sub>2</sub> + 5/2 O<sub>2</sub>\n",
    "\n",
    "Since oxygen doesn't appear in the list of reactants (and, in any event, would certainly be completely consumed in the course of the pyrotechnic combustion), we'll combine these three reactions into two:\n",
    "\n",
    "R<sub>1</sub>: C(NH<sub>2</sub>)<sub>3</sub>NO<sub>3</sub> + 2 NH<sub>4</sub>NO<sub>3</sub> &rarr; \n",
    "4 N<sub>2</sub> + CO<sub>2</sub> + 7 H<sub>2</sub>O\n",
    "\n",
    "R<sub>2</sub>: 5 C(NH<sub>2</sub>)<sub>3</sub>NO<sub>3</sub> + 4 KNO<sub>3</sub> &rarr; \n",
    "2 K<sub>2</sub>O + 12 N<sub>2</sub> + 5 CO<sub>2</sub> + 15 H<sub>2</sub> O\n",
    "\n",
    "The third reaction to consider is\n",
    "\n",
    "R<sub>3</sub>: K<sub>2</sub>O + SiO<sub>2</sub> &rarr; K<sub>2</sub>O<sub>3</sub>Si (potassium silicate glass)\n",
    "\n",
    "The way to proceed with this problem is to, first, choose a basis of, say, 100 grams of pyrotechnic charge. What will be the extents of each reaction?  How would you scale up or down the charge?"
   ]
  },
  {
   "cell_type": "markdown",
   "metadata": {},
   "source": [
    "## Problem 4\n",
    "\n",
    "At about the 2:40 mark in the above video, the narrator refers to alternative chemistries for gas generation combining guanidine nitrate (C(NH2)3NO3) as a fuel, and metallic compounds such as iron oxide (Fe2O3), molybdenum disulfide, or cupric oxide (CuO) as oxydizers. For each oxydizer, propose a balanced reaction showing\n",
    "\n",
    "* the maximum amount of gas that can be generated per gram of charge, and\n",
    "* the approximate temperature of the gas mixture following expansion.\n",
    "\n",
    "Among these options, which would seem most appropriate for its intended application to airbags?"
   ]
  },
  {
   "cell_type": "code",
   "execution_count": null,
   "metadata": {
    "collapsed": true
   },
   "outputs": [],
   "source": []
  }
 ],
 "metadata": {
  "kernelspec": {
   "display_name": "Python [conda root]",
   "language": "python",
   "name": "conda-root-py"
  },
  "language_info": {
   "codemirror_mode": {
    "name": "ipython",
    "version": 3
   },
   "file_extension": ".py",
   "mimetype": "text/x-python",
   "name": "python",
   "nbconvert_exporter": "python",
   "pygments_lexer": "ipython3",
   "version": "3.5.2"
  }
 },
 "nbformat": 4,
 "nbformat_minor": 0
}
