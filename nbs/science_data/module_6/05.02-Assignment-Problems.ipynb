{
 "cells": [
  {
   "cell_type": "markdown",
   "metadata": {
    "colab_type": "text",
    "id": "cGu8YmZbcInL",
    "pycharm": {}
   },
   "source": [
    "<!--NOTEBOOK_HEADER-->\n",
    "*This notebook contains course material from [CBE40455](https://jckantor.github.io/CBE40455) by\n",
    "Jeffrey Kantor (jeff at nd.edu); the content is available [on Github](https://github.com/jckantor/CBE40455.git).\n",
    "The text is released under the [CC-BY-NC-ND-4.0 license](https://creativecommons.org/licenses/by-nc-nd/4.0/legalcode),\n",
    "and code is released under the [MIT license](https://opensource.org/licenses/MIT).*"
   ]
  },
  {
   "cell_type": "markdown",
   "metadata": {
    "colab_type": "text",
    "id": "QXs9TPP4cInN",
    "pycharm": {}
   },
   "source": [
    "<!--NAVIGATION-->\n",
    "< [Economic Order Quantity](http://nbviewer.jupyter.org/github/jckantor/CBE40455/blob/master/notebooks/05.01-Economic-Order-Quantity.ipynb) | [Contents](toc.ipynb) | [Vehicle Routing](http://nbviewer.jupyter.org/github/jckantor/CBE40455/blob/master/notebooks/05.03-Vehicle-Routing.ipynb) ><p><a href=\"https://colab.research.google.com/github/jckantor/CBE40455/blob/master/notebooks/05.02-Assignment-Problems.ipynb\"><img align=\"left\" src=\"https://colab.research.google.com/assets/colab-badge.svg\" alt=\"Open in Colab\" title=\"Open in Google Colaboratory\"></a><p><a href=\"https://raw.githubusercontent.com/jckantor/CBE40455/master/notebooks/05.02-Assignment-Problems.ipynb\"><img align=\"left\" src=\"https://img.shields.io/badge/Github-Download-blue.svg\" alt=\"Download\" title=\"Download Notebook\"></a>"
   ]
  },
  {
   "cell_type": "markdown",
   "metadata": {
    "colab_type": "text",
    "id": "J2VR97nfcInN",
    "pycharm": {},
    "slideshow": {
     "slide_type": "slide"
    }
   },
   "source": [
    "# Assignment Problems"
   ]
  },
  {
   "cell_type": "markdown",
   "metadata": {
    "colab_type": "text",
    "id": "m_WJH85ccInO",
    "pycharm": {}
   },
   "source": [
    "This Jupyter notebook demonstrates models for various types of assignment problems using GLPK/MathProg. Run the following cell to perform the necessary installations on Google Colaboratory."
   ]
  },
  {
   "cell_type": "code",
   "execution_count": 1,
   "metadata": {
    "colab": {
     "base_uri": "https://localhost:8080/",
     "height": 153
    },
    "colab_type": "code",
    "executionInfo": {
     "elapsed": 5544,
     "status": "ok",
     "timestamp": 1557235985089,
     "user": {
      "displayName": "Jeffrey Kantor",
      "photoUrl": "https://lh5.googleusercontent.com/-8zK5aAW5RMQ/AAAAAAAAAAI/AAAAAAAAKB0/kssUQyz8DTQ/s64/photo.jpg",
      "userId": "09038942003589296665"
     },
     "user_tz": 240
    },
    "id": "2MCVgHNPcW1l",
    "outputId": "03fe8961-6f58-4f01-cb0a-c0d036d89731"
   },
   "outputs": [
    {
     "name": "stdout",
     "output_type": "stream",
     "text": [
      "Reading package lists...\n",
      "Building dependency tree...\n",
      "Reading state information...\n",
      "glpk-utils is already the newest version (4.65-1).\n",
      "The following package was automatically installed and is no longer required:\n",
      "  libnvidia-common-410\n",
      "Use 'apt autoremove' to remove it.\n",
      "0 upgraded, 0 newly installed, 0 to remove and 11 not upgraded.\n"
     ]
    }
   ],
   "source": [
    "!pip install -q pyomo\n",
    "!apt-get install glpk-utils -q\n",
    "!pip install -q cvxpy"
   ]
  },
  {
   "cell_type": "markdown",
   "metadata": {
    "colab_type": "text",
    "id": "1sre1WppcInP",
    "pycharm": {},
    "slideshow": {
     "slide_type": "slide"
    }
   },
   "source": [
    "## Example Problem"
   ]
  },
  {
   "cell_type": "markdown",
   "metadata": {
    "colab_type": "text",
    "id": "rak60NvZcInQ",
    "pycharm": {}
   },
   "source": [
    "You work as a logistics manager for a toy manufacturer, and you currently have five delivery trucks on the road. Your trucks are in Austin, Boston, Chicago, Denver, Edmonton, and Fargo. You need them to drive to five other cities: Atlanta, Boise, Charlotte, Dallas, and Fresno. The table below shows the distance in miles between these cities.\n",
    "\n",
    "| From\\To  | Atlanta | Boise    | Charlotte | Dallas | Fresno |\n",
    "| : -----: | :-----: | :------: | :-------: | :----: | :----: |\n",
    "| Austin   | 921     | 1627     | 1166      | 196    | 1594   |\n",
    "| Boston   | 1078    | 2661     | 837       | 1767   | 3107   |\n",
    "| Chicago  | 716     | 1693     | 756       | 925    | 2140   |\n",
    "| Denver   | 1400    | 815      | 1561      | 788    | 1142   |\n",
    "| Edmonton | 3764    | 1718     | 3848      | 3310   | 2835   |\n",
    "\n",
    "Where should you send each of your trucks in order to minimize travel distance?"
   ]
  },
  {
   "cell_type": "markdown",
   "metadata": {
    "colab_type": "text",
    "id": "39mlo9TgcInR",
    "pycharm": {},
    "slideshow": {
     "slide_type": "slide"
    }
   },
   "source": [
    "### Combinatorial Complexity"
   ]
  },
  {
   "cell_type": "markdown",
   "metadata": {
    "colab_type": "text",
    "id": "Ampm5ASKcInS",
    "pycharm": {}
   },
   "source": [
    "How many ways are there to assign destinations to each truck?\n",
    "\n",
    "$N = 5 \\times 4 \\times 3 \\times 2 \\times 1 = 120$\n",
    "\n",
    "In general there are \n",
    "\n",
    "$N = n!$ \n",
    "\n",
    "ways to assign $n$ resources to $n$ tasks."
   ]
  },
  {
   "cell_type": "code",
   "execution_count": 2,
   "metadata": {
    "colab": {
     "base_uri": "https://localhost:8080/",
     "height": 283
    },
    "colab_type": "code",
    "executionInfo": {
     "elapsed": 5672,
     "status": "ok",
     "timestamp": 1557235985225,
     "user": {
      "displayName": "Jeffrey Kantor",
      "photoUrl": "https://lh5.googleusercontent.com/-8zK5aAW5RMQ/AAAAAAAAAAI/AAAAAAAAKB0/kssUQyz8DTQ/s64/photo.jpg",
      "userId": "09038942003589296665"
     },
     "user_tz": 240
    },
    "id": "M2kUCRP4cInT",
    "outputId": "736232f6-2b79-458e-d5d3-76f8cdec3142",
    "pycharm": {},
    "slideshow": {
     "slide_type": "slide"
    }
   },
   "outputs": [
    {
     "data": {
      "image/png": "[encoded data removed]",
      "text/plain": [
       "<Figure size 432x288 with 1 Axes>"
      ]
     },
     "metadata": {
      "tags": []
     },
     "output_type": "display_data"
    }
   ],
   "source": [
    "%matplotlib inline\n",
    "import math as math\n",
    "import matplotlib.pyplot as plt\n",
    "import numpy as np\n",
    "\n",
    "n = np.arange(0,10)\n",
    "plt.plot(n,n);\n",
    "plt.xlabel('Number of Resources/Tasks');"
   ]
  },
  {
   "cell_type": "code",
   "execution_count": 3,
   "metadata": {
    "colab": {
     "base_uri": "https://localhost:8080/",
     "height": 283
    },
    "colab_type": "code",
    "executionInfo": {
     "elapsed": 6048,
     "status": "ok",
     "timestamp": 1557235985627,
     "user": {
      "displayName": "Jeffrey Kantor",
      "photoUrl": "https://lh5.googleusercontent.com/-8zK5aAW5RMQ/AAAAAAAAAAI/AAAAAAAAKB0/kssUQyz8DTQ/s64/photo.jpg",
      "userId": "09038942003589296665"
     },
     "user_tz": 240
    },
    "id": "_8udRkwgcInZ",
    "outputId": "eb690162-5df8-4e70-bd98-8d47568557e5",
    "pycharm": {},
    "slideshow": {
     "slide_type": "slide"
    }
   },
   "outputs": [
    {
     "data": {
      "image/png": "[encoded data removed]",
      "text/plain": [
       "<Figure size 432x288 with 1 Axes>"
      ]
     },
     "metadata": {
      "tags": []
     },
     "output_type": "display_data"
    }
   ],
   "source": [
    "plt.xlabel('Number of Resources/Tasks')\n",
    "plt.plot(n,n,n,n**2)\n",
    "plt.legend(['n','n**2'],loc='best');"
   ]
  },
  {
   "cell_type": "code",
   "execution_count": 4,
   "metadata": {
    "colab": {
     "base_uri": "https://localhost:8080/",
     "height": 283
    },
    "colab_type": "code",
    "executionInfo": {
     "elapsed": 6168,
     "status": "ok",
     "timestamp": 1557235985758,
     "user": {
      "displayName": "Jeffrey Kantor",
      "photoUrl": "https://lh5.googleusercontent.com/-8zK5aAW5RMQ/AAAAAAAAAAI/AAAAAAAAKB0/kssUQyz8DTQ/s64/photo.jpg",
      "userId": "09038942003589296665"
     },
     "user_tz": 240
    },
    "id": "4gb1uT2UcInc",
    "outputId": "8684444f-0faa-4918-b263-f7a696038a50",
    "pycharm": {},
    "slideshow": {
     "slide_type": "slide"
    }
   },
   "outputs": [
    {
     "data": {
      "image/png": "[encoded data removed]",
      "text/plain": [
       "<Figure size 432x288 with 1 Axes>"
      ]
     },
     "metadata": {
      "tags": []
     },
     "output_type": "display_data"
    }
   ],
   "source": [
    "plt.xlabel('Number of Resources/Tasks')\n",
    "plt.plot(n,n,n,n**2,n,np.exp(n))\n",
    "plt.legend(['n','n**2','exp(n)'],loc='best');"
   ]
  },
  {
   "cell_type": "code",
   "execution_count": 5,
   "metadata": {
    "colab": {
     "base_uri": "https://localhost:8080/",
     "height": 283
    },
    "colab_type": "code",
    "executionInfo": {
     "elapsed": 6918,
     "status": "ok",
     "timestamp": 1557235986520,
     "user": {
      "displayName": "Jeffrey Kantor",
      "photoUrl": "https://lh5.googleusercontent.com/-8zK5aAW5RMQ/AAAAAAAAAAI/AAAAAAAAKB0/kssUQyz8DTQ/s64/photo.jpg",
      "userId": "09038942003589296665"
     },
     "user_tz": 240
    },
    "id": "Vq-Ana28cIng",
    "outputId": "e7e71ed1-30db-4a8b-e405-05cc6ea7e327",
    "pycharm": {},
    "slideshow": {
     "slide_type": "slide"
    }
   },
   "outputs": [
    {
     "data": {
      "image/png": "[encoded data removed]",
      "text/plain": [
       "<Figure size 432x288 with 1 Axes>"
      ]
     },
     "metadata": {
      "tags": []
     },
     "output_type": "display_data"
    }
   ],
   "source": [
    "plt.xlabel('Number of Resources/Tasks')\n",
    "plt.semilogy(n,n,n,n**2,n,np.exp(n),n,[math.factorial(i) for i in n])\n",
    "plt.legend(['n','n**2','exp(n)','n!'],loc='best');"
   ]
  },
  {
   "cell_type": "markdown",
   "metadata": {
    "colab_type": "text",
    "id": "EWAgJ_37cInj",
    "pycharm": {}
   },
   "source": [
    "### Types of Complexity\n",
    "\n",
    "$$ Combinatoric >> Exponential >> Geometric >> Linear $$\n",
    "\n",
    "Depending on the details, assignment problems can range from simple to very difficult to solve. The difficulty will depend on the exact details of the problem, the availability of specialized algorithms for a specific problem, and what features can be left out without compromising the utility of the solution."
   ]
  },
  {
   "cell_type": "markdown",
   "metadata": {
    "colab_type": "text",
    "id": "IRmHPDRycInk",
    "pycharm": {},
    "slideshow": {
     "slide_type": "slide"
    }
   },
   "source": [
    "## Formulation of a Basic Assignment Problem"
   ]
  },
  {
   "cell_type": "markdown",
   "metadata": {
    "colab_type": "text",
    "id": "eF0dOXxycInl",
    "pycharm": {}
   },
   "source": [
    "Let _x[R,T]_ be a binary variable where _x[R,T] = 1_ means resource _R_ is assigned to task _T_. "
   ]
  },
  {
   "cell_type": "markdown",
   "metadata": {
    "colab_type": "text",
    "id": "noBW93ghcInl",
    "pycharm": {},
    "slideshow": {
     "slide_type": "fragment"
    }
   },
   "source": [
    "One resource must be assigned to each task. So for all $t\\in TASKS$\n",
    "\n",
    "$$\\sum_{r \\in RESOURCES} x[R,T] = 1$$  "
   ]
  },
  {
   "cell_type": "markdown",
   "metadata": {
    "colab_type": "text",
    "id": "OzEQqcTCcInn",
    "pycharm": {},
    "slideshow": {
     "slide_type": "fragment"
    }
   },
   "source": [
    "Each resource must be assigned to one task. So for all $r\\in RESOURCES$\n",
    "\n",
    "$$\\sum_{t \\in TASKS} x[R,T] = 1$$  "
   ]
  },
  {
   "cell_type": "code",
   "execution_count": 6,
   "metadata": {
    "colab": {
     "base_uri": "https://localhost:8080/",
     "height": 34
    },
    "colab_type": "code",
    "executionInfo": {
     "elapsed": 6896,
     "status": "ok",
     "timestamp": 1557235986521,
     "user": {
      "displayName": "Jeffrey Kantor",
      "photoUrl": "https://lh5.googleusercontent.com/-8zK5aAW5RMQ/AAAAAAAAAAI/AAAAAAAAKB0/kssUQyz8DTQ/s64/photo.jpg",
      "userId": "09038942003589296665"
     },
     "user_tz": 240
    },
    "id": "O3CAXquBcIno",
    "outputId": "83c3fcfe-9a0c-4656-ed2f-9e8881d95d88",
    "pycharm": {},
    "slideshow": {
     "slide_type": "slide"
    }
   },
   "outputs": [
    {
     "name": "stdout",
     "output_type": "stream",
     "text": [
      "Overwriting Assign.mod\n"
     ]
    }
   ],
   "source": [
    "%%writefile Assign.mod\n",
    "\n",
    "set RESOURCES;\n",
    "set TASKS;\n",
    "\n",
    "param a {RESOURCES,TASKS} >= 0;\n",
    "\n",
    "var x {RESOURCES,TASKS} binary;\n",
    "\n",
    "minimize Cost: sum{r in RESOURCES, t in TASKS} a[r,t]*x[r,t];\n",
    "subject to R {r in RESOURCES}: sum {t in TASKS} x[r,t] = 1;\n",
    "subject to T {t in TASKS}: sum {r in RESOURCES} x[r,t] = 1;\n",
    "\n",
    "solve;\n",
    "\n",
    "printf \"\\n\\n\";\n",
    "for {r in RESOURCES} {\n",
    "   for {t in TASKS : x[r,t] == 1} {\n",
    "      printf \"Assign %10s   to %10s   Cost: %6.0f\\n\", r, t, a[r,t];\n",
    "   }\n",
    "}\n",
    "printf \"\\n\\n\";\n",
    "\n",
    "end;\n"
   ]
  },
  {
   "cell_type": "markdown",
   "metadata": {
    "colab_type": "text",
    "id": "bZ4rjGMBcInr",
    "pycharm": {}
   },
   "source": [
    "## Solution"
   ]
  },
  {
   "cell_type": "code",
   "execution_count": 7,
   "metadata": {
    "colab": {
     "base_uri": "https://localhost:8080/",
     "height": 833
    },
    "colab_type": "code",
    "executionInfo": {
     "elapsed": 6889,
     "status": "ok",
     "timestamp": 1557235986522,
     "user": {
      "displayName": "Jeffrey Kantor",
      "photoUrl": "https://lh5.googleusercontent.com/-8zK5aAW5RMQ/AAAAAAAAAAI/AAAAAAAAKB0/kssUQyz8DTQ/s64/photo.jpg",
      "userId": "09038942003589296665"
     },
     "user_tz": 240
    },
    "id": "2lkeYhiRcIns",
    "outputId": "a352da31-2280-4528-d546-672f732181a5",
    "pycharm": {}
   },
   "outputs": [
    {
     "name": "stdout",
     "output_type": "stream",
     "text": [
      "GLPSOL: GLPK LP/MIP Solver, v4.65\n",
      "Parameter(s) specified in the command line:\n",
      " -m Assign.mod -d /dev/stdin\n",
      "Reading model section from Assign.mod...\n",
      "Assign.mod:23: warning: final NL missing before end of file\n",
      "23 lines were read\n",
      "Reading data section from /dev/stdin...\n",
      "12 lines were read\n",
      "Generating Cost...\n",
      "Generating R...\n",
      "Generating T...\n",
      "Model has been successfully generated\n",
      "GLPK Integer Optimizer, v4.65\n",
      "11 rows, 25 columns, 75 non-zeros\n",
      "25 integer variables, all of which are binary\n",
      "Preprocessing...\n",
      "10 rows, 25 columns, 50 non-zeros\n",
      "25 integer variables, all of which are binary\n",
      "Scaling...\n",
      " A: min|aij| =  1.000e+00  max|aij| =  1.000e+00  ratio =  1.000e+00\n",
      "Problem data seem to be well scaled\n",
      "Constructing initial basis...\n",
      "Size of triangular part is 9\n",
      "Solving LP relaxation...\n",
      "GLPK Simplex Optimizer, v4.65\n",
      "10 rows, 25 columns, 50 non-zeros\n",
      "      0: obj =   1.211800000e+04 inf =   3.000e+00 (1)\n",
      "      7: obj =   8.790000000e+03 inf =   0.000e+00 (0)\n",
      "*    16: obj =   4.609000000e+03 inf =   0.000e+00 (0)\n",
      "OPTIMAL LP SOLUTION FOUND\n",
      "Integer optimization begins...\n",
      "Long-step dual simplex will be used\n",
      "+    16: mip =     not found yet >=              -inf        (1; 0)\n",
      "+    16: >>>>>   4.609000000e+03 >=   4.609000000e+03   0.0% (1; 0)\n",
      "+    16: mip =   4.609000000e+03 >=     tree is empty   0.0% (0; 1)\n",
      "INTEGER OPTIMAL SOLUTION FOUND\n",
      "Time used:   0.0 secs\n",
      "Memory used: 0.2 Mb (161972 bytes)\n",
      "\n",
      "\n",
      "Assign     Austin   to     Dallas   Cost:    196\n",
      "Assign     Boston   to  Charlotte   Cost:    837\n",
      "Assign    Chicago   to    Atlanta   Cost:    716\n",
      "Assign     Denver   to     Fresno   Cost:   1142\n",
      "Assign   Edmonton   to      Boise   Cost:   1718\n",
      "\n",
      "\n",
      "Model has been successfully processed\n"
     ]
    }
   ],
   "source": [
    "%%script glpsol -m Assign.mod -d /dev/stdin\n",
    "\n",
    "set RESOURCES := Austin Boston Chicago Denver Edmonton ;\n",
    "set TASKS := Atlanta Boise Charlotte Dallas Fresno ;\n",
    "    \n",
    "param a :   Atlanta\t Boise Charlotte Dallas Fresno :=\n",
    "Austin       921     1627    1166      196   1594\n",
    "Boston      1078     2661     837     1767   3107\n",
    "Chicago      716     1693     756      925   2140\n",
    "Denver      1400      815    1561      788   1142\n",
    "Edmonton    3764     1718    3848     3310   2835 ;\n",
    "\n",
    "end;"
   ]
  },
  {
   "cell_type": "markdown",
   "metadata": {
    "colab_type": "text",
    "id": "R4ziPSQ4cInv",
    "pycharm": {}
   },
   "source": [
    "## Solution using CVXPY"
   ]
  },
  {
   "cell_type": "code",
   "execution_count": 8,
   "metadata": {
    "colab": {
     "base_uri": "https://localhost:8080/",
     "height": 204
    },
    "colab_type": "code",
    "executionInfo": {
     "elapsed": 6883,
     "status": "ok",
     "timestamp": 1557235986523,
     "user": {
      "displayName": "Jeffrey Kantor",
      "photoUrl": "https://lh5.googleusercontent.com/-8zK5aAW5RMQ/AAAAAAAAAAI/AAAAAAAAKB0/kssUQyz8DTQ/s64/photo.jpg",
      "userId": "09038942003589296665"
     },
     "user_tz": 240
    },
    "id": "9xNBNTjvcInv",
    "outputId": "dce724ba-78ad-4afc-f88e-647bc2687f51",
    "pycharm": {}
   },
   "outputs": [
    {
     "data": {
      "text/html": [
       "<div>\n",
       "<style scoped>\n",
       "    .dataframe tbody tr th:only-of-type {\n",
       "        vertical-align: middle;\n",
       "    }\n",
       "\n",
       "    .dataframe tbody tr th {\n",
       "        vertical-align: top;\n",
       "    }\n",
       "\n",
       "    .dataframe thead th {\n",
       "        text-align: right;\n",
       "    }\n",
       "</style>\n",
       "<table border=\"1\" class=\"dataframe\">\n",
       "  <thead>\n",
       "    <tr style=\"text-align: right;\">\n",
       "      <th></th>\n",
       "      <th>Atlanta</th>\n",
       "      <th>Boise</th>\n",
       "      <th>Charlotte</th>\n",
       "      <th>Dallas</th>\n",
       "      <th>Fresno</th>\n",
       "    </tr>\n",
       "  </thead>\n",
       "  <tbody>\n",
       "    <tr>\n",
       "      <th>Austin</th>\n",
       "      <td>921</td>\n",
       "      <td>1627</td>\n",
       "      <td>1166</td>\n",
       "      <td>196</td>\n",
       "      <td>1594</td>\n",
       "    </tr>\n",
       "    <tr>\n",
       "      <th>Boston</th>\n",
       "      <td>1078</td>\n",
       "      <td>2661</td>\n",
       "      <td>837</td>\n",
       "      <td>1767</td>\n",
       "      <td>3107</td>\n",
       "    </tr>\n",
       "    <tr>\n",
       "      <th>Chicago</th>\n",
       "      <td>716</td>\n",
       "      <td>1693</td>\n",
       "      <td>756</td>\n",
       "      <td>925</td>\n",
       "      <td>2140</td>\n",
       "    </tr>\n",
       "    <tr>\n",
       "      <th>Denver</th>\n",
       "      <td>1400</td>\n",
       "      <td>815</td>\n",
       "      <td>1561</td>\n",
       "      <td>788</td>\n",
       "      <td>1142</td>\n",
       "    </tr>\n",
       "    <tr>\n",
       "      <th>Edmonton</th>\n",
       "      <td>3764</td>\n",
       "      <td>1718</td>\n",
       "      <td>3848</td>\n",
       "      <td>3310</td>\n",
       "      <td>2835</td>\n",
       "    </tr>\n",
       "  </tbody>\n",
       "</table>\n",
       "</div>"
      ],
      "text/plain": [
       "          Atlanta  Boise  Charlotte  Dallas  Fresno\n",
       "Austin        921   1627       1166     196    1594\n",
       "Boston       1078   2661        837    1767    3107\n",
       "Chicago       716   1693        756     925    2140\n",
       "Denver       1400    815       1561     788    1142\n",
       "Edmonton     3764   1718       3848    3310    2835"
      ]
     },
     "execution_count": 8,
     "metadata": {
      "tags": []
     },
     "output_type": "execute_result"
    }
   ],
   "source": [
    "import pandas as pd\n",
    "\n",
    "LOCATIONS = ['Austin','Boston','Chicago','Denver','Edmonton']\n",
    "\n",
    "distances = pd.DataFrame(index=LOCATIONS)\n",
    "distances['Atlanta'] = [921,1078,716,1400,3764]\n",
    "distances['Boise'] = [1627, 2661, 1693, 815, 1718]\n",
    "distances['Charlotte'] = [1166, 837, 756, 1561, 3848]\n",
    "distances['Dallas'] = [196, 1767, 925, 788, 3310]\n",
    "distances['Fresno'] = [1594, 3107, 2140, 1142, 2835]\n",
    "\n",
    "distances"
   ]
  },
  {
   "cell_type": "code",
   "execution_count": 9,
   "metadata": {
    "colab": {
     "base_uri": "https://localhost:8080/",
     "height": 119
    },
    "colab_type": "code",
    "executionInfo": {
     "elapsed": 7057,
     "status": "ok",
     "timestamp": 1557235986704,
     "user": {
      "displayName": "Jeffrey Kantor",
      "photoUrl": "https://lh5.googleusercontent.com/-8zK5aAW5RMQ/AAAAAAAAAAI/AAAAAAAAKB0/kssUQyz8DTQ/s64/photo.jpg",
      "userId": "09038942003589296665"
     },
     "user_tz": 240
    },
    "id": "P7HgxT5tcIny",
    "outputId": "df80cdde-2130-420a-edc1-2d1b33ffcba7",
    "pycharm": {}
   },
   "outputs": [
    {
     "name": "stdout",
     "output_type": "stream",
     "text": [
      "optimal\n",
      "Assign Austin     to Dallas     Cost:   196\n",
      "Assign Boston     to Charlotte  Cost:   837\n",
      "Assign Chicago    to Atlanta    Cost:   716\n",
      "Assign Denver     to Fresno     Cost:  1142\n",
      "Assign Edmonton   to Boise      Cost:  1718\n"
     ]
    }
   ],
   "source": [
    "import cvxpy as cvx\n",
    "import numpy as np\n",
    "\n",
    "RESOURCES = distances.index\n",
    "TASKS = distances.columns\n",
    "\n",
    "x = {r:{t:cvx.Variable(boolean=True) for t in TASKS} for r in RESOURCES}\n",
    "\n",
    "R = [sum([x[r][t] for t in TASKS]) == 1 for r in RESOURCES]\n",
    "T = [sum([x[r][t] for r in RESOURCES]) == 1 for t in TASKS]\n",
    "constraints = R + T\n",
    "\n",
    "cost = sum([distances.loc[r][t]*x[r][t] for t in TASKS for r in RESOURCES])\n",
    "prob = cvx.Problem(cvx.Minimize(cost), constraints)\n",
    "\n",
    "prob.solve()\n",
    "\n",
    "print(prob.status)\n",
    "\n",
    "for r in RESOURCES:\n",
    "    for t in TASKS:\n",
    "        if int(np.round(x[r][t].value)):\n",
    "            print(\"Assign {0:10s} to {1:10s} Cost: {2:5.0f}\".format(r,t,distances.loc[r,t]))\n",
    "    "
   ]
  },
  {
   "cell_type": "markdown",
   "metadata": {
    "colab_type": "text",
    "id": "CaX2Z0trcIn1",
    "pycharm": {},
    "slideshow": {
     "slide_type": "slide"
    }
   },
   "source": [
    "## Example"
   ]
  },
  {
   "cell_type": "markdown",
   "metadata": {
    "colab_type": "text",
    "id": "nd-F7lDHcIn2",
    "pycharm": {}
   },
   "source": [
    "A foreman has ﬁve workers and ﬁve jobs to complete. The\n",
    "time in hours each worker needs to complete each job is shown in the following\n",
    "table.\n",
    "\n",
    "| Resource\\Task | Job 1 | Job 2 | Job 3 | Job 4 | Job 5 |\n",
    "| :-----------: | :---: | :---: | :---: | :---: | :---: |\n",
    "| Worker 1      | 3     | 4     | 8     | 7     | 8     |\n",
    "| Worker 2      | 2     | 5     | 3     | 2     | 6     |\n",
    "| Worker 3      | 7     | 9     | 1     | 8     | 3     |\n",
    "| Worker 4      | 5     | 3     | 4     | 6     | 6     |\n",
    "| Worker 5      | 8     | 9     | 7     | 5     | 8     |"
   ]
  },
  {
   "cell_type": "markdown",
   "metadata": {
    "colab_type": "text",
    "id": "Nmid6M64cIn2",
    "pycharm": {},
    "slideshow": {
     "slide_type": "slide"
    }
   },
   "source": [
    "### What is the minimum time solution if one worker is assigned to each job?"
   ]
  },
  {
   "cell_type": "code",
   "execution_count": 10,
   "metadata": {
    "colab": {
     "base_uri": "https://localhost:8080/",
     "height": 833
    },
    "colab_type": "code",
    "executionInfo": {
     "elapsed": 7038,
     "status": "ok",
     "timestamp": 1557235986705,
     "user": {
      "displayName": "Jeffrey Kantor",
      "photoUrl": "https://lh5.googleusercontent.com/-8zK5aAW5RMQ/AAAAAAAAAAI/AAAAAAAAKB0/kssUQyz8DTQ/s64/photo.jpg",
      "userId": "09038942003589296665"
     },
     "user_tz": 240
    },
    "id": "XRAXJpmIcIn3",
    "outputId": "aca33eb8-9c09-4961-fa14-accf4128559b",
    "pycharm": {},
    "slideshow": {
     "slide_type": "fragment"
    }
   },
   "outputs": [
    {
     "name": "stdout",
     "output_type": "stream",
     "text": [
      "GLPSOL: GLPK LP/MIP Solver, v4.65\n",
      "Parameter(s) specified in the command line:\n",
      " -m Assign.mod -d /dev/stdin\n",
      "Reading model section from Assign.mod...\n",
      "Assign.mod:23: warning: final NL missing before end of file\n",
      "23 lines were read\n",
      "Reading data section from /dev/stdin...\n",
      "12 lines were read\n",
      "Generating Cost...\n",
      "Generating R...\n",
      "Generating T...\n",
      "Model has been successfully generated\n",
      "GLPK Integer Optimizer, v4.65\n",
      "11 rows, 25 columns, 75 non-zeros\n",
      "25 integer variables, all of which are binary\n",
      "Preprocessing...\n",
      "10 rows, 25 columns, 50 non-zeros\n",
      "25 integer variables, all of which are binary\n",
      "Scaling...\n",
      " A: min|aij| =  1.000e+00  max|aij| =  1.000e+00  ratio =  1.000e+00\n",
      "Problem data seem to be well scaled\n",
      "Constructing initial basis...\n",
      "Size of triangular part is 9\n",
      "Solving LP relaxation...\n",
      "GLPK Simplex Optimizer, v4.65\n",
      "10 rows, 25 columns, 50 non-zeros\n",
      "      0: obj =   2.800000000e+01 inf =   3.000e+00 (1)\n",
      "      7: obj =   2.000000000e+01 inf =   0.000e+00 (0)\n",
      "*    12: obj =   1.700000000e+01 inf =   0.000e+00 (0)\n",
      "OPTIMAL LP SOLUTION FOUND\n",
      "Integer optimization begins...\n",
      "Long-step dual simplex will be used\n",
      "+    12: mip =     not found yet >=              -inf        (1; 0)\n",
      "+    12: >>>>>   1.700000000e+01 >=   1.700000000e+01   0.0% (1; 0)\n",
      "+    12: mip =   1.700000000e+01 >=     tree is empty   0.0% (0; 1)\n",
      "INTEGER OPTIMAL SOLUTION FOUND\n",
      "Time used:   0.0 secs\n",
      "Memory used: 0.2 Mb (161972 bytes)\n",
      "\n",
      "\n",
      "Assign   Worker_1   to      Job_1   Cost:      3\n",
      "Assign   Worker_2   to      Job_4   Cost:      2\n",
      "Assign   Worker_3   to      Job_3   Cost:      1\n",
      "Assign   Worker_4   to      Job_2   Cost:      3\n",
      "Assign   Worker_5   to      Job_5   Cost:      8\n",
      "\n",
      "\n",
      "Model has been successfully processed\n"
     ]
    }
   ],
   "source": [
    "%%script glpsol -m Assign.mod -d /dev/stdin\n",
    "\n",
    "set RESOURCES := Worker_1 Worker_2 Worker_3 Worker_4 Worker_5 ;\n",
    "set TASKS := Job_1 Job_2 Job_3 Job_4 Job_5 ;\n",
    "    \n",
    "param a : Job_1\tJob_2 Job_3\tJob_4 Job_5 :=\n",
    "Worker_1\t3\t4\t8\t7\t8\n",
    "Worker_2\t2\t5\t3\t2\t6\n",
    "Worker_3\t7\t9\t1\t8\t3\n",
    "Worker_4\t5\t3\t4\t6\t6\n",
    "Worker_5\t8\t9\t7\t5\t8 ;\n",
    "\n",
    "end;"
   ]
  },
  {
   "cell_type": "markdown",
   "metadata": {
    "colab_type": "text",
    "id": "1467PY69cIn6",
    "pycharm": {},
    "slideshow": {
     "slide_type": "slide"
    }
   },
   "source": [
    "### What is the minimum time solution if workers can be assigned multiple times?"
   ]
  },
  {
   "cell_type": "code",
   "execution_count": 11,
   "metadata": {
    "colab": {
     "base_uri": "https://localhost:8080/",
     "height": 765
    },
    "colab_type": "code",
    "executionInfo": {
     "elapsed": 7187,
     "status": "ok",
     "timestamp": 1557235986863,
     "user": {
      "displayName": "Jeffrey Kantor",
      "photoUrl": "https://lh5.googleusercontent.com/-8zK5aAW5RMQ/AAAAAAAAAAI/AAAAAAAAKB0/kssUQyz8DTQ/s64/photo.jpg",
      "userId": "09038942003589296665"
     },
     "user_tz": 240
    },
    "id": "j4WR07q0cIn8",
    "outputId": "180cf16a-875f-4270-b05b-0105830c92ae",
    "pycharm": {},
    "slideshow": {
     "slide_type": "fragment"
    }
   },
   "outputs": [
    {
     "name": "stdout",
     "output_type": "stream",
     "text": [
      "GLPSOL: GLPK LP/MIP Solver, v4.65\n",
      "Parameter(s) specified in the command line:\n",
      " -m /dev/stdin\n",
      "Reading model section from /dev/stdin...\n",
      "Reading data section from /dev/stdin...\n",
      "35 lines were read\n",
      "Generating Cost...\n",
      "Generating T...\n",
      "Model has been successfully generated\n",
      "GLPK Integer Optimizer, v4.65\n",
      "6 rows, 25 columns, 50 non-zeros\n",
      "25 integer variables, all of which are binary\n",
      "Preprocessing...\n",
      "5 rows, 25 columns, 25 non-zeros\n",
      "25 integer variables, all of which are binary\n",
      "Scaling...\n",
      " A: min|aij| =  1.000e+00  max|aij| =  1.000e+00  ratio =  1.000e+00\n",
      "Problem data seem to be well scaled\n",
      "Constructing initial basis...\n",
      "Size of triangular part is 5\n",
      "Solving LP relaxation...\n",
      "GLPK Simplex Optimizer, v4.65\n",
      "5 rows, 25 columns, 25 non-zeros\n",
      "*     0: obj =   3.700000000e+01 inf =   0.000e+00 (4)\n",
      "*     3: obj =   4.100000000e+01 inf =   0.000e+00 (0)\n",
      "OPTIMAL LP SOLUTION FOUND\n",
      "Integer optimization begins...\n",
      "Long-step dual simplex will be used\n",
      "+     3: mip =     not found yet <=              +inf        (1; 0)\n",
      "+     3: >>>>>   4.100000000e+01 <=   4.100000000e+01   0.0% (1; 0)\n",
      "+     3: mip =   4.100000000e+01 <=     tree is empty   0.0% (0; 1)\n",
      "INTEGER OPTIMAL SOLUTION FOUND\n",
      "Time used:   0.0 secs\n",
      "Memory used: 0.1 Mb (151392 bytes)\n",
      "\n",
      "\n",
      "Assign   Worker_1   to      Job_3   Cost:      8\n",
      "Assign   Worker_3   to      Job_4   Cost:      8\n",
      "Assign   Worker_5   to      Job_1   Cost:      8\n",
      "Assign   Worker_5   to      Job_2   Cost:      9\n",
      "Assign   Worker_5   to      Job_5   Cost:      8\n",
      "\n",
      "\n",
      "Model has been successfully processed\n"
     ]
    }
   ],
   "source": [
    "%%script glpsol -m /dev/stdin\n",
    "\n",
    "set RESOURCES;\n",
    "set TASKS;\n",
    "\n",
    "param a {RESOURCES,TASKS} >= 0;\n",
    "\n",
    "var x {RESOURCES,TASKS} binary;\n",
    "\n",
    "maximize Cost: sum{r in RESOURCES, t in TASKS} a[r,t]*x[r,t];\n",
    "#subject to R {r in RESOURCES}: sum {t in TASKS} x[r,t] = 1;\n",
    "subject to T {t in TASKS}: sum {r in RESOURCES} x[r,t] = 1;\n",
    "\n",
    "solve;\n",
    "\n",
    "printf \"\\n\\n\";\n",
    "for {r in RESOURCES} {\n",
    "   for {t in TASKS : x[r,t] == 1} {\n",
    "      printf \"Assign %10s   to %10s   Cost: %6.0f\\n\", r, t, a[r,t];\n",
    "   }\n",
    "}\n",
    "printf \"\\n\\n\";\n",
    "\n",
    "data;\n",
    "\n",
    "set RESOURCES := Worker_1 Worker_2 Worker_3 Worker_4 Worker_5 ;\n",
    "set TASKS := Job_1 Job_2 Job_3 Job_4 Job_5 ;\n",
    "    \n",
    "param a : Job_1\tJob_2 Job_3\tJob_4 Job_5 :=\n",
    "Worker_1\t3\t4\t8\t7\t8\n",
    "Worker_2\t2\t5\t3\t2\t6\n",
    "Worker_3\t7\t9\t1\t8\t3\n",
    "Worker_4\t5\t3\t4\t6\t6\n",
    "Worker_5\t8\t9\t7\t5\t8 ;\n",
    "\n",
    "end;"
   ]
  },
  {
   "cell_type": "markdown",
   "metadata": {
    "colab_type": "text",
    "id": "FDLw7s9QcIoB",
    "pycharm": {}
   },
   "source": [
    "### Exercise\n",
    "\n",
    "Suppose we want to assign just two workers. What is the minimum time solution using just two workers?"
   ]
  },
  {
   "cell_type": "markdown",
   "metadata": {
    "colab_type": "text",
    "id": "WLYe3NIdcIoC",
    "pycharm": {}
   },
   "source": [
    "## Knapsack Problems"
   ]
  },
  {
   "cell_type": "markdown",
   "metadata": {
    "colab_type": "text",
    "id": "p3oMy30CcIoC",
    "pycharm": {}
   },
   "source": [
    "### Typical Applications\n",
    "\n",
    "* Resource allocations with financial constraints\n",
    "* Construction and scoring of a heterogenous test\n",
    "* Selection of Capital Investments"
   ]
  },
  {
   "cell_type": "markdown",
   "metadata": {
    "colab_type": "text",
    "id": "-H-nGMTKcIoD",
    "pycharm": {}
   },
   "source": [
    "### Example\n",
    "\n",
    "Need to complete a set of jobs\n",
    "\n",
    "\n",
    "|       | A | B | C | D  | E  | F | G |\n",
    "|:-----:|:-:|:-:|:-:|:--:|:--:|:-:|:-:|\n",
    "| Value | 7 | 9 | 5 | 12 | 14 | 6 | 12 |\n",
    "| Time  | 3 | 4 | 2 | 6  | 7  | 3 | 5 |\n",
    "\n"
   ]
  },
  {
   "cell_type": "code",
   "execution_count": 12,
   "metadata": {
    "colab": {
     "base_uri": "https://localhost:8080/",
     "height": 748
    },
    "colab_type": "code",
    "executionInfo": {
     "elapsed": 7181,
     "status": "ok",
     "timestamp": 1557235986865,
     "user": {
      "displayName": "Jeffrey Kantor",
      "photoUrl": "https://lh5.googleusercontent.com/-8zK5aAW5RMQ/AAAAAAAAAAI/AAAAAAAAKB0/kssUQyz8DTQ/s64/photo.jpg",
      "userId": "09038942003589296665"
     },
     "user_tz": 240
    },
    "id": "hRBpXhyqcIoE",
    "outputId": "840c9cbe-50bf-49a1-d942-c57de154bb3b",
    "pycharm": {}
   },
   "outputs": [
    {
     "name": "stdout",
     "output_type": "stream",
     "text": [
      "GLPSOL: GLPK LP/MIP Solver, v4.65\n",
      "Parameter(s) specified in the command line:\n",
      " -m /dev/stdin\n",
      "Reading model section from /dev/stdin...\n",
      "Reading data section from /dev/stdin...\n",
      "29 lines were read\n",
      "Generating Obj...\n",
      "Generating C...\n",
      "Model has been successfully generated\n",
      "GLPK Integer Optimizer, v4.65\n",
      "2 rows, 7 columns, 14 non-zeros\n",
      "7 integer variables, all of which are binary\n",
      "Preprocessing...\n",
      "1 row, 7 columns, 7 non-zeros\n",
      "7 integer variables, all of which are binary\n",
      "Scaling...\n",
      " A: min|aij| =  2.000e+00  max|aij| =  7.000e+00  ratio =  3.500e+00\n",
      "Problem data seem to be well scaled\n",
      "Constructing initial basis...\n",
      "Size of triangular part is 1\n",
      "Solving LP relaxation...\n",
      "GLPK Simplex Optimizer, v4.65\n",
      "1 row, 7 columns, 7 non-zeros\n",
      "*     0: obj =  -0.000000000e+00 inf =   0.000e+00 (7)\n",
      "*     7: obj =   2.850000000e+01 inf =   0.000e+00 (0)\n",
      "OPTIMAL LP SOLUTION FOUND\n",
      "Integer optimization begins...\n",
      "Long-step dual simplex will be used\n",
      "+     7: mip =     not found yet <=              +inf        (1; 0)\n",
      "Solution found by heuristic: 26\n",
      "+     9: >>>>>   2.800000000e+01 <=   2.800000000e+01   0.0% (4; 0)\n",
      "+     9: mip =   2.800000000e+01 <=     tree is empty   0.0% (0; 7)\n",
      "INTEGER OPTIMAL SOLUTION FOUND\n",
      "Time used:   0.0 secs\n",
      "Memory used: 0.1 Mb (148844 bytes)\n",
      "  A   1\n",
      "  B   1\n",
      "  C   0\n",
      "  D   0\n",
      "  E   0\n",
      "  F   0\n",
      "  G   1\n",
      "Model has been successfully processed\n"
     ]
    }
   ],
   "source": [
    "%%script glpsol -m /dev/stdin\n",
    "\n",
    "set ITEMS;\n",
    "\n",
    "param value{ITEMS};\n",
    "param cost{ITEMS};\n",
    "\n",
    "var x {ITEMS} binary;\n",
    "\n",
    "maximize Obj: sum{i in ITEMS} value[i]*x[i];\n",
    "subject to C: sum{i in ITEMS} cost[i]*x[i] <= 12 ;\n",
    "\n",
    "solve;\n",
    "\n",
    "for {i in ITEMS}{\n",
    "    printf \"%3s  %2d\\n\",i,x[i];\n",
    "}\n",
    "\n",
    "data;\n",
    "\n",
    "param : ITEMS : value cost :=\n",
    " A   7 3\n",
    " B   9 4\n",
    " C   5 2\n",
    " D  12 6\n",
    " E  14 7\n",
    " F   6 3\n",
    " G  12 5 ;\n",
    "            \n",
    "end;\n"
   ]
  },
  {
   "cell_type": "markdown",
   "metadata": {
    "colab_type": "text",
    "id": "QfcR2Kg3cIoG",
    "pycharm": {}
   },
   "source": [
    "### Exercise\n",
    "\n",
    "| Investment | Location | Cost (millions) | Expected Profit |\n",
    "| :--------: | :------: | :-------------: | :-------------: |\n",
    "| 1 | Europe   | 10 | 1.0 |\n",
    "| 2 | Europe | 8 | 0.9 |\n",
    "| 3 | Europe | 8 | 0.9 |\n",
    "| 4 | South America | 16 | 2.0 |\n",
    "| 5 | South America | 12 | 1.4 |\n",
    "| 6 | Africa | 4 | 0.2 |\n",
    "| 7 | Africa | 6 | 0.5 |\n",
    "| 8 | Africa | 16 | 2.1 |\n",
    "\n",
    "The objective is to maximize the total expected profits subject to:\n",
    "\n",
    "* Contractual commitments require at least 2 investments in Europe\n",
    "* There must be one South American Investment\n",
    "* No more than one African investment\n",
    "* Total cost must be less than $40 million\n",
    "\n",
    "\n",
    "\n"
   ]
  },
  {
   "cell_type": "code",
   "execution_count": 0,
   "metadata": {
    "colab": {},
    "colab_type": "code",
    "id": "ga0bDdPIcIoG",
    "pycharm": {}
   },
   "outputs": [],
   "source": []
  },
  {
   "cell_type": "markdown",
   "metadata": {
    "colab_type": "text",
    "id": "2eHByN7YcIoI",
    "pycharm": {}
   },
   "source": [
    "<!--NAVIGATION-->\n",
    "< [Economic Order Quantity](http://nbviewer.jupyter.org/github/jckantor/CBE40455/blob/master/notebooks/05.01-Economic-Order-Quantity.ipynb) | [Contents](toc.ipynb) | [Vehicle Routing](http://nbviewer.jupyter.org/github/jckantor/CBE40455/blob/master/notebooks/05.03-Vehicle-Routing.ipynb) ><p><a href=\"https://colab.research.google.com/github/jckantor/CBE40455/blob/master/notebooks/05.02-Assignment-Problems.ipynb\"><img align=\"left\" src=\"https://colab.research.google.com/assets/colab-badge.svg\" alt=\"Open in Colab\" title=\"Open in Google Colaboratory\"></a><p><a href=\"https://raw.githubusercontent.com/jckantor/CBE40455/master/notebooks/05.02-Assignment-Problems.ipynb\"><img align=\"left\" src=\"https://img.shields.io/badge/Github-Download-blue.svg\" alt=\"Download\" title=\"Download Notebook\"></a>"
   ]
  }
 ],
 "metadata": {
  "colab": {
   "collapsed_sections": [],
   "name": "05.02-Assignment-Problems.ipynb",
   "provenance": [],
   "version": "0.3.2"
  },
  "kernelspec": {
   "display_name": "Python [default]",
   "language": "python",
   "name": "python3"
  },
  "language_info": {
   "codemirror_mode": {
    "name": "ipython",
    "version": 3
   },
   "file_extension": ".py",
   "mimetype": "text/x-python",
   "name": "python",
   "nbconvert_exporter": "python",
   "pygments_lexer": "ipython3",
   "version": "3.5.2"
  }
 },
 "nbformat": 4,
 "nbformat_minor": 0
}
