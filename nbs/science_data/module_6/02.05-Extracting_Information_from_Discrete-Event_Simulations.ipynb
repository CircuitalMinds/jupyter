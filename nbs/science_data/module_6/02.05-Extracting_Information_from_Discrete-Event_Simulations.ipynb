{
 "cells": [
  {
   "cell_type": "markdown",
   "metadata": {},
   "source": [
    "<!--NOTEBOOK_HEADER-->\n",
    "*This notebook contains course material from [CBE40455](https://jckantor.github.io/CBE40455) by\n",
    "Jeffrey Kantor (jeff at nd.edu); the content is available [on Github](https://github.com/jckantor/CBE40455.git).\n",
    "The text is released under the [CC-BY-NC-ND-4.0 license](https://creativecommons.org/licenses/by-nc-nd/4.0/legalcode),\n",
    "and code is released under the [MIT license](https://opensource.org/licenses/MIT).*"
   ]
  },
  {
   "cell_type": "markdown",
   "metadata": {},
   "source": [
    "<!--NAVIGATION-->\n",
    "< [Model Development in SimPy](http://nbviewer.jupyter.org/github/jckantor/CBE40455/blob/master/notebooks/02.04-Discrete-Event-Simulation-of-a-Batch-Process.ipynb) | [Contents](toc.ipynb) | [Spankys Pizzeria](http://nbviewer.jupyter.org/github/jckantor/CBE40455/blob/master/notebooks/02.06-Spankys-Pizzeria.ipynb) ><p><a href=\"https://colab.research.google.com/github/jckantor/CBE40455/blob/master/notebooks/02.05-Extracting_Information_from_Discrete-Event_Simulations.ipynb\"><img align=\"left\" src=\"https://colab.research.google.com/assets/colab-badge.svg\" alt=\"Open in Colab\" title=\"Open in Google Colaboratory\"></a><p><a href=\"https://raw.githubusercontent.com/jckantor/CBE40455/master/notebooks/02.05-Extracting_Information_from_Discrete-Event_Simulations.ipynb\"><img align=\"left\" src=\"https://img.shields.io/badge/Github-Download-blue.svg\" alt=\"Download\" title=\"Download Notebook\"></a>"
   ]
  },
  {
   "cell_type": "markdown",
   "metadata": {
    "colab_type": "text",
    "id": "2r_RYDPenV71"
   },
   "source": [
    "# Extracting Information from Discrete-Event Simulations"
   ]
  },
  {
   "cell_type": "markdown",
   "metadata": {
    "colab_type": "text",
    "id": "FuaQi5N3vV7e"
   },
   "source": [
    "## Installations"
   ]
  },
  {
   "cell_type": "code",
   "execution_count": 1,
   "metadata": {
    "colab": {
     "base_uri": "https://localhost:8080/",
     "height": 105
    },
    "colab_type": "code",
    "executionInfo": {
     "elapsed": 4545,
     "status": "ok",
     "timestamp": 1567858406771,
     "user": {
      "displayName": "Jeffrey Kantor",
      "photoUrl": "https://lh3.googleusercontent.com/a-/AAuE7mAnl92hB5egoXgR-yAmEJN-i3LA_Jwcr3-0236SZg=s64",
      "userId": "09038942003589296665"
     },
     "user_tz": 240
    },
    "id": "0bf3WIeM-nuJ",
    "outputId": "7fe61a45-0791-4d50-d338-579b13edae5e"
   },
   "outputs": [
    {
     "name": "stdout",
     "output_type": "stream",
     "text": [
      "Collecting simpy\n",
      "  Downloading https://files.pythonhosted.org/packages/5a/64/8f0fc71400d41b6c2c6443d333a1cade458d23d4945ccda700c810ff6aae/simpy-3.0.11-py2.py3-none-any.whl\n",
      "Installing collected packages: simpy\n",
      "Successfully installed simpy-3.0.11\n"
     ]
    }
   ],
   "source": [
    "!pip install simpy"
   ]
  },
  {
   "cell_type": "code",
   "execution_count": 0,
   "metadata": {
    "colab": {},
    "colab_type": "code",
    "id": "yuRIhyPe-qVo"
   },
   "outputs": [],
   "source": [
    "%matplotlib inline\n",
    "\n",
    "import matplotlib.pyplot as plt\n",
    "import pandas as pd\n",
    "import random\n",
    "import simpy"
   ]
  },
  {
   "cell_type": "markdown",
   "metadata": {
    "colab_type": "text",
    "id": "Qg4BsNgga-TU"
   },
   "source": [
    "## Gathering Data\n",
    "\n",
    "Discrete-event simulations generate a large amount of data that must be processed to make engineering decisions. Complex simulations can generate many millions of events. How do can we log that data, then distill that data to find insight and reach conclusions?\n",
    "\n",
    "In this notebook we'll use a two step approach. The first is to build a simple tool, which we will call an Historian, to enable basic data logging. After the simualation is run and the data generated, we will use the Python Pandas library to process the data for insights."
   ]
  },
  {
   "cell_type": "markdown",
   "metadata": {
    "colab_type": "text",
    "id": "Pm8m5LHWvb6-"
   },
   "source": [
    "### Why do we need to gather data?\n",
    "\n",
    "The following cell presents a model of a simple batch process the produces product in response to customer orders. The purpose of the simulation is to determine if the three batch reactors and one semi-continous still are sufficient to meet customer demand. No data logging or analysis code has been included as this stage, so running the simulation produces no results."
   ]
  },
  {
   "cell_type": "code",
   "execution_count": 0,
   "metadata": {
    "colab": {},
    "colab_type": "code",
    "id": "_kRBSrEKdGFd"
   },
   "outputs": [],
   "source": [
    "# create the simulation environment\n",
    "env = simpy.Environment()\n",
    "\n",
    "# create shared resources\n",
    "order_queue = simpy.Store(env)\n",
    "storage = simpy.Container(env, init=0, capacity=1)\n",
    "storage_queue = simpy.Store(env, capacity=1)\n",
    "\n",
    "def order_generator():\n",
    "  orderID = 1\n",
    "  while orderID <= 100:\n",
    "    yield env.timeout(random.uniform(115-30, 115+30))\n",
    "    yield order_queue.put(orderID)\n",
    "    orderID += 1\n",
    "    \n",
    "def batch_reactor(name):\n",
    "  while(True):\n",
    "    orderID = yield order_queue.get()\n",
    "    yield env.timeout(random.uniform(335-60, 335+60))\n",
    "    yield storage.put(1)\n",
    "    yield storage_queue.put(orderID)\n",
    "    \n",
    "def batch_still():\n",
    "  while True:\n",
    "    orderID = yield storage_queue.get()\n",
    "    yield env.timeout(random.uniform(110-25, 110+25))\n",
    "    yield storage.get(1)\n",
    "\n",
    "env.process(order_generator())\n",
    "env.process(batch_reactor(\"A\"))\n",
    "env.process(batch_reactor(\"B\"))\n",
    "env.process(batch_reactor(\"C\"))\n",
    "env.process(batch_still())\n",
    "\n",
    "env.run()"
   ]
  },
  {
   "cell_type": "markdown",
   "metadata": {
    "colab_type": "text",
    "id": "faGwsuW4j2jz"
   },
   "source": [
    "### What data to log?\n",
    "\n",
    "We want to 'instrument' the simulation to track what happens to the objects in the model. For example, tracking events associated with individual customer orders would allow us to estimate the time necessary to process each order, and the average time in queues. From the perspective of a plant manager, we would like to record events associated with the allocation of equipment, and the amount of work in progess.\n",
    "\n",
    "Each event, therefore, will be tagged with an object identifier labeling the object being tracking, and the name of the event. A typical tag might read ('Order 125', 'Order placed'). \n",
    "\n",
    "The data to be logged depends on the application but would typically include the time when the event occured and associated data such as the length of a relevant queue, the state of a piece of equipment."
   ]
  },
  {
   "cell_type": "markdown",
   "metadata": {
    "colab_type": "text",
    "id": "ZrQCvhwedHHi"
   },
   "source": [
    "### What should the historian do?\n",
    "\n",
    "The basic features of an Historian class include:\n",
    "\n",
    "* Log relevant simulation data by inserting simple commands within our Simpy code. The command would tag the data with an object identifier and event label.\n",
    "* Specify the data to be logged without needing to edit every data logging command\n",
    "* Produce a simple data stucture amenable to subsequent analysis with the Pandas library\n",
    "* The implementation should be independent of the particular simulation model."
   ]
  },
  {
   "cell_type": "markdown",
   "metadata": {
    "colab_type": "text",
    "id": "ADV5dubjvl6i"
   },
   "source": [
    "## Implementation of an Historian Class"
   ]
  },
  {
   "cell_type": "code",
   "execution_count": 0,
   "metadata": {
    "colab": {},
    "colab_type": "code",
    "id": "LCfnd1wrIaUC"
   },
   "outputs": [],
   "source": [
    "class Historian():\n",
    "  \"\"\"\n",
    "  A simple historian class for logging simulation data.\n",
    "  \n",
    "  Args: \n",
    "    item_id (str): a name for the identifier of the tracked objects\n",
    "    data_callbacks (dict): a dictionary of name:function pairs where name \n",
    "      is a string label for the data element being recorded, and the function\n",
    "      returns the current value for the data element.\n",
    "  \"\"\"\n",
    "  \n",
    "  def __init__(self, item_id, data_callbacks = {'time':lambda: env.now}):\n",
    "    self.item_id = item_id\n",
    "    self.data_callbacks = data_callbacks\n",
    "    self.log = []\n",
    "  \n",
    "  def write_log(self, item_id, event):\n",
    "    \"\"\"Adds a record to the data log tagged with object ID and event label.\"\"\"\n",
    "    data_record = [item_id, event]\n",
    "    data_record.extend([fcn() for fcn in self.data_callbacks.values()])\n",
    "    self.log.append(data_record)\n",
    "    \n",
    "  def data(self, names=[]):\n",
    "    \"\"\"Returns a Pandas dataframe indexed by object.\n",
    "    \n",
    "    Args:\n",
    "      names (list): A list of data labels.\n",
    "      \n",
    "    Returns:\n",
    "      Pandas dataframe indexed by identifiers of the objects being tracked. \n",
    "      The columns are a multiindex by dataname, eventname pairs.\n",
    "    \"\"\"\n",
    "    names = names if names else self.data_callbacks.keys()\n",
    "    columns = [self.item_id, 'event']\n",
    "    columns.extend(self.data_callbacks.keys())\n",
    "    df = pd.DataFrame(self.log, columns=columns).set_index(self.item_id)\n",
    "    return df.pivot(columns='event', values=names)\n",
    "  \n",
    "  def plot(self, names=[]):\n",
    "    names = names if names else self.data_callbacks.keys()\n",
    "    data = self.data(names)\n",
    "    n = 1\n",
    "    for name in names:\n",
    "      ax = plt.subplot(len(names), 1, n)\n",
    "      data[name].plot(ax=ax, title=name)\n",
    "      plt.legend(loc='center left', bbox_to_anchor=(1.0, 0.5))\n",
    "      n += 1\n",
    "    plt.tight_layout()"
   ]
  },
  {
   "cell_type": "markdown",
   "metadata": {
    "colab_type": "text",
    "id": "aQRL1UozJCRz"
   },
   "source": [
    "## Using the Historian Class"
   ]
  },
  {
   "cell_type": "markdown",
   "metadata": {
    "colab_type": "text",
    "id": "-E9Q9wFpdaVQ"
   },
   "source": [
    "### Adding `write_log` statements to the simulation"
   ]
  },
  {
   "cell_type": "code",
   "execution_count": 0,
   "metadata": {
    "colab": {},
    "colab_type": "code",
    "id": "uY8bGItG-smL"
   },
   "outputs": [],
   "source": [
    "# create the simulation environment\n",
    "env = simpy.Environment()\n",
    "\n",
    "# create shared resources\n",
    "order_queue = simpy.Store(env)\n",
    "storage = simpy.Container(env, init=0, capacity=1)\n",
    "storage_queue = simpy.Store(env, capacity=1)\n",
    "\n",
    "# create historian\n",
    "data = {\n",
    "    'time': lambda: env.now,\n",
    "    'order_queue': lambda: len(order_queue.items)\n",
    "}\n",
    "h = Historian('orderID', data)\n",
    "\n",
    "def order_generator():\n",
    "  orderID = 1\n",
    "  while orderID <= 100:\n",
    "    yield env.timeout(random.uniform(115-30, 115+30))\n",
    "    yield order_queue.put(orderID)\n",
    "    h.write_log(orderID, \"order placed\")\n",
    "    orderID += 1\n",
    "    \n",
    "def batch_reactor(name):\n",
    "  while(True):\n",
    "    orderID = yield order_queue.get()\n",
    "    h.write_log(orderID, \"reaction begins\")\n",
    "    yield env.timeout(random.uniform(335-60, 335+60))\n",
    "    h.write_log(orderID, \"reaction ends\")\n",
    "    yield storage.put(1)\n",
    "    yield storage_queue.put(orderID)\n",
    "    h.write_log(orderID, \"reactor transfer\")\n",
    "    \n",
    "def batch_still():\n",
    "  while True:\n",
    "    orderID = yield storage_queue.get()\n",
    "    h.write_log(orderID, \"still begins\")\n",
    "    yield env.timeout(random.uniform(110-25, 110+25))\n",
    "    yield storage.get(1)\n",
    "    h.write_log(orderID, \"still ends\")\n",
    "\n",
    "env.process(order_generator())\n",
    "env.process(batch_reactor(\"A\"))\n",
    "env.process(batch_reactor(\"B\"))\n",
    "env.process(batch_reactor(\"C\"))\n",
    "env.process(batch_still())\n",
    "\n",
    "env.run()"
   ]
  },
  {
   "cell_type": "markdown",
   "metadata": {
    "colab_type": "text",
    "id": "i3SV80vfAF8o"
   },
   "source": [
    "### Accessing simulation data"
   ]
  },
  {
   "cell_type": "markdown",
   "metadata": {
    "colab_type": "text",
    "id": "T5LVbv89KWXX"
   },
   "source": [
    "#### Accessing data using `data` method"
   ]
  },
  {
   "cell_type": "code",
   "execution_count": 86,
   "metadata": {
    "colab": {
     "base_uri": "https://localhost:8080/",
     "height": 303
    },
    "colab_type": "code",
    "executionInfo": {
     "elapsed": 553,
     "status": "ok",
     "timestamp": 1567868981720,
     "user": {
      "displayName": "Jeffrey Kantor",
      "photoUrl": "https://lh3.googleusercontent.com/a-/AAuE7mAnl92hB5egoXgR-yAmEJN-i3LA_Jwcr3-0236SZg=s64",
      "userId": "09038942003589296665"
     },
     "user_tz": 240
    },
    "id": "LzU8Icbc0hnM",
    "outputId": "a002f929-52bb-47a3-fa1a-51d8a2a32723"
   },
   "outputs": [
    {
     "data": {
      "text/html": [
       "<div>\n",
       "<style scoped>\n",
       "    .dataframe tbody tr th:only-of-type {\n",
       "        vertical-align: middle;\n",
       "    }\n",
       "\n",
       "    .dataframe tbody tr th {\n",
       "        vertical-align: top;\n",
       "    }\n",
       "\n",
       "    .dataframe thead tr th {\n",
       "        text-align: left;\n",
       "    }\n",
       "\n",
       "    .dataframe thead tr:last-of-type th {\n",
       "        text-align: right;\n",
       "    }\n",
       "</style>\n",
       "<table border=\"1\" class=\"dataframe\">\n",
       "  <thead>\n",
       "    <tr>\n",
       "      <th></th>\n",
       "      <th colspan=\"6\" halign=\"left\">time</th>\n",
       "      <th colspan=\"6\" halign=\"left\">order_queue</th>\n",
       "    </tr>\n",
       "    <tr>\n",
       "      <th>event</th>\n",
       "      <th>order placed</th>\n",
       "      <th>reaction begins</th>\n",
       "      <th>reaction ends</th>\n",
       "      <th>reactor transfer</th>\n",
       "      <th>still begins</th>\n",
       "      <th>still ends</th>\n",
       "      <th>order placed</th>\n",
       "      <th>reaction begins</th>\n",
       "      <th>reaction ends</th>\n",
       "      <th>reactor transfer</th>\n",
       "      <th>still begins</th>\n",
       "      <th>still ends</th>\n",
       "    </tr>\n",
       "    <tr>\n",
       "      <th>orderID</th>\n",
       "      <th></th>\n",
       "      <th></th>\n",
       "      <th></th>\n",
       "      <th></th>\n",
       "      <th></th>\n",
       "      <th></th>\n",
       "      <th></th>\n",
       "      <th></th>\n",
       "      <th></th>\n",
       "      <th></th>\n",
       "      <th></th>\n",
       "      <th></th>\n",
       "    </tr>\n",
       "  </thead>\n",
       "  <tbody>\n",
       "    <tr>\n",
       "      <th>1</th>\n",
       "      <td>137.0</td>\n",
       "      <td>137.0</td>\n",
       "      <td>442.0</td>\n",
       "      <td>442.0</td>\n",
       "      <td>442.0</td>\n",
       "      <td>538.0</td>\n",
       "      <td>0.0</td>\n",
       "      <td>0.0</td>\n",
       "      <td>0.0</td>\n",
       "      <td>0.0</td>\n",
       "      <td>0.0</td>\n",
       "      <td>0.0</td>\n",
       "    </tr>\n",
       "    <tr>\n",
       "      <th>2</th>\n",
       "      <td>240.0</td>\n",
       "      <td>240.0</td>\n",
       "      <td>580.0</td>\n",
       "      <td>580.0</td>\n",
       "      <td>580.0</td>\n",
       "      <td>680.0</td>\n",
       "      <td>0.0</td>\n",
       "      <td>0.0</td>\n",
       "      <td>1.0</td>\n",
       "      <td>1.0</td>\n",
       "      <td>0.0</td>\n",
       "      <td>1.0</td>\n",
       "    </tr>\n",
       "    <tr>\n",
       "      <th>3</th>\n",
       "      <td>348.0</td>\n",
       "      <td>348.0</td>\n",
       "      <td>683.0</td>\n",
       "      <td>683.0</td>\n",
       "      <td>683.0</td>\n",
       "      <td>796.0</td>\n",
       "      <td>0.0</td>\n",
       "      <td>0.0</td>\n",
       "      <td>1.0</td>\n",
       "      <td>1.0</td>\n",
       "      <td>0.0</td>\n",
       "      <td>1.0</td>\n",
       "    </tr>\n",
       "    <tr>\n",
       "      <th>4</th>\n",
       "      <td>451.0</td>\n",
       "      <td>451.0</td>\n",
       "      <td>817.0</td>\n",
       "      <td>817.0</td>\n",
       "      <td>817.0</td>\n",
       "      <td>939.0</td>\n",
       "      <td>0.0</td>\n",
       "      <td>0.0</td>\n",
       "      <td>1.0</td>\n",
       "      <td>1.0</td>\n",
       "      <td>0.0</td>\n",
       "      <td>1.0</td>\n",
       "    </tr>\n",
       "    <tr>\n",
       "      <th>5</th>\n",
       "      <td>546.0</td>\n",
       "      <td>580.0</td>\n",
       "      <td>921.0</td>\n",
       "      <td>939.0</td>\n",
       "      <td>939.0</td>\n",
       "      <td>1055.0</td>\n",
       "      <td>1.0</td>\n",
       "      <td>0.0</td>\n",
       "      <td>1.0</td>\n",
       "      <td>1.0</td>\n",
       "      <td>0.0</td>\n",
       "      <td>1.0</td>\n",
       "    </tr>\n",
       "  </tbody>\n",
       "</table>\n",
       "</div>"
      ],
      "text/plain": [
       "                time                  ...  order_queue           \n",
       "event   order placed reaction begins  ... still begins still ends\n",
       "orderID                               ...                        \n",
       "1              137.0           137.0  ...          0.0        0.0\n",
       "2              240.0           240.0  ...          0.0        1.0\n",
       "3              348.0           348.0  ...          0.0        1.0\n",
       "4              451.0           451.0  ...          0.0        1.0\n",
       "5              546.0           580.0  ...          0.0        1.0\n",
       "\n",
       "[5 rows x 12 columns]"
      ]
     },
     "execution_count": 86,
     "metadata": {
      "tags": []
     },
     "output_type": "execute_result"
    }
   ],
   "source": [
    "h.data().head().round()"
   ]
  },
  {
   "cell_type": "code",
   "execution_count": 87,
   "metadata": {
    "colab": {
     "base_uri": "https://localhost:8080/",
     "height": 252
    },
    "colab_type": "code",
    "executionInfo": {
     "elapsed": 319,
     "status": "ok",
     "timestamp": 1567868982604,
     "user": {
      "displayName": "Jeffrey Kantor",
      "photoUrl": "https://lh3.googleusercontent.com/a-/AAuE7mAnl92hB5egoXgR-yAmEJN-i3LA_Jwcr3-0236SZg=s64",
      "userId": "09038942003589296665"
     },
     "user_tz": 240
    },
    "id": "epVdM-wCpSq3",
    "outputId": "3fbca0a2-6288-4438-efa3-b507c12c7e17"
   },
   "outputs": [
    {
     "data": {
      "text/html": [
       "<div>\n",
       "<style scoped>\n",
       "    .dataframe tbody tr th:only-of-type {\n",
       "        vertical-align: middle;\n",
       "    }\n",
       "\n",
       "    .dataframe tbody tr th {\n",
       "        vertical-align: top;\n",
       "    }\n",
       "\n",
       "    .dataframe thead th {\n",
       "        text-align: right;\n",
       "    }\n",
       "</style>\n",
       "<table border=\"1\" class=\"dataframe\">\n",
       "  <thead>\n",
       "    <tr style=\"text-align: right;\">\n",
       "      <th>event</th>\n",
       "      <th>order placed</th>\n",
       "      <th>reaction begins</th>\n",
       "      <th>reaction ends</th>\n",
       "      <th>reactor transfer</th>\n",
       "      <th>still begins</th>\n",
       "      <th>still ends</th>\n",
       "    </tr>\n",
       "    <tr>\n",
       "      <th>orderID</th>\n",
       "      <th></th>\n",
       "      <th></th>\n",
       "      <th></th>\n",
       "      <th></th>\n",
       "      <th></th>\n",
       "      <th></th>\n",
       "    </tr>\n",
       "  </thead>\n",
       "  <tbody>\n",
       "    <tr>\n",
       "      <th>1</th>\n",
       "      <td>137.0</td>\n",
       "      <td>137.0</td>\n",
       "      <td>442.0</td>\n",
       "      <td>442.0</td>\n",
       "      <td>442.0</td>\n",
       "      <td>538.0</td>\n",
       "    </tr>\n",
       "    <tr>\n",
       "      <th>2</th>\n",
       "      <td>240.0</td>\n",
       "      <td>240.0</td>\n",
       "      <td>580.0</td>\n",
       "      <td>580.0</td>\n",
       "      <td>580.0</td>\n",
       "      <td>680.0</td>\n",
       "    </tr>\n",
       "    <tr>\n",
       "      <th>3</th>\n",
       "      <td>348.0</td>\n",
       "      <td>348.0</td>\n",
       "      <td>683.0</td>\n",
       "      <td>683.0</td>\n",
       "      <td>683.0</td>\n",
       "      <td>796.0</td>\n",
       "    </tr>\n",
       "    <tr>\n",
       "      <th>4</th>\n",
       "      <td>451.0</td>\n",
       "      <td>451.0</td>\n",
       "      <td>817.0</td>\n",
       "      <td>817.0</td>\n",
       "      <td>817.0</td>\n",
       "      <td>939.0</td>\n",
       "    </tr>\n",
       "    <tr>\n",
       "      <th>5</th>\n",
       "      <td>546.0</td>\n",
       "      <td>580.0</td>\n",
       "      <td>921.0</td>\n",
       "      <td>939.0</td>\n",
       "      <td>939.0</td>\n",
       "      <td>1055.0</td>\n",
       "    </tr>\n",
       "  </tbody>\n",
       "</table>\n",
       "</div>"
      ],
      "text/plain": [
       "event    order placed  reaction begins  ...  still begins  still ends\n",
       "orderID                                 ...                          \n",
       "1               137.0            137.0  ...         442.0       538.0\n",
       "2               240.0            240.0  ...         580.0       680.0\n",
       "3               348.0            348.0  ...         683.0       796.0\n",
       "4               451.0            451.0  ...         817.0       939.0\n",
       "5               546.0            580.0  ...         939.0      1055.0\n",
       "\n",
       "[5 rows x 6 columns]"
      ]
     },
     "execution_count": 87,
     "metadata": {
      "tags": []
     },
     "output_type": "execute_result"
    }
   ],
   "source": [
    "h.data('time').head().round()"
   ]
  },
  {
   "cell_type": "markdown",
   "metadata": {
    "colab_type": "text",
    "id": "7OUqBWDfKcoY"
   },
   "source": [
    "#### Working with the dataframe"
   ]
  },
  {
   "cell_type": "code",
   "execution_count": 88,
   "metadata": {
    "colab": {
     "base_uri": "https://localhost:8080/",
     "height": 136
    },
    "colab_type": "code",
    "executionInfo": {
     "elapsed": 319,
     "status": "ok",
     "timestamp": 1567868984664,
     "user": {
      "displayName": "Jeffrey Kantor",
      "photoUrl": "https://lh3.googleusercontent.com/a-/AAuE7mAnl92hB5egoXgR-yAmEJN-i3LA_Jwcr3-0236SZg=s64",
      "userId": "09038942003589296665"
     },
     "user_tz": 240
    },
    "id": "waSTP-PQPmL9",
    "outputId": "7f83fb35-c7b0-4c04-816f-379d22fdc2db"
   },
   "outputs": [
    {
     "data": {
      "text/plain": [
       "orderID\n",
       "1     537.898296\n",
       "2     679.953056\n",
       "3     796.353421\n",
       "4     938.584464\n",
       "5    1055.087877\n",
       "Name: (time, still ends), dtype: float64"
      ]
     },
     "execution_count": 88,
     "metadata": {
      "tags": []
     },
     "output_type": "execute_result"
    }
   ],
   "source": [
    "df = h.data()\n",
    "df['time', 'still ends'].head()"
   ]
  },
  {
   "cell_type": "code",
   "execution_count": 89,
   "metadata": {
    "colab": {
     "base_uri": "https://localhost:8080/",
     "height": 51
    },
    "colab_type": "code",
    "executionInfo": {
     "elapsed": 311,
     "status": "ok",
     "timestamp": 1567868985988,
     "user": {
      "displayName": "Jeffrey Kantor",
      "photoUrl": "https://lh3.googleusercontent.com/a-/AAuE7mAnl92hB5egoXgR-yAmEJN-i3LA_Jwcr3-0236SZg=s64",
      "userId": "09038942003589296665"
     },
     "user_tz": 240
    },
    "id": "H91XoJIDUNzt",
    "outputId": "092cb984-c3e2-4521-83a2-be9adf1d53a2"
   },
   "outputs": [
    {
     "name": "stdout",
     "output_type": "stream",
     "text": [
      "Mean time from placing an order to final product\n"
     ]
    },
    {
     "data": {
      "text/plain": [
       "798.5"
      ]
     },
     "execution_count": 89,
     "metadata": {
      "tags": []
     },
     "output_type": "execute_result"
    }
   ],
   "source": [
    "print(\"Mean time from placing an order to final product\")\n",
    "round((df['time','still ends'] - df['time', 'order placed']).mean(), 1)"
   ]
  },
  {
   "cell_type": "code",
   "execution_count": 90,
   "metadata": {
    "colab": {
     "base_uri": "https://localhost:8080/",
     "height": 51
    },
    "colab_type": "code",
    "executionInfo": {
     "elapsed": 316,
     "status": "ok",
     "timestamp": 1567868986854,
     "user": {
      "displayName": "Jeffrey Kantor",
      "photoUrl": "https://lh3.googleusercontent.com/a-/AAuE7mAnl92hB5egoXgR-yAmEJN-i3LA_Jwcr3-0236SZg=s64",
      "userId": "09038942003589296665"
     },
     "user_tz": 240
    },
    "id": "kDAmKb6rUceW",
    "outputId": "bd31087f-e93d-46bb-e790-0f4ef3b33c8c"
   },
   "outputs": [
    {
     "name": "stdout",
     "output_type": "stream",
     "text": [
      "Mean time in order queue\n"
     ]
    },
    {
     "data": {
      "text/plain": [
       "329.5"
      ]
     },
     "execution_count": 90,
     "metadata": {
      "tags": []
     },
     "output_type": "execute_result"
    }
   ],
   "source": [
    "print(\"Mean time in order queue\")\n",
    "tmean = (df['time','reaction begins'] - df['time', 'order placed']).mean()\n",
    "round(tmean, 1)"
   ]
  },
  {
   "cell_type": "code",
   "execution_count": 91,
   "metadata": {
    "colab": {
     "base_uri": "https://localhost:8080/",
     "height": 51
    },
    "colab_type": "code",
    "executionInfo": {
     "elapsed": 460,
     "status": "ok",
     "timestamp": 1567868987414,
     "user": {
      "displayName": "Jeffrey Kantor",
      "photoUrl": "https://lh3.googleusercontent.com/a-/AAuE7mAnl92hB5egoXgR-yAmEJN-i3LA_Jwcr3-0236SZg=s64",
      "userId": "09038942003589296665"
     },
     "user_tz": 240
    },
    "id": "3Ej75whCJycA",
    "outputId": "5e0157ae-6cf0-4909-fe03-3a3b94c345cc"
   },
   "outputs": [
    {
     "name": "stdout",
     "output_type": "stream",
     "text": [
      "Mean queue length\n"
     ]
    },
    {
     "data": {
      "text/plain": [
       "3.19"
      ]
     },
     "execution_count": 91,
     "metadata": {
      "tags": []
     },
     "output_type": "execute_result"
    }
   ],
   "source": [
    "print(\"Mean queue length\")\n",
    "n = df['order_queue', 'order placed'].mean()\n",
    "n"
   ]
  },
  {
   "cell_type": "markdown",
   "metadata": {
    "colab_type": "text",
    "id": "RaU4qa89Rrht"
   },
   "source": [
    "### Plotting results"
   ]
  },
  {
   "cell_type": "markdown",
   "metadata": {
    "colab_type": "text",
    "id": "Us5bCr8rRvWd"
   },
   "source": [
    "#### Using `plot` method"
   ]
  },
  {
   "cell_type": "code",
   "execution_count": 93,
   "metadata": {
    "colab": {
     "base_uri": "https://localhost:8080/",
     "height": 297
    },
    "colab_type": "code",
    "executionInfo": {
     "elapsed": 869,
     "status": "ok",
     "timestamp": 1567869060600,
     "user": {
      "displayName": "Jeffrey Kantor",
      "photoUrl": "https://lh3.googleusercontent.com/a-/AAuE7mAnl92hB5egoXgR-yAmEJN-i3LA_Jwcr3-0236SZg=s64",
      "userId": "09038942003589296665"
     },
     "user_tz": 240
    },
    "id": "wNuN9No5RzOj",
    "outputId": "6a02ad71-3cea-493a-ced7-2536bd8d5b82"
   },
   "outputs": [
    {
     "data": {
      "image/png": "[encoded data removed]",
      "text/plain": [
       "<Figure size 432x288 with 2 Axes>"
      ]
     },
     "metadata": {
      "tags": []
     },
     "output_type": "display_data"
    }
   ],
   "source": [
    "h.plot()"
   ]
  },
  {
   "cell_type": "markdown",
   "metadata": {
    "colab_type": "text",
    "id": "JdW4aPeXV9v_"
   },
   "source": [
    "### Plotting one variable"
   ]
  },
  {
   "cell_type": "code",
   "execution_count": 95,
   "metadata": {
    "colab": {
     "base_uri": "https://localhost:8080/",
     "height": 297
    },
    "colab_type": "code",
    "executionInfo": {
     "elapsed": 656,
     "status": "ok",
     "timestamp": 1567870198023,
     "user": {
      "displayName": "Jeffrey Kantor",
      "photoUrl": "https://lh3.googleusercontent.com/a-/AAuE7mAnl92hB5egoXgR-yAmEJN-i3LA_Jwcr3-0236SZg=s64",
      "userId": "09038942003589296665"
     },
     "user_tz": 240
    },
    "id": "tnvXfL5nWChh",
    "outputId": "68fc3a36-36b7-47a2-c3de-ea7d002e15cd"
   },
   "outputs": [
    {
     "data": {
      "image/png": "[encoded data removed]",
      "text/plain": [
       "<Figure size 432x288 with 1 Axes>"
      ]
     },
     "metadata": {
      "tags": []
     },
     "output_type": "display_data"
    }
   ],
   "source": [
    "h.plot(['time'])"
   ]
  },
  {
   "cell_type": "markdown",
   "metadata": {
    "colab_type": "text",
    "id": "yfD8k9q7RQvX"
   },
   "source": [
    "#### Distribution of waiting times for storage following reaction"
   ]
  },
  {
   "cell_type": "code",
   "execution_count": 92,
   "metadata": {
    "colab": {
     "base_uri": "https://localhost:8080/",
     "height": 286
    },
    "colab_type": "code",
    "executionInfo": {
     "elapsed": 458,
     "status": "ok",
     "timestamp": 1567868990073,
     "user": {
      "displayName": "Jeffrey Kantor",
      "photoUrl": "https://lh3.googleusercontent.com/a-/AAuE7mAnl92hB5egoXgR-yAmEJN-i3LA_Jwcr3-0236SZg=s64",
      "userId": "09038942003589296665"
     },
     "user_tz": 240
    },
    "id": "GsLDWu24UHBs",
    "outputId": "c86682c7-7aad-4288-dd15-eb92f7eec6d5"
   },
   "outputs": [
    {
     "data": {
      "text/plain": [
       "<matplotlib.axes._subplots.AxesSubplot at 0x7febd1ac0198>"
      ]
     },
     "execution_count": 92,
     "metadata": {
      "tags": []
     },
     "output_type": "execute_result"
    },
    {
     "data": {
      "image/png": "[encoded data removed]",
      "text/plain": [
       "<Figure size 432x288 with 1 Axes>"
      ]
     },
     "metadata": {
      "tags": []
     },
     "output_type": "display_data"
    }
   ],
   "source": [
    "df = h.data('time')['reactor transfer'] - h.data('time')['reaction ends']\n",
    "df.hist()"
   ]
  },
  {
   "cell_type": "code",
   "execution_count": 0,
   "metadata": {
    "colab": {},
    "colab_type": "code",
    "id": "sk_W9S4sXsJ1"
   },
   "outputs": [],
   "source": []
  },
  {
   "cell_type": "markdown",
   "metadata": {},
   "source": [
    "<!--NAVIGATION-->\n",
    "< [Model Development in SimPy](http://nbviewer.jupyter.org/github/jckantor/CBE40455/blob/master/notebooks/02.04-Discrete-Event-Simulation-of-a-Batch-Process.ipynb) | [Contents](toc.ipynb) | [Spankys Pizzeria](http://nbviewer.jupyter.org/github/jckantor/CBE40455/blob/master/notebooks/02.06-Spankys-Pizzeria.ipynb) ><p><a href=\"https://colab.research.google.com/github/jckantor/CBE40455/blob/master/notebooks/02.05-Extracting_Information_from_Discrete-Event_Simulations.ipynb\"><img align=\"left\" src=\"https://colab.research.google.com/assets/colab-badge.svg\" alt=\"Open in Colab\" title=\"Open in Google Colaboratory\"></a><p><a href=\"https://raw.githubusercontent.com/jckantor/CBE40455/master/notebooks/02.05-Extracting_Information_from_Discrete-Event_Simulations.ipynb\"><img align=\"left\" src=\"https://img.shields.io/badge/Github-Download-blue.svg\" alt=\"Download\" title=\"Download Notebook\"></a>"
   ]
  }
 ],
 "metadata": {
  "colab": {
   "collapsed_sections": [],
   "name": "Extracting_Information_from_Discrete-Event_Simulations",
   "provenance": [],
   "toc_visible": true,
   "version": "0.3.2"
  },
  "kernelspec": {
   "display_name": "Python 3",
   "name": "python3"
  }
 },
 "nbformat": 4,
 "nbformat_minor": 0
}
