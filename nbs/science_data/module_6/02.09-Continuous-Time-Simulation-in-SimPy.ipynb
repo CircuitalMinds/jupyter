{
 "cells": [
  {
   "cell_type": "markdown",
   "metadata": {},
   "source": [
    "<!--NOTEBOOK_HEADER-->\n",
    "*This notebook contains course material from [CBE40455](https://jckantor.github.io/CBE40455) by\n",
    "Jeffrey Kantor (jeff at nd.edu); the content is available [on Github](https://github.com/jckantor/CBE40455.git).\n",
    "The text is released under the [CC-BY-NC-ND-4.0 license](https://creativecommons.org/licenses/by-nc-nd/4.0/legalcode),\n",
    "and code is released under the [MIT license](https://opensource.org/licenses/MIT).*"
   ]
  },
  {
   "cell_type": "markdown",
   "metadata": {},
   "source": [
    "<!--NAVIGATION-->\n",
    "< [Geometric Brownian Price Process](http://nbviewer.jupyter.org/github/jckantor/CBE40455/blob/master/notebooks/02.08-Geometric-Brownian-Price-Process.ipynb) | [Contents](toc.ipynb) | [Decentralized Control in a Supply Chain](http://nbviewer.jupyter.org/github/jckantor/CBE40455/blob/master/notebooks/02.10-Decentralized-Control-in-a-Supply-Chain.ipynb) ><p><a href=\"https://colab.research.google.com/github/jckantor/CBE40455/blob/master/notebooks/02.09-Continuous-Time-Simulation-in-SimPy.ipynb\"><img align=\"left\" src=\"https://colab.research.google.com/assets/colab-badge.svg\" alt=\"Open in Colab\" title=\"Open in Google Colaboratory\"></a><p><a href=\"https://raw.githubusercontent.com/jckantor/CBE40455/master/notebooks/02.09-Continuous-Time-Simulation-in-SimPy.ipynb\"><img align=\"left\" src=\"https://img.shields.io/badge/Github-Download-blue.svg\" alt=\"Download\" title=\"Download Notebook\"></a>"
   ]
  },
  {
   "cell_type": "markdown",
   "metadata": {
    "colab_type": "text",
    "id": "Ch-DjqUww2Y7"
   },
   "source": [
    "# Continuous Time Simulation in SimPy"
   ]
  },
  {
   "cell_type": "code",
   "execution_count": 0,
   "metadata": {
    "colab": {},
    "colab_type": "code",
    "id": "a51mgFLcwkSj"
   },
   "outputs": [],
   "source": [
    "%matplotlib inline\n",
    "import matplotlib.pyplot as plt\n",
    "import numpy as np\n",
    "import simpy\n",
    "import pandas as pd\n",
    "\n",
    "from scipy.integrate import odeint"
   ]
  },
  {
   "cell_type": "code",
   "execution_count": 0,
   "metadata": {
    "colab": {},
    "colab_type": "code",
    "id": "ilhL5iMnwkSm",
    "outputId": "02121e5e-9ab4-4bc9-9b68-fdfdfa9e45ec"
   },
   "outputs": [
    {
     "data": {
      "text/plain": [
       "<matplotlib.axes._subplots.AxesSubplot at 0x116778860>"
      ]
     },
     "execution_count": 97,
     "metadata": {
      "tags": []
     },
     "output_type": "execute_result"
    },
    {
     "data": {
      "image/png": "[encoded data removed]",
      "text/plain": [
       "<matplotlib.figure.Figure at 0x11677b860>"
      ]
     },
     "metadata": {
      "tags": []
     },
     "output_type": "display_data"
    }
   ],
   "source": [
    "class flow():\n",
    "    def __init__(self,env,Q=0):\n",
    "        self.Qout = Q\n",
    "        self.env = env\n",
    "        \n",
    "    def get_Qout(self):\n",
    "        return self.Qout\n",
    "        \n",
    "        \n",
    "class tank():\n",
    "    def __init__(self,env,name,C,A,Qin,h):\n",
    "        self.name = name\n",
    "        self.C = C\n",
    "        self.A = A\n",
    "        self.h = h\n",
    "        self.data = pd.Series()\n",
    "        self.Qout = self.C*h**1.5\n",
    "        self.Qin = Qin\n",
    "        env.process(self.run())\n",
    "        \n",
    "    def get_Qout(self):\n",
    "        return self.Qout\n",
    "\n",
    "    def run(self):\n",
    "        while True:\n",
    "            self.data.set_value(env.now,self.h)\n",
    "            f = lambda h,t : (-self.C*h**1.5 + self.Qin())/self.A\n",
    "            self.Qout = self.C*self.h**1.5\n",
    "            yield env.timeout(0.1)\n",
    "            self.h = odeint(f,self.h,[0,.1])[-1][0]\n",
    "\n",
    "env = simpy.Environment()\n",
    "Q = flow(env,10)\n",
    "tank_1 = tank(env,'A',.2,4,Q.get_Qout,0)\n",
    "tank_2 = tank(env,'B',.1,1,tank_1.get_Qout,15)\n",
    "env.run(until=30)\n",
    "\n",
    "tank_1.data.plot()\n",
    "tank_2.data.plot()\n"
   ]
  },
  {
   "cell_type": "code",
   "execution_count": 0,
   "metadata": {
    "colab": {},
    "colab_type": "code",
    "id": "_dUmARp0wkSq"
   },
   "outputs": [],
   "source": [
    "class stream():\n",
    "    def __init__(self,env,Q=0):\n",
    "        self.Q = Q\n",
    "        self.env = env\n",
    "        self.hist = pd.Series()\n",
    "      \n",
    "    def qout(self):\n",
    "        return self.q\n",
    "    \n",
    "    def qin(self,qin):\n",
    "        self.Q = qin\n",
    "        self.hist.set_value(env.now,qin)\n",
    "        \n",
    "        \n",
    "    \n"
   ]
  },
  {
   "cell_type": "markdown",
   "metadata": {
    "colab_type": "text",
    "id": "pgZgpMglwkSt"
   },
   "source": []
  },
  {
   "cell_type": "code",
   "execution_count": 0,
   "metadata": {
    "colab": {},
    "colab_type": "code",
    "id": "9S98aLzpwkSt",
    "outputId": "4291e7e4-6a62-4ab9-f9fc-e8d46fd79186"
   },
   "outputs": [
    {
     "data": {
      "text/plain": [
       "<matplotlib.axes._subplots.AxesSubplot at 0x114e420b8>"
      ]
     },
     "execution_count": 75,
     "metadata": {
      "tags": []
     },
     "output_type": "execute_result"
    },
    {
     "data": {
      "image/png": "[encoded data removed]",
      "text/plain": [
       "<matplotlib.figure.Figure at 0x114d2a4a8>"
      ]
     },
     "metadata": {
      "tags": []
     },
     "output_type": "display_data"
    }
   ],
   "source": [
    "# A draining tank\n",
    "\n",
    "class PV():\n",
    "    qin = 0\n",
    "    qout = 0\n",
    "\n",
    "\n",
    "class tank():\n",
    "    def __init__(self,env,C,A,h,fin):\n",
    "        self.C = C\n",
    "        self.A = A\n",
    "        self.h = h\n",
    "        self.hist = pd.Series()\n",
    "        env.process(self.run())\n",
    "        self.qout = 0\n",
    "        self.qin = fin\n",
    "\n",
    "    def run(self):\n",
    "        while True:\n",
    "            self.hist.set_value(env.now,self.h)\n",
    "            f = lambda h,t : (-self.C*h**1.5 + self.qin())/self.A\n",
    "            self.qout = -self.C*self.h**1.5\n",
    "            yield env.timeout(0.1)\n",
    "            self.h = odeint(f,self.h,[0,.5])[-1][0]\n",
    "\n",
    "class flow():\n",
    "    def __init__(self,env,q,qin):\n",
    "        self.q = q\n",
    "        env.process(self.run())\n",
    "        self.qin = qin\n",
    "        \n",
    "    def qout(self):\n",
    "        return self.q\n",
    "    \n",
    "    def run(self):\n",
    "        while True:\n",
    "            yield env.timeout(0.1)\n",
    "            self.q = 0.95*self.q\n",
    "            self.qin(self.q)\n",
    "\n",
    "env = simpy.Environment()\n",
    "s = stream(env)\n",
    "qflow = flow(env,10,s.qin)\n",
    "unit_1 = tank(env,.2,4,0,qflow.qout)\n",
    "env.run(until=5)\n",
    "\n",
    "unit_1.hist.plot()\n",
    "PV.qout\n",
    "s.hist.plot()"
   ]
  },
  {
   "cell_type": "code",
   "execution_count": 0,
   "metadata": {
    "colab": {},
    "colab_type": "code",
    "id": "YwKqo_jLwkSx"
   },
   "outputs": [],
   "source": []
  },
  {
   "cell_type": "markdown",
   "metadata": {},
   "source": [
    "<!--NAVIGATION-->\n",
    "< [Geometric Brownian Price Process](http://nbviewer.jupyter.org/github/jckantor/CBE40455/blob/master/notebooks/02.08-Geometric-Brownian-Price-Process.ipynb) | [Contents](toc.ipynb) | [Decentralized Control in a Supply Chain](http://nbviewer.jupyter.org/github/jckantor/CBE40455/blob/master/notebooks/02.10-Decentralized-Control-in-a-Supply-Chain.ipynb) ><p><a href=\"https://colab.research.google.com/github/jckantor/CBE40455/blob/master/notebooks/02.09-Continuous-Time-Simulation-in-SimPy.ipynb\"><img align=\"left\" src=\"https://colab.research.google.com/assets/colab-badge.svg\" alt=\"Open in Colab\" title=\"Open in Google Colaboratory\"></a><p><a href=\"https://raw.githubusercontent.com/jckantor/CBE40455/master/notebooks/02.09-Continuous-Time-Simulation-in-SimPy.ipynb\"><img align=\"left\" src=\"https://img.shields.io/badge/Github-Download-blue.svg\" alt=\"Download\" title=\"Download Notebook\"></a>"
   ]
  }
 ],
 "metadata": {
  "colab": {
   "collapsed_sections": [],
   "name": "04.07-Continuous-Time-Simulation-in-SimPy.ipynb",
   "provenance": [],
   "version": "0.3.2"
  },
  "kernelspec": {
   "display_name": "Python [conda root]",
   "language": "python",
   "name": "conda-root-py"
  },
  "language_info": {
   "codemirror_mode": {
    "name": "ipython",
    "version": 3
   },
   "file_extension": ".py",
   "mimetype": "text/x-python",
   "name": "python",
   "nbconvert_exporter": "python",
   "pygments_lexer": "ipython3",
   "version": "3.5.2"
  }
 },
 "nbformat": 4,
 "nbformat_minor": 0
}
