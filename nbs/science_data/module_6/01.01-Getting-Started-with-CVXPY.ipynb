{
 "cells": [
  {
   "cell_type": "markdown",
   "metadata": {
    "colab_type": "text",
    "id": "HLEvRhX10Q3F",
    "pycharm": {}
   },
   "source": [
    "<!--NOTEBOOK_HEADER-->\n",
    "*This notebook contains course material from [CBE40455](https://jckantor.github.io/CBE40455) by\n",
    "Jeffrey Kantor (jeff at nd.edu); the content is available [on Github](https://github.com/jckantor/CBE40455.git).\n",
    "The text is released under the [CC-BY-NC-ND-4.0 license](https://creativecommons.org/licenses/by-nc-nd/4.0/legalcode),\n",
    "and code is released under the [MIT license](https://opensource.org/licenses/MIT).*"
   ]
  },
  {
   "cell_type": "markdown",
   "metadata": {
    "colab_type": "text",
    "id": "4uEPJGsQ0Q3G",
    "pycharm": {}
   },
   "source": [
    "<!--NAVIGATION-->\n",
    "< [Getting Started Guides](http://nbviewer.jupyter.org/github/jckantor/CBE40455/blob/master/notebooks/01.00-Getting-Started-Guides.ipynb) | [Contents](toc.ipynb) | [Getting Started with Gurobi](http://nbviewer.jupyter.org/github/jckantor/CBE40455/blob/master/notebooks/01.02-Getting-Started-with-Gurobi.ipynb) ><p><a href=\"https://colab.research.google.com/github/jckantor/CBE40455/blob/master/notebooks/01.01-Getting-Started-with-CVXPY.ipynb\"><img align=\"left\" src=\"https://colab.research.google.com/assets/colab-badge.svg\" alt=\"Open in Colab\" title=\"Open in Google Colaboratory\"></a><p><a href=\"https://raw.githubusercontent.com/jckantor/CBE40455/master/notebooks/01.01-Getting-Started-with-CVXPY.ipynb\"><img align=\"left\" src=\"https://img.shields.io/badge/Github-Download-blue.svg\" alt=\"Download\" title=\"Download Notebook\"></a>"
   ]
  },
  {
   "cell_type": "markdown",
   "metadata": {
    "colab_type": "text",
    "id": "WaSEnPcC0Q3H",
    "pycharm": {},
    "slideshow": {
     "slide_type": "-"
    }
   },
   "source": [
    "# Getting Started with CVXPY"
   ]
  },
  {
   "cell_type": "markdown",
   "metadata": {
    "colab_type": "text",
    "id": "aBeww8An0Q3I",
    "pycharm": {},
    "slideshow": {
     "slide_type": "skip"
    }
   },
   "source": [
    "This [Jupyter notebook](http://jupyter.org/notebook.html) demonstrates use of the [CVXPY](http://www.cvxpy.org/en/latest/) package for describing and solving convex optimization problems. CVXPY provides a modeling language embedded within Python that is well suited to linear and quadratic optimization problems with linear constraints. A limited set of solvers are distributed with CVXPY, and interfaces are available for others. Further documentation is available [here (.pdf)](https://media.readthedocs.org/pdf/cvxpy/latest/cvxpy.pdf)."
   ]
  },
  {
   "cell_type": "markdown",
   "metadata": {
    "colab_type": "text",
    "id": "r_BFRIGe0Q3J",
    "pycharm": {},
    "slideshow": {
     "slide_type": "slide"
    }
   },
   "source": [
    "## Installation\n",
    "\n",
    "It is necessary to install CVXPY before use. Instructions can be found [here](http://www.cvxpy.org/en/latest/install/). If you happen to be using the Anaconda distribution of Python, the following cell should be sufficient for installation.\n",
    "\n",
    "    !conda install -c cvxgrp -y cvxpy\n",
    "    \n",
    "CVXPY is already installed in Google Colaboratory, so no extra installation steps are required on that platform."
   ]
  },
  {
   "cell_type": "markdown",
   "metadata": {
    "colab_type": "text",
    "collapsed": true,
    "id": "VJehVC_o0Q3O",
    "pycharm": {},
    "slideshow": {
     "slide_type": "slide"
    }
   },
   "source": [
    "## Solving linear equations\n",
    "\n",
    "One of the simpliest use cases for cvxpy is solving a system of linear equations. For example, consider the pair of the equations\n",
    "\n",
    "\\begin{align*}\n",
    "3\\,x + 4\\,y & = 26 \\\\\n",
    "2\\,x - 3\\,y & = -11\n",
    "\\end{align*}\n",
    "\n",
    "where $x$ and $y$ are the unknowns. Each equation is a linear equality constraint. The problem is easily solved with a few simple cvxpy constructss."
   ]
  },
  {
   "cell_type": "code",
   "execution_count": 0,
   "metadata": {
    "colab": {
     "base_uri": "https://localhost:8080/",
     "height": 68
    },
    "colab_type": "code",
    "executionInfo": {
     "elapsed": 872,
     "status": "ok",
     "timestamp": 1557239774334,
     "user": {
      "displayName": "Jeffrey Kantor",
      "photoUrl": "https://lh5.googleusercontent.com/-8zK5aAW5RMQ/AAAAAAAAAAI/AAAAAAAAKB0/kssUQyz8DTQ/s64/photo.jpg",
      "userId": "09038942003589296665"
     },
     "user_tz": 240
    },
    "id": "KRXlD5uq0Q3P",
    "outputId": "9083c6e7-1a15-4355-da8d-f57ea6917af9",
    "pycharm": {},
    "slideshow": {
     "slide_type": "slide"
    }
   },
   "outputs": [
    {
     "name": "stdout",
     "output_type": "stream",
     "text": [
      "optimal\n",
      "2.0000000000000004\n",
      "4.999999999999999\n"
     ]
    }
   ],
   "source": [
    "import numpy as np\n",
    "import cvxpy as cp\n",
    "\n",
    "# create the variables to solve for\n",
    "x = cp.Variable()\n",
    "y = cp.Variable()\n",
    "\n",
    "# create a list of equality constraints\n",
    "eqns = [\n",
    "    3*x + 4*y == 26,\n",
    "    2*x - 3*y == -11\n",
    "]\n",
    "\n",
    "# create a problem instance \n",
    "prob = cp.Problem(cp.Minimize(0), eqns)\n",
    "\n",
    "# solve\n",
    "prob.solve()\n",
    "print(prob.status)\n",
    "\n",
    "# display solution\n",
    "print(x.value)\n",
    "print(y.value)"
   ]
  },
  {
   "cell_type": "code",
   "execution_count": 0,
   "metadata": {
    "colab": {},
    "colab_type": "code",
    "id": "wXDQrUE__H4n"
   },
   "outputs": [],
   "source": []
  },
  {
   "cell_type": "markdown",
   "metadata": {
    "colab_type": "text",
    "id": "fJINN-ai_G7D"
   },
   "source": [
    "### Using Matrix Parameters and Vector Variables"
   ]
  },
  {
   "cell_type": "code",
   "execution_count": 9,
   "metadata": {
    "colab": {
     "base_uri": "https://localhost:8080/",
     "height": 85
    },
    "colab_type": "code",
    "executionInfo": {
     "elapsed": 311,
     "status": "ok",
     "timestamp": 1557244162724,
     "user": {
      "displayName": "Jeffrey Kantor",
      "photoUrl": "https://lh5.googleusercontent.com/-8zK5aAW5RMQ/AAAAAAAAAAI/AAAAAAAAKB0/kssUQyz8DTQ/s64/photo.jpg",
      "userId": "09038942003589296665"
     },
     "user_tz": 240
    },
    "id": "b1eL_yAL--BA",
    "outputId": "252d5394-4fb5-454c-a20d-5806ec06f902"
   },
   "outputs": [
    {
     "name": "stdout",
     "output_type": "stream",
     "text": [
      " Problem Status: optimal\n",
      "Objective Value: 5.385164802505173\n",
      "  Solution x[0]: 2.0\n",
      "  Solution x[1]: 4.999999999999999\n"
     ]
    }
   ],
   "source": [
    "import cvxpy as cp\n",
    "import numpy as np\n",
    "\n",
    "# specify problem data as numpy matrix and vectors\n",
    "A = np.array([[3, 4], [2, -3]])\n",
    "b = np.array([26, -11])\n",
    "\n",
    "# create a vector variables\n",
    "x = cp.Variable(2)\n",
    "\n",
    "# specify equality constraints\n",
    "constraints = [A*x == b]\n",
    "\n",
    "# form objective.\n",
    "objective = cp.Minimize(cp.norm(x))\n",
    "\n",
    "# form and solve problem.\n",
    "problem = cp.Problem(objective, constraints)\n",
    "problem.solve()\n",
    "\n",
    "# display the solution\n",
    "print(\" Problem Status:\", problem.status)\n",
    "print(\"Objective Value:\", problem.value)\n",
    "print(\"  Solution x[0]:\", x[0].value)\n",
    "print(\"  Solution x[1]:\", x[1].value)"
   ]
  },
  {
   "cell_type": "markdown",
   "metadata": {
    "colab_type": "text",
    "id": "8biL-F7_0Q3S",
    "pycharm": {},
    "slideshow": {
     "slide_type": "slide"
    }
   },
   "source": [
    "## Regression: Evidence of Climate Change\n",
    "\n",
    "Get the historical record of ice out dates on Rainy Lake, Minnesota. Rainy Lake is a large lake, approximately 1000 sq. km., located on the Minnesota/Ontario border. Reliable records for ice-out date goes back to 1935, where for this lake ice-out is defined as the first day the lake can be navigated from one end to the other following a specified route.\n",
    "\n",
    "The next cell downloads and extracts the historical ice-out date from [Climatology office of the Minnesota Department of Natural Resources](https://www.dnr.state.mn.us/ice_out/index.html). The url needed to extract the historical information is found by clicking on a particular lake, then on the link labeled \"all ice-out data for this lake\"."
   ]
  },
  {
   "cell_type": "code",
   "execution_count": 0,
   "metadata": {
    "colab": {
     "base_uri": "https://localhost:8080/",
     "height": 312
    },
    "colab_type": "code",
    "executionInfo": {
     "elapsed": 1720,
     "status": "ok",
     "timestamp": 1557239775191,
     "user": {
      "displayName": "Jeffrey Kantor",
      "photoUrl": "https://lh5.googleusercontent.com/-8zK5aAW5RMQ/AAAAAAAAAAI/AAAAAAAAKB0/kssUQyz8DTQ/s64/photo.jpg",
      "userId": "09038942003589296665"
     },
     "user_tz": 240
    },
    "id": "A_CC7v0l0Q3T",
    "outputId": "795bec27-9d76-4889-f3ce-ea3b047bfd3d",
    "pycharm": {},
    "slideshow": {
     "slide_type": "slide"
    }
   },
   "outputs": [
    {
     "name": "stdout",
     "output_type": "stream",
     "text": [
      "Data Download Status: OK\n"
     ]
    },
    {
     "data": {
      "image/png": "[encoded data removed]",
      "text/plain": [
       "<Figure size 432x288 with 1 Axes>"
      ]
     },
     "metadata": {
      "tags": []
     },
     "output_type": "display_data"
    }
   ],
   "source": [
    "%matplotlib inline\n",
    "\n",
    "import matplotlib.pyplot as plt\n",
    "import numpy as np\n",
    "\n",
    "from urllib.request import urlopen\n",
    "import json\n",
    "from dateutil.parser import parse\n",
    "import datetime\n",
    "\n",
    "# Lake ID for Rainy Lake\n",
    "lakeid = '69069400'\n",
    "\n",
    "# Get Ice-out Data\n",
    "url = 'https://maps1.dnr.state.mn.us/cgi-bin/climatology/ice_out_by_lake.cgi?id=' + lakeid\n",
    "response = urlopen(url).read().decode('utf8')\n",
    "data = json.loads(response) \n",
    "print('Data Download Status: ' + data['status'])\n",
    "\n",
    "# Calculate ice out 'day of year' for each date\n",
    "dates = [parse(d['date']) for d in data['result']['values']]\n",
    "\n",
    "year = np.array([d.year for d in dates])\n",
    "iceout = np.array([1 + datetime.date.toordinal(d) - datetime.date(d.year,1,1).toordinal()\n",
    "                for d in dates ])\n",
    "\n",
    "plt.plot(year, iceout)\n",
    "plt.title('Ice Out Day on Rainy Lake, Minnesota')\n",
    "plt.ylabel('Julian Day of Year')\n",
    "plt.xlabel('Year');"
   ]
  },
  {
   "cell_type": "markdown",
   "metadata": {
    "colab_type": "text",
    "id": "brCAZNmR0Q3X",
    "pycharm": {},
    "slideshow": {
     "slide_type": "slide"
    }
   },
   "source": [
    "Create a regression model and fit using cvxpy."
   ]
  },
  {
   "cell_type": "code",
   "execution_count": 0,
   "metadata": {
    "colab": {
     "base_uri": "https://localhost:8080/",
     "height": 51
    },
    "colab_type": "code",
    "executionInfo": {
     "elapsed": 1708,
     "status": "ok",
     "timestamp": 1557239775194,
     "user": {
      "displayName": "Jeffrey Kantor",
      "photoUrl": "https://lh5.googleusercontent.com/-8zK5aAW5RMQ/AAAAAAAAAAI/AAAAAAAAKB0/kssUQyz8DTQ/s64/photo.jpg",
      "userId": "09038942003589296665"
     },
     "user_tz": 240
    },
    "id": "wFG_HSr50Q3Y",
    "outputId": "9ec87f78-56a7-47a6-8101-6ae7d6eab1cc",
    "pycharm": {},
    "slideshow": {
     "slide_type": "slide"
    }
   },
   "outputs": [
    {
     "name": "stdout",
     "output_type": "stream",
     "text": [
      "    Slope:  -0.0753\n",
      "Intercept: 126.7995\n"
     ]
    }
   ],
   "source": [
    "# variables are slope, intercept, and predicted values\n",
    "\n",
    "slope = cp.Variable()\n",
    "intercept = cp.Variable()\n",
    "pred = cp.Variable(len(year))\n",
    "\n",
    "con = [pred == (intercept + slope*(year-1930))]\n",
    "obj = cp.Minimize(cp.norm(iceout-pred,2))\n",
    "\n",
    "prob = cp.Problem(obj,con)\n",
    "prob.solve()\n",
    "\n",
    "print(\"    Slope: {0:8.4f}\".format(slope.value))\n",
    "print(\"Intercept: {0:8.4f}\".format(intercept.value))"
   ]
  },
  {
   "cell_type": "markdown",
   "metadata": {
    "colab_type": "text",
    "id": "Y8HFPC750Q3b",
    "pycharm": {},
    "slideshow": {
     "slide_type": "slide"
    }
   },
   "source": [
    "Plot the resulting fit and compare to the original data."
   ]
  },
  {
   "cell_type": "code",
   "execution_count": 0,
   "metadata": {
    "colab": {
     "base_uri": "https://localhost:8080/",
     "height": 295
    },
    "colab_type": "code",
    "executionInfo": {
     "elapsed": 1929,
     "status": "ok",
     "timestamp": 1557239775425,
     "user": {
      "displayName": "Jeffrey Kantor",
      "photoUrl": "https://lh5.googleusercontent.com/-8zK5aAW5RMQ/AAAAAAAAAAI/AAAAAAAAKB0/kssUQyz8DTQ/s64/photo.jpg",
      "userId": "09038942003589296665"
     },
     "user_tz": 240
    },
    "id": "nv4P6Xo20Q3c",
    "outputId": "c11d3388-4ff3-4dba-8724-42e295fa761c",
    "pycharm": {},
    "slideshow": {
     "slide_type": "slide"
    }
   },
   "outputs": [
    {
     "data": {
      "image/png": "[encoded data removed]",
      "text/plain": [
       "<Figure size 432x288 with 1 Axes>"
      ]
     },
     "metadata": {
      "tags": []
     },
     "output_type": "display_data"
    }
   ],
   "source": [
    "plt.plot(year, iceout, year, pred.value)\n",
    "plt.title('Ice Out Day on Rainy Lake, Minnesota')\n",
    "plt.ylabel('Day of Year')\n",
    "plt.xlabel('Year');"
   ]
  },
  {
   "cell_type": "markdown",
   "metadata": {
    "colab_type": "text",
    "collapsed": true,
    "id": "77uJ0iFw0Q3f",
    "pycharm": {},
    "slideshow": {
     "slide_type": "slide"
    }
   },
   "source": [
    "## Integer Program\n",
    "\n",
    "Let's consider the problem\n",
    "\n",
    "\\begin{align*}\n",
    "\\text{Minimize}\\quad & 4 x + 6y \\\\\n",
    "\\text{subject to}\\quad & 2x + 2y \\geq 5 \\\\\n",
    "& x - y \\leq 1 \\\\\n",
    "& x,y \\geq 0 \\\\\n",
    "& x,y \\in \\text{Integer}\n",
    "\\end{align*}\n",
    "\n",
    "Let's first solve this problem ignoring the integer constraints on $x$ and $y$.  This is known as the 'relaxation' of an integer or binary programming problem."
   ]
  },
  {
   "cell_type": "code",
   "execution_count": 0,
   "metadata": {
    "colab": {
     "base_uri": "https://localhost:8080/",
     "height": 85
    },
    "colab_type": "code",
    "executionInfo": {
     "elapsed": 1919,
     "status": "ok",
     "timestamp": 1557239775426,
     "user": {
      "displayName": "Jeffrey Kantor",
      "photoUrl": "https://lh5.googleusercontent.com/-8zK5aAW5RMQ/AAAAAAAAAAI/AAAAAAAAKB0/kssUQyz8DTQ/s64/photo.jpg",
      "userId": "09038942003589296665"
     },
     "user_tz": 240
    },
    "id": "fnvHH2-j0Q3g",
    "outputId": "e2b248ac-20bc-4c17-8821-ad404586385c",
    "pycharm": {},
    "slideshow": {
     "slide_type": "slide"
    }
   },
   "outputs": [
    {
     "name": "stdout",
     "output_type": "stream",
     "text": [
      "status =  optimal\n",
      "x =  1.7499999999999998\n",
      "y =  0.7499999999999998\n",
      "Obj =  11.499999999999998\n"
     ]
    }
   ],
   "source": [
    "import numpy as np\n",
    "import cvxpy as cp\n",
    "\n",
    "# create the variables to solve for\n",
    "x = cp.Variable()\n",
    "y = cp.Variable()\n",
    "\n",
    "# create a list of equality constraints\n",
    "constraints = [\n",
    "    2*x + 2*y >= 5,\n",
    "    x - y <= 1,\n",
    "    x >= 0,\n",
    "    y >= 0\n",
    "]\n",
    "\n",
    "obj = cp.Minimize(4*x + 6*y)\n",
    "\n",
    "# create a problem instance \n",
    "prob = cp.Problem(obj,constraints)\n",
    "\n",
    "# solve\n",
    "prob.solve()\n",
    "print(\"status = \", prob.status)\n",
    "\n",
    "# display solution\n",
    "print(\"x = \", x.value)\n",
    "print(\"y = \", y.value)\n",
    "print(\"Obj = \", prob.value)"
   ]
  },
  {
   "cell_type": "markdown",
   "metadata": {
    "colab_type": "text",
    "id": "3G6YyyFW0Q3j",
    "pycharm": {},
    "slideshow": {
     "slide_type": "slide"
    }
   },
   "source": [
    "Since this is a minimization, the relaxed solution provides a lower bound on the solution of the integer problem. The next step is to define variables $x$ and $y$ as integer variables using `cvx.Variable(integer=True)` function."
   ]
  },
  {
   "cell_type": "code",
   "execution_count": 0,
   "metadata": {
    "colab": {
     "base_uri": "https://localhost:8080/",
     "height": 85
    },
    "colab_type": "code",
    "executionInfo": {
     "elapsed": 1912,
     "status": "ok",
     "timestamp": 1557239775428,
     "user": {
      "displayName": "Jeffrey Kantor",
      "photoUrl": "https://lh5.googleusercontent.com/-8zK5aAW5RMQ/AAAAAAAAAAI/AAAAAAAAKB0/kssUQyz8DTQ/s64/photo.jpg",
      "userId": "09038942003589296665"
     },
     "user_tz": 240
    },
    "id": "w8F7jJQ_0Q3k",
    "outputId": "969e4b30-9675-47be-cb33-fb6fd466f1c2",
    "pycharm": {},
    "slideshow": {
     "slide_type": "slide"
    }
   },
   "outputs": [
    {
     "name": "stdout",
     "output_type": "stream",
     "text": [
      "status =  optimal_inaccurate\n",
      "x =  1.9999999888557622\n",
      "y =  1.0000000116464522\n",
      "Obj =  14.000000025301762\n"
     ]
    }
   ],
   "source": [
    "import numpy as np\n",
    "import cvxpy as cp\n",
    "\n",
    "# create the variables to solve for\n",
    "x = cp.Variable(integer=True)\n",
    "y = cp.Variable(integer=True)\n",
    "\n",
    "# create a list of equality constraints\n",
    "constraints = [\n",
    "    2*x + 2*y >= 5,\n",
    "    x - y <= 1,\n",
    "    x >= 0,\n",
    "    y >= 0\n",
    "]\n",
    "\n",
    "obj = cp.Minimize(4*x + 6*y)\n",
    "\n",
    "# create a problem instance \n",
    "prob = cp.Problem(obj, constraints)\n",
    "\n",
    "# solve\n",
    "prob.solve()\n",
    "print(\"status = \", prob.status)\n",
    "\n",
    "# display solution\n",
    "print(\"x = \", x.value)\n",
    "print(\"y = \", y.value)\n",
    "print(\"Obj = \", prob.value)"
   ]
  },
  {
   "cell_type": "markdown",
   "metadata": {
    "colab_type": "text",
    "id": "ofArDvA90Q3n",
    "pycharm": {},
    "slideshow": {
     "slide_type": "slide"
    }
   },
   "source": [
    "The solvers distributed with CVXPY tyically employ interior-point algorithms augmented with a branch and bound strategy for integer or boolean variables. A consequence is that integer solutions are reported as floating point numbers that may need rounding for some applications. "
   ]
  },
  {
   "cell_type": "code",
   "execution_count": 0,
   "metadata": {
    "colab": {
     "base_uri": "https://localhost:8080/",
     "height": 51
    },
    "colab_type": "code",
    "executionInfo": {
     "elapsed": 2058,
     "status": "ok",
     "timestamp": 1557239775584,
     "user": {
      "displayName": "Jeffrey Kantor",
      "photoUrl": "https://lh5.googleusercontent.com/-8zK5aAW5RMQ/AAAAAAAAAAI/AAAAAAAAKB0/kssUQyz8DTQ/s64/photo.jpg",
      "userId": "09038942003589296665"
     },
     "user_tz": 240
    },
    "id": "baO2rFO30Q3o",
    "outputId": "39ea9912-2460-498c-c5eb-99dda14f9a5b",
    "pycharm": {},
    "slideshow": {
     "slide_type": "slide"
    }
   },
   "outputs": [
    {
     "name": "stdout",
     "output_type": "stream",
     "text": [
      "Integer Solution x =  2\n",
      "Integer Solution y =  1\n"
     ]
    }
   ],
   "source": [
    "print('Integer Solution x = ', int(np.round(x.value)))\n",
    "print('Integer Solution y = ', int(np.round(y.value)))"
   ]
  },
  {
   "cell_type": "markdown",
   "metadata": {
    "colab_type": "text",
    "id": "s0CU1H0G0Q3s",
    "pycharm": {}
   },
   "source": [
    "<!--NAVIGATION-->\n",
    "< [Getting Started Guides](http://nbviewer.jupyter.org/github/jckantor/CBE40455/blob/master/notebooks/01.00-Getting-Started-Guides.ipynb) | [Contents](toc.ipynb) | [Getting Started with Gurobi](http://nbviewer.jupyter.org/github/jckantor/CBE40455/blob/master/notebooks/01.02-Getting-Started-with-Gurobi.ipynb) ><p><a href=\"https://colab.research.google.com/github/jckantor/CBE40455/blob/master/notebooks/01.01-Getting-Started-with-CVXPY.ipynb\"><img align=\"left\" src=\"https://colab.research.google.com/assets/colab-badge.svg\" alt=\"Open in Colab\" title=\"Open in Google Colaboratory\"></a><p><a href=\"https://raw.githubusercontent.com/jckantor/CBE40455/master/notebooks/01.01-Getting-Started-with-CVXPY.ipynb\"><img align=\"left\" src=\"https://img.shields.io/badge/Github-Download-blue.svg\" alt=\"Download\" title=\"Download Notebook\"></a>"
   ]
  }
 ],
 "metadata": {
  "colab": {
   "collapsed_sections": [],
   "name": "01.02-Doing-More-with-CVXPY.ipynb",
   "provenance": [],
   "version": "0.3.2"
  },
  "kernelspec": {
   "display_name": "Python [conda root]",
   "language": "python",
   "name": "conda-root-py"
  },
  "language_info": {
   "codemirror_mode": {
    "name": "ipython",
    "version": 3
   },
   "file_extension": ".py",
   "mimetype": "text/x-python",
   "name": "python",
   "nbconvert_exporter": "python",
   "pygments_lexer": "ipython3",
   "version": "3.5.2"
  }
 },
 "nbformat": 4,
 "nbformat_minor": 0
}
