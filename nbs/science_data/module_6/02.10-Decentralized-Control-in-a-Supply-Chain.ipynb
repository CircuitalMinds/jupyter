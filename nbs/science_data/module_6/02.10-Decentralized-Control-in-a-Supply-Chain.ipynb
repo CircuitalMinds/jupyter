{
 "cells": [
  {
   "cell_type": "markdown",
   "metadata": {},
   "source": [
    "<!--NOTEBOOK_HEADER-->\n",
    "*This notebook contains course material from [CBE40455](https://jckantor.github.io/CBE40455) by\n",
    "Jeffrey Kantor (jeff at nd.edu); the content is available [on Github](https://github.com/jckantor/CBE40455.git).\n",
    "The text is released under the [CC-BY-NC-ND-4.0 license](https://creativecommons.org/licenses/by-nc-nd/4.0/legalcode),\n",
    "and code is released under the [MIT license](https://opensource.org/licenses/MIT).*"
   ]
  },
  {
   "cell_type": "markdown",
   "metadata": {},
   "source": [
    "<!--NAVIGATION-->\n",
    "< [Continuous Time Simulation in SimPy](http://nbviewer.jupyter.org/github/jckantor/CBE40455/blob/master/notebooks/02.09-Continuous-Time-Simulation-in-SimPy.ipynb) | [Contents](toc.ipynb) | [Linear Optimization](http://nbviewer.jupyter.org/github/jckantor/CBE40455/blob/master/notebooks/03.00-Linear-Optimization.ipynb) ><p><a href=\"https://colab.research.google.com/github/jckantor/CBE40455/blob/master/notebooks/02.10-Decentralized-Control-in-a-Supply-Chain.ipynb\"><img align=\"left\" src=\"https://colab.research.google.com/assets/colab-badge.svg\" alt=\"Open in Colab\" title=\"Open in Google Colaboratory\"></a><p><a href=\"https://raw.githubusercontent.com/jckantor/CBE40455/master/notebooks/02.10-Decentralized-Control-in-a-Supply-Chain.ipynb\"><img align=\"left\" src=\"https://img.shields.io/badge/Github-Download-blue.svg\" alt=\"Download\" title=\"Download Notebook\"></a>"
   ]
  },
  {
   "cell_type": "markdown",
   "metadata": {
    "colab_type": "text",
    "id": "faGKi4efxKg9"
   },
   "source": [
    "# Decentralized Control in a Supply Chain"
   ]
  },
  {
   "cell_type": "code",
   "execution_count": null,
   "metadata": {
    "colab": {},
    "colab_type": "code",
    "id": "_5UGAEiKxKg-"
   },
   "outputs": [],
   "source": [
    "%matplotlib inline\n",
    "\n",
    "import numpy as np\n",
    "import matplotlib.pyplot as plt\n",
    "import control.matlab as control"
   ]
  },
  {
   "cell_type": "markdown",
   "metadata": {
    "colab_type": "text",
    "id": "k8kvcX1_xKhA"
   },
   "source": [
    "## Model"
   ]
  },
  {
   "cell_type": "markdown",
   "metadata": {
    "colab_type": "text",
    "id": "k8kvcX1_xKhA"
   },
   "source": [
    "### Inventory Model\n",
    "\n",
    "We model a single level in a heirarchical supply chain as an inventory, $Y(t)$, that is depleted by customer orders, $D(t)$, and replenished by supplier deliveries. Orders $U(t)$ are sent to the supplier at time $t$ for delivery at time $t+\\tau$. The inventory is then given by\n",
    "\n",
    "$$\\frac{dY}{dt} = U(t-\\tau) - D(t)$$\n",
    "\n",
    "In this model, $U(t)$ and $D(t)$ have units of flowrate (i.e, quantity per unit time), whereas $Y$ has units of quantity.\n",
    "\n",
    "We further assume the customer demand is characterized by a stationary but perhaps unknown mean value $\\bar{D}$, and the inventory is controlled to a desired target level $\\bar{R}$. "
   ]
  },
  {
   "cell_type": "markdown",
   "metadata": {
    "colab_type": "text",
    "id": "k8kvcX1_xKhA"
   },
   "source": [
    "### Deviation Variables\n",
    "\n",
    "We introduce deviation variables for the actual and target inventories\n",
    "\n",
    "\\begin{align*}\n",
    "y(t) & = Y(t) - \\bar{Y} \\\\\n",
    "r(t) & = R(t) - \\bar{R}\n",
    "\\end{align*}\n",
    "\n",
    "and for the product flows\n",
    "\n",
    "\\begin{align*}\n",
    "d(t) & = D(t) - \\bar{D} \\\\\n",
    "u(t) & = U(t) - \\bar{U} \\\\\n",
    "\\end{align*}\n",
    "\n",
    "normally we expect $\\bar{Y} = \\bar{R}$ and $\\bar{U} = \\bar{D}$. The deviation variables can represent positive or negative deviations from nominal steady-state conditions."
   ]
  },
  {
   "cell_type": "markdown",
   "metadata": {
    "colab_type": "text",
    "id": "k8kvcX1_xKhA"
   },
   "source": [
    "### Inventory Model in Deviation Variables\n",
    "\n",
    "In deviation variables, the deviation of the inventory level from a nominal value $\\bar{Y}$ is given by\n",
    "\n",
    "$$\\frac{dy}{dt} = u(t-\\tau) - d(t)$$\n",
    "\n",
    "where $u$ and $d$ denote deviations from nominal conditions. After the Laplace transform (assuming zero initial conditions), the following transfer function model\n",
    "\n",
    "$$y(s) = \\frac{1}{s}e^{-\\tau s}u(s) - \\frac{1}{s}d(s)$$\n",
    "\n",
    "is obtained for the response of the inventory to downstream customer demand and orders sent to the upstream suppliers."
   ]
  },
  {
   "cell_type": "markdown",
   "metadata": {
    "colab_type": "text",
    "id": "cbMNeNAWxKhB"
   },
   "source": [
    "## Ordering Policies\n",
    "\n",
    "Here we consider the case of a single operator within a multi-level supply chain. The operator wishes to be part of a successful supply chain, but otherwise has only for the operator's own facility. We consider ordering policies for $u(s)$ that can be expressed as transfer functions operating on the available signals $y(s)$, $r(s)$, and $d(s)$. "
   ]
  },
  {
   "cell_type": "markdown",
   "metadata": {
    "colab_type": "text",
    "id": "cbMNeNAWxKhB"
   },
   "source": [
    "### Feed-forward Ordering based on Customer Demand\n",
    "\n",
    "A feed-forward policy would be to filter customer demand to determine orders,\n",
    "\n",
    "$$u(s) = K_d(s) d(s)$$\n",
    "\n",
    "where the single transfer function $K_d(s)$ is to be designed."
   ]
  },
  {
   "cell_type": "markdown",
   "metadata": {
    "colab_type": "text",
    "id": "cbMNeNAWxKhB"
   },
   "source": [
    "### Ordering based on Feedback Control of Inventory\n",
    "\n",
    "Feedback control is given by\n",
    "\n",
    "$$u(s) = K_e(s)\\left[r(s) - y(s)\\right]$$\n",
    "\n",
    "where $K_e(s)$ is the feedback policy determined by the 'error' $e(s) = r(s) - y(s)$, or difference, between the inventory target and actual inventory levels."
   ]
  },
  {
   "cell_type": "markdown",
   "metadata": {
    "colab_type": "text",
    "id": "cbMNeNAWxKhB"
   },
   "source": [
    "### Ordering based on 2DOF Feedback Control of Inventory\n",
    "\n",
    "The feedback policy can be further parameterized as\n",
    "\n",
    "$$u(s) = K_r(s)r(s) - K_y(s)y(s)$$\n",
    "\n",
    "where separate transfer functions are used for setpoint and process feedback."
   ]
  },
  {
   "cell_type": "markdown",
   "metadata": {
    "colab_type": "text",
    "id": "cbMNeNAWxKhB"
   },
   "source": [
    "### A 3 DOF Feed-forward plus Feedback Ordering Policy\n",
    "\n",
    "As a final consideration, we can write the ordering policy as \n",
    "\n",
    "$$u(s) = = K_r(s)r(s) - K_y(s)y(s) + K_d(s)d(s)$$\n",
    "\n",
    "where the three degrees of freedom are the choices of $K_r(s)$, $K_y(s)$, and $K_d(s)$."
   ]
  },
  {
   "cell_type": "markdown",
   "metadata": {
    "colab_type": "text",
    "id": "6UPqj4nqxKhC"
   },
   "source": [
    "### Closed-Loop Model\n",
    "\n",
    "Solving for $u(s)$,\n",
    "\n",
    "$$u(s) = \\left[P(s) - K(s)G(s)]d(s) = $$"
   ]
  },
  {
   "cell_type": "code",
   "execution_count": null,
   "metadata": {
    "colab": {},
    "colab_type": "code",
    "id": "lIxWgjVTxKhD",
    "outputId": "5ae11d7a-06fb-47d2-e5b7-9456e9aad7c4"
   },
   "outputs": [
    {
     "data": {
      "image/png": "[encoded data removed]",
      "text/plain": [
       "<matplotlib.figure.Figure at 0x114dc4b38>"
      ]
     },
     "metadata": {
      "tags": []
     },
     "output_type": "display_data"
    }
   ],
   "source": [
    "Kd = .5\n",
    "[num,den] = control.pade(1,5)\n",
    "D = Kd*control.tf(num,den)\n",
    "I = control.tf([1],[1,0])\n",
    "\n",
    "Hyd = I*(D-1)\n",
    "\n",
    "def myBode(H):\n",
    "    w = np.logspace(-3,2,401)\n",
    "    mag,phase,omega = control.bode(H,w,deg=True,Plot=False);\n",
    "    \n",
    "    wc = np.interp(-180.0,np.flipud(phase),np.flipud(omega))\n",
    "    gc = np.interp(wc,omega,mag)\n",
    "\n",
    "    plt.figure(figsize=(12,6))\n",
    "    plt.subplot(2,2,1)\n",
    "    plt.loglog(omega,mag)\n",
    "    plt.ylim(.01,10)\n",
    "    plt.loglog([wc,wc],plt.ylim(),'r--')\n",
    "    plt.loglog(plt.xlim(),[1,1],'g--')\n",
    "    plt.grid()\n",
    "    plt.title('Open Loop Transfer Function')\n",
    "    \n",
    "    plt.subplot(2,2,3)\n",
    "    plt.semilogx(omega,phase)\n",
    "    plt.ylim(-360,360)\n",
    "    plt.semilogx(plt.xlim(),[-180,-180],'g--')\n",
    "    plt.semilogx([wc,wc],plt.ylim(),'r--')\n",
    "    plt.grid()\n",
    "\n",
    "    \n",
    "myBode(Hyd)"
   ]
  },
  {
   "cell_type": "code",
   "execution_count": null,
   "metadata": {
    "colab": {},
    "colab_type": "code",
    "id": "wfaljXsFxKhH",
    "outputId": "eacd91ac-8ebf-480b-9a39-8b2b9f23ddef"
   },
   "outputs": [
    {
     "data": {
      "image/png": "[encoded data removed]",
      "text/plain": [
       "<matplotlib.figure.Figure at 0x1139d9978>"
      ]
     },
     "metadata": {
      "tags": []
     },
     "output_type": "display_data"
    }
   ],
   "source": [
    "from ipywidgets import interact\n",
    "\n",
    "w = np.logspace(-1,2,401)\n",
    "\n",
    "def sim(torder=0, kp=.1, alpha = 0):\n",
    "\n",
    "    num,den = control.pade(torder,5)\n",
    "    p = control.tf(num,den)\n",
    "    g = control.tf([1],[1,0])\n",
    "    k = control.tf([kp],[1])\n",
    "    mag,phase,omega = control.bode(g*p*k,w,deg=True,Hz=True, Plot=False);\n",
    "    magc, phasec, omegac = control.bode(g*k/(1+g*p*k),w,deg=True,Hz=True, Plot=False);\n",
    "    maga, phasea, omegaa = control.bode(alpha + (1-alpha)*g*k/(1+g*p*k),w,deg=True,Hz=True, Plot=False);\n",
    "    \n",
    "    wc = np.interp(-180.0,np.flipud(phase),np.flipud(omega))\n",
    "    gc = np.interp(wc,omega,mag)\n",
    "\n",
    "    \n",
    "    plt.figure(figsize=(12,6))\n",
    "    plt.subplot(2,2,1)\n",
    "    plt.loglog(omega,mag)\n",
    "    plt.ylim(.01,10)\n",
    "    plt.loglog([wc,wc],plt.ylim(),'r--')\n",
    "    plt.loglog(plt.xlim(),[1,1],'g--')\n",
    "    plt.grid()\n",
    "    plt.title('Open Loop Transfer Function')\n",
    "    \n",
    "    plt.subplot(2,2,3)\n",
    "    plt.semilogx(omega,phase)\n",
    "    plt.ylim(-360,360)\n",
    "    plt.semilogx(plt.xlim(),[-180,-180],'g--')\n",
    "    plt.semilogx([wc,wc],plt.ylim(),'r--')\n",
    "    plt.grid()\n",
    "    \n",
    "    plt.subplot(2,2,2)\n",
    "    plt.loglog(omegac,magc)\n",
    "    plt.loglog(omegaa,maga)\n",
    "    plt.ylim(.01,10)\n",
    "    plt.grid()\n",
    "    plt.title('Closed Loop Transfer Function')\n",
    "    \n",
    "    plt.subplot(2,2,4)\n",
    "    plt.semilogx(omegac,phasec)\n",
    "    plt.semilogx(omegaa,phasea)\n",
    "    plt.ylim(-360,360)\n",
    "    plt.grid()\n",
    "\n",
    "interact(sim, torder=(0,8,.02), kp=(.1,5,.05), alpha = (-1,1,.01))"
   ]
  },
  {
   "cell_type": "code",
   "execution_count": null,
   "metadata": {
    "colab": {},
    "colab_type": "code",
    "id": "JVBYYHKTxKhK"
   },
   "outputs": [],
   "source": [
    "cont"
   ]
  },
  {
   "cell_type": "markdown",
   "metadata": {},
   "source": [
    "<!--NAVIGATION-->\n",
    "< [Continuous Time Simulation in SimPy](http://nbviewer.jupyter.org/github/jckantor/CBE40455/blob/master/notebooks/02.09-Continuous-Time-Simulation-in-SimPy.ipynb) | [Contents](toc.ipynb) | [Linear Optimization](http://nbviewer.jupyter.org/github/jckantor/CBE40455/blob/master/notebooks/03.00-Linear-Optimization.ipynb) ><p><a href=\"https://colab.research.google.com/github/jckantor/CBE40455/blob/master/notebooks/02.10-Decentralized-Control-in-a-Supply-Chain.ipynb\"><img align=\"left\" src=\"https://colab.research.google.com/assets/colab-badge.svg\" alt=\"Open in Colab\" title=\"Open in Google Colaboratory\"></a><p><a href=\"https://raw.githubusercontent.com/jckantor/CBE40455/master/notebooks/02.10-Decentralized-Control-in-a-Supply-Chain.ipynb\"><img align=\"left\" src=\"https://img.shields.io/badge/Github-Download-blue.svg\" alt=\"Download\" title=\"Download Notebook\"></a>"
   ]
  }
 ],
 "metadata": {
  "colab": {
   "collapsed_sections": [],
   "name": "04.08-Decentralized-Control-in-a-Supply-Chain.ipynb",
   "provenance": [],
   "version": "0.3.2"
  },
  "kernelspec": {
   "display_name": "Python 3",
   "language": "python",
   "name": "python3"
  },
  "language_info": {
   "codemirror_mode": {
    "name": "ipython",
    "version": 3
   },
   "file_extension": ".py",
   "mimetype": "text/x-python",
   "name": "python",
   "nbconvert_exporter": "python",
   "pygments_lexer": "ipython3",
   "version": "3.7.3"
  }
 },
 "nbformat": 4,
 "nbformat_minor": 2
}
