{
 "cells": [
  {
   "cell_type": "markdown",
   "metadata": {
    "colab_type": "text",
    "id": "0irAWFwIibH8",
    "pycharm": {}
   },
   "source": [
    "<!--NOTEBOOK_HEADER-->\n",
    "*This notebook contains course material from [CBE40455](https://jckantor.github.io/CBE40455) by\n",
    "Jeffrey Kantor (jeff at nd.edu); the content is available [on Github](https://github.com/jckantor/CBE40455.git).\n",
    "The text is released under the [CC-BY-NC-ND-4.0 license](https://creativecommons.org/licenses/by-nc-nd/4.0/legalcode),\n",
    "and code is released under the [MIT license](https://opensource.org/licenses/MIT).*"
   ]
  },
  {
   "cell_type": "markdown",
   "metadata": {
    "colab_type": "text",
    "id": "Q-wFNRv1ibH9",
    "pycharm": {}
   },
   "source": [
    "<!--NAVIGATION-->\n",
    "< [Getting Started with Gurobi](http://nbviewer.jupyter.org/github/jckantor/CBE40455/blob/master/notebooks/01.02-Getting-Started-with-Gurobi.ipynb) | [Contents](toc.ipynb) | [Getting Started with Pandas](http://nbviewer.jupyter.org/github/jckantor/CBE40455/blob/master/notebooks/01.04-Getting-Started-with-Pandas.ipynb) ><p><a href=\"https://colab.research.google.com/github/jckantor/CBE40455/blob/master/notebooks/01.03-Getting-Started-with-GNU-MathProg.ipynb\"><img align=\"left\" src=\"https://colab.research.google.com/assets/colab-badge.svg\" alt=\"Open in Colab\" title=\"Open in Google Colaboratory\"></a><p><a href=\"https://raw.githubusercontent.com/jckantor/CBE40455/master/notebooks/01.03-Getting-Started-with-GNU-MathProg.ipynb\"><img align=\"left\" src=\"https://img.shields.io/badge/Github-Download-blue.svg\" alt=\"Download\" title=\"Download Notebook\"></a>"
   ]
  },
  {
   "cell_type": "markdown",
   "metadata": {
    "colab_type": "text",
    "id": "awNHnu1wibH9",
    "pycharm": {}
   },
   "source": [
    "# Getting Started with GNU MathProg in Jupyter Notebooks"
   ]
  },
  {
   "cell_type": "markdown",
   "metadata": {
    "colab_type": "text",
    "id": "syfsIVbkibH-",
    "pycharm": {}
   },
   "source": [
    "This notebook describes the installation and use of GLPK/MathProg from within a [Jupyter notebook](http://jupyter.org/)."
   ]
  },
  {
   "cell_type": "markdown",
   "metadata": {
    "colab_type": "text",
    "id": "E3orzhtfibH-",
    "pycharm": {}
   },
   "source": [
    "## GNU MathProg is a Mathematical Programming Language"
   ]
  },
  {
   "cell_type": "markdown",
   "metadata": {
    "colab_type": "text",
    "id": "Yf9nYyIJibH_",
    "pycharm": {}
   },
   "source": [
    "GNU MathProg is a mathematical programming languages designed for the purpose of writing applications of mixed-integer linear programming in a concise, high-level, maintainable manner with sufficient detail to be translated and solved using optimization software.\n",
    "\n",
    "Since the introduction of [GAMS](http://www.gams.com/) (the General Algebraic Modeling System) in the late 1970's, a number of succesful languages have been produced including [AIMMS](http://business.aimms.com/), [AMPL](http://www.ampl.com/), [LINDO/LINGO](http://www.lindo.com/), [MPL](http://www.maximalsoftware.com/), [XPRESS-MOSEL](http://www.fico.com/en/products/fico-xpress-optimization-suite/), and others.  Of these, AMPL is the most widely adopted language for university training.\n",
    "\n",
    "[GNU MathProg](http://en.wikibooks.org/wiki/GLPK/GMPL_(MathProg) provides a significant subset of the AMPL language roughly equivalent to the version of AMPL distributed in the early 1990's and described in the [AMPL book](http://www.ampl.com/BOOK/download.html). Though a component of the open source [GNU GLPK project](http://www.gnu.org/software/glpk/) for linear programming, the MathProg interface is also available for other solvers including [lpsolve](http://lpsolve.sourceforge.net/5.5/MathProg.htm) and COIN-OR CBC. MathProg can export models formats compatiable with most commercial and non-commericial solvers for mixed-integer linear programs."
   ]
  },
  {
   "cell_type": "markdown",
   "metadata": {
    "colab_type": "text",
    "id": "3uwYS91bibIA",
    "pycharm": {}
   },
   "source": [
    "## Installing GLPK/MathProg to Run from a Jupyter Notebook\n",
    "\n",
    "You will need to obtain a working copy of GLPK to run the code cells in the following tutorial. Here some recommendations."
   ]
  },
  {
   "cell_type": "markdown",
   "metadata": {
    "colab_type": "text",
    "id": "4palj4QCiqC7",
    "pycharm": {}
   },
   "source": [
    "### In the Cloud\n",
    "\n",
    "This notebook is part of collection of notebooks available in the github repository [CBE40455](https://github.com/jckantor/CBE40455).  This collection can be opened directly in a Docker container on [mybinder.org](http://mybinder.org).\n",
    "\n",
    "\n",
    "[mybinder.org](http://mybinder.org) provides a live version of notebook that can be run, edited, and downloaded for your use under terms of the Creative Commons License. Unfortunately, persistent file storage is not available through this service, so you need to be sure and download any changes or new notebooks that you may create."
   ]
  },
  {
   "cell_type": "markdown",
   "metadata": {
    "colab_type": "text",
    "id": "R1KIScoqiyOd",
    "pycharm": {}
   },
   "source": [
    "### Google Colaboratory"
   ]
  },
  {
   "cell_type": "code",
   "execution_count": null,
   "metadata": {
    "colab": {},
    "colab_type": "code",
    "id": "0ljeTJ70i1GI",
    "pycharm": {}
   },
   "outputs": [],
   "source": [
    "!apt-get install glpk-utils -qq"
   ]
  },
  {
   "cell_type": "markdown",
   "metadata": {
    "colab_type": "text",
    "id": "ZmUyKg5LibIA",
    "pycharm": {}
   },
   "source": [
    "### On your Laptop\n",
    "\n",
    "Assuming you have downloaded and installed a version of Jupyter notebooks (either Continuum Analytics [Anaconda](https://www.continuum.io/downloads) or [Enthought Canopy](https://store.enthought.com/downloads/#default)), the next step is to install a version of GLPK.\n",
    "\n",
    "1. For Windows/PC hardware, the [Windows for GLPK web site](http://winglpk.sourceforge.net/) maintains a pre-compiled version of GLPK based on the lastest official release. Test your GLPK installation by executing the `glpsol` version command in a terminal window.\n",
    "```\n",
    "glpsol -v\n",
    "```\n",
    "\n",
    "2. For MacOS users, the most convenient installation process is to use a package manager. If you are not already doing so, you may consider installing the excellect [Homebrew package manager](http://brew.sh/) using the instructions on their homepage. The basic instruction is to open a terminal window (open the file browser go to the directory Applications/Utilities then click on `Terminal`), then execute this command:\n",
    "```\n",
    "ruby -e \"$(curl -fsSL https://raw.githubusercontent.com/Homebrew/install/master/install)\"\n",
    "```\n",
    "After Homebrew is installed, GLPK can be installed with two commands in the terminal window:\n",
    "```\n",
    "  brew tap homebrew/science\n",
    "  brew install glpk\n",
    "```\n",
    "Test your GLPK installation by executing the `glpsol` version command in a terminal window.\n",
    "```\n",
    "glpsol -v\n",
    "```"
   ]
  },
  {
   "cell_type": "markdown",
   "metadata": {
    "colab_type": "text",
    "id": "IoQOglp1ivtO",
    "pycharm": {}
   },
   "source": [
    "### Testing \n",
    "\n",
    "If GLPK has been installed correctly on your machine then you should be able to execute the following command from within a Jupyter notebook.. Test this before going further with this tutorial."
   ]
  },
  {
   "cell_type": "code",
   "execution_count": 2,
   "metadata": {
    "colab": {
     "base_uri": "https://localhost:8080/",
     "height": 238
    },
    "colab_type": "code",
    "executionInfo": {
     "elapsed": 2396,
     "status": "ok",
     "timestamp": 1557187703472,
     "user": {
      "displayName": "Jeffrey Kantor",
      "photoUrl": "https://lh5.googleusercontent.com/-8zK5aAW5RMQ/AAAAAAAAAAI/AAAAAAAAKB0/kssUQyz8DTQ/s64/photo.jpg",
      "userId": "09038942003589296665"
     },
     "user_tz": 240
    },
    "id": "Au3HhgmTibIB",
    "outputId": "0c5f5d30-ca1a-4c5a-eec9-92c90c6a51c2",
    "pycharm": {}
   },
   "outputs": [
    {
     "name": "stdout",
     "output_type": "stream",
     "text": [
      "GLPSOL: GLPK LP/MIP Solver, v4.65\n",
      "Parameter(s) specified in the command line:\n",
      " -m /dev/stdin\n",
      "Reading model section from /dev/stdin...\n",
      "3 lines were read\n",
      "Hello, World\n",
      "Model has been successfully generated\n",
      "GLPK Simplex Optimizer, v4.65\n",
      "0 rows, 0 columns, 0 non-zeros\n",
      "~     0: obj =   0.000000000e+00  infeas =  0.000e+00\n",
      "OPTIMAL SOLUTION FOUND\n",
      "Time used:   0.0 secs\n",
      "Memory used: 0.0 Mb (41595 bytes)\n"
     ]
    }
   ],
   "source": [
    "%%script glpsol -m /dev/stdin\n",
    "\n",
    "printf \"Hello, World\\n\";\n",
    "end;"
   ]
  },
  {
   "cell_type": "markdown",
   "metadata": {
    "colab_type": "text",
    "id": "f3aGki3NibIE",
    "pycharm": {}
   },
   "source": [
    "## Running GLPK/MathProg from Code Cells"
   ]
  },
  {
   "cell_type": "markdown",
   "metadata": {
    "colab_type": "text",
    "id": "IfGhz9pAibIF",
    "pycharm": {}
   },
   "source": [
    "Jupyter notebooks have a special set of ['magic' commands](http://nbviewer.ipython.org/github/ipython/ipython/blob/master/examples/notebooks/Cell%20Magics.ipynb) that are used to specify Jupyter behavior, to interact with the computational environment, or to provide help. Magic commands begin with a `%`, `!`, or `?`, and extend over a single line (a 'line magic') or over a whole code cell (a 'cell magic').\n",
    "\n",
    "The following code cell demonstrates the use of the use of the `%%script` cell magic to run a MathProg model. The first line of the code cell is\n",
    "\n",
    "`%%script glpsol -m /dev/stdin` \n",
    "\n",
    "which tells Jupyter to run the [`glpsol -m`](http://en.wikibooks.org/wiki/GLPK/Using_GLPSOL) command reading the remaining lines of the cell as MathProg input. The `-m /dev/stdin` part is a `glpsol` option directs `glpsol` to accept MathProg input from the standard input. For the `%%script` command, the standard input consists of the remaining lines in the code cell. Output from the command is displayed in the cell output."
   ]
  },
  {
   "cell_type": "code",
   "execution_count": 3,
   "metadata": {
    "colab": {
     "base_uri": "https://localhost:8080/",
     "height": 476
    },
    "colab_type": "code",
    "executionInfo": {
     "elapsed": 2382,
     "status": "ok",
     "timestamp": 1557187703473,
     "user": {
      "displayName": "Jeffrey Kantor",
      "photoUrl": "https://lh5.googleusercontent.com/-8zK5aAW5RMQ/AAAAAAAAAAI/AAAAAAAAKB0/kssUQyz8DTQ/s64/photo.jpg",
      "userId": "09038942003589296665"
     },
     "user_tz": 240
    },
    "id": "mu_1nbEKibIF",
    "outputId": "76bb1752-672e-4a9c-fe04-e46b32fc60b4",
    "pycharm": {}
   },
   "outputs": [
    {
     "name": "stdout",
     "output_type": "stream",
     "text": [
      "GLPSOL: GLPK LP/MIP Solver, v4.65\n",
      "Parameter(s) specified in the command line:\n",
      " -m /dev/stdin\n",
      "Reading model section from /dev/stdin...\n",
      "15 lines were read\n",
      "Generating Ca...\n",
      "Generating Cb...\n",
      "Generating obj...\n",
      "Model has been successfully generated\n",
      "GLPK Simplex Optimizer, v4.65\n",
      "3 rows, 2 columns, 6 non-zeros\n",
      "Preprocessing...\n",
      "2 rows, 2 columns, 4 non-zeros\n",
      "Scaling...\n",
      " A: min|aij| =  1.000e+00  max|aij| =  3.000e+00  ratio =  3.000e+00\n",
      "Problem data seem to be well scaled\n",
      "Constructing initial basis...\n",
      "Size of triangular part is 2\n",
      "*     0: obj =  -0.000000000e+00 inf =   0.000e+00 (2)\n",
      "*     2: obj =   5.371428571e+00 inf =   0.000e+00 (0)\n",
      "OPTIMAL LP SOLUTION FOUND\n",
      "Time used:   0.0 secs\n",
      "Memory used: 0.1 Mb (102251 bytes)\n",
      "Display statement at line 13\n",
      "x.val = 3.81428571428571\n",
      "y.val = 1.55714285714286\n",
      "Model has been successfully processed\n"
     ]
    }
   ],
   "source": [
    "%%script glpsol -m /dev/stdin\n",
    "\n",
    "param a := 12.3;\n",
    "param b := 13.0;\n",
    "\n",
    "var x >= 0;\n",
    "var y >= 0;\n",
    "\n",
    "s.t. Ca : 2*x + 3*y <= a;\n",
    "s.t. Cb : 3*x + 1*y <= b;\n",
    "\n",
    "maximize obj: x + y;\n",
    "solve;\n",
    "display x,y;\n",
    "   \n",
    "end;"
   ]
  },
  {
   "cell_type": "markdown",
   "metadata": {
    "colab_type": "text",
    "id": "pY40G0sVibII",
    "pycharm": {}
   },
   "source": [
    "## Specifying Input Files for MathProg"
   ]
  },
  {
   "cell_type": "markdown",
   "metadata": {
    "colab_type": "text",
    "id": "jjKsDblKibIJ",
    "pycharm": {}
   },
   "source": [
    "The `glpsol` command can read a MathProg model from a file with a `.mod` suffix, and can read MathProg data from multiple files with a `.dat` suffix. Here we show how to incorporate this functionality within a Jupyter notebook.\n",
    "\n",
    "To start, let's save a simple MathProg model into a `.mod` file using the `%%writefile` cell magic. A previously created subdirectory `tmp` is used to store the model file."
   ]
  },
  {
   "cell_type": "code",
   "execution_count": 4,
   "metadata": {
    "colab": {
     "base_uri": "https://localhost:8080/",
     "height": 34
    },
    "colab_type": "code",
    "executionInfo": {
     "elapsed": 2372,
     "status": "ok",
     "timestamp": 1557187703474,
     "user": {
      "displayName": "Jeffrey Kantor",
      "photoUrl": "https://lh5.googleusercontent.com/-8zK5aAW5RMQ/AAAAAAAAAAI/AAAAAAAAKB0/kssUQyz8DTQ/s64/photo.jpg",
      "userId": "09038942003589296665"
     },
     "user_tz": 240
    },
    "id": "Lfs7BLvgibIJ",
    "outputId": "43bdbe0d-e49d-4602-81e0-034a3293fb88",
    "pycharm": {}
   },
   "outputs": [
    {
     "name": "stdout",
     "output_type": "stream",
     "text": [
      "Overwriting ExampleModel.mod\n"
     ]
    }
   ],
   "source": [
    "%%writefile ExampleModel.mod\n",
    "\n",
    "# model section\n",
    "param a;\n",
    "param b;\n",
    "\n",
    "var x >= 0;\n",
    "var y >= 0;\n",
    "\n",
    "subject to Ca: 3.0*x + 4.0*y <= a;\n",
    "subject to Cb: 4.0*x + 2.0*y <= b;\n",
    "\n",
    "maximize obj: x + y;\n",
    "solve;\n",
    "printf \"x = %6.3f\\n\", x;\n",
    "printf \"y = %6.3f\\n\", y;\n",
    "\n",
    "end;"
   ]
  },
  {
   "cell_type": "markdown",
   "metadata": {
    "colab_type": "text",
    "id": "6l0b7bG6ibIM",
    "pycharm": {}
   },
   "source": [
    "This model requires at a data section to specify values for the parameters `a` and `b`. The next cell shows how to read the data section from the standard input (which consists of the subsequent lines of the code cell) using `-d` argument of the `glpsol` command."
   ]
  },
  {
   "cell_type": "code",
   "execution_count": 5,
   "metadata": {
    "colab": {
     "base_uri": "https://localhost:8080/",
     "height": 510
    },
    "colab_type": "code",
    "executionInfo": {
     "elapsed": 2357,
     "status": "ok",
     "timestamp": 1557187703475,
     "user": {
      "displayName": "Jeffrey Kantor",
      "photoUrl": "https://lh5.googleusercontent.com/-8zK5aAW5RMQ/AAAAAAAAAAI/AAAAAAAAKB0/kssUQyz8DTQ/s64/photo.jpg",
      "userId": "09038942003589296665"
     },
     "user_tz": 240
    },
    "id": "x0_SKgrxibIM",
    "outputId": "54b8f9a0-f71e-4e0c-981f-cd033c11b7a5",
    "pycharm": {}
   },
   "outputs": [
    {
     "name": "stdout",
     "output_type": "stream",
     "text": [
      "GLPSOL: GLPK LP/MIP Solver, v4.65\n",
      "Parameter(s) specified in the command line:\n",
      " -m ExampleModel.mod -d /dev/stdin\n",
      "Reading model section from ExampleModel.mod...\n",
      "ExampleModel.mod:17: warning: final NL missing before end of file\n",
      "17 lines were read\n",
      "Reading data section from /dev/stdin...\n",
      "5 lines were read\n",
      "Generating Ca...\n",
      "Generating Cb...\n",
      "Generating obj...\n",
      "Model has been successfully generated\n",
      "GLPK Simplex Optimizer, v4.65\n",
      "3 rows, 2 columns, 6 non-zeros\n",
      "Preprocessing...\n",
      "2 rows, 2 columns, 4 non-zeros\n",
      "Scaling...\n",
      " A: min|aij| =  2.000e+00  max|aij| =  4.000e+00  ratio =  2.000e+00\n",
      "Problem data seem to be well scaled\n",
      "Constructing initial basis...\n",
      "Size of triangular part is 2\n",
      "*     0: obj =  -0.000000000e+00 inf =   0.000e+00 (2)\n",
      "*     2: obj =   3.500000000e+00 inf =   0.000e+00 (0)\n",
      "OPTIMAL LP SOLUTION FOUND\n",
      "Time used:   0.0 secs\n",
      "Memory used: 0.1 Mb (102257 bytes)\n",
      "x =  1.700\n",
      "y =  1.800\n",
      "Model has been successfully processed\n"
     ]
    }
   ],
   "source": [
    "%%script glpsol -m ExampleModel.mod -d /dev/stdin\n",
    "\n",
    "param a := 12.3;\n",
    "param b := 10.4;\n",
    "\n",
    "end;"
   ]
  },
  {
   "cell_type": "markdown",
   "metadata": {
    "colab_type": "text",
    "id": "49TbSYh6ibIO",
    "pycharm": {}
   },
   "source": [
    "An alternative approach is save the data into a data file, then run `glpsol` is run as a system command using options to specify separate model and data files."
   ]
  },
  {
   "cell_type": "code",
   "execution_count": 6,
   "metadata": {
    "colab": {
     "base_uri": "https://localhost:8080/",
     "height": 34
    },
    "colab_type": "code",
    "executionInfo": {
     "elapsed": 2449,
     "status": "ok",
     "timestamp": 1557187703580,
     "user": {
      "displayName": "Jeffrey Kantor",
      "photoUrl": "https://lh5.googleusercontent.com/-8zK5aAW5RMQ/AAAAAAAAAAI/AAAAAAAAKB0/kssUQyz8DTQ/s64/photo.jpg",
      "userId": "09038942003589296665"
     },
     "user_tz": 240
    },
    "id": "1ciHVrXlibIQ",
    "outputId": "9301e25f-429d-41ee-a18a-fd0f35f3c63b",
    "pycharm": {}
   },
   "outputs": [
    {
     "name": "stdout",
     "output_type": "stream",
     "text": [
      "Overwriting ExampleModel.dat\n"
     ]
    }
   ],
   "source": [
    "%%writefile ExampleModel.dat\n",
    "data;\n",
    "\n",
    "param a := 12.3;\n",
    "param b := 10.4;\n",
    "\n",
    "end;"
   ]
  },
  {
   "cell_type": "code",
   "execution_count": 7,
   "metadata": {
    "colab": {
     "base_uri": "https://localhost:8080/",
     "height": 527
    },
    "colab_type": "code",
    "executionInfo": {
     "elapsed": 3592,
     "status": "ok",
     "timestamp": 1557187704733,
     "user": {
      "displayName": "Jeffrey Kantor",
      "photoUrl": "https://lh5.googleusercontent.com/-8zK5aAW5RMQ/AAAAAAAAAAI/AAAAAAAAKB0/kssUQyz8DTQ/s64/photo.jpg",
      "userId": "09038942003589296665"
     },
     "user_tz": 240
    },
    "id": "zx6lHvOqibIS",
    "outputId": "e3043680-9ad4-4e66-f8de-50a8300d52f1",
    "pycharm": {}
   },
   "outputs": [
    {
     "name": "stdout",
     "output_type": "stream",
     "text": [
      "GLPSOL: GLPK LP/MIP Solver, v4.65\n",
      "Parameter(s) specified in the command line:\n",
      " -m ExampleModel.mod -d ExampleModel.dat\n",
      "Reading model section from ExampleModel.mod...\n",
      "ExampleModel.mod:17: warning: final NL missing before end of file\n",
      "17 lines were read\n",
      "Reading data section from ExampleModel.dat...\n",
      "ExampleModel.dat:6: warning: final NL missing before end of file\n",
      "6 lines were read\n",
      "Generating Ca...\n",
      "Generating Cb...\n",
      "Generating obj...\n",
      "Model has been successfully generated\n",
      "GLPK Simplex Optimizer, v4.65\n",
      "3 rows, 2 columns, 6 non-zeros\n",
      "Preprocessing...\n",
      "2 rows, 2 columns, 4 non-zeros\n",
      "Scaling...\n",
      " A: min|aij| =  2.000e+00  max|aij| =  4.000e+00  ratio =  2.000e+00\n",
      "Problem data seem to be well scaled\n",
      "Constructing initial basis...\n",
      "Size of triangular part is 2\n",
      "*     0: obj =  -0.000000000e+00 inf =   0.000e+00 (2)\n",
      "*     2: obj =   3.500000000e+00 inf =   0.000e+00 (0)\n",
      "OPTIMAL LP SOLUTION FOUND\n",
      "Time used:   0.0 secs\n",
      "Memory used: 0.1 Mb (102257 bytes)\n",
      "x =  1.700\n",
      "y =  1.800\n",
      "Model has been successfully processed\n"
     ]
    }
   ],
   "source": [
    "!glpsol -m ExampleModel.mod -d ExampleModel.dat"
   ]
  },
  {
   "cell_type": "markdown",
   "metadata": {
    "colab_type": "text",
    "id": "AiTxOWKWibIV",
    "pycharm": {}
   },
   "source": [
    "## Redirecting MathProg Output\n",
    "\n",
    "The `glpsol` command generates six types of output while processing a MathProg model:\n",
    "\n",
    "* **log**: A log showing the execution steps of `glpsol`, including reports of model syntax errors and solution status. This is always sent to standard output. The `--log filename` writes a copy of the log to a specified file.\n",
    "* **display**: The output of MathProg `display` or `printf` commands. By default this is sent to standard output, but may be redirected using the `glpsol -y filename` option.\n",
    "* **plain text solution**: This is a generic, human readable solution report that is generated only if the `glpsol -o filename` option is set.\n",
    "* **machine solution**: This is a machine readable solution report generated by the `glpsol -w filename` option. The main use of this option is break up the post-processing of a solution into modular parts.\n",
    "* **table**: The `MathProg` `table` commmand provides a method for writing data to specified files and database connectors, including `.csv` formats.\n",
    "* **errors**: Abnormal exits from `glpsol` are always report on standard error.\n",
    "\n",
    "\n",
    "| Mathprog Output | default | redirect |\n",
    "| -- | -- |\n",
    "| **log** | /dev/stdout | --log filename (copy) |\n",
    "| **display, printf** | /dev/stdout | `-y filename` |\n",
    "| **table**| | specified in table command|\n",
    "| **plain text solution** | | `-o filename` |\n",
    "| **binary solution** | | `-w filename` |\n",
    "| **errors** | /dev/stderr | ` ` |\n",
    "\n",
    "\n",
    "\n",
    "* --out redirect stdout\n",
    "* --err redirect err output\n"
   ]
  },
  {
   "cell_type": "code",
   "execution_count": null,
   "metadata": {
    "colab": {},
    "colab_type": "code",
    "id": "A2D8CKGzibIV",
    "pycharm": {}
   },
   "outputs": [],
   "source": [
    "%%script --out output glpsol -m ExampleModel.mod -d /dev/stdin -y out.txt\n",
    "\n",
    "data;\n",
    "\n",
    "param a := 12.3;\n",
    "param b := 10.4;\n",
    "\n",
    "end;"
   ]
  },
  {
   "cell_type": "markdown",
   "metadata": {
    "colab_type": "text",
    "id": "gsTJ3AOGibIX",
    "pycharm": {}
   },
   "source": [
    "The `-y out.txt` option redirects display output to the file `out.txt`. The file can be read and displayed using the usual python methods as shown here:"
   ]
  },
  {
   "cell_type": "code",
   "execution_count": 9,
   "metadata": {
    "colab": {
     "base_uri": "https://localhost:8080/",
     "height": 68
    },
    "colab_type": "code",
    "executionInfo": {
     "elapsed": 3699,
     "status": "ok",
     "timestamp": 1557187704853,
     "user": {
      "displayName": "Jeffrey Kantor",
      "photoUrl": "https://lh5.googleusercontent.com/-8zK5aAW5RMQ/AAAAAAAAAAI/AAAAAAAAKB0/kssUQyz8DTQ/s64/photo.jpg",
      "userId": "09038942003589296665"
     },
     "user_tz": 240
    },
    "id": "rhrNXTV2ibIX",
    "outputId": "9d366659-726d-4ea5-8987-9d38e485106c",
    "pycharm": {}
   },
   "outputs": [
    {
     "name": "stdout",
     "output_type": "stream",
     "text": [
      "x =  1.700\n",
      "y =  1.800\n",
      "\n"
     ]
    }
   ],
   "source": [
    "def readfile(fname):\n",
    "    f = open('out.txt')\n",
    "    s = f.read()\n",
    "    f.close()\n",
    "    return s\n",
    "\n",
    "print(readfile('out.txt'))"
   ]
  },
  {
   "cell_type": "markdown",
   "metadata": {
    "colab_type": "text",
    "id": "1DisvpfdibIZ",
    "pycharm": {}
   },
   "source": [
    "The `--out output` is an option passed to script that redirects normal cell output to a python variable `output`. This will contain the remaining output of the `glpsol` command which can be displayed as follows:"
   ]
  },
  {
   "cell_type": "code",
   "execution_count": 10,
   "metadata": {
    "colab": {
     "base_uri": "https://localhost:8080/",
     "height": 493
    },
    "colab_type": "code",
    "executionInfo": {
     "elapsed": 3692,
     "status": "ok",
     "timestamp": 1557187704853,
     "user": {
      "displayName": "Jeffrey Kantor",
      "photoUrl": "https://lh5.googleusercontent.com/-8zK5aAW5RMQ/AAAAAAAAAAI/AAAAAAAAKB0/kssUQyz8DTQ/s64/photo.jpg",
      "userId": "09038942003589296665"
     },
     "user_tz": 240
    },
    "id": "xomKk0RNibIZ",
    "outputId": "0dc3d591-264b-40c6-8b4b-62e8b4b4519f",
    "pycharm": {}
   },
   "outputs": [
    {
     "name": "stdout",
     "output_type": "stream",
     "text": [
      "GLPSOL: GLPK LP/MIP Solver, v4.65\n",
      "Parameter(s) specified in the command line:\n",
      " -m ExampleModel.mod -d /dev/stdin -y out.txt\n",
      "Reading model section from ExampleModel.mod...\n",
      "ExampleModel.mod:17: warning: final NL missing before end of file\n",
      "17 lines were read\n",
      "Reading data section from /dev/stdin...\n",
      "7 lines were read\n",
      "Generating Ca...\n",
      "Generating Cb...\n",
      "Generating obj...\n",
      "Model has been successfully generated\n",
      "GLPK Simplex Optimizer, v4.65\n",
      "3 rows, 2 columns, 6 non-zeros\n",
      "Preprocessing...\n",
      "2 rows, 2 columns, 4 non-zeros\n",
      "Scaling...\n",
      " A: min|aij| =  2.000e+00  max|aij| =  4.000e+00  ratio =  2.000e+00\n",
      "Problem data seem to be well scaled\n",
      "Constructing initial basis...\n",
      "Size of triangular part is 2\n",
      "*     0: obj =  -0.000000000e+00 inf =   0.000e+00 (2)\n",
      "*     2: obj =   3.500000000e+00 inf =   0.000e+00 (0)\n",
      "OPTIMAL LP SOLUTION FOUND\n",
      "Time used:   0.0 secs\n",
      "Memory used: 0.1 Mb (110552 bytes)\n",
      "Model has been successfully processed\n",
      "\n"
     ]
    }
   ],
   "source": [
    "print(output)"
   ]
  },
  {
   "cell_type": "markdown",
   "metadata": {
    "colab_type": "text",
    "id": "EGsGZf3pibIc",
    "pycharm": {}
   },
   "source": [
    "If things went well we should see a line `OPTIMAL LP SOLUTION FOUND` along with additional information that is useful in tuning larger models for efficient solution.  If things didn't go well, an appropriate message will be displayed indicating a model processing error or a problems in finding a numerical solution.\n",
    "\n",
    "In this case `glpsol` says an optimal solution was found. The next step is to show the displayed results that were written to the file `out.txt`."
   ]
  },
  {
   "cell_type": "markdown",
   "metadata": {
    "colab_type": "text",
    "id": "ieYCYO_QibIc",
    "pycharm": {}
   },
   "source": [
    "## Working with MathProg Tables\n",
    "\n",
    "The MathProg `table` statement is a flexible tool for interfacing MathProg models with data sources and accessing the results generated by a MathProg model. "
   ]
  },
  {
   "cell_type": "markdown",
   "metadata": {
    "colab_type": "text",
    "id": "mxOJgsJtibId",
    "pycharm": {}
   },
   "source": [
    "### Reading and Writing Data from .csv Files\n",
    "\n",
    "The `.csv` file format is commonly used to exchange data with spreadsheet and databases. The following MathProg example demonstrates reading and writing model data to`.csv` files.\n",
    "\n",
    "The example problem is to minimize the cost of a diet. The input data consists of three tables of data containing the cost of the available foods, dialy nutritional data, and the nutritional content of the foods. The data is taken from [http://www.neos-guide.org/content/diet-problem](http://www.neos-guide.org/content/diet-problem)"
   ]
  },
  {
   "cell_type": "markdown",
   "metadata": {
    "colab_type": "text",
    "id": "Wm1_c5_4ibId",
    "pycharm": {}
   },
   "source": [
    "The next demonstrates the use of the `pandas` library to create a data series of food costs, then writing the data to a `.csv` file."
   ]
  },
  {
   "cell_type": "code",
   "execution_count": null,
   "metadata": {
    "colab": {},
    "colab_type": "code",
    "id": "DR-siZicibIe",
    "pycharm": {}
   },
   "outputs": [],
   "source": [
    "import pandas\n",
    "\n",
    "cost = pandas.Series([0.18, 0.23, 0.05], name='Cost', index = ['Corn','2% Milk','Wheat Bread'])\n",
    "cost.to_csv('cost_data.csv',index_label='Food',header=True)"
   ]
  },
  {
   "cell_type": "markdown",
   "metadata": {
    "colab_type": "text",
    "id": "cZaf_hm9ibIg",
    "pycharm": {}
   },
   "source": [
    "Printing the file confirms that it has been saved in the desired format."
   ]
  },
  {
   "cell_type": "code",
   "execution_count": 12,
   "metadata": {
    "colab": {
     "base_uri": "https://localhost:8080/",
     "height": 102
    },
    "colab_type": "code",
    "executionInfo": {
     "elapsed": 3869,
     "status": "ok",
     "timestamp": 1557187705044,
     "user": {
      "displayName": "Jeffrey Kantor",
      "photoUrl": "https://lh5.googleusercontent.com/-8zK5aAW5RMQ/AAAAAAAAAAI/AAAAAAAAKB0/kssUQyz8DTQ/s64/photo.jpg",
      "userId": "09038942003589296665"
     },
     "user_tz": 240
    },
    "id": "onXHccxqibIg",
    "outputId": "d17c8120-0756-470c-c463-8be6628bb97c",
    "pycharm": {}
   },
   "outputs": [
    {
     "name": "stdout",
     "output_type": "stream",
     "text": [
      "Food,Cost\n",
      "Corn,0.18\n",
      "2% Milk,0.23\n",
      "Wheat Bread,0.05\n",
      "\n"
     ]
    }
   ],
   "source": [
    "f = open('cost_data.csv')\n",
    "print(f.read())\n",
    "f.close()"
   ]
  },
  {
   "cell_type": "markdown",
   "metadata": {
    "colab_type": "text",
    "id": "87CPj52tibIj",
    "pycharm": {}
   },
   "source": [
    "The next two cells use the `writefile` cell magic to directly enter the nutritional data in `.csv` format. (Note that there is no space following the comma separating data fields.)"
   ]
  },
  {
   "cell_type": "code",
   "execution_count": 13,
   "metadata": {
    "colab": {
     "base_uri": "https://localhost:8080/",
     "height": 34
    },
    "colab_type": "code",
    "executionInfo": {
     "elapsed": 3863,
     "status": "ok",
     "timestamp": 1557187705045,
     "user": {
      "displayName": "Jeffrey Kantor",
      "photoUrl": "https://lh5.googleusercontent.com/-8zK5aAW5RMQ/AAAAAAAAAAI/AAAAAAAAKB0/kssUQyz8DTQ/s64/photo.jpg",
      "userId": "09038942003589296665"
     },
     "user_tz": 240
    },
    "id": "phKMHRwiibIk",
    "outputId": "046a3dcb-c9ed-4a0d-bcbe-60dd2e139e28",
    "pycharm": {}
   },
   "outputs": [
    {
     "name": "stdout",
     "output_type": "stream",
     "text": [
      "Overwriting nutr_data.csv\n"
     ]
    }
   ],
   "source": [
    "%%writefile nutr_data.csv\n",
    "Nutrient,Min,Max\n",
    "Vitamin A,5000,50000\n",
    "Calories,2000,2250"
   ]
  },
  {
   "cell_type": "code",
   "execution_count": 14,
   "metadata": {
    "colab": {
     "base_uri": "https://localhost:8080/",
     "height": 34
    },
    "colab_type": "code",
    "executionInfo": {
     "elapsed": 3856,
     "status": "ok",
     "timestamp": 1557187705045,
     "user": {
      "displayName": "Jeffrey Kantor",
      "photoUrl": "https://lh5.googleusercontent.com/-8zK5aAW5RMQ/AAAAAAAAAAI/AAAAAAAAKB0/kssUQyz8DTQ/s64/photo.jpg",
      "userId": "09038942003589296665"
     },
     "user_tz": 240
    },
    "id": "tlflc3FUibIm",
    "outputId": "2c5448e1-1cd5-40b8-c6af-856ea42d7c71",
    "pycharm": {}
   },
   "outputs": [
    {
     "name": "stdout",
     "output_type": "stream",
     "text": [
      "Overwriting food_data.csv\n"
     ]
    }
   ],
   "source": [
    "%%writefile food_data.csv\n",
    "Food,Nutrient,Amount\n",
    "Corn,Vitamin A,107\n",
    "Corn,Calories,72\n",
    "2% Milk,Vitamin A,500\n",
    "2% Milk,Calories,121\n",
    "Wheat Bread,Vitamin A,0\n",
    "Wheat Bread,Calories,65"
   ]
  },
  {
   "cell_type": "code",
   "execution_count": null,
   "metadata": {
    "colab": {},
    "colab_type": "code",
    "id": "_p6RTTj8ibIo",
    "pycharm": {}
   },
   "outputs": [],
   "source": [
    "%%script glpsol -m /dev/stdin -y food.txt --out output\n",
    "\n",
    "set FOODS;\n",
    "param cost{FOODS};\n",
    "table cdata IN \"CSV\" \"cost_data.csv\":\n",
    "    FOODS <- [Food], cost~Cost;\n",
    "\n",
    "set NUTRIENTS;\n",
    "param nMin{NUTRIENTS};\n",
    "param nMax{NUTRIENTS};\n",
    "table ndata IN \"CSV\" \"nutr_data.csv\":\n",
    "    NUTRIENTS <- [Nutrient], nMin~Min, nMax~Max;\n",
    "\n",
    "set S dimen 2;\n",
    "param amt{S} default 0;\n",
    "table ndata IN \"CSV\" \"food_data.csv\":\n",
    "    S <- [Food, Nutrient], amt~Amount;\n",
    "    \n",
    "param xMax := 10;\n",
    "    \n",
    "var x{FOODS} >= 0;\n",
    "\n",
    "minimize TotalCost : sum{f in FOODS} cost[f]*x[f];\n",
    "    \n",
    "subject to A {n in NUTRIENTS}: sum{f in FOODS} amt[f,n]*x[f] >= nMin[n];\n",
    "subject to B {n in NUTRIENTS}: sum{f in FOODS} amt[f,n]*x[f] <= nMax[n];\n",
    "subject to C {f in FOODS}: x[f] <= xMax;\n",
    "    \n",
    "solve;\n",
    "\n",
    "table out {f in FOODS} OUT \"CSV\" \"food_opt.csv\":\n",
    "    f~Food, x[f]~Servings;\n",
    "\n",
    "printf \"%15s\",'FOOD';\n",
    "printf \"%10s\",'Servings';\n",
    "printf \"%6s\",'COST';\n",
    "for {n in NUTRIENTS}:\n",
    "        printf \"%12s\", n;\n",
    "printf \"\\n\";\n",
    "for {f in FOODS}:{\n",
    "    printf \"%15s\",f;\n",
    "    printf \"%10.2f\", x[f];\n",
    "    printf \"%6.2f\",cost[f];\n",
    "    for {n in NUTRIENTS}:\n",
    "        printf \"%12d\", amt[f,n];\n",
    "    printf \"\\n\";\n",
    "}\n",
    "printf \"\\n%31s\",'Min';\n",
    "for {n in NUTRIENTS}:\n",
    "        printf \"%12d\", nMin[n];\n",
    "printf \"\\n\";\n",
    "printf \"%31s\",'Max';\n",
    "for {n in NUTRIENTS}:\n",
    "        printf \"%12d\", nMax[n];\n",
    "printf \"\\n\";\n",
    "printf \"\\n%21s\",'TOTALS';\n",
    "printf \"%10.2f\",TotalCost.val;\n",
    "for {n in NUTRIENTS}:\n",
    "        printf \"%12d\", sum{f in FOODS} amt[f,n]*x[f];\n",
    "printf \"\\n\";\n",
    "\n",
    "end;\n"
   ]
  },
  {
   "cell_type": "code",
   "execution_count": 16,
   "metadata": {
    "colab": {
     "base_uri": "https://localhost:8080/",
     "height": 187
    },
    "colab_type": "code",
    "executionInfo": {
     "elapsed": 3841,
     "status": "ok",
     "timestamp": 1557187705048,
     "user": {
      "displayName": "Jeffrey Kantor",
      "photoUrl": "https://lh5.googleusercontent.com/-8zK5aAW5RMQ/AAAAAAAAAAI/AAAAAAAAKB0/kssUQyz8DTQ/s64/photo.jpg",
      "userId": "09038942003589296665"
     },
     "user_tz": 240
    },
    "id": "5ZMHJlIiibIq",
    "outputId": "61cc6d49-5251-4b5e-a150-8b31fdbc0e6c",
    "pycharm": {}
   },
   "outputs": [
    {
     "name": "stdout",
     "output_type": "stream",
     "text": [
      "           FOOD  Servings  COST   Vitamin A    Calories\n",
      "           Corn      1.94  0.18         107          72\n",
      "        2% Milk     10.00  0.23         500         121\n",
      "    Wheat Bread     10.00  0.05           0          65\n",
      "\n",
      "                            Min        5000        2000\n",
      "                            Max       50000        2250\n",
      "\n",
      "               TOTALS      3.15        5208        2000\n",
      "\n"
     ]
    }
   ],
   "source": [
    "print(open('food.txt').read())"
   ]
  },
  {
   "cell_type": "code",
   "execution_count": 17,
   "metadata": {
    "colab": {
     "base_uri": "https://localhost:8080/",
     "height": 494
    },
    "colab_type": "code",
    "executionInfo": {
     "elapsed": 4219,
     "status": "ok",
     "timestamp": 1557187705434,
     "user": {
      "displayName": "Jeffrey Kantor",
      "photoUrl": "https://lh5.googleusercontent.com/-8zK5aAW5RMQ/AAAAAAAAAAI/AAAAAAAAKB0/kssUQyz8DTQ/s64/photo.jpg",
      "userId": "09038942003589296665"
     },
     "user_tz": 240
    },
    "id": "IwcKZ9D2ibIs",
    "outputId": "69cfe10e-6906-44d6-dcda-a5d5a5c58c9b",
    "pycharm": {}
   },
   "outputs": [
    {
     "data": {
      "text/html": [
       "<div>\n",
       "<style scoped>\n",
       "    .dataframe tbody tr th:only-of-type {\n",
       "        vertical-align: middle;\n",
       "    }\n",
       "\n",
       "    .dataframe tbody tr th {\n",
       "        vertical-align: top;\n",
       "    }\n",
       "\n",
       "    .dataframe thead th {\n",
       "        text-align: right;\n",
       "    }\n",
       "</style>\n",
       "<table border=\"1\" class=\"dataframe\">\n",
       "  <thead>\n",
       "    <tr style=\"text-align: right;\">\n",
       "      <th></th>\n",
       "      <th>Servings</th>\n",
       "    </tr>\n",
       "    <tr>\n",
       "      <th>Food</th>\n",
       "      <th></th>\n",
       "    </tr>\n",
       "  </thead>\n",
       "  <tbody>\n",
       "    <tr>\n",
       "      <th>Corn</th>\n",
       "      <td>1.944444</td>\n",
       "    </tr>\n",
       "    <tr>\n",
       "      <th>2% Milk</th>\n",
       "      <td>10.000000</td>\n",
       "    </tr>\n",
       "    <tr>\n",
       "      <th>Wheat Bread</th>\n",
       "      <td>10.000000</td>\n",
       "    </tr>\n",
       "  </tbody>\n",
       "</table>\n",
       "</div>"
      ],
      "text/plain": [
       "              Servings\n",
       "Food                  \n",
       "Corn          1.944444\n",
       "2% Milk      10.000000\n",
       "Wheat Bread  10.000000"
      ]
     },
     "metadata": {
      "tags": []
     },
     "output_type": "display_data"
    },
    {
     "data": {
      "image/png": "[encoded data removed]",
      "text/plain": [
       "<Figure size 432x288 with 1 Axes>"
      ]
     },
     "metadata": {
      "tags": []
     },
     "output_type": "display_data"
    }
   ],
   "source": [
    "from IPython.display import display\n",
    "%matplotlib inline\n",
    "\n",
    "results = pandas.read_csv(\"food_opt.csv\",index_col=0)\n",
    "display(results)\n",
    "results.plot(kind='bar');"
   ]
  },
  {
   "cell_type": "markdown",
   "metadata": {
    "colab_type": "text",
    "id": "XffLrooiibIv",
    "pycharm": {}
   },
   "source": [
    "### MathProg implementation of Geometric Brownian Motion\n",
    "\n",
    "The following MathProg model generates realizations of geometric Brownian motion. By itself, this fragment includes no optimization and, by itselft, is an unlikely application of MathProg. But it does show how stochastic processes can be incorporated into MathProg models and the use of tables with multiple indices. \n",
    "\n",
    "Geometric Brownian motion in continous-time is described by the stochastic differential equation\n",
    "\n",
    "$$ dS = \\mu S(t) dt + \\sigma S(t) dW $$\n",
    "\n",
    "where $dW$ is a Wiener process. In the case where the model corresponds to the price dynamics of a financial asset, $\\mu$ corresponds to mean annual return and $\\sigma$ to mean annual volatility. By Ito's lemma,\n",
    "\n",
    "$$ d\\ln S = \\left(\\mu-\\frac{\\sigma^2}{2}\\right) dt + \\sigma dW $$\n",
    "\n",
    "In discrete-time, the Euler-Maruyama approximation is given by\n",
    "\n",
    "$$\\ln S(t+\\Delta t) = \\ln S(t) + \\left(\\mu-\\frac{\\sigma^2}{2}\\right) \\Delta t + \\sqrt{\\Delta t} \\ Z(0,1)$$\n",
    "\n",
    "where $Z(0,1)$ is a Normally distributed random number with zero-mean and unit variance. Values of $S(k)$ are computed as\n",
    "\n",
    "$$S(k\\Delta t) = S(0) \\exp\\left((\\mu-\\frac{\\sigma^2}{2}) k \\Delta t + \\sigma\\sqrt{\\Delta t}\\sum_{j=1}^{k} Z_j\\right)$$\n",
    "\n",
    "The following MathProg example creates realizations of the process using MathProg `param` statements. The parameters `mu` and `sigma` represent annualized average return and volatility for a typical financial asset from an equity market. A three-year simulation horizon is specified by the parameter `T`. The simulation time step `dT` corresponds to a trading day assuming there are 252 trading days in a calendar year. Parameter `N` indicates the number of realizations to calculate. \n"
   ]
  },
  {
   "cell_type": "code",
   "execution_count": null,
   "metadata": {
    "colab": {},
    "colab_type": "code",
    "id": "mZCEQQ_8ibIv",
    "pycharm": {}
   },
   "outputs": [],
   "source": [
    "%%script --out output glpsol -m /dev/stdin -y /dev/stdout\n",
    "\n",
    "# annualized sigma and mu\n",
    "param mu := 0.05;\n",
    "param sigma := 0.30;\n",
    "\n",
    "# simulation horizon in trading days\n",
    "param dT := 1/252.0;\n",
    "param T := 3/dT;\n",
    "\n",
    "# number of realizations\n",
    "param N := 10;\n",
    "    \n",
    "# model for geometric brownian motion\n",
    "param Z{k in 1..T, n in 1..N} := Normal(0,1);\n",
    "param S{k in 0..T, n in 1..N} := \n",
    "    100.0*exp((mu-0.5*sigma**2)*k*dT + sigma*sqrt(dT)*(sum{j in 1..k} Z[j,n]));\n",
    "\n",
    "# write results to a table indexed by t and n\n",
    "table price {t in 0..T, n in 1..N} OUT \"CSV\" \"price.csv\" : t, n, S[t,n]~S;\n",
    "    \n",
    "end;"
   ]
  },
  {
   "cell_type": "code",
   "execution_count": 19,
   "metadata": {
    "colab": {
     "base_uri": "https://localhost:8080/",
     "height": 255
    },
    "colab_type": "code",
    "executionInfo": {
     "elapsed": 6082,
     "status": "ok",
     "timestamp": 1557187707315,
     "user": {
      "displayName": "Jeffrey Kantor",
      "photoUrl": "https://lh5.googleusercontent.com/-8zK5aAW5RMQ/AAAAAAAAAAI/AAAAAAAAKB0/kssUQyz8DTQ/s64/photo.jpg",
      "userId": "09038942003589296665"
     },
     "user_tz": 240
    },
    "id": "a9UDoD0pibIx",
    "outputId": "00d4a583-424e-4276-c384-0a43097e2cf5",
    "pycharm": {}
   },
   "outputs": [
    {
     "name": "stdout",
     "output_type": "stream",
     "text": [
      "GLPSOL: GLPK LP/MIP Solver, v4.65\n",
      "Parameter(s) specified in the command line:\n",
      " -m /dev/stdin -y /dev/stdout\n",
      "Reading model section from /dev/stdin...\n",
      "21 lines were read\n",
      "Writing price...\n",
      "Model has been successfully generated\n",
      "GLPK Simplex Optimizer, v4.65\n",
      "0 rows, 0 columns, 0 non-zeros\n",
      "~     0: obj =   0.000000000e+00  infeas =  0.000e+00\n",
      "OPTIMAL SOLUTION FOUND\n",
      "Time used:   0.0 secs\n",
      "Memory used: 2.2 Mb (2275526 bytes)\n",
      "\n"
     ]
    }
   ],
   "source": [
    "print(output)"
   ]
  },
  {
   "cell_type": "code",
   "execution_count": 20,
   "metadata": {
    "colab": {
     "base_uri": "https://localhost:8080/",
     "height": 350
    },
    "colab_type": "code",
    "executionInfo": {
     "elapsed": 6792,
     "status": "ok",
     "timestamp": 1557187708033,
     "user": {
      "displayName": "Jeffrey Kantor",
      "photoUrl": "https://lh5.googleusercontent.com/-8zK5aAW5RMQ/AAAAAAAAAAI/AAAAAAAAKB0/kssUQyz8DTQ/s64/photo.jpg",
      "userId": "09038942003589296665"
     },
     "user_tz": 240
    },
    "id": "3oH6BRGkibI0",
    "outputId": "4ed2afb4-250a-4cb1-c9dd-c9d343436636",
    "pycharm": {}
   },
   "outputs": [
    {
     "data": {
      "image/png": "[encoded data removed]",
      "text/plain": [
       "<Figure size 864x360 with 1 Axes>"
      ]
     },
     "metadata": {
      "tags": []
     },
     "output_type": "display_data"
    }
   ],
   "source": [
    "import pandas\n",
    "import matplotlib.pyplot as plt\n",
    "%matplotlib inline\n",
    "price = pandas.read_csv(\"price.csv\")\n",
    "\n",
    "plt.figure(figsize=(12,5))\n",
    "\n",
    "for n in range(price['n'].min(),price['n'].max()+1):\n",
    "    t = price['t'].loc[price['n']==1]\n",
    "    S = price['S'].loc[price['n']==n]\n",
    "    plt.plot(t,S)\n",
    "\n",
    "plt.title('MathProg Realizations of Geometric Brownian Motion')\n",
    "plt.xlabel('Trading Day')\n",
    "plt.grid(True)\n"
   ]
  },
  {
   "cell_type": "code",
   "execution_count": null,
   "metadata": {
    "colab": {},
    "colab_type": "code",
    "id": "eG1s6qTiibI2",
    "pycharm": {}
   },
   "outputs": [],
   "source": []
  },
  {
   "cell_type": "markdown",
   "metadata": {
    "colab_type": "text",
    "id": "6tiJqcFpibI3",
    "pycharm": {}
   },
   "source": [
    "<!--NAVIGATION-->\n",
    "< [Getting Started with Gurobi](http://nbviewer.jupyter.org/github/jckantor/CBE40455/blob/master/notebooks/01.02-Getting-Started-with-Gurobi.ipynb) | [Contents](toc.ipynb) | [Getting Started with Pandas](http://nbviewer.jupyter.org/github/jckantor/CBE40455/blob/master/notebooks/01.04-Getting-Started-with-Pandas.ipynb) ><p><a href=\"https://colab.research.google.com/github/jckantor/CBE40455/blob/master/notebooks/01.03-Getting-Started-with-GNU-MathProg.ipynb\"><img align=\"left\" src=\"https://colab.research.google.com/assets/colab-badge.svg\" alt=\"Open in Colab\" title=\"Open in Google Colaboratory\"></a><p><a href=\"https://raw.githubusercontent.com/jckantor/CBE40455/master/notebooks/01.03-Getting-Started-with-GNU-MathProg.ipynb\"><img align=\"left\" src=\"https://img.shields.io/badge/Github-Download-blue.svg\" alt=\"Download\" title=\"Download Notebook\"></a>"
   ]
  }
 ],
 "metadata": {
  "colab": {
   "collapsed_sections": [],
   "name": "01.04-Getting-Started-with-GNU-MathProg.ipynb",
   "provenance": [],
   "toc_visible": true,
   "version": "0.3.2"
  },
  "kernelspec": {
   "display_name": "Python 3",
   "language": "python",
   "name": "python3"
  },
  "language_info": {
   "codemirror_mode": {
    "name": "ipython",
    "version": 3
   },
   "file_extension": ".py",
   "mimetype": "text/x-python",
   "name": "python",
   "nbconvert_exporter": "python",
   "pygments_lexer": "ipython3",
   "version": "3.7.3"
  }
 },
 "nbformat": 4,
 "nbformat_minor": 2
}
