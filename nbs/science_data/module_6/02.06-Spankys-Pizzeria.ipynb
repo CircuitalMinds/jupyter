{
 "cells": [
  {
   "cell_type": "markdown",
   "metadata": {
    "pycharm": {}
   },
   "source": [
    "<!--NOTEBOOK_HEADER-->\n",
    "*This notebook contains course material from [CBE40455](https://jckantor.github.io/CBE40455) by\n",
    "Jeffrey Kantor (jeff at nd.edu); the content is available [on Github](https://github.com/jckantor/CBE40455.git).\n",
    "The text is released under the [CC-BY-NC-ND-4.0 license](https://creativecommons.org/licenses/by-nc-nd/4.0/legalcode),\n",
    "and code is released under the [MIT license](https://opensource.org/licenses/MIT).*"
   ]
  },
  {
   "cell_type": "markdown",
   "metadata": {
    "pycharm": {}
   },
   "source": [
    "<!--NAVIGATION-->\n",
    "< [Extracting Information from Discrete-Event Simulations](http://nbviewer.jupyter.org/github/jckantor/CBE40455/blob/master/notebooks/02.05-Extracting_Information_from_Discrete-Event_Simulations.ipynb) | [Contents](toc.ipynb) | [Warehouse Fulfullment Operations](http://nbviewer.jupyter.org/github/jckantor/CBE40455/blob/master/notebooks/02.07-Warehouse-Fulfillment-Operations.ipynb) ><p><a href=\"https://colab.research.google.com/github/jckantor/CBE40455/blob/master/notebooks/02.06-Spankys-Pizzeria.ipynb\"><img align=\"left\" src=\"https://colab.research.google.com/assets/colab-badge.svg\" alt=\"Open in Colab\" title=\"Open in Google Colaboratory\"></a><p><a href=\"https://raw.githubusercontent.com/jckantor/CBE40455/master/notebooks/02.06-Spankys-Pizzeria.ipynb\"><img align=\"left\" src=\"https://img.shields.io/badge/Github-Download-blue.svg\" alt=\"Download\" title=\"Download Notebook\"></a>"
   ]
  },
  {
   "cell_type": "markdown",
   "metadata": {
    "pycharm": {
     "metadata": false,
     "name": "#%% md\n"
    }
   },
   "source": [
    "# Spankys Pizzeria\n"
   ]
  },
  {
   "cell_type": "code",
   "execution_count": 1,
   "metadata": {
    "collapsed": true,
    "pycharm": {}
   },
   "outputs": [],
   "source": [
    "%matplotlib inline\n",
    "\n",
    "import matplotlib.pyplot as plt\n",
    "import seaborn as sns\n",
    "sns.set_context('talk')\n",
    "\n",
    "import simpy\n",
    "import itertools\n",
    "import random\n",
    "import pandas as pd\n",
    "import numpy as np"
   ]
  },
  {
   "cell_type": "markdown",
   "metadata": {
    "pycharm": {}
   },
   "source": [
    "## Menu"
   ]
  },
  {
   "cell_type": "code",
   "execution_count": 2,
   "metadata": {
    "collapsed": false,
    "pycharm": {}
   },
   "outputs": [
    {
     "data": {
      "text/html": [
       "<div>\n",
       "<table border=\"1\" class=\"dataframe\">\n",
       "  <thead>\n",
       "    <tr style=\"text-align: right;\">\n",
       "      <th></th>\n",
       "      <th>nuggets</th>\n",
       "      <th>pizza</th>\n",
       "      <th>rolls</th>\n",
       "      <th>sticks</th>\n",
       "    </tr>\n",
       "  </thead>\n",
       "  <tbody>\n",
       "    <tr>\n",
       "      <th>cook time</th>\n",
       "      <td>10.0</td>\n",
       "      <td>13.0</td>\n",
       "      <td>8.0</td>\n",
       "      <td>10.0</td>\n",
       "    </tr>\n",
       "    <tr>\n",
       "      <th>prep time</th>\n",
       "      <td>1.0</td>\n",
       "      <td>0.0</td>\n",
       "      <td>0.0</td>\n",
       "      <td>1.0</td>\n",
       "    </tr>\n",
       "    <tr>\n",
       "      <th>probability</th>\n",
       "      <td>0.2</td>\n",
       "      <td>0.4</td>\n",
       "      <td>0.1</td>\n",
       "      <td>0.3</td>\n",
       "    </tr>\n",
       "  </tbody>\n",
       "</table>\n",
       "</div>"
      ],
      "text/plain": [
       "             nuggets  pizza  rolls  sticks\n",
       "cook time       10.0   13.0    8.0    10.0\n",
       "prep time        1.0    0.0    0.0     1.0\n",
       "probability      0.2    0.4    0.1     0.3"
      ]
     },
     "execution_count": 2,
     "metadata": {},
     "output_type": "execute_result"
    }
   ],
   "source": [
    "menu = {\n",
    "    'pizza': {'probability': 0.4, 'prep time': 0, 'cook time': 13},\n",
    "    'sticks': {'probability': 0.3, 'prep time': 1, 'cook time': 10},\n",
    "    'nuggets': {'probability': 0.2, 'prep time': 1, 'cook time': 10},\n",
    "    'rolls': {'probability': 0.1, 'prep time': 0, 'cook time': 8}\n",
    "}\n",
    "menu = pd.DataFrame(menu)\n",
    "\n",
    "items = menu.columns\n",
    "probs = menu.ix['probability',:]\n",
    "\n",
    "menu"
   ]
  },
  {
   "cell_type": "markdown",
   "metadata": {
    "pycharm": {}
   },
   "source": [
    "## Model"
   ]
  },
  {
   "cell_type": "code",
   "execution_count": 3,
   "metadata": {
    "collapsed": false,
    "pycharm": {}
   },
   "outputs": [],
   "source": [
    "class Spanky(object):\n",
    "\n",
    "    def __init__(self,N_SERVERS=1,N_OVENS=2,T_ORDER=10):\n",
    "        self.env = simpy.Environment()\n",
    "        self.server = simpy.Resource(self.env,N_SERVERS)   # server resources\n",
    "        self.oven = simpy.Resource(self.env,N_OVENS)       # oven resources\n",
    "        self.T_ORDER = T_ORDER\n",
    "        self.data = dict()\n",
    "        self.orderQueue = pd.Series([0],[0])               # track orders in progress\n",
    "        self.env.process(self.orderGenerator())            # where to start the model\n",
    "        \n",
    "    def orderGenerator(self):\n",
    "        for orderId in itertools.count():\n",
    "            yield self.env.timeout(random.expovariate(1.0/self.T_ORDER))\n",
    "            item = np.random.choice(items,p = probs)\n",
    "            self.writeLog(orderId,item,'0 arrival')\n",
    "            self.env.process(self.order(orderId,item))\n",
    "\n",
    "    def order(self,orderId,item):\n",
    "        # take order from customer\n",
    "        with self.server.request() as serverreq:\n",
    "            yield serverreq\n",
    "            self.writeLog(orderId,item,'1 order')\n",
    "            self.writeOrderQueue(+1)\n",
    "            yield self.env.timeout(0.5)\n",
    "            # give receipt to customer\n",
    "            self.writeLog(orderId,item,'2 receipt')\n",
    "            # quote finish time to customer\n",
    "            tquote = self.env.now + menu[item]['prep time'] + menu[item]['cook time'] + 0.5\n",
    "            self.writeLog(orderId,item,'6 tquote',tquote)\n",
    "            \n",
    "        # request server to prep order\n",
    "        with self.server.request() as serverreq:\n",
    "            yield serverreq\n",
    "            self.writeLog(orderId,item,'3 prep')\n",
    "            yield self.env.timeout(menu[item]['prep time'])\n",
    "        \n",
    "        # request oven to cook order\n",
    "        with self.oven.request() as ovenreq:\n",
    "            yield ovenreq\n",
    "            # request server to load oven\n",
    "            with self.server.request() as serverreq:\n",
    "                yield serverreq\n",
    "                yield self.env.timeout(0.25)\n",
    "                self.writeLog(orderId,item,'4 oven') \n",
    "            # cook order\n",
    "            yield self.env.timeout(menu[item]['cook time'])\n",
    "            # request server to unload oven\n",
    "            with self.server.request() as serverreq:\n",
    "                yield serverreq\n",
    "                yield self.env.timeout(0.25)\n",
    "                self.writeLog(orderId,item,'5 finish')\n",
    "                self.writeOrderQueue(-1)\n",
    "\n",
    "    def writeLog(self,orderId,item,event,t=None):\n",
    "        if t==None:\n",
    "            t = self.env.now\n",
    "        self.data[orderId,item,event] = t\n",
    "        \n",
    "    @property\n",
    "    def log(self):\n",
    "        df = pd.DataFrame([[a,b,c,self.data[a,b,c]] for (a,b,c) in self.data.keys()])\n",
    "        df.columns = ['OrderID','Item','Event','Time']\n",
    "        return df.pivot_table(values='Time',index=['OrderID','Item'],columns=['Event'])\n",
    "    \n",
    "    def stats(self):\n",
    "        df = w.log\n",
    "        late = df['5 finish']-df['6 tquote']\n",
    "        late = late[late > 0]\n",
    "        \n",
    "        N = {}\n",
    "        N['orders'] = df[df['1 order']>0]['1 order'].count()\n",
    "        N['finished'] = df[df['5 finish']>0]['5 finish'].count()\n",
    "        N['late'] = late.count()\n",
    "        N['latefrac'] = N['late']/N['orders']\n",
    "        N['meanlate'] = late.mean()\n",
    "        N['maxlate'] = late.max()\n",
    "        \n",
    "        print(\" Orders Received = {0:6d}\".format(N['orders']))\n",
    "        print(\" Orders Finished = {0:6d}\".format(N['finished']))\n",
    "        print(\"     Late Orders = {0:6d}\".format(N['late']))\n",
    "        print(\"   Fraction late = {0:6.3f}\".format(N['latefrac']))\n",
    "        print(\"Average lateness = {0:6.3f}\".format(N['meanlate']))\n",
    "        print(\"Maximum lateness = {0:6.3f}\".format(N['maxlate']))\n",
    "        \n",
    "        plt.subplot(2,1,1)\n",
    "        late.hist()\n",
    "        plt.title('Distribution of Late Orders')\n",
    "        plt.ylabel('Number of orders')\n",
    "        plt.xlabel('Minutes late')\n",
    "        plt.subplot(2,1,2)\n",
    "        w.orderQueue.plot()\n",
    "        plt.xlabel('Time [min]')\n",
    "        plt.ylabel('Orders')\n",
    "        plt.title('Orders in Process')\n",
    "        plt.tight_layout()\n",
    "\n",
    "        return N\n",
    "\n",
    "    def writeOrderQueue(self,inc):                         # track orders in progress\n",
    "        self.orderQueue[self.env.now] = self.orderQueue.iloc[-1] + inc\n",
    "                    \n",
    "    def run(self,t_sim):\n",
    "        self.env.run(until=t_sim)"
   ]
  },
  {
   "cell_type": "markdown",
   "metadata": {
    "pycharm": {}
   },
   "source": [
    "## Simulation of Existing Operations"
   ]
  },
  {
   "cell_type": "code",
   "execution_count": 6,
   "metadata": {
    "collapsed": false,
    "pycharm": {}
   },
   "outputs": [
    {
     "name": "stdout",
     "output_type": "stream",
     "text": [
      " Orders Received =     17\n",
      " Orders Finished =     17\n",
      "     Late Orders =      8\n",
      "   Fraction late =  0.471\n",
      "Average lateness =  1.635\n",
      "Maximum lateness =  5.738\n"
     ]
    },
    {
     "data": {
      "text/plain": [
       "{'finished': 17,\n",
       " 'late': 8,\n",
       " 'latefrac': 0.47058823529411764,\n",
       " 'maxlate': 5.7380732432047523,\n",
       " 'meanlate': 1.635408416738107,\n",
       " 'orders': 17}"
      ]
     },
     "execution_count": 6,
     "metadata": {},
     "output_type": "execute_result"
    },
    {
     "data": {
      "image/png": "[encoded data removed]",
      "text/plain": [
       "<matplotlib.figure.Figure at 0x114f16780>"
      ]
     },
     "metadata": {},
     "output_type": "display_data"
    }
   ],
   "source": [
    "# create Spanky's with one server, two ovens, with orders arriving at an average of 10 minutes\n",
    "w = Spanky(1,2,10)\n",
    "\n",
    "# run a simulation for 180 minutes\n",
    "w.run(180)\n",
    "\n",
    "# summarize data\n",
    "w.stats()"
   ]
  },
  {
   "cell_type": "markdown",
   "metadata": {
    "pycharm": {}
   },
   "source": [
    "## Should Spanky's add additional ovens?"
   ]
  },
  {
   "cell_type": "markdown",
   "metadata": {
    "pycharm": {}
   },
   "source": [
    "## Should Spanky's add additional servers?"
   ]
  },
  {
   "cell_type": "code",
   "execution_count": null,
   "metadata": {
    "collapsed": true,
    "pycharm": {}
   },
   "outputs": [],
   "source": []
  },
  {
   "cell_type": "markdown",
   "metadata": {
    "pycharm": {}
   },
   "source": [
    "<!--NAVIGATION-->\n",
    "< [Extracting Information from Discrete-Event Simulations](http://nbviewer.jupyter.org/github/jckantor/CBE40455/blob/master/notebooks/02.05-Extracting_Information_from_Discrete-Event_Simulations.ipynb) | [Contents](toc.ipynb) | [Warehouse Fulfullment Operations](http://nbviewer.jupyter.org/github/jckantor/CBE40455/blob/master/notebooks/02.07-Warehouse-Fulfillment-Operations.ipynb) ><p><a href=\"https://colab.research.google.com/github/jckantor/CBE40455/blob/master/notebooks/02.06-Spankys-Pizzeria.ipynb\"><img align=\"left\" src=\"https://colab.research.google.com/assets/colab-badge.svg\" alt=\"Open in Colab\" title=\"Open in Google Colaboratory\"></a><p><a href=\"https://raw.githubusercontent.com/jckantor/CBE40455/master/notebooks/02.06-Spankys-Pizzeria.ipynb\"><img align=\"left\" src=\"https://img.shields.io/badge/Github-Download-blue.svg\" alt=\"Download\" title=\"Download Notebook\"></a>"
   ]
  }
 ],
 "metadata": {
  "kernelspec": {
   "display_name": "Python 3",
   "language": "python",
   "name": "python3"
  },
  "language_info": {
   "codemirror_mode": {
    "name": "ipython",
    "version": 3
   },
   "file_extension": ".py",
   "mimetype": "text/x-python",
   "name": "python",
   "nbconvert_exporter": "python",
   "pygments_lexer": "ipython3",
   "version": "3.7.3"
  }
 },
 "nbformat": 4,
 "nbformat_minor": 2
}
