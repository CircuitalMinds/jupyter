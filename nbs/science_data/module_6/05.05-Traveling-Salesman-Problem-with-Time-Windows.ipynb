{
 "cells": [
  {
   "cell_type": "markdown",
   "metadata": {
    "pycharm": {}
   },
   "source": [
    "<!--NOTEBOOK_HEADER-->\n",
    "*This notebook contains course material from [CBE40455](https://jckantor.github.io/CBE40455) by\n",
    "Jeffrey Kantor (jeff at nd.edu); the content is available [on Github](https://github.com/jckantor/CBE40455.git).\n",
    "The text is released under the [CC-BY-NC-ND-4.0 license](https://creativecommons.org/licenses/by-nc-nd/4.0/legalcode),\n",
    "and code is released under the [MIT license](https://opensource.org/licenses/MIT).*"
   ]
  },
  {
   "cell_type": "markdown",
   "metadata": {
    "pycharm": {}
   },
   "source": [
    "<!--NAVIGATION-->\n",
    "< [Vehicle Routing with Time Windows](http://nbviewer.jupyter.org/github/jckantor/CBE40455/blob/master/notebooks/05.04-Vehicle-Routing-with-Time-Windows.ipynb) | [Contents](toc.ipynb) | [Pickup and Delivery](http://nbviewer.jupyter.org/github/jckantor/CBE40455/blob/master/notebooks/05.06-Pickup-and-Delivery.ipynb) ><p><a href=\"https://colab.research.google.com/github/jckantor/CBE40455/blob/master/notebooks/05.05-Traveling-Salesman-Problem-with-Time-Windows.ipynb\"><img align=\"left\" src=\"https://colab.research.google.com/assets/colab-badge.svg\" alt=\"Open in Colab\" title=\"Open in Google Colaboratory\"></a><p><a href=\"https://raw.githubusercontent.com/jckantor/CBE40455/master/notebooks/05.05-Traveling-Salesman-Problem-with-Time-Windows.ipynb\"><img align=\"left\" src=\"https://img.shields.io/badge/Github-Download-blue.svg\" alt=\"Download\" title=\"Download Notebook\"></a>"
   ]
  },
  {
   "cell_type": "markdown",
   "metadata": {
    "pycharm": {}
   },
   "source": [
    "# Traveling Salesman Problem with Time Windows"
   ]
  },
  {
   "cell_type": "markdown",
   "metadata": {
    "pycharm": {}
   },
   "source": [
    "This notebook demonstrates the formulation and solution of the traveling salesman problem with time windows."
   ]
  },
  {
   "cell_type": "markdown",
   "metadata": {
    "pycharm": {}
   },
   "source": [
    "## Problem Description"
   ]
  },
  {
   "cell_type": "code",
   "execution_count": 1,
   "metadata": {
    "collapsed": false,
    "pycharm": {}
   },
   "outputs": [
    {
     "name": "stdout",
     "output_type": "stream",
     "text": [
      "GLPSOL: GLPK LP/MIP Solver, v4.52\n",
      "Parameter(s) specified in the command line:\n",
      " -m /dev/stdin\n",
      "Reading model section from /dev/stdin...\n",
      "Reading data section from /dev/stdin...\n",
      "/dev/stdin:100: warning: final NL missing before end of file\n",
      "100 lines were read\n",
      "Generating lv1...\n",
      "Generating lv2...\n",
      "Generating ar1...\n",
      "Generating ar2...\n",
      "Generating capbnd...\n",
      "Generating capcon...\n",
      "Generating t0...\n",
      "Generating t1...\n",
      "Generating t2...\n",
      "Generating t3...\n",
      "Generating t4...\n",
      "Generating t5...\n",
      "Generating t6...\n",
      "Generating o1...\n",
      "Generating o2...\n",
      "Generating o3...\n",
      "Generating o4...\n",
      "Generating obj...\n",
      "Model has been successfully generated\n",
      "GLPK Integer Optimizer, v4.52\n",
      "285 rows, 177 columns, 921 non-zeros\n",
      "128 integer variables, 64 of which are binary\n",
      "Preprocessing...\n",
      "7 hidden packing inequaliti(es) were detected\n",
      "267 rows, 147 columns, 772 non-zeros\n",
      "98 integer variables, 56 of which are binary\n",
      "Scaling...\n",
      " A: min|aij| =  1.000e+00  max|aij| =  5.000e+01  ratio =  5.000e+01\n",
      "GM: min|aij| =  5.894e-01  max|aij| =  1.697e+00  ratio =  2.879e+00\n",
      "EQ: min|aij| =  3.587e-01  max|aij| =  1.000e+00  ratio =  2.788e+00\n",
      "2N: min|aij| =  2.500e-01  max|aij| =  1.000e+00  ratio =  4.000e+00\n",
      "Constructing initial basis...\n",
      "Size of triangular part is 265\n",
      "Solving LP relaxation...\n",
      "GLPK Simplex Optimizer, v4.52\n",
      "267 rows, 147 columns, 772 non-zeros\n",
      "      0: obj =   0.000000000e+00  infeas =  1.036e+02 (2)\n",
      "*    74: obj =   0.000000000e+00  infeas =  1.091e-14 (2)\n",
      "*    77: obj =   0.000000000e+00  infeas =  2.776e-16 (2)\n",
      "OPTIMAL LP SOLUTION FOUND\n",
      "Integer optimization begins...\n",
      "+    77: mip =     not found yet >=              -inf        (1; 0)\n",
      "+   180: >>>>>   1.064142990e+02 >=   0.000000000e+00 100.0% (9; 1)\n",
      "+   227: >>>>>   4.798747311e+01 >=   0.000000000e+00 100.0% (10; 2)\n",
      "+   249: >>>>>   3.565631238e+01 >=   0.000000000e+00 100.0% (9; 3)\n",
      "+   481: >>>>>   2.418679994e+01 >=   0.000000000e+00 100.0% (14; 27)\n",
      "+  4625: >>>>>   2.146415979e+01 >=   4.268700064e-01  98.0% (116; 449)\n",
      "+  5005: >>>>>   4.196679139e+00 >=   3.155999419e+00  24.8% (109; 542)\n",
      "+  5145: mip =   4.196679139e+00 >=     tree is empty   0.0% (0; 973)\n",
      "INTEGER OPTIMAL SOLUTION FOUND\n",
      "Time used:   0.3 secs\n",
      "Memory used: 1.1 Mb (1106038 bytes)\n",
      "Depart        Arrive        EDep   LDep   EArr   LArr    Dist  Time  Speed\n",
      "ATL    7.10   BOS    9.00   0.90*  0.00   0.00   0.00  1521.4  1.90  800.0\n",
      "BOS    9.00   STL   11.10   0.00   0.00   0.00   0.00  1680.5  2.10  800.0\n",
      "STL   11.10   DFW   12.21   0.00   0.00   0.00   0.00   885.4  1.11  800.0\n",
      "DFW   12.21   DEN   13.50   0.00   0.00   0.00   0.00  1032.1  1.29  800.0\n",
      "DEN   13.50   LAX   15.23   0.00   0.00   0.00   0.00  1385.1  1.73  800.0\n",
      "LAX   15.23   JFK   20.20   0.00   0.00   0.00   0.20* 3974.2  4.97  800.0\n",
      "JFK   20.20   ORD   21.68   0.00   0.20*  0.00   0.00  1188.0  1.49  800.0\n",
      "Model has been successfully processed\n"
     ]
    }
   ],
   "source": [
    "%%script glpsol -m /dev/stdin \n",
    "\n",
    "# Traveling Salesman Problem with Time Windows\n",
    "\n",
    "param start symbolic;\n",
    "param finish symbolic, != start;\n",
    "param maxspeed > 0;\n",
    "param minspeed > 0, <= maxspeed;\n",
    "\n",
    "set PLACES;\n",
    "param lat{PLACES};\n",
    "param lng{PLACES};\n",
    "param S1{PLACES};\n",
    "param S2{p in PLACES} >= S1[p];\n",
    "\n",
    "# compute great circle distances and minimum travel times\n",
    "param d2r := 3.1415926/180;\n",
    "param alpha{a in PLACES, b in PLACES} := sin(d2r*(lat[a]-lat[b])/2)**2 \n",
    "      + cos(d2r*lat[a])*cos(d2r*lat[b])*sin(d2r*(lng[a]-lng[b])/2)**2;\n",
    "param gcdist{a in PLACES, b in PLACES} := 2*6371*atan(sqrt(alpha[a,b]),sqrt(1-alpha[a,b]));\n",
    "\n",
    "# Path constraints\n",
    "var x{PLACES, PLACES} binary;\n",
    "\n",
    "# must leave from all nodes except the finish node\n",
    "s.t. lv1 {a in PLACES : a != finish}: sum{b in PLACES} x[a,b] = 1;\n",
    "s.t. lv2 : sum{b in PLACES} x[finish,b] = 0;\n",
    "\n",
    "# must arrive at all places except the start node\n",
    "s.t. ar1 {a in PLACES : a != start}: sum{b in PLACES} x[b,a] = 1;\n",
    "s.t. ar2 : sum{b in PLACES} x[b,start] = 0;\n",
    "\n",
    "# subtour elimination using an idea from Andrew O. Makhorin\n",
    "var y{PLACES, PLACES} >= 0, integer;\n",
    "s.t. capbnd {a in PLACES, b in PLACES} : y[a,b] <= (card(PLACES)-1)*x[a,b];\n",
    "s.t. capcon {a in PLACES} : sum{b in PLACES} y[b,a] \n",
    "         + (if a=start then card(PLACES)) = 1 + sum{b in PLACES} y[a,b];\n",
    "\n",
    "# Time Constraints\n",
    "param bigM := 50;\n",
    "var tar{PLACES};         # arrival\n",
    "var tlv{PLACES};         # departure\n",
    "var tea{PLACES} >= 0;    # early arrival (arrival before the designated time window)\n",
    "var tla{PLACES} >= 0;    # late arrival (arrival after the designated time window)\n",
    "var ted{PLACES} >= 0;    # early departure (departure before the designated time window)\n",
    "var tld{PLACES} >= 0;    # late departure (departure after the designated time window)\n",
    "\n",
    "s.t. t0 {a in PLACES} : tlv[a] >= tar[a]; \n",
    "s.t. t1 {a in PLACES, b in PLACES} : \n",
    "        tar[b] >= tlv[a] + gcdist[a,b]/maxspeed - bigM*(1-x[a,b]);\n",
    "s.t. t2 {a in PLACES, b in PLACES} : \n",
    "        tar[b] <= tlv[a] + gcdist[a,b]/minspeed + bigM*(1-x[a,b]);\n",
    "s.t. t3 {a in PLACES : a != start } : tea[a] >= S1[a] - tar[a];   # early arrival\n",
    "s.t. t4 {a in PLACES : a != start } : tla[a] >= tar[a] - S2[a];   # late arrival\n",
    "s.t. t5 {a in PLACES : a != finish} : ted[a] >= S1[a] - tlv[a];   # early departure\n",
    "s.t. t6 {a in PLACES : a != finish} : tld[a] >= tlv[a] - S2[a];   # late departure\n",
    "\n",
    "# the objective is weighted sum of average and maximum time window excursions\n",
    "var tmax >= 0;\n",
    "s.t. o1 {a in PLACES} : tea[a] <= tmax;\n",
    "s.t. o2 {a in PLACES} : tla[a] <= tmax;\n",
    "s.t. o3 {a in PLACES} : ted[a] <= tmax;\n",
    "s.t. o4 {a in PLACES} : tld[a] <= tmax;\n",
    "\n",
    "minimize obj: sum{a in PLACES} (1*tea[a] + 2*tla[a] + 2*ted[a] + 1*tld[a]) + 2*tmax;\n",
    "\n",
    "solve;\n",
    "\n",
    "printf \"%6s  %3s   %6s  %3s %6s %6s %6s %6s %7s %5s %6s\\n\", \n",
    "    'Depart','','Arrive','','EDep','LDep','EArr','LArr','Dist','Time','Speed';\n",
    "\n",
    "for {k in card(PLACES)-1..0 by -1} {\n",
    "    printf {a in PLACES, b in PLACES : (y[a,b]=k) && (x[a,b]=1)}\n",
    "        \"%-3s %7.2f   %-3s %7.2f %6.2f%1s %5.2f%1s %5.2f%1s %5.2f%1s %6.1f %5.2f %6.1f\\n\", \n",
    "        a, tlv[a], b, tar[b], \n",
    "        ted[a], if (ted[a]>0) then '*' else ' ',\n",
    "        tld[a], if (tld[a]>0) then '*' else ' ',\n",
    "        tea[b], if (tea[b]>0) then '*' else ' ',\n",
    "        tla[b], if (tla[b]>0) then '*' else ' ',\n",
    "        gcdist[a,b], (tar[b]-tlv[a]), gcdist[a,b]/(tar[b]-tlv[a]);\n",
    "}\n",
    "\n",
    "data;\n",
    "\n",
    "param start := 'ATL';\n",
    "param finish := 'ORD';\n",
    "param maxspeed := 800;\n",
    "param minspeed := 600;\n",
    "\n",
    "param : PLACES :         lat            lng       S1       S2 :=\n",
    "        ATL       33.6366995    -84.4278639      8.0     24.0\n",
    "        BOS       42.3629722    -71.0064167      8.0      9.0\n",
    "        DEN       39.8616667   -104.6731667     12.0     15.0\n",
    "        DFW       32.8968281    -97.0379958     12.0     13.0\n",
    "        JFK       40.6397511    -73.7789256     18.0     20.0\n",
    "        LAX       33.9424955   -118.4080684     12.0     16.0\n",
    "        ORD       41.9816486    -87.9066714     20.0     24.0\n",
    "        STL       38.7486972    -90.3700289     11.0     13.0\n",
    "; \n",
    "\n",
    "end;"
   ]
  },
  {
   "cell_type": "code",
   "execution_count": null,
   "metadata": {
    "collapsed": false,
    "pycharm": {}
   },
   "outputs": [],
   "source": []
  },
  {
   "cell_type": "markdown",
   "metadata": {
    "pycharm": {}
   },
   "source": [
    "<!--NAVIGATION-->\n",
    "< [Vehicle Routing with Time Windows](http://nbviewer.jupyter.org/github/jckantor/CBE40455/blob/master/notebooks/05.04-Vehicle-Routing-with-Time-Windows.ipynb) | [Contents](toc.ipynb) | [Pickup and Delivery](http://nbviewer.jupyter.org/github/jckantor/CBE40455/blob/master/notebooks/05.06-Pickup-and-Delivery.ipynb) ><p><a href=\"https://colab.research.google.com/github/jckantor/CBE40455/blob/master/notebooks/05.05-Traveling-Salesman-Problem-with-Time-Windows.ipynb\"><img align=\"left\" src=\"https://colab.research.google.com/assets/colab-badge.svg\" alt=\"Open in Colab\" title=\"Open in Google Colaboratory\"></a><p><a href=\"https://raw.githubusercontent.com/jckantor/CBE40455/master/notebooks/05.05-Traveling-Salesman-Problem-with-Time-Windows.ipynb\"><img align=\"left\" src=\"https://img.shields.io/badge/Github-Download-blue.svg\" alt=\"Download\" title=\"Download Notebook\"></a>"
   ]
  }
 ],
 "metadata": {
  "kernelspec": {
   "display_name": "Python 2",
   "language": "python",
   "name": "python2"
  },
  "language_info": {
   "codemirror_mode": {
    "name": "ipython",
    "version": 2
   },
   "file_extension": ".py",
   "mimetype": "text/x-python",
   "name": "python",
   "nbconvert_exporter": "python",
   "pygments_lexer": "ipython2",
   "version": "2.7.10"
  }
 },
 "nbformat": 4,
 "nbformat_minor": 0
}
