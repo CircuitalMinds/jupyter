{
 "cells": [
  {
   "cell_type": "markdown",
   "metadata": {},
   "source": [
    "* Extend model downstream to include Manitou, Big Fork, and Little Fork.  The goal is to incorporate downstream effects of rule curve control, and to get additional sensors in the feedback loop.\n",
    "\n",
    "* Implement optimization model for the construction of rule curves. \n",
    "\n",
    "* Develop CUSUM style approach to improve control margins 'controllability'\n",
    "\n",
    "* Run cross correlation analysis of Basswood and Lac la Croix\n",
    "\n",
    "* Stochastic model for total inflows to Namakan and \n",
    "\n",
    "\n"
   ]
  },
  {
   "cell_type": "markdown",
   "metadata": {},
   "source": [
    "Things we learned from the study board ....\n",
    "\n",
    "1. The rule curves could include 'adaptive characteristics', but the scope of the project would not include establishment of a full time decision making board to implement the rule curves. The dam operators will be responsible for implementing the rule curves.\n",
    "\n",
    "2. The study board is pursing an additional phase of analysis to understand the impact of modifying the channel in Rainy River above the dam.  This will include additional bathymetry.\n",
    "\n",
    "3. Jeff "
   ]
  }
 ],
 "metadata": {
  "kernelspec": {
   "display_name": "Python 2",
   "language": "python",
   "name": "python2"
  },
  "language_info": {
   "codemirror_mode": {
    "name": "ipython",
    "version": 2
   },
   "file_extension": ".py",
   "mimetype": "text/x-python",
   "name": "python",
   "nbconvert_exporter": "python",
   "pygments_lexer": "ipython2",
   "version": "2.7.10"
  }
 },
 "nbformat": 4,
 "nbformat_minor": 0
}
