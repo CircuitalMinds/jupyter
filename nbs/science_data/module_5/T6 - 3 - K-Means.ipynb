{
 "cells": [
  {
   "cell_type": "markdown",
   "metadata": {},
   "source": [
    "# El método de k-means"
   ]
  },
  {
   "cell_type": "code",
   "execution_count": 1,
   "metadata": {},
   "outputs": [],
   "source": [
    "import numpy as np"
   ]
  },
  {
   "cell_type": "code",
   "execution_count": 2,
   "metadata": {},
   "outputs": [
    {
     "data": {
      "text/plain": [
       "array([[0.64794608, 0.58978154, 0.457586  ],\n",
       "       [0.86418797, 0.93960306, 0.91205676],\n",
       "       [0.45517333, 0.83186738, 0.85112973],\n",
       "       [0.90980972, 0.74137858, 0.28493695],\n",
       "       [0.55135898, 0.02933044, 0.29142465],\n",
       "       [0.02745073, 0.9058125 , 0.33332778],\n",
       "       [0.77050918, 0.22592456, 0.79742113],\n",
       "       [0.32355707, 0.39808319, 0.51058496],\n",
       "       [0.54893633, 0.46920048, 0.42631236],\n",
       "       [0.06625477, 0.01840404, 0.12293609],\n",
       "       [0.18495803, 0.18841901, 0.44726363],\n",
       "       [0.930496  , 0.25575929, 0.99384862],\n",
       "       [0.18861802, 0.63469948, 0.59330767],\n",
       "       [0.93784481, 0.85932239, 0.34059446],\n",
       "       [0.67945637, 0.80951088, 0.25275286],\n",
       "       [0.40479666, 0.96152374, 0.15785926],\n",
       "       [0.87539872, 0.06414777, 0.39982498],\n",
       "       [0.65101227, 0.65018467, 0.529103  ],\n",
       "       [0.09670817, 0.56969742, 0.8748495 ],\n",
       "       [0.26659514, 0.19276489, 0.63348146],\n",
       "       [0.8400831 , 0.32396245, 0.85072164],\n",
       "       [0.72074906, 0.66361744, 0.55696167],\n",
       "       [0.60781852, 0.00821706, 0.9049929 ],\n",
       "       [0.39145011, 0.16247534, 0.69021987],\n",
       "       [0.77561671, 0.44300145, 0.58768359],\n",
       "       [0.37390132, 0.12720886, 0.31267122],\n",
       "       [0.85189291, 0.02612322, 0.0743608 ],\n",
       "       [0.99605337, 0.61541593, 0.23039751],\n",
       "       [0.97521937, 0.23951825, 0.44752608],\n",
       "       [0.31241785, 0.83913499, 0.421719  ]])"
      ]
     },
     "execution_count": 2,
     "metadata": {},
     "output_type": "execute_result"
    }
   ],
   "source": [
    "data = np.random.random(90).reshape(30,3)\n",
    "data"
   ]
  },
  {
   "cell_type": "code",
   "execution_count": 3,
   "metadata": {},
   "outputs": [
    {
     "data": {
      "text/plain": [
       "array([[0.85189291, 0.02612322, 0.0743608 ],\n",
       "       [0.97521937, 0.23951825, 0.44752608]])"
      ]
     },
     "execution_count": 3,
     "metadata": {},
     "output_type": "execute_result"
    }
   ],
   "source": [
    "c1 = np.random.choice(range(len(data)))\n",
    "c2 = np.random.choice(range(len(data)))\n",
    "clust_centers = np.vstack([data[c1], data[c2]])\n",
    "clust_centers"
   ]
  },
  {
   "cell_type": "code",
   "execution_count": 4,
   "metadata": {},
   "outputs": [],
   "source": [
    "from scipy.cluster.vq import vq"
   ]
  },
  {
   "cell_type": "code",
   "execution_count": 5,
   "metadata": {},
   "outputs": [
    {
     "data": {
      "text/plain": [
       "(array([1, 1, 1, 1, 0, 1, 1, 1, 1, 0, 0, 1, 1, 1, 1, 1, 1, 1, 1, 1, 1, 1,\n",
       "        1, 1, 1, 0, 0, 1, 1, 1]),\n",
       " array([0.47947198, 0.84748773, 0.88556269, 0.53158014, 0.37073932,\n",
       "        1.16415406, 0.40560768, 0.67363418, 0.48468668, 0.78717623,\n",
       "        0.78115209, 0.54839061, 0.8922792 , 0.63007016, 0.67104692,\n",
       "        0.96466619, 0.20735083, 0.52953937, 1.03121555, 0.73410734,\n",
       "        0.43354272, 0.50654853, 0.63068178, 0.63688495, 0.31763306,\n",
       "        0.54358635, 0.        , 0.43460089, 0.        , 0.8941544 ]))"
      ]
     },
     "execution_count": 5,
     "metadata": {},
     "output_type": "execute_result"
    }
   ],
   "source": [
    "clusters = vq(data, clust_centers)\n",
    "clusters"
   ]
  },
  {
   "cell_type": "code",
   "execution_count": 6,
   "metadata": {},
   "outputs": [
    {
     "data": {
      "text/plain": [
       "array([1, 1, 1, 1, 0, 1, 1, 1, 1, 0, 0, 1, 1, 1, 1, 1, 1, 1, 1, 1, 1, 1,\n",
       "       1, 1, 1, 0, 0, 1, 1, 1])"
      ]
     },
     "execution_count": 6,
     "metadata": {},
     "output_type": "execute_result"
    }
   ],
   "source": [
    "labels = clusters[0]\n",
    "labels"
   ]
  },
  {
   "cell_type": "code",
   "execution_count": 7,
   "metadata": {},
   "outputs": [],
   "source": [
    "import plotly.plotly as py\n",
    "import plotly.graph_objs as go\n",
    "import plotly.offline as ply"
   ]
  },
  {
   "cell_type": "code",
   "execution_count": null,
   "metadata": {},
   "outputs": [],
   "source": [
    "x = []\n",
    "y = []\n",
    "z = []\n",
    "x2 = []\n",
    "y2 = []\n",
    "z2 = []\n",
    "\n",
    "for i in range(0, len(labels)):\n",
    "    if(labels[i] == 0):\n",
    "        x.append(data[i,0])\n",
    "        y.append(data[i,1])\n",
    "        z.append(data[i,2])\n",
    "        \n",
    "    else:\n",
    "        x2.append(data[i,0])\n",
    "        y2.append(data[i,1])\n",
    "        z2.append(data[i,2])\n",
    "\n",
    "cluster1 = go.Scatter3d(\n",
    "    x=x,\n",
    "    y=y,\n",
    "    z=z,\n",
    "    mode='markers',\n",
    "    marker=dict(\n",
    "        size=12,\n",
    "        line=dict(\n",
    "            color='rgba(217, 217, 217, 0.14)',\n",
    "            width=0.5\n",
    "        ),\n",
    "        opacity=0.9\n",
    "    ),\n",
    "    name=\"Cluster 0\"\n",
    ")\n",
    "\n",
    "\n",
    "cluster2 = go.Scatter3d(\n",
    "    x=x2,\n",
    "    y=y2,\n",
    "    z=z2,\n",
    "    mode='markers',\n",
    "    marker=dict(\n",
    "        color='rgb(127, 127, 127)',\n",
    "        size=12,\n",
    "        symbol='circle',\n",
    "        line=dict(\n",
    "            color='rgb(204, 204, 204)',\n",
    "            width=1\n",
    "        ),\n",
    "        opacity=0.9\n",
    "    ),\n",
    "    name=\"Cluster 1\"\n",
    ")\n",
    "data2 = [cluster1, cluster2]\n",
    "layout = go.Layout(\n",
    "    margin=dict(\n",
    "        l=0,\n",
    "        r=0,\n",
    "        b=0,\n",
    "        t=30\n",
    "    )\n",
    ")\n",
    "\n",
    "fig = go.Figure(data=data2, layout=layout)\n",
    "ply.plot(fig, filename='Clusters')\n"
   ]
  },
  {
   "cell_type": "code",
   "execution_count": 8,
   "metadata": {},
   "outputs": [],
   "source": [
    "from scipy.cluster.vq import kmeans"
   ]
  },
  {
   "cell_type": "code",
   "execution_count": 9,
   "metadata": {},
   "outputs": [
    {
     "data": {
      "text/plain": [
       "(array([[0.55149309, 0.14895199, 0.50973511],\n",
       "        [0.59158003, 0.69692438, 0.50948822]]), 0.38784900251440213)"
      ]
     },
     "execution_count": 9,
     "metadata": {},
     "output_type": "execute_result"
    }
   ],
   "source": [
    "kmeans(data, clust_centers)"
   ]
  },
  {
   "cell_type": "code",
   "execution_count": 10,
   "metadata": {},
   "outputs": [
    {
     "data": {
      "text/plain": [
       "(array([[0.55511363, 0.20456483, 0.5587382 ],\n",
       "        [0.59603233, 0.75078951, 0.45343179]]), 0.3860151283499985)"
      ]
     },
     "execution_count": 10,
     "metadata": {},
     "output_type": "execute_result"
    }
   ],
   "source": [
    "kmeans(data, 2)"
   ]
  },
  {
   "cell_type": "code",
   "execution_count": null,
   "metadata": {},
   "outputs": [],
   "source": []
  }
 ],
 "metadata": {
  "kernelspec": {
   "display_name": "Python 3",
   "language": "python",
   "name": "python3"
  },
  "language_info": {
   "codemirror_mode": {
    "name": "ipython",
    "version": 3
   },
   "file_extension": ".py",
   "mimetype": "text/x-python",
   "name": "python",
   "nbconvert_exporter": "python",
   "pygments_lexer": "ipython3",
   "version": "3.6.5"
  }
 },
 "nbformat": 4,
 "nbformat_minor": 2
}
