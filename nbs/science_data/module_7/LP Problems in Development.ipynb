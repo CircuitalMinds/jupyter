{
 "metadata": {
  "name": ""
 },
 "nbformat": 3,
 "nbformat_minor": 0,
 "worksheets": [
  {
   "cells": [
    {
     "cell_type": "heading",
     "level": 1,
     "metadata": {},
     "source": [
      "Blending and Mixture Problems"
     ]
    },
    {
     "cell_type": "code",
     "collapsed": false,
     "input": [
      "import pulp\n",
      "\n",
      "def dietlp(price,nutrition,requirements, nmin = 0, nmax=100):\n",
      "    diet = pulp.LpProblem('Diet Problem', pulp.LpMinimize)\n",
      "    x = pulp.LpVariable.dicts(\"x\", list(price.index), nmin, nmax, pulp.LpInteger)\n",
      "\n",
      "    diet += pulp.lpSum([price.ix[idx,'price']*x[idx] for idx in list(price.index)])\n",
      "\n",
      "    for n in nutrition.columns:\n",
      "        diet += pulp.lpSum([nutrition.ix[idx,n]*x[idx] for idx in list(price.index)]) >= requirements.ix[n,'n_min'], n + '_min'\n",
      "        diet += pulp.lpSum([nutrition.ix[idx,n]*x[idx] for idx in list(price.index)]) <= requirements.ix[n,'n_max'], n + '_max'\n",
      "    \n",
      "    return diet\n",
      "\n",
      "diet = dietlp(price,nutrition,requirements,0,10)\n"
     ],
     "language": "python",
     "metadata": {},
     "outputs": [],
     "prompt_number": 350
    },
    {
     "cell_type": "code",
     "collapsed": false,
     "input": [],
     "language": "python",
     "metadata": {},
     "outputs": []
    },
    {
     "cell_type": "heading",
     "level": 2,
     "metadata": {},
     "source": [
      "Solution"
     ]
    },
    {
     "cell_type": "code",
     "collapsed": false,
     "input": [
      "def solvelp(lp):\n",
      "    \n",
      "    lp.solve();\n",
      "\n",
      "    obj = pd.DataFrame(\n",
      "        [[lp.objective.name, \n",
      "          pulp.LpSenses[lp.sense], \n",
      "          pulp.LpStatus[lp.status], \n",
      "          pulp.value(lp.objective)]],\n",
      "        columns=[\"Objective\", \"Sense\", \"Status\", \"Value\"])\n",
      "\n",
      "    var = pd.DataFrame(\n",
      "        [[x.name, x.cat, x.lowBound, x.upBound, x.varValue] for x in lp.variables()],\n",
      "        columns=[\"Name\",\"Category\",\"Lower Bound\",\"Upper Bound\",\"Value\"])    \n",
      "\n",
      "    con = pd.DataFrame(\n",
      "        [[c.name, \n",
      "          pulp.LpConstraintSenses[c.sense], \n",
      "          c.getLb(), \n",
      "          c.getUb(), \n",
      "          c.slack, \n",
      "          pulp.value(c) - c.constant] for (k,c) in lp.constraints.items()],\n",
      "        columns=[\"Name\", 'Sense', \"Lower Bound\", \"Upper Bound\", \"Slack\", \"Value\"])\n",
      "    \n",
      "    return {'Objective':obj, 'Variables':var, 'Constraints':con}\n",
      "\n",
      "soln = solvelp(diet)"
     ],
     "language": "python",
     "metadata": {},
     "outputs": [],
     "prompt_number": 351
    },
    {
     "cell_type": "heading",
     "level": 2,
     "metadata": {},
     "source": [
      "Display"
     ]
    },
    {
     "cell_type": "code",
     "collapsed": false,
     "input": [
      "from IPython.display import display,HTML\n",
      "\n",
      "display(HTML('<h3>Model</h3>'))\n",
      "display(diet)\n",
      "for k in soln.keys():\n",
      "    display(HTML('<h3>' + k + '</h3>'))\n",
      "    display(soln[k])\n",
      "    "
     ],
     "language": "python",
     "metadata": {},
     "outputs": [
      {
       "html": [
        "<h3>Model</h3>"
       ],
       "metadata": {},
       "output_type": "display_data",
       "text": [
        "<IPython.core.display.HTML at 0x10a3f2dd0>"
       ]
      },
      {
       "metadata": {},
       "output_type": "display_data",
       "text": [
        "Diet Problem:\n",
        "MINIMIZE\n",
        "3.19*x_BEEF + 2.59*x_CHK + 2.29*x_FSH + 2.89*x_HAM + 1.89*x_MCH + 1.99*x_MTL + 1.99*x_SPG + 2.49*x_TUR + 0.0\n",
        "SUBJECT TO\n",
        "A_min: 60 x_BEEF + 8 x_CHK + 8 x_FSH + 40 x_HAM + 15 x_MCH + 70 x_MTL\n",
        " + 25 x_SPG + 60 x_TUR >= 700\n",
        "\n",
        "A_max: 60 x_BEEF + 8 x_CHK + 8 x_FSH + 40 x_HAM + 15 x_MCH + 70 x_MTL\n",
        " + 25 x_SPG + 60 x_TUR <= 10000\n",
        "\n",
        "B1_min: 10 x_BEEF + 20 x_CHK + 15 x_FSH + 35 x_HAM + 15 x_MCH + 15 x_MTL\n",
        " + 25 x_SPG + 15 x_TUR >= 700\n",
        "\n",
        "B1_max: 10 x_BEEF + 20 x_CHK + 15 x_FSH + 35 x_HAM + 15 x_MCH + 15 x_MTL\n",
        " + 25 x_SPG + 15 x_TUR <= 10000\n",
        "\n",
        "B2_min: 15 x_BEEF + 20 x_CHK + 10 x_FSH + 10 x_HAM + 15 x_MCH + 15 x_MTL\n",
        " + 15 x_SPG + 10 x_TUR >= 700\n",
        "\n",
        "B2_max: 15 x_BEEF + 20 x_CHK + 10 x_FSH + 10 x_HAM + 15 x_MCH + 15 x_MTL\n",
        " + 15 x_SPG + 10 x_TUR <= 10000\n",
        "\n",
        "C_min: 20 x_BEEF + 10 x_FSH + 40 x_HAM + 35 x_MCH + 30 x_MTL + 50 x_SPG\n",
        " + 20 x_TUR >= 700\n",
        "\n",
        "C_max: 20 x_BEEF + 10 x_FSH + 40 x_HAM + 35 x_MCH + 30 x_MTL + 50 x_SPG\n",
        " + 20 x_TUR <= 10000\n",
        "\n",
        "VARIABLES\n",
        "0 <= x_BEEF <= 10 Integer\n",
        "0 <= x_CHK <= 10 Integer\n",
        "0 <= x_FSH <= 10 Integer\n",
        "0 <= x_HAM <= 10 Integer\n",
        "0 <= x_MCH <= 10 Integer\n",
        "0 <= x_MTL <= 10 Integer\n",
        "0 <= x_SPG <= 10 Integer\n",
        "0 <= x_TUR <= 10 Integer\n"
       ]
      },
      {
       "html": [
        "<h3>Objective</h3>"
       ],
       "metadata": {},
       "output_type": "display_data",
       "text": [
        "<IPython.core.display.HTML at 0x10a3f2650>"
       ]
      },
      {
       "html": [
        "<div style=\"max-height:1000px;max-width:1500px;overflow:auto;\">\n",
        "<table border=\"1\" class=\"dataframe\">\n",
        "  <thead>\n",
        "    <tr style=\"text-align: right;\">\n",
        "      <th></th>\n",
        "      <th>Objective</th>\n",
        "      <th>Sense</th>\n",
        "      <th>Status</th>\n",
        "      <th>Value</th>\n",
        "    </tr>\n",
        "  </thead>\n",
        "  <tbody>\n",
        "    <tr>\n",
        "      <th>0</th>\n",
        "      <td> OBJ</td>\n",
        "      <td> Minimize</td>\n",
        "      <td> Optimal</td>\n",
        "      <td> 95.56</td>\n",
        "    </tr>\n",
        "  </tbody>\n",
        "</table>\n",
        "</div>"
       ],
       "metadata": {},
       "output_type": "display_data",
       "text": [
        "  Objective     Sense   Status  Value\n",
        "0       OBJ  Minimize  Optimal  95.56"
       ]
      },
      {
       "html": [
        "<h3>Variables</h3>"
       ],
       "metadata": {},
       "output_type": "display_data",
       "text": [
        "<IPython.core.display.HTML at 0x10a3f2650>"
       ]
      },
      {
       "html": [
        "<div style=\"max-height:1000px;max-width:1500px;overflow:auto;\">\n",
        "<table border=\"1\" class=\"dataframe\">\n",
        "  <thead>\n",
        "    <tr style=\"text-align: right;\">\n",
        "      <th></th>\n",
        "      <th>Name</th>\n",
        "      <th>Category</th>\n",
        "      <th>Lower Bound</th>\n",
        "      <th>Upper Bound</th>\n",
        "      <th>Value</th>\n",
        "    </tr>\n",
        "  </thead>\n",
        "  <tbody>\n",
        "    <tr>\n",
        "      <th>0</th>\n",
        "      <td> x_BEEF</td>\n",
        "      <td> Integer</td>\n",
        "      <td> 0</td>\n",
        "      <td> 10</td>\n",
        "      <td>  2</td>\n",
        "    </tr>\n",
        "    <tr>\n",
        "      <th>1</th>\n",
        "      <td>  x_CHK</td>\n",
        "      <td> Integer</td>\n",
        "      <td> 0</td>\n",
        "      <td> 10</td>\n",
        "      <td> 10</td>\n",
        "    </tr>\n",
        "    <tr>\n",
        "      <th>2</th>\n",
        "      <td>  x_FSH</td>\n",
        "      <td> Integer</td>\n",
        "      <td> 0</td>\n",
        "      <td> 10</td>\n",
        "      <td>  2</td>\n",
        "    </tr>\n",
        "    <tr>\n",
        "      <th>3</th>\n",
        "      <td>  x_HAM</td>\n",
        "      <td> Integer</td>\n",
        "      <td> 0</td>\n",
        "      <td> 10</td>\n",
        "      <td>  0</td>\n",
        "    </tr>\n",
        "    <tr>\n",
        "      <th>4</th>\n",
        "      <td>  x_MCH</td>\n",
        "      <td> Integer</td>\n",
        "      <td> 0</td>\n",
        "      <td> 10</td>\n",
        "      <td> 10</td>\n",
        "    </tr>\n",
        "    <tr>\n",
        "      <th>5</th>\n",
        "      <td>  x_MTL</td>\n",
        "      <td> Integer</td>\n",
        "      <td> 0</td>\n",
        "      <td> 10</td>\n",
        "      <td> 10</td>\n",
        "    </tr>\n",
        "    <tr>\n",
        "      <th>6</th>\n",
        "      <td>  x_SPG</td>\n",
        "      <td> Integer</td>\n",
        "      <td> 0</td>\n",
        "      <td> 10</td>\n",
        "      <td> 10</td>\n",
        "    </tr>\n",
        "    <tr>\n",
        "      <th>7</th>\n",
        "      <td>  x_TUR</td>\n",
        "      <td> Integer</td>\n",
        "      <td> 0</td>\n",
        "      <td> 10</td>\n",
        "      <td>  0</td>\n",
        "    </tr>\n",
        "  </tbody>\n",
        "</table>\n",
        "</div>"
       ],
       "metadata": {},
       "output_type": "display_data",
       "text": [
        "     Name Category  Lower Bound  Upper Bound  Value\n",
        "0  x_BEEF  Integer            0           10      2\n",
        "1   x_CHK  Integer            0           10     10\n",
        "2   x_FSH  Integer            0           10      2\n",
        "3   x_HAM  Integer            0           10      0\n",
        "4   x_MCH  Integer            0           10     10\n",
        "5   x_MTL  Integer            0           10     10\n",
        "6   x_SPG  Integer            0           10     10\n",
        "7   x_TUR  Integer            0           10      0"
       ]
      },
      {
       "html": [
        "<h3>Constraints</h3>"
       ],
       "metadata": {},
       "output_type": "display_data",
       "text": [
        "<IPython.core.display.HTML at 0x10a3f2650>"
       ]
      },
      {
       "html": [
        "<div style=\"max-height:1000px;max-width:1500px;overflow:auto;\">\n",
        "<table border=\"1\" class=\"dataframe\">\n",
        "  <thead>\n",
        "    <tr style=\"text-align: right;\">\n",
        "      <th></th>\n",
        "      <th>Name</th>\n",
        "      <th>Sense</th>\n",
        "      <th>Lower Bound</th>\n",
        "      <th>Upper Bound</th>\n",
        "      <th>Slack</th>\n",
        "      <th>Value</th>\n",
        "    </tr>\n",
        "  </thead>\n",
        "  <tbody>\n",
        "    <tr>\n",
        "      <th>0</th>\n",
        "      <td>  A_min</td>\n",
        "      <td> &gt;=</td>\n",
        "      <td> 700</td>\n",
        "      <td>   NaN</td>\n",
        "      <td> -616</td>\n",
        "      <td> 1316</td>\n",
        "    </tr>\n",
        "    <tr>\n",
        "      <th>1</th>\n",
        "      <td>  A_max</td>\n",
        "      <td> &lt;=</td>\n",
        "      <td> NaN</td>\n",
        "      <td> 10000</td>\n",
        "      <td> 8684</td>\n",
        "      <td> 1316</td>\n",
        "    </tr>\n",
        "    <tr>\n",
        "      <th>2</th>\n",
        "      <td> B1_min</td>\n",
        "      <td> &gt;=</td>\n",
        "      <td> 700</td>\n",
        "      <td>   NaN</td>\n",
        "      <td> -100</td>\n",
        "      <td>  800</td>\n",
        "    </tr>\n",
        "    <tr>\n",
        "      <th>3</th>\n",
        "      <td> B1_max</td>\n",
        "      <td> &lt;=</td>\n",
        "      <td> NaN</td>\n",
        "      <td> 10000</td>\n",
        "      <td> 9200</td>\n",
        "      <td>  800</td>\n",
        "    </tr>\n",
        "    <tr>\n",
        "      <th>4</th>\n",
        "      <td> B2_min</td>\n",
        "      <td> &gt;=</td>\n",
        "      <td> 700</td>\n",
        "      <td>   NaN</td>\n",
        "      <td>   -0</td>\n",
        "      <td>  700</td>\n",
        "    </tr>\n",
        "    <tr>\n",
        "      <th>5</th>\n",
        "      <td> B2_max</td>\n",
        "      <td> &lt;=</td>\n",
        "      <td> NaN</td>\n",
        "      <td> 10000</td>\n",
        "      <td> 9300</td>\n",
        "      <td>  700</td>\n",
        "    </tr>\n",
        "    <tr>\n",
        "      <th>6</th>\n",
        "      <td>  C_min</td>\n",
        "      <td> &gt;=</td>\n",
        "      <td> 700</td>\n",
        "      <td>   NaN</td>\n",
        "      <td> -510</td>\n",
        "      <td> 1210</td>\n",
        "    </tr>\n",
        "    <tr>\n",
        "      <th>7</th>\n",
        "      <td>  C_max</td>\n",
        "      <td> &lt;=</td>\n",
        "      <td> NaN</td>\n",
        "      <td> 10000</td>\n",
        "      <td> 8790</td>\n",
        "      <td> 1210</td>\n",
        "    </tr>\n",
        "  </tbody>\n",
        "</table>\n",
        "</div>"
       ],
       "metadata": {},
       "output_type": "display_data",
       "text": [
        "     Name Sense  Lower Bound  Upper Bound  Slack  Value\n",
        "0   A_min    >=          700          NaN   -616   1316\n",
        "1   A_max    <=          NaN        10000   8684   1316\n",
        "2  B1_min    >=          700          NaN   -100    800\n",
        "3  B1_max    <=          NaN        10000   9200    800\n",
        "4  B2_min    >=          700          NaN     -0    700\n",
        "5  B2_max    <=          NaN        10000   9300    700\n",
        "6   C_min    >=          700          NaN   -510   1210\n",
        "7   C_max    <=          NaN        10000   8790   1210"
       ]
      }
     ],
     "prompt_number": 352
    },
    {
     "cell_type": "code",
     "collapsed": false,
     "input": [
      "ax = soln['Variables'].ix[:,'Value'].plot(kind='bar')\n",
      "ax.set_xticklabels(list(soln['Variables'].ix[:,'Name']));"
     ],
     "language": "python",
     "metadata": {},
     "outputs": [
      {
       "metadata": {},
       "output_type": "display_data",
       "png": "[encoded data removed]",
       "text": [
        "<matplotlib.figure.Figure at 0x10a677d10>"
       ]
      }
     ],
     "prompt_number": 353
    },
    {
     "cell_type": "code",
     "collapsed": false,
     "input": [
      "nmax = arange(0,60,1)\n",
      "obj = zeros(size(nmax))\n",
      "for n in nmax:\n",
      "    soln = solvelp(dietlp(price,nutrition,requirements,0,n));\n",
      "    obj[n-1] = soln['Objective'].ix[0,'Value'] if (soln['Objective'].ix[0,'Status'] == 'Optimal') else NaN\n",
      "\n",
      "plot(nmax,obj,'r.')\n",
      "xlabel('n_max')\n",
      "ylabel('Cost')"
     ],
     "language": "python",
     "metadata": {},
     "outputs": [
      {
       "metadata": {},
       "output_type": "pyout",
       "prompt_number": 354,
       "text": [
        "<matplotlib.text.Text at 0x10a6dead0>"
       ]
      },
      {
       "metadata": {},
       "output_type": "display_data",
       "png": "[encoded data removed]",
       "text": [
        "<matplotlib.figure.Figure at 0x10baade50>"
       ]
      }
     ],
     "prompt_number": 354
    },
    {
     "cell_type": "heading",
     "level": 2,
     "metadata": {},
     "source": [
      "Refinery Operations"
     ]
    },
    {
     "cell_type": "code",
     "collapsed": false,
     "input": [
      "%%script glpsol -m /dev/stdin -o /dev/stdout --out output\n",
      "\n",
      "set COMPONENTS;\n",
      "set PRODUCTS;\n",
      "set CRUDES;\n",
      "\n",
      "param feed {COMPONENTS,CRUDES};\n",
      "param avail {CRUDES}; \n",
      "\n",
      "data;\n",
      "\n",
      "set COMPONENTS := \n",
      "    Butane  \n",
      "    Naptha  \n",
      "    Gasoil  \n",
      "    Residue ;\n",
      "    \n",
      "set CRUDES :=\n",
      "    Crude_1\n",
      "    Crude_2 ;\n",
      "    \n",
      "param feed :  Crude_1   Crude_2 :=\n",
      "    Butane     0.03      0.05\n",
      "    Naphtha    0.15      0.20\n",
      "    Gasoil     0.40      0.35\n",
      "    Residue    0.15      0.10 ;\n",
      "    \n",
      "param avail :=\n",
      "    Crude_1    250000\n",
      "    Crude_2    400000 ;\n",
      "    \n",
      "end;\n",
      "\n"
     ],
     "language": "python",
     "metadata": {},
     "outputs": [],
     "prompt_number": 26
    },
    {
     "cell_type": "code",
     "collapsed": false,
     "input": [
      "print output"
     ],
     "language": "python",
     "metadata": {},
     "outputs": [
      {
       "output_type": "stream",
       "stream": "stdout",
       "text": [
        "GLPSOL: GLPK LP/MIP Solver, v4.52\n",
        "Parameter(s) specified in the command line:\n",
        " -m /dev/stdin -o /dev/stdout\n",
        "Reading model section from /dev/stdin...\n",
        "Reading data section from /dev/stdin...\n",
        "30 lines were read\n",
        "Model has been successfully generated\n",
        "GLPK Simplex Optimizer, v4.52\n",
        "0 rows, 0 columns, 0 non-zeros\n",
        "~     0: obj =   0.000000000e+00  infeas =  0.000e+00\n",
        "OPTIMAL SOLUTION FOUND\n",
        "Time used:   0.0 secs\n",
        "Memory used: 0.1 Mb (73651 bytes)\n",
        "Writing basic solution to `/dev/stdout'...\n",
        "Problem:    stdin\n",
        "Rows:       0\n",
        "Columns:    0\n",
        "Non-zeros:  0\n",
        "Status:     OPTIMAL\n",
        "Objective:  0 (MINimum)\n",
        "\n",
        "   No.   Row name   St   Activity     Lower bound   Upper bound    Marginal\n",
        "------ ------------ -- ------------- ------------- ------------- -------------\n",
        "\n",
        "   No. Column name  St   Activity     Lower bound   Upper bound    Marginal\n",
        "------ ------------ -- ------------- ------------- ------------- -------------\n",
        "\n",
        "Karush-Kuhn-Tucker optimality conditions:\n",
        "\n",
        "KKT.PE: max.abs.err = 0.00e+00 on row 0\n",
        "        max.rel.err = 0.00e+00 on row 0\n",
        "        High quality\n",
        "\n",
        "KKT.PB: max.abs.err = 0.00e+00 on row 0\n",
        "        max.rel.err = 0.00e+00 on row 0\n",
        "        High quality\n",
        "\n",
        "KKT.DE: max.abs.err = 0.00e+00 on column 0\n",
        "        max.rel.err = 0.00e+00 on column 0\n",
        "        High quality\n",
        "\n",
        "KKT.DB: max.abs.err = 0.00e+00 on row 0\n",
        "        max.rel.err = 0.00e+00 on row 0\n",
        "        High quality\n",
        "\n",
        "End of output\n",
        "\n"
       ]
      }
     ],
     "prompt_number": 27
    },
    {
     "cell_type": "code",
     "collapsed": false,
     "input": [],
     "language": "python",
     "metadata": {},
     "outputs": []
    }
   ],
   "metadata": {}
  }
 ]
}