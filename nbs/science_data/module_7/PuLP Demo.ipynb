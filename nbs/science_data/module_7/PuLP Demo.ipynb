{
 "metadata": {
  "name": ""
 },
 "nbformat": 3,
 "nbformat_minor": 0,
 "worksheets": [
  {
   "cells": [
    {
     "cell_type": "heading",
     "level": 1,
     "metadata": {},
     "source": [
      "Solving Linear Programming Problems with PuLP"
     ]
    },
    {
     "cell_type": "markdown",
     "metadata": {},
     "source": [
      "This [IPython notebook](http://ipython.org/notebook.html) demonstrates the use of the [Python package PuLP](https://pypi.python.org/pypi/PuLP/1.5.4) for the modeling and solution of linear programming problems.\n",
      "\n",
      "J.C. Kantor (Kantor.1@nd.edu)\n",
      "   \n",
      "The latest version of this IPython notebook is available at [http://github.com/jckantor/CBE20255](http://github.com/jckantor/CBE20255)  for noncommercial use under terms of the [Creative Commons Attribution Noncommericial ShareAlike License](http://creativecommons.org/licenses/by-nc-sa/4.0/)."
     ]
    },
    {
     "cell_type": "heading",
     "level": 2,
     "metadata": {},
     "source": [
      "Installing PuLP"
     ]
    },
    {
     "cell_type": "markdown",
     "metadata": {},
     "source": [
      "PuLP is an external package that may need to be installed into your python environment. The following cell issues a system command to install PuLP if needed. PuLP includes the [COIN-OR CBC](https://projects.coin-or.org/Cbc) solver."
     ]
    },
    {
     "cell_type": "code",
     "collapsed": false,
     "input": [
      "!pip install PuLP"
     ],
     "language": "python",
     "metadata": {},
     "outputs": [
      {
       "output_type": "stream",
       "stream": "stdout",
       "text": [
        "Requirement already satisfied (use --upgrade to upgrade): PuLP in /Applications/anaconda/lib/python2.7/site-packages\r\n",
        "Requirement already satisfied (use --upgrade to upgrade): pyparsing<=1.9.9 in /Applications/anaconda/lib/python2.7/site-packages (from PuLP)\r\n",
        "Cleaning up...\r\n"
       ]
      }
     ],
     "prompt_number": 1
    },
    {
     "cell_type": "heading",
     "level": 2,
     "metadata": {},
     "source": [
      "Example: Giapetto's Workshop"
     ]
    },
    {
     "cell_type": "heading",
     "level": 3,
     "metadata": {},
     "source": [
      "Model Formulation"
     ]
    },
    {
     "cell_type": "code",
     "collapsed": false,
     "input": [
      "import pulp\n",
      "\n",
      "# Create problem instance\n",
      "giapetto = pulp.LpProblem(\"Giapetto's Workshop\", pulp.LpMaximize)\n",
      "\n",
      "# Define Variables with lower bounds of zero\n",
      "x1 = pulp.LpVariable(\"Soldiers\",0)\n",
      "x2 = pulp.LpVariable(\"Trains\",0)\n",
      "\n",
      "# Add Objective\n",
      "giapetto += 3*x1 + 2*x2, \"Profit\"\n",
      "\n",
      "# Add Constraints\n",
      "giapetto += 2*x1 + x2 <= 100,\"Finishing Labor\"\n",
      "giapetto += x1 + x2 <= 80, \"Carpentry Labor\"\n",
      "giapetto += x1 <= 40, \"Soldier Demand\"\n",
      "giapetto += x1 + x2 == 20, \"Minimum Production\"\n",
      "\n",
      "# Display Problem\n",
      "print giapetto"
     ],
     "language": "python",
     "metadata": {},
     "outputs": [
      {
       "output_type": "stream",
       "stream": "stdout",
       "text": [
        "Giapetto's Workshop:\n",
        "MAXIMIZE\n",
        "3*Soldiers + 2*Trains + 0\n",
        "SUBJECT TO\n",
        "Finishing_Labor: 2 Soldiers + Trains <= 100\n",
        "\n",
        "Carpentry_Labor: Soldiers + Trains <= 80\n",
        "\n",
        "Soldier_Demand: Soldiers <= 40\n",
        "\n",
        "Minimum_Production: Soldiers + Trains = 20\n",
        "\n",
        "VARIABLES\n",
        "Soldiers Continuous\n",
        "Trains Continuous\n",
        "\n"
       ]
      }
     ],
     "prompt_number": 2
    },
    {
     "cell_type": "heading",
     "level": 3,
     "metadata": {},
     "source": [
      "Model Solution"
     ]
    },
    {
     "cell_type": "code",
     "collapsed": false,
     "input": [
      "giapetto.solve()\n",
      "\n",
      "print pulp.LpStatus[giapetto.status]\n",
      "print pulp.LpSenses[giapetto.sense], giapetto.objective.name, \"=\", pulp.value(giapetto.objective)"
     ],
     "language": "python",
     "metadata": {},
     "outputs": [
      {
       "output_type": "stream",
       "stream": "stdout",
       "text": [
        "Optimal\n",
        "Maximize OBJ = 60.0\n"
       ]
      }
     ],
     "prompt_number": 3
    },
    {
     "cell_type": "heading",
     "level": 3,
     "metadata": {},
     "source": [
      "Displaying the Decision Variables"
     ]
    },
    {
     "cell_type": "markdown",
     "metadata": {},
     "source": [
      "Values for the decision variables can be accessed with the `pulp.value()` method."
     ]
    },
    {
     "cell_type": "code",
     "collapsed": false,
     "input": [
      "print x1.name, \"=\" , pulp.value(x1)\n",
      "print x2.name, \"=\" , pulp.value(x2)"
     ],
     "language": "python",
     "metadata": {},
     "outputs": [
      {
       "output_type": "stream",
       "stream": "stdout",
       "text": [
        "Soldiers = 20.0\n",
        "Trains = 0.0\n"
       ]
      }
     ],
     "prompt_number": 4
    },
    {
     "cell_type": "markdown",
     "metadata": {},
     "source": [
      "Alternatively, the decision variables can be accessed by interating through the list created by the `variables()` method."
     ]
    },
    {
     "cell_type": "code",
     "collapsed": false,
     "input": [
      "for x in giapetto.variables():\n",
      "    print \"Name:       \", x.name\n",
      "    print \"Value:      \", x.varValue\n",
      "    print \"Category:   \", x.cat\n",
      "    print \"Lower Bound:\", x.lowBound\n",
      "    print \"Upper Bound:\", x.upBound\n",
      "    print "
     ],
     "language": "python",
     "metadata": {},
     "outputs": [
      {
       "output_type": "stream",
       "stream": "stdout",
       "text": [
        "Name:        Soldiers\n",
        "Value:       20.0\n",
        "Category:    Continuous\n",
        "Lower Bound: 0\n",
        "Upper Bound: None\n",
        "\n",
        "Name:        Trains\n",
        "Value:       0.0\n",
        "Category:    Continuous\n",
        "Lower Bound: 0\n",
        "Upper Bound: None\n",
        "\n"
       ]
      }
     ],
     "prompt_number": 5
    },
    {
     "cell_type": "markdown",
     "metadata": {},
     "source": [
      "[Pandas](http://pandas.pydata.org/) is a python package for managing and analysing data. The following cell shows how to use a list comprehension and panda DataFrame to create and display a table from the solution data."
     ]
    },
    {
     "cell_type": "heading",
     "level": 3,
     "metadata": {},
     "source": [
      "Displaying the Constraints"
     ]
    },
    {
     "cell_type": "markdown",
     "metadata": {},
     "source": [
      "The constraints are stored as an ordered dictionary in `constraints` attribute of the problem. "
     ]
    },
    {
     "cell_type": "code",
     "collapsed": false,
     "input": [
      "for (name,constraint) in giapetto.constraints.items():\n",
      "    print \"Name:        \", name\n",
      "    print \"Constraint:  \", constraint\n",
      "    print \"Lower Bound: \", constraint.getLb()\n",
      "    print \"Upper Bound: \", constraint.getUb()\n",
      "    print \"Value:       \", pulp.value(constraint)\n",
      "    print \"Sense:       \", pulp.LpConstraintSenses[constraint.sense]\n",
      "    print \"Constant:    \", constraint.constant\n",
      "    print \"Slack:       \", constraint.slack\n",
      "    print \"Slack (Feas):\", constraint.slack if constraint.sense < 0 else -constraint.slack\n",
      "    print"
     ],
     "language": "python",
     "metadata": {},
     "outputs": [
      {
       "output_type": "stream",
       "stream": "stdout",
       "text": [
        "Name:         Finishing_Labor\n",
        "Constraint:   2*Soldiers + Trains <= 100\n",
        "Lower Bound:  None\n",
        "Upper Bound:  100\n",
        "Value:        -60.0\n",
        "Sense:        <=\n",
        "Constant:     -100\n",
        "Slack:        60.0\n",
        "Slack (Feas): 60.0\n",
        "\n",
        "Name:         Carpentry_Labor\n",
        "Constraint:   Soldiers + Trains <= 80\n",
        "Lower Bound:  None\n",
        "Upper Bound:  80\n",
        "Value:        -60.0\n",
        "Sense:        <=\n",
        "Constant:     -80\n",
        "Slack:        60.0\n",
        "Slack (Feas): 60.0\n",
        "\n",
        "Name:         Soldier_Demand\n",
        "Constraint:   Soldiers <= 40\n",
        "Lower Bound:  None\n",
        "Upper Bound:  40\n",
        "Value:        -20.0\n",
        "Sense:        <=\n",
        "Constant:     -40\n",
        "Slack:        20.0\n",
        "Slack (Feas): 20.0\n",
        "\n",
        "Name:         Minimum_Production\n",
        "Constraint:   Soldiers + Trains\n",
        "Lower Bound:  20\n",
        "Upper Bound:  20\n",
        "Value:        0.0\n",
        "Sense:        =\n",
        "Constant:     -20\n",
        "Slack:        -0.0\n",
        "Slack (Feas): 0.0\n",
        "\n"
       ]
      }
     ],
     "prompt_number": 6
    },
    {
     "cell_type": "heading",
     "level": 2,
     "metadata": {},
     "source": [
      "A simple function to solve and display the solution to a linear program"
     ]
    },
    {
     "cell_type": "code",
     "collapsed": false,
     "input": [
      "import pandas\n",
      "\n",
      "def solvelp(lp):\n",
      "    lp.solve();\n",
      "\n",
      "    data = [[lp.objective.name, pulp.LpSenses[lp.sense], pulp.LpStatus[lp.status], pulp.value(lp.objective)]]\n",
      "    objDF = pandas.DataFrame(data,columns=[\"Objective\", \"Sense\", \"Status\", \"Value\"])\n",
      "\n",
      "    data = [[x.name, x.cat, x.lowBound, x.upBound, x.varValue] \n",
      "        for x in lp.variables()]\n",
      "    varDF = pandas.DataFrame(data,columns=[\"Name\",\"Category\",\"Lower Bound\",\"Upper Bound\",\"Value\"])    \n",
      "\n",
      "    data = [[c.name, c.getLb(), c.getUb(), c.slack, pulp.value(c) - c.constant] \n",
      "        for (k,c) in lp.constraints.items()]\n",
      "    conDF = pandas.DataFrame(data,columns=[\"Name\", \"Lower Bound\", \"Upper Bound\", \"Slack\", \"Value\"])\n",
      "\n",
      "    return (objDF,varDF,conDF)"
     ],
     "language": "python",
     "metadata": {},
     "outputs": [],
     "prompt_number": 7
    },
    {
     "cell_type": "code",
     "collapsed": false,
     "input": [
      "(odf,vdf,cdf) = solvelp(giapetto);\n",
      "\n",
      "from IPython.display import display,HTML\n",
      "\n",
      "display(HTML('<h3>Model</h3>'))\n",
      "display(giapetto)\n",
      "display(HTML('<h3>Objective</h3>'))\n",
      "display(odf)\n",
      "display(HTML('<h3>Variables</h3>'))\n",
      "display(vdf)\n",
      "display(HTML('<h3>Constraints</h3>'))\n",
      "display(cdf)"
     ],
     "language": "python",
     "metadata": {},
     "outputs": [
      {
       "html": [
        "<h3>Model</h3>"
       ],
       "metadata": {},
       "output_type": "display_data",
       "text": [
        "<IPython.core.display.HTML at 0x10781d910>"
       ]
      },
      {
       "metadata": {},
       "output_type": "display_data",
       "text": [
        "Giapetto's Workshop:\n",
        "MAXIMIZE\n",
        "3*Soldiers + 2*Trains + 0\n",
        "SUBJECT TO\n",
        "Finishing_Labor: 2 Soldiers + Trains <= 100\n",
        "\n",
        "Carpentry_Labor: Soldiers + Trains <= 80\n",
        "\n",
        "Soldier_Demand: Soldiers <= 40\n",
        "\n",
        "Minimum_Production: Soldiers + Trains = 20\n",
        "\n",
        "VARIABLES\n",
        "Soldiers Continuous\n",
        "Trains Continuous\n"
       ]
      },
      {
       "html": [
        "<h3>Objective</h3>"
       ],
       "metadata": {},
       "output_type": "display_data",
       "text": [
        "<IPython.core.display.HTML at 0x107818710>"
       ]
      },
      {
       "html": [
        "<div style=\"max-height:1000px;max-width:1500px;overflow:auto;\">\n",
        "<table border=\"1\" class=\"dataframe\">\n",
        "  <thead>\n",
        "    <tr style=\"text-align: right;\">\n",
        "      <th></th>\n",
        "      <th>Objective</th>\n",
        "      <th>Sense</th>\n",
        "      <th>Status</th>\n",
        "      <th>Value</th>\n",
        "    </tr>\n",
        "  </thead>\n",
        "  <tbody>\n",
        "    <tr>\n",
        "      <th>0</th>\n",
        "      <td> OBJ</td>\n",
        "      <td> Maximize</td>\n",
        "      <td> Optimal</td>\n",
        "      <td> 60</td>\n",
        "    </tr>\n",
        "  </tbody>\n",
        "</table>\n",
        "</div>"
       ],
       "metadata": {},
       "output_type": "display_data",
       "text": [
        "  Objective     Sense   Status  Value\n",
        "0       OBJ  Maximize  Optimal     60"
       ]
      },
      {
       "html": [
        "<h3>Variables</h3>"
       ],
       "metadata": {},
       "output_type": "display_data",
       "text": [
        "<IPython.core.display.HTML at 0x107818710>"
       ]
      },
      {
       "html": [
        "<div style=\"max-height:1000px;max-width:1500px;overflow:auto;\">\n",
        "<table border=\"1\" class=\"dataframe\">\n",
        "  <thead>\n",
        "    <tr style=\"text-align: right;\">\n",
        "      <th></th>\n",
        "      <th>Name</th>\n",
        "      <th>Category</th>\n",
        "      <th>Lower Bound</th>\n",
        "      <th>Upper Bound</th>\n",
        "      <th>Value</th>\n",
        "    </tr>\n",
        "  </thead>\n",
        "  <tbody>\n",
        "    <tr>\n",
        "      <th>0</th>\n",
        "      <td> Soldiers</td>\n",
        "      <td> Continuous</td>\n",
        "      <td> 0</td>\n",
        "      <td> None</td>\n",
        "      <td> 20</td>\n",
        "    </tr>\n",
        "    <tr>\n",
        "      <th>1</th>\n",
        "      <td>   Trains</td>\n",
        "      <td> Continuous</td>\n",
        "      <td> 0</td>\n",
        "      <td> None</td>\n",
        "      <td>  0</td>\n",
        "    </tr>\n",
        "  </tbody>\n",
        "</table>\n",
        "</div>"
       ],
       "metadata": {},
       "output_type": "display_data",
       "text": [
        "       Name    Category  Lower Bound Upper Bound  Value\n",
        "0  Soldiers  Continuous            0        None     20\n",
        "1    Trains  Continuous            0        None      0"
       ]
      },
      {
       "html": [
        "<h3>Constraints</h3>"
       ],
       "metadata": {},
       "output_type": "display_data",
       "text": [
        "<IPython.core.display.HTML at 0x107818710>"
       ]
      },
      {
       "html": [
        "<div style=\"max-height:1000px;max-width:1500px;overflow:auto;\">\n",
        "<table border=\"1\" class=\"dataframe\">\n",
        "  <thead>\n",
        "    <tr style=\"text-align: right;\">\n",
        "      <th></th>\n",
        "      <th>Name</th>\n",
        "      <th>Lower Bound</th>\n",
        "      <th>Upper Bound</th>\n",
        "      <th>Slack</th>\n",
        "      <th>Value</th>\n",
        "    </tr>\n",
        "  </thead>\n",
        "  <tbody>\n",
        "    <tr>\n",
        "      <th>0</th>\n",
        "      <td>    Finishing_Labor</td>\n",
        "      <td>NaN</td>\n",
        "      <td> 100</td>\n",
        "      <td> 60</td>\n",
        "      <td> 40</td>\n",
        "    </tr>\n",
        "    <tr>\n",
        "      <th>1</th>\n",
        "      <td>    Carpentry_Labor</td>\n",
        "      <td>NaN</td>\n",
        "      <td>  80</td>\n",
        "      <td> 60</td>\n",
        "      <td> 20</td>\n",
        "    </tr>\n",
        "    <tr>\n",
        "      <th>2</th>\n",
        "      <td>     Soldier_Demand</td>\n",
        "      <td>NaN</td>\n",
        "      <td>  40</td>\n",
        "      <td> 20</td>\n",
        "      <td> 20</td>\n",
        "    </tr>\n",
        "    <tr>\n",
        "      <th>3</th>\n",
        "      <td> Minimum_Production</td>\n",
        "      <td> 20</td>\n",
        "      <td>  20</td>\n",
        "      <td> -0</td>\n",
        "      <td> 20</td>\n",
        "    </tr>\n",
        "  </tbody>\n",
        "</table>\n",
        "</div>"
       ],
       "metadata": {},
       "output_type": "display_data",
       "text": [
        "                 Name  Lower Bound  Upper Bound  Slack  Value\n",
        "0     Finishing_Labor          NaN          100     60     40\n",
        "1     Carpentry_Labor          NaN           80     60     20\n",
        "2      Soldier_Demand          NaN           40     20     20\n",
        "3  Minimum_Production           20           20     -0     20"
       ]
      }
     ],
     "prompt_number": 8
    },
    {
     "cell_type": "code",
     "collapsed": false,
     "input": [
      "cdf.plot(title=\"Value\",kind='bar')"
     ],
     "language": "python",
     "metadata": {},
     "outputs": [
      {
       "metadata": {},
       "output_type": "pyout",
       "prompt_number": 9,
       "text": [
        "<matplotlib.axes.AxesSubplot at 0x107818790>"
       ]
      },
      {
       "metadata": {},
       "output_type": "display_data",
       "png": "[encoded data removed]",
       "text": [
        "<matplotlib.figure.Figure at 0x107818b50>"
       ]
      }
     ],
     "prompt_number": 9
    }
   ],
   "metadata": {}
  }
 ]
}