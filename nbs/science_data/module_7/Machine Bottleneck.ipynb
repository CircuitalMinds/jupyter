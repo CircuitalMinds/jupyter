{
 "metadata": {
  "name": ""
 },
 "nbformat": 3,
 "nbformat_minor": 0,
 "worksheets": [
  {
   "cells": [
    {
     "cell_type": "heading",
     "level": 6,
     "metadata": {},
     "source": [
      "The latest version of this IPython notebook is available at [http://github.com/jckantor/ESTM60203](http://github.com/jckantor/ESTM60203)  for noncommercial use under terms of the [Creative Commons Attribution Noncommericial ShareAlike License (CC BY-NC-SA 4.0)](http://creativecommons.org/licenses/by-nc-sa/4.0/)."
     ]
    },
    {
     "cell_type": "markdown",
     "metadata": {},
     "source": [
      "J.C. Kantor (Kantor.1@nd.edu)"
     ]
    },
    {
     "cell_type": "heading",
     "level": 1,
     "metadata": {},
     "source": [
      "Machine Bottleneck"
     ]
    },
    {
     "cell_type": "markdown",
     "metadata": {},
     "source": [
      "This [IPython notebook](http://ipython.org/notebook.html) demonstrates the formulation and solution of ???? using GLPK/Mathprog."
     ]
    },
    {
     "cell_type": "heading",
     "level": 3,
     "metadata": {},
     "source": [
      "Initializations"
     ]
    },
    {
     "cell_type": "code",
     "collapsed": false,
     "input": [
      "from IPython.core.display import HTML\n",
      "HTML(open(\"styles/custom.css\", \"r\").read())"
     ],
     "language": "python",
     "metadata": {},
     "outputs": [
      {
       "html": [
        "<link href='http://fonts.googleapis.com/css?family=Fenix' rel='stylesheet' type='text/css'>\n",
        "<link href='http://fonts.googleapis.com/css?family=Alegreya+Sans:100,300,400,500,700,800,\n",
        "    900,100italic,300italic,400italic,500italic,700italic,800italic,900italic' rel='stylesheet' type='text/css'>\n",
        "<link href='http://fonts.googleapis.com/css?family=Source+Code+Pro:300,400' rel='stylesheet' type='text/css'>\n",
        "<link href='http://fonts.googleapis.com/css?family=Crimson+Text' rel='stylesheet' type='text/css'>\n",
        "<link href='http://fonts.googleapis.com/css?family=Kameron' rel='stylesheet' type='text/css'>\n",
        "<link href='http://fonts.googleapis.com/css?family=Lato:200' rel='stylesheet' type='text/css'>\n",
        "<link href='http://fonts.googleapis.com/css?family=Lato:300' rel='stylesheet' type='text/css'>\n",
        "<link href='http://fonts.googleapis.com/css?family=Lato:400' rel='stylesheet' type='text/css'>\n",
        "<link href='http://fonts.googleapis.com/css?family=Source+Code+Pro' rel='stylesheet' type='text/css'>\n",
        "\n",
        "<style>\n",
        "\n",
        "@font-face {\n",
        "    font-family: \"Computer Modern\";\n",
        "    src: url('http://mirrors.ctan.org/fonts/cm-unicode/fonts/otf/cmunss.otf');\n",
        "}\n",
        "\n",
        "#notebook_panel { /* establish main background and color */\n",
        "    background: #fff;\n",
        "    color: #ff0000;\n",
        "}\n",
        "\n",
        "div.cell { /* set cell width */\n",
        "    width:800px;\n",
        "    margin-left:0%;\n",
        "    margin-right:auto;\n",
        "}\n",
        "\n",
        "div #notebook { /* centers the content */\n",
        "    background: #fff;\n",
        "    width: 1000px;\n",
        "    margin: auto;\n",
        "    padding-left: 1em;\n",
        "}\n",
        "\n",
        "#notebook li { /* more space between bullet points */\n",
        "    margin-top:0.8em;\n",
        "}\n",
        "\n",
        "/* draw border around running cells */\n",
        "div.cell.border-box-sizing.code_cell.running {\n",
        "    border: 3px solid #111;\n",
        "}\n",
        "\n",
        "/* Put a solid color box around each code cell and its output,\n",
        "     visually linking them together */\n",
        "div.cell.code_cell {\n",
        "    background-color: rgba(171,165,131,0.2);\n",
        "    border-radius: 10px; /* rounded borders */\n",
        "    padding: 1em;\n",
        "    margin-top: 1em;\n",
        "}\n",
        "\n",
        ".CodeMirror {\n",
        "    font-family: \"Source Code Pro\";\n",
        "    font-size: 90%;\n",
        "}\n",
        "\n",
        "div.text_cell_render code {\n",
        "    font-family: \"Source Code Pro\";\n",
        "    font-size: 90%;\n",
        "    color: red;\n",
        "}\n",
        "\n",
        "pre {\n",
        "    font-family: \"Source Code Pro\";\n",
        "    font-size: 90%;\n",
        "}\n",
        "\n",
        "div.text_cell_render { /* rendering of basic text cell */\n",
        "    font-family: 'Alegreya Sans', Computer Modern, \"Helvetica Neue\", Arial, Helvetica, sans-serif;\n",
        "    line-height: 135%;\n",
        "    font-size: 120%;\n",
        "    width:700px;\n",
        "    margin-left:auto;\n",
        "    margin-right:auto;\n",
        "}\n",
        "\n",
        ".text_cell_render h1 {\n",
        "    font-family: 'Alegreya Sans', sans-serif;\n",
        "    font-weight: 300;\n",
        "    font-size: 40pt;\n",
        "    line-height: 100%;\n",
        "    color:#CD2305;\n",
        "    margin-bottom: 0.4em;\n",
        "    margin-top: 0em;\n",
        "    display: block;\n",
        "}\n",
        "\n",
        "h2 {\n",
        "    font-family: 'Fenix', serif;\n",
        "}\n",
        "\n",
        "h3 {\n",
        "    font-family: 'Fenix', serif;\n",
        "    margin-top:12px;\n",
        "    margin-bottom: 3px;\n",
        "}\n",
        "\n",
        "h4 {\n",
        "    font-family: 'Fenix', serif;\n",
        "}\n",
        "\n",
        ".text_cell_render h5 {\n",
        "    font-family: 'Alegreya Sans', sans-serif;\n",
        "    font-weight: 100;\n",
        "    font-size: 16pt;\n",
        "    color: #CD2305;\n",
        "    font-style: italic;\n",
        "    margin-bottom: .5em;\n",
        "    margin-top: 0.5em;\n",
        "    display: block;\n",
        "}\n",
        "\n",
        ".text_cell_render h6 { /*use this for copyright note*/\n",
        "    font-family: 'Alegreya Sans', sans-serif;\n",
        "    font-weight: 400;\n",
        "    font-size: 10pt;\n",
        "    font-style: normal;\n",
        "    line-height: 120%;\n",
        "    margin-bottom: 1px;\n",
        "    margin-top: 1px;\n",
        "}\n",
        "\n",
        ".MathJax, .MathJax_Display  {\n",
        "    font-family: 'Alegreya Sans', sans-serif  !important;\n",
        "    font-size: 90%  !important;\n",
        "    vertical-align: 0px  !important;\n",
        "}\n",
        "\n",
        ".warning{\n",
        "    color: rgb( 240, 20, 20 )\n",
        "}\n",
        "\n",
        "</style>\n",
        "\n",
        "<script>\n",
        "MathJax.Hub.Config({\n",
        "    TeX: {\n",
        "        extensions: [\"AMSmath.js\"]\n",
        "    },\n",
        "    tex2jax: {\n",
        "        inlineMath: [ ['$','$'], [\"\\\\(\",\"\\\\)\"] ],\n",
        "        displayMath: [ ['$$','$$'], [\"\\\\[\",\"\\\\]\"] ],\n",
        "        processEscapes: true\n",
        "    },\n",
        "    displayAlign: 'center', // Change this to 'center' to center equations.\n",
        "    \"HTML-CSS\": {\n",
        "        styles: {'.MathJax_Display': {\"margin\": 4}}\n",
        "    }\n",
        "});\n",
        "</script>\n",
        "\n"
       ],
       "metadata": {},
       "output_type": "pyout",
       "prompt_number": 1,
       "text": [
        "<IPython.core.display.HTML at 0x10676a250>"
       ]
      }
     ],
     "prompt_number": 1
    },
    {
     "cell_type": "heading",
     "level": 2,
     "metadata": {},
     "source": [
      "Background"
     ]
    },
    {
     "cell_type": "markdown",
     "metadata": {},
     "source": [
      "<p>\n",
      "    The task is to schedule a set of jobs on a single machine given\n",
      "    the release time, duration, and due time for each job.\n",
      "</p>\n"
     ]
    },
    {
     "cell_type": "heading",
     "level": 2,
     "metadata": {},
     "source": [
      "MathProg Model"
     ]
    },
    {
     "cell_type": "markdown",
     "metadata": {},
     "source": [
      "The model uses a 'Big M' implementation of disjunctive constraints to avoid conflicts for a single machine.  Big M should be larger than the longest time horizon for the completion of all jobs. A bound on the longest horizon is the maximum release plus the sum of durations for all jobs."
     ]
    },
    {
     "cell_type": "code",
     "collapsed": false,
     "input": [
      "%%writefile Bottleneck.mod\n",
      "\n",
      "/* Machine Bottleneck Example */\n",
      "\n",
      "set JOBS;\n",
      "\n",
      "param rel{JOBS} default 0;   # Time a job is available to the machine\n",
      "param dur{JOBS};             # Job duration\n",
      "param due{JOBS};             # Job due time\n",
      "\n",
      "/* Data Checks */\n",
      "check {k in JOBS}: rel[k] + dur[k] <= due[k];\n",
      "\n",
      "/* The model uses a 'Big M' implementation of disjunctive constraints\n",
      "to avoid conflicts for a single machine.  Big M should be larger than\n",
      "the longest time horizon for the completion of all jobs. A bound\n",
      "on the longest horizon is the maximum release plus the sum of\n",
      "durations for all jobs. */\n",
      "\n",
      "param BigM := (max {k in JOBS} rel[k] ) + sum{k in JOBS} dur[k];\n",
      "\n",
      "/* Decision variables are the start times for each job, and a\n",
      "disjunctive variable y[j,k] which is 1 if job j precedes job k on\n",
      "the machine. */\n",
      "\n",
      "var start{JOBS} >= 0;\n",
      "var pastdue{JOBS} >= 0;\n",
      "var y{JOBS,JOBS} binary;\n",
      "\n",
      "/* There are many possible objectives, including total pastdue, maximum\n",
      "pastdue (i.e., tardiness), number of jobs pastdue.  */\n",
      "\n",
      "minimize OBJ : sum {k in JOBS} pastdue[k];\n",
      "\n",
      "/* Order Constraints */\n",
      "\n",
      "s.t. START {k in JOBS}: start[k] >= rel[k];\n",
      "s.t. FINIS {k in JOBS}: start[k] + dur[k] <= due[k] + pastdue[k];\n",
      "\n",
      "/* Machine Conflict Constraints */\n",
      "\n",
      "s.t. DA {j in JOBS, k in JOBS : j < k}:\n",
      "   start[j] + dur[j] <= start[k] + BigM*(1-y[j,k]);\n",
      "s.t. DB {j in JOBS, k in JOBS : j < k}:\n",
      "   start[k] + dur[k] <= start[j] + BigM*y[j,k];\n",
      "\n",
      "solve;\n",
      "\n",
      "/* Create Tables */\n",
      "\n",
      "table tout {k in JOBS} OUT \"CSV\" \"Schedule.csv\" \"table\":\n",
      "    k~Job, rel[k]~Release, start[k]~Start, start[k]+dur[k]~Finish, due[k]~Due;\n",
      "\n",
      "/* Print Report */\n",
      "\n",
      "printf \" Task     Rel     Dur     Due   Start  Finish Pastdue\\n\";\n",
      "printf {k in JOBS} \"%5s %7g %7g %7g %7g %7g %7g\\n\",\n",
      "   k,rel[k],dur[k],due[k],start[k],start[k]+dur[k],pastdue[k];\n",
      "\n",
      "end;"
     ],
     "language": "python",
     "metadata": {},
     "outputs": [
      {
       "output_type": "stream",
       "stream": "stdout",
       "text": [
        "Overwriting Bottleneck.mod\n"
       ]
      }
     ],
     "prompt_number": 2
    },
    {
     "cell_type": "heading",
     "level": 2,
     "metadata": {},
     "source": [
      "Example"
     ]
    },
    {
     "cell_type": "markdown",
     "metadata": {},
     "source": [
      "Machine Bottleneck Example from Christelle Gueret, Christian Prins,\n",
      "Marc Sevaux, \"Applications of Optimization with Xpress-MP,\" Chapter 5,\n",
      "Dash Optimization, 2000."
     ]
    },
    {
     "cell_type": "code",
     "collapsed": false,
     "input": [
      "%%script glpsol -m Bottleneck.mod -d /dev/stdin -y results.txt --out output\n",
      "\n",
      "param: JOBS : rel   dur   due :=\n",
      "         A      2     5    10\n",
      "         B      5     6    21\n",
      "         C      4     8    15\n",
      "         D      0     4    10\n",
      "         E      0     2     5\n",
      "         F      8     3    15\n",
      "         G      9     2    22 ;\n",
      "\n",
      "end;"
     ],
     "language": "python",
     "metadata": {},
     "outputs": [],
     "prompt_number": 6
    },
    {
     "cell_type": "code",
     "collapsed": false,
     "input": [
      "print(open('results.txt').read())"
     ],
     "language": "python",
     "metadata": {},
     "outputs": [
      {
       "output_type": "stream",
       "stream": "stdout",
       "text": [
        " Task     Rel     Dur     Due   Start  Finish Pastdue\n",
        "    A       2       5      10       6      11       1\n",
        "    B       5       6      21      14      20       0\n",
        "    C       4       8      15      22      30      15\n",
        "    D       0       4      10       2       6       0\n",
        "    E       0       2       5       0       2       0\n",
        "    F       8       3      15      11      14       0\n",
        "    G       9       2      22      20      22       0\n",
        "\n"
       ]
      }
     ],
     "prompt_number": 7
    },
    {
     "cell_type": "code",
     "collapsed": false,
     "input": [
      "import pandas\n",
      "\n",
      "pandas.read_csv(\"Schedule.csv\")"
     ],
     "language": "python",
     "metadata": {},
     "outputs": [
      {
       "html": [
        "<div style=\"max-height:1000px;max-width:1500px;overflow:auto;\">\n",
        "<table border=\"1\" class=\"dataframe\">\n",
        "  <thead>\n",
        "    <tr style=\"text-align: right;\">\n",
        "      <th></th>\n",
        "      <th>Job</th>\n",
        "      <th>Release</th>\n",
        "      <th>Start</th>\n",
        "      <th>Finish</th>\n",
        "      <th>Due</th>\n",
        "    </tr>\n",
        "  </thead>\n",
        "  <tbody>\n",
        "    <tr>\n",
        "      <th>0</th>\n",
        "      <td> A</td>\n",
        "      <td> 2</td>\n",
        "      <td>  6</td>\n",
        "      <td> 11</td>\n",
        "      <td> 10</td>\n",
        "    </tr>\n",
        "    <tr>\n",
        "      <th>1</th>\n",
        "      <td> B</td>\n",
        "      <td> 5</td>\n",
        "      <td> 14</td>\n",
        "      <td> 20</td>\n",
        "      <td> 21</td>\n",
        "    </tr>\n",
        "    <tr>\n",
        "      <th>2</th>\n",
        "      <td> C</td>\n",
        "      <td> 4</td>\n",
        "      <td> 22</td>\n",
        "      <td> 30</td>\n",
        "      <td> 15</td>\n",
        "    </tr>\n",
        "    <tr>\n",
        "      <th>3</th>\n",
        "      <td> D</td>\n",
        "      <td> 0</td>\n",
        "      <td>  2</td>\n",
        "      <td>  6</td>\n",
        "      <td> 10</td>\n",
        "    </tr>\n",
        "    <tr>\n",
        "      <th>4</th>\n",
        "      <td> E</td>\n",
        "      <td> 0</td>\n",
        "      <td>  0</td>\n",
        "      <td>  2</td>\n",
        "      <td>  5</td>\n",
        "    </tr>\n",
        "    <tr>\n",
        "      <th>5</th>\n",
        "      <td> F</td>\n",
        "      <td> 8</td>\n",
        "      <td> 11</td>\n",
        "      <td> 14</td>\n",
        "      <td> 15</td>\n",
        "    </tr>\n",
        "    <tr>\n",
        "      <th>6</th>\n",
        "      <td> G</td>\n",
        "      <td> 9</td>\n",
        "      <td> 20</td>\n",
        "      <td> 22</td>\n",
        "      <td> 22</td>\n",
        "    </tr>\n",
        "  </tbody>\n",
        "</table>\n",
        "<p>7 rows \u00d7 5 columns</p>\n",
        "</div>"
       ],
       "metadata": {},
       "output_type": "pyout",
       "prompt_number": 4,
       "text": [
        "  Job  Release  Start  Finish  Due\n",
        "0   A        2      6      11   10\n",
        "1   B        5     14      20   21\n",
        "2   C        4     22      30   15\n",
        "3   D        0      2       6   10\n",
        "4   E        0      0       2    5\n",
        "5   F        8     11      14   15\n",
        "6   G        9     20      22   22\n",
        "\n",
        "[7 rows x 5 columns]"
       ]
      }
     ],
     "prompt_number": 4
    },
    {
     "cell_type": "code",
     "collapsed": false,
     "input": [],
     "language": "python",
     "metadata": {},
     "outputs": []
    }
   ],
   "metadata": {}
  }
 ]
}