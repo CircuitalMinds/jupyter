{
 "cells": [
  {
   "cell_type": "markdown",
   "metadata": {},
   "source": [
    "# Exam 2\n",
    "\n",
    "This is a takehome exam. The exam is due by noon, Thursday, April 30. All documents and codes should be submitted via Sakai.\n",
    "\n",
    "This is an individual exam. All work must be your own, absolutely no collaboration on the answers is allowed. The prohibition applies to conversations, emails, texts, hints, etc. To repeat, this is an individual exam to be taken in the same manner as any in-class exam.\n",
    "\n",
    "Any questions to the instructor should be directed through the forum feature on the Sakai web page for the course. The purpose is to provide all students with the same access to interactions with the instructor. The instructor may choose to respond to a particularly significant question by group email, but will attempt to keep those interruptions to a minimum.\n",
    "\n",
    "## Problem Description\n",
    "\n",
    "An isothermal, constant-volume, continuous, stirred-tank chemical reactor is used to produce a desired product $P$ by the chemical reactions\n",
    "\n",
    "\\begin{align*}\n",
    "A & \\stackrel{k_1}{\\longrightarrow} P \\\\\n",
    "2 P & \\stackrel{k_2}{\\longrightarrow} D \n",
    "\\end{align*}\n",
    "\n",
    "where $D$ is an undesired by-product. The reactor model is given by \n",
    "\n",
    "\\begin{align*}\n",
    "\\frac{dC_A}{dt} &= \\frac{q}{V}(C_{A_f}-C_A) - k_1 C_A \\\\\n",
    "\\frac{dC_P}{dt} &= -\\frac{q}{V} C_P + k_1 C_A - k_2 C_P^2 \\\\\n",
    "\\end{align*}\n",
    "\n",
    "where $q$ is manipulated by a control valve, $C_{A_f}$ is the feed composition of $A$ which is subject to unmeasured disturbances, and $V$ is the (constant) volume of the reactor.\n",
    "\n",
    "| Parameter | Value          |\n",
    "| :-------: | :------------: |\n",
    "| $\\bar{C}_{A_f}$ | 1.0 gmol/liter |\n",
    "| $V$       | 100 liters     |\n",
    "| $k_1$     | 2.0 sec$^{-1}$ |\n",
    "| $k_2$     | 0.5 liters/gmol$\\cdot$sec |\n",
    "\n",
    "The product concentration $C_P$ must be at least 0.5 gmol/liter. You can assume that $C_P$ can be measured, but not $C_A$.  "
   ]
  },
  {
   "cell_type": "markdown",
   "metadata": {},
   "source": [
    "## Problem 1 (20 points) - Steady State Analysis\n",
    "\n",
    "* Solve for the steady-state concentration of $C_P$ as a function of flow rate $q$. \n",
    "* In Matlab, plot the steady-state concentrations of $C_A$ and $C_P$ as functions of $q$. \n",
    "* Find the value of $q$ for $C_P = 0.5$ and that maximizes the production of product.  Use this value of $q$ as the nominal value for the remaining problems.\n",
    "* Report the steady-state concentrations of the reactor."
   ]
  },
  {
   "cell_type": "markdown",
   "metadata": {},
   "source": [
    "## Problem 2 (20 points) - Simulation\n",
    "\n",
    "* Create a simulink model of the reactor. Set the initial conditions to the steady-state found in Problem 1.\n",
    "* Show the response of product concentration to a small (10%) increase in flowrate.\n",
    "* Show the response of product concentration to a small (10%) increase in feed concentration."
   ]
  },
  {
   "cell_type": "markdown",
   "metadata": {},
   "source": [
    "## Problem 3 (20 points) - Linearization\n",
    "\n",
    "* Identify deviation variables for the state, manipulated and disturbance inputs, and measured output. \n",
    "* Find the necessary Jacobians, and construct a linear model in the form\n",
    "\n",
    "\\begin{align*}\n",
    "\\frac{dx}{dt} & = A x + B u + E d \\\\\n",
    "y & = C x + D u + F d\n",
    "\\end{align*}\n",
    "\n",
    "* Find the eigenvalues of $A$ in Matlab. Is the system stable or unstable?"
   ]
  },
  {
   "cell_type": "markdown",
   "metadata": {},
   "source": [
    "## Problem 4 (20 points) - Discrete Time Model\n",
    "\n",
    "* Find a discrete time model in the form\n",
    "\n",
    "\\begin{align*}\n",
    "x(t_{k+1}) & = A_d x(t_k) + B_d u(t_k) + E_d d(t_k) \\\\\n",
    "y(t_k) & = C x(t_k) + D u(t_k) + F d(t_k)\n",
    "\\end{align*}\n",
    "\n",
    "* Find the eigenvalues of $A_d$ in Matlab. Is the system stable or unstable?\n",
    "* Calculate the response to a 10% increase in inlet flowrate."
   ]
  },
  {
   "cell_type": "markdown",
   "metadata": {},
   "source": [
    "## Problem 5 (20 points) - Feedback Control\n",
    "\n",
    "Select a feedback controller of your choice.  The purpose of the controller will be to maintain the product concentration at 0.5 gmol/liter.\n",
    "\n",
    "* Explain your choice of control.\n",
    "* Augment the Simulink model you created in Problem 2 with the feedback controller that you choose, tune the controller, and calculate the reponse to a 10% increase in the feed concentration.  \n",
    "* Briefly (a few sentences) evaluate the quality of your controller with respect to supression of the disturbance, maintaining the desired steady state, and speed of response.\n"
   ]
  }
 ],
 "metadata": {
  "kernelspec": {
   "display_name": "Python 3",
   "language": "python",
   "name": "python3"
  },
  "language_info": {
   "codemirror_mode": {
    "name": "ipython",
    "version": 3
   },
   "file_extension": ".py",
   "mimetype": "text/x-python",
   "name": "python",
   "nbconvert_exporter": "python",
   "pygments_lexer": "ipython3",
   "version": "3.6.4"
  }
 },
 "nbformat": 4,
 "nbformat_minor": 1
}
