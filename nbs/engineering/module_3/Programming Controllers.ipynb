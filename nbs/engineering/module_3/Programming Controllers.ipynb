{
 "cells": [
  {
   "cell_type": "markdown",
   "metadata": {},
   "source": [
    "# Programming Controllers\n",
    "\n",
    "Controllers are a unique bit of software. Like a typical function used in scientific/engineering programming, a control algorithm processes data to produce a numerical result. But unlike typical scientific programming, a controller:\n",
    "\n",
    "* will generally require memory of past calculations,\n",
    "* create many instances of itself with different parameter values for large-scale applications,\n",
    "* may operate asynchronously.\n",
    "\n",
    "Fortunately, modern programming languages provide features well suited to these requirements. In Python, for example, we might consider implementing controllers\n",
    "\n",
    "* as classes\n",
    "* as generators\n",
    "* as asynchronous coroutines\n",
    "* as threads"
   ]
  },
  {
   "cell_type": "code",
   "execution_count": 24,
   "metadata": {},
   "outputs": [
    {
     "data": {
      "image/png": "[encoded data removed]",
      "text/plain": [
       "<matplotlib.figure.Figure at 0x115bfe7b8>"
      ]
     },
     "metadata": {},
     "output_type": "display_data"
    },
    {
     "name": "stdout",
     "output_type": "stream",
     "text": [
      "TCLab disconnected successfully.\n"
     ]
    },
    {
     "data": {
      "image/png": "[encoded data removed]",
      "text/plain": [
       "<matplotlib.figure.Figure at 0x115bfe7b8>"
      ]
     },
     "metadata": {},
     "output_type": "display_data"
    }
   ],
   "source": [
    "import tclab\n",
    "\n",
    "lab = tclab.setup(connected=True)\n",
    "\n",
    "a = lab()\n",
    "h = tclab.Historian(a.sources)\n",
    "p = tclab.Plotter(h)\n",
    "\n",
    "for t in tclab.clock(20):\n",
    "    a.U1 = 100\n",
    "    p.update(t)\n",
    "\n",
    "\n",
    "a.close()"
   ]
  },
  {
   "cell_type": "code",
   "execution_count": 7,
   "metadata": {},
   "outputs": [
    {
     "name": "stdout",
     "output_type": "stream",
     "text": [
      "Arduino Leonardo connected on port /dev/cu.usbmodemWUAR1 at 115200 baud.\n",
      "TCLab Firmware 1.3.0 Arduino Leonardo/Micro.\n"
     ]
    }
   ],
   "source": [
    "import tclab\n",
    "\n",
    "lab = tclab.setup(connected=True)\n",
    "\n",
    "a = lab()\n"
   ]
  },
  {
   "cell_type": "code",
   "execution_count": 8,
   "metadata": {},
   "outputs": [
    {
     "data": {
      "text/plain": [
       "(19.94, 19.62, 0.0, 0.0)"
      ]
     },
     "execution_count": 8,
     "metadata": {},
     "output_type": "execute_result"
    }
   ],
   "source": [
    "a.scan()"
   ]
  },
  {
   "cell_type": "code",
   "execution_count": 9,
   "metadata": {},
   "outputs": [
    {
     "data": {
      "text/plain": [
       "(20.26, 19.62, 100.0, 0.0)"
      ]
     },
     "execution_count": 9,
     "metadata": {},
     "output_type": "execute_result"
    }
   ],
   "source": [
    "a.U1 = 100\n",
    "a.scan()"
   ]
  },
  {
   "cell_type": "code",
   "execution_count": 10,
   "metadata": {},
   "outputs": [
    {
     "data": {
      "text/plain": [
       "(20.26, 19.62, 100.0, 0.0)"
      ]
     },
     "execution_count": 10,
     "metadata": {},
     "output_type": "execute_result"
    }
   ],
   "source": [
    "a.scan()"
   ]
  },
  {
   "cell_type": "code",
   "execution_count": 11,
   "metadata": {},
   "outputs": [],
   "source": [
    "a.U1 = 100"
   ]
  },
  {
   "cell_type": "code",
   "execution_count": 12,
   "metadata": {},
   "outputs": [
    {
     "data": {
      "text/plain": [
       "(20.26, 19.62, 100.0, 0.0)"
      ]
     },
     "execution_count": 12,
     "metadata": {},
     "output_type": "execute_result"
    }
   ],
   "source": [
    "a.scan()"
   ]
  },
  {
   "cell_type": "code",
   "execution_count": 13,
   "metadata": {},
   "outputs": [
    {
     "data": {
      "text/plain": [
       "(20.58, 19.94, 100.0, 0.0)"
      ]
     },
     "execution_count": 13,
     "metadata": {},
     "output_type": "execute_result"
    }
   ],
   "source": [
    "a.scan()"
   ]
  },
  {
   "cell_type": "code",
   "execution_count": 14,
   "metadata": {},
   "outputs": [
    {
     "data": {
      "text/plain": [
       "(20.58, 19.94, 100.0, 0.0)"
      ]
     },
     "execution_count": 14,
     "metadata": {},
     "output_type": "execute_result"
    }
   ],
   "source": [
    "a.scan()"
   ]
  },
  {
   "cell_type": "code",
   "execution_count": 15,
   "metadata": {},
   "outputs": [
    {
     "data": {
      "text/plain": [
       "100.0"
      ]
     },
     "execution_count": 15,
     "metadata": {},
     "output_type": "execute_result"
    }
   ],
   "source": [
    "a.U1"
   ]
  },
  {
   "cell_type": "code",
   "execution_count": 16,
   "metadata": {},
   "outputs": [
    {
     "data": {
      "text/plain": [
       "20.58"
      ]
     },
     "execution_count": 16,
     "metadata": {},
     "output_type": "execute_result"
    }
   ],
   "source": [
    "a.T1"
   ]
  },
  {
   "cell_type": "code",
   "execution_count": 17,
   "metadata": {},
   "outputs": [
    {
     "data": {
      "text/plain": [
       "21.23"
      ]
     },
     "execution_count": 17,
     "metadata": {},
     "output_type": "execute_result"
    }
   ],
   "source": [
    "a.T1"
   ]
  },
  {
   "cell_type": "code",
   "execution_count": 18,
   "metadata": {},
   "outputs": [
    {
     "data": {
      "text/plain": [
       "21.87"
      ]
     },
     "execution_count": 18,
     "metadata": {},
     "output_type": "execute_result"
    }
   ],
   "source": [
    "a.T1"
   ]
  },
  {
   "cell_type": "code",
   "execution_count": 19,
   "metadata": {},
   "outputs": [
    {
     "data": {
      "text/plain": [
       "(22.84, 20.26, 100.0, 0.0)"
      ]
     },
     "execution_count": 19,
     "metadata": {},
     "output_type": "execute_result"
    }
   ],
   "source": [
    "a.scan()"
   ]
  },
  {
   "cell_type": "code",
   "execution_count": 20,
   "metadata": {},
   "outputs": [
    {
     "data": {
      "text/plain": [
       "(24.13, 20.26, 100.0, 0.0)"
      ]
     },
     "execution_count": 20,
     "metadata": {},
     "output_type": "execute_result"
    }
   ],
   "source": [
    "a.scan()"
   ]
  },
  {
   "cell_type": "code",
   "execution_count": 21,
   "metadata": {},
   "outputs": [
    {
     "data": {
      "text/plain": [
       "(25.42, 20.26, 100.0, 0.0)"
      ]
     },
     "execution_count": 21,
     "metadata": {},
     "output_type": "execute_result"
    }
   ],
   "source": [
    "a.scan()"
   ]
  },
  {
   "cell_type": "code",
   "execution_count": 22,
   "metadata": {},
   "outputs": [
    {
     "name": "stdout",
     "output_type": "stream",
     "text": [
      "0 (39.6, 21.87, 100.0, 0.0)\n",
      "1 (39.6, 21.87, 100.0, 0.0)\n",
      "2 (39.6, 21.87, 100.0, 0.0)\n",
      "3 (39.6, 21.87, 100.0, 0.0)\n",
      "4 (39.6, 21.87, 100.0, 0.0)\n",
      "5 (39.92, 21.87, 100.0, 0.0)\n",
      "6 (39.92, 21.87, 100.0, 0.0)\n",
      "7 (39.92, 21.87, 100.0, 0.0)\n",
      "8 (39.92, 21.87, 100.0, 0.0)\n",
      "9 (39.92, 21.87, 100.0, 0.0)\n",
      "10 (39.92, 21.87, 100.0, 0.0)\n",
      "11 (39.92, 21.87, 100.0, 0.0)\n",
      "12 (39.92, 21.87, 100.0, 0.0)\n",
      "13 (39.92, 21.87, 100.0, 0.0)\n",
      "14 (39.92, 21.87, 100.0, 0.0)\n",
      "15 (39.92, 21.87, 100.0, 0.0)\n",
      "16 (39.92, 21.87, 100.0, 0.0)\n",
      "17 (40.24, 21.87, 100.0, 0.0)\n",
      "18 (40.24, 21.87, 100.0, 0.0)\n",
      "19 (40.24, 21.87, 100.0, 0.0)\n",
      "2.008258104324341\n"
     ]
    }
   ],
   "source": [
    "import time\n",
    "tic = time.time()\n",
    "for k  in range(0,20):\n",
    "    print(k,a.scan())\n",
    "toc = time.time()\n",
    "print(toc-tic)"
   ]
  },
  {
   "cell_type": "code",
   "execution_count": 23,
   "metadata": {},
   "outputs": [
    {
     "name": "stdout",
     "output_type": "stream",
     "text": [
      "TCLab disconnected successfully.\n"
     ]
    }
   ],
   "source": [
    "a.close()"
   ]
  },
  {
   "cell_type": "code",
   "execution_count": null,
   "metadata": {},
   "outputs": [],
   "source": []
  }
 ],
 "metadata": {
  "kernelspec": {
   "display_name": "Python 3",
   "language": "python",
   "name": "python3"
  },
  "language_info": {
   "codemirror_mode": {
    "name": "ipython",
    "version": 3
   },
   "file_extension": ".py",
   "mimetype": "text/x-python",
   "name": "python",
   "nbconvert_exporter": "python",
   "pygments_lexer": "ipython3",
   "version": "3.6.4"
  }
 },
 "nbformat": 4,
 "nbformat_minor": 2
}
