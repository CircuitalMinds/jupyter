{
 "cells": [
  {
   "cell_type": "markdown",
   "metadata": {},
   "source": [
    "# Process Control - Outline"
   ]
  },
  {
   "cell_type": "markdown",
   "metadata": {},
   "source": [
    "## 1. Basic Concepts\n",
    "\n",
    "1. Process Control\n",
    "   1. Disturbance Variables (DV)\n",
    "   2. Manipulated Variables (MV)\n",
    "   3. Controlled Variables (CV)\n",
    "   4. Process Variables (PV)\n",
    "   5. Setpoint (SP or SV)\n",
    "   \n",
    "2. Modes of Control\n",
    "   1. Feedforward Control\n",
    "      * Compenstation for setpoint and measured disturbances\n",
    "      * Depends on a model able to predict response to DV and MV\n",
    "   2. Feedback Control\n",
    "      * Improved speed of response\n",
    "      * Suppress unmeasured disturbances\n",
    "      * Insensitive to model error\n",
    "            \n",
    "3. Simple Control Algorithms (without internal state)\n",
    "   1. Relay control\n",
    "      * Simple, effective\n",
    "      * Requires minimum of process knowledge\n",
    "      * Sustained oscillation\n",
    "      * Requires hysteresis to suppress measurement noise\n",
    "      * Large, sustained control action\n",
    "   2. Proportional control\n",
    "      * Results in a steady-state offset from the setpoint\n",
    "      * Requires specification of a control gain $K_p$\n",
    "      \n",
    "4. Control Implementation in Python\n",
    "   1. Basic control loop (OsCAR)\n",
    "      * Observe\n",
    "      * Compute\n",
    "      * Actuate\n",
    "      * Record\n",
    "   2. Functions to Implement\n",
    "      * Relay control\n",
    "      * Proportional control\n"
   ]
  },
  {
   "cell_type": "markdown",
   "metadata": {
    "slideshow": {
     "slide_type": "fragment"
    }
   },
   "source": [
    "## 2. Process Dynamics\n",
    "\n",
    "1. Modeling for process control provides two key benefits:\n",
    "   1. Improved control design through simulation\n",
    "   2. Incorporating models into the control strategy.\n",
    "\n",
    "2. Two main approaches to modeling for process control:\n",
    "   1. Empirical (or 'black-box') models that reproduce essential dynamical responses.\n",
    "   2. First Principles models\n",
    "      * material and energy balances\n",
    "      * detailed understanding of physico-chemical phenomena.\n",
    "\n",
    "3. Using empirical models for process control.\n",
    "   1. Concepts\n",
    "      * Inputs/Outputs\n",
    "      * Deviation Variables\n",
    "      * Step Response\n",
    "      * Linear vs Nonlinear Response\n",
    "      * Gains\n",
    "      * Time constants\n",
    "   2. Typical Models\n",
    "      * First Order ($K$, $\\tau$)\n",
    "      * First Order with Deadtime  ($K$, $\\tau$, $\\theta$)\n",
    "      * Second Order - Underdamped ($K$, $\\tau_1$, $\\tau_2$)\n",
    "      * Second Order - Critically Damped ($K$, $\\tau$)\n",
    "      * Second Order - Overdamped ($K$, $\\tau$, $\\zeta$)\n",
    "      * Integrating Processes\n",
    "   3. Fitting empirical models\n",
    "      * Simulation and comparison\n",
    "      * Regression\n",
    "      \n",
    "4. First Principles Models \n",
    "   1. Developing models\n",
    "   2. Solving typical models with odeint"
   ]
  },
  {
   "cell_type": "markdown",
   "metadata": {},
   "source": [
    "## Review Problems\n",
    "\n",
    "* Problem 5.2a.\n",
    "* Problem 5.5\n",
    "* Problem 5.14.  Find constants $K$, $\\tau$, $\\zeta$.\n",
    "* Problem 5.17"
   ]
  },
  {
   "cell_type": "markdown",
   "metadata": {},
   "source": [
    "## TCLab Experiments\n",
    "\n",
    "1. Introduction to the TCLab Laboratory\n",
    "   1. Install tclab\n",
    "   2. Install any needed serial drivers\n",
    "   3. Verify operation\n",
    "      * LED operation\n",
    "   4. Review basic capabilities\n",
    "      * TCLab open and close\n",
    "      * clock function\n",
    "      * Historian and Plotter\n",
    "   5. Implementing a Thermostat\n",
    "   \n",
    "2. Feedback Control\n",
    "   1. Relay control\n",
    "   2. Relay control with hysteresis\n",
    "   3. Proportional control\n",
    "   4. Devise your own control\n",
    "   \n",
    "3. Empirical Process Models\n",
    "   1. Single input testing at 40% and 60% power\n",
    "   2. Model fitting\n",
    "      * First order\n",
    "      * First order with dead time\n",
    "      * Second order\n",
    "--------- \n",
    "\n",
    "Future Experiments\n",
    "\n",
    "4. PID Control\n",
    "   1. Single loop control\n",
    "   2. Dual loop control\n",
    "   3. Setpoint tracking\n",
    "   4. Disturbance rejection\n",
    "   \n",
    "5. Cascade Control\n",
    "   \n",
    "6. Estimating Unmeasured Process Variables\n",
    "   1. State Space model\n",
    "   2. Observers\n",
    "\n",
    "7. Single Variable Model Predictive Control\n",
    "\n",
    "8. Multivariable MPC\n",
    "\n",
    "9. Economic Control"
   ]
  },
  {
   "cell_type": "code",
   "execution_count": null,
   "metadata": {},
   "outputs": [],
   "source": []
  }
 ],
 "metadata": {
  "kernelspec": {
   "display_name": "Python 3",
   "language": "python",
   "name": "python3"
  },
  "language_info": {
   "codemirror_mode": {
    "name": "ipython",
    "version": 3
   },
   "file_extension": ".py",
   "mimetype": "text/x-python",
   "name": "python",
   "nbconvert_exporter": "python",
   "pygments_lexer": "ipython3",
   "version": "3.6.3"
  }
 },
 "nbformat": 4,
 "nbformat_minor": 2
}
