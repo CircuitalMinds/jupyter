{
 "cells": [
  {
   "cell_type": "code",
   "execution_count": 1,
   "metadata": {},
   "outputs": [
    {
     "name": "stdout",
     "output_type": "stream",
     "text": [
      "TCLab version 0.4.5dev\n",
      "Simulated TCLab\n"
     ]
    }
   ],
   "source": [
    "import tclab\n",
    "import re\n",
    "\n",
    "lab = tclab.TCLabModel()"
   ]
  },
  {
   "cell_type": "code",
   "execution_count": 2,
   "metadata": {},
   "outputs": [
    {
     "name": "stdout",
     "output_type": "stream",
     "text": [
      "<_sre.SRE_Match object; span=(0, 8), match='0.2.3dev'>\n"
     ]
    }
   ],
   "source": [
    "v = re.match('^(\\d+\\.)(\\d+\\.)(\\d+)(dev)?$', '0.2.3dev')\n",
    "print(v)"
   ]
  },
  {
   "cell_type": "code",
   "execution_count": 3,
   "metadata": {},
   "outputs": [
    {
     "data": {
      "text/plain": [
       "'0.4.5dev'"
      ]
     },
     "execution_count": 3,
     "metadata": {},
     "output_type": "execute_result"
    }
   ],
   "source": [
    "tclab.__version__"
   ]
  },
  {
   "cell_type": "code",
   "execution_count": 6,
   "metadata": {},
   "outputs": [
    {
     "name": "stdout",
     "output_type": "stream",
     "text": [
      "Finding Arduino...\n",
      "Arduino Leonardo found on port /dev/cu.usbmodemWUAR1\n",
      "\n",
      "Testing TCLab object in debug mode\n",
      "----------------------------------\n",
      "TCLab version 0.4.5dev\n",
      "Sent: \"Q1 0\"\n",
      "Return: \"0\"\n",
      "Sent: \"VER\"\n",
      "Return: \"TCLab Firmware 1.3.0 Arduino Leonardo/Micro\"\n",
      "Arduino Leonardo connected on port /dev/cu.usbmodemWUAR1 at 115200 baud.\n",
      "TCLab Firmware 1.3.0 Arduino Leonardo/Micro.\n",
      "Sent: \"Q2 0\"\n",
      "Return: \"0\"\n",
      "Reading temperature\n",
      "Sent: \"T1\"\n",
      "Return: \"23.16\"\n",
      "23.16\n",
      "Sent: \"Q1 0\"\n",
      "Return: \"0\"\n",
      "Sent: \"Q2 0\"\n",
      "Return: \"0\"\n",
      "Sent: \"X\"\n",
      "Return: \"X\"\n",
      "TCLab disconnected successfully.\n",
      "\n",
      "Testing TCLab functions\n",
      "-----------------------\n",
      "TCLab version 0.4.5dev\n",
      "Arduino Leonardo connected on port /dev/cu.usbmodemWUAR1 at 115200 baud.\n",
      "TCLab Firmware 1.3.0 Arduino Leonardo/Micro.\n",
      "Testing LED. Should turn on for 10 seconds.\n",
      "Countdown: 0  \n",
      "\n",
      "Reading temperatures\n",
      "T1 = 23.16 °C, T2 = 22.2 °C\n",
      "\n",
      "We will now turn on the heaters, wait 30 seconds and see if the temperatures have gone up. \n",
      "Countdown: 0   \n",
      "\n",
      "T1 started a 23.16 °C and went to 28.32 °C\n",
      "T2 started a 22.2 °C and went to 25.74 °C\n",
      "\n",
      "TCLab disconnected successfully.\n",
      "\n",
      "Diagnostics complete\n"
     ]
    }
   ],
   "source": [
    "tclab.diagnose()"
   ]
  },
  {
   "cell_type": "code",
   "execution_count": 4,
   "metadata": {},
   "outputs": [],
   "source": [
    "from tclab import diagnose"
   ]
  },
  {
   "cell_type": "code",
   "execution_count": 5,
   "metadata": {},
   "outputs": [
    {
     "name": "stdout",
     "output_type": "stream",
     "text": [
      "Finding Arduino...\n",
      "--- Serial Ports ---\n",
      "/dev/cu.JeffreyKantorsAirPods-W-1 n/a n/a\n",
      "/dev/cu.Bluetooth-Incoming-Port n/a n/a\n",
      "\n",
      "No known Arduino was found in the ports listed above.\n",
      "\n"
     ]
    }
   ],
   "source": [
    "diagnose()"
   ]
  },
  {
   "cell_type": "code",
   "execution_count": 11,
   "metadata": {},
   "outputs": [],
   "source": [
    "exec(open('../../../TCLab/tclab/version.py').read())\n",
    "\n",
    "# The short X.Y version.\n",
    "version = '.'.join(__version__.split('.')[0:2])\n",
    "\n",
    "# The full version, including alpha/beta/rc tags.\n",
    "release = __version__"
   ]
  },
  {
   "cell_type": "code",
   "execution_count": 12,
   "metadata": {},
   "outputs": [
    {
     "data": {
      "text/plain": [
       "'0.4'"
      ]
     },
     "execution_count": 12,
     "metadata": {},
     "output_type": "execute_result"
    }
   ],
   "source": [
    "version"
   ]
  },
  {
   "cell_type": "code",
   "execution_count": 13,
   "metadata": {},
   "outputs": [
    {
     "data": {
      "text/plain": [
       "'0.4.5dev'"
      ]
     },
     "execution_count": 13,
     "metadata": {},
     "output_type": "execute_result"
    }
   ],
   "source": [
    "release"
   ]
  },
  {
   "cell_type": "code",
   "execution_count": null,
   "metadata": {},
   "outputs": [],
   "source": []
  }
 ],
 "metadata": {
  "kernelspec": {
   "display_name": "Python 3",
   "language": "python",
   "name": "python3"
  },
  "language_info": {
   "codemirror_mode": {
    "name": "ipython",
    "version": 3
   },
   "file_extension": ".py",
   "mimetype": "text/x-python",
   "name": "python",
   "nbconvert_exporter": "python",
   "pygments_lexer": "ipython3",
   "version": "3.6.4"
  }
 },
 "nbformat": 4,
 "nbformat_minor": 2
}
