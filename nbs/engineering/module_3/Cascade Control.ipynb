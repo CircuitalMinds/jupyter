{
 "cells": [
  {
   "cell_type": "markdown",
   "metadata": {},
   "source": [
    "# Cascade Control"
   ]
  },
  {
   "cell_type": "code",
   "execution_count": null,
   "metadata": {},
   "outputs": [],
   "source": [
    "def PI(Kp, Ki, Ts):\n",
    "    \"\"\"Proportional Integral Control.\"\"\"\n",
    "    e = 0\n",
    "    MV = 0\n",
    "    b = 0\n",
    "    while True:\n",
    "        PV, SP = yield MV\n",
    "        e_last = e\n",
    "        MV_last = MV\n",
    "        e = b*SP - PV\n",
    "        MV = MV_last + Kp*(e - e_last) + Ki*Ts*(SP-PV)\n",
    "        MV = max(0, min(100, MV))"
   ]
  },
  {
   "cell_type": "code",
   "execution_count": null,
   "metadata": {},
   "outputs": [],
   "source": [
    "%matplotlib inline\n",
    "import numpy as np\n",
    "import matplotlib.pyplot as plt\n",
    "from tclab import clock, setup, Historian, Plotter\n",
    "TCLab = setup(connected=False, speedup = 20)\n",
    "\n",
    "tstep = 1\n",
    "\n",
    "thermostat1 = proportional(3, .03, tstep)\n",
    "thermostat1.send(None)\n",
    "\n",
    "thermostat2 = proportional(6, .06, tstep)\n",
    "thermostat2.send(None)\n",
    "\n",
    "with TCLab() as a:\n",
    "    h = Historian(a.sources)\n",
    "    p = Plotter(h)\n",
    "    for t in clock(400, strict=False):\n",
    "        SP1 = controller1.send([a.T2,30])\n",
    "        a.U1 = controller2.send([a.T2,SP1])\n",
    "        p.update(t)\n",
    "\n",
    "data = np.array(h.log)\n",
    "t = data[:,0]\n",
    "T1 = data[:,1]\n",
    "T2 = data[:,2]\n",
    "Q1 = data[:,3]\n",
    "Q2 = data[:,4]\n",
    "\n",
    "plt.subplot(2,1,1)\n",
    "plt.plot(t,T1,t,T2)\n",
    "plt.subplot(2,1,2)\n",
    "plt.plot(t,Q1,t,Q2)"
   ]
  }
 ],
 "metadata": {
  "kernelspec": {
   "display_name": "Python 3",
   "language": "python",
   "name": "python3"
  },
  "language_info": {
   "codemirror_mode": {
    "name": "ipython",
    "version": 3
   },
   "file_extension": ".py",
   "mimetype": "text/x-python",
   "name": "python",
   "nbconvert_exporter": "python",
   "pygments_lexer": "ipython3",
   "version": "3.6.3"
  }
 },
 "nbformat": 4,
 "nbformat_minor": 2
}
