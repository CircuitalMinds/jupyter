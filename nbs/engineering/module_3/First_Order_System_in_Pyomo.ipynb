{
 "cells": [
  {
   "cell_type": "markdown",
   "metadata": {},
   "source": [
    "# First Order System in Pyomo"
   ]
  },
  {
   "cell_type": "markdown",
   "metadata": {},
   "source": [
    "## First-Order Differential Equation with Initial Condition\n",
    "\n",
    "The following cell implements a solution to a first-order linear model in the form\n",
    "\n",
    "\\begin{align}\n",
    "\\tau\\frac{dy}{dt} + y & = K u(t) \\\\\n",
    "\\end{align}\n",
    "\n",
    "where $\\tau$ and $K$ are model parameters, and $u(t)$ is an external process input."
   ]
  },
  {
   "cell_type": "code",
   "execution_count": 52,
   "metadata": {},
   "outputs": [
    {
     "name": "stdout",
     "output_type": "stream",
     "text": [
      "# ==========================================================\n",
      "# = Solver Results                                         =\n",
      "# ==========================================================\n",
      "# ----------------------------------------------------------\n",
      "#   Problem Information\n",
      "# ----------------------------------------------------------\n",
      "Problem: \n",
      "- Lower bound: -inf\n",
      "  Upper bound: inf\n",
      "  Number of objectives: 1\n",
      "  Number of constraints: 22\n",
      "  Number of variables: 22\n",
      "  Sense: unknown\n",
      "# ----------------------------------------------------------\n",
      "#   Solver Information\n",
      "# ----------------------------------------------------------\n",
      "Solver: \n",
      "- Status: ok\n",
      "  Message: Ipopt 3.12.8\\x3a Optimal Solution Found\n",
      "  Termination condition: optimal\n",
      "  Id: 0\n",
      "  Error rc: 0\n",
      "  Time: 0.024835824966430664\n",
      "# ----------------------------------------------------------\n",
      "#   Solution Information\n",
      "# ----------------------------------------------------------\n",
      "Solution: \n",
      "- number of solutions: 0\n",
      "  number of solutions displayed: 0\n"
     ]
    },
    {
     "data": {
      "text/plain": [
       "Text(0.5,1,'Response of a linear first-order ODE')"
      ]
     },
     "execution_count": 52,
     "metadata": {},
     "output_type": "execute_result"
    },
    {
     "data": {
      "image/png": "[encoded data removed]",
      "text/plain": [
       "<matplotlib.figure.Figure at 0x121c2d668>"
      ]
     },
     "metadata": {},
     "output_type": "display_data"
    }
   ],
   "source": [
    "from pyomo.environ import *\n",
    "from pyomo.dae import *\n",
    "\n",
    "tf = 10\n",
    "tau = 1\n",
    "K = 5\n",
    "\n",
    "def u(t):\n",
    "    return 0 if t < 5 else 1\n",
    "\n",
    "# create a model object\n",
    "model = ConcreteModel()\n",
    "\n",
    "# define the independent variable\n",
    "model.t = ContinuousSet(bounds=(0, tf))\n",
    "\n",
    "# define the dependent variables\n",
    "model.y = Var(model.t)\n",
    "model.dydt = DerivativeVar(model.y)\n",
    "\n",
    "# define the differential equation as a constraint\n",
    "model.ode = Constraint(model.t, rule=lambda model, t: tau*model.dydt[t] + model.y[t] == K*u(t))\n",
    "\n",
    "# define the initial conditions as a constraint\n",
    "model.ic = Constraint(expr=model.y[0]==0)\n",
    "\n",
    "# transform dae model to discrete optimization problem\n",
    "TransformationFactory('dae.finite_difference').apply_to(model)\n",
    "\n",
    "# solve the model\n",
    "SolverFactory('ipopt').solve(model).write()\n",
    "\n",
    "# access the results\n",
    "t = [t for t in model.y]\n",
    "y = [model.y[t]() for t in model.y]\n",
    "\n",
    "% matplotlib inline\n",
    "import matplotlib.pyplot as plt\n",
    "import seaborn as sns\n",
    "sns.set()\n",
    "\n",
    "plt.plot(t,y)\n",
    "plt.xlabel('time / sec')\n",
    "plt.ylabel('response')\n",
    "plt.title('Response of a linear first-order ODE')"
   ]
  },
  {
   "cell_type": "code",
   "execution_count": null,
   "metadata": {},
   "outputs": [],
   "source": []
  }
 ],
 "metadata": {
  "kernelspec": {
   "display_name": "Python 3",
   "language": "python",
   "name": "python3"
  },
  "language_info": {
   "codemirror_mode": {
    "name": "ipython",
    "version": 3
   },
   "file_extension": ".py",
   "mimetype": "text/x-python",
   "name": "python",
   "nbconvert_exporter": "python",
   "pygments_lexer": "ipython3",
   "version": "3.6.4"
  }
 },
 "nbformat": 4,
 "nbformat_minor": 2
}
