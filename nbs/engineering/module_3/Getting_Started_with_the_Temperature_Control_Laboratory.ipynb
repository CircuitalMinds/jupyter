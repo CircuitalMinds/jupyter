{
 "cells": [
  {
   "cell_type": "markdown",
   "metadata": {},
   "source": [
    "# Getting Started with the Temperature Control Laboratory\n",
    "\n",
    "The following cells in this notebook demonstrate the use of the Temperature Control Lab. "
   ]
  },
  {
   "cell_type": "markdown",
   "metadata": {},
   "source": [
    "## TCLab Hardware\n",
    "\n",
    "<img src='images/arduino_lab_kit.png' style=\"float: right;padding-left:30px;\"></img>\n",
    "The Temperature Control Laboratory consists of five components:\n",
    "\n",
    "1. Arduino microcontroller board (Arduino Uno, Arduino Leonardo, or equivalents).\n",
    "\n",
    "2. The Temperature Control Laboratory plug-in board (also known as a shield).\n",
    "\n",
    "3. Five watt USB power supply.\n",
    "\n",
    "4. 5.5mm to USB power supply cable.\n",
    "\n",
    "5. USB 2.0 data cable. (w/mini-USB connector for Arduino Uno, or micro-USB cable for Arduino Leonardo.)\n",
    "\n",
    "Before going further, be sure to complete the steps outlined under *Hardware setup* as described in TCLab [README](https://github.com/jckantor/TCLab/blob/master/README.rst). Mac OS users will need to install a serial driver available [here](https://github.com/adrianmihalko/ch340g-ch34g-ch34x-mac-os-x-driver). Normally the TCLab shield will already be mounted on the Arduino board, and the firmware driver will have been loaded on to the Arduino."
   ]
  },
  {
   "cell_type": "markdown",
   "metadata": {
    "slideshow": {
     "slide_type": "slide"
    }
   },
   "source": [
    "## TCLab Software\n",
    "<img src='images/TCLabOverview.png' style=\"float: left;padding-right:30px;\"></img>\n",
    "**_Jupyter notebooks:_**\n",
    "Examples, lessons, and student projects.\n",
    "\n",
    "**_tclab:_**\n",
    "A package to provide high-level access to sensors, heaters, a pseudo-realtime clock. The package includes `TCLab()` providing access to the device, `clock` for synchronizing with a real time clock, `Historian` for data logging and `Plotter` for realtime plotting.\n",
    "\n",
    "**_sketch.ino:_**\n",
    "Firmware for the intrisically safe operation of the Arduino board and shield.\n",
    "\n",
    "**_Arduino:_**\n",
    "Hardware platform for the Temperature Control Laboratory. Compatiable with Arduino Uno and Arduino Leonardo.\n",
    "\n",
    "Before going further, be sure to install the `tclab` Python drivers. When used for the first time, the `tclab` package is installed with the command line\n",
    "\n",
    "    pip install tclab"
   ]
  },
  {
   "cell_type": "markdown",
   "metadata": {
    "slideshow": {
     "slide_type": "skip"
    }
   },
   "source": [
    "## Connecting to the Temperature Control Laboratory\n",
    "\n",
    "TCLab() attempts to find a device connected to a serial port and returns a connection. An error is generated if no device is found.  The connection should be closed when no longer in use.\n",
    "\n",
    "The following cell demonstrates this process, and uses the tclab `LED()` function to flash the LED on the Temperature Control Lab for a period of 10 seconds at a 100% brightness level. "
   ]
  },
  {
   "cell_type": "code",
   "execution_count": 1,
   "metadata": {},
   "outputs": [
    {
     "name": "stdout",
     "output_type": "stream",
     "text": [
      "Connecting to TCLab\n",
      "TCLab Firmware Version 1.2.1 connected on port /dev/cu.wchusbserial1410\n",
      "TCLab disconnected successfully.\n"
     ]
    }
   ],
   "source": [
    "from tclab import TCLab\n",
    "\n",
    "a = TCLab()\n",
    "a.LED(100)\n",
    "a.close()"
   ]
  },
  {
   "cell_type": "markdown",
   "metadata": {},
   "source": [
    "## Using TCLab with Python's `with` statement\n",
    "\n",
    "The Python `with` statement provides a convenient means of setting up and closing a connection to the Temperature Control Laboratory. In particular, the with statement establishes a context where a tclab instance is created, assigned to a variable, and automatically closed upon completion."
   ]
  },
  {
   "cell_type": "code",
   "execution_count": 2,
   "metadata": {
    "slideshow": {
     "slide_type": "skip"
    }
   },
   "outputs": [
    {
     "name": "stdout",
     "output_type": "stream",
     "text": [
      "Connecting to TCLab\n",
      "TCLab Firmware Version 1.2.1 connected on port /dev/cu.wchusbserial1410\n",
      "TCLab disconnected successfully.\n"
     ]
    }
   ],
   "source": [
    "from tclab import TCLab\n",
    "\n",
    "with TCLab() as a:\n",
    "    a.LED(100)"
   ]
  },
  {
   "cell_type": "markdown",
   "metadata": {},
   "source": [
    "The `with` statement is likely to be the most common way to connect the Temperature Control Laboratory for most uses."
   ]
  },
  {
   "cell_type": "markdown",
   "metadata": {},
   "source": [
    "## Reading Temperatures\n",
    "\n",
    "Once a tclab instance is created and connected to a device, the temperature sensors on the temperature control lab can be acccessed with the attributes `.T1` and `.T2`.  For example, given an instance `a`, the temperatures are accessed as\n",
    "\n",
    "    T1 = a.T1\n",
    "    T2 = a.T2\n",
    "\n",
    "Note that `a.T1` and `a.T2` are read-only properties. Any attempt to set them to a value will return a Python error."
   ]
  },
  {
   "cell_type": "code",
   "execution_count": 3,
   "metadata": {},
   "outputs": [
    {
     "name": "stdout",
     "output_type": "stream",
     "text": [
      "Connecting to TCLab\n",
      "TCLab Firmware Version 1.2.1 connected on port /dev/cu.wchusbserial1410\n",
      "Temperature 1: 21.54 °C\n",
      "Temperature 2: 21.54 °C\n",
      "TCLab disconnected successfully.\n"
     ]
    }
   ],
   "source": [
    "from tclab import TCLab\n",
    "\n",
    "with TCLab() as a:\n",
    "    print(\"Temperature 1: {0:0.2f} °C\".format(a.T1))\n",
    "    print(\"Temperature 2: {0:0.2f} °C\".format(a.T2))"
   ]
  },
  {
   "cell_type": "markdown",
   "metadata": {
    "slideshow": {
     "slide_type": "skip"
    }
   },
   "source": [
    "## Setting Heaters\n",
    "\n",
    "The heaters are controlled by functions`.Q1()` and `.Q2()` of a tclab instance. For example, both heaters can be set to 100% power with the functions\n",
    "\n",
    "    a.Q1(100)\n",
    "    a.Q2(100)\n",
    "\n",
    "The device firmware limits the heaters to a range of 0 to 100%. The current value of attributes may be accessed via\n",
    "\n",
    "    Q1 = a.Q1()\n",
    "    Q2 = a.Q2()\n",
    "    \n",
    "Note that the retrieved values may be different due to the range-limiting enforced by the device firmware."
   ]
  },
  {
   "cell_type": "code",
   "execution_count": 4,
   "metadata": {
    "slideshow": {
     "slide_type": "skip"
    }
   },
   "outputs": [
    {
     "name": "stdout",
     "output_type": "stream",
     "text": [
      "Connecting to TCLab\n",
      "TCLab Firmware Version 1.2.1 connected on port /dev/cu.wchusbserial1410\n",
      "\n",
      "Starting Temperature 1: 21.54 °C\n",
      "Starting Temperature 2: 21.54 °C\n",
      "\n",
      "Set Heater 1: 100.0 %\n",
      "Set Heater 2: 100.0 %\n",
      "\n",
      "Heat for 20 seconds\n",
      "\n",
      "Turn Heaters Off\n",
      "\n",
      "Set Heater 1: 0.0 %\n",
      "Set Heater 2: 0.0 %\n",
      "\n",
      "Final Temperature 1: 25.09 °C\n",
      "Final Temperature 2: 22.83 °C\n",
      "TCLab disconnected successfully.\n"
     ]
    }
   ],
   "source": [
    "from tclab import TCLab\n",
    "import time\n",
    "\n",
    "with TCLab() as a:\n",
    "    print(\"\\nStarting Temperature 1: {0:0.2f} °C\".format(a.T1),flush=True)\n",
    "    print(\"Starting Temperature 2: {0:0.2f} °C\".format(a.T2),flush=True)\n",
    "\n",
    "    a.Q1(100)\n",
    "    a.Q2(100)\n",
    "    print(\"\\nSet Heater 1:\", a.Q1(), \"%\",flush=True)\n",
    "    print(\"Set Heater 2:\", a.Q2(), \"%\",flush=True)\n",
    "    \n",
    "    t_heat = 20\n",
    "    print(\"\\nHeat for\", t_heat, \"seconds\")\n",
    "    time.sleep(t_heat)\n",
    "\n",
    "    print(\"\\nTurn Heaters Off\")\n",
    "    a.Q1(0)\n",
    "    a.Q2(0)\n",
    "    print(\"\\nSet Heater 1:\", a.Q1(), \"%\",flush=True)\n",
    "    print(\"Set Heater 2:\", a.Q2(), \"%\",flush=True)\n",
    "    \n",
    "    print(\"\\nFinal Temperature 1: {0:0.2f} °C\".format(a.T1))\n",
    "    print(\"Final Temperature 2: {0:0.2f} °C\".format(a.T2))"
   ]
  },
  {
   "cell_type": "markdown",
   "metadata": {
    "slideshow": {
     "slide_type": "skip"
    }
   },
   "source": [
    "## Synchronizing with Real Time using `clock`\n",
    "\n",
    "For convenience, the tclab module includes a function `clock` for synchronizing calculations with real time.  `clock(tperiod, tstep)` is a python iterator that generates a sequence of iterations over a period of `tperiod` seconds separated by `tstep` seconds. "
   ]
  },
  {
   "cell_type": "code",
   "execution_count": 5,
   "metadata": {},
   "outputs": [
    {
     "name": "stdout",
     "output_type": "stream",
     "text": [
      "0.0 sec.\n",
      "2.0 sec.\n",
      "4.0 sec.\n",
      "6.0 sec.\n",
      "8.0 sec.\n",
      "10.0 sec.\n"
     ]
    }
   ],
   "source": [
    "from tclab import clock\n",
    "\n",
    "tperiod = 10\n",
    "tstep = 2\n",
    "for t in clock(tperiod,tstep):\n",
    "    print(round(t,1), \"sec.\")"
   ]
  },
  {
   "cell_type": "markdown",
   "metadata": {},
   "source": [
    "## Using `clock` with TCLab\n",
    "\n",
    "The following example shows how to integrate `clock` for use with TCLab. This cell reads temperatures `T1` and `T2` once per second for 10 seconds."
   ]
  },
  {
   "cell_type": "code",
   "execution_count": 6,
   "metadata": {},
   "outputs": [
    {
     "name": "stdout",
     "output_type": "stream",
     "text": [
      "Connecting to TCLab\n",
      "TCLab Firmware Version 1.2.1 connected on port /dev/cu.wchusbserial1410\n",
      "0.0 sec.,  28.63 deg C,  25.09 deg C\n",
      "1.0 sec.,  28.63 deg C,  24.77 deg C\n",
      "2.0 sec.,  28.63 deg C,  24.77 deg C\n",
      "3.0 sec.,  28.63 deg C,  24.77 deg C\n",
      "4.0 sec.,  28.63 deg C,  25.09 deg C\n",
      "5.0 sec.,  28.63 deg C,  24.77 deg C\n",
      "6.0 sec.,  28.63 deg C,  24.44 deg C\n",
      "7.0 sec.,  28.63 deg C,  24.77 deg C\n",
      "8.0 sec.,  28.63 deg C,  24.77 deg C\n",
      "9.0 sec.,  28.63 deg C,  24.77 deg C\n",
      "10.0 sec.,  28.63 deg C,  24.77 deg C\n",
      "TCLab disconnected successfully.\n"
     ]
    }
   ],
   "source": [
    "from tclab import TCLab, clock\n",
    "\n",
    "with TCLab() as a:   \n",
    "    for t in clock(10):\n",
    "        print(t,\"sec., \", a.T1,\"deg C, \", a.T2, \"deg C\")"
   ]
  },
  {
   "cell_type": "markdown",
   "metadata": {},
   "source": [
    "## A Simple Thermostat\n",
    "\n",
    "Let's build our first control system. This is a simple on/off thermostat intended to maintain temperature `T1` near a desired setpoint.\n",
    "\n",
    "This cell has been written to print the data within the notebook and to a text data file on your harddrive.  The file is written only if `TCLab()` is successful on opening, which protects you from overwriting previous data if `TCLab()` happends to be unconnected."
   ]
  },
  {
   "cell_type": "code",
   "execution_count": 8,
   "metadata": {
    "scrolled": false
   },
   "outputs": [
    {
     "name": "stdout",
     "output_type": "stream",
     "text": [
      "Connecting to TCLab\n",
      "TCLab Firmware Version 1.2.1 connected on port /dev/cu.wchusbserial1410\n",
      "0.0 sec. Q1 =  100 % T1 =  27.34 deg C\n",
      "1.0 sec. Q1 =  100 % T1 =  27.67 deg C\n",
      "2.0 sec. Q1 =  100 % T1 =  27.34 deg C\n",
      "3.0 sec. Q1 =  100 % T1 =  27.34 deg C\n",
      "4.0 sec. Q1 =  100 % T1 =  27.34 deg C\n",
      "5.0 sec. Q1 =  100 % T1 =  27.34 deg C\n",
      "6.0 sec. Q1 =  100 % T1 =  27.34 deg C\n",
      "7.0 sec. Q1 =  100 % T1 =  27.34 deg C\n",
      "8.0 sec. Q1 =  100 % T1 =  27.34 deg C\n",
      "9.0 sec. Q1 =  100 % T1 =  27.67 deg C\n",
      "10.0 sec. Q1 =  100 % T1 =  27.99 deg C\n",
      "11.0 sec. Q1 =  100 % T1 =  27.99 deg C\n",
      "12.0 sec. Q1 =  100 % T1 =  28.31 deg C\n",
      "13.0 sec. Q1 =  100 % T1 =  28.63 deg C\n",
      "14.0 sec. Q1 =  100 % T1 =  28.96 deg C\n",
      "15.0 sec. Q1 =  100 % T1 =  28.96 deg C\n",
      "16.0 sec. Q1 =  100 % T1 =  29.28 deg C\n",
      "17.0 sec. Q1 =  100 % T1 =  29.28 deg C\n",
      "18.0 sec. Q1 =  100 % T1 =  29.6 deg C\n",
      "19.0 sec. Q1 =  100 % T1 =  29.92 deg C\n",
      "20.0 sec. Q1 =  100 % T1 =  30.24 deg C\n",
      "21.0 sec. Q1 =  100 % T1 =  30.57 deg C\n",
      "22.0 sec. Q1 =  100 % T1 =  30.89 deg C\n",
      "23.0 sec. Q1 =  100 % T1 =  31.21 deg C\n",
      "24.0 sec. Q1 =  100 % T1 =  31.53 deg C\n",
      "25.0 sec. Q1 =  100 % T1 =  31.86 deg C\n",
      "26.0 sec. Q1 =  100 % T1 =  32.18 deg C\n",
      "27.0 sec. Q1 =  100 % T1 =  32.18 deg C\n",
      "28.0 sec. Q1 =  100 % T1 =  32.82 deg C\n",
      "29.0 sec. Q1 =  100 % T1 =  33.47 deg C\n",
      "30.0 sec. Q1 =  100 % T1 =  33.79 deg C\n",
      "31.0 sec. Q1 =  100 % T1 =  34.11 deg C\n",
      "32.0 sec. Q1 =  100 % T1 =  34.43 deg C\n",
      "33.0 sec. Q1 =  100 % T1 =  34.76 deg C\n",
      "34.0 sec. Q1 =  100 % T1 =  35.08 deg C\n",
      "35.0 sec. Q1 =  100 % T1 =  35.4 deg C\n",
      "36.0 sec. Q1 =  100 % T1 =  35.72 deg C\n",
      "37.0 sec. Q1 =  100 % T1 =  36.04 deg C\n",
      "38.0 sec. Q1 =  100 % T1 =  36.37 deg C\n",
      "39.0 sec. Q1 =  100 % T1 =  36.04 deg C\n",
      "40.0 sec. Q1 =  0 % T1 =  37.33 deg C\n",
      "41.0 sec. Q1 =  0 % T1 =  37.66 deg C\n",
      "42.0 sec. Q1 =  0 % T1 =  37.98 deg C\n",
      "43.0 sec. Q1 =  0 % T1 =  38.3 deg C\n",
      "44.0 sec. Q1 =  0 % T1 =  38.62 deg C\n",
      "45.0 sec. Q1 =  0 % T1 =  38.62 deg C\n",
      "46.0 sec. Q1 =  0 % T1 =  38.95 deg C\n",
      "47.0 sec. Q1 =  0 % T1 =  39.59 deg C\n",
      "48.0 sec. Q1 =  0 % T1 =  39.91 deg C\n",
      "49.0 sec. Q1 =  0 % T1 =  39.59 deg C\n",
      "50.0 sec. Q1 =  0 % T1 =  39.91 deg C\n",
      "51.0 sec. Q1 =  0 % T1 =  40.23 deg C\n",
      "52.0 sec. Q1 =  0 % T1 =  40.23 deg C\n",
      "53.0 sec. Q1 =  0 % T1 =  40.23 deg C\n",
      "54.0 sec. Q1 =  0 % T1 =  40.56 deg C\n",
      "55.0 sec. Q1 =  0 % T1 =  40.88 deg C\n",
      "56.0 sec. Q1 =  0 % T1 =  40.88 deg C\n",
      "57.0 sec. Q1 =  0 % T1 =  40.88 deg C\n",
      "58.0 sec. Q1 =  0 % T1 =  40.23 deg C\n",
      "59.0 sec. Q1 =  0 % T1 =  40.88 deg C\n",
      "60.0 sec. Q1 =  0 % T1 =  40.56 deg C\n",
      "61.0 sec. Q1 =  0 % T1 =  40.88 deg C\n",
      "62.0 sec. Q1 =  0 % T1 =  40.88 deg C\n",
      "63.0 sec. Q1 =  0 % T1 =  40.88 deg C\n",
      "64.0 sec. Q1 =  0 % T1 =  40.88 deg C\n",
      "65.0 sec. Q1 =  0 % T1 =  40.88 deg C\n",
      "66.0 sec. Q1 =  0 % T1 =  40.88 deg C\n",
      "67.0 sec. Q1 =  0 % T1 =  40.88 deg C\n",
      "68.0 sec. Q1 =  0 % T1 =  40.88 deg C\n",
      "69.0 sec. Q1 =  0 % T1 =  40.88 deg C\n",
      "70.0 sec. Q1 =  0 % T1 =  40.88 deg C\n",
      "71.0 sec. Q1 =  0 % T1 =  40.56 deg C\n",
      "72.0 sec. Q1 =  0 % T1 =  40.56 deg C\n",
      "73.0 sec. Q1 =  0 % T1 =  40.23 deg C\n",
      "74.0 sec. Q1 =  0 % T1 =  40.23 deg C\n",
      "75.0 sec. Q1 =  0 % T1 =  39.59 deg C\n",
      "76.0 sec. Q1 =  0 % T1 =  40.23 deg C\n",
      "77.0 sec. Q1 =  0 % T1 =  40.23 deg C\n",
      "78.0 sec. Q1 =  0 % T1 =  40.23 deg C\n",
      "79.0 sec. Q1 =  0 % T1 =  39.91 deg C\n",
      "80.0 sec. Q1 =  0 % T1 =  40.23 deg C\n",
      "81.0 sec. Q1 =  0 % T1 =  39.91 deg C\n",
      "82.0 sec. Q1 =  0 % T1 =  39.59 deg C\n",
      "83.0 sec. Q1 =  0 % T1 =  39.59 deg C\n",
      "84.0 sec. Q1 =  0 % T1 =  39.59 deg C\n",
      "85.0 sec. Q1 =  0 % T1 =  39.59 deg C\n",
      "86.0 sec. Q1 =  0 % T1 =  39.59 deg C\n",
      "87.0 sec. Q1 =  0 % T1 =  39.59 deg C\n",
      "88.0 sec. Q1 =  0 % T1 =  39.27 deg C\n",
      "89.0 sec. Q1 =  0 % T1 =  38.95 deg C\n",
      "90.0 sec. Q1 =  0 % T1 =  38.95 deg C\n",
      "91.0 sec. Q1 =  0 % T1 =  38.95 deg C\n",
      "92.0 sec. Q1 =  0 % T1 =  38.95 deg C\n",
      "93.0 sec. Q1 =  0 % T1 =  38.62 deg C\n",
      "94.0 sec. Q1 =  0 % T1 =  38.62 deg C\n",
      "95.0 sec. Q1 =  0 % T1 =  38.3 deg C\n",
      "96.0 sec. Q1 =  0 % T1 =  38.3 deg C\n",
      "97.0 sec. Q1 =  0 % T1 =  38.3 deg C\n",
      "98.0 sec. Q1 =  0 % T1 =  38.3 deg C\n",
      "99.0 sec. Q1 =  0 % T1 =  37.98 deg C\n",
      "100.0 sec. Q1 =  0 % T1 =  37.98 deg C\n",
      "101.0 sec. Q1 =  0 % T1 =  37.98 deg C\n",
      "102.0 sec. Q1 =  0 % T1 =  37.98 deg C\n",
      "103.0 sec. Q1 =  0 % T1 =  37.66 deg C\n",
      "104.0 sec. Q1 =  0 % T1 =  37.66 deg C\n",
      "105.0 sec. Q1 =  0 % T1 =  37.66 deg C\n",
      "106.0 sec. Q1 =  0 % T1 =  37.66 deg C\n",
      "107.0 sec. Q1 =  0 % T1 =  37.33 deg C\n",
      "108.0 sec. Q1 =  0 % T1 =  37.33 deg C\n",
      "109.0 sec. Q1 =  100 % T1 =  36.69 deg C\n",
      "110.0 sec. Q1 =  0 % T1 =  37.01 deg C\n",
      "111.0 sec. Q1 =  100 % T1 =  36.37 deg C\n",
      "112.0 sec. Q1 =  0 % T1 =  37.01 deg C\n",
      "113.0 sec. Q1 =  0 % T1 =  37.01 deg C\n",
      "114.0 sec. Q1 =  100 % T1 =  36.37 deg C\n",
      "115.0 sec. Q1 =  100 % T1 =  36.69 deg C\n",
      "116.0 sec. Q1 =  100 % T1 =  36.37 deg C\n",
      "117.0 sec. Q1 =  100 % T1 =  36.69 deg C\n",
      "118.0 sec. Q1 =  100 % T1 =  36.37 deg C\n",
      "119.0 sec. Q1 =  100 % T1 =  36.69 deg C\n",
      "120.0 sec. Q1 =  100 % T1 =  36.69 deg C\n",
      "121.0 sec. Q1 =  100 % T1 =  36.69 deg C\n",
      "122.0 sec. Q1 =  0 % T1 =  37.01 deg C\n",
      "123.0 sec. Q1 =  0 % T1 =  37.01 deg C\n",
      "124.0 sec. Q1 =  0 % T1 =  37.33 deg C\n",
      "125.0 sec. Q1 =  0 % T1 =  37.33 deg C\n",
      "126.0 sec. Q1 =  0 % T1 =  37.33 deg C\n",
      "127.0 sec. Q1 =  0 % T1 =  37.33 deg C\n",
      "128.0 sec. Q1 =  0 % T1 =  37.33 deg C\n",
      "129.0 sec. Q1 =  0 % T1 =  37.33 deg C\n",
      "130.0 sec. Q1 =  0 % T1 =  37.66 deg C\n",
      "131.0 sec. Q1 =  0 % T1 =  37.66 deg C\n",
      "132.0 sec. Q1 =  0 % T1 =  37.66 deg C\n",
      "133.0 sec. Q1 =  0 % T1 =  37.66 deg C\n",
      "134.0 sec. Q1 =  0 % T1 =  37.66 deg C\n",
      "135.0 sec. Q1 =  0 % T1 =  37.98 deg C\n",
      "136.0 sec. Q1 =  0 % T1 =  37.66 deg C\n",
      "137.0 sec. Q1 =  0 % T1 =  37.98 deg C\n",
      "138.0 sec. Q1 =  0 % T1 =  37.66 deg C\n",
      "139.0 sec. Q1 =  0 % T1 =  37.33 deg C\n",
      "140.0 sec. Q1 =  0 % T1 =  37.66 deg C\n",
      "141.0 sec. Q1 =  0 % T1 =  37.66 deg C\n",
      "142.0 sec. Q1 =  0 % T1 =  37.66 deg C\n",
      "143.0 sec. Q1 =  0 % T1 =  37.66 deg C\n",
      "144.0 sec. Q1 =  0 % T1 =  37.66 deg C\n",
      "145.0 sec. Q1 =  0 % T1 =  37.66 deg C\n",
      "146.0 sec. Q1 =  0 % T1 =  37.33 deg C\n",
      "147.0 sec. Q1 =  0 % T1 =  37.66 deg C\n",
      "148.0 sec. Q1 =  0 % T1 =  37.33 deg C\n",
      "149.0 sec. Q1 =  0 % T1 =  37.33 deg C\n",
      "150.0 sec. Q1 =  100 % T1 =  36.37 deg C\n",
      "TCLab disconnected successfully.\n"
     ]
    }
   ],
   "source": [
    "from tclab import TCLab, clock\n",
    "\n",
    "SP = 37     # Setpoint\n",
    "\n",
    "with TCLab() as a:\n",
    "    with open('datafile.txt', 'w') as f:\n",
    "        for t in clock(150, strict=True):\n",
    "            # Measure temperature\n",
    "            T1 = a.T1\n",
    "        \n",
    "            # Compute desired heater power\n",
    "            if T1 < SP:\n",
    "                Q1 = 100\n",
    "            elif T1 >= SP:\n",
    "                Q1 = 0\n",
    "        \n",
    "            # Set heater power\n",
    "            a.Q1(Q1)\n",
    "        \n",
    "            # Record current state\n",
    "            f.write(str(t) + ', ' + str(Q1) + ', ' + str(T1) + '\\n')\n",
    "            print(t, \"sec.\", \"Q1 = \", Q1, \"%\", \"T1 = \", T1, \"deg C\")"
   ]
  },
  {
   "cell_type": "markdown",
   "metadata": {},
   "source": [
    "## Exercises\n",
    "\n",
    "The following cells comprise the first homework submission for the course. Do your work directly inside of this notebook. Please respond to each prompt. Submit your results by uploading this notebook and the datafile created for part 4 to Vocareum. The homework is due at 5pm on Wednesday, January 24th."
   ]
  },
  {
   "cell_type": "markdown",
   "metadata": {},
   "source": [
    "#### 1. Identify your Computer\n",
    "\n",
    "The following cell returns the identity of your computer on the campus network. We use to help validate your response to the exercises. Simply execute this cell so the results appear in your homework submission."
   ]
  },
  {
   "cell_type": "code",
   "execution_count": 9,
   "metadata": {},
   "outputs": [
    {
     "name": "stdout",
     "output_type": "stream",
     "text": [
      "jeffreys-mbp.lan\n"
     ]
    }
   ],
   "source": [
    "import platform\n",
    "print(platform.node())"
   ]
  },
  {
   "cell_type": "markdown",
   "metadata": {},
   "source": [
    "#### 2. Temperature Control Lab\n",
    "\n",
    "In the first lecture and in the first chapter of the textbook the terms Controlled Variables (CV), Manipulated Variables (MV), and Setpoints (SP) were defined. For the Temperature Control Lab, what are:\n",
    "\n",
    "* Controlled Variables (CV)?\n",
    "* Measured Variables?\n",
    "* Manipulated Variables (MV)?\n",
    "\n",
    "List at least two disturbance variables to which this device may be susceptable.\n",
    "\n",
    "Your Answers:"
   ]
  },
  {
   "cell_type": "markdown",
   "metadata": {},
   "source": [
    "#### 3. Python Coding\n",
    "\n",
    "For process control, it is common practice to write the control algorithm as a separate function that can be tested and verified. For the case of the thermostat, write a simple python function named `thermostat(Tsp,Tmeas)` that takes a setpoint argument and a current temperature measurement and returns the heater input.\n",
    "\n",
    "If it's working properly, then \n",
    "\n",
    "    thermostat(37,25) \n",
    "    \n",
    "should return a value of 100, and \n",
    "\n",
    "    thermostat(40,43)\n",
    "    \n",
    "should return a value of 0.  The function definition should appear in the following cell."
   ]
  },
  {
   "cell_type": "code",
   "execution_count": null,
   "metadata": {},
   "outputs": [],
   "source": []
  },
  {
   "cell_type": "markdown",
   "metadata": {},
   "source": [
    "#### 4. Thermostat Control for Temperature $T_2$\n",
    "\n",
    "Repeat the thermostat control experiment, but using temperature $T_2$ and heater $Q_2$. Use the thermostat function you wrote for part 3. How do the results compare? What would explain the difference that you see?\n",
    "\n",
    "Hint:  Write your script in the cell below, and execute. "
   ]
  },
  {
   "cell_type": "code",
   "execution_count": null,
   "metadata": {},
   "outputs": [],
   "source": []
  }
 ],
 "metadata": {
  "kernelspec": {
   "display_name": "Python 3",
   "language": "python",
   "name": "python3"
  },
  "language_info": {
   "codemirror_mode": {
    "name": "ipython",
    "version": 3
   },
   "file_extension": ".py",
   "mimetype": "text/x-python",
   "name": "python",
   "nbconvert_exporter": "python",
   "pygments_lexer": "ipython3",
   "version": "3.6.3"
  }
 },
 "nbformat": 4,
 "nbformat_minor": 2
}
