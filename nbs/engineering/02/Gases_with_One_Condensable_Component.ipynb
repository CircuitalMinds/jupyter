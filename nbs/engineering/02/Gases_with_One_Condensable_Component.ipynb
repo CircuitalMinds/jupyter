{
 "cells": [
  {
   "cell_type": "markdown",
   "metadata": {
    "colab_type": "text",
    "id": "JiEKpzYrbFbQ"
   },
   "source": [
    "# Gases with One Condensable Component"
   ]
  },
  {
   "cell_type": "markdown",
   "metadata": {
    "colab_type": "text",
    "id": "Na4_GpKQI3gG"
   },
   "source": [
    "## Example: Boiling Water\n",
    "\n",
    "One Saturday afternoon, while distracted by other things, you put room temperature tap water into a tea kettle and place it on to the stove to boil. Like most tea kettles, this one has a spout with a one-way valve that releases any vapor produced during boiling, so the absolute pressure inside the tea kettle is always one atmosphere.\n",
    "\n",
    "<img align=\"middle\" src=\"https://slimages.macysassets.com/is/image/MCY/products/3/optimized/2990463_fpx.tif?op_sharpen=1&wid=1230&hei=1500&fit=fit,1&$filterxlrg$\" width=\"200\"/>\n",
    "\n",
    "(a.) Sketch a plot of kettle temperture as a function of time. Are there transitions in the slope of this plot? Though you don't have enough information for a completely detailed plot, do indicate any numbers that you can.\n",
    "\n",
    "(b.) Sketch the vapor pressure of water as a function of time. Again, be as quantitative as possible."
   ]
  },
  {
   "cell_type": "markdown",
   "metadata": {
    "colab_type": "text",
    "id": "xcl0TovlRScd"
   },
   "source": [
    "### Solution"
   ]
  },
  {
   "cell_type": "code",
   "execution_count": 2,
   "metadata": {
    "colab": {
     "base_uri": "https://localhost:8080/",
     "height": 361
    },
    "colab_type": "code",
    "executionInfo": {
     "elapsed": 730,
     "status": "ok",
     "timestamp": 1539379025327,
     "user": {
      "displayName": "Jeffrey Kantor",
      "photoUrl": "",
      "userId": "09038942003589296665"
     },
     "user_tz": 240
    },
    "id": "BpAAGmSDdvNi",
    "outputId": "0d012b3f-7247-4a4d-f9fd-f1f59a91ae83"
   },
   "outputs": [
    {
     "data": {
      "image/png": "[encoded data removed]",
      "text/plain": [
       "<matplotlib.figure.Figure at 0x7f92ab924b38>"
      ]
     },
     "metadata": {
      "tags": []
     },
     "output_type": "display_data"
    }
   ],
   "source": [
    "# Antoine equation for water\n",
    "def Psat(T):\n",
    "  return 10**(8.10765 - 1750.286/(T + 235.0))\n",
    "\n",
    "# plot construction\n",
    "import matplotlib.pyplot as plt\n",
    "import numpy as np\n",
    "\n",
    "ta = np.linspace(0,5)\n",
    "Ta = 25 + 15*ta\n",
    "Pa = Psat(Ta)\n",
    "\n",
    "tb = np.linspace(5,20)\n",
    "Tb = 100 + 0*(tb-5)\n",
    "Pb = Psat(Tb)\n",
    "\n",
    "tc = np.linspace(20,22)\n",
    "Tc = 100 + 100*(tc-20)\n",
    "Pc = Pb\n",
    "\n",
    "plt.subplot(2,1,1)\n",
    "plt.plot(ta, Ta, tb, Tb, tc, Tc)\n",
    "plt.legend(['heating with water','boiling','heating empty kettle'])\n",
    "plt.xlabel('time / min')\n",
    "plt.ylabel('temperature / C')\n",
    "\n",
    "plt.subplot(2,1,2)\n",
    "plt.plot(ta, Pa, tb, Pb, tc, Pc)\n",
    "plt.legend(['heating with water','boiling','heating empty kettle'])\n",
    "plt.xlabel('time / min')\n",
    "plt.ylabel('pressure / mmHg');"
   ]
  },
  {
   "cell_type": "markdown",
   "metadata": {
    "colab_type": "text",
    "id": "POOWCjeFQmxJ"
   },
   "source": [
    "## Example: Partial Condensation\n",
    "\n",
    "You suddenly remember that you left a tea kettle on the stove to boil. You rush over to the stove and luckily catch it in the nick of time.  There is still a small amount of liquid water left, and steam is still being discharged from the spout. Yy this time all air in the kettle has been discharged. \n",
    "\n",
    "You take tea kettle off the stove and let it cool to the room temperature (25$^\\circ$C). The kettle has an internal volume of 2 liters. You estimate the contents of the kettle has a mass of just 4g.\n",
    "\n",
    "a.) What is the pressure inside of the cool tea kettle?\n",
    "\n",
    "b.) What is the mass of liquid water remaining inside of the kettle?"
   ]
  },
  {
   "cell_type": "markdown",
   "metadata": {
    "colab_type": "text",
    "id": "kiLWFwNpNZB7"
   },
   "source": [
    "### Part (a) Solution"
   ]
  },
  {
   "cell_type": "code",
   "execution_count": 3,
   "metadata": {
    "colab": {
     "base_uri": "https://localhost:8080/",
     "height": 34
    },
    "colab_type": "code",
    "executionInfo": {
     "elapsed": 300,
     "status": "ok",
     "timestamp": 1539379027097,
     "user": {
      "displayName": "Jeffrey Kantor",
      "photoUrl": "",
      "userId": "09038942003589296665"
     },
     "user_tz": 240
    },
    "id": "S8DmTtXBTn-c",
    "outputId": "b53321b3-7ab6-43e2-f349-b0e0a13e75d4"
   },
   "outputs": [
    {
     "name": "stdout",
     "output_type": "stream",
     "text": [
      "Pressure inside the cool tea kettle = 23.756407663704227 mmHg\n"
     ]
    }
   ],
   "source": [
    "# Antoine equation for water\n",
    "def Psat(T):\n",
    "  return 10**(8.10765 - 1750.286/(T + 235.0))\n",
    "\n",
    "T = 25\n",
    "print('Pressure inside the cool tea kettle =', Psat(T), 'mmHg')"
   ]
  },
  {
   "cell_type": "markdown",
   "metadata": {
    "colab_type": "text",
    "id": "sjU6M8QyNiWC"
   },
   "source": [
    "### Part (b) Solution"
   ]
  },
  {
   "cell_type": "markdown",
   "metadata": {
    "colab_type": "text",
    "id": "dBrkQRNWHlzL"
   },
   "source": [
    "There are two unknowns in part b. -- the mass of the liquid $m_{liq}$ and the mass of the vapor $m_{vap}$. There are also two pieces of information -- the total mass of 4 grams and the total volume of 2 liters. Denoted the molar volume as $\\hat{V}_{liq}$ and $\\hat{V}_{vap}$, respectively, the equations read\n",
    "\n",
    "\\begin{align*}\n",
    "m_{liq} + m_{vap} & = m_{total} \\\\\n",
    "\\frac{m_{liq}}{M} \\hat{V}_{liq} + \\frac{m_{vap}}{M} \\hat{V}_{vap}  & = V_{total}\n",
    "\\end{align*}\n",
    "\n",
    "where $M$ is molecular weight. \n",
    "\n",
    "For the liquid, the $\\hat{V}_{liq}/M$ is just $1/\\rho$ where $\\rho$ is the liquid density, 1000 g/liter. For the vapor, the molar volume is given by the ideal gas law\n",
    "\n",
    "\\begin{equation}\n",
    "\\hat{V}_{vap} = \\frac{R T}{P}\n",
    "\\end{equation}\n",
    "\n",
    "Doing some algebra\n",
    "\n",
    "\\begin{equation}\n",
    "m_{liq} = \\frac{\\frac{RT}{PM}m_{total} - V_{total}}{\\frac{RT}{PM} - \\frac{1}{\\rho}}\n",
    "\\end{equation}"
   ]
  },
  {
   "cell_type": "code",
   "execution_count": 17,
   "metadata": {
    "colab": {
     "base_uri": "https://localhost:8080/",
     "height": 136
    },
    "colab_type": "code",
    "executionInfo": {
     "elapsed": 452,
     "status": "ok",
     "timestamp": 1539380480366,
     "user": {
      "displayName": "Jeffrey Kantor",
      "photoUrl": "",
      "userId": "09038942003589296665"
     },
     "user_tz": 240
    },
    "id": "uKBQFLxLiATa",
    "outputId": "16d99fa9-2eae-4ac2-d258-6a80d3a87b91"
   },
   "outputs": [
    {
     "name": "stdout",
     "output_type": "stream",
     "text": [
      "\n",
      "Algebraic Solution:\n",
      "Mass of liquid = 3.4521153928077695 grams\n",
      "Mass of vapor = 0.5478846071922305 grams\n",
      "\n",
      "Solution using Sympy: \n",
      "{m_liq: 3.45211539280777, m_vap: 0.547884607192231}\n"
     ]
    }
   ],
   "source": [
    "# Antoine equation for water\n",
    "def Psat(T):\n",
    "  return 10**(8.10765 - 1750.286/(T + 235.0))\n",
    "\n",
    "# problem data\n",
    "R = 0.08206        # liter-atm/(K-gmol)\n",
    "T = 25             # temperature C\n",
    "P = Psat(T)/760.0  # atm\n",
    "M = 18.01          # molecular mass\n",
    "rho = 1000.0       # grams/liter\n",
    "Vtotal = 2         # total volume\n",
    "mtotal = 4         # total mass\n",
    "\n",
    "# algebraic solutin\n",
    "Vmass = R*T/(P*M)\n",
    "mliq = (Vmass*4 - 2)/(Vmass - 1/rho)\n",
    "mvap = mtotal - mliq\n",
    "\n",
    "print('\\nAlgebraic Solution:')\n",
    "print('Mass of liquid =', mliq, 'grams')\n",
    "print('Mass of vapor =', mvap, 'grams')\n",
    "\n",
    "# check the solution using sympy\n",
    "from sympy import *\n",
    "var('m_liq m_vap')\n",
    "eqns = [\n",
    "    Eq(m_liq + m_vap, 4),\n",
    "    Eq(m_liq/rho + (R*T/P)*m_vap/M, 2)\n",
    "]\n",
    "\n",
    "print('\\nSolution using Sympy: ')\n",
    "print(solve(eqns))"
   ]
  },
  {
   "cell_type": "markdown",
   "metadata": {
    "colab_type": "text",
    "id": "oJlOJ-ajUQWZ"
   },
   "source": [
    "## Example: Relative Humidity\n",
    "\n",
    "Before the tea-making fiasco the air in the kitchen was a pleasant 25$^\\circ$C with a relative humidity of 40%. You estimate the ill-fated attempt at tea-making released a half liter of water into a room encompassing 20 square meters with a ceiling height of 2.75 meters. What is the relative humidity after the release of the water vapor?"
   ]
  },
  {
   "cell_type": "markdown",
   "metadata": {
    "colab_type": "text",
    "id": "2ODCLO4OOQEA"
   },
   "source": [
    "### Solution\n",
    "\n",
    "Relative humidity is defined as\n",
    "\\begin{equation}\n",
    "RH = \\frac{y_AP}{P^{sat}_A(T)}\n",
    "\\end{equation}\n",
    "\n",
    "The solution strategy is to \n",
    "\n",
    "1. use the ideal gas law to determine how much water is present, in moles, at the start,\n",
    "2. add the moles generated during the boiling operation to compute a final composition, \n",
    "3. compute the final relative humidity from the above equation."
   ]
  },
  {
   "cell_type": "code",
   "execution_count": null,
   "metadata": {
    "colab": {},
    "colab_type": "code",
    "id": "ELhhAJSpkpNH"
   },
   "outputs": [],
   "source": [
    "T = 25             # deg C\n",
    "P = 760            # mmHg\n",
    "R = 0.08206        # liter-atm/(gmol-K)\n",
    "V = 1000*20*2.75   # liters\n",
    "\n",
    "RH = 0.4\n",
    "\n",
    "yH2O = RH*Psat(T)/P\n",
    "print(' initial water mole fraction =', yH2O)\n",
    "\n",
    "\n",
    "n = (P/760)*V/(R*(T+273.15))\n",
    "print('         Total initial moles =', n, 'gmols')\n",
    "\n",
    "nH2O = yH2O*n\n",
    "print('      Initial moles of water =', nH2O, 'gmole')\n",
    "\n",
    "nH2O = nH2O + 500/MW\n",
    "print('        Final moles of water =', nH2O, 'gmole')\n",
    "\n",
    "yH2O = nH2O/(n + nH2O)\n",
    "print('Final mole fraction of water =', yH2O)\n",
    "\n",
    "print('           Relative humidity =', 100*yH2O*P/Psat(T), '%')\n",
    "\n",
    "pH2O_25 = yH2O*P\n",
    "print('   partial pressure of water =', pH2O, 'mmHg')"
   ]
  },
  {
   "cell_type": "markdown",
   "metadata": {
    "colab_type": "text",
    "id": "4jdPXhHPZ37_"
   },
   "source": [
    "## Example: Dew Point\n",
    "\n",
    "It was a cool evening, and you wake to a kitchen at 15$^\\circ$C with a covering of dew on the inside of the windows. Assuming there was no ventilation following your tea-making adventure, how much water condensed on the windows?  What will be the relative humidity once the room is back to a daytime temperture of 25$^\\circ$C?"
   ]
  },
  {
   "cell_type": "markdown",
   "metadata": {
    "colab_type": "text",
    "id": "BCWogQSNRLe8"
   },
   "source": [
    "### Solution"
   ]
  },
  {
   "cell_type": "code",
   "execution_count": null,
   "metadata": {
    "colab": {},
    "colab_type": "code",
    "id": "hutqa4GOU0HY"
   },
   "outputs": [],
   "source": [
    "pH2O_15 = Psat(15)\n",
    "\n",
    "print('initial partial pressure of water =', pH2O_25, 'mmHg')\n",
    "print('  final partial pressure of water =', pH2O_15, 'mmHg')\n",
    "\n",
    "nH2O_25 = (pH2O_25/760)*V/(R*(T + 273.15))\n",
    "nH2O_15 = (pH2O_15/760)*V/(R*(T + 273.15))\n",
    "\n",
    "print('initial amount of water =', nH2O_25*MW, 'grams')\n",
    "print('  final amount of water =', nH2O_15*MW, 'gmoles')\n",
    "print('        condensed water =', nH2O_25*MW - nH2O_15*MW, 'grams')\n",
    "\n",
    "print(' final relative humidity =', 100*pH2O_15/Psat(25), '%')"
   ]
  },
  {
   "cell_type": "code",
   "execution_count": null,
   "metadata": {
    "colab": {},
    "colab_type": "code",
    "id": "CLPXpH5fV_NS"
   },
   "outputs": [],
   "source": []
  }
 ],
 "metadata": {
  "colab": {
   "collapsed_sections": [],
   "name": "Gas_with_Condensable_Component.ipynb",
   "provenance": [],
   "toc_visible": true,
   "version": "0.3.2"
  },
  "kernelspec": {
   "display_name": "Python 3",
   "language": "python",
   "name": "python3"
  },
  "language_info": {
   "codemirror_mode": {
    "name": "ipython",
    "version": 3
   },
   "file_extension": ".py",
   "mimetype": "text/x-python",
   "name": "python",
   "nbconvert_exporter": "python",
   "pygments_lexer": "ipython3",
   "version": "3.6.5"
  }
 },
 "nbformat": 4,
 "nbformat_minor": 2
}
