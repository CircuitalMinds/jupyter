{
 "cells": [
  {
   "cell_type": "markdown",
   "metadata": {
    "colab_type": "text",
    "id": "61oWwuVzJ_hr"
   },
   "source": [
    "# Operating Limits for a Methanol Lighter\n",
    "\n",
    "by Jeffrey Kantor  (jeff at nd.edu). The latest version of this notebook is available at [https://github.com/jckantor/CBE20255](https://github.com/jckantor/CBE20255). \n",
    "\n",
    "### Summary\n",
    "Demonstrates the use Antoine's equation and Raoult's law to compute flammability limits for methanol."
   ]
  },
  {
   "cell_type": "markdown",
   "metadata": {
    "colab_type": "text",
    "id": "jwlt7wmcJ_hu"
   },
   "source": [
    "## Problem\n",
    "\n",
    "We'd like to estimate range of temperatures over which this methanol fueled fire starter will successfully operate."
   ]
  },
  {
   "cell_type": "code",
   "execution_count": 1,
   "metadata": {
    "colab": {
     "base_uri": "https://localhost:8080/",
     "height": 321
    },
    "colab_type": "code",
    "executionInfo": {
     "elapsed": 570,
     "status": "ok",
     "timestamp": 1539806685215,
     "user": {
      "displayName": "Jeffrey Kantor",
      "photoUrl": "",
      "userId": "09038942003589296665"
     },
     "user_tz": 300
    },
    "id": "HE1AoNBjJ_hv",
    "outputId": "a3317081-ecc5-451b-ee6e-b3932da3c579"
   },
   "outputs": [
    {
     "data": {
      "image/jpeg": "[encoded data removed]",
      "text/html": [
       "\n",
       "        <iframe\n",
       "            width=\"400\"\n",
       "            height=\"300\"\n",
       "            src=\"https://www.youtube.com/embed/8gFqzbnUO-Y\"\n",
       "            frameborder=\"0\"\n",
       "            allowfullscreen\n",
       "        ></iframe>\n",
       "        "
      ],
      "text/plain": [
       "<IPython.lib.display.YouTubeVideo at 0x7f4bdc860eb8>"
      ]
     },
     "execution_count": 1,
     "metadata": {
      "tags": []
     },
     "output_type": "execute_result"
    }
   ],
   "source": [
    "from IPython.display import YouTubeVideo\n",
    "YouTubeVideo(\"8gFqzbnUO-Y\")"
   ]
  },
  {
   "cell_type": "markdown",
   "metadata": {
    "colab_type": "text",
    "id": "l3o946QeJ_h1"
   },
   "source": [
    "The flammability limits of methanol in air at 1 atmosphere pressure correspond to vapor phase mole fractions in the range\n",
    "\n",
    "$$ 6.7 \\mbox{ mol%} \\leq y_{MeOH} \\leq 36 \\mbox{ mol%} $$\n",
    "\n",
    "Assuming the pure methanol located in the wick of this fire starter reaches a vapor-liquid with air in the device, find the lower and upper operating temperatures for this device."
   ]
  },
  {
   "cell_type": "markdown",
   "metadata": {
    "colab_type": "text",
    "id": "ZpNr91p6J_h2"
   },
   "source": [
    "## Antoine's Equation for the Saturation Pressure of Methanol\n",
    "\n",
    "The first thing we'll do is define a simple python function to calculate the saturation pressure of methanol at a given temperature using Antoine's equation\n",
    "\n",
    "$$\\log_{10} P^{sat} = A - \\frac{B}{T + C}$$\n",
    "\n",
    "Constants for methanol can be found in the back of the course textbook for the case where pressure is given in units of mmHg and temperature in degrees centigrade."
   ]
  },
  {
   "cell_type": "code",
   "execution_count": null,
   "metadata": {
    "colab": {},
    "colab_type": "code",
    "id": "kLDbkTDgJ_h3"
   },
   "outputs": [],
   "source": [
    "# Antoine equation for methanol. Pressure in mmHg, temperature in degrees C\n",
    "A = 7.89750\n",
    "B = 1474.08\n",
    "C = 229.13\n",
    "\n",
    "def Psat(T):\n",
    "    return 10**(A - B/(T+C))"
   ]
  },
  {
   "cell_type": "markdown",
   "metadata": {
    "colab_type": "text",
    "id": "y8CrXCvIJ_h6"
   },
   "source": [
    "To test the function, compute the saturation pressure of methanol for several temperatures and print the results."
   ]
  },
  {
   "cell_type": "code",
   "execution_count": 3,
   "metadata": {
    "colab": {
     "base_uri": "https://localhost:8080/",
     "height": 119
    },
    "colab_type": "code",
    "executionInfo": {
     "elapsed": 364,
     "status": "ok",
     "timestamp": 1539806688811,
     "user": {
      "displayName": "Jeffrey Kantor",
      "photoUrl": "",
      "userId": "09038942003589296665"
     },
     "user_tz": 300
    },
    "id": "WDmzWByAJ_h7",
    "outputId": "cc6ed0cf-9ee3-4d84-bcba-f31d26a1674d"
   },
   "outputs": [
    {
     "name": "stdout",
     "output_type": "stream",
     "text": [
      "Saturation pressure of methanol at 0 deg C = 29.11532005615582 mmHg\n",
      "Saturation pressure of methanol at 5 deg C = 39.94943048219959 mmHg\n",
      "Saturation pressure of methanol at 10 deg C = 54.09464146182495 mmHg\n",
      "Saturation pressure of methanol at 15 deg C = 72.3445037835956 mmHg\n",
      "Saturation pressure of methanol at 20 deg C = 95.6288978068613 mmHg\n",
      "Saturation pressure of methanol at 25 deg C = 125.02710947768249 mmHg\n"
     ]
    }
   ],
   "source": [
    "T = [0, 5, 10, 15, 20, 25]\n",
    "\n",
    "for t in T:\n",
    "  print('Saturation pressure of methanol at', t, 'deg C =', Psat(t), 'mmHg')"
   ]
  },
  {
   "cell_type": "markdown",
   "metadata": {
    "colab_type": "text",
    "id": "Icu_bjUwJ_h-"
   },
   "source": [
    "## Equilibrium Vapor Composition at Room Temperature\n",
    "\n",
    "By Raoult's law, the partial pressure of pure methanol is equal to the saturation pressure,\n",
    "\n",
    "\\begin{equation}\n",
    "p_{MeOH} = P^{sat}_{MeOH}(T)\n",
    "\\end{equation}\n",
    "\n",
    "For an ideal gas, the partial pressure is given by Dalton's law\n",
    "\n",
    "\\begin{equation}\n",
    "p_{MeOH} = y_{MeOH} P\n",
    "\\end{equation}\n",
    "\n",
    "Putting these together and solving for the mole fraction of methanol in the vapor phase\n",
    "\n",
    "\\begin{equation}\n",
    "y_{MeOH} = \\frac{P^{sat}_{MeOH}(T)}{P}\n",
    "\\end{equation}\n"
   ]
  },
  {
   "cell_type": "markdown",
   "metadata": {
    "colab_type": "text",
    "id": "0948gkN7J_iC"
   },
   "source": [
    "For example, at an atmospheric pressure of 760 mmHg, the mole fraction of methanol is given by"
   ]
  },
  {
   "cell_type": "code",
   "execution_count": 4,
   "metadata": {
    "colab": {
     "base_uri": "https://localhost:8080/",
     "height": 34
    },
    "colab_type": "code",
    "executionInfo": {
     "elapsed": 273,
     "status": "ok",
     "timestamp": 1539806690873,
     "user": {
      "displayName": "Jeffrey Kantor",
      "photoUrl": "",
      "userId": "09038942003589296665"
     },
     "user_tz": 300
    },
    "id": "gE8X6YZHJ_iD",
    "outputId": "4c7dae7c-2198-4339-93ca-5080fdd6af19"
   },
   "outputs": [
    {
     "name": "stdout",
     "output_type": "stream",
     "text": [
      "mole fraction of methanol at 25 deg C and 1 atmosphere = 0.16450935457589802\n"
     ]
    }
   ],
   "source": [
    "P = 760.0             # mmHg\n",
    "y = Psat(25)/P        # mole fraction\n",
    "\n",
    "print(\"mole fraction of methanol at 25 deg C and 1 atmosphere =\", y)"
   ]
  },
  {
   "cell_type": "markdown",
   "metadata": {
    "colab_type": "text",
    "id": "-I2OwLzNJ_iG"
   },
   "source": [
    "Since this is within the flammability limits of methanol, the fire starter should work at room temperatures."
   ]
  },
  {
   "cell_type": "markdown",
   "metadata": {
    "colab_type": "text",
    "id": "4uG0bI27J_iH"
   },
   "source": [
    "## Lower Operating Temperature Limit\n",
    "\n",
    "The partial pressure of methanol at the lower flammability limit\n",
    "\n",
    "\\begin{equation}\n",
    "p_{MeOH} = y_{MeOH}P\n",
    "\\end{equation}"
   ]
  },
  {
   "cell_type": "code",
   "execution_count": 5,
   "metadata": {
    "colab": {
     "base_uri": "https://localhost:8080/",
     "height": 34
    },
    "colab_type": "code",
    "executionInfo": {
     "elapsed": 384,
     "status": "ok",
     "timestamp": 1539806693536,
     "user": {
      "displayName": "Jeffrey Kantor",
      "photoUrl": "",
      "userId": "09038942003589296665"
     },
     "user_tz": 300
    },
    "id": "ks3yiqhlJ_iH",
    "outputId": "7ded9757-3405-4a32-a4fd-5a2bd303c7d9"
   },
   "outputs": [
    {
     "name": "stdout",
     "output_type": "stream",
     "text": [
      "model fraction at the LFL = 50.92 mm Hg\n"
     ]
    }
   ],
   "source": [
    "P = 760.0           # pressure mmHg\n",
    "y = 0.067           # mole fractio at the lower flammability limit\n",
    "\n",
    "p_MeOH = 0.067*760\n",
    "print('model fraction at the LFL =', p_MeOH, \"mm Hg\")"
   ]
  },
  {
   "cell_type": "markdown",
   "metadata": {
    "colab_type": "text",
    "id": "IHS9qfuoJ_iK"
   },
   "source": [
    "Next we need to solve for the temperature at which the partial pressure of methanol is at the lower flammability limit.\n",
    "\n",
    "\\begin{equation}\n",
    "P^{sat}_{MeOH}(T) = p_{MeOH}\n",
    "\\end{equation}\n",
    "\n",
    "Let's start with a guesses at 0 and 20 deg C."
   ]
  },
  {
   "cell_type": "code",
   "execution_count": 6,
   "metadata": {
    "colab": {
     "base_uri": "https://localhost:8080/",
     "height": 51
    },
    "colab_type": "code",
    "executionInfo": {
     "elapsed": 294,
     "status": "ok",
     "timestamp": 1539806695874,
     "user": {
      "displayName": "Jeffrey Kantor",
      "photoUrl": "",
      "userId": "09038942003589296665"
     },
     "user_tz": 300
    },
    "id": "IBQiqVtRJ_iM",
    "outputId": "2c3bdb4b-f06e-48c7-c7f8-2498e781543b"
   },
   "outputs": [
    {
     "name": "stdout",
     "output_type": "stream",
     "text": [
      "29.11532005615582 mmHg\n",
      "95.6288978068613 mmHg\n"
     ]
    }
   ],
   "source": [
    "print(Psat(0), \"mmHg\")\n",
    "print(Psat(20), \"mmHg\")"
   ]
  },
  {
   "cell_type": "markdown",
   "metadata": {
    "colab_type": "text",
    "id": "tHHrYgVvJ_iS"
   },
   "source": [
    "This may be close enough to use an equation solver to finish the job. Here we'll use [`brentq`](https://docs.scipy.org/doc/scipy/reference/generated/scipy.optimize.brentq.html) which is one of the [root-finding funtions](https://docs.scipy.org/doc/scipy/reference/optimize.html#root-finding)  from the [`scipy.optimize`](https://docs.scipy.org/doc/scipy/reference/optimize.html) library. \n",
    "\n",
    "A python [`lambda`](https://www.w3schools.com/python/python_lambda.asp) function is a convenient means of recasting the equation\n",
    "\n",
    "\\begin{equation}\n",
    "P^{sat}_{MeOH} = y_{MeOH}P\n",
    "\\end{equation}\n",
    "\n",
    "as\n",
    "\n",
    "\\begin{equation}\n",
    "P^{sat}_{MeOH} - y_{MeOH}P = 0\n",
    "\\end{equation}\n",
    "\n",
    "which is the form need for using a root-finding algorithm."
   ]
  },
  {
   "cell_type": "code",
   "execution_count": 7,
   "metadata": {
    "colab": {
     "base_uri": "https://localhost:8080/",
     "height": 51
    },
    "colab_type": "code",
    "executionInfo": {
     "elapsed": 330,
     "status": "ok",
     "timestamp": 1539806697660,
     "user": {
      "displayName": "Jeffrey Kantor",
      "photoUrl": "",
      "userId": "09038942003589296665"
     },
     "user_tz": 300
    },
    "id": "F-jCeJaXJ_iq",
    "outputId": "cd0b64ee-52f7-4689-90d6-81f4bd740a56"
   },
   "outputs": [
    {
     "name": "stdout",
     "output_type": "stream",
     "text": [
      "Lower Flammability Temperature =  8.985406691811518 deg C\n",
      "Upper Flammability Temperature =  48.173732045260735 deg F\n"
     ]
    }
   ],
   "source": [
    "# problem data\n",
    "P = 760.0           # pressure mmHg\n",
    "y = 0.067           # mole fractio at the lower flammability limit\n",
    "\n",
    "# partial pressure of methanol at the lower flamability limit\n",
    "p_MeOH = 0.067*760\n",
    "\n",
    "# Antoine equation for methanol. Pressure in mmHg, temperature in degrees C\n",
    "def Psat(T):\n",
    "    return 10**(7.89750 - 1474.08/(T + 229.13))\n",
    "\n",
    "from scipy.optimize import brentq\n",
    "\n",
    "Tlow = brentq(lambda T: Psat(T) - p_MeOH, 0, 20)\n",
    "print(\"Lower Flammability Temperature = \", Tlow, \"deg C\")\n",
    "print(\"Upper Flammability Temperature = \", 32.0 + 9.0*Tlow/5.0, \"deg F\")"
   ]
  },
  {
   "cell_type": "markdown",
   "metadata": {
    "colab_type": "text",
    "id": "OAQIRPjAJ_iu"
   },
   "source": [
    "## Exercise\n",
    "\n",
    "Calculate the upper limit on temperature at which this lighter can operate."
   ]
  }
 ],
 "metadata": {
  "colab": {
   "collapsed_sections": [],
   "name": "Operating_Limits _for_a_Methanol_Lighter.ipynb",
   "provenance": [],
   "toc_visible": true,
   "version": "0.3.2"
  },
  "kernelspec": {
   "display_name": "Python 3",
   "language": "python",
   "name": "python3"
  },
  "language_info": {
   "codemirror_mode": {
    "name": "ipython",
    "version": 3
   },
   "file_extension": ".py",
   "mimetype": "text/x-python",
   "name": "python",
   "nbconvert_exporter": "python",
   "pygments_lexer": "ipython3",
   "version": "3.6.5"
  }
 },
 "nbformat": 4,
 "nbformat_minor": 2
}
