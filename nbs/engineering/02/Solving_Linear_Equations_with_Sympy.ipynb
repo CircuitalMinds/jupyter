{
  "nbformat": 4,
  "nbformat_minor": 0,
  "metadata": {
    "colab": {
      "name": "Solving_Linear_Equations_with_Sympy.ipynb",
      "version": "0.3.2",
      "provenance": []
    },
    "kernelspec": {
      "display_name": "Python 3",
      "language": "python",
      "name": "python3"
    }
  },
  "cells": [
    {
      "metadata": {
        "id": "_2f41lKN8h-2",
        "colab_type": "text"
      },
      "cell_type": "markdown",
      "source": [
        "# Solving Linear Equations with Simpy\n",
        "\n",
        "by Jeffrey Kantor  (jeff at nd.edu). The latest version of this notebook is available at [https://github.com/jckantor/CBE20255](https://github.com/jckantor/CBE20255). \n",
        "\n",
        "### Summary\n",
        "\n",
        "This notebook shows how to solve linear equations corresponding to material balances on chemical processes using the {ython symbolic algebra library [Sympy](http://sympy.org/en/index.html). The example is adapted with permission from [learnCheme.com](http://learncheme.ning.com/), a project at the University of Colorado funded by the National Science Foundation and the Shell Corporation."
      ]
    },
    {
      "metadata": {
        "id": "-Sh63cOr8h-4",
        "colab_type": "text"
      },
      "cell_type": "markdown",
      "source": [
        "## Problem Statement"
      ]
    },
    {
      "metadata": {
        "id": "NxcCYNjd8h-5",
        "colab_type": "code",
        "colab": {
          "base_uri": "https://localhost:8080/",
          "height": 336
        },
        "outputId": "f55ae53a-c7db-482e-e8a5-93e25a4b4dd8"
      },
      "cell_type": "code",
      "source": [
        "from IPython.display import YouTubeVideo\n",
        "YouTubeVideo(\"KrrZB5LvXF4\",560,315,start=0,end=144,rel=0)"
      ],
      "execution_count": 1,
      "outputs": [
        {
          "output_type": "execute_result",
          "data": {
            "text/html": [
              "\n",
              "        <iframe\n",
              "            width=\"560\"\n",
              "            height=\"315\"\n",
              "            src=\"https://www.youtube.com/embed/KrrZB5LvXF4?start=0&end=144&rel=0\"\n",
              "            frameborder=\"0\"\n",
              "            allowfullscreen\n",
              "        ></iframe>\n",
              "        "
            ],
            "text/plain": [
              "<IPython.lib.display.YouTubeVideo at 0x7f87a7170fd0>"
            ],
            "image/jpeg": "[encoded data removed]"
          },
          "metadata": {
            "tags": []
          },
          "execution_count": 1
        }
      ]
    },
    {
      "metadata": {
        "id": "QIvjEFKI8h-_",
        "colab_type": "text"
      },
      "cell_type": "markdown",
      "source": [
        "Before going further, be sure you can solve a system of two (or three) linear equations in two (or three) unknowns with paper and pencil. Most of you will have seen these problems before in your math classes."
      ]
    },
    {
      "metadata": {
        "id": "vuqzla188h_A",
        "colab_type": "text"
      },
      "cell_type": "markdown",
      "source": [
        "## Solving linear equations using Sympy\n",
        "\n",
        "Assuming you have mastered the solution of linear equations with paper and pencil, let's see how to find solutions using the python symbolic algebra library [Sympy](http://sympy.org/en/index.html).\n",
        "\n",
        "Sympy is an example of a Python 'library'. The first step in using the library is to import it into the current workspace. It is customary to import into the workspace with the namespace `sym` to avoid name clashes with variables and functions."
      ]
    },
    {
      "metadata": {
        "id": "RA8_VOok8h_G",
        "colab_type": "code",
        "colab": {}
      },
      "cell_type": "code",
      "source": [
        "import sympy as sym"
      ],
      "execution_count": 0,
      "outputs": []
    },
    {
      "metadata": {
        "id": "78x_O90H8h_J",
        "colab_type": "text"
      },
      "cell_type": "markdown",
      "source": [
        "The system of equations to be solved is given by\n",
        "\n",
        "\\begin{align*}\n",
        "n_1 + n_1 & = 100 \\\\\n",
        "0.7 n_1 + 0.2 n_2 & = 30\n",
        "\\end{align*}\n",
        "\n",
        "The next step is to introduces names for the unknown variables appearing in our problem. The Sympy function `sym.var()` constructs symbolic variables given a list of variable names."
      ]
    },
    {
      "metadata": {
        "id": "DsyWx80p8h_K",
        "colab_type": "code",
        "colab": {
          "base_uri": "https://localhost:8080/",
          "height": 34
        },
        "outputId": "078b3094-721e-48ac-b9c9-5d88ccbf4edd"
      },
      "cell_type": "code",
      "source": [
        "sym.var(['n1','n2'])"
      ],
      "execution_count": 3,
      "outputs": [
        {
          "output_type": "execute_result",
          "data": {
            "text/plain": [
              "[n1, n2]"
            ]
          },
          "metadata": {
            "tags": []
          },
          "execution_count": 3
        }
      ]
    },
    {
      "metadata": {
        "id": "HBib10ed8h_N",
        "colab_type": "text"
      },
      "cell_type": "markdown",
      "source": [
        "The newly constructed symbolic variable are used to create symbolic equations. The sympy function `sym.Eq()` accepts two arguments, each a symbolic expression expressing the left and right hand sides of an equation. For this problem there are two equations to be solved simultaneously, so we construct both and store them in a python list."
      ]
    },
    {
      "metadata": {
        "id": "MF9QdHaq8h_P",
        "colab_type": "code",
        "colab": {
          "base_uri": "https://localhost:8080/",
          "height": 34
        },
        "outputId": "3f3e0d8e-9956-4f76-8fe3-f15e2f0534cb"
      },
      "cell_type": "code",
      "source": [
        "eqns = [\n",
        "    sym.Eq(n1 + n2, 100),\n",
        "    sym.Eq(0.7*n1 + 0.2*n2, 30)\n",
        "]\n",
        "print(eqns)"
      ],
      "execution_count": 4,
      "outputs": [
        {
          "output_type": "stream",
          "text": [
            "[Eq(n1 + n2, 100), Eq(0.7*n1 + 0.2*n2, 30)]\n"
          ],
          "name": "stdout"
        }
      ]
    },
    {
      "metadata": {
        "id": "YgPYzeby8h_R",
        "colab_type": "text"
      },
      "cell_type": "markdown",
      "source": [
        "The last step is solve the equations using `sym.solve()`."
      ]
    },
    {
      "metadata": {
        "id": "RTgF8g-88h_X",
        "colab_type": "code",
        "colab": {
          "base_uri": "https://localhost:8080/",
          "height": 34
        },
        "outputId": "6bfdf592-1f15-4e32-c302-68a2c88f68e6"
      },
      "cell_type": "code",
      "source": [
        "soln = sym.solve(eqns)\n",
        "print(soln)"
      ],
      "execution_count": 5,
      "outputs": [
        {
          "output_type": "stream",
          "text": [
            "{n1: 20.0000000000000, n2: 80.0000000000000}\n"
          ],
          "name": "stdout"
        }
      ]
    },
    {
      "metadata": {
        "id": "upVWXBbf8h_b",
        "colab_type": "text"
      },
      "cell_type": "markdown",
      "source": [
        "Putting these steps together, we have a three-step procedure for solving systems of linear equations using Sympy."
      ]
    },
    {
      "metadata": {
        "id": "4aoKcUcj8h_c",
        "colab_type": "code",
        "colab": {
          "base_uri": "https://localhost:8080/",
          "height": 34
        },
        "outputId": "3f7cd897-a13b-4470-aff5-491549d520ad"
      },
      "cell_type": "code",
      "source": [
        "# import sympy\n",
        "import sympy as sym\n",
        "\n",
        "# Step 1. Create symbolic variables.\n",
        "sym.var(['n1','n2'])\n",
        "\n",
        "# Step 2. Create a list of equations using the symbolic variables\n",
        "eqns = [\n",
        "    sym.Eq(n1 + n2, 100),\n",
        "    sym.Eq(0.7*n1 + 0.2*n2, 30)\n",
        "]\n",
        "\n",
        "# Step 3. Solve and display solution\n",
        "soln = sym.solve(eqns)\n",
        "print(soln)"
      ],
      "execution_count": 6,
      "outputs": [
        {
          "output_type": "stream",
          "text": [
            "{n1: 20.0000000000000, n2: 80.0000000000000}\n"
          ],
          "name": "stdout"
        }
      ]
    },
    {
      "metadata": {
        "id": "2hh-CaNg8h_f",
        "colab_type": "text"
      },
      "cell_type": "markdown",
      "source": [
        "## Exercise\n",
        "\n",
        "In the cell below, prepare an IPython solution to the second problem described in the screencast involving three linear equations. The problem description starts at the 2:22 mark in the screencast. You can use the example above as a template for your solution."
      ]
    },
    {
      "metadata": {
        "id": "RQsrgjE28h_g",
        "colab_type": "code",
        "colab": {
          "base_uri": "https://localhost:8080/",
          "height": 336
        },
        "outputId": "a7b62442-60e6-47a7-a3c5-2b1a32d39e86"
      },
      "cell_type": "code",
      "source": [
        "from IPython.display import YouTubeVideo\n",
        "YouTubeVideo(\"KrrZB5LvXF4\",560,315,start=144,end=166,rel=0)"
      ],
      "execution_count": 7,
      "outputs": [
        {
          "output_type": "execute_result",
          "data": {
            "text/html": [
              "\n",
              "        <iframe\n",
              "            width=\"560\"\n",
              "            height=\"315\"\n",
              "            src=\"https://www.youtube.com/embed/KrrZB5LvXF4?start=144&end=166&rel=0\"\n",
              "            frameborder=\"0\"\n",
              "            allowfullscreen\n",
              "        ></iframe>\n",
              "        "
            ],
            "text/plain": [
              "<IPython.lib.display.YouTubeVideo at 0x7f87a5ef6d30>"
            ],
            "image/jpeg": "[encoded data removed]"
          },
          "metadata": {
            "tags": []
          },
          "execution_count": 7
        }
      ]
    },
    {
      "metadata": {
        "id": "Ir3vHyu08h_m",
        "colab_type": "code",
        "colab": {}
      },
      "cell_type": "code",
      "source": [
        ""
      ],
      "execution_count": 0,
      "outputs": []
    }
  ]
}