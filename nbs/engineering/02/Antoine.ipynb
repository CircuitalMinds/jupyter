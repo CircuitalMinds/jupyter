{
 "cells": [
  {
   "cell_type": "markdown",
   "metadata": {},
   "source": [
    "###### The latest version of this IPython notebook is available at [http://github.com/jckantor](http://github.com/jckantor)  for noncommercial use under terms of the [Creative Commons Attribution Noncommericial ShareAlike License](http://creativecommons.org/licenses/by-nc-sa/4.0/).\n",
    "\n",
    "Jeffrey C. Kantor (Kantor.1@nd.edu)\n",
    "\n",
    "# Antoine's Equation and Database\n",
    "\n",
    "The purpose of this notebook is to demonstrate the use Antoine's equation for routine chemical calcualtions. The notebook uses Google Sheets as a data repository of coefficients for Antoine parameters for a selected set of chemical species.\n",
    "\n",
    "#### Table of Contents\n",
    "\n",
    "* [Introduction to Antoine's Equation](#Introduction-to-Antoine's-Equation)\n",
    "* [Calculating Saturation Pressure](#Calculating-Saturation-Pressure)\n",
    "* [Plotting Saturation Pressure](#Plotting-Saturation-Pressure)\n",
    "* [Calculating Saturation Temperature](#Calculating-Saturation-Temperature)\n",
    "* [Specific Humidity](#Specific-Humidity)\n",
    "* [Exercises](#Exercises)\n",
    "\n",
    "#### How to Run this Notebook\n",
    "\n",
    "You can open run this notebook directly by clicking on \n",
    "\n",
    "[![Binder](http://mybinder.org/badge.svg)](http://mybinder.org/repo/jckantor/Antoine-Database)\n",
    "\n",
    "then selecting `Run All` under the Jupyter `Cell` menu. Alternatively, if you have access to a Jupyter development environment (such as [Anaconda](https://www.continuum.io/downloads)), you can download this notebook using `Download as ...` under the Jupyter `File` menu, or fork the entire project from the [github repository](https://github.com/jckantor/Antoine-Database)."
   ]
  },
  {
   "cell_type": "markdown",
   "metadata": {},
   "source": [
    "## Introduction to Antoine's Equation"
   ]
  },
  {
   "cell_type": "code",
   "execution_count": 1,
   "metadata": {
    "collapsed": false
   },
   "outputs": [
    {
     "data": {
      "text/html": [
       "\n",
       "        <iframe\n",
       "            width=\"400\"\n",
       "            height=\"300\"\n",
       "            src=\"https://www.youtube.com/embed/VuiTiNP7QsU\"\n",
       "            frameborder=\"0\"\n",
       "            allowfullscreen\n",
       "        ></iframe>\n",
       "        "
      ],
      "text/plain": [
       "<IPython.lib.display.YouTubeVideo at 0x1061a3510>"
      ]
     },
     "execution_count": 1,
     "metadata": {},
     "output_type": "execute_result"
    }
   ],
   "source": [
    "from IPython.display import YouTubeVideo\n",
    "YouTubeVideo('VuiTiNP7QsU') "
   ]
  },
  {
   "cell_type": "markdown",
   "metadata": {},
   "source": [
    "Antoine's equation is used to estimate the pressure of the vapor phase of a pure component in equilibrium its pure liquid phase as a function of temperature. The form of the equation is\n",
    "\n",
    "$$\\log_{10} P^{sat}(T) = A - \\frac{B}{T+C}$$\n",
    "\n",
    "where $A$, $B$, and $C$ are constants specific to the species of interest. A data set of coefficients been prepared as a [Google Sheet](https://docs.google.com/spreadsheets/d/1lqIWdnmjiZX2LwHZ_5TdPXDOEn8hp-ZkdONlbjA-P1k/edit?usp=sharing) and read in the notebook by running the following cell."
   ]
  },
  {
   "cell_type": "code",
   "execution_count": 2,
   "metadata": {
    "collapsed": false
   },
   "outputs": [
    {
     "data": {
      "text/html": [
       "<div>\n",
       "<table border=\"1\" class=\"dataframe\">\n",
       "  <thead>\n",
       "    <tr style=\"text-align: right;\">\n",
       "      <th></th>\n",
       "      <th></th>\n",
       "      <th></th>\n",
       "      <th>A</th>\n",
       "      <th>B</th>\n",
       "      <th>C</th>\n",
       "    </tr>\n",
       "    <tr>\n",
       "      <th>Species</th>\n",
       "      <th>Tmin</th>\n",
       "      <th>Tmax</th>\n",
       "      <th></th>\n",
       "      <th></th>\n",
       "      <th></th>\n",
       "    </tr>\n",
       "  </thead>\n",
       "  <tbody>\n",
       "    <tr>\n",
       "      <th>acetaldehyde</th>\n",
       "      <th>-45.0</th>\n",
       "      <th>70</th>\n",
       "      <td>8.00550</td>\n",
       "      <td>1600.000</td>\n",
       "      <td>291.800</td>\n",
       "    </tr>\n",
       "    <tr>\n",
       "      <th>acetic acid</th>\n",
       "      <th>16.7</th>\n",
       "      <th>320</th>\n",
       "      <td>7.38782</td>\n",
       "      <td>1533.313</td>\n",
       "      <td>222.309</td>\n",
       "    </tr>\n",
       "    <tr>\n",
       "      <th>acetone</th>\n",
       "      <th>-94.3</th>\n",
       "      <th>235</th>\n",
       "      <td>7.02447</td>\n",
       "      <td>1161.000</td>\n",
       "      <td>224.000</td>\n",
       "    </tr>\n",
       "    <tr>\n",
       "      <th>benzene</th>\n",
       "      <th>8.0</th>\n",
       "      <th>103</th>\n",
       "      <td>6.90565</td>\n",
       "      <td>1211.033</td>\n",
       "      <td>220.790</td>\n",
       "    </tr>\n",
       "    <tr>\n",
       "      <th>ethanol</th>\n",
       "      <th>-2.0</th>\n",
       "      <th>100</th>\n",
       "      <td>8.04494</td>\n",
       "      <td>1554.300</td>\n",
       "      <td>222.650</td>\n",
       "    </tr>\n",
       "    <tr>\n",
       "      <th>isopentane</th>\n",
       "      <th>-50.0</th>\n",
       "      <th>58</th>\n",
       "      <td>6.78967</td>\n",
       "      <td>1020.012</td>\n",
       "      <td>233.097</td>\n",
       "    </tr>\n",
       "    <tr>\n",
       "      <th>n-heptane</th>\n",
       "      <th>-2.0</th>\n",
       "      <th>124</th>\n",
       "      <td>6.89677</td>\n",
       "      <td>1264.900</td>\n",
       "      <td>216.540</td>\n",
       "    </tr>\n",
       "    <tr>\n",
       "      <th>n-hexane</th>\n",
       "      <th>-25.0</th>\n",
       "      <th>92</th>\n",
       "      <td>6.87601</td>\n",
       "      <td>1171.170</td>\n",
       "      <td>224.410</td>\n",
       "    </tr>\n",
       "    <tr>\n",
       "      <th rowspan=\"2\" valign=\"top\">methanol</th>\n",
       "      <th>-14.0</th>\n",
       "      <th>65</th>\n",
       "      <td>7.89750</td>\n",
       "      <td>1474.080</td>\n",
       "      <td>229.130</td>\n",
       "    </tr>\n",
       "    <tr>\n",
       "      <th>65.0</th>\n",
       "      <th>110</th>\n",
       "      <td>7.97328</td>\n",
       "      <td>1515.140</td>\n",
       "      <td>232.850</td>\n",
       "    </tr>\n",
       "    <tr>\n",
       "      <th>n-pentane</th>\n",
       "      <th>-50.0</th>\n",
       "      <th>58</th>\n",
       "      <td>6.85221</td>\n",
       "      <td>1064.630</td>\n",
       "      <td>233.010</td>\n",
       "    </tr>\n",
       "    <tr>\n",
       "      <th>toluene</th>\n",
       "      <th>6.0</th>\n",
       "      <th>137</th>\n",
       "      <td>6.95464</td>\n",
       "      <td>1344.800</td>\n",
       "      <td>218.480</td>\n",
       "    </tr>\n",
       "    <tr>\n",
       "      <th rowspan=\"2\" valign=\"top\">water</th>\n",
       "      <th>0.0</th>\n",
       "      <th>60</th>\n",
       "      <td>8.10765</td>\n",
       "      <td>1750.286</td>\n",
       "      <td>235.000</td>\n",
       "    </tr>\n",
       "    <tr>\n",
       "      <th>60.0</th>\n",
       "      <th>150</th>\n",
       "      <td>7.96681</td>\n",
       "      <td>1668.210</td>\n",
       "      <td>228.000</td>\n",
       "    </tr>\n",
       "  </tbody>\n",
       "</table>\n",
       "</div>"
      ],
      "text/plain": [
       "                               A         B        C\n",
       "Species      Tmin  Tmax                            \n",
       "acetaldehyde -45.0 70    8.00550  1600.000  291.800\n",
       "acetic acid   16.7 320   7.38782  1533.313  222.309\n",
       "acetone      -94.3 235   7.02447  1161.000  224.000\n",
       "benzene       8.0  103   6.90565  1211.033  220.790\n",
       "ethanol      -2.0  100   8.04494  1554.300  222.650\n",
       "isopentane   -50.0 58    6.78967  1020.012  233.097\n",
       "n-heptane    -2.0  124   6.89677  1264.900  216.540\n",
       "n-hexane     -25.0 92    6.87601  1171.170  224.410\n",
       "methanol     -14.0 65    7.89750  1474.080  229.130\n",
       "              65.0 110   7.97328  1515.140  232.850\n",
       "n-pentane    -50.0 58    6.85221  1064.630  233.010\n",
       "toluene       6.0  137   6.95464  1344.800  218.480\n",
       "water         0.0  60    8.10765  1750.286  235.000\n",
       "              60.0 150   7.96681  1668.210  228.000"
      ]
     },
     "execution_count": 2,
     "metadata": {},
     "output_type": "execute_result"
    }
   ],
   "source": [
    "import requests\n",
    "from StringIO import StringIO\n",
    "import pandas as pd\n",
    "\n",
    "r = requests.get('https://docs.google.com/spreadsheets/d/' \\\n",
    "                 + '1lqIWdnmjiZX2LwHZ_5TdPXDOEn8hp-ZkdONlbjA-P1k' \\\n",
    "                 + '/export?format=csv&id')\n",
    "\n",
    "csv = pd.io.parsers.read_csv(StringIO(r.content))\n",
    "\n",
    "idx = pd.MultiIndex.from_tuples(zip(csv['Species'].str.lower(),csv['Tmin'],csv['Tmax']),\n",
    "                         names=['Species','Tmin','Tmax'])\n",
    "\n",
    "adb = pd.DataFrame(index = idx)\n",
    "for v in ['A','B','C']:\n",
    "    adb[v] = pd.Series(list(csv[v]),index = idx)\n",
    "\n",
    "adb"
   ]
  },
  {
   "cell_type": "markdown",
   "metadata": {},
   "source": [
    "## Calculating Saturation Pressure\n",
    "\n",
    "Calculating the saturation pressure is a matter of implementing a function to evaluate Antoine's equation for a specified species at a specified temperature. The following function  accepts a `numpy` array of temperatures which it evaluates recursively. The function scans through temperature ranges available for the given species, returning `nan` if the specified temperature is out of range of every available temperature range."
   ]
  },
  {
   "cell_type": "code",
   "execution_count": 3,
   "metadata": {
    "collapsed": true
   },
   "outputs": [],
   "source": [
    "import numpy as np\n",
    "\n",
    "def Psat(species,T):\n",
    "    if isinstance(T,np.ndarray):\n",
    "        return [Psat(species,t) for t in T]\n",
    "    for Tmin,Tmax in adb.ix[species.lower()].index:\n",
    "        if (T >= Tmin) & (T <= Tmax):\n",
    "            A = adb.ix[species.lower(),Tmin,Tmax]['A']\n",
    "            B = adb.ix[species.lower(),Tmin,Tmax]['B']\n",
    "            C = adb.ix[species.lower(),Tmin,Tmax]['C']\n",
    "            return 10.0**(A - B/(T + C) )\n",
    "    else:\n",
    "        return float('nan')"
   ]
  },
  {
   "cell_type": "markdown",
   "metadata": {},
   "source": [
    "#### Example Problem\n",
    "_What is the saturation pressure of water at 100 deg. C?_"
   ]
  },
  {
   "cell_type": "code",
   "execution_count": 4,
   "metadata": {
    "collapsed": false
   },
   "outputs": [
    {
     "name": "stdout",
     "output_type": "stream",
     "text": [
      "Saturation pressure of water at 100.0 deg C = 759.983043308 mmHg\n"
     ]
    }
   ],
   "source": [
    "species = 'water'\n",
    "T = 100.0\n",
    "\n",
    "print 'Saturation pressure of', species, \n",
    "print 'at', T, 'deg C =', \n",
    "print Psat(species,T), 'mmHg'"
   ]
  },
  {
   "cell_type": "markdown",
   "metadata": {},
   "source": [
    "#### Example Problem\n",
    "_What is the highest altitude a human can travel before blood boils at normal body temperature (37 deg. C)?_\n",
    "\n",
    "This is known as the [Armstrong Limit](https://en.wikipedia.org/wiki/Armstrong_limit). The saturation pressure of water at 37 deg. C is computed as follows."
   ]
  },
  {
   "cell_type": "code",
   "execution_count": 5,
   "metadata": {
    "collapsed": false
   },
   "outputs": [
    {
     "name": "stdout",
     "output_type": "stream",
     "text": [
      "Saturation pressure of water at 37.0 deg C = 47.0733384885 mmHg\n"
     ]
    }
   ],
   "source": [
    "species = 'water'\n",
    "T = 37.0\n",
    "print 'Saturation pressure of', species, \n",
    "print 'at', T, 'deg C =', \n",
    "print Psat(species,T), 'mmHg'"
   ]
  },
  {
   "cell_type": "markdown",
   "metadata": {},
   "source": [
    "Consulting standard tables for air pressure as a function of altitude, we see a pressure of 47 mmHg corresponds to an altitude of about 62,000 ft above sea level."
   ]
  },
  {
   "cell_type": "markdown",
   "metadata": {},
   "source": [
    "#### Example Problem\n",
    "_A barrel of water is heated to boiling at one atmosphere, and plenty of time is allowed for the steam to displace all air.  The barrel is then sealed and cooled to 20 degrees C. What is the pressure in the barrel in lb-f/in^2?_"
   ]
  },
  {
   "cell_type": "code",
   "execution_count": 6,
   "metadata": {
    "collapsed": false
   },
   "outputs": [
    {
     "name": "stdout",
     "output_type": "stream",
     "text": [
      "Saturation pressure of water at 20.0 deg C = 0.338975948289 lb-f/in^2\n"
     ]
    }
   ],
   "source": [
    "species = 'water'\n",
    "T = 20.0\n",
    "print 'Saturation pressure of', species, \n",
    "print 'at', T, 'deg C =', \n",
    "print Psat(species,T)*14.696/760.0, 'lb-f/in^2'"
   ]
  },
  {
   "cell_type": "markdown",
   "metadata": {},
   "source": [
    "## Plotting Saturation Pressure"
   ]
  },
  {
   "cell_type": "code",
   "execution_count": 7,
   "metadata": {
    "collapsed": false
   },
   "outputs": [
    {
     "data": {
      "image/png": "[encoded data removed]",
      "text/plain": [
       "<matplotlib.figure.Figure at 0x10b814e50>"
      ]
     },
     "metadata": {},
     "output_type": "display_data"
    }
   ],
   "source": [
    "import matplotlib.pyplot as plt\n",
    "%matplotlib inline\n",
    "\n",
    "def PsatPlot(species):\n",
    "    for Tmin,Tmax in adb.ix[species].index:\n",
    "        T = np.linspace(Tmin,Tmax)\n",
    "        plt.plot(T,Psat(species,T),'b')\n",
    "    plt.xlabel('Temperature [deg C]')\n",
    "    plt.ylabel('Pressure [mmHg]')\n",
    "    plt.title('Saturation Pressure of ' + species)\n",
    "    plt.grid();\n",
    "    \n",
    "PsatPlot('water')"
   ]
  },
  {
   "cell_type": "markdown",
   "metadata": {},
   "source": [
    "### Interactive Widget for Plotting Saturation Pressure"
   ]
  },
  {
   "cell_type": "code",
   "execution_count": 8,
   "metadata": {
    "collapsed": false
   },
   "outputs": [
    {
     "data": {
      "image/png": "[encoded data removed]",
      "text/plain": [
       "<matplotlib.figure.Figure at 0x1061c5a90>"
      ]
     },
     "metadata": {},
     "output_type": "display_data"
    }
   ],
   "source": [
    "import ipywidgets as widgets\n",
    "from IPython.display import display\n",
    "\n",
    "widgets.interact(PsatPlot, species=list(adb.index.levels[0]));"
   ]
  },
  {
   "cell_type": "markdown",
   "metadata": {},
   "source": [
    "## Calculating Saturation Temperature"
   ]
  },
  {
   "cell_type": "code",
   "execution_count": 9,
   "metadata": {
    "collapsed": false
   },
   "outputs": [],
   "source": [
    "from scipy.optimize import brentq\n",
    "\n",
    "def Tsat(species,P):\n",
    "    if isinstance(P,np.ndarray):\n",
    "        return [Tsat(species,p) for p in P]\n",
    "    Ta = 1000.0\n",
    "    Tb = -273.15\n",
    "    for Tmin,Tmax in adb.ix[species.lower()].index:\n",
    "        Ta = min(Ta,Tmin)\n",
    "        Tb = max(Tb,Tmax)\n",
    "    try:\n",
    "        return brentq(lambda T: Psat(species,T) - P,Ta,Tb)\n",
    "    except:\n",
    "        return float('nan')"
   ]
  },
  {
   "cell_type": "markdown",
   "metadata": {},
   "source": [
    "#### Create a Table of Normal Boiling Points\n",
    "\n",
    "The normal boiling point of a liquid is the temperature at which the vapor pressure is equal to one atmosphere."
   ]
  },
  {
   "cell_type": "code",
   "execution_count": 10,
   "metadata": {
    "collapsed": false
   },
   "outputs": [
    {
     "name": "stdout",
     "output_type": "stream",
     "text": [
      "Normal Boiling Points in Deg C.\n",
      "acetaldehyde      20.4\n",
      "acetic acid      117.9\n",
      "acetone           56.2\n",
      "benzene           80.1\n",
      "ethanol           78.3\n",
      "isopentane        27.9\n",
      "methanol          64.7\n",
      "n-heptane         98.4\n",
      "n-hexane          68.7\n",
      "n-pentane         35.1\n",
      "toluene          111.6\n",
      "water            100.0\n"
     ]
    }
   ],
   "source": [
    "P = 760.0\n",
    "species = list(adb.index.levels[0])\n",
    "\n",
    "print \"Normal Boiling Points in Deg C.\"\n",
    "for s in species:\n",
    "    print '{0:15s}'.format(s),\n",
    "    print '{0:6.1f}'.format(Tsat(s,P))"
   ]
  },
  {
   "cell_type": "markdown",
   "metadata": {},
   "source": [
    "## Specific Humidity\n",
    "\n",
    "For a given mass of moist air $m_{air}$, specific humidity is the ratio of the mass of water vapor $m_w$ to the mass of dry air $m_{dry\\ air}$. \n",
    "\n",
    "$$SH = \\frac{m_w}{m_{dry\\ air}}$$\n",
    "\n",
    "From Dalton's law, the mole fraction of a species in an ideal gas is proportional to it's partial pressure. $M_{w} = 18.01$ is the molar mass of water, and $M_{air} = 28.97$ is the molar mass of air. This gives\n",
    "\n",
    "$$SH = \\frac{M_w P_w}{M_{air} (P_T - P_w)}$$\n",
    "\n",
    "where $P_w$ is the partial pressure of water in the moist air, and $P_T$ is total moist air pressure. The maximum specific humidity occurs when $P_w = P^{sat}_w(T)$ which gives us a simple formula\n",
    "\n",
    "$$SH_{max} = \\frac{M_w}{M_{air}} \\frac{P^{sat}_w(T)}{(P_T - P^{sat}_w(T))}$$"
   ]
  },
  {
   "cell_type": "code",
   "execution_count": 11,
   "metadata": {
    "collapsed": false
   },
   "outputs": [
    {
     "data": {
      "image/png": "[encoded data removed]",
      "text/plain": [
       "<matplotlib.figure.Figure at 0x10819b410>"
      ]
     },
     "metadata": {},
     "output_type": "display_data"
    }
   ],
   "source": [
    "T = np.linspace(0.0,80.0)\n",
    "Mw = 18.01\n",
    "Ma = 28.97\n",
    "P = 760.0\n",
    "\n",
    "def SH(T):\n",
    "    return Mw*Psat('water',T)/(Ma*(P-Psat('water',T)))\n",
    "\n",
    "plt.plot(T, map(SH,T))\n",
    "plt.title('Maximum Humidity Ratio kg_w/kg_air')\n",
    "plt.xlabel('Temperature [deg C]')\n",
    "plt.grid()"
   ]
  },
  {
   "cell_type": "markdown",
   "metadata": {
    "collapsed": true
   },
   "source": [
    "## Exercises\n",
    "Use the data and functions demonstrated above to solve the answer the following questions. "
   ]
  },
  {
   "cell_type": "markdown",
   "metadata": {},
   "source": [
    "#### Problem 1.\n",
    "A clothes dryer has a medium temperature setting of 135 degrees F and a high temperature setting of 150 degrees F.  A load of clothes takes 45 minutes to dry on the high setting with an inlet temperature of 70 degrees F. Assuming the inlet and outlet air streams are saturated with water vapor, how long will it take to dry clothes on the medium temperature setting?"
   ]
  },
  {
   "cell_type": "code",
   "execution_count": null,
   "metadata": {
    "collapsed": true
   },
   "outputs": [],
   "source": []
  },
  {
   "cell_type": "markdown",
   "metadata": {},
   "source": [
    "#### Problem 2.\n",
    "An empty 5000 gallon reactor is initially purged with dry nitrogen gas at one atmosphere pressure. The reactor is then slowly filled with pure hexane at 25 degrees C. Assuming the partial pressure of hexane is at the saturation pressure of hexane, how much hexane vapor is released in the process of filling the tank?"
   ]
  },
  {
   "cell_type": "code",
   "execution_count": 12,
   "metadata": {
    "collapsed": false
   },
   "outputs": [
    {
     "name": "stdout",
     "output_type": "stream",
     "text": [
      "0.199266553529\n",
      "154.154745469\n"
     ]
    }
   ],
   "source": [
    "# Volume of the tank in liters\n",
    "V = 5000.0*3.785\n",
    "\n",
    "# Gas constant in liter-atm/K gmol\n",
    "R = 0.08205\n",
    "\n",
    "# Partial pressure of hexane in atm\n",
    "P = Psat('n-hexane',25)/760.0\n",
    "print P\n",
    "\n",
    "n = P*V/(R*(25.0+273.15))\n",
    "print n\n"
   ]
  },
  {
   "cell_type": "markdown",
   "metadata": {
    "collapsed": true
   },
   "source": [
    "#### Problem 3.\n",
    "\n",
    "Ethanol is blended into gasoline feedstocks at 10 vol%.  (That is, 1 liter of ethanol is blended with 9 liters of gasoline feedstock). Assume gasoline feedstock has the same chemical properties as n-heptane ($C_7H_{16}$). \n",
    "\n",
    "* What is the mole fraction of ethanol in the blended mixture?\n",
    "* On a hot day the temperature in the fuel tank can reach 40 degC. Assuming a vapor-liquid equilibrium is established, what is the composition (nitrogen, oxygen, ethanol, and heptane) of the vapor in the fuel tank?\n",
    "* Calculate the temperature and vapor composition at the bubble point of this blend.                    "
   ]
  },
  {
   "cell_type": "code",
   "execution_count": 13,
   "metadata": {
    "collapsed": false
   },
   "outputs": [
    {
     "name": "stdout",
     "output_type": "stream",
     "text": [
      "\n",
      "Mole fraction ethanol (gasoline blend) =  0.218213669642\n",
      "Mole fraction n-heptane (gasoline blend) =  0.781786330358\n",
      "\n",
      "Mole fraction ethanol (vapor) =  0.0384810648393\n",
      "Mole fraction n-heptane (vapor) =  0.0951545087371\n",
      "Mole fraction nitrogen =  0.684427896875\n",
      "Mole fraction oxygen =  0.181936529549\n"
     ]
    }
   ],
   "source": [
    "rho = {}\n",
    "rho['ethanol'] = 0.789\n",
    "rho['n-heptane'] = 0.684\n",
    "\n",
    "MW = {}\n",
    "MW['ethanol'] = 46.01\n",
    "MW['n-heptane'] = 100.2\n",
    "\n",
    "nE = rho['ethanol']*1.0/MW['ethanol']\n",
    "nH = rho['n-heptane']*9.0/MW['n-heptane']\n",
    "\n",
    "xE = nE/(nE + nH)\n",
    "xH = nH/(nE + nH)\n",
    "\n",
    "print\n",
    "print \"Mole fraction ethanol (gasoline blend) = \", xE\n",
    "print \"Mole fraction n-heptane (gasoline blend) = \", xH\n",
    "\n",
    "T = 40.0\n",
    "P = 760.0\n",
    "\n",
    "yE = xE*Psat('ethanol',T)/P\n",
    "yH = xH*Psat('n-heptane',T)/P\n",
    "\n",
    "print\n",
    "print \"Mole fraction ethanol (vapor) = \", yE\n",
    "print \"Mole fraction n-heptane (vapor) = \", yH\n",
    "\n",
    "yN = (1-yE-yH)/(1 + 0.21/0.79)\n",
    "yO = (0.21/0.79)*yN\n",
    "\n",
    "print \"Mole fraction nitrogen = \", yN\n",
    "print \"Mole fraction oxygen = \", yO\n"
   ]
  },
  {
   "cell_type": "code",
   "execution_count": null,
   "metadata": {
    "collapsed": true
   },
   "outputs": [],
   "source": []
  }
 ],
 "metadata": {
  "kernelspec": {
   "display_name": "Python 2",
   "language": "python",
   "name": "python2"
  },
  "language_info": {
   "codemirror_mode": {
    "name": "ipython",
    "version": 2
   },
   "file_extension": ".py",
   "mimetype": "text/x-python",
   "name": "python",
   "nbconvert_exporter": "python",
   "pygments_lexer": "ipython2",
   "version": "2.7.10"
  }
 },
 "nbformat": 4,
 "nbformat_minor": 0
}
