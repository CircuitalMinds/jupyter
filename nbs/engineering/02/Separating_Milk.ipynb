{
 "cells": [
  {
   "cell_type": "markdown",
   "metadata": {},
   "source": [
    "# Separating Milk\n",
    "\n",
    "by Jeffrey Kantor  (jeff at nd.edu). The latest version of this notebook is available at [https://github.com/jckantor/CBE20255](https://github.com/jckantor/CBE20255). \n",
    "\n",
    "### Summary\n",
    "\n",
    "This example describes a situation where the material balances and problem specifications do not result in a unique solution. Instead, there is at least one degree of freedom that must be resolved by further considerations. In this case, those considerations include the testing for physically meaningful answers, and to maximize a business objective. What you should learn from this example -\n",
    "\n",
    "* Degrees of freedom may remain after all of the material balance and process specifications have are satisfied.\n",
    "* The importance of testing for feasible solutions.\n",
    "* How to use a degree of freedom to maximize a process objective."
   ]
  },
  {
   "cell_type": "markdown",
   "metadata": {},
   "source": [
    "## Problem Statement"
   ]
  },
  {
   "cell_type": "markdown",
   "metadata": {},
   "source": [
    "A dairy processor can separate raw milk into a number of commodity products, each with a price determined by the spot market. An example of commodity prices and product specifications is given in this table.\n",
    "\n",
    "<div style=\"float: right; margin: 10px; width: 200px; font-size: 80%; line-height: 120%;\">\n",
    "<a href=\"http://www.pieralisi.com/Viewdoc?co_id=766\">\n",
    "<img src=\"http://www.pieralisi.com/media/immagini/065_665_mcs_5_g.jpg\" alt=\"Milk Separator\">\n",
    "</a><br>\n",
    "A commercial milk separator manufactured by  <a href=\"http://www.pieralisi.com/Viewdoc?co_id=1\" >Gruppo Pieralsi</a>. \n",
    "</div>\n",
    "<table>\n",
    "<thead><td> Component </td><td> Fat (wt%) </td><td> Non-fat Solids (wt%) </td><td> Price </td></thead>\n",
    "<tr><td> Raw Milk </td><td> 3.85 </td><td> 8.85 </td><td>   </td></tr>\n",
    "<tr><td> Regular Milk </td><td> 3.25 </td><td> 8.25 </td><td> 21.48 \\$/cwt </td></tr>\n",
    "<tr><td> Skim Milk </td><td> 0.10 </td><td> 8.25 </td><td> 16.01 \\$/cwt </td></tr>\n",
    "<tr><td> Nonfat Dry Milk </td><td> 0.0 </td><td> 100.0 </td><td> 1.95 \\$/lb </td></tr>\n",
    "<tr><td> Butterfat </td><td> 100 </td><td> 0.0 </td><td> 1.77 \\$/lb </td></tr>\n",
    "</table>\n",
    "\n",
    "Suppose a source can provide 5000 lb/hour of raw whole milk containing 3.85 wt% fat, and 8.85 wt% non-fat solids. The processor can produce a slate of products consisting of regular milk, skim milk, non-fat dry milk, and butterfat in whatever quantities are needed. Specify the product flows that maximize the revenue returned by this operation. What is the highest price the processor can pay for raw milk and still generate a positive cash flow?\n",
    "\n",
    "(See [here](http://www.dailydairyreport.com/) for more background on the diary industry.)\n"
   ]
  },
  {
   "cell_type": "markdown",
   "metadata": {},
   "source": [
    "## Solution"
   ]
  },
  {
   "cell_type": "code",
   "execution_count": 1,
   "metadata": {
    "collapsed": false
   },
   "outputs": [],
   "source": [
    "%matplotlib inline\n",
    "import sympy as sym\n",
    "sym.init_printing()"
   ]
  },
  {
   "cell_type": "markdown",
   "metadata": {},
   "source": [
    "### Define Streams\n",
    "\n",
    "The first step is to label the streams, and create mass flow variables corresponding to each stream."
   ]
  },
  {
   "cell_type": "code",
   "execution_count": 2,
   "metadata": {
    "collapsed": false
   },
   "outputs": [
    {
     "data": {
      "image/png": "[encoded data removed]",
      "text/latex": [
       "$$\\left [ M_{1}, \\quad M_{2}, \\quad M_{3}, \\quad M_{4}, \\quad M_{5}\\right ]$$"
      ],
      "text/plain": [
       "[M₁, M₂, M₃, M₄, M₅]"
      ]
     },
     "execution_count": 2,
     "metadata": {},
     "output_type": "execute_result"
    }
   ],
   "source": [
    "sym.var(['M1','M2','M3','M4','M5'])"
   ]
  },
  {
   "cell_type": "code",
   "execution_count": 3,
   "metadata": {
    "collapsed": false
   },
   "outputs": [
    {
     "data": {
      "text/plain": [
       "{M1: 'Raw Milk',\n",
       " M2: 'Regular Milk Product',\n",
       " M3: 'Skim Milk Product',\n",
       " M4: 'Nonfat Dry Milk Product',\n",
       " M5: 'Butterfat Product'}"
      ]
     },
     "execution_count": 3,
     "metadata": {},
     "output_type": "execute_result"
    }
   ],
   "source": [
    "prods = {};\n",
    "prods[M1] = \"Raw Milk\"\n",
    "prods[M2] = \"Regular Milk Product\"\n",
    "prods[M3] = \"Skim Milk Product\"\n",
    "prods[M4] = \"Nonfat Dry Milk Product\"\n",
    "prods[M5] = \"Butterfat Product\"\n",
    "prods"
   ]
  },
  {
   "cell_type": "markdown",
   "metadata": {},
   "source": [
    "### Material Balances"
   ]
  },
  {
   "cell_type": "code",
   "execution_count": 4,
   "metadata": {
    "collapsed": false
   },
   "outputs": [
    {
     "name": "stdout",
     "output_type": "stream",
     "text": [
      "Eq(M1, M2 + M3 + M4 + M5)\n",
      "Eq(0.0385*M1, 0.0325*M2 + 0.001*M3 + 1.0*M5)\n",
      "Eq(0.0885*M1, 0.0825*M2 + 0.0825*M3 + 1.0*M4)\n"
     ]
    }
   ],
   "source": [
    "mbal = [\n",
    "    sym.Eq(M1, M2 + M3 + M4 + M5),\n",
    "    sym.Eq(0.0385*M1, 0.0325*M2 + 0.001*M3 + 0*M4 + 1.00*M5),\n",
    "    sym.Eq(0.0885*M1, 0.0825*M2 + 0.0825*M3 + 1.00*M4 + 0*M5)\n",
    "]\n",
    "\n",
    "for m in mbal:\n",
    "    print(m)"
   ]
  },
  {
   "cell_type": "markdown",
   "metadata": {},
   "source": [
    "### Specifications"
   ]
  },
  {
   "cell_type": "code",
   "execution_count": 5,
   "metadata": {
    "collapsed": false
   },
   "outputs": [],
   "source": [
    "specs = [\n",
    "    sym.Eq(M1, 5000)\n",
    "]"
   ]
  },
  {
   "cell_type": "markdown",
   "metadata": {},
   "source": [
    "### Finding Feasible Solutions to the Material Balances"
   ]
  },
  {
   "cell_type": "code",
   "execution_count": 6,
   "metadata": {
    "collapsed": false
   },
   "outputs": [
    {
     "name": "stdout",
     "output_type": "stream",
     "text": [
      "M4 : 0.0899182561307902*M5 + 32.6975476839237\n",
      "M3 : 30.6215129103412*M5 - 986.116517451667\n",
      "M2 : -31.711431166472*M5 + 5953.41896976774\n",
      "M1 : 5000.00000000000\n"
     ]
    }
   ],
   "source": [
    "soln = sym.solve(specs + mbal)\n",
    "\n",
    "for m in soln.keys():\n",
    "    print(m, \":\", soln[m])"
   ]
  },
  {
   "cell_type": "markdown",
   "metadata": {},
   "source": [
    "Let's repeat this step, this time specifying precisely which variables to solve for. The solutions will be found in terms of the remaining variables of the problem."
   ]
  },
  {
   "cell_type": "code",
   "execution_count": 7,
   "metadata": {
    "collapsed": false
   },
   "outputs": [
    {
     "name": "stdout",
     "output_type": "stream",
     "text": [
      "M1 : 5000.00000000000\n",
      "M2 : -31.711431166472*M5 + 5953.41896976774\n",
      "M3 : 30.6215129103412*M5 - 986.116517451667\n",
      "M4 : 0.0899182561307902*M5 + 32.6975476839237\n"
     ]
    }
   ],
   "source": [
    "soln = sym.solve(specs + mbal,[M1,M2,M3,M4])\n",
    "\n",
    "for m in soln.keys():\n",
    "    print(m, \":\", soln[m])"
   ]
  },
  {
   "cell_type": "markdown",
   "metadata": {},
   "source": [
    "What are the feasible values of $M_5$?"
   ]
  },
  {
   "cell_type": "code",
   "execution_count": 8,
   "metadata": {
    "collapsed": false
   },
   "outputs": [
    {
     "data": {
      "image/png": "[encoded data removed]",
      "text/plain": [
       "<Figure size 432x288 with 1 Axes>"
      ]
     },
     "metadata": {},
     "output_type": "display_data"
    },
    {
     "name": "stdout",
     "output_type": "stream",
     "text": [
      "[187.737315875614]\n"
     ]
    }
   ],
   "source": [
    "sym.plot(M2.subs(soln),(M5,0,200))\n",
    "print(sym.solve(M2.subs(soln),M5))"
   ]
  },
  {
   "cell_type": "code",
   "execution_count": 9,
   "metadata": {
    "collapsed": false
   },
   "outputs": [
    {
     "data": {
      "image/png": "[encoded data removed]",
      "text/plain": [
       "<Figure size 432x288 with 1 Axes>"
      ]
     },
     "metadata": {},
     "output_type": "display_data"
    },
    {
     "name": "stdout",
     "output_type": "stream",
     "text": [
      "[32.2033898305085]\n"
     ]
    }
   ],
   "source": [
    "sym.plot(M3.subs(soln),(M5,0,200))\n",
    "print(sym.solve(M3.subs(soln),M5))"
   ]
  },
  {
   "cell_type": "code",
   "execution_count": 10,
   "metadata": {
    "collapsed": false,
    "scrolled": true
   },
   "outputs": [
    {
     "data": {
      "image/png": "[encoded data removed]",
      "text/plain": [
       "<Figure size 432x288 with 1 Axes>"
      ]
     },
     "metadata": {},
     "output_type": "display_data"
    },
    {
     "name": "stdout",
     "output_type": "stream",
     "text": [
      "[-363.636363636364]\n"
     ]
    }
   ],
   "source": [
    "sym.plot(M4.subs(soln),(M5,0,200))\n",
    "print(sym.solve(M4.subs(soln),M5))"
   ]
  },
  {
   "cell_type": "code",
   "execution_count": 11,
   "metadata": {
    "collapsed": true
   },
   "outputs": [],
   "source": [
    "M5_max = sym.solve(M2.subs(soln))[0]\n",
    "M5_min = sym.solve(M3.subs(soln))[0]"
   ]
  },
  {
   "cell_type": "markdown",
   "metadata": {},
   "source": [
    "### Finding a Solution to Maximize Revenue"
   ]
  },
  {
   "cell_type": "code",
   "execution_count": 12,
   "metadata": {
    "collapsed": false
   },
   "outputs": [
    {
     "name": "stdout",
     "output_type": "stream",
     "text": [
      "0.0362294018424814*M5 + 1184.67735824575\n"
     ]
    }
   ],
   "source": [
    "Revenue = 21.48*M2.subs(soln)/100.0 \\\n",
    "          + 16.01*M3.subs(soln)/100.0 \\\n",
    "          + 1.95*M4.subs(soln) \\\n",
    "          + 1.77*M5\n",
    "\n",
    "print(Revenue)"
   ]
  },
  {
   "cell_type": "code",
   "execution_count": 13,
   "metadata": {
    "collapsed": false
   },
   "outputs": [
    {
     "data": {
      "image/png": "[encoded data removed]",
      "text/plain": [
       "<Figure size 432x288 with 1 Axes>"
      ]
     },
     "metadata": {},
     "output_type": "display_data"
    },
    {
     "data": {
      "text/plain": [
       "<sympy.plotting.plot.Plot at 0x1162a8668>"
      ]
     },
     "execution_count": 13,
     "metadata": {},
     "output_type": "execute_result"
    }
   ],
   "source": [
    "sym.plot(Revenue,(M5,M5_min,M5_max))"
   ]
  },
  {
   "cell_type": "code",
   "execution_count": 14,
   "metadata": {
    "collapsed": false
   },
   "outputs": [
    {
     "name": "stdout",
     "output_type": "stream",
     "text": [
      "M1 :   5000.0 lb/hr  Raw Milk\n",
      "M2 :   4932.2 lb/hr  Regular Milk Product\n",
      "M3 :      0.0 lb/hr  Skim Milk Product\n",
      "M4 :     35.6 lb/hr  Nonfat Dry Milk Product\n",
      "M5 :     32.2 lb/hr  Butterfat Product\n"
     ]
    }
   ],
   "source": [
    "opt = [sym.Eq(M5_min,M5)]\n",
    "\n",
    "soln = sym.solve(mbal + specs + opt)\n",
    "\n",
    "for m in soln.keys():\n",
    "    print(\"{0:2s} : {1:8.1f} lb/hr  {2}\".format(str(m), soln[m], str(prods[m])))"
   ]
  },
  {
   "cell_type": "markdown",
   "metadata": {},
   "source": [
    "Revenue and Milk Price Calculations"
   ]
  },
  {
   "cell_type": "code",
   "execution_count": 15,
   "metadata": {
    "collapsed": false
   },
   "outputs": [
    {
     "name": "stdout",
     "output_type": "stream",
     "text": [
      "   Maximum Revenue = $ 1185.84/hr\n",
      "Max Raw Milk Price = $    0.24/lb\n"
     ]
    }
   ],
   "source": [
    "print(\"   Maximum Revenue = ${0:8.2f}/hr\".format(Revenue.subs(soln)))\n",
    "print(\"Max Raw Milk Price = ${0:8.2f}/lb\".format(Revenue.subs(soln)/5000.0))"
   ]
  },
  {
   "cell_type": "code",
   "execution_count": null,
   "metadata": {
    "collapsed": false
   },
   "outputs": [],
   "source": []
  }
 ],
 "metadata": {
  "kernelspec": {
   "display_name": "Python 3",
   "language": "python",
   "name": "python3"
  },
  "language_info": {
   "codemirror_mode": {
    "name": "ipython",
    "version": 3
   },
   "file_extension": ".py",
   "mimetype": "text/x-python",
   "name": "python",
   "nbconvert_exporter": "python",
   "pygments_lexer": "ipython3",
   "version": "3.6.5"
  }
 },
 "nbformat": 4,
 "nbformat_minor": 2
}
