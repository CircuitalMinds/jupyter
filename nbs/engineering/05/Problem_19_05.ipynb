{
 "cells": [
  {
   "cell_type": "markdown",
   "metadata": {},
   "source": [
    "# Problem 19.5"
   ]
  },
  {
   "cell_type": "code",
   "execution_count": null,
   "metadata": {},
   "outputs": [],
   "source": []
  },
  {
   "cell_type": "code",
   "execution_count": 1,
   "metadata": {},
   "outputs": [
    {
     "name": "stdout",
     "output_type": "stream",
     "text": [
      "1 Set Declarations\n",
      "    constraints_index : Dim=0, Dimen=1, Size=3, Domain=None, Ordered=False, Bounds=None\n",
      "        [1, 2, 3]\n",
      "\n",
      "2 Var Declarations\n",
      "    x : Size=1, Index=None\n",
      "        Key  : Lower : Value : Upper : Fixed : Stale : Domain\n",
      "        None :     0 :   0.0 :  None : False : False : NonNegativeReals\n",
      "    y : Size=1, Index=None\n",
      "        Key  : Lower : Value            : Upper : Fixed : Stale : Domain\n",
      "        None :     0 : 14634.1463414634 :  None : False : False : NonNegativeReals\n",
      "\n",
      "1 Objective Declarations\n",
      "    objective : Size=1, Index=None, Active=True\n",
      "        Key  : Active : Sense    : Expression\n",
      "        None :   True : maximize : 3*x + 2*y\n",
      "\n",
      "1 Constraint Declarations\n",
      "    constraints : Size=3, Index=constraints_index, Active=True\n",
      "        Key : Lower : Body            : Upper   : Active\n",
      "          1 :  -Inf :  0.7*x + 0.41*y :  6000.0 :   True\n",
      "          2 :  -Inf : 0.06*x + 0.09*y :  2400.0 :   True\n",
      "          3 :  -Inf :  0.24*x + 0.5*y : 12000.0 :   True\n",
      "\n",
      "5 Declarations: x y constraints_index constraints objective\n"
     ]
    }
   ],
   "source": [
    "from pyomo.environ import *\n",
    "\n",
    "model = ConcreteModel()\n",
    "\n",
    "model.x = Var(domain=NonNegativeReals)\n",
    "model.y = Var(domain=NonNegativeReals)\n",
    "\n",
    "profit = 3*model.x + 2*model.y\n",
    "\n",
    "model.constraints = ConstraintList()\n",
    "model.constraints.add(0.70*model.x + 0.41*model.y <=  6000)\n",
    "model.constraints.add(0.06*model.x + 0.09*model.y <=  2400)\n",
    "model.constraints.add(0.24*model.x + 0.50*model.y <= 12000)\n",
    "\n",
    "model.objective = Objective(expr=profit, sense=maximize)\n",
    "\n",
    "SolverFactory('glpk').solve(model)\n",
    "model.pprint()"
   ]
  },
  {
   "cell_type": "code",
   "execution_count": 2,
   "metadata": {},
   "outputs": [
    {
     "name": "stdout",
     "output_type": "stream",
     "text": [
      "Optimum Feed Rate of Crude 1 = 0.0 bbl/day\n",
      "Optimum Feed Rate of Crude 2 = 14634.15 bbl/day\n"
     ]
    }
   ],
   "source": [
    "print('Optimum Feed Rate of Crude 1 =', round(model.x(),2), 'bbl/day')\n",
    "print('Optimum Feed Rate of Crude 2 =', round(model.y(),2), 'bbl/day')\n"
   ]
  },
  {
   "cell_type": "code",
   "execution_count": 5,
   "metadata": {},
   "outputs": [
    {
     "name": "stdout",
     "output_type": "stream",
     "text": [
      "Profit per day = $ 29268.29 per day\n"
     ]
    }
   ],
   "source": [
    "print('Profit per day = $', round(profit(),2), 'per day')"
   ]
  },
  {
   "cell_type": "code",
   "execution_count": null,
   "metadata": {},
   "outputs": [],
   "source": []
  }
 ],
 "metadata": {
  "kernelspec": {
   "display_name": "Python 3",
   "language": "python",
   "name": "python3"
  },
  "language_info": {
   "codemirror_mode": {
    "name": "ipython",
    "version": 3
   },
   "file_extension": ".py",
   "mimetype": "text/x-python",
   "name": "python",
   "nbconvert_exporter": "python",
   "pygments_lexer": "ipython3",
   "version": "3.6.4"
  }
 },
 "nbformat": 4,
 "nbformat_minor": 2
}
