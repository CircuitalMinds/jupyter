{
 "cells": [
  {
   "cell_type": "code",
   "execution_count": 25,
   "metadata": {},
   "outputs": [
    {
     "name": "stdout",
     "output_type": "stream",
     "text": [
      "# ==========================================================\n",
      "# = Solver Results                                         =\n",
      "# ==========================================================\n",
      "# ----------------------------------------------------------\n",
      "#   Problem Information\n",
      "# ----------------------------------------------------------\n",
      "Problem: \n",
      "- Name: unknown\n",
      "  Lower bound: 2400.0\n",
      "  Upper bound: 2400.0\n",
      "  Number of objectives: 1\n",
      "  Number of constraints: 4\n",
      "  Number of variables: 3\n",
      "  Number of nonzeros: 6\n",
      "  Sense: maximize\n",
      "# ----------------------------------------------------------\n",
      "#   Solver Information\n",
      "# ----------------------------------------------------------\n",
      "Solver: \n",
      "- Status: ok\n",
      "  Termination condition: optimal\n",
      "  Statistics: \n",
      "    Branch and bound: \n",
      "      Number of bounded subproblems: 1\n",
      "      Number of created subproblems: 1\n",
      "  Error rc: 0\n",
      "  Time: 0.01452493667602539\n",
      "# ----------------------------------------------------------\n",
      "#   Solution Information\n",
      "# ----------------------------------------------------------\n",
      "Solution: \n",
      "- number of solutions: 0\n",
      "  number of solutions displayed: 0\n",
      "\n",
      "joe 0.0\n",
      "mary 80.0\n"
     ]
    }
   ],
   "source": [
    "from pyomo.environ import *\n",
    "\n",
    "# create model\n",
    "model = ConcreteModel()\n",
    "\n",
    "# set\n",
    "\n",
    "PRODUCTS = ['toy A', 'toy B']\n",
    "\n",
    "# declare variables\n",
    "model.x = Var(['joe','mary'], domain=NonNegativeIntegers)\n",
    "\n",
    "# declare objective\n",
    "model.profit = Objective(expr = 40*model.x['to'] + 30*model.x['mary'], sense=maximize)\n",
    "\n",
    "# declare constraints\n",
    "model.cons = ConstraintList()\n",
    "model.cons.add(model.x['joe'] <= 40)\n",
    "model.cons.add(2*model.x['joe'] + model.x['mary'] <= 80.5)\n",
    "model.cons.add(model.x['joe'] + model.x['mary'] <= 100)\n",
    "\n",
    "# specify solver\n",
    "solver = SolverFactory('glpk')\n",
    "\n",
    "# solve\n",
    "results = solver.solve(model)\n",
    "\n",
    "# display resuls\n",
    "results.write()\n",
    "print()\n",
    "\n",
    "for k in ['joe','mary']:\n",
    "    print(k, model.x[k]())"
   ]
  },
  {
   "cell_type": "code",
   "execution_count": 26,
   "metadata": {},
   "outputs": [
    {
     "name": "stdout",
     "output_type": "stream",
     "text": [
      "2 Set Declarations\n",
      "    cons_index : Dim=0, Dimen=1, Size=3, Domain=None, Ordered=False, Bounds=None\n",
      "        [1, 2, 3]\n",
      "    x_index : Dim=0, Dimen=1, Size=2, Domain=None, Ordered=False, Bounds=None\n",
      "        ['joe', 'mary']\n",
      "\n",
      "1 Var Declarations\n",
      "    x : Size=2, Index=x_index\n",
      "        Key  : Lower : Value : Upper : Fixed : Stale : Domain\n",
      "         joe :     0 :   0.0 :  None : False : False : NonNegativeIntegers\n",
      "        mary :     0 :  80.0 :  None : False : False : NonNegativeIntegers\n",
      "\n",
      "1 Objective Declarations\n",
      "    profit : Size=1, Index=None, Active=True\n",
      "        Key  : Active : Sense    : Expression\n",
      "        None :   True : maximize : 40*x[joe] + 30*x[mary]\n",
      "\n",
      "1 Constraint Declarations\n",
      "    cons : Size=3, Index=cons_index, Active=True\n",
      "        Key : Lower : Body               : Upper : Active\n",
      "          1 :  -Inf :             x[joe] :  40.0 :   True\n",
      "          2 :  -Inf : 2*x[joe] + x[mary] :  80.5 :   True\n",
      "          3 :  -Inf :   x[joe] + x[mary] : 100.0 :   True\n",
      "\n",
      "5 Declarations: x_index x profit cons_index cons\n"
     ]
    }
   ],
   "source": [
    "model.pprint()"
   ]
  },
  {
   "cell_type": "code",
   "execution_count": null,
   "metadata": {},
   "outputs": [],
   "source": []
  }
 ],
 "metadata": {
  "kernelspec": {
   "display_name": "Python 3",
   "language": "python",
   "name": "python3"
  },
  "language_info": {
   "codemirror_mode": {
    "name": "ipython",
    "version": 3
   },
   "file_extension": ".py",
   "mimetype": "text/x-python",
   "name": "python",
   "nbconvert_exporter": "python",
   "pygments_lexer": "ipython3",
   "version": "3.6.4"
  }
 },
 "nbformat": 4,
 "nbformat_minor": 2
}
