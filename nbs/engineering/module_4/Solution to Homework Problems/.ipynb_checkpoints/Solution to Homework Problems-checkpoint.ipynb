{
 "cells": [
  {
   "cell_type": "markdown",
   "metadata": {
    "collapsed": true
   },
   "source": [
    "# Solution to Homework Problems\n",
    "\n",
    "by Jeffrey Kantor  (jeff at nd.edu). The latest version of this notebook is available at [https://github.com/jckantor/CBE30338](https://github.com/jckantor/CBE30338).\n",
    "\n",
    "All of the problems for this week's assignment have been consolidated into this notebook.  The purpose of this was to make it is easier to submit and grade assignments by keeping all of the parts in one place (this notebook) and available through one interface (Vocareum).  For questions that require no Python programming, simply type your results into a markdown cell. "
   ]
  },
  {
   "cell_type": "markdown",
   "metadata": {},
   "source": [
    "## 1. [5 pts] Semiconducter Heater (adapted from problem 5.2, SEMD) \n",
    "\n",
    "A heater for a semiconductor wafer has first-order dynamics that can be modeled by the differential equation\n",
    "\n",
    "$$\\tau \\frac{dT}{dt} + (T-T_{amb}) =  KP(t)$$\n",
    "\n",
    "where $\\tau$ is time constant with units of minutes, and $K$ is a constant with units $^\\circ C$ per kilowatt. $T_{ref}$ is an ambient temperature which has not been included in the report to you. The process is at steady state when an engineer changes the power input from 1.0 to 1.5 kilowatt. The engineer notes the following:\n",
    "\n",
    "* The initial process temperature is 80$^\\circ C$.\n",
    "* The process temperature is 230$^\\circ C$ four minutes after changing the power input.\n",
    "* Thirty minutes later the temperture is 280$^\\circ C$ where it remains as the new steady state.\n",
    "\n",
    "**a.** What are the values of $\\tau$ and $K$?\n",
    "\n",
    "**b.** It is desired to put the model equation into standard state-space form\n",
    "\n",
    "$$\\frac{dx}{dt} = a\\,x + b\\,u$$ \n",
    "\n",
    "where $x$ corresponds to process temperature $T - T_{amb}$, and $u$ to process power. Express $a$ and $b$ algebraiclly in term of the $\\tau$ and $K$, and find numerical values using the results of part (a).\n"
   ]
  },
  {
   "cell_type": "markdown",
   "metadata": {},
   "source": [
    "### Solution\n",
    "\n",
    "Write your answer in this and subsequent cells. This problem doesn't necessarily require Python coding, so feel free to simply edit and write your answer here if that meets your needs."
   ]
  },
  {
   "cell_type": "markdown",
   "metadata": {},
   "source": [
    "#### Part a. [3 pts]\n",
    "\n",
    "Begin by considering the steady state relationship between $T$ and $P$,\n",
    "\n",
    "$$T - T_{amb} = K P$$\n",
    "\n",
    "Assuming the system is at steady state at $t=0$ and again at $t=30$. The initial and final conditions therefore provide two equations\n",
    "\n",
    "$$\\begin{align*}\n",
    "80 - T_{amb} & = K \\cdot 1.0  \\\\\n",
    "280 - T_{amb} & = K \\cdot 1.5\n",
    "\\end{align*}$$\n",
    "\n",
    "which can be solved for $T_{amb}$ and $K$.\n",
    "\n",
    "$$\\begin{align*}\n",
    "K & = \\frac{280 - 80}{1.5 - 1.0} = \\fbox{400 deg C per kW} \\\\\n",
    "T_{amb} & = 80 - 1.0\\cdot K = -320\\text{ deg C}\n",
    "\\end{align*}$$\n",
    "\n",
    "The large negative value for $T_{amb}$ could be explained by process features that are not included in the brief problem description, such as heat loss via an exit stream.\n",
    "\n",
    "Next, given a step input, the relationship of the transient response $T(t) - T_0$ to the ultimate response $T(\\infty)-T_0$ for a first-order system is given by\n",
    "\n",
    "$$T(t) - T(\\infty) = \\left(T_0 - T(\\infty)\\right) e^{-t/\\tau}$$\n",
    "\n",
    "Solving for $\\tau$\n",
    "\n",
    "$$\\tau = \\frac{t}{\\ln\\frac{T_0 - T(\\infty)}{T(t)-T(\\infty)}} = \\fbox{2.89 minutes}$$\n",
    "\n",
    "This problem can be solved analytically and the numerical results found with a calculator. Below we show these calculations using Python as our calculator."
   ]
  },
  {
   "cell_type": "code",
   "execution_count": 1,
   "metadata": {
    "collapsed": false
   },
   "outputs": [
    {
     "name": "stdout",
     "output_type": "stream",
     "text": [
      "Process gain K = 400.00 deg C/kw\n",
      "Process time constant tau = 2.89 minutes\n"
     ]
    }
   ],
   "source": [
    "from math import log\n",
    "\n",
    "# Solution, Part a.\n",
    "\n",
    "# From the steady state analysis\n",
    "DT = 280 - 80\n",
    "DP = 1.5 - 1.0\n",
    "\n",
    "K = DT/DP\n",
    "print('Process gain K = {0:.2f} deg C/kw'.format(K))\n",
    "\n",
    "tau = 4/log((80-280)/(230-280))\n",
    "print('Process time constant tau = {0:.2f} minutes'.format(tau))"
   ]
  },
  {
   "cell_type": "markdown",
   "metadata": {},
   "source": [
    "##### Part b. [2 pts]\n",
    "\n",
    "Taking the starting model, and dividing each term by $\\tau$ gives\n",
    "\n",
    "$$\\frac{dT}{dt} = \\frac{-1}{\\tau} (T-T_{amb}) + \\frac{K}{\\tau} P$$\n",
    "\n",
    "where state variable $x = T - T_{amb}$. Comparing the state space model in standard form, we see\n",
    "\n",
    "$$\\begin{align*}\n",
    "a & = \\frac{-1}{\\tau} = \\fbox{-0.3466 1/min}\\\\\n",
    "b & = \\frac{K}{\\tau} = \\fbox{138.6 deg C/kW-min}\n",
    "\\end{align*}$$\n"
   ]
  },
  {
   "cell_type": "code",
   "execution_count": 2,
   "metadata": {
    "collapsed": false
   },
   "outputs": [
    {
     "name": "stdout",
     "output_type": "stream",
     "text": [
      "a = -0.3466\n",
      "b = 138.6294\n"
     ]
    },
    {
     "data": {
      "text/plain": [
       "400.0"
      ]
     },
     "execution_count": 2,
     "metadata": {},
     "output_type": "execute_result"
    }
   ],
   "source": [
    "# Solution, Part b.\n",
    "\n",
    "a = -1/tau\n",
    "b = K/tau\n",
    "\n",
    "print(\"a = {0:.4f}\".format(a))\n",
    "print(\"b = {0:.4f}\".format(b))\n",
    "\n",
    "-b/a"
   ]
  },
  {
   "cell_type": "markdown",
   "metadata": {},
   "source": [
    "##### Further calculations \n",
    "This following calculations are not a required part of the solution but are included here for completeness.  The cells shows the solution of the model differential equations using the constant values found above. "
   ]
  },
  {
   "cell_type": "code",
   "execution_count": 3,
   "metadata": {
    "collapsed": false
   },
   "outputs": [
    {
     "data": {
      "text/plain": [
       "<matplotlib.text.Text at 0x110864b00>"
      ]
     },
     "execution_count": 3,
     "metadata": {},
     "output_type": "execute_result"
    },
    {
     "data": {
      "image/png": "[encoded data removed]",
      "text/plain": [
       "<matplotlib.figure.Figure at 0x10674cfd0>"
      ]
     },
     "metadata": {},
     "output_type": "display_data"
    }
   ],
   "source": [
    "%matplotlib inline\n",
    "import numpy as np\n",
    "import matplotlib.pyplot as plt\n",
    "from scipy.integrate import odeint\n",
    "\n",
    "t = np.linspace(0,30)\n",
    "P = 1.5\n",
    "\n",
    "def Tderiv(x,t):\n",
    "    return -x/tau + K*P/tau\n",
    "\n",
    "sol = odeint(Tderiv, 80 -(-320), t)\n",
    "plt.plot(t,sol-320)\n",
    "\n",
    "plt.plot(4,230,'r.',ms=20)\n",
    "plt.plot(30,280,'r.',ms=20)\n",
    "plt.plot(plt.xlim(),[80,80],'g--')\n",
    "plt.plot(plt.xlim(),[280,280],'g--')\n",
    "plt.plot([plt.xlim()[0],4,4],[230,230,plt.ylim()[0]],'r--')\n",
    "\n",
    "plt.xlabel('Time [min]')\n",
    "plt.ylabel('Temperature [deg C]')"
   ]
  },
  {
   "cell_type": "markdown",
   "metadata": {},
   "source": [
    "## 2. [5 pts] Second Order Process (Adapted from SEMD 5.14)\n",
    "\n",
    "A device actuated by compressed air experiences a step change in air pressure from 15 to 31 psig. The response is shown in the following diagram.\n",
    "\n",
    "![](SEMD Figure E5-14.png)\n",
    "\n",
    "A model differential equation is written\n",
    "\n",
    "$$\\tau^2\\frac{d^2R'}{dt^2} + 2\\zeta\\tau\\frac{dR'}{dt} + R' = K u(t)$$\n",
    "\n",
    "where $R'(t)$ represents the difference between $R(t)$ and the initial value of 8mm, and $u(t)$ is the diffence in air pressure from an initial steady state value of 15.\n",
    "\n",
    "**a.** Use Figure 5.11 of your textbook (reproduced here) to estimate values for the time constant $\\tau$, the damping coefficient $\\zeta$, and process gain $K$.\n",
    "\n",
    "![](SEMD Figure F5-11.png)\n",
    "\n",
    "**b.** Using the results of part a, and the formulas 5-52 to 5-55, calculate values for time to first peak ($t_p$), overshoot (OS), decay ratio, and period of oscillation. How do they match the step response diagram?"
   ]
  },
  {
   "cell_type": "markdown",
   "metadata": {},
   "source": [
    "### Solution\n",
    "\n",
    "Write your answer in this and subsequent cells. This problem doesn't necessarily require Python coding, so feel free to simply edit and write your answer here if that meets your needs."
   ]
  },
  {
   "cell_type": "markdown",
   "metadata": {},
   "source": [
    "##### Part a. [3 pts]\n",
    "\n",
    "For the solution of part a, we use the plot of the system response to determine the fraction overshoot and period."
   ]
  },
  {
   "cell_type": "code",
   "execution_count": 4,
   "metadata": {
    "collapsed": false
   },
   "outputs": [
    {
     "name": "stdout",
     "output_type": "stream",
     "text": [
      "Overshoot = 0.469\n",
      "Period = 2.30 seconds\n"
     ]
    }
   ],
   "source": [
    "# estimate overshoot from chart\n",
    "overshoot = (12.7 - 11.2)/(11.2-8)\n",
    "print('Overshoot = {0:.3f}'.format(overshoot))\n",
    "\n",
    "# estimate period from chart\n",
    "period = 2.3\n",
    "print('Period = {0:.2f} seconds'.format(period))"
   ]
  },
  {
   "cell_type": "markdown",
   "metadata": {},
   "source": [
    "Next we use the Figure 5.11 to estimate the damping factor $\\zeta$ and the time constant $\\tau$.  The system gain $K$ is determined from the steady state response."
   ]
  },
  {
   "cell_type": "code",
   "execution_count": 5,
   "metadata": {
    "collapsed": false
   },
   "outputs": [
    {
     "data": {
      "text/plain": [
       "(0.19999999999999996, 0.3550746780380185, 0.2)"
      ]
     },
     "execution_count": 5,
     "metadata": {},
     "output_type": "execute_result"
    }
   ],
   "source": [
    "# steady state process gain\n",
    "K = (11.2-8)/(31-15)\n",
    "\n",
    "# estimate damping factor zeta and tau from chart\n",
    "zeta = 0.2\n",
    "tau = 0.97*period/(2*np.pi)\n",
    "\n",
    "(K,tau,zeta)"
   ]
  },
  {
   "cell_type": "markdown",
   "metadata": {},
   "source": [
    "##### Part b. [2 pts]\n",
    "\n",
    "For an underdamped second order system, the desired performance metrics are given by the following by formulas in the following table.\n",
    "\n",
    "| Quantity | Symbol | Expression/Value|\n",
    "| :-: | :-: | :-: |\n",
    "| Time to first peak | $t_p$ | $\\frac{\\pi\\tau}{\\sqrt{1-\\zeta^2}}$ |\n",
    "| Overshoot | OS | $\\exp\\left(-\\frac{\\pi\\zeta}{\\sqrt{1-\\zeta^2}}\\right)$ |\n",
    "| Decay Ratio | DR | $\\exp\\left(-\\frac{2\\pi\\zeta}{\\sqrt{1-\\zeta^2}}\\right)$ |\n",
    "| Period |  | $\\frac{2\\pi\\tau}{\\sqrt{1-\\zeta^2}}$ |"
   ]
  },
  {
   "cell_type": "code",
   "execution_count": 6,
   "metadata": {
    "collapsed": false
   },
   "outputs": [
    {
     "name": "stdout",
     "output_type": "stream",
     "text": [
      "Time to first peak = 1.14\n",
      "Overshoot = 0.53\n",
      "Decay Ratio = 0.28\n",
      "Period = 2.28\n"
     ]
    }
   ],
   "source": [
    "tp = np.pi*tau/np.sqrt(1-zeta**2)\n",
    "os = np.exp(-np.pi*zeta/np.sqrt(1-zeta**2))\n",
    "dr = os**2\n",
    "pd = 2*np.pi*tau/np.sqrt(1-zeta**2)\n",
    "\n",
    "print('Time to first peak = {0:.2f}'.format(tp))\n",
    "print('Overshoot = {0:.2f}'.format(os))\n",
    "print('Decay Ratio = {0:.2f}'.format(dr))\n",
    "print('Period = {0:.2f}'.format(pd))"
   ]
  },
  {
   "cell_type": "markdown",
   "metadata": {},
   "source": [
    "##### Further Calculations\n",
    "\n",
    "The following calculations are not a required part of the problem solution.  \n",
    "\n",
    "The standard model for a second order process is given by\n",
    "\n",
    "$$\\tau^2\\frac{d^2R'}{dt^2} + 2\\zeta\\tau\\frac{dR'}{dt} + R' = K u(t)$$\n",
    "\n",
    "For simulation we'll define $S'$ as $\\frac{dR'}{dt}$ which leaves a pair of first order differential equations\n",
    "\n",
    "$$\\begin{align*}\n",
    "\\frac{dR'}{dt} & = S' \\\\\n",
    "\\frac{dS'}{dt} & = -\\frac{1}{\\tau^2}R' - \\frac{2\\zeta}{\\tau}S' + \\frac{K}{\\tau^2}u(t)\n",
    "\\end{align*}$$\n",
    "\n",
    "The following interactive simulation allow"
   ]
  },
  {
   "cell_type": "code",
   "execution_count": 7,
   "metadata": {
    "collapsed": false
   },
   "outputs": [
    {
     "data": {
      "text/plain": [
       "<function __main__.simulation>"
      ]
     },
     "execution_count": 7,
     "metadata": {},
     "output_type": "execute_result"
    },
    {
     "data": {
      "image/png": "[encoded data removed]",
      "text/plain": [
       "<matplotlib.figure.Figure at 0x110f5f6d8>"
      ]
     },
     "metadata": {},
     "output_type": "display_data"
    }
   ],
   "source": [
    "%matplotlib inline\n",
    "import numpy as np\n",
    "import matplotlib.pyplot as plt\n",
    "from scipy.integrate import odeint\n",
    "from ipywidgets import interact\n",
    "\n",
    "t = np.linspace(0,8,1000)\n",
    "u = 31-15;\n",
    "\n",
    "def simulation(zeta = zeta, tau = tau):\n",
    "\n",
    "    def deriv(X,t):\n",
    "        R,S = X\n",
    "        Rdot = S\n",
    "        Sdot = -R/tau/tau - 2*zeta*S/tau + K*u/tau/tau\n",
    "        return[Rdot,Sdot]\n",
    "\n",
    "    sol = odeint(deriv, [0,0], t)\n",
    "    R = 8 + sol[:,0]\n",
    "    plt.plot(t,R)\n",
    "\n",
    "    plt.xlabel('Time [sec]')\n",
    "    plt.ylabel('R')\n",
    "    plt.ylim(7,14)\n",
    "\n",
    "    plt.plot(plt.xlim(),[11.2,11.2],'g--')\n",
    "\n",
    "    # plot peak \n",
    "    plt.plot(plt.xlim(),[R.max(),R.max()],'g--')\n",
    "    plt.text(np.mean(plt.xlim()),R.max()+0.05,\"Peak = {0:0.2f}\".format(R.max()), ha='center')\n",
    "    \n",
    "    \n",
    "    # plot time to first peak\n",
    "    tp = t[np.where(R==R.max())[0][0]]\n",
    "    plt.plot([tp,tp],[plt.ylim()[0],R.max()],'g--')\n",
    "    plt.text(tp,8,' Time to first peak = {0:.2f}'.format(tp))\n",
    "\n",
    "    # find positive-going zero crossings\n",
    "    idx = np.where(np.diff(np.sign(R-11.2))>0)[0]\n",
    "    t0 = t[idx[0]]\n",
    "    t1 = t[idx[1]]\n",
    "    plt.plot([t0,t0],[9.5,11.2],'g--')\n",
    "    plt.plot([t1,t1],[9.5,11.2],'g--')\n",
    "    plt.plot([t0,t1],[10,10],'g--')\n",
    "    plt.text((t0+t1)/2,10.05,'Period = {0:.2f}'.format(t1-t0), ha='center')\n",
    "    \n",
    "interact(simulation,zeta=(0,1.2,0.001), tau = (0.1,0.5,0.001))"
   ]
  },
  {
   "cell_type": "markdown",
   "metadata": {},
   "source": [
    "## 3. [10 pts] Modeling and Simulation of Interacting Tanks\n",
    "\n",
    "The following diagram shows a pair of interacting tanks.\n",
    "\n",
    "![](Problem 3.png)\n",
    "\n",
    "Assume the pressure driven flow into and out of the tanks is linearly proportional to tank levels. The steady state flowrate through the tanks is 3 cubic ft per minute, the steady state heights are 7 and 3 feet, respectively, and a constant cross-sectional area 5 sq. ft. The equations are written as\n",
    "\n",
    "$$\\begin{align*}\n",
    "\\frac{dh_1}{dt} & = \\frac{F_0}{A_1} - \\frac{\\beta_1}{A_1}\\left(h_1-h_2\\right) \\\\\n",
    "\\frac{dh_2}{dt} & = \\frac{\\beta_1}{A_2}\\left(h_1-h_2\\right) - \\frac{\\beta_2}{A_2}h_2\n",
    "\\end{align*}$$\n",
    "\n",
    "**a.** Use the problem data to determine values for all constants in the model equations.\n",
    "\n",
    "**b.** Construct a Phython simulation using `odeint`, and show a plot of the tank levels as function of time starting with an initial condition $h_1(0)=6$ and $h_2(0)$ = 5. Is this an overdamped or underdamped system."
   ]
  },
  {
   "cell_type": "markdown",
   "metadata": {},
   "source": [
    "### Solution\n",
    "\n",
    "Write your answer in this and subsequent cells."
   ]
  },
  {
   "cell_type": "markdown",
   "metadata": {},
   "source": [
    "##### Part a. [2 pts]\n",
    "\n",
    "The parameters that need to be determined are $\\beta_1$ and $\\beta_2$. At steady state all of the flows must be identical and\n",
    "\n",
    "$$\\begin{align*}\n",
    "0 & = F_0 - \\beta_1(h_1 - h_2) \\\\\n",
    "0 & = \\beta_1(h_1 - h_2) - \\beta_2h_2 \n",
    "\\end{align*}$$\n",
    "\n",
    "Substituting problem data,\n",
    "\n",
    "$$\\beta_1 = \\frac{F_0}{h_1-h_2} = \\frac{3\\text{ cu.ft./min}}{4\\text{ ft}} = 0.75\\text{ sq.ft./min}$$ \n",
    "\n",
    "$$\\beta_2 = \\frac{\\beta_1(h_1 - h_2)}{h_2} = \\frac{3\\text{ cu.ft./min}}{3\\text{ ft}} = 1.0\\text{ sq.ft./min}$$ "
   ]
  },
  {
   "cell_type": "markdown",
   "metadata": {},
   "source": [
    "##### Part b. [8 pts]\n",
    "\n",
    "The next step is perform a simulation from a specified initial condition. "
   ]
  },
  {
   "cell_type": "code",
   "execution_count": 8,
   "metadata": {
    "collapsed": false
   },
   "outputs": [
    {
     "data": {
      "text/plain": [
       "<matplotlib.text.Text at 0x11089d048>"
      ]
     },
     "execution_count": 8,
     "metadata": {},
     "output_type": "execute_result"
    },
    {
     "data": {
      "image/png": "[encoded data removed]",
      "text/plain": [
       "<matplotlib.figure.Figure at 0x10674c358>"
      ]
     },
     "metadata": {},
     "output_type": "display_data"
    }
   ],
   "source": [
    "%matplotlib inline\n",
    "import numpy as np\n",
    "import matplotlib.pyplot as plt\n",
    "from scipy.integrate import odeint\n",
    "from ipywidgets import interact\n",
    "\n",
    "# simulation time grid\n",
    "t = np.linspace(0,30,1000)\n",
    "\n",
    "# initial condition\n",
    "IC = [6,5]\n",
    "\n",
    "# inlet flowrate\n",
    "F0 = 3\n",
    "\n",
    "# parameters for tank 1 \n",
    "A1 = 5\n",
    "beta1 = 0.75\n",
    "\n",
    "# parameters for tank 2\n",
    "A2 = 5\n",
    "beta2 = 1.0\n",
    "\n",
    "def hderiv(H,t):\n",
    "    h1,h2 = H\n",
    "    h1dot = (F0 - beta1*(h1-h2))/A1\n",
    "    h2dot = (beta1*(h1-h2) - beta2*h2)/A2\n",
    "    return [h1dot,h2dot]\n",
    "\n",
    "sol = odeint(hderiv,IC,t)\n",
    "plt.plot(t,sol)\n",
    "plt.ylim(0,8)\n",
    "plt.grid()\n",
    "plt.xlabel('Time [min]')\n",
    "plt.ylabel('Level [ft]')"
   ]
  },
  {
   "cell_type": "markdown",
   "metadata": {},
   "source": [
    "##### Further Calculations\n",
    "\n",
    "$$\\frac{d}{dt}\\left[\\begin{array}{c} h_1 \\\\ h_2 \\end{array}\\right] = \n",
    "\\left[\\begin{array}{cc}-\\frac{\\beta_1}{A_1} & \\frac{\\beta_1}{A_1} \\\\\n",
    "\\frac{\\beta_1}{A_2} & -\\frac{\\beta_1}{A_2} - \\frac{\\beta_2}{A_2} \\end{array}\\right]\n",
    "\\left[\\begin{array}{c}h_1 \\\\ h_2\\end{array}\\right]\n",
    "+\n",
    "\\left[\\begin{array}{c}\\frac{1}{A_1} \\\\ 0\\end{array}\\right]F_0$$"
   ]
  },
  {
   "cell_type": "code",
   "execution_count": null,
   "metadata": {
    "collapsed": true
   },
   "outputs": [],
   "source": []
  }
 ],
 "metadata": {
  "anaconda-cloud": {},
  "kernelspec": {
   "display_name": "Python [conda root]",
   "language": "python",
   "name": "conda-root-py"
  },
  "language_info": {
   "codemirror_mode": {
    "name": "ipython",
    "version": 3
   },
   "file_extension": ".py",
   "mimetype": "text/x-python",
   "name": "python",
   "nbconvert_exporter": "python",
   "pygments_lexer": "ipython3",
   "version": "3.5.2"
  }
 },
 "nbformat": 4,
 "nbformat_minor": 1
}
