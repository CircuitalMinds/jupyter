{
 "cells": [
  {
   "cell_type": "markdown",
   "metadata": {},
   "source": [
    "# Formatting Mathematics in Jupyter Notebooks\n",
    "\n",
    "One of the very useful features of Jupyter notebooks is the ability to incorporate mathematics in markdown cells. This document provides a very brief introduction to formatting mathematics for Jupyter notebooks using basic Latex notation."
   ]
  },
  {
   "cell_type": "markdown",
   "metadata": {},
   "source": [
    "### Display and Inline Formatting\n",
    "\n",
    "Mathemetical notation can be formatted **inline**, such as $x_i^2$, or **displayed** such as \n",
    "\n",
    "$$ f(x) = \\int_0^\\infty g(x,\\xi) d\\xi$$\n",
    "\n",
    "For inline use formulas are enclosed inside a pair of matching dollar sign symbols *`$...$`*.  For display formulas are enclosed inside a pair of matching double dollar signs symbols *`$$...$$`*.\n",
    "\n",
    "For example, the text \n",
    "\n",
    "    $G(s) = \\frac{s + 1}{s^2 + 3 s + 1}$\n",
    "    \n",
    "renders as $G(s) = \\frac{s + 1}{s^2 + 3 s + 1}$, while the text \n",
    "\n",
    "    $$G(s) = \\frac{s + 1}{s^2 + 3 s + 1}$$\n",
    "\n",
    "renders as $$G(s) = \\frac{s + 1}{s^2 + 3 s + 1}$$"
   ]
  },
  {
   "cell_type": "markdown",
   "metadata": {},
   "source": [
    "### Superscripts and Subscripts\n",
    "\n",
    "Superscripts are prefixed by `^`, subscripts are prefixed by `_`.  Superscripts and subscripts that are more than a single character are delimited by braces `{` and `}`.  For example, `$x^2$` renders as $x^2$, and `$a_{ij}$` renders as $a_{ij}$.  Here are some more examples\n",
    "\n",
    "| String | Rendered |\n",
    "| :----: | :------: |\n",
    "| `$x^2$` | $x^2$ |\n",
    "| `$a_{ij}$` | $a_{ij}$ |\n",
    "    "
   ]
  },
  {
   "cell_type": "code",
   "execution_count": null,
   "metadata": {
    "collapsed": true
   },
   "outputs": [],
   "source": []
  }
 ],
 "metadata": {
  "anaconda-cloud": {},
  "kernelspec": {
   "display_name": "Python [conda root]",
   "language": "python",
   "name": "conda-root-py"
  },
  "language_info": {
   "codemirror_mode": {
    "name": "ipython",
    "version": 3
   },
   "file_extension": ".py",
   "mimetype": "text/x-python",
   "name": "python",
   "nbconvert_exporter": "python",
   "pygments_lexer": "ipython3",
   "version": "3.5.2"
  }
 },
 "nbformat": 4,
 "nbformat_minor": 1
}
