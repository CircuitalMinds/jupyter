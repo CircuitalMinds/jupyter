{
 "cells": [
  {
   "cell_type": "markdown",
   "metadata": {},
   "source": [
    "# Lab Assignment 3: Empirical Model Fitting\n",
    "\n",
    "This lab assignment has two parts ...\n",
    "\n",
    "#### Part 1. Step Testing\n",
    "\n",
    "This you will need to do with the Temperature Control Lab device. Perform two experiments to gather data needed to fit empirical models to the process dynamics. Be sure to save your data to files before leaving the lab.\n",
    "\n",
    "#### Part 2. Model Fitting\n",
    "\n",
    "This can be done outside of the lab. Using the data you collected, you will fit three commonly used models for process dynamics:\n",
    "\n",
    "* First Order\n",
    "* First Order with Deadtime\n",
    "* Overdamped Second Order"
   ]
  },
  {
   "cell_type": "markdown",
   "metadata": {},
   "source": [
    "## Part 1. Step Testing\n",
    "\n",
    "With your TCLab device at ambient conditions, perform two step tests in which heater one is set to 40% and 60% of full power conditions. Save all data to files for later analysis. \n",
    "\n",
    "The following cells provide you with some starter code. You'll need to adapt this starter code to perform the needed experiments.\n",
    "\n",
    "Hints:\n",
    "\n",
    "1. You'll want at least 800 seconds of data.\n",
    "2. Be sure to wait at least 10 minutes between experiments for the device to return to ambient temperature.  You can check temperature with a.T1"
   ]
  },
  {
   "cell_type": "code",
   "execution_count": 11,
   "metadata": {},
   "outputs": [
    {
     "data": {
      "image/png": "[encoded data removed]",
      "text/plain": [
       "<matplotlib.figure.Figure at 0x116353b00>"
      ]
     },
     "metadata": {},
     "output_type": "display_data"
    },
    {
     "name": "stdout",
     "output_type": "stream",
     "text": [
      "TCLab Model disconnected successfully.\n"
     ]
    }
   ],
   "source": [
    "# Sample code for step test. Adjust tfinal and a.U1 as needed\n",
    "\n",
    "from tclab import TCLab, Historian, Plotter, clock\n",
    "\n",
    "tfinal = 10\n",
    "\n",
    "with TCLab() as a:\n",
    "    h = Historian(a.sources)\n",
    "    p = Plotter(h,tfinal)\n",
    "    a.U1 = 40\n",
    "    for t in clock(tfinal):\n",
    "        p.update(t)"
   ]
  },
  {
   "cell_type": "markdown",
   "metadata": {},
   "source": [
    "### Saving and Loading Data"
   ]
  },
  {
   "cell_type": "code",
   "execution_count": 26,
   "metadata": {},
   "outputs": [],
   "source": [
    "# functions to save and load data to a file with name fname\n",
    "\n",
    "def save_history(h, fname):\n",
    "    \"Save historian log to a file.\"\n",
    "    import pandas as pd\n",
    "    df = pd.DataFrame.from_records(h.log, columns=h.columns, index='Time')\n",
    "    df.to_csv(fname)\n",
    "    \n",
    "def load_history(fname):\n",
    "    \"Return historian data from a file.\"\n",
    "    import pandas as pd\n",
    "    return pd.read_csv(fname)"
   ]
  },
  {
   "cell_type": "code",
   "execution_count": 27,
   "metadata": {},
   "outputs": [],
   "source": [
    "# example of saving data\n",
    "\n",
    "save_history(h, 'Step_test.csv')"
   ]
  },
  {
   "cell_type": "code",
   "execution_count": 28,
   "metadata": {},
   "outputs": [],
   "source": [
    "# example of loading data from a file\n",
    "\n",
    "df = load_history('Step_test.csv')\n",
    "t = df['Time'].values\n",
    "T1 = df['T1'].values"
   ]
  },
  {
   "cell_type": "code",
   "execution_count": 29,
   "metadata": {},
   "outputs": [
    {
     "data": {
      "text/plain": [
       "[<matplotlib.lines.Line2D at 0x1149072e8>]"
      ]
     },
     "execution_count": 29,
     "metadata": {},
     "output_type": "execute_result"
    },
    {
     "data": {
      "image/png": "[encoded data removed]",
      "text/plain": [
       "<matplotlib.figure.Figure at 0x110dd3cf8>"
      ]
     },
     "metadata": {},
     "output_type": "display_data"
    }
   ],
   "source": [
    "% matplotlib inline\n",
    "import matplotlib.pyplot as plt\n",
    "\n",
    "plt.plot(t,T1)"
   ]
  },
  {
   "cell_type": "markdown",
   "metadata": {},
   "source": [
    "### Step Test at 40% power\n",
    "\n",
    "In the cell(s) below, add code to perform a step test for 800 seconds at 40% of full power. Save the data to a file for later analysis."
   ]
  },
  {
   "cell_type": "code",
   "execution_count": null,
   "metadata": {},
   "outputs": [],
   "source": []
  },
  {
   "cell_type": "markdown",
   "metadata": {},
   "source": [
    "### Step Test at 60% power\n",
    "\n",
    "In the cell(s) below, add code to perform a step test for 800 seconds at 60% of full power. Save the data to a file for later analysis. (Be sure not to overwrite previously save files.)"
   ]
  },
  {
   "cell_type": "code",
   "execution_count": null,
   "metadata": {},
   "outputs": [],
   "source": []
  },
  {
   "cell_type": "markdown",
   "metadata": {},
   "source": [
    "## Part 2. Fitting Empirical Models\n",
    "\n",
    "For this lab assignment you are to fit three different empirical models to the data gathered in the laboratory. Empirical models are generic descriptions of process dynamics that can be applied to systems for the purpose simulating process behavior. \n",
    "\n",
    "### 2.a First Order\n",
    "\n",
    "A generic linear first-order system can be described by the differential equation\n",
    "\n",
    "$$\\tau \\frac{dy}{dt} + y = K u$$\n",
    "\n",
    "where $\\tau$ is a time constant and $K$ is the steady state time constant. Variable $y$ is the deviation of the process varaible from an initial reference steady-state when $u=0$.\n",
    "\n",
    "As discussed in section 5.2.1 of your textbook, for a step input of magnitude $M$ the response of this system is given by\n",
    "\n",
    "$$y(t) = K M (1-e^{-t/\\tau})$$\n",
    "\n",
    "In the cells below, plot both step responses experimental data. Use Figure 5.3 and the data in Table 5.1, estimate values for $K$ and $\\tau$. Plot the model response. Refine the values of $K$ and $\\tau$ until you find a choice of values that best describes the data."
   ]
  },
  {
   "cell_type": "code",
   "execution_count": null,
   "metadata": {},
   "outputs": [],
   "source": []
  },
  {
   "cell_type": "markdown",
   "metadata": {},
   "source": [
    "### 2.b First Order with Dead-time\n",
    "\n",
    "A commonly used model in the process industries is first-order with dead-time. The dead-time is a parameter $\\theta$ that represents a delay between when an action takes place and the process response. \n",
    "\n",
    "$$y(t) = \\begin{cases}0 & t \\lt \\theta \\\\  K M (1-e^{-(t-\\theta)/\\tau}) &  t \\geq \\theta\\end{cases}$$\n",
    "\n",
    "Repeat the procedure above, but this time including three parameters $K$, $\\tau$ and $\\theta$.  Does this model to a better job of describing the step response?\n",
    "\n",
    "Note: Evaluating this function is a little tricky. The cell below demonstrates how to do this in a few lines of code."
   ]
  },
  {
   "cell_type": "code",
   "execution_count": 46,
   "metadata": {},
   "outputs": [
    {
     "data": {
      "text/plain": [
       "[<matplotlib.lines.Line2D at 0x116ce55f8>]"
      ]
     },
     "execution_count": 46,
     "metadata": {},
     "output_type": "execute_result"
    },
    {
     "data": {
      "image/png": "[encoded data removed]",
      "text/plain": [
       "<matplotlib.figure.Figure at 0x116cad400>"
      ]
     },
     "metadata": {},
     "output_type": "display_data"
    }
   ],
   "source": [
    "# demonstration of how to compute a response with time delay\n",
    "\n",
    "%matplotlib inline\n",
    "import matplotlib.pyplot as plt\n",
    "import numpy as np\n",
    "\n",
    "K = 30                               # gain\n",
    "tau = 80                             # time constant\n",
    "theta = 50                           # time delay\n",
    "T_ambient = 22                       # ambient temperature\n",
    "M = 0.4                              # step input\n",
    "\n",
    "t = np.linspace(0,800)               # time grid\n",
    "\n",
    "y = K*M*(1-np.exp(-(t-theta)/tau))   # model response\n",
    "y[t <= theta] = 0                    # response is zero if t <= theta\n",
    "plt.plot(t, y + T_ambient)           # plot"
   ]
  },
  {
   "cell_type": "code",
   "execution_count": null,
   "metadata": {},
   "outputs": [],
   "source": []
  },
  {
   "cell_type": "markdown",
   "metadata": {},
   "source": [
    "### 2.c Second Order\n",
    "\n",
    "A generic model for an over-damped second-order process is given by equation 5-47 of your textbook. The model is written  \n",
    "\n",
    "$$y(t) = K M (1 - \\frac{\\tau_1e^{-t/\\tau_1} - \\tau_2e^{-t/\\tau_2}}{\\tau_1 - \\tau_2})$$\n",
    "\n",
    "Repeat the procedure above, but this time including three parameters $K$, $\\tau_1$ and $\\tau_2$.  Does this model to a better job of describing the step response?"
   ]
  },
  {
   "cell_type": "code",
   "execution_count": null,
   "metadata": {},
   "outputs": [],
   "source": []
  }
 ],
 "metadata": {
  "kernelspec": {
   "display_name": "Python 3",
   "language": "python",
   "name": "python3"
  },
  "language_info": {
   "codemirror_mode": {
    "name": "ipython",
    "version": 3
   },
   "file_extension": ".py",
   "mimetype": "text/x-python",
   "name": "python",
   "nbconvert_exporter": "python",
   "pygments_lexer": "ipython3",
   "version": "3.6.4"
  }
 },
 "nbformat": 4,
 "nbformat_minor": 2
}
