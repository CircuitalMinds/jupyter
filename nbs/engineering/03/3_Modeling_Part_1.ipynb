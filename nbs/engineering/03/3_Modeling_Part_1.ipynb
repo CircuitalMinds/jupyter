{
 "cells": [
  {
   "cell_type": "markdown",
   "metadata": {},
   "source": [
    "# Modeling the Temperature Control Laboratory: Part 1"
   ]
  },
  {
   "cell_type": "markdown",
   "metadata": {},
   "source": [
    "![](images/arduino_comsol.png)\n",
    "\n",
    "Mathematical modeling is an integral part of process control. The models come in many forms, ranging from the barest of information about a process to sophisticated simulation involving millions of computational nodes.  \n",
    "\n",
    "Our purpose here is to demonstrate certain basic approaches that will provide with insight about the qualitative nature of process dynamics, how to construct simple models from first-principles understanding of the processes, and how to develop models in those circumstances when its not possible to start from first principles.\n",
    "\n",
    "Our first example will be the Temperature Control Laboratory.\n",
    "\n",
    "\n",
    "* First-order lumped model for a single heater/sensor device.\n",
    "* Interacting first-order models for the dual heater/sensor.\n",
    "* Second-order model for a single heater/sensor device.\n",
    "* Interacting second-order model for the dual heater/sensor."
   ]
  },
  {
   "cell_type": "markdown",
   "metadata": {},
   "source": [
    "## First-order lumped model for heater/sensor device.\n",
    "\n",
    "We'll be begin by writing a model for one of the heater/sensor pairs. We will assume the whole heater/sensor pair is at single uniform temperature $T_1$. Then we write a dynamic energy balance\n",
    "\n",
    "\\begin{align}\n",
    "C_p\\frac{dT_1}{dt} & = U_a(T_{amb} - T_1) + P_1u_1 \\\\\n",
    "\\end{align}\n",
    "\n",
    "where $T_1$ is the combined temperature of heater/sensor one, $T_{amb}$ is the ambient temperature of the surroundings, and $u_1$ is a fraction of the maximum heater power $P_1$ being applied. The key parameters are the total heat capacity $C_p$ and the overall heat transfer coefficient with surroundings $U_a$.\n",
    "\n"
   ]
  },
  {
   "cell_type": "markdown",
   "metadata": {},
   "source": [
    "### Steady State\n",
    "\n",
    "We'll begin our analysis by investigating the steady-state response of this system to a steady-state input $\\bar{u}_{1}$.  At steady-state all variables are constant so $\\frac{dT_1}{dt} = 0$, which leaves \n",
    "\n",
    "\\begin{align}\n",
    "0 = U_a(T_{amb} - \\bar{T}_1) + P_1\\bar{u}_{1}\n",
    "\\end{align}\n",
    "\n",
    "Solving for $\\bar{T}_{1}$\n",
    "\n",
    "$$\\bar{T}_{1} = T_{amb} + \\frac{P_1}{U_a}\\bar{u}_{1}$$\n",
    "\n",
    "Next we'll load some experimental data that you can use to estimate the value of $U_a$."
   ]
  },
  {
   "cell_type": "markdown",
   "metadata": {},
   "source": [
    "## Loading previously saved experimental data\n",
    "\n",
    "Previously a step test was performed in which the temperature control laboratory was initially at steady state at an ambient temperature of 21°C. The power to heater 1 was set to 50% for $P_1$ = 4.0 watts. Temperature $T_1$ and $T_2$ were recorded every second for a period of 800 seconds.\n",
    "\n",
    "The data is in a file named \"Step_Test_Data.csv\". The following cell will attempt to read the data from the course github repository and store in a local file."
   ]
  },
  {
   "cell_type": "code",
   "execution_count": 1,
   "metadata": {},
   "outputs": [],
   "source": [
    "import pandas as pd\n",
    "url = \"https://raw.githubusercontent.com/jckantor/CBE30338/master/notebooks/TCLab/Step_Test_Data.csv\"\n",
    "data = pd.read_csv(url)\n",
    "data.to_csv(\"Step_Test_Data.csv\")"
   ]
  },
  {
   "cell_type": "markdown",
   "metadata": {},
   "source": [
    "If that fails to work, then manually download the dat from this link https://github.com/jckantor/CBE30338/blob/master/notebooks/TCLab/Step_Test_Data.csv and save to the same directory as this notebook before proceeding."
   ]
  },
  {
   "cell_type": "code",
   "execution_count": 2,
   "metadata": {},
   "outputs": [
    {
     "data": {
      "image/png": "[encoded data removed]",
      "text/plain": [
       "<matplotlib.figure.Figure at 0x11502e438>"
      ]
     },
     "metadata": {},
     "output_type": "display_data"
    }
   ],
   "source": [
    "%matplotlib inline\n",
    "import pandas as pd\n",
    "import matplotlib.pyplot as plt\n",
    "\n",
    "data = pd.read_csv('Step_Test_Data.csv').set_index('Time')[1:]\n",
    "t = data.index\n",
    "T1 = data['T1'].values\n",
    "T2 = data['T2'].values\n",
    "plt.plot(t,T1,t,T2)\n",
    "plt.xlabel('time / seconds')\n",
    "plt.ylabel('temperture 1 / °C')\n",
    "plt.title('TCLab Step Test Data for P1 = 4.0 watts, u1 = 0.5')\n",
    "plt.legend(['T1','T2'])\n",
    "plt.grid()"
   ]
  },
  {
   "cell_type": "markdown",
   "metadata": {},
   "source": [
    "**Exercise:**  From this step test data and the steady-state analysis described above, estimate the value of $U_a$."
   ]
  },
  {
   "cell_type": "markdown",
   "metadata": {},
   "source": [
    "### Deviation Variables\n",
    "\n",
    "In examining the response of the temperature control laboratory, we see the temperature is a deviation from ambient temperature, i.e.,\n",
    "\n",
    "\\begin{align}\n",
    "T_1' = T_1 - T_{amb}\n",
    "\\end{align}\n",
    "\n",
    "For process control purposes, we are often interested in the deviation of a process variable from a nominal value. In this case the choice of deviation variable is clearly obvious which is designated $T_1'$. From the steady state equation we see\n",
    "\n",
    "\\begin{align}\n",
    "\\bar{T}_1' = \\bar{T}_1 - T_{amb} = \\frac{P_1}{U_a}\\bar{u}_1\n",
    "\\end{align}\n",
    "\n",
    "which is a somewhat simpler expression.\n",
    "\n",
    "Let's see what happens to the transient model. Substituting $T_1 = T_{amb} + T_1'$ into the differential equation gives\n",
    "\n",
    "\\begin{align}\n",
    "C_p\\frac{d(T_{amb}+T_1')}{dt} & = U_a(T_{amb} - (T_{amb} + T_1')) + P_1u_1\n",
    "\\end{align}\n",
    "\n",
    "Expanding these terms\n",
    "\n",
    "\\begin{align}\n",
    "C_p\\underbrace{\\frac{dT_{amb}}{dt}}_{0} + C_p\\frac{dT_1'}{dt} & = U_a(\\underbrace{T_{amb} - T_{amb}}_{0} - T_1') + P_1u_1\n",
    "\\end{align}\n",
    "\n",
    "we see several terms drop out. The derivative of any constant is zero, and see a cancelation on the right hand side, leaving\n",
    "\n",
    "\\begin{align}\n",
    "C_p\\frac{dT_1'}{dt} & = - U_aT_1' + P_1u_1\n",
    "\\end{align}\n",
    "\n",
    "One last manipulation will bring this model into a commonly used standard form\n",
    "\n",
    "\\begin{align}\n",
    "\\frac{dT_1'}{dt} & = - \\frac{U_a}{C_p}T_1' + \\frac{P_1}{C_p}u_1\n",
    "\\end{align}\n",
    "\n",
    "Now let's recall some facts about first order differential equations."
   ]
  },
  {
   "cell_type": "markdown",
   "metadata": {},
   "source": [
    "### First Order Linear Differential Equations\n",
    "\n",
    "A standard form for a single differential equation is\n",
    "\n",
    "\\begin{align}\n",
    "\\frac{dx}{dt} & = ax + bu\n",
    "\\end{align}\n",
    "\n",
    "where $a$ and $b$ are model constants, $x$ is the dependent variable, and $u$ is an exogeneous input.  \n",
    "\n",
    "#### Steady State Response\n",
    "\n",
    "For a constant value $\\bar{u}$, the steady state response $\\bar{x}$ is given by solution to the equation\n",
    "\n",
    "\\begin{align}\n",
    "0 & = a\\bar{x} + b\\bar{u}\n",
    "\\end{align}\n",
    "\n",
    "which is\n",
    "\n",
    "\\begin{align}\n",
    "\\bar{x} & = -\\frac{b}{a} \\bar{u}\n",
    "\\end{align}\n",
    "\n",
    "#### Transient Response\n",
    "\n",
    "The transient response is given by\n",
    "\n",
    "\\begin{align}\n",
    "x(t) & = \\bar{x} + \\left[x(t_0) - \\bar{x}\\right] e^{a(t-t_0)}\n",
    "\\end{align}\n",
    "\n",
    "which is an exact, analytical solution.\n",
    "\n",
    "#### Apply to Model Equation\n",
    "\n",
    "We now apply this textbook solution to the model equation. Comparing equations, we make the following identifications\n",
    "\n",
    "\\begin{align}\n",
    "T_1' \\sim x \\\\\n",
    "-\\frac{U_a}{C_p} \\sim a \\\\\n",
    "\\frac{P_1}{C_p} \\sim b \\\\\n",
    "u_1 \\sim u\n",
    "\\end{align}\n",
    "\n",
    "Substituting these terms into the standard solution we confirm the steady-state solution found above, and provides a solution for the transient response of the deviation variables.\n",
    "\n",
    "\\begin{align}\n",
    "\\bar{x} = -\\frac{b}{a}\\bar{u} \\qquad & \\Rightarrow \\qquad \\bar{T}_{1}' = \\frac{P_1}{U_a}\\bar{u}_{1} \\\\\n",
    "x(t) = \\bar{x} + \\left[x(t_0) - \\bar{x}\\right] e^{a(t-t_0)} \\qquad & \\Rightarrow \\qquad\n",
    "T_1'(t) = \\frac{P_1}{U_a}\\bar{u}_{1} + \\left[T_1'(t_0) - \\frac{P_1}{U_a}\\bar{u}_{1}\\right]e^{-\\frac{U_a}{C_p}(t-t_0)}\n",
    "\\end{align}"
   ]
  },
  {
   "cell_type": "markdown",
   "metadata": {},
   "source": [
    "### Plotting the Analytical Solution\n",
    "\n",
    "The following cell demonstrates use of these results to plot the transient response for a particular choice of model parameters. \n",
    "\n",
    "The steady state analysis provided an estimate for the gross heat transfer coefficient $U_a$. Rerun this cell for different values of gross heat capacity $C_p$. Try to find a value that at least mimics the experimental response shown above."
   ]
  },
  {
   "cell_type": "code",
   "execution_count": 3,
   "metadata": {},
   "outputs": [
    {
     "data": {
      "image/png": "[encoded data removed]",
      "text/plain": [
       "<matplotlib.figure.Figure at 0x11022b630>"
      ]
     },
     "metadata": {},
     "output_type": "display_data"
    }
   ],
   "source": [
    "%matplotlib inline\n",
    "import numpy as np                  # basic package for numerical calculations\n",
    "import matplotlib.pyplot as plt     # plotting package\n",
    "\n",
    "# parameter values and units\n",
    "P1 = 4                 # watts\n",
    "Ua = 0.057             # watts/deg C\n",
    "Cp = 1                 # joules/deg C\n",
    "u1_steadystate = 0.5   # steady state value of u1 (fraction of total power)\n",
    "T_ambient = 21         # ambient temperature\n",
    "\n",
    "# initial conditions\n",
    "T1_deviation_initial = 0\n",
    "\n",
    "# steady state solution\n",
    "T1_deviation_steadystate = P1*u1_steadystate/Ua\n",
    "\n",
    "# compute the transient solution\n",
    "t = np.linspace(0,800)\n",
    "T1_deviation = T1_deviation_steadystate \\\n",
    "     + (T1_deviation_initial - T1_deviation_steadystate)*np.exp(-Ua*t/Cp)\n",
    "\n",
    "# plot\n",
    "plt.plot(t, T1_deviation + T_ambient)\n",
    "plt.xlabel('Time / seconds')\n",
    "plt.ylabel('Temperature / °C')\n",
    "plt.grid()"
   ]
  },
  {
   "cell_type": "markdown",
   "metadata": {},
   "source": [
    "## Matching the Model to Experimental Data\n",
    "\n",
    "The following cell provides an interactive tool for 'tuning' the model to fit the experimental data. Work with the sliders to find good choices for each of the parameters. "
   ]
  },
  {
   "cell_type": "code",
   "execution_count": 4,
   "metadata": {},
   "outputs": [
    {
     "data": {
      "application/vnd.jupyter.widget-view+json": {
       "model_id": "1b5523a533864fb2985d13bf1af4d3cf",
       "version_major": 2,
       "version_minor": 0
      },
      "text/plain": [
       "A Jupyter Widget"
      ]
     },
     "metadata": {},
     "output_type": "display_data"
    },
    {
     "data": {
      "text/plain": [
       "<function __main__.compare>"
      ]
     },
     "execution_count": 4,
     "metadata": {},
     "output_type": "execute_result"
    }
   ],
   "source": [
    "%matplotlib inline\n",
    "import pandas as pd\n",
    "import matplotlib.pyplot as plt\n",
    "\n",
    "data = pd.read_csv('Step_Test_Data.csv').set_index('Time')[1:]\n",
    "t = data.index\n",
    "T1 = data['T1'].values\n",
    "\n",
    "# known parameter values\n",
    "P1 = 4\n",
    "u1_steadystate = 0.5   # steady state value of u1 (fraction of total power)\n",
    "T_ambient = 21         # ambient temperature\n",
    "\n",
    "def compare(Ua, Cp):\n",
    "    T1_deviation_initial = 0\n",
    "    T1_deviation_steadystate = P1*u1_steadystate/Ua\n",
    "    T1_deviation = T1_deviation_steadystate \\\n",
    "         + (T1_deviation_initial - T1_deviation_steadystate)*np.exp(-Ua*t/Cp)\n",
    "    T1_model = T1_deviation + T_ambient\n",
    "    plt.plot(t, T1, t, T1_model)\n",
    "    plt.xlabel('time / seconds')\n",
    "    plt.ylabel('temperture / °C')\n",
    "    plt.grid()\n",
    "    plt.text(200,35,'Sum of errors = ' + str(round(sum(abs(T1_model-T1),2))))\n",
    "    plt.text(200,30,'Ua = ' + str(Ua))\n",
    "    plt.text(200,25,'Cp = ' + str(Cp))\n",
    "\n",
    "from ipywidgets import interact\n",
    "interact(compare, Ua=(0.0,0.10,0.001), Cp=(2.0,11.0))"
   ]
  },
  {
   "cell_type": "markdown",
   "metadata": {},
   "source": [
    "**Exercise:** Determine values for $U_a$ and $C_p$. \n",
    "\n",
    "**Exercise:** The sum of absolute errors is shown on the chart. Try to find values of $U_a$ and $C_p$ that minimize this error criterion. In your opinion, is that the best choice of model parameters? Why or why not?"
   ]
  },
  {
   "cell_type": "markdown",
   "metadata": {},
   "source": [
    "### Does this solution make sense?\n",
    "\n",
    "The parameter values in the above plot were chosen to (at least roughly) reproduce the measured response of temperature control laboratory. The value used for the heat capacity was $C_p = 7$ watts/degC. Is this reasonable?\n",
    "\n",
    "The [specific heat capacity for solids](https://en.wikipedia.org/wiki/Heat_capacity) is typically has values in the range of 0.2 to 0.9 watts/degC/gram. Using a value of 0.9 that is typical of aluminum and plastics used for electronic products, the estimated mass of the heater/sensor pair would be\n",
    "\n",
    "$$ m \\approx \\frac{7 \\mbox{ watts/degC}}{0.9 \\mbox{ watts/degC/grams}} \\approx 8 \\mbox{ grams}$$\n",
    "\n",
    "Does that seem reasonable?"
   ]
  },
  {
   "cell_type": "code",
   "execution_count": null,
   "metadata": {},
   "outputs": [],
   "source": []
  }
 ],
 "metadata": {
  "kernelspec": {
   "display_name": "Python 3",
   "language": "python",
   "name": "python3"
  },
  "language_info": {
   "codemirror_mode": {
    "name": "ipython",
    "version": 3
   },
   "file_extension": ".py",
   "mimetype": "text/x-python",
   "name": "python",
   "nbconvert_exporter": "python",
   "pygments_lexer": "ipython3",
   "version": "3.6.3"
  }
 },
 "nbformat": 4,
 "nbformat_minor": 2
}
