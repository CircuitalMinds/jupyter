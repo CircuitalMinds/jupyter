{
 "cells": [
  {
   "cell_type": "markdown",
   "metadata": {},
   "source": [
    "# Problem 19.4"
   ]
  },
  {
   "cell_type": "markdown",
   "metadata": {},
   "source": [
    "## Solution in Pyomo"
   ]
  },
  {
   "cell_type": "code",
   "execution_count": 41,
   "metadata": {},
   "outputs": [
    {
     "name": "stdout",
     "output_type": "stream",
     "text": [
      "# ==========================================================\n",
      "# = Solver Results                                         =\n",
      "# ==========================================================\n",
      "# ----------------------------------------------------------\n",
      "#   Problem Information\n",
      "# ----------------------------------------------------------\n",
      "Problem: \n",
      "- Lower bound: -inf\n",
      "  Upper bound: inf\n",
      "  Number of objectives: 1\n",
      "  Number of constraints: 1\n",
      "  Number of variables: 1\n",
      "  Sense: unknown\n",
      "# ----------------------------------------------------------\n",
      "#   Solver Information\n",
      "# ----------------------------------------------------------\n",
      "Solver: \n",
      "- Status: ok\n",
      "  Message: Ipopt 3.12.8\\x3a Optimal Solution Found\n",
      "  Termination condition: optimal\n",
      "  Id: 0\n",
      "  Error rc: 0\n",
      "  Time: 0.1290910243988037\n",
      "# ----------------------------------------------------------\n",
      "#   Solution Information\n",
      "# ----------------------------------------------------------\n",
      "Solution: \n",
      "- number of solutions: 0\n",
      "  number of solutions displayed: 0\n",
      "1 Set Declarations\n",
      "    constraints_index : Dim=0, Dimen=1, Size=1, Domain=None, Ordered=False, Bounds=None\n",
      "        [1]\n",
      "\n",
      "1 Var Declarations\n",
      "    P : Size=1, Index=None\n",
      "        Key  : Lower : Value             : Upper : Fixed : Stale : Domain\n",
      "        None :     0 : 3856.931625223105 :  None : False : False : NonNegativeReals\n",
      "\n",
      "1 Objective Declarations\n",
      "    objective : Size=1, Index=None, Active=True\n",
      "        Key  : Active : Sense    : Expression\n",
      "        None :   True : minimize : 400000 + 800*P**0.7 + 15000000 * ( 14 + 2.0*P**0.4 ) / P\n",
      "\n",
      "1 Constraint Declarations\n",
      "    constraints : Size=1, Index=constraints_index, Active=True\n",
      "        Key : Lower : Body                             : Upper  : Active\n",
      "          1 :  -Inf : 300000 * ( 14 + 2.0*P**0.4 ) / P : 7680.0 :   True\n",
      "\n",
      "4 Declarations: P constraints_index constraints objective\n"
     ]
    }
   ],
   "source": [
    "from pyomo.environ import *\n",
    "\n",
    "model = ConcreteModel()\n",
    "model.P = Var(domain=NonNegativeReals)\n",
    "\n",
    "# time per batch\n",
    "tprod = 2.0*model.P**0.4\n",
    "tnonprod = 14\n",
    "tbatch = tprod + tnonprod\n",
    "\n",
    "# number of batches required per year\n",
    "nbatches = 300000/model.P\n",
    "\n",
    "# costs\n",
    "material_cost = 400000\n",
    "storage_cost = 800*model.P**0.7\n",
    "operating_cost = 50*tbatch*nbatches\n",
    "costs = material_cost + storage_cost + operating_cost\n",
    "\n",
    "# constraints\n",
    "model.constraints = ConstraintList()\n",
    "model.constraints.add(nbatches*tbatch <= 320*24)\n",
    "model.objective = Objective(expr = costs, sense=minimize)\n",
    "\n",
    "SolverFactory('ipopt').solve(model).write()\n",
    "model.pprint()"
   ]
  },
  {
   "cell_type": "code",
   "execution_count": 29,
   "metadata": {},
   "outputs": [
    {
     "name": "stdout",
     "output_type": "stream",
     "text": [
      "Size per batch = 3856.93 lbs.\n",
      "Batches per year = 77.8\n",
      "Production time per batch = 54.39 hrs\n",
      "Total time per batch = 68.39 hrs\n",
      "Total time per year = 221.65 days\n",
      "\n",
      "Cost Analysis\n",
      " Material costs = $ 400000\n",
      "  Storage costs = $ 259095\n",
      "Operating costs = $ 265979\n",
      "    Total costs = $ 925075\n"
     ]
    }
   ],
   "source": [
    "P = model.P()\n",
    "print('Size per batch =', round(P,2), 'lbs.')\n",
    "print('Batches per year =', round(nbatches(),1))\n",
    "\n",
    "print('Production time per batch =', round(tprod(),2), 'hrs')\n",
    "print('Total time per batch =', round(tbatch(),2), 'hrs')\n",
    "print('Total time per year =', round(tbatch()*nbatches()/24,2), 'days')\n",
    "\n",
    "print('\\nCost Analysis')\n",
    "print(' Material costs = $', material_cost)\n",
    "print('  Storage costs = $', round(storage_cost()))\n",
    "print('Operating costs = $', round(operating_cost()))\n",
    "print('    Total costs = $', round(costs()))"
   ]
  },
  {
   "cell_type": "markdown",
   "metadata": {},
   "source": [
    "## Graphical Analysis"
   ]
  },
  {
   "cell_type": "code",
   "execution_count": 40,
   "metadata": {},
   "outputs": [
    {
     "data": {
      "text/plain": [
       "[<matplotlib.lines.Line2D at 0x11eac09b0>]"
      ]
     },
     "execution_count": 40,
     "metadata": {},
     "output_type": "execute_result"
    },
    {
     "data": {
      "image/png": "[encoded data removed]",
      "text/plain": [
       "<matplotlib.figure.Figure at 0x11ea5c0b8>"
      ]
     },
     "metadata": {},
     "output_type": "display_data"
    }
   ],
   "source": [
    "%matplotlib inline\n",
    "import matplotlib.pyplot as plt\n",
    "import numpy as np\n",
    "\n",
    "P = np.linspace(1000,5000)\n",
    "\n",
    "# time per batch\n",
    "tprod = 2.0*P**0.4\n",
    "tnonprod = 14\n",
    "tbatch = tprod + tnonprod\n",
    "\n",
    "# number of batches required per year\n",
    "nbatches = 300000/P\n",
    "\n",
    "# costs\n",
    "material_cost = 400000\n",
    "storage_cost = 800*P**0.7\n",
    "operating_cost = 50*tbatch*nbatches\n",
    "variable_costs = storage_cost + operating_cost\n",
    "\n",
    "plt.subplot(2,1,1)\n",
    "plt.plot(P, variable_costs, P, storage_cost, P, operating_cost)\n",
    "\n",
    "plt.subplot(2,1,2)\n",
    "plt.plot(P, nbatches*tbatch)\n",
    "plt.plot([min(P),max(P)], [320*24, 320*24])"
   ]
  },
  {
   "cell_type": "code",
   "execution_count": null,
   "metadata": {},
   "outputs": [],
   "source": []
  }
 ],
 "metadata": {
  "kernelspec": {
   "display_name": "Python 3",
   "language": "python",
   "name": "python3"
  },
  "language_info": {
   "codemirror_mode": {
    "name": "ipython",
    "version": 3
   },
   "file_extension": ".py",
   "mimetype": "text/x-python",
   "name": "python",
   "nbconvert_exporter": "python",
   "pygments_lexer": "ipython3",
   "version": "3.6.4"
  }
 },
 "nbformat": 4,
 "nbformat_minor": 2
}
