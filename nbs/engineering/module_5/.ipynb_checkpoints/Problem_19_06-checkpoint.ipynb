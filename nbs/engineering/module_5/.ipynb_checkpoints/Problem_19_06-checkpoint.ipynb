{
 "cells": [
  {
   "cell_type": "markdown",
   "metadata": {},
   "source": [
    "# Problem 19.6"
   ]
  },
  {
   "cell_type": "code",
   "execution_count": 47,
   "metadata": {},
   "outputs": [
    {
     "name": "stdout",
     "output_type": "stream",
     "text": [
      "# ==========================================================\n",
      "# = Solver Results                                         =\n",
      "# ==========================================================\n",
      "# ----------------------------------------------------------\n",
      "#   Problem Information\n",
      "# ----------------------------------------------------------\n",
      "Problem: \n",
      "- Name: unknown\n",
      "  Lower bound: 28000.0\n",
      "  Upper bound: 28000.0\n",
      "  Number of objectives: 1\n",
      "  Number of constraints: 11\n",
      "  Number of variables: 6\n",
      "  Number of nonzeros: 20\n",
      "  Sense: maximize\n",
      "# ----------------------------------------------------------\n",
      "#   Solver Information\n",
      "# ----------------------------------------------------------\n",
      "Solver: \n",
      "- Status: ok\n",
      "  Termination condition: optimal\n",
      "  Statistics: \n",
      "    Branch and bound: \n",
      "      Number of bounded subproblems: 0\n",
      "      Number of created subproblems: 0\n",
      "  Error rc: 0\n",
      "  Time: 0.015202999114990234\n",
      "# ----------------------------------------------------------\n",
      "#   Solution Information\n",
      "# ----------------------------------------------------------\n",
      "Solution: \n",
      "- number of solutions: 0\n",
      "  number of solutions displayed: 0\n",
      "3 Set Declarations\n",
      "    massbal_index : Dim=0, Dimen=1, Size=2, Domain=None, Ordered=False, Bounds=None\n",
      "        [1, 2]\n",
      "    spec_index : Dim=0, Dimen=1, Size=8, Domain=None, Ordered=False, Bounds=None\n",
      "        [1, 2, 3, 4, 5, 6, 7, 8]\n",
      "    x_index : Dim=0, Dimen=1, Size=5, Domain=None, Ordered=False, Bounds=(1, 5)\n",
      "        [1, 2, 3, 4, 5]\n",
      "\n",
      "1 Var Declarations\n",
      "    x : Size=5, Index=x_index\n",
      "        Key : Lower : Value            : Upper : Fixed : Stale : Domain\n",
      "          1 :     0 : 1333.33333333333 :  None : False : False : NonNegativeReals\n",
      "          2 :     0 :            800.0 :  None : False : False : NonNegativeReals\n",
      "          3 :     0 : 533.333333333333 :  None : False : False : NonNegativeReals\n",
      "          4 :     0 :            400.0 :  None : False : False : NonNegativeReals\n",
      "          5 :     0 :            400.0 :  None : False : False : NonNegativeReals\n",
      "\n",
      "1 Objective Declarations\n",
      "    objective : Size=1, Index=None, Active=True\n",
      "        Key  : Active : Sense    : Expression\n",
      "        None :   True : maximize :  - 40*x[1] + 50*x[2] + 70*x[4] + 40*x[5] - 2*x[1]\n",
      "\n",
      "2 Constraint Declarations\n",
      "    massbal : Size=2, Index=massbal_index, Active=True\n",
      "        Key : Lower : Body               : Upper : Active\n",
      "          1 :   0.0 : x[1] - x[2] - x[3] :   0.0 :   True\n",
      "          2 :   0.0 : x[2] - x[4] - x[5] :   0.0 :   True\n",
      "    spec : Size=8, Index=spec_index, Active=True\n",
      "        Key : Lower : Body            : Upper  : Active\n",
      "          1 :   0.0 : x[3] - 0.4*x[1] :    0.0 :   True\n",
      "          2 :  -Inf : 0.5*x[2] - x[4] :    0.0 :   True\n",
      "          3 :  -Inf : x[4] - 0.7*x[2] :    0.0 :   True\n",
      "          4 :  -Inf : 0.3*x[2] - x[5] :    0.0 :   True\n",
      "          5 :  -Inf : x[5] - 0.5*x[2] :    0.0 :   True\n",
      "          6 : 200.0 :            x[4] :   +Inf :   True\n",
      "          7 :  -Inf :            x[4] :  400.0 :   True\n",
      "          8 :  -Inf :            x[1] : 2000.0 :   True\n",
      "\n",
      "7 Declarations: x_index x massbal_index massbal spec_index spec objective\n"
     ]
    }
   ],
   "source": [
    "from pyomo.environ import *\n",
    "\n",
    "model = ConcreteModel()\n",
    "streams = [1, 2, 3, 4, 5]\n",
    "model.x = Var(streams, domain=NonNegativeReals)\n",
    "\n",
    "# material balances\n",
    "model.massbal = ConstraintList()\n",
    "model.massbal.add(0 == model.x[1] - model.x[2] - model.x[3])\n",
    "model.massbal.add(0 == model.x[2] - model.x[4] - model.x[5])\n",
    "\n",
    "# specifications\n",
    "model.spec = ConstraintList()\n",
    "model.spec.add(model.x[3] == 0.4*model.x[1])\n",
    "model.spec.add(0.5*model.x[2] <= model.x[4])\n",
    "model.spec.add(0.7*model.x[2] >= model.x[4])\n",
    "model.spec.add(0.3*model.x[2] <= model.x[5])\n",
    "model.spec.add(0.5*model.x[2] >= model.x[5])\n",
    "model.spec.add(model.x[4] >= 200)\n",
    "model.spec.add(model.x[4] <= 400)\n",
    "model.spec.add(model.x[1] <= 2000)\n",
    "\n",
    "# profit objective\n",
    "profit = -40*model.x[1] + 50*model.x[2] + \\\n",
    "          70*model.x[4] + 40*model.x[5] -2*model.x[1]\n",
    "model.objective = Objective(expr=profit, sense=maximize)\n",
    "\n",
    "results = SolverFactory('glpk').solve(model)\n",
    "results.write()\n",
    "model.pprint()"
   ]
  },
  {
   "cell_type": "code",
   "execution_count": 44,
   "metadata": {},
   "outputs": [
    {
     "name": "stdout",
     "output_type": "stream",
     "text": [
      "Flow x[ 1 ] = 1333.33 bbls/day\n",
      "Flow x[ 2 ] = 800.0 bbls/day\n",
      "Flow x[ 3 ] = 533.33 bbls/day\n",
      "Flow x[ 4 ] = 400.0 bbls/day\n",
      "Flow x[ 5 ] = 400.0 bbls/day\n"
     ]
    }
   ],
   "source": [
    "for s in streams:\n",
    "    print('Flow x[', s, '] =', round(model.x[s](),2), 'bbls/day')"
   ]
  },
  {
   "cell_type": "code",
   "execution_count": null,
   "metadata": {},
   "outputs": [],
   "source": []
  }
 ],
 "metadata": {
  "kernelspec": {
   "display_name": "Python 3",
   "language": "python",
   "name": "python3"
  },
  "language_info": {
   "codemirror_mode": {
    "name": "ipython",
    "version": 3
   },
   "file_extension": ".py",
   "mimetype": "text/x-python",
   "name": "python",
   "nbconvert_exporter": "python",
   "pygments_lexer": "ipython3",
   "version": "3.6.4"
  }
 },
 "nbformat": 4,
 "nbformat_minor": 2
}
