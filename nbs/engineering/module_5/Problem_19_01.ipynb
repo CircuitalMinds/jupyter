{
 "cells": [
  {
   "cell_type": "markdown",
   "metadata": {},
   "source": [
    "# Problem 19.1\n",
    "\n",
    "This is a problem with a single decision variable denoting mass fraction. Mass fraction, $x$, is constrained to the interval from 0 to 1. It's useful to plot the function before attempting to find a maximum value."
   ]
  },
  {
   "cell_type": "code",
   "execution_count": 2,
   "metadata": {},
   "outputs": [
    {
     "data": {
      "text/plain": [
       "Text(0.5,0,'x')"
      ]
     },
     "execution_count": 2,
     "metadata": {},
     "output_type": "execute_result"
    },
    {
     "data": {
      "image/png": "[encoded data removed]",
      "text/plain": [
       "<matplotlib.figure.Figure at 0x10e85e978>"
      ]
     },
     "metadata": {},
     "output_type": "display_data"
    }
   ],
   "source": [
    "%matplotlib inline\n",
    "import matplotlib.pyplot as plt\n",
    "import numpy as np\n",
    "\n",
    "x = np.linspace(0,1,200)\n",
    "tf = 5.3 * x * np.exp(-3.6*x + 2.7)\n",
    "plt.plot(x, tf)\n",
    "plt.ylabel('tf')\n",
    "plt.xlabel('x')"
   ]
  },
  {
   "cell_type": "markdown",
   "metadata": {},
   "source": [
    "## Solution with Scipy.optimize\n",
    "\n",
    "This problem can be solved using the standard `scipy.optimize` library. Because this is a function of a single variable, we use `minimize_scalar` with default methods.\n",
    "\n",
    "For this solution we import `math.exp` to perform the exponential calculation. Doing this will avoid a namespace collision with Pyomo which which uses it's own implementation of the exponential function."
   ]
  },
  {
   "cell_type": "code",
   "execution_count": 3,
   "metadata": {},
   "outputs": [
    {
     "data": {
      "text/plain": [
       "     fun: -8.0588669933761565\n",
       "    nfev: 15\n",
       "     nit: 14\n",
       " success: True\n",
       "       x: 0.27777777778721241"
      ]
     },
     "execution_count": 3,
     "metadata": {},
     "output_type": "execute_result"
    }
   ],
   "source": [
    "from scipy.optimize import minimize_scalar\n",
    "import math\n",
    "\n",
    "def func(x):\n",
    "    return -(5.3 * x * math.exp(-3.6*x + 2.7))\n",
    "\n",
    "minimize_scalar(func, bracket=[0,1])"
   ]
  },
  {
   "cell_type": "markdown",
   "metadata": {},
   "source": [
    "## Solution with Pyomo\n",
    "\n",
    "This example is quite straightforward, and using a tool like Pyomo with the ipopt solver is certainly overkill. Nevertheless it is a useful illustration of how nonlinear optimization problems can be solved in Pyomo with the right solvers.\n",
    "\n",
    "Note the use of `exp` to calculate the exponential function. This is imported from pyomo.environ and is needed so that a Pyomo variable can be used in the argument to `exp`."
   ]
  },
  {
   "cell_type": "code",
   "execution_count": 5,
   "metadata": {},
   "outputs": [
    {
     "data": {
      "text/plain": [
       "0.2777777778309363"
      ]
     },
     "execution_count": 5,
     "metadata": {},
     "output_type": "execute_result"
    }
   ],
   "source": [
    "from pyomo.environ import *\n",
    "\n",
    "model = ConcreteModel()\n",
    "model.x = Var(initialize=0.5, bounds=(0,1))\n",
    "\n",
    "model.objective = Objective(expr = 5.3 * model.x * exp(-3.6*model.x + 2.7), sense=maximize)\n",
    "\n",
    "SolverFactory('ipopt').solve(model)\n",
    "model.x()"
   ]
  },
  {
   "cell_type": "code",
   "execution_count": null,
   "metadata": {},
   "outputs": [],
   "source": []
  }
 ],
 "metadata": {
  "kernelspec": {
   "display_name": "Python 3",
   "language": "python",
   "name": "python3"
  },
  "language_info": {
   "codemirror_mode": {
    "name": "ipython",
    "version": 3
   },
   "file_extension": ".py",
   "mimetype": "text/x-python",
   "name": "python",
   "nbconvert_exporter": "python",
   "pygments_lexer": "ipython3",
   "version": "3.6.4"
  }
 },
 "nbformat": 4,
 "nbformat_minor": 2
}
