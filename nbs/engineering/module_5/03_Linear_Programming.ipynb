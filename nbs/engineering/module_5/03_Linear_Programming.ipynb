{
 "cells": [
  {
   "cell_type": "markdown",
   "metadata": {},
   "source": [
    "# Linear Programming\n",
    "\n",
    "Linear programming is the minimization (or maximization) of a linear objective subject to linear constraints. There are several widely adopted schemes for representing linear programming problems. Here we adopt a scheme corresponding where the linear objective is written in terms of decision variables $x_1, x_2, \\ldots, x_N$ as\n",
    "\n",
    "\\begin{align}\n",
    "\\min_{x_1, x_1, \\ldots, x_N} c_1x_1 + c_2x_2 + \\cdots + c_Nx_N\n",
    "\\end{align}\n",
    "\n",
    "subject to\n",
    "\n",
    "\\begin{align}\n",
    "x_i  \\geq 0 & \\qquad i=1,\\ldots,N\\quad\\mbox{lower bounds on decision variables}\\\\\n",
    "\\sum_{j=1}^N a^{ub}_{ij}x_j \\leq b^{ub}_i & \\qquad i=1,\\ldots,M_{ub}\\quad\\mbox{upper bound constraints} \\\\\n",
    "\\sum_{j=1}^N a^{eq}_{ij}x_j = b^{eq}_i & \\qquad i=1,\\ldots,M_{eq}\\quad\\mbox{equality constraints}\\\\\n",
    "\\end{align}\n",
    "\n",
    "## Matrix/Vector format\n",
    "\n",
    "The notation can be simplified by adopting a matrix/vector formulation where\n",
    "\n",
    "\\begin{align}\n",
    "\\min_{x\\geq 0} c^T x\n",
    "\\end{align}\n",
    "\n",
    "subject to\n",
    "\n",
    "\\begin{align}\n",
    "A_{ub} x \\leq b_{ub} \\\\\n",
    "A_{eq} x = b_{eq}\n",
    "\\end{align}\n",
    "\n",
    "where $c$, $A_{ub}, b_{ub}$, and $A_{eq}, b_{eq}$, are vectors and matrices of coefficients constructed from the linear expressions given above."
   ]
  },
  {
   "cell_type": "markdown",
   "metadata": {},
   "source": [
    "## Example 19.3: Refinery Blending Problem\n",
    "\n",
    "The decision variables are\n",
    "\n",
    "\n",
    "| Variable | Description | Units |\n",
    "| ---------|-------------| ------|\n",
    "| $x_1$ | crude #1 | bbl/day |\n",
    "| $x_2$ | crude #2 | bbl/day |\n",
    "| $x_3$ | gasoline | bbl/day |\n",
    "| $x_4$ | kerosine | bbl/day |\n",
    "| $x_5$ | fuel oil | bbl/day |\n",
    "| $x_6$ | residual | bbl/day |\n",
    "\n",
    "\n",
    "The overall objective is to maximize profit\n",
    "\n",
    "\\begin{align}\n",
    "\\mbox{profit} & = \\mbox{income} - \\mbox{raw_material_cost} - \\mbox{processing_cost}\n",
    "\\end{align}\n",
    "\n",
    "where the financial components are given by\n",
    "\n",
    "\\begin{align}\n",
    "\\mbox{income} & = 72x_3 + 48x_4 + 42x_5 + 20x_6 \\\\\n",
    "\\mbox{raw_material_cost} & = 48x_1 + 30x_2 \\\\\n",
    "\\mbox{processing_cost} & = 1 x_1 + 2x_2\n",
    "\\end{align}\n",
    "\n",
    "Combining these terms, the objective is to maximize\n",
    "\n",
    "\\begin{align}\n",
    "f & = c^T x = - 49 x_1 - 32 x_2 + 72 x_3 + 48x_4 + 42x_5 + 20x_6 \n",
    "\\end{align}\n",
    "\n",
    "The material balance equations are\n",
    "\n",
    "\\begin{align}\n",
    "\\mbox{gasoline: } x_3 & = 0.80 x_1 + 0.44 x_2 \\\\\n",
    "\\mbox{kerosine: } x_4 & = 0.05 x_1 + 0.10 x_2 \\\\\n",
    "\\mbox{fuel oil: } x_5 & = 0.10 x_1 + 0.36 x_2 \\\\\n",
    "\\mbox{residual: } x_6 & = 0.05 x_1 + 0.10 x_2\n",
    "\\end{align}\n",
    "\n",
    "Production limits\n",
    "\n",
    "\\begin{align}\n",
    "\\mbox{gasoline: } x_3 & \\leq 24,000 \\\\\n",
    "\\mbox{kerosine: } x_4 & \\leq 2,000 \\\\\n",
    "\\mbox{fuel oil: } x_5 & \\leq 6,000\n",
    "\\end{align}\n",
    "\n",
    "\\begin{align}\n",
    "\\underbrace{\\left[\\begin{array}{cccccc}\n",
    "0.80 & 0.44 & -1 & 0 & 0 & 0 \\\\\n",
    "0.05 & 0.10 & 0 & -1 & 0 & 0 \\\\\n",
    "0.10 & 0.36 & 0 & 0 & -1 & 0 \\\\\n",
    "0.05 & 0.10 & 0 & 0 & 0 & -1\n",
    "\\end{array}\\right]}_{A_{eq}}\n",
    "\\left[\\begin{array}{c}\n",
    "x_1 \\\\ x_2 \\\\ x_3 \\\\ x_4 \\\\ x_5 \\\\ x_6 \n",
    "\\end{array}\\right]\n",
    "& = \n",
    "\\underbrace{\\left[\\begin{array}{c}\n",
    "0 \\\\ 0 \\\\ 0 \\\\ 0\n",
    "\\end{array}\\right]}_{b_{eq}}\n",
    "\\end{align}"
   ]
  },
  {
   "cell_type": "code",
   "execution_count": 1,
   "metadata": {},
   "outputs": [
    {
     "ename": "ModuleNotFoundError",
     "evalue": "No module named 'scipy'",
     "output_type": "error",
     "traceback": [
      "\u001b[0;31m---------------------------------------------------------------------------\u001b[0m",
      "\u001b[0;31mModuleNotFoundError\u001b[0m                       Traceback (most recent call last)",
      "\u001b[0;32m<ipython-input-1-e3a19b564f9c>\u001b[0m in \u001b[0;36m<module>\u001b[0;34m\u001b[0m\n\u001b[0;32m----> 1\u001b[0;31m \u001b[0;32mfrom\u001b[0m \u001b[0mscipy\u001b[0m\u001b[0;34m.\u001b[0m\u001b[0moptimize\u001b[0m \u001b[0;32mimport\u001b[0m \u001b[0mlinprog\u001b[0m\u001b[0;34m\u001b[0m\u001b[0;34m\u001b[0m\u001b[0m\n\u001b[0m\u001b[1;32m      2\u001b[0m \u001b[0;34m\u001b[0m\u001b[0m\n\u001b[1;32m      3\u001b[0m \u001b[0mc\u001b[0m \u001b[0;34m=\u001b[0m \u001b[0;34m[\u001b[0m\u001b[0;36m49\u001b[0m\u001b[0;34m,\u001b[0m \u001b[0;36m32\u001b[0m\u001b[0;34m,\u001b[0m \u001b[0;34m-\u001b[0m\u001b[0;36m72\u001b[0m\u001b[0;34m,\u001b[0m \u001b[0;34m-\u001b[0m\u001b[0;36m48\u001b[0m\u001b[0;34m,\u001b[0m \u001b[0;34m-\u001b[0m\u001b[0;36m42\u001b[0m\u001b[0;34m,\u001b[0m \u001b[0;34m-\u001b[0m\u001b[0;36m20\u001b[0m\u001b[0;34m]\u001b[0m\u001b[0;34m\u001b[0m\u001b[0;34m\u001b[0m\u001b[0m\n\u001b[1;32m      4\u001b[0m \u001b[0;34m\u001b[0m\u001b[0m\n\u001b[1;32m      5\u001b[0m A_ub = [[0, 0, 1, 0, 0, 0],\n",
      "\u001b[0;31mModuleNotFoundError\u001b[0m: No module named 'scipy'"
     ]
    }
   ],
   "source": [
    "from scipy.optimize import linprog\n",
    "\n",
    "c = [49, 32, -72, -48, -42, -20]\n",
    "\n",
    "A_ub = [[0, 0, 1, 0, 0, 0],\n",
    "        [0, 0, 0, 1, 0, 0],\n",
    "        [0, 0, 0, 0, 1, 0]]\n",
    "\n",
    "b_ub = [24000, 2001, 6000]\n",
    "\n",
    "A_eq = [[0.80, 0.44, -1,  0,  0,  0],\n",
    "        [0.05, 0.10,  0, -1,  0,  0],\n",
    "        [0.10, 0.36,  0,  0, -1,  0],\n",
    "        [0.05, 0.10,  0,  0,  0, -1]]\n",
    "\n",
    "b_eq = [0, 0, 0, 0]\n",
    "\n",
    "results = linprog(c, A_ub, b_ub, A_eq, b_eq)\n",
    "results\n",
    "p0 = 573517.24\n",
    "print('additional profit', -results.fun - p0)"
   ]
  },
  {
   "cell_type": "code",
   "execution_count": 2,
   "metadata": {},
   "outputs": [
    {
     "ename": "NameError",
     "evalue": "name 'results' is not defined",
     "output_type": "error",
     "traceback": [
      "\u001b[0;31m---------------------------------------------------------------------------\u001b[0m",
      "\u001b[0;31mNameError\u001b[0m                                 Traceback (most recent call last)",
      "\u001b[0;32m<ipython-input-2-ba69c7c0e72b>\u001b[0m in \u001b[0;36m<module>\u001b[0;34m\u001b[0m\n\u001b[0;32m----> 1\u001b[0;31m \u001b[0mprint\u001b[0m\u001b[0;34m(\u001b[0m\u001b[0mresults\u001b[0m\u001b[0;34m.\u001b[0m\u001b[0mmessage\u001b[0m\u001b[0;34m)\u001b[0m\u001b[0;34m\u001b[0m\u001b[0;34m\u001b[0m\u001b[0m\n\u001b[0m\u001b[1;32m      2\u001b[0m \u001b[0;32mif\u001b[0m \u001b[0mresults\u001b[0m\u001b[0;34m.\u001b[0m\u001b[0msuccess\u001b[0m\u001b[0;34m:\u001b[0m\u001b[0;34m\u001b[0m\u001b[0;34m\u001b[0m\u001b[0m\n\u001b[1;32m      3\u001b[0m     \u001b[0;32mfor\u001b[0m \u001b[0mk\u001b[0m \u001b[0;32min\u001b[0m \u001b[0mrange\u001b[0m\u001b[0;34m(\u001b[0m\u001b[0mlen\u001b[0m\u001b[0;34m(\u001b[0m\u001b[0mresults\u001b[0m\u001b[0;34m.\u001b[0m\u001b[0mx\u001b[0m\u001b[0;34m)\u001b[0m\u001b[0;34m)\u001b[0m\u001b[0;34m:\u001b[0m\u001b[0;34m\u001b[0m\u001b[0;34m\u001b[0m\u001b[0m\n\u001b[1;32m      4\u001b[0m         \u001b[0mprint\u001b[0m\u001b[0;34m(\u001b[0m\u001b[0;34m'x[{0:2d}] = {1:7.1f} bbl/day'\u001b[0m\u001b[0;34m.\u001b[0m\u001b[0mformat\u001b[0m\u001b[0;34m(\u001b[0m\u001b[0mk\u001b[0m\u001b[0;34m+\u001b[0m\u001b[0;36m1\u001b[0m\u001b[0;34m,\u001b[0m \u001b[0mresults\u001b[0m\u001b[0;34m.\u001b[0m\u001b[0mx\u001b[0m\u001b[0;34m[\u001b[0m\u001b[0mk\u001b[0m\u001b[0;34m]\u001b[0m\u001b[0;34m)\u001b[0m\u001b[0;34m)\u001b[0m\u001b[0;34m\u001b[0m\u001b[0;34m\u001b[0m\u001b[0m\n",
      "\u001b[0;31mNameError\u001b[0m: name 'results' is not defined"
     ]
    }
   ],
   "source": [
    "print(results.message)\n",
    "if results.success:\n",
    "    for k in range(len(results.x)):\n",
    "        print('x[{0:2d}] = {1:7.1f} bbl/day'.format(k+1, results.x[k]))"
   ]
  },
  {
   "cell_type": "code",
   "execution_count": null,
   "metadata": {},
   "outputs": [],
   "source": []
  },
  {
   "cell_type": "code",
   "execution_count": null,
   "metadata": {},
   "outputs": [],
   "source": []
  }
 ],
 "metadata": {
  "kernelspec": {
   "display_name": "Python 3",
   "language": "python",
   "name": "python3"
  },
  "language_info": {
   "codemirror_mode": {
    "name": "ipython",
    "version": 3
   },
   "file_extension": ".py",
   "mimetype": "text/x-python",
   "name": "python",
   "nbconvert_exporter": "python",
   "pygments_lexer": "ipython3",
   "version": "3.8.6"
  }
 },
 "nbformat": 4,
 "nbformat_minor": 2
}
