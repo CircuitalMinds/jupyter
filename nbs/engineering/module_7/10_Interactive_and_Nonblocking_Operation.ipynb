{
 "cells": [
  {
   "cell_type": "markdown",
   "metadata": {},
   "source": [
    "# Interactive and Non-blocking Operation\n",
    "\n",
    "The following sections in this notebook demonstrate methods for interacting with TCLab, for building non-blocking implementations of a control loop, and for various experiments and tests with the package."
   ]
  },
  {
   "cell_type": "markdown",
   "metadata": {},
   "source": [
    "## Experiments in Non-blocking Operation with `threading` Library\n",
    "\n",
    "The current implementation of "
   ]
  },
  {
   "cell_type": "code",
   "execution_count": 1,
   "metadata": {},
   "outputs": [],
   "source": [
    "def bar():\n",
    "    clock.send(None)\n",
    "\n",
    "def clock(tperiod):\n",
    "    tstart = time.time()\n",
    "    tfinish = tstart + tperiod\n",
    "    t = 0\n",
    "    while t + tstart < tfinish:\n",
    "        z = yield t\n",
    "        t += 1\n",
    "\n",
    "def bar():\n",
    "    clock.send(2)"
   ]
  },
  {
   "cell_type": "code",
   "execution_count": 2,
   "metadata": {},
   "outputs": [],
   "source": [
    "import threading, time\n",
    "import datetime\n",
    "\n",
    "next_call = time.time()\n",
    "k = 0\n",
    "\n",
    "def foo():\n",
    "    global next_call, k\n",
    "    if k < 5:\n",
    "        print(k, datetime.datetime.now())\n",
    "        next_call = next_call+1\n",
    "        threading.Timer( next_call - time.time(), foo ).start()\n",
    "        k += 1\n",
    "    else:\n",
    "        print(k, \"Last Call\")\n",
    "\n",
    "foo()"
   ]
  },
  {
   "cell_type": "code",
   "execution_count": 3,
   "metadata": {},
   "outputs": [
    {
     "data": {
      "text/plain": [
       "<matplotlib.figure.Figure at 0x10d108ba8>"
      ]
     },
     "metadata": {},
     "output_type": "display_data"
    },
    {
     "ename": "SyntaxError",
     "evalue": "name 'tnext' is parameter and global (<ipython-input-3-f49db311273e>, line 18)",
     "output_type": "error",
     "traceback": [
      "\u001b[0;36m  File \u001b[0;32m\"<ipython-input-3-f49db311273e>\"\u001b[0;36m, line \u001b[0;32m18\u001b[0m\n\u001b[0;31m    global tnext, tfinish, tstep\u001b[0m\n\u001b[0m    ^\u001b[0m\n\u001b[0;31mSyntaxError\u001b[0m\u001b[0;31m:\u001b[0m name 'tnext' is parameter and global\n"
     ]
    },
    {
     "name": "stdout",
     "output_type": "stream",
     "text": [
      "1 2018-02-10 14:08:05.355379\n",
      "2 2018-02-10 14:08:06.353722\n",
      "3 2018-02-10 14:08:07.353436\n",
      "4 2018-02-10 14:08:08.357000\n",
      "5 Last Call\n"
     ]
    }
   ],
   "source": [
    "from tclab import TCLabModel,  Historian, Plotter\n",
    "import threading, time\n",
    "\n",
    "tstep = 1\n",
    "tperiod = 20\n",
    "\n",
    "tstart = time.time()\n",
    "tfinish = tstart + tperiod\n",
    "tnext = tstart\n",
    "\n",
    "a = TCLabModel()\n",
    "h = Historian(a.sources)\n",
    "p = Plotter(h,20)\n",
    "a.U1 = 100\n",
    "\n",
    "\n",
    "def tasks(tnext):\n",
    "    global tnext, tfinish, tstep\n",
    "    p.update(tnext-tstart)\n",
    "    tnext = tnext + tstep\n",
    "    if tnext <= tfinish:\n",
    "        threading.Timer(tnext-time.time(), update).start()\n",
    "    else:\n",
    "        a.close()\n",
    "\n",
    "update()"
   ]
  },
  {
   "cell_type": "code",
   "execution_count": null,
   "metadata": {},
   "outputs": [],
   "source": [
    "%matplotlib notebook\n",
    "\n",
    "import time\n",
    "from threading import Timer\n",
    "from tclab import setup, Historian, Plotter\n",
    "\n",
    "lab = setup(connected=False, speedup=1)\n",
    "a = lab()\n",
    "h = Historian(a.sources)\n",
    "p = Plotter(h)\n",
    "\n",
    "SP = 40\n",
    "\n",
    "tstart = time.time()\n",
    "def loop():\n",
    "    PV = a.T1\n",
    "    MV = 100 if PV < SP else 0\n",
    "    a.U1 = MV\n",
    "    p.update(time.time()-tstart)\n",
    "\n",
    "for t in range(0,100):\n",
    "    Timer(t, loop).start()\n",
    "Timer(100,a.close).start()"
   ]
  },
  {
   "cell_type": "code",
   "execution_count": null,
   "metadata": {},
   "outputs": [],
   "source": [
    "SP = 20"
   ]
  },
  {
   "cell_type": "code",
   "execution_count": null,
   "metadata": {},
   "outputs": [],
   "source": [
    "import threading, time, datetime\n",
    "\n",
    "def loop():\n",
    "    yield\n",
    "    print(datetime.datetime.now())\n",
    "    threading.Timer(1000, lambda: next(loop_gen)).start()\n",
    "    \n",
    "loop_gen = loop()\n",
    "next(loop_gen)\n"
   ]
  },
  {
   "cell_type": "code",
   "execution_count": 2,
   "metadata": {},
   "outputs": [
    {
     "data": {
      "text/plain": [
       "A Jupyter Widget"
      ]
     },
     "metadata": {},
     "output_type": "display_data"
    }
   ],
   "source": [
    "%matplotlib inline\n",
    "import matplotlib.pyplot as plt\n",
    "import numpy as np\n",
    "\n",
    "import threading\n",
    "from IPython.display import display\n",
    "import ipywidgets as widgets\n",
    "import time\n",
    "progress = widgets.FloatProgress(value=0.0, min=0.0, max=1.0)\n",
    "\n",
    "def work(progress):\n",
    "    t = np.linspace(0,100)\n",
    "    for i in range(total):\n",
    "        time.sleep(0.2)\n",
    "        progress.value = float(i+1)/total\n",
    "\n",
    "thread = threading.Thread(target=work, args=(progress,))\n",
    "display(progress)\n",
    "thread.start()"
   ]
  },
  {
   "cell_type": "code",
   "execution_count": 4,
   "metadata": {},
   "outputs": [
    {
     "data": {
      "text/plain": [
       "12"
      ]
     },
     "execution_count": 4,
     "metadata": {},
     "output_type": "execute_result"
    }
   ],
   "source": [
    "a = 12\n",
    "a"
   ]
  },
  {
   "cell_type": "markdown",
   "metadata": {},
   "source": [
    "## Run Class"
   ]
  },
  {
   "cell_type": "code",
   "execution_count": null,
   "metadata": {},
   "outputs": [],
   "source": [
    "from threading import Timer\n",
    "import time\n",
    "import tclab\n",
    "\n",
    "class Run(object):\n",
    "    def __init__(self, function, tfinal, tinterval=1):\n",
    "        self.lab        = tclab.TCLab()\n",
    "        self.tfinal     = tfinal\n",
    "        self.tinterval  = tinterval\n",
    "        self.function   = function\n",
    "        self._timer     = None\n",
    "        self.tstart     = time.time()\n",
    "        self.tnow       = self.tstart\n",
    "        self.is_running = False\n",
    "        self.start()\n",
    "\n",
    "    def _run(self):\n",
    "        \"\"\"Start a new timer, then run the callback.\"\"\"\n",
    "        self.is_running = False\n",
    "        self.start()\n",
    "        self.function(self.lab, self.tnow)\n",
    "\n",
    "    def start(self):\n",
    "        if not self.is_running:\n",
    "            self.tnow = time.time() - self.tstart\n",
    "            if self.tnow < self.tfinal:\n",
    "                self._timer = Timer(self.tinterval - self.tnow % self.tinterval, self._run)\n",
    "            else:\n",
    "                self._timer = Timer(self.tinterval - self.tnow % self.tinterval, self.stop)\n",
    "            self._timer.start()\n",
    "            self.is_running = True   \n",
    "\n",
    "    def stop(self):\n",
    "        if self.is_running:\n",
    "            self._timer.cancel()\n",
    "            self.is_running = False\n",
    "        print(\"\")\n",
    "        self.lab.close()"
   ]
  },
  {
   "cell_type": "code",
   "execution_count": null,
   "metadata": {},
   "outputs": [],
   "source": [
    "SP = 40\n",
    "Kp = 15\n",
    "\n",
    "def loop(lab, t):\n",
    "    PV = lab.T1\n",
    "    MV = Kp*(SP-PV)\n",
    "    lab.U1 = MV\n",
    "    print(\"\\r{0:8.2f}   {1:6.2f}   {2:6.0f}\".format(t,PV,MV), end='')\n",
    "        \n",
    "expt = Run(loop, 200, 1)\n",
    "time.sleep(10)\n",
    "expt.stop()"
   ]
  },
  {
   "cell_type": "code",
   "execution_count": null,
   "metadata": {},
   "outputs": [],
   "source": [
    "expt.stop()"
   ]
  },
  {
   "cell_type": "code",
   "execution_count": null,
   "metadata": {},
   "outputs": [],
   "source": [
    "import tclab\n",
    "\n",
    "SP = 90\n",
    "\n",
    "def ControlLoop(lab, t):\n",
    "    PV = lab.T1\n",
    "    MV = 100 if PV < SP else 0\n",
    "    lab.U1 = MV\n",
    "    print(round(t,4), PV, MV)\n",
    "    p.update(t)\n",
    "    \n",
    "    \n",
    "lab = tclab.TCLab()\n",
    "h = tclab.Historian(lab.sources, dbfile=None)\n",
    "p = tclab.Plotter(h)\n",
    "expt = PeriodicCallback(lab, ControlLoop, 10, 2)"
   ]
  },
  {
   "cell_type": "markdown",
   "metadata": {},
   "source": [
    "## Working with Asyncio"
   ]
  },
  {
   "cell_type": "code",
   "execution_count": 3,
   "metadata": {
    "scrolled": false
   },
   "outputs": [
    {
     "name": "stdout",
     "output_type": "stream",
     "text": [
      "Arduino Leonardo connected on port /dev/cu.usbmodemWUAR1 at 115200 baud.\n",
      "TCLab Firmware 1.3.0 Arduino Leonardo/Micro.\n",
      "2.262144701962825 19.94 40 200.6\n",
      "4.000887564965524 19.94 40 200.6\n",
      "6.002586096001323 19.94 40 200.6\n",
      "8.002790475962684 19.94 40 200.6\n",
      "10.002313077973668 19.94 40 200.6\n",
      "12.003470623982139 19.94 40 200.6\n",
      "14.003858379961457 19.94 40 200.6\n",
      "16.00242742500268 19.94 40 200.6\n",
      "18.00530177797191 19.94 40 200.6\n",
      "20.004569922981318 19.94 40 200.6\n",
      "22.005170746007934 19.94 40 200.6\n",
      "24.00298130098963 19.94 40 200.6\n",
      "26.001176378980745 19.94 40 200.6\n",
      "28.00103564100573 19.94 40 200.6\n",
      "30.000585703994147 19.94 40 200.6\n",
      "32.00018944096519 19.94 40 200.6\n",
      "34.000133888970595 19.94 40 200.6\n",
      "36.000356623961125 19.94 40 200.6\n",
      "38.00522666599136 19.94 40 200.6\n",
      "40.00289643899305 19.94 40 200.6\n",
      "42.00436601799447 19.94 40 200.6\n",
      "44.00090896798065 19.94 40 200.6\n",
      "46.00117017800221 19.94 40 200.6\n",
      "48.00323838897748 19.94 40 200.6\n",
      "50.00018589699175 19.94 40 200.6\n",
      "52.00072305195499 19.94 40 200.6\n",
      "54.001219235011376 19.94 40 200.6\n",
      "56.00168056396069 19.94 40 200.6\n",
      "58.00438054098049 19.94 40 200.6\n",
      "60.00217565399362 19.94 40 200.6\n",
      "62.002833932987414 19.94 40 200.6\n",
      "64.00300401099958 19.94 40 200.6\n",
      "66.0036942109582 19.94 40 200.6\n",
      "68.00075817597099 19.94 40 200.6\n",
      "70.00092395499814 19.94 40 200.6\n",
      "72.00472351396456 20.26 40 197.39999999999998\n",
      "74.0054052589694 19.94 40 200.6\n",
      "76.00324653700227 19.94 40 200.6\n",
      "78.00263775599888 19.94 40 200.6\n",
      "80.00051065901062 19.94 40 200.6\n",
      "82.00130692799576 19.94 40 200.6\n",
      "84.00314901600359 19.94 40 200.6\n",
      "86.00340130197583 19.94 40 200.6\n",
      "88.00071146601113 19.94 40 200.6\n",
      "90.00536374299554 19.94 40 200.6\n",
      "92.001040172996 19.94 40 200.6\n",
      "94.00027199299075 19.94 40 200.6\n",
      "96.00035540695535 19.94 40 200.6\n",
      "98.00145010696724 19.94 40 200.6\n"
     ]
    }
   ],
   "source": [
    "%gui asyncio\n",
    "\n",
    "import asyncio\n",
    "import tclab\n",
    "\n",
    "# define time function\n",
    "time = asyncio.get_event_loop().time\n",
    "tstart = time()\n",
    "tstep = 2\n",
    "tfinal = tstart + 100\n",
    "\n",
    "lab = tclab.setup(connected=True)\n",
    "a = lab()\n",
    "\n",
    "class PID():\n",
    "    def __init__(self, Kp=1, Ki=0, Kd=0):\n",
    "        self.Kp = Kp\n",
    "        self.Ki = Ki\n",
    "        self.Kd = Kd\n",
    "        self.SP = \n",
    "        self.eint = 0\n",
    "        \n",
    "        \n",
    "    def update(self, PV, SP):\n",
    "        return self.Kp*(SP - PV)\n",
    "    \n",
    "pcontrol = PID(10,0,0)\n",
    "\n",
    "async def control_loop():\n",
    "    while time() < tfinal:\n",
    "        t = time() - tstart\n",
    "        PV = a.T1\n",
    "        SP = 40\n",
    "        MV = pcontrol.update(PV,SP)\n",
    "        a.Q1(MV)\n",
    "        print(t, PV, SP, MV)\n",
    "        await asyncio.sleep(tstep - (time() - tstart) % tstep)\n",
    "\n",
    "task = asyncio.ensure_future(control_loop())\n"
   ]
  },
  {
   "cell_type": "code",
   "execution_count": 2,
   "metadata": {},
   "outputs": [
    {
     "name": "stdout",
     "output_type": "stream",
     "text": [
      "32.00036316696787 19.94 40 200.6\n",
      "TCLab disconnected successfully.\n"
     ]
    }
   ],
   "source": [
    "task.cancel()\n",
    "a.close()"
   ]
  },
  {
   "cell_type": "markdown",
   "metadata": {},
   "source": [
    "## Working with Tornado\n",
    "\n",
    "This is an experiment to build a non-blocking event loop for TCLab.  The main idea is to implement the main event loop as a generator, then use Tornando's non-blocking timer to send periodic messages to the generator."
   ]
  },
  {
   "cell_type": "code",
   "execution_count": null,
   "metadata": {},
   "outputs": [],
   "source": [
    "%matplotlib inline\n",
    "import tornado\n",
    "import time\n",
    "from tclab import setup, Historian, Plotter\n",
    "\n",
    "SP = 40\n",
    "Kp = 10\n",
    "\n",
    "def update(lab):\n",
    "    t = 0\n",
    "    h = Historian(lab.sources)\n",
    "    p = Plotter(h,120)\n",
    "    while True:\n",
    "        PV = lab.T1\n",
    "        MV = Kp*(SP-PV)\n",
    "        lab.U1 = MV\n",
    "        p.update(t)\n",
    "        yield\n",
    "        t += 1\n",
    "\n",
    "lab = setup(connected=True)\n",
    "a = lab()\n",
    "update_gen = update(a)\n",
    "timer = tornado.ioloop.PeriodicCallback(lambda: next(update_gen), 1000)\n",
    "timer.start()"
   ]
  },
  {
   "cell_type": "code",
   "execution_count": null,
   "metadata": {},
   "outputs": [],
   "source": [
    "timer.stop()\n",
    "a.close()"
   ]
  },
  {
   "cell_type": "markdown",
   "metadata": {},
   "source": [
    "### Adding Widgets\n",
    "\n",
    "`tclab.clock` is based on a generator, which maintains a single thread of execution. One consequence is that there is no interaction with Jupyter widgets."
   ]
  },
  {
   "cell_type": "code",
   "execution_count": null,
   "metadata": {},
   "outputs": [],
   "source": [
    "from ipywidgets import interactive\n",
    "from IPython.display import display\n",
    "from tclab import clock\n",
    "\n",
    "Kp = interactive(lambda Kp: Kp, Kp = 12)\n",
    "display(Kp)\n",
    "\n",
    "for t in clock(10):\n",
    "    print(t, Kp.result)"
   ]
  },
  {
   "cell_type": "code",
   "execution_count": null,
   "metadata": {},
   "outputs": [],
   "source": [
    "import tornado\n",
    "from ipywidgets import interactive\n",
    "from IPython.display import display\n",
    "from tclab import TCLab, Historian, Plotter\n",
    "\n",
    "Kp = interactive(lambda Kp: Kp, Kp = (0,20))\n",
    "SP = interactive(lambda SP: SP, SP = (25,55))\n",
    "SP.layout.height = '500px'\n",
    "\n",
    "def update(tperiod):\n",
    "    t = 0\n",
    "    with TCLab() as a:\n",
    "        h = Historian(a.sources)\n",
    "        p = Plotter(h)\n",
    "        while t <= tperiod:\n",
    "            yield\n",
    "            p.update(t)\n",
    "            display(Kp)\n",
    "            display(SP)\n",
    "            a.U1 = SP.result\n",
    "            t += 1\n",
    "        timer.stop()\n",
    "\n",
    "update_gen = update(20)\n",
    "timer = tornado.ioloop.PeriodicCallback(lambda: next(update_gen), 1000)\n",
    "timer.start()"
   ]
  },
  {
   "cell_type": "code",
   "execution_count": null,
   "metadata": {},
   "outputs": [],
   "source": [
    "from ipywidgets import interactive\n",
    "from tclab import setup, clock, Historian, Plotter\n",
    "\n",
    "def proportional(Kp):\n",
    "    MV = 0\n",
    "    while True:\n",
    "        PV, SP = yield MV\n",
    "        MV = Kp*(SP-PV)\n",
    "\n",
    "def sim(Kp=1, SP=40):\n",
    "    controller = proportional(Kp)\n",
    "    controller.send(None)\n",
    "\n",
    "    lab = setup(connected=False, speedup=20)\n",
    "    with lab() as a:\n",
    "        h = Historian(a.sources)\n",
    "        p = Plotter(h,200)\n",
    "        for t in clock(200):\n",
    "            PV = a.T1\n",
    "            MV = controller.send([PV,SP])\n",
    "            a.U1 = MV\n",
    "            h.update()\n",
    "        p.update()   \n",
    "\n",
    "interactive_plot = interactive(sim, Kp=(0,20,1), SP=(25,60,5), continuous_update=False);\n",
    "output = interactive_plot.children[-1]\n",
    "output.layout.height = '500px'\n",
    "interactive_plot"
   ]
  },
  {
   "cell_type": "code",
   "execution_count": null,
   "metadata": {},
   "outputs": [],
   "source": [
    "timer.stop()"
   ]
  },
  {
   "cell_type": "code",
   "execution_count": null,
   "metadata": {},
   "outputs": [],
   "source": []
  }
 ],
 "metadata": {
  "kernelspec": {
   "display_name": "Python 3",
   "language": "python",
   "name": "python3"
  },
  "language_info": {
   "codemirror_mode": {
    "name": "ipython",
    "version": 3
   },
   "file_extension": ".py",
   "mimetype": "text/x-python",
   "name": "python",
   "nbconvert_exporter": "python",
   "pygments_lexer": "ipython3",
   "version": "3.6.8"
  }
 },
 "nbformat": 4,
 "nbformat_minor": 2
}
