{
 "cells": [
  {
   "cell_type": "markdown",
   "metadata": {
    "slideshow": {
     "slide_type": "skip"
    }
   },
   "source": [
    "# Accessing the Temperature Control Laboratory\n",
    "\n",
    "## Importing `tclab`\n",
    "\n",
    "Once installed the package can be imported into Python and an instance created with the Python statements\n",
    "\n",
    "    import tclab\n",
    "    lab = tclab.TCLab()\n",
    "\n",
    "`TCLab` provides access to temperature measurements, heaters, and LED on board the Temperature Control Laboratory. When called with no arguments,  attempts to find a device connected to a serial port and returns a connection. An error is generated if no device is found.  The connection should be closed with\n",
    "\n",
    "    lab.close()\n",
    "    \n",
    "when no longer in use. The following cell demonstrates this process, and uses the tclab `LED()` function to flash the LED on the Temperature Control Lab for a period of 10 seconds at a 100% brightness level. "
   ]
  },
  {
   "cell_type": "code",
   "execution_count": 3,
   "metadata": {},
   "outputs": [
    {
     "name": "stdout",
     "output_type": "stream",
     "text": [
      "Collecting tclab\n",
      "  Downloading https://files.pythonhosted.org/packages/b5/5a/751cc39b1b90c8a8fcce83d8aa498345752effe8a22eead6e4420bacbaac/tclab-0.4.6-py2.py3-none-any.whl\n",
      "Collecting pyserial (from tclab)\n",
      "\u001b[?25l  Downloading https://files.pythonhosted.org/packages/0d/e4/2a744dd9e3be04a0c0907414e2a01a7c88bb3915cbe3c8cc06e209f59c30/pyserial-3.4-py2.py3-none-any.whl (193kB)\n",
      "\u001b[K    100% |████████████████████████████████| 194kB 4.1MB/s ta 0:00:01\n",
      "\u001b[?25hInstalling collected packages: pyserial, tclab\n",
      "Successfully installed pyserial-3.4 tclab-0.4.6\n"
     ]
    }
   ],
   "source": [
    "!pip install tclab"
   ]
  },
  {
   "cell_type": "code",
   "execution_count": 4,
   "metadata": {},
   "outputs": [
    {
     "name": "stdout",
     "output_type": "stream",
     "text": [
      "TCLab version 0.4.6\n",
      "Arduino Leonardo connected on port /dev/cu.usbmodemWUART1 at 115200 baud.\n",
      "TCLab Firmware 1.3.0 Arduino Leonardo/Micro.\n",
      "TCLab disconnected successfully.\n"
     ]
    }
   ],
   "source": [
    "import tclab\n",
    "\n",
    "lab = tclab.TCLab()\n",
    "lab.LED(100)\n",
    "lab.close()"
   ]
  },
  {
   "cell_type": "markdown",
   "metadata": {},
   "source": [
    "### A note on terminology\n",
    "\n",
    "`TCLab` is a *class*. We *instantiate* the class by calling `TCLab()`. What is returned is an *instance* of the `TCLab` class. So in the above code, we would say `lab` is an instance of `TCLab`."
   ]
  },
  {
   "cell_type": "markdown",
   "metadata": {},
   "source": [
    "## Using TCLab with Python's `with` statement\n",
    "\n",
    "The Python `with` statement provides a simple means of setting up and closing a connection to the Temperature Control Laboratory. The `with` statement establishes a context where a `TCLab` instance is created, assigned to a variable, and automatically closed upon completion."
   ]
  },
  {
   "cell_type": "code",
   "execution_count": 2,
   "metadata": {
    "slideshow": {
     "slide_type": "skip"
    }
   },
   "outputs": [
    {
     "name": "stdout",
     "output_type": "stream",
     "text": [
      "Arduino Leonardo connected on port /dev/cu.usbmodemWUAR1 at 115200 baud.\n",
      "TCLab Firmware 1.3.0 Arduino Leonardo/Micro.\n",
      "TCLab disconnected successfully.\n"
     ]
    }
   ],
   "source": [
    "import tclab\n",
    "\n",
    "with tclab.TCLab() as lab:\n",
    "    lab.LED(100)"
   ]
  },
  {
   "cell_type": "markdown",
   "metadata": {},
   "source": [
    "The `with` statement is likely to be the most common way to connect the Temperature Control Laboratory for most uses."
   ]
  },
  {
   "cell_type": "markdown",
   "metadata": {},
   "source": [
    "## Reading Temperatures\n",
    "\n",
    "Once a `TCLab` instance is created and connected to a device, the temperature sensors on the temperature control lab can be acccessed with the attributes `.T1` and `.T2`.  For example, given an instance `lab`, the temperatures are accessed as\n",
    "\n",
    "    T1 = lab.T1\n",
    "    T2 = a.T2\n",
    "\n",
    "Note that `lab.T1` and `lab.T2` are read-only properties. Any attempt to set them to a value will return a Python error."
   ]
  },
  {
   "cell_type": "code",
   "execution_count": 3,
   "metadata": {},
   "outputs": [
    {
     "name": "stdout",
     "output_type": "stream",
     "text": [
      "Arduino Leonardo connected on port /dev/cu.usbmodemWUAR1 at 115200 baud.\n",
      "TCLab Firmware 1.3.0 Arduino Leonardo/Micro.\n",
      "Temperature 1: 27.67 °C\n",
      "Temperature 2: 27.03 °C\n",
      "TCLab disconnected successfully.\n"
     ]
    }
   ],
   "source": [
    "import tclab\n",
    "\n",
    "with tclab.TCLab() as lab:\n",
    "    print(\"Temperature 1: {0:0.2f} °C\".format(lab.T1))\n",
    "    print(\"Temperature 2: {0:0.2f} °C\".format(lab.T2))"
   ]
  },
  {
   "cell_type": "markdown",
   "metadata": {
    "slideshow": {
     "slide_type": "skip"
    }
   },
   "source": [
    "## Setting Heaters\n",
    "\n",
    "The heaters are controlled by functions `.Q1()` and `.Q2()` of a `TCLab` instance. For example, both heaters can be set to 100% power with the functions\n",
    "\n",
    "    lab.Q1(100)\n",
    "    lab.Q2(100)\n",
    "\n",
    "The device firmware limits the heaters to a range of 0 to 100%. The current value of attributes may be accessed via\n",
    "\n",
    "    Q1 = lab.Q1()\n",
    "    Q2 = lab.Q2()\n",
    "    \n",
    "Note that the retrieved values may be different due to the range-limiting enforced by the device firmware.\n",
    "\n",
    "Alternatively, the heaters can also be specified with the properties `.U1` and `.U2`. Thus setting\n",
    "\n",
    "    lab.U1 = 100\n",
    "    lab.U2 = 100\n",
    "    \n",
    "would set both heaters to 100% power. The current value of the heaters can be accessed as\n",
    "\n",
    "    print(\"Current setting of heater 1 is\", lab.U1, \"%\")\n",
    "    print(\"Current setting of heater 2 is\", lab.U2, \"%\")\n",
    "    \n",
    "The choice to use a function (i.e, `.Q1()` and `.Q2()`) or a property (i.e, `.U1` or `.U2`) to set and access heater settings is a matter of user preference."
   ]
  },
  {
   "cell_type": "code",
   "execution_count": 4,
   "metadata": {
    "slideshow": {
     "slide_type": "skip"
    }
   },
   "outputs": [
    {
     "name": "stdout",
     "output_type": "stream",
     "text": [
      "Arduino Leonardo connected on port /dev/cu.usbmodemWUAR1 at 115200 baud.\n",
      "TCLab Firmware 1.3.0 Arduino Leonardo/Micro.\n",
      "\n",
      "Starting Temperature 1: 27.67 °C\n",
      "Starting Temperature 2: 27.03 °C\n",
      "\n",
      "Set Heater 1: 100.0 %\n",
      "Set Heater 2: 100.0 %\n",
      "\n",
      "Heat for 20 seconds\n",
      "\n",
      "Turn Heaters Off\n",
      "\n",
      "Set Heater 1: 0.0 %\n",
      "Set Heater 2: 0.0 %\n",
      "\n",
      "Final Temperature 1: 28.96 °C\n",
      "Final Temperature 2: 29.29 °C\n",
      "TCLab disconnected successfully.\n"
     ]
    }
   ],
   "source": [
    "import tclab\n",
    "import time\n",
    "\n",
    "with tclab.TCLab() as lab:\n",
    "    print(\"\\nStarting Temperature 1: {0:0.2f} °C\".format(lab.T1),flush=True)\n",
    "    print(\"Starting Temperature 2: {0:0.2f} °C\".format(lab.T2),flush=True)\n",
    "\n",
    "    lab.Q1(100)\n",
    "    lab.Q2(100)\n",
    "    print(\"\\nSet Heater 1:\", lab.Q1(), \"%\",flush=True)\n",
    "    print(\"Set Heater 2:\", lab.Q2(), \"%\",flush=True)\n",
    "    \n",
    "    t_heat = 20\n",
    "    print(\"\\nHeat for\", t_heat, \"seconds\")\n",
    "    time.sleep(t_heat)\n",
    "\n",
    "    print(\"\\nTurn Heaters Off\")\n",
    "    lab.Q1(0)\n",
    "    lab.Q2(0)\n",
    "    print(\"\\nSet Heater 1:\", lab.Q1(), \"%\",flush=True)\n",
    "    print(\"Set Heater 2:\", lab.Q2(), \"%\",flush=True)\n",
    "    \n",
    "    print(\"\\nFinal Temperature 1: {0:0.2f} °C\".format(lab.T1))\n",
    "    print(\"Final Temperature 2: {0:0.2f} °C\".format(lab.T2))"
   ]
  },
  {
   "cell_type": "markdown",
   "metadata": {},
   "source": [
    "## Setting Maximum Heater Power\n",
    "\n",
    "The control inputs to the heaters power is normally set with functions `.Q1()` and `.Q2()` (or properties `.U1` and `.U2`) specifying a value in a range from 0 to 100% of maximum heater power.  \n",
    "\n",
    "The values of maximum heater power are specified in firmware with values in the range from 0 to 255. The default values are 200 for heater 1 and 100 for heater 2. The maximum heater power can be retrieved and set by properties `P1` and `P2`. The following code, for example, sets both heaters to a maximum power of 100."
   ]
  },
  {
   "cell_type": "code",
   "execution_count": 5,
   "metadata": {},
   "outputs": [
    {
     "name": "stdout",
     "output_type": "stream",
     "text": [
      "Arduino Leonardo connected on port /dev/cu.usbmodemWUAR1 at 115200 baud.\n",
      "TCLab Firmware 1.3.0 Arduino Leonardo/Micro.\n",
      "Maximum power of heater 1 =  200.0\n",
      "Maximum power of heater 2 =  100.0\n",
      "Adjusting the maximum power of heater 1.\n",
      "Maximum power of heater 1 =  100.0\n",
      "Maximum power of heater 2 =  100.0\n",
      "TCLab disconnected successfully.\n"
     ]
    }
   ],
   "source": [
    "import tclab\n",
    "\n",
    "with tclab.TCLab() as lab:\n",
    "    print(\"Maximum power of heater 1 = \", lab.P1)\n",
    "    print(\"Maximum power of heater 2 = \", lab.P2)\n",
    "    \n",
    "    print(\"Adjusting the maximum power of heater 1.\")\n",
    "    lab.P1 = 100\n",
    "    \n",
    "    print(\"Maximum power of heater 1 = \", lab.P1)\n",
    "    print(\"Maximum power of heater 2 = \", lab.P2)"
   ]
  },
  {
   "cell_type": "markdown",
   "metadata": {},
   "source": [
    "The actual power supplied to the heaters is a function of the power supply voltage applied to the Temperature Control Lab shield,\n",
    "\n",
    "The maximum power applied to the heaters is a product of the settings (`P1`,`P2`) and of the power supply used with the TCLab hardware. The TCLab hardware is normally used with a 5 watt USB power supply capable of supply up to 1 amp at 5 volts. \n",
    "\n",
    "The TCLab hardware actually draws more than 1 amp when both `P1` and `P2` are set to 255 and `Q1` and `Q2` are at 100%. This situation will overload the power supply and result in the power supply shutting down. Normally the power supply will reset itself after unplugging from the power mains.\n",
    "\n",
    "Experience with the device shows keeping the sum `P1` and `P2` to a value less than 300 will avoid problems with the 5 watt power supply. If you have access to larger power supplies, then you can adjust `P1` and `P2` accordingly to achieve a wider range of temperatures."
   ]
  },
  {
   "cell_type": "markdown",
   "metadata": {},
   "source": [
    "## `tclab` Sampling Speed\n",
    "\n",
    "There are limits to how quickly the board can be sampled. The following examples show values for a particular type of board. You can run them to see how quick your board is."
   ]
  },
  {
   "cell_type": "markdown",
   "metadata": {},
   "source": [
    "### Temperature Sampling Speed"
   ]
  },
  {
   "cell_type": "code",
   "execution_count": 6,
   "metadata": {},
   "outputs": [
    {
     "name": "stdout",
     "output_type": "stream",
     "text": [
      "Arduino Leonardo connected on port /dev/cu.usbmodemWUAR1 at 115200 baud.\n",
      "TCLab Firmware 1.3.0 Arduino Leonardo/Micro.\n",
      "TCLab disconnected successfully.\n",
      "Reading temperature at 12.3 samples per second.\n"
     ]
    }
   ],
   "source": [
    "import time\n",
    "import tclab\n",
    "\n",
    "TCLab = tclab.setup(connected=True)\n",
    "\n",
    "N = 100\n",
    "meas = []\n",
    "with TCLab() as lab:\n",
    "    tic = time.time()\n",
    "    for k in range(0,N):\n",
    "        meas.append(lab.T1)\n",
    "    toc = time.time()\n",
    "\n",
    "print('Reading temperature at', round(N/(toc-tic),1), 'samples per second.')"
   ]
  },
  {
   "cell_type": "markdown",
   "metadata": {},
   "source": [
    "### Heater Sampling Speed"
   ]
  },
  {
   "cell_type": "code",
   "execution_count": 7,
   "metadata": {},
   "outputs": [
    {
     "name": "stdout",
     "output_type": "stream",
     "text": [
      "Arduino Leonardo connected on port /dev/cu.usbmodemWUAR1 at 115200 baud.\n",
      "TCLab Firmware 1.3.0 Arduino Leonardo/Micro.\n",
      "TCLab disconnected successfully.\n",
      "Setting heater at 8.2 samples per second.\n"
     ]
    }
   ],
   "source": [
    "import time\n",
    "import tclab\n",
    "\n",
    "TCLab = tclab.setup(connected=True)\n",
    "\n",
    "N = 100\n",
    "with TCLab() as lab:\n",
    "    tic = time.time()\n",
    "    for k in range(0,N):\n",
    "        lab.Q1(100)\n",
    "    toc = time.time()\n",
    "\n",
    "print('Setting heater at', round(N/(toc-tic),1), 'samples per second.')"
   ]
  },
  {
   "cell_type": "code",
   "execution_count": null,
   "metadata": {},
   "outputs": [],
   "source": []
  }
 ],
 "metadata": {
  "kernelspec": {
   "display_name": "Python 3",
   "language": "python",
   "name": "python3"
  },
  "language_info": {
   "codemirror_mode": {
    "name": "ipython",
    "version": 3
   },
   "file_extension": ".py",
   "mimetype": "text/x-python",
   "name": "python",
   "nbconvert_exporter": "python",
   "pygments_lexer": "ipython3",
   "version": "3.6.8"
  }
 },
 "nbformat": 4,
 "nbformat_minor": 2
}
