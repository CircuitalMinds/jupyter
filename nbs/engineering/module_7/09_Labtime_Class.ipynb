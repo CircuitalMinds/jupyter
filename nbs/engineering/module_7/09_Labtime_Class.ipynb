{
 "cells": [
  {
   "cell_type": "markdown",
   "metadata": {},
   "source": [
    "# The Labtime Class\n",
    "\n",
    "The `Labtime` class is a tool for speeding up the simulation of process control experiments. With this tool you can more quickly develop control algorithms through simulation, then apply the algorithms to the Temperature Control Lab device with minimal changes to your code.\n",
    "\n",
    "In most cases you do not need to directly invoke `Labtime`. For example, `setup` with the optional parameter `speedup` (described in the chapter _TCLab Simulation for Offline Use_) uses `Labtime` to adjust the operation of the `clock` iterator. This is sufficient for many applications."
   ]
  },
  {
   "cell_type": "markdown",
   "metadata": {},
   "source": [
    "## Basic Usage\n",
    "\n",
    "### .time()\n",
    "\n",
    "`Labtime` provides a replacement for the `time.time()` function from the Python standard library. The basic usage is demonstrated in the following cell. Note that `import` brings in an instance of `Labtime`. `labtime.time()` returns the _lab time_ elapsed since first imported into the Python kernal. "
   ]
  },
  {
   "cell_type": "code",
   "execution_count": 1,
   "metadata": {},
   "outputs": [
    {
     "name": "stdout",
     "output_type": "stream",
     "text": [
      "Time since first imported =  0.0  labtime seconds.\n",
      "Time since first imported =  2.01  labtime seconds.\n"
     ]
    }
   ],
   "source": [
    "from tclab import labtime\n",
    "\n",
    "tic = labtime.time()\n",
    "labtime.sleep(2)\n",
    "toc = labtime.time()\n",
    "\n",
    "print(\"Time since first imported = \", round(tic, 2), \" labtime seconds.\")\n",
    "print(\"Time since first imported = \", round(toc, 2), \" labtime seconds.\")"
   ]
  },
  {
   "cell_type": "markdown",
   "metadata": {},
   "source": [
    "By default, `labtime.time()` progresses at the same rate at real time as measured by the Python `time` package. The following cell demonstrates the default correspondence of labtime and real time."
   ]
  },
  {
   "cell_type": "code",
   "execution_count": 2,
   "metadata": {},
   "outputs": [
    {
     "name": "stdout",
     "output_type": "stream",
     "text": [
      "real time = 0.00    lab time = 0.00\n",
      "real time = 1.00    lab time = 1.00\n",
      "real time = 2.01    lab time = 2.01\n",
      "real time = 3.01    lab time = 3.01\n",
      "real time = 4.01    lab time = 4.01\n"
     ]
    }
   ],
   "source": [
    "from tclab import labtime\n",
    "import time\n",
    "\n",
    "time_start = time.time()\n",
    "labtime_start = labtime.time()\n",
    "\n",
    "def do(n):\n",
    "    for k in range(0,n):\n",
    "        t_real = time.time() - time_start\n",
    "        t_lab  = labtime.time() - labtime_start\n",
    "        print(\"real time = {0:4.2f}    lab time = {1:4.2f}\".format(t_real, t_lab))\n",
    "        time.sleep(1)\n",
    "        \n",
    "do(5)"
   ]
  },
  {
   "cell_type": "markdown",
   "metadata": {},
   "source": [
    "### .set_rate(rate) and .get_rate(rate)\n",
    "\n",
    "Lab time can proceed at a rate faster or slower than real time. The relative rate of lab time to real time is set with the `labtime.set_rate(rate)`. The default value is one.  The current value of the rate is returned by the `get_rate()`."
   ]
  },
  {
   "cell_type": "code",
   "execution_count": 3,
   "metadata": {},
   "outputs": [
    {
     "name": "stdout",
     "output_type": "stream",
     "text": [
      "Ratio of lab time to real time =  2\n",
      "real time = 0.00    lab time = 0.00\n",
      "real time = 1.00    lab time = 2.00\n",
      "real time = 2.01    lab time = 4.01\n",
      "real time = 3.01    lab time = 6.02\n",
      "real time = 4.01    lab time = 8.03\n",
      "\n",
      "Ratio of lab time to real time =  1\n",
      "real time = 5.02    lab time = 10.04\n",
      "real time = 6.02    lab time = 11.04\n",
      "real time = 7.02    lab time = 12.04\n",
      "real time = 8.03    lab time = 13.05\n",
      "real time = 9.03    lab time = 14.05\n"
     ]
    }
   ],
   "source": [
    "from tclab import labtime\n",
    "import time\n",
    "\n",
    "time_start = time.time()\n",
    "labtime_start = labtime.time()\n",
    "\n",
    "labtime.set_rate(2)\n",
    "print(\"Ratio of lab time to real time = \", labtime.get_rate())\n",
    "\n",
    "do(5)\n",
    "\n",
    "labtime.set_rate()\n",
    "print(\"\\nRatio of lab time to real time = \", labtime.get_rate())\n",
    "\n",
    "do(5)"
   ]
  },
  {
   "cell_type": "markdown",
   "metadata": {},
   "source": [
    "As demonstrated, conceptually you can thinkg of lab time as a piecewise linear function of real time with the following properties\n",
    "\n",
    "* monotonically increasing\n",
    "* continuous\n",
    "* shared by all functions using `labtime`."
   ]
  },
  {
   "cell_type": "markdown",
   "metadata": {},
   "source": [
    "### .sleep(delay)\n",
    "\n",
    "The `labtime.sleep()` function suspends execution for a period `delay` in lab time units. This is used, for example, in the `clock` iterator to speed up execution of a control loop when used in simulation mode."
   ]
  },
  {
   "cell_type": "markdown",
   "metadata": {},
   "source": [
    "## Advanced Usage\n",
    "\n",
    "An additional set of functions are available in `Labtime` to facilitate construction of GUI's, and for programmatically creating code to simulate the behavior of more complex control systems."
   ]
  },
  {
   "cell_type": "markdown",
   "metadata": {},
   "source": [
    "### .reset(t)\n",
    "\n",
    "The `labtime.reset(t)` method resets lab time to `t` (default 0). The function `setnow(t)` provides an equivalent service, and is included to provide backward compatibility early versions of `tclab`.  This function is typically  used within a GUI for repeated testing and tuning of a control algorithm."
   ]
  },
  {
   "cell_type": "code",
   "execution_count": 4,
   "metadata": {},
   "outputs": [
    {
     "name": "stdout",
     "output_type": "stream",
     "text": [
      "Resetting lab time to zero.\n",
      "labtime = 3.2901763916015625e-05 \n",
      "\n",
      "Resetting lab time to ten.\n",
      "labtime = 10.000032901763916 \n",
      "\n"
     ]
    }
   ],
   "source": [
    "from tclab import labtime\n",
    "\n",
    "print(\"Resetting lab time to zero.\")\n",
    "labtime.reset(0)\n",
    "print(\"labtime =\", labtime.time(),\"\\n\")\n",
    "\n",
    "print(\"Resetting lab time to ten.\")\n",
    "labtime.reset(10)\n",
    "print(\"labtime =\", labtime.time(),\"\\n\")"
   ]
  },
  {
   "cell_type": "markdown",
   "metadata": {},
   "source": [
    "### .stop() / .start() /.running\n",
    "\n",
    "`labtime.stop()` freezes the labtime clock at its current value. A Runtime warning is generated if there is an attempt to sleep while the labtime is stopped.\n",
    "\n",
    "`labtime.start()` restarts the labtime clock following a stoppage.\n",
    "\n",
    "`labtime.running` is a Boolean value that is `True` if the labtime clock is running, otherwise it is `False`."
   ]
  },
  {
   "cell_type": "code",
   "execution_count": 5,
   "metadata": {},
   "outputs": [
    {
     "name": "stdout",
     "output_type": "stream",
     "text": [
      "Is labtime running? True\n",
      "labtime = 10.015635967254639 \n",
      "\n",
      "Now we'll stop the labtime.\n",
      "Is labtime running? False \n",
      "\n",
      "We'll pause for 2 seconds in real time.\n",
      "\n",
      "We'll restart labtime and pick up where we left off.\n",
      "labtime = 10.015910148620605\n"
     ]
    }
   ],
   "source": [
    "from tclab import labtime\n",
    "import time\n",
    "\n",
    "print(\"Is labtime running?\", labtime.running)\n",
    "print(\"labtime =\", labtime.time(), \"\\n\")\n",
    "\n",
    "print(\"Now we'll stop the labtime.\")\n",
    "labtime.stop()\n",
    "print(\"Is labtime running?\", labtime.running, \"\\n\")\n",
    "\n",
    "print(\"We'll pause for 2 seconds in real time.\\n\")\n",
    "time.sleep(2)\n",
    "\n",
    "print(\"We'll restart labtime and pick up where we left off.\")\n",
    "labtime.start()\n",
    "print(\"labtime =\", labtime.time())"
   ]
  },
  {
   "cell_type": "markdown",
   "metadata": {},
   "source": [
    "## Auxiliary Functions\n",
    "\n",
    "### clock(tperiod, tstep)\n",
    "\n",
    "The `clock` iterator was introduced in an earlier section on synchronizing `tclab` with real time. In fact, `clock` uses the `Labtime` class to cooridinate with real time, and to provide faster than real time operation in simulation mode. "
   ]
  },
  {
   "cell_type": "code",
   "execution_count": 6,
   "metadata": {},
   "outputs": [
    {
     "name": "stdout",
     "output_type": "stream",
     "text": [
      "\n",
      "Rate = 1\n",
      "real time =  0.0    lab time =  0.0\n",
      "real time =  1.0    lab time =  1.0\n",
      "real time =  2.0    lab time =  2.0\n",
      "real time =  3.0    lab time =  3.0\n",
      "real time =  4.0    lab time =  4.0\n",
      "real time =  5.0    lab time =  5.0\n",
      "\n",
      "Rate = 10\n",
      "real time =  5.0    lab time =  5.0\n",
      "real time =  5.1    lab time =  6.0\n",
      "real time =  5.2    lab time =  7.1\n",
      "real time =  5.3    lab time =  8.0\n",
      "real time =  5.4    lab time =  9.1\n",
      "real time =  5.5    lab time = 10.0\n"
     ]
    }
   ],
   "source": [
    "from tclab import labtime, clock\n",
    "import time\n",
    "\n",
    "time_start = time.time()\n",
    "labtime_start = labtime.time()\n",
    "\n",
    "def do(n):\n",
    "    print(\"\\nRate =\", labtime.get_rate())\n",
    "    for t in clock(n):\n",
    "        t_real = time.time() - time_start\n",
    "        t_lab  = labtime.time() - labtime_start\n",
    "        print(\"real time = {0:4.1f}    lab time = {1:4.1f}\".format(t_real, t_lab))\n",
    "\n",
    "labtime.set_rate(1)\n",
    "do(5)\n",
    "\n",
    "labtime.set_rate(10)\n",
    "do(5)"
   ]
  },
  {
   "cell_type": "markdown",
   "metadata": {},
   "source": [
    "### setnow(t)\n",
    "\n",
    "`setnow(t)` performs the same function as `labtime.reset(t)`. This function appeared in an early version of `tclab`, and is included here for backwards compatibility."
   ]
  },
  {
   "cell_type": "code",
   "execution_count": null,
   "metadata": {},
   "outputs": [],
   "source": []
  }
 ],
 "metadata": {
  "kernelspec": {
   "display_name": "Python 3",
   "language": "python",
   "name": "python3"
  },
  "language_info": {
   "codemirror_mode": {
    "name": "ipython",
    "version": 3
   },
   "file_extension": ".py",
   "mimetype": "text/x-python",
   "name": "python",
   "nbconvert_exporter": "python",
   "pygments_lexer": "ipython3",
   "version": "3.6.4"
  }
 },
 "nbformat": 4,
 "nbformat_minor": 2
}
