{
 "cells": [
  {
   "cell_type": "markdown",
   "metadata": {},
   "source": [
    "# Implementing PID Controllers with Python Yield Statement\n",
    "\n",
    "Up to this point we have been implementing simple control strategies where the manipulated variable depends only on current values of the process variable and setpoint. Relay control, for example, can be expressed mathematically as\n",
    "\n",
    "$$MV = Kp (SP - PV)$$\n",
    "\n",
    "and implemented in Python as\n",
    "\n",
    "    def proportional(SP, PV):\n",
    "        MV = Kp * (SP - PV)\n",
    "        return MV\n",
    "\n",
    "Python functions carry no persistent memory from one use to the next, which is fine if the control algorithm requires no knowledge of the past.\n",
    "\n",
    "The problem, however, is that PID control requires use of past measurements. Proportional-integral control, for example, tracks the cumulative sum of the differences between setpoint and the process variable. Because a Python function disappears completely after the return statement, the value of the cumulative sum must be stored somewhere else in code. The coding problem is to figure out how and where to store that information between calls to the algorithm. We seek coding methods that encapsulate the state of control algorithms.\n",
    "\n",
    "There are several ways persistence can be provided in Python (roughly in order of increasing capability and complexity):\n",
    "\n",
    "* Generators written using the Python `yield` statement\n",
    "* Classes\n",
    "* Asynchronous programming with co-routines\n",
    "* Threads\n",
    "\n",
    "Classes, in particular, are a tool for encapsulating data and functionality within a single software entity. Classes are widely used in Python programming, and should eventually become part of every Python programmer's toolkit.\n",
    "\n",
    "As we demonstrate below, however, the Python `yield` statement is often sufficient to write self-contained implementations of control algorithm. "
   ]
  },
  {
   "cell_type": "markdown",
   "metadata": {},
   "source": [
    "## Python Yield Statement\n",
    "\n",
    "The cells below provide a very brief introduction to Python `yield` statement. More information can be found [here](https://jeffknupp.com/blog/2013/04/07/improve-your-python-yield-and-generators-explained/)\n",
    "\n",
    "A function incorporating a `yield` statement creates a persistent object called a generator.  Like the `return` statement, `yield` says to return a value and control to the calling routine. Unlike the `return` statement, however, the generator goes into a suspended state following the `yield`. On the next use it will pick up execution right where execution left off.\n",
    "\n",
    "Here's an example produces a generator for four numbers."
   ]
  },
  {
   "cell_type": "code",
   "execution_count": 1,
   "metadata": {},
   "outputs": [],
   "source": [
    "def numbers_gen():\n",
    "    yield 0\n",
    "    yield 1\n",
    "    yield 2.7182818\n",
    "    yield 3.1415926"
   ]
  },
  {
   "cell_type": "markdown",
   "metadata": {},
   "source": [
    "To use this, first create the actual generator object that will do the work. "
   ]
  },
  {
   "cell_type": "code",
   "execution_count": 2,
   "metadata": {},
   "outputs": [],
   "source": [
    "numbers = numbers_gen()"
   ]
  },
  {
   "cell_type": "markdown",
   "metadata": {},
   "source": [
    "There are several ways to get values from a generator. One way is using the `next()` function which executes generator until the next `yield` statement is encountered, then return the value."
   ]
  },
  {
   "cell_type": "code",
   "execution_count": 3,
   "metadata": {},
   "outputs": [
    {
     "name": "stdout",
     "output_type": "stream",
     "text": [
      "0\n",
      "1\n",
      "2.7182818\n",
      "3.1415926\n"
     ]
    }
   ],
   "source": [
    "print(next(numbers))\n",
    "print(next(numbers))\n",
    "print(next(numbers))\n",
    "print(next(numbers))"
   ]
  },
  {
   "cell_type": "markdown",
   "metadata": {},
   "source": [
    "The generator object `numbers` has a `send` method for sending information to the generator and causing it to execute until the next `yield`.  For this case all we need to send is `None`."
   ]
  },
  {
   "cell_type": "code",
   "execution_count": 4,
   "metadata": {},
   "outputs": [
    {
     "name": "stdout",
     "output_type": "stream",
     "text": [
      "0\n",
      "1\n",
      "2.7182818\n",
      "3.1415926\n"
     ]
    }
   ],
   "source": [
    "numbers = numbers_gen()\n",
    "print(numbers.send(None))\n",
    "print(numbers.send(None))\n",
    "print(numbers.send(None))\n",
    "print(numbers.send(None))"
   ]
  },
  {
   "cell_type": "markdown",
   "metadata": {},
   "source": [
    "The `send` method provides two-way communication with a generator. Here's an example of how that works."
   ]
  },
  {
   "cell_type": "code",
   "execution_count": 5,
   "metadata": {},
   "outputs": [],
   "source": [
    "def texter_gen():\n",
    "    a = yield \"Started\"\n",
    "    b = yield a\n",
    "    yield b"
   ]
  },
  {
   "cell_type": "code",
   "execution_count": 6,
   "metadata": {},
   "outputs": [
    {
     "name": "stdout",
     "output_type": "stream",
     "text": [
      "Started\n",
      "Hello, World\n",
      "Go Irish\n"
     ]
    }
   ],
   "source": [
    "texter = texter_gen()\n",
    "print(texter.send(None))\n",
    "print(texter.send(\"Hello, World\"))\n",
    "print(texter.send(\"Go Irish\"))"
   ]
  },
  {
   "cell_type": "code",
   "execution_count": null,
   "metadata": {},
   "outputs": [],
   "source": []
  },
  {
   "cell_type": "markdown",
   "metadata": {},
   "source": [
    "There's a subtle detail here that easy to miss. The first `send` starts the generator which then executes up to the first yield statement. At that point execution halts and the message \"Started\" is sent to the calling routine. The second `send` causes execution to pick up again and puts the message \"Hello, World\" into variable `a`.  \n",
    "\n",
    "An important point is that the first `send` to a generator must always be `None`.\n",
    "\n",
    "In the next example `yield` is placed inside an infinite loop. This function creates generators that return the square of the number sent."
   ]
  },
  {
   "cell_type": "code",
   "execution_count": 7,
   "metadata": {},
   "outputs": [],
   "source": [
    "# A function that will create generators\n",
    "def our_numbers():\n",
    "    n = 0\n",
    "    while True:\n",
    "        n = yield n*n"
   ]
  },
  {
   "cell_type": "code",
   "execution_count": 8,
   "metadata": {},
   "outputs": [
    {
     "name": "stdout",
     "output_type": "stream",
     "text": [
      "16\n",
      "144\n",
      "1764\n"
     ]
    }
   ],
   "source": [
    "# create a generator\n",
    "numbers = our_numbers()\n",
    "\n",
    "# start the generator\n",
    "numbers.send(None)        \n",
    "\n",
    "# send values to the generator and print the results\n",
    "print(numbers.send(4))\n",
    "print(numbers.send(12))\n",
    "print(numbers.send(42))\n",
    "\n",
    "# how to remove a generator when finished using it.\n",
    "numbers.close()"
   ]
  },
  {
   "cell_type": "markdown",
   "metadata": {},
   "source": [
    "Let's now consider how generators may be used for process control applications. The next cell defines a function that will create generators that perform as proportional controllers with specified gain $K_p$ and setpoint $SP$. When sent a current value of the process variable `PV`, the controllers will return a value for the manipulated variable `MV`."
   ]
  },
  {
   "cell_type": "code",
   "execution_count": 9,
   "metadata": {},
   "outputs": [],
   "source": [
    "def proportional(Kp, SP):\n",
    "    \"\"\"Creates proportional controllers with specified gain and setpoint.\"\"\"\n",
    "    MV = 0\n",
    "    while True:\n",
    "        PV = yield MV\n",
    "        MV = Kp * (SP - PV)"
   ]
  },
  {
   "cell_type": "markdown",
   "metadata": {},
   "source": [
    "Let's create and initialize two controllers with the same setpoint but different gains."
   ]
  },
  {
   "cell_type": "code",
   "execution_count": 10,
   "metadata": {},
   "outputs": [
    {
     "data": {
      "text/plain": [
       "0"
      ]
     },
     "execution_count": 10,
     "metadata": {},
     "output_type": "execute_result"
    }
   ],
   "source": [
    "controller1 = proportional(10, 40)\n",
    "controller1.send(None)\n",
    "\n",
    "controller2 = proportional(1, 40)\n",
    "controller2.send(None)"
   ]
  },
  {
   "cell_type": "markdown",
   "metadata": {},
   "source": [
    "Let's see how these controllers would respond to a PV value of 35."
   ]
  },
  {
   "cell_type": "code",
   "execution_count": 11,
   "metadata": {},
   "outputs": [
    {
     "name": "stdout",
     "output_type": "stream",
     "text": [
      "Controller 1: MV =  50\n",
      "Controller 2: MV =  5\n"
     ]
    }
   ],
   "source": [
    "PV = 35\n",
    "\n",
    "print(\"Controller 1: MV = \", controller1.send(PV))\n",
    "print(\"Controller 2: MV = \", controller2.send(PV))"
   ]
  },
  {
   "cell_type": "markdown",
   "metadata": {},
   "source": [
    "This is a important feature from a coding and maintenance perspective. We need to create and maintain only one copy of the control algorithm."
   ]
  },
  {
   "cell_type": "markdown",
   "metadata": {},
   "source": [
    "## PID Control Implementation\n",
    "\n",
    "A simple form of Proportional-Integral control is an example of a controller with internal state. In velocity form,\n",
    "\n",
    "\\begin{align}\n",
    "MV_k & = \\overline{MV} + K_P e_k  + K_I \\sum_{k'=0}^k e_{k'}(t_k - t_{k-1}) + K_D \\frac{e_k - e_{k-1}}{t_k - t_{k-1}}\n",
    "\\end{align}\n",
    "\n",
    "where $e_k$ is the difference between setpoint and measured process variable\n",
    "\n",
    "\\begin{align}\n",
    "e_k = SP_k - PV_k\n",
    "\\end{align}\n",
    "\n",
    "$K_P$, $K_I$, and $K_D$ are control constants, and $t_k$ is the sampling time. \n",
    "\n",
    "The following cell provides a direct implementation of this algorithm as a Python generator."
   ]
  },
  {
   "cell_type": "code",
   "execution_count": 12,
   "metadata": {},
   "outputs": [],
   "source": [
    "def PID(Kp, Ki, Kd, MV_bar=0):\n",
    "    # initialize stored data\n",
    "    e_prev = 0\n",
    "    t_prev = -100\n",
    "    I = 0\n",
    "    \n",
    "    # initial control\n",
    "    MV = MV_bar\n",
    "    \n",
    "    while True:\n",
    "        # yield MV, wait for new t, SP, PV\n",
    "        t, SP, PV = yield MV\n",
    "        \n",
    "        # PID calculations\n",
    "        e = SP - PV\n",
    "        \n",
    "        P = Kp*e\n",
    "        I = I + Ki*e*(t - t_prev)\n",
    "        D = Kd*(e - e_prev)/(t - t_prev)\n",
    "        \n",
    "        MV = MV_bar + P + I + D\n",
    "        \n",
    "        # update stored data for next iteration\n",
    "        e_prev = e\n",
    "        t_prev = t"
   ]
  },
  {
   "cell_type": "markdown",
   "metadata": {},
   "source": [
    "## Simulation\n",
    "\n",
    "Let's see how well this PID implementation works. We'll perform the simulation with a setpoint that starts at room temperature, then rises to 50°C at $t = 50$ seconds. The data historian will record values of the setpoint, process variable, computed manipulated variable, and the actual value of the manipulated variable."
   ]
  },
  {
   "cell_type": "code",
   "execution_count": 13,
   "metadata": {
    "scrolled": false
   },
   "outputs": [
    {
     "data": {
      "image/png": "[encoded data removed]",
      "text/plain": [
       "<matplotlib.figure.Figure at 0x10b78b2b0>"
      ]
     },
     "metadata": {},
     "output_type": "display_data"
    },
    {
     "name": "stdout",
     "output_type": "stream",
     "text": [
      "TCLab Model disconnected successfully.\n"
     ]
    },
    {
     "data": {
      "image/png": "[encoded data removed]",
      "text/plain": [
       "<matplotlib.figure.Figure at 0x10b78b2b0>"
      ]
     },
     "metadata": {},
     "output_type": "display_data"
    }
   ],
   "source": [
    "%matplotlib inline\n",
    "from tclab import clock, setup, Historian, Plotter\n",
    "\n",
    "TCLab = setup(connected=False, speedup=10)\n",
    "\n",
    "controller = PID(2, 0.1, 2)        # create pid control\n",
    "controller.send(None)              # initialize\n",
    "\n",
    "tfinal = 800\n",
    "\n",
    "with TCLab() as lab:\n",
    "    h = Historian([('SP', lambda: SP), ('T1', lambda: lab.T1), ('MV', lambda: MV), ('Q1', lab.Q1)])\n",
    "    p = Plotter(h, tfinal)\n",
    "    T1 = lab.T1\n",
    "    for t in clock(tfinal, 2):\n",
    "        SP = T1 if t < 50 else 50           # get setpoint\n",
    "        PV = lab.T1                         # get measurement\n",
    "        MV = controller.send([t, SP, PV])   # compute manipulated variable\n",
    "        lab.U1 = MV                         # apply \n",
    "        p.update(t)                         # update information display"
   ]
  },
  {
   "cell_type": "markdown",
   "metadata": {},
   "source": [
    "## Analysis\n",
    "\n",
    "The good news is that the controller did steer the heater to the desired setpoint. There was some overshoot and undershoot along the way, but eventually the system did get there.\n",
    "\n",
    "In examining the response more closely, however, we can see at least two issues that must be addressed before this control algorithm could be applied to large scale indusrial control:\n",
    "\n",
    "1. A sudden adn abrubt \"kick\" to the manipulated variable when the setpoint changes.\n",
    "2. A mismatch between computed and actually feasible control actions."
   ]
  },
  {
   "cell_type": "code",
   "execution_count": null,
   "metadata": {},
   "outputs": [],
   "source": []
  }
 ],
 "metadata": {
  "kernelspec": {
   "display_name": "Python 3",
   "language": "python",
   "name": "python3"
  },
  "language_info": {
   "codemirror_mode": {
    "name": "ipython",
    "version": 3
   },
   "file_extension": ".py",
   "mimetype": "text/x-python",
   "name": "python",
   "nbconvert_exporter": "python",
   "pygments_lexer": "ipython3",
   "version": "3.6.4"
  }
 },
 "nbformat": 4,
 "nbformat_minor": 2
}
