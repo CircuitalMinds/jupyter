{
 "cells": [
  {
   "cell_type": "markdown",
   "metadata": {},
   "source": [
    "# PID Control - Laboratory"
   ]
  },
  {
   "cell_type": "markdown",
   "metadata": {},
   "source": [
    "## PID Control\n",
    "\n",
    "The following Python code creates a PID generator that can be use for feedback control.  This the same generator we developed in class on Thursday, with an additional filter used for a more robust implementation of derivative action.  In today's laboratory you will use this code to test several aspects of feedback control of the TCLab heater."
   ]
  },
  {
   "cell_type": "code",
   "execution_count": null,
   "metadata": {},
   "outputs": [],
   "source": [
    "def PID(Kp, Ki, Kd, MV_bar=0, beta=1, gamma=0):\n",
    "    # initialize stored data\n",
    "    t_prev = -100\n",
    "    P = 0\n",
    "    I = 0\n",
    "    D = 0\n",
    "    S = 0\n",
    "    N = 10\n",
    "    \n",
    "    # initial control\n",
    "    MV = MV_bar\n",
    "    \n",
    "    while True:\n",
    "        # yield MV, wait for new t, SP, PV, TR\n",
    "        data = yield MV\n",
    "        \n",
    "        # see if a tracking data is being supplied\n",
    "        if len(data) < 4:\n",
    "            t, SP, PV = data\n",
    "        else:\n",
    "            t, SP, PV, TR = data\n",
    "            I = TR - MV_bar - P - D\n",
    "        \n",
    "        # PID calculations\n",
    "        P = Kp*(beta*SP - PV)\n",
    "        I = I + Ki*(SP - PV)*(t - t_prev)\n",
    "        eD = gamma*SP - PV\n",
    "        D = N*Kp*(Kd*eD - S)/(Kd + N*Kp*(t - t_prev))\n",
    "        MV = MV_bar + P + I + D\n",
    "        \n",
    "        # Constrain MV to range 0 to 100 for anti-reset windup\n",
    "        MV = 0 if MV < 0 else 100 if MV > 100 else MV\n",
    "        I = MV - MV_bar - P - D\n",
    "        \n",
    "        # update stored data for next iteration\n",
    "        S = D*(t - t_prev) + S\n",
    "        t_prev = t"
   ]
  },
  {
   "cell_type": "markdown",
   "metadata": {},
   "source": [
    "## Exercise 1.  Is the transfer from manual to automatic bumpless?\n",
    "\n",
    "The cell below is a starter code to implement feedback control. The code establishes a setpoint of 40°C, and for the first 30 seconds runs under manual control. The control then transfers to automatic. Do you observe bumpless transfer?  Explain what you see."
   ]
  },
  {
   "cell_type": "code",
   "execution_count": null,
   "metadata": {
    "scrolled": false
   },
   "outputs": [],
   "source": [
    "%matplotlib inline\n",
    "from tclab import clock, setup, Historian, Plotter\n",
    "\n",
    "TCLab = setup(connected=True)\n",
    "\n",
    "controller = PID(Kp=2, Ki=0.1, Kd=2, beta=0)   # create pid control\n",
    "controller.send(None)                          # initialize\n",
    "\n",
    "tfinal = 600\n",
    "SP = 40\n",
    "\n",
    "with TCLab() as lab:\n",
    "    sources = [('SP', lambda: SP), ('T1', lambda: lab.T1), ('MV', lambda: MV), ('Q1', lab.Q1)]\n",
    "    h = Historian(sources)\n",
    "    p = Plotter(h, tfinal)\n",
    "    for t in clock(tfinal, 2):\n",
    "        PV = lab.T1                            # get measurement\n",
    "        MV = controller.send([t, SP, PV, lab.U1])  # for bumpless transfer\n",
    "        if t < 100:                            # choice between manual and auto control\n",
    "            MV = 50\n",
    "        lab.U1 = MV                            # apply \n",
    "        p.update(t)                            # update information display"
   ]
  },
  {
   "cell_type": "markdown",
   "metadata": {},
   "source": [
    "## Exercise 2\n",
    "\n",
    "Create a new experiment in the cell below.  The new experiment should do the following:\n",
    "\n",
    "* Add a second PID controller for the second heater.  The control constants should be Kp=4, Ki=0.2, Kd=2, beta=0.\n",
    "* Should start up under automatic control with setpoints of 40 deg C for both heaters.  \n",
    "* At t = 100, the setpoint for heater 1 should be raised to 50 deg C\n",
    "* You will need to modify the 'sources' line to include the additional data.  Please see an instructor if you need help with this.\n",
    "\n",
    "Run the experiment for at least 800 seconds.  How would describe the behavior at the point when the setpoint is changed?"
   ]
  },
  {
   "cell_type": "code",
   "execution_count": null,
   "metadata": {},
   "outputs": [],
   "source": []
  }
 ],
 "metadata": {
  "kernelspec": {
   "display_name": "Python 3",
   "language": "python",
   "name": "python3"
  },
  "language_info": {
   "codemirror_mode": {
    "name": "ipython",
    "version": 3
   },
   "file_extension": ".py",
   "mimetype": "text/x-python",
   "name": "python",
   "nbconvert_exporter": "python",
   "pygments_lexer": "ipython3",
   "version": "3.6.4"
  }
 },
 "nbformat": 4,
 "nbformat_minor": 2
}
