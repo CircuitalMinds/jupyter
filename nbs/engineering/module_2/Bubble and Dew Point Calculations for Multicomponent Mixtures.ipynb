{
 "cells": [
  {
   "cell_type": "markdown",
   "metadata": {
    "deletable": true,
    "editable": true
   },
   "source": [
    "# Bubble and Dew Point for Multicomponent Mixtures\n",
    "\n",
    "by Jeffrey Kantor  (jeff at nd.edu). The latest version of this notebook is available at [https://github.com/jckantor/CBE20255](https://github.com/jckantor/CBE20255). \n",
    "\n",
    "### Summary\n",
    "\n",
    "This [Jupyter notebook](http://jupyter.org/notebook.html) illustrates the use of Raoult's Law and Antoine's equation to compute the bubble and dew points for an ideal solution. The video is used with permission from [learnCheme.com](http://learncheme.ning.com/), a project at the University of Colorado funded by the National Science Foundation and the Shell Corporation."
   ]
  },
  {
   "cell_type": "markdown",
   "metadata": {
    "deletable": true,
    "editable": true
   },
   "source": [
    "## Bubble and Dew Point Equations for Ideal Mixtures"
   ]
  },
  {
   "cell_type": "markdown",
   "metadata": {
    "deletable": true,
    "editable": true
   },
   "source": [
    "Initialize the IPython workspace with with default settings for plots."
   ]
  },
  {
   "cell_type": "code",
   "execution_count": 1,
   "metadata": {
    "collapsed": false,
    "deletable": true,
    "editable": true
   },
   "outputs": [],
   "source": [
    "import numpy as np\n",
    "import matplotlib.pyplot as plt\n",
    "%matplotlib inline"
   ]
  },
  {
   "cell_type": "code",
   "execution_count": 2,
   "metadata": {
    "collapsed": false,
    "deletable": true,
    "editable": true
   },
   "outputs": [
    {
     "data": {
      "image/jpeg": "[encoded data removed]",
      "text/html": [
       "\n",
       "        <iframe\n",
       "            width=\"400\"\n",
       "            height=\"300\"\n",
       "            src=\"https://www.youtube.com/embed/theq1Go858E\"\n",
       "            frameborder=\"0\"\n",
       "            allowfullscreen\n",
       "        ></iframe>\n",
       "        "
      ],
      "text/plain": [
       "<IPython.lib.display.YouTubeVideo at 0x7f09ef1198d0>"
      ]
     },
     "execution_count": 2,
     "metadata": {},
     "output_type": "execute_result"
    }
   ],
   "source": [
    "from IPython.display import YouTubeVideo\n",
    "YouTubeVideo('theq1Go858E') "
   ]
  },
  {
   "cell_type": "markdown",
   "metadata": {
    "deletable": true,
    "editable": true
   },
   "source": [
    "Bubble and dew point calculations for ideal mixtures are all about solving a fixed set of equations. If we have $N$ chemical species, and refer to the liquid phase mole fractions as $x_1, \\ldots, x_N$ and the vapor phase mole fractions as $y_1, \\ldots, y_N$, then two of these equations are\n",
    "\n",
    "$$x_1 + x_2 + \\cdots + x_N = 1$$\n",
    "\n",
    "and\n",
    "\n",
    "$$y_1 + y_2 + \\cdots + y_N = 1$$\n",
    "\n",
    "The remaining equations come from Raoult's law. For each of the $n = 1, 2, \\ldots, N$ species we have an equation\n",
    "\n",
    "$$ y_n P = x_n P_n^{sat}(T)$$\n",
    "\n",
    "where $P_n^{sat}(T)$ is determined from experimental data or from a correlation such as Antoine's equation. This gives us a total $N+2$ equations. \n",
    "\n",
    "The unknown variables are the $N$ values of $x_n$, the $N$ values of $y_n$, plus temperature $T$ and pressure $P$ -- a total $2N + 2$ variables. With this as context, we can identify two types of problems.\n",
    "\n",
    "#### Bubble Point Equations\n",
    "\n",
    "If the composition of the liquid phase is known, then the equilibrium equations can be solved for the unknown vapor phase composition\n",
    "\n",
    "$$y_n = x_n \\frac{P_n^{sat}(T)}{P}$$\n",
    "\n",
    "Substituting these values into the equation $y_1 + y_2 + \\cdots + y_N = 1$ gives an equation.\n",
    "\n",
    "$$ x_1\\frac{P_1^{sat}(T)}{P} + \\cdots + x_N \\frac{P_N^{sat}(T)}{P} - 1 = 0$$\n",
    "\n",
    "If $P$ is known, then the equilibrium value of $T$ is a root to this equation that can be found using standard root-finding functions in the Python or Matlab libraries.\n",
    "\n",
    "If $T$ is known, the solution for $P$ is simply\n",
    "\n",
    "$$ P = x_1 P_1^{sat}(T) + x_2 P_2^{sat}(T) + \\cdots + x_N P_N^{sat}(T)$$\n",
    "\n",
    "Once both $T$ and $P$ are known, the vapor phase composition can be computed by substituting those values back into the first equation.\n",
    "\n",
    "#### Dew Point Equations\n",
    "\n",
    "If the composition of the vapor phase is known, then the equilibrium equations can be solved for the unknown vapor liquid phase composition\n",
    "\n",
    "$$x_n = y_n \\frac{P}{P_n^{sat}(T)}$$\n",
    "\n",
    "Substituting these values into the equation $x_1 + x_2 + \\cdots + x_N = 1$ gives an equation\n",
    "\n",
    "$$ y_1\\frac{P}{P_1^{sat}(T)} + \\cdots + y_N \\frac{P}{P_N^{sat}(T)} - 1 = 0$$\n",
    "\n",
    "If $P$ is known, then the equilibrium value of $T$ is a root to this equation that can be found using standard root-finding functions in the Python or Matlab libraries.\n",
    "\n",
    "If $T$ is known, the solution for $P$ is \n",
    "\n",
    "$$\\frac{1}{P} = \\frac{y_1}{P_1^{sat}(T)} + \\frac{y_2}{P_2^{sat}(T)} + \\cdots + \\frac{y_N}{P_N^{sat}(T)}$$\n",
    "\n",
    "Once both $T$ and $P$ are known, the liquid phase composition can be computed by substituting those values back into the first equation."
   ]
  },
  {
   "cell_type": "markdown",
   "metadata": {
    "deletable": true,
    "editable": true
   },
   "source": [
    "## Multicomponent Mixtures"
   ]
  },
  {
   "cell_type": "code",
   "execution_count": 3,
   "metadata": {
    "collapsed": false,
    "deletable": true,
    "editable": true
   },
   "outputs": [],
   "source": [
    "Psat = dict()\n",
    "Psat['acetone'] = lambda T: 10**(7.02447 - 1161.0/(224 + T))\n",
    "Psat['benzene'] = lambda T: 10**(6.89272 - 1203.531/(219.888 + T))\n",
    "Psat['ethanol'] = lambda T: 10**(8.04494 - 1554.3/(222.65 + T))\n",
    "Psat['toluene'] = lambda T: 10**(6.95805 - 1346.773/(219.693 + T))"
   ]
  },
  {
   "cell_type": "markdown",
   "metadata": {
    "deletable": true,
    "editable": true
   },
   "source": [
    "For the multicomponent case we will use Python dictionaries to store compositions of the liquid phases. Bubble point functions.\n",
    "\n",
    "Here we use the `fsolve` function from the scipy.optimize library to return the root of this equation. Note that `fsolve` returns a list of roots, so the terminal `[0]` on the expression selects the first root (and presumably only) of the bubble point equation."
   ]
  },
  {
   "cell_type": "code",
   "execution_count": 4,
   "metadata": {
    "collapsed": false,
    "deletable": true,
    "editable": true
   },
   "outputs": [],
   "source": [
    "from scipy.optimize import fsolve\n",
    "def Tbub(species,x):\n",
    "    return fsolve(lambda T : sum([x[s]*Psat[s](T)/P for s in species]) - 1.0,60)[0]\n",
    "\n",
    "def ybub(species,x):\n",
    "    return {s: x[s]*Psat[s](Tbub(species,x))/P for s in species}"
   ]
  },
  {
   "cell_type": "markdown",
   "metadata": {
    "deletable": true,
    "editable": true
   },
   "source": [
    "Dew point functions"
   ]
  },
  {
   "cell_type": "code",
   "execution_count": 5,
   "metadata": {
    "collapsed": false,
    "deletable": true,
    "editable": true
   },
   "outputs": [],
   "source": [
    "def Tdew(species,y):\n",
    "    return fsolve(lambda T : sum([y[s]*P/Psat[s](T) for s in species]) - 1.0,60)[0]\n",
    "\n",
    "def xdew(species,y):\n",
    "    return {s: y[s]*P/Psat[s](Tdew(species,y)) for s in species}"
   ]
  },
  {
   "cell_type": "markdown",
   "metadata": {
    "deletable": true,
    "editable": true
   },
   "source": [
    "Demonstration"
   ]
  },
  {
   "cell_type": "code",
   "execution_count": 6,
   "metadata": {
    "collapsed": false,
    "deletable": true,
    "editable": true
   },
   "outputs": [
    {
     "name": "stdout",
     "output_type": "stream",
     "text": [
      "\n",
      "Bubble Point Calculations\n",
      "Temperature = 82.50 [deg C]\n",
      "Pressure  =  608.00 [mmHg]\n",
      "  Composition    x[s]   y[s]\n",
      "    acetone     0.100  0.284\n",
      "    benzene     0.300  0.403\n",
      "    toluene     0.600  0.313\n",
      "\n",
      "Dew Point Calculations\n",
      "Temperature = 93.17 [deg C]\n",
      "Pressure  =  608.00 [mmHg]\n",
      "  Composition    x[s]   y[s]\n",
      "    acetone     0.026  0.100\n",
      "    benzene     0.163  0.300\n",
      "    toluene     0.810  0.600\n"
     ]
    }
   ],
   "source": [
    "species = ['acetone','benzene','toluene']\n",
    "z = dict()\n",
    "\n",
    "P = 0.8*760\n",
    "z['acetone'] = 0.1\n",
    "z['benzene'] = 0.3\n",
    "z['toluene'] = 0.6\n",
    "\n",
    "print(\"\\nBubble Point Calculations\")\n",
    "\n",
    "x = z\n",
    "T = Tbub(species,x)\n",
    "y = ybub(species,x)\n",
    "\n",
    "print(\"Temperature = {:5.2f} [deg C]\".format(T))\n",
    "print(\"Pressure  = {:7.2f} [mmHg]\".format(P))\n",
    "print(\"  Composition    x[s]   y[s]\")\n",
    "for s in species:\n",
    "    print(\"    {:10s} {:6.3f} {:6.3f}\".format(s,x[s],y[s]))\n",
    "\n",
    "print(\"\\nDew Point Calculations\")\n",
    "\n",
    "y = z\n",
    "T = Tdew(species,y)\n",
    "x = xdew(species,y)\n",
    "\n",
    "print(\"Temperature = {:5.2f} [deg C]\".format(T))\n",
    "print(\"Pressure  = {:7.2f} [mmHg]\".format(P))\n",
    "print(\"  Composition    x[s]   y[s]\")\n",
    "for s in species:\n",
    "    print(\"    {:10s} {:6.3f} {:6.3f}\".format(s,x[s],y[s]))\n"
   ]
  }
 ],
 "metadata": {
  "anaconda-cloud": {},
  "kernelspec": {
   "display_name": "Python [default]",
   "language": "python",
   "name": "python2"
  },
  "language_info": {
   "codemirror_mode": {
    "name": "ipython",
    "version": 2
   },
   "file_extension": ".py",
   "mimetype": "text/x-python",
   "name": "python",
   "nbconvert_exporter": "python",
   "pygments_lexer": "ipython2",
   "version": "2.7.12"
  }
 },
 "nbformat": 4,
 "nbformat_minor": 0
}
