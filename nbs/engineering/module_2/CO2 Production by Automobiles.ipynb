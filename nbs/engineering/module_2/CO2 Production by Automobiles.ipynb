{
 "cells": [
  {
   "cell_type": "markdown",
   "metadata": {},
   "source": [
    "# $CO_2$ Production by Automobiles\n",
    "\n",
    "by Jeffrey Kantor  (jeff at nd.edu). The latest version of this notebook is available at [https://github.com/jckantor/CBE20255](https://github.com/jckantor/CBE20255). \n",
    "\n",
    "### Summary\n",
    "\n",
    "This notebook demonstrates the solution of a mass balance for a vehicle powered by an internal combusion engine."
   ]
  },
  {
   "cell_type": "markdown",
   "metadata": {},
   "source": [
    "## Problem Statement\n",
    "\n",
    "### Part a.\n",
    "\n",
    "A recent model automobile is advertised with a fuel consumption of 30 miles per gallon of gasoline. Assume gasoline consists of pure octane $C_8H_{18}$, has a specific gravity of 0.74, and is consumed via the chemical reaction\n",
    "\n",
    "$$C_8H_{18} + \\frac{25}{2}\\ O_2 \\longrightarrow 8\\ CO_2 + 9\\ H_2O$$\n",
    "\n",
    "How much $CO_2$ is generated per mile driven?  Report your answer in grams/mile.\n",
    "\n",
    "#### Solution"
   ]
  },
  {
   "cell_type": "code",
   "execution_count": 1,
   "metadata": {
    "collapsed": false
   },
   "outputs": [
    {
     "name": "stdout",
     "output_type": "stream",
     "text": [
      "Gasoline consumed per mile =  93.4 g/mile\n",
      "Gram moles of octane per mile =  0.819 gmol/mile\n",
      "CO2 Production = 288.3 g/mile\n"
     ]
    }
   ],
   "source": [
    "liters_per_m3 = 1000.0\n",
    "gallons_per_m3 = 264.17\n",
    "\n",
    "V_lpm = (1.0*liters_per_m3/gallons_per_m3)/30.0      # volume of gasline in liters/mile\n",
    "m_kg = 0.74*V_lpm                                    # mass of gasoline in kg/mile\n",
    "m_grams = m_kg*1000.0                                # mass of gasoline in grams/mile\n",
    "n_octane = m_grams/114.0                             # moles of gasoline in gmol/mile\n",
    "n_co2 = 8.0*n_octane                                 # modles of CO2 in gmol/mile\n",
    "m_co2 = 44.0*n_co2                                   # mass of CO2 in grams/mile\n",
    "\n",
    "print(\"Gasoline consumed per mile = \", round(m_grams,1), \"g/mile\")\n",
    "print(\"Gram moles of octane per mile = \", round(n_octane,3) ,\"gmol/mile\")\n",
    "print(\"CO2 Production =\", round(m_co2,1), \"g/mile\")"
   ]
  },
  {
   "cell_type": "markdown",
   "metadata": {},
   "source": [
    "### Part b.\n",
    "\n",
    "Owners of the Tesla S electric car report an average electricity consumption of 0.367 kilowatt-hours per mile driven. \n",
    "\n",
    "Assume the electricity is produced from natural gas which, [according to the U.S. Energy Information Administration](https://www.eia.gov/tools/faqs/faq.cfm?id=74&t=11), produces 117.0 pounds of $CO_2$ per million BTU consumed, and requires 10,400 BTU to produce a kilowatt-hour of electricity. Assume an overall transmission efficiency of 80% from the power plant to the Tesla motor.  How many grams of $CO_2$ are generated per mile driven by the Tesla? \n",
    "\n",
    "#### Solution"
   ]
  },
  {
   "cell_type": "code",
   "execution_count": 2,
   "metadata": {
    "collapsed": false
   },
   "outputs": [
    {
     "name": "stdout",
     "output_type": "stream",
     "text": [
      "Thermal energy requirement = 4771.0 BTU per mile driven\n"
     ]
    }
   ],
   "source": [
    "grams_per_lb = 453.593\n",
    "\n",
    "w_kwh = 0.367                     # kwh per mile\n",
    "q_btu = (w_kwh/0.8)*10400.0       # natural gas per mile\n",
    "\n",
    "print(\"Thermal energy requirement =\",round(q_btu,2),\"BTU per mile driven\")"
   ]
  },
  {
   "cell_type": "code",
   "execution_count": 3,
   "metadata": {
    "collapsed": false
   },
   "outputs": [
    {
     "name": "stdout",
     "output_type": "stream",
     "text": [
      "CO2 Production = 253.2 grams per mile\n"
     ]
    }
   ],
   "source": [
    "m_co2_lb = 117.0*q_btu/1.0e6           # mass CO2 lb/mile\n",
    "m_co2_grams = m_co2_lb*grams_per_lb    # mass CO2 grams/mile\n",
    "\n",
    "print(\"CO2 Production =\", round(m_co2_grams,2), \"grams per mile\")"
   ]
  },
  {
   "cell_type": "code",
   "execution_count": null,
   "metadata": {
    "collapsed": true
   },
   "outputs": [],
   "source": []
  }
 ],
 "metadata": {
  "anaconda-cloud": {},
  "kernelspec": {
   "display_name": "Python 3",
   "language": "python",
   "name": "python3"
  },
  "language_info": {
   "codemirror_mode": {
    "name": "ipython",
    "version": 3
   },
   "file_extension": ".py",
   "mimetype": "text/x-python",
   "name": "python",
   "nbconvert_exporter": "python",
   "pygments_lexer": "ipython3",
   "version": "3.6.5"
  }
 },
 "nbformat": 4,
 "nbformat_minor": 2
}
