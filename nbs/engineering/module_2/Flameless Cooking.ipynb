{
 "cells": [
  {
   "cell_type": "markdown",
   "metadata": {},
   "source": [
    "# Flameless Cooking\n",
    "\n",
    "by Jeffrey Kantor  (jeff at nd.edu). The latest version of this notebook is available at [https://github.com/jckantor/CBE20255](https://github.com/jckantor/CBE20255). \n",
    "\n",
    "### Summary\n",
    "\n",
    "This [Jupyter notebook](http://jupyter.org/notebook.html) outlines a project for the design of a flameless cooking product. The project requires use of generation/consumption analysis, mass and energy balances,and creative thought about product design."
   ]
  },
  {
   "cell_type": "markdown",
   "metadata": {
    "slideshow": {
     "slide_type": "slide"
    }
   },
   "source": [
    "## Overview\n",
    "\n",
    "Recently, a number of vendors, such as [MagicCook](http://www.magiccook.net/), [BaroCook](http://www.barocook.net/eng/), and [MealSpec](http://www.campingsurvival.com/meflmrehe.html) have developed portable devices for cooking single servings of hot food that don't require flame or electricity. These devices could be used by backpackers, military, or workers seeking a hot meal in a location without access to traditional cooking appliances. The goal of this project is to analyze the performance of these devices, and to engage your creativity in the design of new products."
   ]
  },
  {
   "cell_type": "code",
   "execution_count": 2,
   "metadata": {
    "collapsed": false
   },
   "outputs": [
    {
     "data": {
      "image/jpeg": "[encoded data removed]",
      "text/html": [
       "\n",
       "        <iframe\n",
       "            width=\"560\"\n",
       "            height=\"315\"\n",
       "            src=\"https://www.youtube.com/embed/Coz7LRoTnYM\"\n",
       "            frameborder=\"0\"\n",
       "            allowfullscreen\n",
       "        ></iframe>\n",
       "        "
      ],
      "text/plain": [
       "<IPython.lib.display.YouTubeVideo at 0x106c66e80>"
      ]
     },
     "execution_count": 2,
     "metadata": {},
     "output_type": "execute_result"
    }
   ],
   "source": [
    "from IPython.display import YouTubeVideo\n",
    "YouTubeVideo(\"Coz7LRoTnYM\",560,315)"
   ]
  },
  {
   "cell_type": "markdown",
   "metadata": {},
   "source": [
    "The most widely used device of this kind is the [Flameless Ration Heater](http://en.wikipedia.org/wiki/Flameless_ration_heater) (FRE) used by the U.S. Army to heat single serving Meals Ready-to-Eat (MRE) food rations. The [history of its development](http://www.dtic.mil/dtic/tr/fulltext/u2/a265693.pdf) provides insight into the many considerations and tradeoffs incorporated into a product of this type. The [patented product](http://www.google.com/patents/US5611329) consists of 7.5 grams of a magnesium/iron powder alloy in a 95/5 wt% ratio\n",
    "\n",
    "Understandably, none of these companies is forthcoming with the chemistry of their heating packs. One [reviewer](http://www.outdoorlife.com/blogs/wringer/gear-review-flameless-portable-cooking-systems-backcountry-camping) suggests the MealSpec heating pack contains calcium oxide ($CaO$, also known as quicklime) and aluminum ($Al$) powder which react in the presence of water. \n",
    "\n",
    "There are a number of reactions that have been proposed for these applications. Among the most well known is the hydration of quicklime via the exothermic reaction\n",
    "\n",
    "$$CaO (s) + H_2O (l) \\longrightarrow Ca(OH)_2 (aq)$$\n",
    "\n",
    "Aluminum can react with water in various ways to produce by-product hydrogen gas\n",
    "\n",
    "\\begin{align*}\n",
    "Al + 3 H_2O \\longrightarrow Al(OH)_3 + \\frac{3}{2} H_2 \\\\\n",
    "\\\\\n",
    "Al + 2 H_2O \\longrightarrow AlOOH + \\frac{3}{2} H_2 \\\\\n",
    "\\\\\n",
    "Al + \\frac{3}{2} H_2O \\longrightarrow \\frac{3}{2} Al_2O_3 + frac{3}{2} H_2 \\\\\n",
    "\\end{align*}\n",
    "\n",
    "Katoite can be formed by several mechanisms including\n",
    "\n",
    "$$Al_2O_3 + 3 CaO + 6 H2O \\longrightarrow Ca_3Al_2[(OH)_4]_3$$\n",
    "\n",
    "and\n",
    "\n",
    "$$Ca(OH)_2 + Al (s) + 8 H_2O \\longrightarrow Ca_3Al_2((OH)_4)_3 + 6H_2$$"
   ]
  },
  {
   "cell_type": "markdown",
   "metadata": {},
   "source": [
    "E.G. Avvakumov, E.T. Devyatkina, N.V. Kosova, Mechanochemical Reactions of Hydrated Oxides, Journal of Solid State Chemistry, Volume 113, Issue 2, December 1994, Pages 379-383, ISSN 0022-4596, http://dx.doi.org/10.1006/jssc.1994.1384.\n",
    "(http://www.sciencedirect.com/science/article/pii/S0022459684713843)"
   ]
  },
  {
   "cell_type": "markdown",
   "metadata": {
    "collapsed": true
   },
   "source": [
    "## Goals"
   ]
  },
  {
   "cell_type": "markdown",
   "metadata": {},
   "source": [
    "The goal of this project is to design a flameless cooking product that could be a adapted to widespread civilian and military use.  In the baseline design, the product should meet the U.S. Military specification for a [Flameless Ration Heater](http://en.wikipedia.org/wiki/Flameless_ration_heater), namely to raise the temperature of an 8 oz. (226.8g) entree by 100 degrees F (56.8 C) in twelve minutes, with no visible flame.\n",
    "\n",
    "1. Select a chemistry. Above all, the product must be safe, effective, inexpensive to manufacture, have a long shelf life, and disposable in an environmentally sound manner. How can you validate your proposed chemistry?\n",
    "\n",
    "2. Product design. How would you package the product for the marketplace? What is your intended market? How would you package the technology? How do you make a sustainable business?"
   ]
  },
  {
   "cell_type": "code",
   "execution_count": null,
   "metadata": {
    "collapsed": true
   },
   "outputs": [],
   "source": []
  }
 ],
 "metadata": {
  "kernelspec": {
   "display_name": "Python [conda root]",
   "language": "python",
   "name": "conda-root-py"
  },
  "language_info": {
   "codemirror_mode": {
    "name": "ipython",
    "version": 3
   },
   "file_extension": ".py",
   "mimetype": "text/x-python",
   "name": "python",
   "nbconvert_exporter": "python",
   "pygments_lexer": "ipython3",
   "version": "3.5.2"
  }
 },
 "nbformat": 4,
 "nbformat_minor": 0
}
