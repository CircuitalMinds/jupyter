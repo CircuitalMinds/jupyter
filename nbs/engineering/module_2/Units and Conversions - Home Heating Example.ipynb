{
 "cells": [
  {
   "cell_type": "markdown",
   "metadata": {},
   "source": [
    "# Units and Conversions - Home Heating Example\n",
    "\n",
    "by Jeffrey Kantor  (jeff at nd.edu). The latest version of this notebook is available at [https://github.com/jckantor/CBE20255](https://github.com/jckantor/CBE20255). \n",
    "\n",
    "### Summary\n",
    "\n",
    "This [Jupyter notebook](http://ipython.org/notebook.html) demonstrates unit conversions for some typical calculations of energy consumption."
   ]
  },
  {
   "cell_type": "markdown",
   "metadata": {},
   "source": [
    "## Problem Statement\n",
    "\n",
    "A typical energy efficient home in the midwest requires 50 million BTUs to heat the home for the winter.\n",
    "\n",
    "### Part a.\n",
    "\n",
    "If the price of electricity is \\$0.08 USD per kilowatt hour, what would be the cost to heat a typical home with electricity?\n",
    "\n",
    "#### Solution"
   ]
  },
  {
   "cell_type": "code",
   "execution_count": 1,
   "metadata": {
    "collapsed": false
   },
   "outputs": [
    {
     "name": "stdout",
     "output_type": "stream",
     "text": [
      "('Winter heating cost = $', 1171.41, 'USD')\n"
     ]
    }
   ],
   "source": [
    "Q_btu = 50e6    # BTU\n",
    "\n",
    "price = 0.08               # $ per kwh\n",
    "btu_per_joule = 9.486e-4   # conversion factor\n",
    "kwh_per_joule = 2.778e-7   # conversion factor\n",
    "\n",
    "cost = price*kwh_per_joule*Q_btu/btu_per_joule\n",
    "\n",
    "print(\"Winter heating cost = $\", round(cost,2), \"USD\")"
   ]
  },
  {
   "cell_type": "markdown",
   "metadata": {},
   "source": [
    "### Part b.\n",
    "\n",
    "Natural gas is transported by pipeline from  producing areas of the country to the midwest where it stored prior to distribution.  For heating purposes, the energy content of natural gas is 1000 BTU per cubic foot at 1 atm and 15 $^\\circ C$.  \n",
    "\n",
    "If the natural gas is stored at 1000 psia and 15 $^\\circ C$, how large a storage tank is required to store natural gas for the winter? Report your answer in cubic meters.\n",
    "\n",
    "#### Solution\n",
    "\n",
    "The volume of natural gas required is determined by the heating requirement."
   ]
  },
  {
   "cell_type": "code",
   "execution_count": 2,
   "metadata": {
    "collapsed": true
   },
   "outputs": [],
   "source": [
    "V_ft3 = Q_btu/1000    # ft^3"
   ]
  },
  {
   "cell_type": "markdown",
   "metadata": {},
   "source": [
    "Next compute the amount of natural gas required in lb moles"
   ]
  },
  {
   "cell_type": "code",
   "execution_count": 3,
   "metadata": {
    "collapsed": false
   },
   "outputs": [
    {
     "name": "stdout",
     "output_type": "stream",
     "text": [
      "(518.7, 'degrees Rankine')\n",
      "(132.0, 'lb-mols')\n"
     ]
    }
   ],
   "source": [
    "R = 10.73          # ft^3 psia/(lbmol R)\n",
    "T_degC = 15        # deg C\n",
    "\n",
    "# convert temperature to absolute\n",
    "T_degR = 9.0*T_degC/5.0 + 491.67   # deg R\n",
    "\n",
    "# compute lb moles\n",
    "n_lbmol = 14.696*V_ft3/(R*T_degR)\n",
    "\n",
    "print(round(T_degR,1), \"degrees Rankine\")\n",
    "print(round(n_lbmol,1), \"lb-mols\")"
   ]
  },
  {
   "cell_type": "markdown",
   "metadata": {},
   "source": [
    "Now calculate the volume in cubic meters at the storage conditions."
   ]
  },
  {
   "cell_type": "code",
   "execution_count": 4,
   "metadata": {
    "collapsed": false
   },
   "outputs": [
    {
     "name": "stdout",
     "output_type": "stream",
     "text": [
      "('Storage volume of natural gas at 1000 psia and 15 deg C =', 20.8, 'cubic meters')\n"
     ]
    }
   ],
   "source": [
    "V_ft3 = n_lbmol*R*T_degR/1000.0\n",
    "\n",
    "m3_per_ft3 = 0.028317\n",
    "\n",
    "V_m3 = V_ft3*m3_per_ft3\n",
    "\n",
    "print(\"Storage volume of natural gas at 1000 psia and 15 deg C =\", round(V_m3,1), \"cubic meters\")"
   ]
  },
  {
   "cell_type": "markdown",
   "metadata": {
    "collapsed": true
   },
   "source": [
    "### Part c.\n",
    "\n",
    "Liquid propane has a heating value of 46.3 MJ/kg, and a specific gravity of 0.493 at ambient temperatures.  How large a storage tank will be required, in cubic meters?\n",
    "\n",
    "#### Solution"
   ]
  },
  {
   "cell_type": "code",
   "execution_count": 5,
   "metadata": {
    "collapsed": false
   },
   "outputs": [
    {
     "name": "stdout",
     "output_type": "stream",
     "text": [
      "('Heat requirement =', 52709.3, 'Megajoules')\n",
      "Mass of propane required = 1138.43 kg\n",
      "Volume of propane required = 2.31 cubic meters\n"
     ]
    }
   ],
   "source": [
    "btu_per_joule = 9.486e-4\n",
    "\n",
    "Q_joule = Q_btu/btu_per_joule\n",
    "print(\"Heat requirement =\", round(Q_joule/1e6,1), \"Megajoules\")\n",
    "\n",
    "m_kg = Q_joule/46.3e6\n",
    "print(\"Mass of propane required = {0:.2f} kg\".format(m_kg))\n",
    "\n",
    "V_m3 = m_kg/0.493/1000.0\n",
    "print(\"Volume of propane required = {0:.2f} cubic meters\".format(V_m3))\n"
   ]
  },
  {
   "cell_type": "code",
   "execution_count": null,
   "metadata": {
    "collapsed": true
   },
   "outputs": [],
   "source": []
  }
 ],
 "metadata": {
  "anaconda-cloud": {},
  "kernelspec": {
   "display_name": "Python [conda root]",
   "language": "python",
   "name": "conda-root-py"
  },
  "language_info": {
   "codemirror_mode": {
    "name": "ipython",
    "version": 2
   },
   "file_extension": ".py",
   "mimetype": "text/x-python",
   "name": "python",
   "nbconvert_exporter": "python",
   "pygments_lexer": "ipython2",
   "version": "2.7.12"
  }
 },
 "nbformat": 4,
 "nbformat_minor": 0
}
