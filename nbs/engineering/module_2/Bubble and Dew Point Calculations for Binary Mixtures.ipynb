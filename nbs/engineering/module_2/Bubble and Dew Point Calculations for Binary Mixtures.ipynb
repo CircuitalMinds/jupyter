{
 "cells": [
  {
   "cell_type": "markdown",
   "metadata": {
    "deletable": true,
    "editable": true
   },
   "source": [
    "# Bubble and Dew Point Calculations for Binary Mixtures\n",
    "\n",
    "by Jeffrey Kantor  (jeff at nd.edu). The latest version of this notebook is available at [https://github.com/jckantor/CBE20255](https://github.com/jckantor/CBE20255). \n",
    "\n",
    "### Summary\n",
    "\n",
    "This [Jupyter notebook](http://jupyter.org/notebook.html) illustrates the use of Raoult's Law and Antoine's equation to compute the bubble and dew points for an ideal solution. The video is used with permission from [learnCheme.com](http://learncheme.ning.com/), a project at the University of Colorado funded by the National Science Foundation and the Shell Corporation."
   ]
  },
  {
   "cell_type": "markdown",
   "metadata": {
    "deletable": true,
    "editable": true
   },
   "source": [
    "## Overview of the Calculations\n",
    "\n",
    "<img src = \"https://raw.githubusercontent.com/jckantor/CBE20255/master/images/BubbleDewPointCalculations.png\" align=\"center\" width=\"600\">"
   ]
  },
  {
   "cell_type": "markdown",
   "metadata": {
    "deletable": true,
    "editable": true
   },
   "source": [
    "## Bubble Point Calculations for Binary Mixtures\n",
    "\n",
    "For an ideal binary mixture of components $A$ and $B$, from Raoult's law the bubble point temperature must satisfy\n",
    "\n",
    "$$P = x_A P_A^{sat}(T) + x_B P_B^{sat}(T)$$\n",
    "\n",
    "where $x_A P_A^{sat}(P)$ and $x_B P_B^{sat}(P)$ are the partial pressures of $A$ and $B$, respectively. This relationship is the basis for an interative procedure for computing the bubble point temperature.\n",
    "\n",
    "Step 1: Guess the temperature.\n",
    "\n",
    "Step 2: Compute the  'K-factors'\n",
    "\n",
    "$$K_A = \\frac{P^{sat}_A(T)}{P}\\qquad\\mbox{and}\\qquad K_B = \\frac{P^{sat}_B(T)}{P}$$\n",
    "\n",
    "Step 3: Compute the vapor phase mole fractions \n",
    "\n",
    "$$y_A = K_A x_A\\qquad\\mbox{and}\\qquad y_B = K_B x_B$$\n",
    "\n",
    "Step 4: Check if $y_A + y_B = 1$. Adjust the temperature and repeat until the vapor phase mole fractions sum to one.\n",
    "\n",
    "The procedure is demonstrated in the following video."
   ]
  },
  {
   "cell_type": "markdown",
   "metadata": {
    "deletable": true,
    "editable": true
   },
   "source": [
    "### Solution by Manual Iteration\n",
    "\n",
    "We're given a binary mixture composed of acetone and ethanol at atmospheric pressure where the liquid phase mole fraction of acetone is 0.40. The problem is to find the equilibrium temperature and the composition of the vapor phase."
   ]
  },
  {
   "cell_type": "markdown",
   "metadata": {
    "deletable": true,
    "editable": true
   },
   "source": [
    "Initialize the Python workspace with with default settings for plots."
   ]
  },
  {
   "cell_type": "code",
   "execution_count": 1,
   "metadata": {
    "collapsed": false,
    "deletable": true,
    "editable": true
   },
   "outputs": [],
   "source": [
    "import numpy as np\n",
    "import matplotlib.pyplot as plt\n",
    "%matplotlib inline"
   ]
  },
  {
   "cell_type": "code",
   "execution_count": 2,
   "metadata": {
    "collapsed": false,
    "deletable": true,
    "editable": true
   },
   "outputs": [],
   "source": [
    "A = 'acetone'\n",
    "B = 'ethanol'\n",
    "\n",
    "P = 760\n",
    "xa = 0.4\n",
    "xb = 1 - xa"
   ]
  },
  {
   "cell_type": "markdown",
   "metadata": {
    "deletable": true,
    "editable": true
   },
   "source": [
    "We will use Antoine's equation to compute the saturation pressures for the pure components. These function are stored as entries in a simple Python dictionary."
   ]
  },
  {
   "cell_type": "code",
   "execution_count": 3,
   "metadata": {
    "collapsed": false,
    "deletable": true,
    "editable": true
   },
   "outputs": [],
   "source": [
    "# Antoine's equations. T [deg C], P [mmHg]\n",
    "\n",
    "Psat = dict()\n",
    "Psat['acetone'] = lambda T: 10**(7.02447 - 1161.0/(224 + T))\n",
    "Psat['ethanol'] = lambda T: 10**(8.04494 - 1554.3/(222.65 + T))"
   ]
  },
  {
   "cell_type": "markdown",
   "metadata": {
    "deletable": true,
    "editable": true
   },
   "source": [
    "The next cell performs the calculations outlined in the video above. Execute this cell with different values of `T` until the vapor phase mole fractions sum to one."
   ]
  },
  {
   "cell_type": "code",
   "execution_count": 4,
   "metadata": {
    "collapsed": false,
    "deletable": true,
    "editable": true
   },
   "outputs": [
    {
     "name": "stdout",
     "output_type": "stream",
     "text": [
      "0.880884611444\n"
     ]
    }
   ],
   "source": [
    "T = 65\n",
    "\n",
    "Ka = Psat[A](T)/P\n",
    "Kb = Psat[B](T)/P\n",
    "\n",
    "ya = Ka*xa\n",
    "yb = Kb*xb\n",
    "\n",
    "print(ya + yb)"
   ]
  },
  {
   "cell_type": "markdown",
   "metadata": {
    "deletable": true,
    "editable": true
   },
   "source": [
    "### Solution with a Root-Finding Function\n",
    "\n",
    "To compute the bubble point for a binary mixture we need to solve the equation\n",
    "\n",
    "$$P = x_A P^{sat}_A(T_{bubble}) + x_B P^{sat}_B(T_{bubble})$$\n",
    "\n",
    "where $P$ and $x_A$ (and therefore $x_B = 1 - x_A$) are known. The bubble point composition is given by\n",
    "\n",
    "$$y_A = \\frac{x_A P^{sat}_A(T)}{P}\\qquad\\mbox{and}\\qquad y_B = \\frac{x_B P^{sat}_B(T)}{P}$$\n",
    "\n",
    "Matlab and Python functions for solving equations rely on *root-finding* methods, that is, methods that find the *zeros* of a function. In this case we need to write our problem as\n",
    "\n",
    "$$x_A \\frac{P^{sat}_A(T)}{P} + x_B\\frac{P^{sat}_B(T)}{P} = 1$$\n",
    "\n",
    "Here we use the `brentq` function from the scipy.optimize library to return the root of this equation."
   ]
  },
  {
   "cell_type": "code",
   "execution_count": 5,
   "metadata": {
    "collapsed": false,
    "deletable": true,
    "editable": true
   },
   "outputs": [
    {
     "data": {
      "text/plain": [
       "68.5195836108029"
      ]
     },
     "execution_count": 5,
     "metadata": {},
     "output_type": "execute_result"
    }
   ],
   "source": [
    "from scipy.optimize import brentq\n",
    "\n",
    "brentq(lambda T: xa*Psat[A](T)/P + xb*Psat[B](T)/P - 1.0 ,0,100)"
   ]
  },
  {
   "cell_type": "code",
   "execution_count": 6,
   "metadata": {
    "collapsed": false,
    "deletable": true,
    "editable": true
   },
   "outputs": [
    {
     "name": "stdout",
     "output_type": "stream",
     "text": [
      "Bubble point temperature = 68.520 [deg C]\n",
      "Bubble point composition = 0.598, 0.402\n"
     ]
    }
   ],
   "source": [
    "def Tbub(X) :\n",
    "    xa,xb = X\n",
    "    return brentq(lambda T: xa*Psat[A](T)/P + xb*Psat[B](T)/P - 1.0 ,0,100)\n",
    "\n",
    "print(\"Bubble point temperature = {:6.3f} [deg C]\".format(Tbub((xa,xb))))\n",
    "\n",
    "ya = xa*Psat[A](Tbub((xa,xb)))/P\n",
    "yb = xb*Psat[B](Tbub((xa,xb)))/P\n",
    "\n",
    "print(\"Bubble point composition = {:.3f}, {:.3f}\".format(ya,yb))"
   ]
  },
  {
   "cell_type": "markdown",
   "metadata": {
    "deletable": true,
    "editable": true
   },
   "source": [
    "### Bubble Point Curve for a Txy Diagram\n",
    "\n",
    "It's a relatively simply matter to encapsulate the bubble point calculation into a function that, given the liquid phase mole fraction for an ideal binary mixture, uses a root-finding procedure to return the bubble point temperature."
   ]
  },
  {
   "cell_type": "code",
   "execution_count": 7,
   "metadata": {
    "collapsed": false,
    "deletable": true,
    "editable": true
   },
   "outputs": [
    {
     "data": {
      "image/png": "[encoded data removed]",
      "text/plain": [
       "<matplotlib.figure.Figure at 0x7f1f10384510>"
      ]
     },
     "metadata": {},
     "output_type": "display_data"
    }
   ],
   "source": [
    "x = np.linspace(0,1)\n",
    "plt.plot(x,[Tbub((xa,xb)) for (xa,xb) in zip(x,1-x)])\n",
    "plt.xlabel('x [mole fraction {:s}]'.format(A))\n",
    "plt.ylabel('Temperature [deg C]')\n",
    "plt.title('Bubble Point for {:s}/{:s} at {:5.1f} [mmHg]'.format(A,B,P))\n",
    "plt.grid();"
   ]
  },
  {
   "cell_type": "markdown",
   "metadata": {
    "deletable": true,
    "editable": true
   },
   "source": [
    "## Dew Point Calculations for a Binary Mixture\n",
    "\n",
    "To compute the dew point for a binary mixture we need to solve the equation\n",
    "\n",
    "$$y_A\\frac{P}{P^{sat}_A(T)} + y_B\\frac{P}{P^{sat}_B(T)} = 1$$\n",
    "\n",
    "where $P$ and $y_A$ (and therefore $y_B = 1 - y_A$) are known. The dew point composition is given by\n",
    "\n",
    "$$x_A = y_A\\frac{P}{P^{sat}_A(T)}\\qquad\\mbox{and}\\qquad x_B = y_B\\frac{P}{P^{sat}_B(T)}$$\n",
    "\n",
    "Matlab and Python functions for solving equations rely on *root-finding* methods, that is, methods that find the *zeros* of a function. Here we use the `fsolve` function from the scipy.optimize library to return the root of the dew point equation. Note that `fsolve` returns a list of roots, so the terminal `[0]` on the expression selects the first root (and presumably only) of the bubble point equation."
   ]
  },
  {
   "cell_type": "code",
   "execution_count": 8,
   "metadata": {
    "collapsed": false,
    "deletable": true,
    "editable": true
   },
   "outputs": [
    {
     "name": "stdout",
     "output_type": "stream",
     "text": [
      "Dew point temperature = 68.520 [deg C]\n",
      "Dew point composition = 0.400, 0.600\n"
     ]
    }
   ],
   "source": [
    "def Tdew(Y):\n",
    "    ya,yb = Y\n",
    "    return brentq(lambda T:ya*P/Psat[A](T) + yb*P/Psat[B](T) - 1.0,0,100)\n",
    "\n",
    "print(\"Dew point temperature = {:6.3f} [deg C]\".format(Tdew((ya,yb))))\n",
    "\n",
    "xa = ya*P/Psat[A](Tdew((ya,yb)))\n",
    "xb = yb*P/Psat[B](Tdew((ya,yb)))\n",
    "\n",
    "print(\"Dew point composition = {:.3f}, {:.3f}\".format(xa,xb))"
   ]
  },
  {
   "cell_type": "markdown",
   "metadata": {
    "deletable": true,
    "editable": true
   },
   "source": [
    "### Dew Point Curve on the Txy diagram"
   ]
  },
  {
   "cell_type": "markdown",
   "metadata": {
    "deletable": true,
    "editable": true
   },
   "source": [
    "As shown above for bubble point calculations, the dew point curve on the Txy diagram can be plotted by mapping the Tdew function onto a grid of mole fractions."
   ]
  },
  {
   "cell_type": "code",
   "execution_count": 9,
   "metadata": {
    "collapsed": false,
    "deletable": true,
    "editable": true
   },
   "outputs": [
    {
     "data": {
      "image/png": "[encoded data removed]",
      "text/plain": [
       "<matplotlib.figure.Figure at 0x7f1f0da1f410>"
      ]
     },
     "metadata": {},
     "output_type": "display_data"
    }
   ],
   "source": [
    "y = np.linspace(0,1)\n",
    "plt.plot(y,[Tdew((ya,yb)) for (ya,yb) in zip(y,1-y)])\n",
    "plt.xlabel('y [mole fraction {:s}]'.format(A))\n",
    "plt.ylabel('Temperature [deg C]')\n",
    "plt.title('Dew Point for {:s}/{:s} at {:5.1f} [mmHg]'.format(A,B,P))\n",
    "plt.grid();"
   ]
  }
 ],
 "metadata": {
  "anaconda-cloud": {},
  "kernelspec": {
   "display_name": "Python [default]",
   "language": "python",
   "name": "python2"
  },
  "language_info": {
   "codemirror_mode": {
    "name": "ipython",
    "version": 2
   },
   "file_extension": ".py",
   "mimetype": "text/x-python",
   "name": "python",
   "nbconvert_exporter": "python",
   "pygments_lexer": "ipython2",
   "version": "2.7.12"
  }
 },
 "nbformat": 4,
 "nbformat_minor": 0
}
