{
 "cells": [
  {
   "cell_type": "markdown",
   "metadata": {
    "slideshow": {
     "slide_type": "slide"
    }
   },
   "source": [
    "# General Mass Balance on a Single Tank\n",
    "\n",
    "by Jeffrey Kantor  (jeff at nd.edu). The latest version of this notebook is available at [https://github.com/jckantor/CBE20255](https://github.com/jckantor/CBE20255). \n",
    "\n",
    "### Summary\n",
    "\n",
    "This [Jupyter notebook](http://jupyter.org/notebook.html) demonstrates the application of a mass balance to a simple water tank. This example is adapted with permission from [learnCheme.com](http://learncheme.ning.com/), a project at the University of Colorado funded by the National Science Foundation and the Shell Corporation."
   ]
  },
  {
   "cell_type": "markdown",
   "metadata": {
    "slideshow": {
     "slide_type": "slide"
    }
   },
   "source": [
    "## Problem Statement"
   ]
  },
  {
   "cell_type": "markdown",
   "metadata": {
    "slideshow": {
     "slide_type": "slide"
    }
   },
   "source": [
    "### Draw a Diagram"
   ]
  },
  {
   "cell_type": "markdown",
   "metadata": {
    "slideshow": {
     "slide_type": "-"
    }
   },
   "source": [
    "<img src=\"https://raw.github.com/jckantor/CBE20255/master/images/water_tank.png\" width=250px>"
   ]
  },
  {
   "cell_type": "markdown",
   "metadata": {
    "slideshow": {
     "slide_type": "slide"
    }
   },
   "source": [
    "### Mass Balance"
   ]
  },
  {
   "cell_type": "markdown",
   "metadata": {
    "slideshow": {
     "slide_type": "-"
    }
   },
   "source": [
    "Using our general principles for a mass balance\n",
    "\n",
    "$\\frac{d(\\rho V)}{dt} = \\dot{m}_1 - \\dot{m}_2$\n",
    "\n",
    "which can be simplified to\n",
    "\n",
    "$\\frac{dV}{dt} = \\frac{1}{\\rho}\\left(\\dot{m}_1 - \\dot{m}_2\\right)$\n",
    "\n",
    "where the initial value is $V(0) = 1\\,\\mbox{m}^3$. This is a differential equation."
   ]
  },
  {
   "cell_type": "markdown",
   "metadata": {
    "slideshow": {
     "slide_type": "slide"
    }
   },
   "source": [
    "### Numerical Solution using `odeint`"
   ]
  },
  {
   "cell_type": "markdown",
   "metadata": {
    "slideshow": {
     "slide_type": "slide"
    }
   },
   "source": [
    "There are a number of numerical methods available for solving differential equations. Here we use [`odeint`](http://docs.scipy.org/doc/scipy/reference/generated/scipy.integrate.odeint.html) which is part of the [`scipy`](http://www.scipy.org/) package.  `odeint` requires a function that returns the rate of accumulation in the tank as a function of the current volume and time."
   ]
  },
  {
   "cell_type": "code",
   "execution_count": 1,
   "metadata": {
    "collapsed": false
   },
   "outputs": [],
   "source": [
    "import numpy as np\n",
    "import matplotlib.pyplot as plt\n",
    "%matplotlib inline\n",
    "\n",
    "from scipy.integrate import odeint"
   ]
  },
  {
   "cell_type": "code",
   "execution_count": 2,
   "metadata": {
    "collapsed": false
   },
   "outputs": [],
   "source": [
    "# Flowrates in kg/sec\n",
    "m1 = 4.0\n",
    "m2 = 2.0\n",
    "\n",
    "# Density in kg/m**3\n",
    "rho = 1000.0\n",
    "\n",
    "# Function to compute accumulation rate\n",
    "def dV(V,t): return (m1 - m2)/rho;"
   ]
  },
  {
   "cell_type": "markdown",
   "metadata": {
    "slideshow": {
     "slide_type": "slide"
    }
   },
   "source": [
    "Next we import `odeint` from the `scipy.integrate` package, set up a grid of times at which we wish to find solution values, then call `odeint` to compute values for the solution starting with an initial condition of 1.0."
   ]
  },
  {
   "cell_type": "code",
   "execution_count": 3,
   "metadata": {
    "collapsed": false
   },
   "outputs": [],
   "source": [
    "t = np.linspace(0,1000)\n",
    "V = odeint(dV,1.0,t)"
   ]
  },
  {
   "cell_type": "markdown",
   "metadata": {
    "slideshow": {
     "slide_type": "slide"
    }
   },
   "source": [
    "We finish by plotting the results of the integration and comparing to the capacity of the tank."
   ]
  },
  {
   "cell_type": "code",
   "execution_count": 4,
   "metadata": {
    "collapsed": false
   },
   "outputs": [
    {
     "data": {
      "image/png": "[encoded data removed]",
      "text/plain": [
       "<matplotlib.figure.Figure at 0x10e27eb38>"
      ]
     },
     "metadata": {},
     "output_type": "display_data"
    }
   ],
   "source": [
    "plt.plot(t,V,'b',t,2*np.ones(len(t)),'r')\n",
    "plt.xlabel('Time [sec]')\n",
    "plt.ylabel('Volume [m**3]')\n",
    "plt.legend(['Water Volume','Tank Capacity'],loc='upper left');"
   ]
  },
  {
   "cell_type": "markdown",
   "metadata": {},
   "source": [
    "This same approach can be used solve systems of differential equations. For an light-hearted (but very useful) example, check out [this solution](http://wiki.scipy.org/Cookbook/Zombie_Apocalypse_ODEINT) for the [Zombie Apocalypse](http://mysite.science.uottawa.ca/rsmith43/Zombies.pdf)."
   ]
  },
  {
   "cell_type": "markdown",
   "metadata": {
    "slideshow": {
     "slide_type": "slide"
    }
   },
   "source": [
    "### Solving for the Time Required to Fill the Tank"
   ]
  },
  {
   "cell_type": "markdown",
   "metadata": {
    "slideshow": {
     "slide_type": "fragment"
    }
   },
   "source": [
    "Now that we know how to solve the differential equation, next we create a function to compute the air volume of the tank at any given time."
   ]
  },
  {
   "cell_type": "code",
   "execution_count": 5,
   "metadata": {
    "collapsed": false
   },
   "outputs": [
    {
     "name": "stdout",
     "output_type": "stream",
     "text": [
      "Air volume in the tank at t = 100 is 0.80 m**3.\n"
     ]
    }
   ],
   "source": [
    "Vtank = 2.0\n",
    "Vinitial = 1.0\n",
    "\n",
    "def Vwater(t): \n",
    "    return odeint(dV,Vinitial,[0,t])[-1][0]\n",
    "\n",
    "def Vair(t): \n",
    "    return Vtank - Vwater(t)\n",
    "\n",
    "print(\"Air volume in the tank at t = 100 is {:4.2f} m**3.\".format(Vair(100)))"
   ]
  },
  {
   "cell_type": "markdown",
   "metadata": {
    "slideshow": {
     "slide_type": "slide"
    }
   },
   "source": [
    "The next step is find the time at which `Vair(t)` returns a value of 0. This is [root finding](http://docs.scipy.org/doc/scipy/reference/tutorial/optimize.html#root-finding) which the function [`brentq`](http://docs.scipy.org/doc/scipy-0.13.0/reference/generated/scipy.optimize.brentq.html) will do for us."
   ]
  },
  {
   "cell_type": "code",
   "execution_count": 6,
   "metadata": {
    "collapsed": false
   },
   "outputs": [
    {
     "name": "stdout",
     "output_type": "stream",
     "text": [
      "The tank will be full at t = 500.00 seconds.\n"
     ]
    }
   ],
   "source": [
    "from scipy.optimize import brentq\n",
    "\n",
    "t_full = brentq(Vair,0,1000)\n",
    "\n",
    "print(\"The tank will be full at t = {:6.2f} seconds.\".format(t_full))"
   ]
  },
  {
   "cell_type": "markdown",
   "metadata": {
    "slideshow": {
     "slide_type": "slide"
    }
   },
   "source": [
    "## Exercise"
   ]
  },
  {
   "cell_type": "markdown",
   "metadata": {},
   "source": [
    "Suppose the tank was being used to protect against surges in water flow, and the inlet flowrate was a function of time where\n",
    "\n",
    "$\\dot{m}_1 = 4 e^{-t/500}$\n",
    "\n",
    "* Will the tank overflow?  \n",
    "* Assuming it doesn't overflow, how long would it take for the tank to return to its initial condition of being half full? To empty completely?\n",
    "* What will be the peak volume of water in the tank, and when will that occur?"
   ]
  },
  {
   "cell_type": "code",
   "execution_count": null,
   "metadata": {
    "collapsed": true
   },
   "outputs": [],
   "source": []
  }
 ],
 "metadata": {
  "kernelspec": {
   "display_name": "Python [conda root]",
   "language": "python",
   "name": "conda-root-py"
  },
  "language_info": {
   "codemirror_mode": {
    "name": "ipython",
    "version": 3
   },
   "file_extension": ".py",
   "mimetype": "text/x-python",
   "name": "python",
   "nbconvert_exporter": "python",
   "pygments_lexer": "ipython3",
   "version": "3.5.2"
  }
 },
 "nbformat": 4,
 "nbformat_minor": 0
}
