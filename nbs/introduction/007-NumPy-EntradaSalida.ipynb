{
 "cells": [
  {
   "cell_type": "markdown",
   "metadata": {},
   "source": [
    "<img src=\"../Archivos/images/python-logo.gif\" alt=\"python\" style=\"width: 700px;\" />"
   ]
  },
  {
   "cell_type": "markdown",
   "metadata": {},
   "source": [
    "# NumPy: Entrada/Salida"
   ]
  },
  {
   "cell_type": "markdown",
   "metadata": {},
   "source": [
    "Con E/S (I/O en inglés) entendemos leer y escribir datos archivos. Es algo que necesitaremos hacer con relativa frecuencia, y en NumPy es muy sencillo de hacer. Para el caso de la **lectura** se usa la función `np.loadtxt`."
   ]
  },
  {
   "cell_type": "markdown",
   "metadata": {},
   "source": [
    "## Ejemplo con datos de temperaturas "
   ]
  },
  {
   "cell_type": "markdown",
   "metadata": {},
   "source": [
    "Para practicar, vamos a leer el archivo `temperaturas.csv` que contiene datos diarios de temperaturas en Nueva York entre el 1 de enero de 2013 y el 1 de enero de 2014, obtenidos gratuitamente de http://ncdc.noaa.gov/. Como los hemos descargado en formato CSV habrá que tener algunas precauciones a la hora de leer el archivo."
   ]
  },
  {
   "cell_type": "code",
   "execution_count": 3,
   "metadata": {
    "collapsed": false
   },
   "outputs": [
    {
     "name": "stdout",
     "output_type": "stream",
     "text": [
      "STATION,DATE,TMAX,TMIN\r\n",
      "GHCND:USW00094728,20130101,44,-33\r\n",
      "GHCND:USW00094728,20130102,6,-56\r\n",
      "GHCND:USW00094728,20130103,0,-44\r\n",
      "GHCND:USW00094728,20130104,28,-11\r\n",
      "GHCND:USW00094728,20130105,56,0\r\n",
      "GHCND:USW00094728,20130106,78,11\r\n",
      "GHCND:USW00094728,20130107,72,28\r\n",
      "GHCND:USW00094728,20130108,89,17\r\n",
      "GHCND:USW00094728,20130109,94,39\r\n"
     ]
    }
   ],
   "source": [
    "!head ../Archivos/data/temperaturas.csv  # Esta línea no funciona en Windows"
   ]
  },
  {
   "cell_type": "code",
   "execution_count": 4,
   "metadata": {
    "collapsed": true
   },
   "outputs": [],
   "source": [
    "import numpy as np"
   ]
  },
  {
   "cell_type": "code",
   "execution_count": 5,
   "metadata": {
    "collapsed": true
   },
   "outputs": [],
   "source": [
    "%matplotlib inline\n",
    "import matplotlib.pyplot as plt"
   ]
  },
  {
   "cell_type": "code",
   "execution_count": 7,
   "metadata": {
    "collapsed": false
   },
   "outputs": [],
   "source": [
    "datos = np.loadtxt(\"../Archivos/data/temperaturas.csv\",\n",
    "                   skiprows=1,  # Saltamos una línea\n",
    "                   usecols=(1, 2, 3),  # Solo columnas 2, 3 y 4\n",
    "                   delimiter=',')  # Separados por comas"
   ]
  },
  {
   "cell_type": "code",
   "execution_count": 63,
   "metadata": {
    "collapsed": false
   },
   "outputs": [
    {
     "data": {
      "text/plain": [
       "array([[  2.01301010e+07,   4.40000000e+01,  -3.30000000e+01],\n",
       "       [  2.01301020e+07,   6.00000000e+00,  -5.60000000e+01],\n",
       "       [  2.01301030e+07,   0.00000000e+00,  -4.40000000e+01],\n",
       "       [  2.01301040e+07,   2.80000000e+01,  -1.10000000e+01],\n",
       "       [  2.01301050e+07,   5.60000000e+01,   0.00000000e+00],\n",
       "       [  2.01301060e+07,   7.80000000e+01,   1.10000000e+01],\n",
       "       [  2.01301070e+07,   7.20000000e+01,   2.80000000e+01],\n",
       "       [  2.01301080e+07,   8.90000000e+01,   1.70000000e+01],\n",
       "       [  2.01301090e+07,   9.40000000e+01,   3.90000000e+01]])"
      ]
     },
     "execution_count": 63,
     "metadata": {},
     "output_type": "execute_result"
    }
   ],
   "source": [
    "datos[:9]"
   ]
  },
  {
   "cell_type": "markdown",
   "metadata": {},
   "source": [
    "La primera columna es un entero con formato \"AAAAMMDD\" que vamos a ignorar. Las temperaturas están medidas en décimas de grado Celsius, así que hay que pasarlas a grados Celsius. Vamos a calcular también la temperatura media."
   ]
  },
  {
   "cell_type": "code",
   "execution_count": 64,
   "metadata": {
    "collapsed": false
   },
   "outputs": [],
   "source": [
    "Tmax = datos[:, 1] / 10\n",
    "Tmin = datos[:, 2] / 10\n",
    "Tavg = (Tmax + Tmin) / 2"
   ]
  },
  {
   "cell_type": "markdown",
   "metadata": {},
   "source": [
    "Como vamos a ignorar la columna de las fechas tenemos que crear un dominio para el eje x. Simplemente construiremos un array de enteros desde 0 hasta 365."
   ]
  },
  {
   "cell_type": "code",
   "execution_count": 65,
   "metadata": {
    "collapsed": false
   },
   "outputs": [],
   "source": [
    "x = np.arange(366)"
   ]
  },
  {
   "cell_type": "markdown",
   "metadata": {},
   "source": [
    "Supongamos que ahora queremos guardar nuestra tabla de datos en un archivo txt, para poder cargarlo ya modificado más adelante. Una manera fácil de hacerlo sería con otra función de NumPy: `np.savetxt`. Lo usaremos con los argumentos opcionales  `fmt='%.5f', newline = '\\r\\n'` para obtener un fichero *bonito* que podamos entender de un vistazo."
   ]
  },
  {
   "cell_type": "code",
   "execution_count": 66,
   "metadata": {
    "collapsed": false
   },
   "outputs": [
    {
     "name": "stdout",
     "output_type": "stream",
     "text": [
      "[[ 0.    4.4  -3.3   0.55]\n",
      " [ 1.    0.6  -5.6  -2.5 ]\n",
      " [ 2.    0.   -4.4  -2.2 ]\n",
      " [ 3.    2.8  -1.1   0.85]\n",
      " [ 4.    5.6   0.    2.8 ]\n",
      " [ 5.    7.8   1.1   4.45]\n",
      " [ 6.    7.2   2.8   5.  ]\n",
      " [ 7.    8.9   1.7   5.3 ]\n",
      " [ 8.    9.4   3.9   6.65]\n",
      " [ 9.    8.3   4.4   6.35]]\n"
     ]
    }
   ],
   "source": [
    "matriz_datos = np.zeros([366, 4])\n",
    "matriz_datos[:, 0] = x\n",
    "matriz_datos[:, 1] = Tmax\n",
    "matriz_datos[:, 2] = Tmin\n",
    "matriz_datos[:, 3] = Tavg\n",
    "\n",
    "print(matriz_datos[:10])\n",
    "\n",
    "# np.savetxt('archivo_datos.txt', matriz_datos, fmt='%.5f', newline = '\\r\\n')"
   ]
  },
  {
   "cell_type": "markdown",
   "metadata": {},
   "source": [
    "##### Ejercicio"
   ]
  },
  {
   "cell_type": "markdown",
   "metadata": {},
   "source": [
    "Y ahora representamos la evolución de la temperatura media (por ejemplo de color negro), indicando \"Daily summaries\" en el título, \"Days\" en el eje x y \"Temperature (C)\" en el eje y, usando la interfaz orientada a objetos de matplotlib (función `plt.subplots`). Podemos crear una zona rellena entre la máxima y la mínima con la función `fill_between(x, max, min)` (por ejemplo de color #4f88b1). Si los límites del eje x no quedan como queremos podemos usar la función `set_xlim(xmin, xmax)`."
   ]
  },
  {
   "cell_type": "code",
   "execution_count": 67,
   "metadata": {
    "collapsed": true
   },
   "outputs": [],
   "source": [
    "import matplotlib.pyplot as plt"
   ]
  },
  {
   "cell_type": "code",
   "execution_count": 76,
   "metadata": {
    "collapsed": false,
    "scrolled": true
   },
   "outputs": [
    {
     "data": {
      "text/plain": [
       "<matplotlib.text.Text at 0x7f367b85ba50>"
      ]
     },
     "execution_count": 76,
     "metadata": {},
     "output_type": "execute_result"
    },
    {
     "data": {
      "image/png": "[encoded data removed]",
      "text/plain": [
       "<matplotlib.figure.Figure at 0x7f3679444d90>"
      ]
     },
     "metadata": {},
     "output_type": "display_data"
    }
   ],
   "source": [
    "fig, ax = plt.subplots()\n",
    "\n",
    "ax.plot(x, Tavg, 'k')\n",
    "ax.set_xlim(0, 366)\n",
    "ax.fill_between(x, Tmin, Tmax, facecolor='#4f88b1',edgecolor='red')\n",
    "ax.set_title(\"Resumenes diarios\")\n",
    "ax.set_xlabel(\"Dias\")\n",
    "ax.set_ylabel(\"Temperatura (C)\")"
   ]
  },
  {
   "cell_type": "markdown",
   "metadata": {},
   "source": [
    "---"
   ]
  },
  {
   "cell_type": "markdown",
   "metadata": {},
   "source": [
    "## Ejemplo datos calidad del aire "
   ]
  },
  {
   "cell_type": "code",
   "execution_count": 77,
   "metadata": {
    "collapsed": false
   },
   "outputs": [
    {
     "data": {
      "text/html": [
       "<iframe src=\"http://www.mambiente.munimadrid.es/sica/scripts/index.php\"             width=\"700\" height=\"400\"></iframe>"
      ],
      "text/plain": [
       "<IPython.core.display.HTML object>"
      ]
     },
     "execution_count": 77,
     "metadata": {},
     "output_type": "execute_result"
    }
   ],
   "source": [
    "from IPython.display import HTML\n",
    "HTML('<iframe src=\"http://www.mambiente.munimadrid.es/sica/scripts/index.php\" \\\n",
    "            width=\"700\" height=\"400\"></iframe>')"
   ]
  },
  {
   "cell_type": "code",
   "execution_count": 78,
   "metadata": {
    "collapsed": true
   },
   "outputs": [],
   "source": [
    "### Cargando los datos"
   ]
  },
  {
   "cell_type": "code",
   "execution_count": 79,
   "metadata": {
    "collapsed": false
   },
   "outputs": [
    {
     "name": "stdout",
     "output_type": "stream",
     "text": [
      "Estación: Barrio del Pilar;;;;\r\n",
      "Fecha;Hora;CO;NO2;O3\r\n",
      ";;mg/m³;µg/m³;µg/m³\r\n",
      "22/03/2016;01:00;0.2;14;73\r\n",
      "22/03/2016;02:00;0.2;10;77\r\n",
      "22/03/2016;03:00;0.2;9;75\r\n",
      "22/03/2016;04:00;0.2;3;81\r\n",
      "22/03/2016;05:00;0.2;3;81\r\n",
      "22/03/2016;06:00;0.2;6;79\r\n",
      "22/03/2016;07:00;0.2;24;59\r\n"
     ]
    }
   ],
   "source": [
    "# Linux command \n",
    "!head ../Archivos/data/barrio_del_pilar-20160322.csv\n",
    "\n",
    "# Windows\n",
    "# !gc log.txt | select -first 10 # head"
   ]
  },
  {
   "cell_type": "code",
   "execution_count": 80,
   "metadata": {
    "collapsed": false
   },
   "outputs": [
    {
     "data": {
      "text/plain": [
       "array([[   0.2,   14. ,   73. ],\n",
       "       [   0.2,   10. ,   77. ],\n",
       "       [   0.2,    9. ,   75. ],\n",
       "       [   0.2,    3. ,   81. ],\n",
       "       [   0.2,    3. ,   81. ],\n",
       "       [   0.2,    6. ,   79. ],\n",
       "       [   0.2,   24. ,   59. ],\n",
       "       [   0.3,   48. ,   37. ],\n",
       "       [   0.3,   40. ,   43. ],\n",
       "       [   0.3,   41. ,   44. ],\n",
       "       [   0.3,   20. ,   68. ],\n",
       "       [   0.3,   17. ,   74. ],\n",
       "       [   0.2,   14. ,   84. ],\n",
       "       [   0.3,   16. ,   88. ],\n",
       "       [   0.3,   15. ,   94. ],\n",
       "       [   0.4,   29. ,   81. ],\n",
       "       [   0.3,   23. ,   82. ],\n",
       "       [   0.3,   26. ,   81. ],\n",
       "       [   0.3,   30. ,   75. ],\n",
       "       [   0.4,   57. ,   39. ],\n",
       "       [   0.4,   73. ,   17. ],\n",
       "       [   0.4,   51. ,   42. ],\n",
       "       [   0.4,   72. ,   16. ],\n",
       "       [   0.4,   61. ,   28. ],\n",
       "       [   0.3,   25. ,   62. ],\n",
       "       [   0.3,   21. ,   64. ],\n",
       "       [   0.3,   40. ,   39. ],\n",
       "       [   0.4,   52. ,   19. ],\n",
       "       [   0.4,   47. ,    8. ],\n",
       "       [   0.4,   42. ,    8. ],\n",
       "       [   0.5,   68. ,    8. ],\n",
       "       [   0.6,   71. ,    9. ],\n",
       "       [   0.9,   76. ,   10. ],\n",
       "       [   0.7,   63. ,   29. ],\n",
       "       [   0.3,   27. ,   66. ],\n",
       "       [   0.3,   13. ,   88. ],\n",
       "       [   0.2,   10. ,   92. ],\n",
       "       [   0.3,   10. ,   98. ],\n",
       "       [   0.3,   11. ,   99. ],\n",
       "       [   0.3,   12. ,   99. ],\n",
       "       [   0.2,   11. ,   98. ],\n",
       "       [   0.2,    8. ,  101. ],\n",
       "       [   0.2,   13. ,   92. ],\n",
       "       [   0.2,   23. ,   79. ],\n",
       "       [   0.5,   40. ,   56. ],\n",
       "       [   0.6,   49. ,   43. ],\n",
       "       [   0.5,   66. ,   25. ],\n",
       "       [   0.4,   47. ,   44. ],\n",
       "       [   0.3,   18. ,   76. ],\n",
       "       [   0.3,   25. ,   64. ],\n",
       "       [   0.3,   16. ,   77. ],\n",
       "       [   0.3,   16. ,   59. ],\n",
       "       [   0.3,   34. ,   31. ],\n",
       "       [   0.3,   27. ,   33. ],\n",
       "       [   0.3,   44. ,   17. ],\n",
       "       [   0.4,   45. ,    9. ],\n",
       "       [   0.5,   52. ,   22. ],\n",
       "       [   0.4,   37. ,   53. ],\n",
       "       [   0.3,   21. ,   73. ],\n",
       "       [   0.3,   20. ,   76. ],\n",
       "       [   0.3,   24. ,   76. ],\n",
       "       [   0.4,   38. ,   71. ],\n",
       "       [   0.3,   32. ,   78. ],\n",
       "       [   0.3,   21. ,   89. ],\n",
       "       [   0.2,   10. ,  105. ],\n",
       "       [   0.3,   15. ,  102. ],\n",
       "       [   0.3,   21. ,   93. ],\n",
       "       [   0.3,   45. ,   63. ],\n",
       "       [   0.4,   59. ,   47. ],\n",
       "       [   0.4,   59. ,   44. ],\n",
       "       [   0.7,   99. ,    9. ],\n",
       "       [   0.6,   88. ,    9. ],\n",
       "       [   0.8,   93. ,    9. ],\n",
       "       [   0.9,   89. ,    9. ],\n",
       "       [   0.8,   84. ,    8. ],\n",
       "       [   0.5,   64. ,   10. ],\n",
       "       [   0.4,   58. ,   11. ],\n",
       "       [   0.5,   53. ,    9. ],\n",
       "       [   0.4,   41. ,    8. ],\n",
       "       [   0.5,   43. ,    9. ],\n",
       "       [   0.5,   45. ,   13. ],\n",
       "       [   0.6,   51. ,   25. ],\n",
       "       [   0.5,   44. ,   40. ],\n",
       "       [   0.4,   36. ,   59. ],\n",
       "       [   0.4,   36. ,   68. ],\n",
       "       [   0.3,   26. ,   84. ],\n",
       "       [   0.3,   16. ,   98. ],\n",
       "       [   0.3,   17. ,   97. ],\n",
       "       [   0.3,   24. ,   89. ],\n",
       "       [   0.3,   17. ,   99. ],\n",
       "       [   0.3,   12. ,  100. ],\n",
       "       [   0.3,   42. ,   61. ],\n",
       "       [   0.4,   52. ,   44. ],\n",
       "       [   0.5,   54. ,   39. ],\n",
       "       [   0.5,   60. ,   28. ],\n",
       "       [   0.6,   73. ,   13. ],\n",
       "       [   0.5,   58. ,   23. ],\n",
       "       [   0.4,   58. ,   16. ],\n",
       "       [   0.5,   61. ,   10. ],\n",
       "       [   0.5,   59. ,    9. ],\n",
       "       [   0.4,   50. ,    9. ],\n",
       "       [   0.3,   31. ,   10. ],\n",
       "       [   0.4,   36. ,    9. ],\n",
       "       [   0.6,   45. ,    9. ],\n",
       "       [   0.5,   43. ,   18. ],\n",
       "       [   0.5,   37. ,   24. ],\n",
       "       [   0.5,   40. ,   38. ],\n",
       "       [   0.4,   26. ,   59. ],\n",
       "       [   0.3,   14. ,   67. ],\n",
       "       [   0.3,   12. ,   64. ],\n",
       "       [   0.3,   13. ,   62. ],\n",
       "       [   0.2,   10. ,   63. ],\n",
       "       [   0.2,    7. ,   58. ],\n",
       "       [   0.2,    8. ,   53. ],\n",
       "       [   0.2,   11. ,   51. ],\n",
       "       [   0.3,   16. ,   47. ],\n",
       "       [   0.2,   19. ,   42. ],\n",
       "       [   0.3,   22. ,   38. ],\n",
       "       [   0.3,   23. ,   36. ],\n",
       "       [   0.3,   16. ,   43. ],\n",
       "       [   0.2,    9. ,   49. ],\n",
       "       [   0.2,    6. ,   48. ],\n",
       "       [   nan,    nan,    nan],\n",
       "       [   0.2,    4. ,   64. ],\n",
       "       [   0.2,    3. ,   89. ],\n",
       "       [   0.2,    4. ,   90. ],\n",
       "       [   0.2,    3. ,   92. ],\n",
       "       [   0.2,    6. ,   89. ],\n",
       "       [   0.3,   11. ,   83. ],\n",
       "       [   0.3,    9. ,   87. ],\n",
       "       [   0.3,    8. ,   84. ],\n",
       "       [   0.3,   10. ,   82. ],\n",
       "       [   0.3,   10. ,   80. ],\n",
       "       [   0.3,   12. ,   80. ],\n",
       "       [   0.3,   12. ,   81. ],\n",
       "       [   0.3,    8. ,   84. ],\n",
       "       [   0.3,   10. ,   85. ],\n",
       "       [   0.2,   10. ,   85. ],\n",
       "       [   0.2,   14. ,   82. ],\n",
       "       [   0.3,   18. ,   72. ],\n",
       "       [   0.3,   28. ,   60. ],\n",
       "       [   0.3,   30. ,   55. ],\n",
       "       [   0.3,   21. ,   61. ],\n",
       "       [   0.3,   16. ,   63. ],\n",
       "       [   0.3,   12. ,   65. ],\n",
       "       [   0.2,    9. ,   67. ],\n",
       "       [   0.2,    5. ,   70. ],\n",
       "       [   0.2,    5. ,   69. ],\n",
       "       [   0.2,    6. ,   65. ],\n",
       "       [   0.2,    7. ,   63. ],\n",
       "       [   0.3,   16. ,   55. ],\n",
       "       [   0.3,   30. ,   45. ],\n",
       "       [   0.3,   38. ,   39. ],\n",
       "       [   0.3,   37. ,   41. ],\n",
       "       [   0.3,   29. ,   53. ],\n",
       "       [   0.3,   27. ,   53. ],\n",
       "       [   0.3,   27. ,   49. ],\n",
       "       [   0.3,   23. ,   54. ],\n",
       "       [   0.3,   22. ,   57. ],\n",
       "       [   0.3,   19. ,   61. ],\n",
       "       [   0.3,   17. ,   63. ],\n",
       "       [   0.3,   22. ,   59. ],\n",
       "       [   0.3,   27. ,   53. ],\n",
       "       [   0.3,   29. ,   50. ],\n",
       "       [   0.3,   34. ,   44. ],\n",
       "       [   0.3,   33. ,   45. ],\n",
       "       [   0.3,   26. ,   50. ],\n",
       "       [   0.3,   19. ,   56. ],\n",
       "       [   0.2,   11. ,   63. ],\n",
       "       [   0.2,    8. ,   63. ],\n",
       "       [   0.2,    9. ,   58. ],\n",
       "       [   0.2,    6. ,   63. ],\n",
       "       [   0.2,    5. ,   66. ],\n",
       "       [   0.2,    7. ,   62. ],\n",
       "       [   0.3,   18. ,   53. ],\n",
       "       [   0.4,   38. ,   37. ],\n",
       "       [   0.4,   49. ,   28. ],\n",
       "       [   0.4,   45. ,   35. ],\n",
       "       [   0.3,   34. ,   47. ],\n",
       "       [   0.3,   24. ,   62. ],\n",
       "       [   0.3,   24. ,   68. ],\n",
       "       [   0.3,   28. ,   68. ],\n",
       "       [   0.3,   23. ,   78. ],\n",
       "       [   0.3,   21. ,   82. ],\n",
       "       [   0.3,   17. ,   87. ],\n",
       "       [   0.3,   23. ,   80. ],\n",
       "       [   0.3,   28. ,   75. ],\n",
       "       [   0.3,   29. ,   71. ],\n",
       "       [   0.3,   46. ,   50. ],\n",
       "       [   0.4,   66. ,   27. ],\n",
       "       [   0.3,   51. ,   38. ],\n",
       "       [   0.3,   42. ,   46. ]])"
      ]
     },
     "execution_count": 80,
     "metadata": {},
     "output_type": "execute_result"
    }
   ],
   "source": [
    "# loading the data\n",
    "# ./data/barrio_del_pilar-20160322.csv\n",
    "data1 = np.genfromtxt('../Archivos/data/barrio_del_pilar-20160322.csv', skip_header=3, delimiter=';', usecols=(2,3,4))\n",
    "data1"
   ]
  },
  {
   "cell_type": "markdown",
   "metadata": {},
   "source": [
    "### Valores inexistentes"
   ]
  },
  {
   "cell_type": "code",
   "execution_count": 81,
   "metadata": {
    "collapsed": false
   },
   "outputs": [
    {
     "data": {
      "text/plain": [
       "array([ nan,  nan,  nan])"
      ]
     },
     "execution_count": 81,
     "metadata": {},
     "output_type": "execute_result"
    }
   ],
   "source": [
    "np.mean(data1, axis=0)"
   ]
  },
  {
   "cell_type": "code",
   "execution_count": 82,
   "metadata": {
    "collapsed": false,
    "scrolled": true
   },
   "outputs": [
    {
     "data": {
      "text/plain": [
       "array([  0.33717277,  29.79581152,  55.47643979])"
      ]
     },
     "execution_count": 82,
     "metadata": {},
     "output_type": "execute_result"
    }
   ],
   "source": [
    "np.nanmean(data1, axis=0)"
   ]
  },
  {
   "cell_type": "code",
   "execution_count": 83,
   "metadata": {
    "collapsed": false
   },
   "outputs": [
    {
     "data": {
      "text/plain": [
       "masked_array(data = [0.3371727748691094 29.79581151832461 55.47643979057592],\n",
       "             mask = [False False False],\n",
       "       fill_value = 1e+20)"
      ]
     },
     "execution_count": 83,
     "metadata": {},
     "output_type": "execute_result"
    }
   ],
   "source": [
    "# masking invalid data\n",
    "data1 = np.ma.masked_invalid(data1)\n",
    "np.mean(data1, axis=0)"
   ]
  },
  {
   "cell_type": "code",
   "execution_count": 84,
   "metadata": {
    "collapsed": false
   },
   "outputs": [],
   "source": [
    "data2 = np.genfromtxt('../Archivos/data/barrio_del_pilar-20151222.csv', skip_header=3, delimiter=';', usecols=(2,3,4))\n",
    "data2 = np.ma.masked_invalid(data2)"
   ]
  },
  {
   "cell_type": "markdown",
   "metadata": {},
   "source": [
    "### Pintando los datos"
   ]
  },
  {
   "cell_type": "markdown",
   "metadata": {},
   "source": [
    "**Valores máximos ** obtenidos de: http://www.mambiente.munimadrid.es/opencms/export/sites/default/calaire/Anexos/valores_limite_1.pdf"
   ]
  },
  {
   "cell_type": "markdown",
   "metadata": {},
   "source": [
    "* NO2\n",
    "    - Media anual: 40 µg/m3\n",
    "    - **Media horaria: 200 µg/m3 **"
   ]
  },
  {
   "cell_type": "code",
   "execution_count": 85,
   "metadata": {
    "collapsed": false
   },
   "outputs": [
    {
     "data": {
      "text/plain": [
       "(0, 220)"
      ]
     },
     "execution_count": 85,
     "metadata": {},
     "output_type": "execute_result"
    },
    {
     "data": {
      "image/png": "[encoded data removed]",
      "text/plain": [
       "<matplotlib.figure.Figure at 0x7f3679381a10>"
      ]
     },
     "metadata": {},
     "output_type": "display_data"
    }
   ],
   "source": [
    "plt.plot(data1[:, 1], label='2016')\n",
    "plt.plot(data2[:, 1], label='2015')\n",
    "\n",
    "plt.legend()\n",
    "\n",
    "plt.hlines(200, 0, 200, linestyles='--')\n",
    "plt.ylim(0, 220)"
   ]
  },
  {
   "cell_type": "code",
   "execution_count": 86,
   "metadata": {
    "collapsed": false
   },
   "outputs": [
    {
     "data": {
      "text/html": [
       "<iframe src=\"http://ccaa.elpais.com/ccaa/2015/12/24/madrid/1450960217_181674.html\" width=\"700\" height=\"400\"></iframe>"
      ],
      "text/plain": [
       "<IPython.core.display.HTML object>"
      ]
     },
     "execution_count": 86,
     "metadata": {},
     "output_type": "execute_result"
    }
   ],
   "source": [
    "from IPython.display import HTML\n",
    "HTML('<iframe src=\"http://ccaa.elpais.com/ccaa/2015/12/24/madrid/1450960217_181674.html\" width=\"700\" height=\"400\"></iframe>')"
   ]
  },
  {
   "cell_type": "markdown",
   "metadata": {},
   "source": [
    "* CO \n",
    "    - **Máxima diaria de las medias móviles octohorarias: 10 mg/m³**"
   ]
  },
  {
   "cell_type": "code",
   "execution_count": 87,
   "metadata": {
    "collapsed": true
   },
   "outputs": [],
   "source": [
    "# http://docs.scipy.org/doc/numpy-1.10.0/reference/generated/numpy.convolve.html\n",
    "def moving_average(x, N=8):\n",
    "    return np.convolve(x, np.ones(N)/N, mode='same')"
   ]
  },
  {
   "cell_type": "code",
   "execution_count": 88,
   "metadata": {
    "collapsed": false
   },
   "outputs": [
    {
     "data": {
      "text/plain": [
       "<matplotlib.legend.Legend at 0x7f3679870690>"
      ]
     },
     "execution_count": 88,
     "metadata": {},
     "output_type": "execute_result"
    },
    {
     "data": {
      "image/png": "[encoded data removed]",
      "text/plain": [
       "<matplotlib.figure.Figure at 0x7f367b8c0b90>"
      ]
     },
     "metadata": {},
     "output_type": "display_data"
    }
   ],
   "source": [
    "plt.plot(moving_average(data1[:, 0]), label='2016')\n",
    "\n",
    "plt.plot(moving_average(data2[:, 0]), label='2015')\n",
    "\n",
    "plt.hlines(10, 0, 250, linestyles='--')\n",
    "plt.ylim(0, 11)\n",
    "\n",
    "plt.legend()"
   ]
  },
  {
   "cell_type": "markdown",
   "metadata": {},
   "source": [
    "* O3\n",
    "    - **Máxima diaria de las medias móviles octohorarias: 120 µg/m3**\n",
    "    - Umbral de información. 180 µg/m3\n",
    "    - Media horaria. Umbral de alerta. 240 µg/m3"
   ]
  },
  {
   "cell_type": "code",
   "execution_count": 89,
   "metadata": {
    "collapsed": false
   },
   "outputs": [
    {
     "data": {
      "text/plain": [
       "<matplotlib.legend.Legend at 0x7f36794d7e90>"
      ]
     },
     "execution_count": 89,
     "metadata": {},
     "output_type": "execute_result"
    },
    {
     "data": {
      "image/png": "[encoded data removed]",
      "text/plain": [
       "<matplotlib.figure.Figure at 0x7f3679d62550>"
      ]
     },
     "metadata": {},
     "output_type": "display_data"
    }
   ],
   "source": [
    "plt.plot(moving_average(data1[:, 2]), label='2016')\n",
    "#plt.plot(data1[:, 2])\n",
    "\n",
    "plt.plot(moving_average(data2[:, 2]), label='2015')\n",
    "#plt.plot(data2[:, 2])\n",
    "\n",
    "plt.hlines(180, 0, 250, linestyles='--')\n",
    "plt.ylim(0, 190)\n",
    "\n",
    "plt.legend()"
   ]
  },
  {
   "cell_type": "markdown",
   "metadata": {},
   "source": [
    "## ¿Cómo leeríamos un archivo sin usar NumPy?"
   ]
  },
  {
   "cell_type": "code",
   "execution_count": 90,
   "metadata": {
    "collapsed": true
   },
   "outputs": [],
   "source": [
    "data_file = '../Archivos/data/barrio_del_pilar-20151222.csv'"
   ]
  },
  {
   "cell_type": "code",
   "execution_count": 91,
   "metadata": {
    "collapsed": false
   },
   "outputs": [
    {
     "name": "stdout",
     "output_type": "stream",
     "text": [
      "[[  5.00000000e-01   6.50000000e+01   7.00000000e+00]\n",
      " [  4.00000000e-01   5.00000000e+01   7.00000000e+00]\n",
      " [  3.00000000e-01   3.70000000e+01   1.10000000e+01]\n",
      " [  3.00000000e-01   3.70000000e+01   1.00000000e+01]\n",
      " [  3.00000000e-01   2.90000000e+01   1.70000000e+01]\n",
      " [  3.00000000e-01   3.60000000e+01   1.30000000e+01]\n",
      " [  3.00000000e-01   4.70000000e+01   7.00000000e+00]\n",
      " [  4.00000000e-01   5.70000000e+01   6.00000000e+00]\n",
      " [  5.00000000e-01   6.70000000e+01   6.00000000e+00]\n",
      " [  5.00000000e-01   6.90000000e+01   8.00000000e+00]\n",
      " [  5.00000000e-01   6.70000000e+01   1.10000000e+01]\n",
      " [  5.00000000e-01   6.40000000e+01   1.50000000e+01]\n",
      " [  5.00000000e-01   6.50000000e+01   2.10000000e+01]\n",
      " [  5.00000000e-01   6.80000000e+01   2.40000000e+01]\n",
      " [  7.00000000e-01   9.10000000e+01   1.90000000e+01]\n",
      " [  8.00000000e-01   1.05000000e+02   1.30000000e+01]\n",
      " [  8.00000000e-01   1.02000000e+02   1.00000000e+01]\n",
      " [  7.00000000e-01   1.00000000e+02   8.00000000e+00]\n",
      " [  1.50000000e+00   1.48000000e+02   7.00000000e+00]\n",
      " [  2.70000000e+00   2.23000000e+02   7.00000000e+00]\n",
      " [  2.00000000e+00   2.04000000e+02   7.00000000e+00]\n",
      " [  3.30000000e+00   2.51000000e+02   7.00000000e+00]\n",
      " [  3.00000000e+00   2.64000000e+02   7.00000000e+00]\n",
      " [  2.00000000e+00   2.04000000e+02   7.00000000e+00]\n",
      " [  1.20000000e+00   1.27000000e+02   6.00000000e+00]\n",
      " [  4.00000000e-01   6.10000000e+01   7.00000000e+00]\n",
      " [  3.00000000e-01   4.60000000e+01   9.00000000e+00]\n",
      " [  3.00000000e-01   4.70000000e+01   7.00000000e+00]\n",
      " [  5.00000000e-01   4.40000000e+01   6.00000000e+00]\n",
      " [  5.00000000e-01   4.50000000e+01   6.00000000e+00]\n",
      " [  5.00000000e-01   4.60000000e+01   6.00000000e+00]\n",
      " [  4.00000000e-01   5.30000000e+01   6.00000000e+00]\n",
      " [  5.00000000e-01   6.90000000e+01   6.00000000e+00]\n",
      " [  9.00000000e-01   9.00000000e+01   7.00000000e+00]\n",
      " [  4.00000000e-01   5.10000000e+01   1.10000000e+01]\n",
      " [  4.00000000e-01   5.20000000e+01   1.60000000e+01]\n",
      " [  4.00000000e-01   5.60000000e+01   2.00000000e+01]\n",
      " [  4.00000000e-01   5.90000000e+01   2.70000000e+01]\n",
      " [  4.00000000e-01   6.60000000e+01   2.50000000e+01]\n",
      " [  6.00000000e-01   7.80000000e+01   2.00000000e+01]\n",
      " [  7.00000000e-01   9.60000000e+01   1.10000000e+01]\n",
      " [  7.00000000e-01   9.70000000e+01   7.00000000e+00]\n",
      " [  1.00000000e+00   1.17000000e+02   7.00000000e+00]\n",
      " [  1.70000000e+00   1.58000000e+02   7.00000000e+00]\n",
      " [  2.80000000e+00   2.35000000e+02   8.00000000e+00]\n",
      " [  3.20000000e+00   2.68000000e+02   7.00000000e+00]\n",
      " [  3.40000000e+00   2.81000000e+02   7.00000000e+00]\n",
      " [  2.10000000e+00   1.89000000e+02   7.00000000e+00]\n",
      " [  7.00000000e-01   8.80000000e+01   6.00000000e+00]\n",
      " [  4.00000000e-01   6.60000000e+01   6.00000000e+00]\n",
      " [  6.00000000e-01   6.10000000e+01   6.00000000e+00]\n",
      " [  6.00000000e-01   5.90000000e+01   6.00000000e+00]\n",
      " [  5.00000000e-01   4.50000000e+01   6.00000000e+00]\n",
      " [  6.00000000e-01   5.00000000e+01   6.00000000e+00]\n",
      " [  7.00000000e-01   5.20000000e+01   6.00000000e+00]\n",
      " [  7.00000000e-01   5.10000000e+01   6.00000000e+00]\n",
      " [  1.00000000e+00   6.20000000e+01   6.00000000e+00]\n",
      " [  9.00000000e-01   6.40000000e+01   6.00000000e+00]\n",
      " [  8.00000000e-01   6.80000000e+01   7.00000000e+00]\n",
      " [  9.00000000e-01   7.30000000e+01   8.00000000e+00]\n",
      " [             nan              nan              nan]\n",
      " [  7.00000000e-01   6.90000000e+01   1.40000000e+01]\n",
      " [  6.00000000e-01   6.80000000e+01   1.50000000e+01]\n",
      " [  7.00000000e-01   7.50000000e+01   1.10000000e+01]\n",
      " [  6.00000000e-01   6.70000000e+01   9.00000000e+00]\n",
      " [  6.00000000e-01   7.00000000e+01   7.00000000e+00]\n",
      " [  9.00000000e-01   8.40000000e+01   7.00000000e+00]\n",
      " [  1.00000000e+00   9.20000000e+01   7.00000000e+00]\n",
      " [  1.30000000e+00   1.08000000e+02   7.00000000e+00]\n",
      " [  1.50000000e+00   1.35000000e+02   7.00000000e+00]\n",
      " [  1.20000000e+00   1.16000000e+02   7.00000000e+00]\n",
      " [  1.30000000e+00   1.04000000e+02   7.00000000e+00]\n",
      " [  1.00000000e+00   8.00000000e+01   7.00000000e+00]\n",
      " [  6.00000000e-01   6.30000000e+01   6.00000000e+00]\n",
      " [  4.00000000e-01   5.10000000e+01   6.00000000e+00]\n",
      " [  4.00000000e-01   4.50000000e+01   6.00000000e+00]\n",
      " [  5.00000000e-01   4.60000000e+01   6.00000000e+00]\n",
      " [  5.00000000e-01   4.00000000e+01   6.00000000e+00]\n",
      " [  6.00000000e-01   3.50000000e+01   6.00000000e+00]\n",
      " [  4.00000000e-01   3.90000000e+01   6.00000000e+00]\n",
      " [  3.00000000e-01   3.30000000e+01   9.00000000e+00]\n",
      " [  3.00000000e-01   2.80000000e+01   1.20000000e+01]\n",
      " [  3.00000000e-01   2.10000000e+01   2.20000000e+01]\n",
      " [  3.00000000e-01   2.50000000e+01   2.80000000e+01]\n",
      " [  3.00000000e-01   2.60000000e+01   3.70000000e+01]\n",
      " [  3.00000000e-01   3.20000000e+01   4.20000000e+01]\n",
      " [  4.00000000e-01   4.10000000e+01   4.20000000e+01]\n",
      " [  5.00000000e-01   5.80000000e+01   3.00000000e+01]\n",
      " [  6.00000000e-01   7.20000000e+01   1.70000000e+01]\n",
      " [  5.00000000e-01   7.10000000e+01   1.20000000e+01]\n",
      " [  1.00000000e+00   1.08000000e+02   7.00000000e+00]\n",
      " [  1.70000000e+00   1.65000000e+02   7.00000000e+00]\n",
      " [  2.00000000e+00   1.86000000e+02   7.00000000e+00]\n",
      " [  2.00000000e+00   1.80000000e+02   7.00000000e+00]\n",
      " [  1.80000000e+00   1.78000000e+02   7.00000000e+00]\n",
      " [  5.00000000e-01   7.10000000e+01   8.00000000e+00]\n",
      " [  4.00000000e-01   4.30000000e+01   1.70000000e+01]\n",
      " [  3.00000000e-01   3.60000000e+01   2.20000000e+01]\n",
      " [  3.00000000e-01   3.20000000e+01   2.50000000e+01]\n",
      " [  3.00000000e-01   2.80000000e+01   2.50000000e+01]\n",
      " [  3.00000000e-01   2.30000000e+01   2.90000000e+01]\n",
      " [  3.00000000e-01   2.70000000e+01   2.50000000e+01]\n",
      " [  4.00000000e-01   3.50000000e+01   1.20000000e+01]\n",
      " [  3.00000000e-01   4.10000000e+01   1.00000000e+01]\n",
      " [  6.00000000e-01   5.30000000e+01   6.00000000e+00]\n",
      " [  9.00000000e-01   6.10000000e+01   6.00000000e+00]\n",
      " [  6.00000000e-01   5.80000000e+01   1.10000000e+01]\n",
      " [  5.00000000e-01   5.00000000e+01   1.50000000e+01]\n",
      " [  5.00000000e-01   5.00000000e+01   2.00000000e+01]\n",
      " [  6.00000000e-01   4.90000000e+01   2.30000000e+01]\n",
      " [  5.00000000e-01   6.00000000e+01   2.00000000e+01]\n",
      " [  6.00000000e-01   6.60000000e+01   1.80000000e+01]\n",
      " [  5.00000000e-01   6.40000000e+01   1.90000000e+01]\n",
      " [  5.00000000e-01   7.40000000e+01   1.10000000e+01]\n",
      " [  8.00000000e-01   1.05000000e+02   7.00000000e+00]\n",
      " [  1.50000000e+00   1.54000000e+02   7.00000000e+00]\n",
      " [  1.10000000e+00   1.36000000e+02   7.00000000e+00]\n",
      " [  6.00000000e-01   8.00000000e+01   7.00000000e+00]\n",
      " [  6.00000000e-01   7.40000000e+01   7.00000000e+00]\n",
      " [  5.00000000e-01   5.50000000e+01   9.00000000e+00]\n",
      " [  4.00000000e-01   4.20000000e+01   1.30000000e+01]\n",
      " [  3.00000000e-01   4.10000000e+01   1.40000000e+01]\n",
      " [  3.00000000e-01   3.70000000e+01   1.60000000e+01]\n",
      " [  3.00000000e-01   3.30000000e+01   1.90000000e+01]\n",
      " [  3.00000000e-01   3.20000000e+01   1.90000000e+01]\n",
      " [  2.00000000e-01   3.10000000e+01   2.20000000e+01]\n",
      " [  3.00000000e-01   2.40000000e+01   3.00000000e+01]\n",
      " [  3.00000000e-01   3.50000000e+01   2.10000000e+01]\n",
      " [  3.00000000e-01   3.20000000e+01   2.50000000e+01]\n",
      " [  4.00000000e-01   3.70000000e+01   2.70000000e+01]\n",
      " [  4.00000000e-01   4.20000000e+01   2.30000000e+01]\n",
      " [  3.00000000e-01   3.30000000e+01   3.90000000e+01]\n",
      " [  3.00000000e-01   2.70000000e+01   5.10000000e+01]\n",
      " [  3.00000000e-01   2.50000000e+01   5.40000000e+01]\n",
      " [  3.00000000e-01   2.90000000e+01   5.00000000e+01]\n",
      " [  3.00000000e-01   3.20000000e+01   4.60000000e+01]\n",
      " [  3.00000000e-01   3.00000000e+01   4.90000000e+01]\n",
      " [  3.00000000e-01   3.40000000e+01   4.40000000e+01]\n",
      " [  4.00000000e-01   5.40000000e+01   2.40000000e+01]\n",
      " [  4.00000000e-01   5.40000000e+01   2.30000000e+01]\n",
      " [  4.00000000e-01   5.20000000e+01   2.20000000e+01]\n",
      " [  4.00000000e-01   5.50000000e+01   2.10000000e+01]\n",
      " [  4.00000000e-01   5.50000000e+01   1.90000000e+01]\n",
      " [  3.00000000e-01   3.20000000e+01   3.60000000e+01]\n",
      " [  3.00000000e-01   2.80000000e+01   3.70000000e+01]\n",
      " [  3.00000000e-01   3.60000000e+01   2.70000000e+01]\n",
      " [  3.00000000e-01   4.60000000e+01   1.60000000e+01]\n",
      " [  3.00000000e-01   3.10000000e+01   2.80000000e+01]\n",
      " [  2.00000000e-01   2.90000000e+01   2.90000000e+01]\n",
      " [  2.00000000e-01   2.60000000e+01   3.40000000e+01]\n",
      " [  3.00000000e-01   3.70000000e+01   2.50000000e+01]\n",
      " [  4.00000000e-01   6.20000000e+01   8.00000000e+00]\n",
      " [  6.00000000e-01   6.50000000e+01   1.00000000e+01]\n",
      " [  4.00000000e-01   6.60000000e+01   1.10000000e+01]\n",
      " [  4.00000000e-01   6.00000000e+01   1.70000000e+01]\n",
      " [  5.00000000e-01   4.00000000e+01   3.70000000e+01]\n",
      " [  4.00000000e-01   5.20000000e+01   3.20000000e+01]\n",
      " [  3.00000000e-01   4.20000000e+01   4.30000000e+01]\n",
      " [  3.00000000e-01   4.90000000e+01   3.60000000e+01]\n",
      " [  4.00000000e-01   5.30000000e+01   2.70000000e+01]\n",
      " [  4.00000000e-01   6.10000000e+01   1.40000000e+01]\n",
      " [  6.00000000e-01   7.70000000e+01   9.00000000e+00]\n",
      " [  5.00000000e-01   7.70000000e+01   8.00000000e+00]\n",
      " [  5.00000000e-01   7.60000000e+01   1.00000000e+01]\n",
      " [  5.00000000e-01   7.70000000e+01   8.00000000e+00]\n",
      " [  4.00000000e-01   6.10000000e+01   1.70000000e+01]\n",
      " [  3.00000000e-01   4.80000000e+01   2.50000000e+01]\n",
      " [  3.00000000e-01   3.00000000e+01   3.90000000e+01]\n",
      " [  2.00000000e-01   1.60000000e+01   4.80000000e+01]\n",
      " [  2.00000000e-01   1.10000000e+01   5.30000000e+01]\n",
      " [  2.00000000e-01   8.00000000e+00   5.60000000e+01]\n",
      " [  2.00000000e-01   7.00000000e+00   5.50000000e+01]\n",
      " [  2.00000000e-01   1.00000000e+01   4.90000000e+01]\n",
      " [  2.00000000e-01   1.40000000e+01   4.90000000e+01]\n",
      " [  3.00000000e-01   3.50000000e+01   2.90000000e+01]\n",
      " [  4.00000000e-01   5.10000000e+01   1.50000000e+01]\n",
      " [  4.00000000e-01   6.20000000e+01   8.00000000e+00]\n",
      " [  5.00000000e-01   6.30000000e+01   9.00000000e+00]\n",
      " [  4.00000000e-01   5.00000000e+01   1.60000000e+01]\n",
      " [             nan              nan   1.40000000e+01]\n",
      " [             nan              nan   1.20000000e+01]\n",
      " [  5.00000000e-01   6.00000000e+01              nan]\n",
      " [  5.00000000e-01   6.50000000e+01   2.00000000e+01]\n",
      " [  5.00000000e-01   6.20000000e+01   2.20000000e+01]\n",
      " [  4.00000000e-01   5.10000000e+01   2.70000000e+01]\n",
      " [  5.00000000e-01   6.10000000e+01   1.20000000e+01]\n",
      " [  5.00000000e-01   6.10000000e+01   1.00000000e+01]\n",
      " [  4.00000000e-01   5.40000000e+01   2.00000000e+01]\n",
      " [  4.00000000e-01   5.40000000e+01   2.20000000e+01]\n",
      " [  3.00000000e-01   4.00000000e+01   3.10000000e+01]\n",
      " [  3.00000000e-01   3.00000000e+01   3.80000000e+01]\n",
      " [  3.00000000e-01   2.40000000e+01   4.30000000e+01]]\n"
     ]
    }
   ],
   "source": [
    "data = []\n",
    "\n",
    "with open(data_file) as f:\n",
    "    # Saltamos las tres primeras líneas\n",
    "    for ii in range(3):\n",
    "        f.readline()\n",
    "    \n",
    "    for line in f:\n",
    "        line_string = line\n",
    "        line_list = line.split(';')\n",
    "        \n",
    "        date = line_list[0]\n",
    "        hour = line_list[1]\n",
    "        \n",
    "        components_data = []\n",
    "        for c in line_list[2:]:\n",
    "            if '-' not in c:\n",
    "                components_data.append(float(c))\n",
    "            else:\n",
    "                components_data.append(np.nan)\n",
    "        data.append(components_data)\n",
    "        \n",
    "print(np.array(data))    "
   ]
  },
  {
   "cell_type": "markdown",
   "metadata": {},
   "source": [
    "---"
   ]
  },
  {
   "cell_type": "markdown",
   "metadata": {},
   "source": [
    "_Ya hemos aprendido a efectuar algunas operaciones útiles con NumPy e incluso hemos hecho nuestro primer ejercicio de lectura de datos. Estamos en condiciones de empezar a escribir programas más interesantes, pero aún queda lo mejor._\n",
    "\n",
    "Si quieres saber más sobre lectura y escritura de ficheros en Python, puedes consultar al documentación oficial:\n",
    "\n",
    "https://docs.python.org/3.5/tutorial/inputoutput.html#reading-and-writing-files"
   ]
  },
  {
   "cell_type": "markdown",
   "metadata": {
    "collapsed": true
   },
   "source": [
    "### *[DARLE AQUI PARA SEGUIR !!](/notebooks/Modulo 2/008-matplotlib-Intro.ipynb)*"
   ]
  },
  {
   "cell_type": "code",
   "execution_count": 40,
   "metadata": {
    "collapsed": false
   },
   "outputs": [
    {
     "data": {
      "text/html": [
       "/* This template is inspired in the one used by Lorena Barba\n",
       "in the numerical-mooc repository: https://github.com/numerical-mooc/numerical-mooc\n",
       "We thank her work and hope you also enjoy the look of the notobooks with this style */\n",
       "\n",
       "<link href='http://fonts.googleapis.com/css?family=Source+Sans+Pro|Josefin+Sans:400,700,400italic|Ubuntu+Condensed' rel='stylesheet' type='text/css'>\n",
       "\n",
       "El estilo se ha aplicado =)\n",
       "\n",
       "<style>\n",
       "\n",
       "\n",
       "\n",
       "#notebook_panel { /* main background */\n",
       "    background: #f7f7f7;\n",
       "}\n",
       "\n",
       "div.cell { /* set cell width */\n",
       "    width: 900px;\n",
       "}\n",
       "\n",
       "div #notebook { /* centre the content */\n",
       "    background: #fff; /* white background for content */\n",
       "    width: 950px;\n",
       "    margin: auto;\n",
       "    padding-left: 0em;\n",
       "}\n",
       "\n",
       "#notebook li { /* More space between bullet points */\n",
       "    margin-top:0.7em;\n",
       "}\n",
       "\n",
       "/* draw border around running cells */\n",
       "div.cell.border-box-sizing.code_cell.running { \n",
       "    border: 1px solid #111;\n",
       "}\n",
       "\n",
       "/* Put a solid color box around each cell and its output, visually linking them*/\n",
       "div.cell.code_cell {\n",
       "    font-family: 'Source Sans Pro', sans-serif;\n",
       "    background-color: rgb(256,256,256);\n",
       "    font-size: 110%;\n",
       "    border-radius: 0px; \n",
       "    padding: 0.5em;\n",
       "    margin-left:1em;\n",
       "    margin-top: 1em;\n",
       "}\n",
       "\n",
       "div.text_cell_render{\n",
       "    font-family: 'Josefin Sans', serif;\n",
       "    line-height: 145%;\n",
       "    font-size: 125%;\n",
       "    font-weight: 500;\n",
       "    width:750px;\n",
       "    margin-left:auto;\n",
       "    margin-right:auto;\n",
       "}\n",
       "\n",
       "\n",
       "/* Formatting for header cells */\n",
       ".text_cell_render h1, .text_cell_render h2, .text_cell_render h3,\n",
       ".text_cell_render h4, .text_cell_render h5 {\n",
       "    font-family: 'Ubuntu Condensed', sans-serif;\n",
       "}\n",
       "/*\n",
       ".text_cell_render h1 {\n",
       "    font-family: Flux, 'Ubuntu Condensed', serif;\n",
       "    font-style:regular;\n",
       "    font-weight: 400;    \n",
       "    font-size: 30pt;\n",
       "    text-align: center;\n",
       "    line-height: 100%;\n",
       "    color: #335082;\n",
       "    margin-bottom: 0.5em;\n",
       "    margin-top: 0.5em;\n",
       "    display: block;\n",
       "}\n",
       "*/\n",
       ".text_cell_render h1 {\n",
       "    font-weight: 600;\n",
       "    font-size: 35pt;\n",
       "    line-height: 100%;\n",
       "    color: #000000;\n",
       "    margin-bottom: 0.1em;\n",
       "    margin-top: 0.3em;\n",
       "    display: block;\n",
       "}\n",
       "\n",
       ".text_cell_render h2 {\n",
       "    margin-top:16px;\n",
       "    font-size: 27pt;\n",
       "    font-weight: 550;\n",
       "    margin-bottom: 0.1em;\n",
       "    margin-top: 0.3em;\n",
       "    font-style: regular;\n",
       "    color: #2c6391;\n",
       "}\t\n",
       "\n",
       ".text_cell_render h3 {\n",
       "    font-size: 20pt;\n",
       "    font-weight: 550\n",
       "    text-align: left;\n",
       "    margin-bottom: 0.1em;\n",
       "    margin-top: 0.3em;\n",
       "    font-style: regular;\n",
       "    color:  #387eb8;\n",
       "}\n",
       "\n",
       ".text_cell_render h4 {    /*Use this for captions*/\n",
       "    font-size: 18pt;\n",
       "    font-weight: 450\n",
       "    text-align: left;\n",
       "    margin-bottom: 0.1em;\n",
       "    margin-top: 0.3em;\n",
       "    font-style: regular;\n",
       "    color:  #5797cc;\n",
       "}\n",
       "\n",
       ".text_cell_render h5 {  /*Use this for small titles*/\n",
       "    font-size: 18pt;\n",
       "    font-weight: 550;\n",
       "    color: rgb(163,0,0);\n",
       "    font-style: italic;\n",
       "    margin-bottom: .1em;\n",
       "    margin-top: 0.8em;\n",
       "    display: block;\n",
       "    color:  #b21c0d;\n",
       "}\n",
       "\n",
       ".text_cell_render h6 { /*use this for copyright note*/\n",
       "    font-family: 'Ubuntu Condensed', sans-serif;\n",
       "    font-weight: 300;\n",
       "    font-size: 14pt;\n",
       "    line-height: 100%;\n",
       "    color: #252525;\n",
       "    text-align: right;\n",
       "    margin-bottom: 1px;\n",
       "    margin-top: 1px;\n",
       "}\n",
       "\n",
       ".CodeMirror{\n",
       "        font-family: 'Duru Sans', sans-serif;\n",
       "        font-size: 100%;\n",
       "}\n",
       "\n",
       "</style>\n",
       "<script>\n",
       "    MathJax.Hub.Config({\n",
       "                        TeX: {\n",
       "                           extensions: [\"AMSmath.js\"],\n",
       "                           equationNumbers: { autoNumber: \"AMS\", useLabelIds: true}\n",
       "                           },\n",
       "                tex2jax: {\n",
       "                    inlineMath: [ ['$','$'], [\"\\\\(\",\"\\\\)\"] ],\n",
       "                    displayMath: [ ['$$','$$'], [\"\\\\[\",\"\\\\]\"] ]\n",
       "                },\n",
       "                displayAlign: 'center', // Change this to 'center' to center equations.\n",
       "                \"HTML-CSS\": {\n",
       "                    styles: {'.MathJax_Display': {\"margin\": 4}}\n",
       "                }\n",
       "        });\n",
       "</script>\n"
      ],
      "text/plain": [
       "<IPython.core.display.HTML object>"
      ]
     },
     "execution_count": 40,
     "metadata": {},
     "output_type": "execute_result"
    }
   ],
   "source": [
    "# Esta celda da el estilo al notebook\n",
    "from IPython.core.display import HTML\n",
    "css_file = '../Archivos/styles/aeropython.css'\n",
    "HTML(open(css_file, \"r\").read())"
   ]
  },
  {
   "cell_type": "code",
   "execution_count": null,
   "metadata": {
    "collapsed": true
   },
   "outputs": [],
   "source": []
  }
 ],
 "metadata": {
  "anaconda-cloud": {},
  "kernelspec": {
   "display_name": "Python [conda root]",
   "language": "python",
   "name": "conda-root-py"
  },
  "language_info": {
   "codemirror_mode": {
    "name": "ipython",
    "version": 2
   },
   "file_extension": ".py",
   "mimetype": "text/x-python",
   "name": "python",
   "nbconvert_exporter": "python",
   "pygments_lexer": "ipython2",
   "version": "2.7.12"
  }
 },
 "nbformat": 4,
 "nbformat_minor": 0
}
