{
 "cells": [
  {
   "cell_type": "markdown",
   "metadata": {},
   "source": [
    "# Transform the JDK dependency dataset\n",
    "The dataset we use is the *class dependency network of JDK 1.6.0.7* framework downloaded from the [KOBLENZ data repository](http://konect.uni-koblenz.de/networks/subelj_jdk). \n",
    "\n",
    "The original dataset contains big number of nodes and edges between them. For this reason, in this script we subselect 50 nodes and the edges between them. Then we transform the original dataset in format compatible with Cytoscape JS."
   ]
  },
  {
   "cell_type": "code",
   "execution_count": 1,
   "metadata": {},
   "outputs": [],
   "source": [
    "import json"
   ]
  },
  {
   "cell_type": "markdown",
   "metadata": {},
   "source": [
    "## 1. Create the nodes\n",
    "First we have to create the  list of nodes with some options for them."
   ]
  },
  {
   "cell_type": "code",
   "execution_count": 2,
   "metadata": {},
   "outputs": [
    {
     "name": "stdout",
     "output_type": "stream",
     "text": [
      "{'java.awt', 'java.applet', 'java.net', 'java.awt.peer', 'java.util', 'javax.accessibility', 'java.awt.dnd', 'java.beans', 'java.io', 'java.awt.image', 'java.lang', 'java.awt.event'}\n"
     ]
    }
   ],
   "source": [
    "NUM_NODES = 50  # how many nodes to subselect\n",
    "nodes = []  # the final subset of nodes\n",
    "packages = []  # the set of packages for each node\n",
    "\n",
    "# each line represents one node\n",
    "with open('raw_data/ent.subelj_jdk_jdk.class.name', 'r') as f:\n",
    "    for i, line in enumerate(f):\n",
    "        # stop when the limit is reached\n",
    "        if i == NUM_NODES:\n",
    "            break\n",
    "            \n",
    "        full_name = str(line[:-1])  # the  fill name\n",
    "        class_name = full_name.split('.')[-1]  # only the class name\n",
    "        package = '.'.join(full_name.split('.')[:-1])  # the package where the class belongs\n",
    "        packages.append(package)\n",
    "        node = {\n",
    "            \"data\": {\n",
    "                \"id\": str(i + 1),  # the string representation of the unique node ID\n",
    "                \"idInt\": i + 1,  # the numeric representation of the unique node ID\n",
    "                \"name\": 'cls: ' + class_name + \"; pkg: \" + package,  # the name of the node used for printing\n",
    "                \"query\": True,\n",
    "                \"classes\": package  # the keyword 'classes' is used to group the nodes in classes\n",
    "            },\n",
    "            \"group\": \"nodes\",  # it belongs in the group of nodes\n",
    "            \"removed\": False,\n",
    "            \"selected\": False,  # the node is not selected\n",
    "            \"selectable\": True,  # we can select the node\n",
    "            \"locked\": False,  # the node position is not immutable\n",
    "            \"grabbable\": True  # we can grab and move the node\n",
    "        }\n",
    "        nodes.append(node)\n",
    "\n",
    "# get all the unique package names\n",
    "packages = set(packages)\n",
    "print(packages)"
   ]
  },
  {
   "cell_type": "markdown",
   "metadata": {},
   "source": [
    "## 2. Create the edges\n",
    "Omnce we selected our subset of nodes, we need to select the corresponding edges."
   ]
  },
  {
   "cell_type": "code",
   "execution_count": 3,
   "metadata": {},
   "outputs": [],
   "source": [
    "edges = []  # the final subset of edges\n",
    "\n",
    "# each line represents an edge between two nodes. The nodes are represented by their id\n",
    "with open('raw_data/out.subelj_jdk_jdk', 'r') as f:\n",
    "    # jump the first two lines, they contain some info\n",
    "    for i, line in enumerate(f):\n",
    "        if i == 0 or i == 1:\n",
    "            continue\n",
    "        \n",
    "        # get the source node and the target node\n",
    "        node_ids = line.strip().split(' ')\n",
    "        source, target = node_ids[0], node_ids[1]\n",
    "        if int(source) <= NUM_NODES and int(target) <= NUM_NODES: \n",
    "            edge = {\n",
    "                \"data\": {\n",
    "                    \"source\": str(source),  # the source node id (edge comes from this node)\n",
    "                    \"target\": str(target),  # the target node id (edge goes to this node)\n",
    "                    \"directed\": True,\n",
    "                    \"intn\": True,\n",
    "                    \"rIntnId\": i - 1,\n",
    "                    \"id\": \"e\" + str(i - 1)\n",
    "                },\n",
    "                \"position\": {},  # the initial position is not known\n",
    "                \"group\": \"edges\",  # it belongs in the group of edges\n",
    "                \"removed\": False,\n",
    "                \"selected\": False,  # the edge is not selected\n",
    "                \"selectable\": True,  # we can select the node\n",
    "                \"locked\": False,  # the edge position is not immutable\n",
    "                \"grabbable\": True,  # we can grab and move the node\n",
    "                \"directed\": True  # the edge is directed\n",
    "            }\n",
    "            edges.append(edge)"
   ]
  },
  {
   "cell_type": "markdown",
   "metadata": {},
   "source": [
    "### 2.1. Calculate the indegree for each node\n",
    "We calculate the *indegree* for each node which represents the number of incoming edges. Then we used the normalized *indegree* numbers as a score  of the node. This helps with drawing the node bigger since it is more important."
   ]
  },
  {
   "cell_type": "code",
   "execution_count": 4,
   "metadata": {},
   "outputs": [
    {
     "name": "stdout",
     "output_type": "stream",
     "text": [
      "0.21903959561920813\n"
     ]
    }
   ],
   "source": [
    "# initial dictionary mapping each node id to its normalized indegree\n",
    "nodes_indegree = dict(zip(list(range(1, NUM_NODES + 1)), [0]*(NUM_NODES + 1)))\n",
    "N = len(edges)\n",
    "for e in edges:\n",
    "    nodes_indegree[int(e[\"data\"][\"target\"])] += 1.0/N\n",
    "\n",
    "print(max(list(nodes_indegree.values())))"
   ]
  },
  {
   "cell_type": "code",
   "execution_count": 5,
   "metadata": {},
   "outputs": [],
   "source": [
    "for node in nodes:\n",
    "    node[\"data\"][\"score\"] = nodes_indegree[node[\"data\"][\"idInt\"]]"
   ]
  },
  {
   "cell_type": "markdown",
   "metadata": {},
   "source": [
    "## 3. Dump the data in a JSON file"
   ]
  },
  {
   "cell_type": "code",
   "execution_count": 6,
   "metadata": {},
   "outputs": [],
   "source": [
    "data = []\n",
    "data.extend(nodes)\n",
    "data.extend(edges)"
   ]
  },
  {
   "cell_type": "code",
   "execution_count": 7,
   "metadata": {},
   "outputs": [],
   "source": [
    "with open('datasets/custom.json', 'w') as f:\n",
    "    json.dump(data, f)"
   ]
  }
 ],
 "metadata": {
  "kernelspec": {
   "display_name": "Python 3 (ipykernel)",
   "language": "python",
   "name": "python3"
  },
  "language_info": {
   "codemirror_mode": {
    "name": "ipython",
    "version": 3
   },
   "file_extension": ".py",
   "mimetype": "text/x-python",
   "name": "python",
   "nbconvert_exporter": "python",
   "pygments_lexer": "ipython3",
   "version": "3.8.8"
  }
 },
 "nbformat": 4,
 "nbformat_minor": 4
}
